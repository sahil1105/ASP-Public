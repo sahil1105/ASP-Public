{
 "cells": [
  {
   "cell_type": "code",
   "execution_count": 1,
   "metadata": {},
   "outputs": [],
   "source": [
    "from PW_explorer.load_worlds import load_worlds\n",
    "from PW_explorer.run_clingo import run_clingo\n",
    "from PW_explorer.visualize import PWEVisualization\n",
    "from PW_explorer.helper import pw_slicer, rel_slicer, rel_name_remapper\n",
    "from PW_explorer.export import PWEExport\n",
    "import pandas as pd"
   ]
  },
  {
   "cell_type": "code",
   "execution_count": 2,
   "metadata": {},
   "outputs": [],
   "source": [
    "import networkx as nx\n",
    "from nxpd import draw\n",
    "import nxpd\n",
    "from nxpd import nxpdParams\n",
    "nxpdParams['show'] = 'ipynb'"
   ]
  },
  {
   "cell_type": "code",
   "execution_count": 3,
   "metadata": {},
   "outputs": [
    {
     "data": {
      "application/javascript": [
       "IPython.CodeCell.options_default.highlight_modes['prolog'] = {'reg':[/^%%(clingo|dlv)/]};"
      ]
     },
     "metadata": {},
     "output_type": "display_data"
    }
   ],
   "source": [
    "%load_ext PWE_NB_Extension"
   ]
  },
  {
   "cell_type": "code",
   "execution_count": 4,
   "metadata": {},
   "outputs": [],
   "source": [
    "from IPython.display import HTML as html_print\n",
    "\n",
    "def cstr(s, color='black'):\n",
    "    return \"<text style=color:{}>{}</text>\".format(color, s)"
   ]
  },
  {
   "cell_type": "code",
   "execution_count": 5,
   "metadata": {
    "scrolled": true
   },
   "outputs": [],
   "source": [
    "def rule_to_node(atom, occ):\n",
    "    return \"{}[{}]\".format(atom.strip('\"'), occ)\n",
    "\n",
    "def head_to_node(head):\n",
    "    return remove_double_quotes(head)\n",
    "\n",
    "def remove_double_quotes(r):\n",
    "    return r.strip('\"')\n",
    "\n",
    "def print_colored_query_string(pw_rel_dfs):\n",
    "    \n",
    "    heads = {h: {} for h in set(pw_rel_dfs['ruleH_1']['HEAD'])}\n",
    "    rules = {}\n",
    "    for _, p in pw_rel_dfs['ruleOcc_2'][['ATOM', 'OCC']].iterrows():\n",
    "        rules[(p['ATOM'], int(p['OCC']))] = {}\n",
    "    \n",
    "    true_heads = set(pw_rel_dfs['ruleHTrue_1']['HEAD'])\n",
    "    true_rules = set([])\n",
    "    for _, p in pw_rel_dfs['ruleOccTrue_2'][['ATOM', 'OCC']].iterrows():\n",
    "        true_rules.add((p['ATOM'], int(p['OCC'])))\n",
    "    \n",
    "    for _, row in pw_rel_dfs['newHArc_3'].iterrows():\n",
    "        pos = int(row['POS'])\n",
    "        h = row['HEAD']\n",
    "        var = row['VAR']\n",
    "        heads[h][pos] = var\n",
    "    for _, row in pw_rel_dfs['newArc_4'].iterrows():\n",
    "        rule = (row['ATOM'], int(row['OCC']))\n",
    "        pos = int(row['POS'])\n",
    "        var = row['VAR']\n",
    "        rules[rule][pos] = var\n",
    "        \n",
    "#     print(heads, rules, true_heads, true_rules)\n",
    "    \n",
    "    heads_htmls = []\n",
    "    for h in sorted(heads.keys()):\n",
    "        variables = [remove_double_quotes(heads[h][k]) for k in sorted(heads[h].keys())]\n",
    "        heads_htmls.append(cstr('{}({})'.format(head_to_node(h), ','.join(variables)), 'green' if h in true_heads else 'red'))\n",
    "    \n",
    "    \n",
    "    rules_htmls = []\n",
    "    for (r, occ) in sorted(rules.keys()):\n",
    "        variables = [remove_double_quotes(rules[(r,occ)][k]) for k in sorted(rules[(r,occ)].keys())]\n",
    "        rules_htmls.append(cstr('{}({})'.format(head_to_node(r), ','.join(variables)), 'green' if (r,occ) in true_rules else 'red'))\n",
    "    \n",
    "#     display(html_print(cstr(' '.join(heads_htmls + rules_htmls))))\n",
    "    \n",
    "    \n",
    "    heads_htmls_combined = cstr(' ; '.join(heads_htmls))\n",
    "    rules_htmls_combined = cstr(', '.join(rules_htmls))\n",
    "    display(html_print(cstr('{} :- {}.'.format(heads_htmls_combined, rules_htmls_combined))))\n",
    "    \n",
    "    eqls = []\n",
    "    for _, row in pw_rel_dfs['eqOrd_3'].iterrows():\n",
    "        eqls.append('{} = {}'.format(row['VAR1'], row['VAR2']))\n",
    "    print('where' if len(eqls) > 0 else '')\n",
    "    print(' and '.join(eqls))\n",
    "    \n",
    "    \n",
    "def get_pattern_graph(pw_rel_dfs):\n",
    "    g = nx.MultiDiGraph()\n",
    "    true_heads = set(pw_rel_dfs['ruleHTrue_1']['HEAD'])\n",
    "    if len(true_heads) > 0:\n",
    "        print(\"Success Pattern:\")\n",
    "    else:\n",
    "        print(\"Failure Pattern:\")\n",
    "    \n",
    "    if 'e_3' in pw_rel_dfs:\n",
    "        for _, row in pw_rel_dfs['e_3'].iterrows():\n",
    "            g.add_edge(row['NODE1'], row['NODE2'], color='darkgreen', label='{}{}'.format('e', row['OCC']))\n",
    "    if 'ne_3' in pw_rel_dfs:\n",
    "        for _, row in pw_rel_dfs['ne_3'].iterrows():\n",
    "            g.add_edge(row['NODE1'], row['NODE2'], color='red', style='dotted', label='{}{}'.format('e', row['OCC']))\n",
    "    \n",
    "    return g\n",
    "\n",
    "def get_pattern_graph2(pw_rel_dfs, no_node_labels=False):\n",
    "    g = nx.DiGraph()\n",
    "    true_heads = set(pw_rel_dfs['ruleHTrue_1']['HEAD'])\n",
    "    if len(true_heads) > 0:\n",
    "        print(\"Success Pattern:\")\n",
    "    else:\n",
    "        print(\"Failure Pattern:\")\n",
    "    \n",
    "    if 'e_3' in pw_rel_dfs:\n",
    "        for _, row in pw_rel_dfs['e_3'].iterrows():\n",
    "            if (row['NODE1'], row['NODE2']) in g.edges:\n",
    "                g.edges[(row['NODE1'], row['NODE2'])]['label'] += ';{}{}'.format('e', row['OCC'])\n",
    "            else:\n",
    "                g.add_edge(row['NODE1'], row['NODE2'], color='darkgreen', label='{}{}'.format('e', row['OCC']))\n",
    "    if 'ne_3' in pw_rel_dfs:\n",
    "        for _, row in pw_rel_dfs['ne_3'].iterrows():\n",
    "            if (row['NODE1'], row['NODE2']) in g.edges:\n",
    "                g.edges[(row['NODE1'], row['NODE2'])]['label'] += ';{}{}'.format('e', row['OCC'])\n",
    "            else:\n",
    "                g.add_edge(row['NODE1'], row['NODE2'], color='red', style='dotted', label='{}{}'.format('e', row['OCC']))\n",
    "    \n",
    "    if no_node_labels:\n",
    "        for n in g.nodes:\n",
    "            g.nodes[n]['label'] = '  '\n",
    "    \n",
    "    return g\n",
    "\n",
    "def get_incidence_graph(pw_rel_dfs):\n",
    "    \n",
    "    g = nx.MultiDiGraph()\n",
    "    g.graph['rankdir'] = 'LR'\n",
    "    \n",
    "    for _, row in pw_rel_dfs['ruleH_1'].iterrows():\n",
    "        g.add_node(head_to_node(row['HEAD']), rank='min', color='red', shape='box', style='filled')\n",
    "    for _, row in pw_rel_dfs['ruleHTrue_1'].iterrows():\n",
    "        g.add_node(head_to_node(row['HEAD']), rank='min', color='green', style='filled')\n",
    "    for _, row in pw_rel_dfs['ruleOcc_2'].iterrows():\n",
    "        g.add_node(rule_to_node(row['ATOM'], row['OCC']), color='red', style='filled')\n",
    "    for _, row in pw_rel_dfs['ruleOccTrue_2'].iterrows():\n",
    "        g.add_node(rule_to_node(row['ATOM'], row['OCC']), color='green', style='filled')\n",
    "    \n",
    "    \n",
    "    for _, row in pw_rel_dfs['newHArc_3'].iterrows():\n",
    "        g.add_edge(row['VAR'], head_to_node(row['HEAD']), label=row['POS'])\n",
    "    for _, row in pw_rel_dfs['newArc_4'].iterrows():\n",
    "        g.add_edge(row['VAR'], rule_to_node(row['ATOM'], row['OCC']), label=row['POS'])\n",
    "    \n",
    "    for _, row in pw_rel_dfs['eqOrd_3'].iterrows():\n",
    "        g.add_edge(row['VAR2'], row['VAR1'], constraint='false', color='green', style='dotted')\n",
    "    \n",
    "    return g"
   ]
  },
  {
   "cell_type": "code",
   "execution_count": 6,
   "metadata": {},
   "outputs": [],
   "source": [
    "def eq_groups(pw_rel_dfs, single_grps=False):\n",
    "    \n",
    "    p = pw_rel_dfs['eqOrdMinimal_3'].groupby(['VAR1'])\n",
    "    new_vars = set(pw_rel_dfs['newVar_2']['VAR'])\n",
    "    groups = []\n",
    "    for var1, group in p.groups.items():\n",
    "        new_vars.remove(var1)\n",
    "        groups.append([var1]+[pw_rel_dfs['eqOrdMinimal_3'].loc[i]['VAR2'] for i in group])\n",
    "    if single_grps:\n",
    "        for v in new_vars:\n",
    "            groups.append([v])\n",
    "    return groups\n",
    "    \n",
    "\n",
    "def chain_eqs_rules(pw_rel_dfs):\n",
    "    \n",
    "    eqls = []\n",
    "    groups = eq_groups(pw_rel_dfs)\n",
    "    for group in groups:\n",
    "        eqls.append('='.join(map(remove_double_quotes, group)))\n",
    "    \n",
    "    return eqls\n",
    "\n",
    "def eq_rules(pw_rel_dfs):\n",
    "    \n",
    "    eqls = []\n",
    "    groups = eq_groups(pw_rel_dfs)\n",
    "    \n",
    "    for group in groups:\n",
    "        var1 = group[0]\n",
    "        for var2 in group[1:]:\n",
    "            eqls.append('{}={}'.format(remove_double_quotes(var1), remove_double_quotes(var2)))\n",
    "    \n",
    "    return eqls\n",
    "\n",
    "def neq_rules(pw_rel_dfs):\n",
    "    neqls = []\n",
    "    for _, row in pw_rel_dfs['neqOrd_3'].iterrows():\n",
    "        neq_str = '{} != {}'.format(remove_double_quotes(row['VAR1']), remove_double_quotes(row['VAR2']))\n",
    "        neqls.append(cstr(neq_str))\n",
    "    return neqls\n",
    "\n",
    "def get_query_heads(ruleH_dfs, ruleHTrue_dfs, hArc_df, colored=True):\n",
    "    \n",
    "    heads = {h: {} for h in set(ruleH_dfs['HEAD'])}\n",
    "    true_heads = set(ruleHTrue_dfs['HEAD'])\n",
    "    for _, row in hArc_df.iterrows():\n",
    "        pos = int(row['POS'])\n",
    "        h = row['HEAD']\n",
    "        var = row['VAR']\n",
    "        heads[h][pos] = var\n",
    "    heads_htmls = []\n",
    "    for h in sorted(heads.keys()):\n",
    "        variables = [remove_double_quotes(heads[h][k]) for k in sorted(heads[h].keys())]\n",
    "        is_true = h in true_heads\n",
    "        h_str = '{}{}({})'.format('' if is_true else 'n', head_to_node(h), ','.join(variables))\n",
    "        if colored:\n",
    "            heads_htmls.append(cstr(h_str, 'green' if is_true else 'red'))\n",
    "        else:\n",
    "            heads_htmls.append(cstr(h_str))\n",
    "    return heads_htmls\n",
    "\n",
    "def get_original_query_heads(pw_rel_dfs, colored=True):\n",
    "    \n",
    "    return get_query_heads(pw_rel_dfs['ruleH_1'], pw_rel_dfs['ruleHTrue_1'], pw_rel_dfs['hArc_3'], colored)\n",
    "\n",
    "def get_substituted_query_heads(pw_rel_dfs, colored=True):\n",
    "    \n",
    "    return get_query_heads(pw_rel_dfs['ruleH_1'], pw_rel_dfs['ruleHTrue_1'], pw_rel_dfs['newHArc_3'], colored)\n",
    "\n",
    "def get_query_body_rules(ruleOcc_df, ruleOccTrue_df, arc_df, colored=True):\n",
    "    \n",
    "    rules = {}\n",
    "    for _, p in ruleOcc_df[['ATOM', 'OCC']].iterrows():\n",
    "        rules[(p['ATOM'], int(p['OCC']))] = {}\n",
    "    \n",
    "    true_rules = set([])\n",
    "    for _, p in ruleOccTrue_df[['ATOM', 'OCC']].iterrows():\n",
    "        true_rules.add((p['ATOM'], int(p['OCC'])))\n",
    "    \n",
    "    for _, row in arc_df.iterrows():\n",
    "        rule = (row['ATOM'], int(row['OCC']))\n",
    "        pos = int(row['POS'])\n",
    "        var = row['VAR']\n",
    "        rules[rule][pos] = var\n",
    "    \n",
    "    rules_htmls = []\n",
    "    for (r, occ) in sorted(rules.keys()):\n",
    "        variables = [remove_double_quotes(rules[(r,occ)][k]) for k in sorted(rules[(r,occ)].keys())]\n",
    "        is_true = (r,occ) in true_rules\n",
    "        r_str = '{}{}({})'.format('' if is_true else 'not ', head_to_node(r), ','.join(variables))\n",
    "        if colored:\n",
    "            rules_htmls.append(cstr(r_str, 'green' if is_true else 'red'))\n",
    "        else:\n",
    "            rules_htmls.append(cstr(r_str))\n",
    "    \n",
    "    return rules_htmls\n",
    "\n",
    "def get_original_query_body_rules(pw_rel_dfs, colored=True):\n",
    "    \n",
    "    return get_query_body_rules(pw_rel_dfs['ruleOcc_2'], pw_rel_dfs['ruleOccTrue_2'], pw_rel_dfs['arc_4'], colored)\n",
    "\n",
    "def get_substituted_query_body_rules(pw_rel_dfs, colored=True):\n",
    "    \n",
    "    return get_query_body_rules(pw_rel_dfs['ruleOcc_2'], pw_rel_dfs['ruleOccTrue_2'], pw_rel_dfs['newArc_4'], colored)\n",
    "    \n",
    "def print_rewritten_query_string(pw_rel_dfs):\n",
    "\n",
    "    heads_htmls = get_substituted_query_heads(pw_rel_dfs, colored=True)\n",
    "    rules_htmls = get_substituted_query_body_rules(pw_rel_dfs, colored=True)\n",
    "    neqls = neq_rules(pw_rel_dfs)\n",
    "    rules_htmls.extend(neqls)\n",
    "    \n",
    "    heads_htmls_combined = ' ; '.join(heads_htmls)\n",
    "    rules_htmls_combined = ', '.join(rules_htmls)\n",
    "    \n",
    "    display(html_print(cstr('{} :- {}.'.format(heads_htmls_combined, rules_htmls_combined))))\n",
    "    \n",
    "\n",
    "def print_explicit_rewritten_query_string(pw_rel_dfs, chain_eq=True):\n",
    "    \n",
    "    heads_htmls = get_original_query_heads(pw_rel_dfs, colored=True)\n",
    "    rules_htmls = get_original_query_body_rules(pw_rel_dfs, colored=True)\n",
    "    eqls = chain_eqs_rules(pw_rel_dfs) if chain_eq else eq_rules(pw_rel_dfs)\n",
    "    neqls = neq_rules(pw_rel_dfs)\n",
    "    rules_htmls.extend(eqls)\n",
    "    rules_htmls.extend(neqls)\n",
    "    \n",
    "    heads_htmls_combined = ' ; '.join(heads_htmls)\n",
    "    rules_htmls_combined = ', '.join(rules_htmls)\n",
    "    \n",
    "    display(html_print(cstr('{} :- {}.'.format(heads_htmls_combined, rules_htmls_combined))))\n",
    "    \n",
    "def print_fancy_rewrite(pw_rel_dfs):\n",
    "    \n",
    "    heads_htmls = get_original_query_heads(pw_rel_dfs, colored=True)\n",
    "    rules_htmls = get_original_query_body_rules(pw_rel_dfs, colored=True)\n",
    "    eq_grps = eq_groups(pw_rel_dfs, single_grps=True)\n",
    "    eqls = ['='.join(map(remove_double_quotes, grp)) for grp in eq_grps]\n",
    "    eqls = ['[{}]'.format(eq_grp) for eq_grp in eqls]\n",
    "    \n",
    "    heads_htmls_combined = ' ; '.join(heads_htmls)\n",
    "    rules_htmls_combined = ', '.join(rules_htmls)\n",
    "    eqls_combined = cstr(''.join(eqls), 'blue')\n",
    "    \n",
    "    display(html_print(cstr('{} :- {}. % {}'.format(heads_htmls_combined, rules_htmls_combined, eqls_combined))))"
   ]
  },
  {
   "cell_type": "code",
   "execution_count": 7,
   "metadata": {},
   "outputs": [],
   "source": [
    "%%clingo --donot-run --donot-display_input\n",
    "\n",
    "tri(X,Y,Z) :- e(X,Y), e(Y,Z), e(Z,X)."
   ]
  },
  {
   "cell_type": "code",
   "execution_count": 39,
   "metadata": {},
   "outputs": [
    {
     "name": "stdout",
     "output_type": "stream",
     "text": [
      "Output:\n"
     ]
    },
    {
     "data": {
      "text/html": [
       "\n",
       "        <style>\n",
       "        .highlight .hll { background-color: #ffffcc }\n",
       ".highlight  { background: #f8f8f8; }\n",
       ".highlight .c { color: #408080; font-style: italic } /* Comment */\n",
       ".highlight .err { border: 1px solid #FF0000 } /* Error */\n",
       ".highlight .k { color: #008000; font-weight: bold } /* Keyword */\n",
       ".highlight .o { color: #666666 } /* Operator */\n",
       ".highlight .ch { color: #408080; font-style: italic } /* Comment.Hashbang */\n",
       ".highlight .cm { color: #408080; font-style: italic } /* Comment.Multiline */\n",
       ".highlight .cp { color: #BC7A00 } /* Comment.Preproc */\n",
       ".highlight .cpf { color: #408080; font-style: italic } /* Comment.PreprocFile */\n",
       ".highlight .c1 { color: #408080; font-style: italic } /* Comment.Single */\n",
       ".highlight .cs { color: #408080; font-style: italic } /* Comment.Special */\n",
       ".highlight .gd { color: #A00000 } /* Generic.Deleted */\n",
       ".highlight .ge { font-style: italic } /* Generic.Emph */\n",
       ".highlight .gr { color: #FF0000 } /* Generic.Error */\n",
       ".highlight .gh { color: #000080; font-weight: bold } /* Generic.Heading */\n",
       ".highlight .gi { color: #00A000 } /* Generic.Inserted */\n",
       ".highlight .go { color: #888888 } /* Generic.Output */\n",
       ".highlight .gp { color: #000080; font-weight: bold } /* Generic.Prompt */\n",
       ".highlight .gs { font-weight: bold } /* Generic.Strong */\n",
       ".highlight .gu { color: #800080; font-weight: bold } /* Generic.Subheading */\n",
       ".highlight .gt { color: #0044DD } /* Generic.Traceback */\n",
       ".highlight .kc { color: #008000; font-weight: bold } /* Keyword.Constant */\n",
       ".highlight .kd { color: #008000; font-weight: bold } /* Keyword.Declaration */\n",
       ".highlight .kn { color: #008000; font-weight: bold } /* Keyword.Namespace */\n",
       ".highlight .kp { color: #008000 } /* Keyword.Pseudo */\n",
       ".highlight .kr { color: #008000; font-weight: bold } /* Keyword.Reserved */\n",
       ".highlight .kt { color: #B00040 } /* Keyword.Type */\n",
       ".highlight .m { color: #666666 } /* Literal.Number */\n",
       ".highlight .s { color: #BA2121 } /* Literal.String */\n",
       ".highlight .na { color: #7D9029 } /* Name.Attribute */\n",
       ".highlight .nb { color: #008000 } /* Name.Builtin */\n",
       ".highlight .nc { color: #0000FF; font-weight: bold } /* Name.Class */\n",
       ".highlight .no { color: #880000 } /* Name.Constant */\n",
       ".highlight .nd { color: #AA22FF } /* Name.Decorator */\n",
       ".highlight .ni { color: #999999; font-weight: bold } /* Name.Entity */\n",
       ".highlight .ne { color: #D2413A; font-weight: bold } /* Name.Exception */\n",
       ".highlight .nf { color: #0000FF } /* Name.Function */\n",
       ".highlight .nl { color: #A0A000 } /* Name.Label */\n",
       ".highlight .nn { color: #0000FF; font-weight: bold } /* Name.Namespace */\n",
       ".highlight .nt { color: #008000; font-weight: bold } /* Name.Tag */\n",
       ".highlight .nv { color: #19177C } /* Name.Variable */\n",
       ".highlight .ow { color: #AA22FF; font-weight: bold } /* Operator.Word */\n",
       ".highlight .w { color: #bbbbbb } /* Text.Whitespace */\n",
       ".highlight .mb { color: #666666 } /* Literal.Number.Bin */\n",
       ".highlight .mf { color: #666666 } /* Literal.Number.Float */\n",
       ".highlight .mh { color: #666666 } /* Literal.Number.Hex */\n",
       ".highlight .mi { color: #666666 } /* Literal.Number.Integer */\n",
       ".highlight .mo { color: #666666 } /* Literal.Number.Oct */\n",
       ".highlight .sa { color: #BA2121 } /* Literal.String.Affix */\n",
       ".highlight .sb { color: #BA2121 } /* Literal.String.Backtick */\n",
       ".highlight .sc { color: #BA2121 } /* Literal.String.Char */\n",
       ".highlight .dl { color: #BA2121 } /* Literal.String.Delimiter */\n",
       ".highlight .sd { color: #BA2121; font-style: italic } /* Literal.String.Doc */\n",
       ".highlight .s2 { color: #BA2121 } /* Literal.String.Double */\n",
       ".highlight .se { color: #BB6622; font-weight: bold } /* Literal.String.Escape */\n",
       ".highlight .sh { color: #BA2121 } /* Literal.String.Heredoc */\n",
       ".highlight .si { color: #BB6688; font-weight: bold } /* Literal.String.Interpol */\n",
       ".highlight .sx { color: #008000 } /* Literal.String.Other */\n",
       ".highlight .sr { color: #BB6688 } /* Literal.String.Regex */\n",
       ".highlight .s1 { color: #BA2121 } /* Literal.String.Single */\n",
       ".highlight .ss { color: #19177C } /* Literal.String.Symbol */\n",
       ".highlight .bp { color: #008000 } /* Name.Builtin.Pseudo */\n",
       ".highlight .fm { color: #0000FF } /* Name.Function.Magic */\n",
       ".highlight .vc { color: #19177C } /* Name.Variable.Class */\n",
       ".highlight .vg { color: #19177C } /* Name.Variable.Global */\n",
       ".highlight .vi { color: #19177C } /* Name.Variable.Instance */\n",
       ".highlight .vm { color: #19177C } /* Name.Variable.Magic */\n",
       ".highlight .il { color: #666666 } /* Literal.Number.Integer.Long */\n",
       "        </style>\n",
       "        "
      ],
      "text/plain": [
       "<IPython.core.display.HTML object>"
      ]
     },
     "metadata": {},
     "output_type": "display_data"
    },
    {
     "data": {
      "text/html": [
       "<div class=\"highlight\"><pre><span></span><span class=\"lineno\"> 1 </span><span class=\"nv\">Answer</span><span class=\"s s-Atom\">:</span> <span class=\"mi\">1</span>\n",
       "<span class=\"lineno\"> 2 </span><span class=\"nf\">ruleH</span><span class=\"p\">(</span><span class=\"s2\">&quot;tri&quot;</span><span class=\"p\">)</span> <span class=\"nf\">newVar</span><span class=\"p\">(</span><span class=\"s2\">&quot;X&quot;</span><span class=\"p\">,</span><span class=\"s s-Atom\">node</span><span class=\"p\">)</span> <span class=\"nf\">ruleOcc</span><span class=\"p\">(</span><span class=\"s2\">&quot;e&quot;</span><span class=\"p\">,</span><span class=\"mi\">1</span><span class=\"p\">)</span> <span class=\"nf\">ruleOcc</span><span class=\"p\">(</span><span class=\"s2\">&quot;e&quot;</span><span class=\"p\">,</span><span class=\"mi\">2</span><span class=\"p\">)</span> <span class=\"nf\">ruleOcc</span><span class=\"p\">(</span><span class=\"s2\">&quot;e&quot;</span><span class=\"p\">,</span><span class=\"mi\">3</span><span class=\"p\">)</span> <span class=\"nf\">var</span><span class=\"p\">(</span><span class=\"s2\">&quot;X&quot;</span><span class=\"p\">,</span><span class=\"s s-Atom\">node</span><span class=\"p\">)</span> <span class=\"nf\">var</span><span class=\"p\">(</span><span class=\"s2\">&quot;Y&quot;</span><span class=\"p\">,</span><span class=\"s s-Atom\">node</span><span class=\"p\">)</span> <span class=\"nf\">var</span><span class=\"p\">(</span><span class=\"s2\">&quot;Z&quot;</span><span class=\"p\">,</span><span class=\"s s-Atom\">node</span><span class=\"p\">)</span> <span class=\"nf\">hArc</span><span class=\"p\">(</span><span class=\"s2\">&quot;X&quot;</span><span class=\"p\">,</span><span class=\"mi\">1</span><span class=\"p\">,</span><span class=\"s2\">&quot;tri&quot;</span><span class=\"p\">)</span> <span class=\"nf\">newHArc</span><span class=\"p\">(</span><span class=\"s2\">&quot;X&quot;</span><span class=\"p\">,</span><span class=\"mi\">1</span><span class=\"p\">,</span><span class=\"s2\">&quot;tri&quot;</span><span class=\"p\">)</span> <span class=\"nf\">arc</span><span class=\"p\">(</span><span class=\"s2\">&quot;X&quot;</span><span class=\"p\">,</span><span class=\"mi\">1</span><span class=\"p\">,</span><span class=\"s2\">&quot;e&quot;</span><span class=\"p\">,</span><span class=\"mi\">1</span><span class=\"p\">)</span> <span class=\"nf\">arc</span><span class=\"p\">(</span><span class=\"s2\">&quot;Y&quot;</span><span class=\"p\">,</span><span class=\"mi\">2</span><span class=\"p\">,</span><span class=\"s2\">&quot;e&quot;</span><span class=\"p\">,</span><span class=\"mi\">1</span><span class=\"p\">)</span> <span class=\"nf\">arc</span><span class=\"p\">(</span><span class=\"s2\">&quot;Y&quot;</span><span class=\"p\">,</span><span class=\"mi\">1</span><span class=\"p\">,</span><span class=\"s2\">&quot;e&quot;</span><span class=\"p\">,</span><span class=\"mi\">2</span><span class=\"p\">)</span> <span class=\"nf\">arc</span><span class=\"p\">(</span><span class=\"s2\">&quot;Z&quot;</span><span class=\"p\">,</span><span class=\"mi\">2</span><span class=\"p\">,</span><span class=\"s2\">&quot;e&quot;</span><span class=\"p\">,</span><span class=\"mi\">2</span><span class=\"p\">)</span> <span class=\"nf\">arc</span><span class=\"p\">(</span><span class=\"s2\">&quot;Z&quot;</span><span class=\"p\">,</span><span class=\"mi\">1</span><span class=\"p\">,</span><span class=\"s2\">&quot;e&quot;</span><span class=\"p\">,</span><span class=\"mi\">3</span><span class=\"p\">)</span> <span class=\"nf\">arc</span><span class=\"p\">(</span><span class=\"s2\">&quot;X&quot;</span><span class=\"p\">,</span><span class=\"mi\">2</span><span class=\"p\">,</span><span class=\"s2\">&quot;e&quot;</span><span class=\"p\">,</span><span class=\"mi\">3</span><span class=\"p\">)</span> <span class=\"nf\">newArc</span><span class=\"p\">(</span><span class=\"s2\">&quot;X&quot;</span><span class=\"p\">,</span><span class=\"mi\">1</span><span class=\"p\">,</span><span class=\"s2\">&quot;e&quot;</span><span class=\"p\">,</span><span class=\"mi\">1</span><span class=\"p\">)</span> <span class=\"nf\">newArc</span><span class=\"p\">(</span><span class=\"s2\">&quot;X&quot;</span><span class=\"p\">,</span><span class=\"mi\">2</span><span class=\"p\">,</span><span class=\"s2\">&quot;e&quot;</span><span class=\"p\">,</span><span class=\"mi\">3</span><span class=\"p\">)</span> <span class=\"nf\">newArc</span><span class=\"p\">(</span><span class=\"s2\">&quot;Y&quot;</span><span class=\"p\">,</span><span class=\"mi\">2</span><span class=\"p\">,</span><span class=\"s2\">&quot;e&quot;</span><span class=\"p\">,</span><span class=\"mi\">1</span><span class=\"p\">)</span> <span class=\"nf\">newArc</span><span class=\"p\">(</span><span class=\"s2\">&quot;Y&quot;</span><span class=\"p\">,</span><span class=\"mi\">1</span><span class=\"p\">,</span><span class=\"s2\">&quot;e&quot;</span><span class=\"p\">,</span><span class=\"mi\">2</span><span class=\"p\">)</span> <span class=\"nf\">newArc</span><span class=\"p\">(</span><span class=\"s2\">&quot;Z&quot;</span><span class=\"p\">,</span><span class=\"mi\">2</span><span class=\"p\">,</span><span class=\"s2\">&quot;e&quot;</span><span class=\"p\">,</span><span class=\"mi\">2</span><span class=\"p\">)</span> <span class=\"nf\">newArc</span><span class=\"p\">(</span><span class=\"s2\">&quot;Z&quot;</span><span class=\"p\">,</span><span class=\"mi\">1</span><span class=\"p\">,</span><span class=\"s2\">&quot;e&quot;</span><span class=\"p\">,</span><span class=\"mi\">3</span><span class=\"p\">)</span> <span class=\"nf\">ne</span><span class=\"p\">(</span><span class=\"mi\">1</span><span class=\"p\">,</span><span class=\"s2\">&quot;X&quot;</span><span class=\"p\">,</span><span class=\"s2\">&quot;Y&quot;</span><span class=\"p\">)</span> <span class=\"nf\">ne</span><span class=\"p\">(</span><span class=\"mi\">2</span><span class=\"p\">,</span><span class=\"s2\">&quot;Y&quot;</span><span class=\"p\">,</span><span class=\"s2\">&quot;Z&quot;</span><span class=\"p\">)</span> <span class=\"nf\">ne</span><span class=\"p\">(</span><span class=\"mi\">3</span><span class=\"p\">,</span><span class=\"s2\">&quot;Z&quot;</span><span class=\"p\">,</span><span class=\"s2\">&quot;X&quot;</span><span class=\"p\">)</span> <span class=\"nf\">ne</span><span class=\"p\">(</span><span class=\"s2\">&quot;X&quot;</span><span class=\"p\">,</span><span class=\"s2\">&quot;Y&quot;</span><span class=\"p\">)</span> <span class=\"nf\">ne</span><span class=\"p\">(</span><span class=\"s2\">&quot;Y&quot;</span><span class=\"p\">,</span><span class=\"s2\">&quot;Z&quot;</span><span class=\"p\">)</span> <span class=\"nf\">ne</span><span class=\"p\">(</span><span class=\"s2\">&quot;Z&quot;</span><span class=\"p\">,</span><span class=\"s2\">&quot;X&quot;</span><span class=\"p\">)</span> <span class=\"nf\">newVar</span><span class=\"p\">(</span><span class=\"s2\">&quot;Y&quot;</span><span class=\"p\">,</span><span class=\"s s-Atom\">node</span><span class=\"p\">)</span> <span class=\"nf\">newVar</span><span class=\"p\">(</span><span class=\"s2\">&quot;Z&quot;</span><span class=\"p\">,</span><span class=\"s s-Atom\">node</span><span class=\"p\">)</span> <span class=\"nf\">neqOrd</span><span class=\"p\">(</span><span class=\"s2\">&quot;X&quot;</span><span class=\"p\">,</span><span class=\"s2\">&quot;Y&quot;</span><span class=\"p\">,</span><span class=\"s s-Atom\">node</span><span class=\"p\">)</span> <span class=\"nf\">neqOrd</span><span class=\"p\">(</span><span class=\"s2\">&quot;X&quot;</span><span class=\"p\">,</span><span class=\"s2\">&quot;Z&quot;</span><span class=\"p\">,</span><span class=\"s s-Atom\">node</span><span class=\"p\">)</span> <span class=\"nf\">neqOrd</span><span class=\"p\">(</span><span class=\"s2\">&quot;Y&quot;</span><span class=\"p\">,</span><span class=\"s2\">&quot;Z&quot;</span><span class=\"p\">,</span><span class=\"s s-Atom\">node</span><span class=\"p\">)</span>\n",
       "<span class=\"lineno\"> 3 </span><span class=\"nv\">Answer</span><span class=\"s s-Atom\">:</span> <span class=\"mi\">2</span>\n",
       "<span class=\"lineno\"> 4 </span><span class=\"nf\">ruleH</span><span class=\"p\">(</span><span class=\"s2\">&quot;tri&quot;</span><span class=\"p\">)</span> <span class=\"nf\">newVar</span><span class=\"p\">(</span><span class=\"s2\">&quot;X&quot;</span><span class=\"p\">,</span><span class=\"s s-Atom\">node</span><span class=\"p\">)</span> <span class=\"nf\">ruleOcc</span><span class=\"p\">(</span><span class=\"s2\">&quot;e&quot;</span><span class=\"p\">,</span><span class=\"mi\">1</span><span class=\"p\">)</span> <span class=\"nf\">ruleOcc</span><span class=\"p\">(</span><span class=\"s2\">&quot;e&quot;</span><span class=\"p\">,</span><span class=\"mi\">2</span><span class=\"p\">)</span> <span class=\"nf\">ruleOcc</span><span class=\"p\">(</span><span class=\"s2\">&quot;e&quot;</span><span class=\"p\">,</span><span class=\"mi\">3</span><span class=\"p\">)</span> <span class=\"nf\">var</span><span class=\"p\">(</span><span class=\"s2\">&quot;X&quot;</span><span class=\"p\">,</span><span class=\"s s-Atom\">node</span><span class=\"p\">)</span> <span class=\"nf\">var</span><span class=\"p\">(</span><span class=\"s2\">&quot;Y&quot;</span><span class=\"p\">,</span><span class=\"s s-Atom\">node</span><span class=\"p\">)</span> <span class=\"nf\">var</span><span class=\"p\">(</span><span class=\"s2\">&quot;Z&quot;</span><span class=\"p\">,</span><span class=\"s s-Atom\">node</span><span class=\"p\">)</span> <span class=\"nf\">hArc</span><span class=\"p\">(</span><span class=\"s2\">&quot;X&quot;</span><span class=\"p\">,</span><span class=\"mi\">1</span><span class=\"p\">,</span><span class=\"s2\">&quot;tri&quot;</span><span class=\"p\">)</span> <span class=\"nf\">newHArc</span><span class=\"p\">(</span><span class=\"s2\">&quot;X&quot;</span><span class=\"p\">,</span><span class=\"mi\">1</span><span class=\"p\">,</span><span class=\"s2\">&quot;tri&quot;</span><span class=\"p\">)</span> <span class=\"nf\">arc</span><span class=\"p\">(</span><span class=\"s2\">&quot;X&quot;</span><span class=\"p\">,</span><span class=\"mi\">1</span><span class=\"p\">,</span><span class=\"s2\">&quot;e&quot;</span><span class=\"p\">,</span><span class=\"mi\">1</span><span class=\"p\">)</span> <span class=\"nf\">arc</span><span class=\"p\">(</span><span class=\"s2\">&quot;Y&quot;</span><span class=\"p\">,</span><span class=\"mi\">2</span><span class=\"p\">,</span><span class=\"s2\">&quot;e&quot;</span><span class=\"p\">,</span><span class=\"mi\">1</span><span class=\"p\">)</span> <span class=\"nf\">arc</span><span class=\"p\">(</span><span class=\"s2\">&quot;Y&quot;</span><span class=\"p\">,</span><span class=\"mi\">1</span><span class=\"p\">,</span><span class=\"s2\">&quot;e&quot;</span><span class=\"p\">,</span><span class=\"mi\">2</span><span class=\"p\">)</span> <span class=\"nf\">arc</span><span class=\"p\">(</span><span class=\"s2\">&quot;Z&quot;</span><span class=\"p\">,</span><span class=\"mi\">2</span><span class=\"p\">,</span><span class=\"s2\">&quot;e&quot;</span><span class=\"p\">,</span><span class=\"mi\">2</span><span class=\"p\">)</span> <span class=\"nf\">arc</span><span class=\"p\">(</span><span class=\"s2\">&quot;Z&quot;</span><span class=\"p\">,</span><span class=\"mi\">1</span><span class=\"p\">,</span><span class=\"s2\">&quot;e&quot;</span><span class=\"p\">,</span><span class=\"mi\">3</span><span class=\"p\">)</span> <span class=\"nf\">arc</span><span class=\"p\">(</span><span class=\"s2\">&quot;X&quot;</span><span class=\"p\">,</span><span class=\"mi\">2</span><span class=\"p\">,</span><span class=\"s2\">&quot;e&quot;</span><span class=\"p\">,</span><span class=\"mi\">3</span><span class=\"p\">)</span> <span class=\"nf\">newArc</span><span class=\"p\">(</span><span class=\"s2\">&quot;X&quot;</span><span class=\"p\">,</span><span class=\"mi\">1</span><span class=\"p\">,</span><span class=\"s2\">&quot;e&quot;</span><span class=\"p\">,</span><span class=\"mi\">1</span><span class=\"p\">)</span> <span class=\"nf\">newArc</span><span class=\"p\">(</span><span class=\"s2\">&quot;X&quot;</span><span class=\"p\">,</span><span class=\"mi\">2</span><span class=\"p\">,</span><span class=\"s2\">&quot;e&quot;</span><span class=\"p\">,</span><span class=\"mi\">3</span><span class=\"p\">)</span> <span class=\"nf\">newArc</span><span class=\"p\">(</span><span class=\"s2\">&quot;Y&quot;</span><span class=\"p\">,</span><span class=\"mi\">2</span><span class=\"p\">,</span><span class=\"s2\">&quot;e&quot;</span><span class=\"p\">,</span><span class=\"mi\">1</span><span class=\"p\">)</span> <span class=\"nf\">newArc</span><span class=\"p\">(</span><span class=\"s2\">&quot;Y&quot;</span><span class=\"p\">,</span><span class=\"mi\">1</span><span class=\"p\">,</span><span class=\"s2\">&quot;e&quot;</span><span class=\"p\">,</span><span class=\"mi\">2</span><span class=\"p\">)</span> <span class=\"nf\">newArc</span><span class=\"p\">(</span><span class=\"s2\">&quot;Z&quot;</span><span class=\"p\">,</span><span class=\"mi\">2</span><span class=\"p\">,</span><span class=\"s2\">&quot;e&quot;</span><span class=\"p\">,</span><span class=\"mi\">2</span><span class=\"p\">)</span> <span class=\"nf\">newArc</span><span class=\"p\">(</span><span class=\"s2\">&quot;Z&quot;</span><span class=\"p\">,</span><span class=\"mi\">1</span><span class=\"p\">,</span><span class=\"s2\">&quot;e&quot;</span><span class=\"p\">,</span><span class=\"mi\">3</span><span class=\"p\">)</span> <span class=\"nf\">ruleOccTrue</span><span class=\"p\">(</span><span class=\"s2\">&quot;e&quot;</span><span class=\"p\">,</span><span class=\"mi\">1</span><span class=\"p\">)</span> <span class=\"nf\">ne</span><span class=\"p\">(</span><span class=\"mi\">2</span><span class=\"p\">,</span><span class=\"s2\">&quot;Y&quot;</span><span class=\"p\">,</span><span class=\"s2\">&quot;Z&quot;</span><span class=\"p\">)</span> <span class=\"nf\">ne</span><span class=\"p\">(</span><span class=\"mi\">3</span><span class=\"p\">,</span><span class=\"s2\">&quot;Z&quot;</span><span class=\"p\">,</span><span class=\"s2\">&quot;X&quot;</span><span class=\"p\">)</span> <span class=\"nf\">ne</span><span class=\"p\">(</span><span class=\"s2\">&quot;Y&quot;</span><span class=\"p\">,</span><span class=\"s2\">&quot;Z&quot;</span><span class=\"p\">)</span> <span class=\"nf\">ne</span><span class=\"p\">(</span><span class=\"s2\">&quot;Z&quot;</span><span class=\"p\">,</span><span class=\"s2\">&quot;X&quot;</span><span class=\"p\">)</span> <span class=\"nf\">e</span><span class=\"p\">(</span><span class=\"mi\">1</span><span class=\"p\">,</span><span class=\"s2\">&quot;X&quot;</span><span class=\"p\">,</span><span class=\"s2\">&quot;Y&quot;</span><span class=\"p\">)</span> <span class=\"nf\">e</span><span class=\"p\">(</span><span class=\"s2\">&quot;X&quot;</span><span class=\"p\">,</span><span class=\"s2\">&quot;Y&quot;</span><span class=\"p\">)</span> <span class=\"nf\">newVar</span><span class=\"p\">(</span><span class=\"s2\">&quot;Y&quot;</span><span class=\"p\">,</span><span class=\"s s-Atom\">node</span><span class=\"p\">)</span> <span class=\"nf\">newVar</span><span class=\"p\">(</span><span class=\"s2\">&quot;Z&quot;</span><span class=\"p\">,</span><span class=\"s s-Atom\">node</span><span class=\"p\">)</span> <span class=\"nf\">neqOrd</span><span class=\"p\">(</span><span class=\"s2\">&quot;X&quot;</span><span class=\"p\">,</span><span class=\"s2\">&quot;Y&quot;</span><span class=\"p\">,</span><span class=\"s s-Atom\">node</span><span class=\"p\">)</span> <span class=\"nf\">neqOrd</span><span class=\"p\">(</span><span class=\"s2\">&quot;X&quot;</span><span class=\"p\">,</span><span class=\"s2\">&quot;Z&quot;</span><span class=\"p\">,</span><span class=\"s s-Atom\">node</span><span class=\"p\">)</span> <span class=\"nf\">neqOrd</span><span class=\"p\">(</span><span class=\"s2\">&quot;Y&quot;</span><span class=\"p\">,</span><span class=\"s2\">&quot;Z&quot;</span><span class=\"p\">,</span><span class=\"s s-Atom\">node</span><span class=\"p\">)</span>\n",
       "<span class=\"lineno\"> 5 </span><span class=\"nv\">Answer</span><span class=\"s s-Atom\">:</span> <span class=\"mi\">3</span>\n",
       "<span class=\"lineno\"> 6 </span><span class=\"nf\">ruleH</span><span class=\"p\">(</span><span class=\"s2\">&quot;tri&quot;</span><span class=\"p\">)</span> <span class=\"nf\">newVar</span><span class=\"p\">(</span><span class=\"s2\">&quot;X&quot;</span><span class=\"p\">,</span><span class=\"s s-Atom\">node</span><span class=\"p\">)</span> <span class=\"nf\">ruleOcc</span><span class=\"p\">(</span><span class=\"s2\">&quot;e&quot;</span><span class=\"p\">,</span><span class=\"mi\">1</span><span class=\"p\">)</span> <span class=\"nf\">ruleOcc</span><span class=\"p\">(</span><span class=\"s2\">&quot;e&quot;</span><span class=\"p\">,</span><span class=\"mi\">2</span><span class=\"p\">)</span> <span class=\"nf\">ruleOcc</span><span class=\"p\">(</span><span class=\"s2\">&quot;e&quot;</span><span class=\"p\">,</span><span class=\"mi\">3</span><span class=\"p\">)</span> <span class=\"nf\">var</span><span class=\"p\">(</span><span class=\"s2\">&quot;X&quot;</span><span class=\"p\">,</span><span class=\"s s-Atom\">node</span><span class=\"p\">)</span> <span class=\"nf\">var</span><span class=\"p\">(</span><span class=\"s2\">&quot;Y&quot;</span><span class=\"p\">,</span><span class=\"s s-Atom\">node</span><span class=\"p\">)</span> <span class=\"nf\">var</span><span class=\"p\">(</span><span class=\"s2\">&quot;Z&quot;</span><span class=\"p\">,</span><span class=\"s s-Atom\">node</span><span class=\"p\">)</span> <span class=\"nf\">hArc</span><span class=\"p\">(</span><span class=\"s2\">&quot;X&quot;</span><span class=\"p\">,</span><span class=\"mi\">1</span><span class=\"p\">,</span><span class=\"s2\">&quot;tri&quot;</span><span class=\"p\">)</span> <span class=\"nf\">newHArc</span><span class=\"p\">(</span><span class=\"s2\">&quot;X&quot;</span><span class=\"p\">,</span><span class=\"mi\">1</span><span class=\"p\">,</span><span class=\"s2\">&quot;tri&quot;</span><span class=\"p\">)</span> <span class=\"nf\">arc</span><span class=\"p\">(</span><span class=\"s2\">&quot;X&quot;</span><span class=\"p\">,</span><span class=\"mi\">1</span><span class=\"p\">,</span><span class=\"s2\">&quot;e&quot;</span><span class=\"p\">,</span><span class=\"mi\">1</span><span class=\"p\">)</span> <span class=\"nf\">arc</span><span class=\"p\">(</span><span class=\"s2\">&quot;Y&quot;</span><span class=\"p\">,</span><span class=\"mi\">2</span><span class=\"p\">,</span><span class=\"s2\">&quot;e&quot;</span><span class=\"p\">,</span><span class=\"mi\">1</span><span class=\"p\">)</span> <span class=\"nf\">arc</span><span class=\"p\">(</span><span class=\"s2\">&quot;Y&quot;</span><span class=\"p\">,</span><span class=\"mi\">1</span><span class=\"p\">,</span><span class=\"s2\">&quot;e&quot;</span><span class=\"p\">,</span><span class=\"mi\">2</span><span class=\"p\">)</span> <span class=\"nf\">arc</span><span class=\"p\">(</span><span class=\"s2\">&quot;Z&quot;</span><span class=\"p\">,</span><span class=\"mi\">2</span><span class=\"p\">,</span><span class=\"s2\">&quot;e&quot;</span><span class=\"p\">,</span><span class=\"mi\">2</span><span class=\"p\">)</span> <span class=\"nf\">arc</span><span class=\"p\">(</span><span class=\"s2\">&quot;Z&quot;</span><span class=\"p\">,</span><span class=\"mi\">1</span><span class=\"p\">,</span><span class=\"s2\">&quot;e&quot;</span><span class=\"p\">,</span><span class=\"mi\">3</span><span class=\"p\">)</span> <span class=\"nf\">arc</span><span class=\"p\">(</span><span class=\"s2\">&quot;X&quot;</span><span class=\"p\">,</span><span class=\"mi\">2</span><span class=\"p\">,</span><span class=\"s2\">&quot;e&quot;</span><span class=\"p\">,</span><span class=\"mi\">3</span><span class=\"p\">)</span> <span class=\"nf\">newArc</span><span class=\"p\">(</span><span class=\"s2\">&quot;X&quot;</span><span class=\"p\">,</span><span class=\"mi\">1</span><span class=\"p\">,</span><span class=\"s2\">&quot;e&quot;</span><span class=\"p\">,</span><span class=\"mi\">1</span><span class=\"p\">)</span> <span class=\"nf\">newArc</span><span class=\"p\">(</span><span class=\"s2\">&quot;X&quot;</span><span class=\"p\">,</span><span class=\"mi\">2</span><span class=\"p\">,</span><span class=\"s2\">&quot;e&quot;</span><span class=\"p\">,</span><span class=\"mi\">3</span><span class=\"p\">)</span> <span class=\"nf\">newArc</span><span class=\"p\">(</span><span class=\"s2\">&quot;Y&quot;</span><span class=\"p\">,</span><span class=\"mi\">2</span><span class=\"p\">,</span><span class=\"s2\">&quot;e&quot;</span><span class=\"p\">,</span><span class=\"mi\">1</span><span class=\"p\">)</span> <span class=\"nf\">newArc</span><span class=\"p\">(</span><span class=\"s2\">&quot;Y&quot;</span><span class=\"p\">,</span><span class=\"mi\">1</span><span class=\"p\">,</span><span class=\"s2\">&quot;e&quot;</span><span class=\"p\">,</span><span class=\"mi\">2</span><span class=\"p\">)</span> <span class=\"nf\">newArc</span><span class=\"p\">(</span><span class=\"s2\">&quot;Z&quot;</span><span class=\"p\">,</span><span class=\"mi\">2</span><span class=\"p\">,</span><span class=\"s2\">&quot;e&quot;</span><span class=\"p\">,</span><span class=\"mi\">2</span><span class=\"p\">)</span> <span class=\"nf\">newArc</span><span class=\"p\">(</span><span class=\"s2\">&quot;Z&quot;</span><span class=\"p\">,</span><span class=\"mi\">1</span><span class=\"p\">,</span><span class=\"s2\">&quot;e&quot;</span><span class=\"p\">,</span><span class=\"mi\">3</span><span class=\"p\">)</span> <span class=\"nf\">ruleOccTrue</span><span class=\"p\">(</span><span class=\"s2\">&quot;e&quot;</span><span class=\"p\">,</span><span class=\"mi\">3</span><span class=\"p\">)</span> <span class=\"nf\">ne</span><span class=\"p\">(</span><span class=\"mi\">1</span><span class=\"p\">,</span><span class=\"s2\">&quot;X&quot;</span><span class=\"p\">,</span><span class=\"s2\">&quot;Y&quot;</span><span class=\"p\">)</span> <span class=\"nf\">ne</span><span class=\"p\">(</span><span class=\"mi\">2</span><span class=\"p\">,</span><span class=\"s2\">&quot;Y&quot;</span><span class=\"p\">,</span><span class=\"s2\">&quot;Z&quot;</span><span class=\"p\">)</span> <span class=\"nf\">ne</span><span class=\"p\">(</span><span class=\"s2\">&quot;X&quot;</span><span class=\"p\">,</span><span class=\"s2\">&quot;Y&quot;</span><span class=\"p\">)</span> <span class=\"nf\">ne</span><span class=\"p\">(</span><span class=\"s2\">&quot;Y&quot;</span><span class=\"p\">,</span><span class=\"s2\">&quot;Z&quot;</span><span class=\"p\">)</span> <span class=\"nf\">e</span><span class=\"p\">(</span><span class=\"mi\">3</span><span class=\"p\">,</span><span class=\"s2\">&quot;Z&quot;</span><span class=\"p\">,</span><span class=\"s2\">&quot;X&quot;</span><span class=\"p\">)</span> <span class=\"nf\">e</span><span class=\"p\">(</span><span class=\"s2\">&quot;Z&quot;</span><span class=\"p\">,</span><span class=\"s2\">&quot;X&quot;</span><span class=\"p\">)</span> <span class=\"nf\">newVar</span><span class=\"p\">(</span><span class=\"s2\">&quot;Y&quot;</span><span class=\"p\">,</span><span class=\"s s-Atom\">node</span><span class=\"p\">)</span> <span class=\"nf\">newVar</span><span class=\"p\">(</span><span class=\"s2\">&quot;Z&quot;</span><span class=\"p\">,</span><span class=\"s s-Atom\">node</span><span class=\"p\">)</span> <span class=\"nf\">neqOrd</span><span class=\"p\">(</span><span class=\"s2\">&quot;X&quot;</span><span class=\"p\">,</span><span class=\"s2\">&quot;Y&quot;</span><span class=\"p\">,</span><span class=\"s s-Atom\">node</span><span class=\"p\">)</span> <span class=\"nf\">neqOrd</span><span class=\"p\">(</span><span class=\"s2\">&quot;X&quot;</span><span class=\"p\">,</span><span class=\"s2\">&quot;Z&quot;</span><span class=\"p\">,</span><span class=\"s s-Atom\">node</span><span class=\"p\">)</span> <span class=\"nf\">neqOrd</span><span class=\"p\">(</span><span class=\"s2\">&quot;Y&quot;</span><span class=\"p\">,</span><span class=\"s2\">&quot;Z&quot;</span><span class=\"p\">,</span><span class=\"s s-Atom\">node</span><span class=\"p\">)</span>\n",
       "<span class=\"lineno\"> 7 </span><span class=\"nv\">Answer</span><span class=\"s s-Atom\">:</span> <span class=\"mi\">4</span>\n",
       "<span class=\"lineno\"> 8 </span><span class=\"nf\">ruleH</span><span class=\"p\">(</span><span class=\"s2\">&quot;tri&quot;</span><span class=\"p\">)</span> <span class=\"nf\">newVar</span><span class=\"p\">(</span><span class=\"s2\">&quot;X&quot;</span><span class=\"p\">,</span><span class=\"s s-Atom\">node</span><span class=\"p\">)</span> <span class=\"nf\">ruleOcc</span><span class=\"p\">(</span><span class=\"s2\">&quot;e&quot;</span><span class=\"p\">,</span><span class=\"mi\">1</span><span class=\"p\">)</span> <span class=\"nf\">ruleOcc</span><span class=\"p\">(</span><span class=\"s2\">&quot;e&quot;</span><span class=\"p\">,</span><span class=\"mi\">2</span><span class=\"p\">)</span> <span class=\"nf\">ruleOcc</span><span class=\"p\">(</span><span class=\"s2\">&quot;e&quot;</span><span class=\"p\">,</span><span class=\"mi\">3</span><span class=\"p\">)</span> <span class=\"nf\">var</span><span class=\"p\">(</span><span class=\"s2\">&quot;X&quot;</span><span class=\"p\">,</span><span class=\"s s-Atom\">node</span><span class=\"p\">)</span> <span class=\"nf\">var</span><span class=\"p\">(</span><span class=\"s2\">&quot;Y&quot;</span><span class=\"p\">,</span><span class=\"s s-Atom\">node</span><span class=\"p\">)</span> <span class=\"nf\">var</span><span class=\"p\">(</span><span class=\"s2\">&quot;Z&quot;</span><span class=\"p\">,</span><span class=\"s s-Atom\">node</span><span class=\"p\">)</span> <span class=\"nf\">hArc</span><span class=\"p\">(</span><span class=\"s2\">&quot;X&quot;</span><span class=\"p\">,</span><span class=\"mi\">1</span><span class=\"p\">,</span><span class=\"s2\">&quot;tri&quot;</span><span class=\"p\">)</span> <span class=\"nf\">newHArc</span><span class=\"p\">(</span><span class=\"s2\">&quot;X&quot;</span><span class=\"p\">,</span><span class=\"mi\">1</span><span class=\"p\">,</span><span class=\"s2\">&quot;tri&quot;</span><span class=\"p\">)</span> <span class=\"nf\">arc</span><span class=\"p\">(</span><span class=\"s2\">&quot;X&quot;</span><span class=\"p\">,</span><span class=\"mi\">1</span><span class=\"p\">,</span><span class=\"s2\">&quot;e&quot;</span><span class=\"p\">,</span><span class=\"mi\">1</span><span class=\"p\">)</span> <span class=\"nf\">arc</span><span class=\"p\">(</span><span class=\"s2\">&quot;Y&quot;</span><span class=\"p\">,</span><span class=\"mi\">2</span><span class=\"p\">,</span><span class=\"s2\">&quot;e&quot;</span><span class=\"p\">,</span><span class=\"mi\">1</span><span class=\"p\">)</span> <span class=\"nf\">arc</span><span class=\"p\">(</span><span class=\"s2\">&quot;Y&quot;</span><span class=\"p\">,</span><span class=\"mi\">1</span><span class=\"p\">,</span><span class=\"s2\">&quot;e&quot;</span><span class=\"p\">,</span><span class=\"mi\">2</span><span class=\"p\">)</span> <span class=\"nf\">arc</span><span class=\"p\">(</span><span class=\"s2\">&quot;Z&quot;</span><span class=\"p\">,</span><span class=\"mi\">2</span><span class=\"p\">,</span><span class=\"s2\">&quot;e&quot;</span><span class=\"p\">,</span><span class=\"mi\">2</span><span class=\"p\">)</span> <span class=\"nf\">arc</span><span class=\"p\">(</span><span class=\"s2\">&quot;Z&quot;</span><span class=\"p\">,</span><span class=\"mi\">1</span><span class=\"p\">,</span><span class=\"s2\">&quot;e&quot;</span><span class=\"p\">,</span><span class=\"mi\">3</span><span class=\"p\">)</span> <span class=\"nf\">arc</span><span class=\"p\">(</span><span class=\"s2\">&quot;X&quot;</span><span class=\"p\">,</span><span class=\"mi\">2</span><span class=\"p\">,</span><span class=\"s2\">&quot;e&quot;</span><span class=\"p\">,</span><span class=\"mi\">3</span><span class=\"p\">)</span> <span class=\"nf\">newArc</span><span class=\"p\">(</span><span class=\"s2\">&quot;X&quot;</span><span class=\"p\">,</span><span class=\"mi\">1</span><span class=\"p\">,</span><span class=\"s2\">&quot;e&quot;</span><span class=\"p\">,</span><span class=\"mi\">1</span><span class=\"p\">)</span> <span class=\"nf\">newArc</span><span class=\"p\">(</span><span class=\"s2\">&quot;X&quot;</span><span class=\"p\">,</span><span class=\"mi\">2</span><span class=\"p\">,</span><span class=\"s2\">&quot;e&quot;</span><span class=\"p\">,</span><span class=\"mi\">3</span><span class=\"p\">)</span> <span class=\"nf\">newArc</span><span class=\"p\">(</span><span class=\"s2\">&quot;Y&quot;</span><span class=\"p\">,</span><span class=\"mi\">2</span><span class=\"p\">,</span><span class=\"s2\">&quot;e&quot;</span><span class=\"p\">,</span><span class=\"mi\">1</span><span class=\"p\">)</span> <span class=\"nf\">newArc</span><span class=\"p\">(</span><span class=\"s2\">&quot;Y&quot;</span><span class=\"p\">,</span><span class=\"mi\">1</span><span class=\"p\">,</span><span class=\"s2\">&quot;e&quot;</span><span class=\"p\">,</span><span class=\"mi\">2</span><span class=\"p\">)</span> <span class=\"nf\">newArc</span><span class=\"p\">(</span><span class=\"s2\">&quot;Z&quot;</span><span class=\"p\">,</span><span class=\"mi\">2</span><span class=\"p\">,</span><span class=\"s2\">&quot;e&quot;</span><span class=\"p\">,</span><span class=\"mi\">2</span><span class=\"p\">)</span> <span class=\"nf\">newArc</span><span class=\"p\">(</span><span class=\"s2\">&quot;Z&quot;</span><span class=\"p\">,</span><span class=\"mi\">1</span><span class=\"p\">,</span><span class=\"s2\">&quot;e&quot;</span><span class=\"p\">,</span><span class=\"mi\">3</span><span class=\"p\">)</span> <span class=\"nf\">ruleOccTrue</span><span class=\"p\">(</span><span class=\"s2\">&quot;e&quot;</span><span class=\"p\">,</span><span class=\"mi\">1</span><span class=\"p\">)</span> <span class=\"nf\">ruleOccTrue</span><span class=\"p\">(</span><span class=\"s2\">&quot;e&quot;</span><span class=\"p\">,</span><span class=\"mi\">3</span><span class=\"p\">)</span> <span class=\"nf\">ne</span><span class=\"p\">(</span><span class=\"mi\">2</span><span class=\"p\">,</span><span class=\"s2\">&quot;Y&quot;</span><span class=\"p\">,</span><span class=\"s2\">&quot;Z&quot;</span><span class=\"p\">)</span> <span class=\"nf\">ne</span><span class=\"p\">(</span><span class=\"s2\">&quot;Y&quot;</span><span class=\"p\">,</span><span class=\"s2\">&quot;Z&quot;</span><span class=\"p\">)</span> <span class=\"nf\">e</span><span class=\"p\">(</span><span class=\"mi\">1</span><span class=\"p\">,</span><span class=\"s2\">&quot;X&quot;</span><span class=\"p\">,</span><span class=\"s2\">&quot;Y&quot;</span><span class=\"p\">)</span> <span class=\"nf\">e</span><span class=\"p\">(</span><span class=\"mi\">3</span><span class=\"p\">,</span><span class=\"s2\">&quot;Z&quot;</span><span class=\"p\">,</span><span class=\"s2\">&quot;X&quot;</span><span class=\"p\">)</span> <span class=\"nf\">e</span><span class=\"p\">(</span><span class=\"s2\">&quot;X&quot;</span><span class=\"p\">,</span><span class=\"s2\">&quot;Y&quot;</span><span class=\"p\">)</span> <span class=\"nf\">e</span><span class=\"p\">(</span><span class=\"s2\">&quot;Z&quot;</span><span class=\"p\">,</span><span class=\"s2\">&quot;X&quot;</span><span class=\"p\">)</span> <span class=\"nf\">newVar</span><span class=\"p\">(</span><span class=\"s2\">&quot;Y&quot;</span><span class=\"p\">,</span><span class=\"s s-Atom\">node</span><span class=\"p\">)</span> <span class=\"nf\">newVar</span><span class=\"p\">(</span><span class=\"s2\">&quot;Z&quot;</span><span class=\"p\">,</span><span class=\"s s-Atom\">node</span><span class=\"p\">)</span> <span class=\"nf\">neqOrd</span><span class=\"p\">(</span><span class=\"s2\">&quot;X&quot;</span><span class=\"p\">,</span><span class=\"s2\">&quot;Y&quot;</span><span class=\"p\">,</span><span class=\"s s-Atom\">node</span><span class=\"p\">)</span> <span class=\"nf\">neqOrd</span><span class=\"p\">(</span><span class=\"s2\">&quot;X&quot;</span><span class=\"p\">,</span><span class=\"s2\">&quot;Z&quot;</span><span class=\"p\">,</span><span class=\"s s-Atom\">node</span><span class=\"p\">)</span> <span class=\"nf\">neqOrd</span><span class=\"p\">(</span><span class=\"s2\">&quot;Y&quot;</span><span class=\"p\">,</span><span class=\"s2\">&quot;Z&quot;</span><span class=\"p\">,</span><span class=\"s s-Atom\">node</span><span class=\"p\">)</span>\n",
       "<span class=\"lineno\"> 9 </span><span class=\"nv\">Answer</span><span class=\"s s-Atom\">:</span> <span class=\"mi\">5</span>\n",
       "<span class=\"lineno\">10 </span><span class=\"nf\">ruleH</span><span class=\"p\">(</span><span class=\"s2\">&quot;tri&quot;</span><span class=\"p\">)</span> <span class=\"nf\">newVar</span><span class=\"p\">(</span><span class=\"s2\">&quot;X&quot;</span><span class=\"p\">,</span><span class=\"s s-Atom\">node</span><span class=\"p\">)</span> <span class=\"nf\">ruleOcc</span><span class=\"p\">(</span><span class=\"s2\">&quot;e&quot;</span><span class=\"p\">,</span><span class=\"mi\">1</span><span class=\"p\">)</span> <span class=\"nf\">ruleOcc</span><span class=\"p\">(</span><span class=\"s2\">&quot;e&quot;</span><span class=\"p\">,</span><span class=\"mi\">2</span><span class=\"p\">)</span> <span class=\"nf\">ruleOcc</span><span class=\"p\">(</span><span class=\"s2\">&quot;e&quot;</span><span class=\"p\">,</span><span class=\"mi\">3</span><span class=\"p\">)</span> <span class=\"nf\">var</span><span class=\"p\">(</span><span class=\"s2\">&quot;X&quot;</span><span class=\"p\">,</span><span class=\"s s-Atom\">node</span><span class=\"p\">)</span> <span class=\"nf\">var</span><span class=\"p\">(</span><span class=\"s2\">&quot;Y&quot;</span><span class=\"p\">,</span><span class=\"s s-Atom\">node</span><span class=\"p\">)</span> <span class=\"nf\">var</span><span class=\"p\">(</span><span class=\"s2\">&quot;Z&quot;</span><span class=\"p\">,</span><span class=\"s s-Atom\">node</span><span class=\"p\">)</span> <span class=\"nf\">hArc</span><span class=\"p\">(</span><span class=\"s2\">&quot;X&quot;</span><span class=\"p\">,</span><span class=\"mi\">1</span><span class=\"p\">,</span><span class=\"s2\">&quot;tri&quot;</span><span class=\"p\">)</span> <span class=\"nf\">newHArc</span><span class=\"p\">(</span><span class=\"s2\">&quot;X&quot;</span><span class=\"p\">,</span><span class=\"mi\">1</span><span class=\"p\">,</span><span class=\"s2\">&quot;tri&quot;</span><span class=\"p\">)</span> <span class=\"nf\">arc</span><span class=\"p\">(</span><span class=\"s2\">&quot;X&quot;</span><span class=\"p\">,</span><span class=\"mi\">1</span><span class=\"p\">,</span><span class=\"s2\">&quot;e&quot;</span><span class=\"p\">,</span><span class=\"mi\">1</span><span class=\"p\">)</span> <span class=\"nf\">arc</span><span class=\"p\">(</span><span class=\"s2\">&quot;Y&quot;</span><span class=\"p\">,</span><span class=\"mi\">2</span><span class=\"p\">,</span><span class=\"s2\">&quot;e&quot;</span><span class=\"p\">,</span><span class=\"mi\">1</span><span class=\"p\">)</span> <span class=\"nf\">arc</span><span class=\"p\">(</span><span class=\"s2\">&quot;Y&quot;</span><span class=\"p\">,</span><span class=\"mi\">1</span><span class=\"p\">,</span><span class=\"s2\">&quot;e&quot;</span><span class=\"p\">,</span><span class=\"mi\">2</span><span class=\"p\">)</span> <span class=\"nf\">arc</span><span class=\"p\">(</span><span class=\"s2\">&quot;Z&quot;</span><span class=\"p\">,</span><span class=\"mi\">2</span><span class=\"p\">,</span><span class=\"s2\">&quot;e&quot;</span><span class=\"p\">,</span><span class=\"mi\">2</span><span class=\"p\">)</span> <span class=\"nf\">arc</span><span class=\"p\">(</span><span class=\"s2\">&quot;Z&quot;</span><span class=\"p\">,</span><span class=\"mi\">1</span><span class=\"p\">,</span><span class=\"s2\">&quot;e&quot;</span><span class=\"p\">,</span><span class=\"mi\">3</span><span class=\"p\">)</span> <span class=\"nf\">arc</span><span class=\"p\">(</span><span class=\"s2\">&quot;X&quot;</span><span class=\"p\">,</span><span class=\"mi\">2</span><span class=\"p\">,</span><span class=\"s2\">&quot;e&quot;</span><span class=\"p\">,</span><span class=\"mi\">3</span><span class=\"p\">)</span> <span class=\"nf\">newArc</span><span class=\"p\">(</span><span class=\"s2\">&quot;X&quot;</span><span class=\"p\">,</span><span class=\"mi\">1</span><span class=\"p\">,</span><span class=\"s2\">&quot;e&quot;</span><span class=\"p\">,</span><span class=\"mi\">1</span><span class=\"p\">)</span> <span class=\"nf\">newArc</span><span class=\"p\">(</span><span class=\"s2\">&quot;X&quot;</span><span class=\"p\">,</span><span class=\"mi\">2</span><span class=\"p\">,</span><span class=\"s2\">&quot;e&quot;</span><span class=\"p\">,</span><span class=\"mi\">3</span><span class=\"p\">)</span> <span class=\"nf\">eqOrd</span><span class=\"p\">(</span><span class=\"s2\">&quot;Y&quot;</span><span class=\"p\">,</span><span class=\"s2\">&quot;Z&quot;</span><span class=\"p\">,</span><span class=\"s s-Atom\">node</span><span class=\"p\">)</span> <span class=\"nf\">newArc</span><span class=\"p\">(</span><span class=\"s2\">&quot;Y&quot;</span><span class=\"p\">,</span><span class=\"mi\">2</span><span class=\"p\">,</span><span class=\"s2\">&quot;e&quot;</span><span class=\"p\">,</span><span class=\"mi\">2</span><span class=\"p\">)</span> <span class=\"nf\">newArc</span><span class=\"p\">(</span><span class=\"s2\">&quot;Y&quot;</span><span class=\"p\">,</span><span class=\"mi\">1</span><span class=\"p\">,</span><span class=\"s2\">&quot;e&quot;</span><span class=\"p\">,</span><span class=\"mi\">3</span><span class=\"p\">)</span> <span class=\"nf\">newArc</span><span class=\"p\">(</span><span class=\"s2\">&quot;Y&quot;</span><span class=\"p\">,</span><span class=\"mi\">2</span><span class=\"p\">,</span><span class=\"s2\">&quot;e&quot;</span><span class=\"p\">,</span><span class=\"mi\">1</span><span class=\"p\">)</span> <span class=\"nf\">newArc</span><span class=\"p\">(</span><span class=\"s2\">&quot;Y&quot;</span><span class=\"p\">,</span><span class=\"mi\">1</span><span class=\"p\">,</span><span class=\"s2\">&quot;e&quot;</span><span class=\"p\">,</span><span class=\"mi\">2</span><span class=\"p\">)</span> <span class=\"nf\">ne</span><span class=\"p\">(</span><span class=\"mi\">2</span><span class=\"p\">,</span><span class=\"s2\">&quot;Y&quot;</span><span class=\"p\">,</span><span class=\"s2\">&quot;Y&quot;</span><span class=\"p\">)</span> <span class=\"nf\">ne</span><span class=\"p\">(</span><span class=\"mi\">1</span><span class=\"p\">,</span><span class=\"s2\">&quot;X&quot;</span><span class=\"p\">,</span><span class=\"s2\">&quot;Y&quot;</span><span class=\"p\">)</span> <span class=\"nf\">ne</span><span class=\"p\">(</span><span class=\"mi\">3</span><span class=\"p\">,</span><span class=\"s2\">&quot;Y&quot;</span><span class=\"p\">,</span><span class=\"s2\">&quot;X&quot;</span><span class=\"p\">)</span> <span class=\"nf\">ne</span><span class=\"p\">(</span><span class=\"s2\">&quot;Y&quot;</span><span class=\"p\">,</span><span class=\"s2\">&quot;X&quot;</span><span class=\"p\">)</span> <span class=\"nf\">ne</span><span class=\"p\">(</span><span class=\"s2\">&quot;X&quot;</span><span class=\"p\">,</span><span class=\"s2\">&quot;Y&quot;</span><span class=\"p\">)</span> <span class=\"nf\">ne</span><span class=\"p\">(</span><span class=\"s2\">&quot;Y&quot;</span><span class=\"p\">,</span><span class=\"s2\">&quot;Y&quot;</span><span class=\"p\">)</span> <span class=\"nf\">newVar</span><span class=\"p\">(</span><span class=\"s2\">&quot;Y&quot;</span><span class=\"p\">,</span><span class=\"s s-Atom\">node</span><span class=\"p\">)</span> <span class=\"nf\">neqOrd</span><span class=\"p\">(</span><span class=\"s2\">&quot;X&quot;</span><span class=\"p\">,</span><span class=\"s2\">&quot;Y&quot;</span><span class=\"p\">,</span><span class=\"s s-Atom\">node</span><span class=\"p\">)</span> <span class=\"nf\">eqOrdMinimal</span><span class=\"p\">(</span><span class=\"s2\">&quot;Y&quot;</span><span class=\"p\">,</span><span class=\"s2\">&quot;Z&quot;</span><span class=\"p\">,</span><span class=\"s s-Atom\">node</span><span class=\"p\">)</span>\n",
       "<span class=\"lineno\">11 </span><span class=\"nv\">Answer</span><span class=\"s s-Atom\">:</span> <span class=\"mi\">6</span>\n",
       "<span class=\"lineno\">12 </span><span class=\"nf\">ruleH</span><span class=\"p\">(</span><span class=\"s2\">&quot;tri&quot;</span><span class=\"p\">)</span> <span class=\"nf\">newVar</span><span class=\"p\">(</span><span class=\"s2\">&quot;X&quot;</span><span class=\"p\">,</span><span class=\"s s-Atom\">node</span><span class=\"p\">)</span> <span class=\"nf\">ruleOcc</span><span class=\"p\">(</span><span class=\"s2\">&quot;e&quot;</span><span class=\"p\">,</span><span class=\"mi\">1</span><span class=\"p\">)</span> <span class=\"nf\">ruleOcc</span><span class=\"p\">(</span><span class=\"s2\">&quot;e&quot;</span><span class=\"p\">,</span><span class=\"mi\">2</span><span class=\"p\">)</span> <span class=\"nf\">ruleOcc</span><span class=\"p\">(</span><span class=\"s2\">&quot;e&quot;</span><span class=\"p\">,</span><span class=\"mi\">3</span><span class=\"p\">)</span> <span class=\"nf\">var</span><span class=\"p\">(</span><span class=\"s2\">&quot;X&quot;</span><span class=\"p\">,</span><span class=\"s s-Atom\">node</span><span class=\"p\">)</span> <span class=\"nf\">var</span><span class=\"p\">(</span><span class=\"s2\">&quot;Y&quot;</span><span class=\"p\">,</span><span class=\"s s-Atom\">node</span><span class=\"p\">)</span> <span class=\"nf\">var</span><span class=\"p\">(</span><span class=\"s2\">&quot;Z&quot;</span><span class=\"p\">,</span><span class=\"s s-Atom\">node</span><span class=\"p\">)</span> <span class=\"nf\">hArc</span><span class=\"p\">(</span><span class=\"s2\">&quot;X&quot;</span><span class=\"p\">,</span><span class=\"mi\">1</span><span class=\"p\">,</span><span class=\"s2\">&quot;tri&quot;</span><span class=\"p\">)</span> <span class=\"nf\">newHArc</span><span class=\"p\">(</span><span class=\"s2\">&quot;X&quot;</span><span class=\"p\">,</span><span class=\"mi\">1</span><span class=\"p\">,</span><span class=\"s2\">&quot;tri&quot;</span><span class=\"p\">)</span> <span class=\"nf\">arc</span><span class=\"p\">(</span><span class=\"s2\">&quot;X&quot;</span><span class=\"p\">,</span><span class=\"mi\">1</span><span class=\"p\">,</span><span class=\"s2\">&quot;e&quot;</span><span class=\"p\">,</span><span class=\"mi\">1</span><span class=\"p\">)</span> <span class=\"nf\">arc</span><span class=\"p\">(</span><span class=\"s2\">&quot;Y&quot;</span><span class=\"p\">,</span><span class=\"mi\">2</span><span class=\"p\">,</span><span class=\"s2\">&quot;e&quot;</span><span class=\"p\">,</span><span class=\"mi\">1</span><span class=\"p\">)</span> <span class=\"nf\">arc</span><span class=\"p\">(</span><span class=\"s2\">&quot;Y&quot;</span><span class=\"p\">,</span><span class=\"mi\">1</span><span class=\"p\">,</span><span class=\"s2\">&quot;e&quot;</span><span class=\"p\">,</span><span class=\"mi\">2</span><span class=\"p\">)</span> <span class=\"nf\">arc</span><span class=\"p\">(</span><span class=\"s2\">&quot;Z&quot;</span><span class=\"p\">,</span><span class=\"mi\">2</span><span class=\"p\">,</span><span class=\"s2\">&quot;e&quot;</span><span class=\"p\">,</span><span class=\"mi\">2</span><span class=\"p\">)</span> <span class=\"nf\">arc</span><span class=\"p\">(</span><span class=\"s2\">&quot;Z&quot;</span><span class=\"p\">,</span><span class=\"mi\">1</span><span class=\"p\">,</span><span class=\"s2\">&quot;e&quot;</span><span class=\"p\">,</span><span class=\"mi\">3</span><span class=\"p\">)</span> <span class=\"nf\">arc</span><span class=\"p\">(</span><span class=\"s2\">&quot;X&quot;</span><span class=\"p\">,</span><span class=\"mi\">2</span><span class=\"p\">,</span><span class=\"s2\">&quot;e&quot;</span><span class=\"p\">,</span><span class=\"mi\">3</span><span class=\"p\">)</span> <span class=\"nf\">newArc</span><span class=\"p\">(</span><span class=\"s2\">&quot;X&quot;</span><span class=\"p\">,</span><span class=\"mi\">1</span><span class=\"p\">,</span><span class=\"s2\">&quot;e&quot;</span><span class=\"p\">,</span><span class=\"mi\">1</span><span class=\"p\">)</span> <span class=\"nf\">newArc</span><span class=\"p\">(</span><span class=\"s2\">&quot;X&quot;</span><span class=\"p\">,</span><span class=\"mi\">2</span><span class=\"p\">,</span><span class=\"s2\">&quot;e&quot;</span><span class=\"p\">,</span><span class=\"mi\">3</span><span class=\"p\">)</span> <span class=\"nf\">eqOrd</span><span class=\"p\">(</span><span class=\"s2\">&quot;Y&quot;</span><span class=\"p\">,</span><span class=\"s2\">&quot;Z&quot;</span><span class=\"p\">,</span><span class=\"s s-Atom\">node</span><span class=\"p\">)</span> <span class=\"nf\">newArc</span><span class=\"p\">(</span><span class=\"s2\">&quot;Y&quot;</span><span class=\"p\">,</span><span class=\"mi\">2</span><span class=\"p\">,</span><span class=\"s2\">&quot;e&quot;</span><span class=\"p\">,</span><span class=\"mi\">2</span><span class=\"p\">)</span> <span class=\"nf\">newArc</span><span class=\"p\">(</span><span class=\"s2\">&quot;Y&quot;</span><span class=\"p\">,</span><span class=\"mi\">1</span><span class=\"p\">,</span><span class=\"s2\">&quot;e&quot;</span><span class=\"p\">,</span><span class=\"mi\">3</span><span class=\"p\">)</span> <span class=\"nf\">newArc</span><span class=\"p\">(</span><span class=\"s2\">&quot;Y&quot;</span><span class=\"p\">,</span><span class=\"mi\">2</span><span class=\"p\">,</span><span class=\"s2\">&quot;e&quot;</span><span class=\"p\">,</span><span class=\"mi\">1</span><span class=\"p\">)</span> <span class=\"nf\">newArc</span><span class=\"p\">(</span><span class=\"s2\">&quot;Y&quot;</span><span class=\"p\">,</span><span class=\"mi\">1</span><span class=\"p\">,</span><span class=\"s2\">&quot;e&quot;</span><span class=\"p\">,</span><span class=\"mi\">2</span><span class=\"p\">)</span> <span class=\"nf\">ruleOccTrue</span><span class=\"p\">(</span><span class=\"s2\">&quot;e&quot;</span><span class=\"p\">,</span><span class=\"mi\">1</span><span class=\"p\">)</span> <span class=\"nf\">ne</span><span class=\"p\">(</span><span class=\"mi\">2</span><span class=\"p\">,</span><span class=\"s2\">&quot;Y&quot;</span><span class=\"p\">,</span><span class=\"s2\">&quot;Y&quot;</span><span class=\"p\">)</span> <span class=\"nf\">ne</span><span class=\"p\">(</span><span class=\"mi\">3</span><span class=\"p\">,</span><span class=\"s2\">&quot;Y&quot;</span><span class=\"p\">,</span><span class=\"s2\">&quot;X&quot;</span><span class=\"p\">)</span> <span class=\"nf\">ne</span><span class=\"p\">(</span><span class=\"s2\">&quot;Y&quot;</span><span class=\"p\">,</span><span class=\"s2\">&quot;X&quot;</span><span class=\"p\">)</span> <span class=\"nf\">ne</span><span class=\"p\">(</span><span class=\"s2\">&quot;Y&quot;</span><span class=\"p\">,</span><span class=\"s2\">&quot;Y&quot;</span><span class=\"p\">)</span> <span class=\"nf\">e</span><span class=\"p\">(</span><span class=\"mi\">1</span><span class=\"p\">,</span><span class=\"s2\">&quot;X&quot;</span><span class=\"p\">,</span><span class=\"s2\">&quot;Y&quot;</span><span class=\"p\">)</span> <span class=\"nf\">e</span><span class=\"p\">(</span><span class=\"s2\">&quot;X&quot;</span><span class=\"p\">,</span><span class=\"s2\">&quot;Y&quot;</span><span class=\"p\">)</span> <span class=\"nf\">newVar</span><span class=\"p\">(</span><span class=\"s2\">&quot;Y&quot;</span><span class=\"p\">,</span><span class=\"s s-Atom\">node</span><span class=\"p\">)</span> <span class=\"nf\">neqOrd</span><span class=\"p\">(</span><span class=\"s2\">&quot;X&quot;</span><span class=\"p\">,</span><span class=\"s2\">&quot;Y&quot;</span><span class=\"p\">,</span><span class=\"s s-Atom\">node</span><span class=\"p\">)</span> <span class=\"nf\">eqOrdMinimal</span><span class=\"p\">(</span><span class=\"s2\">&quot;Y&quot;</span><span class=\"p\">,</span><span class=\"s2\">&quot;Z&quot;</span><span class=\"p\">,</span><span class=\"s s-Atom\">node</span><span class=\"p\">)</span>\n",
       "<span class=\"lineno\">13 </span><span class=\"nv\">Answer</span><span class=\"s s-Atom\">:</span> <span class=\"mi\">7</span>\n",
       "<span class=\"lineno\">14 </span><span class=\"nf\">ruleH</span><span class=\"p\">(</span><span class=\"s2\">&quot;tri&quot;</span><span class=\"p\">)</span> <span class=\"nf\">newVar</span><span class=\"p\">(</span><span class=\"s2\">&quot;X&quot;</span><span class=\"p\">,</span><span class=\"s s-Atom\">node</span><span class=\"p\">)</span> <span class=\"nf\">ruleOcc</span><span class=\"p\">(</span><span class=\"s2\">&quot;e&quot;</span><span class=\"p\">,</span><span class=\"mi\">1</span><span class=\"p\">)</span> <span class=\"nf\">ruleOcc</span><span class=\"p\">(</span><span class=\"s2\">&quot;e&quot;</span><span class=\"p\">,</span><span class=\"mi\">2</span><span class=\"p\">)</span> <span class=\"nf\">ruleOcc</span><span class=\"p\">(</span><span class=\"s2\">&quot;e&quot;</span><span class=\"p\">,</span><span class=\"mi\">3</span><span class=\"p\">)</span> <span class=\"nf\">var</span><span class=\"p\">(</span><span class=\"s2\">&quot;X&quot;</span><span class=\"p\">,</span><span class=\"s s-Atom\">node</span><span class=\"p\">)</span> <span class=\"nf\">var</span><span class=\"p\">(</span><span class=\"s2\">&quot;Y&quot;</span><span class=\"p\">,</span><span class=\"s s-Atom\">node</span><span class=\"p\">)</span> <span class=\"nf\">var</span><span class=\"p\">(</span><span class=\"s2\">&quot;Z&quot;</span><span class=\"p\">,</span><span class=\"s s-Atom\">node</span><span class=\"p\">)</span> <span class=\"nf\">hArc</span><span class=\"p\">(</span><span class=\"s2\">&quot;X&quot;</span><span class=\"p\">,</span><span class=\"mi\">1</span><span class=\"p\">,</span><span class=\"s2\">&quot;tri&quot;</span><span class=\"p\">)</span> <span class=\"nf\">newHArc</span><span class=\"p\">(</span><span class=\"s2\">&quot;X&quot;</span><span class=\"p\">,</span><span class=\"mi\">1</span><span class=\"p\">,</span><span class=\"s2\">&quot;tri&quot;</span><span class=\"p\">)</span> <span class=\"nf\">arc</span><span class=\"p\">(</span><span class=\"s2\">&quot;X&quot;</span><span class=\"p\">,</span><span class=\"mi\">1</span><span class=\"p\">,</span><span class=\"s2\">&quot;e&quot;</span><span class=\"p\">,</span><span class=\"mi\">1</span><span class=\"p\">)</span> <span class=\"nf\">arc</span><span class=\"p\">(</span><span class=\"s2\">&quot;Y&quot;</span><span class=\"p\">,</span><span class=\"mi\">2</span><span class=\"p\">,</span><span class=\"s2\">&quot;e&quot;</span><span class=\"p\">,</span><span class=\"mi\">1</span><span class=\"p\">)</span> <span class=\"nf\">arc</span><span class=\"p\">(</span><span class=\"s2\">&quot;Y&quot;</span><span class=\"p\">,</span><span class=\"mi\">1</span><span class=\"p\">,</span><span class=\"s2\">&quot;e&quot;</span><span class=\"p\">,</span><span class=\"mi\">2</span><span class=\"p\">)</span> <span class=\"nf\">arc</span><span class=\"p\">(</span><span class=\"s2\">&quot;Z&quot;</span><span class=\"p\">,</span><span class=\"mi\">2</span><span class=\"p\">,</span><span class=\"s2\">&quot;e&quot;</span><span class=\"p\">,</span><span class=\"mi\">2</span><span class=\"p\">)</span> <span class=\"nf\">arc</span><span class=\"p\">(</span><span class=\"s2\">&quot;Z&quot;</span><span class=\"p\">,</span><span class=\"mi\">1</span><span class=\"p\">,</span><span class=\"s2\">&quot;e&quot;</span><span class=\"p\">,</span><span class=\"mi\">3</span><span class=\"p\">)</span> <span class=\"nf\">arc</span><span class=\"p\">(</span><span class=\"s2\">&quot;X&quot;</span><span class=\"p\">,</span><span class=\"mi\">2</span><span class=\"p\">,</span><span class=\"s2\">&quot;e&quot;</span><span class=\"p\">,</span><span class=\"mi\">3</span><span class=\"p\">)</span> <span class=\"nf\">newArc</span><span class=\"p\">(</span><span class=\"s2\">&quot;X&quot;</span><span class=\"p\">,</span><span class=\"mi\">1</span><span class=\"p\">,</span><span class=\"s2\">&quot;e&quot;</span><span class=\"p\">,</span><span class=\"mi\">1</span><span class=\"p\">)</span> <span class=\"nf\">newArc</span><span class=\"p\">(</span><span class=\"s2\">&quot;X&quot;</span><span class=\"p\">,</span><span class=\"mi\">2</span><span class=\"p\">,</span><span class=\"s2\">&quot;e&quot;</span><span class=\"p\">,</span><span class=\"mi\">3</span><span class=\"p\">)</span> <span class=\"nf\">eqOrd</span><span class=\"p\">(</span><span class=\"s2\">&quot;Y&quot;</span><span class=\"p\">,</span><span class=\"s2\">&quot;Z&quot;</span><span class=\"p\">,</span><span class=\"s s-Atom\">node</span><span class=\"p\">)</span> <span class=\"nf\">newArc</span><span class=\"p\">(</span><span class=\"s2\">&quot;Y&quot;</span><span class=\"p\">,</span><span class=\"mi\">2</span><span class=\"p\">,</span><span class=\"s2\">&quot;e&quot;</span><span class=\"p\">,</span><span class=\"mi\">2</span><span class=\"p\">)</span> <span class=\"nf\">newArc</span><span class=\"p\">(</span><span class=\"s2\">&quot;Y&quot;</span><span class=\"p\">,</span><span class=\"mi\">1</span><span class=\"p\">,</span><span class=\"s2\">&quot;e&quot;</span><span class=\"p\">,</span><span class=\"mi\">3</span><span class=\"p\">)</span> <span class=\"nf\">newArc</span><span class=\"p\">(</span><span class=\"s2\">&quot;Y&quot;</span><span class=\"p\">,</span><span class=\"mi\">2</span><span class=\"p\">,</span><span class=\"s2\">&quot;e&quot;</span><span class=\"p\">,</span><span class=\"mi\">1</span><span class=\"p\">)</span> <span class=\"nf\">newArc</span><span class=\"p\">(</span><span class=\"s2\">&quot;Y&quot;</span><span class=\"p\">,</span><span class=\"mi\">1</span><span class=\"p\">,</span><span class=\"s2\">&quot;e&quot;</span><span class=\"p\">,</span><span class=\"mi\">2</span><span class=\"p\">)</span> <span class=\"nf\">ruleOccTrue</span><span class=\"p\">(</span><span class=\"s2\">&quot;e&quot;</span><span class=\"p\">,</span><span class=\"mi\">3</span><span class=\"p\">)</span> <span class=\"nf\">ne</span><span class=\"p\">(</span><span class=\"mi\">2</span><span class=\"p\">,</span><span class=\"s2\">&quot;Y&quot;</span><span class=\"p\">,</span><span class=\"s2\">&quot;Y&quot;</span><span class=\"p\">)</span> <span class=\"nf\">ne</span><span class=\"p\">(</span><span class=\"mi\">1</span><span class=\"p\">,</span><span class=\"s2\">&quot;X&quot;</span><span class=\"p\">,</span><span class=\"s2\">&quot;Y&quot;</span><span class=\"p\">)</span> <span class=\"nf\">ne</span><span class=\"p\">(</span><span class=\"s2\">&quot;X&quot;</span><span class=\"p\">,</span><span class=\"s2\">&quot;Y&quot;</span><span class=\"p\">)</span> <span class=\"nf\">ne</span><span class=\"p\">(</span><span class=\"s2\">&quot;Y&quot;</span><span class=\"p\">,</span><span class=\"s2\">&quot;Y&quot;</span><span class=\"p\">)</span> <span class=\"nf\">e</span><span class=\"p\">(</span><span class=\"mi\">3</span><span class=\"p\">,</span><span class=\"s2\">&quot;Y&quot;</span><span class=\"p\">,</span><span class=\"s2\">&quot;X&quot;</span><span class=\"p\">)</span> <span class=\"nf\">e</span><span class=\"p\">(</span><span class=\"s2\">&quot;Y&quot;</span><span class=\"p\">,</span><span class=\"s2\">&quot;X&quot;</span><span class=\"p\">)</span> <span class=\"nf\">newVar</span><span class=\"p\">(</span><span class=\"s2\">&quot;Y&quot;</span><span class=\"p\">,</span><span class=\"s s-Atom\">node</span><span class=\"p\">)</span> <span class=\"nf\">neqOrd</span><span class=\"p\">(</span><span class=\"s2\">&quot;X&quot;</span><span class=\"p\">,</span><span class=\"s2\">&quot;Y&quot;</span><span class=\"p\">,</span><span class=\"s s-Atom\">node</span><span class=\"p\">)</span> <span class=\"nf\">eqOrdMinimal</span><span class=\"p\">(</span><span class=\"s2\">&quot;Y&quot;</span><span class=\"p\">,</span><span class=\"s2\">&quot;Z&quot;</span><span class=\"p\">,</span><span class=\"s s-Atom\">node</span><span class=\"p\">)</span>\n",
       "<span class=\"lineno\">15 </span><span class=\"nv\">Answer</span><span class=\"s s-Atom\">:</span> <span class=\"mi\">8</span>\n",
       "<span class=\"lineno\">16 </span><span class=\"nf\">ruleH</span><span class=\"p\">(</span><span class=\"s2\">&quot;tri&quot;</span><span class=\"p\">)</span> <span class=\"nf\">newVar</span><span class=\"p\">(</span><span class=\"s2\">&quot;X&quot;</span><span class=\"p\">,</span><span class=\"s s-Atom\">node</span><span class=\"p\">)</span> <span class=\"nf\">ruleOcc</span><span class=\"p\">(</span><span class=\"s2\">&quot;e&quot;</span><span class=\"p\">,</span><span class=\"mi\">1</span><span class=\"p\">)</span> <span class=\"nf\">ruleOcc</span><span class=\"p\">(</span><span class=\"s2\">&quot;e&quot;</span><span class=\"p\">,</span><span class=\"mi\">2</span><span class=\"p\">)</span> <span class=\"nf\">ruleOcc</span><span class=\"p\">(</span><span class=\"s2\">&quot;e&quot;</span><span class=\"p\">,</span><span class=\"mi\">3</span><span class=\"p\">)</span> <span class=\"nf\">var</span><span class=\"p\">(</span><span class=\"s2\">&quot;X&quot;</span><span class=\"p\">,</span><span class=\"s s-Atom\">node</span><span class=\"p\">)</span> <span class=\"nf\">var</span><span class=\"p\">(</span><span class=\"s2\">&quot;Y&quot;</span><span class=\"p\">,</span><span class=\"s s-Atom\">node</span><span class=\"p\">)</span> <span class=\"nf\">var</span><span class=\"p\">(</span><span class=\"s2\">&quot;Z&quot;</span><span class=\"p\">,</span><span class=\"s s-Atom\">node</span><span class=\"p\">)</span> <span class=\"nf\">hArc</span><span class=\"p\">(</span><span class=\"s2\">&quot;X&quot;</span><span class=\"p\">,</span><span class=\"mi\">1</span><span class=\"p\">,</span><span class=\"s2\">&quot;tri&quot;</span><span class=\"p\">)</span> <span class=\"nf\">newHArc</span><span class=\"p\">(</span><span class=\"s2\">&quot;X&quot;</span><span class=\"p\">,</span><span class=\"mi\">1</span><span class=\"p\">,</span><span class=\"s2\">&quot;tri&quot;</span><span class=\"p\">)</span> <span class=\"nf\">arc</span><span class=\"p\">(</span><span class=\"s2\">&quot;X&quot;</span><span class=\"p\">,</span><span class=\"mi\">1</span><span class=\"p\">,</span><span class=\"s2\">&quot;e&quot;</span><span class=\"p\">,</span><span class=\"mi\">1</span><span class=\"p\">)</span> <span class=\"nf\">arc</span><span class=\"p\">(</span><span class=\"s2\">&quot;Y&quot;</span><span class=\"p\">,</span><span class=\"mi\">2</span><span class=\"p\">,</span><span class=\"s2\">&quot;e&quot;</span><span class=\"p\">,</span><span class=\"mi\">1</span><span class=\"p\">)</span> <span class=\"nf\">arc</span><span class=\"p\">(</span><span class=\"s2\">&quot;Y&quot;</span><span class=\"p\">,</span><span class=\"mi\">1</span><span class=\"p\">,</span><span class=\"s2\">&quot;e&quot;</span><span class=\"p\">,</span><span class=\"mi\">2</span><span class=\"p\">)</span> <span class=\"nf\">arc</span><span class=\"p\">(</span><span class=\"s2\">&quot;Z&quot;</span><span class=\"p\">,</span><span class=\"mi\">2</span><span class=\"p\">,</span><span class=\"s2\">&quot;e&quot;</span><span class=\"p\">,</span><span class=\"mi\">2</span><span class=\"p\">)</span> <span class=\"nf\">arc</span><span class=\"p\">(</span><span class=\"s2\">&quot;Z&quot;</span><span class=\"p\">,</span><span class=\"mi\">1</span><span class=\"p\">,</span><span class=\"s2\">&quot;e&quot;</span><span class=\"p\">,</span><span class=\"mi\">3</span><span class=\"p\">)</span> <span class=\"nf\">arc</span><span class=\"p\">(</span><span class=\"s2\">&quot;X&quot;</span><span class=\"p\">,</span><span class=\"mi\">2</span><span class=\"p\">,</span><span class=\"s2\">&quot;e&quot;</span><span class=\"p\">,</span><span class=\"mi\">3</span><span class=\"p\">)</span> <span class=\"nf\">newArc</span><span class=\"p\">(</span><span class=\"s2\">&quot;X&quot;</span><span class=\"p\">,</span><span class=\"mi\">1</span><span class=\"p\">,</span><span class=\"s2\">&quot;e&quot;</span><span class=\"p\">,</span><span class=\"mi\">1</span><span class=\"p\">)</span> <span class=\"nf\">newArc</span><span class=\"p\">(</span><span class=\"s2\">&quot;X&quot;</span><span class=\"p\">,</span><span class=\"mi\">2</span><span class=\"p\">,</span><span class=\"s2\">&quot;e&quot;</span><span class=\"p\">,</span><span class=\"mi\">3</span><span class=\"p\">)</span> <span class=\"nf\">eqOrd</span><span class=\"p\">(</span><span class=\"s2\">&quot;Y&quot;</span><span class=\"p\">,</span><span class=\"s2\">&quot;Z&quot;</span><span class=\"p\">,</span><span class=\"s s-Atom\">node</span><span class=\"p\">)</span> <span class=\"nf\">newArc</span><span class=\"p\">(</span><span class=\"s2\">&quot;Y&quot;</span><span class=\"p\">,</span><span class=\"mi\">2</span><span class=\"p\">,</span><span class=\"s2\">&quot;e&quot;</span><span class=\"p\">,</span><span class=\"mi\">2</span><span class=\"p\">)</span> <span class=\"nf\">newArc</span><span class=\"p\">(</span><span class=\"s2\">&quot;Y&quot;</span><span class=\"p\">,</span><span class=\"mi\">1</span><span class=\"p\">,</span><span class=\"s2\">&quot;e&quot;</span><span class=\"p\">,</span><span class=\"mi\">3</span><span class=\"p\">)</span> <span class=\"nf\">newArc</span><span class=\"p\">(</span><span class=\"s2\">&quot;Y&quot;</span><span class=\"p\">,</span><span class=\"mi\">2</span><span class=\"p\">,</span><span class=\"s2\">&quot;e&quot;</span><span class=\"p\">,</span><span class=\"mi\">1</span><span class=\"p\">)</span> <span class=\"nf\">newArc</span><span class=\"p\">(</span><span class=\"s2\">&quot;Y&quot;</span><span class=\"p\">,</span><span class=\"mi\">1</span><span class=\"p\">,</span><span class=\"s2\">&quot;e&quot;</span><span class=\"p\">,</span><span class=\"mi\">2</span><span class=\"p\">)</span> <span class=\"nf\">ruleOccTrue</span><span class=\"p\">(</span><span class=\"s2\">&quot;e&quot;</span><span class=\"p\">,</span><span class=\"mi\">1</span><span class=\"p\">)</span> <span class=\"nf\">ruleOccTrue</span><span class=\"p\">(</span><span class=\"s2\">&quot;e&quot;</span><span class=\"p\">,</span><span class=\"mi\">3</span><span class=\"p\">)</span> <span class=\"nf\">ne</span><span class=\"p\">(</span><span class=\"mi\">2</span><span class=\"p\">,</span><span class=\"s2\">&quot;Y&quot;</span><span class=\"p\">,</span><span class=\"s2\">&quot;Y&quot;</span><span class=\"p\">)</span> <span class=\"nf\">ne</span><span class=\"p\">(</span><span class=\"s2\">&quot;Y&quot;</span><span class=\"p\">,</span><span class=\"s2\">&quot;Y&quot;</span><span class=\"p\">)</span> <span class=\"nf\">e</span><span class=\"p\">(</span><span class=\"mi\">1</span><span class=\"p\">,</span><span class=\"s2\">&quot;X&quot;</span><span class=\"p\">,</span><span class=\"s2\">&quot;Y&quot;</span><span class=\"p\">)</span> <span class=\"nf\">e</span><span class=\"p\">(</span><span class=\"mi\">3</span><span class=\"p\">,</span><span class=\"s2\">&quot;Y&quot;</span><span class=\"p\">,</span><span class=\"s2\">&quot;X&quot;</span><span class=\"p\">)</span> <span class=\"nf\">e</span><span class=\"p\">(</span><span class=\"s2\">&quot;X&quot;</span><span class=\"p\">,</span><span class=\"s2\">&quot;Y&quot;</span><span class=\"p\">)</span> <span class=\"nf\">e</span><span class=\"p\">(</span><span class=\"s2\">&quot;Y&quot;</span><span class=\"p\">,</span><span class=\"s2\">&quot;X&quot;</span><span class=\"p\">)</span> <span class=\"nf\">newVar</span><span class=\"p\">(</span><span class=\"s2\">&quot;Y&quot;</span><span class=\"p\">,</span><span class=\"s s-Atom\">node</span><span class=\"p\">)</span> <span class=\"nf\">neqOrd</span><span class=\"p\">(</span><span class=\"s2\">&quot;X&quot;</span><span class=\"p\">,</span><span class=\"s2\">&quot;Y&quot;</span><span class=\"p\">,</span><span class=\"s s-Atom\">node</span><span class=\"p\">)</span> <span class=\"nf\">eqOrdMinimal</span><span class=\"p\">(</span><span class=\"s2\">&quot;Y&quot;</span><span class=\"p\">,</span><span class=\"s2\">&quot;Z&quot;</span><span class=\"p\">,</span><span class=\"s s-Atom\">node</span><span class=\"p\">)</span>\n",
       "<span class=\"lineno\">17 </span><span class=\"nv\">Answer</span><span class=\"s s-Atom\">:</span> <span class=\"mi\">9</span>\n",
       "<span class=\"lineno\">18 </span><span class=\"nf\">ruleH</span><span class=\"p\">(</span><span class=\"s2\">&quot;tri&quot;</span><span class=\"p\">)</span> <span class=\"nf\">newVar</span><span class=\"p\">(</span><span class=\"s2\">&quot;X&quot;</span><span class=\"p\">,</span><span class=\"s s-Atom\">node</span><span class=\"p\">)</span> <span class=\"nf\">ruleOcc</span><span class=\"p\">(</span><span class=\"s2\">&quot;e&quot;</span><span class=\"p\">,</span><span class=\"mi\">1</span><span class=\"p\">)</span> <span class=\"nf\">ruleOcc</span><span class=\"p\">(</span><span class=\"s2\">&quot;e&quot;</span><span class=\"p\">,</span><span class=\"mi\">2</span><span class=\"p\">)</span> <span class=\"nf\">ruleOcc</span><span class=\"p\">(</span><span class=\"s2\">&quot;e&quot;</span><span class=\"p\">,</span><span class=\"mi\">3</span><span class=\"p\">)</span> <span class=\"nf\">var</span><span class=\"p\">(</span><span class=\"s2\">&quot;X&quot;</span><span class=\"p\">,</span><span class=\"s s-Atom\">node</span><span class=\"p\">)</span> <span class=\"nf\">var</span><span class=\"p\">(</span><span class=\"s2\">&quot;Y&quot;</span><span class=\"p\">,</span><span class=\"s s-Atom\">node</span><span class=\"p\">)</span> <span class=\"nf\">var</span><span class=\"p\">(</span><span class=\"s2\">&quot;Z&quot;</span><span class=\"p\">,</span><span class=\"s s-Atom\">node</span><span class=\"p\">)</span> <span class=\"nf\">hArc</span><span class=\"p\">(</span><span class=\"s2\">&quot;X&quot;</span><span class=\"p\">,</span><span class=\"mi\">1</span><span class=\"p\">,</span><span class=\"s2\">&quot;tri&quot;</span><span class=\"p\">)</span> <span class=\"nf\">newHArc</span><span class=\"p\">(</span><span class=\"s2\">&quot;X&quot;</span><span class=\"p\">,</span><span class=\"mi\">1</span><span class=\"p\">,</span><span class=\"s2\">&quot;tri&quot;</span><span class=\"p\">)</span> <span class=\"nf\">arc</span><span class=\"p\">(</span><span class=\"s2\">&quot;X&quot;</span><span class=\"p\">,</span><span class=\"mi\">1</span><span class=\"p\">,</span><span class=\"s2\">&quot;e&quot;</span><span class=\"p\">,</span><span class=\"mi\">1</span><span class=\"p\">)</span> <span class=\"nf\">arc</span><span class=\"p\">(</span><span class=\"s2\">&quot;Y&quot;</span><span class=\"p\">,</span><span class=\"mi\">2</span><span class=\"p\">,</span><span class=\"s2\">&quot;e&quot;</span><span class=\"p\">,</span><span class=\"mi\">1</span><span class=\"p\">)</span> <span class=\"nf\">arc</span><span class=\"p\">(</span><span class=\"s2\">&quot;Y&quot;</span><span class=\"p\">,</span><span class=\"mi\">1</span><span class=\"p\">,</span><span class=\"s2\">&quot;e&quot;</span><span class=\"p\">,</span><span class=\"mi\">2</span><span class=\"p\">)</span> <span class=\"nf\">arc</span><span class=\"p\">(</span><span class=\"s2\">&quot;Z&quot;</span><span class=\"p\">,</span><span class=\"mi\">2</span><span class=\"p\">,</span><span class=\"s2\">&quot;e&quot;</span><span class=\"p\">,</span><span class=\"mi\">2</span><span class=\"p\">)</span> <span class=\"nf\">arc</span><span class=\"p\">(</span><span class=\"s2\">&quot;Z&quot;</span><span class=\"p\">,</span><span class=\"mi\">1</span><span class=\"p\">,</span><span class=\"s2\">&quot;e&quot;</span><span class=\"p\">,</span><span class=\"mi\">3</span><span class=\"p\">)</span> <span class=\"nf\">arc</span><span class=\"p\">(</span><span class=\"s2\">&quot;X&quot;</span><span class=\"p\">,</span><span class=\"mi\">2</span><span class=\"p\">,</span><span class=\"s2\">&quot;e&quot;</span><span class=\"p\">,</span><span class=\"mi\">3</span><span class=\"p\">)</span> <span class=\"nf\">newArc</span><span class=\"p\">(</span><span class=\"s2\">&quot;X&quot;</span><span class=\"p\">,</span><span class=\"mi\">1</span><span class=\"p\">,</span><span class=\"s2\">&quot;e&quot;</span><span class=\"p\">,</span><span class=\"mi\">1</span><span class=\"p\">)</span> <span class=\"nf\">newArc</span><span class=\"p\">(</span><span class=\"s2\">&quot;X&quot;</span><span class=\"p\">,</span><span class=\"mi\">2</span><span class=\"p\">,</span><span class=\"s2\">&quot;e&quot;</span><span class=\"p\">,</span><span class=\"mi\">3</span><span class=\"p\">)</span> <span class=\"nf\">eqOrd</span><span class=\"p\">(</span><span class=\"s2\">&quot;X&quot;</span><span class=\"p\">,</span><span class=\"s2\">&quot;Z&quot;</span><span class=\"p\">,</span><span class=\"s s-Atom\">node</span><span class=\"p\">)</span> <span class=\"nf\">newArc</span><span class=\"p\">(</span><span class=\"s2\">&quot;X&quot;</span><span class=\"p\">,</span><span class=\"mi\">2</span><span class=\"p\">,</span><span class=\"s2\">&quot;e&quot;</span><span class=\"p\">,</span><span class=\"mi\">2</span><span class=\"p\">)</span> <span class=\"nf\">newArc</span><span class=\"p\">(</span><span class=\"s2\">&quot;X&quot;</span><span class=\"p\">,</span><span class=\"mi\">1</span><span class=\"p\">,</span><span class=\"s2\">&quot;e&quot;</span><span class=\"p\">,</span><span class=\"mi\">3</span><span class=\"p\">)</span> <span class=\"nf\">newArc</span><span class=\"p\">(</span><span class=\"s2\">&quot;Y&quot;</span><span class=\"p\">,</span><span class=\"mi\">2</span><span class=\"p\">,</span><span class=\"s2\">&quot;e&quot;</span><span class=\"p\">,</span><span class=\"mi\">1</span><span class=\"p\">)</span> <span class=\"nf\">newArc</span><span class=\"p\">(</span><span class=\"s2\">&quot;Y&quot;</span><span class=\"p\">,</span><span class=\"mi\">1</span><span class=\"p\">,</span><span class=\"s2\">&quot;e&quot;</span><span class=\"p\">,</span><span class=\"mi\">2</span><span class=\"p\">)</span> <span class=\"nf\">ne</span><span class=\"p\">(</span><span class=\"mi\">2</span><span class=\"p\">,</span><span class=\"s2\">&quot;Y&quot;</span><span class=\"p\">,</span><span class=\"s2\">&quot;X&quot;</span><span class=\"p\">)</span> <span class=\"nf\">ne</span><span class=\"p\">(</span><span class=\"mi\">1</span><span class=\"p\">,</span><span class=\"s2\">&quot;X&quot;</span><span class=\"p\">,</span><span class=\"s2\">&quot;Y&quot;</span><span class=\"p\">)</span> <span class=\"nf\">ne</span><span class=\"p\">(</span><span class=\"mi\">3</span><span class=\"p\">,</span><span class=\"s2\">&quot;X&quot;</span><span class=\"p\">,</span><span class=\"s2\">&quot;X&quot;</span><span class=\"p\">)</span> <span class=\"nf\">ne</span><span class=\"p\">(</span><span class=\"s2\">&quot;X&quot;</span><span class=\"p\">,</span><span class=\"s2\">&quot;X&quot;</span><span class=\"p\">)</span> <span class=\"nf\">ne</span><span class=\"p\">(</span><span class=\"s2\">&quot;Y&quot;</span><span class=\"p\">,</span><span class=\"s2\">&quot;X&quot;</span><span class=\"p\">)</span> <span class=\"nf\">ne</span><span class=\"p\">(</span><span class=\"s2\">&quot;X&quot;</span><span class=\"p\">,</span><span class=\"s2\">&quot;Y&quot;</span><span class=\"p\">)</span> <span class=\"nf\">newVar</span><span class=\"p\">(</span><span class=\"s2\">&quot;Y&quot;</span><span class=\"p\">,</span><span class=\"s s-Atom\">node</span><span class=\"p\">)</span> <span class=\"nf\">neqOrd</span><span class=\"p\">(</span><span class=\"s2\">&quot;X&quot;</span><span class=\"p\">,</span><span class=\"s2\">&quot;Y&quot;</span><span class=\"p\">,</span><span class=\"s s-Atom\">node</span><span class=\"p\">)</span> <span class=\"nf\">eqOrdMinimal</span><span class=\"p\">(</span><span class=\"s2\">&quot;X&quot;</span><span class=\"p\">,</span><span class=\"s2\">&quot;Z&quot;</span><span class=\"p\">,</span><span class=\"s s-Atom\">node</span><span class=\"p\">)</span>\n",
       "<span class=\"lineno\">19 </span><span class=\"nv\">Answer</span><span class=\"s s-Atom\">:</span> <span class=\"mi\">10</span>\n",
       "<span class=\"lineno\">20 </span><span class=\"nf\">ruleH</span><span class=\"p\">(</span><span class=\"s2\">&quot;tri&quot;</span><span class=\"p\">)</span> <span class=\"nf\">newVar</span><span class=\"p\">(</span><span class=\"s2\">&quot;X&quot;</span><span class=\"p\">,</span><span class=\"s s-Atom\">node</span><span class=\"p\">)</span> <span class=\"nf\">ruleOcc</span><span class=\"p\">(</span><span class=\"s2\">&quot;e&quot;</span><span class=\"p\">,</span><span class=\"mi\">1</span><span class=\"p\">)</span> <span class=\"nf\">ruleOcc</span><span class=\"p\">(</span><span class=\"s2\">&quot;e&quot;</span><span class=\"p\">,</span><span class=\"mi\">2</span><span class=\"p\">)</span> <span class=\"nf\">ruleOcc</span><span class=\"p\">(</span><span class=\"s2\">&quot;e&quot;</span><span class=\"p\">,</span><span class=\"mi\">3</span><span class=\"p\">)</span> <span class=\"nf\">var</span><span class=\"p\">(</span><span class=\"s2\">&quot;X&quot;</span><span class=\"p\">,</span><span class=\"s s-Atom\">node</span><span class=\"p\">)</span> <span class=\"nf\">var</span><span class=\"p\">(</span><span class=\"s2\">&quot;Y&quot;</span><span class=\"p\">,</span><span class=\"s s-Atom\">node</span><span class=\"p\">)</span> <span class=\"nf\">var</span><span class=\"p\">(</span><span class=\"s2\">&quot;Z&quot;</span><span class=\"p\">,</span><span class=\"s s-Atom\">node</span><span class=\"p\">)</span> <span class=\"nf\">hArc</span><span class=\"p\">(</span><span class=\"s2\">&quot;X&quot;</span><span class=\"p\">,</span><span class=\"mi\">1</span><span class=\"p\">,</span><span class=\"s2\">&quot;tri&quot;</span><span class=\"p\">)</span> <span class=\"nf\">newHArc</span><span class=\"p\">(</span><span class=\"s2\">&quot;X&quot;</span><span class=\"p\">,</span><span class=\"mi\">1</span><span class=\"p\">,</span><span class=\"s2\">&quot;tri&quot;</span><span class=\"p\">)</span> <span class=\"nf\">arc</span><span class=\"p\">(</span><span class=\"s2\">&quot;X&quot;</span><span class=\"p\">,</span><span class=\"mi\">1</span><span class=\"p\">,</span><span class=\"s2\">&quot;e&quot;</span><span class=\"p\">,</span><span class=\"mi\">1</span><span class=\"p\">)</span> <span class=\"nf\">arc</span><span class=\"p\">(</span><span class=\"s2\">&quot;Y&quot;</span><span class=\"p\">,</span><span class=\"mi\">2</span><span class=\"p\">,</span><span class=\"s2\">&quot;e&quot;</span><span class=\"p\">,</span><span class=\"mi\">1</span><span class=\"p\">)</span> <span class=\"nf\">arc</span><span class=\"p\">(</span><span class=\"s2\">&quot;Y&quot;</span><span class=\"p\">,</span><span class=\"mi\">1</span><span class=\"p\">,</span><span class=\"s2\">&quot;e&quot;</span><span class=\"p\">,</span><span class=\"mi\">2</span><span class=\"p\">)</span> <span class=\"nf\">arc</span><span class=\"p\">(</span><span class=\"s2\">&quot;Z&quot;</span><span class=\"p\">,</span><span class=\"mi\">2</span><span class=\"p\">,</span><span class=\"s2\">&quot;e&quot;</span><span class=\"p\">,</span><span class=\"mi\">2</span><span class=\"p\">)</span> <span class=\"nf\">arc</span><span class=\"p\">(</span><span class=\"s2\">&quot;Z&quot;</span><span class=\"p\">,</span><span class=\"mi\">1</span><span class=\"p\">,</span><span class=\"s2\">&quot;e&quot;</span><span class=\"p\">,</span><span class=\"mi\">3</span><span class=\"p\">)</span> <span class=\"nf\">arc</span><span class=\"p\">(</span><span class=\"s2\">&quot;X&quot;</span><span class=\"p\">,</span><span class=\"mi\">2</span><span class=\"p\">,</span><span class=\"s2\">&quot;e&quot;</span><span class=\"p\">,</span><span class=\"mi\">3</span><span class=\"p\">)</span> <span class=\"nf\">newArc</span><span class=\"p\">(</span><span class=\"s2\">&quot;X&quot;</span><span class=\"p\">,</span><span class=\"mi\">1</span><span class=\"p\">,</span><span class=\"s2\">&quot;e&quot;</span><span class=\"p\">,</span><span class=\"mi\">1</span><span class=\"p\">)</span> <span class=\"nf\">newArc</span><span class=\"p\">(</span><span class=\"s2\">&quot;X&quot;</span><span class=\"p\">,</span><span class=\"mi\">2</span><span class=\"p\">,</span><span class=\"s2\">&quot;e&quot;</span><span class=\"p\">,</span><span class=\"mi\">3</span><span class=\"p\">)</span> <span class=\"nf\">eqOrd</span><span class=\"p\">(</span><span class=\"s2\">&quot;X&quot;</span><span class=\"p\">,</span><span class=\"s2\">&quot;Z&quot;</span><span class=\"p\">,</span><span class=\"s s-Atom\">node</span><span class=\"p\">)</span> <span class=\"nf\">newArc</span><span class=\"p\">(</span><span class=\"s2\">&quot;X&quot;</span><span class=\"p\">,</span><span class=\"mi\">2</span><span class=\"p\">,</span><span class=\"s2\">&quot;e&quot;</span><span class=\"p\">,</span><span class=\"mi\">2</span><span class=\"p\">)</span> <span class=\"nf\">newArc</span><span class=\"p\">(</span><span class=\"s2\">&quot;X&quot;</span><span class=\"p\">,</span><span class=\"mi\">1</span><span class=\"p\">,</span><span class=\"s2\">&quot;e&quot;</span><span class=\"p\">,</span><span class=\"mi\">3</span><span class=\"p\">)</span> <span class=\"nf\">newArc</span><span class=\"p\">(</span><span class=\"s2\">&quot;Y&quot;</span><span class=\"p\">,</span><span class=\"mi\">2</span><span class=\"p\">,</span><span class=\"s2\">&quot;e&quot;</span><span class=\"p\">,</span><span class=\"mi\">1</span><span class=\"p\">)</span> <span class=\"nf\">newArc</span><span class=\"p\">(</span><span class=\"s2\">&quot;Y&quot;</span><span class=\"p\">,</span><span class=\"mi\">1</span><span class=\"p\">,</span><span class=\"s2\">&quot;e&quot;</span><span class=\"p\">,</span><span class=\"mi\">2</span><span class=\"p\">)</span> <span class=\"nf\">ruleOccTrue</span><span class=\"p\">(</span><span class=\"s2\">&quot;e&quot;</span><span class=\"p\">,</span><span class=\"mi\">1</span><span class=\"p\">)</span> <span class=\"nf\">ne</span><span class=\"p\">(</span><span class=\"mi\">2</span><span class=\"p\">,</span><span class=\"s2\">&quot;Y&quot;</span><span class=\"p\">,</span><span class=\"s2\">&quot;X&quot;</span><span class=\"p\">)</span> <span class=\"nf\">ne</span><span class=\"p\">(</span><span class=\"mi\">3</span><span class=\"p\">,</span><span class=\"s2\">&quot;X&quot;</span><span class=\"p\">,</span><span class=\"s2\">&quot;X&quot;</span><span class=\"p\">)</span> <span class=\"nf\">ne</span><span class=\"p\">(</span><span class=\"s2\">&quot;X&quot;</span><span class=\"p\">,</span><span class=\"s2\">&quot;X&quot;</span><span class=\"p\">)</span> <span class=\"nf\">ne</span><span class=\"p\">(</span><span class=\"s2\">&quot;Y&quot;</span><span class=\"p\">,</span><span class=\"s2\">&quot;X&quot;</span><span class=\"p\">)</span> <span class=\"nf\">e</span><span class=\"p\">(</span><span class=\"mi\">1</span><span class=\"p\">,</span><span class=\"s2\">&quot;X&quot;</span><span class=\"p\">,</span><span class=\"s2\">&quot;Y&quot;</span><span class=\"p\">)</span> <span class=\"nf\">e</span><span class=\"p\">(</span><span class=\"s2\">&quot;X&quot;</span><span class=\"p\">,</span><span class=\"s2\">&quot;Y&quot;</span><span class=\"p\">)</span> <span class=\"nf\">newVar</span><span class=\"p\">(</span><span class=\"s2\">&quot;Y&quot;</span><span class=\"p\">,</span><span class=\"s s-Atom\">node</span><span class=\"p\">)</span> <span class=\"nf\">neqOrd</span><span class=\"p\">(</span><span class=\"s2\">&quot;X&quot;</span><span class=\"p\">,</span><span class=\"s2\">&quot;Y&quot;</span><span class=\"p\">,</span><span class=\"s s-Atom\">node</span><span class=\"p\">)</span> <span class=\"nf\">eqOrdMinimal</span><span class=\"p\">(</span><span class=\"s2\">&quot;X&quot;</span><span class=\"p\">,</span><span class=\"s2\">&quot;Z&quot;</span><span class=\"p\">,</span><span class=\"s s-Atom\">node</span><span class=\"p\">)</span>\n",
       "<span class=\"lineno\">21 </span><span class=\"nv\">Answer</span><span class=\"s s-Atom\">:</span> <span class=\"mi\">11</span>\n",
       "<span class=\"lineno\">22 </span><span class=\"nf\">ruleH</span><span class=\"p\">(</span><span class=\"s2\">&quot;tri&quot;</span><span class=\"p\">)</span> <span class=\"nf\">newVar</span><span class=\"p\">(</span><span class=\"s2\">&quot;X&quot;</span><span class=\"p\">,</span><span class=\"s s-Atom\">node</span><span class=\"p\">)</span> <span class=\"nf\">ruleOcc</span><span class=\"p\">(</span><span class=\"s2\">&quot;e&quot;</span><span class=\"p\">,</span><span class=\"mi\">1</span><span class=\"p\">)</span> <span class=\"nf\">ruleOcc</span><span class=\"p\">(</span><span class=\"s2\">&quot;e&quot;</span><span class=\"p\">,</span><span class=\"mi\">2</span><span class=\"p\">)</span> <span class=\"nf\">ruleOcc</span><span class=\"p\">(</span><span class=\"s2\">&quot;e&quot;</span><span class=\"p\">,</span><span class=\"mi\">3</span><span class=\"p\">)</span> <span class=\"nf\">var</span><span class=\"p\">(</span><span class=\"s2\">&quot;X&quot;</span><span class=\"p\">,</span><span class=\"s s-Atom\">node</span><span class=\"p\">)</span> <span class=\"nf\">var</span><span class=\"p\">(</span><span class=\"s2\">&quot;Y&quot;</span><span class=\"p\">,</span><span class=\"s s-Atom\">node</span><span class=\"p\">)</span> <span class=\"nf\">var</span><span class=\"p\">(</span><span class=\"s2\">&quot;Z&quot;</span><span class=\"p\">,</span><span class=\"s s-Atom\">node</span><span class=\"p\">)</span> <span class=\"nf\">hArc</span><span class=\"p\">(</span><span class=\"s2\">&quot;X&quot;</span><span class=\"p\">,</span><span class=\"mi\">1</span><span class=\"p\">,</span><span class=\"s2\">&quot;tri&quot;</span><span class=\"p\">)</span> <span class=\"nf\">newHArc</span><span class=\"p\">(</span><span class=\"s2\">&quot;X&quot;</span><span class=\"p\">,</span><span class=\"mi\">1</span><span class=\"p\">,</span><span class=\"s2\">&quot;tri&quot;</span><span class=\"p\">)</span> <span class=\"nf\">arc</span><span class=\"p\">(</span><span class=\"s2\">&quot;X&quot;</span><span class=\"p\">,</span><span class=\"mi\">1</span><span class=\"p\">,</span><span class=\"s2\">&quot;e&quot;</span><span class=\"p\">,</span><span class=\"mi\">1</span><span class=\"p\">)</span> <span class=\"nf\">arc</span><span class=\"p\">(</span><span class=\"s2\">&quot;Y&quot;</span><span class=\"p\">,</span><span class=\"mi\">2</span><span class=\"p\">,</span><span class=\"s2\">&quot;e&quot;</span><span class=\"p\">,</span><span class=\"mi\">1</span><span class=\"p\">)</span> <span class=\"nf\">arc</span><span class=\"p\">(</span><span class=\"s2\">&quot;Y&quot;</span><span class=\"p\">,</span><span class=\"mi\">1</span><span class=\"p\">,</span><span class=\"s2\">&quot;e&quot;</span><span class=\"p\">,</span><span class=\"mi\">2</span><span class=\"p\">)</span> <span class=\"nf\">arc</span><span class=\"p\">(</span><span class=\"s2\">&quot;Z&quot;</span><span class=\"p\">,</span><span class=\"mi\">2</span><span class=\"p\">,</span><span class=\"s2\">&quot;e&quot;</span><span class=\"p\">,</span><span class=\"mi\">2</span><span class=\"p\">)</span> <span class=\"nf\">arc</span><span class=\"p\">(</span><span class=\"s2\">&quot;Z&quot;</span><span class=\"p\">,</span><span class=\"mi\">1</span><span class=\"p\">,</span><span class=\"s2\">&quot;e&quot;</span><span class=\"p\">,</span><span class=\"mi\">3</span><span class=\"p\">)</span> <span class=\"nf\">arc</span><span class=\"p\">(</span><span class=\"s2\">&quot;X&quot;</span><span class=\"p\">,</span><span class=\"mi\">2</span><span class=\"p\">,</span><span class=\"s2\">&quot;e&quot;</span><span class=\"p\">,</span><span class=\"mi\">3</span><span class=\"p\">)</span> <span class=\"nf\">newArc</span><span class=\"p\">(</span><span class=\"s2\">&quot;X&quot;</span><span class=\"p\">,</span><span class=\"mi\">1</span><span class=\"p\">,</span><span class=\"s2\">&quot;e&quot;</span><span class=\"p\">,</span><span class=\"mi\">1</span><span class=\"p\">)</span> <span class=\"nf\">newArc</span><span class=\"p\">(</span><span class=\"s2\">&quot;X&quot;</span><span class=\"p\">,</span><span class=\"mi\">2</span><span class=\"p\">,</span><span class=\"s2\">&quot;e&quot;</span><span class=\"p\">,</span><span class=\"mi\">3</span><span class=\"p\">)</span> <span class=\"nf\">eqOrd</span><span class=\"p\">(</span><span class=\"s2\">&quot;X&quot;</span><span class=\"p\">,</span><span class=\"s2\">&quot;Z&quot;</span><span class=\"p\">,</span><span class=\"s s-Atom\">node</span><span class=\"p\">)</span> <span class=\"nf\">newArc</span><span class=\"p\">(</span><span class=\"s2\">&quot;X&quot;</span><span class=\"p\">,</span><span class=\"mi\">2</span><span class=\"p\">,</span><span class=\"s2\">&quot;e&quot;</span><span class=\"p\">,</span><span class=\"mi\">2</span><span class=\"p\">)</span> <span class=\"nf\">newArc</span><span class=\"p\">(</span><span class=\"s2\">&quot;X&quot;</span><span class=\"p\">,</span><span class=\"mi\">1</span><span class=\"p\">,</span><span class=\"s2\">&quot;e&quot;</span><span class=\"p\">,</span><span class=\"mi\">3</span><span class=\"p\">)</span> <span class=\"nf\">newArc</span><span class=\"p\">(</span><span class=\"s2\">&quot;Y&quot;</span><span class=\"p\">,</span><span class=\"mi\">2</span><span class=\"p\">,</span><span class=\"s2\">&quot;e&quot;</span><span class=\"p\">,</span><span class=\"mi\">1</span><span class=\"p\">)</span> <span class=\"nf\">newArc</span><span class=\"p\">(</span><span class=\"s2\">&quot;Y&quot;</span><span class=\"p\">,</span><span class=\"mi\">1</span><span class=\"p\">,</span><span class=\"s2\">&quot;e&quot;</span><span class=\"p\">,</span><span class=\"mi\">2</span><span class=\"p\">)</span> <span class=\"nf\">ruleOccTrue</span><span class=\"p\">(</span><span class=\"s2\">&quot;e&quot;</span><span class=\"p\">,</span><span class=\"mi\">3</span><span class=\"p\">)</span> <span class=\"nf\">ne</span><span class=\"p\">(</span><span class=\"mi\">2</span><span class=\"p\">,</span><span class=\"s2\">&quot;Y&quot;</span><span class=\"p\">,</span><span class=\"s2\">&quot;X&quot;</span><span class=\"p\">)</span> <span class=\"nf\">ne</span><span class=\"p\">(</span><span class=\"mi\">1</span><span class=\"p\">,</span><span class=\"s2\">&quot;X&quot;</span><span class=\"p\">,</span><span class=\"s2\">&quot;Y&quot;</span><span class=\"p\">)</span> <span class=\"nf\">ne</span><span class=\"p\">(</span><span class=\"s2\">&quot;Y&quot;</span><span class=\"p\">,</span><span class=\"s2\">&quot;X&quot;</span><span class=\"p\">)</span> <span class=\"nf\">ne</span><span class=\"p\">(</span><span class=\"s2\">&quot;X&quot;</span><span class=\"p\">,</span><span class=\"s2\">&quot;Y&quot;</span><span class=\"p\">)</span> <span class=\"nf\">e</span><span class=\"p\">(</span><span class=\"mi\">3</span><span class=\"p\">,</span><span class=\"s2\">&quot;X&quot;</span><span class=\"p\">,</span><span class=\"s2\">&quot;X&quot;</span><span class=\"p\">)</span> <span class=\"nf\">e</span><span class=\"p\">(</span><span class=\"s2\">&quot;X&quot;</span><span class=\"p\">,</span><span class=\"s2\">&quot;X&quot;</span><span class=\"p\">)</span> <span class=\"nf\">newVar</span><span class=\"p\">(</span><span class=\"s2\">&quot;Y&quot;</span><span class=\"p\">,</span><span class=\"s s-Atom\">node</span><span class=\"p\">)</span> <span class=\"nf\">neqOrd</span><span class=\"p\">(</span><span class=\"s2\">&quot;X&quot;</span><span class=\"p\">,</span><span class=\"s2\">&quot;Y&quot;</span><span class=\"p\">,</span><span class=\"s s-Atom\">node</span><span class=\"p\">)</span> <span class=\"nf\">eqOrdMinimal</span><span class=\"p\">(</span><span class=\"s2\">&quot;X&quot;</span><span class=\"p\">,</span><span class=\"s2\">&quot;Z&quot;</span><span class=\"p\">,</span><span class=\"s s-Atom\">node</span><span class=\"p\">)</span>\n",
       "<span class=\"lineno\">23 </span><span class=\"nv\">Answer</span><span class=\"s s-Atom\">:</span> <span class=\"mi\">12</span>\n",
       "<span class=\"lineno\">24 </span><span class=\"nf\">ruleH</span><span class=\"p\">(</span><span class=\"s2\">&quot;tri&quot;</span><span class=\"p\">)</span> <span class=\"nf\">newVar</span><span class=\"p\">(</span><span class=\"s2\">&quot;X&quot;</span><span class=\"p\">,</span><span class=\"s s-Atom\">node</span><span class=\"p\">)</span> <span class=\"nf\">ruleOcc</span><span class=\"p\">(</span><span class=\"s2\">&quot;e&quot;</span><span class=\"p\">,</span><span class=\"mi\">1</span><span class=\"p\">)</span> <span class=\"nf\">ruleOcc</span><span class=\"p\">(</span><span class=\"s2\">&quot;e&quot;</span><span class=\"p\">,</span><span class=\"mi\">2</span><span class=\"p\">)</span> <span class=\"nf\">ruleOcc</span><span class=\"p\">(</span><span class=\"s2\">&quot;e&quot;</span><span class=\"p\">,</span><span class=\"mi\">3</span><span class=\"p\">)</span> <span class=\"nf\">var</span><span class=\"p\">(</span><span class=\"s2\">&quot;X&quot;</span><span class=\"p\">,</span><span class=\"s s-Atom\">node</span><span class=\"p\">)</span> <span class=\"nf\">var</span><span class=\"p\">(</span><span class=\"s2\">&quot;Y&quot;</span><span class=\"p\">,</span><span class=\"s s-Atom\">node</span><span class=\"p\">)</span> <span class=\"nf\">var</span><span class=\"p\">(</span><span class=\"s2\">&quot;Z&quot;</span><span class=\"p\">,</span><span class=\"s s-Atom\">node</span><span class=\"p\">)</span> <span class=\"nf\">hArc</span><span class=\"p\">(</span><span class=\"s2\">&quot;X&quot;</span><span class=\"p\">,</span><span class=\"mi\">1</span><span class=\"p\">,</span><span class=\"s2\">&quot;tri&quot;</span><span class=\"p\">)</span> <span class=\"nf\">newHArc</span><span class=\"p\">(</span><span class=\"s2\">&quot;X&quot;</span><span class=\"p\">,</span><span class=\"mi\">1</span><span class=\"p\">,</span><span class=\"s2\">&quot;tri&quot;</span><span class=\"p\">)</span> <span class=\"nf\">arc</span><span class=\"p\">(</span><span class=\"s2\">&quot;X&quot;</span><span class=\"p\">,</span><span class=\"mi\">1</span><span class=\"p\">,</span><span class=\"s2\">&quot;e&quot;</span><span class=\"p\">,</span><span class=\"mi\">1</span><span class=\"p\">)</span> <span class=\"nf\">arc</span><span class=\"p\">(</span><span class=\"s2\">&quot;Y&quot;</span><span class=\"p\">,</span><span class=\"mi\">2</span><span class=\"p\">,</span><span class=\"s2\">&quot;e&quot;</span><span class=\"p\">,</span><span class=\"mi\">1</span><span class=\"p\">)</span> <span class=\"nf\">arc</span><span class=\"p\">(</span><span class=\"s2\">&quot;Y&quot;</span><span class=\"p\">,</span><span class=\"mi\">1</span><span class=\"p\">,</span><span class=\"s2\">&quot;e&quot;</span><span class=\"p\">,</span><span class=\"mi\">2</span><span class=\"p\">)</span> <span class=\"nf\">arc</span><span class=\"p\">(</span><span class=\"s2\">&quot;Z&quot;</span><span class=\"p\">,</span><span class=\"mi\">2</span><span class=\"p\">,</span><span class=\"s2\">&quot;e&quot;</span><span class=\"p\">,</span><span class=\"mi\">2</span><span class=\"p\">)</span> <span class=\"nf\">arc</span><span class=\"p\">(</span><span class=\"s2\">&quot;Z&quot;</span><span class=\"p\">,</span><span class=\"mi\">1</span><span class=\"p\">,</span><span class=\"s2\">&quot;e&quot;</span><span class=\"p\">,</span><span class=\"mi\">3</span><span class=\"p\">)</span> <span class=\"nf\">arc</span><span class=\"p\">(</span><span class=\"s2\">&quot;X&quot;</span><span class=\"p\">,</span><span class=\"mi\">2</span><span class=\"p\">,</span><span class=\"s2\">&quot;e&quot;</span><span class=\"p\">,</span><span class=\"mi\">3</span><span class=\"p\">)</span> <span class=\"nf\">newArc</span><span class=\"p\">(</span><span class=\"s2\">&quot;X&quot;</span><span class=\"p\">,</span><span class=\"mi\">1</span><span class=\"p\">,</span><span class=\"s2\">&quot;e&quot;</span><span class=\"p\">,</span><span class=\"mi\">1</span><span class=\"p\">)</span> <span class=\"nf\">newArc</span><span class=\"p\">(</span><span class=\"s2\">&quot;X&quot;</span><span class=\"p\">,</span><span class=\"mi\">2</span><span class=\"p\">,</span><span class=\"s2\">&quot;e&quot;</span><span class=\"p\">,</span><span class=\"mi\">3</span><span class=\"p\">)</span> <span class=\"nf\">eqOrd</span><span class=\"p\">(</span><span class=\"s2\">&quot;X&quot;</span><span class=\"p\">,</span><span class=\"s2\">&quot;Z&quot;</span><span class=\"p\">,</span><span class=\"s s-Atom\">node</span><span class=\"p\">)</span> <span class=\"nf\">newArc</span><span class=\"p\">(</span><span class=\"s2\">&quot;X&quot;</span><span class=\"p\">,</span><span class=\"mi\">2</span><span class=\"p\">,</span><span class=\"s2\">&quot;e&quot;</span><span class=\"p\">,</span><span class=\"mi\">2</span><span class=\"p\">)</span> <span class=\"nf\">newArc</span><span class=\"p\">(</span><span class=\"s2\">&quot;X&quot;</span><span class=\"p\">,</span><span class=\"mi\">1</span><span class=\"p\">,</span><span class=\"s2\">&quot;e&quot;</span><span class=\"p\">,</span><span class=\"mi\">3</span><span class=\"p\">)</span> <span class=\"nf\">newArc</span><span class=\"p\">(</span><span class=\"s2\">&quot;Y&quot;</span><span class=\"p\">,</span><span class=\"mi\">2</span><span class=\"p\">,</span><span class=\"s2\">&quot;e&quot;</span><span class=\"p\">,</span><span class=\"mi\">1</span><span class=\"p\">)</span> <span class=\"nf\">newArc</span><span class=\"p\">(</span><span class=\"s2\">&quot;Y&quot;</span><span class=\"p\">,</span><span class=\"mi\">1</span><span class=\"p\">,</span><span class=\"s2\">&quot;e&quot;</span><span class=\"p\">,</span><span class=\"mi\">2</span><span class=\"p\">)</span> <span class=\"nf\">ruleOccTrue</span><span class=\"p\">(</span><span class=\"s2\">&quot;e&quot;</span><span class=\"p\">,</span><span class=\"mi\">1</span><span class=\"p\">)</span> <span class=\"nf\">ruleOccTrue</span><span class=\"p\">(</span><span class=\"s2\">&quot;e&quot;</span><span class=\"p\">,</span><span class=\"mi\">3</span><span class=\"p\">)</span> <span class=\"nf\">ne</span><span class=\"p\">(</span><span class=\"mi\">2</span><span class=\"p\">,</span><span class=\"s2\">&quot;Y&quot;</span><span class=\"p\">,</span><span class=\"s2\">&quot;X&quot;</span><span class=\"p\">)</span> <span class=\"nf\">ne</span><span class=\"p\">(</span><span class=\"s2\">&quot;Y&quot;</span><span class=\"p\">,</span><span class=\"s2\">&quot;X&quot;</span><span class=\"p\">)</span> <span class=\"nf\">e</span><span class=\"p\">(</span><span class=\"mi\">1</span><span class=\"p\">,</span><span class=\"s2\">&quot;X&quot;</span><span class=\"p\">,</span><span class=\"s2\">&quot;Y&quot;</span><span class=\"p\">)</span> <span class=\"nf\">e</span><span class=\"p\">(</span><span class=\"mi\">3</span><span class=\"p\">,</span><span class=\"s2\">&quot;X&quot;</span><span class=\"p\">,</span><span class=\"s2\">&quot;X&quot;</span><span class=\"p\">)</span> <span class=\"nf\">e</span><span class=\"p\">(</span><span class=\"s2\">&quot;X&quot;</span><span class=\"p\">,</span><span class=\"s2\">&quot;X&quot;</span><span class=\"p\">)</span> <span class=\"nf\">e</span><span class=\"p\">(</span><span class=\"s2\">&quot;X&quot;</span><span class=\"p\">,</span><span class=\"s2\">&quot;Y&quot;</span><span class=\"p\">)</span> <span class=\"nf\">newVar</span><span class=\"p\">(</span><span class=\"s2\">&quot;Y&quot;</span><span class=\"p\">,</span><span class=\"s s-Atom\">node</span><span class=\"p\">)</span> <span class=\"nf\">neqOrd</span><span class=\"p\">(</span><span class=\"s2\">&quot;X&quot;</span><span class=\"p\">,</span><span class=\"s2\">&quot;Y&quot;</span><span class=\"p\">,</span><span class=\"s s-Atom\">node</span><span class=\"p\">)</span> <span class=\"nf\">eqOrdMinimal</span><span class=\"p\">(</span><span class=\"s2\">&quot;X&quot;</span><span class=\"p\">,</span><span class=\"s2\">&quot;Z&quot;</span><span class=\"p\">,</span><span class=\"s s-Atom\">node</span><span class=\"p\">)</span>\n",
       "<span class=\"lineno\">25 </span><span class=\"nv\">Answer</span><span class=\"s s-Atom\">:</span> <span class=\"mi\">13</span>\n",
       "<span class=\"lineno\">26 </span><span class=\"nf\">ruleH</span><span class=\"p\">(</span><span class=\"s2\">&quot;tri&quot;</span><span class=\"p\">)</span> <span class=\"nf\">newVar</span><span class=\"p\">(</span><span class=\"s2\">&quot;X&quot;</span><span class=\"p\">,</span><span class=\"s s-Atom\">node</span><span class=\"p\">)</span> <span class=\"nf\">ruleOcc</span><span class=\"p\">(</span><span class=\"s2\">&quot;e&quot;</span><span class=\"p\">,</span><span class=\"mi\">1</span><span class=\"p\">)</span> <span class=\"nf\">ruleOcc</span><span class=\"p\">(</span><span class=\"s2\">&quot;e&quot;</span><span class=\"p\">,</span><span class=\"mi\">2</span><span class=\"p\">)</span> <span class=\"nf\">ruleOcc</span><span class=\"p\">(</span><span class=\"s2\">&quot;e&quot;</span><span class=\"p\">,</span><span class=\"mi\">3</span><span class=\"p\">)</span> <span class=\"nf\">var</span><span class=\"p\">(</span><span class=\"s2\">&quot;X&quot;</span><span class=\"p\">,</span><span class=\"s s-Atom\">node</span><span class=\"p\">)</span> <span class=\"nf\">var</span><span class=\"p\">(</span><span class=\"s2\">&quot;Y&quot;</span><span class=\"p\">,</span><span class=\"s s-Atom\">node</span><span class=\"p\">)</span> <span class=\"nf\">var</span><span class=\"p\">(</span><span class=\"s2\">&quot;Z&quot;</span><span class=\"p\">,</span><span class=\"s s-Atom\">node</span><span class=\"p\">)</span> <span class=\"nf\">hArc</span><span class=\"p\">(</span><span class=\"s2\">&quot;X&quot;</span><span class=\"p\">,</span><span class=\"mi\">1</span><span class=\"p\">,</span><span class=\"s2\">&quot;tri&quot;</span><span class=\"p\">)</span> <span class=\"nf\">newHArc</span><span class=\"p\">(</span><span class=\"s2\">&quot;X&quot;</span><span class=\"p\">,</span><span class=\"mi\">1</span><span class=\"p\">,</span><span class=\"s2\">&quot;tri&quot;</span><span class=\"p\">)</span> <span class=\"nf\">arc</span><span class=\"p\">(</span><span class=\"s2\">&quot;X&quot;</span><span class=\"p\">,</span><span class=\"mi\">1</span><span class=\"p\">,</span><span class=\"s2\">&quot;e&quot;</span><span class=\"p\">,</span><span class=\"mi\">1</span><span class=\"p\">)</span> <span class=\"nf\">arc</span><span class=\"p\">(</span><span class=\"s2\">&quot;Y&quot;</span><span class=\"p\">,</span><span class=\"mi\">2</span><span class=\"p\">,</span><span class=\"s2\">&quot;e&quot;</span><span class=\"p\">,</span><span class=\"mi\">1</span><span class=\"p\">)</span> <span class=\"nf\">arc</span><span class=\"p\">(</span><span class=\"s2\">&quot;Y&quot;</span><span class=\"p\">,</span><span class=\"mi\">1</span><span class=\"p\">,</span><span class=\"s2\">&quot;e&quot;</span><span class=\"p\">,</span><span class=\"mi\">2</span><span class=\"p\">)</span> <span class=\"nf\">arc</span><span class=\"p\">(</span><span class=\"s2\">&quot;Z&quot;</span><span class=\"p\">,</span><span class=\"mi\">2</span><span class=\"p\">,</span><span class=\"s2\">&quot;e&quot;</span><span class=\"p\">,</span><span class=\"mi\">2</span><span class=\"p\">)</span> <span class=\"nf\">arc</span><span class=\"p\">(</span><span class=\"s2\">&quot;Z&quot;</span><span class=\"p\">,</span><span class=\"mi\">1</span><span class=\"p\">,</span><span class=\"s2\">&quot;e&quot;</span><span class=\"p\">,</span><span class=\"mi\">3</span><span class=\"p\">)</span> <span class=\"nf\">arc</span><span class=\"p\">(</span><span class=\"s2\">&quot;X&quot;</span><span class=\"p\">,</span><span class=\"mi\">2</span><span class=\"p\">,</span><span class=\"s2\">&quot;e&quot;</span><span class=\"p\">,</span><span class=\"mi\">3</span><span class=\"p\">)</span> <span class=\"nf\">newArc</span><span class=\"p\">(</span><span class=\"s2\">&quot;X&quot;</span><span class=\"p\">,</span><span class=\"mi\">1</span><span class=\"p\">,</span><span class=\"s2\">&quot;e&quot;</span><span class=\"p\">,</span><span class=\"mi\">1</span><span class=\"p\">)</span> <span class=\"nf\">newArc</span><span class=\"p\">(</span><span class=\"s2\">&quot;X&quot;</span><span class=\"p\">,</span><span class=\"mi\">2</span><span class=\"p\">,</span><span class=\"s2\">&quot;e&quot;</span><span class=\"p\">,</span><span class=\"mi\">3</span><span class=\"p\">)</span> <span class=\"nf\">newArc</span><span class=\"p\">(</span><span class=\"s2\">&quot;Y&quot;</span><span class=\"p\">,</span><span class=\"mi\">2</span><span class=\"p\">,</span><span class=\"s2\">&quot;e&quot;</span><span class=\"p\">,</span><span class=\"mi\">1</span><span class=\"p\">)</span> <span class=\"nf\">newArc</span><span class=\"p\">(</span><span class=\"s2\">&quot;Y&quot;</span><span class=\"p\">,</span><span class=\"mi\">1</span><span class=\"p\">,</span><span class=\"s2\">&quot;e&quot;</span><span class=\"p\">,</span><span class=\"mi\">2</span><span class=\"p\">)</span> <span class=\"nf\">newArc</span><span class=\"p\">(</span><span class=\"s2\">&quot;Z&quot;</span><span class=\"p\">,</span><span class=\"mi\">2</span><span class=\"p\">,</span><span class=\"s2\">&quot;e&quot;</span><span class=\"p\">,</span><span class=\"mi\">2</span><span class=\"p\">)</span> <span class=\"nf\">newArc</span><span class=\"p\">(</span><span class=\"s2\">&quot;Z&quot;</span><span class=\"p\">,</span><span class=\"mi\">1</span><span class=\"p\">,</span><span class=\"s2\">&quot;e&quot;</span><span class=\"p\">,</span><span class=\"mi\">3</span><span class=\"p\">)</span> <span class=\"nf\">ruleOccTrue</span><span class=\"p\">(</span><span class=\"s2\">&quot;e&quot;</span><span class=\"p\">,</span><span class=\"mi\">2</span><span class=\"p\">)</span> <span class=\"nf\">ne</span><span class=\"p\">(</span><span class=\"mi\">1</span><span class=\"p\">,</span><span class=\"s2\">&quot;X&quot;</span><span class=\"p\">,</span><span class=\"s2\">&quot;Y&quot;</span><span class=\"p\">)</span> <span class=\"nf\">ne</span><span class=\"p\">(</span><span class=\"mi\">3</span><span class=\"p\">,</span><span class=\"s2\">&quot;Z&quot;</span><span class=\"p\">,</span><span class=\"s2\">&quot;X&quot;</span><span class=\"p\">)</span> <span class=\"nf\">ne</span><span class=\"p\">(</span><span class=\"s2\">&quot;X&quot;</span><span class=\"p\">,</span><span class=\"s2\">&quot;Y&quot;</span><span class=\"p\">)</span> <span class=\"nf\">ne</span><span class=\"p\">(</span><span class=\"s2\">&quot;Z&quot;</span><span class=\"p\">,</span><span class=\"s2\">&quot;X&quot;</span><span class=\"p\">)</span> <span class=\"nf\">e</span><span class=\"p\">(</span><span class=\"mi\">2</span><span class=\"p\">,</span><span class=\"s2\">&quot;Y&quot;</span><span class=\"p\">,</span><span class=\"s2\">&quot;Z&quot;</span><span class=\"p\">)</span> <span class=\"nf\">e</span><span class=\"p\">(</span><span class=\"s2\">&quot;Y&quot;</span><span class=\"p\">,</span><span class=\"s2\">&quot;Z&quot;</span><span class=\"p\">)</span> <span class=\"nf\">newVar</span><span class=\"p\">(</span><span class=\"s2\">&quot;Y&quot;</span><span class=\"p\">,</span><span class=\"s s-Atom\">node</span><span class=\"p\">)</span> <span class=\"nf\">newVar</span><span class=\"p\">(</span><span class=\"s2\">&quot;Z&quot;</span><span class=\"p\">,</span><span class=\"s s-Atom\">node</span><span class=\"p\">)</span> <span class=\"nf\">neqOrd</span><span class=\"p\">(</span><span class=\"s2\">&quot;X&quot;</span><span class=\"p\">,</span><span class=\"s2\">&quot;Y&quot;</span><span class=\"p\">,</span><span class=\"s s-Atom\">node</span><span class=\"p\">)</span> <span class=\"nf\">neqOrd</span><span class=\"p\">(</span><span class=\"s2\">&quot;X&quot;</span><span class=\"p\">,</span><span class=\"s2\">&quot;Z&quot;</span><span class=\"p\">,</span><span class=\"s s-Atom\">node</span><span class=\"p\">)</span> <span class=\"nf\">neqOrd</span><span class=\"p\">(</span><span class=\"s2\">&quot;Y&quot;</span><span class=\"p\">,</span><span class=\"s2\">&quot;Z&quot;</span><span class=\"p\">,</span><span class=\"s s-Atom\">node</span><span class=\"p\">)</span>\n",
       "<span class=\"lineno\">27 </span><span class=\"nv\">Answer</span><span class=\"s s-Atom\">:</span> <span class=\"mi\">14</span>\n",
       "<span class=\"lineno\">28 </span><span class=\"nf\">ruleH</span><span class=\"p\">(</span><span class=\"s2\">&quot;tri&quot;</span><span class=\"p\">)</span> <span class=\"nf\">newVar</span><span class=\"p\">(</span><span class=\"s2\">&quot;X&quot;</span><span class=\"p\">,</span><span class=\"s s-Atom\">node</span><span class=\"p\">)</span> <span class=\"nf\">ruleOcc</span><span class=\"p\">(</span><span class=\"s2\">&quot;e&quot;</span><span class=\"p\">,</span><span class=\"mi\">1</span><span class=\"p\">)</span> <span class=\"nf\">ruleOcc</span><span class=\"p\">(</span><span class=\"s2\">&quot;e&quot;</span><span class=\"p\">,</span><span class=\"mi\">2</span><span class=\"p\">)</span> <span class=\"nf\">ruleOcc</span><span class=\"p\">(</span><span class=\"s2\">&quot;e&quot;</span><span class=\"p\">,</span><span class=\"mi\">3</span><span class=\"p\">)</span> <span class=\"nf\">var</span><span class=\"p\">(</span><span class=\"s2\">&quot;X&quot;</span><span class=\"p\">,</span><span class=\"s s-Atom\">node</span><span class=\"p\">)</span> <span class=\"nf\">var</span><span class=\"p\">(</span><span class=\"s2\">&quot;Y&quot;</span><span class=\"p\">,</span><span class=\"s s-Atom\">node</span><span class=\"p\">)</span> <span class=\"nf\">var</span><span class=\"p\">(</span><span class=\"s2\">&quot;Z&quot;</span><span class=\"p\">,</span><span class=\"s s-Atom\">node</span><span class=\"p\">)</span> <span class=\"nf\">hArc</span><span class=\"p\">(</span><span class=\"s2\">&quot;X&quot;</span><span class=\"p\">,</span><span class=\"mi\">1</span><span class=\"p\">,</span><span class=\"s2\">&quot;tri&quot;</span><span class=\"p\">)</span> <span class=\"nf\">newHArc</span><span class=\"p\">(</span><span class=\"s2\">&quot;X&quot;</span><span class=\"p\">,</span><span class=\"mi\">1</span><span class=\"p\">,</span><span class=\"s2\">&quot;tri&quot;</span><span class=\"p\">)</span> <span class=\"nf\">arc</span><span class=\"p\">(</span><span class=\"s2\">&quot;X&quot;</span><span class=\"p\">,</span><span class=\"mi\">1</span><span class=\"p\">,</span><span class=\"s2\">&quot;e&quot;</span><span class=\"p\">,</span><span class=\"mi\">1</span><span class=\"p\">)</span> <span class=\"nf\">arc</span><span class=\"p\">(</span><span class=\"s2\">&quot;Y&quot;</span><span class=\"p\">,</span><span class=\"mi\">2</span><span class=\"p\">,</span><span class=\"s2\">&quot;e&quot;</span><span class=\"p\">,</span><span class=\"mi\">1</span><span class=\"p\">)</span> <span class=\"nf\">arc</span><span class=\"p\">(</span><span class=\"s2\">&quot;Y&quot;</span><span class=\"p\">,</span><span class=\"mi\">1</span><span class=\"p\">,</span><span class=\"s2\">&quot;e&quot;</span><span class=\"p\">,</span><span class=\"mi\">2</span><span class=\"p\">)</span> <span class=\"nf\">arc</span><span class=\"p\">(</span><span class=\"s2\">&quot;Z&quot;</span><span class=\"p\">,</span><span class=\"mi\">2</span><span class=\"p\">,</span><span class=\"s2\">&quot;e&quot;</span><span class=\"p\">,</span><span class=\"mi\">2</span><span class=\"p\">)</span> <span class=\"nf\">arc</span><span class=\"p\">(</span><span class=\"s2\">&quot;Z&quot;</span><span class=\"p\">,</span><span class=\"mi\">1</span><span class=\"p\">,</span><span class=\"s2\">&quot;e&quot;</span><span class=\"p\">,</span><span class=\"mi\">3</span><span class=\"p\">)</span> <span class=\"nf\">arc</span><span class=\"p\">(</span><span class=\"s2\">&quot;X&quot;</span><span class=\"p\">,</span><span class=\"mi\">2</span><span class=\"p\">,</span><span class=\"s2\">&quot;e&quot;</span><span class=\"p\">,</span><span class=\"mi\">3</span><span class=\"p\">)</span> <span class=\"nf\">newArc</span><span class=\"p\">(</span><span class=\"s2\">&quot;X&quot;</span><span class=\"p\">,</span><span class=\"mi\">1</span><span class=\"p\">,</span><span class=\"s2\">&quot;e&quot;</span><span class=\"p\">,</span><span class=\"mi\">1</span><span class=\"p\">)</span> <span class=\"nf\">newArc</span><span class=\"p\">(</span><span class=\"s2\">&quot;X&quot;</span><span class=\"p\">,</span><span class=\"mi\">2</span><span class=\"p\">,</span><span class=\"s2\">&quot;e&quot;</span><span class=\"p\">,</span><span class=\"mi\">3</span><span class=\"p\">)</span> <span class=\"nf\">newArc</span><span class=\"p\">(</span><span class=\"s2\">&quot;Y&quot;</span><span class=\"p\">,</span><span class=\"mi\">2</span><span class=\"p\">,</span><span class=\"s2\">&quot;e&quot;</span><span class=\"p\">,</span><span class=\"mi\">1</span><span class=\"p\">)</span> <span class=\"nf\">newArc</span><span class=\"p\">(</span><span class=\"s2\">&quot;Y&quot;</span><span class=\"p\">,</span><span class=\"mi\">1</span><span class=\"p\">,</span><span class=\"s2\">&quot;e&quot;</span><span class=\"p\">,</span><span class=\"mi\">2</span><span class=\"p\">)</span> <span class=\"nf\">newArc</span><span class=\"p\">(</span><span class=\"s2\">&quot;Z&quot;</span><span class=\"p\">,</span><span class=\"mi\">2</span><span class=\"p\">,</span><span class=\"s2\">&quot;e&quot;</span><span class=\"p\">,</span><span class=\"mi\">2</span><span class=\"p\">)</span> <span class=\"nf\">newArc</span><span class=\"p\">(</span><span class=\"s2\">&quot;Z&quot;</span><span class=\"p\">,</span><span class=\"mi\">1</span><span class=\"p\">,</span><span class=\"s2\">&quot;e&quot;</span><span class=\"p\">,</span><span class=\"mi\">3</span><span class=\"p\">)</span> <span class=\"nf\">ruleOccTrue</span><span class=\"p\">(</span><span class=\"s2\">&quot;e&quot;</span><span class=\"p\">,</span><span class=\"mi\">1</span><span class=\"p\">)</span> <span class=\"nf\">ruleOccTrue</span><span class=\"p\">(</span><span class=\"s2\">&quot;e&quot;</span><span class=\"p\">,</span><span class=\"mi\">2</span><span class=\"p\">)</span> <span class=\"nf\">ne</span><span class=\"p\">(</span><span class=\"mi\">3</span><span class=\"p\">,</span><span class=\"s2\">&quot;Z&quot;</span><span class=\"p\">,</span><span class=\"s2\">&quot;X&quot;</span><span class=\"p\">)</span> <span class=\"nf\">ne</span><span class=\"p\">(</span><span class=\"s2\">&quot;Z&quot;</span><span class=\"p\">,</span><span class=\"s2\">&quot;X&quot;</span><span class=\"p\">)</span> <span class=\"nf\">e</span><span class=\"p\">(</span><span class=\"mi\">1</span><span class=\"p\">,</span><span class=\"s2\">&quot;X&quot;</span><span class=\"p\">,</span><span class=\"s2\">&quot;Y&quot;</span><span class=\"p\">)</span> <span class=\"nf\">e</span><span class=\"p\">(</span><span class=\"mi\">2</span><span class=\"p\">,</span><span class=\"s2\">&quot;Y&quot;</span><span class=\"p\">,</span><span class=\"s2\">&quot;Z&quot;</span><span class=\"p\">)</span> <span class=\"nf\">e</span><span class=\"p\">(</span><span class=\"s2\">&quot;X&quot;</span><span class=\"p\">,</span><span class=\"s2\">&quot;Y&quot;</span><span class=\"p\">)</span> <span class=\"nf\">e</span><span class=\"p\">(</span><span class=\"s2\">&quot;Y&quot;</span><span class=\"p\">,</span><span class=\"s2\">&quot;Z&quot;</span><span class=\"p\">)</span> <span class=\"nf\">newVar</span><span class=\"p\">(</span><span class=\"s2\">&quot;Y&quot;</span><span class=\"p\">,</span><span class=\"s s-Atom\">node</span><span class=\"p\">)</span> <span class=\"nf\">newVar</span><span class=\"p\">(</span><span class=\"s2\">&quot;Z&quot;</span><span class=\"p\">,</span><span class=\"s s-Atom\">node</span><span class=\"p\">)</span> <span class=\"nf\">neqOrd</span><span class=\"p\">(</span><span class=\"s2\">&quot;X&quot;</span><span class=\"p\">,</span><span class=\"s2\">&quot;Y&quot;</span><span class=\"p\">,</span><span class=\"s s-Atom\">node</span><span class=\"p\">)</span> <span class=\"nf\">neqOrd</span><span class=\"p\">(</span><span class=\"s2\">&quot;X&quot;</span><span class=\"p\">,</span><span class=\"s2\">&quot;Z&quot;</span><span class=\"p\">,</span><span class=\"s s-Atom\">node</span><span class=\"p\">)</span> <span class=\"nf\">neqOrd</span><span class=\"p\">(</span><span class=\"s2\">&quot;Y&quot;</span><span class=\"p\">,</span><span class=\"s2\">&quot;Z&quot;</span><span class=\"p\">,</span><span class=\"s s-Atom\">node</span><span class=\"p\">)</span>\n",
       "<span class=\"lineno\">29 </span><span class=\"nv\">Answer</span><span class=\"s s-Atom\">:</span> <span class=\"mi\">15</span>\n",
       "<span class=\"lineno\">30 </span><span class=\"nf\">ruleH</span><span class=\"p\">(</span><span class=\"s2\">&quot;tri&quot;</span><span class=\"p\">)</span> <span class=\"nf\">newVar</span><span class=\"p\">(</span><span class=\"s2\">&quot;X&quot;</span><span class=\"p\">,</span><span class=\"s s-Atom\">node</span><span class=\"p\">)</span> <span class=\"nf\">ruleOcc</span><span class=\"p\">(</span><span class=\"s2\">&quot;e&quot;</span><span class=\"p\">,</span><span class=\"mi\">1</span><span class=\"p\">)</span> <span class=\"nf\">ruleOcc</span><span class=\"p\">(</span><span class=\"s2\">&quot;e&quot;</span><span class=\"p\">,</span><span class=\"mi\">2</span><span class=\"p\">)</span> <span class=\"nf\">ruleOcc</span><span class=\"p\">(</span><span class=\"s2\">&quot;e&quot;</span><span class=\"p\">,</span><span class=\"mi\">3</span><span class=\"p\">)</span> <span class=\"nf\">var</span><span class=\"p\">(</span><span class=\"s2\">&quot;X&quot;</span><span class=\"p\">,</span><span class=\"s s-Atom\">node</span><span class=\"p\">)</span> <span class=\"nf\">var</span><span class=\"p\">(</span><span class=\"s2\">&quot;Y&quot;</span><span class=\"p\">,</span><span class=\"s s-Atom\">node</span><span class=\"p\">)</span> <span class=\"nf\">var</span><span class=\"p\">(</span><span class=\"s2\">&quot;Z&quot;</span><span class=\"p\">,</span><span class=\"s s-Atom\">node</span><span class=\"p\">)</span> <span class=\"nf\">hArc</span><span class=\"p\">(</span><span class=\"s2\">&quot;X&quot;</span><span class=\"p\">,</span><span class=\"mi\">1</span><span class=\"p\">,</span><span class=\"s2\">&quot;tri&quot;</span><span class=\"p\">)</span> <span class=\"nf\">newHArc</span><span class=\"p\">(</span><span class=\"s2\">&quot;X&quot;</span><span class=\"p\">,</span><span class=\"mi\">1</span><span class=\"p\">,</span><span class=\"s2\">&quot;tri&quot;</span><span class=\"p\">)</span> <span class=\"nf\">arc</span><span class=\"p\">(</span><span class=\"s2\">&quot;X&quot;</span><span class=\"p\">,</span><span class=\"mi\">1</span><span class=\"p\">,</span><span class=\"s2\">&quot;e&quot;</span><span class=\"p\">,</span><span class=\"mi\">1</span><span class=\"p\">)</span> <span class=\"nf\">arc</span><span class=\"p\">(</span><span class=\"s2\">&quot;Y&quot;</span><span class=\"p\">,</span><span class=\"mi\">2</span><span class=\"p\">,</span><span class=\"s2\">&quot;e&quot;</span><span class=\"p\">,</span><span class=\"mi\">1</span><span class=\"p\">)</span> <span class=\"nf\">arc</span><span class=\"p\">(</span><span class=\"s2\">&quot;Y&quot;</span><span class=\"p\">,</span><span class=\"mi\">1</span><span class=\"p\">,</span><span class=\"s2\">&quot;e&quot;</span><span class=\"p\">,</span><span class=\"mi\">2</span><span class=\"p\">)</span> <span class=\"nf\">arc</span><span class=\"p\">(</span><span class=\"s2\">&quot;Z&quot;</span><span class=\"p\">,</span><span class=\"mi\">2</span><span class=\"p\">,</span><span class=\"s2\">&quot;e&quot;</span><span class=\"p\">,</span><span class=\"mi\">2</span><span class=\"p\">)</span> <span class=\"nf\">arc</span><span class=\"p\">(</span><span class=\"s2\">&quot;Z&quot;</span><span class=\"p\">,</span><span class=\"mi\">1</span><span class=\"p\">,</span><span class=\"s2\">&quot;e&quot;</span><span class=\"p\">,</span><span class=\"mi\">3</span><span class=\"p\">)</span> <span class=\"nf\">arc</span><span class=\"p\">(</span><span class=\"s2\">&quot;X&quot;</span><span class=\"p\">,</span><span class=\"mi\">2</span><span class=\"p\">,</span><span class=\"s2\">&quot;e&quot;</span><span class=\"p\">,</span><span class=\"mi\">3</span><span class=\"p\">)</span> <span class=\"nf\">newArc</span><span class=\"p\">(</span><span class=\"s2\">&quot;X&quot;</span><span class=\"p\">,</span><span class=\"mi\">1</span><span class=\"p\">,</span><span class=\"s2\">&quot;e&quot;</span><span class=\"p\">,</span><span class=\"mi\">1</span><span class=\"p\">)</span> <span class=\"nf\">newArc</span><span class=\"p\">(</span><span class=\"s2\">&quot;X&quot;</span><span class=\"p\">,</span><span class=\"mi\">2</span><span class=\"p\">,</span><span class=\"s2\">&quot;e&quot;</span><span class=\"p\">,</span><span class=\"mi\">3</span><span class=\"p\">)</span> <span class=\"nf\">newArc</span><span class=\"p\">(</span><span class=\"s2\">&quot;Y&quot;</span><span class=\"p\">,</span><span class=\"mi\">2</span><span class=\"p\">,</span><span class=\"s2\">&quot;e&quot;</span><span class=\"p\">,</span><span class=\"mi\">1</span><span class=\"p\">)</span> <span class=\"nf\">newArc</span><span class=\"p\">(</span><span class=\"s2\">&quot;Y&quot;</span><span class=\"p\">,</span><span class=\"mi\">1</span><span class=\"p\">,</span><span class=\"s2\">&quot;e&quot;</span><span class=\"p\">,</span><span class=\"mi\">2</span><span class=\"p\">)</span> <span class=\"nf\">newArc</span><span class=\"p\">(</span><span class=\"s2\">&quot;Z&quot;</span><span class=\"p\">,</span><span class=\"mi\">2</span><span class=\"p\">,</span><span class=\"s2\">&quot;e&quot;</span><span class=\"p\">,</span><span class=\"mi\">2</span><span class=\"p\">)</span> <span class=\"nf\">newArc</span><span class=\"p\">(</span><span class=\"s2\">&quot;Z&quot;</span><span class=\"p\">,</span><span class=\"mi\">1</span><span class=\"p\">,</span><span class=\"s2\">&quot;e&quot;</span><span class=\"p\">,</span><span class=\"mi\">3</span><span class=\"p\">)</span> <span class=\"nf\">ruleOccTrue</span><span class=\"p\">(</span><span class=\"s2\">&quot;e&quot;</span><span class=\"p\">,</span><span class=\"mi\">2</span><span class=\"p\">)</span> <span class=\"nf\">ruleOccTrue</span><span class=\"p\">(</span><span class=\"s2\">&quot;e&quot;</span><span class=\"p\">,</span><span class=\"mi\">3</span><span class=\"p\">)</span> <span class=\"nf\">ne</span><span class=\"p\">(</span><span class=\"mi\">1</span><span class=\"p\">,</span><span class=\"s2\">&quot;X&quot;</span><span class=\"p\">,</span><span class=\"s2\">&quot;Y&quot;</span><span class=\"p\">)</span> <span class=\"nf\">ne</span><span class=\"p\">(</span><span class=\"s2\">&quot;X&quot;</span><span class=\"p\">,</span><span class=\"s2\">&quot;Y&quot;</span><span class=\"p\">)</span> <span class=\"nf\">e</span><span class=\"p\">(</span><span class=\"mi\">2</span><span class=\"p\">,</span><span class=\"s2\">&quot;Y&quot;</span><span class=\"p\">,</span><span class=\"s2\">&quot;Z&quot;</span><span class=\"p\">)</span> <span class=\"nf\">e</span><span class=\"p\">(</span><span class=\"mi\">3</span><span class=\"p\">,</span><span class=\"s2\">&quot;Z&quot;</span><span class=\"p\">,</span><span class=\"s2\">&quot;X&quot;</span><span class=\"p\">)</span> <span class=\"nf\">e</span><span class=\"p\">(</span><span class=\"s2\">&quot;Y&quot;</span><span class=\"p\">,</span><span class=\"s2\">&quot;Z&quot;</span><span class=\"p\">)</span> <span class=\"nf\">e</span><span class=\"p\">(</span><span class=\"s2\">&quot;Z&quot;</span><span class=\"p\">,</span><span class=\"s2\">&quot;X&quot;</span><span class=\"p\">)</span> <span class=\"nf\">newVar</span><span class=\"p\">(</span><span class=\"s2\">&quot;Y&quot;</span><span class=\"p\">,</span><span class=\"s s-Atom\">node</span><span class=\"p\">)</span> <span class=\"nf\">newVar</span><span class=\"p\">(</span><span class=\"s2\">&quot;Z&quot;</span><span class=\"p\">,</span><span class=\"s s-Atom\">node</span><span class=\"p\">)</span> <span class=\"nf\">neqOrd</span><span class=\"p\">(</span><span class=\"s2\">&quot;X&quot;</span><span class=\"p\">,</span><span class=\"s2\">&quot;Y&quot;</span><span class=\"p\">,</span><span class=\"s s-Atom\">node</span><span class=\"p\">)</span> <span class=\"nf\">neqOrd</span><span class=\"p\">(</span><span class=\"s2\">&quot;X&quot;</span><span class=\"p\">,</span><span class=\"s2\">&quot;Z&quot;</span><span class=\"p\">,</span><span class=\"s s-Atom\">node</span><span class=\"p\">)</span> <span class=\"nf\">neqOrd</span><span class=\"p\">(</span><span class=\"s2\">&quot;Y&quot;</span><span class=\"p\">,</span><span class=\"s2\">&quot;Z&quot;</span><span class=\"p\">,</span><span class=\"s s-Atom\">node</span><span class=\"p\">)</span>\n",
       "<span class=\"lineno\">31 </span><span class=\"nv\">Answer</span><span class=\"s s-Atom\">:</span> <span class=\"mi\">16</span>\n",
       "<span class=\"lineno\">32 </span><span class=\"nf\">ruleH</span><span class=\"p\">(</span><span class=\"s2\">&quot;tri&quot;</span><span class=\"p\">)</span> <span class=\"nf\">newVar</span><span class=\"p\">(</span><span class=\"s2\">&quot;X&quot;</span><span class=\"p\">,</span><span class=\"s s-Atom\">node</span><span class=\"p\">)</span> <span class=\"nf\">ruleOcc</span><span class=\"p\">(</span><span class=\"s2\">&quot;e&quot;</span><span class=\"p\">,</span><span class=\"mi\">1</span><span class=\"p\">)</span> <span class=\"nf\">ruleOcc</span><span class=\"p\">(</span><span class=\"s2\">&quot;e&quot;</span><span class=\"p\">,</span><span class=\"mi\">2</span><span class=\"p\">)</span> <span class=\"nf\">ruleOcc</span><span class=\"p\">(</span><span class=\"s2\">&quot;e&quot;</span><span class=\"p\">,</span><span class=\"mi\">3</span><span class=\"p\">)</span> <span class=\"nf\">var</span><span class=\"p\">(</span><span class=\"s2\">&quot;X&quot;</span><span class=\"p\">,</span><span class=\"s s-Atom\">node</span><span class=\"p\">)</span> <span class=\"nf\">var</span><span class=\"p\">(</span><span class=\"s2\">&quot;Y&quot;</span><span class=\"p\">,</span><span class=\"s s-Atom\">node</span><span class=\"p\">)</span> <span class=\"nf\">var</span><span class=\"p\">(</span><span class=\"s2\">&quot;Z&quot;</span><span class=\"p\">,</span><span class=\"s s-Atom\">node</span><span class=\"p\">)</span> <span class=\"nf\">hArc</span><span class=\"p\">(</span><span class=\"s2\">&quot;X&quot;</span><span class=\"p\">,</span><span class=\"mi\">1</span><span class=\"p\">,</span><span class=\"s2\">&quot;tri&quot;</span><span class=\"p\">)</span> <span class=\"nf\">newHArc</span><span class=\"p\">(</span><span class=\"s2\">&quot;X&quot;</span><span class=\"p\">,</span><span class=\"mi\">1</span><span class=\"p\">,</span><span class=\"s2\">&quot;tri&quot;</span><span class=\"p\">)</span> <span class=\"nf\">arc</span><span class=\"p\">(</span><span class=\"s2\">&quot;X&quot;</span><span class=\"p\">,</span><span class=\"mi\">1</span><span class=\"p\">,</span><span class=\"s2\">&quot;e&quot;</span><span class=\"p\">,</span><span class=\"mi\">1</span><span class=\"p\">)</span> <span class=\"nf\">arc</span><span class=\"p\">(</span><span class=\"s2\">&quot;Y&quot;</span><span class=\"p\">,</span><span class=\"mi\">2</span><span class=\"p\">,</span><span class=\"s2\">&quot;e&quot;</span><span class=\"p\">,</span><span class=\"mi\">1</span><span class=\"p\">)</span> <span class=\"nf\">arc</span><span class=\"p\">(</span><span class=\"s2\">&quot;Y&quot;</span><span class=\"p\">,</span><span class=\"mi\">1</span><span class=\"p\">,</span><span class=\"s2\">&quot;e&quot;</span><span class=\"p\">,</span><span class=\"mi\">2</span><span class=\"p\">)</span> <span class=\"nf\">arc</span><span class=\"p\">(</span><span class=\"s2\">&quot;Z&quot;</span><span class=\"p\">,</span><span class=\"mi\">2</span><span class=\"p\">,</span><span class=\"s2\">&quot;e&quot;</span><span class=\"p\">,</span><span class=\"mi\">2</span><span class=\"p\">)</span> <span class=\"nf\">arc</span><span class=\"p\">(</span><span class=\"s2\">&quot;Z&quot;</span><span class=\"p\">,</span><span class=\"mi\">1</span><span class=\"p\">,</span><span class=\"s2\">&quot;e&quot;</span><span class=\"p\">,</span><span class=\"mi\">3</span><span class=\"p\">)</span> <span class=\"nf\">arc</span><span class=\"p\">(</span><span class=\"s2\">&quot;X&quot;</span><span class=\"p\">,</span><span class=\"mi\">2</span><span class=\"p\">,</span><span class=\"s2\">&quot;e&quot;</span><span class=\"p\">,</span><span class=\"mi\">3</span><span class=\"p\">)</span> <span class=\"nf\">newArc</span><span class=\"p\">(</span><span class=\"s2\">&quot;X&quot;</span><span class=\"p\">,</span><span class=\"mi\">1</span><span class=\"p\">,</span><span class=\"s2\">&quot;e&quot;</span><span class=\"p\">,</span><span class=\"mi\">1</span><span class=\"p\">)</span> <span class=\"nf\">newArc</span><span class=\"p\">(</span><span class=\"s2\">&quot;X&quot;</span><span class=\"p\">,</span><span class=\"mi\">2</span><span class=\"p\">,</span><span class=\"s2\">&quot;e&quot;</span><span class=\"p\">,</span><span class=\"mi\">3</span><span class=\"p\">)</span> <span class=\"nf\">newArc</span><span class=\"p\">(</span><span class=\"s2\">&quot;Y&quot;</span><span class=\"p\">,</span><span class=\"mi\">2</span><span class=\"p\">,</span><span class=\"s2\">&quot;e&quot;</span><span class=\"p\">,</span><span class=\"mi\">1</span><span class=\"p\">)</span> <span class=\"nf\">newArc</span><span class=\"p\">(</span><span class=\"s2\">&quot;Y&quot;</span><span class=\"p\">,</span><span class=\"mi\">1</span><span class=\"p\">,</span><span class=\"s2\">&quot;e&quot;</span><span class=\"p\">,</span><span class=\"mi\">2</span><span class=\"p\">)</span> <span class=\"nf\">newArc</span><span class=\"p\">(</span><span class=\"s2\">&quot;Z&quot;</span><span class=\"p\">,</span><span class=\"mi\">2</span><span class=\"p\">,</span><span class=\"s2\">&quot;e&quot;</span><span class=\"p\">,</span><span class=\"mi\">2</span><span class=\"p\">)</span> <span class=\"nf\">newArc</span><span class=\"p\">(</span><span class=\"s2\">&quot;Z&quot;</span><span class=\"p\">,</span><span class=\"mi\">1</span><span class=\"p\">,</span><span class=\"s2\">&quot;e&quot;</span><span class=\"p\">,</span><span class=\"mi\">3</span><span class=\"p\">)</span> <span class=\"nf\">ruleOccTrue</span><span class=\"p\">(</span><span class=\"s2\">&quot;e&quot;</span><span class=\"p\">,</span><span class=\"mi\">1</span><span class=\"p\">)</span> <span class=\"nf\">ruleOccTrue</span><span class=\"p\">(</span><span class=\"s2\">&quot;e&quot;</span><span class=\"p\">,</span><span class=\"mi\">2</span><span class=\"p\">)</span> <span class=\"nf\">ruleOccTrue</span><span class=\"p\">(</span><span class=\"s2\">&quot;e&quot;</span><span class=\"p\">,</span><span class=\"mi\">3</span><span class=\"p\">)</span> <span class=\"nf\">e</span><span class=\"p\">(</span><span class=\"mi\">1</span><span class=\"p\">,</span><span class=\"s2\">&quot;X&quot;</span><span class=\"p\">,</span><span class=\"s2\">&quot;Y&quot;</span><span class=\"p\">)</span> <span class=\"nf\">e</span><span class=\"p\">(</span><span class=\"mi\">2</span><span class=\"p\">,</span><span class=\"s2\">&quot;Y&quot;</span><span class=\"p\">,</span><span class=\"s2\">&quot;Z&quot;</span><span class=\"p\">)</span> <span class=\"nf\">e</span><span class=\"p\">(</span><span class=\"mi\">3</span><span class=\"p\">,</span><span class=\"s2\">&quot;Z&quot;</span><span class=\"p\">,</span><span class=\"s2\">&quot;X&quot;</span><span class=\"p\">)</span> <span class=\"nf\">e</span><span class=\"p\">(</span><span class=\"s2\">&quot;X&quot;</span><span class=\"p\">,</span><span class=\"s2\">&quot;Y&quot;</span><span class=\"p\">)</span> <span class=\"nf\">e</span><span class=\"p\">(</span><span class=\"s2\">&quot;Y&quot;</span><span class=\"p\">,</span><span class=\"s2\">&quot;Z&quot;</span><span class=\"p\">)</span> <span class=\"nf\">e</span><span class=\"p\">(</span><span class=\"s2\">&quot;Z&quot;</span><span class=\"p\">,</span><span class=\"s2\">&quot;X&quot;</span><span class=\"p\">)</span> <span class=\"nf\">newVar</span><span class=\"p\">(</span><span class=\"s2\">&quot;Y&quot;</span><span class=\"p\">,</span><span class=\"s s-Atom\">node</span><span class=\"p\">)</span> <span class=\"nf\">newVar</span><span class=\"p\">(</span><span class=\"s2\">&quot;Z&quot;</span><span class=\"p\">,</span><span class=\"s s-Atom\">node</span><span class=\"p\">)</span> <span class=\"nf\">neqOrd</span><span class=\"p\">(</span><span class=\"s2\">&quot;X&quot;</span><span class=\"p\">,</span><span class=\"s2\">&quot;Y&quot;</span><span class=\"p\">,</span><span class=\"s s-Atom\">node</span><span class=\"p\">)</span> <span class=\"nf\">neqOrd</span><span class=\"p\">(</span><span class=\"s2\">&quot;X&quot;</span><span class=\"p\">,</span><span class=\"s2\">&quot;Z&quot;</span><span class=\"p\">,</span><span class=\"s s-Atom\">node</span><span class=\"p\">)</span> <span class=\"nf\">neqOrd</span><span class=\"p\">(</span><span class=\"s2\">&quot;Y&quot;</span><span class=\"p\">,</span><span class=\"s2\">&quot;Z&quot;</span><span class=\"p\">,</span><span class=\"s s-Atom\">node</span><span class=\"p\">)</span> <span class=\"nf\">ruleHTrue</span><span class=\"p\">(</span><span class=\"s2\">&quot;tri&quot;</span><span class=\"p\">)</span>\n",
       "<span class=\"lineno\">33 </span><span class=\"nv\">Answer</span><span class=\"s s-Atom\">:</span> <span class=\"mi\">17</span>\n",
       "<span class=\"lineno\">34 </span><span class=\"nf\">ruleH</span><span class=\"p\">(</span><span class=\"s2\">&quot;tri&quot;</span><span class=\"p\">)</span> <span class=\"nf\">newVar</span><span class=\"p\">(</span><span class=\"s2\">&quot;X&quot;</span><span class=\"p\">,</span><span class=\"s s-Atom\">node</span><span class=\"p\">)</span> <span class=\"nf\">ruleOcc</span><span class=\"p\">(</span><span class=\"s2\">&quot;e&quot;</span><span class=\"p\">,</span><span class=\"mi\">1</span><span class=\"p\">)</span> <span class=\"nf\">ruleOcc</span><span class=\"p\">(</span><span class=\"s2\">&quot;e&quot;</span><span class=\"p\">,</span><span class=\"mi\">2</span><span class=\"p\">)</span> <span class=\"nf\">ruleOcc</span><span class=\"p\">(</span><span class=\"s2\">&quot;e&quot;</span><span class=\"p\">,</span><span class=\"mi\">3</span><span class=\"p\">)</span> <span class=\"nf\">var</span><span class=\"p\">(</span><span class=\"s2\">&quot;X&quot;</span><span class=\"p\">,</span><span class=\"s s-Atom\">node</span><span class=\"p\">)</span> <span class=\"nf\">var</span><span class=\"p\">(</span><span class=\"s2\">&quot;Y&quot;</span><span class=\"p\">,</span><span class=\"s s-Atom\">node</span><span class=\"p\">)</span> <span class=\"nf\">var</span><span class=\"p\">(</span><span class=\"s2\">&quot;Z&quot;</span><span class=\"p\">,</span><span class=\"s s-Atom\">node</span><span class=\"p\">)</span> <span class=\"nf\">hArc</span><span class=\"p\">(</span><span class=\"s2\">&quot;X&quot;</span><span class=\"p\">,</span><span class=\"mi\">1</span><span class=\"p\">,</span><span class=\"s2\">&quot;tri&quot;</span><span class=\"p\">)</span> <span class=\"nf\">newHArc</span><span class=\"p\">(</span><span class=\"s2\">&quot;X&quot;</span><span class=\"p\">,</span><span class=\"mi\">1</span><span class=\"p\">,</span><span class=\"s2\">&quot;tri&quot;</span><span class=\"p\">)</span> <span class=\"nf\">arc</span><span class=\"p\">(</span><span class=\"s2\">&quot;X&quot;</span><span class=\"p\">,</span><span class=\"mi\">1</span><span class=\"p\">,</span><span class=\"s2\">&quot;e&quot;</span><span class=\"p\">,</span><span class=\"mi\">1</span><span class=\"p\">)</span> <span class=\"nf\">arc</span><span class=\"p\">(</span><span class=\"s2\">&quot;Y&quot;</span><span class=\"p\">,</span><span class=\"mi\">2</span><span class=\"p\">,</span><span class=\"s2\">&quot;e&quot;</span><span class=\"p\">,</span><span class=\"mi\">1</span><span class=\"p\">)</span> <span class=\"nf\">arc</span><span class=\"p\">(</span><span class=\"s2\">&quot;Y&quot;</span><span class=\"p\">,</span><span class=\"mi\">1</span><span class=\"p\">,</span><span class=\"s2\">&quot;e&quot;</span><span class=\"p\">,</span><span class=\"mi\">2</span><span class=\"p\">)</span> <span class=\"nf\">arc</span><span class=\"p\">(</span><span class=\"s2\">&quot;Z&quot;</span><span class=\"p\">,</span><span class=\"mi\">2</span><span class=\"p\">,</span><span class=\"s2\">&quot;e&quot;</span><span class=\"p\">,</span><span class=\"mi\">2</span><span class=\"p\">)</span> <span class=\"nf\">arc</span><span class=\"p\">(</span><span class=\"s2\">&quot;Z&quot;</span><span class=\"p\">,</span><span class=\"mi\">1</span><span class=\"p\">,</span><span class=\"s2\">&quot;e&quot;</span><span class=\"p\">,</span><span class=\"mi\">3</span><span class=\"p\">)</span> <span class=\"nf\">arc</span><span class=\"p\">(</span><span class=\"s2\">&quot;X&quot;</span><span class=\"p\">,</span><span class=\"mi\">2</span><span class=\"p\">,</span><span class=\"s2\">&quot;e&quot;</span><span class=\"p\">,</span><span class=\"mi\">3</span><span class=\"p\">)</span> <span class=\"nf\">newArc</span><span class=\"p\">(</span><span class=\"s2\">&quot;X&quot;</span><span class=\"p\">,</span><span class=\"mi\">1</span><span class=\"p\">,</span><span class=\"s2\">&quot;e&quot;</span><span class=\"p\">,</span><span class=\"mi\">1</span><span class=\"p\">)</span> <span class=\"nf\">newArc</span><span class=\"p\">(</span><span class=\"s2\">&quot;X&quot;</span><span class=\"p\">,</span><span class=\"mi\">2</span><span class=\"p\">,</span><span class=\"s2\">&quot;e&quot;</span><span class=\"p\">,</span><span class=\"mi\">3</span><span class=\"p\">)</span> <span class=\"nf\">eqOrd</span><span class=\"p\">(</span><span class=\"s2\">&quot;Y&quot;</span><span class=\"p\">,</span><span class=\"s2\">&quot;Z&quot;</span><span class=\"p\">,</span><span class=\"s s-Atom\">node</span><span class=\"p\">)</span> <span class=\"nf\">newArc</span><span class=\"p\">(</span><span class=\"s2\">&quot;Y&quot;</span><span class=\"p\">,</span><span class=\"mi\">2</span><span class=\"p\">,</span><span class=\"s2\">&quot;e&quot;</span><span class=\"p\">,</span><span class=\"mi\">2</span><span class=\"p\">)</span> <span class=\"nf\">newArc</span><span class=\"p\">(</span><span class=\"s2\">&quot;Y&quot;</span><span class=\"p\">,</span><span class=\"mi\">1</span><span class=\"p\">,</span><span class=\"s2\">&quot;e&quot;</span><span class=\"p\">,</span><span class=\"mi\">3</span><span class=\"p\">)</span> <span class=\"nf\">newArc</span><span class=\"p\">(</span><span class=\"s2\">&quot;Y&quot;</span><span class=\"p\">,</span><span class=\"mi\">2</span><span class=\"p\">,</span><span class=\"s2\">&quot;e&quot;</span><span class=\"p\">,</span><span class=\"mi\">1</span><span class=\"p\">)</span> <span class=\"nf\">newArc</span><span class=\"p\">(</span><span class=\"s2\">&quot;Y&quot;</span><span class=\"p\">,</span><span class=\"mi\">1</span><span class=\"p\">,</span><span class=\"s2\">&quot;e&quot;</span><span class=\"p\">,</span><span class=\"mi\">2</span><span class=\"p\">)</span> <span class=\"nf\">ruleOccTrue</span><span class=\"p\">(</span><span class=\"s2\">&quot;e&quot;</span><span class=\"p\">,</span><span class=\"mi\">2</span><span class=\"p\">)</span> <span class=\"nf\">ne</span><span class=\"p\">(</span><span class=\"mi\">1</span><span class=\"p\">,</span><span class=\"s2\">&quot;X&quot;</span><span class=\"p\">,</span><span class=\"s2\">&quot;Y&quot;</span><span class=\"p\">)</span> <span class=\"nf\">ne</span><span class=\"p\">(</span><span class=\"mi\">3</span><span class=\"p\">,</span><span class=\"s2\">&quot;Y&quot;</span><span class=\"p\">,</span><span class=\"s2\">&quot;X&quot;</span><span class=\"p\">)</span> <span class=\"nf\">ne</span><span class=\"p\">(</span><span class=\"s2\">&quot;Y&quot;</span><span class=\"p\">,</span><span class=\"s2\">&quot;X&quot;</span><span class=\"p\">)</span> <span class=\"nf\">ne</span><span class=\"p\">(</span><span class=\"s2\">&quot;X&quot;</span><span class=\"p\">,</span><span class=\"s2\">&quot;Y&quot;</span><span class=\"p\">)</span> <span class=\"nf\">e</span><span class=\"p\">(</span><span class=\"mi\">2</span><span class=\"p\">,</span><span class=\"s2\">&quot;Y&quot;</span><span class=\"p\">,</span><span class=\"s2\">&quot;Y&quot;</span><span class=\"p\">)</span> <span class=\"nf\">e</span><span class=\"p\">(</span><span class=\"s2\">&quot;Y&quot;</span><span class=\"p\">,</span><span class=\"s2\">&quot;Y&quot;</span><span class=\"p\">)</span> <span class=\"nf\">newVar</span><span class=\"p\">(</span><span class=\"s2\">&quot;Y&quot;</span><span class=\"p\">,</span><span class=\"s s-Atom\">node</span><span class=\"p\">)</span> <span class=\"nf\">neqOrd</span><span class=\"p\">(</span><span class=\"s2\">&quot;X&quot;</span><span class=\"p\">,</span><span class=\"s2\">&quot;Y&quot;</span><span class=\"p\">,</span><span class=\"s s-Atom\">node</span><span class=\"p\">)</span> <span class=\"nf\">eqOrdMinimal</span><span class=\"p\">(</span><span class=\"s2\">&quot;Y&quot;</span><span class=\"p\">,</span><span class=\"s2\">&quot;Z&quot;</span><span class=\"p\">,</span><span class=\"s s-Atom\">node</span><span class=\"p\">)</span>\n",
       "<span class=\"lineno\">35 </span><span class=\"nv\">Answer</span><span class=\"s s-Atom\">:</span> <span class=\"mi\">18</span>\n",
       "<span class=\"lineno\">36 </span><span class=\"nf\">ruleH</span><span class=\"p\">(</span><span class=\"s2\">&quot;tri&quot;</span><span class=\"p\">)</span> <span class=\"nf\">newVar</span><span class=\"p\">(</span><span class=\"s2\">&quot;X&quot;</span><span class=\"p\">,</span><span class=\"s s-Atom\">node</span><span class=\"p\">)</span> <span class=\"nf\">ruleOcc</span><span class=\"p\">(</span><span class=\"s2\">&quot;e&quot;</span><span class=\"p\">,</span><span class=\"mi\">1</span><span class=\"p\">)</span> <span class=\"nf\">ruleOcc</span><span class=\"p\">(</span><span class=\"s2\">&quot;e&quot;</span><span class=\"p\">,</span><span class=\"mi\">2</span><span class=\"p\">)</span> <span class=\"nf\">ruleOcc</span><span class=\"p\">(</span><span class=\"s2\">&quot;e&quot;</span><span class=\"p\">,</span><span class=\"mi\">3</span><span class=\"p\">)</span> <span class=\"nf\">var</span><span class=\"p\">(</span><span class=\"s2\">&quot;X&quot;</span><span class=\"p\">,</span><span class=\"s s-Atom\">node</span><span class=\"p\">)</span> <span class=\"nf\">var</span><span class=\"p\">(</span><span class=\"s2\">&quot;Y&quot;</span><span class=\"p\">,</span><span class=\"s s-Atom\">node</span><span class=\"p\">)</span> <span class=\"nf\">var</span><span class=\"p\">(</span><span class=\"s2\">&quot;Z&quot;</span><span class=\"p\">,</span><span class=\"s s-Atom\">node</span><span class=\"p\">)</span> <span class=\"nf\">hArc</span><span class=\"p\">(</span><span class=\"s2\">&quot;X&quot;</span><span class=\"p\">,</span><span class=\"mi\">1</span><span class=\"p\">,</span><span class=\"s2\">&quot;tri&quot;</span><span class=\"p\">)</span> <span class=\"nf\">newHArc</span><span class=\"p\">(</span><span class=\"s2\">&quot;X&quot;</span><span class=\"p\">,</span><span class=\"mi\">1</span><span class=\"p\">,</span><span class=\"s2\">&quot;tri&quot;</span><span class=\"p\">)</span> <span class=\"nf\">arc</span><span class=\"p\">(</span><span class=\"s2\">&quot;X&quot;</span><span class=\"p\">,</span><span class=\"mi\">1</span><span class=\"p\">,</span><span class=\"s2\">&quot;e&quot;</span><span class=\"p\">,</span><span class=\"mi\">1</span><span class=\"p\">)</span> <span class=\"nf\">arc</span><span class=\"p\">(</span><span class=\"s2\">&quot;Y&quot;</span><span class=\"p\">,</span><span class=\"mi\">2</span><span class=\"p\">,</span><span class=\"s2\">&quot;e&quot;</span><span class=\"p\">,</span><span class=\"mi\">1</span><span class=\"p\">)</span> <span class=\"nf\">arc</span><span class=\"p\">(</span><span class=\"s2\">&quot;Y&quot;</span><span class=\"p\">,</span><span class=\"mi\">1</span><span class=\"p\">,</span><span class=\"s2\">&quot;e&quot;</span><span class=\"p\">,</span><span class=\"mi\">2</span><span class=\"p\">)</span> <span class=\"nf\">arc</span><span class=\"p\">(</span><span class=\"s2\">&quot;Z&quot;</span><span class=\"p\">,</span><span class=\"mi\">2</span><span class=\"p\">,</span><span class=\"s2\">&quot;e&quot;</span><span class=\"p\">,</span><span class=\"mi\">2</span><span class=\"p\">)</span> <span class=\"nf\">arc</span><span class=\"p\">(</span><span class=\"s2\">&quot;Z&quot;</span><span class=\"p\">,</span><span class=\"mi\">1</span><span class=\"p\">,</span><span class=\"s2\">&quot;e&quot;</span><span class=\"p\">,</span><span class=\"mi\">3</span><span class=\"p\">)</span> <span class=\"nf\">arc</span><span class=\"p\">(</span><span class=\"s2\">&quot;X&quot;</span><span class=\"p\">,</span><span class=\"mi\">2</span><span class=\"p\">,</span><span class=\"s2\">&quot;e&quot;</span><span class=\"p\">,</span><span class=\"mi\">3</span><span class=\"p\">)</span> <span class=\"nf\">newArc</span><span class=\"p\">(</span><span class=\"s2\">&quot;X&quot;</span><span class=\"p\">,</span><span class=\"mi\">1</span><span class=\"p\">,</span><span class=\"s2\">&quot;e&quot;</span><span class=\"p\">,</span><span class=\"mi\">1</span><span class=\"p\">)</span> <span class=\"nf\">newArc</span><span class=\"p\">(</span><span class=\"s2\">&quot;X&quot;</span><span class=\"p\">,</span><span class=\"mi\">2</span><span class=\"p\">,</span><span class=\"s2\">&quot;e&quot;</span><span class=\"p\">,</span><span class=\"mi\">3</span><span class=\"p\">)</span> <span class=\"nf\">eqOrd</span><span class=\"p\">(</span><span class=\"s2\">&quot;Y&quot;</span><span class=\"p\">,</span><span class=\"s2\">&quot;Z&quot;</span><span class=\"p\">,</span><span class=\"s s-Atom\">node</span><span class=\"p\">)</span> <span class=\"nf\">newArc</span><span class=\"p\">(</span><span class=\"s2\">&quot;Y&quot;</span><span class=\"p\">,</span><span class=\"mi\">2</span><span class=\"p\">,</span><span class=\"s2\">&quot;e&quot;</span><span class=\"p\">,</span><span class=\"mi\">2</span><span class=\"p\">)</span> <span class=\"nf\">newArc</span><span class=\"p\">(</span><span class=\"s2\">&quot;Y&quot;</span><span class=\"p\">,</span><span class=\"mi\">1</span><span class=\"p\">,</span><span class=\"s2\">&quot;e&quot;</span><span class=\"p\">,</span><span class=\"mi\">3</span><span class=\"p\">)</span> <span class=\"nf\">newArc</span><span class=\"p\">(</span><span class=\"s2\">&quot;Y&quot;</span><span class=\"p\">,</span><span class=\"mi\">2</span><span class=\"p\">,</span><span class=\"s2\">&quot;e&quot;</span><span class=\"p\">,</span><span class=\"mi\">1</span><span class=\"p\">)</span> <span class=\"nf\">newArc</span><span class=\"p\">(</span><span class=\"s2\">&quot;Y&quot;</span><span class=\"p\">,</span><span class=\"mi\">1</span><span class=\"p\">,</span><span class=\"s2\">&quot;e&quot;</span><span class=\"p\">,</span><span class=\"mi\">2</span><span class=\"p\">)</span> <span class=\"nf\">ruleOccTrue</span><span class=\"p\">(</span><span class=\"s2\">&quot;e&quot;</span><span class=\"p\">,</span><span class=\"mi\">1</span><span class=\"p\">)</span> <span class=\"nf\">ruleOccTrue</span><span class=\"p\">(</span><span class=\"s2\">&quot;e&quot;</span><span class=\"p\">,</span><span class=\"mi\">2</span><span class=\"p\">)</span> <span class=\"nf\">ne</span><span class=\"p\">(</span><span class=\"mi\">3</span><span class=\"p\">,</span><span class=\"s2\">&quot;Y&quot;</span><span class=\"p\">,</span><span class=\"s2\">&quot;X&quot;</span><span class=\"p\">)</span> <span class=\"nf\">ne</span><span class=\"p\">(</span><span class=\"s2\">&quot;Y&quot;</span><span class=\"p\">,</span><span class=\"s2\">&quot;X&quot;</span><span class=\"p\">)</span> <span class=\"nf\">e</span><span class=\"p\">(</span><span class=\"mi\">1</span><span class=\"p\">,</span><span class=\"s2\">&quot;X&quot;</span><span class=\"p\">,</span><span class=\"s2\">&quot;Y&quot;</span><span class=\"p\">)</span> <span class=\"nf\">e</span><span class=\"p\">(</span><span class=\"mi\">2</span><span class=\"p\">,</span><span class=\"s2\">&quot;Y&quot;</span><span class=\"p\">,</span><span class=\"s2\">&quot;Y&quot;</span><span class=\"p\">)</span> <span class=\"nf\">e</span><span class=\"p\">(</span><span class=\"s2\">&quot;X&quot;</span><span class=\"p\">,</span><span class=\"s2\">&quot;Y&quot;</span><span class=\"p\">)</span> <span class=\"nf\">e</span><span class=\"p\">(</span><span class=\"s2\">&quot;Y&quot;</span><span class=\"p\">,</span><span class=\"s2\">&quot;Y&quot;</span><span class=\"p\">)</span> <span class=\"nf\">newVar</span><span class=\"p\">(</span><span class=\"s2\">&quot;Y&quot;</span><span class=\"p\">,</span><span class=\"s s-Atom\">node</span><span class=\"p\">)</span> <span class=\"nf\">neqOrd</span><span class=\"p\">(</span><span class=\"s2\">&quot;X&quot;</span><span class=\"p\">,</span><span class=\"s2\">&quot;Y&quot;</span><span class=\"p\">,</span><span class=\"s s-Atom\">node</span><span class=\"p\">)</span> <span class=\"nf\">eqOrdMinimal</span><span class=\"p\">(</span><span class=\"s2\">&quot;Y&quot;</span><span class=\"p\">,</span><span class=\"s2\">&quot;Z&quot;</span><span class=\"p\">,</span><span class=\"s s-Atom\">node</span><span class=\"p\">)</span>\n",
       "<span class=\"lineno\">37 </span><span class=\"nv\">Answer</span><span class=\"s s-Atom\">:</span> <span class=\"mi\">19</span>\n",
       "<span class=\"lineno\">38 </span><span class=\"nf\">ruleH</span><span class=\"p\">(</span><span class=\"s2\">&quot;tri&quot;</span><span class=\"p\">)</span> <span class=\"nf\">newVar</span><span class=\"p\">(</span><span class=\"s2\">&quot;X&quot;</span><span class=\"p\">,</span><span class=\"s s-Atom\">node</span><span class=\"p\">)</span> <span class=\"nf\">ruleOcc</span><span class=\"p\">(</span><span class=\"s2\">&quot;e&quot;</span><span class=\"p\">,</span><span class=\"mi\">1</span><span class=\"p\">)</span> <span class=\"nf\">ruleOcc</span><span class=\"p\">(</span><span class=\"s2\">&quot;e&quot;</span><span class=\"p\">,</span><span class=\"mi\">2</span><span class=\"p\">)</span> <span class=\"nf\">ruleOcc</span><span class=\"p\">(</span><span class=\"s2\">&quot;e&quot;</span><span class=\"p\">,</span><span class=\"mi\">3</span><span class=\"p\">)</span> <span class=\"nf\">var</span><span class=\"p\">(</span><span class=\"s2\">&quot;X&quot;</span><span class=\"p\">,</span><span class=\"s s-Atom\">node</span><span class=\"p\">)</span> <span class=\"nf\">var</span><span class=\"p\">(</span><span class=\"s2\">&quot;Y&quot;</span><span class=\"p\">,</span><span class=\"s s-Atom\">node</span><span class=\"p\">)</span> <span class=\"nf\">var</span><span class=\"p\">(</span><span class=\"s2\">&quot;Z&quot;</span><span class=\"p\">,</span><span class=\"s s-Atom\">node</span><span class=\"p\">)</span> <span class=\"nf\">hArc</span><span class=\"p\">(</span><span class=\"s2\">&quot;X&quot;</span><span class=\"p\">,</span><span class=\"mi\">1</span><span class=\"p\">,</span><span class=\"s2\">&quot;tri&quot;</span><span class=\"p\">)</span> <span class=\"nf\">newHArc</span><span class=\"p\">(</span><span class=\"s2\">&quot;X&quot;</span><span class=\"p\">,</span><span class=\"mi\">1</span><span class=\"p\">,</span><span class=\"s2\">&quot;tri&quot;</span><span class=\"p\">)</span> <span class=\"nf\">arc</span><span class=\"p\">(</span><span class=\"s2\">&quot;X&quot;</span><span class=\"p\">,</span><span class=\"mi\">1</span><span class=\"p\">,</span><span class=\"s2\">&quot;e&quot;</span><span class=\"p\">,</span><span class=\"mi\">1</span><span class=\"p\">)</span> <span class=\"nf\">arc</span><span class=\"p\">(</span><span class=\"s2\">&quot;Y&quot;</span><span class=\"p\">,</span><span class=\"mi\">2</span><span class=\"p\">,</span><span class=\"s2\">&quot;e&quot;</span><span class=\"p\">,</span><span class=\"mi\">1</span><span class=\"p\">)</span> <span class=\"nf\">arc</span><span class=\"p\">(</span><span class=\"s2\">&quot;Y&quot;</span><span class=\"p\">,</span><span class=\"mi\">1</span><span class=\"p\">,</span><span class=\"s2\">&quot;e&quot;</span><span class=\"p\">,</span><span class=\"mi\">2</span><span class=\"p\">)</span> <span class=\"nf\">arc</span><span class=\"p\">(</span><span class=\"s2\">&quot;Z&quot;</span><span class=\"p\">,</span><span class=\"mi\">2</span><span class=\"p\">,</span><span class=\"s2\">&quot;e&quot;</span><span class=\"p\">,</span><span class=\"mi\">2</span><span class=\"p\">)</span> <span class=\"nf\">arc</span><span class=\"p\">(</span><span class=\"s2\">&quot;Z&quot;</span><span class=\"p\">,</span><span class=\"mi\">1</span><span class=\"p\">,</span><span class=\"s2\">&quot;e&quot;</span><span class=\"p\">,</span><span class=\"mi\">3</span><span class=\"p\">)</span> <span class=\"nf\">arc</span><span class=\"p\">(</span><span class=\"s2\">&quot;X&quot;</span><span class=\"p\">,</span><span class=\"mi\">2</span><span class=\"p\">,</span><span class=\"s2\">&quot;e&quot;</span><span class=\"p\">,</span><span class=\"mi\">3</span><span class=\"p\">)</span> <span class=\"nf\">newArc</span><span class=\"p\">(</span><span class=\"s2\">&quot;X&quot;</span><span class=\"p\">,</span><span class=\"mi\">1</span><span class=\"p\">,</span><span class=\"s2\">&quot;e&quot;</span><span class=\"p\">,</span><span class=\"mi\">1</span><span class=\"p\">)</span> <span class=\"nf\">newArc</span><span class=\"p\">(</span><span class=\"s2\">&quot;X&quot;</span><span class=\"p\">,</span><span class=\"mi\">2</span><span class=\"p\">,</span><span class=\"s2\">&quot;e&quot;</span><span class=\"p\">,</span><span class=\"mi\">3</span><span class=\"p\">)</span> <span class=\"nf\">eqOrd</span><span class=\"p\">(</span><span class=\"s2\">&quot;Y&quot;</span><span class=\"p\">,</span><span class=\"s2\">&quot;Z&quot;</span><span class=\"p\">,</span><span class=\"s s-Atom\">node</span><span class=\"p\">)</span> <span class=\"nf\">newArc</span><span class=\"p\">(</span><span class=\"s2\">&quot;Y&quot;</span><span class=\"p\">,</span><span class=\"mi\">2</span><span class=\"p\">,</span><span class=\"s2\">&quot;e&quot;</span><span class=\"p\">,</span><span class=\"mi\">2</span><span class=\"p\">)</span> <span class=\"nf\">newArc</span><span class=\"p\">(</span><span class=\"s2\">&quot;Y&quot;</span><span class=\"p\">,</span><span class=\"mi\">1</span><span class=\"p\">,</span><span class=\"s2\">&quot;e&quot;</span><span class=\"p\">,</span><span class=\"mi\">3</span><span class=\"p\">)</span> <span class=\"nf\">newArc</span><span class=\"p\">(</span><span class=\"s2\">&quot;Y&quot;</span><span class=\"p\">,</span><span class=\"mi\">2</span><span class=\"p\">,</span><span class=\"s2\">&quot;e&quot;</span><span class=\"p\">,</span><span class=\"mi\">1</span><span class=\"p\">)</span> <span class=\"nf\">newArc</span><span class=\"p\">(</span><span class=\"s2\">&quot;Y&quot;</span><span class=\"p\">,</span><span class=\"mi\">1</span><span class=\"p\">,</span><span class=\"s2\">&quot;e&quot;</span><span class=\"p\">,</span><span class=\"mi\">2</span><span class=\"p\">)</span> <span class=\"nf\">ruleOccTrue</span><span class=\"p\">(</span><span class=\"s2\">&quot;e&quot;</span><span class=\"p\">,</span><span class=\"mi\">2</span><span class=\"p\">)</span> <span class=\"nf\">ruleOccTrue</span><span class=\"p\">(</span><span class=\"s2\">&quot;e&quot;</span><span class=\"p\">,</span><span class=\"mi\">3</span><span class=\"p\">)</span> <span class=\"nf\">ne</span><span class=\"p\">(</span><span class=\"mi\">1</span><span class=\"p\">,</span><span class=\"s2\">&quot;X&quot;</span><span class=\"p\">,</span><span class=\"s2\">&quot;Y&quot;</span><span class=\"p\">)</span> <span class=\"nf\">ne</span><span class=\"p\">(</span><span class=\"s2\">&quot;X&quot;</span><span class=\"p\">,</span><span class=\"s2\">&quot;Y&quot;</span><span class=\"p\">)</span> <span class=\"nf\">e</span><span class=\"p\">(</span><span class=\"mi\">2</span><span class=\"p\">,</span><span class=\"s2\">&quot;Y&quot;</span><span class=\"p\">,</span><span class=\"s2\">&quot;Y&quot;</span><span class=\"p\">)</span> <span class=\"nf\">e</span><span class=\"p\">(</span><span class=\"mi\">3</span><span class=\"p\">,</span><span class=\"s2\">&quot;Y&quot;</span><span class=\"p\">,</span><span class=\"s2\">&quot;X&quot;</span><span class=\"p\">)</span> <span class=\"nf\">e</span><span class=\"p\">(</span><span class=\"s2\">&quot;Y&quot;</span><span class=\"p\">,</span><span class=\"s2\">&quot;X&quot;</span><span class=\"p\">)</span> <span class=\"nf\">e</span><span class=\"p\">(</span><span class=\"s2\">&quot;Y&quot;</span><span class=\"p\">,</span><span class=\"s2\">&quot;Y&quot;</span><span class=\"p\">)</span> <span class=\"nf\">newVar</span><span class=\"p\">(</span><span class=\"s2\">&quot;Y&quot;</span><span class=\"p\">,</span><span class=\"s s-Atom\">node</span><span class=\"p\">)</span> <span class=\"nf\">neqOrd</span><span class=\"p\">(</span><span class=\"s2\">&quot;X&quot;</span><span class=\"p\">,</span><span class=\"s2\">&quot;Y&quot;</span><span class=\"p\">,</span><span class=\"s s-Atom\">node</span><span class=\"p\">)</span> <span class=\"nf\">eqOrdMinimal</span><span class=\"p\">(</span><span class=\"s2\">&quot;Y&quot;</span><span class=\"p\">,</span><span class=\"s2\">&quot;Z&quot;</span><span class=\"p\">,</span><span class=\"s s-Atom\">node</span><span class=\"p\">)</span>\n",
       "<span class=\"lineno\">39 </span><span class=\"nv\">Answer</span><span class=\"s s-Atom\">:</span> <span class=\"mi\">20</span>\n",
       "<span class=\"lineno\">40 </span><span class=\"nf\">ruleH</span><span class=\"p\">(</span><span class=\"s2\">&quot;tri&quot;</span><span class=\"p\">)</span> <span class=\"nf\">newVar</span><span class=\"p\">(</span><span class=\"s2\">&quot;X&quot;</span><span class=\"p\">,</span><span class=\"s s-Atom\">node</span><span class=\"p\">)</span> <span class=\"nf\">ruleOcc</span><span class=\"p\">(</span><span class=\"s2\">&quot;e&quot;</span><span class=\"p\">,</span><span class=\"mi\">1</span><span class=\"p\">)</span> <span class=\"nf\">ruleOcc</span><span class=\"p\">(</span><span class=\"s2\">&quot;e&quot;</span><span class=\"p\">,</span><span class=\"mi\">2</span><span class=\"p\">)</span> <span class=\"nf\">ruleOcc</span><span class=\"p\">(</span><span class=\"s2\">&quot;e&quot;</span><span class=\"p\">,</span><span class=\"mi\">3</span><span class=\"p\">)</span> <span class=\"nf\">var</span><span class=\"p\">(</span><span class=\"s2\">&quot;X&quot;</span><span class=\"p\">,</span><span class=\"s s-Atom\">node</span><span class=\"p\">)</span> <span class=\"nf\">var</span><span class=\"p\">(</span><span class=\"s2\">&quot;Y&quot;</span><span class=\"p\">,</span><span class=\"s s-Atom\">node</span><span class=\"p\">)</span> <span class=\"nf\">var</span><span class=\"p\">(</span><span class=\"s2\">&quot;Z&quot;</span><span class=\"p\">,</span><span class=\"s s-Atom\">node</span><span class=\"p\">)</span> <span class=\"nf\">hArc</span><span class=\"p\">(</span><span class=\"s2\">&quot;X&quot;</span><span class=\"p\">,</span><span class=\"mi\">1</span><span class=\"p\">,</span><span class=\"s2\">&quot;tri&quot;</span><span class=\"p\">)</span> <span class=\"nf\">newHArc</span><span class=\"p\">(</span><span class=\"s2\">&quot;X&quot;</span><span class=\"p\">,</span><span class=\"mi\">1</span><span class=\"p\">,</span><span class=\"s2\">&quot;tri&quot;</span><span class=\"p\">)</span> <span class=\"nf\">arc</span><span class=\"p\">(</span><span class=\"s2\">&quot;X&quot;</span><span class=\"p\">,</span><span class=\"mi\">1</span><span class=\"p\">,</span><span class=\"s2\">&quot;e&quot;</span><span class=\"p\">,</span><span class=\"mi\">1</span><span class=\"p\">)</span> <span class=\"nf\">arc</span><span class=\"p\">(</span><span class=\"s2\">&quot;Y&quot;</span><span class=\"p\">,</span><span class=\"mi\">2</span><span class=\"p\">,</span><span class=\"s2\">&quot;e&quot;</span><span class=\"p\">,</span><span class=\"mi\">1</span><span class=\"p\">)</span> <span class=\"nf\">arc</span><span class=\"p\">(</span><span class=\"s2\">&quot;Y&quot;</span><span class=\"p\">,</span><span class=\"mi\">1</span><span class=\"p\">,</span><span class=\"s2\">&quot;e&quot;</span><span class=\"p\">,</span><span class=\"mi\">2</span><span class=\"p\">)</span> <span class=\"nf\">arc</span><span class=\"p\">(</span><span class=\"s2\">&quot;Z&quot;</span><span class=\"p\">,</span><span class=\"mi\">2</span><span class=\"p\">,</span><span class=\"s2\">&quot;e&quot;</span><span class=\"p\">,</span><span class=\"mi\">2</span><span class=\"p\">)</span> <span class=\"nf\">arc</span><span class=\"p\">(</span><span class=\"s2\">&quot;Z&quot;</span><span class=\"p\">,</span><span class=\"mi\">1</span><span class=\"p\">,</span><span class=\"s2\">&quot;e&quot;</span><span class=\"p\">,</span><span class=\"mi\">3</span><span class=\"p\">)</span> <span class=\"nf\">arc</span><span class=\"p\">(</span><span class=\"s2\">&quot;X&quot;</span><span class=\"p\">,</span><span class=\"mi\">2</span><span class=\"p\">,</span><span class=\"s2\">&quot;e&quot;</span><span class=\"p\">,</span><span class=\"mi\">3</span><span class=\"p\">)</span> <span class=\"nf\">newArc</span><span class=\"p\">(</span><span class=\"s2\">&quot;X&quot;</span><span class=\"p\">,</span><span class=\"mi\">1</span><span class=\"p\">,</span><span class=\"s2\">&quot;e&quot;</span><span class=\"p\">,</span><span class=\"mi\">1</span><span class=\"p\">)</span> <span class=\"nf\">newArc</span><span class=\"p\">(</span><span class=\"s2\">&quot;X&quot;</span><span class=\"p\">,</span><span class=\"mi\">2</span><span class=\"p\">,</span><span class=\"s2\">&quot;e&quot;</span><span class=\"p\">,</span><span class=\"mi\">3</span><span class=\"p\">)</span> <span class=\"nf\">eqOrd</span><span class=\"p\">(</span><span class=\"s2\">&quot;Y&quot;</span><span class=\"p\">,</span><span class=\"s2\">&quot;Z&quot;</span><span class=\"p\">,</span><span class=\"s s-Atom\">node</span><span class=\"p\">)</span> <span class=\"nf\">newArc</span><span class=\"p\">(</span><span class=\"s2\">&quot;Y&quot;</span><span class=\"p\">,</span><span class=\"mi\">2</span><span class=\"p\">,</span><span class=\"s2\">&quot;e&quot;</span><span class=\"p\">,</span><span class=\"mi\">2</span><span class=\"p\">)</span> <span class=\"nf\">newArc</span><span class=\"p\">(</span><span class=\"s2\">&quot;Y&quot;</span><span class=\"p\">,</span><span class=\"mi\">1</span><span class=\"p\">,</span><span class=\"s2\">&quot;e&quot;</span><span class=\"p\">,</span><span class=\"mi\">3</span><span class=\"p\">)</span> <span class=\"nf\">newArc</span><span class=\"p\">(</span><span class=\"s2\">&quot;Y&quot;</span><span class=\"p\">,</span><span class=\"mi\">2</span><span class=\"p\">,</span><span class=\"s2\">&quot;e&quot;</span><span class=\"p\">,</span><span class=\"mi\">1</span><span class=\"p\">)</span> <span class=\"nf\">newArc</span><span class=\"p\">(</span><span class=\"s2\">&quot;Y&quot;</span><span class=\"p\">,</span><span class=\"mi\">1</span><span class=\"p\">,</span><span class=\"s2\">&quot;e&quot;</span><span class=\"p\">,</span><span class=\"mi\">2</span><span class=\"p\">)</span> <span class=\"nf\">ruleOccTrue</span><span class=\"p\">(</span><span class=\"s2\">&quot;e&quot;</span><span class=\"p\">,</span><span class=\"mi\">1</span><span class=\"p\">)</span> <span class=\"nf\">ruleOccTrue</span><span class=\"p\">(</span><span class=\"s2\">&quot;e&quot;</span><span class=\"p\">,</span><span class=\"mi\">2</span><span class=\"p\">)</span> <span class=\"nf\">ruleOccTrue</span><span class=\"p\">(</span><span class=\"s2\">&quot;e&quot;</span><span class=\"p\">,</span><span class=\"mi\">3</span><span class=\"p\">)</span> <span class=\"nf\">e</span><span class=\"p\">(</span><span class=\"mi\">1</span><span class=\"p\">,</span><span class=\"s2\">&quot;X&quot;</span><span class=\"p\">,</span><span class=\"s2\">&quot;Y&quot;</span><span class=\"p\">)</span> <span class=\"nf\">e</span><span class=\"p\">(</span><span class=\"mi\">2</span><span class=\"p\">,</span><span class=\"s2\">&quot;Y&quot;</span><span class=\"p\">,</span><span class=\"s2\">&quot;Y&quot;</span><span class=\"p\">)</span> <span class=\"nf\">e</span><span class=\"p\">(</span><span class=\"mi\">3</span><span class=\"p\">,</span><span class=\"s2\">&quot;Y&quot;</span><span class=\"p\">,</span><span class=\"s2\">&quot;X&quot;</span><span class=\"p\">)</span> <span class=\"nf\">e</span><span class=\"p\">(</span><span class=\"s2\">&quot;X&quot;</span><span class=\"p\">,</span><span class=\"s2\">&quot;Y&quot;</span><span class=\"p\">)</span> <span class=\"nf\">e</span><span class=\"p\">(</span><span class=\"s2\">&quot;Y&quot;</span><span class=\"p\">,</span><span class=\"s2\">&quot;X&quot;</span><span class=\"p\">)</span> <span class=\"nf\">e</span><span class=\"p\">(</span><span class=\"s2\">&quot;Y&quot;</span><span class=\"p\">,</span><span class=\"s2\">&quot;Y&quot;</span><span class=\"p\">)</span> <span class=\"nf\">newVar</span><span class=\"p\">(</span><span class=\"s2\">&quot;Y&quot;</span><span class=\"p\">,</span><span class=\"s s-Atom\">node</span><span class=\"p\">)</span> <span class=\"nf\">neqOrd</span><span class=\"p\">(</span><span class=\"s2\">&quot;X&quot;</span><span class=\"p\">,</span><span class=\"s2\">&quot;Y&quot;</span><span class=\"p\">,</span><span class=\"s s-Atom\">node</span><span class=\"p\">)</span> <span class=\"nf\">eqOrdMinimal</span><span class=\"p\">(</span><span class=\"s2\">&quot;Y&quot;</span><span class=\"p\">,</span><span class=\"s2\">&quot;Z&quot;</span><span class=\"p\">,</span><span class=\"s s-Atom\">node</span><span class=\"p\">)</span> <span class=\"nf\">ruleHTrue</span><span class=\"p\">(</span><span class=\"s2\">&quot;tri&quot;</span><span class=\"p\">)</span>\n",
       "<span class=\"lineno\">41 </span><span class=\"nv\">Answer</span><span class=\"s s-Atom\">:</span> <span class=\"mi\">21</span>\n",
       "<span class=\"lineno\">42 </span><span class=\"nf\">ruleH</span><span class=\"p\">(</span><span class=\"s2\">&quot;tri&quot;</span><span class=\"p\">)</span> <span class=\"nf\">newVar</span><span class=\"p\">(</span><span class=\"s2\">&quot;X&quot;</span><span class=\"p\">,</span><span class=\"s s-Atom\">node</span><span class=\"p\">)</span> <span class=\"nf\">ruleOcc</span><span class=\"p\">(</span><span class=\"s2\">&quot;e&quot;</span><span class=\"p\">,</span><span class=\"mi\">1</span><span class=\"p\">)</span> <span class=\"nf\">ruleOcc</span><span class=\"p\">(</span><span class=\"s2\">&quot;e&quot;</span><span class=\"p\">,</span><span class=\"mi\">2</span><span class=\"p\">)</span> <span class=\"nf\">ruleOcc</span><span class=\"p\">(</span><span class=\"s2\">&quot;e&quot;</span><span class=\"p\">,</span><span class=\"mi\">3</span><span class=\"p\">)</span> <span class=\"nf\">var</span><span class=\"p\">(</span><span class=\"s2\">&quot;X&quot;</span><span class=\"p\">,</span><span class=\"s s-Atom\">node</span><span class=\"p\">)</span> <span class=\"nf\">var</span><span class=\"p\">(</span><span class=\"s2\">&quot;Y&quot;</span><span class=\"p\">,</span><span class=\"s s-Atom\">node</span><span class=\"p\">)</span> <span class=\"nf\">var</span><span class=\"p\">(</span><span class=\"s2\">&quot;Z&quot;</span><span class=\"p\">,</span><span class=\"s s-Atom\">node</span><span class=\"p\">)</span> <span class=\"nf\">hArc</span><span class=\"p\">(</span><span class=\"s2\">&quot;X&quot;</span><span class=\"p\">,</span><span class=\"mi\">1</span><span class=\"p\">,</span><span class=\"s2\">&quot;tri&quot;</span><span class=\"p\">)</span> <span class=\"nf\">newHArc</span><span class=\"p\">(</span><span class=\"s2\">&quot;X&quot;</span><span class=\"p\">,</span><span class=\"mi\">1</span><span class=\"p\">,</span><span class=\"s2\">&quot;tri&quot;</span><span class=\"p\">)</span> <span class=\"nf\">arc</span><span class=\"p\">(</span><span class=\"s2\">&quot;X&quot;</span><span class=\"p\">,</span><span class=\"mi\">1</span><span class=\"p\">,</span><span class=\"s2\">&quot;e&quot;</span><span class=\"p\">,</span><span class=\"mi\">1</span><span class=\"p\">)</span> <span class=\"nf\">arc</span><span class=\"p\">(</span><span class=\"s2\">&quot;Y&quot;</span><span class=\"p\">,</span><span class=\"mi\">2</span><span class=\"p\">,</span><span class=\"s2\">&quot;e&quot;</span><span class=\"p\">,</span><span class=\"mi\">1</span><span class=\"p\">)</span> <span class=\"nf\">arc</span><span class=\"p\">(</span><span class=\"s2\">&quot;Y&quot;</span><span class=\"p\">,</span><span class=\"mi\">1</span><span class=\"p\">,</span><span class=\"s2\">&quot;e&quot;</span><span class=\"p\">,</span><span class=\"mi\">2</span><span class=\"p\">)</span> <span class=\"nf\">arc</span><span class=\"p\">(</span><span class=\"s2\">&quot;Z&quot;</span><span class=\"p\">,</span><span class=\"mi\">2</span><span class=\"p\">,</span><span class=\"s2\">&quot;e&quot;</span><span class=\"p\">,</span><span class=\"mi\">2</span><span class=\"p\">)</span> <span class=\"nf\">arc</span><span class=\"p\">(</span><span class=\"s2\">&quot;Z&quot;</span><span class=\"p\">,</span><span class=\"mi\">1</span><span class=\"p\">,</span><span class=\"s2\">&quot;e&quot;</span><span class=\"p\">,</span><span class=\"mi\">3</span><span class=\"p\">)</span> <span class=\"nf\">arc</span><span class=\"p\">(</span><span class=\"s2\">&quot;X&quot;</span><span class=\"p\">,</span><span class=\"mi\">2</span><span class=\"p\">,</span><span class=\"s2\">&quot;e&quot;</span><span class=\"p\">,</span><span class=\"mi\">3</span><span class=\"p\">)</span> <span class=\"nf\">newArc</span><span class=\"p\">(</span><span class=\"s2\">&quot;X&quot;</span><span class=\"p\">,</span><span class=\"mi\">1</span><span class=\"p\">,</span><span class=\"s2\">&quot;e&quot;</span><span class=\"p\">,</span><span class=\"mi\">1</span><span class=\"p\">)</span> <span class=\"nf\">newArc</span><span class=\"p\">(</span><span class=\"s2\">&quot;X&quot;</span><span class=\"p\">,</span><span class=\"mi\">2</span><span class=\"p\">,</span><span class=\"s2\">&quot;e&quot;</span><span class=\"p\">,</span><span class=\"mi\">3</span><span class=\"p\">)</span> <span class=\"nf\">eqOrd</span><span class=\"p\">(</span><span class=\"s2\">&quot;X&quot;</span><span class=\"p\">,</span><span class=\"s2\">&quot;Z&quot;</span><span class=\"p\">,</span><span class=\"s s-Atom\">node</span><span class=\"p\">)</span> <span class=\"nf\">newArc</span><span class=\"p\">(</span><span class=\"s2\">&quot;X&quot;</span><span class=\"p\">,</span><span class=\"mi\">2</span><span class=\"p\">,</span><span class=\"s2\">&quot;e&quot;</span><span class=\"p\">,</span><span class=\"mi\">2</span><span class=\"p\">)</span> <span class=\"nf\">newArc</span><span class=\"p\">(</span><span class=\"s2\">&quot;X&quot;</span><span class=\"p\">,</span><span class=\"mi\">1</span><span class=\"p\">,</span><span class=\"s2\">&quot;e&quot;</span><span class=\"p\">,</span><span class=\"mi\">3</span><span class=\"p\">)</span> <span class=\"nf\">newArc</span><span class=\"p\">(</span><span class=\"s2\">&quot;Y&quot;</span><span class=\"p\">,</span><span class=\"mi\">2</span><span class=\"p\">,</span><span class=\"s2\">&quot;e&quot;</span><span class=\"p\">,</span><span class=\"mi\">1</span><span class=\"p\">)</span> <span class=\"nf\">newArc</span><span class=\"p\">(</span><span class=\"s2\">&quot;Y&quot;</span><span class=\"p\">,</span><span class=\"mi\">1</span><span class=\"p\">,</span><span class=\"s2\">&quot;e&quot;</span><span class=\"p\">,</span><span class=\"mi\">2</span><span class=\"p\">)</span> <span class=\"nf\">ruleOccTrue</span><span class=\"p\">(</span><span class=\"s2\">&quot;e&quot;</span><span class=\"p\">,</span><span class=\"mi\">2</span><span class=\"p\">)</span> <span class=\"nf\">ne</span><span class=\"p\">(</span><span class=\"mi\">1</span><span class=\"p\">,</span><span class=\"s2\">&quot;X&quot;</span><span class=\"p\">,</span><span class=\"s2\">&quot;Y&quot;</span><span class=\"p\">)</span> <span class=\"nf\">ne</span><span class=\"p\">(</span><span class=\"mi\">3</span><span class=\"p\">,</span><span class=\"s2\">&quot;X&quot;</span><span class=\"p\">,</span><span class=\"s2\">&quot;X&quot;</span><span class=\"p\">)</span> <span class=\"nf\">ne</span><span class=\"p\">(</span><span class=\"s2\">&quot;X&quot;</span><span class=\"p\">,</span><span class=\"s2\">&quot;X&quot;</span><span class=\"p\">)</span> <span class=\"nf\">ne</span><span class=\"p\">(</span><span class=\"s2\">&quot;X&quot;</span><span class=\"p\">,</span><span class=\"s2\">&quot;Y&quot;</span><span class=\"p\">)</span> <span class=\"nf\">e</span><span class=\"p\">(</span><span class=\"mi\">2</span><span class=\"p\">,</span><span class=\"s2\">&quot;Y&quot;</span><span class=\"p\">,</span><span class=\"s2\">&quot;X&quot;</span><span class=\"p\">)</span> <span class=\"nf\">e</span><span class=\"p\">(</span><span class=\"s2\">&quot;Y&quot;</span><span class=\"p\">,</span><span class=\"s2\">&quot;X&quot;</span><span class=\"p\">)</span> <span class=\"nf\">newVar</span><span class=\"p\">(</span><span class=\"s2\">&quot;Y&quot;</span><span class=\"p\">,</span><span class=\"s s-Atom\">node</span><span class=\"p\">)</span> <span class=\"nf\">neqOrd</span><span class=\"p\">(</span><span class=\"s2\">&quot;X&quot;</span><span class=\"p\">,</span><span class=\"s2\">&quot;Y&quot;</span><span class=\"p\">,</span><span class=\"s s-Atom\">node</span><span class=\"p\">)</span> <span class=\"nf\">eqOrdMinimal</span><span class=\"p\">(</span><span class=\"s2\">&quot;X&quot;</span><span class=\"p\">,</span><span class=\"s2\">&quot;Z&quot;</span><span class=\"p\">,</span><span class=\"s s-Atom\">node</span><span class=\"p\">)</span>\n",
       "<span class=\"lineno\">43 </span><span class=\"nv\">Answer</span><span class=\"s s-Atom\">:</span> <span class=\"mi\">22</span>\n",
       "<span class=\"lineno\">44 </span><span class=\"nf\">ruleH</span><span class=\"p\">(</span><span class=\"s2\">&quot;tri&quot;</span><span class=\"p\">)</span> <span class=\"nf\">newVar</span><span class=\"p\">(</span><span class=\"s2\">&quot;X&quot;</span><span class=\"p\">,</span><span class=\"s s-Atom\">node</span><span class=\"p\">)</span> <span class=\"nf\">ruleOcc</span><span class=\"p\">(</span><span class=\"s2\">&quot;e&quot;</span><span class=\"p\">,</span><span class=\"mi\">1</span><span class=\"p\">)</span> <span class=\"nf\">ruleOcc</span><span class=\"p\">(</span><span class=\"s2\">&quot;e&quot;</span><span class=\"p\">,</span><span class=\"mi\">2</span><span class=\"p\">)</span> <span class=\"nf\">ruleOcc</span><span class=\"p\">(</span><span class=\"s2\">&quot;e&quot;</span><span class=\"p\">,</span><span class=\"mi\">3</span><span class=\"p\">)</span> <span class=\"nf\">var</span><span class=\"p\">(</span><span class=\"s2\">&quot;X&quot;</span><span class=\"p\">,</span><span class=\"s s-Atom\">node</span><span class=\"p\">)</span> <span class=\"nf\">var</span><span class=\"p\">(</span><span class=\"s2\">&quot;Y&quot;</span><span class=\"p\">,</span><span class=\"s s-Atom\">node</span><span class=\"p\">)</span> <span class=\"nf\">var</span><span class=\"p\">(</span><span class=\"s2\">&quot;Z&quot;</span><span class=\"p\">,</span><span class=\"s s-Atom\">node</span><span class=\"p\">)</span> <span class=\"nf\">hArc</span><span class=\"p\">(</span><span class=\"s2\">&quot;X&quot;</span><span class=\"p\">,</span><span class=\"mi\">1</span><span class=\"p\">,</span><span class=\"s2\">&quot;tri&quot;</span><span class=\"p\">)</span> <span class=\"nf\">newHArc</span><span class=\"p\">(</span><span class=\"s2\">&quot;X&quot;</span><span class=\"p\">,</span><span class=\"mi\">1</span><span class=\"p\">,</span><span class=\"s2\">&quot;tri&quot;</span><span class=\"p\">)</span> <span class=\"nf\">arc</span><span class=\"p\">(</span><span class=\"s2\">&quot;X&quot;</span><span class=\"p\">,</span><span class=\"mi\">1</span><span class=\"p\">,</span><span class=\"s2\">&quot;e&quot;</span><span class=\"p\">,</span><span class=\"mi\">1</span><span class=\"p\">)</span> <span class=\"nf\">arc</span><span class=\"p\">(</span><span class=\"s2\">&quot;Y&quot;</span><span class=\"p\">,</span><span class=\"mi\">2</span><span class=\"p\">,</span><span class=\"s2\">&quot;e&quot;</span><span class=\"p\">,</span><span class=\"mi\">1</span><span class=\"p\">)</span> <span class=\"nf\">arc</span><span class=\"p\">(</span><span class=\"s2\">&quot;Y&quot;</span><span class=\"p\">,</span><span class=\"mi\">1</span><span class=\"p\">,</span><span class=\"s2\">&quot;e&quot;</span><span class=\"p\">,</span><span class=\"mi\">2</span><span class=\"p\">)</span> <span class=\"nf\">arc</span><span class=\"p\">(</span><span class=\"s2\">&quot;Z&quot;</span><span class=\"p\">,</span><span class=\"mi\">2</span><span class=\"p\">,</span><span class=\"s2\">&quot;e&quot;</span><span class=\"p\">,</span><span class=\"mi\">2</span><span class=\"p\">)</span> <span class=\"nf\">arc</span><span class=\"p\">(</span><span class=\"s2\">&quot;Z&quot;</span><span class=\"p\">,</span><span class=\"mi\">1</span><span class=\"p\">,</span><span class=\"s2\">&quot;e&quot;</span><span class=\"p\">,</span><span class=\"mi\">3</span><span class=\"p\">)</span> <span class=\"nf\">arc</span><span class=\"p\">(</span><span class=\"s2\">&quot;X&quot;</span><span class=\"p\">,</span><span class=\"mi\">2</span><span class=\"p\">,</span><span class=\"s2\">&quot;e&quot;</span><span class=\"p\">,</span><span class=\"mi\">3</span><span class=\"p\">)</span> <span class=\"nf\">newArc</span><span class=\"p\">(</span><span class=\"s2\">&quot;X&quot;</span><span class=\"p\">,</span><span class=\"mi\">1</span><span class=\"p\">,</span><span class=\"s2\">&quot;e&quot;</span><span class=\"p\">,</span><span class=\"mi\">1</span><span class=\"p\">)</span> <span class=\"nf\">newArc</span><span class=\"p\">(</span><span class=\"s2\">&quot;X&quot;</span><span class=\"p\">,</span><span class=\"mi\">2</span><span class=\"p\">,</span><span class=\"s2\">&quot;e&quot;</span><span class=\"p\">,</span><span class=\"mi\">3</span><span class=\"p\">)</span> <span class=\"nf\">eqOrd</span><span class=\"p\">(</span><span class=\"s2\">&quot;X&quot;</span><span class=\"p\">,</span><span class=\"s2\">&quot;Z&quot;</span><span class=\"p\">,</span><span class=\"s s-Atom\">node</span><span class=\"p\">)</span> <span class=\"nf\">newArc</span><span class=\"p\">(</span><span class=\"s2\">&quot;X&quot;</span><span class=\"p\">,</span><span class=\"mi\">2</span><span class=\"p\">,</span><span class=\"s2\">&quot;e&quot;</span><span class=\"p\">,</span><span class=\"mi\">2</span><span class=\"p\">)</span> <span class=\"nf\">newArc</span><span class=\"p\">(</span><span class=\"s2\">&quot;X&quot;</span><span class=\"p\">,</span><span class=\"mi\">1</span><span class=\"p\">,</span><span class=\"s2\">&quot;e&quot;</span><span class=\"p\">,</span><span class=\"mi\">3</span><span class=\"p\">)</span> <span class=\"nf\">newArc</span><span class=\"p\">(</span><span class=\"s2\">&quot;Y&quot;</span><span class=\"p\">,</span><span class=\"mi\">2</span><span class=\"p\">,</span><span class=\"s2\">&quot;e&quot;</span><span class=\"p\">,</span><span class=\"mi\">1</span><span class=\"p\">)</span> <span class=\"nf\">newArc</span><span class=\"p\">(</span><span class=\"s2\">&quot;Y&quot;</span><span class=\"p\">,</span><span class=\"mi\">1</span><span class=\"p\">,</span><span class=\"s2\">&quot;e&quot;</span><span class=\"p\">,</span><span class=\"mi\">2</span><span class=\"p\">)</span> <span class=\"nf\">ruleOccTrue</span><span class=\"p\">(</span><span class=\"s2\">&quot;e&quot;</span><span class=\"p\">,</span><span class=\"mi\">1</span><span class=\"p\">)</span> <span class=\"nf\">ruleOccTrue</span><span class=\"p\">(</span><span class=\"s2\">&quot;e&quot;</span><span class=\"p\">,</span><span class=\"mi\">2</span><span class=\"p\">)</span> <span class=\"nf\">ne</span><span class=\"p\">(</span><span class=\"mi\">3</span><span class=\"p\">,</span><span class=\"s2\">&quot;X&quot;</span><span class=\"p\">,</span><span class=\"s2\">&quot;X&quot;</span><span class=\"p\">)</span> <span class=\"nf\">ne</span><span class=\"p\">(</span><span class=\"s2\">&quot;X&quot;</span><span class=\"p\">,</span><span class=\"s2\">&quot;X&quot;</span><span class=\"p\">)</span> <span class=\"nf\">e</span><span class=\"p\">(</span><span class=\"mi\">1</span><span class=\"p\">,</span><span class=\"s2\">&quot;X&quot;</span><span class=\"p\">,</span><span class=\"s2\">&quot;Y&quot;</span><span class=\"p\">)</span> <span class=\"nf\">e</span><span class=\"p\">(</span><span class=\"mi\">2</span><span class=\"p\">,</span><span class=\"s2\">&quot;Y&quot;</span><span class=\"p\">,</span><span class=\"s2\">&quot;X&quot;</span><span class=\"p\">)</span> <span class=\"nf\">e</span><span class=\"p\">(</span><span class=\"s2\">&quot;X&quot;</span><span class=\"p\">,</span><span class=\"s2\">&quot;Y&quot;</span><span class=\"p\">)</span> <span class=\"nf\">e</span><span class=\"p\">(</span><span class=\"s2\">&quot;Y&quot;</span><span class=\"p\">,</span><span class=\"s2\">&quot;X&quot;</span><span class=\"p\">)</span> <span class=\"nf\">newVar</span><span class=\"p\">(</span><span class=\"s2\">&quot;Y&quot;</span><span class=\"p\">,</span><span class=\"s s-Atom\">node</span><span class=\"p\">)</span> <span class=\"nf\">neqOrd</span><span class=\"p\">(</span><span class=\"s2\">&quot;X&quot;</span><span class=\"p\">,</span><span class=\"s2\">&quot;Y&quot;</span><span class=\"p\">,</span><span class=\"s s-Atom\">node</span><span class=\"p\">)</span> <span class=\"nf\">eqOrdMinimal</span><span class=\"p\">(</span><span class=\"s2\">&quot;X&quot;</span><span class=\"p\">,</span><span class=\"s2\">&quot;Z&quot;</span><span class=\"p\">,</span><span class=\"s s-Atom\">node</span><span class=\"p\">)</span>\n",
       "<span class=\"lineno\">45 </span><span class=\"nv\">Answer</span><span class=\"s s-Atom\">:</span> <span class=\"mi\">23</span>\n",
       "<span class=\"lineno\">46 </span><span class=\"nf\">ruleH</span><span class=\"p\">(</span><span class=\"s2\">&quot;tri&quot;</span><span class=\"p\">)</span> <span class=\"nf\">newVar</span><span class=\"p\">(</span><span class=\"s2\">&quot;X&quot;</span><span class=\"p\">,</span><span class=\"s s-Atom\">node</span><span class=\"p\">)</span> <span class=\"nf\">ruleOcc</span><span class=\"p\">(</span><span class=\"s2\">&quot;e&quot;</span><span class=\"p\">,</span><span class=\"mi\">1</span><span class=\"p\">)</span> <span class=\"nf\">ruleOcc</span><span class=\"p\">(</span><span class=\"s2\">&quot;e&quot;</span><span class=\"p\">,</span><span class=\"mi\">2</span><span class=\"p\">)</span> <span class=\"nf\">ruleOcc</span><span class=\"p\">(</span><span class=\"s2\">&quot;e&quot;</span><span class=\"p\">,</span><span class=\"mi\">3</span><span class=\"p\">)</span> <span class=\"nf\">var</span><span class=\"p\">(</span><span class=\"s2\">&quot;X&quot;</span><span class=\"p\">,</span><span class=\"s s-Atom\">node</span><span class=\"p\">)</span> <span class=\"nf\">var</span><span class=\"p\">(</span><span class=\"s2\">&quot;Y&quot;</span><span class=\"p\">,</span><span class=\"s s-Atom\">node</span><span class=\"p\">)</span> <span class=\"nf\">var</span><span class=\"p\">(</span><span class=\"s2\">&quot;Z&quot;</span><span class=\"p\">,</span><span class=\"s s-Atom\">node</span><span class=\"p\">)</span> <span class=\"nf\">hArc</span><span class=\"p\">(</span><span class=\"s2\">&quot;X&quot;</span><span class=\"p\">,</span><span class=\"mi\">1</span><span class=\"p\">,</span><span class=\"s2\">&quot;tri&quot;</span><span class=\"p\">)</span> <span class=\"nf\">newHArc</span><span class=\"p\">(</span><span class=\"s2\">&quot;X&quot;</span><span class=\"p\">,</span><span class=\"mi\">1</span><span class=\"p\">,</span><span class=\"s2\">&quot;tri&quot;</span><span class=\"p\">)</span> <span class=\"nf\">arc</span><span class=\"p\">(</span><span class=\"s2\">&quot;X&quot;</span><span class=\"p\">,</span><span class=\"mi\">1</span><span class=\"p\">,</span><span class=\"s2\">&quot;e&quot;</span><span class=\"p\">,</span><span class=\"mi\">1</span><span class=\"p\">)</span> <span class=\"nf\">arc</span><span class=\"p\">(</span><span class=\"s2\">&quot;Y&quot;</span><span class=\"p\">,</span><span class=\"mi\">2</span><span class=\"p\">,</span><span class=\"s2\">&quot;e&quot;</span><span class=\"p\">,</span><span class=\"mi\">1</span><span class=\"p\">)</span> <span class=\"nf\">arc</span><span class=\"p\">(</span><span class=\"s2\">&quot;Y&quot;</span><span class=\"p\">,</span><span class=\"mi\">1</span><span class=\"p\">,</span><span class=\"s2\">&quot;e&quot;</span><span class=\"p\">,</span><span class=\"mi\">2</span><span class=\"p\">)</span> <span class=\"nf\">arc</span><span class=\"p\">(</span><span class=\"s2\">&quot;Z&quot;</span><span class=\"p\">,</span><span class=\"mi\">2</span><span class=\"p\">,</span><span class=\"s2\">&quot;e&quot;</span><span class=\"p\">,</span><span class=\"mi\">2</span><span class=\"p\">)</span> <span class=\"nf\">arc</span><span class=\"p\">(</span><span class=\"s2\">&quot;Z&quot;</span><span class=\"p\">,</span><span class=\"mi\">1</span><span class=\"p\">,</span><span class=\"s2\">&quot;e&quot;</span><span class=\"p\">,</span><span class=\"mi\">3</span><span class=\"p\">)</span> <span class=\"nf\">arc</span><span class=\"p\">(</span><span class=\"s2\">&quot;X&quot;</span><span class=\"p\">,</span><span class=\"mi\">2</span><span class=\"p\">,</span><span class=\"s2\">&quot;e&quot;</span><span class=\"p\">,</span><span class=\"mi\">3</span><span class=\"p\">)</span> <span class=\"nf\">newArc</span><span class=\"p\">(</span><span class=\"s2\">&quot;X&quot;</span><span class=\"p\">,</span><span class=\"mi\">1</span><span class=\"p\">,</span><span class=\"s2\">&quot;e&quot;</span><span class=\"p\">,</span><span class=\"mi\">1</span><span class=\"p\">)</span> <span class=\"nf\">newArc</span><span class=\"p\">(</span><span class=\"s2\">&quot;X&quot;</span><span class=\"p\">,</span><span class=\"mi\">2</span><span class=\"p\">,</span><span class=\"s2\">&quot;e&quot;</span><span class=\"p\">,</span><span class=\"mi\">3</span><span class=\"p\">)</span> <span class=\"nf\">eqOrd</span><span class=\"p\">(</span><span class=\"s2\">&quot;X&quot;</span><span class=\"p\">,</span><span class=\"s2\">&quot;Z&quot;</span><span class=\"p\">,</span><span class=\"s s-Atom\">node</span><span class=\"p\">)</span> <span class=\"nf\">newArc</span><span class=\"p\">(</span><span class=\"s2\">&quot;X&quot;</span><span class=\"p\">,</span><span class=\"mi\">2</span><span class=\"p\">,</span><span class=\"s2\">&quot;e&quot;</span><span class=\"p\">,</span><span class=\"mi\">2</span><span class=\"p\">)</span> <span class=\"nf\">newArc</span><span class=\"p\">(</span><span class=\"s2\">&quot;X&quot;</span><span class=\"p\">,</span><span class=\"mi\">1</span><span class=\"p\">,</span><span class=\"s2\">&quot;e&quot;</span><span class=\"p\">,</span><span class=\"mi\">3</span><span class=\"p\">)</span> <span class=\"nf\">newArc</span><span class=\"p\">(</span><span class=\"s2\">&quot;Y&quot;</span><span class=\"p\">,</span><span class=\"mi\">2</span><span class=\"p\">,</span><span class=\"s2\">&quot;e&quot;</span><span class=\"p\">,</span><span class=\"mi\">1</span><span class=\"p\">)</span> <span class=\"nf\">newArc</span><span class=\"p\">(</span><span class=\"s2\">&quot;Y&quot;</span><span class=\"p\">,</span><span class=\"mi\">1</span><span class=\"p\">,</span><span class=\"s2\">&quot;e&quot;</span><span class=\"p\">,</span><span class=\"mi\">2</span><span class=\"p\">)</span> <span class=\"nf\">ruleOccTrue</span><span class=\"p\">(</span><span class=\"s2\">&quot;e&quot;</span><span class=\"p\">,</span><span class=\"mi\">2</span><span class=\"p\">)</span> <span class=\"nf\">ruleOccTrue</span><span class=\"p\">(</span><span class=\"s2\">&quot;e&quot;</span><span class=\"p\">,</span><span class=\"mi\">3</span><span class=\"p\">)</span> <span class=\"nf\">ne</span><span class=\"p\">(</span><span class=\"mi\">1</span><span class=\"p\">,</span><span class=\"s2\">&quot;X&quot;</span><span class=\"p\">,</span><span class=\"s2\">&quot;Y&quot;</span><span class=\"p\">)</span> <span class=\"nf\">ne</span><span class=\"p\">(</span><span class=\"s2\">&quot;X&quot;</span><span class=\"p\">,</span><span class=\"s2\">&quot;Y&quot;</span><span class=\"p\">)</span> <span class=\"nf\">e</span><span class=\"p\">(</span><span class=\"mi\">2</span><span class=\"p\">,</span><span class=\"s2\">&quot;Y&quot;</span><span class=\"p\">,</span><span class=\"s2\">&quot;X&quot;</span><span class=\"p\">)</span> <span class=\"nf\">e</span><span class=\"p\">(</span><span class=\"mi\">3</span><span class=\"p\">,</span><span class=\"s2\">&quot;X&quot;</span><span class=\"p\">,</span><span class=\"s2\">&quot;X&quot;</span><span class=\"p\">)</span> <span class=\"nf\">e</span><span class=\"p\">(</span><span class=\"s2\">&quot;X&quot;</span><span class=\"p\">,</span><span class=\"s2\">&quot;X&quot;</span><span class=\"p\">)</span> <span class=\"nf\">e</span><span class=\"p\">(</span><span class=\"s2\">&quot;Y&quot;</span><span class=\"p\">,</span><span class=\"s2\">&quot;X&quot;</span><span class=\"p\">)</span> <span class=\"nf\">newVar</span><span class=\"p\">(</span><span class=\"s2\">&quot;Y&quot;</span><span class=\"p\">,</span><span class=\"s s-Atom\">node</span><span class=\"p\">)</span> <span class=\"nf\">neqOrd</span><span class=\"p\">(</span><span class=\"s2\">&quot;X&quot;</span><span class=\"p\">,</span><span class=\"s2\">&quot;Y&quot;</span><span class=\"p\">,</span><span class=\"s s-Atom\">node</span><span class=\"p\">)</span> <span class=\"nf\">eqOrdMinimal</span><span class=\"p\">(</span><span class=\"s2\">&quot;X&quot;</span><span class=\"p\">,</span><span class=\"s2\">&quot;Z&quot;</span><span class=\"p\">,</span><span class=\"s s-Atom\">node</span><span class=\"p\">)</span>\n",
       "<span class=\"lineno\">47 </span><span class=\"nv\">Answer</span><span class=\"s s-Atom\">:</span> <span class=\"mi\">24</span>\n",
       "<span class=\"lineno\">48 </span><span class=\"nf\">ruleH</span><span class=\"p\">(</span><span class=\"s2\">&quot;tri&quot;</span><span class=\"p\">)</span> <span class=\"nf\">newVar</span><span class=\"p\">(</span><span class=\"s2\">&quot;X&quot;</span><span class=\"p\">,</span><span class=\"s s-Atom\">node</span><span class=\"p\">)</span> <span class=\"nf\">ruleOcc</span><span class=\"p\">(</span><span class=\"s2\">&quot;e&quot;</span><span class=\"p\">,</span><span class=\"mi\">1</span><span class=\"p\">)</span> <span class=\"nf\">ruleOcc</span><span class=\"p\">(</span><span class=\"s2\">&quot;e&quot;</span><span class=\"p\">,</span><span class=\"mi\">2</span><span class=\"p\">)</span> <span class=\"nf\">ruleOcc</span><span class=\"p\">(</span><span class=\"s2\">&quot;e&quot;</span><span class=\"p\">,</span><span class=\"mi\">3</span><span class=\"p\">)</span> <span class=\"nf\">var</span><span class=\"p\">(</span><span class=\"s2\">&quot;X&quot;</span><span class=\"p\">,</span><span class=\"s s-Atom\">node</span><span class=\"p\">)</span> <span class=\"nf\">var</span><span class=\"p\">(</span><span class=\"s2\">&quot;Y&quot;</span><span class=\"p\">,</span><span class=\"s s-Atom\">node</span><span class=\"p\">)</span> <span class=\"nf\">var</span><span class=\"p\">(</span><span class=\"s2\">&quot;Z&quot;</span><span class=\"p\">,</span><span class=\"s s-Atom\">node</span><span class=\"p\">)</span> <span class=\"nf\">hArc</span><span class=\"p\">(</span><span class=\"s2\">&quot;X&quot;</span><span class=\"p\">,</span><span class=\"mi\">1</span><span class=\"p\">,</span><span class=\"s2\">&quot;tri&quot;</span><span class=\"p\">)</span> <span class=\"nf\">newHArc</span><span class=\"p\">(</span><span class=\"s2\">&quot;X&quot;</span><span class=\"p\">,</span><span class=\"mi\">1</span><span class=\"p\">,</span><span class=\"s2\">&quot;tri&quot;</span><span class=\"p\">)</span> <span class=\"nf\">arc</span><span class=\"p\">(</span><span class=\"s2\">&quot;X&quot;</span><span class=\"p\">,</span><span class=\"mi\">1</span><span class=\"p\">,</span><span class=\"s2\">&quot;e&quot;</span><span class=\"p\">,</span><span class=\"mi\">1</span><span class=\"p\">)</span> <span class=\"nf\">arc</span><span class=\"p\">(</span><span class=\"s2\">&quot;Y&quot;</span><span class=\"p\">,</span><span class=\"mi\">2</span><span class=\"p\">,</span><span class=\"s2\">&quot;e&quot;</span><span class=\"p\">,</span><span class=\"mi\">1</span><span class=\"p\">)</span> <span class=\"nf\">arc</span><span class=\"p\">(</span><span class=\"s2\">&quot;Y&quot;</span><span class=\"p\">,</span><span class=\"mi\">1</span><span class=\"p\">,</span><span class=\"s2\">&quot;e&quot;</span><span class=\"p\">,</span><span class=\"mi\">2</span><span class=\"p\">)</span> <span class=\"nf\">arc</span><span class=\"p\">(</span><span class=\"s2\">&quot;Z&quot;</span><span class=\"p\">,</span><span class=\"mi\">2</span><span class=\"p\">,</span><span class=\"s2\">&quot;e&quot;</span><span class=\"p\">,</span><span class=\"mi\">2</span><span class=\"p\">)</span> <span class=\"nf\">arc</span><span class=\"p\">(</span><span class=\"s2\">&quot;Z&quot;</span><span class=\"p\">,</span><span class=\"mi\">1</span><span class=\"p\">,</span><span class=\"s2\">&quot;e&quot;</span><span class=\"p\">,</span><span class=\"mi\">3</span><span class=\"p\">)</span> <span class=\"nf\">arc</span><span class=\"p\">(</span><span class=\"s2\">&quot;X&quot;</span><span class=\"p\">,</span><span class=\"mi\">2</span><span class=\"p\">,</span><span class=\"s2\">&quot;e&quot;</span><span class=\"p\">,</span><span class=\"mi\">3</span><span class=\"p\">)</span> <span class=\"nf\">newArc</span><span class=\"p\">(</span><span class=\"s2\">&quot;X&quot;</span><span class=\"p\">,</span><span class=\"mi\">1</span><span class=\"p\">,</span><span class=\"s2\">&quot;e&quot;</span><span class=\"p\">,</span><span class=\"mi\">1</span><span class=\"p\">)</span> <span class=\"nf\">newArc</span><span class=\"p\">(</span><span class=\"s2\">&quot;X&quot;</span><span class=\"p\">,</span><span class=\"mi\">2</span><span class=\"p\">,</span><span class=\"s2\">&quot;e&quot;</span><span class=\"p\">,</span><span class=\"mi\">3</span><span class=\"p\">)</span> <span class=\"nf\">eqOrd</span><span class=\"p\">(</span><span class=\"s2\">&quot;X&quot;</span><span class=\"p\">,</span><span class=\"s2\">&quot;Z&quot;</span><span class=\"p\">,</span><span class=\"s s-Atom\">node</span><span class=\"p\">)</span> <span class=\"nf\">newArc</span><span class=\"p\">(</span><span class=\"s2\">&quot;X&quot;</span><span class=\"p\">,</span><span class=\"mi\">2</span><span class=\"p\">,</span><span class=\"s2\">&quot;e&quot;</span><span class=\"p\">,</span><span class=\"mi\">2</span><span class=\"p\">)</span> <span class=\"nf\">newArc</span><span class=\"p\">(</span><span class=\"s2\">&quot;X&quot;</span><span class=\"p\">,</span><span class=\"mi\">1</span><span class=\"p\">,</span><span class=\"s2\">&quot;e&quot;</span><span class=\"p\">,</span><span class=\"mi\">3</span><span class=\"p\">)</span> <span class=\"nf\">newArc</span><span class=\"p\">(</span><span class=\"s2\">&quot;Y&quot;</span><span class=\"p\">,</span><span class=\"mi\">2</span><span class=\"p\">,</span><span class=\"s2\">&quot;e&quot;</span><span class=\"p\">,</span><span class=\"mi\">1</span><span class=\"p\">)</span> <span class=\"nf\">newArc</span><span class=\"p\">(</span><span class=\"s2\">&quot;Y&quot;</span><span class=\"p\">,</span><span class=\"mi\">1</span><span class=\"p\">,</span><span class=\"s2\">&quot;e&quot;</span><span class=\"p\">,</span><span class=\"mi\">2</span><span class=\"p\">)</span> <span class=\"nf\">ruleOccTrue</span><span class=\"p\">(</span><span class=\"s2\">&quot;e&quot;</span><span class=\"p\">,</span><span class=\"mi\">1</span><span class=\"p\">)</span> <span class=\"nf\">ruleOccTrue</span><span class=\"p\">(</span><span class=\"s2\">&quot;e&quot;</span><span class=\"p\">,</span><span class=\"mi\">2</span><span class=\"p\">)</span> <span class=\"nf\">ruleOccTrue</span><span class=\"p\">(</span><span class=\"s2\">&quot;e&quot;</span><span class=\"p\">,</span><span class=\"mi\">3</span><span class=\"p\">)</span> <span class=\"nf\">e</span><span class=\"p\">(</span><span class=\"mi\">1</span><span class=\"p\">,</span><span class=\"s2\">&quot;X&quot;</span><span class=\"p\">,</span><span class=\"s2\">&quot;Y&quot;</span><span class=\"p\">)</span> <span class=\"nf\">e</span><span class=\"p\">(</span><span class=\"mi\">2</span><span class=\"p\">,</span><span class=\"s2\">&quot;Y&quot;</span><span class=\"p\">,</span><span class=\"s2\">&quot;X&quot;</span><span class=\"p\">)</span> <span class=\"nf\">e</span><span class=\"p\">(</span><span class=\"mi\">3</span><span class=\"p\">,</span><span class=\"s2\">&quot;X&quot;</span><span class=\"p\">,</span><span class=\"s2\">&quot;X&quot;</span><span class=\"p\">)</span> <span class=\"nf\">e</span><span class=\"p\">(</span><span class=\"s2\">&quot;X&quot;</span><span class=\"p\">,</span><span class=\"s2\">&quot;X&quot;</span><span class=\"p\">)</span> <span class=\"nf\">e</span><span class=\"p\">(</span><span class=\"s2\">&quot;X&quot;</span><span class=\"p\">,</span><span class=\"s2\">&quot;Y&quot;</span><span class=\"p\">)</span> <span class=\"nf\">e</span><span class=\"p\">(</span><span class=\"s2\">&quot;Y&quot;</span><span class=\"p\">,</span><span class=\"s2\">&quot;X&quot;</span><span class=\"p\">)</span> <span class=\"nf\">newVar</span><span class=\"p\">(</span><span class=\"s2\">&quot;Y&quot;</span><span class=\"p\">,</span><span class=\"s s-Atom\">node</span><span class=\"p\">)</span> <span class=\"nf\">neqOrd</span><span class=\"p\">(</span><span class=\"s2\">&quot;X&quot;</span><span class=\"p\">,</span><span class=\"s2\">&quot;Y&quot;</span><span class=\"p\">,</span><span class=\"s s-Atom\">node</span><span class=\"p\">)</span> <span class=\"nf\">eqOrdMinimal</span><span class=\"p\">(</span><span class=\"s2\">&quot;X&quot;</span><span class=\"p\">,</span><span class=\"s2\">&quot;Z&quot;</span><span class=\"p\">,</span><span class=\"s s-Atom\">node</span><span class=\"p\">)</span> <span class=\"nf\">ruleHTrue</span><span class=\"p\">(</span><span class=\"s2\">&quot;tri&quot;</span><span class=\"p\">)</span>\n",
       "<span class=\"lineno\">49 </span><span class=\"nv\">Answer</span><span class=\"s s-Atom\">:</span> <span class=\"mi\">25</span>\n",
       "<span class=\"lineno\">50 </span><span class=\"nf\">ruleH</span><span class=\"p\">(</span><span class=\"s2\">&quot;tri&quot;</span><span class=\"p\">)</span> <span class=\"nf\">newVar</span><span class=\"p\">(</span><span class=\"s2\">&quot;X&quot;</span><span class=\"p\">,</span><span class=\"s s-Atom\">node</span><span class=\"p\">)</span> <span class=\"nf\">ruleOcc</span><span class=\"p\">(</span><span class=\"s2\">&quot;e&quot;</span><span class=\"p\">,</span><span class=\"mi\">1</span><span class=\"p\">)</span> <span class=\"nf\">ruleOcc</span><span class=\"p\">(</span><span class=\"s2\">&quot;e&quot;</span><span class=\"p\">,</span><span class=\"mi\">2</span><span class=\"p\">)</span> <span class=\"nf\">ruleOcc</span><span class=\"p\">(</span><span class=\"s2\">&quot;e&quot;</span><span class=\"p\">,</span><span class=\"mi\">3</span><span class=\"p\">)</span> <span class=\"nf\">var</span><span class=\"p\">(</span><span class=\"s2\">&quot;X&quot;</span><span class=\"p\">,</span><span class=\"s s-Atom\">node</span><span class=\"p\">)</span> <span class=\"nf\">var</span><span class=\"p\">(</span><span class=\"s2\">&quot;Y&quot;</span><span class=\"p\">,</span><span class=\"s s-Atom\">node</span><span class=\"p\">)</span> <span class=\"nf\">var</span><span class=\"p\">(</span><span class=\"s2\">&quot;Z&quot;</span><span class=\"p\">,</span><span class=\"s s-Atom\">node</span><span class=\"p\">)</span> <span class=\"nf\">hArc</span><span class=\"p\">(</span><span class=\"s2\">&quot;X&quot;</span><span class=\"p\">,</span><span class=\"mi\">1</span><span class=\"p\">,</span><span class=\"s2\">&quot;tri&quot;</span><span class=\"p\">)</span> <span class=\"nf\">newHArc</span><span class=\"p\">(</span><span class=\"s2\">&quot;X&quot;</span><span class=\"p\">,</span><span class=\"mi\">1</span><span class=\"p\">,</span><span class=\"s2\">&quot;tri&quot;</span><span class=\"p\">)</span> <span class=\"nf\">arc</span><span class=\"p\">(</span><span class=\"s2\">&quot;X&quot;</span><span class=\"p\">,</span><span class=\"mi\">1</span><span class=\"p\">,</span><span class=\"s2\">&quot;e&quot;</span><span class=\"p\">,</span><span class=\"mi\">1</span><span class=\"p\">)</span> <span class=\"nf\">arc</span><span class=\"p\">(</span><span class=\"s2\">&quot;Y&quot;</span><span class=\"p\">,</span><span class=\"mi\">2</span><span class=\"p\">,</span><span class=\"s2\">&quot;e&quot;</span><span class=\"p\">,</span><span class=\"mi\">1</span><span class=\"p\">)</span> <span class=\"nf\">arc</span><span class=\"p\">(</span><span class=\"s2\">&quot;Y&quot;</span><span class=\"p\">,</span><span class=\"mi\">1</span><span class=\"p\">,</span><span class=\"s2\">&quot;e&quot;</span><span class=\"p\">,</span><span class=\"mi\">2</span><span class=\"p\">)</span> <span class=\"nf\">arc</span><span class=\"p\">(</span><span class=\"s2\">&quot;Z&quot;</span><span class=\"p\">,</span><span class=\"mi\">2</span><span class=\"p\">,</span><span class=\"s2\">&quot;e&quot;</span><span class=\"p\">,</span><span class=\"mi\">2</span><span class=\"p\">)</span> <span class=\"nf\">arc</span><span class=\"p\">(</span><span class=\"s2\">&quot;Z&quot;</span><span class=\"p\">,</span><span class=\"mi\">1</span><span class=\"p\">,</span><span class=\"s2\">&quot;e&quot;</span><span class=\"p\">,</span><span class=\"mi\">3</span><span class=\"p\">)</span> <span class=\"nf\">arc</span><span class=\"p\">(</span><span class=\"s2\">&quot;X&quot;</span><span class=\"p\">,</span><span class=\"mi\">2</span><span class=\"p\">,</span><span class=\"s2\">&quot;e&quot;</span><span class=\"p\">,</span><span class=\"mi\">3</span><span class=\"p\">)</span> <span class=\"nf\">newArc</span><span class=\"p\">(</span><span class=\"s2\">&quot;X&quot;</span><span class=\"p\">,</span><span class=\"mi\">1</span><span class=\"p\">,</span><span class=\"s2\">&quot;e&quot;</span><span class=\"p\">,</span><span class=\"mi\">1</span><span class=\"p\">)</span> <span class=\"nf\">newArc</span><span class=\"p\">(</span><span class=\"s2\">&quot;X&quot;</span><span class=\"p\">,</span><span class=\"mi\">2</span><span class=\"p\">,</span><span class=\"s2\">&quot;e&quot;</span><span class=\"p\">,</span><span class=\"mi\">3</span><span class=\"p\">)</span> <span class=\"nf\">eqOrd</span><span class=\"p\">(</span><span class=\"s2\">&quot;X&quot;</span><span class=\"p\">,</span><span class=\"s2\">&quot;Y&quot;</span><span class=\"p\">,</span><span class=\"s s-Atom\">node</span><span class=\"p\">)</span> <span class=\"nf\">newArc</span><span class=\"p\">(</span><span class=\"s2\">&quot;X&quot;</span><span class=\"p\">,</span><span class=\"mi\">2</span><span class=\"p\">,</span><span class=\"s2\">&quot;e&quot;</span><span class=\"p\">,</span><span class=\"mi\">1</span><span class=\"p\">)</span> <span class=\"nf\">newArc</span><span class=\"p\">(</span><span class=\"s2\">&quot;X&quot;</span><span class=\"p\">,</span><span class=\"mi\">1</span><span class=\"p\">,</span><span class=\"s2\">&quot;e&quot;</span><span class=\"p\">,</span><span class=\"mi\">2</span><span class=\"p\">)</span> <span class=\"nf\">newArc</span><span class=\"p\">(</span><span class=\"s2\">&quot;Z&quot;</span><span class=\"p\">,</span><span class=\"mi\">2</span><span class=\"p\">,</span><span class=\"s2\">&quot;e&quot;</span><span class=\"p\">,</span><span class=\"mi\">2</span><span class=\"p\">)</span> <span class=\"nf\">newArc</span><span class=\"p\">(</span><span class=\"s2\">&quot;Z&quot;</span><span class=\"p\">,</span><span class=\"mi\">1</span><span class=\"p\">,</span><span class=\"s2\">&quot;e&quot;</span><span class=\"p\">,</span><span class=\"mi\">3</span><span class=\"p\">)</span> <span class=\"nf\">ne</span><span class=\"p\">(</span><span class=\"mi\">1</span><span class=\"p\">,</span><span class=\"s2\">&quot;X&quot;</span><span class=\"p\">,</span><span class=\"s2\">&quot;X&quot;</span><span class=\"p\">)</span> <span class=\"nf\">ne</span><span class=\"p\">(</span><span class=\"mi\">2</span><span class=\"p\">,</span><span class=\"s2\">&quot;X&quot;</span><span class=\"p\">,</span><span class=\"s2\">&quot;Z&quot;</span><span class=\"p\">)</span> <span class=\"nf\">ne</span><span class=\"p\">(</span><span class=\"mi\">3</span><span class=\"p\">,</span><span class=\"s2\">&quot;Z&quot;</span><span class=\"p\">,</span><span class=\"s2\">&quot;X&quot;</span><span class=\"p\">)</span> <span class=\"nf\">ne</span><span class=\"p\">(</span><span class=\"s2\">&quot;X&quot;</span><span class=\"p\">,</span><span class=\"s2\">&quot;X&quot;</span><span class=\"p\">)</span> <span class=\"nf\">ne</span><span class=\"p\">(</span><span class=\"s2\">&quot;X&quot;</span><span class=\"p\">,</span><span class=\"s2\">&quot;Z&quot;</span><span class=\"p\">)</span> <span class=\"nf\">ne</span><span class=\"p\">(</span><span class=\"s2\">&quot;Z&quot;</span><span class=\"p\">,</span><span class=\"s2\">&quot;X&quot;</span><span class=\"p\">)</span> <span class=\"nf\">newVar</span><span class=\"p\">(</span><span class=\"s2\">&quot;Z&quot;</span><span class=\"p\">,</span><span class=\"s s-Atom\">node</span><span class=\"p\">)</span> <span class=\"nf\">neqOrd</span><span class=\"p\">(</span><span class=\"s2\">&quot;X&quot;</span><span class=\"p\">,</span><span class=\"s2\">&quot;Z&quot;</span><span class=\"p\">,</span><span class=\"s s-Atom\">node</span><span class=\"p\">)</span> <span class=\"nf\">eqOrdMinimal</span><span class=\"p\">(</span><span class=\"s2\">&quot;X&quot;</span><span class=\"p\">,</span><span class=\"s2\">&quot;Y&quot;</span><span class=\"p\">,</span><span class=\"s s-Atom\">node</span><span class=\"p\">)</span>\n",
       "<span class=\"lineno\">51 </span><span class=\"nv\">Answer</span><span class=\"s s-Atom\">:</span> <span class=\"mi\">26</span>\n",
       "<span class=\"lineno\">52 </span><span class=\"nf\">ruleH</span><span class=\"p\">(</span><span class=\"s2\">&quot;tri&quot;</span><span class=\"p\">)</span> <span class=\"nf\">newVar</span><span class=\"p\">(</span><span class=\"s2\">&quot;X&quot;</span><span class=\"p\">,</span><span class=\"s s-Atom\">node</span><span class=\"p\">)</span> <span class=\"nf\">ruleOcc</span><span class=\"p\">(</span><span class=\"s2\">&quot;e&quot;</span><span class=\"p\">,</span><span class=\"mi\">1</span><span class=\"p\">)</span> <span class=\"nf\">ruleOcc</span><span class=\"p\">(</span><span class=\"s2\">&quot;e&quot;</span><span class=\"p\">,</span><span class=\"mi\">2</span><span class=\"p\">)</span> <span class=\"nf\">ruleOcc</span><span class=\"p\">(</span><span class=\"s2\">&quot;e&quot;</span><span class=\"p\">,</span><span class=\"mi\">3</span><span class=\"p\">)</span> <span class=\"nf\">var</span><span class=\"p\">(</span><span class=\"s2\">&quot;X&quot;</span><span class=\"p\">,</span><span class=\"s s-Atom\">node</span><span class=\"p\">)</span> <span class=\"nf\">var</span><span class=\"p\">(</span><span class=\"s2\">&quot;Y&quot;</span><span class=\"p\">,</span><span class=\"s s-Atom\">node</span><span class=\"p\">)</span> <span class=\"nf\">var</span><span class=\"p\">(</span><span class=\"s2\">&quot;Z&quot;</span><span class=\"p\">,</span><span class=\"s s-Atom\">node</span><span class=\"p\">)</span> <span class=\"nf\">hArc</span><span class=\"p\">(</span><span class=\"s2\">&quot;X&quot;</span><span class=\"p\">,</span><span class=\"mi\">1</span><span class=\"p\">,</span><span class=\"s2\">&quot;tri&quot;</span><span class=\"p\">)</span> <span class=\"nf\">newHArc</span><span class=\"p\">(</span><span class=\"s2\">&quot;X&quot;</span><span class=\"p\">,</span><span class=\"mi\">1</span><span class=\"p\">,</span><span class=\"s2\">&quot;tri&quot;</span><span class=\"p\">)</span> <span class=\"nf\">arc</span><span class=\"p\">(</span><span class=\"s2\">&quot;X&quot;</span><span class=\"p\">,</span><span class=\"mi\">1</span><span class=\"p\">,</span><span class=\"s2\">&quot;e&quot;</span><span class=\"p\">,</span><span class=\"mi\">1</span><span class=\"p\">)</span> <span class=\"nf\">arc</span><span class=\"p\">(</span><span class=\"s2\">&quot;Y&quot;</span><span class=\"p\">,</span><span class=\"mi\">2</span><span class=\"p\">,</span><span class=\"s2\">&quot;e&quot;</span><span class=\"p\">,</span><span class=\"mi\">1</span><span class=\"p\">)</span> <span class=\"nf\">arc</span><span class=\"p\">(</span><span class=\"s2\">&quot;Y&quot;</span><span class=\"p\">,</span><span class=\"mi\">1</span><span class=\"p\">,</span><span class=\"s2\">&quot;e&quot;</span><span class=\"p\">,</span><span class=\"mi\">2</span><span class=\"p\">)</span> <span class=\"nf\">arc</span><span class=\"p\">(</span><span class=\"s2\">&quot;Z&quot;</span><span class=\"p\">,</span><span class=\"mi\">2</span><span class=\"p\">,</span><span class=\"s2\">&quot;e&quot;</span><span class=\"p\">,</span><span class=\"mi\">2</span><span class=\"p\">)</span> <span class=\"nf\">arc</span><span class=\"p\">(</span><span class=\"s2\">&quot;Z&quot;</span><span class=\"p\">,</span><span class=\"mi\">1</span><span class=\"p\">,</span><span class=\"s2\">&quot;e&quot;</span><span class=\"p\">,</span><span class=\"mi\">3</span><span class=\"p\">)</span> <span class=\"nf\">arc</span><span class=\"p\">(</span><span class=\"s2\">&quot;X&quot;</span><span class=\"p\">,</span><span class=\"mi\">2</span><span class=\"p\">,</span><span class=\"s2\">&quot;e&quot;</span><span class=\"p\">,</span><span class=\"mi\">3</span><span class=\"p\">)</span> <span class=\"nf\">newArc</span><span class=\"p\">(</span><span class=\"s2\">&quot;X&quot;</span><span class=\"p\">,</span><span class=\"mi\">1</span><span class=\"p\">,</span><span class=\"s2\">&quot;e&quot;</span><span class=\"p\">,</span><span class=\"mi\">1</span><span class=\"p\">)</span> <span class=\"nf\">newArc</span><span class=\"p\">(</span><span class=\"s2\">&quot;X&quot;</span><span class=\"p\">,</span><span class=\"mi\">2</span><span class=\"p\">,</span><span class=\"s2\">&quot;e&quot;</span><span class=\"p\">,</span><span class=\"mi\">3</span><span class=\"p\">)</span> <span class=\"nf\">eqOrd</span><span class=\"p\">(</span><span class=\"s2\">&quot;X&quot;</span><span class=\"p\">,</span><span class=\"s2\">&quot;Y&quot;</span><span class=\"p\">,</span><span class=\"s s-Atom\">node</span><span class=\"p\">)</span> <span class=\"nf\">newArc</span><span class=\"p\">(</span><span class=\"s2\">&quot;X&quot;</span><span class=\"p\">,</span><span class=\"mi\">2</span><span class=\"p\">,</span><span class=\"s2\">&quot;e&quot;</span><span class=\"p\">,</span><span class=\"mi\">1</span><span class=\"p\">)</span> <span class=\"nf\">newArc</span><span class=\"p\">(</span><span class=\"s2\">&quot;X&quot;</span><span class=\"p\">,</span><span class=\"mi\">1</span><span class=\"p\">,</span><span class=\"s2\">&quot;e&quot;</span><span class=\"p\">,</span><span class=\"mi\">2</span><span class=\"p\">)</span> <span class=\"nf\">newArc</span><span class=\"p\">(</span><span class=\"s2\">&quot;Z&quot;</span><span class=\"p\">,</span><span class=\"mi\">2</span><span class=\"p\">,</span><span class=\"s2\">&quot;e&quot;</span><span class=\"p\">,</span><span class=\"mi\">2</span><span class=\"p\">)</span> <span class=\"nf\">newArc</span><span class=\"p\">(</span><span class=\"s2\">&quot;Z&quot;</span><span class=\"p\">,</span><span class=\"mi\">1</span><span class=\"p\">,</span><span class=\"s2\">&quot;e&quot;</span><span class=\"p\">,</span><span class=\"mi\">3</span><span class=\"p\">)</span> <span class=\"nf\">ruleOccTrue</span><span class=\"p\">(</span><span class=\"s2\">&quot;e&quot;</span><span class=\"p\">,</span><span class=\"mi\">1</span><span class=\"p\">)</span> <span class=\"nf\">ne</span><span class=\"p\">(</span><span class=\"mi\">2</span><span class=\"p\">,</span><span class=\"s2\">&quot;X&quot;</span><span class=\"p\">,</span><span class=\"s2\">&quot;Z&quot;</span><span class=\"p\">)</span> <span class=\"nf\">ne</span><span class=\"p\">(</span><span class=\"mi\">3</span><span class=\"p\">,</span><span class=\"s2\">&quot;Z&quot;</span><span class=\"p\">,</span><span class=\"s2\">&quot;X&quot;</span><span class=\"p\">)</span> <span class=\"nf\">ne</span><span class=\"p\">(</span><span class=\"s2\">&quot;X&quot;</span><span class=\"p\">,</span><span class=\"s2\">&quot;Z&quot;</span><span class=\"p\">)</span> <span class=\"nf\">ne</span><span class=\"p\">(</span><span class=\"s2\">&quot;Z&quot;</span><span class=\"p\">,</span><span class=\"s2\">&quot;X&quot;</span><span class=\"p\">)</span> <span class=\"nf\">e</span><span class=\"p\">(</span><span class=\"mi\">1</span><span class=\"p\">,</span><span class=\"s2\">&quot;X&quot;</span><span class=\"p\">,</span><span class=\"s2\">&quot;X&quot;</span><span class=\"p\">)</span> <span class=\"nf\">e</span><span class=\"p\">(</span><span class=\"s2\">&quot;X&quot;</span><span class=\"p\">,</span><span class=\"s2\">&quot;X&quot;</span><span class=\"p\">)</span> <span class=\"nf\">newVar</span><span class=\"p\">(</span><span class=\"s2\">&quot;Z&quot;</span><span class=\"p\">,</span><span class=\"s s-Atom\">node</span><span class=\"p\">)</span> <span class=\"nf\">neqOrd</span><span class=\"p\">(</span><span class=\"s2\">&quot;X&quot;</span><span class=\"p\">,</span><span class=\"s2\">&quot;Z&quot;</span><span class=\"p\">,</span><span class=\"s s-Atom\">node</span><span class=\"p\">)</span> <span class=\"nf\">eqOrdMinimal</span><span class=\"p\">(</span><span class=\"s2\">&quot;X&quot;</span><span class=\"p\">,</span><span class=\"s2\">&quot;Y&quot;</span><span class=\"p\">,</span><span class=\"s s-Atom\">node</span><span class=\"p\">)</span>\n",
       "<span class=\"lineno\">53 </span><span class=\"nv\">Answer</span><span class=\"s s-Atom\">:</span> <span class=\"mi\">27</span>\n",
       "<span class=\"lineno\">54 </span><span class=\"nf\">ruleH</span><span class=\"p\">(</span><span class=\"s2\">&quot;tri&quot;</span><span class=\"p\">)</span> <span class=\"nf\">newVar</span><span class=\"p\">(</span><span class=\"s2\">&quot;X&quot;</span><span class=\"p\">,</span><span class=\"s s-Atom\">node</span><span class=\"p\">)</span> <span class=\"nf\">ruleOcc</span><span class=\"p\">(</span><span class=\"s2\">&quot;e&quot;</span><span class=\"p\">,</span><span class=\"mi\">1</span><span class=\"p\">)</span> <span class=\"nf\">ruleOcc</span><span class=\"p\">(</span><span class=\"s2\">&quot;e&quot;</span><span class=\"p\">,</span><span class=\"mi\">2</span><span class=\"p\">)</span> <span class=\"nf\">ruleOcc</span><span class=\"p\">(</span><span class=\"s2\">&quot;e&quot;</span><span class=\"p\">,</span><span class=\"mi\">3</span><span class=\"p\">)</span> <span class=\"nf\">var</span><span class=\"p\">(</span><span class=\"s2\">&quot;X&quot;</span><span class=\"p\">,</span><span class=\"s s-Atom\">node</span><span class=\"p\">)</span> <span class=\"nf\">var</span><span class=\"p\">(</span><span class=\"s2\">&quot;Y&quot;</span><span class=\"p\">,</span><span class=\"s s-Atom\">node</span><span class=\"p\">)</span> <span class=\"nf\">var</span><span class=\"p\">(</span><span class=\"s2\">&quot;Z&quot;</span><span class=\"p\">,</span><span class=\"s s-Atom\">node</span><span class=\"p\">)</span> <span class=\"nf\">hArc</span><span class=\"p\">(</span><span class=\"s2\">&quot;X&quot;</span><span class=\"p\">,</span><span class=\"mi\">1</span><span class=\"p\">,</span><span class=\"s2\">&quot;tri&quot;</span><span class=\"p\">)</span> <span class=\"nf\">newHArc</span><span class=\"p\">(</span><span class=\"s2\">&quot;X&quot;</span><span class=\"p\">,</span><span class=\"mi\">1</span><span class=\"p\">,</span><span class=\"s2\">&quot;tri&quot;</span><span class=\"p\">)</span> <span class=\"nf\">arc</span><span class=\"p\">(</span><span class=\"s2\">&quot;X&quot;</span><span class=\"p\">,</span><span class=\"mi\">1</span><span class=\"p\">,</span><span class=\"s2\">&quot;e&quot;</span><span class=\"p\">,</span><span class=\"mi\">1</span><span class=\"p\">)</span> <span class=\"nf\">arc</span><span class=\"p\">(</span><span class=\"s2\">&quot;Y&quot;</span><span class=\"p\">,</span><span class=\"mi\">2</span><span class=\"p\">,</span><span class=\"s2\">&quot;e&quot;</span><span class=\"p\">,</span><span class=\"mi\">1</span><span class=\"p\">)</span> <span class=\"nf\">arc</span><span class=\"p\">(</span><span class=\"s2\">&quot;Y&quot;</span><span class=\"p\">,</span><span class=\"mi\">1</span><span class=\"p\">,</span><span class=\"s2\">&quot;e&quot;</span><span class=\"p\">,</span><span class=\"mi\">2</span><span class=\"p\">)</span> <span class=\"nf\">arc</span><span class=\"p\">(</span><span class=\"s2\">&quot;Z&quot;</span><span class=\"p\">,</span><span class=\"mi\">2</span><span class=\"p\">,</span><span class=\"s2\">&quot;e&quot;</span><span class=\"p\">,</span><span class=\"mi\">2</span><span class=\"p\">)</span> <span class=\"nf\">arc</span><span class=\"p\">(</span><span class=\"s2\">&quot;Z&quot;</span><span class=\"p\">,</span><span class=\"mi\">1</span><span class=\"p\">,</span><span class=\"s2\">&quot;e&quot;</span><span class=\"p\">,</span><span class=\"mi\">3</span><span class=\"p\">)</span> <span class=\"nf\">arc</span><span class=\"p\">(</span><span class=\"s2\">&quot;X&quot;</span><span class=\"p\">,</span><span class=\"mi\">2</span><span class=\"p\">,</span><span class=\"s2\">&quot;e&quot;</span><span class=\"p\">,</span><span class=\"mi\">3</span><span class=\"p\">)</span> <span class=\"nf\">newArc</span><span class=\"p\">(</span><span class=\"s2\">&quot;X&quot;</span><span class=\"p\">,</span><span class=\"mi\">1</span><span class=\"p\">,</span><span class=\"s2\">&quot;e&quot;</span><span class=\"p\">,</span><span class=\"mi\">1</span><span class=\"p\">)</span> <span class=\"nf\">newArc</span><span class=\"p\">(</span><span class=\"s2\">&quot;X&quot;</span><span class=\"p\">,</span><span class=\"mi\">2</span><span class=\"p\">,</span><span class=\"s2\">&quot;e&quot;</span><span class=\"p\">,</span><span class=\"mi\">3</span><span class=\"p\">)</span> <span class=\"nf\">eqOrd</span><span class=\"p\">(</span><span class=\"s2\">&quot;X&quot;</span><span class=\"p\">,</span><span class=\"s2\">&quot;Y&quot;</span><span class=\"p\">,</span><span class=\"s s-Atom\">node</span><span class=\"p\">)</span> <span class=\"nf\">newArc</span><span class=\"p\">(</span><span class=\"s2\">&quot;X&quot;</span><span class=\"p\">,</span><span class=\"mi\">2</span><span class=\"p\">,</span><span class=\"s2\">&quot;e&quot;</span><span class=\"p\">,</span><span class=\"mi\">1</span><span class=\"p\">)</span> <span class=\"nf\">newArc</span><span class=\"p\">(</span><span class=\"s2\">&quot;X&quot;</span><span class=\"p\">,</span><span class=\"mi\">1</span><span class=\"p\">,</span><span class=\"s2\">&quot;e&quot;</span><span class=\"p\">,</span><span class=\"mi\">2</span><span class=\"p\">)</span> <span class=\"nf\">newArc</span><span class=\"p\">(</span><span class=\"s2\">&quot;Z&quot;</span><span class=\"p\">,</span><span class=\"mi\">2</span><span class=\"p\">,</span><span class=\"s2\">&quot;e&quot;</span><span class=\"p\">,</span><span class=\"mi\">2</span><span class=\"p\">)</span> <span class=\"nf\">newArc</span><span class=\"p\">(</span><span class=\"s2\">&quot;Z&quot;</span><span class=\"p\">,</span><span class=\"mi\">1</span><span class=\"p\">,</span><span class=\"s2\">&quot;e&quot;</span><span class=\"p\">,</span><span class=\"mi\">3</span><span class=\"p\">)</span> <span class=\"nf\">ruleOccTrue</span><span class=\"p\">(</span><span class=\"s2\">&quot;e&quot;</span><span class=\"p\">,</span><span class=\"mi\">3</span><span class=\"p\">)</span> <span class=\"nf\">ne</span><span class=\"p\">(</span><span class=\"mi\">1</span><span class=\"p\">,</span><span class=\"s2\">&quot;X&quot;</span><span class=\"p\">,</span><span class=\"s2\">&quot;X&quot;</span><span class=\"p\">)</span> <span class=\"nf\">ne</span><span class=\"p\">(</span><span class=\"mi\">2</span><span class=\"p\">,</span><span class=\"s2\">&quot;X&quot;</span><span class=\"p\">,</span><span class=\"s2\">&quot;Z&quot;</span><span class=\"p\">)</span> <span class=\"nf\">ne</span><span class=\"p\">(</span><span class=\"s2\">&quot;X&quot;</span><span class=\"p\">,</span><span class=\"s2\">&quot;X&quot;</span><span class=\"p\">)</span> <span class=\"nf\">ne</span><span class=\"p\">(</span><span class=\"s2\">&quot;X&quot;</span><span class=\"p\">,</span><span class=\"s2\">&quot;Z&quot;</span><span class=\"p\">)</span> <span class=\"nf\">e</span><span class=\"p\">(</span><span class=\"mi\">3</span><span class=\"p\">,</span><span class=\"s2\">&quot;Z&quot;</span><span class=\"p\">,</span><span class=\"s2\">&quot;X&quot;</span><span class=\"p\">)</span> <span class=\"nf\">e</span><span class=\"p\">(</span><span class=\"s2\">&quot;Z&quot;</span><span class=\"p\">,</span><span class=\"s2\">&quot;X&quot;</span><span class=\"p\">)</span> <span class=\"nf\">newVar</span><span class=\"p\">(</span><span class=\"s2\">&quot;Z&quot;</span><span class=\"p\">,</span><span class=\"s s-Atom\">node</span><span class=\"p\">)</span> <span class=\"nf\">neqOrd</span><span class=\"p\">(</span><span class=\"s2\">&quot;X&quot;</span><span class=\"p\">,</span><span class=\"s2\">&quot;Z&quot;</span><span class=\"p\">,</span><span class=\"s s-Atom\">node</span><span class=\"p\">)</span> <span class=\"nf\">eqOrdMinimal</span><span class=\"p\">(</span><span class=\"s2\">&quot;X&quot;</span><span class=\"p\">,</span><span class=\"s2\">&quot;Y&quot;</span><span class=\"p\">,</span><span class=\"s s-Atom\">node</span><span class=\"p\">)</span>\n",
       "<span class=\"lineno\">55 </span><span class=\"nv\">Answer</span><span class=\"s s-Atom\">:</span> <span class=\"mi\">28</span>\n",
       "<span class=\"lineno\">56 </span><span class=\"nf\">ruleH</span><span class=\"p\">(</span><span class=\"s2\">&quot;tri&quot;</span><span class=\"p\">)</span> <span class=\"nf\">newVar</span><span class=\"p\">(</span><span class=\"s2\">&quot;X&quot;</span><span class=\"p\">,</span><span class=\"s s-Atom\">node</span><span class=\"p\">)</span> <span class=\"nf\">ruleOcc</span><span class=\"p\">(</span><span class=\"s2\">&quot;e&quot;</span><span class=\"p\">,</span><span class=\"mi\">1</span><span class=\"p\">)</span> <span class=\"nf\">ruleOcc</span><span class=\"p\">(</span><span class=\"s2\">&quot;e&quot;</span><span class=\"p\">,</span><span class=\"mi\">2</span><span class=\"p\">)</span> <span class=\"nf\">ruleOcc</span><span class=\"p\">(</span><span class=\"s2\">&quot;e&quot;</span><span class=\"p\">,</span><span class=\"mi\">3</span><span class=\"p\">)</span> <span class=\"nf\">var</span><span class=\"p\">(</span><span class=\"s2\">&quot;X&quot;</span><span class=\"p\">,</span><span class=\"s s-Atom\">node</span><span class=\"p\">)</span> <span class=\"nf\">var</span><span class=\"p\">(</span><span class=\"s2\">&quot;Y&quot;</span><span class=\"p\">,</span><span class=\"s s-Atom\">node</span><span class=\"p\">)</span> <span class=\"nf\">var</span><span class=\"p\">(</span><span class=\"s2\">&quot;Z&quot;</span><span class=\"p\">,</span><span class=\"s s-Atom\">node</span><span class=\"p\">)</span> <span class=\"nf\">hArc</span><span class=\"p\">(</span><span class=\"s2\">&quot;X&quot;</span><span class=\"p\">,</span><span class=\"mi\">1</span><span class=\"p\">,</span><span class=\"s2\">&quot;tri&quot;</span><span class=\"p\">)</span> <span class=\"nf\">newHArc</span><span class=\"p\">(</span><span class=\"s2\">&quot;X&quot;</span><span class=\"p\">,</span><span class=\"mi\">1</span><span class=\"p\">,</span><span class=\"s2\">&quot;tri&quot;</span><span class=\"p\">)</span> <span class=\"nf\">arc</span><span class=\"p\">(</span><span class=\"s2\">&quot;X&quot;</span><span class=\"p\">,</span><span class=\"mi\">1</span><span class=\"p\">,</span><span class=\"s2\">&quot;e&quot;</span><span class=\"p\">,</span><span class=\"mi\">1</span><span class=\"p\">)</span> <span class=\"nf\">arc</span><span class=\"p\">(</span><span class=\"s2\">&quot;Y&quot;</span><span class=\"p\">,</span><span class=\"mi\">2</span><span class=\"p\">,</span><span class=\"s2\">&quot;e&quot;</span><span class=\"p\">,</span><span class=\"mi\">1</span><span class=\"p\">)</span> <span class=\"nf\">arc</span><span class=\"p\">(</span><span class=\"s2\">&quot;Y&quot;</span><span class=\"p\">,</span><span class=\"mi\">1</span><span class=\"p\">,</span><span class=\"s2\">&quot;e&quot;</span><span class=\"p\">,</span><span class=\"mi\">2</span><span class=\"p\">)</span> <span class=\"nf\">arc</span><span class=\"p\">(</span><span class=\"s2\">&quot;Z&quot;</span><span class=\"p\">,</span><span class=\"mi\">2</span><span class=\"p\">,</span><span class=\"s2\">&quot;e&quot;</span><span class=\"p\">,</span><span class=\"mi\">2</span><span class=\"p\">)</span> <span class=\"nf\">arc</span><span class=\"p\">(</span><span class=\"s2\">&quot;Z&quot;</span><span class=\"p\">,</span><span class=\"mi\">1</span><span class=\"p\">,</span><span class=\"s2\">&quot;e&quot;</span><span class=\"p\">,</span><span class=\"mi\">3</span><span class=\"p\">)</span> <span class=\"nf\">arc</span><span class=\"p\">(</span><span class=\"s2\">&quot;X&quot;</span><span class=\"p\">,</span><span class=\"mi\">2</span><span class=\"p\">,</span><span class=\"s2\">&quot;e&quot;</span><span class=\"p\">,</span><span class=\"mi\">3</span><span class=\"p\">)</span> <span class=\"nf\">newArc</span><span class=\"p\">(</span><span class=\"s2\">&quot;X&quot;</span><span class=\"p\">,</span><span class=\"mi\">1</span><span class=\"p\">,</span><span class=\"s2\">&quot;e&quot;</span><span class=\"p\">,</span><span class=\"mi\">1</span><span class=\"p\">)</span> <span class=\"nf\">newArc</span><span class=\"p\">(</span><span class=\"s2\">&quot;X&quot;</span><span class=\"p\">,</span><span class=\"mi\">2</span><span class=\"p\">,</span><span class=\"s2\">&quot;e&quot;</span><span class=\"p\">,</span><span class=\"mi\">3</span><span class=\"p\">)</span> <span class=\"nf\">eqOrd</span><span class=\"p\">(</span><span class=\"s2\">&quot;X&quot;</span><span class=\"p\">,</span><span class=\"s2\">&quot;Y&quot;</span><span class=\"p\">,</span><span class=\"s s-Atom\">node</span><span class=\"p\">)</span> <span class=\"nf\">newArc</span><span class=\"p\">(</span><span class=\"s2\">&quot;X&quot;</span><span class=\"p\">,</span><span class=\"mi\">2</span><span class=\"p\">,</span><span class=\"s2\">&quot;e&quot;</span><span class=\"p\">,</span><span class=\"mi\">1</span><span class=\"p\">)</span> <span class=\"nf\">newArc</span><span class=\"p\">(</span><span class=\"s2\">&quot;X&quot;</span><span class=\"p\">,</span><span class=\"mi\">1</span><span class=\"p\">,</span><span class=\"s2\">&quot;e&quot;</span><span class=\"p\">,</span><span class=\"mi\">2</span><span class=\"p\">)</span> <span class=\"nf\">newArc</span><span class=\"p\">(</span><span class=\"s2\">&quot;Z&quot;</span><span class=\"p\">,</span><span class=\"mi\">2</span><span class=\"p\">,</span><span class=\"s2\">&quot;e&quot;</span><span class=\"p\">,</span><span class=\"mi\">2</span><span class=\"p\">)</span> <span class=\"nf\">newArc</span><span class=\"p\">(</span><span class=\"s2\">&quot;Z&quot;</span><span class=\"p\">,</span><span class=\"mi\">1</span><span class=\"p\">,</span><span class=\"s2\">&quot;e&quot;</span><span class=\"p\">,</span><span class=\"mi\">3</span><span class=\"p\">)</span> <span class=\"nf\">ruleOccTrue</span><span class=\"p\">(</span><span class=\"s2\">&quot;e&quot;</span><span class=\"p\">,</span><span class=\"mi\">1</span><span class=\"p\">)</span> <span class=\"nf\">ruleOccTrue</span><span class=\"p\">(</span><span class=\"s2\">&quot;e&quot;</span><span class=\"p\">,</span><span class=\"mi\">3</span><span class=\"p\">)</span> <span class=\"nf\">ne</span><span class=\"p\">(</span><span class=\"mi\">2</span><span class=\"p\">,</span><span class=\"s2\">&quot;X&quot;</span><span class=\"p\">,</span><span class=\"s2\">&quot;Z&quot;</span><span class=\"p\">)</span> <span class=\"nf\">ne</span><span class=\"p\">(</span><span class=\"s2\">&quot;X&quot;</span><span class=\"p\">,</span><span class=\"s2\">&quot;Z&quot;</span><span class=\"p\">)</span> <span class=\"nf\">e</span><span class=\"p\">(</span><span class=\"mi\">1</span><span class=\"p\">,</span><span class=\"s2\">&quot;X&quot;</span><span class=\"p\">,</span><span class=\"s2\">&quot;X&quot;</span><span class=\"p\">)</span> <span class=\"nf\">e</span><span class=\"p\">(</span><span class=\"mi\">3</span><span class=\"p\">,</span><span class=\"s2\">&quot;Z&quot;</span><span class=\"p\">,</span><span class=\"s2\">&quot;X&quot;</span><span class=\"p\">)</span> <span class=\"nf\">e</span><span class=\"p\">(</span><span class=\"s2\">&quot;X&quot;</span><span class=\"p\">,</span><span class=\"s2\">&quot;X&quot;</span><span class=\"p\">)</span> <span class=\"nf\">e</span><span class=\"p\">(</span><span class=\"s2\">&quot;Z&quot;</span><span class=\"p\">,</span><span class=\"s2\">&quot;X&quot;</span><span class=\"p\">)</span> <span class=\"nf\">newVar</span><span class=\"p\">(</span><span class=\"s2\">&quot;Z&quot;</span><span class=\"p\">,</span><span class=\"s s-Atom\">node</span><span class=\"p\">)</span> <span class=\"nf\">neqOrd</span><span class=\"p\">(</span><span class=\"s2\">&quot;X&quot;</span><span class=\"p\">,</span><span class=\"s2\">&quot;Z&quot;</span><span class=\"p\">,</span><span class=\"s s-Atom\">node</span><span class=\"p\">)</span> <span class=\"nf\">eqOrdMinimal</span><span class=\"p\">(</span><span class=\"s2\">&quot;X&quot;</span><span class=\"p\">,</span><span class=\"s2\">&quot;Y&quot;</span><span class=\"p\">,</span><span class=\"s s-Atom\">node</span><span class=\"p\">)</span>\n",
       "<span class=\"lineno\">57 </span><span class=\"nv\">Answer</span><span class=\"s s-Atom\">:</span> <span class=\"mi\">29</span>\n",
       "<span class=\"lineno\">58 </span><span class=\"nf\">ruleH</span><span class=\"p\">(</span><span class=\"s2\">&quot;tri&quot;</span><span class=\"p\">)</span> <span class=\"nf\">newVar</span><span class=\"p\">(</span><span class=\"s2\">&quot;X&quot;</span><span class=\"p\">,</span><span class=\"s s-Atom\">node</span><span class=\"p\">)</span> <span class=\"nf\">ruleOcc</span><span class=\"p\">(</span><span class=\"s2\">&quot;e&quot;</span><span class=\"p\">,</span><span class=\"mi\">1</span><span class=\"p\">)</span> <span class=\"nf\">ruleOcc</span><span class=\"p\">(</span><span class=\"s2\">&quot;e&quot;</span><span class=\"p\">,</span><span class=\"mi\">2</span><span class=\"p\">)</span> <span class=\"nf\">ruleOcc</span><span class=\"p\">(</span><span class=\"s2\">&quot;e&quot;</span><span class=\"p\">,</span><span class=\"mi\">3</span><span class=\"p\">)</span> <span class=\"nf\">var</span><span class=\"p\">(</span><span class=\"s2\">&quot;X&quot;</span><span class=\"p\">,</span><span class=\"s s-Atom\">node</span><span class=\"p\">)</span> <span class=\"nf\">var</span><span class=\"p\">(</span><span class=\"s2\">&quot;Y&quot;</span><span class=\"p\">,</span><span class=\"s s-Atom\">node</span><span class=\"p\">)</span> <span class=\"nf\">var</span><span class=\"p\">(</span><span class=\"s2\">&quot;Z&quot;</span><span class=\"p\">,</span><span class=\"s s-Atom\">node</span><span class=\"p\">)</span> <span class=\"nf\">hArc</span><span class=\"p\">(</span><span class=\"s2\">&quot;X&quot;</span><span class=\"p\">,</span><span class=\"mi\">1</span><span class=\"p\">,</span><span class=\"s2\">&quot;tri&quot;</span><span class=\"p\">)</span> <span class=\"nf\">newHArc</span><span class=\"p\">(</span><span class=\"s2\">&quot;X&quot;</span><span class=\"p\">,</span><span class=\"mi\">1</span><span class=\"p\">,</span><span class=\"s2\">&quot;tri&quot;</span><span class=\"p\">)</span> <span class=\"nf\">arc</span><span class=\"p\">(</span><span class=\"s2\">&quot;X&quot;</span><span class=\"p\">,</span><span class=\"mi\">1</span><span class=\"p\">,</span><span class=\"s2\">&quot;e&quot;</span><span class=\"p\">,</span><span class=\"mi\">1</span><span class=\"p\">)</span> <span class=\"nf\">arc</span><span class=\"p\">(</span><span class=\"s2\">&quot;Y&quot;</span><span class=\"p\">,</span><span class=\"mi\">2</span><span class=\"p\">,</span><span class=\"s2\">&quot;e&quot;</span><span class=\"p\">,</span><span class=\"mi\">1</span><span class=\"p\">)</span> <span class=\"nf\">arc</span><span class=\"p\">(</span><span class=\"s2\">&quot;Y&quot;</span><span class=\"p\">,</span><span class=\"mi\">1</span><span class=\"p\">,</span><span class=\"s2\">&quot;e&quot;</span><span class=\"p\">,</span><span class=\"mi\">2</span><span class=\"p\">)</span> <span class=\"nf\">arc</span><span class=\"p\">(</span><span class=\"s2\">&quot;Z&quot;</span><span class=\"p\">,</span><span class=\"mi\">2</span><span class=\"p\">,</span><span class=\"s2\">&quot;e&quot;</span><span class=\"p\">,</span><span class=\"mi\">2</span><span class=\"p\">)</span> <span class=\"nf\">arc</span><span class=\"p\">(</span><span class=\"s2\">&quot;Z&quot;</span><span class=\"p\">,</span><span class=\"mi\">1</span><span class=\"p\">,</span><span class=\"s2\">&quot;e&quot;</span><span class=\"p\">,</span><span class=\"mi\">3</span><span class=\"p\">)</span> <span class=\"nf\">arc</span><span class=\"p\">(</span><span class=\"s2\">&quot;X&quot;</span><span class=\"p\">,</span><span class=\"mi\">2</span><span class=\"p\">,</span><span class=\"s2\">&quot;e&quot;</span><span class=\"p\">,</span><span class=\"mi\">3</span><span class=\"p\">)</span> <span class=\"nf\">newArc</span><span class=\"p\">(</span><span class=\"s2\">&quot;X&quot;</span><span class=\"p\">,</span><span class=\"mi\">1</span><span class=\"p\">,</span><span class=\"s2\">&quot;e&quot;</span><span class=\"p\">,</span><span class=\"mi\">1</span><span class=\"p\">)</span> <span class=\"nf\">newArc</span><span class=\"p\">(</span><span class=\"s2\">&quot;X&quot;</span><span class=\"p\">,</span><span class=\"mi\">2</span><span class=\"p\">,</span><span class=\"s2\">&quot;e&quot;</span><span class=\"p\">,</span><span class=\"mi\">3</span><span class=\"p\">)</span> <span class=\"nf\">eqOrd</span><span class=\"p\">(</span><span class=\"s2\">&quot;X&quot;</span><span class=\"p\">,</span><span class=\"s2\">&quot;Y&quot;</span><span class=\"p\">,</span><span class=\"s s-Atom\">node</span><span class=\"p\">)</span> <span class=\"nf\">eqOrd</span><span class=\"p\">(</span><span class=\"s2\">&quot;X&quot;</span><span class=\"p\">,</span><span class=\"s2\">&quot;Z&quot;</span><span class=\"p\">,</span><span class=\"s s-Atom\">node</span><span class=\"p\">)</span> <span class=\"nf\">eqOrd</span><span class=\"p\">(</span><span class=\"s2\">&quot;Y&quot;</span><span class=\"p\">,</span><span class=\"s2\">&quot;Z&quot;</span><span class=\"p\">,</span><span class=\"s s-Atom\">node</span><span class=\"p\">)</span> <span class=\"nf\">newArc</span><span class=\"p\">(</span><span class=\"s2\">&quot;X&quot;</span><span class=\"p\">,</span><span class=\"mi\">2</span><span class=\"p\">,</span><span class=\"s2\">&quot;e&quot;</span><span class=\"p\">,</span><span class=\"mi\">1</span><span class=\"p\">)</span> <span class=\"nf\">newArc</span><span class=\"p\">(</span><span class=\"s2\">&quot;X&quot;</span><span class=\"p\">,</span><span class=\"mi\">1</span><span class=\"p\">,</span><span class=\"s2\">&quot;e&quot;</span><span class=\"p\">,</span><span class=\"mi\">2</span><span class=\"p\">)</span> <span class=\"nf\">newArc</span><span class=\"p\">(</span><span class=\"s2\">&quot;X&quot;</span><span class=\"p\">,</span><span class=\"mi\">2</span><span class=\"p\">,</span><span class=\"s2\">&quot;e&quot;</span><span class=\"p\">,</span><span class=\"mi\">2</span><span class=\"p\">)</span> <span class=\"nf\">newArc</span><span class=\"p\">(</span><span class=\"s2\">&quot;X&quot;</span><span class=\"p\">,</span><span class=\"mi\">1</span><span class=\"p\">,</span><span class=\"s2\">&quot;e&quot;</span><span class=\"p\">,</span><span class=\"mi\">3</span><span class=\"p\">)</span> <span class=\"nf\">ne</span><span class=\"p\">(</span><span class=\"mi\">1</span><span class=\"p\">,</span><span class=\"s2\">&quot;X&quot;</span><span class=\"p\">,</span><span class=\"s2\">&quot;X&quot;</span><span class=\"p\">)</span> <span class=\"nf\">ne</span><span class=\"p\">(</span><span class=\"mi\">2</span><span class=\"p\">,</span><span class=\"s2\">&quot;X&quot;</span><span class=\"p\">,</span><span class=\"s2\">&quot;X&quot;</span><span class=\"p\">)</span> <span class=\"nf\">ne</span><span class=\"p\">(</span><span class=\"mi\">3</span><span class=\"p\">,</span><span class=\"s2\">&quot;X&quot;</span><span class=\"p\">,</span><span class=\"s2\">&quot;X&quot;</span><span class=\"p\">)</span> <span class=\"nf\">ne</span><span class=\"p\">(</span><span class=\"s2\">&quot;X&quot;</span><span class=\"p\">,</span><span class=\"s2\">&quot;X&quot;</span><span class=\"p\">)</span> <span class=\"nf\">eqOrdMinimal</span><span class=\"p\">(</span><span class=\"s2\">&quot;X&quot;</span><span class=\"p\">,</span><span class=\"s2\">&quot;Y&quot;</span><span class=\"p\">,</span><span class=\"s s-Atom\">node</span><span class=\"p\">)</span> <span class=\"nf\">eqOrdMinimal</span><span class=\"p\">(</span><span class=\"s2\">&quot;X&quot;</span><span class=\"p\">,</span><span class=\"s2\">&quot;Z&quot;</span><span class=\"p\">,</span><span class=\"s s-Atom\">node</span><span class=\"p\">)</span>\n",
       "<span class=\"lineno\">59 </span><span class=\"nv\">Answer</span><span class=\"s s-Atom\">:</span> <span class=\"mi\">30</span>\n",
       "<span class=\"lineno\">60 </span><span class=\"nf\">ruleH</span><span class=\"p\">(</span><span class=\"s2\">&quot;tri&quot;</span><span class=\"p\">)</span> <span class=\"nf\">newVar</span><span class=\"p\">(</span><span class=\"s2\">&quot;X&quot;</span><span class=\"p\">,</span><span class=\"s s-Atom\">node</span><span class=\"p\">)</span> <span class=\"nf\">ruleOcc</span><span class=\"p\">(</span><span class=\"s2\">&quot;e&quot;</span><span class=\"p\">,</span><span class=\"mi\">1</span><span class=\"p\">)</span> <span class=\"nf\">ruleOcc</span><span class=\"p\">(</span><span class=\"s2\">&quot;e&quot;</span><span class=\"p\">,</span><span class=\"mi\">2</span><span class=\"p\">)</span> <span class=\"nf\">ruleOcc</span><span class=\"p\">(</span><span class=\"s2\">&quot;e&quot;</span><span class=\"p\">,</span><span class=\"mi\">3</span><span class=\"p\">)</span> <span class=\"nf\">var</span><span class=\"p\">(</span><span class=\"s2\">&quot;X&quot;</span><span class=\"p\">,</span><span class=\"s s-Atom\">node</span><span class=\"p\">)</span> <span class=\"nf\">var</span><span class=\"p\">(</span><span class=\"s2\">&quot;Y&quot;</span><span class=\"p\">,</span><span class=\"s s-Atom\">node</span><span class=\"p\">)</span> <span class=\"nf\">var</span><span class=\"p\">(</span><span class=\"s2\">&quot;Z&quot;</span><span class=\"p\">,</span><span class=\"s s-Atom\">node</span><span class=\"p\">)</span> <span class=\"nf\">hArc</span><span class=\"p\">(</span><span class=\"s2\">&quot;X&quot;</span><span class=\"p\">,</span><span class=\"mi\">1</span><span class=\"p\">,</span><span class=\"s2\">&quot;tri&quot;</span><span class=\"p\">)</span> <span class=\"nf\">newHArc</span><span class=\"p\">(</span><span class=\"s2\">&quot;X&quot;</span><span class=\"p\">,</span><span class=\"mi\">1</span><span class=\"p\">,</span><span class=\"s2\">&quot;tri&quot;</span><span class=\"p\">)</span> <span class=\"nf\">arc</span><span class=\"p\">(</span><span class=\"s2\">&quot;X&quot;</span><span class=\"p\">,</span><span class=\"mi\">1</span><span class=\"p\">,</span><span class=\"s2\">&quot;e&quot;</span><span class=\"p\">,</span><span class=\"mi\">1</span><span class=\"p\">)</span> <span class=\"nf\">arc</span><span class=\"p\">(</span><span class=\"s2\">&quot;Y&quot;</span><span class=\"p\">,</span><span class=\"mi\">2</span><span class=\"p\">,</span><span class=\"s2\">&quot;e&quot;</span><span class=\"p\">,</span><span class=\"mi\">1</span><span class=\"p\">)</span> <span class=\"nf\">arc</span><span class=\"p\">(</span><span class=\"s2\">&quot;Y&quot;</span><span class=\"p\">,</span><span class=\"mi\">1</span><span class=\"p\">,</span><span class=\"s2\">&quot;e&quot;</span><span class=\"p\">,</span><span class=\"mi\">2</span><span class=\"p\">)</span> <span class=\"nf\">arc</span><span class=\"p\">(</span><span class=\"s2\">&quot;Z&quot;</span><span class=\"p\">,</span><span class=\"mi\">2</span><span class=\"p\">,</span><span class=\"s2\">&quot;e&quot;</span><span class=\"p\">,</span><span class=\"mi\">2</span><span class=\"p\">)</span> <span class=\"nf\">arc</span><span class=\"p\">(</span><span class=\"s2\">&quot;Z&quot;</span><span class=\"p\">,</span><span class=\"mi\">1</span><span class=\"p\">,</span><span class=\"s2\">&quot;e&quot;</span><span class=\"p\">,</span><span class=\"mi\">3</span><span class=\"p\">)</span> <span class=\"nf\">arc</span><span class=\"p\">(</span><span class=\"s2\">&quot;X&quot;</span><span class=\"p\">,</span><span class=\"mi\">2</span><span class=\"p\">,</span><span class=\"s2\">&quot;e&quot;</span><span class=\"p\">,</span><span class=\"mi\">3</span><span class=\"p\">)</span> <span class=\"nf\">newArc</span><span class=\"p\">(</span><span class=\"s2\">&quot;X&quot;</span><span class=\"p\">,</span><span class=\"mi\">1</span><span class=\"p\">,</span><span class=\"s2\">&quot;e&quot;</span><span class=\"p\">,</span><span class=\"mi\">1</span><span class=\"p\">)</span> <span class=\"nf\">newArc</span><span class=\"p\">(</span><span class=\"s2\">&quot;X&quot;</span><span class=\"p\">,</span><span class=\"mi\">2</span><span class=\"p\">,</span><span class=\"s2\">&quot;e&quot;</span><span class=\"p\">,</span><span class=\"mi\">3</span><span class=\"p\">)</span> <span class=\"nf\">eqOrd</span><span class=\"p\">(</span><span class=\"s2\">&quot;X&quot;</span><span class=\"p\">,</span><span class=\"s2\">&quot;Y&quot;</span><span class=\"p\">,</span><span class=\"s s-Atom\">node</span><span class=\"p\">)</span> <span class=\"nf\">newArc</span><span class=\"p\">(</span><span class=\"s2\">&quot;X&quot;</span><span class=\"p\">,</span><span class=\"mi\">2</span><span class=\"p\">,</span><span class=\"s2\">&quot;e&quot;</span><span class=\"p\">,</span><span class=\"mi\">1</span><span class=\"p\">)</span> <span class=\"nf\">newArc</span><span class=\"p\">(</span><span class=\"s2\">&quot;X&quot;</span><span class=\"p\">,</span><span class=\"mi\">1</span><span class=\"p\">,</span><span class=\"s2\">&quot;e&quot;</span><span class=\"p\">,</span><span class=\"mi\">2</span><span class=\"p\">)</span> <span class=\"nf\">newArc</span><span class=\"p\">(</span><span class=\"s2\">&quot;Z&quot;</span><span class=\"p\">,</span><span class=\"mi\">2</span><span class=\"p\">,</span><span class=\"s2\">&quot;e&quot;</span><span class=\"p\">,</span><span class=\"mi\">2</span><span class=\"p\">)</span> <span class=\"nf\">newArc</span><span class=\"p\">(</span><span class=\"s2\">&quot;Z&quot;</span><span class=\"p\">,</span><span class=\"mi\">1</span><span class=\"p\">,</span><span class=\"s2\">&quot;e&quot;</span><span class=\"p\">,</span><span class=\"mi\">3</span><span class=\"p\">)</span> <span class=\"nf\">ruleOccTrue</span><span class=\"p\">(</span><span class=\"s2\">&quot;e&quot;</span><span class=\"p\">,</span><span class=\"mi\">2</span><span class=\"p\">)</span> <span class=\"nf\">ne</span><span class=\"p\">(</span><span class=\"mi\">1</span><span class=\"p\">,</span><span class=\"s2\">&quot;X&quot;</span><span class=\"p\">,</span><span class=\"s2\">&quot;X&quot;</span><span class=\"p\">)</span> <span class=\"nf\">ne</span><span class=\"p\">(</span><span class=\"mi\">3</span><span class=\"p\">,</span><span class=\"s2\">&quot;Z&quot;</span><span class=\"p\">,</span><span class=\"s2\">&quot;X&quot;</span><span class=\"p\">)</span> <span class=\"nf\">ne</span><span class=\"p\">(</span><span class=\"s2\">&quot;X&quot;</span><span class=\"p\">,</span><span class=\"s2\">&quot;X&quot;</span><span class=\"p\">)</span> <span class=\"nf\">ne</span><span class=\"p\">(</span><span class=\"s2\">&quot;Z&quot;</span><span class=\"p\">,</span><span class=\"s2\">&quot;X&quot;</span><span class=\"p\">)</span> <span class=\"nf\">e</span><span class=\"p\">(</span><span class=\"mi\">2</span><span class=\"p\">,</span><span class=\"s2\">&quot;X&quot;</span><span class=\"p\">,</span><span class=\"s2\">&quot;Z&quot;</span><span class=\"p\">)</span> <span class=\"nf\">e</span><span class=\"p\">(</span><span class=\"s2\">&quot;X&quot;</span><span class=\"p\">,</span><span class=\"s2\">&quot;Z&quot;</span><span class=\"p\">)</span> <span class=\"nf\">newVar</span><span class=\"p\">(</span><span class=\"s2\">&quot;Z&quot;</span><span class=\"p\">,</span><span class=\"s s-Atom\">node</span><span class=\"p\">)</span> <span class=\"nf\">neqOrd</span><span class=\"p\">(</span><span class=\"s2\">&quot;X&quot;</span><span class=\"p\">,</span><span class=\"s2\">&quot;Z&quot;</span><span class=\"p\">,</span><span class=\"s s-Atom\">node</span><span class=\"p\">)</span> <span class=\"nf\">eqOrdMinimal</span><span class=\"p\">(</span><span class=\"s2\">&quot;X&quot;</span><span class=\"p\">,</span><span class=\"s2\">&quot;Y&quot;</span><span class=\"p\">,</span><span class=\"s s-Atom\">node</span><span class=\"p\">)</span>\n",
       "<span class=\"lineno\">61 </span><span class=\"nv\">Answer</span><span class=\"s s-Atom\">:</span> <span class=\"mi\">31</span>\n",
       "<span class=\"lineno\">62 </span><span class=\"nf\">ruleH</span><span class=\"p\">(</span><span class=\"s2\">&quot;tri&quot;</span><span class=\"p\">)</span> <span class=\"nf\">newVar</span><span class=\"p\">(</span><span class=\"s2\">&quot;X&quot;</span><span class=\"p\">,</span><span class=\"s s-Atom\">node</span><span class=\"p\">)</span> <span class=\"nf\">ruleOcc</span><span class=\"p\">(</span><span class=\"s2\">&quot;e&quot;</span><span class=\"p\">,</span><span class=\"mi\">1</span><span class=\"p\">)</span> <span class=\"nf\">ruleOcc</span><span class=\"p\">(</span><span class=\"s2\">&quot;e&quot;</span><span class=\"p\">,</span><span class=\"mi\">2</span><span class=\"p\">)</span> <span class=\"nf\">ruleOcc</span><span class=\"p\">(</span><span class=\"s2\">&quot;e&quot;</span><span class=\"p\">,</span><span class=\"mi\">3</span><span class=\"p\">)</span> <span class=\"nf\">var</span><span class=\"p\">(</span><span class=\"s2\">&quot;X&quot;</span><span class=\"p\">,</span><span class=\"s s-Atom\">node</span><span class=\"p\">)</span> <span class=\"nf\">var</span><span class=\"p\">(</span><span class=\"s2\">&quot;Y&quot;</span><span class=\"p\">,</span><span class=\"s s-Atom\">node</span><span class=\"p\">)</span> <span class=\"nf\">var</span><span class=\"p\">(</span><span class=\"s2\">&quot;Z&quot;</span><span class=\"p\">,</span><span class=\"s s-Atom\">node</span><span class=\"p\">)</span> <span class=\"nf\">hArc</span><span class=\"p\">(</span><span class=\"s2\">&quot;X&quot;</span><span class=\"p\">,</span><span class=\"mi\">1</span><span class=\"p\">,</span><span class=\"s2\">&quot;tri&quot;</span><span class=\"p\">)</span> <span class=\"nf\">newHArc</span><span class=\"p\">(</span><span class=\"s2\">&quot;X&quot;</span><span class=\"p\">,</span><span class=\"mi\">1</span><span class=\"p\">,</span><span class=\"s2\">&quot;tri&quot;</span><span class=\"p\">)</span> <span class=\"nf\">arc</span><span class=\"p\">(</span><span class=\"s2\">&quot;X&quot;</span><span class=\"p\">,</span><span class=\"mi\">1</span><span class=\"p\">,</span><span class=\"s2\">&quot;e&quot;</span><span class=\"p\">,</span><span class=\"mi\">1</span><span class=\"p\">)</span> <span class=\"nf\">arc</span><span class=\"p\">(</span><span class=\"s2\">&quot;Y&quot;</span><span class=\"p\">,</span><span class=\"mi\">2</span><span class=\"p\">,</span><span class=\"s2\">&quot;e&quot;</span><span class=\"p\">,</span><span class=\"mi\">1</span><span class=\"p\">)</span> <span class=\"nf\">arc</span><span class=\"p\">(</span><span class=\"s2\">&quot;Y&quot;</span><span class=\"p\">,</span><span class=\"mi\">1</span><span class=\"p\">,</span><span class=\"s2\">&quot;e&quot;</span><span class=\"p\">,</span><span class=\"mi\">2</span><span class=\"p\">)</span> <span class=\"nf\">arc</span><span class=\"p\">(</span><span class=\"s2\">&quot;Z&quot;</span><span class=\"p\">,</span><span class=\"mi\">2</span><span class=\"p\">,</span><span class=\"s2\">&quot;e&quot;</span><span class=\"p\">,</span><span class=\"mi\">2</span><span class=\"p\">)</span> <span class=\"nf\">arc</span><span class=\"p\">(</span><span class=\"s2\">&quot;Z&quot;</span><span class=\"p\">,</span><span class=\"mi\">1</span><span class=\"p\">,</span><span class=\"s2\">&quot;e&quot;</span><span class=\"p\">,</span><span class=\"mi\">3</span><span class=\"p\">)</span> <span class=\"nf\">arc</span><span class=\"p\">(</span><span class=\"s2\">&quot;X&quot;</span><span class=\"p\">,</span><span class=\"mi\">2</span><span class=\"p\">,</span><span class=\"s2\">&quot;e&quot;</span><span class=\"p\">,</span><span class=\"mi\">3</span><span class=\"p\">)</span> <span class=\"nf\">newArc</span><span class=\"p\">(</span><span class=\"s2\">&quot;X&quot;</span><span class=\"p\">,</span><span class=\"mi\">1</span><span class=\"p\">,</span><span class=\"s2\">&quot;e&quot;</span><span class=\"p\">,</span><span class=\"mi\">1</span><span class=\"p\">)</span> <span class=\"nf\">newArc</span><span class=\"p\">(</span><span class=\"s2\">&quot;X&quot;</span><span class=\"p\">,</span><span class=\"mi\">2</span><span class=\"p\">,</span><span class=\"s2\">&quot;e&quot;</span><span class=\"p\">,</span><span class=\"mi\">3</span><span class=\"p\">)</span> <span class=\"nf\">eqOrd</span><span class=\"p\">(</span><span class=\"s2\">&quot;X&quot;</span><span class=\"p\">,</span><span class=\"s2\">&quot;Y&quot;</span><span class=\"p\">,</span><span class=\"s s-Atom\">node</span><span class=\"p\">)</span> <span class=\"nf\">newArc</span><span class=\"p\">(</span><span class=\"s2\">&quot;X&quot;</span><span class=\"p\">,</span><span class=\"mi\">2</span><span class=\"p\">,</span><span class=\"s2\">&quot;e&quot;</span><span class=\"p\">,</span><span class=\"mi\">1</span><span class=\"p\">)</span> <span class=\"nf\">newArc</span><span class=\"p\">(</span><span class=\"s2\">&quot;X&quot;</span><span class=\"p\">,</span><span class=\"mi\">1</span><span class=\"p\">,</span><span class=\"s2\">&quot;e&quot;</span><span class=\"p\">,</span><span class=\"mi\">2</span><span class=\"p\">)</span> <span class=\"nf\">newArc</span><span class=\"p\">(</span><span class=\"s2\">&quot;Z&quot;</span><span class=\"p\">,</span><span class=\"mi\">2</span><span class=\"p\">,</span><span class=\"s2\">&quot;e&quot;</span><span class=\"p\">,</span><span class=\"mi\">2</span><span class=\"p\">)</span> <span class=\"nf\">newArc</span><span class=\"p\">(</span><span class=\"s2\">&quot;Z&quot;</span><span class=\"p\">,</span><span class=\"mi\">1</span><span class=\"p\">,</span><span class=\"s2\">&quot;e&quot;</span><span class=\"p\">,</span><span class=\"mi\">3</span><span class=\"p\">)</span> <span class=\"nf\">ruleOccTrue</span><span class=\"p\">(</span><span class=\"s2\">&quot;e&quot;</span><span class=\"p\">,</span><span class=\"mi\">1</span><span class=\"p\">)</span> <span class=\"nf\">ruleOccTrue</span><span class=\"p\">(</span><span class=\"s2\">&quot;e&quot;</span><span class=\"p\">,</span><span class=\"mi\">2</span><span class=\"p\">)</span> <span class=\"nf\">ne</span><span class=\"p\">(</span><span class=\"mi\">3</span><span class=\"p\">,</span><span class=\"s2\">&quot;Z&quot;</span><span class=\"p\">,</span><span class=\"s2\">&quot;X&quot;</span><span class=\"p\">)</span> <span class=\"nf\">ne</span><span class=\"p\">(</span><span class=\"s2\">&quot;Z&quot;</span><span class=\"p\">,</span><span class=\"s2\">&quot;X&quot;</span><span class=\"p\">)</span> <span class=\"nf\">e</span><span class=\"p\">(</span><span class=\"mi\">1</span><span class=\"p\">,</span><span class=\"s2\">&quot;X&quot;</span><span class=\"p\">,</span><span class=\"s2\">&quot;X&quot;</span><span class=\"p\">)</span> <span class=\"nf\">e</span><span class=\"p\">(</span><span class=\"mi\">2</span><span class=\"p\">,</span><span class=\"s2\">&quot;X&quot;</span><span class=\"p\">,</span><span class=\"s2\">&quot;Z&quot;</span><span class=\"p\">)</span> <span class=\"nf\">e</span><span class=\"p\">(</span><span class=\"s2\">&quot;X&quot;</span><span class=\"p\">,</span><span class=\"s2\">&quot;X&quot;</span><span class=\"p\">)</span> <span class=\"nf\">e</span><span class=\"p\">(</span><span class=\"s2\">&quot;X&quot;</span><span class=\"p\">,</span><span class=\"s2\">&quot;Z&quot;</span><span class=\"p\">)</span> <span class=\"nf\">newVar</span><span class=\"p\">(</span><span class=\"s2\">&quot;Z&quot;</span><span class=\"p\">,</span><span class=\"s s-Atom\">node</span><span class=\"p\">)</span> <span class=\"nf\">neqOrd</span><span class=\"p\">(</span><span class=\"s2\">&quot;X&quot;</span><span class=\"p\">,</span><span class=\"s2\">&quot;Z&quot;</span><span class=\"p\">,</span><span class=\"s s-Atom\">node</span><span class=\"p\">)</span> <span class=\"nf\">eqOrdMinimal</span><span class=\"p\">(</span><span class=\"s2\">&quot;X&quot;</span><span class=\"p\">,</span><span class=\"s2\">&quot;Y&quot;</span><span class=\"p\">,</span><span class=\"s s-Atom\">node</span><span class=\"p\">)</span>\n",
       "<span class=\"lineno\">63 </span><span class=\"nv\">Answer</span><span class=\"s s-Atom\">:</span> <span class=\"mi\">32</span>\n",
       "<span class=\"lineno\">64 </span><span class=\"nf\">ruleH</span><span class=\"p\">(</span><span class=\"s2\">&quot;tri&quot;</span><span class=\"p\">)</span> <span class=\"nf\">newVar</span><span class=\"p\">(</span><span class=\"s2\">&quot;X&quot;</span><span class=\"p\">,</span><span class=\"s s-Atom\">node</span><span class=\"p\">)</span> <span class=\"nf\">ruleOcc</span><span class=\"p\">(</span><span class=\"s2\">&quot;e&quot;</span><span class=\"p\">,</span><span class=\"mi\">1</span><span class=\"p\">)</span> <span class=\"nf\">ruleOcc</span><span class=\"p\">(</span><span class=\"s2\">&quot;e&quot;</span><span class=\"p\">,</span><span class=\"mi\">2</span><span class=\"p\">)</span> <span class=\"nf\">ruleOcc</span><span class=\"p\">(</span><span class=\"s2\">&quot;e&quot;</span><span class=\"p\">,</span><span class=\"mi\">3</span><span class=\"p\">)</span> <span class=\"nf\">var</span><span class=\"p\">(</span><span class=\"s2\">&quot;X&quot;</span><span class=\"p\">,</span><span class=\"s s-Atom\">node</span><span class=\"p\">)</span> <span class=\"nf\">var</span><span class=\"p\">(</span><span class=\"s2\">&quot;Y&quot;</span><span class=\"p\">,</span><span class=\"s s-Atom\">node</span><span class=\"p\">)</span> <span class=\"nf\">var</span><span class=\"p\">(</span><span class=\"s2\">&quot;Z&quot;</span><span class=\"p\">,</span><span class=\"s s-Atom\">node</span><span class=\"p\">)</span> <span class=\"nf\">hArc</span><span class=\"p\">(</span><span class=\"s2\">&quot;X&quot;</span><span class=\"p\">,</span><span class=\"mi\">1</span><span class=\"p\">,</span><span class=\"s2\">&quot;tri&quot;</span><span class=\"p\">)</span> <span class=\"nf\">newHArc</span><span class=\"p\">(</span><span class=\"s2\">&quot;X&quot;</span><span class=\"p\">,</span><span class=\"mi\">1</span><span class=\"p\">,</span><span class=\"s2\">&quot;tri&quot;</span><span class=\"p\">)</span> <span class=\"nf\">arc</span><span class=\"p\">(</span><span class=\"s2\">&quot;X&quot;</span><span class=\"p\">,</span><span class=\"mi\">1</span><span class=\"p\">,</span><span class=\"s2\">&quot;e&quot;</span><span class=\"p\">,</span><span class=\"mi\">1</span><span class=\"p\">)</span> <span class=\"nf\">arc</span><span class=\"p\">(</span><span class=\"s2\">&quot;Y&quot;</span><span class=\"p\">,</span><span class=\"mi\">2</span><span class=\"p\">,</span><span class=\"s2\">&quot;e&quot;</span><span class=\"p\">,</span><span class=\"mi\">1</span><span class=\"p\">)</span> <span class=\"nf\">arc</span><span class=\"p\">(</span><span class=\"s2\">&quot;Y&quot;</span><span class=\"p\">,</span><span class=\"mi\">1</span><span class=\"p\">,</span><span class=\"s2\">&quot;e&quot;</span><span class=\"p\">,</span><span class=\"mi\">2</span><span class=\"p\">)</span> <span class=\"nf\">arc</span><span class=\"p\">(</span><span class=\"s2\">&quot;Z&quot;</span><span class=\"p\">,</span><span class=\"mi\">2</span><span class=\"p\">,</span><span class=\"s2\">&quot;e&quot;</span><span class=\"p\">,</span><span class=\"mi\">2</span><span class=\"p\">)</span> <span class=\"nf\">arc</span><span class=\"p\">(</span><span class=\"s2\">&quot;Z&quot;</span><span class=\"p\">,</span><span class=\"mi\">1</span><span class=\"p\">,</span><span class=\"s2\">&quot;e&quot;</span><span class=\"p\">,</span><span class=\"mi\">3</span><span class=\"p\">)</span> <span class=\"nf\">arc</span><span class=\"p\">(</span><span class=\"s2\">&quot;X&quot;</span><span class=\"p\">,</span><span class=\"mi\">2</span><span class=\"p\">,</span><span class=\"s2\">&quot;e&quot;</span><span class=\"p\">,</span><span class=\"mi\">3</span><span class=\"p\">)</span> <span class=\"nf\">newArc</span><span class=\"p\">(</span><span class=\"s2\">&quot;X&quot;</span><span class=\"p\">,</span><span class=\"mi\">1</span><span class=\"p\">,</span><span class=\"s2\">&quot;e&quot;</span><span class=\"p\">,</span><span class=\"mi\">1</span><span class=\"p\">)</span> <span class=\"nf\">newArc</span><span class=\"p\">(</span><span class=\"s2\">&quot;X&quot;</span><span class=\"p\">,</span><span class=\"mi\">2</span><span class=\"p\">,</span><span class=\"s2\">&quot;e&quot;</span><span class=\"p\">,</span><span class=\"mi\">3</span><span class=\"p\">)</span> <span class=\"nf\">eqOrd</span><span class=\"p\">(</span><span class=\"s2\">&quot;X&quot;</span><span class=\"p\">,</span><span class=\"s2\">&quot;Y&quot;</span><span class=\"p\">,</span><span class=\"s s-Atom\">node</span><span class=\"p\">)</span> <span class=\"nf\">newArc</span><span class=\"p\">(</span><span class=\"s2\">&quot;X&quot;</span><span class=\"p\">,</span><span class=\"mi\">2</span><span class=\"p\">,</span><span class=\"s2\">&quot;e&quot;</span><span class=\"p\">,</span><span class=\"mi\">1</span><span class=\"p\">)</span> <span class=\"nf\">newArc</span><span class=\"p\">(</span><span class=\"s2\">&quot;X&quot;</span><span class=\"p\">,</span><span class=\"mi\">1</span><span class=\"p\">,</span><span class=\"s2\">&quot;e&quot;</span><span class=\"p\">,</span><span class=\"mi\">2</span><span class=\"p\">)</span> <span class=\"nf\">newArc</span><span class=\"p\">(</span><span class=\"s2\">&quot;Z&quot;</span><span class=\"p\">,</span><span class=\"mi\">2</span><span class=\"p\">,</span><span class=\"s2\">&quot;e&quot;</span><span class=\"p\">,</span><span class=\"mi\">2</span><span class=\"p\">)</span> <span class=\"nf\">newArc</span><span class=\"p\">(</span><span class=\"s2\">&quot;Z&quot;</span><span class=\"p\">,</span><span class=\"mi\">1</span><span class=\"p\">,</span><span class=\"s2\">&quot;e&quot;</span><span class=\"p\">,</span><span class=\"mi\">3</span><span class=\"p\">)</span> <span class=\"nf\">ruleOccTrue</span><span class=\"p\">(</span><span class=\"s2\">&quot;e&quot;</span><span class=\"p\">,</span><span class=\"mi\">2</span><span class=\"p\">)</span> <span class=\"nf\">ruleOccTrue</span><span class=\"p\">(</span><span class=\"s2\">&quot;e&quot;</span><span class=\"p\">,</span><span class=\"mi\">3</span><span class=\"p\">)</span> <span class=\"nf\">ne</span><span class=\"p\">(</span><span class=\"mi\">1</span><span class=\"p\">,</span><span class=\"s2\">&quot;X&quot;</span><span class=\"p\">,</span><span class=\"s2\">&quot;X&quot;</span><span class=\"p\">)</span> <span class=\"nf\">ne</span><span class=\"p\">(</span><span class=\"s2\">&quot;X&quot;</span><span class=\"p\">,</span><span class=\"s2\">&quot;X&quot;</span><span class=\"p\">)</span> <span class=\"nf\">e</span><span class=\"p\">(</span><span class=\"mi\">2</span><span class=\"p\">,</span><span class=\"s2\">&quot;X&quot;</span><span class=\"p\">,</span><span class=\"s2\">&quot;Z&quot;</span><span class=\"p\">)</span> <span class=\"nf\">e</span><span class=\"p\">(</span><span class=\"mi\">3</span><span class=\"p\">,</span><span class=\"s2\">&quot;Z&quot;</span><span class=\"p\">,</span><span class=\"s2\">&quot;X&quot;</span><span class=\"p\">)</span> <span class=\"nf\">e</span><span class=\"p\">(</span><span class=\"s2\">&quot;X&quot;</span><span class=\"p\">,</span><span class=\"s2\">&quot;Z&quot;</span><span class=\"p\">)</span> <span class=\"nf\">e</span><span class=\"p\">(</span><span class=\"s2\">&quot;Z&quot;</span><span class=\"p\">,</span><span class=\"s2\">&quot;X&quot;</span><span class=\"p\">)</span> <span class=\"nf\">newVar</span><span class=\"p\">(</span><span class=\"s2\">&quot;Z&quot;</span><span class=\"p\">,</span><span class=\"s s-Atom\">node</span><span class=\"p\">)</span> <span class=\"nf\">neqOrd</span><span class=\"p\">(</span><span class=\"s2\">&quot;X&quot;</span><span class=\"p\">,</span><span class=\"s2\">&quot;Z&quot;</span><span class=\"p\">,</span><span class=\"s s-Atom\">node</span><span class=\"p\">)</span> <span class=\"nf\">eqOrdMinimal</span><span class=\"p\">(</span><span class=\"s2\">&quot;X&quot;</span><span class=\"p\">,</span><span class=\"s2\">&quot;Y&quot;</span><span class=\"p\">,</span><span class=\"s s-Atom\">node</span><span class=\"p\">)</span>\n",
       "<span class=\"lineno\">65 </span><span class=\"nv\">Answer</span><span class=\"s s-Atom\">:</span> <span class=\"mi\">33</span>\n",
       "<span class=\"lineno\">66 </span><span class=\"nf\">ruleH</span><span class=\"p\">(</span><span class=\"s2\">&quot;tri&quot;</span><span class=\"p\">)</span> <span class=\"nf\">newVar</span><span class=\"p\">(</span><span class=\"s2\">&quot;X&quot;</span><span class=\"p\">,</span><span class=\"s s-Atom\">node</span><span class=\"p\">)</span> <span class=\"nf\">ruleOcc</span><span class=\"p\">(</span><span class=\"s2\">&quot;e&quot;</span><span class=\"p\">,</span><span class=\"mi\">1</span><span class=\"p\">)</span> <span class=\"nf\">ruleOcc</span><span class=\"p\">(</span><span class=\"s2\">&quot;e&quot;</span><span class=\"p\">,</span><span class=\"mi\">2</span><span class=\"p\">)</span> <span class=\"nf\">ruleOcc</span><span class=\"p\">(</span><span class=\"s2\">&quot;e&quot;</span><span class=\"p\">,</span><span class=\"mi\">3</span><span class=\"p\">)</span> <span class=\"nf\">var</span><span class=\"p\">(</span><span class=\"s2\">&quot;X&quot;</span><span class=\"p\">,</span><span class=\"s s-Atom\">node</span><span class=\"p\">)</span> <span class=\"nf\">var</span><span class=\"p\">(</span><span class=\"s2\">&quot;Y&quot;</span><span class=\"p\">,</span><span class=\"s s-Atom\">node</span><span class=\"p\">)</span> <span class=\"nf\">var</span><span class=\"p\">(</span><span class=\"s2\">&quot;Z&quot;</span><span class=\"p\">,</span><span class=\"s s-Atom\">node</span><span class=\"p\">)</span> <span class=\"nf\">hArc</span><span class=\"p\">(</span><span class=\"s2\">&quot;X&quot;</span><span class=\"p\">,</span><span class=\"mi\">1</span><span class=\"p\">,</span><span class=\"s2\">&quot;tri&quot;</span><span class=\"p\">)</span> <span class=\"nf\">newHArc</span><span class=\"p\">(</span><span class=\"s2\">&quot;X&quot;</span><span class=\"p\">,</span><span class=\"mi\">1</span><span class=\"p\">,</span><span class=\"s2\">&quot;tri&quot;</span><span class=\"p\">)</span> <span class=\"nf\">arc</span><span class=\"p\">(</span><span class=\"s2\">&quot;X&quot;</span><span class=\"p\">,</span><span class=\"mi\">1</span><span class=\"p\">,</span><span class=\"s2\">&quot;e&quot;</span><span class=\"p\">,</span><span class=\"mi\">1</span><span class=\"p\">)</span> <span class=\"nf\">arc</span><span class=\"p\">(</span><span class=\"s2\">&quot;Y&quot;</span><span class=\"p\">,</span><span class=\"mi\">2</span><span class=\"p\">,</span><span class=\"s2\">&quot;e&quot;</span><span class=\"p\">,</span><span class=\"mi\">1</span><span class=\"p\">)</span> <span class=\"nf\">arc</span><span class=\"p\">(</span><span class=\"s2\">&quot;Y&quot;</span><span class=\"p\">,</span><span class=\"mi\">1</span><span class=\"p\">,</span><span class=\"s2\">&quot;e&quot;</span><span class=\"p\">,</span><span class=\"mi\">2</span><span class=\"p\">)</span> <span class=\"nf\">arc</span><span class=\"p\">(</span><span class=\"s2\">&quot;Z&quot;</span><span class=\"p\">,</span><span class=\"mi\">2</span><span class=\"p\">,</span><span class=\"s2\">&quot;e&quot;</span><span class=\"p\">,</span><span class=\"mi\">2</span><span class=\"p\">)</span> <span class=\"nf\">arc</span><span class=\"p\">(</span><span class=\"s2\">&quot;Z&quot;</span><span class=\"p\">,</span><span class=\"mi\">1</span><span class=\"p\">,</span><span class=\"s2\">&quot;e&quot;</span><span class=\"p\">,</span><span class=\"mi\">3</span><span class=\"p\">)</span> <span class=\"nf\">arc</span><span class=\"p\">(</span><span class=\"s2\">&quot;X&quot;</span><span class=\"p\">,</span><span class=\"mi\">2</span><span class=\"p\">,</span><span class=\"s2\">&quot;e&quot;</span><span class=\"p\">,</span><span class=\"mi\">3</span><span class=\"p\">)</span> <span class=\"nf\">newArc</span><span class=\"p\">(</span><span class=\"s2\">&quot;X&quot;</span><span class=\"p\">,</span><span class=\"mi\">1</span><span class=\"p\">,</span><span class=\"s2\">&quot;e&quot;</span><span class=\"p\">,</span><span class=\"mi\">1</span><span class=\"p\">)</span> <span class=\"nf\">newArc</span><span class=\"p\">(</span><span class=\"s2\">&quot;X&quot;</span><span class=\"p\">,</span><span class=\"mi\">2</span><span class=\"p\">,</span><span class=\"s2\">&quot;e&quot;</span><span class=\"p\">,</span><span class=\"mi\">3</span><span class=\"p\">)</span> <span class=\"nf\">eqOrd</span><span class=\"p\">(</span><span class=\"s2\">&quot;X&quot;</span><span class=\"p\">,</span><span class=\"s2\">&quot;Y&quot;</span><span class=\"p\">,</span><span class=\"s s-Atom\">node</span><span class=\"p\">)</span> <span class=\"nf\">newArc</span><span class=\"p\">(</span><span class=\"s2\">&quot;X&quot;</span><span class=\"p\">,</span><span class=\"mi\">2</span><span class=\"p\">,</span><span class=\"s2\">&quot;e&quot;</span><span class=\"p\">,</span><span class=\"mi\">1</span><span class=\"p\">)</span> <span class=\"nf\">newArc</span><span class=\"p\">(</span><span class=\"s2\">&quot;X&quot;</span><span class=\"p\">,</span><span class=\"mi\">1</span><span class=\"p\">,</span><span class=\"s2\">&quot;e&quot;</span><span class=\"p\">,</span><span class=\"mi\">2</span><span class=\"p\">)</span> <span class=\"nf\">newArc</span><span class=\"p\">(</span><span class=\"s2\">&quot;Z&quot;</span><span class=\"p\">,</span><span class=\"mi\">2</span><span class=\"p\">,</span><span class=\"s2\">&quot;e&quot;</span><span class=\"p\">,</span><span class=\"mi\">2</span><span class=\"p\">)</span> <span class=\"nf\">newArc</span><span class=\"p\">(</span><span class=\"s2\">&quot;Z&quot;</span><span class=\"p\">,</span><span class=\"mi\">1</span><span class=\"p\">,</span><span class=\"s2\">&quot;e&quot;</span><span class=\"p\">,</span><span class=\"mi\">3</span><span class=\"p\">)</span> <span class=\"nf\">ruleOccTrue</span><span class=\"p\">(</span><span class=\"s2\">&quot;e&quot;</span><span class=\"p\">,</span><span class=\"mi\">1</span><span class=\"p\">)</span> <span class=\"nf\">ruleOccTrue</span><span class=\"p\">(</span><span class=\"s2\">&quot;e&quot;</span><span class=\"p\">,</span><span class=\"mi\">2</span><span class=\"p\">)</span> <span class=\"nf\">ruleOccTrue</span><span class=\"p\">(</span><span class=\"s2\">&quot;e&quot;</span><span class=\"p\">,</span><span class=\"mi\">3</span><span class=\"p\">)</span> <span class=\"nf\">e</span><span class=\"p\">(</span><span class=\"mi\">1</span><span class=\"p\">,</span><span class=\"s2\">&quot;X&quot;</span><span class=\"p\">,</span><span class=\"s2\">&quot;X&quot;</span><span class=\"p\">)</span> <span class=\"nf\">e</span><span class=\"p\">(</span><span class=\"mi\">2</span><span class=\"p\">,</span><span class=\"s2\">&quot;X&quot;</span><span class=\"p\">,</span><span class=\"s2\">&quot;Z&quot;</span><span class=\"p\">)</span> <span class=\"nf\">e</span><span class=\"p\">(</span><span class=\"mi\">3</span><span class=\"p\">,</span><span class=\"s2\">&quot;Z&quot;</span><span class=\"p\">,</span><span class=\"s2\">&quot;X&quot;</span><span class=\"p\">)</span> <span class=\"nf\">e</span><span class=\"p\">(</span><span class=\"s2\">&quot;X&quot;</span><span class=\"p\">,</span><span class=\"s2\">&quot;X&quot;</span><span class=\"p\">)</span> <span class=\"nf\">e</span><span class=\"p\">(</span><span class=\"s2\">&quot;X&quot;</span><span class=\"p\">,</span><span class=\"s2\">&quot;Z&quot;</span><span class=\"p\">)</span> <span class=\"nf\">e</span><span class=\"p\">(</span><span class=\"s2\">&quot;Z&quot;</span><span class=\"p\">,</span><span class=\"s2\">&quot;X&quot;</span><span class=\"p\">)</span> <span class=\"nf\">newVar</span><span class=\"p\">(</span><span class=\"s2\">&quot;Z&quot;</span><span class=\"p\">,</span><span class=\"s s-Atom\">node</span><span class=\"p\">)</span> <span class=\"nf\">neqOrd</span><span class=\"p\">(</span><span class=\"s2\">&quot;X&quot;</span><span class=\"p\">,</span><span class=\"s2\">&quot;Z&quot;</span><span class=\"p\">,</span><span class=\"s s-Atom\">node</span><span class=\"p\">)</span> <span class=\"nf\">eqOrdMinimal</span><span class=\"p\">(</span><span class=\"s2\">&quot;X&quot;</span><span class=\"p\">,</span><span class=\"s2\">&quot;Y&quot;</span><span class=\"p\">,</span><span class=\"s s-Atom\">node</span><span class=\"p\">)</span> <span class=\"nf\">ruleHTrue</span><span class=\"p\">(</span><span class=\"s2\">&quot;tri&quot;</span><span class=\"p\">)</span>\n",
       "<span class=\"lineno\">67 </span><span class=\"nv\">Answer</span><span class=\"s s-Atom\">:</span> <span class=\"mi\">34</span>\n",
       "<span class=\"lineno\">68 </span><span class=\"nf\">ruleH</span><span class=\"p\">(</span><span class=\"s2\">&quot;tri&quot;</span><span class=\"p\">)</span> <span class=\"nf\">newVar</span><span class=\"p\">(</span><span class=\"s2\">&quot;X&quot;</span><span class=\"p\">,</span><span class=\"s s-Atom\">node</span><span class=\"p\">)</span> <span class=\"nf\">ruleOcc</span><span class=\"p\">(</span><span class=\"s2\">&quot;e&quot;</span><span class=\"p\">,</span><span class=\"mi\">1</span><span class=\"p\">)</span> <span class=\"nf\">ruleOcc</span><span class=\"p\">(</span><span class=\"s2\">&quot;e&quot;</span><span class=\"p\">,</span><span class=\"mi\">2</span><span class=\"p\">)</span> <span class=\"nf\">ruleOcc</span><span class=\"p\">(</span><span class=\"s2\">&quot;e&quot;</span><span class=\"p\">,</span><span class=\"mi\">3</span><span class=\"p\">)</span> <span class=\"nf\">var</span><span class=\"p\">(</span><span class=\"s2\">&quot;X&quot;</span><span class=\"p\">,</span><span class=\"s s-Atom\">node</span><span class=\"p\">)</span> <span class=\"nf\">var</span><span class=\"p\">(</span><span class=\"s2\">&quot;Y&quot;</span><span class=\"p\">,</span><span class=\"s s-Atom\">node</span><span class=\"p\">)</span> <span class=\"nf\">var</span><span class=\"p\">(</span><span class=\"s2\">&quot;Z&quot;</span><span class=\"p\">,</span><span class=\"s s-Atom\">node</span><span class=\"p\">)</span> <span class=\"nf\">hArc</span><span class=\"p\">(</span><span class=\"s2\">&quot;X&quot;</span><span class=\"p\">,</span><span class=\"mi\">1</span><span class=\"p\">,</span><span class=\"s2\">&quot;tri&quot;</span><span class=\"p\">)</span> <span class=\"nf\">newHArc</span><span class=\"p\">(</span><span class=\"s2\">&quot;X&quot;</span><span class=\"p\">,</span><span class=\"mi\">1</span><span class=\"p\">,</span><span class=\"s2\">&quot;tri&quot;</span><span class=\"p\">)</span> <span class=\"nf\">arc</span><span class=\"p\">(</span><span class=\"s2\">&quot;X&quot;</span><span class=\"p\">,</span><span class=\"mi\">1</span><span class=\"p\">,</span><span class=\"s2\">&quot;e&quot;</span><span class=\"p\">,</span><span class=\"mi\">1</span><span class=\"p\">)</span> <span class=\"nf\">arc</span><span class=\"p\">(</span><span class=\"s2\">&quot;Y&quot;</span><span class=\"p\">,</span><span class=\"mi\">2</span><span class=\"p\">,</span><span class=\"s2\">&quot;e&quot;</span><span class=\"p\">,</span><span class=\"mi\">1</span><span class=\"p\">)</span> <span class=\"nf\">arc</span><span class=\"p\">(</span><span class=\"s2\">&quot;Y&quot;</span><span class=\"p\">,</span><span class=\"mi\">1</span><span class=\"p\">,</span><span class=\"s2\">&quot;e&quot;</span><span class=\"p\">,</span><span class=\"mi\">2</span><span class=\"p\">)</span> <span class=\"nf\">arc</span><span class=\"p\">(</span><span class=\"s2\">&quot;Z&quot;</span><span class=\"p\">,</span><span class=\"mi\">2</span><span class=\"p\">,</span><span class=\"s2\">&quot;e&quot;</span><span class=\"p\">,</span><span class=\"mi\">2</span><span class=\"p\">)</span> <span class=\"nf\">arc</span><span class=\"p\">(</span><span class=\"s2\">&quot;Z&quot;</span><span class=\"p\">,</span><span class=\"mi\">1</span><span class=\"p\">,</span><span class=\"s2\">&quot;e&quot;</span><span class=\"p\">,</span><span class=\"mi\">3</span><span class=\"p\">)</span> <span class=\"nf\">arc</span><span class=\"p\">(</span><span class=\"s2\">&quot;X&quot;</span><span class=\"p\">,</span><span class=\"mi\">2</span><span class=\"p\">,</span><span class=\"s2\">&quot;e&quot;</span><span class=\"p\">,</span><span class=\"mi\">3</span><span class=\"p\">)</span> <span class=\"nf\">newArc</span><span class=\"p\">(</span><span class=\"s2\">&quot;X&quot;</span><span class=\"p\">,</span><span class=\"mi\">1</span><span class=\"p\">,</span><span class=\"s2\">&quot;e&quot;</span><span class=\"p\">,</span><span class=\"mi\">1</span><span class=\"p\">)</span> <span class=\"nf\">newArc</span><span class=\"p\">(</span><span class=\"s2\">&quot;X&quot;</span><span class=\"p\">,</span><span class=\"mi\">2</span><span class=\"p\">,</span><span class=\"s2\">&quot;e&quot;</span><span class=\"p\">,</span><span class=\"mi\">3</span><span class=\"p\">)</span> <span class=\"nf\">eqOrd</span><span class=\"p\">(</span><span class=\"s2\">&quot;X&quot;</span><span class=\"p\">,</span><span class=\"s2\">&quot;Y&quot;</span><span class=\"p\">,</span><span class=\"s s-Atom\">node</span><span class=\"p\">)</span> <span class=\"nf\">eqOrd</span><span class=\"p\">(</span><span class=\"s2\">&quot;X&quot;</span><span class=\"p\">,</span><span class=\"s2\">&quot;Z&quot;</span><span class=\"p\">,</span><span class=\"s s-Atom\">node</span><span class=\"p\">)</span> <span class=\"nf\">eqOrd</span><span class=\"p\">(</span><span class=\"s2\">&quot;Y&quot;</span><span class=\"p\">,</span><span class=\"s2\">&quot;Z&quot;</span><span class=\"p\">,</span><span class=\"s s-Atom\">node</span><span class=\"p\">)</span> <span class=\"nf\">newArc</span><span class=\"p\">(</span><span class=\"s2\">&quot;X&quot;</span><span class=\"p\">,</span><span class=\"mi\">2</span><span class=\"p\">,</span><span class=\"s2\">&quot;e&quot;</span><span class=\"p\">,</span><span class=\"mi\">1</span><span class=\"p\">)</span> <span class=\"nf\">newArc</span><span class=\"p\">(</span><span class=\"s2\">&quot;X&quot;</span><span class=\"p\">,</span><span class=\"mi\">1</span><span class=\"p\">,</span><span class=\"s2\">&quot;e&quot;</span><span class=\"p\">,</span><span class=\"mi\">2</span><span class=\"p\">)</span> <span class=\"nf\">newArc</span><span class=\"p\">(</span><span class=\"s2\">&quot;X&quot;</span><span class=\"p\">,</span><span class=\"mi\">2</span><span class=\"p\">,</span><span class=\"s2\">&quot;e&quot;</span><span class=\"p\">,</span><span class=\"mi\">2</span><span class=\"p\">)</span> <span class=\"nf\">newArc</span><span class=\"p\">(</span><span class=\"s2\">&quot;X&quot;</span><span class=\"p\">,</span><span class=\"mi\">1</span><span class=\"p\">,</span><span class=\"s2\">&quot;e&quot;</span><span class=\"p\">,</span><span class=\"mi\">3</span><span class=\"p\">)</span> <span class=\"nf\">ruleOccTrue</span><span class=\"p\">(</span><span class=\"s2\">&quot;e&quot;</span><span class=\"p\">,</span><span class=\"mi\">1</span><span class=\"p\">)</span> <span class=\"nf\">ruleOccTrue</span><span class=\"p\">(</span><span class=\"s2\">&quot;e&quot;</span><span class=\"p\">,</span><span class=\"mi\">2</span><span class=\"p\">)</span> <span class=\"nf\">ruleOccTrue</span><span class=\"p\">(</span><span class=\"s2\">&quot;e&quot;</span><span class=\"p\">,</span><span class=\"mi\">3</span><span class=\"p\">)</span> <span class=\"nf\">e</span><span class=\"p\">(</span><span class=\"mi\">1</span><span class=\"p\">,</span><span class=\"s2\">&quot;X&quot;</span><span class=\"p\">,</span><span class=\"s2\">&quot;X&quot;</span><span class=\"p\">)</span> <span class=\"nf\">e</span><span class=\"p\">(</span><span class=\"mi\">2</span><span class=\"p\">,</span><span class=\"s2\">&quot;X&quot;</span><span class=\"p\">,</span><span class=\"s2\">&quot;X&quot;</span><span class=\"p\">)</span> <span class=\"nf\">e</span><span class=\"p\">(</span><span class=\"mi\">3</span><span class=\"p\">,</span><span class=\"s2\">&quot;X&quot;</span><span class=\"p\">,</span><span class=\"s2\">&quot;X&quot;</span><span class=\"p\">)</span> <span class=\"nf\">e</span><span class=\"p\">(</span><span class=\"s2\">&quot;X&quot;</span><span class=\"p\">,</span><span class=\"s2\">&quot;X&quot;</span><span class=\"p\">)</span> <span class=\"nf\">eqOrdMinimal</span><span class=\"p\">(</span><span class=\"s2\">&quot;X&quot;</span><span class=\"p\">,</span><span class=\"s2\">&quot;Y&quot;</span><span class=\"p\">,</span><span class=\"s s-Atom\">node</span><span class=\"p\">)</span> <span class=\"nf\">eqOrdMinimal</span><span class=\"p\">(</span><span class=\"s2\">&quot;X&quot;</span><span class=\"p\">,</span><span class=\"s2\">&quot;Z&quot;</span><span class=\"p\">,</span><span class=\"s s-Atom\">node</span><span class=\"p\">)</span> <span class=\"nf\">ruleHTrue</span><span class=\"p\">(</span><span class=\"s2\">&quot;tri&quot;</span><span class=\"p\">)</span>\n",
       "<span class=\"lineno\">69 </span><span class=\"nv\">SATISFIABLE</span>\n",
       "<span class=\"lineno\">70 </span>\n",
       "<span class=\"lineno\">71 </span><span class=\"nv\">Models</span>       <span class=\"s s-Atom\">:</span> <span class=\"mi\">34</span>\n",
       "<span class=\"lineno\">72 </span><span class=\"nv\">Calls</span>        <span class=\"s s-Atom\">:</span> <span class=\"mi\">1</span>\n",
       "<span class=\"lineno\">73 </span><span class=\"nv\">Time</span>         <span class=\"s s-Atom\">:</span> <span class=\"mf\">0.005</span><span class=\"nf\">s</span> <span class=\"p\">(</span><span class=\"nv\">Solving</span><span class=\"s s-Atom\">:</span> <span class=\"mf\">0.00</span><span class=\"s s-Atom\">s</span> <span class=\"mi\">1</span><span class=\"s s-Atom\">st</span> <span class=\"nv\">Model</span><span class=\"s s-Atom\">:</span> <span class=\"mf\">0.00</span><span class=\"s s-Atom\">s</span> <span class=\"nv\">Unsat</span><span class=\"s s-Atom\">:</span> <span class=\"mf\">0.00</span><span class=\"s s-Atom\">s</span><span class=\"p\">)</span>\n",
       "<span class=\"lineno\">74 </span><span class=\"nv\">CPU</span> <span class=\"nv\">Time</span>     <span class=\"s s-Atom\">:</span> <span class=\"mf\">0.005</span><span class=\"s s-Atom\">s</span>\n",
       "</pre></div>\n"
      ],
      "text/plain": [
       "'Answer: 1\\nruleH(\"tri\") newVar(\"X\",node) ruleOcc(\"e\",1) ruleOcc(\"e\",2) ruleOcc(\"e\",3) var(\"X\",node) var(\"Y\",node) var(\"Z\",node) hArc(\"X\",1,\"tri\") newHArc(\"X\",1,\"tri\") arc(\"X\",1,\"e\",1) arc(\"Y\",2,\"e\",1) arc(\"Y\",1,\"e\",2) arc(\"Z\",2,\"e\",2) arc(\"Z\",1,\"e\",3) arc(\"X\",2,\"e\",3) newArc(\"X\",1,\"e\",1) newArc(\"X\",2,\"e\",3) newArc(\"Y\",2,\"e\",1) newArc(\"Y\",1,\"e\",2) newArc(\"Z\",2,\"e\",2) newArc(\"Z\",1,\"e\",3) ne(1,\"X\",\"Y\") ne(2,\"Y\",\"Z\") ne(3,\"Z\",\"X\") ne(\"X\",\"Y\") ne(\"Y\",\"Z\") ne(\"Z\",\"X\") newVar(\"Y\",node) newVar(\"Z\",node) neqOrd(\"X\",\"Y\",node) neqOrd(\"X\",\"Z\",node) neqOrd(\"Y\",\"Z\",node)\\nAnswer: 2\\nruleH(\"tri\") newVar(\"X\",node) ruleOcc(\"e\",1) ruleOcc(\"e\",2) ruleOcc(\"e\",3) var(\"X\",node) var(\"Y\",node) var(\"Z\",node) hArc(\"X\",1,\"tri\") newHArc(\"X\",1,\"tri\") arc(\"X\",1,\"e\",1) arc(\"Y\",2,\"e\",1) arc(\"Y\",1,\"e\",2) arc(\"Z\",2,\"e\",2) arc(\"Z\",1,\"e\",3) arc(\"X\",2,\"e\",3) newArc(\"X\",1,\"e\",1) newArc(\"X\",2,\"e\",3) newArc(\"Y\",2,\"e\",1) newArc(\"Y\",1,\"e\",2) newArc(\"Z\",2,\"e\",2) newArc(\"Z\",1,\"e\",3) ruleOccTrue(\"e\",1) ne(2,\"Y\",\"Z\") ne(3,\"Z\",\"X\") ne(\"Y\",\"Z\") ne(\"Z\",\"X\") e(1,\"X\",\"Y\") e(\"X\",\"Y\") newVar(\"Y\",node) newVar(\"Z\",node) neqOrd(\"X\",\"Y\",node) neqOrd(\"X\",\"Z\",node) neqOrd(\"Y\",\"Z\",node)\\nAnswer: 3\\nruleH(\"tri\") newVar(\"X\",node) ruleOcc(\"e\",1) ruleOcc(\"e\",2) ruleOcc(\"e\",3) var(\"X\",node) var(\"Y\",node) var(\"Z\",node) hArc(\"X\",1,\"tri\") newHArc(\"X\",1,\"tri\") arc(\"X\",1,\"e\",1) arc(\"Y\",2,\"e\",1) arc(\"Y\",1,\"e\",2) arc(\"Z\",2,\"e\",2) arc(\"Z\",1,\"e\",3) arc(\"X\",2,\"e\",3) newArc(\"X\",1,\"e\",1) newArc(\"X\",2,\"e\",3) newArc(\"Y\",2,\"e\",1) newArc(\"Y\",1,\"e\",2) newArc(\"Z\",2,\"e\",2) newArc(\"Z\",1,\"e\",3) ruleOccTrue(\"e\",3) ne(1,\"X\",\"Y\") ne(2,\"Y\",\"Z\") ne(\"X\",\"Y\") ne(\"Y\",\"Z\") e(3,\"Z\",\"X\") e(\"Z\",\"X\") newVar(\"Y\",node) newVar(\"Z\",node) neqOrd(\"X\",\"Y\",node) neqOrd(\"X\",\"Z\",node) neqOrd(\"Y\",\"Z\",node)\\nAnswer: 4\\nruleH(\"tri\") newVar(\"X\",node) ruleOcc(\"e\",1) ruleOcc(\"e\",2) ruleOcc(\"e\",3) var(\"X\",node) var(\"Y\",node) var(\"Z\",node) hArc(\"X\",1,\"tri\") newHArc(\"X\",1,\"tri\") arc(\"X\",1,\"e\",1) arc(\"Y\",2,\"e\",1) arc(\"Y\",1,\"e\",2) arc(\"Z\",2,\"e\",2) arc(\"Z\",1,\"e\",3) arc(\"X\",2,\"e\",3) newArc(\"X\",1,\"e\",1) newArc(\"X\",2,\"e\",3) newArc(\"Y\",2,\"e\",1) newArc(\"Y\",1,\"e\",2) newArc(\"Z\",2,\"e\",2) newArc(\"Z\",1,\"e\",3) ruleOccTrue(\"e\",1) ruleOccTrue(\"e\",3) ne(2,\"Y\",\"Z\") ne(\"Y\",\"Z\") e(1,\"X\",\"Y\") e(3,\"Z\",\"X\") e(\"X\",\"Y\") e(\"Z\",\"X\") newVar(\"Y\",node) newVar(\"Z\",node) neqOrd(\"X\",\"Y\",node) neqOrd(\"X\",\"Z\",node) neqOrd(\"Y\",\"Z\",node)\\nAnswer: 5\\nruleH(\"tri\") newVar(\"X\",node) ruleOcc(\"e\",1) ruleOcc(\"e\",2) ruleOcc(\"e\",3) var(\"X\",node) var(\"Y\",node) var(\"Z\",node) hArc(\"X\",1,\"tri\") newHArc(\"X\",1,\"tri\") arc(\"X\",1,\"e\",1) arc(\"Y\",2,\"e\",1) arc(\"Y\",1,\"e\",2) arc(\"Z\",2,\"e\",2) arc(\"Z\",1,\"e\",3) arc(\"X\",2,\"e\",3) newArc(\"X\",1,\"e\",1) newArc(\"X\",2,\"e\",3) eqOrd(\"Y\",\"Z\",node) newArc(\"Y\",2,\"e\",2) newArc(\"Y\",1,\"e\",3) newArc(\"Y\",2,\"e\",1) newArc(\"Y\",1,\"e\",2) ne(2,\"Y\",\"Y\") ne(1,\"X\",\"Y\") ne(3,\"Y\",\"X\") ne(\"Y\",\"X\") ne(\"X\",\"Y\") ne(\"Y\",\"Y\") newVar(\"Y\",node) neqOrd(\"X\",\"Y\",node) eqOrdMinimal(\"Y\",\"Z\",node)\\nAnswer: 6\\nruleH(\"tri\") newVar(\"X\",node) ruleOcc(\"e\",1) ruleOcc(\"e\",2) ruleOcc(\"e\",3) var(\"X\",node) var(\"Y\",node) var(\"Z\",node) hArc(\"X\",1,\"tri\") newHArc(\"X\",1,\"tri\") arc(\"X\",1,\"e\",1) arc(\"Y\",2,\"e\",1) arc(\"Y\",1,\"e\",2) arc(\"Z\",2,\"e\",2) arc(\"Z\",1,\"e\",3) arc(\"X\",2,\"e\",3) newArc(\"X\",1,\"e\",1) newArc(\"X\",2,\"e\",3) eqOrd(\"Y\",\"Z\",node) newArc(\"Y\",2,\"e\",2) newArc(\"Y\",1,\"e\",3) newArc(\"Y\",2,\"e\",1) newArc(\"Y\",1,\"e\",2) ruleOccTrue(\"e\",1) ne(2,\"Y\",\"Y\") ne(3,\"Y\",\"X\") ne(\"Y\",\"X\") ne(\"Y\",\"Y\") e(1,\"X\",\"Y\") e(\"X\",\"Y\") newVar(\"Y\",node) neqOrd(\"X\",\"Y\",node) eqOrdMinimal(\"Y\",\"Z\",node)\\nAnswer: 7\\nruleH(\"tri\") newVar(\"X\",node) ruleOcc(\"e\",1) ruleOcc(\"e\",2) ruleOcc(\"e\",3) var(\"X\",node) var(\"Y\",node) var(\"Z\",node) hArc(\"X\",1,\"tri\") newHArc(\"X\",1,\"tri\") arc(\"X\",1,\"e\",1) arc(\"Y\",2,\"e\",1) arc(\"Y\",1,\"e\",2) arc(\"Z\",2,\"e\",2) arc(\"Z\",1,\"e\",3) arc(\"X\",2,\"e\",3) newArc(\"X\",1,\"e\",1) newArc(\"X\",2,\"e\",3) eqOrd(\"Y\",\"Z\",node) newArc(\"Y\",2,\"e\",2) newArc(\"Y\",1,\"e\",3) newArc(\"Y\",2,\"e\",1) newArc(\"Y\",1,\"e\",2) ruleOccTrue(\"e\",3) ne(2,\"Y\",\"Y\") ne(1,\"X\",\"Y\") ne(\"X\",\"Y\") ne(\"Y\",\"Y\") e(3,\"Y\",\"X\") e(\"Y\",\"X\") newVar(\"Y\",node) neqOrd(\"X\",\"Y\",node) eqOrdMinimal(\"Y\",\"Z\",node)\\nAnswer: 8\\nruleH(\"tri\") newVar(\"X\",node) ruleOcc(\"e\",1) ruleOcc(\"e\",2) ruleOcc(\"e\",3) var(\"X\",node) var(\"Y\",node) var(\"Z\",node) hArc(\"X\",1,\"tri\") newHArc(\"X\",1,\"tri\") arc(\"X\",1,\"e\",1) arc(\"Y\",2,\"e\",1) arc(\"Y\",1,\"e\",2) arc(\"Z\",2,\"e\",2) arc(\"Z\",1,\"e\",3) arc(\"X\",2,\"e\",3) newArc(\"X\",1,\"e\",1) newArc(\"X\",2,\"e\",3) eqOrd(\"Y\",\"Z\",node) newArc(\"Y\",2,\"e\",2) newArc(\"Y\",1,\"e\",3) newArc(\"Y\",2,\"e\",1) newArc(\"Y\",1,\"e\",2) ruleOccTrue(\"e\",1) ruleOccTrue(\"e\",3) ne(2,\"Y\",\"Y\") ne(\"Y\",\"Y\") e(1,\"X\",\"Y\") e(3,\"Y\",\"X\") e(\"X\",\"Y\") e(\"Y\",\"X\") newVar(\"Y\",node) neqOrd(\"X\",\"Y\",node) eqOrdMinimal(\"Y\",\"Z\",node)\\nAnswer: 9\\nruleH(\"tri\") newVar(\"X\",node) ruleOcc(\"e\",1) ruleOcc(\"e\",2) ruleOcc(\"e\",3) var(\"X\",node) var(\"Y\",node) var(\"Z\",node) hArc(\"X\",1,\"tri\") newHArc(\"X\",1,\"tri\") arc(\"X\",1,\"e\",1) arc(\"Y\",2,\"e\",1) arc(\"Y\",1,\"e\",2) arc(\"Z\",2,\"e\",2) arc(\"Z\",1,\"e\",3) arc(\"X\",2,\"e\",3) newArc(\"X\",1,\"e\",1) newArc(\"X\",2,\"e\",3) eqOrd(\"X\",\"Z\",node) newArc(\"X\",2,\"e\",2) newArc(\"X\",1,\"e\",3) newArc(\"Y\",2,\"e\",1) newArc(\"Y\",1,\"e\",2) ne(2,\"Y\",\"X\") ne(1,\"X\",\"Y\") ne(3,\"X\",\"X\") ne(\"X\",\"X\") ne(\"Y\",\"X\") ne(\"X\",\"Y\") newVar(\"Y\",node) neqOrd(\"X\",\"Y\",node) eqOrdMinimal(\"X\",\"Z\",node)\\nAnswer: 10\\nruleH(\"tri\") newVar(\"X\",node) ruleOcc(\"e\",1) ruleOcc(\"e\",2) ruleOcc(\"e\",3) var(\"X\",node) var(\"Y\",node) var(\"Z\",node) hArc(\"X\",1,\"tri\") newHArc(\"X\",1,\"tri\") arc(\"X\",1,\"e\",1) arc(\"Y\",2,\"e\",1) arc(\"Y\",1,\"e\",2) arc(\"Z\",2,\"e\",2) arc(\"Z\",1,\"e\",3) arc(\"X\",2,\"e\",3) newArc(\"X\",1,\"e\",1) newArc(\"X\",2,\"e\",3) eqOrd(\"X\",\"Z\",node) newArc(\"X\",2,\"e\",2) newArc(\"X\",1,\"e\",3) newArc(\"Y\",2,\"e\",1) newArc(\"Y\",1,\"e\",2) ruleOccTrue(\"e\",1) ne(2,\"Y\",\"X\") ne(3,\"X\",\"X\") ne(\"X\",\"X\") ne(\"Y\",\"X\") e(1,\"X\",\"Y\") e(\"X\",\"Y\") newVar(\"Y\",node) neqOrd(\"X\",\"Y\",node) eqOrdMinimal(\"X\",\"Z\",node)\\nAnswer: 11\\nruleH(\"tri\") newVar(\"X\",node) ruleOcc(\"e\",1) ruleOcc(\"e\",2) ruleOcc(\"e\",3) var(\"X\",node) var(\"Y\",node) var(\"Z\",node) hArc(\"X\",1,\"tri\") newHArc(\"X\",1,\"tri\") arc(\"X\",1,\"e\",1) arc(\"Y\",2,\"e\",1) arc(\"Y\",1,\"e\",2) arc(\"Z\",2,\"e\",2) arc(\"Z\",1,\"e\",3) arc(\"X\",2,\"e\",3) newArc(\"X\",1,\"e\",1) newArc(\"X\",2,\"e\",3) eqOrd(\"X\",\"Z\",node) newArc(\"X\",2,\"e\",2) newArc(\"X\",1,\"e\",3) newArc(\"Y\",2,\"e\",1) newArc(\"Y\",1,\"e\",2) ruleOccTrue(\"e\",3) ne(2,\"Y\",\"X\") ne(1,\"X\",\"Y\") ne(\"Y\",\"X\") ne(\"X\",\"Y\") e(3,\"X\",\"X\") e(\"X\",\"X\") newVar(\"Y\",node) neqOrd(\"X\",\"Y\",node) eqOrdMinimal(\"X\",\"Z\",node)\\nAnswer: 12\\nruleH(\"tri\") newVar(\"X\",node) ruleOcc(\"e\",1) ruleOcc(\"e\",2) ruleOcc(\"e\",3) var(\"X\",node) var(\"Y\",node) var(\"Z\",node) hArc(\"X\",1,\"tri\") newHArc(\"X\",1,\"tri\") arc(\"X\",1,\"e\",1) arc(\"Y\",2,\"e\",1) arc(\"Y\",1,\"e\",2) arc(\"Z\",2,\"e\",2) arc(\"Z\",1,\"e\",3) arc(\"X\",2,\"e\",3) newArc(\"X\",1,\"e\",1) newArc(\"X\",2,\"e\",3) eqOrd(\"X\",\"Z\",node) newArc(\"X\",2,\"e\",2) newArc(\"X\",1,\"e\",3) newArc(\"Y\",2,\"e\",1) newArc(\"Y\",1,\"e\",2) ruleOccTrue(\"e\",1) ruleOccTrue(\"e\",3) ne(2,\"Y\",\"X\") ne(\"Y\",\"X\") e(1,\"X\",\"Y\") e(3,\"X\",\"X\") e(\"X\",\"X\") e(\"X\",\"Y\") newVar(\"Y\",node) neqOrd(\"X\",\"Y\",node) eqOrdMinimal(\"X\",\"Z\",node)\\nAnswer: 13\\nruleH(\"tri\") newVar(\"X\",node) ruleOcc(\"e\",1) ruleOcc(\"e\",2) ruleOcc(\"e\",3) var(\"X\",node) var(\"Y\",node) var(\"Z\",node) hArc(\"X\",1,\"tri\") newHArc(\"X\",1,\"tri\") arc(\"X\",1,\"e\",1) arc(\"Y\",2,\"e\",1) arc(\"Y\",1,\"e\",2) arc(\"Z\",2,\"e\",2) arc(\"Z\",1,\"e\",3) arc(\"X\",2,\"e\",3) newArc(\"X\",1,\"e\",1) newArc(\"X\",2,\"e\",3) newArc(\"Y\",2,\"e\",1) newArc(\"Y\",1,\"e\",2) newArc(\"Z\",2,\"e\",2) newArc(\"Z\",1,\"e\",3) ruleOccTrue(\"e\",2) ne(1,\"X\",\"Y\") ne(3,\"Z\",\"X\") ne(\"X\",\"Y\") ne(\"Z\",\"X\") e(2,\"Y\",\"Z\") e(\"Y\",\"Z\") newVar(\"Y\",node) newVar(\"Z\",node) neqOrd(\"X\",\"Y\",node) neqOrd(\"X\",\"Z\",node) neqOrd(\"Y\",\"Z\",node)\\nAnswer: 14\\nruleH(\"tri\") newVar(\"X\",node) ruleOcc(\"e\",1) ruleOcc(\"e\",2) ruleOcc(\"e\",3) var(\"X\",node) var(\"Y\",node) var(\"Z\",node) hArc(\"X\",1,\"tri\") newHArc(\"X\",1,\"tri\") arc(\"X\",1,\"e\",1) arc(\"Y\",2,\"e\",1) arc(\"Y\",1,\"e\",2) arc(\"Z\",2,\"e\",2) arc(\"Z\",1,\"e\",3) arc(\"X\",2,\"e\",3) newArc(\"X\",1,\"e\",1) newArc(\"X\",2,\"e\",3) newArc(\"Y\",2,\"e\",1) newArc(\"Y\",1,\"e\",2) newArc(\"Z\",2,\"e\",2) newArc(\"Z\",1,\"e\",3) ruleOccTrue(\"e\",1) ruleOccTrue(\"e\",2) ne(3,\"Z\",\"X\") ne(\"Z\",\"X\") e(1,\"X\",\"Y\") e(2,\"Y\",\"Z\") e(\"X\",\"Y\") e(\"Y\",\"Z\") newVar(\"Y\",node) newVar(\"Z\",node) neqOrd(\"X\",\"Y\",node) neqOrd(\"X\",\"Z\",node) neqOrd(\"Y\",\"Z\",node)\\nAnswer: 15\\nruleH(\"tri\") newVar(\"X\",node) ruleOcc(\"e\",1) ruleOcc(\"e\",2) ruleOcc(\"e\",3) var(\"X\",node) var(\"Y\",node) var(\"Z\",node) hArc(\"X\",1,\"tri\") newHArc(\"X\",1,\"tri\") arc(\"X\",1,\"e\",1) arc(\"Y\",2,\"e\",1) arc(\"Y\",1,\"e\",2) arc(\"Z\",2,\"e\",2) arc(\"Z\",1,\"e\",3) arc(\"X\",2,\"e\",3) newArc(\"X\",1,\"e\",1) newArc(\"X\",2,\"e\",3) newArc(\"Y\",2,\"e\",1) newArc(\"Y\",1,\"e\",2) newArc(\"Z\",2,\"e\",2) newArc(\"Z\",1,\"e\",3) ruleOccTrue(\"e\",2) ruleOccTrue(\"e\",3) ne(1,\"X\",\"Y\") ne(\"X\",\"Y\") e(2,\"Y\",\"Z\") e(3,\"Z\",\"X\") e(\"Y\",\"Z\") e(\"Z\",\"X\") newVar(\"Y\",node) newVar(\"Z\",node) neqOrd(\"X\",\"Y\",node) neqOrd(\"X\",\"Z\",node) neqOrd(\"Y\",\"Z\",node)\\nAnswer: 16\\nruleH(\"tri\") newVar(\"X\",node) ruleOcc(\"e\",1) ruleOcc(\"e\",2) ruleOcc(\"e\",3) var(\"X\",node) var(\"Y\",node) var(\"Z\",node) hArc(\"X\",1,\"tri\") newHArc(\"X\",1,\"tri\") arc(\"X\",1,\"e\",1) arc(\"Y\",2,\"e\",1) arc(\"Y\",1,\"e\",2) arc(\"Z\",2,\"e\",2) arc(\"Z\",1,\"e\",3) arc(\"X\",2,\"e\",3) newArc(\"X\",1,\"e\",1) newArc(\"X\",2,\"e\",3) newArc(\"Y\",2,\"e\",1) newArc(\"Y\",1,\"e\",2) newArc(\"Z\",2,\"e\",2) newArc(\"Z\",1,\"e\",3) ruleOccTrue(\"e\",1) ruleOccTrue(\"e\",2) ruleOccTrue(\"e\",3) e(1,\"X\",\"Y\") e(2,\"Y\",\"Z\") e(3,\"Z\",\"X\") e(\"X\",\"Y\") e(\"Y\",\"Z\") e(\"Z\",\"X\") newVar(\"Y\",node) newVar(\"Z\",node) neqOrd(\"X\",\"Y\",node) neqOrd(\"X\",\"Z\",node) neqOrd(\"Y\",\"Z\",node) ruleHTrue(\"tri\")\\nAnswer: 17\\nruleH(\"tri\") newVar(\"X\",node) ruleOcc(\"e\",1) ruleOcc(\"e\",2) ruleOcc(\"e\",3) var(\"X\",node) var(\"Y\",node) var(\"Z\",node) hArc(\"X\",1,\"tri\") newHArc(\"X\",1,\"tri\") arc(\"X\",1,\"e\",1) arc(\"Y\",2,\"e\",1) arc(\"Y\",1,\"e\",2) arc(\"Z\",2,\"e\",2) arc(\"Z\",1,\"e\",3) arc(\"X\",2,\"e\",3) newArc(\"X\",1,\"e\",1) newArc(\"X\",2,\"e\",3) eqOrd(\"Y\",\"Z\",node) newArc(\"Y\",2,\"e\",2) newArc(\"Y\",1,\"e\",3) newArc(\"Y\",2,\"e\",1) newArc(\"Y\",1,\"e\",2) ruleOccTrue(\"e\",2) ne(1,\"X\",\"Y\") ne(3,\"Y\",\"X\") ne(\"Y\",\"X\") ne(\"X\",\"Y\") e(2,\"Y\",\"Y\") e(\"Y\",\"Y\") newVar(\"Y\",node) neqOrd(\"X\",\"Y\",node) eqOrdMinimal(\"Y\",\"Z\",node)\\nAnswer: 18\\nruleH(\"tri\") newVar(\"X\",node) ruleOcc(\"e\",1) ruleOcc(\"e\",2) ruleOcc(\"e\",3) var(\"X\",node) var(\"Y\",node) var(\"Z\",node) hArc(\"X\",1,\"tri\") newHArc(\"X\",1,\"tri\") arc(\"X\",1,\"e\",1) arc(\"Y\",2,\"e\",1) arc(\"Y\",1,\"e\",2) arc(\"Z\",2,\"e\",2) arc(\"Z\",1,\"e\",3) arc(\"X\",2,\"e\",3) newArc(\"X\",1,\"e\",1) newArc(\"X\",2,\"e\",3) eqOrd(\"Y\",\"Z\",node) newArc(\"Y\",2,\"e\",2) newArc(\"Y\",1,\"e\",3) newArc(\"Y\",2,\"e\",1) newArc(\"Y\",1,\"e\",2) ruleOccTrue(\"e\",1) ruleOccTrue(\"e\",2) ne(3,\"Y\",\"X\") ne(\"Y\",\"X\") e(1,\"X\",\"Y\") e(2,\"Y\",\"Y\") e(\"X\",\"Y\") e(\"Y\",\"Y\") newVar(\"Y\",node) neqOrd(\"X\",\"Y\",node) eqOrdMinimal(\"Y\",\"Z\",node)\\nAnswer: 19\\nruleH(\"tri\") newVar(\"X\",node) ruleOcc(\"e\",1) ruleOcc(\"e\",2) ruleOcc(\"e\",3) var(\"X\",node) var(\"Y\",node) var(\"Z\",node) hArc(\"X\",1,\"tri\") newHArc(\"X\",1,\"tri\") arc(\"X\",1,\"e\",1) arc(\"Y\",2,\"e\",1) arc(\"Y\",1,\"e\",2) arc(\"Z\",2,\"e\",2) arc(\"Z\",1,\"e\",3) arc(\"X\",2,\"e\",3) newArc(\"X\",1,\"e\",1) newArc(\"X\",2,\"e\",3) eqOrd(\"Y\",\"Z\",node) newArc(\"Y\",2,\"e\",2) newArc(\"Y\",1,\"e\",3) newArc(\"Y\",2,\"e\",1) newArc(\"Y\",1,\"e\",2) ruleOccTrue(\"e\",2) ruleOccTrue(\"e\",3) ne(1,\"X\",\"Y\") ne(\"X\",\"Y\") e(2,\"Y\",\"Y\") e(3,\"Y\",\"X\") e(\"Y\",\"X\") e(\"Y\",\"Y\") newVar(\"Y\",node) neqOrd(\"X\",\"Y\",node) eqOrdMinimal(\"Y\",\"Z\",node)\\nAnswer: 20\\nruleH(\"tri\") newVar(\"X\",node) ruleOcc(\"e\",1) ruleOcc(\"e\",2) ruleOcc(\"e\",3) var(\"X\",node) var(\"Y\",node) var(\"Z\",node) hArc(\"X\",1,\"tri\") newHArc(\"X\",1,\"tri\") arc(\"X\",1,\"e\",1) arc(\"Y\",2,\"e\",1) arc(\"Y\",1,\"e\",2) arc(\"Z\",2,\"e\",2) arc(\"Z\",1,\"e\",3) arc(\"X\",2,\"e\",3) newArc(\"X\",1,\"e\",1) newArc(\"X\",2,\"e\",3) eqOrd(\"Y\",\"Z\",node) newArc(\"Y\",2,\"e\",2) newArc(\"Y\",1,\"e\",3) newArc(\"Y\",2,\"e\",1) newArc(\"Y\",1,\"e\",2) ruleOccTrue(\"e\",1) ruleOccTrue(\"e\",2) ruleOccTrue(\"e\",3) e(1,\"X\",\"Y\") e(2,\"Y\",\"Y\") e(3,\"Y\",\"X\") e(\"X\",\"Y\") e(\"Y\",\"X\") e(\"Y\",\"Y\") newVar(\"Y\",node) neqOrd(\"X\",\"Y\",node) eqOrdMinimal(\"Y\",\"Z\",node) ruleHTrue(\"tri\")\\nAnswer: 21\\nruleH(\"tri\") newVar(\"X\",node) ruleOcc(\"e\",1) ruleOcc(\"e\",2) ruleOcc(\"e\",3) var(\"X\",node) var(\"Y\",node) var(\"Z\",node) hArc(\"X\",1,\"tri\") newHArc(\"X\",1,\"tri\") arc(\"X\",1,\"e\",1) arc(\"Y\",2,\"e\",1) arc(\"Y\",1,\"e\",2) arc(\"Z\",2,\"e\",2) arc(\"Z\",1,\"e\",3) arc(\"X\",2,\"e\",3) newArc(\"X\",1,\"e\",1) newArc(\"X\",2,\"e\",3) eqOrd(\"X\",\"Z\",node) newArc(\"X\",2,\"e\",2) newArc(\"X\",1,\"e\",3) newArc(\"Y\",2,\"e\",1) newArc(\"Y\",1,\"e\",2) ruleOccTrue(\"e\",2) ne(1,\"X\",\"Y\") ne(3,\"X\",\"X\") ne(\"X\",\"X\") ne(\"X\",\"Y\") e(2,\"Y\",\"X\") e(\"Y\",\"X\") newVar(\"Y\",node) neqOrd(\"X\",\"Y\",node) eqOrdMinimal(\"X\",\"Z\",node)\\nAnswer: 22\\nruleH(\"tri\") newVar(\"X\",node) ruleOcc(\"e\",1) ruleOcc(\"e\",2) ruleOcc(\"e\",3) var(\"X\",node) var(\"Y\",node) var(\"Z\",node) hArc(\"X\",1,\"tri\") newHArc(\"X\",1,\"tri\") arc(\"X\",1,\"e\",1) arc(\"Y\",2,\"e\",1) arc(\"Y\",1,\"e\",2) arc(\"Z\",2,\"e\",2) arc(\"Z\",1,\"e\",3) arc(\"X\",2,\"e\",3) newArc(\"X\",1,\"e\",1) newArc(\"X\",2,\"e\",3) eqOrd(\"X\",\"Z\",node) newArc(\"X\",2,\"e\",2) newArc(\"X\",1,\"e\",3) newArc(\"Y\",2,\"e\",1) newArc(\"Y\",1,\"e\",2) ruleOccTrue(\"e\",1) ruleOccTrue(\"e\",2) ne(3,\"X\",\"X\") ne(\"X\",\"X\") e(1,\"X\",\"Y\") e(2,\"Y\",\"X\") e(\"X\",\"Y\") e(\"Y\",\"X\") newVar(\"Y\",node) neqOrd(\"X\",\"Y\",node) eqOrdMinimal(\"X\",\"Z\",node)\\nAnswer: 23\\nruleH(\"tri\") newVar(\"X\",node) ruleOcc(\"e\",1) ruleOcc(\"e\",2) ruleOcc(\"e\",3) var(\"X\",node) var(\"Y\",node) var(\"Z\",node) hArc(\"X\",1,\"tri\") newHArc(\"X\",1,\"tri\") arc(\"X\",1,\"e\",1) arc(\"Y\",2,\"e\",1) arc(\"Y\",1,\"e\",2) arc(\"Z\",2,\"e\",2) arc(\"Z\",1,\"e\",3) arc(\"X\",2,\"e\",3) newArc(\"X\",1,\"e\",1) newArc(\"X\",2,\"e\",3) eqOrd(\"X\",\"Z\",node) newArc(\"X\",2,\"e\",2) newArc(\"X\",1,\"e\",3) newArc(\"Y\",2,\"e\",1) newArc(\"Y\",1,\"e\",2) ruleOccTrue(\"e\",2) ruleOccTrue(\"e\",3) ne(1,\"X\",\"Y\") ne(\"X\",\"Y\") e(2,\"Y\",\"X\") e(3,\"X\",\"X\") e(\"X\",\"X\") e(\"Y\",\"X\") newVar(\"Y\",node) neqOrd(\"X\",\"Y\",node) eqOrdMinimal(\"X\",\"Z\",node)\\nAnswer: 24\\nruleH(\"tri\") newVar(\"X\",node) ruleOcc(\"e\",1) ruleOcc(\"e\",2) ruleOcc(\"e\",3) var(\"X\",node) var(\"Y\",node) var(\"Z\",node) hArc(\"X\",1,\"tri\") newHArc(\"X\",1,\"tri\") arc(\"X\",1,\"e\",1) arc(\"Y\",2,\"e\",1) arc(\"Y\",1,\"e\",2) arc(\"Z\",2,\"e\",2) arc(\"Z\",1,\"e\",3) arc(\"X\",2,\"e\",3) newArc(\"X\",1,\"e\",1) newArc(\"X\",2,\"e\",3) eqOrd(\"X\",\"Z\",node) newArc(\"X\",2,\"e\",2) newArc(\"X\",1,\"e\",3) newArc(\"Y\",2,\"e\",1) newArc(\"Y\",1,\"e\",2) ruleOccTrue(\"e\",1) ruleOccTrue(\"e\",2) ruleOccTrue(\"e\",3) e(1,\"X\",\"Y\") e(2,\"Y\",\"X\") e(3,\"X\",\"X\") e(\"X\",\"X\") e(\"X\",\"Y\") e(\"Y\",\"X\") newVar(\"Y\",node) neqOrd(\"X\",\"Y\",node) eqOrdMinimal(\"X\",\"Z\",node) ruleHTrue(\"tri\")\\nAnswer: 25\\nruleH(\"tri\") newVar(\"X\",node) ruleOcc(\"e\",1) ruleOcc(\"e\",2) ruleOcc(\"e\",3) var(\"X\",node) var(\"Y\",node) var(\"Z\",node) hArc(\"X\",1,\"tri\") newHArc(\"X\",1,\"tri\") arc(\"X\",1,\"e\",1) arc(\"Y\",2,\"e\",1) arc(\"Y\",1,\"e\",2) arc(\"Z\",2,\"e\",2) arc(\"Z\",1,\"e\",3) arc(\"X\",2,\"e\",3) newArc(\"X\",1,\"e\",1) newArc(\"X\",2,\"e\",3) eqOrd(\"X\",\"Y\",node) newArc(\"X\",2,\"e\",1) newArc(\"X\",1,\"e\",2) newArc(\"Z\",2,\"e\",2) newArc(\"Z\",1,\"e\",3) ne(1,\"X\",\"X\") ne(2,\"X\",\"Z\") ne(3,\"Z\",\"X\") ne(\"X\",\"X\") ne(\"X\",\"Z\") ne(\"Z\",\"X\") newVar(\"Z\",node) neqOrd(\"X\",\"Z\",node) eqOrdMinimal(\"X\",\"Y\",node)\\nAnswer: 26\\nruleH(\"tri\") newVar(\"X\",node) ruleOcc(\"e\",1) ruleOcc(\"e\",2) ruleOcc(\"e\",3) var(\"X\",node) var(\"Y\",node) var(\"Z\",node) hArc(\"X\",1,\"tri\") newHArc(\"X\",1,\"tri\") arc(\"X\",1,\"e\",1) arc(\"Y\",2,\"e\",1) arc(\"Y\",1,\"e\",2) arc(\"Z\",2,\"e\",2) arc(\"Z\",1,\"e\",3) arc(\"X\",2,\"e\",3) newArc(\"X\",1,\"e\",1) newArc(\"X\",2,\"e\",3) eqOrd(\"X\",\"Y\",node) newArc(\"X\",2,\"e\",1) newArc(\"X\",1,\"e\",2) newArc(\"Z\",2,\"e\",2) newArc(\"Z\",1,\"e\",3) ruleOccTrue(\"e\",1) ne(2,\"X\",\"Z\") ne(3,\"Z\",\"X\") ne(\"X\",\"Z\") ne(\"Z\",\"X\") e(1,\"X\",\"X\") e(\"X\",\"X\") newVar(\"Z\",node) neqOrd(\"X\",\"Z\",node) eqOrdMinimal(\"X\",\"Y\",node)\\nAnswer: 27\\nruleH(\"tri\") newVar(\"X\",node) ruleOcc(\"e\",1) ruleOcc(\"e\",2) ruleOcc(\"e\",3) var(\"X\",node) var(\"Y\",node) var(\"Z\",node) hArc(\"X\",1,\"tri\") newHArc(\"X\",1,\"tri\") arc(\"X\",1,\"e\",1) arc(\"Y\",2,\"e\",1) arc(\"Y\",1,\"e\",2) arc(\"Z\",2,\"e\",2) arc(\"Z\",1,\"e\",3) arc(\"X\",2,\"e\",3) newArc(\"X\",1,\"e\",1) newArc(\"X\",2,\"e\",3) eqOrd(\"X\",\"Y\",node) newArc(\"X\",2,\"e\",1) newArc(\"X\",1,\"e\",2) newArc(\"Z\",2,\"e\",2) newArc(\"Z\",1,\"e\",3) ruleOccTrue(\"e\",3) ne(1,\"X\",\"X\") ne(2,\"X\",\"Z\") ne(\"X\",\"X\") ne(\"X\",\"Z\") e(3,\"Z\",\"X\") e(\"Z\",\"X\") newVar(\"Z\",node) neqOrd(\"X\",\"Z\",node) eqOrdMinimal(\"X\",\"Y\",node)\\nAnswer: 28\\nruleH(\"tri\") newVar(\"X\",node) ruleOcc(\"e\",1) ruleOcc(\"e\",2) ruleOcc(\"e\",3) var(\"X\",node) var(\"Y\",node) var(\"Z\",node) hArc(\"X\",1,\"tri\") newHArc(\"X\",1,\"tri\") arc(\"X\",1,\"e\",1) arc(\"Y\",2,\"e\",1) arc(\"Y\",1,\"e\",2) arc(\"Z\",2,\"e\",2) arc(\"Z\",1,\"e\",3) arc(\"X\",2,\"e\",3) newArc(\"X\",1,\"e\",1) newArc(\"X\",2,\"e\",3) eqOrd(\"X\",\"Y\",node) newArc(\"X\",2,\"e\",1) newArc(\"X\",1,\"e\",2) newArc(\"Z\",2,\"e\",2) newArc(\"Z\",1,\"e\",3) ruleOccTrue(\"e\",1) ruleOccTrue(\"e\",3) ne(2,\"X\",\"Z\") ne(\"X\",\"Z\") e(1,\"X\",\"X\") e(3,\"Z\",\"X\") e(\"X\",\"X\") e(\"Z\",\"X\") newVar(\"Z\",node) neqOrd(\"X\",\"Z\",node) eqOrdMinimal(\"X\",\"Y\",node)\\nAnswer: 29\\nruleH(\"tri\") newVar(\"X\",node) ruleOcc(\"e\",1) ruleOcc(\"e\",2) ruleOcc(\"e\",3) var(\"X\",node) var(\"Y\",node) var(\"Z\",node) hArc(\"X\",1,\"tri\") newHArc(\"X\",1,\"tri\") arc(\"X\",1,\"e\",1) arc(\"Y\",2,\"e\",1) arc(\"Y\",1,\"e\",2) arc(\"Z\",2,\"e\",2) arc(\"Z\",1,\"e\",3) arc(\"X\",2,\"e\",3) newArc(\"X\",1,\"e\",1) newArc(\"X\",2,\"e\",3) eqOrd(\"X\",\"Y\",node) eqOrd(\"X\",\"Z\",node) eqOrd(\"Y\",\"Z\",node) newArc(\"X\",2,\"e\",1) newArc(\"X\",1,\"e\",2) newArc(\"X\",2,\"e\",2) newArc(\"X\",1,\"e\",3) ne(1,\"X\",\"X\") ne(2,\"X\",\"X\") ne(3,\"X\",\"X\") ne(\"X\",\"X\") eqOrdMinimal(\"X\",\"Y\",node) eqOrdMinimal(\"X\",\"Z\",node)\\nAnswer: 30\\nruleH(\"tri\") newVar(\"X\",node) ruleOcc(\"e\",1) ruleOcc(\"e\",2) ruleOcc(\"e\",3) var(\"X\",node) var(\"Y\",node) var(\"Z\",node) hArc(\"X\",1,\"tri\") newHArc(\"X\",1,\"tri\") arc(\"X\",1,\"e\",1) arc(\"Y\",2,\"e\",1) arc(\"Y\",1,\"e\",2) arc(\"Z\",2,\"e\",2) arc(\"Z\",1,\"e\",3) arc(\"X\",2,\"e\",3) newArc(\"X\",1,\"e\",1) newArc(\"X\",2,\"e\",3) eqOrd(\"X\",\"Y\",node) newArc(\"X\",2,\"e\",1) newArc(\"X\",1,\"e\",2) newArc(\"Z\",2,\"e\",2) newArc(\"Z\",1,\"e\",3) ruleOccTrue(\"e\",2) ne(1,\"X\",\"X\") ne(3,\"Z\",\"X\") ne(\"X\",\"X\") ne(\"Z\",\"X\") e(2,\"X\",\"Z\") e(\"X\",\"Z\") newVar(\"Z\",node) neqOrd(\"X\",\"Z\",node) eqOrdMinimal(\"X\",\"Y\",node)\\nAnswer: 31\\nruleH(\"tri\") newVar(\"X\",node) ruleOcc(\"e\",1) ruleOcc(\"e\",2) ruleOcc(\"e\",3) var(\"X\",node) var(\"Y\",node) var(\"Z\",node) hArc(\"X\",1,\"tri\") newHArc(\"X\",1,\"tri\") arc(\"X\",1,\"e\",1) arc(\"Y\",2,\"e\",1) arc(\"Y\",1,\"e\",2) arc(\"Z\",2,\"e\",2) arc(\"Z\",1,\"e\",3) arc(\"X\",2,\"e\",3) newArc(\"X\",1,\"e\",1) newArc(\"X\",2,\"e\",3) eqOrd(\"X\",\"Y\",node) newArc(\"X\",2,\"e\",1) newArc(\"X\",1,\"e\",2) newArc(\"Z\",2,\"e\",2) newArc(\"Z\",1,\"e\",3) ruleOccTrue(\"e\",1) ruleOccTrue(\"e\",2) ne(3,\"Z\",\"X\") ne(\"Z\",\"X\") e(1,\"X\",\"X\") e(2,\"X\",\"Z\") e(\"X\",\"X\") e(\"X\",\"Z\") newVar(\"Z\",node) neqOrd(\"X\",\"Z\",node) eqOrdMinimal(\"X\",\"Y\",node)\\nAnswer: 32\\nruleH(\"tri\") newVar(\"X\",node) ruleOcc(\"e\",1) ruleOcc(\"e\",2) ruleOcc(\"e\",3) var(\"X\",node) var(\"Y\",node) var(\"Z\",node) hArc(\"X\",1,\"tri\") newHArc(\"X\",1,\"tri\") arc(\"X\",1,\"e\",1) arc(\"Y\",2,\"e\",1) arc(\"Y\",1,\"e\",2) arc(\"Z\",2,\"e\",2) arc(\"Z\",1,\"e\",3) arc(\"X\",2,\"e\",3) newArc(\"X\",1,\"e\",1) newArc(\"X\",2,\"e\",3) eqOrd(\"X\",\"Y\",node) newArc(\"X\",2,\"e\",1) newArc(\"X\",1,\"e\",2) newArc(\"Z\",2,\"e\",2) newArc(\"Z\",1,\"e\",3) ruleOccTrue(\"e\",2) ruleOccTrue(\"e\",3) ne(1,\"X\",\"X\") ne(\"X\",\"X\") e(2,\"X\",\"Z\") e(3,\"Z\",\"X\") e(\"X\",\"Z\") e(\"Z\",\"X\") newVar(\"Z\",node) neqOrd(\"X\",\"Z\",node) eqOrdMinimal(\"X\",\"Y\",node)\\nAnswer: 33\\nruleH(\"tri\") newVar(\"X\",node) ruleOcc(\"e\",1) ruleOcc(\"e\",2) ruleOcc(\"e\",3) var(\"X\",node) var(\"Y\",node) var(\"Z\",node) hArc(\"X\",1,\"tri\") newHArc(\"X\",1,\"tri\") arc(\"X\",1,\"e\",1) arc(\"Y\",2,\"e\",1) arc(\"Y\",1,\"e\",2) arc(\"Z\",2,\"e\",2) arc(\"Z\",1,\"e\",3) arc(\"X\",2,\"e\",3) newArc(\"X\",1,\"e\",1) newArc(\"X\",2,\"e\",3) eqOrd(\"X\",\"Y\",node) newArc(\"X\",2,\"e\",1) newArc(\"X\",1,\"e\",2) newArc(\"Z\",2,\"e\",2) newArc(\"Z\",1,\"e\",3) ruleOccTrue(\"e\",1) ruleOccTrue(\"e\",2) ruleOccTrue(\"e\",3) e(1,\"X\",\"X\") e(2,\"X\",\"Z\") e(3,\"Z\",\"X\") e(\"X\",\"X\") e(\"X\",\"Z\") e(\"Z\",\"X\") newVar(\"Z\",node) neqOrd(\"X\",\"Z\",node) eqOrdMinimal(\"X\",\"Y\",node) ruleHTrue(\"tri\")\\nAnswer: 34\\nruleH(\"tri\") newVar(\"X\",node) ruleOcc(\"e\",1) ruleOcc(\"e\",2) ruleOcc(\"e\",3) var(\"X\",node) var(\"Y\",node) var(\"Z\",node) hArc(\"X\",1,\"tri\") newHArc(\"X\",1,\"tri\") arc(\"X\",1,\"e\",1) arc(\"Y\",2,\"e\",1) arc(\"Y\",1,\"e\",2) arc(\"Z\",2,\"e\",2) arc(\"Z\",1,\"e\",3) arc(\"X\",2,\"e\",3) newArc(\"X\",1,\"e\",1) newArc(\"X\",2,\"e\",3) eqOrd(\"X\",\"Y\",node) eqOrd(\"X\",\"Z\",node) eqOrd(\"Y\",\"Z\",node) newArc(\"X\",2,\"e\",1) newArc(\"X\",1,\"e\",2) newArc(\"X\",2,\"e\",2) newArc(\"X\",1,\"e\",3) ruleOccTrue(\"e\",1) ruleOccTrue(\"e\",2) ruleOccTrue(\"e\",3) e(1,\"X\",\"X\") e(2,\"X\",\"X\") e(3,\"X\",\"X\") e(\"X\",\"X\") eqOrdMinimal(\"X\",\"Y\",node) eqOrdMinimal(\"X\",\"Z\",node) ruleHTrue(\"tri\")\\nSATISFIABLE\\n\\nModels       : 34\\nCalls        : 1\\nTime         : 0.005s (Solving: 0.00s 1st Model: 0.00s Unsat: 0.00s)\\nCPU Time     : 0.005s'"
      ]
     },
     "metadata": {},
     "output_type": "display_data"
    }
   ],
   "source": [
    "%%clingo --donot-display_input -exp query_analysis\n",
    "\n",
    "% schema var(VAR, DOMAIN).\n",
    "var(\"X\", node).\n",
    "var(\"Y\", node).\n",
    "var(\"Z\", node).\n",
    "\n",
    "% schema ruleOcc(ATOM, OCC).\n",
    "ruleOcc(\"e\", 1..3).\n",
    "\n",
    "% schema ruleH(HEAD)\n",
    "ruleH(\"tri\").\n",
    "\n",
    "% schema ruleOccTrue(ATOM, OCC)\n",
    "ruleOccTrue(R, OC) ; not ruleOccTrue(R, OC) :- ruleOcc(R, OC).\n",
    "\n",
    "% schema ruleHTrue(HEAD)\n",
    "ruleHFalse(H) :- ruleH(H), ruleOcc(R, OCC), not ruleOccTrue(R,OCC).\n",
    "ruleHTrue(H)  :- ruleH(H), not ruleHFalse(H).\n",
    "\n",
    "% schema eq(VAR1, VAR2, DOMAIN)\n",
    "eq(A,B,TYPE) ; not eq(A,B,TYPE) :- var(A, TYPE), var(B, TYPE), A!=B.\n",
    "eq(A,B,TYPE) :- eq(B,A,TYPE).\n",
    "eq(A,B,TYPE) :- eq(A,C,TYPE), eq(C,B,TYPE), A!=B, B!=C, A!=C.\n",
    "\n",
    "% schema eqOrd(VAR1, VAR2, DOMAIN)\n",
    "eqOrd(A,B,TYPE) :- eq(A,B,TYPE), A<B.\n",
    "\n",
    "\n",
    "% schema arc(VAR, POS, ATOM, OCC)\n",
    "arc(\"X\", 1, \"e\", 1).\n",
    "arc(\"Y\", 2, \"e\", 1).\n",
    "arc(\"Y\", 1, \"e\", 2).\n",
    "arc(\"Z\", 2, \"e\", 2).\n",
    "arc(\"Z\", 1, \"e\", 3).\n",
    "arc(\"X\", 2, \"e\", 3).\n",
    "\n",
    "% schema hArc(VAR, POS, HEAD)\n",
    "hArc(\"X\", 1, \"tri\") :- ruleH(\"tri\").\n",
    "% hArc(\"Y\", 2, \"tri\") :- ruleH(\"tri\").\n",
    "% hArc(\"Z\", 3, \"tri\") :- ruleH(\"tri\").\n",
    "\n",
    "\n",
    "\n",
    "% schema newVar(VAR, DOMAIN)\n",
    "newVar(VAR, TYPE) :- var(VAR, TYPE), not eqOrd(_,VAR,TYPE).\n",
    "% schema eqOrdMinimal(VAR1, VAR2, DOMAIN)\n",
    "eqOrdMinimal(A,B,TYPE) :- eqOrd(A,B,TYPE), newVar(A,TYPE).\n",
    "% schema neqOrd(VAR1, VAR2, DOMAIN)\n",
    "neqOrd(A,B,TYPE) :- newVar(A,TYPE), newVar(B,TYPE), A<B.\n",
    "\n",
    "% Find the new arcs, getting rid of the redundancies\n",
    "\n",
    "% schema newArc(VAR, POS, ATOM, OCC)\n",
    "newArc(VAR, POS, ATOM, OCC) :- arc(VAR_ORIG, POS, ATOM, OCC), eqOrd(VAR,VAR_ORIG,TYPE), not eqOrd(_,VAR,TYPE).\n",
    "newArc(VAR, POS, ATOM, OCC) :- arc(VAR, POS, ATOM, OCC), not eqOrd(_,VAR,_).\n",
    "\n",
    "% schema newHArc(VAR, POS, HEAD)\n",
    "newHArc(VAR, POS, H) :- hArc(VAR_ORIG,POS,H), eqOrd(VAR,VAR_ORIG,TYPE), not eqOrd(_,VAR,TYPE).\n",
    "newHArc(VAR, POS, H) :- hArc(VAR, POS, H), not eqOrd(_,VAR,_).\n",
    "\n",
    "% It cannot be true that eX and eY have the same variable assignments but one is True while other is False\n",
    ":- newArc(V1, 1, \"e\", OCC1), newArc(V2, 2, \"e\", OCC1), newArc(V1, 1, \"e\", OCC2), newArc(V2, 2, \"e\", OCC2), ruleOccTrue(\"e\", OCC1), not ruleOccTrue(\"e\", OCC2). \n",
    "\n",
    "% eqAtomOccOrd(\"e\", OCC1, OCC2) :- newArc(V1, 1, \"e\", OCC1), newArc(V2, 2, \"e\", OCC1), newArc(V1, 1, \"e\", OCC2), newArc(V2, 2, \"e\", OCC2), OCC1<OCC2.\n",
    "% eqAtomOccOrd(\"e\", OCC1, OCC3) :- eqAtomOccOrd(\"e\", OCC1, OCC2), eqAtomOccOrd(\"e\", OCC2, OCC3).\n",
    "\n",
    "% fAtom(\"e\", V1, V2) :- newArc(V1, 1, \"e\", OCC1), newArc(V2, 2, \"e\", OCC1), not eqAtomOccOrd(\"e\",_,OCC1).\n",
    "\n",
    "\n",
    "% New inferred edges\n",
    "% schema e(NODE1, NODE2)\n",
    "e(V1,V2) :- newArc(V1, 1, \"e\", OCC), newArc(V2, 2, \"e\", OCC), ruleOccTrue(\"e\", OCC).\n",
    "\n",
    "% schema e(OCC, NODE1, NODE2)\n",
    "e(OCC,V1,V2) :- newArc(V1, 1, \"e\", OCC), newArc(V2, 2, \"e\", OCC), ruleOccTrue(\"e\", OCC).\n",
    "\n",
    "% New inferred missing edges\n",
    "% schema ne(NODE1, NODE2)\n",
    "ne(V1,V2) :- newArc(V1, 1, \"e\", OCC), newArc(V2, 2, \"e\", OCC), not ruleOccTrue(\"e\", OCC).\n",
    "\n",
    "% schema ne(OCC, NODE1, NODE2)\n",
    "ne(OCC,V1,V2) :- newArc(V1, 1, \"e\", OCC), newArc(V2, 2, \"e\", OCC), not ruleOccTrue(\"e\", OCC).\n",
    "\n",
    "\n",
    "\n",
    "% Given these inferred edges, can a triangle exist?\n",
    "% tri(V1,V2,V3) :- e(V1,V2), e(V2,V3), e(V3,V1).\n",
    "% triExists :- tri(_,_,_).\n",
    "\n",
    "%graphviz graph graph_type=directed rankdir=LR\n",
    "%graphviz edge newArc(HEAD, _, TAIL) label=$2\n",
    "%graphviz node ruleOccTrue(N) color=green\n",
    "\n",
    "% :- not ruleHTrue(\"tri\").\n",
    "\n",
    "\n",
    "#show ruleOccTrue/2.\n",
    "#show var/2.\n",
    "#show newVar/2.\n",
    "#show ruleOcc/2.\n",
    "#show ruleH/1.\n",
    "#show eqOrd/3.\n",
    "#show neqOrd/3.\n",
    "#show eqOrdMinimal/3.\n",
    "#show arc/4.\n",
    "#show newArc/4.\n",
    "#show hArc/3.\n",
    "#show newHArc/3.\n",
    "#show e/2.\n",
    "#show ne/2.\n",
    "#show e/3.\n",
    "#show ne/3.\n",
    "#show eqAtomOccOrd/3.\n",
    "#show fAtom/3.\n",
    "% #show triExists/0.\n",
    "% #show tri/3.\n",
    "#show ruleHTrue/1.\n",
    "\n",
    "\n",
    "\n",
    "\n",
    "\n"
   ]
  },
  {
   "cell_type": "code",
   "execution_count": 9,
   "metadata": {},
   "outputs": [],
   "source": [
    "%%clingo --donot-run --donot-display_input\n",
    "\n",
    "thop(X,Y) :- e(X,Z1), e(Z1,Z2), e(Z2,Y)."
   ]
  },
  {
   "cell_type": "code",
   "execution_count": null,
   "metadata": {},
   "outputs": [],
   "source": [
    "%%clingo --donot-display_input -exp query_analysis\n",
    "\n",
    "% schema var(VAR, DOMAIN).\n",
    "var(\"X\", node).\n",
    "var(\"Y\", node).\n",
    "var(\"Z1\", node).\n",
    "var(\"Z2\", node).\n",
    "\n",
    "% schema ruleOcc(ATOM, OCC).\n",
    "ruleOcc(\"e\", 1..3).\n",
    "\n",
    "% schema ruleH(HEAD)\n",
    "ruleH(\"thop\").\n",
    "\n",
    "% schema ruleOccTrue(ATOM, OCC)\n",
    "ruleOccTrue(R, OC) ; not ruleOccTrue(R, OC) :- ruleOcc(R, OC).\n",
    "\n",
    "% schema ruleHTrue(HEAD)\n",
    "ruleHFalse(H) :- ruleH(H), ruleOcc(R, OCC), not ruleOccTrue(R,OCC).\n",
    "ruleHTrue(H)  :- ruleH(H), not ruleHFalse(H).\n",
    "\n",
    "% schema eq(VAR1, VAR2, DOMAIN)\n",
    "eq(A,B,TYPE) ; not eq(A,B,TYPE) :- var(A, TYPE), var(B, TYPE), A!=B.\n",
    "eq(A,B,TYPE) :- eq(B,A,TYPE).\n",
    "eq(A,B,TYPE) :- eq(A,C,TYPE), eq(C,B,TYPE), A!=B, B!=C, A!=C.\n",
    "\n",
    "% schema eqOrd(VAR1, VAR2, DOMAIN)\n",
    "eqOrd(A,B,TYPE) :- eq(A,B,TYPE), A<B.\n",
    "\n",
    "% schema newVar(VAR, DOMAIN)\n",
    "newVar(VAR, TYPE) :- var(VAR, TYPE), not eqOrd(_,VAR,TYPE).\n",
    "\n",
    "% schema eqOrdMinimal(VAR1, VAR2, DOMAIN)\n",
    "eqOrdMinimal(A,B,TYPE) :- eqOrd(A,B,TYPE), newVar(A,TYPE).\n",
    "\n",
    "% schema neqOrd(VAR1, VAR2, DOMAIN)\n",
    "neqOrd(A,B,TYPE) :- newVar(A,TYPE), newVar(B,TYPE), A<B.\n",
    "\n",
    "% schema arc(VAR, POS, ATOM, OCC)\n",
    "arc(\"X\",  1, \"e\", 1).\n",
    "arc(\"Z1\", 2, \"e\", 1).\n",
    "arc(\"Z1\", 1, \"e\", 2).\n",
    "arc(\"Z2\", 2, \"e\", 2).\n",
    "arc(\"Z2\", 1, \"e\", 3).\n",
    "arc(\"Y\",  2, \"e\", 3).\n",
    "\n",
    "% schema hArc(VAR, POS, HEAD)\n",
    "\n",
    "hArc(\"X\", 1, \"thop\") :- ruleH(\"thop\").\n",
    "hArc(\"Y\", 2, \"thop\") :- ruleH(\"thop\").\n",
    "% hArc(\"Z1\", 3, \"thop\") :- ruleH(\"thop\").\n",
    "% hArc(\"Z2\", 4, \"thop\") :- ruleH(\"thop\").\n",
    "\n",
    "% Find the new arcs, getting rid of the redundancies\n",
    "\n",
    "% schema newArc(VAR, POS, ATOM, OCC)\n",
    "newArc(VAR, POS, ATOM, OCC) :- arc(VAR_ORIG, POS, ATOM, OCC), eqOrd(VAR,VAR_ORIG,TYPE), not eqOrd(_,VAR,TYPE).\n",
    "newArc(VAR, POS, ATOM, OCC) :- arc(VAR, POS, ATOM, OCC), not eqOrd(_,VAR,_).\n",
    "\n",
    "% schema newHArc(VAR, POS, HEAD)\n",
    "newHArc(VAR, POS, H) :- hArc(VAR_ORIG,POS,H), eqOrd(VAR,VAR_ORIG,TYPE), not eqOrd(_,VAR,TYPE).\n",
    "newHArc(VAR, POS, H) :- hArc(VAR, POS, H), not eqOrd(_,VAR,_).\n",
    "\n",
    "% It cannot be true that eX and eY have the same variable assignments but one is True while other is False\n",
    ":- newArc(V1, 1, \"e\", OCC1), newArc(V2, 2, \"e\", OCC1), newArc(V1, 1, \"e\", OCC2), newArc(V2, 2, \"e\", OCC2), ruleOccTrue(\"e\", OCC1), not ruleOccTrue(\"e\", OCC2). \n",
    "\n",
    "\n",
    "% New inferred edges\n",
    "% schema e(NODE1, NODE2)\n",
    "e(V1,V2) :- newArc(V1, 1, \"e\", OCC), newArc(V2, 2, \"e\", OCC), ruleOccTrue(\"e\", OCC).\n",
    "\n",
    "% schema e(OCC, NODE1, NODE2)\n",
    "e(OCC,V1,V2) :- newArc(V1, 1, \"e\", OCC), newArc(V2, 2, \"e\", OCC), ruleOccTrue(\"e\", OCC).\n",
    "\n",
    "% New inferred missing edges\n",
    "% schema ne(NODE1, NODE2)\n",
    "ne(V1,V2) :- newArc(V1, 1, \"e\", OCC), newArc(V2, 2, \"e\", OCC), not ruleOccTrue(\"e\", OCC).\n",
    "\n",
    "% schema ne(OCC, NODE1, NODE2)\n",
    "ne(OCC,V1,V2) :- newArc(V1, 1, \"e\", OCC), newArc(V2, 2, \"e\", OCC), not ruleOccTrue(\"e\", OCC).\n",
    "\n",
    "\n",
    "\n",
    "% Given these inferred edges, can a triangle exist?\n",
    "% tri(V1,V2,V3) :- e(V1,V2), e(V2,V3), e(V3,V1).\n",
    "% triExists :- tri(_,_,_).\n",
    "\n",
    "%graphviz graph graph_type=directed rankdir=LR\n",
    "%graphviz edge newArc(HEAD, _, TAIL) label=$2\n",
    "%graphviz node ruleOccTrue(N) color=green\n",
    "\n",
    ":- not ruleHTrue(\"thop\").\n",
    "\n",
    "\n",
    "#show ruleOccTrue/2.\n",
    "#show var/2.\n",
    "#show newVar/2.\n",
    "#show ruleOcc/2.\n",
    "#show ruleH/1.\n",
    "#show eqOrd/3.\n",
    "#show neqOrd/3.\n",
    "#show eqOrdMinimal/3.\n",
    "#show arc/4.\n",
    "#show newArc/4.\n",
    "#show hArc/3.\n",
    "#show newHArc/3.\n",
    "#show e/2.\n",
    "#show ne/2.\n",
    "#show e/3.\n",
    "#show ne/3.\n",
    "#show eqAtomOccOrd/3.\n",
    "#show fAtom/3.\n",
    "% #show triExists/0.\n",
    "% #show tri/3.\n",
    "#show ruleHTrue/1.\n",
    "\n",
    "\n",
    "\n",
    "\n",
    "\n",
    "\n"
   ]
  },
  {
   "cell_type": "code",
   "execution_count": 40,
   "metadata": {},
   "outputs": [
    {
     "name": "stdout",
     "output_type": "stream",
     "text": [
      "Number of Models: 34\n"
     ]
    }
   ],
   "source": [
    "query_analysis['pw_rel_dfs'], query_analysis['rel_schema'], query_analysis['pw_objs'] =load_worlds(query_analysis['asp_soln'],\n",
    "                                                                                                   query_analysis['meta_data'])\n"
   ]
  },
  {
   "cell_type": "code",
   "execution_count": 41,
   "metadata": {},
   "outputs": [],
   "source": [
    "if 'hArc_3' not in query_analysis['pw_rel_dfs']:\n",
    "    query_analysis['pw_rel_dfs']['hArc_3'] = pd.DataFrame(columns=['pw', 'VAR', 'POS', 'HEAD'])\n",
    "if 'newHArc_3' not in query_analysis['pw_rel_dfs']:\n",
    "    query_analysis['pw_rel_dfs']['newHArc_3'] = pd.DataFrame(columns=['pw', 'VAR', 'POS', 'HEAD'])\n",
    "for i in range(len(query_analysis['pw_objs'])):\n",
    "    if 'hArc_3' not in query_analysis['pw_objs'][i].rls:\n",
    "        query_analysis['pw_objs'][i].rls['hArc_3'] = []\n",
    "    if 'newHArc_3' not in query_analysis['pw_objs'][i].rls:\n",
    "        query_analysis['pw_objs'][i].rls['newHArc_3'] = []\n",
    "    if 'ruleHTrue_1' not in query_analysis['pw_objs'][i].rls:\n",
    "        query_analysis['pw_objs'][i].rls['ruleHTrue_1'] = []"
   ]
  },
  {
   "cell_type": "code",
   "execution_count": 42,
   "metadata": {
    "scrolled": true
   },
   "outputs": [
    {
     "name": "stdout",
     "output_type": "stream",
     "text": [
      "\n",
      "PW: 1\n"
     ]
    },
    {
     "data": {
      "text/html": [
       "<text style=color:black><text style=color:red>ntri(X)</text> :- <text style=color:red>not e(X,Y)</text>, <text style=color:red>not e(Y,Z)</text>, <text style=color:red>not e(Z,X)</text>, <text style=color:black>X != Y</text>, <text style=color:black>X != Z</text>, <text style=color:black>Y != Z</text>.</text>"
      ],
      "text/plain": [
       "<IPython.core.display.HTML object>"
      ]
     },
     "metadata": {},
     "output_type": "display_data"
    },
    {
     "data": {
      "text/html": [
       "<text style=color:black><text style=color:red>ntri(X)</text> :- <text style=color:red>not e(X,Y)</text>, <text style=color:red>not e(Y,Z)</text>, <text style=color:red>not e(Z,X)</text>, <text style=color:black>X != Y</text>, <text style=color:black>X != Z</text>, <text style=color:black>Y != Z</text>.</text>"
      ],
      "text/plain": [
       "<IPython.core.display.HTML object>"
      ]
     },
     "metadata": {},
     "output_type": "display_data"
    },
    {
     "data": {
      "text/html": [
       "<text style=color:black><text style=color:red>ntri(X)</text> :- <text style=color:red>not e(X,Y)</text>, <text style=color:red>not e(Y,Z)</text>, <text style=color:red>not e(Z,X)</text>, <text style=color:black>X != Y</text>, <text style=color:black>X != Z</text>, <text style=color:black>Y != Z</text>.</text>"
      ],
      "text/plain": [
       "<IPython.core.display.HTML object>"
      ]
     },
     "metadata": {},
     "output_type": "display_data"
    },
    {
     "data": {
      "text/html": [
       "<text style=color:black><text style=color:red>ntri(X)</text> :- <text style=color:red>not e(X,Y)</text>, <text style=color:red>not e(Y,Z)</text>, <text style=color:red>not e(Z,X)</text>. % <text style=color:blue>[Y][Z][X]</text></text>"
      ],
      "text/plain": [
       "<IPython.core.display.HTML object>"
      ]
     },
     "metadata": {},
     "output_type": "display_data"
    },
    {
     "name": "stdout",
     "output_type": "stream",
     "text": [
      "\n",
      "PW: 2\n"
     ]
    },
    {
     "data": {
      "text/html": [
       "<text style=color:black><text style=color:red>ntri(X)</text> :- <text style=color:green>e(X,Y)</text>, <text style=color:red>not e(Y,Z)</text>, <text style=color:red>not e(Z,X)</text>, <text style=color:black>X != Y</text>, <text style=color:black>X != Z</text>, <text style=color:black>Y != Z</text>.</text>"
      ],
      "text/plain": [
       "<IPython.core.display.HTML object>"
      ]
     },
     "metadata": {},
     "output_type": "display_data"
    },
    {
     "data": {
      "text/html": [
       "<text style=color:black><text style=color:red>ntri(X)</text> :- <text style=color:green>e(X,Y)</text>, <text style=color:red>not e(Y,Z)</text>, <text style=color:red>not e(Z,X)</text>, <text style=color:black>X != Y</text>, <text style=color:black>X != Z</text>, <text style=color:black>Y != Z</text>.</text>"
      ],
      "text/plain": [
       "<IPython.core.display.HTML object>"
      ]
     },
     "metadata": {},
     "output_type": "display_data"
    },
    {
     "data": {
      "text/html": [
       "<text style=color:black><text style=color:red>ntri(X)</text> :- <text style=color:green>e(X,Y)</text>, <text style=color:red>not e(Y,Z)</text>, <text style=color:red>not e(Z,X)</text>, <text style=color:black>X != Y</text>, <text style=color:black>X != Z</text>, <text style=color:black>Y != Z</text>.</text>"
      ],
      "text/plain": [
       "<IPython.core.display.HTML object>"
      ]
     },
     "metadata": {},
     "output_type": "display_data"
    },
    {
     "data": {
      "text/html": [
       "<text style=color:black><text style=color:red>ntri(X)</text> :- <text style=color:green>e(X,Y)</text>, <text style=color:red>not e(Y,Z)</text>, <text style=color:red>not e(Z,X)</text>. % <text style=color:blue>[Y][Z][X]</text></text>"
      ],
      "text/plain": [
       "<IPython.core.display.HTML object>"
      ]
     },
     "metadata": {},
     "output_type": "display_data"
    },
    {
     "name": "stdout",
     "output_type": "stream",
     "text": [
      "\n",
      "PW: 3\n"
     ]
    },
    {
     "data": {
      "text/html": [
       "<text style=color:black><text style=color:red>ntri(X)</text> :- <text style=color:red>not e(X,Y)</text>, <text style=color:red>not e(Y,Z)</text>, <text style=color:green>e(Z,X)</text>, <text style=color:black>X != Y</text>, <text style=color:black>X != Z</text>, <text style=color:black>Y != Z</text>.</text>"
      ],
      "text/plain": [
       "<IPython.core.display.HTML object>"
      ]
     },
     "metadata": {},
     "output_type": "display_data"
    },
    {
     "data": {
      "text/html": [
       "<text style=color:black><text style=color:red>ntri(X)</text> :- <text style=color:red>not e(X,Y)</text>, <text style=color:red>not e(Y,Z)</text>, <text style=color:green>e(Z,X)</text>, <text style=color:black>X != Y</text>, <text style=color:black>X != Z</text>, <text style=color:black>Y != Z</text>.</text>"
      ],
      "text/plain": [
       "<IPython.core.display.HTML object>"
      ]
     },
     "metadata": {},
     "output_type": "display_data"
    },
    {
     "data": {
      "text/html": [
       "<text style=color:black><text style=color:red>ntri(X)</text> :- <text style=color:red>not e(X,Y)</text>, <text style=color:red>not e(Y,Z)</text>, <text style=color:green>e(Z,X)</text>, <text style=color:black>X != Y</text>, <text style=color:black>X != Z</text>, <text style=color:black>Y != Z</text>.</text>"
      ],
      "text/plain": [
       "<IPython.core.display.HTML object>"
      ]
     },
     "metadata": {},
     "output_type": "display_data"
    },
    {
     "data": {
      "text/html": [
       "<text style=color:black><text style=color:red>ntri(X)</text> :- <text style=color:red>not e(X,Y)</text>, <text style=color:red>not e(Y,Z)</text>, <text style=color:green>e(Z,X)</text>. % <text style=color:blue>[Y][Z][X]</text></text>"
      ],
      "text/plain": [
       "<IPython.core.display.HTML object>"
      ]
     },
     "metadata": {},
     "output_type": "display_data"
    },
    {
     "name": "stdout",
     "output_type": "stream",
     "text": [
      "\n",
      "PW: 4\n"
     ]
    },
    {
     "data": {
      "text/html": [
       "<text style=color:black><text style=color:red>ntri(X)</text> :- <text style=color:green>e(X,Y)</text>, <text style=color:red>not e(Y,Z)</text>, <text style=color:green>e(Z,X)</text>, <text style=color:black>X != Y</text>, <text style=color:black>X != Z</text>, <text style=color:black>Y != Z</text>.</text>"
      ],
      "text/plain": [
       "<IPython.core.display.HTML object>"
      ]
     },
     "metadata": {},
     "output_type": "display_data"
    },
    {
     "data": {
      "text/html": [
       "<text style=color:black><text style=color:red>ntri(X)</text> :- <text style=color:green>e(X,Y)</text>, <text style=color:red>not e(Y,Z)</text>, <text style=color:green>e(Z,X)</text>, <text style=color:black>X != Y</text>, <text style=color:black>X != Z</text>, <text style=color:black>Y != Z</text>.</text>"
      ],
      "text/plain": [
       "<IPython.core.display.HTML object>"
      ]
     },
     "metadata": {},
     "output_type": "display_data"
    },
    {
     "data": {
      "text/html": [
       "<text style=color:black><text style=color:red>ntri(X)</text> :- <text style=color:green>e(X,Y)</text>, <text style=color:red>not e(Y,Z)</text>, <text style=color:green>e(Z,X)</text>, <text style=color:black>X != Y</text>, <text style=color:black>X != Z</text>, <text style=color:black>Y != Z</text>.</text>"
      ],
      "text/plain": [
       "<IPython.core.display.HTML object>"
      ]
     },
     "metadata": {},
     "output_type": "display_data"
    },
    {
     "data": {
      "text/html": [
       "<text style=color:black><text style=color:red>ntri(X)</text> :- <text style=color:green>e(X,Y)</text>, <text style=color:red>not e(Y,Z)</text>, <text style=color:green>e(Z,X)</text>. % <text style=color:blue>[Y][Z][X]</text></text>"
      ],
      "text/plain": [
       "<IPython.core.display.HTML object>"
      ]
     },
     "metadata": {},
     "output_type": "display_data"
    },
    {
     "name": "stdout",
     "output_type": "stream",
     "text": [
      "\n",
      "PW: 5\n"
     ]
    },
    {
     "data": {
      "text/html": [
       "<text style=color:black><text style=color:red>ntri(X)</text> :- <text style=color:red>not e(X,Y)</text>, <text style=color:red>not e(Y,Y)</text>, <text style=color:red>not e(Y,X)</text>, <text style=color:black>X != Y</text>.</text>"
      ],
      "text/plain": [
       "<IPython.core.display.HTML object>"
      ]
     },
     "metadata": {},
     "output_type": "display_data"
    },
    {
     "data": {
      "text/html": [
       "<text style=color:black><text style=color:red>ntri(X)</text> :- <text style=color:red>not e(X,Y)</text>, <text style=color:red>not e(Y,Z)</text>, <text style=color:red>not e(Z,X)</text>, Y=Z, <text style=color:black>X != Y</text>.</text>"
      ],
      "text/plain": [
       "<IPython.core.display.HTML object>"
      ]
     },
     "metadata": {},
     "output_type": "display_data"
    },
    {
     "data": {
      "text/html": [
       "<text style=color:black><text style=color:red>ntri(X)</text> :- <text style=color:red>not e(X,Y)</text>, <text style=color:red>not e(Y,Z)</text>, <text style=color:red>not e(Z,X)</text>, Y=Z, <text style=color:black>X != Y</text>.</text>"
      ],
      "text/plain": [
       "<IPython.core.display.HTML object>"
      ]
     },
     "metadata": {},
     "output_type": "display_data"
    },
    {
     "data": {
      "text/html": [
       "<text style=color:black><text style=color:red>ntri(X)</text> :- <text style=color:red>not e(X,Y)</text>, <text style=color:red>not e(Y,Z)</text>, <text style=color:red>not e(Z,X)</text>. % <text style=color:blue>[Y=Z][X]</text></text>"
      ],
      "text/plain": [
       "<IPython.core.display.HTML object>"
      ]
     },
     "metadata": {},
     "output_type": "display_data"
    },
    {
     "name": "stdout",
     "output_type": "stream",
     "text": [
      "\n",
      "PW: 6\n"
     ]
    },
    {
     "data": {
      "text/html": [
       "<text style=color:black><text style=color:red>ntri(X)</text> :- <text style=color:green>e(X,Y)</text>, <text style=color:red>not e(Y,Y)</text>, <text style=color:red>not e(Y,X)</text>, <text style=color:black>X != Y</text>.</text>"
      ],
      "text/plain": [
       "<IPython.core.display.HTML object>"
      ]
     },
     "metadata": {},
     "output_type": "display_data"
    },
    {
     "data": {
      "text/html": [
       "<text style=color:black><text style=color:red>ntri(X)</text> :- <text style=color:green>e(X,Y)</text>, <text style=color:red>not e(Y,Z)</text>, <text style=color:red>not e(Z,X)</text>, Y=Z, <text style=color:black>X != Y</text>.</text>"
      ],
      "text/plain": [
       "<IPython.core.display.HTML object>"
      ]
     },
     "metadata": {},
     "output_type": "display_data"
    },
    {
     "data": {
      "text/html": [
       "<text style=color:black><text style=color:red>ntri(X)</text> :- <text style=color:green>e(X,Y)</text>, <text style=color:red>not e(Y,Z)</text>, <text style=color:red>not e(Z,X)</text>, Y=Z, <text style=color:black>X != Y</text>.</text>"
      ],
      "text/plain": [
       "<IPython.core.display.HTML object>"
      ]
     },
     "metadata": {},
     "output_type": "display_data"
    },
    {
     "data": {
      "text/html": [
       "<text style=color:black><text style=color:red>ntri(X)</text> :- <text style=color:green>e(X,Y)</text>, <text style=color:red>not e(Y,Z)</text>, <text style=color:red>not e(Z,X)</text>. % <text style=color:blue>[Y=Z][X]</text></text>"
      ],
      "text/plain": [
       "<IPython.core.display.HTML object>"
      ]
     },
     "metadata": {},
     "output_type": "display_data"
    },
    {
     "name": "stdout",
     "output_type": "stream",
     "text": [
      "\n",
      "PW: 7\n"
     ]
    },
    {
     "data": {
      "text/html": [
       "<text style=color:black><text style=color:red>ntri(X)</text> :- <text style=color:red>not e(X,Y)</text>, <text style=color:red>not e(Y,Y)</text>, <text style=color:green>e(Y,X)</text>, <text style=color:black>X != Y</text>.</text>"
      ],
      "text/plain": [
       "<IPython.core.display.HTML object>"
      ]
     },
     "metadata": {},
     "output_type": "display_data"
    },
    {
     "data": {
      "text/html": [
       "<text style=color:black><text style=color:red>ntri(X)</text> :- <text style=color:red>not e(X,Y)</text>, <text style=color:red>not e(Y,Z)</text>, <text style=color:green>e(Z,X)</text>, Y=Z, <text style=color:black>X != Y</text>.</text>"
      ],
      "text/plain": [
       "<IPython.core.display.HTML object>"
      ]
     },
     "metadata": {},
     "output_type": "display_data"
    },
    {
     "data": {
      "text/html": [
       "<text style=color:black><text style=color:red>ntri(X)</text> :- <text style=color:red>not e(X,Y)</text>, <text style=color:red>not e(Y,Z)</text>, <text style=color:green>e(Z,X)</text>, Y=Z, <text style=color:black>X != Y</text>.</text>"
      ],
      "text/plain": [
       "<IPython.core.display.HTML object>"
      ]
     },
     "metadata": {},
     "output_type": "display_data"
    },
    {
     "data": {
      "text/html": [
       "<text style=color:black><text style=color:red>ntri(X)</text> :- <text style=color:red>not e(X,Y)</text>, <text style=color:red>not e(Y,Z)</text>, <text style=color:green>e(Z,X)</text>. % <text style=color:blue>[Y=Z][X]</text></text>"
      ],
      "text/plain": [
       "<IPython.core.display.HTML object>"
      ]
     },
     "metadata": {},
     "output_type": "display_data"
    },
    {
     "name": "stdout",
     "output_type": "stream",
     "text": [
      "\n",
      "PW: 8\n"
     ]
    },
    {
     "data": {
      "text/html": [
       "<text style=color:black><text style=color:red>ntri(X)</text> :- <text style=color:green>e(X,Y)</text>, <text style=color:red>not e(Y,Y)</text>, <text style=color:green>e(Y,X)</text>, <text style=color:black>X != Y</text>.</text>"
      ],
      "text/plain": [
       "<IPython.core.display.HTML object>"
      ]
     },
     "metadata": {},
     "output_type": "display_data"
    },
    {
     "data": {
      "text/html": [
       "<text style=color:black><text style=color:red>ntri(X)</text> :- <text style=color:green>e(X,Y)</text>, <text style=color:red>not e(Y,Z)</text>, <text style=color:green>e(Z,X)</text>, Y=Z, <text style=color:black>X != Y</text>.</text>"
      ],
      "text/plain": [
       "<IPython.core.display.HTML object>"
      ]
     },
     "metadata": {},
     "output_type": "display_data"
    },
    {
     "data": {
      "text/html": [
       "<text style=color:black><text style=color:red>ntri(X)</text> :- <text style=color:green>e(X,Y)</text>, <text style=color:red>not e(Y,Z)</text>, <text style=color:green>e(Z,X)</text>, Y=Z, <text style=color:black>X != Y</text>.</text>"
      ],
      "text/plain": [
       "<IPython.core.display.HTML object>"
      ]
     },
     "metadata": {},
     "output_type": "display_data"
    },
    {
     "data": {
      "text/html": [
       "<text style=color:black><text style=color:red>ntri(X)</text> :- <text style=color:green>e(X,Y)</text>, <text style=color:red>not e(Y,Z)</text>, <text style=color:green>e(Z,X)</text>. % <text style=color:blue>[Y=Z][X]</text></text>"
      ],
      "text/plain": [
       "<IPython.core.display.HTML object>"
      ]
     },
     "metadata": {},
     "output_type": "display_data"
    },
    {
     "name": "stdout",
     "output_type": "stream",
     "text": [
      "\n",
      "PW: 9\n"
     ]
    },
    {
     "data": {
      "text/html": [
       "<text style=color:black><text style=color:red>ntri(X)</text> :- <text style=color:red>not e(X,Y)</text>, <text style=color:red>not e(Y,X)</text>, <text style=color:red>not e(X,X)</text>, <text style=color:black>X != Y</text>.</text>"
      ],
      "text/plain": [
       "<IPython.core.display.HTML object>"
      ]
     },
     "metadata": {},
     "output_type": "display_data"
    },
    {
     "data": {
      "text/html": [
       "<text style=color:black><text style=color:red>ntri(X)</text> :- <text style=color:red>not e(X,Y)</text>, <text style=color:red>not e(Y,Z)</text>, <text style=color:red>not e(Z,X)</text>, X=Z, <text style=color:black>X != Y</text>.</text>"
      ],
      "text/plain": [
       "<IPython.core.display.HTML object>"
      ]
     },
     "metadata": {},
     "output_type": "display_data"
    },
    {
     "data": {
      "text/html": [
       "<text style=color:black><text style=color:red>ntri(X)</text> :- <text style=color:red>not e(X,Y)</text>, <text style=color:red>not e(Y,Z)</text>, <text style=color:red>not e(Z,X)</text>, X=Z, <text style=color:black>X != Y</text>.</text>"
      ],
      "text/plain": [
       "<IPython.core.display.HTML object>"
      ]
     },
     "metadata": {},
     "output_type": "display_data"
    },
    {
     "data": {
      "text/html": [
       "<text style=color:black><text style=color:red>ntri(X)</text> :- <text style=color:red>not e(X,Y)</text>, <text style=color:red>not e(Y,Z)</text>, <text style=color:red>not e(Z,X)</text>. % <text style=color:blue>[X=Z][Y]</text></text>"
      ],
      "text/plain": [
       "<IPython.core.display.HTML object>"
      ]
     },
     "metadata": {},
     "output_type": "display_data"
    },
    {
     "name": "stdout",
     "output_type": "stream",
     "text": [
      "\n",
      "PW: 10\n"
     ]
    },
    {
     "data": {
      "text/html": [
       "<text style=color:black><text style=color:red>ntri(X)</text> :- <text style=color:green>e(X,Y)</text>, <text style=color:red>not e(Y,X)</text>, <text style=color:red>not e(X,X)</text>, <text style=color:black>X != Y</text>.</text>"
      ],
      "text/plain": [
       "<IPython.core.display.HTML object>"
      ]
     },
     "metadata": {},
     "output_type": "display_data"
    },
    {
     "data": {
      "text/html": [
       "<text style=color:black><text style=color:red>ntri(X)</text> :- <text style=color:green>e(X,Y)</text>, <text style=color:red>not e(Y,Z)</text>, <text style=color:red>not e(Z,X)</text>, X=Z, <text style=color:black>X != Y</text>.</text>"
      ],
      "text/plain": [
       "<IPython.core.display.HTML object>"
      ]
     },
     "metadata": {},
     "output_type": "display_data"
    },
    {
     "data": {
      "text/html": [
       "<text style=color:black><text style=color:red>ntri(X)</text> :- <text style=color:green>e(X,Y)</text>, <text style=color:red>not e(Y,Z)</text>, <text style=color:red>not e(Z,X)</text>, X=Z, <text style=color:black>X != Y</text>.</text>"
      ],
      "text/plain": [
       "<IPython.core.display.HTML object>"
      ]
     },
     "metadata": {},
     "output_type": "display_data"
    },
    {
     "data": {
      "text/html": [
       "<text style=color:black><text style=color:red>ntri(X)</text> :- <text style=color:green>e(X,Y)</text>, <text style=color:red>not e(Y,Z)</text>, <text style=color:red>not e(Z,X)</text>. % <text style=color:blue>[X=Z][Y]</text></text>"
      ],
      "text/plain": [
       "<IPython.core.display.HTML object>"
      ]
     },
     "metadata": {},
     "output_type": "display_data"
    },
    {
     "name": "stdout",
     "output_type": "stream",
     "text": [
      "\n",
      "PW: 11\n"
     ]
    },
    {
     "data": {
      "text/html": [
       "<text style=color:black><text style=color:red>ntri(X)</text> :- <text style=color:red>not e(X,Y)</text>, <text style=color:red>not e(Y,X)</text>, <text style=color:green>e(X,X)</text>, <text style=color:black>X != Y</text>.</text>"
      ],
      "text/plain": [
       "<IPython.core.display.HTML object>"
      ]
     },
     "metadata": {},
     "output_type": "display_data"
    },
    {
     "data": {
      "text/html": [
       "<text style=color:black><text style=color:red>ntri(X)</text> :- <text style=color:red>not e(X,Y)</text>, <text style=color:red>not e(Y,Z)</text>, <text style=color:green>e(Z,X)</text>, X=Z, <text style=color:black>X != Y</text>.</text>"
      ],
      "text/plain": [
       "<IPython.core.display.HTML object>"
      ]
     },
     "metadata": {},
     "output_type": "display_data"
    },
    {
     "data": {
      "text/html": [
       "<text style=color:black><text style=color:red>ntri(X)</text> :- <text style=color:red>not e(X,Y)</text>, <text style=color:red>not e(Y,Z)</text>, <text style=color:green>e(Z,X)</text>, X=Z, <text style=color:black>X != Y</text>.</text>"
      ],
      "text/plain": [
       "<IPython.core.display.HTML object>"
      ]
     },
     "metadata": {},
     "output_type": "display_data"
    },
    {
     "data": {
      "text/html": [
       "<text style=color:black><text style=color:red>ntri(X)</text> :- <text style=color:red>not e(X,Y)</text>, <text style=color:red>not e(Y,Z)</text>, <text style=color:green>e(Z,X)</text>. % <text style=color:blue>[X=Z][Y]</text></text>"
      ],
      "text/plain": [
       "<IPython.core.display.HTML object>"
      ]
     },
     "metadata": {},
     "output_type": "display_data"
    },
    {
     "name": "stdout",
     "output_type": "stream",
     "text": [
      "\n",
      "PW: 12\n"
     ]
    },
    {
     "data": {
      "text/html": [
       "<text style=color:black><text style=color:red>ntri(X)</text> :- <text style=color:green>e(X,Y)</text>, <text style=color:red>not e(Y,X)</text>, <text style=color:green>e(X,X)</text>, <text style=color:black>X != Y</text>.</text>"
      ],
      "text/plain": [
       "<IPython.core.display.HTML object>"
      ]
     },
     "metadata": {},
     "output_type": "display_data"
    },
    {
     "data": {
      "text/html": [
       "<text style=color:black><text style=color:red>ntri(X)</text> :- <text style=color:green>e(X,Y)</text>, <text style=color:red>not e(Y,Z)</text>, <text style=color:green>e(Z,X)</text>, X=Z, <text style=color:black>X != Y</text>.</text>"
      ],
      "text/plain": [
       "<IPython.core.display.HTML object>"
      ]
     },
     "metadata": {},
     "output_type": "display_data"
    },
    {
     "data": {
      "text/html": [
       "<text style=color:black><text style=color:red>ntri(X)</text> :- <text style=color:green>e(X,Y)</text>, <text style=color:red>not e(Y,Z)</text>, <text style=color:green>e(Z,X)</text>, X=Z, <text style=color:black>X != Y</text>.</text>"
      ],
      "text/plain": [
       "<IPython.core.display.HTML object>"
      ]
     },
     "metadata": {},
     "output_type": "display_data"
    },
    {
     "data": {
      "text/html": [
       "<text style=color:black><text style=color:red>ntri(X)</text> :- <text style=color:green>e(X,Y)</text>, <text style=color:red>not e(Y,Z)</text>, <text style=color:green>e(Z,X)</text>. % <text style=color:blue>[X=Z][Y]</text></text>"
      ],
      "text/plain": [
       "<IPython.core.display.HTML object>"
      ]
     },
     "metadata": {},
     "output_type": "display_data"
    },
    {
     "name": "stdout",
     "output_type": "stream",
     "text": [
      "\n",
      "PW: 13\n"
     ]
    },
    {
     "data": {
      "text/html": [
       "<text style=color:black><text style=color:red>ntri(X)</text> :- <text style=color:red>not e(X,Y)</text>, <text style=color:green>e(Y,Z)</text>, <text style=color:red>not e(Z,X)</text>, <text style=color:black>X != Y</text>, <text style=color:black>X != Z</text>, <text style=color:black>Y != Z</text>.</text>"
      ],
      "text/plain": [
       "<IPython.core.display.HTML object>"
      ]
     },
     "metadata": {},
     "output_type": "display_data"
    },
    {
     "data": {
      "text/html": [
       "<text style=color:black><text style=color:red>ntri(X)</text> :- <text style=color:red>not e(X,Y)</text>, <text style=color:green>e(Y,Z)</text>, <text style=color:red>not e(Z,X)</text>, <text style=color:black>X != Y</text>, <text style=color:black>X != Z</text>, <text style=color:black>Y != Z</text>.</text>"
      ],
      "text/plain": [
       "<IPython.core.display.HTML object>"
      ]
     },
     "metadata": {},
     "output_type": "display_data"
    },
    {
     "data": {
      "text/html": [
       "<text style=color:black><text style=color:red>ntri(X)</text> :- <text style=color:red>not e(X,Y)</text>, <text style=color:green>e(Y,Z)</text>, <text style=color:red>not e(Z,X)</text>, <text style=color:black>X != Y</text>, <text style=color:black>X != Z</text>, <text style=color:black>Y != Z</text>.</text>"
      ],
      "text/plain": [
       "<IPython.core.display.HTML object>"
      ]
     },
     "metadata": {},
     "output_type": "display_data"
    },
    {
     "data": {
      "text/html": [
       "<text style=color:black><text style=color:red>ntri(X)</text> :- <text style=color:red>not e(X,Y)</text>, <text style=color:green>e(Y,Z)</text>, <text style=color:red>not e(Z,X)</text>. % <text style=color:blue>[Y][Z][X]</text></text>"
      ],
      "text/plain": [
       "<IPython.core.display.HTML object>"
      ]
     },
     "metadata": {},
     "output_type": "display_data"
    },
    {
     "name": "stdout",
     "output_type": "stream",
     "text": [
      "\n",
      "PW: 14\n"
     ]
    },
    {
     "data": {
      "text/html": [
       "<text style=color:black><text style=color:red>ntri(X)</text> :- <text style=color:green>e(X,Y)</text>, <text style=color:green>e(Y,Z)</text>, <text style=color:red>not e(Z,X)</text>, <text style=color:black>X != Y</text>, <text style=color:black>X != Z</text>, <text style=color:black>Y != Z</text>.</text>"
      ],
      "text/plain": [
       "<IPython.core.display.HTML object>"
      ]
     },
     "metadata": {},
     "output_type": "display_data"
    },
    {
     "data": {
      "text/html": [
       "<text style=color:black><text style=color:red>ntri(X)</text> :- <text style=color:green>e(X,Y)</text>, <text style=color:green>e(Y,Z)</text>, <text style=color:red>not e(Z,X)</text>, <text style=color:black>X != Y</text>, <text style=color:black>X != Z</text>, <text style=color:black>Y != Z</text>.</text>"
      ],
      "text/plain": [
       "<IPython.core.display.HTML object>"
      ]
     },
     "metadata": {},
     "output_type": "display_data"
    },
    {
     "data": {
      "text/html": [
       "<text style=color:black><text style=color:red>ntri(X)</text> :- <text style=color:green>e(X,Y)</text>, <text style=color:green>e(Y,Z)</text>, <text style=color:red>not e(Z,X)</text>, <text style=color:black>X != Y</text>, <text style=color:black>X != Z</text>, <text style=color:black>Y != Z</text>.</text>"
      ],
      "text/plain": [
       "<IPython.core.display.HTML object>"
      ]
     },
     "metadata": {},
     "output_type": "display_data"
    },
    {
     "data": {
      "text/html": [
       "<text style=color:black><text style=color:red>ntri(X)</text> :- <text style=color:green>e(X,Y)</text>, <text style=color:green>e(Y,Z)</text>, <text style=color:red>not e(Z,X)</text>. % <text style=color:blue>[Y][Z][X]</text></text>"
      ],
      "text/plain": [
       "<IPython.core.display.HTML object>"
      ]
     },
     "metadata": {},
     "output_type": "display_data"
    },
    {
     "name": "stdout",
     "output_type": "stream",
     "text": [
      "\n",
      "PW: 15\n"
     ]
    },
    {
     "data": {
      "text/html": [
       "<text style=color:black><text style=color:red>ntri(X)</text> :- <text style=color:red>not e(X,Y)</text>, <text style=color:green>e(Y,Z)</text>, <text style=color:green>e(Z,X)</text>, <text style=color:black>X != Y</text>, <text style=color:black>X != Z</text>, <text style=color:black>Y != Z</text>.</text>"
      ],
      "text/plain": [
       "<IPython.core.display.HTML object>"
      ]
     },
     "metadata": {},
     "output_type": "display_data"
    },
    {
     "data": {
      "text/html": [
       "<text style=color:black><text style=color:red>ntri(X)</text> :- <text style=color:red>not e(X,Y)</text>, <text style=color:green>e(Y,Z)</text>, <text style=color:green>e(Z,X)</text>, <text style=color:black>X != Y</text>, <text style=color:black>X != Z</text>, <text style=color:black>Y != Z</text>.</text>"
      ],
      "text/plain": [
       "<IPython.core.display.HTML object>"
      ]
     },
     "metadata": {},
     "output_type": "display_data"
    },
    {
     "data": {
      "text/html": [
       "<text style=color:black><text style=color:red>ntri(X)</text> :- <text style=color:red>not e(X,Y)</text>, <text style=color:green>e(Y,Z)</text>, <text style=color:green>e(Z,X)</text>, <text style=color:black>X != Y</text>, <text style=color:black>X != Z</text>, <text style=color:black>Y != Z</text>.</text>"
      ],
      "text/plain": [
       "<IPython.core.display.HTML object>"
      ]
     },
     "metadata": {},
     "output_type": "display_data"
    },
    {
     "data": {
      "text/html": [
       "<text style=color:black><text style=color:red>ntri(X)</text> :- <text style=color:red>not e(X,Y)</text>, <text style=color:green>e(Y,Z)</text>, <text style=color:green>e(Z,X)</text>. % <text style=color:blue>[Y][Z][X]</text></text>"
      ],
      "text/plain": [
       "<IPython.core.display.HTML object>"
      ]
     },
     "metadata": {},
     "output_type": "display_data"
    },
    {
     "name": "stdout",
     "output_type": "stream",
     "text": [
      "\n",
      "PW: 16\n"
     ]
    },
    {
     "data": {
      "text/html": [
       "<text style=color:black><text style=color:green>tri(X)</text> :- <text style=color:green>e(X,Y)</text>, <text style=color:green>e(Y,Z)</text>, <text style=color:green>e(Z,X)</text>, <text style=color:black>X != Y</text>, <text style=color:black>X != Z</text>, <text style=color:black>Y != Z</text>.</text>"
      ],
      "text/plain": [
       "<IPython.core.display.HTML object>"
      ]
     },
     "metadata": {},
     "output_type": "display_data"
    },
    {
     "data": {
      "text/html": [
       "<text style=color:black><text style=color:green>tri(X)</text> :- <text style=color:green>e(X,Y)</text>, <text style=color:green>e(Y,Z)</text>, <text style=color:green>e(Z,X)</text>, <text style=color:black>X != Y</text>, <text style=color:black>X != Z</text>, <text style=color:black>Y != Z</text>.</text>"
      ],
      "text/plain": [
       "<IPython.core.display.HTML object>"
      ]
     },
     "metadata": {},
     "output_type": "display_data"
    },
    {
     "data": {
      "text/html": [
       "<text style=color:black><text style=color:green>tri(X)</text> :- <text style=color:green>e(X,Y)</text>, <text style=color:green>e(Y,Z)</text>, <text style=color:green>e(Z,X)</text>, <text style=color:black>X != Y</text>, <text style=color:black>X != Z</text>, <text style=color:black>Y != Z</text>.</text>"
      ],
      "text/plain": [
       "<IPython.core.display.HTML object>"
      ]
     },
     "metadata": {},
     "output_type": "display_data"
    },
    {
     "data": {
      "text/html": [
       "<text style=color:black><text style=color:green>tri(X)</text> :- <text style=color:green>e(X,Y)</text>, <text style=color:green>e(Y,Z)</text>, <text style=color:green>e(Z,X)</text>. % <text style=color:blue>[Y][Z][X]</text></text>"
      ],
      "text/plain": [
       "<IPython.core.display.HTML object>"
      ]
     },
     "metadata": {},
     "output_type": "display_data"
    },
    {
     "name": "stdout",
     "output_type": "stream",
     "text": [
      "\n",
      "PW: 17\n"
     ]
    },
    {
     "data": {
      "text/html": [
       "<text style=color:black><text style=color:red>ntri(X)</text> :- <text style=color:red>not e(X,Y)</text>, <text style=color:green>e(Y,Y)</text>, <text style=color:red>not e(Y,X)</text>, <text style=color:black>X != Y</text>.</text>"
      ],
      "text/plain": [
       "<IPython.core.display.HTML object>"
      ]
     },
     "metadata": {},
     "output_type": "display_data"
    },
    {
     "data": {
      "text/html": [
       "<text style=color:black><text style=color:red>ntri(X)</text> :- <text style=color:red>not e(X,Y)</text>, <text style=color:green>e(Y,Z)</text>, <text style=color:red>not e(Z,X)</text>, Y=Z, <text style=color:black>X != Y</text>.</text>"
      ],
      "text/plain": [
       "<IPython.core.display.HTML object>"
      ]
     },
     "metadata": {},
     "output_type": "display_data"
    },
    {
     "data": {
      "text/html": [
       "<text style=color:black><text style=color:red>ntri(X)</text> :- <text style=color:red>not e(X,Y)</text>, <text style=color:green>e(Y,Z)</text>, <text style=color:red>not e(Z,X)</text>, Y=Z, <text style=color:black>X != Y</text>.</text>"
      ],
      "text/plain": [
       "<IPython.core.display.HTML object>"
      ]
     },
     "metadata": {},
     "output_type": "display_data"
    },
    {
     "data": {
      "text/html": [
       "<text style=color:black><text style=color:red>ntri(X)</text> :- <text style=color:red>not e(X,Y)</text>, <text style=color:green>e(Y,Z)</text>, <text style=color:red>not e(Z,X)</text>. % <text style=color:blue>[Y=Z][X]</text></text>"
      ],
      "text/plain": [
       "<IPython.core.display.HTML object>"
      ]
     },
     "metadata": {},
     "output_type": "display_data"
    },
    {
     "name": "stdout",
     "output_type": "stream",
     "text": [
      "\n",
      "PW: 18\n"
     ]
    },
    {
     "data": {
      "text/html": [
       "<text style=color:black><text style=color:red>ntri(X)</text> :- <text style=color:green>e(X,Y)</text>, <text style=color:green>e(Y,Y)</text>, <text style=color:red>not e(Y,X)</text>, <text style=color:black>X != Y</text>.</text>"
      ],
      "text/plain": [
       "<IPython.core.display.HTML object>"
      ]
     },
     "metadata": {},
     "output_type": "display_data"
    },
    {
     "data": {
      "text/html": [
       "<text style=color:black><text style=color:red>ntri(X)</text> :- <text style=color:green>e(X,Y)</text>, <text style=color:green>e(Y,Z)</text>, <text style=color:red>not e(Z,X)</text>, Y=Z, <text style=color:black>X != Y</text>.</text>"
      ],
      "text/plain": [
       "<IPython.core.display.HTML object>"
      ]
     },
     "metadata": {},
     "output_type": "display_data"
    },
    {
     "data": {
      "text/html": [
       "<text style=color:black><text style=color:red>ntri(X)</text> :- <text style=color:green>e(X,Y)</text>, <text style=color:green>e(Y,Z)</text>, <text style=color:red>not e(Z,X)</text>, Y=Z, <text style=color:black>X != Y</text>.</text>"
      ],
      "text/plain": [
       "<IPython.core.display.HTML object>"
      ]
     },
     "metadata": {},
     "output_type": "display_data"
    },
    {
     "data": {
      "text/html": [
       "<text style=color:black><text style=color:red>ntri(X)</text> :- <text style=color:green>e(X,Y)</text>, <text style=color:green>e(Y,Z)</text>, <text style=color:red>not e(Z,X)</text>. % <text style=color:blue>[Y=Z][X]</text></text>"
      ],
      "text/plain": [
       "<IPython.core.display.HTML object>"
      ]
     },
     "metadata": {},
     "output_type": "display_data"
    },
    {
     "name": "stdout",
     "output_type": "stream",
     "text": [
      "\n",
      "PW: 19\n"
     ]
    },
    {
     "data": {
      "text/html": [
       "<text style=color:black><text style=color:red>ntri(X)</text> :- <text style=color:red>not e(X,Y)</text>, <text style=color:green>e(Y,Y)</text>, <text style=color:green>e(Y,X)</text>, <text style=color:black>X != Y</text>.</text>"
      ],
      "text/plain": [
       "<IPython.core.display.HTML object>"
      ]
     },
     "metadata": {},
     "output_type": "display_data"
    },
    {
     "data": {
      "text/html": [
       "<text style=color:black><text style=color:red>ntri(X)</text> :- <text style=color:red>not e(X,Y)</text>, <text style=color:green>e(Y,Z)</text>, <text style=color:green>e(Z,X)</text>, Y=Z, <text style=color:black>X != Y</text>.</text>"
      ],
      "text/plain": [
       "<IPython.core.display.HTML object>"
      ]
     },
     "metadata": {},
     "output_type": "display_data"
    },
    {
     "data": {
      "text/html": [
       "<text style=color:black><text style=color:red>ntri(X)</text> :- <text style=color:red>not e(X,Y)</text>, <text style=color:green>e(Y,Z)</text>, <text style=color:green>e(Z,X)</text>, Y=Z, <text style=color:black>X != Y</text>.</text>"
      ],
      "text/plain": [
       "<IPython.core.display.HTML object>"
      ]
     },
     "metadata": {},
     "output_type": "display_data"
    },
    {
     "data": {
      "text/html": [
       "<text style=color:black><text style=color:red>ntri(X)</text> :- <text style=color:red>not e(X,Y)</text>, <text style=color:green>e(Y,Z)</text>, <text style=color:green>e(Z,X)</text>. % <text style=color:blue>[Y=Z][X]</text></text>"
      ],
      "text/plain": [
       "<IPython.core.display.HTML object>"
      ]
     },
     "metadata": {},
     "output_type": "display_data"
    },
    {
     "name": "stdout",
     "output_type": "stream",
     "text": [
      "\n",
      "PW: 20\n"
     ]
    },
    {
     "data": {
      "text/html": [
       "<text style=color:black><text style=color:green>tri(X)</text> :- <text style=color:green>e(X,Y)</text>, <text style=color:green>e(Y,Y)</text>, <text style=color:green>e(Y,X)</text>, <text style=color:black>X != Y</text>.</text>"
      ],
      "text/plain": [
       "<IPython.core.display.HTML object>"
      ]
     },
     "metadata": {},
     "output_type": "display_data"
    },
    {
     "data": {
      "text/html": [
       "<text style=color:black><text style=color:green>tri(X)</text> :- <text style=color:green>e(X,Y)</text>, <text style=color:green>e(Y,Z)</text>, <text style=color:green>e(Z,X)</text>, Y=Z, <text style=color:black>X != Y</text>.</text>"
      ],
      "text/plain": [
       "<IPython.core.display.HTML object>"
      ]
     },
     "metadata": {},
     "output_type": "display_data"
    },
    {
     "data": {
      "text/html": [
       "<text style=color:black><text style=color:green>tri(X)</text> :- <text style=color:green>e(X,Y)</text>, <text style=color:green>e(Y,Z)</text>, <text style=color:green>e(Z,X)</text>, Y=Z, <text style=color:black>X != Y</text>.</text>"
      ],
      "text/plain": [
       "<IPython.core.display.HTML object>"
      ]
     },
     "metadata": {},
     "output_type": "display_data"
    },
    {
     "data": {
      "text/html": [
       "<text style=color:black><text style=color:green>tri(X)</text> :- <text style=color:green>e(X,Y)</text>, <text style=color:green>e(Y,Z)</text>, <text style=color:green>e(Z,X)</text>. % <text style=color:blue>[Y=Z][X]</text></text>"
      ],
      "text/plain": [
       "<IPython.core.display.HTML object>"
      ]
     },
     "metadata": {},
     "output_type": "display_data"
    },
    {
     "name": "stdout",
     "output_type": "stream",
     "text": [
      "\n",
      "PW: 21\n"
     ]
    },
    {
     "data": {
      "text/html": [
       "<text style=color:black><text style=color:red>ntri(X)</text> :- <text style=color:red>not e(X,Y)</text>, <text style=color:green>e(Y,X)</text>, <text style=color:red>not e(X,X)</text>, <text style=color:black>X != Y</text>.</text>"
      ],
      "text/plain": [
       "<IPython.core.display.HTML object>"
      ]
     },
     "metadata": {},
     "output_type": "display_data"
    },
    {
     "data": {
      "text/html": [
       "<text style=color:black><text style=color:red>ntri(X)</text> :- <text style=color:red>not e(X,Y)</text>, <text style=color:green>e(Y,Z)</text>, <text style=color:red>not e(Z,X)</text>, X=Z, <text style=color:black>X != Y</text>.</text>"
      ],
      "text/plain": [
       "<IPython.core.display.HTML object>"
      ]
     },
     "metadata": {},
     "output_type": "display_data"
    },
    {
     "data": {
      "text/html": [
       "<text style=color:black><text style=color:red>ntri(X)</text> :- <text style=color:red>not e(X,Y)</text>, <text style=color:green>e(Y,Z)</text>, <text style=color:red>not e(Z,X)</text>, X=Z, <text style=color:black>X != Y</text>.</text>"
      ],
      "text/plain": [
       "<IPython.core.display.HTML object>"
      ]
     },
     "metadata": {},
     "output_type": "display_data"
    },
    {
     "data": {
      "text/html": [
       "<text style=color:black><text style=color:red>ntri(X)</text> :- <text style=color:red>not e(X,Y)</text>, <text style=color:green>e(Y,Z)</text>, <text style=color:red>not e(Z,X)</text>. % <text style=color:blue>[X=Z][Y]</text></text>"
      ],
      "text/plain": [
       "<IPython.core.display.HTML object>"
      ]
     },
     "metadata": {},
     "output_type": "display_data"
    },
    {
     "name": "stdout",
     "output_type": "stream",
     "text": [
      "\n",
      "PW: 22\n"
     ]
    },
    {
     "data": {
      "text/html": [
       "<text style=color:black><text style=color:red>ntri(X)</text> :- <text style=color:green>e(X,Y)</text>, <text style=color:green>e(Y,X)</text>, <text style=color:red>not e(X,X)</text>, <text style=color:black>X != Y</text>.</text>"
      ],
      "text/plain": [
       "<IPython.core.display.HTML object>"
      ]
     },
     "metadata": {},
     "output_type": "display_data"
    },
    {
     "data": {
      "text/html": [
       "<text style=color:black><text style=color:red>ntri(X)</text> :- <text style=color:green>e(X,Y)</text>, <text style=color:green>e(Y,Z)</text>, <text style=color:red>not e(Z,X)</text>, X=Z, <text style=color:black>X != Y</text>.</text>"
      ],
      "text/plain": [
       "<IPython.core.display.HTML object>"
      ]
     },
     "metadata": {},
     "output_type": "display_data"
    },
    {
     "data": {
      "text/html": [
       "<text style=color:black><text style=color:red>ntri(X)</text> :- <text style=color:green>e(X,Y)</text>, <text style=color:green>e(Y,Z)</text>, <text style=color:red>not e(Z,X)</text>, X=Z, <text style=color:black>X != Y</text>.</text>"
      ],
      "text/plain": [
       "<IPython.core.display.HTML object>"
      ]
     },
     "metadata": {},
     "output_type": "display_data"
    },
    {
     "data": {
      "text/html": [
       "<text style=color:black><text style=color:red>ntri(X)</text> :- <text style=color:green>e(X,Y)</text>, <text style=color:green>e(Y,Z)</text>, <text style=color:red>not e(Z,X)</text>. % <text style=color:blue>[X=Z][Y]</text></text>"
      ],
      "text/plain": [
       "<IPython.core.display.HTML object>"
      ]
     },
     "metadata": {},
     "output_type": "display_data"
    },
    {
     "name": "stdout",
     "output_type": "stream",
     "text": [
      "\n",
      "PW: 23\n"
     ]
    },
    {
     "data": {
      "text/html": [
       "<text style=color:black><text style=color:red>ntri(X)</text> :- <text style=color:red>not e(X,Y)</text>, <text style=color:green>e(Y,X)</text>, <text style=color:green>e(X,X)</text>, <text style=color:black>X != Y</text>.</text>"
      ],
      "text/plain": [
       "<IPython.core.display.HTML object>"
      ]
     },
     "metadata": {},
     "output_type": "display_data"
    },
    {
     "data": {
      "text/html": [
       "<text style=color:black><text style=color:red>ntri(X)</text> :- <text style=color:red>not e(X,Y)</text>, <text style=color:green>e(Y,Z)</text>, <text style=color:green>e(Z,X)</text>, X=Z, <text style=color:black>X != Y</text>.</text>"
      ],
      "text/plain": [
       "<IPython.core.display.HTML object>"
      ]
     },
     "metadata": {},
     "output_type": "display_data"
    },
    {
     "data": {
      "text/html": [
       "<text style=color:black><text style=color:red>ntri(X)</text> :- <text style=color:red>not e(X,Y)</text>, <text style=color:green>e(Y,Z)</text>, <text style=color:green>e(Z,X)</text>, X=Z, <text style=color:black>X != Y</text>.</text>"
      ],
      "text/plain": [
       "<IPython.core.display.HTML object>"
      ]
     },
     "metadata": {},
     "output_type": "display_data"
    },
    {
     "data": {
      "text/html": [
       "<text style=color:black><text style=color:red>ntri(X)</text> :- <text style=color:red>not e(X,Y)</text>, <text style=color:green>e(Y,Z)</text>, <text style=color:green>e(Z,X)</text>. % <text style=color:blue>[X=Z][Y]</text></text>"
      ],
      "text/plain": [
       "<IPython.core.display.HTML object>"
      ]
     },
     "metadata": {},
     "output_type": "display_data"
    },
    {
     "name": "stdout",
     "output_type": "stream",
     "text": [
      "\n",
      "PW: 24\n"
     ]
    },
    {
     "data": {
      "text/html": [
       "<text style=color:black><text style=color:green>tri(X)</text> :- <text style=color:green>e(X,Y)</text>, <text style=color:green>e(Y,X)</text>, <text style=color:green>e(X,X)</text>, <text style=color:black>X != Y</text>.</text>"
      ],
      "text/plain": [
       "<IPython.core.display.HTML object>"
      ]
     },
     "metadata": {},
     "output_type": "display_data"
    },
    {
     "data": {
      "text/html": [
       "<text style=color:black><text style=color:green>tri(X)</text> :- <text style=color:green>e(X,Y)</text>, <text style=color:green>e(Y,Z)</text>, <text style=color:green>e(Z,X)</text>, X=Z, <text style=color:black>X != Y</text>.</text>"
      ],
      "text/plain": [
       "<IPython.core.display.HTML object>"
      ]
     },
     "metadata": {},
     "output_type": "display_data"
    },
    {
     "data": {
      "text/html": [
       "<text style=color:black><text style=color:green>tri(X)</text> :- <text style=color:green>e(X,Y)</text>, <text style=color:green>e(Y,Z)</text>, <text style=color:green>e(Z,X)</text>, X=Z, <text style=color:black>X != Y</text>.</text>"
      ],
      "text/plain": [
       "<IPython.core.display.HTML object>"
      ]
     },
     "metadata": {},
     "output_type": "display_data"
    },
    {
     "data": {
      "text/html": [
       "<text style=color:black><text style=color:green>tri(X)</text> :- <text style=color:green>e(X,Y)</text>, <text style=color:green>e(Y,Z)</text>, <text style=color:green>e(Z,X)</text>. % <text style=color:blue>[X=Z][Y]</text></text>"
      ],
      "text/plain": [
       "<IPython.core.display.HTML object>"
      ]
     },
     "metadata": {},
     "output_type": "display_data"
    },
    {
     "name": "stdout",
     "output_type": "stream",
     "text": [
      "\n",
      "PW: 25\n"
     ]
    },
    {
     "data": {
      "text/html": [
       "<text style=color:black><text style=color:red>ntri(X)</text> :- <text style=color:red>not e(X,X)</text>, <text style=color:red>not e(X,Z)</text>, <text style=color:red>not e(Z,X)</text>, <text style=color:black>X != Z</text>.</text>"
      ],
      "text/plain": [
       "<IPython.core.display.HTML object>"
      ]
     },
     "metadata": {},
     "output_type": "display_data"
    },
    {
     "data": {
      "text/html": [
       "<text style=color:black><text style=color:red>ntri(X)</text> :- <text style=color:red>not e(X,Y)</text>, <text style=color:red>not e(Y,Z)</text>, <text style=color:red>not e(Z,X)</text>, X=Y, <text style=color:black>X != Z</text>.</text>"
      ],
      "text/plain": [
       "<IPython.core.display.HTML object>"
      ]
     },
     "metadata": {},
     "output_type": "display_data"
    },
    {
     "data": {
      "text/html": [
       "<text style=color:black><text style=color:red>ntri(X)</text> :- <text style=color:red>not e(X,Y)</text>, <text style=color:red>not e(Y,Z)</text>, <text style=color:red>not e(Z,X)</text>, X=Y, <text style=color:black>X != Z</text>.</text>"
      ],
      "text/plain": [
       "<IPython.core.display.HTML object>"
      ]
     },
     "metadata": {},
     "output_type": "display_data"
    },
    {
     "data": {
      "text/html": [
       "<text style=color:black><text style=color:red>ntri(X)</text> :- <text style=color:red>not e(X,Y)</text>, <text style=color:red>not e(Y,Z)</text>, <text style=color:red>not e(Z,X)</text>. % <text style=color:blue>[X=Y][Z]</text></text>"
      ],
      "text/plain": [
       "<IPython.core.display.HTML object>"
      ]
     },
     "metadata": {},
     "output_type": "display_data"
    },
    {
     "name": "stdout",
     "output_type": "stream",
     "text": [
      "\n",
      "PW: 26\n"
     ]
    },
    {
     "data": {
      "text/html": [
       "<text style=color:black><text style=color:red>ntri(X)</text> :- <text style=color:green>e(X,X)</text>, <text style=color:red>not e(X,Z)</text>, <text style=color:red>not e(Z,X)</text>, <text style=color:black>X != Z</text>.</text>"
      ],
      "text/plain": [
       "<IPython.core.display.HTML object>"
      ]
     },
     "metadata": {},
     "output_type": "display_data"
    },
    {
     "data": {
      "text/html": [
       "<text style=color:black><text style=color:red>ntri(X)</text> :- <text style=color:green>e(X,Y)</text>, <text style=color:red>not e(Y,Z)</text>, <text style=color:red>not e(Z,X)</text>, X=Y, <text style=color:black>X != Z</text>.</text>"
      ],
      "text/plain": [
       "<IPython.core.display.HTML object>"
      ]
     },
     "metadata": {},
     "output_type": "display_data"
    },
    {
     "data": {
      "text/html": [
       "<text style=color:black><text style=color:red>ntri(X)</text> :- <text style=color:green>e(X,Y)</text>, <text style=color:red>not e(Y,Z)</text>, <text style=color:red>not e(Z,X)</text>, X=Y, <text style=color:black>X != Z</text>.</text>"
      ],
      "text/plain": [
       "<IPython.core.display.HTML object>"
      ]
     },
     "metadata": {},
     "output_type": "display_data"
    },
    {
     "data": {
      "text/html": [
       "<text style=color:black><text style=color:red>ntri(X)</text> :- <text style=color:green>e(X,Y)</text>, <text style=color:red>not e(Y,Z)</text>, <text style=color:red>not e(Z,X)</text>. % <text style=color:blue>[X=Y][Z]</text></text>"
      ],
      "text/plain": [
       "<IPython.core.display.HTML object>"
      ]
     },
     "metadata": {},
     "output_type": "display_data"
    },
    {
     "name": "stdout",
     "output_type": "stream",
     "text": [
      "\n",
      "PW: 27\n"
     ]
    },
    {
     "data": {
      "text/html": [
       "<text style=color:black><text style=color:red>ntri(X)</text> :- <text style=color:red>not e(X,X)</text>, <text style=color:red>not e(X,Z)</text>, <text style=color:green>e(Z,X)</text>, <text style=color:black>X != Z</text>.</text>"
      ],
      "text/plain": [
       "<IPython.core.display.HTML object>"
      ]
     },
     "metadata": {},
     "output_type": "display_data"
    },
    {
     "data": {
      "text/html": [
       "<text style=color:black><text style=color:red>ntri(X)</text> :- <text style=color:red>not e(X,Y)</text>, <text style=color:red>not e(Y,Z)</text>, <text style=color:green>e(Z,X)</text>, X=Y, <text style=color:black>X != Z</text>.</text>"
      ],
      "text/plain": [
       "<IPython.core.display.HTML object>"
      ]
     },
     "metadata": {},
     "output_type": "display_data"
    },
    {
     "data": {
      "text/html": [
       "<text style=color:black><text style=color:red>ntri(X)</text> :- <text style=color:red>not e(X,Y)</text>, <text style=color:red>not e(Y,Z)</text>, <text style=color:green>e(Z,X)</text>, X=Y, <text style=color:black>X != Z</text>.</text>"
      ],
      "text/plain": [
       "<IPython.core.display.HTML object>"
      ]
     },
     "metadata": {},
     "output_type": "display_data"
    },
    {
     "data": {
      "text/html": [
       "<text style=color:black><text style=color:red>ntri(X)</text> :- <text style=color:red>not e(X,Y)</text>, <text style=color:red>not e(Y,Z)</text>, <text style=color:green>e(Z,X)</text>. % <text style=color:blue>[X=Y][Z]</text></text>"
      ],
      "text/plain": [
       "<IPython.core.display.HTML object>"
      ]
     },
     "metadata": {},
     "output_type": "display_data"
    },
    {
     "name": "stdout",
     "output_type": "stream",
     "text": [
      "\n",
      "PW: 28\n"
     ]
    },
    {
     "data": {
      "text/html": [
       "<text style=color:black><text style=color:red>ntri(X)</text> :- <text style=color:green>e(X,X)</text>, <text style=color:red>not e(X,Z)</text>, <text style=color:green>e(Z,X)</text>, <text style=color:black>X != Z</text>.</text>"
      ],
      "text/plain": [
       "<IPython.core.display.HTML object>"
      ]
     },
     "metadata": {},
     "output_type": "display_data"
    },
    {
     "data": {
      "text/html": [
       "<text style=color:black><text style=color:red>ntri(X)</text> :- <text style=color:green>e(X,Y)</text>, <text style=color:red>not e(Y,Z)</text>, <text style=color:green>e(Z,X)</text>, X=Y, <text style=color:black>X != Z</text>.</text>"
      ],
      "text/plain": [
       "<IPython.core.display.HTML object>"
      ]
     },
     "metadata": {},
     "output_type": "display_data"
    },
    {
     "data": {
      "text/html": [
       "<text style=color:black><text style=color:red>ntri(X)</text> :- <text style=color:green>e(X,Y)</text>, <text style=color:red>not e(Y,Z)</text>, <text style=color:green>e(Z,X)</text>, X=Y, <text style=color:black>X != Z</text>.</text>"
      ],
      "text/plain": [
       "<IPython.core.display.HTML object>"
      ]
     },
     "metadata": {},
     "output_type": "display_data"
    },
    {
     "data": {
      "text/html": [
       "<text style=color:black><text style=color:red>ntri(X)</text> :- <text style=color:green>e(X,Y)</text>, <text style=color:red>not e(Y,Z)</text>, <text style=color:green>e(Z,X)</text>. % <text style=color:blue>[X=Y][Z]</text></text>"
      ],
      "text/plain": [
       "<IPython.core.display.HTML object>"
      ]
     },
     "metadata": {},
     "output_type": "display_data"
    },
    {
     "name": "stdout",
     "output_type": "stream",
     "text": [
      "\n",
      "PW: 29\n"
     ]
    },
    {
     "data": {
      "text/html": [
       "<text style=color:black><text style=color:red>ntri(X)</text> :- <text style=color:red>not e(X,X)</text>, <text style=color:red>not e(X,X)</text>, <text style=color:red>not e(X,X)</text>.</text>"
      ],
      "text/plain": [
       "<IPython.core.display.HTML object>"
      ]
     },
     "metadata": {},
     "output_type": "display_data"
    },
    {
     "data": {
      "text/html": [
       "<text style=color:black><text style=color:red>ntri(X)</text> :- <text style=color:red>not e(X,Y)</text>, <text style=color:red>not e(Y,Z)</text>, <text style=color:red>not e(Z,X)</text>, X=Y, X=Z.</text>"
      ],
      "text/plain": [
       "<IPython.core.display.HTML object>"
      ]
     },
     "metadata": {},
     "output_type": "display_data"
    },
    {
     "data": {
      "text/html": [
       "<text style=color:black><text style=color:red>ntri(X)</text> :- <text style=color:red>not e(X,Y)</text>, <text style=color:red>not e(Y,Z)</text>, <text style=color:red>not e(Z,X)</text>, X=Y=Z.</text>"
      ],
      "text/plain": [
       "<IPython.core.display.HTML object>"
      ]
     },
     "metadata": {},
     "output_type": "display_data"
    },
    {
     "data": {
      "text/html": [
       "<text style=color:black><text style=color:red>ntri(X)</text> :- <text style=color:red>not e(X,Y)</text>, <text style=color:red>not e(Y,Z)</text>, <text style=color:red>not e(Z,X)</text>. % <text style=color:blue>[X=Y=Z]</text></text>"
      ],
      "text/plain": [
       "<IPython.core.display.HTML object>"
      ]
     },
     "metadata": {},
     "output_type": "display_data"
    },
    {
     "name": "stdout",
     "output_type": "stream",
     "text": [
      "\n",
      "PW: 30\n"
     ]
    },
    {
     "data": {
      "text/html": [
       "<text style=color:black><text style=color:red>ntri(X)</text> :- <text style=color:red>not e(X,X)</text>, <text style=color:green>e(X,Z)</text>, <text style=color:red>not e(Z,X)</text>, <text style=color:black>X != Z</text>.</text>"
      ],
      "text/plain": [
       "<IPython.core.display.HTML object>"
      ]
     },
     "metadata": {},
     "output_type": "display_data"
    },
    {
     "data": {
      "text/html": [
       "<text style=color:black><text style=color:red>ntri(X)</text> :- <text style=color:red>not e(X,Y)</text>, <text style=color:green>e(Y,Z)</text>, <text style=color:red>not e(Z,X)</text>, X=Y, <text style=color:black>X != Z</text>.</text>"
      ],
      "text/plain": [
       "<IPython.core.display.HTML object>"
      ]
     },
     "metadata": {},
     "output_type": "display_data"
    },
    {
     "data": {
      "text/html": [
       "<text style=color:black><text style=color:red>ntri(X)</text> :- <text style=color:red>not e(X,Y)</text>, <text style=color:green>e(Y,Z)</text>, <text style=color:red>not e(Z,X)</text>, X=Y, <text style=color:black>X != Z</text>.</text>"
      ],
      "text/plain": [
       "<IPython.core.display.HTML object>"
      ]
     },
     "metadata": {},
     "output_type": "display_data"
    },
    {
     "data": {
      "text/html": [
       "<text style=color:black><text style=color:red>ntri(X)</text> :- <text style=color:red>not e(X,Y)</text>, <text style=color:green>e(Y,Z)</text>, <text style=color:red>not e(Z,X)</text>. % <text style=color:blue>[X=Y][Z]</text></text>"
      ],
      "text/plain": [
       "<IPython.core.display.HTML object>"
      ]
     },
     "metadata": {},
     "output_type": "display_data"
    },
    {
     "name": "stdout",
     "output_type": "stream",
     "text": [
      "\n",
      "PW: 31\n"
     ]
    },
    {
     "data": {
      "text/html": [
       "<text style=color:black><text style=color:red>ntri(X)</text> :- <text style=color:green>e(X,X)</text>, <text style=color:green>e(X,Z)</text>, <text style=color:red>not e(Z,X)</text>, <text style=color:black>X != Z</text>.</text>"
      ],
      "text/plain": [
       "<IPython.core.display.HTML object>"
      ]
     },
     "metadata": {},
     "output_type": "display_data"
    },
    {
     "data": {
      "text/html": [
       "<text style=color:black><text style=color:red>ntri(X)</text> :- <text style=color:green>e(X,Y)</text>, <text style=color:green>e(Y,Z)</text>, <text style=color:red>not e(Z,X)</text>, X=Y, <text style=color:black>X != Z</text>.</text>"
      ],
      "text/plain": [
       "<IPython.core.display.HTML object>"
      ]
     },
     "metadata": {},
     "output_type": "display_data"
    },
    {
     "data": {
      "text/html": [
       "<text style=color:black><text style=color:red>ntri(X)</text> :- <text style=color:green>e(X,Y)</text>, <text style=color:green>e(Y,Z)</text>, <text style=color:red>not e(Z,X)</text>, X=Y, <text style=color:black>X != Z</text>.</text>"
      ],
      "text/plain": [
       "<IPython.core.display.HTML object>"
      ]
     },
     "metadata": {},
     "output_type": "display_data"
    },
    {
     "data": {
      "text/html": [
       "<text style=color:black><text style=color:red>ntri(X)</text> :- <text style=color:green>e(X,Y)</text>, <text style=color:green>e(Y,Z)</text>, <text style=color:red>not e(Z,X)</text>. % <text style=color:blue>[X=Y][Z]</text></text>"
      ],
      "text/plain": [
       "<IPython.core.display.HTML object>"
      ]
     },
     "metadata": {},
     "output_type": "display_data"
    },
    {
     "name": "stdout",
     "output_type": "stream",
     "text": [
      "\n",
      "PW: 32\n"
     ]
    },
    {
     "data": {
      "text/html": [
       "<text style=color:black><text style=color:red>ntri(X)</text> :- <text style=color:red>not e(X,X)</text>, <text style=color:green>e(X,Z)</text>, <text style=color:green>e(Z,X)</text>, <text style=color:black>X != Z</text>.</text>"
      ],
      "text/plain": [
       "<IPython.core.display.HTML object>"
      ]
     },
     "metadata": {},
     "output_type": "display_data"
    },
    {
     "data": {
      "text/html": [
       "<text style=color:black><text style=color:red>ntri(X)</text> :- <text style=color:red>not e(X,Y)</text>, <text style=color:green>e(Y,Z)</text>, <text style=color:green>e(Z,X)</text>, X=Y, <text style=color:black>X != Z</text>.</text>"
      ],
      "text/plain": [
       "<IPython.core.display.HTML object>"
      ]
     },
     "metadata": {},
     "output_type": "display_data"
    },
    {
     "data": {
      "text/html": [
       "<text style=color:black><text style=color:red>ntri(X)</text> :- <text style=color:red>not e(X,Y)</text>, <text style=color:green>e(Y,Z)</text>, <text style=color:green>e(Z,X)</text>, X=Y, <text style=color:black>X != Z</text>.</text>"
      ],
      "text/plain": [
       "<IPython.core.display.HTML object>"
      ]
     },
     "metadata": {},
     "output_type": "display_data"
    },
    {
     "data": {
      "text/html": [
       "<text style=color:black><text style=color:red>ntri(X)</text> :- <text style=color:red>not e(X,Y)</text>, <text style=color:green>e(Y,Z)</text>, <text style=color:green>e(Z,X)</text>. % <text style=color:blue>[X=Y][Z]</text></text>"
      ],
      "text/plain": [
       "<IPython.core.display.HTML object>"
      ]
     },
     "metadata": {},
     "output_type": "display_data"
    },
    {
     "name": "stdout",
     "output_type": "stream",
     "text": [
      "\n",
      "PW: 33\n"
     ]
    },
    {
     "data": {
      "text/html": [
       "<text style=color:black><text style=color:green>tri(X)</text> :- <text style=color:green>e(X,X)</text>, <text style=color:green>e(X,Z)</text>, <text style=color:green>e(Z,X)</text>, <text style=color:black>X != Z</text>.</text>"
      ],
      "text/plain": [
       "<IPython.core.display.HTML object>"
      ]
     },
     "metadata": {},
     "output_type": "display_data"
    },
    {
     "data": {
      "text/html": [
       "<text style=color:black><text style=color:green>tri(X)</text> :- <text style=color:green>e(X,Y)</text>, <text style=color:green>e(Y,Z)</text>, <text style=color:green>e(Z,X)</text>, X=Y, <text style=color:black>X != Z</text>.</text>"
      ],
      "text/plain": [
       "<IPython.core.display.HTML object>"
      ]
     },
     "metadata": {},
     "output_type": "display_data"
    },
    {
     "data": {
      "text/html": [
       "<text style=color:black><text style=color:green>tri(X)</text> :- <text style=color:green>e(X,Y)</text>, <text style=color:green>e(Y,Z)</text>, <text style=color:green>e(Z,X)</text>, X=Y, <text style=color:black>X != Z</text>.</text>"
      ],
      "text/plain": [
       "<IPython.core.display.HTML object>"
      ]
     },
     "metadata": {},
     "output_type": "display_data"
    },
    {
     "data": {
      "text/html": [
       "<text style=color:black><text style=color:green>tri(X)</text> :- <text style=color:green>e(X,Y)</text>, <text style=color:green>e(Y,Z)</text>, <text style=color:green>e(Z,X)</text>. % <text style=color:blue>[X=Y][Z]</text></text>"
      ],
      "text/plain": [
       "<IPython.core.display.HTML object>"
      ]
     },
     "metadata": {},
     "output_type": "display_data"
    },
    {
     "name": "stdout",
     "output_type": "stream",
     "text": [
      "\n",
      "PW: 34\n"
     ]
    },
    {
     "data": {
      "text/html": [
       "<text style=color:black><text style=color:green>tri(X)</text> :- <text style=color:green>e(X,X)</text>, <text style=color:green>e(X,X)</text>, <text style=color:green>e(X,X)</text>.</text>"
      ],
      "text/plain": [
       "<IPython.core.display.HTML object>"
      ]
     },
     "metadata": {},
     "output_type": "display_data"
    },
    {
     "data": {
      "text/html": [
       "<text style=color:black><text style=color:green>tri(X)</text> :- <text style=color:green>e(X,Y)</text>, <text style=color:green>e(Y,Z)</text>, <text style=color:green>e(Z,X)</text>, X=Y, X=Z.</text>"
      ],
      "text/plain": [
       "<IPython.core.display.HTML object>"
      ]
     },
     "metadata": {},
     "output_type": "display_data"
    },
    {
     "data": {
      "text/html": [
       "<text style=color:black><text style=color:green>tri(X)</text> :- <text style=color:green>e(X,Y)</text>, <text style=color:green>e(Y,Z)</text>, <text style=color:green>e(Z,X)</text>, X=Y=Z.</text>"
      ],
      "text/plain": [
       "<IPython.core.display.HTML object>"
      ]
     },
     "metadata": {},
     "output_type": "display_data"
    },
    {
     "data": {
      "text/html": [
       "<text style=color:black><text style=color:green>tri(X)</text> :- <text style=color:green>e(X,Y)</text>, <text style=color:green>e(Y,Z)</text>, <text style=color:green>e(Z,X)</text>. % <text style=color:blue>[X=Y=Z]</text></text>"
      ],
      "text/plain": [
       "<IPython.core.display.HTML object>"
      ]
     },
     "metadata": {},
     "output_type": "display_data"
    }
   ],
   "source": [
    "for i in range(1, len(query_analysis['pw_objs'])+1):\n",
    "    print(\"\\nPW:\", i)\n",
    "    pw_rel_dfs = pw_slicer(query_analysis['pw_rel_dfs'], None, [i])[0]        \n",
    "\n",
    "#     g = get_incidence_graph(pw_rel_dfs)\n",
    "#     display(draw(g))\n",
    "    \n",
    "\n",
    "#     print_colored_query_string(pw_rel_dfs)\n",
    "    print_rewritten_query_string(pw_rel_dfs)\n",
    "    print_explicit_rewritten_query_string(pw_rel_dfs, chain_eq=False)\n",
    "    print_explicit_rewritten_query_string(pw_rel_dfs, chain_eq=True)\n",
    "    print_fancy_rewrite(pw_rel_dfs)\n",
    "    \n",
    "#     g = get_pattern_graph2(pw_rel_dfs)\n",
    "#     draw(g, format='pdf', filename='{}.{}'.format('3hop_all_patterns/pw_{}'.format(i), 'pdf'), show='none')\n",
    "#     display(draw(g))"
   ]
  },
  {
   "cell_type": "code",
   "execution_count": 43,
   "metadata": {},
   "outputs": [],
   "source": [
    "%%clingo --donot-display_input -lci qep_eq_check --donot-run\n",
    "\n",
    "% e(X,Y) :- e(Y,X). --> only if undirected\n",
    "gnode1(X) :- e1(X,_).\n",
    "gnode1(X) :- e1(_,X).\n",
    "gnode1(X) :- ne1(X,_).\n",
    "gnode1(X) :- ne1(_,X).\n",
    "\n",
    "gnode2(X) :- e2(X,_).\n",
    "gnode2(X) :- e2(_,X).\n",
    "gnode2(X) :- ne2(X,_).\n",
    "gnode2(X) :- ne2(_,X).\n",
    "\n",
    "vmap(X,Y) ; not vmap(X,Y) :- gnode1(X), gnode2(Y).\n",
    ":- vmap(X1,Y1), vmap(X2,Y2), e1(X1,X2), not e2(Y1,Y2).\n",
    ":- vmap(X1,Y1), vmap(X2,Y2), not e1(X1,X2), e2(Y1,Y2).\n",
    ":- vmap(X1,Y1), vmap(X2,Y2), ne1(X1,X2), not ne2(Y1,Y2).\n",
    ":- vmap(X1,Y1), vmap(X2,Y2), not ne1(X1,X2), ne2(Y1,Y2).\n",
    "\n",
    "% used1(X) :- vmap(X,_).\n",
    "% :- gnode(X), not used1(X).\n",
    "% :- vmap(X,Y),vmap(X,Z),Y!=Z.\n",
    "% :- vmap(Y,X),vmap(Z,X),Y!=Z.\n",
    "\n",
    ":- gnode1(X), #count {Y: vmap(X,Y)} != 1.\n",
    ":- gnode2(Y), #count {X: vmap(X,Y)} != 1.\n",
    "\n",
    "#show.\n",
    "% #show vmap/2."
   ]
  },
  {
   "cell_type": "code",
   "execution_count": 44,
   "metadata": {},
   "outputs": [],
   "source": [
    "%%clingo --donot-display_input -lci qep_eq_check2 --donot-run\n",
    "\n",
    "% e(X,Y) :- e(Y,X). --> only if undirected\n",
    "gnode1(X) :- e1(X,_).\n",
    "gnode1(X) :- e1(_,X).\n",
    "gnode1(X) :- ne1(X,_).\n",
    "gnode1(X) :- ne1(_,X).\n",
    "\n",
    "gnode2(X) :- e2(X,_).\n",
    "gnode2(X) :- e2(_,X).\n",
    "gnode2(X) :- ne2(X,_).\n",
    "gnode2(X) :- ne2(_,X).\n",
    "\n",
    "vmap(X,Y) ; not vmap(X,Y) :- gnode1(X), gnode2(Y).\n",
    ":- vmap(X1,Y1), vmap(X2,Y2), e1(X1,X2), not e2(Y1,Y2).\n",
    ":- vmap(X1,Y1), vmap(X2,Y2), not e1(X1,X2), e2(Y1,Y2).\n",
    ":- vmap(X1,Y1), vmap(X2,Y2), ne1(X1,X2), not ne2(Y1,Y2).\n",
    ":- vmap(X1,Y1), vmap(X2,Y2), not ne1(X1,X2), ne2(Y1,Y2).\n",
    "\n",
    "% 3hop Query\n",
    "\n",
    ":- vmap(X1,Y1), vmap(X2,Y2), vmap(X3,Y3), vmap(X4,Y4), thop1(X1,X2,X3,X4), not thop2(Y1,Y2,Y3,Y4).\n",
    ":- vmap(X1,Y1), vmap(X2,Y2), vmap(X3,Y3), vmap(X4,Y4), not thop1(X1,X2,X3,X4), thop2(Y1,Y2,Y3,Y4).\n",
    "\n",
    ":- vmap(X1,Y1), vmap(X2,Y2), vmap(X3,Y3), thop1(X1,X2,X3), not thop2(Y1,Y2,Y3).\n",
    ":- vmap(X1,Y1), vmap(X2,Y2), vmap(X3,Y3), not thop1(X1,X2,X3), thop2(Y1,Y2,Y3).\n",
    "\n",
    ":- vmap(X1,Y1), vmap(X2,Y2), thop1(X1,X2), not thop2(Y1,Y2).\n",
    ":- vmap(X1,Y1), vmap(X2,Y2), not thop1(X1,X2), thop2(Y1,Y2).\n",
    "\n",
    ":- vmap(X1,Y1), thop1(X1), not thop2(Y1).\n",
    ":- vmap(X1,Y1), not thop1(X1), thop2(Y1).\n",
    "\n",
    ":- vmap(X1,Y1), vmap(X2,Y2), vmap(X3,Y3), vmap(X4,Y4), nthop1(X1,X2,X3,X4), not nthop2(Y1,Y2,Y3,Y4).\n",
    ":- vmap(X1,Y1), vmap(X2,Y2), vmap(X3,Y3), vmap(X4,Y4), not nthop1(X1,X2,X3,X4), nthop2(Y1,Y2,Y3,Y4).\n",
    "\n",
    ":- vmap(X1,Y1), vmap(X2,Y2), vmap(X3,Y3), nthop1(X1,X2,X3), not nthop2(Y1,Y2,Y3).\n",
    ":- vmap(X1,Y1), vmap(X2,Y2), vmap(X3,Y3), not nthop1(X1,X2,X3), nthop2(Y1,Y2,Y3).\n",
    "\n",
    ":- vmap(X1,Y1), vmap(X2,Y2), nthop1(X1,X2), not nthop2(Y1,Y2).\n",
    ":- vmap(X1,Y1), vmap(X2,Y2), not nthop1(X1,X2), nthop2(Y1,Y2).\n",
    "\n",
    ":- vmap(X1,Y1), nthop1(X1), not nthop2(Y1).\n",
    ":- vmap(X1,Y1), not nthop1(X1), nthop2(Y1).\n",
    "\n",
    "\n",
    "% Triangle Query\n",
    "\n",
    ":- vmap(X1,Y1), vmap(X2,Y2), vmap(X3,Y3), tri1(X1,X2,X3), not tri2(Y1,Y2,Y3).\n",
    ":- vmap(X1,Y1), vmap(X2,Y2), vmap(X3,Y3), not tri1(X1,X2,X3), tri2(Y1,Y2,Y3).\n",
    "\n",
    ":- vmap(X1,Y1), vmap(X2,Y2), tri1(X1,X2), not tri2(Y1,Y2).\n",
    ":- vmap(X1,Y1), vmap(X2,Y2), not tri1(X1,X2), tri2(Y1,Y2).\n",
    "\n",
    ":- vmap(X1,Y1), tri1(X1), not tri2(Y1).\n",
    ":- vmap(X1,Y1), not tri1(X1), tri2(Y1).\n",
    "\n",
    ":- vmap(X1,Y1), vmap(X2,Y2), vmap(X3,Y3), ntri1(X1,X2,X3), not ntri2(Y1,Y2,Y3).\n",
    ":- vmap(X1,Y1), vmap(X2,Y2), vmap(X3,Y3), not ntri1(X1,X2,X3), ntri2(Y1,Y2,Y3).\n",
    "\n",
    ":- vmap(X1,Y1), vmap(X2,Y2), ntri1(X1,X2), not ntri2(Y1,Y2).\n",
    ":- vmap(X1,Y1), vmap(X2,Y2), not ntri1(X1,X2), ntri2(Y1,Y2).\n",
    "\n",
    ":- vmap(X1,Y1), ntri1(X1), not ntri2(Y1).\n",
    ":- vmap(X1,Y1), not ntri1(X1), ntri2(Y1).\n",
    "\n",
    "\n",
    "\n",
    "% used1(X) :- vmap(X,_).\n",
    "% :- gnode(X), not used1(X).\n",
    "% :- vmap(X,Y),vmap(X,Z),Y!=Z.\n",
    "% :- vmap(Y,X),vmap(Z,X),Y!=Z.\n",
    "\n",
    ":- gnode1(X), #count {Y: vmap(X,Y)} != 1.\n",
    ":- gnode2(Y), #count {X: vmap(X,Y)} != 1.\n",
    "\n",
    "#show.\n",
    "% #show vmap/2."
   ]
  },
  {
   "cell_type": "code",
   "execution_count": 45,
   "metadata": {},
   "outputs": [],
   "source": [
    "def get_query_head_facts(pw_obj, idx=None):\n",
    "    heads = {h: {} for h in set([t[0] for t in pw_obj.rls['ruleH_1']])}\n",
    "    true_heads = set([t[0] for t in pw_obj.rls['ruleHTrue_1']])\n",
    "    for row in pw_obj.rls['newHArc_3']:\n",
    "        pos, h, var = int(row[1]), row[2], row[0]\n",
    "        heads[h][pos] = var\n",
    "    head_strs = []\n",
    "    for h in sorted(heads.keys()):\n",
    "        variables = [(heads[h][k]) for k in sorted(heads[h].keys())]\n",
    "        is_true = h in true_heads\n",
    "        h_str = '{}{}{}({}).'.format('' if is_true else 'n', head_to_node(h), '' if idx is None else str(idx), ','.join(variables))\n",
    "        head_strs.append(h_str)\n",
    "    return head_strs"
   ]
  },
  {
   "cell_type": "code",
   "execution_count": 46,
   "metadata": {},
   "outputs": [],
   "source": [
    "def are_equivalent_patterns(pw1, pw2, eq_check_encoding=qep_eq_check2):\n",
    "    \n",
    "    def get_edge_facts(pw, edge_rel_idx):\n",
    "        pw_objs = [pw]\n",
    "        _,_,pw_objs = rel_slicer(None, None, pw_objs, rels_to_use=['e_2', 'ne_2'])\n",
    "        _, pw_objs, _ = rel_name_remapper(None, pw_objs, None, rel_name_map={'e_2': 'e{}_2'.format(str(edge_rel_idx)),\n",
    "                                                                             'ne_2': 'ne{}_2'.format(str(edge_rel_idx))})\n",
    "        return PWEExport.export_as_asp_facts(pw_objs, include_pw_ids=False)\n",
    "    \n",
    "    pw1_edge_facts = get_edge_facts(pw1, 1)\n",
    "    pw2_edge_facts = get_edge_facts(pw2, 2)\n",
    "    pw1_head_facts = get_query_head_facts(pw1, idx=1)\n",
    "    pw2_head_facts = get_query_head_facts(pw2, idx=2)\n",
    "    # print(pw1_edge_facts, pw2_edge_facts)\n",
    "    asp_out, _ = run_clingo(eq_check_encoding.split('\\n')+pw1_edge_facts+pw2_edge_facts+pw1_head_facts+pw2_head_facts, num_solutions=1)\n",
    "    # print(asp_out)\n",
    "    _,_,eq_check_pws = load_worlds(asp_out, silent=True)\n",
    "    \n",
    "    return len(eq_check_pws) >= 1"
   ]
  },
  {
   "cell_type": "code",
   "execution_count": 47,
   "metadata": {},
   "outputs": [
    {
     "data": {
      "text/plain": [
       "False"
      ]
     },
     "execution_count": 47,
     "metadata": {},
     "output_type": "execute_result"
    }
   ],
   "source": [
    "are_equivalent_patterns(query_analysis['pw_objs'][5], query_analysis['pw_objs'][6], eq_check_encoding=qep_eq_check2)"
   ]
  },
  {
   "cell_type": "code",
   "execution_count": 48,
   "metadata": {},
   "outputs": [],
   "source": [
    "def get_equivalent_sets(objs, match_func):\n",
    "    \n",
    "    sets = []\n",
    "    curr_iter_set = list(range(len(objs)))\n",
    "    while len(curr_iter_set) > 0:\n",
    "        next_iter_set = []\n",
    "        seed = curr_iter_set[0]\n",
    "        curr_set = {objs[seed]}\n",
    "        for c in curr_iter_set[1:]:\n",
    "            if match_func(objs[seed], objs[c]):\n",
    "                curr_set.add(objs[c])\n",
    "            else:\n",
    "                next_iter_set.append(c)\n",
    "        sets.append(curr_set)\n",
    "        curr_iter_set = next_iter_set\n",
    "    return sets"
   ]
  },
  {
   "cell_type": "code",
   "execution_count": 49,
   "metadata": {},
   "outputs": [],
   "source": [
    "sets = get_equivalent_sets(query_analysis['pw_objs'], are_equivalent_patterns)"
   ]
  },
  {
   "cell_type": "code",
   "execution_count": 50,
   "metadata": {
    "scrolled": true
   },
   "outputs": [
    {
     "name": "stdout",
     "output_type": "stream",
     "text": [
      "{1}\n",
      "{2}\n",
      "{3}\n",
      "{4}\n",
      "{5}\n",
      "{6}\n",
      "{7}\n",
      "{8}\n",
      "{9, 25}\n",
      "{10, 30}\n",
      "{26, 11}\n",
      "{12, 31}\n",
      "{13}\n",
      "{14}\n",
      "{15}\n",
      "{16}\n",
      "{17}\n",
      "{18}\n",
      "{19}\n",
      "{20}\n",
      "{27, 21}\n",
      "{32, 22}\n",
      "{28, 23}\n",
      "{24, 33}\n",
      "{29}\n",
      "{34}\n"
     ]
    }
   ],
   "source": [
    "for s in sets:\n",
    "    print({pw.pw_id for pw in s})"
   ]
  },
  {
   "cell_type": "code",
   "execution_count": 51,
   "metadata": {},
   "outputs": [
    {
     "data": {
      "text/plain": [
       "26"
      ]
     },
     "execution_count": 51,
     "metadata": {},
     "output_type": "execute_result"
    }
   ],
   "source": [
    "len(sets)"
   ]
  },
  {
   "cell_type": "code",
   "execution_count": 52,
   "metadata": {
    "scrolled": true
   },
   "outputs": [
    {
     "name": "stdout",
     "output_type": "stream",
     "text": [
      "\n",
      "\n",
      "\n",
      "Set: 1\n",
      "\n",
      "PW: 1\n"
     ]
    },
    {
     "data": {
      "text/html": [
       "<text style=color:black><text style=color:red>ntri(X)</text> :- <text style=color:red>not e(X,Y)</text>, <text style=color:red>not e(Y,Z)</text>, <text style=color:red>not e(Z,X)</text>, <text style=color:black>X != Y</text>, <text style=color:black>X != Z</text>, <text style=color:black>Y != Z</text>.</text>"
      ],
      "text/plain": [
       "<IPython.core.display.HTML object>"
      ]
     },
     "metadata": {},
     "output_type": "display_data"
    },
    {
     "data": {
      "text/html": [
       "<text style=color:black><text style=color:red>ntri(X)</text> :- <text style=color:red>not e(X,Y)</text>, <text style=color:red>not e(Y,Z)</text>, <text style=color:red>not e(Z,X)</text>, <text style=color:black>X != Y</text>, <text style=color:black>X != Z</text>, <text style=color:black>Y != Z</text>.</text>"
      ],
      "text/plain": [
       "<IPython.core.display.HTML object>"
      ]
     },
     "metadata": {},
     "output_type": "display_data"
    },
    {
     "data": {
      "text/html": [
       "<text style=color:black><text style=color:red>ntri(X)</text> :- <text style=color:red>not e(X,Y)</text>, <text style=color:red>not e(Y,Z)</text>, <text style=color:red>not e(Z,X)</text>, <text style=color:black>X != Y</text>, <text style=color:black>X != Z</text>, <text style=color:black>Y != Z</text>.</text>"
      ],
      "text/plain": [
       "<IPython.core.display.HTML object>"
      ]
     },
     "metadata": {},
     "output_type": "display_data"
    },
    {
     "data": {
      "text/html": [
       "<text style=color:black><text style=color:red>ntri(X)</text> :- <text style=color:red>not e(X,Y)</text>, <text style=color:red>not e(Y,Z)</text>, <text style=color:red>not e(Z,X)</text>. % <text style=color:blue>[Y][Z][X]</text></text>"
      ],
      "text/plain": [
       "<IPython.core.display.HTML object>"
      ]
     },
     "metadata": {},
     "output_type": "display_data"
    },
    {
     "name": "stdout",
     "output_type": "stream",
     "text": [
      "Failure Pattern:\n"
     ]
    },
    {
     "data": {
      "image/png": "[encoded data removed]",
      "text/plain": [
       "<IPython.core.display.Image object>"
      ]
     },
     "metadata": {},
     "output_type": "display_data"
    },
    {
     "name": "stdout",
     "output_type": "stream",
     "text": [
      "\n",
      "\n",
      "\n",
      "Set: 2\n",
      "\n",
      "PW: 2\n"
     ]
    },
    {
     "data": {
      "text/html": [
       "<text style=color:black><text style=color:red>ntri(X)</text> :- <text style=color:green>e(X,Y)</text>, <text style=color:red>not e(Y,Z)</text>, <text style=color:red>not e(Z,X)</text>, <text style=color:black>X != Y</text>, <text style=color:black>X != Z</text>, <text style=color:black>Y != Z</text>.</text>"
      ],
      "text/plain": [
       "<IPython.core.display.HTML object>"
      ]
     },
     "metadata": {},
     "output_type": "display_data"
    },
    {
     "data": {
      "text/html": [
       "<text style=color:black><text style=color:red>ntri(X)</text> :- <text style=color:green>e(X,Y)</text>, <text style=color:red>not e(Y,Z)</text>, <text style=color:red>not e(Z,X)</text>, <text style=color:black>X != Y</text>, <text style=color:black>X != Z</text>, <text style=color:black>Y != Z</text>.</text>"
      ],
      "text/plain": [
       "<IPython.core.display.HTML object>"
      ]
     },
     "metadata": {},
     "output_type": "display_data"
    },
    {
     "data": {
      "text/html": [
       "<text style=color:black><text style=color:red>ntri(X)</text> :- <text style=color:green>e(X,Y)</text>, <text style=color:red>not e(Y,Z)</text>, <text style=color:red>not e(Z,X)</text>, <text style=color:black>X != Y</text>, <text style=color:black>X != Z</text>, <text style=color:black>Y != Z</text>.</text>"
      ],
      "text/plain": [
       "<IPython.core.display.HTML object>"
      ]
     },
     "metadata": {},
     "output_type": "display_data"
    },
    {
     "data": {
      "text/html": [
       "<text style=color:black><text style=color:red>ntri(X)</text> :- <text style=color:green>e(X,Y)</text>, <text style=color:red>not e(Y,Z)</text>, <text style=color:red>not e(Z,X)</text>. % <text style=color:blue>[Y][Z][X]</text></text>"
      ],
      "text/plain": [
       "<IPython.core.display.HTML object>"
      ]
     },
     "metadata": {},
     "output_type": "display_data"
    },
    {
     "name": "stdout",
     "output_type": "stream",
     "text": [
      "Failure Pattern:\n"
     ]
    },
    {
     "data": {
      "image/png": "[encoded data removed]",
      "text/plain": [
       "<IPython.core.display.Image object>"
      ]
     },
     "metadata": {},
     "output_type": "display_data"
    },
    {
     "name": "stdout",
     "output_type": "stream",
     "text": [
      "\n",
      "\n",
      "\n",
      "Set: 3\n",
      "\n",
      "PW: 3\n"
     ]
    },
    {
     "data": {
      "text/html": [
       "<text style=color:black><text style=color:red>ntri(X)</text> :- <text style=color:red>not e(X,Y)</text>, <text style=color:red>not e(Y,Z)</text>, <text style=color:green>e(Z,X)</text>, <text style=color:black>X != Y</text>, <text style=color:black>X != Z</text>, <text style=color:black>Y != Z</text>.</text>"
      ],
      "text/plain": [
       "<IPython.core.display.HTML object>"
      ]
     },
     "metadata": {},
     "output_type": "display_data"
    },
    {
     "data": {
      "text/html": [
       "<text style=color:black><text style=color:red>ntri(X)</text> :- <text style=color:red>not e(X,Y)</text>, <text style=color:red>not e(Y,Z)</text>, <text style=color:green>e(Z,X)</text>, <text style=color:black>X != Y</text>, <text style=color:black>X != Z</text>, <text style=color:black>Y != Z</text>.</text>"
      ],
      "text/plain": [
       "<IPython.core.display.HTML object>"
      ]
     },
     "metadata": {},
     "output_type": "display_data"
    },
    {
     "data": {
      "text/html": [
       "<text style=color:black><text style=color:red>ntri(X)</text> :- <text style=color:red>not e(X,Y)</text>, <text style=color:red>not e(Y,Z)</text>, <text style=color:green>e(Z,X)</text>, <text style=color:black>X != Y</text>, <text style=color:black>X != Z</text>, <text style=color:black>Y != Z</text>.</text>"
      ],
      "text/plain": [
       "<IPython.core.display.HTML object>"
      ]
     },
     "metadata": {},
     "output_type": "display_data"
    },
    {
     "data": {
      "text/html": [
       "<text style=color:black><text style=color:red>ntri(X)</text> :- <text style=color:red>not e(X,Y)</text>, <text style=color:red>not e(Y,Z)</text>, <text style=color:green>e(Z,X)</text>. % <text style=color:blue>[Y][Z][X]</text></text>"
      ],
      "text/plain": [
       "<IPython.core.display.HTML object>"
      ]
     },
     "metadata": {},
     "output_type": "display_data"
    },
    {
     "name": "stdout",
     "output_type": "stream",
     "text": [
      "Failure Pattern:\n"
     ]
    },
    {
     "data": {
      "image/png": "[encoded data removed]",
      "text/plain": [
       "<IPython.core.display.Image object>"
      ]
     },
     "metadata": {},
     "output_type": "display_data"
    },
    {
     "name": "stdout",
     "output_type": "stream",
     "text": [
      "\n",
      "\n",
      "\n",
      "Set: 4\n",
      "\n",
      "PW: 4\n"
     ]
    },
    {
     "data": {
      "text/html": [
       "<text style=color:black><text style=color:red>ntri(X)</text> :- <text style=color:green>e(X,Y)</text>, <text style=color:red>not e(Y,Z)</text>, <text style=color:green>e(Z,X)</text>, <text style=color:black>X != Y</text>, <text style=color:black>X != Z</text>, <text style=color:black>Y != Z</text>.</text>"
      ],
      "text/plain": [
       "<IPython.core.display.HTML object>"
      ]
     },
     "metadata": {},
     "output_type": "display_data"
    },
    {
     "data": {
      "text/html": [
       "<text style=color:black><text style=color:red>ntri(X)</text> :- <text style=color:green>e(X,Y)</text>, <text style=color:red>not e(Y,Z)</text>, <text style=color:green>e(Z,X)</text>, <text style=color:black>X != Y</text>, <text style=color:black>X != Z</text>, <text style=color:black>Y != Z</text>.</text>"
      ],
      "text/plain": [
       "<IPython.core.display.HTML object>"
      ]
     },
     "metadata": {},
     "output_type": "display_data"
    },
    {
     "data": {
      "text/html": [
       "<text style=color:black><text style=color:red>ntri(X)</text> :- <text style=color:green>e(X,Y)</text>, <text style=color:red>not e(Y,Z)</text>, <text style=color:green>e(Z,X)</text>, <text style=color:black>X != Y</text>, <text style=color:black>X != Z</text>, <text style=color:black>Y != Z</text>.</text>"
      ],
      "text/plain": [
       "<IPython.core.display.HTML object>"
      ]
     },
     "metadata": {},
     "output_type": "display_data"
    },
    {
     "data": {
      "text/html": [
       "<text style=color:black><text style=color:red>ntri(X)</text> :- <text style=color:green>e(X,Y)</text>, <text style=color:red>not e(Y,Z)</text>, <text style=color:green>e(Z,X)</text>. % <text style=color:blue>[Y][Z][X]</text></text>"
      ],
      "text/plain": [
       "<IPython.core.display.HTML object>"
      ]
     },
     "metadata": {},
     "output_type": "display_data"
    },
    {
     "name": "stdout",
     "output_type": "stream",
     "text": [
      "Failure Pattern:\n"
     ]
    },
    {
     "data": {
      "image/png": "[encoded data removed]",
      "text/plain": [
       "<IPython.core.display.Image object>"
      ]
     },
     "metadata": {},
     "output_type": "display_data"
    },
    {
     "name": "stdout",
     "output_type": "stream",
     "text": [
      "\n",
      "\n",
      "\n",
      "Set: 5\n",
      "\n",
      "PW: 5\n"
     ]
    },
    {
     "data": {
      "text/html": [
       "<text style=color:black><text style=color:red>ntri(X)</text> :- <text style=color:red>not e(X,Y)</text>, <text style=color:red>not e(Y,Y)</text>, <text style=color:red>not e(Y,X)</text>, <text style=color:black>X != Y</text>.</text>"
      ],
      "text/plain": [
       "<IPython.core.display.HTML object>"
      ]
     },
     "metadata": {},
     "output_type": "display_data"
    },
    {
     "data": {
      "text/html": [
       "<text style=color:black><text style=color:red>ntri(X)</text> :- <text style=color:red>not e(X,Y)</text>, <text style=color:red>not e(Y,Z)</text>, <text style=color:red>not e(Z,X)</text>, Y=Z, <text style=color:black>X != Y</text>.</text>"
      ],
      "text/plain": [
       "<IPython.core.display.HTML object>"
      ]
     },
     "metadata": {},
     "output_type": "display_data"
    },
    {
     "data": {
      "text/html": [
       "<text style=color:black><text style=color:red>ntri(X)</text> :- <text style=color:red>not e(X,Y)</text>, <text style=color:red>not e(Y,Z)</text>, <text style=color:red>not e(Z,X)</text>, Y=Z, <text style=color:black>X != Y</text>.</text>"
      ],
      "text/plain": [
       "<IPython.core.display.HTML object>"
      ]
     },
     "metadata": {},
     "output_type": "display_data"
    },
    {
     "data": {
      "text/html": [
       "<text style=color:black><text style=color:red>ntri(X)</text> :- <text style=color:red>not e(X,Y)</text>, <text style=color:red>not e(Y,Z)</text>, <text style=color:red>not e(Z,X)</text>. % <text style=color:blue>[Y=Z][X]</text></text>"
      ],
      "text/plain": [
       "<IPython.core.display.HTML object>"
      ]
     },
     "metadata": {},
     "output_type": "display_data"
    },
    {
     "name": "stdout",
     "output_type": "stream",
     "text": [
      "Failure Pattern:\n"
     ]
    },
    {
     "data": {
      "image/png": "[encoded data removed]",
      "text/plain": [
       "<IPython.core.display.Image object>"
      ]
     },
     "metadata": {},
     "output_type": "display_data"
    },
    {
     "name": "stdout",
     "output_type": "stream",
     "text": [
      "\n",
      "\n",
      "\n",
      "Set: 6\n",
      "\n",
      "PW: 6\n"
     ]
    },
    {
     "data": {
      "text/html": [
       "<text style=color:black><text style=color:red>ntri(X)</text> :- <text style=color:green>e(X,Y)</text>, <text style=color:red>not e(Y,Y)</text>, <text style=color:red>not e(Y,X)</text>, <text style=color:black>X != Y</text>.</text>"
      ],
      "text/plain": [
       "<IPython.core.display.HTML object>"
      ]
     },
     "metadata": {},
     "output_type": "display_data"
    },
    {
     "data": {
      "text/html": [
       "<text style=color:black><text style=color:red>ntri(X)</text> :- <text style=color:green>e(X,Y)</text>, <text style=color:red>not e(Y,Z)</text>, <text style=color:red>not e(Z,X)</text>, Y=Z, <text style=color:black>X != Y</text>.</text>"
      ],
      "text/plain": [
       "<IPython.core.display.HTML object>"
      ]
     },
     "metadata": {},
     "output_type": "display_data"
    },
    {
     "data": {
      "text/html": [
       "<text style=color:black><text style=color:red>ntri(X)</text> :- <text style=color:green>e(X,Y)</text>, <text style=color:red>not e(Y,Z)</text>, <text style=color:red>not e(Z,X)</text>, Y=Z, <text style=color:black>X != Y</text>.</text>"
      ],
      "text/plain": [
       "<IPython.core.display.HTML object>"
      ]
     },
     "metadata": {},
     "output_type": "display_data"
    },
    {
     "data": {
      "text/html": [
       "<text style=color:black><text style=color:red>ntri(X)</text> :- <text style=color:green>e(X,Y)</text>, <text style=color:red>not e(Y,Z)</text>, <text style=color:red>not e(Z,X)</text>. % <text style=color:blue>[Y=Z][X]</text></text>"
      ],
      "text/plain": [
       "<IPython.core.display.HTML object>"
      ]
     },
     "metadata": {},
     "output_type": "display_data"
    },
    {
     "name": "stdout",
     "output_type": "stream",
     "text": [
      "Failure Pattern:\n"
     ]
    },
    {
     "data": {
      "image/png": "[encoded data removed]",
      "text/plain": [
       "<IPython.core.display.Image object>"
      ]
     },
     "metadata": {},
     "output_type": "display_data"
    },
    {
     "name": "stdout",
     "output_type": "stream",
     "text": [
      "\n",
      "\n",
      "\n",
      "Set: 7\n",
      "\n",
      "PW: 7\n"
     ]
    },
    {
     "data": {
      "text/html": [
       "<text style=color:black><text style=color:red>ntri(X)</text> :- <text style=color:red>not e(X,Y)</text>, <text style=color:red>not e(Y,Y)</text>, <text style=color:green>e(Y,X)</text>, <text style=color:black>X != Y</text>.</text>"
      ],
      "text/plain": [
       "<IPython.core.display.HTML object>"
      ]
     },
     "metadata": {},
     "output_type": "display_data"
    },
    {
     "data": {
      "text/html": [
       "<text style=color:black><text style=color:red>ntri(X)</text> :- <text style=color:red>not e(X,Y)</text>, <text style=color:red>not e(Y,Z)</text>, <text style=color:green>e(Z,X)</text>, Y=Z, <text style=color:black>X != Y</text>.</text>"
      ],
      "text/plain": [
       "<IPython.core.display.HTML object>"
      ]
     },
     "metadata": {},
     "output_type": "display_data"
    },
    {
     "data": {
      "text/html": [
       "<text style=color:black><text style=color:red>ntri(X)</text> :- <text style=color:red>not e(X,Y)</text>, <text style=color:red>not e(Y,Z)</text>, <text style=color:green>e(Z,X)</text>, Y=Z, <text style=color:black>X != Y</text>.</text>"
      ],
      "text/plain": [
       "<IPython.core.display.HTML object>"
      ]
     },
     "metadata": {},
     "output_type": "display_data"
    },
    {
     "data": {
      "text/html": [
       "<text style=color:black><text style=color:red>ntri(X)</text> :- <text style=color:red>not e(X,Y)</text>, <text style=color:red>not e(Y,Z)</text>, <text style=color:green>e(Z,X)</text>. % <text style=color:blue>[Y=Z][X]</text></text>"
      ],
      "text/plain": [
       "<IPython.core.display.HTML object>"
      ]
     },
     "metadata": {},
     "output_type": "display_data"
    },
    {
     "name": "stdout",
     "output_type": "stream",
     "text": [
      "Failure Pattern:\n"
     ]
    },
    {
     "data": {
      "image/png": "[encoded data removed]",
      "text/plain": [
       "<IPython.core.display.Image object>"
      ]
     },
     "metadata": {},
     "output_type": "display_data"
    },
    {
     "name": "stdout",
     "output_type": "stream",
     "text": [
      "\n",
      "\n",
      "\n",
      "Set: 8\n",
      "\n",
      "PW: 8\n"
     ]
    },
    {
     "data": {
      "text/html": [
       "<text style=color:black><text style=color:red>ntri(X)</text> :- <text style=color:green>e(X,Y)</text>, <text style=color:red>not e(Y,Y)</text>, <text style=color:green>e(Y,X)</text>, <text style=color:black>X != Y</text>.</text>"
      ],
      "text/plain": [
       "<IPython.core.display.HTML object>"
      ]
     },
     "metadata": {},
     "output_type": "display_data"
    },
    {
     "data": {
      "text/html": [
       "<text style=color:black><text style=color:red>ntri(X)</text> :- <text style=color:green>e(X,Y)</text>, <text style=color:red>not e(Y,Z)</text>, <text style=color:green>e(Z,X)</text>, Y=Z, <text style=color:black>X != Y</text>.</text>"
      ],
      "text/plain": [
       "<IPython.core.display.HTML object>"
      ]
     },
     "metadata": {},
     "output_type": "display_data"
    },
    {
     "data": {
      "text/html": [
       "<text style=color:black><text style=color:red>ntri(X)</text> :- <text style=color:green>e(X,Y)</text>, <text style=color:red>not e(Y,Z)</text>, <text style=color:green>e(Z,X)</text>, Y=Z, <text style=color:black>X != Y</text>.</text>"
      ],
      "text/plain": [
       "<IPython.core.display.HTML object>"
      ]
     },
     "metadata": {},
     "output_type": "display_data"
    },
    {
     "data": {
      "text/html": [
       "<text style=color:black><text style=color:red>ntri(X)</text> :- <text style=color:green>e(X,Y)</text>, <text style=color:red>not e(Y,Z)</text>, <text style=color:green>e(Z,X)</text>. % <text style=color:blue>[Y=Z][X]</text></text>"
      ],
      "text/plain": [
       "<IPython.core.display.HTML object>"
      ]
     },
     "metadata": {},
     "output_type": "display_data"
    },
    {
     "name": "stdout",
     "output_type": "stream",
     "text": [
      "Failure Pattern:\n"
     ]
    },
    {
     "data": {
      "image/png": "[encoded data removed]",
      "text/plain": [
       "<IPython.core.display.Image object>"
      ]
     },
     "metadata": {},
     "output_type": "display_data"
    },
    {
     "name": "stdout",
     "output_type": "stream",
     "text": [
      "\n",
      "\n",
      "\n",
      "Set: 9\n",
      "\n",
      "PW: 9\n"
     ]
    },
    {
     "data": {
      "text/html": [
       "<text style=color:black><text style=color:red>ntri(X)</text> :- <text style=color:red>not e(X,Y)</text>, <text style=color:red>not e(Y,X)</text>, <text style=color:red>not e(X,X)</text>, <text style=color:black>X != Y</text>.</text>"
      ],
      "text/plain": [
       "<IPython.core.display.HTML object>"
      ]
     },
     "metadata": {},
     "output_type": "display_data"
    },
    {
     "data": {
      "text/html": [
       "<text style=color:black><text style=color:red>ntri(X)</text> :- <text style=color:red>not e(X,Y)</text>, <text style=color:red>not e(Y,Z)</text>, <text style=color:red>not e(Z,X)</text>, X=Z, <text style=color:black>X != Y</text>.</text>"
      ],
      "text/plain": [
       "<IPython.core.display.HTML object>"
      ]
     },
     "metadata": {},
     "output_type": "display_data"
    },
    {
     "data": {
      "text/html": [
       "<text style=color:black><text style=color:red>ntri(X)</text> :- <text style=color:red>not e(X,Y)</text>, <text style=color:red>not e(Y,Z)</text>, <text style=color:red>not e(Z,X)</text>, X=Z, <text style=color:black>X != Y</text>.</text>"
      ],
      "text/plain": [
       "<IPython.core.display.HTML object>"
      ]
     },
     "metadata": {},
     "output_type": "display_data"
    },
    {
     "data": {
      "text/html": [
       "<text style=color:black><text style=color:red>ntri(X)</text> :- <text style=color:red>not e(X,Y)</text>, <text style=color:red>not e(Y,Z)</text>, <text style=color:red>not e(Z,X)</text>. % <text style=color:blue>[X=Z][Y]</text></text>"
      ],
      "text/plain": [
       "<IPython.core.display.HTML object>"
      ]
     },
     "metadata": {},
     "output_type": "display_data"
    },
    {
     "name": "stdout",
     "output_type": "stream",
     "text": [
      "Failure Pattern:\n"
     ]
    },
    {
     "data": {
      "image/png": "[encoded data removed]",
      "text/plain": [
       "<IPython.core.display.Image object>"
      ]
     },
     "metadata": {},
     "output_type": "display_data"
    },
    {
     "name": "stdout",
     "output_type": "stream",
     "text": [
      "\n",
      "\n",
      "\n",
      "Set: 10\n",
      "\n",
      "PW: 10\n"
     ]
    },
    {
     "data": {
      "text/html": [
       "<text style=color:black><text style=color:red>ntri(X)</text> :- <text style=color:green>e(X,Y)</text>, <text style=color:red>not e(Y,X)</text>, <text style=color:red>not e(X,X)</text>, <text style=color:black>X != Y</text>.</text>"
      ],
      "text/plain": [
       "<IPython.core.display.HTML object>"
      ]
     },
     "metadata": {},
     "output_type": "display_data"
    },
    {
     "data": {
      "text/html": [
       "<text style=color:black><text style=color:red>ntri(X)</text> :- <text style=color:green>e(X,Y)</text>, <text style=color:red>not e(Y,Z)</text>, <text style=color:red>not e(Z,X)</text>, X=Z, <text style=color:black>X != Y</text>.</text>"
      ],
      "text/plain": [
       "<IPython.core.display.HTML object>"
      ]
     },
     "metadata": {},
     "output_type": "display_data"
    },
    {
     "data": {
      "text/html": [
       "<text style=color:black><text style=color:red>ntri(X)</text> :- <text style=color:green>e(X,Y)</text>, <text style=color:red>not e(Y,Z)</text>, <text style=color:red>not e(Z,X)</text>, X=Z, <text style=color:black>X != Y</text>.</text>"
      ],
      "text/plain": [
       "<IPython.core.display.HTML object>"
      ]
     },
     "metadata": {},
     "output_type": "display_data"
    },
    {
     "data": {
      "text/html": [
       "<text style=color:black><text style=color:red>ntri(X)</text> :- <text style=color:green>e(X,Y)</text>, <text style=color:red>not e(Y,Z)</text>, <text style=color:red>not e(Z,X)</text>. % <text style=color:blue>[X=Z][Y]</text></text>"
      ],
      "text/plain": [
       "<IPython.core.display.HTML object>"
      ]
     },
     "metadata": {},
     "output_type": "display_data"
    },
    {
     "name": "stdout",
     "output_type": "stream",
     "text": [
      "Failure Pattern:\n"
     ]
    },
    {
     "data": {
      "image/png": "[encoded data removed]",
      "text/plain": [
       "<IPython.core.display.Image object>"
      ]
     },
     "metadata": {},
     "output_type": "display_data"
    },
    {
     "name": "stdout",
     "output_type": "stream",
     "text": [
      "\n",
      "\n",
      "\n",
      "Set: 11\n",
      "\n",
      "PW: 26\n"
     ]
    },
    {
     "data": {
      "text/html": [
       "<text style=color:black><text style=color:red>ntri(X)</text> :- <text style=color:green>e(X,X)</text>, <text style=color:red>not e(X,Z)</text>, <text style=color:red>not e(Z,X)</text>, <text style=color:black>X != Z</text>.</text>"
      ],
      "text/plain": [
       "<IPython.core.display.HTML object>"
      ]
     },
     "metadata": {},
     "output_type": "display_data"
    },
    {
     "data": {
      "text/html": [
       "<text style=color:black><text style=color:red>ntri(X)</text> :- <text style=color:green>e(X,Y)</text>, <text style=color:red>not e(Y,Z)</text>, <text style=color:red>not e(Z,X)</text>, X=Y, <text style=color:black>X != Z</text>.</text>"
      ],
      "text/plain": [
       "<IPython.core.display.HTML object>"
      ]
     },
     "metadata": {},
     "output_type": "display_data"
    },
    {
     "data": {
      "text/html": [
       "<text style=color:black><text style=color:red>ntri(X)</text> :- <text style=color:green>e(X,Y)</text>, <text style=color:red>not e(Y,Z)</text>, <text style=color:red>not e(Z,X)</text>, X=Y, <text style=color:black>X != Z</text>.</text>"
      ],
      "text/plain": [
       "<IPython.core.display.HTML object>"
      ]
     },
     "metadata": {},
     "output_type": "display_data"
    },
    {
     "data": {
      "text/html": [
       "<text style=color:black><text style=color:red>ntri(X)</text> :- <text style=color:green>e(X,Y)</text>, <text style=color:red>not e(Y,Z)</text>, <text style=color:red>not e(Z,X)</text>. % <text style=color:blue>[X=Y][Z]</text></text>"
      ],
      "text/plain": [
       "<IPython.core.display.HTML object>"
      ]
     },
     "metadata": {},
     "output_type": "display_data"
    },
    {
     "name": "stdout",
     "output_type": "stream",
     "text": [
      "Failure Pattern:\n"
     ]
    },
    {
     "data": {
      "image/png": "[encoded data removed]",
      "text/plain": [
       "<IPython.core.display.Image object>"
      ]
     },
     "metadata": {},
     "output_type": "display_data"
    },
    {
     "name": "stdout",
     "output_type": "stream",
     "text": [
      "\n",
      "\n",
      "\n",
      "Set: 12\n",
      "\n",
      "PW: 12\n"
     ]
    },
    {
     "data": {
      "text/html": [
       "<text style=color:black><text style=color:red>ntri(X)</text> :- <text style=color:green>e(X,Y)</text>, <text style=color:red>not e(Y,X)</text>, <text style=color:green>e(X,X)</text>, <text style=color:black>X != Y</text>.</text>"
      ],
      "text/plain": [
       "<IPython.core.display.HTML object>"
      ]
     },
     "metadata": {},
     "output_type": "display_data"
    },
    {
     "data": {
      "text/html": [
       "<text style=color:black><text style=color:red>ntri(X)</text> :- <text style=color:green>e(X,Y)</text>, <text style=color:red>not e(Y,Z)</text>, <text style=color:green>e(Z,X)</text>, X=Z, <text style=color:black>X != Y</text>.</text>"
      ],
      "text/plain": [
       "<IPython.core.display.HTML object>"
      ]
     },
     "metadata": {},
     "output_type": "display_data"
    },
    {
     "data": {
      "text/html": [
       "<text style=color:black><text style=color:red>ntri(X)</text> :- <text style=color:green>e(X,Y)</text>, <text style=color:red>not e(Y,Z)</text>, <text style=color:green>e(Z,X)</text>, X=Z, <text style=color:black>X != Y</text>.</text>"
      ],
      "text/plain": [
       "<IPython.core.display.HTML object>"
      ]
     },
     "metadata": {},
     "output_type": "display_data"
    },
    {
     "data": {
      "text/html": [
       "<text style=color:black><text style=color:red>ntri(X)</text> :- <text style=color:green>e(X,Y)</text>, <text style=color:red>not e(Y,Z)</text>, <text style=color:green>e(Z,X)</text>. % <text style=color:blue>[X=Z][Y]</text></text>"
      ],
      "text/plain": [
       "<IPython.core.display.HTML object>"
      ]
     },
     "metadata": {},
     "output_type": "display_data"
    },
    {
     "name": "stdout",
     "output_type": "stream",
     "text": [
      "Failure Pattern:\n"
     ]
    },
    {
     "data": {
      "image/png": "[encoded data removed]",
      "text/plain": [
       "<IPython.core.display.Image object>"
      ]
     },
     "metadata": {},
     "output_type": "display_data"
    },
    {
     "name": "stdout",
     "output_type": "stream",
     "text": [
      "\n",
      "\n",
      "\n",
      "Set: 13\n",
      "\n",
      "PW: 13\n"
     ]
    },
    {
     "data": {
      "text/html": [
       "<text style=color:black><text style=color:red>ntri(X)</text> :- <text style=color:red>not e(X,Y)</text>, <text style=color:green>e(Y,Z)</text>, <text style=color:red>not e(Z,X)</text>, <text style=color:black>X != Y</text>, <text style=color:black>X != Z</text>, <text style=color:black>Y != Z</text>.</text>"
      ],
      "text/plain": [
       "<IPython.core.display.HTML object>"
      ]
     },
     "metadata": {},
     "output_type": "display_data"
    },
    {
     "data": {
      "text/html": [
       "<text style=color:black><text style=color:red>ntri(X)</text> :- <text style=color:red>not e(X,Y)</text>, <text style=color:green>e(Y,Z)</text>, <text style=color:red>not e(Z,X)</text>, <text style=color:black>X != Y</text>, <text style=color:black>X != Z</text>, <text style=color:black>Y != Z</text>.</text>"
      ],
      "text/plain": [
       "<IPython.core.display.HTML object>"
      ]
     },
     "metadata": {},
     "output_type": "display_data"
    },
    {
     "data": {
      "text/html": [
       "<text style=color:black><text style=color:red>ntri(X)</text> :- <text style=color:red>not e(X,Y)</text>, <text style=color:green>e(Y,Z)</text>, <text style=color:red>not e(Z,X)</text>, <text style=color:black>X != Y</text>, <text style=color:black>X != Z</text>, <text style=color:black>Y != Z</text>.</text>"
      ],
      "text/plain": [
       "<IPython.core.display.HTML object>"
      ]
     },
     "metadata": {},
     "output_type": "display_data"
    },
    {
     "data": {
      "text/html": [
       "<text style=color:black><text style=color:red>ntri(X)</text> :- <text style=color:red>not e(X,Y)</text>, <text style=color:green>e(Y,Z)</text>, <text style=color:red>not e(Z,X)</text>. % <text style=color:blue>[Y][Z][X]</text></text>"
      ],
      "text/plain": [
       "<IPython.core.display.HTML object>"
      ]
     },
     "metadata": {},
     "output_type": "display_data"
    },
    {
     "name": "stdout",
     "output_type": "stream",
     "text": [
      "Failure Pattern:\n"
     ]
    },
    {
     "data": {
      "image/png": "[encoded data removed]",
      "text/plain": [
       "<IPython.core.display.Image object>"
      ]
     },
     "metadata": {},
     "output_type": "display_data"
    },
    {
     "name": "stdout",
     "output_type": "stream",
     "text": [
      "\n",
      "\n",
      "\n",
      "Set: 14\n",
      "\n",
      "PW: 14\n"
     ]
    },
    {
     "data": {
      "text/html": [
       "<text style=color:black><text style=color:red>ntri(X)</text> :- <text style=color:green>e(X,Y)</text>, <text style=color:green>e(Y,Z)</text>, <text style=color:red>not e(Z,X)</text>, <text style=color:black>X != Y</text>, <text style=color:black>X != Z</text>, <text style=color:black>Y != Z</text>.</text>"
      ],
      "text/plain": [
       "<IPython.core.display.HTML object>"
      ]
     },
     "metadata": {},
     "output_type": "display_data"
    },
    {
     "data": {
      "text/html": [
       "<text style=color:black><text style=color:red>ntri(X)</text> :- <text style=color:green>e(X,Y)</text>, <text style=color:green>e(Y,Z)</text>, <text style=color:red>not e(Z,X)</text>, <text style=color:black>X != Y</text>, <text style=color:black>X != Z</text>, <text style=color:black>Y != Z</text>.</text>"
      ],
      "text/plain": [
       "<IPython.core.display.HTML object>"
      ]
     },
     "metadata": {},
     "output_type": "display_data"
    },
    {
     "data": {
      "text/html": [
       "<text style=color:black><text style=color:red>ntri(X)</text> :- <text style=color:green>e(X,Y)</text>, <text style=color:green>e(Y,Z)</text>, <text style=color:red>not e(Z,X)</text>, <text style=color:black>X != Y</text>, <text style=color:black>X != Z</text>, <text style=color:black>Y != Z</text>.</text>"
      ],
      "text/plain": [
       "<IPython.core.display.HTML object>"
      ]
     },
     "metadata": {},
     "output_type": "display_data"
    },
    {
     "data": {
      "text/html": [
       "<text style=color:black><text style=color:red>ntri(X)</text> :- <text style=color:green>e(X,Y)</text>, <text style=color:green>e(Y,Z)</text>, <text style=color:red>not e(Z,X)</text>. % <text style=color:blue>[Y][Z][X]</text></text>"
      ],
      "text/plain": [
       "<IPython.core.display.HTML object>"
      ]
     },
     "metadata": {},
     "output_type": "display_data"
    },
    {
     "name": "stdout",
     "output_type": "stream",
     "text": [
      "Failure Pattern:\n"
     ]
    },
    {
     "data": {
      "image/png": "[encoded data removed]",
      "text/plain": [
       "<IPython.core.display.Image object>"
      ]
     },
     "metadata": {},
     "output_type": "display_data"
    },
    {
     "name": "stdout",
     "output_type": "stream",
     "text": [
      "\n",
      "\n",
      "\n",
      "Set: 15\n",
      "\n",
      "PW: 15\n"
     ]
    },
    {
     "data": {
      "text/html": [
       "<text style=color:black><text style=color:red>ntri(X)</text> :- <text style=color:red>not e(X,Y)</text>, <text style=color:green>e(Y,Z)</text>, <text style=color:green>e(Z,X)</text>, <text style=color:black>X != Y</text>, <text style=color:black>X != Z</text>, <text style=color:black>Y != Z</text>.</text>"
      ],
      "text/plain": [
       "<IPython.core.display.HTML object>"
      ]
     },
     "metadata": {},
     "output_type": "display_data"
    },
    {
     "data": {
      "text/html": [
       "<text style=color:black><text style=color:red>ntri(X)</text> :- <text style=color:red>not e(X,Y)</text>, <text style=color:green>e(Y,Z)</text>, <text style=color:green>e(Z,X)</text>, <text style=color:black>X != Y</text>, <text style=color:black>X != Z</text>, <text style=color:black>Y != Z</text>.</text>"
      ],
      "text/plain": [
       "<IPython.core.display.HTML object>"
      ]
     },
     "metadata": {},
     "output_type": "display_data"
    },
    {
     "data": {
      "text/html": [
       "<text style=color:black><text style=color:red>ntri(X)</text> :- <text style=color:red>not e(X,Y)</text>, <text style=color:green>e(Y,Z)</text>, <text style=color:green>e(Z,X)</text>, <text style=color:black>X != Y</text>, <text style=color:black>X != Z</text>, <text style=color:black>Y != Z</text>.</text>"
      ],
      "text/plain": [
       "<IPython.core.display.HTML object>"
      ]
     },
     "metadata": {},
     "output_type": "display_data"
    },
    {
     "data": {
      "text/html": [
       "<text style=color:black><text style=color:red>ntri(X)</text> :- <text style=color:red>not e(X,Y)</text>, <text style=color:green>e(Y,Z)</text>, <text style=color:green>e(Z,X)</text>. % <text style=color:blue>[Y][Z][X]</text></text>"
      ],
      "text/plain": [
       "<IPython.core.display.HTML object>"
      ]
     },
     "metadata": {},
     "output_type": "display_data"
    },
    {
     "name": "stdout",
     "output_type": "stream",
     "text": [
      "Failure Pattern:\n"
     ]
    },
    {
     "data": {
      "image/png": "[encoded data removed]",
      "text/plain": [
       "<IPython.core.display.Image object>"
      ]
     },
     "metadata": {},
     "output_type": "display_data"
    },
    {
     "name": "stdout",
     "output_type": "stream",
     "text": [
      "\n",
      "\n",
      "\n",
      "Set: 16\n",
      "\n",
      "PW: 16\n"
     ]
    },
    {
     "data": {
      "text/html": [
       "<text style=color:black><text style=color:green>tri(X)</text> :- <text style=color:green>e(X,Y)</text>, <text style=color:green>e(Y,Z)</text>, <text style=color:green>e(Z,X)</text>, <text style=color:black>X != Y</text>, <text style=color:black>X != Z</text>, <text style=color:black>Y != Z</text>.</text>"
      ],
      "text/plain": [
       "<IPython.core.display.HTML object>"
      ]
     },
     "metadata": {},
     "output_type": "display_data"
    },
    {
     "data": {
      "text/html": [
       "<text style=color:black><text style=color:green>tri(X)</text> :- <text style=color:green>e(X,Y)</text>, <text style=color:green>e(Y,Z)</text>, <text style=color:green>e(Z,X)</text>, <text style=color:black>X != Y</text>, <text style=color:black>X != Z</text>, <text style=color:black>Y != Z</text>.</text>"
      ],
      "text/plain": [
       "<IPython.core.display.HTML object>"
      ]
     },
     "metadata": {},
     "output_type": "display_data"
    },
    {
     "data": {
      "text/html": [
       "<text style=color:black><text style=color:green>tri(X)</text> :- <text style=color:green>e(X,Y)</text>, <text style=color:green>e(Y,Z)</text>, <text style=color:green>e(Z,X)</text>, <text style=color:black>X != Y</text>, <text style=color:black>X != Z</text>, <text style=color:black>Y != Z</text>.</text>"
      ],
      "text/plain": [
       "<IPython.core.display.HTML object>"
      ]
     },
     "metadata": {},
     "output_type": "display_data"
    },
    {
     "data": {
      "text/html": [
       "<text style=color:black><text style=color:green>tri(X)</text> :- <text style=color:green>e(X,Y)</text>, <text style=color:green>e(Y,Z)</text>, <text style=color:green>e(Z,X)</text>. % <text style=color:blue>[Y][Z][X]</text></text>"
      ],
      "text/plain": [
       "<IPython.core.display.HTML object>"
      ]
     },
     "metadata": {},
     "output_type": "display_data"
    },
    {
     "name": "stdout",
     "output_type": "stream",
     "text": [
      "Success Pattern:\n"
     ]
    },
    {
     "data": {
      "image/png": "[encoded data removed]",
      "text/plain": [
       "<IPython.core.display.Image object>"
      ]
     },
     "metadata": {},
     "output_type": "display_data"
    },
    {
     "name": "stdout",
     "output_type": "stream",
     "text": [
      "\n",
      "\n",
      "\n",
      "Set: 17\n",
      "\n",
      "PW: 17\n"
     ]
    },
    {
     "data": {
      "text/html": [
       "<text style=color:black><text style=color:red>ntri(X)</text> :- <text style=color:red>not e(X,Y)</text>, <text style=color:green>e(Y,Y)</text>, <text style=color:red>not e(Y,X)</text>, <text style=color:black>X != Y</text>.</text>"
      ],
      "text/plain": [
       "<IPython.core.display.HTML object>"
      ]
     },
     "metadata": {},
     "output_type": "display_data"
    },
    {
     "data": {
      "text/html": [
       "<text style=color:black><text style=color:red>ntri(X)</text> :- <text style=color:red>not e(X,Y)</text>, <text style=color:green>e(Y,Z)</text>, <text style=color:red>not e(Z,X)</text>, Y=Z, <text style=color:black>X != Y</text>.</text>"
      ],
      "text/plain": [
       "<IPython.core.display.HTML object>"
      ]
     },
     "metadata": {},
     "output_type": "display_data"
    },
    {
     "data": {
      "text/html": [
       "<text style=color:black><text style=color:red>ntri(X)</text> :- <text style=color:red>not e(X,Y)</text>, <text style=color:green>e(Y,Z)</text>, <text style=color:red>not e(Z,X)</text>, Y=Z, <text style=color:black>X != Y</text>.</text>"
      ],
      "text/plain": [
       "<IPython.core.display.HTML object>"
      ]
     },
     "metadata": {},
     "output_type": "display_data"
    },
    {
     "data": {
      "text/html": [
       "<text style=color:black><text style=color:red>ntri(X)</text> :- <text style=color:red>not e(X,Y)</text>, <text style=color:green>e(Y,Z)</text>, <text style=color:red>not e(Z,X)</text>. % <text style=color:blue>[Y=Z][X]</text></text>"
      ],
      "text/plain": [
       "<IPython.core.display.HTML object>"
      ]
     },
     "metadata": {},
     "output_type": "display_data"
    },
    {
     "name": "stdout",
     "output_type": "stream",
     "text": [
      "Failure Pattern:\n"
     ]
    },
    {
     "data": {
      "image/png": "[encoded data removed]",
      "text/plain": [
       "<IPython.core.display.Image object>"
      ]
     },
     "metadata": {},
     "output_type": "display_data"
    },
    {
     "name": "stdout",
     "output_type": "stream",
     "text": [
      "\n",
      "\n",
      "\n",
      "Set: 18\n",
      "\n",
      "PW: 18\n"
     ]
    },
    {
     "data": {
      "text/html": [
       "<text style=color:black><text style=color:red>ntri(X)</text> :- <text style=color:green>e(X,Y)</text>, <text style=color:green>e(Y,Y)</text>, <text style=color:red>not e(Y,X)</text>, <text style=color:black>X != Y</text>.</text>"
      ],
      "text/plain": [
       "<IPython.core.display.HTML object>"
      ]
     },
     "metadata": {},
     "output_type": "display_data"
    },
    {
     "data": {
      "text/html": [
       "<text style=color:black><text style=color:red>ntri(X)</text> :- <text style=color:green>e(X,Y)</text>, <text style=color:green>e(Y,Z)</text>, <text style=color:red>not e(Z,X)</text>, Y=Z, <text style=color:black>X != Y</text>.</text>"
      ],
      "text/plain": [
       "<IPython.core.display.HTML object>"
      ]
     },
     "metadata": {},
     "output_type": "display_data"
    },
    {
     "data": {
      "text/html": [
       "<text style=color:black><text style=color:red>ntri(X)</text> :- <text style=color:green>e(X,Y)</text>, <text style=color:green>e(Y,Z)</text>, <text style=color:red>not e(Z,X)</text>, Y=Z, <text style=color:black>X != Y</text>.</text>"
      ],
      "text/plain": [
       "<IPython.core.display.HTML object>"
      ]
     },
     "metadata": {},
     "output_type": "display_data"
    },
    {
     "data": {
      "text/html": [
       "<text style=color:black><text style=color:red>ntri(X)</text> :- <text style=color:green>e(X,Y)</text>, <text style=color:green>e(Y,Z)</text>, <text style=color:red>not e(Z,X)</text>. % <text style=color:blue>[Y=Z][X]</text></text>"
      ],
      "text/plain": [
       "<IPython.core.display.HTML object>"
      ]
     },
     "metadata": {},
     "output_type": "display_data"
    },
    {
     "name": "stdout",
     "output_type": "stream",
     "text": [
      "Failure Pattern:\n"
     ]
    },
    {
     "data": {
      "image/png": "[encoded data removed]",
      "text/plain": [
       "<IPython.core.display.Image object>"
      ]
     },
     "metadata": {},
     "output_type": "display_data"
    },
    {
     "name": "stdout",
     "output_type": "stream",
     "text": [
      "\n",
      "\n",
      "\n",
      "Set: 19\n",
      "\n",
      "PW: 19\n"
     ]
    },
    {
     "data": {
      "text/html": [
       "<text style=color:black><text style=color:red>ntri(X)</text> :- <text style=color:red>not e(X,Y)</text>, <text style=color:green>e(Y,Y)</text>, <text style=color:green>e(Y,X)</text>, <text style=color:black>X != Y</text>.</text>"
      ],
      "text/plain": [
       "<IPython.core.display.HTML object>"
      ]
     },
     "metadata": {},
     "output_type": "display_data"
    },
    {
     "data": {
      "text/html": [
       "<text style=color:black><text style=color:red>ntri(X)</text> :- <text style=color:red>not e(X,Y)</text>, <text style=color:green>e(Y,Z)</text>, <text style=color:green>e(Z,X)</text>, Y=Z, <text style=color:black>X != Y</text>.</text>"
      ],
      "text/plain": [
       "<IPython.core.display.HTML object>"
      ]
     },
     "metadata": {},
     "output_type": "display_data"
    },
    {
     "data": {
      "text/html": [
       "<text style=color:black><text style=color:red>ntri(X)</text> :- <text style=color:red>not e(X,Y)</text>, <text style=color:green>e(Y,Z)</text>, <text style=color:green>e(Z,X)</text>, Y=Z, <text style=color:black>X != Y</text>.</text>"
      ],
      "text/plain": [
       "<IPython.core.display.HTML object>"
      ]
     },
     "metadata": {},
     "output_type": "display_data"
    },
    {
     "data": {
      "text/html": [
       "<text style=color:black><text style=color:red>ntri(X)</text> :- <text style=color:red>not e(X,Y)</text>, <text style=color:green>e(Y,Z)</text>, <text style=color:green>e(Z,X)</text>. % <text style=color:blue>[Y=Z][X]</text></text>"
      ],
      "text/plain": [
       "<IPython.core.display.HTML object>"
      ]
     },
     "metadata": {},
     "output_type": "display_data"
    },
    {
     "name": "stdout",
     "output_type": "stream",
     "text": [
      "Failure Pattern:\n"
     ]
    },
    {
     "data": {
      "image/png": "[encoded data removed]",
      "text/plain": [
       "<IPython.core.display.Image object>"
      ]
     },
     "metadata": {},
     "output_type": "display_data"
    },
    {
     "name": "stdout",
     "output_type": "stream",
     "text": [
      "\n",
      "\n",
      "\n",
      "Set: 20\n",
      "\n",
      "PW: 20\n"
     ]
    },
    {
     "data": {
      "text/html": [
       "<text style=color:black><text style=color:green>tri(X)</text> :- <text style=color:green>e(X,Y)</text>, <text style=color:green>e(Y,Y)</text>, <text style=color:green>e(Y,X)</text>, <text style=color:black>X != Y</text>.</text>"
      ],
      "text/plain": [
       "<IPython.core.display.HTML object>"
      ]
     },
     "metadata": {},
     "output_type": "display_data"
    },
    {
     "data": {
      "text/html": [
       "<text style=color:black><text style=color:green>tri(X)</text> :- <text style=color:green>e(X,Y)</text>, <text style=color:green>e(Y,Z)</text>, <text style=color:green>e(Z,X)</text>, Y=Z, <text style=color:black>X != Y</text>.</text>"
      ],
      "text/plain": [
       "<IPython.core.display.HTML object>"
      ]
     },
     "metadata": {},
     "output_type": "display_data"
    },
    {
     "data": {
      "text/html": [
       "<text style=color:black><text style=color:green>tri(X)</text> :- <text style=color:green>e(X,Y)</text>, <text style=color:green>e(Y,Z)</text>, <text style=color:green>e(Z,X)</text>, Y=Z, <text style=color:black>X != Y</text>.</text>"
      ],
      "text/plain": [
       "<IPython.core.display.HTML object>"
      ]
     },
     "metadata": {},
     "output_type": "display_data"
    },
    {
     "data": {
      "text/html": [
       "<text style=color:black><text style=color:green>tri(X)</text> :- <text style=color:green>e(X,Y)</text>, <text style=color:green>e(Y,Z)</text>, <text style=color:green>e(Z,X)</text>. % <text style=color:blue>[Y=Z][X]</text></text>"
      ],
      "text/plain": [
       "<IPython.core.display.HTML object>"
      ]
     },
     "metadata": {},
     "output_type": "display_data"
    },
    {
     "name": "stdout",
     "output_type": "stream",
     "text": [
      "Success Pattern:\n"
     ]
    },
    {
     "data": {
      "image/png": "[encoded data removed]",
      "text/plain": [
       "<IPython.core.display.Image object>"
      ]
     },
     "metadata": {},
     "output_type": "display_data"
    },
    {
     "name": "stdout",
     "output_type": "stream",
     "text": [
      "\n",
      "\n",
      "\n",
      "Set: 21\n",
      "\n",
      "PW: 27\n"
     ]
    },
    {
     "data": {
      "text/html": [
       "<text style=color:black><text style=color:red>ntri(X)</text> :- <text style=color:red>not e(X,X)</text>, <text style=color:red>not e(X,Z)</text>, <text style=color:green>e(Z,X)</text>, <text style=color:black>X != Z</text>.</text>"
      ],
      "text/plain": [
       "<IPython.core.display.HTML object>"
      ]
     },
     "metadata": {},
     "output_type": "display_data"
    },
    {
     "data": {
      "text/html": [
       "<text style=color:black><text style=color:red>ntri(X)</text> :- <text style=color:red>not e(X,Y)</text>, <text style=color:red>not e(Y,Z)</text>, <text style=color:green>e(Z,X)</text>, X=Y, <text style=color:black>X != Z</text>.</text>"
      ],
      "text/plain": [
       "<IPython.core.display.HTML object>"
      ]
     },
     "metadata": {},
     "output_type": "display_data"
    },
    {
     "data": {
      "text/html": [
       "<text style=color:black><text style=color:red>ntri(X)</text> :- <text style=color:red>not e(X,Y)</text>, <text style=color:red>not e(Y,Z)</text>, <text style=color:green>e(Z,X)</text>, X=Y, <text style=color:black>X != Z</text>.</text>"
      ],
      "text/plain": [
       "<IPython.core.display.HTML object>"
      ]
     },
     "metadata": {},
     "output_type": "display_data"
    },
    {
     "data": {
      "text/html": [
       "<text style=color:black><text style=color:red>ntri(X)</text> :- <text style=color:red>not e(X,Y)</text>, <text style=color:red>not e(Y,Z)</text>, <text style=color:green>e(Z,X)</text>. % <text style=color:blue>[X=Y][Z]</text></text>"
      ],
      "text/plain": [
       "<IPython.core.display.HTML object>"
      ]
     },
     "metadata": {},
     "output_type": "display_data"
    },
    {
     "name": "stdout",
     "output_type": "stream",
     "text": [
      "Failure Pattern:\n"
     ]
    },
    {
     "data": {
      "image/png": "[encoded data removed]",
      "text/plain": [
       "<IPython.core.display.Image object>"
      ]
     },
     "metadata": {},
     "output_type": "display_data"
    },
    {
     "name": "stdout",
     "output_type": "stream",
     "text": [
      "\n",
      "\n",
      "\n",
      "Set: 22\n",
      "\n",
      "PW: 22\n"
     ]
    },
    {
     "data": {
      "text/html": [
       "<text style=color:black><text style=color:red>ntri(X)</text> :- <text style=color:green>e(X,Y)</text>, <text style=color:green>e(Y,X)</text>, <text style=color:red>not e(X,X)</text>, <text style=color:black>X != Y</text>.</text>"
      ],
      "text/plain": [
       "<IPython.core.display.HTML object>"
      ]
     },
     "metadata": {},
     "output_type": "display_data"
    },
    {
     "data": {
      "text/html": [
       "<text style=color:black><text style=color:red>ntri(X)</text> :- <text style=color:green>e(X,Y)</text>, <text style=color:green>e(Y,Z)</text>, <text style=color:red>not e(Z,X)</text>, X=Z, <text style=color:black>X != Y</text>.</text>"
      ],
      "text/plain": [
       "<IPython.core.display.HTML object>"
      ]
     },
     "metadata": {},
     "output_type": "display_data"
    },
    {
     "data": {
      "text/html": [
       "<text style=color:black><text style=color:red>ntri(X)</text> :- <text style=color:green>e(X,Y)</text>, <text style=color:green>e(Y,Z)</text>, <text style=color:red>not e(Z,X)</text>, X=Z, <text style=color:black>X != Y</text>.</text>"
      ],
      "text/plain": [
       "<IPython.core.display.HTML object>"
      ]
     },
     "metadata": {},
     "output_type": "display_data"
    },
    {
     "data": {
      "text/html": [
       "<text style=color:black><text style=color:red>ntri(X)</text> :- <text style=color:green>e(X,Y)</text>, <text style=color:green>e(Y,Z)</text>, <text style=color:red>not e(Z,X)</text>. % <text style=color:blue>[X=Z][Y]</text></text>"
      ],
      "text/plain": [
       "<IPython.core.display.HTML object>"
      ]
     },
     "metadata": {},
     "output_type": "display_data"
    },
    {
     "name": "stdout",
     "output_type": "stream",
     "text": [
      "Failure Pattern:\n"
     ]
    },
    {
     "data": {
      "image/png": "[encoded data removed]",
      "text/plain": [
       "<IPython.core.display.Image object>"
      ]
     },
     "metadata": {},
     "output_type": "display_data"
    },
    {
     "name": "stdout",
     "output_type": "stream",
     "text": [
      "\n",
      "\n",
      "\n",
      "Set: 23\n",
      "\n",
      "PW: 28\n"
     ]
    },
    {
     "data": {
      "text/html": [
       "<text style=color:black><text style=color:red>ntri(X)</text> :- <text style=color:green>e(X,X)</text>, <text style=color:red>not e(X,Z)</text>, <text style=color:green>e(Z,X)</text>, <text style=color:black>X != Z</text>.</text>"
      ],
      "text/plain": [
       "<IPython.core.display.HTML object>"
      ]
     },
     "metadata": {},
     "output_type": "display_data"
    },
    {
     "data": {
      "text/html": [
       "<text style=color:black><text style=color:red>ntri(X)</text> :- <text style=color:green>e(X,Y)</text>, <text style=color:red>not e(Y,Z)</text>, <text style=color:green>e(Z,X)</text>, X=Y, <text style=color:black>X != Z</text>.</text>"
      ],
      "text/plain": [
       "<IPython.core.display.HTML object>"
      ]
     },
     "metadata": {},
     "output_type": "display_data"
    },
    {
     "data": {
      "text/html": [
       "<text style=color:black><text style=color:red>ntri(X)</text> :- <text style=color:green>e(X,Y)</text>, <text style=color:red>not e(Y,Z)</text>, <text style=color:green>e(Z,X)</text>, X=Y, <text style=color:black>X != Z</text>.</text>"
      ],
      "text/plain": [
       "<IPython.core.display.HTML object>"
      ]
     },
     "metadata": {},
     "output_type": "display_data"
    },
    {
     "data": {
      "text/html": [
       "<text style=color:black><text style=color:red>ntri(X)</text> :- <text style=color:green>e(X,Y)</text>, <text style=color:red>not e(Y,Z)</text>, <text style=color:green>e(Z,X)</text>. % <text style=color:blue>[X=Y][Z]</text></text>"
      ],
      "text/plain": [
       "<IPython.core.display.HTML object>"
      ]
     },
     "metadata": {},
     "output_type": "display_data"
    },
    {
     "name": "stdout",
     "output_type": "stream",
     "text": [
      "Failure Pattern:\n"
     ]
    },
    {
     "data": {
      "image/png": "[encoded data removed]",
      "text/plain": [
       "<IPython.core.display.Image object>"
      ]
     },
     "metadata": {},
     "output_type": "display_data"
    },
    {
     "name": "stdout",
     "output_type": "stream",
     "text": [
      "\n",
      "\n",
      "\n",
      "Set: 24\n",
      "\n",
      "PW: 33\n"
     ]
    },
    {
     "data": {
      "text/html": [
       "<text style=color:black><text style=color:green>tri(X)</text> :- <text style=color:green>e(X,X)</text>, <text style=color:green>e(X,Z)</text>, <text style=color:green>e(Z,X)</text>, <text style=color:black>X != Z</text>.</text>"
      ],
      "text/plain": [
       "<IPython.core.display.HTML object>"
      ]
     },
     "metadata": {},
     "output_type": "display_data"
    },
    {
     "data": {
      "text/html": [
       "<text style=color:black><text style=color:green>tri(X)</text> :- <text style=color:green>e(X,Y)</text>, <text style=color:green>e(Y,Z)</text>, <text style=color:green>e(Z,X)</text>, X=Y, <text style=color:black>X != Z</text>.</text>"
      ],
      "text/plain": [
       "<IPython.core.display.HTML object>"
      ]
     },
     "metadata": {},
     "output_type": "display_data"
    },
    {
     "data": {
      "text/html": [
       "<text style=color:black><text style=color:green>tri(X)</text> :- <text style=color:green>e(X,Y)</text>, <text style=color:green>e(Y,Z)</text>, <text style=color:green>e(Z,X)</text>, X=Y, <text style=color:black>X != Z</text>.</text>"
      ],
      "text/plain": [
       "<IPython.core.display.HTML object>"
      ]
     },
     "metadata": {},
     "output_type": "display_data"
    },
    {
     "data": {
      "text/html": [
       "<text style=color:black><text style=color:green>tri(X)</text> :- <text style=color:green>e(X,Y)</text>, <text style=color:green>e(Y,Z)</text>, <text style=color:green>e(Z,X)</text>. % <text style=color:blue>[X=Y][Z]</text></text>"
      ],
      "text/plain": [
       "<IPython.core.display.HTML object>"
      ]
     },
     "metadata": {},
     "output_type": "display_data"
    },
    {
     "name": "stdout",
     "output_type": "stream",
     "text": [
      "Success Pattern:\n"
     ]
    },
    {
     "data": {
      "image/png": "[encoded data removed]",
      "text/plain": [
       "<IPython.core.display.Image object>"
      ]
     },
     "metadata": {},
     "output_type": "display_data"
    },
    {
     "name": "stdout",
     "output_type": "stream",
     "text": [
      "\n",
      "\n",
      "\n",
      "Set: 25\n",
      "\n",
      "PW: 29\n"
     ]
    },
    {
     "data": {
      "text/html": [
       "<text style=color:black><text style=color:red>ntri(X)</text> :- <text style=color:red>not e(X,X)</text>, <text style=color:red>not e(X,X)</text>, <text style=color:red>not e(X,X)</text>.</text>"
      ],
      "text/plain": [
       "<IPython.core.display.HTML object>"
      ]
     },
     "metadata": {},
     "output_type": "display_data"
    },
    {
     "data": {
      "text/html": [
       "<text style=color:black><text style=color:red>ntri(X)</text> :- <text style=color:red>not e(X,Y)</text>, <text style=color:red>not e(Y,Z)</text>, <text style=color:red>not e(Z,X)</text>, X=Y, X=Z.</text>"
      ],
      "text/plain": [
       "<IPython.core.display.HTML object>"
      ]
     },
     "metadata": {},
     "output_type": "display_data"
    },
    {
     "data": {
      "text/html": [
       "<text style=color:black><text style=color:red>ntri(X)</text> :- <text style=color:red>not e(X,Y)</text>, <text style=color:red>not e(Y,Z)</text>, <text style=color:red>not e(Z,X)</text>, X=Y=Z.</text>"
      ],
      "text/plain": [
       "<IPython.core.display.HTML object>"
      ]
     },
     "metadata": {},
     "output_type": "display_data"
    },
    {
     "data": {
      "text/html": [
       "<text style=color:black><text style=color:red>ntri(X)</text> :- <text style=color:red>not e(X,Y)</text>, <text style=color:red>not e(Y,Z)</text>, <text style=color:red>not e(Z,X)</text>. % <text style=color:blue>[X=Y=Z]</text></text>"
      ],
      "text/plain": [
       "<IPython.core.display.HTML object>"
      ]
     },
     "metadata": {},
     "output_type": "display_data"
    },
    {
     "name": "stdout",
     "output_type": "stream",
     "text": [
      "Failure Pattern:\n"
     ]
    },
    {
     "data": {
      "image/png": "[encoded data removed]",
      "text/plain": [
       "<IPython.core.display.Image object>"
      ]
     },
     "metadata": {},
     "output_type": "display_data"
    },
    {
     "name": "stdout",
     "output_type": "stream",
     "text": [
      "\n",
      "\n",
      "\n",
      "Set: 26\n",
      "\n",
      "PW: 34\n"
     ]
    },
    {
     "data": {
      "text/html": [
       "<text style=color:black><text style=color:green>tri(X)</text> :- <text style=color:green>e(X,X)</text>, <text style=color:green>e(X,X)</text>, <text style=color:green>e(X,X)</text>.</text>"
      ],
      "text/plain": [
       "<IPython.core.display.HTML object>"
      ]
     },
     "metadata": {},
     "output_type": "display_data"
    },
    {
     "data": {
      "text/html": [
       "<text style=color:black><text style=color:green>tri(X)</text> :- <text style=color:green>e(X,Y)</text>, <text style=color:green>e(Y,Z)</text>, <text style=color:green>e(Z,X)</text>, X=Y, X=Z.</text>"
      ],
      "text/plain": [
       "<IPython.core.display.HTML object>"
      ]
     },
     "metadata": {},
     "output_type": "display_data"
    },
    {
     "data": {
      "text/html": [
       "<text style=color:black><text style=color:green>tri(X)</text> :- <text style=color:green>e(X,Y)</text>, <text style=color:green>e(Y,Z)</text>, <text style=color:green>e(Z,X)</text>, X=Y=Z.</text>"
      ],
      "text/plain": [
       "<IPython.core.display.HTML object>"
      ]
     },
     "metadata": {},
     "output_type": "display_data"
    },
    {
     "data": {
      "text/html": [
       "<text style=color:black><text style=color:green>tri(X)</text> :- <text style=color:green>e(X,Y)</text>, <text style=color:green>e(Y,Z)</text>, <text style=color:green>e(Z,X)</text>. % <text style=color:blue>[X=Y=Z]</text></text>"
      ],
      "text/plain": [
       "<IPython.core.display.HTML object>"
      ]
     },
     "metadata": {},
     "output_type": "display_data"
    },
    {
     "name": "stdout",
     "output_type": "stream",
     "text": [
      "Success Pattern:\n"
     ]
    },
    {
     "data": {
      "image/png": "[encoded data removed]",
      "text/plain": [
       "<IPython.core.display.Image object>"
      ]
     },
     "metadata": {},
     "output_type": "display_data"
    }
   ],
   "source": [
    "for i, s in enumerate(sets):\n",
    "    print(\"\\n\\n\\nSet:\", i+1)\n",
    "    for j, pw in enumerate(s):\n",
    "        print(\"\\nPW:\", pw.pw_id)\n",
    "        pw_rel_dfs = pw_slicer(query_analysis['pw_rel_dfs'], None, [pw.pw_id])[0]\n",
    "#         print_colored_query_string(pw_rel_dfs)\n",
    "        print_rewritten_query_string(pw_rel_dfs)\n",
    "        print_explicit_rewritten_query_string(pw_rel_dfs, chain_eq=False)\n",
    "        print_explicit_rewritten_query_string(pw_rel_dfs, chain_eq=True)\n",
    "        print_fancy_rewrite(pw_rel_dfs)\n",
    "        g = get_pattern_graph2(pw_rel_dfs, no_node_labels=False)\n",
    "#         draw(g, format='pdf', filename='{}.{}'.format('tri_eq_patterns/set_{}'.format(i+1), 'pdf'), show='none')\n",
    "        display(draw(g))\n",
    "        break"
   ]
  },
  {
   "cell_type": "code",
   "execution_count": 55,
   "metadata": {
    "scrolled": true
   },
   "outputs": [
    {
     "name": "stdout",
     "output_type": "stream",
     "text": [
      "Set: 1 (1)\n"
     ]
    },
    {
     "data": {
      "text/html": [
       "<text style=color:black><text style=color:green>tri(X)</text> :- <text style=color:green>e(X,Y)</text>, <text style=color:green>e(Y,Z)</text>, <text style=color:green>e(Z,X)</text>, <text style=color:black>X != Y</text>, <text style=color:black>X != Z</text>, <text style=color:black>Y != Z</text>.</text>"
      ],
      "text/plain": [
       "<IPython.core.display.HTML object>"
      ]
     },
     "metadata": {},
     "output_type": "display_data"
    },
    {
     "data": {
      "text/html": [
       "<text style=color:black><text style=color:green>tri(X)</text> :- <text style=color:green>e(X,Y)</text>, <text style=color:green>e(Y,Z)</text>, <text style=color:green>e(Z,X)</text>, <text style=color:black>X != Y</text>, <text style=color:black>X != Z</text>, <text style=color:black>Y != Z</text>.</text>"
      ],
      "text/plain": [
       "<IPython.core.display.HTML object>"
      ]
     },
     "metadata": {},
     "output_type": "display_data"
    },
    {
     "data": {
      "text/html": [
       "<text style=color:black><text style=color:green>tri(X)</text> :- <text style=color:green>e(X,Y)</text>, <text style=color:green>e(Y,Z)</text>, <text style=color:green>e(Z,X)</text>, <text style=color:black>X != Y</text>, <text style=color:black>X != Z</text>, <text style=color:black>Y != Z</text>.</text>"
      ],
      "text/plain": [
       "<IPython.core.display.HTML object>"
      ]
     },
     "metadata": {},
     "output_type": "display_data"
    },
    {
     "data": {
      "text/html": [
       "<text style=color:black><text style=color:green>tri(X)</text> :- <text style=color:green>e(X,Y)</text>, <text style=color:green>e(Y,Z)</text>, <text style=color:green>e(Z,X)</text>. % <text style=color:blue>[Y][Z][X]</text></text>"
      ],
      "text/plain": [
       "<IPython.core.display.HTML object>"
      ]
     },
     "metadata": {},
     "output_type": "display_data"
    },
    {
     "name": "stdout",
     "output_type": "stream",
     "text": [
      "Success Pattern:\n"
     ]
    },
    {
     "data": {
      "image/png": "[encoded data removed]",
      "text/plain": [
       "<IPython.core.display.Image object>"
      ]
     },
     "metadata": {},
     "output_type": "display_data"
    },
    {
     "name": "stdout",
     "output_type": "stream",
     "text": [
      "Set: 2 (1)\n"
     ]
    },
    {
     "data": {
      "text/html": [
       "<text style=color:black><text style=color:green>tri(X)</text> :- <text style=color:green>e(X,Y)</text>, <text style=color:green>e(Y,Y)</text>, <text style=color:green>e(Y,X)</text>, <text style=color:black>X != Y</text>.</text>"
      ],
      "text/plain": [
       "<IPython.core.display.HTML object>"
      ]
     },
     "metadata": {},
     "output_type": "display_data"
    },
    {
     "data": {
      "text/html": [
       "<text style=color:black><text style=color:green>tri(X)</text> :- <text style=color:green>e(X,Y)</text>, <text style=color:green>e(Y,Z)</text>, <text style=color:green>e(Z,X)</text>, Y=Z, <text style=color:black>X != Y</text>.</text>"
      ],
      "text/plain": [
       "<IPython.core.display.HTML object>"
      ]
     },
     "metadata": {},
     "output_type": "display_data"
    },
    {
     "data": {
      "text/html": [
       "<text style=color:black><text style=color:green>tri(X)</text> :- <text style=color:green>e(X,Y)</text>, <text style=color:green>e(Y,Z)</text>, <text style=color:green>e(Z,X)</text>, Y=Z, <text style=color:black>X != Y</text>.</text>"
      ],
      "text/plain": [
       "<IPython.core.display.HTML object>"
      ]
     },
     "metadata": {},
     "output_type": "display_data"
    },
    {
     "data": {
      "text/html": [
       "<text style=color:black><text style=color:green>tri(X)</text> :- <text style=color:green>e(X,Y)</text>, <text style=color:green>e(Y,Z)</text>, <text style=color:green>e(Z,X)</text>. % <text style=color:blue>[Y=Z][X]</text></text>"
      ],
      "text/plain": [
       "<IPython.core.display.HTML object>"
      ]
     },
     "metadata": {},
     "output_type": "display_data"
    },
    {
     "name": "stdout",
     "output_type": "stream",
     "text": [
      "Success Pattern:\n"
     ]
    },
    {
     "data": {
      "image/png": "[encoded data removed]",
      "text/plain": [
       "<IPython.core.display.Image object>"
      ]
     },
     "metadata": {},
     "output_type": "display_data"
    },
    {
     "name": "stdout",
     "output_type": "stream",
     "text": [
      "Set: 3 (2)\n"
     ]
    },
    {
     "data": {
      "text/html": [
       "<text style=color:black><text style=color:green>tri(X)</text> :- <text style=color:green>e(X,X)</text>, <text style=color:green>e(X,Z)</text>, <text style=color:green>e(Z,X)</text>, <text style=color:black>X != Z</text>.</text>"
      ],
      "text/plain": [
       "<IPython.core.display.HTML object>"
      ]
     },
     "metadata": {},
     "output_type": "display_data"
    },
    {
     "data": {
      "text/html": [
       "<text style=color:black><text style=color:green>tri(X)</text> :- <text style=color:green>e(X,Y)</text>, <text style=color:green>e(Y,Z)</text>, <text style=color:green>e(Z,X)</text>, X=Y, <text style=color:black>X != Z</text>.</text>"
      ],
      "text/plain": [
       "<IPython.core.display.HTML object>"
      ]
     },
     "metadata": {},
     "output_type": "display_data"
    },
    {
     "data": {
      "text/html": [
       "<text style=color:black><text style=color:green>tri(X)</text> :- <text style=color:green>e(X,Y)</text>, <text style=color:green>e(Y,Z)</text>, <text style=color:green>e(Z,X)</text>, X=Y, <text style=color:black>X != Z</text>.</text>"
      ],
      "text/plain": [
       "<IPython.core.display.HTML object>"
      ]
     },
     "metadata": {},
     "output_type": "display_data"
    },
    {
     "data": {
      "text/html": [
       "<text style=color:black><text style=color:green>tri(X)</text> :- <text style=color:green>e(X,Y)</text>, <text style=color:green>e(Y,Z)</text>, <text style=color:green>e(Z,X)</text>. % <text style=color:blue>[X=Y][Z]</text></text>"
      ],
      "text/plain": [
       "<IPython.core.display.HTML object>"
      ]
     },
     "metadata": {},
     "output_type": "display_data"
    },
    {
     "name": "stdout",
     "output_type": "stream",
     "text": [
      "Success Pattern:\n"
     ]
    },
    {
     "data": {
      "image/png": "[encoded data removed]",
      "text/plain": [
       "<IPython.core.display.Image object>"
      ]
     },
     "metadata": {},
     "output_type": "display_data"
    },
    {
     "data": {
      "text/html": [
       "<text style=color:black><text style=color:green>tri(X)</text> :- <text style=color:green>e(X,Y)</text>, <text style=color:green>e(Y,X)</text>, <text style=color:green>e(X,X)</text>, <text style=color:black>X != Y</text>.</text>"
      ],
      "text/plain": [
       "<IPython.core.display.HTML object>"
      ]
     },
     "metadata": {},
     "output_type": "display_data"
    },
    {
     "data": {
      "text/html": [
       "<text style=color:black><text style=color:green>tri(X)</text> :- <text style=color:green>e(X,Y)</text>, <text style=color:green>e(Y,Z)</text>, <text style=color:green>e(Z,X)</text>, X=Z, <text style=color:black>X != Y</text>.</text>"
      ],
      "text/plain": [
       "<IPython.core.display.HTML object>"
      ]
     },
     "metadata": {},
     "output_type": "display_data"
    },
    {
     "data": {
      "text/html": [
       "<text style=color:black><text style=color:green>tri(X)</text> :- <text style=color:green>e(X,Y)</text>, <text style=color:green>e(Y,Z)</text>, <text style=color:green>e(Z,X)</text>, X=Z, <text style=color:black>X != Y</text>.</text>"
      ],
      "text/plain": [
       "<IPython.core.display.HTML object>"
      ]
     },
     "metadata": {},
     "output_type": "display_data"
    },
    {
     "data": {
      "text/html": [
       "<text style=color:black><text style=color:green>tri(X)</text> :- <text style=color:green>e(X,Y)</text>, <text style=color:green>e(Y,Z)</text>, <text style=color:green>e(Z,X)</text>. % <text style=color:blue>[X=Z][Y]</text></text>"
      ],
      "text/plain": [
       "<IPython.core.display.HTML object>"
      ]
     },
     "metadata": {},
     "output_type": "display_data"
    },
    {
     "name": "stdout",
     "output_type": "stream",
     "text": [
      "Success Pattern:\n"
     ]
    },
    {
     "data": {
      "image/png": "[encoded data removed]",
      "text/plain": [
       "<IPython.core.display.Image object>"
      ]
     },
     "metadata": {},
     "output_type": "display_data"
    },
    {
     "name": "stdout",
     "output_type": "stream",
     "text": [
      "Set: 4 (1)\n"
     ]
    },
    {
     "data": {
      "text/html": [
       "<text style=color:black><text style=color:green>tri(X)</text> :- <text style=color:green>e(X,X)</text>, <text style=color:green>e(X,X)</text>, <text style=color:green>e(X,X)</text>.</text>"
      ],
      "text/plain": [
       "<IPython.core.display.HTML object>"
      ]
     },
     "metadata": {},
     "output_type": "display_data"
    },
    {
     "data": {
      "text/html": [
       "<text style=color:black><text style=color:green>tri(X)</text> :- <text style=color:green>e(X,Y)</text>, <text style=color:green>e(Y,Z)</text>, <text style=color:green>e(Z,X)</text>, X=Y, X=Z.</text>"
      ],
      "text/plain": [
       "<IPython.core.display.HTML object>"
      ]
     },
     "metadata": {},
     "output_type": "display_data"
    },
    {
     "data": {
      "text/html": [
       "<text style=color:black><text style=color:green>tri(X)</text> :- <text style=color:green>e(X,Y)</text>, <text style=color:green>e(Y,Z)</text>, <text style=color:green>e(Z,X)</text>, X=Y=Z.</text>"
      ],
      "text/plain": [
       "<IPython.core.display.HTML object>"
      ]
     },
     "metadata": {},
     "output_type": "display_data"
    },
    {
     "data": {
      "text/html": [
       "<text style=color:black><text style=color:green>tri(X)</text> :- <text style=color:green>e(X,Y)</text>, <text style=color:green>e(Y,Z)</text>, <text style=color:green>e(Z,X)</text>. % <text style=color:blue>[X=Y=Z]</text></text>"
      ],
      "text/plain": [
       "<IPython.core.display.HTML object>"
      ]
     },
     "metadata": {},
     "output_type": "display_data"
    },
    {
     "name": "stdout",
     "output_type": "stream",
     "text": [
      "Success Pattern:\n"
     ]
    },
    {
     "data": {
      "image/png": "[encoded data removed]",
      "text/plain": [
       "<IPython.core.display.Image object>"
      ]
     },
     "metadata": {},
     "output_type": "display_data"
    },
    {
     "data": {
      "text/plain": [
       "4"
      ]
     },
     "execution_count": 55,
     "metadata": {},
     "output_type": "execute_result"
    }
   ],
   "source": [
    "num_success_patterns = 0\n",
    "for i,s in enumerate(sets):\n",
    "    s = list(s)\n",
    "    eg = s[0]\n",
    "    pw_rel_dfs = pw_slicer(query_analysis['pw_rel_dfs'], None, [eg.pw_id])[0]\n",
    "    true_heads = set(pw_rel_dfs['ruleHTrue_1']['HEAD'])\n",
    "    if len(true_heads) > 0:\n",
    "        num_success_patterns += 1\n",
    "        print(\"Set:\", num_success_patterns, '({})'.format(len(s)))\n",
    "    \n",
    "        for j, pw in enumerate(s):\n",
    "            pw_rel_dfs = pw_slicer(query_analysis['pw_rel_dfs'], None, [pw.pw_id])[0]\n",
    "            true_heads = set(pw_rel_dfs['ruleHTrue_1']['HEAD'])\n",
    "            print_rewritten_query_string(pw_rel_dfs)\n",
    "            print_explicit_rewritten_query_string(pw_rel_dfs, chain_eq=False)\n",
    "            print_explicit_rewritten_query_string(pw_rel_dfs, chain_eq=True)\n",
    "            print_fancy_rewrite(pw_rel_dfs)\n",
    "            g = get_pattern_graph2(pw_rel_dfs, no_node_labels=False)\n",
    "#             draw(g, format='pdf', filename='{}.{}'.format('3hop_eq_success_patterns/set_{}'.format(num_success_patterns), 'pdf'), show='none')\n",
    "            display(draw(g))\n",
    "num_success_patterns"
   ]
  },
  {
   "cell_type": "code",
   "execution_count": 56,
   "metadata": {},
   "outputs": [
    {
     "data": {
      "text/plain": [
       "4"
      ]
     },
     "execution_count": 56,
     "metadata": {},
     "output_type": "execute_result"
    }
   ],
   "source": [
    "num_success_patterns"
   ]
  },
  {
   "cell_type": "code",
   "execution_count": null,
   "metadata": {},
   "outputs": [],
   "source": []
  },
  {
   "cell_type": "code",
   "execution_count": 45,
   "metadata": {},
   "outputs": [
    {
     "name": "stdout",
     "output_type": "stream",
     "text": [
      "Output:\n"
     ]
    },
    {
     "data": {
      "text/html": [
       "\n",
       "        <style>\n",
       "        .highlight .hll { background-color: #ffffcc }\n",
       ".highlight  { background: #f8f8f8; }\n",
       ".highlight .c { color: #408080; font-style: italic } /* Comment */\n",
       ".highlight .err { border: 1px solid #FF0000 } /* Error */\n",
       ".highlight .k { color: #008000; font-weight: bold } /* Keyword */\n",
       ".highlight .o { color: #666666 } /* Operator */\n",
       ".highlight .ch { color: #408080; font-style: italic } /* Comment.Hashbang */\n",
       ".highlight .cm { color: #408080; font-style: italic } /* Comment.Multiline */\n",
       ".highlight .cp { color: #BC7A00 } /* Comment.Preproc */\n",
       ".highlight .cpf { color: #408080; font-style: italic } /* Comment.PreprocFile */\n",
       ".highlight .c1 { color: #408080; font-style: italic } /* Comment.Single */\n",
       ".highlight .cs { color: #408080; font-style: italic } /* Comment.Special */\n",
       ".highlight .gd { color: #A00000 } /* Generic.Deleted */\n",
       ".highlight .ge { font-style: italic } /* Generic.Emph */\n",
       ".highlight .gr { color: #FF0000 } /* Generic.Error */\n",
       ".highlight .gh { color: #000080; font-weight: bold } /* Generic.Heading */\n",
       ".highlight .gi { color: #00A000 } /* Generic.Inserted */\n",
       ".highlight .go { color: #888888 } /* Generic.Output */\n",
       ".highlight .gp { color: #000080; font-weight: bold } /* Generic.Prompt */\n",
       ".highlight .gs { font-weight: bold } /* Generic.Strong */\n",
       ".highlight .gu { color: #800080; font-weight: bold } /* Generic.Subheading */\n",
       ".highlight .gt { color: #0044DD } /* Generic.Traceback */\n",
       ".highlight .kc { color: #008000; font-weight: bold } /* Keyword.Constant */\n",
       ".highlight .kd { color: #008000; font-weight: bold } /* Keyword.Declaration */\n",
       ".highlight .kn { color: #008000; font-weight: bold } /* Keyword.Namespace */\n",
       ".highlight .kp { color: #008000 } /* Keyword.Pseudo */\n",
       ".highlight .kr { color: #008000; font-weight: bold } /* Keyword.Reserved */\n",
       ".highlight .kt { color: #B00040 } /* Keyword.Type */\n",
       ".highlight .m { color: #666666 } /* Literal.Number */\n",
       ".highlight .s { color: #BA2121 } /* Literal.String */\n",
       ".highlight .na { color: #7D9029 } /* Name.Attribute */\n",
       ".highlight .nb { color: #008000 } /* Name.Builtin */\n",
       ".highlight .nc { color: #0000FF; font-weight: bold } /* Name.Class */\n",
       ".highlight .no { color: #880000 } /* Name.Constant */\n",
       ".highlight .nd { color: #AA22FF } /* Name.Decorator */\n",
       ".highlight .ni { color: #999999; font-weight: bold } /* Name.Entity */\n",
       ".highlight .ne { color: #D2413A; font-weight: bold } /* Name.Exception */\n",
       ".highlight .nf { color: #0000FF } /* Name.Function */\n",
       ".highlight .nl { color: #A0A000 } /* Name.Label */\n",
       ".highlight .nn { color: #0000FF; font-weight: bold } /* Name.Namespace */\n",
       ".highlight .nt { color: #008000; font-weight: bold } /* Name.Tag */\n",
       ".highlight .nv { color: #19177C } /* Name.Variable */\n",
       ".highlight .ow { color: #AA22FF; font-weight: bold } /* Operator.Word */\n",
       ".highlight .w { color: #bbbbbb } /* Text.Whitespace */\n",
       ".highlight .mb { color: #666666 } /* Literal.Number.Bin */\n",
       ".highlight .mf { color: #666666 } /* Literal.Number.Float */\n",
       ".highlight .mh { color: #666666 } /* Literal.Number.Hex */\n",
       ".highlight .mi { color: #666666 } /* Literal.Number.Integer */\n",
       ".highlight .mo { color: #666666 } /* Literal.Number.Oct */\n",
       ".highlight .sa { color: #BA2121 } /* Literal.String.Affix */\n",
       ".highlight .sb { color: #BA2121 } /* Literal.String.Backtick */\n",
       ".highlight .sc { color: #BA2121 } /* Literal.String.Char */\n",
       ".highlight .dl { color: #BA2121 } /* Literal.String.Delimiter */\n",
       ".highlight .sd { color: #BA2121; font-style: italic } /* Literal.String.Doc */\n",
       ".highlight .s2 { color: #BA2121 } /* Literal.String.Double */\n",
       ".highlight .se { color: #BB6622; font-weight: bold } /* Literal.String.Escape */\n",
       ".highlight .sh { color: #BA2121 } /* Literal.String.Heredoc */\n",
       ".highlight .si { color: #BB6688; font-weight: bold } /* Literal.String.Interpol */\n",
       ".highlight .sx { color: #008000 } /* Literal.String.Other */\n",
       ".highlight .sr { color: #BB6688 } /* Literal.String.Regex */\n",
       ".highlight .s1 { color: #BA2121 } /* Literal.String.Single */\n",
       ".highlight .ss { color: #19177C } /* Literal.String.Symbol */\n",
       ".highlight .bp { color: #008000 } /* Name.Builtin.Pseudo */\n",
       ".highlight .fm { color: #0000FF } /* Name.Function.Magic */\n",
       ".highlight .vc { color: #19177C } /* Name.Variable.Class */\n",
       ".highlight .vg { color: #19177C } /* Name.Variable.Global */\n",
       ".highlight .vi { color: #19177C } /* Name.Variable.Instance */\n",
       ".highlight .vm { color: #19177C } /* Name.Variable.Magic */\n",
       ".highlight .il { color: #666666 } /* Literal.Number.Integer.Long */\n",
       "        </style>\n",
       "        "
      ],
      "text/plain": [
       "<IPython.core.display.HTML object>"
      ]
     },
     "metadata": {},
     "output_type": "display_data"
    },
    {
     "data": {
      "text/html": [
       "<div class=\"highlight\"><pre><span></span><span class=\"lineno\">1 </span><span class=\"nv\">Answer</span><span class=\"s s-Atom\">:</span> <span class=\"mi\">1</span>\n",
       "<span class=\"lineno\">2 </span><span class=\"nf\">e</span><span class=\"p\">(</span><span class=\"s s-Atom\">a</span><span class=\"p\">,</span><span class=\"s s-Atom\">a</span><span class=\"p\">)</span> <span class=\"nf\">e</span><span class=\"p\">(</span><span class=\"s s-Atom\">a</span><span class=\"p\">,</span><span class=\"s s-Atom\">b</span><span class=\"p\">)</span> <span class=\"nf\">e</span><span class=\"p\">(</span><span class=\"s s-Atom\">b</span><span class=\"p\">,</span><span class=\"s s-Atom\">a</span><span class=\"p\">)</span> <span class=\"nf\">e</span><span class=\"p\">(</span><span class=\"s s-Atom\">b</span><span class=\"p\">,</span><span class=\"s s-Atom\">c</span><span class=\"p\">)</span> <span class=\"nf\">thop5</span><span class=\"p\">(</span><span class=\"s s-Atom\">b</span><span class=\"p\">,</span><span class=\"s s-Atom\">a</span><span class=\"p\">)</span> <span class=\"nf\">thop6</span><span class=\"p\">(</span><span class=\"s s-Atom\">a</span><span class=\"p\">,</span><span class=\"s s-Atom\">c</span><span class=\"p\">)</span> <span class=\"nf\">thop8</span><span class=\"p\">(</span><span class=\"s s-Atom\">b</span><span class=\"p\">,</span><span class=\"s s-Atom\">c</span><span class=\"p\">)</span> <span class=\"nf\">thop9</span><span class=\"p\">(</span><span class=\"s s-Atom\">a</span><span class=\"p\">,</span><span class=\"s s-Atom\">b</span><span class=\"p\">)</span> <span class=\"nf\">thop9</span><span class=\"p\">(</span><span class=\"s s-Atom\">b</span><span class=\"p\">,</span><span class=\"s s-Atom\">a</span><span class=\"p\">)</span> <span class=\"nf\">thop10</span><span class=\"p\">(</span><span class=\"s s-Atom\">a</span><span class=\"p\">,</span><span class=\"s s-Atom\">b</span><span class=\"p\">)</span> <span class=\"nf\">thop12</span><span class=\"p\">(</span><span class=\"s s-Atom\">a</span><span class=\"p\">,</span><span class=\"s s-Atom\">a</span><span class=\"p\">)</span> <span class=\"nf\">thop13</span><span class=\"p\">(</span><span class=\"s s-Atom\">a</span><span class=\"p\">,</span><span class=\"s s-Atom\">a</span><span class=\"p\">)</span>\n",
       "<span class=\"lineno\">3 </span><span class=\"nv\">SATISFIABLE</span>\n",
       "<span class=\"lineno\">4 </span>\n",
       "<span class=\"lineno\">5 </span><span class=\"nv\">Models</span>       <span class=\"s s-Atom\">:</span> <span class=\"mi\">1</span>\n",
       "<span class=\"lineno\">6 </span><span class=\"nv\">Calls</span>        <span class=\"s s-Atom\">:</span> <span class=\"mi\">1</span>\n",
       "<span class=\"lineno\">7 </span><span class=\"nv\">Time</span>         <span class=\"s s-Atom\">:</span> <span class=\"mf\">0.002</span><span class=\"nf\">s</span> <span class=\"p\">(</span><span class=\"nv\">Solving</span><span class=\"s s-Atom\">:</span> <span class=\"mf\">0.00</span><span class=\"s s-Atom\">s</span> <span class=\"mi\">1</span><span class=\"s s-Atom\">st</span> <span class=\"nv\">Model</span><span class=\"s s-Atom\">:</span> <span class=\"mf\">0.00</span><span class=\"s s-Atom\">s</span> <span class=\"nv\">Unsat</span><span class=\"s s-Atom\">:</span> <span class=\"mf\">0.00</span><span class=\"s s-Atom\">s</span><span class=\"p\">)</span>\n",
       "<span class=\"lineno\">8 </span><span class=\"nv\">CPU</span> <span class=\"nv\">Time</span>     <span class=\"s s-Atom\">:</span> <span class=\"mf\">0.002</span><span class=\"s s-Atom\">s</span>\n",
       "</pre></div>\n"
      ],
      "text/plain": [
       "'Answer: 1\\ne(a,a) e(a,b) e(b,a) e(b,c) thop5(b,a) thop6(a,c) thop8(b,c) thop9(a,b) thop9(b,a) thop10(a,b) thop12(a,a) thop13(a,a)\\nSATISFIABLE\\n\\nModels       : 1\\nCalls        : 1\\nTime         : 0.002s (Solving: 0.00s 1st Model: 0.00s Unsat: 0.00s)\\nCPU Time     : 0.002s'"
      ]
     },
     "metadata": {},
     "output_type": "display_data"
    }
   ],
   "source": [
    "%%clingo --donot-display_input\n",
    "\n",
    "e(a,a).\n",
    "e(a,b).\n",
    "e(b,a).\n",
    "e(b,c).\n",
    "\n",
    "thop1(X,Y) :- e(X,Z1), e(Z1,Z2), e(Z2,Y), X != Y, X != Z1, Y != Z1, X != Z2, Y != Z2, Z1 != Z2.\n",
    "thop2(X,Y) :- e(X,Y), e(Y,Z2), e(Z2,Y), X != Y, X != Z2, Y != Z2.\n",
    "thop3(X,Y) :- e(X,Z1), e(Z1,Y), e(Y,Y), X != Y, X != Z1, Y != Z1.\n",
    "thop4(X,Y) :- e(X,Z1), e(Z1,Z1), e(Z1,Y), X != Y, X != Z1, Y != Z1.\n",
    "thop5(X,Y) :- e(X,Y), e(Y,Y), e(Y,Y), X != Y.\n",
    "thop6(X,Y) :- e(X,X), e(X,Z2), e(Z2,Y), X != Y, X != Z2, Y != Z2.\n",
    "thop7(X,Y) :- e(X,X), e(X,Y), e(Y,Y), X != Y.\n",
    "thop8(X,Y) :- e(X,Z1), e(Z1,X), e(X,Y), X != Y, X != Z1, Y != Z1.\n",
    "thop9(X,Y) :- e(X,Y), e(Y,X), e(X,Y), X != Y.\n",
    "thop10(X,Y) :- e(X,X), e(X,X), e(X,Y), X != Y.\n",
    "thop11(X,X) :- e(X,Z1), e(Z1,Z2), e(Z2,X), X != Z1, X != Z2, Z1 != Z2.\n",
    "thop12(X,X) :- e(X,X), e(X,Z2), e(Z2,X), X != Z2.\n",
    "thop13(X,X) :- e(X,X), e(X,X), e(X,X)."
   ]
  },
  {
   "cell_type": "code",
   "execution_count": 46,
   "metadata": {},
   "outputs": [
    {
     "name": "stdout",
     "output_type": "stream",
     "text": [
      "Output:\n"
     ]
    },
    {
     "data": {
      "text/html": [
       "\n",
       "        <style>\n",
       "        .highlight .hll { background-color: #ffffcc }\n",
       ".highlight  { background: #f8f8f8; }\n",
       ".highlight .c { color: #408080; font-style: italic } /* Comment */\n",
       ".highlight .err { border: 1px solid #FF0000 } /* Error */\n",
       ".highlight .k { color: #008000; font-weight: bold } /* Keyword */\n",
       ".highlight .o { color: #666666 } /* Operator */\n",
       ".highlight .ch { color: #408080; font-style: italic } /* Comment.Hashbang */\n",
       ".highlight .cm { color: #408080; font-style: italic } /* Comment.Multiline */\n",
       ".highlight .cp { color: #BC7A00 } /* Comment.Preproc */\n",
       ".highlight .cpf { color: #408080; font-style: italic } /* Comment.PreprocFile */\n",
       ".highlight .c1 { color: #408080; font-style: italic } /* Comment.Single */\n",
       ".highlight .cs { color: #408080; font-style: italic } /* Comment.Special */\n",
       ".highlight .gd { color: #A00000 } /* Generic.Deleted */\n",
       ".highlight .ge { font-style: italic } /* Generic.Emph */\n",
       ".highlight .gr { color: #FF0000 } /* Generic.Error */\n",
       ".highlight .gh { color: #000080; font-weight: bold } /* Generic.Heading */\n",
       ".highlight .gi { color: #00A000 } /* Generic.Inserted */\n",
       ".highlight .go { color: #888888 } /* Generic.Output */\n",
       ".highlight .gp { color: #000080; font-weight: bold } /* Generic.Prompt */\n",
       ".highlight .gs { font-weight: bold } /* Generic.Strong */\n",
       ".highlight .gu { color: #800080; font-weight: bold } /* Generic.Subheading */\n",
       ".highlight .gt { color: #0044DD } /* Generic.Traceback */\n",
       ".highlight .kc { color: #008000; font-weight: bold } /* Keyword.Constant */\n",
       ".highlight .kd { color: #008000; font-weight: bold } /* Keyword.Declaration */\n",
       ".highlight .kn { color: #008000; font-weight: bold } /* Keyword.Namespace */\n",
       ".highlight .kp { color: #008000 } /* Keyword.Pseudo */\n",
       ".highlight .kr { color: #008000; font-weight: bold } /* Keyword.Reserved */\n",
       ".highlight .kt { color: #B00040 } /* Keyword.Type */\n",
       ".highlight .m { color: #666666 } /* Literal.Number */\n",
       ".highlight .s { color: #BA2121 } /* Literal.String */\n",
       ".highlight .na { color: #7D9029 } /* Name.Attribute */\n",
       ".highlight .nb { color: #008000 } /* Name.Builtin */\n",
       ".highlight .nc { color: #0000FF; font-weight: bold } /* Name.Class */\n",
       ".highlight .no { color: #880000 } /* Name.Constant */\n",
       ".highlight .nd { color: #AA22FF } /* Name.Decorator */\n",
       ".highlight .ni { color: #999999; font-weight: bold } /* Name.Entity */\n",
       ".highlight .ne { color: #D2413A; font-weight: bold } /* Name.Exception */\n",
       ".highlight .nf { color: #0000FF } /* Name.Function */\n",
       ".highlight .nl { color: #A0A000 } /* Name.Label */\n",
       ".highlight .nn { color: #0000FF; font-weight: bold } /* Name.Namespace */\n",
       ".highlight .nt { color: #008000; font-weight: bold } /* Name.Tag */\n",
       ".highlight .nv { color: #19177C } /* Name.Variable */\n",
       ".highlight .ow { color: #AA22FF; font-weight: bold } /* Operator.Word */\n",
       ".highlight .w { color: #bbbbbb } /* Text.Whitespace */\n",
       ".highlight .mb { color: #666666 } /* Literal.Number.Bin */\n",
       ".highlight .mf { color: #666666 } /* Literal.Number.Float */\n",
       ".highlight .mh { color: #666666 } /* Literal.Number.Hex */\n",
       ".highlight .mi { color: #666666 } /* Literal.Number.Integer */\n",
       ".highlight .mo { color: #666666 } /* Literal.Number.Oct */\n",
       ".highlight .sa { color: #BA2121 } /* Literal.String.Affix */\n",
       ".highlight .sb { color: #BA2121 } /* Literal.String.Backtick */\n",
       ".highlight .sc { color: #BA2121 } /* Literal.String.Char */\n",
       ".highlight .dl { color: #BA2121 } /* Literal.String.Delimiter */\n",
       ".highlight .sd { color: #BA2121; font-style: italic } /* Literal.String.Doc */\n",
       ".highlight .s2 { color: #BA2121 } /* Literal.String.Double */\n",
       ".highlight .se { color: #BB6622; font-weight: bold } /* Literal.String.Escape */\n",
       ".highlight .sh { color: #BA2121 } /* Literal.String.Heredoc */\n",
       ".highlight .si { color: #BB6688; font-weight: bold } /* Literal.String.Interpol */\n",
       ".highlight .sx { color: #008000 } /* Literal.String.Other */\n",
       ".highlight .sr { color: #BB6688 } /* Literal.String.Regex */\n",
       ".highlight .s1 { color: #BA2121 } /* Literal.String.Single */\n",
       ".highlight .ss { color: #19177C } /* Literal.String.Symbol */\n",
       ".highlight .bp { color: #008000 } /* Name.Builtin.Pseudo */\n",
       ".highlight .fm { color: #0000FF } /* Name.Function.Magic */\n",
       ".highlight .vc { color: #19177C } /* Name.Variable.Class */\n",
       ".highlight .vg { color: #19177C } /* Name.Variable.Global */\n",
       ".highlight .vi { color: #19177C } /* Name.Variable.Instance */\n",
       ".highlight .vm { color: #19177C } /* Name.Variable.Magic */\n",
       ".highlight .il { color: #666666 } /* Literal.Number.Integer.Long */\n",
       "        </style>\n",
       "        "
      ],
      "text/plain": [
       "<IPython.core.display.HTML object>"
      ]
     },
     "metadata": {},
     "output_type": "display_data"
    },
    {
     "data": {
      "text/html": [
       "<div class=\"highlight\"><pre><span></span><span class=\"lineno\">1 </span><span class=\"nv\">Answer</span><span class=\"s s-Atom\">:</span> <span class=\"mi\">1</span>\n",
       "<span class=\"lineno\">2 </span><span class=\"nf\">e</span><span class=\"p\">(</span><span class=\"s s-Atom\">a</span><span class=\"p\">,</span><span class=\"s s-Atom\">a</span><span class=\"p\">)</span> <span class=\"nf\">e</span><span class=\"p\">(</span><span class=\"s s-Atom\">a</span><span class=\"p\">,</span><span class=\"s s-Atom\">b</span><span class=\"p\">)</span> <span class=\"nf\">e</span><span class=\"p\">(</span><span class=\"s s-Atom\">b</span><span class=\"p\">,</span><span class=\"s s-Atom\">a</span><span class=\"p\">)</span> <span class=\"nf\">e</span><span class=\"p\">(</span><span class=\"s s-Atom\">b</span><span class=\"p\">,</span><span class=\"s s-Atom\">c</span><span class=\"p\">)</span> <span class=\"nf\">thop5</span><span class=\"p\">(</span><span class=\"s s-Atom\">b</span><span class=\"p\">,</span><span class=\"s s-Atom\">a</span><span class=\"p\">,</span><span class=\"s s-Atom\">a</span><span class=\"p\">,</span><span class=\"s s-Atom\">a</span><span class=\"p\">)</span> <span class=\"nf\">thop6</span><span class=\"p\">(</span><span class=\"s s-Atom\">a</span><span class=\"p\">,</span><span class=\"s s-Atom\">a</span><span class=\"p\">,</span><span class=\"s s-Atom\">b</span><span class=\"p\">,</span><span class=\"s s-Atom\">c</span><span class=\"p\">)</span> <span class=\"nf\">thop8</span><span class=\"p\">(</span><span class=\"s s-Atom\">b</span><span class=\"p\">,</span><span class=\"s s-Atom\">a</span><span class=\"p\">,</span><span class=\"s s-Atom\">b</span><span class=\"p\">,</span><span class=\"s s-Atom\">c</span><span class=\"p\">)</span> <span class=\"nf\">thop9</span><span class=\"p\">(</span><span class=\"s s-Atom\">a</span><span class=\"p\">,</span><span class=\"s s-Atom\">b</span><span class=\"p\">,</span><span class=\"s s-Atom\">a</span><span class=\"p\">,</span><span class=\"s s-Atom\">b</span><span class=\"p\">)</span> <span class=\"nf\">thop9</span><span class=\"p\">(</span><span class=\"s s-Atom\">b</span><span class=\"p\">,</span><span class=\"s s-Atom\">a</span><span class=\"p\">,</span><span class=\"s s-Atom\">b</span><span class=\"p\">,</span><span class=\"s s-Atom\">a</span><span class=\"p\">)</span> <span class=\"nf\">thop10</span><span class=\"p\">(</span><span class=\"s s-Atom\">a</span><span class=\"p\">,</span><span class=\"s s-Atom\">a</span><span class=\"p\">,</span><span class=\"s s-Atom\">a</span><span class=\"p\">,</span><span class=\"s s-Atom\">b</span><span class=\"p\">)</span> <span class=\"nf\">thop12</span><span class=\"p\">(</span><span class=\"s s-Atom\">a</span><span class=\"p\">,</span><span class=\"s s-Atom\">a</span><span class=\"p\">,</span><span class=\"s s-Atom\">b</span><span class=\"p\">,</span><span class=\"s s-Atom\">a</span><span class=\"p\">)</span> <span class=\"nf\">thop13</span><span class=\"p\">(</span><span class=\"s s-Atom\">a</span><span class=\"p\">,</span><span class=\"s s-Atom\">a</span><span class=\"p\">,</span><span class=\"s s-Atom\">a</span><span class=\"p\">,</span><span class=\"s s-Atom\">a</span><span class=\"p\">)</span>\n",
       "<span class=\"lineno\">3 </span><span class=\"nv\">SATISFIABLE</span>\n",
       "<span class=\"lineno\">4 </span>\n",
       "<span class=\"lineno\">5 </span><span class=\"nv\">Models</span>       <span class=\"s s-Atom\">:</span> <span class=\"mi\">1</span>\n",
       "<span class=\"lineno\">6 </span><span class=\"nv\">Calls</span>        <span class=\"s s-Atom\">:</span> <span class=\"mi\">1</span>\n",
       "<span class=\"lineno\">7 </span><span class=\"nv\">Time</span>         <span class=\"s s-Atom\">:</span> <span class=\"mf\">0.002</span><span class=\"nf\">s</span> <span class=\"p\">(</span><span class=\"nv\">Solving</span><span class=\"s s-Atom\">:</span> <span class=\"mf\">0.00</span><span class=\"s s-Atom\">s</span> <span class=\"mi\">1</span><span class=\"s s-Atom\">st</span> <span class=\"nv\">Model</span><span class=\"s s-Atom\">:</span> <span class=\"mf\">0.00</span><span class=\"s s-Atom\">s</span> <span class=\"nv\">Unsat</span><span class=\"s s-Atom\">:</span> <span class=\"mf\">0.00</span><span class=\"s s-Atom\">s</span><span class=\"p\">)</span>\n",
       "<span class=\"lineno\">8 </span><span class=\"nv\">CPU</span> <span class=\"nv\">Time</span>     <span class=\"s s-Atom\">:</span> <span class=\"mf\">0.002</span><span class=\"s s-Atom\">s</span>\n",
       "</pre></div>\n"
      ],
      "text/plain": [
       "'Answer: 1\\ne(a,a) e(a,b) e(b,a) e(b,c) thop5(b,a,a,a) thop6(a,a,b,c) thop8(b,a,b,c) thop9(a,b,a,b) thop9(b,a,b,a) thop10(a,a,a,b) thop12(a,a,b,a) thop13(a,a,a,a)\\nSATISFIABLE\\n\\nModels       : 1\\nCalls        : 1\\nTime         : 0.002s (Solving: 0.00s 1st Model: 0.00s Unsat: 0.00s)\\nCPU Time     : 0.002s'"
      ]
     },
     "metadata": {},
     "output_type": "display_data"
    }
   ],
   "source": [
    "%%clingo --donot-display_input\n",
    "\n",
    "e(a,a).\n",
    "e(a,b).\n",
    "e(b,a).\n",
    "e(b,c).\n",
    "\n",
    "thop1(X,Z1,Z2,Y) :- e(X,Z1), e(Z1,Z2), e(Z2,Y), X != Y, X != Z1, Y != Z1, X != Z2, Y != Z2, Z1 != Z2.\n",
    "thop2(X,Y,Z2,Y) :- e(X,Y), e(Y,Z2), e(Z2,Y), X != Y, X != Z2, Y != Z2.\n",
    "thop3(X,Z1,Y,Y) :- e(X,Z1), e(Z1,Y), e(Y,Y), X != Y, X != Z1, Y != Z1.\n",
    "thop4(X,Z1,Z1,Y) :- e(X,Z1), e(Z1,Z1), e(Z1,Y), X != Y, X != Z1, Y != Z1.\n",
    "thop5(X,Y,Y,Y) :- e(X,Y), e(Y,Y), e(Y,Y), X != Y.\n",
    "thop6(X,X,Z2,Y) :- e(X,X), e(X,Z2), e(Z2,Y), X != Y, X != Z2, Y != Z2.\n",
    "thop7(X,X,Y,Y) :- e(X,X), e(X,Y), e(Y,Y), X != Y.\n",
    "thop8(X,Z1,X,Y) :- e(X,Z1), e(Z1,X), e(X,Y), X != Y, X != Z1, Y != Z1.\n",
    "thop9(X,Y,X,Y) :- e(X,Y), e(Y,X), e(X,Y), X != Y.\n",
    "thop10(X,X,X,Y) :- e(X,X), e(X,X), e(X,Y), X != Y.\n",
    "thop11(X,Z1,Z2,X) :- e(X,Z1), e(Z1,Z2), e(Z2,X), X != Z1, X != Z2, Z1 != Z2.\n",
    "thop12(X,X,Z2,X) :- e(X,X), e(X,Z2), e(Z2,X), X != Z2.\n",
    "thop13(X,X,X,X) :- e(X,X), e(X,X), e(X,X)."
   ]
  },
  {
   "cell_type": "code",
   "execution_count": 56,
   "metadata": {},
   "outputs": [
    {
     "name": "stdout",
     "output_type": "stream",
     "text": [
      "Output:\n"
     ]
    },
    {
     "data": {
      "text/html": [
       "\n",
       "        <style>\n",
       "        .highlight .hll { background-color: #ffffcc }\n",
       ".highlight  { background: #f8f8f8; }\n",
       ".highlight .c { color: #408080; font-style: italic } /* Comment */\n",
       ".highlight .err { border: 1px solid #FF0000 } /* Error */\n",
       ".highlight .k { color: #008000; font-weight: bold } /* Keyword */\n",
       ".highlight .o { color: #666666 } /* Operator */\n",
       ".highlight .ch { color: #408080; font-style: italic } /* Comment.Hashbang */\n",
       ".highlight .cm { color: #408080; font-style: italic } /* Comment.Multiline */\n",
       ".highlight .cp { color: #BC7A00 } /* Comment.Preproc */\n",
       ".highlight .cpf { color: #408080; font-style: italic } /* Comment.PreprocFile */\n",
       ".highlight .c1 { color: #408080; font-style: italic } /* Comment.Single */\n",
       ".highlight .cs { color: #408080; font-style: italic } /* Comment.Special */\n",
       ".highlight .gd { color: #A00000 } /* Generic.Deleted */\n",
       ".highlight .ge { font-style: italic } /* Generic.Emph */\n",
       ".highlight .gr { color: #FF0000 } /* Generic.Error */\n",
       ".highlight .gh { color: #000080; font-weight: bold } /* Generic.Heading */\n",
       ".highlight .gi { color: #00A000 } /* Generic.Inserted */\n",
       ".highlight .go { color: #888888 } /* Generic.Output */\n",
       ".highlight .gp { color: #000080; font-weight: bold } /* Generic.Prompt */\n",
       ".highlight .gs { font-weight: bold } /* Generic.Strong */\n",
       ".highlight .gu { color: #800080; font-weight: bold } /* Generic.Subheading */\n",
       ".highlight .gt { color: #0044DD } /* Generic.Traceback */\n",
       ".highlight .kc { color: #008000; font-weight: bold } /* Keyword.Constant */\n",
       ".highlight .kd { color: #008000; font-weight: bold } /* Keyword.Declaration */\n",
       ".highlight .kn { color: #008000; font-weight: bold } /* Keyword.Namespace */\n",
       ".highlight .kp { color: #008000 } /* Keyword.Pseudo */\n",
       ".highlight .kr { color: #008000; font-weight: bold } /* Keyword.Reserved */\n",
       ".highlight .kt { color: #B00040 } /* Keyword.Type */\n",
       ".highlight .m { color: #666666 } /* Literal.Number */\n",
       ".highlight .s { color: #BA2121 } /* Literal.String */\n",
       ".highlight .na { color: #7D9029 } /* Name.Attribute */\n",
       ".highlight .nb { color: #008000 } /* Name.Builtin */\n",
       ".highlight .nc { color: #0000FF; font-weight: bold } /* Name.Class */\n",
       ".highlight .no { color: #880000 } /* Name.Constant */\n",
       ".highlight .nd { color: #AA22FF } /* Name.Decorator */\n",
       ".highlight .ni { color: #999999; font-weight: bold } /* Name.Entity */\n",
       ".highlight .ne { color: #D2413A; font-weight: bold } /* Name.Exception */\n",
       ".highlight .nf { color: #0000FF } /* Name.Function */\n",
       ".highlight .nl { color: #A0A000 } /* Name.Label */\n",
       ".highlight .nn { color: #0000FF; font-weight: bold } /* Name.Namespace */\n",
       ".highlight .nt { color: #008000; font-weight: bold } /* Name.Tag */\n",
       ".highlight .nv { color: #19177C } /* Name.Variable */\n",
       ".highlight .ow { color: #AA22FF; font-weight: bold } /* Operator.Word */\n",
       ".highlight .w { color: #bbbbbb } /* Text.Whitespace */\n",
       ".highlight .mb { color: #666666 } /* Literal.Number.Bin */\n",
       ".highlight .mf { color: #666666 } /* Literal.Number.Float */\n",
       ".highlight .mh { color: #666666 } /* Literal.Number.Hex */\n",
       ".highlight .mi { color: #666666 } /* Literal.Number.Integer */\n",
       ".highlight .mo { color: #666666 } /* Literal.Number.Oct */\n",
       ".highlight .sa { color: #BA2121 } /* Literal.String.Affix */\n",
       ".highlight .sb { color: #BA2121 } /* Literal.String.Backtick */\n",
       ".highlight .sc { color: #BA2121 } /* Literal.String.Char */\n",
       ".highlight .dl { color: #BA2121 } /* Literal.String.Delimiter */\n",
       ".highlight .sd { color: #BA2121; font-style: italic } /* Literal.String.Doc */\n",
       ".highlight .s2 { color: #BA2121 } /* Literal.String.Double */\n",
       ".highlight .se { color: #BB6622; font-weight: bold } /* Literal.String.Escape */\n",
       ".highlight .sh { color: #BA2121 } /* Literal.String.Heredoc */\n",
       ".highlight .si { color: #BB6688; font-weight: bold } /* Literal.String.Interpol */\n",
       ".highlight .sx { color: #008000 } /* Literal.String.Other */\n",
       ".highlight .sr { color: #BB6688 } /* Literal.String.Regex */\n",
       ".highlight .s1 { color: #BA2121 } /* Literal.String.Single */\n",
       ".highlight .ss { color: #19177C } /* Literal.String.Symbol */\n",
       ".highlight .bp { color: #008000 } /* Name.Builtin.Pseudo */\n",
       ".highlight .fm { color: #0000FF } /* Name.Function.Magic */\n",
       ".highlight .vc { color: #19177C } /* Name.Variable.Class */\n",
       ".highlight .vg { color: #19177C } /* Name.Variable.Global */\n",
       ".highlight .vi { color: #19177C } /* Name.Variable.Instance */\n",
       ".highlight .vm { color: #19177C } /* Name.Variable.Magic */\n",
       ".highlight .il { color: #666666 } /* Literal.Number.Integer.Long */\n",
       "        </style>\n",
       "        "
      ],
      "text/plain": [
       "<IPython.core.display.HTML object>"
      ]
     },
     "metadata": {},
     "output_type": "display_data"
    },
    {
     "data": {
      "text/html": [
       "<div class=\"highlight\"><pre><span></span><span class=\"lineno\">1 </span><span class=\"nv\">Answer</span><span class=\"s s-Atom\">:</span> <span class=\"mi\">1</span>\n",
       "<span class=\"lineno\">2 </span><span class=\"nf\">e</span><span class=\"p\">(</span><span class=\"s s-Atom\">a</span><span class=\"p\">,</span><span class=\"s s-Atom\">a</span><span class=\"p\">)</span> <span class=\"nf\">e</span><span class=\"p\">(</span><span class=\"s s-Atom\">a</span><span class=\"p\">,</span><span class=\"s s-Atom\">b</span><span class=\"p\">)</span> <span class=\"nf\">e</span><span class=\"p\">(</span><span class=\"s s-Atom\">b</span><span class=\"p\">,</span><span class=\"s s-Atom\">a</span><span class=\"p\">)</span> <span class=\"nf\">e</span><span class=\"p\">(</span><span class=\"s s-Atom\">b</span><span class=\"p\">,</span><span class=\"s s-Atom\">c</span><span class=\"p\">)</span> <span class=\"s s-Atom\">thop5</span> <span class=\"s s-Atom\">thop6</span> <span class=\"s s-Atom\">thop8</span> <span class=\"s s-Atom\">thop9</span> <span class=\"s s-Atom\">thop10</span> <span class=\"s s-Atom\">thop12</span> <span class=\"s s-Atom\">thop13</span>\n",
       "<span class=\"lineno\">3 </span><span class=\"nv\">SATISFIABLE</span>\n",
       "<span class=\"lineno\">4 </span>\n",
       "<span class=\"lineno\">5 </span><span class=\"nv\">Models</span>       <span class=\"s s-Atom\">:</span> <span class=\"mi\">1</span>\n",
       "<span class=\"lineno\">6 </span><span class=\"nv\">Calls</span>        <span class=\"s s-Atom\">:</span> <span class=\"mi\">1</span>\n",
       "<span class=\"lineno\">7 </span><span class=\"nv\">Time</span>         <span class=\"s s-Atom\">:</span> <span class=\"mf\">0.003</span><span class=\"nf\">s</span> <span class=\"p\">(</span><span class=\"nv\">Solving</span><span class=\"s s-Atom\">:</span> <span class=\"mf\">0.00</span><span class=\"s s-Atom\">s</span> <span class=\"mi\">1</span><span class=\"s s-Atom\">st</span> <span class=\"nv\">Model</span><span class=\"s s-Atom\">:</span> <span class=\"mf\">0.00</span><span class=\"s s-Atom\">s</span> <span class=\"nv\">Unsat</span><span class=\"s s-Atom\">:</span> <span class=\"mf\">0.00</span><span class=\"s s-Atom\">s</span><span class=\"p\">)</span>\n",
       "<span class=\"lineno\">8 </span><span class=\"nv\">CPU</span> <span class=\"nv\">Time</span>     <span class=\"s s-Atom\">:</span> <span class=\"mf\">0.003</span><span class=\"s s-Atom\">s</span>\n",
       "</pre></div>\n"
      ],
      "text/plain": [
       "'Answer: 1\\ne(a,a) e(a,b) e(b,a) e(b,c) thop5 thop6 thop8 thop9 thop10 thop12 thop13\\nSATISFIABLE\\n\\nModels       : 1\\nCalls        : 1\\nTime         : 0.003s (Solving: 0.00s 1st Model: 0.00s Unsat: 0.00s)\\nCPU Time     : 0.003s'"
      ]
     },
     "metadata": {},
     "output_type": "display_data"
    }
   ],
   "source": [
    "%%clingo --donot-display_input\n",
    "\n",
    "e(a,a).\n",
    "e(a,b).\n",
    "e(b,a).\n",
    "e(b,c).\n",
    "\n",
    "thop1 :- e(X,Z1), e(Z1,Z2), e(Z2,Y), X != Y, X != Z1, Y != Z1, X != Z2, Y != Z2, Z1 != Z2.\n",
    "thop2 :- e(X,Y), e(Y,Z2), e(Z2,Y), X != Y, X != Z2, Y != Z2.\n",
    "thop3 :- e(X,Z1), e(Z1,Y), e(Y,Y), X != Y, X != Z1, Y != Z1.\n",
    "thop4 :- e(X,Z1), e(Z1,Z1), e(Z1,Y), X != Y, X != Z1, Y != Z1.\n",
    "thop5 :- e(X,Y), e(Y,Y), e(Y,Y), X != Y.\n",
    "thop6 :- e(X,X), e(X,Z2), e(Z2,Y), X != Y, X != Z2, Y != Z2.\n",
    "thop7 :- e(X,X), e(X,Y), e(Y,Y), X != Y.\n",
    "thop8 :- e(X,Z1), e(Z1,X), e(X,Y), X != Y, X != Z1, Y != Z1.\n",
    "thop9 :- e(X,Y), e(Y,X), e(X,Y), X != Y.\n",
    "thop10 :- e(X,X), e(X,X), e(X,Y), X != Y.\n",
    "thop11 :- e(X,Z1), e(Z1,Z2), e(Z2,X), X != Z1, X != Z2, Z1 != Z2.\n",
    "thop12 :- e(X,X), e(X,Z2), e(Z2,X), X != Z2.\n",
    "thop13 :- e(X,X), e(X,X), e(X,X)."
   ]
  },
  {
   "cell_type": "code",
   "execution_count": 47,
   "metadata": {},
   "outputs": [
    {
     "name": "stdout",
     "output_type": "stream",
     "text": [
      "Output:\n"
     ]
    },
    {
     "data": {
      "text/html": [
       "\n",
       "        <style>\n",
       "        .highlight .hll { background-color: #ffffcc }\n",
       ".highlight  { background: #f8f8f8; }\n",
       ".highlight .c { color: #408080; font-style: italic } /* Comment */\n",
       ".highlight .err { border: 1px solid #FF0000 } /* Error */\n",
       ".highlight .k { color: #008000; font-weight: bold } /* Keyword */\n",
       ".highlight .o { color: #666666 } /* Operator */\n",
       ".highlight .ch { color: #408080; font-style: italic } /* Comment.Hashbang */\n",
       ".highlight .cm { color: #408080; font-style: italic } /* Comment.Multiline */\n",
       ".highlight .cp { color: #BC7A00 } /* Comment.Preproc */\n",
       ".highlight .cpf { color: #408080; font-style: italic } /* Comment.PreprocFile */\n",
       ".highlight .c1 { color: #408080; font-style: italic } /* Comment.Single */\n",
       ".highlight .cs { color: #408080; font-style: italic } /* Comment.Special */\n",
       ".highlight .gd { color: #A00000 } /* Generic.Deleted */\n",
       ".highlight .ge { font-style: italic } /* Generic.Emph */\n",
       ".highlight .gr { color: #FF0000 } /* Generic.Error */\n",
       ".highlight .gh { color: #000080; font-weight: bold } /* Generic.Heading */\n",
       ".highlight .gi { color: #00A000 } /* Generic.Inserted */\n",
       ".highlight .go { color: #888888 } /* Generic.Output */\n",
       ".highlight .gp { color: #000080; font-weight: bold } /* Generic.Prompt */\n",
       ".highlight .gs { font-weight: bold } /* Generic.Strong */\n",
       ".highlight .gu { color: #800080; font-weight: bold } /* Generic.Subheading */\n",
       ".highlight .gt { color: #0044DD } /* Generic.Traceback */\n",
       ".highlight .kc { color: #008000; font-weight: bold } /* Keyword.Constant */\n",
       ".highlight .kd { color: #008000; font-weight: bold } /* Keyword.Declaration */\n",
       ".highlight .kn { color: #008000; font-weight: bold } /* Keyword.Namespace */\n",
       ".highlight .kp { color: #008000 } /* Keyword.Pseudo */\n",
       ".highlight .kr { color: #008000; font-weight: bold } /* Keyword.Reserved */\n",
       ".highlight .kt { color: #B00040 } /* Keyword.Type */\n",
       ".highlight .m { color: #666666 } /* Literal.Number */\n",
       ".highlight .s { color: #BA2121 } /* Literal.String */\n",
       ".highlight .na { color: #7D9029 } /* Name.Attribute */\n",
       ".highlight .nb { color: #008000 } /* Name.Builtin */\n",
       ".highlight .nc { color: #0000FF; font-weight: bold } /* Name.Class */\n",
       ".highlight .no { color: #880000 } /* Name.Constant */\n",
       ".highlight .nd { color: #AA22FF } /* Name.Decorator */\n",
       ".highlight .ni { color: #999999; font-weight: bold } /* Name.Entity */\n",
       ".highlight .ne { color: #D2413A; font-weight: bold } /* Name.Exception */\n",
       ".highlight .nf { color: #0000FF } /* Name.Function */\n",
       ".highlight .nl { color: #A0A000 } /* Name.Label */\n",
       ".highlight .nn { color: #0000FF; font-weight: bold } /* Name.Namespace */\n",
       ".highlight .nt { color: #008000; font-weight: bold } /* Name.Tag */\n",
       ".highlight .nv { color: #19177C } /* Name.Variable */\n",
       ".highlight .ow { color: #AA22FF; font-weight: bold } /* Operator.Word */\n",
       ".highlight .w { color: #bbbbbb } /* Text.Whitespace */\n",
       ".highlight .mb { color: #666666 } /* Literal.Number.Bin */\n",
       ".highlight .mf { color: #666666 } /* Literal.Number.Float */\n",
       ".highlight .mh { color: #666666 } /* Literal.Number.Hex */\n",
       ".highlight .mi { color: #666666 } /* Literal.Number.Integer */\n",
       ".highlight .mo { color: #666666 } /* Literal.Number.Oct */\n",
       ".highlight .sa { color: #BA2121 } /* Literal.String.Affix */\n",
       ".highlight .sb { color: #BA2121 } /* Literal.String.Backtick */\n",
       ".highlight .sc { color: #BA2121 } /* Literal.String.Char */\n",
       ".highlight .dl { color: #BA2121 } /* Literal.String.Delimiter */\n",
       ".highlight .sd { color: #BA2121; font-style: italic } /* Literal.String.Doc */\n",
       ".highlight .s2 { color: #BA2121 } /* Literal.String.Double */\n",
       ".highlight .se { color: #BB6622; font-weight: bold } /* Literal.String.Escape */\n",
       ".highlight .sh { color: #BA2121 } /* Literal.String.Heredoc */\n",
       ".highlight .si { color: #BB6688; font-weight: bold } /* Literal.String.Interpol */\n",
       ".highlight .sx { color: #008000 } /* Literal.String.Other */\n",
       ".highlight .sr { color: #BB6688 } /* Literal.String.Regex */\n",
       ".highlight .s1 { color: #BA2121 } /* Literal.String.Single */\n",
       ".highlight .ss { color: #19177C } /* Literal.String.Symbol */\n",
       ".highlight .bp { color: #008000 } /* Name.Builtin.Pseudo */\n",
       ".highlight .fm { color: #0000FF } /* Name.Function.Magic */\n",
       ".highlight .vc { color: #19177C } /* Name.Variable.Class */\n",
       ".highlight .vg { color: #19177C } /* Name.Variable.Global */\n",
       ".highlight .vi { color: #19177C } /* Name.Variable.Instance */\n",
       ".highlight .vm { color: #19177C } /* Name.Variable.Magic */\n",
       ".highlight .il { color: #666666 } /* Literal.Number.Integer.Long */\n",
       "        </style>\n",
       "        "
      ],
      "text/plain": [
       "<IPython.core.display.HTML object>"
      ]
     },
     "metadata": {},
     "output_type": "display_data"
    },
    {
     "data": {
      "text/html": [
       "<div class=\"highlight\"><pre><span></span><span class=\"lineno\">1 </span><span class=\"nv\">Answer</span><span class=\"s s-Atom\">:</span> <span class=\"mi\">1</span>\n",
       "<span class=\"lineno\">2 </span><span class=\"nf\">e</span><span class=\"p\">(</span><span class=\"s s-Atom\">a</span><span class=\"p\">,</span><span class=\"s s-Atom\">a</span><span class=\"p\">)</span> <span class=\"nf\">e</span><span class=\"p\">(</span><span class=\"s s-Atom\">a</span><span class=\"p\">,</span><span class=\"s s-Atom\">b</span><span class=\"p\">)</span> <span class=\"nf\">e</span><span class=\"p\">(</span><span class=\"s s-Atom\">b</span><span class=\"p\">,</span><span class=\"s s-Atom\">a</span><span class=\"p\">)</span> <span class=\"nf\">e</span><span class=\"p\">(</span><span class=\"s s-Atom\">b</span><span class=\"p\">,</span><span class=\"s s-Atom\">c</span><span class=\"p\">)</span> <span class=\"nf\">e</span><span class=\"p\">(</span><span class=\"s s-Atom\">a</span><span class=\"p\">,</span><span class=\"s s-Atom\">d</span><span class=\"p\">)</span> <span class=\"nf\">e</span><span class=\"p\">(</span><span class=\"s s-Atom\">d</span><span class=\"p\">,</span><span class=\"s s-Atom\">c</span><span class=\"p\">)</span> <span class=\"nf\">thop6</span><span class=\"p\">(</span><span class=\"s s-Atom\">a</span><span class=\"p\">,</span><span class=\"s s-Atom\">c</span><span class=\"p\">)</span>\n",
       "<span class=\"lineno\">3 </span><span class=\"nv\">SATISFIABLE</span>\n",
       "<span class=\"lineno\">4 </span>\n",
       "<span class=\"lineno\">5 </span><span class=\"nv\">Models</span>       <span class=\"s s-Atom\">:</span> <span class=\"mi\">1</span>\n",
       "<span class=\"lineno\">6 </span><span class=\"nv\">Calls</span>        <span class=\"s s-Atom\">:</span> <span class=\"mi\">1</span>\n",
       "<span class=\"lineno\">7 </span><span class=\"nv\">Time</span>         <span class=\"s s-Atom\">:</span> <span class=\"mf\">0.001</span><span class=\"nf\">s</span> <span class=\"p\">(</span><span class=\"nv\">Solving</span><span class=\"s s-Atom\">:</span> <span class=\"mf\">0.00</span><span class=\"s s-Atom\">s</span> <span class=\"mi\">1</span><span class=\"s s-Atom\">st</span> <span class=\"nv\">Model</span><span class=\"s s-Atom\">:</span> <span class=\"mf\">0.00</span><span class=\"s s-Atom\">s</span> <span class=\"nv\">Unsat</span><span class=\"s s-Atom\">:</span> <span class=\"mf\">0.00</span><span class=\"s s-Atom\">s</span><span class=\"p\">)</span>\n",
       "<span class=\"lineno\">8 </span><span class=\"nv\">CPU</span> <span class=\"nv\">Time</span>     <span class=\"s s-Atom\">:</span> <span class=\"mf\">0.001</span><span class=\"s s-Atom\">s</span>\n",
       "</pre></div>\n"
      ],
      "text/plain": [
       "'Answer: 1\\ne(a,a) e(a,b) e(b,a) e(b,c) e(a,d) e(d,c) thop6(a,c)\\nSATISFIABLE\\n\\nModels       : 1\\nCalls        : 1\\nTime         : 0.001s (Solving: 0.00s 1st Model: 0.00s Unsat: 0.00s)\\nCPU Time     : 0.001s'"
      ]
     },
     "metadata": {},
     "output_type": "display_data"
    }
   ],
   "source": [
    "%%clingo --donot-display_input\n",
    "\n",
    "e(a,a).\n",
    "e(a,b).\n",
    "e(b,a).\n",
    "e(b,c).\n",
    "\n",
    "e(a,d).\n",
    "e(d,c).\n",
    "\n",
    "thop6(X,Y) :- e(X,X), e(X,Z2), e(Z2,Y), X != Y, X != Z2, Y != Z2."
   ]
  },
  {
   "cell_type": "code",
   "execution_count": 48,
   "metadata": {},
   "outputs": [
    {
     "name": "stdout",
     "output_type": "stream",
     "text": [
      "Output:\n"
     ]
    },
    {
     "data": {
      "text/html": [
       "\n",
       "        <style>\n",
       "        .highlight .hll { background-color: #ffffcc }\n",
       ".highlight  { background: #f8f8f8; }\n",
       ".highlight .c { color: #408080; font-style: italic } /* Comment */\n",
       ".highlight .err { border: 1px solid #FF0000 } /* Error */\n",
       ".highlight .k { color: #008000; font-weight: bold } /* Keyword */\n",
       ".highlight .o { color: #666666 } /* Operator */\n",
       ".highlight .ch { color: #408080; font-style: italic } /* Comment.Hashbang */\n",
       ".highlight .cm { color: #408080; font-style: italic } /* Comment.Multiline */\n",
       ".highlight .cp { color: #BC7A00 } /* Comment.Preproc */\n",
       ".highlight .cpf { color: #408080; font-style: italic } /* Comment.PreprocFile */\n",
       ".highlight .c1 { color: #408080; font-style: italic } /* Comment.Single */\n",
       ".highlight .cs { color: #408080; font-style: italic } /* Comment.Special */\n",
       ".highlight .gd { color: #A00000 } /* Generic.Deleted */\n",
       ".highlight .ge { font-style: italic } /* Generic.Emph */\n",
       ".highlight .gr { color: #FF0000 } /* Generic.Error */\n",
       ".highlight .gh { color: #000080; font-weight: bold } /* Generic.Heading */\n",
       ".highlight .gi { color: #00A000 } /* Generic.Inserted */\n",
       ".highlight .go { color: #888888 } /* Generic.Output */\n",
       ".highlight .gp { color: #000080; font-weight: bold } /* Generic.Prompt */\n",
       ".highlight .gs { font-weight: bold } /* Generic.Strong */\n",
       ".highlight .gu { color: #800080; font-weight: bold } /* Generic.Subheading */\n",
       ".highlight .gt { color: #0044DD } /* Generic.Traceback */\n",
       ".highlight .kc { color: #008000; font-weight: bold } /* Keyword.Constant */\n",
       ".highlight .kd { color: #008000; font-weight: bold } /* Keyword.Declaration */\n",
       ".highlight .kn { color: #008000; font-weight: bold } /* Keyword.Namespace */\n",
       ".highlight .kp { color: #008000 } /* Keyword.Pseudo */\n",
       ".highlight .kr { color: #008000; font-weight: bold } /* Keyword.Reserved */\n",
       ".highlight .kt { color: #B00040 } /* Keyword.Type */\n",
       ".highlight .m { color: #666666 } /* Literal.Number */\n",
       ".highlight .s { color: #BA2121 } /* Literal.String */\n",
       ".highlight .na { color: #7D9029 } /* Name.Attribute */\n",
       ".highlight .nb { color: #008000 } /* Name.Builtin */\n",
       ".highlight .nc { color: #0000FF; font-weight: bold } /* Name.Class */\n",
       ".highlight .no { color: #880000 } /* Name.Constant */\n",
       ".highlight .nd { color: #AA22FF } /* Name.Decorator */\n",
       ".highlight .ni { color: #999999; font-weight: bold } /* Name.Entity */\n",
       ".highlight .ne { color: #D2413A; font-weight: bold } /* Name.Exception */\n",
       ".highlight .nf { color: #0000FF } /* Name.Function */\n",
       ".highlight .nl { color: #A0A000 } /* Name.Label */\n",
       ".highlight .nn { color: #0000FF; font-weight: bold } /* Name.Namespace */\n",
       ".highlight .nt { color: #008000; font-weight: bold } /* Name.Tag */\n",
       ".highlight .nv { color: #19177C } /* Name.Variable */\n",
       ".highlight .ow { color: #AA22FF; font-weight: bold } /* Operator.Word */\n",
       ".highlight .w { color: #bbbbbb } /* Text.Whitespace */\n",
       ".highlight .mb { color: #666666 } /* Literal.Number.Bin */\n",
       ".highlight .mf { color: #666666 } /* Literal.Number.Float */\n",
       ".highlight .mh { color: #666666 } /* Literal.Number.Hex */\n",
       ".highlight .mi { color: #666666 } /* Literal.Number.Integer */\n",
       ".highlight .mo { color: #666666 } /* Literal.Number.Oct */\n",
       ".highlight .sa { color: #BA2121 } /* Literal.String.Affix */\n",
       ".highlight .sb { color: #BA2121 } /* Literal.String.Backtick */\n",
       ".highlight .sc { color: #BA2121 } /* Literal.String.Char */\n",
       ".highlight .dl { color: #BA2121 } /* Literal.String.Delimiter */\n",
       ".highlight .sd { color: #BA2121; font-style: italic } /* Literal.String.Doc */\n",
       ".highlight .s2 { color: #BA2121 } /* Literal.String.Double */\n",
       ".highlight .se { color: #BB6622; font-weight: bold } /* Literal.String.Escape */\n",
       ".highlight .sh { color: #BA2121 } /* Literal.String.Heredoc */\n",
       ".highlight .si { color: #BB6688; font-weight: bold } /* Literal.String.Interpol */\n",
       ".highlight .sx { color: #008000 } /* Literal.String.Other */\n",
       ".highlight .sr { color: #BB6688 } /* Literal.String.Regex */\n",
       ".highlight .s1 { color: #BA2121 } /* Literal.String.Single */\n",
       ".highlight .ss { color: #19177C } /* Literal.String.Symbol */\n",
       ".highlight .bp { color: #008000 } /* Name.Builtin.Pseudo */\n",
       ".highlight .fm { color: #0000FF } /* Name.Function.Magic */\n",
       ".highlight .vc { color: #19177C } /* Name.Variable.Class */\n",
       ".highlight .vg { color: #19177C } /* Name.Variable.Global */\n",
       ".highlight .vi { color: #19177C } /* Name.Variable.Instance */\n",
       ".highlight .vm { color: #19177C } /* Name.Variable.Magic */\n",
       ".highlight .il { color: #666666 } /* Literal.Number.Integer.Long */\n",
       "        </style>\n",
       "        "
      ],
      "text/plain": [
       "<IPython.core.display.HTML object>"
      ]
     },
     "metadata": {},
     "output_type": "display_data"
    },
    {
     "data": {
      "text/html": [
       "<div class=\"highlight\"><pre><span></span><span class=\"lineno\">1 </span><span class=\"nv\">Answer</span><span class=\"s s-Atom\">:</span> <span class=\"mi\">1</span>\n",
       "<span class=\"lineno\">2 </span><span class=\"nf\">e</span><span class=\"p\">(</span><span class=\"s s-Atom\">a</span><span class=\"p\">,</span><span class=\"s s-Atom\">a</span><span class=\"p\">)</span> <span class=\"nf\">e</span><span class=\"p\">(</span><span class=\"s s-Atom\">a</span><span class=\"p\">,</span><span class=\"s s-Atom\">b</span><span class=\"p\">)</span> <span class=\"nf\">e</span><span class=\"p\">(</span><span class=\"s s-Atom\">b</span><span class=\"p\">,</span><span class=\"s s-Atom\">a</span><span class=\"p\">)</span> <span class=\"nf\">e</span><span class=\"p\">(</span><span class=\"s s-Atom\">b</span><span class=\"p\">,</span><span class=\"s s-Atom\">c</span><span class=\"p\">)</span> <span class=\"nf\">e</span><span class=\"p\">(</span><span class=\"s s-Atom\">a</span><span class=\"p\">,</span><span class=\"s s-Atom\">d</span><span class=\"p\">)</span> <span class=\"nf\">e</span><span class=\"p\">(</span><span class=\"s s-Atom\">d</span><span class=\"p\">,</span><span class=\"s s-Atom\">c</span><span class=\"p\">)</span> <span class=\"nf\">thop6</span><span class=\"p\">(</span><span class=\"s s-Atom\">a</span><span class=\"p\">,</span><span class=\"s s-Atom\">a</span><span class=\"p\">,</span><span class=\"s s-Atom\">b</span><span class=\"p\">,</span><span class=\"s s-Atom\">c</span><span class=\"p\">)</span> <span class=\"nf\">thop6</span><span class=\"p\">(</span><span class=\"s s-Atom\">a</span><span class=\"p\">,</span><span class=\"s s-Atom\">a</span><span class=\"p\">,</span><span class=\"s s-Atom\">d</span><span class=\"p\">,</span><span class=\"s s-Atom\">c</span><span class=\"p\">)</span>\n",
       "<span class=\"lineno\">3 </span><span class=\"nv\">SATISFIABLE</span>\n",
       "<span class=\"lineno\">4 </span>\n",
       "<span class=\"lineno\">5 </span><span class=\"nv\">Models</span>       <span class=\"s s-Atom\">:</span> <span class=\"mi\">1</span>\n",
       "<span class=\"lineno\">6 </span><span class=\"nv\">Calls</span>        <span class=\"s s-Atom\">:</span> <span class=\"mi\">1</span>\n",
       "<span class=\"lineno\">7 </span><span class=\"nv\">Time</span>         <span class=\"s s-Atom\">:</span> <span class=\"mf\">0.001</span><span class=\"nf\">s</span> <span class=\"p\">(</span><span class=\"nv\">Solving</span><span class=\"s s-Atom\">:</span> <span class=\"mf\">0.00</span><span class=\"s s-Atom\">s</span> <span class=\"mi\">1</span><span class=\"s s-Atom\">st</span> <span class=\"nv\">Model</span><span class=\"s s-Atom\">:</span> <span class=\"mf\">0.00</span><span class=\"s s-Atom\">s</span> <span class=\"nv\">Unsat</span><span class=\"s s-Atom\">:</span> <span class=\"mf\">0.00</span><span class=\"s s-Atom\">s</span><span class=\"p\">)</span>\n",
       "<span class=\"lineno\">8 </span><span class=\"nv\">CPU</span> <span class=\"nv\">Time</span>     <span class=\"s s-Atom\">:</span> <span class=\"mf\">0.001</span><span class=\"s s-Atom\">s</span>\n",
       "</pre></div>\n"
      ],
      "text/plain": [
       "'Answer: 1\\ne(a,a) e(a,b) e(b,a) e(b,c) e(a,d) e(d,c) thop6(a,a,b,c) thop6(a,a,d,c)\\nSATISFIABLE\\n\\nModels       : 1\\nCalls        : 1\\nTime         : 0.001s (Solving: 0.00s 1st Model: 0.00s Unsat: 0.00s)\\nCPU Time     : 0.001s'"
      ]
     },
     "metadata": {},
     "output_type": "display_data"
    }
   ],
   "source": [
    "%%clingo --donot-display_input\n",
    "\n",
    "e(a,a).\n",
    "e(a,b).\n",
    "e(b,a).\n",
    "e(b,c).\n",
    "\n",
    "e(a,d).\n",
    "e(d,c).\n",
    "\n",
    "thop6(X,X,Z2,Y) :- e(X,X), e(X,Z2), e(Z2,Y), X != Y, X != Z2, Y != Z2."
   ]
  },
  {
   "cell_type": "code",
   "execution_count": 52,
   "metadata": {},
   "outputs": [
    {
     "name": "stdout",
     "output_type": "stream",
     "text": [
      "Output:\n"
     ]
    },
    {
     "data": {
      "text/html": [
       "\n",
       "        <style>\n",
       "        .highlight .hll { background-color: #ffffcc }\n",
       ".highlight  { background: #f8f8f8; }\n",
       ".highlight .c { color: #408080; font-style: italic } /* Comment */\n",
       ".highlight .err { border: 1px solid #FF0000 } /* Error */\n",
       ".highlight .k { color: #008000; font-weight: bold } /* Keyword */\n",
       ".highlight .o { color: #666666 } /* Operator */\n",
       ".highlight .ch { color: #408080; font-style: italic } /* Comment.Hashbang */\n",
       ".highlight .cm { color: #408080; font-style: italic } /* Comment.Multiline */\n",
       ".highlight .cp { color: #BC7A00 } /* Comment.Preproc */\n",
       ".highlight .cpf { color: #408080; font-style: italic } /* Comment.PreprocFile */\n",
       ".highlight .c1 { color: #408080; font-style: italic } /* Comment.Single */\n",
       ".highlight .cs { color: #408080; font-style: italic } /* Comment.Special */\n",
       ".highlight .gd { color: #A00000 } /* Generic.Deleted */\n",
       ".highlight .ge { font-style: italic } /* Generic.Emph */\n",
       ".highlight .gr { color: #FF0000 } /* Generic.Error */\n",
       ".highlight .gh { color: #000080; font-weight: bold } /* Generic.Heading */\n",
       ".highlight .gi { color: #00A000 } /* Generic.Inserted */\n",
       ".highlight .go { color: #888888 } /* Generic.Output */\n",
       ".highlight .gp { color: #000080; font-weight: bold } /* Generic.Prompt */\n",
       ".highlight .gs { font-weight: bold } /* Generic.Strong */\n",
       ".highlight .gu { color: #800080; font-weight: bold } /* Generic.Subheading */\n",
       ".highlight .gt { color: #0044DD } /* Generic.Traceback */\n",
       ".highlight .kc { color: #008000; font-weight: bold } /* Keyword.Constant */\n",
       ".highlight .kd { color: #008000; font-weight: bold } /* Keyword.Declaration */\n",
       ".highlight .kn { color: #008000; font-weight: bold } /* Keyword.Namespace */\n",
       ".highlight .kp { color: #008000 } /* Keyword.Pseudo */\n",
       ".highlight .kr { color: #008000; font-weight: bold } /* Keyword.Reserved */\n",
       ".highlight .kt { color: #B00040 } /* Keyword.Type */\n",
       ".highlight .m { color: #666666 } /* Literal.Number */\n",
       ".highlight .s { color: #BA2121 } /* Literal.String */\n",
       ".highlight .na { color: #7D9029 } /* Name.Attribute */\n",
       ".highlight .nb { color: #008000 } /* Name.Builtin */\n",
       ".highlight .nc { color: #0000FF; font-weight: bold } /* Name.Class */\n",
       ".highlight .no { color: #880000 } /* Name.Constant */\n",
       ".highlight .nd { color: #AA22FF } /* Name.Decorator */\n",
       ".highlight .ni { color: #999999; font-weight: bold } /* Name.Entity */\n",
       ".highlight .ne { color: #D2413A; font-weight: bold } /* Name.Exception */\n",
       ".highlight .nf { color: #0000FF } /* Name.Function */\n",
       ".highlight .nl { color: #A0A000 } /* Name.Label */\n",
       ".highlight .nn { color: #0000FF; font-weight: bold } /* Name.Namespace */\n",
       ".highlight .nt { color: #008000; font-weight: bold } /* Name.Tag */\n",
       ".highlight .nv { color: #19177C } /* Name.Variable */\n",
       ".highlight .ow { color: #AA22FF; font-weight: bold } /* Operator.Word */\n",
       ".highlight .w { color: #bbbbbb } /* Text.Whitespace */\n",
       ".highlight .mb { color: #666666 } /* Literal.Number.Bin */\n",
       ".highlight .mf { color: #666666 } /* Literal.Number.Float */\n",
       ".highlight .mh { color: #666666 } /* Literal.Number.Hex */\n",
       ".highlight .mi { color: #666666 } /* Literal.Number.Integer */\n",
       ".highlight .mo { color: #666666 } /* Literal.Number.Oct */\n",
       ".highlight .sa { color: #BA2121 } /* Literal.String.Affix */\n",
       ".highlight .sb { color: #BA2121 } /* Literal.String.Backtick */\n",
       ".highlight .sc { color: #BA2121 } /* Literal.String.Char */\n",
       ".highlight .dl { color: #BA2121 } /* Literal.String.Delimiter */\n",
       ".highlight .sd { color: #BA2121; font-style: italic } /* Literal.String.Doc */\n",
       ".highlight .s2 { color: #BA2121 } /* Literal.String.Double */\n",
       ".highlight .se { color: #BB6622; font-weight: bold } /* Literal.String.Escape */\n",
       ".highlight .sh { color: #BA2121 } /* Literal.String.Heredoc */\n",
       ".highlight .si { color: #BB6688; font-weight: bold } /* Literal.String.Interpol */\n",
       ".highlight .sx { color: #008000 } /* Literal.String.Other */\n",
       ".highlight .sr { color: #BB6688 } /* Literal.String.Regex */\n",
       ".highlight .s1 { color: #BA2121 } /* Literal.String.Single */\n",
       ".highlight .ss { color: #19177C } /* Literal.String.Symbol */\n",
       ".highlight .bp { color: #008000 } /* Name.Builtin.Pseudo */\n",
       ".highlight .fm { color: #0000FF } /* Name.Function.Magic */\n",
       ".highlight .vc { color: #19177C } /* Name.Variable.Class */\n",
       ".highlight .vg { color: #19177C } /* Name.Variable.Global */\n",
       ".highlight .vi { color: #19177C } /* Name.Variable.Instance */\n",
       ".highlight .vm { color: #19177C } /* Name.Variable.Magic */\n",
       ".highlight .il { color: #666666 } /* Literal.Number.Integer.Long */\n",
       "        </style>\n",
       "        "
      ],
      "text/plain": [
       "<IPython.core.display.HTML object>"
      ]
     },
     "metadata": {},
     "output_type": "display_data"
    },
    {
     "data": {
      "text/html": [
       "<div class=\"highlight\"><pre><span></span><span class=\"lineno\">1 </span><span class=\"nv\">Answer</span><span class=\"s s-Atom\">:</span> <span class=\"mi\">1</span>\n",
       "<span class=\"lineno\">2 </span><span class=\"nf\">e</span><span class=\"p\">(</span><span class=\"s s-Atom\">a</span><span class=\"p\">,</span><span class=\"s s-Atom\">a</span><span class=\"p\">)</span> <span class=\"nf\">e</span><span class=\"p\">(</span><span class=\"s s-Atom\">a</span><span class=\"p\">,</span><span class=\"s s-Atom\">b</span><span class=\"p\">)</span> <span class=\"nf\">e</span><span class=\"p\">(</span><span class=\"s s-Atom\">b</span><span class=\"p\">,</span><span class=\"s s-Atom\">a</span><span class=\"p\">)</span> <span class=\"nf\">e</span><span class=\"p\">(</span><span class=\"s s-Atom\">b</span><span class=\"p\">,</span><span class=\"s s-Atom\">c</span><span class=\"p\">)</span> <span class=\"nf\">thop12_1</span><span class=\"p\">(</span><span class=\"s s-Atom\">a</span><span class=\"p\">,</span><span class=\"s s-Atom\">a</span><span class=\"p\">)</span> <span class=\"nf\">thop12_2</span><span class=\"p\">(</span><span class=\"s s-Atom\">a</span><span class=\"p\">,</span><span class=\"s s-Atom\">a</span><span class=\"p\">)</span> <span class=\"nf\">thop12_3</span><span class=\"p\">(</span><span class=\"s s-Atom\">b</span><span class=\"p\">,</span><span class=\"s s-Atom\">b</span><span class=\"p\">)</span>\n",
       "<span class=\"lineno\">3 </span><span class=\"nv\">SATISFIABLE</span>\n",
       "<span class=\"lineno\">4 </span>\n",
       "<span class=\"lineno\">5 </span><span class=\"nv\">Models</span>       <span class=\"s s-Atom\">:</span> <span class=\"mi\">1</span>\n",
       "<span class=\"lineno\">6 </span><span class=\"nv\">Calls</span>        <span class=\"s s-Atom\">:</span> <span class=\"mi\">1</span>\n",
       "<span class=\"lineno\">7 </span><span class=\"nv\">Time</span>         <span class=\"s s-Atom\">:</span> <span class=\"mf\">0.001</span><span class=\"nf\">s</span> <span class=\"p\">(</span><span class=\"nv\">Solving</span><span class=\"s s-Atom\">:</span> <span class=\"mf\">0.00</span><span class=\"s s-Atom\">s</span> <span class=\"mi\">1</span><span class=\"s s-Atom\">st</span> <span class=\"nv\">Model</span><span class=\"s s-Atom\">:</span> <span class=\"mf\">0.00</span><span class=\"s s-Atom\">s</span> <span class=\"nv\">Unsat</span><span class=\"s s-Atom\">:</span> <span class=\"mf\">0.00</span><span class=\"s s-Atom\">s</span><span class=\"p\">)</span>\n",
       "<span class=\"lineno\">8 </span><span class=\"nv\">CPU</span> <span class=\"nv\">Time</span>     <span class=\"s s-Atom\">:</span> <span class=\"mf\">0.001</span><span class=\"s s-Atom\">s</span>\n",
       "</pre></div>\n"
      ],
      "text/plain": [
       "'Answer: 1\\ne(a,a) e(a,b) e(b,a) e(b,c) thop12_1(a,a) thop12_2(a,a) thop12_3(b,b)\\nSATISFIABLE\\n\\nModels       : 1\\nCalls        : 1\\nTime         : 0.001s (Solving: 0.00s 1st Model: 0.00s Unsat: 0.00s)\\nCPU Time     : 0.001s'"
      ]
     },
     "metadata": {},
     "output_type": "display_data"
    }
   ],
   "source": [
    "%%clingo --donot-display_input\n",
    "\n",
    "e(a,a).\n",
    "e(a,b).\n",
    "e(b,a).\n",
    "e(b,c).\n",
    "\n",
    "thop12_1(X,X) :- e(X,X), e(X,Z2), e(Z2,X), X != Z2.\n",
    "thop12_2(X,X) :- e(X,Z1), e(Z1,X), e(X,X), X != Z1.\n",
    "thop12_3(X,X) :- e(X,Z1), e(Z1,Z1), e(Z1,X), X != Z1."
   ]
  },
  {
   "cell_type": "code",
   "execution_count": 54,
   "metadata": {},
   "outputs": [
    {
     "name": "stdout",
     "output_type": "stream",
     "text": [
      "Output:\n"
     ]
    },
    {
     "data": {
      "text/html": [
       "\n",
       "        <style>\n",
       "        .highlight .hll { background-color: #ffffcc }\n",
       ".highlight  { background: #f8f8f8; }\n",
       ".highlight .c { color: #408080; font-style: italic } /* Comment */\n",
       ".highlight .err { border: 1px solid #FF0000 } /* Error */\n",
       ".highlight .k { color: #008000; font-weight: bold } /* Keyword */\n",
       ".highlight .o { color: #666666 } /* Operator */\n",
       ".highlight .ch { color: #408080; font-style: italic } /* Comment.Hashbang */\n",
       ".highlight .cm { color: #408080; font-style: italic } /* Comment.Multiline */\n",
       ".highlight .cp { color: #BC7A00 } /* Comment.Preproc */\n",
       ".highlight .cpf { color: #408080; font-style: italic } /* Comment.PreprocFile */\n",
       ".highlight .c1 { color: #408080; font-style: italic } /* Comment.Single */\n",
       ".highlight .cs { color: #408080; font-style: italic } /* Comment.Special */\n",
       ".highlight .gd { color: #A00000 } /* Generic.Deleted */\n",
       ".highlight .ge { font-style: italic } /* Generic.Emph */\n",
       ".highlight .gr { color: #FF0000 } /* Generic.Error */\n",
       ".highlight .gh { color: #000080; font-weight: bold } /* Generic.Heading */\n",
       ".highlight .gi { color: #00A000 } /* Generic.Inserted */\n",
       ".highlight .go { color: #888888 } /* Generic.Output */\n",
       ".highlight .gp { color: #000080; font-weight: bold } /* Generic.Prompt */\n",
       ".highlight .gs { font-weight: bold } /* Generic.Strong */\n",
       ".highlight .gu { color: #800080; font-weight: bold } /* Generic.Subheading */\n",
       ".highlight .gt { color: #0044DD } /* Generic.Traceback */\n",
       ".highlight .kc { color: #008000; font-weight: bold } /* Keyword.Constant */\n",
       ".highlight .kd { color: #008000; font-weight: bold } /* Keyword.Declaration */\n",
       ".highlight .kn { color: #008000; font-weight: bold } /* Keyword.Namespace */\n",
       ".highlight .kp { color: #008000 } /* Keyword.Pseudo */\n",
       ".highlight .kr { color: #008000; font-weight: bold } /* Keyword.Reserved */\n",
       ".highlight .kt { color: #B00040 } /* Keyword.Type */\n",
       ".highlight .m { color: #666666 } /* Literal.Number */\n",
       ".highlight .s { color: #BA2121 } /* Literal.String */\n",
       ".highlight .na { color: #7D9029 } /* Name.Attribute */\n",
       ".highlight .nb { color: #008000 } /* Name.Builtin */\n",
       ".highlight .nc { color: #0000FF; font-weight: bold } /* Name.Class */\n",
       ".highlight .no { color: #880000 } /* Name.Constant */\n",
       ".highlight .nd { color: #AA22FF } /* Name.Decorator */\n",
       ".highlight .ni { color: #999999; font-weight: bold } /* Name.Entity */\n",
       ".highlight .ne { color: #D2413A; font-weight: bold } /* Name.Exception */\n",
       ".highlight .nf { color: #0000FF } /* Name.Function */\n",
       ".highlight .nl { color: #A0A000 } /* Name.Label */\n",
       ".highlight .nn { color: #0000FF; font-weight: bold } /* Name.Namespace */\n",
       ".highlight .nt { color: #008000; font-weight: bold } /* Name.Tag */\n",
       ".highlight .nv { color: #19177C } /* Name.Variable */\n",
       ".highlight .ow { color: #AA22FF; font-weight: bold } /* Operator.Word */\n",
       ".highlight .w { color: #bbbbbb } /* Text.Whitespace */\n",
       ".highlight .mb { color: #666666 } /* Literal.Number.Bin */\n",
       ".highlight .mf { color: #666666 } /* Literal.Number.Float */\n",
       ".highlight .mh { color: #666666 } /* Literal.Number.Hex */\n",
       ".highlight .mi { color: #666666 } /* Literal.Number.Integer */\n",
       ".highlight .mo { color: #666666 } /* Literal.Number.Oct */\n",
       ".highlight .sa { color: #BA2121 } /* Literal.String.Affix */\n",
       ".highlight .sb { color: #BA2121 } /* Literal.String.Backtick */\n",
       ".highlight .sc { color: #BA2121 } /* Literal.String.Char */\n",
       ".highlight .dl { color: #BA2121 } /* Literal.String.Delimiter */\n",
       ".highlight .sd { color: #BA2121; font-style: italic } /* Literal.String.Doc */\n",
       ".highlight .s2 { color: #BA2121 } /* Literal.String.Double */\n",
       ".highlight .se { color: #BB6622; font-weight: bold } /* Literal.String.Escape */\n",
       ".highlight .sh { color: #BA2121 } /* Literal.String.Heredoc */\n",
       ".highlight .si { color: #BB6688; font-weight: bold } /* Literal.String.Interpol */\n",
       ".highlight .sx { color: #008000 } /* Literal.String.Other */\n",
       ".highlight .sr { color: #BB6688 } /* Literal.String.Regex */\n",
       ".highlight .s1 { color: #BA2121 } /* Literal.String.Single */\n",
       ".highlight .ss { color: #19177C } /* Literal.String.Symbol */\n",
       ".highlight .bp { color: #008000 } /* Name.Builtin.Pseudo */\n",
       ".highlight .fm { color: #0000FF } /* Name.Function.Magic */\n",
       ".highlight .vc { color: #19177C } /* Name.Variable.Class */\n",
       ".highlight .vg { color: #19177C } /* Name.Variable.Global */\n",
       ".highlight .vi { color: #19177C } /* Name.Variable.Instance */\n",
       ".highlight .vm { color: #19177C } /* Name.Variable.Magic */\n",
       ".highlight .il { color: #666666 } /* Literal.Number.Integer.Long */\n",
       "        </style>\n",
       "        "
      ],
      "text/plain": [
       "<IPython.core.display.HTML object>"
      ]
     },
     "metadata": {},
     "output_type": "display_data"
    },
    {
     "data": {
      "text/html": [
       "<div class=\"highlight\"><pre><span></span><span class=\"lineno\">1 </span><span class=\"nv\">Answer</span><span class=\"s s-Atom\">:</span> <span class=\"mi\">1</span>\n",
       "<span class=\"lineno\">2 </span><span class=\"nf\">e</span><span class=\"p\">(</span><span class=\"s s-Atom\">a</span><span class=\"p\">,</span><span class=\"s s-Atom\">a</span><span class=\"p\">)</span> <span class=\"nf\">e</span><span class=\"p\">(</span><span class=\"s s-Atom\">a</span><span class=\"p\">,</span><span class=\"s s-Atom\">b</span><span class=\"p\">)</span> <span class=\"nf\">e</span><span class=\"p\">(</span><span class=\"s s-Atom\">b</span><span class=\"p\">,</span><span class=\"s s-Atom\">a</span><span class=\"p\">)</span> <span class=\"nf\">e</span><span class=\"p\">(</span><span class=\"s s-Atom\">b</span><span class=\"p\">,</span><span class=\"s s-Atom\">c</span><span class=\"p\">)</span> <span class=\"nf\">thop12_1</span><span class=\"p\">(</span><span class=\"s s-Atom\">a</span><span class=\"p\">,</span><span class=\"s s-Atom\">a</span><span class=\"p\">,</span><span class=\"s s-Atom\">b</span><span class=\"p\">,</span><span class=\"s s-Atom\">a</span><span class=\"p\">)</span> <span class=\"nf\">thop12_2</span><span class=\"p\">(</span><span class=\"s s-Atom\">a</span><span class=\"p\">,</span><span class=\"s s-Atom\">b</span><span class=\"p\">,</span><span class=\"s s-Atom\">a</span><span class=\"p\">,</span><span class=\"s s-Atom\">a</span><span class=\"p\">)</span> <span class=\"nf\">thop12_3</span><span class=\"p\">(</span><span class=\"s s-Atom\">b</span><span class=\"p\">,</span><span class=\"s s-Atom\">a</span><span class=\"p\">,</span><span class=\"s s-Atom\">a</span><span class=\"p\">,</span><span class=\"s s-Atom\">b</span><span class=\"p\">)</span>\n",
       "<span class=\"lineno\">3 </span><span class=\"nv\">SATISFIABLE</span>\n",
       "<span class=\"lineno\">4 </span>\n",
       "<span class=\"lineno\">5 </span><span class=\"nv\">Models</span>       <span class=\"s s-Atom\">:</span> <span class=\"mi\">1</span>\n",
       "<span class=\"lineno\">6 </span><span class=\"nv\">Calls</span>        <span class=\"s s-Atom\">:</span> <span class=\"mi\">1</span>\n",
       "<span class=\"lineno\">7 </span><span class=\"nv\">Time</span>         <span class=\"s s-Atom\">:</span> <span class=\"mf\">0.001</span><span class=\"nf\">s</span> <span class=\"p\">(</span><span class=\"nv\">Solving</span><span class=\"s s-Atom\">:</span> <span class=\"mf\">0.00</span><span class=\"s s-Atom\">s</span> <span class=\"mi\">1</span><span class=\"s s-Atom\">st</span> <span class=\"nv\">Model</span><span class=\"s s-Atom\">:</span> <span class=\"mf\">0.00</span><span class=\"s s-Atom\">s</span> <span class=\"nv\">Unsat</span><span class=\"s s-Atom\">:</span> <span class=\"mf\">0.00</span><span class=\"s s-Atom\">s</span><span class=\"p\">)</span>\n",
       "<span class=\"lineno\">8 </span><span class=\"nv\">CPU</span> <span class=\"nv\">Time</span>     <span class=\"s s-Atom\">:</span> <span class=\"mf\">0.001</span><span class=\"s s-Atom\">s</span>\n",
       "</pre></div>\n"
      ],
      "text/plain": [
       "'Answer: 1\\ne(a,a) e(a,b) e(b,a) e(b,c) thop12_1(a,a,b,a) thop12_2(a,b,a,a) thop12_3(b,a,a,b)\\nSATISFIABLE\\n\\nModels       : 1\\nCalls        : 1\\nTime         : 0.001s (Solving: 0.00s 1st Model: 0.00s Unsat: 0.00s)\\nCPU Time     : 0.001s'"
      ]
     },
     "metadata": {},
     "output_type": "display_data"
    }
   ],
   "source": [
    "%%clingo --donot-display_input\n",
    "\n",
    "e(a,a).\n",
    "e(a,b).\n",
    "e(b,a).\n",
    "e(b,c).\n",
    "\n",
    "thop12_1(X,X,Z2,X) :- e(X,X), e(X,Z2), e(Z2,X), X != Z2.\n",
    "thop12_2(X,Z1,X,X) :- e(X,Z1), e(Z1,X), e(X,X), X != Z1.\n",
    "thop12_3(X,Z1,Z1,X) :- e(X,Z1), e(Z1,Z1), e(Z1,X), X != Z1."
   ]
  },
  {
   "cell_type": "code",
   "execution_count": 55,
   "metadata": {},
   "outputs": [
    {
     "name": "stdout",
     "output_type": "stream",
     "text": [
      "Output:\n"
     ]
    },
    {
     "data": {
      "text/html": [
       "\n",
       "        <style>\n",
       "        .highlight .hll { background-color: #ffffcc }\n",
       ".highlight  { background: #f8f8f8; }\n",
       ".highlight .c { color: #408080; font-style: italic } /* Comment */\n",
       ".highlight .err { border: 1px solid #FF0000 } /* Error */\n",
       ".highlight .k { color: #008000; font-weight: bold } /* Keyword */\n",
       ".highlight .o { color: #666666 } /* Operator */\n",
       ".highlight .ch { color: #408080; font-style: italic } /* Comment.Hashbang */\n",
       ".highlight .cm { color: #408080; font-style: italic } /* Comment.Multiline */\n",
       ".highlight .cp { color: #BC7A00 } /* Comment.Preproc */\n",
       ".highlight .cpf { color: #408080; font-style: italic } /* Comment.PreprocFile */\n",
       ".highlight .c1 { color: #408080; font-style: italic } /* Comment.Single */\n",
       ".highlight .cs { color: #408080; font-style: italic } /* Comment.Special */\n",
       ".highlight .gd { color: #A00000 } /* Generic.Deleted */\n",
       ".highlight .ge { font-style: italic } /* Generic.Emph */\n",
       ".highlight .gr { color: #FF0000 } /* Generic.Error */\n",
       ".highlight .gh { color: #000080; font-weight: bold } /* Generic.Heading */\n",
       ".highlight .gi { color: #00A000 } /* Generic.Inserted */\n",
       ".highlight .go { color: #888888 } /* Generic.Output */\n",
       ".highlight .gp { color: #000080; font-weight: bold } /* Generic.Prompt */\n",
       ".highlight .gs { font-weight: bold } /* Generic.Strong */\n",
       ".highlight .gu { color: #800080; font-weight: bold } /* Generic.Subheading */\n",
       ".highlight .gt { color: #0044DD } /* Generic.Traceback */\n",
       ".highlight .kc { color: #008000; font-weight: bold } /* Keyword.Constant */\n",
       ".highlight .kd { color: #008000; font-weight: bold } /* Keyword.Declaration */\n",
       ".highlight .kn { color: #008000; font-weight: bold } /* Keyword.Namespace */\n",
       ".highlight .kp { color: #008000 } /* Keyword.Pseudo */\n",
       ".highlight .kr { color: #008000; font-weight: bold } /* Keyword.Reserved */\n",
       ".highlight .kt { color: #B00040 } /* Keyword.Type */\n",
       ".highlight .m { color: #666666 } /* Literal.Number */\n",
       ".highlight .s { color: #BA2121 } /* Literal.String */\n",
       ".highlight .na { color: #7D9029 } /* Name.Attribute */\n",
       ".highlight .nb { color: #008000 } /* Name.Builtin */\n",
       ".highlight .nc { color: #0000FF; font-weight: bold } /* Name.Class */\n",
       ".highlight .no { color: #880000 } /* Name.Constant */\n",
       ".highlight .nd { color: #AA22FF } /* Name.Decorator */\n",
       ".highlight .ni { color: #999999; font-weight: bold } /* Name.Entity */\n",
       ".highlight .ne { color: #D2413A; font-weight: bold } /* Name.Exception */\n",
       ".highlight .nf { color: #0000FF } /* Name.Function */\n",
       ".highlight .nl { color: #A0A000 } /* Name.Label */\n",
       ".highlight .nn { color: #0000FF; font-weight: bold } /* Name.Namespace */\n",
       ".highlight .nt { color: #008000; font-weight: bold } /* Name.Tag */\n",
       ".highlight .nv { color: #19177C } /* Name.Variable */\n",
       ".highlight .ow { color: #AA22FF; font-weight: bold } /* Operator.Word */\n",
       ".highlight .w { color: #bbbbbb } /* Text.Whitespace */\n",
       ".highlight .mb { color: #666666 } /* Literal.Number.Bin */\n",
       ".highlight .mf { color: #666666 } /* Literal.Number.Float */\n",
       ".highlight .mh { color: #666666 } /* Literal.Number.Hex */\n",
       ".highlight .mi { color: #666666 } /* Literal.Number.Integer */\n",
       ".highlight .mo { color: #666666 } /* Literal.Number.Oct */\n",
       ".highlight .sa { color: #BA2121 } /* Literal.String.Affix */\n",
       ".highlight .sb { color: #BA2121 } /* Literal.String.Backtick */\n",
       ".highlight .sc { color: #BA2121 } /* Literal.String.Char */\n",
       ".highlight .dl { color: #BA2121 } /* Literal.String.Delimiter */\n",
       ".highlight .sd { color: #BA2121; font-style: italic } /* Literal.String.Doc */\n",
       ".highlight .s2 { color: #BA2121 } /* Literal.String.Double */\n",
       ".highlight .se { color: #BB6622; font-weight: bold } /* Literal.String.Escape */\n",
       ".highlight .sh { color: #BA2121 } /* Literal.String.Heredoc */\n",
       ".highlight .si { color: #BB6688; font-weight: bold } /* Literal.String.Interpol */\n",
       ".highlight .sx { color: #008000 } /* Literal.String.Other */\n",
       ".highlight .sr { color: #BB6688 } /* Literal.String.Regex */\n",
       ".highlight .s1 { color: #BA2121 } /* Literal.String.Single */\n",
       ".highlight .ss { color: #19177C } /* Literal.String.Symbol */\n",
       ".highlight .bp { color: #008000 } /* Name.Builtin.Pseudo */\n",
       ".highlight .fm { color: #0000FF } /* Name.Function.Magic */\n",
       ".highlight .vc { color: #19177C } /* Name.Variable.Class */\n",
       ".highlight .vg { color: #19177C } /* Name.Variable.Global */\n",
       ".highlight .vi { color: #19177C } /* Name.Variable.Instance */\n",
       ".highlight .vm { color: #19177C } /* Name.Variable.Magic */\n",
       ".highlight .il { color: #666666 } /* Literal.Number.Integer.Long */\n",
       "        </style>\n",
       "        "
      ],
      "text/plain": [
       "<IPython.core.display.HTML object>"
      ]
     },
     "metadata": {},
     "output_type": "display_data"
    },
    {
     "data": {
      "text/html": [
       "<div class=\"highlight\"><pre><span></span><span class=\"lineno\">1 </span><span class=\"nv\">Answer</span><span class=\"s s-Atom\">:</span> <span class=\"mi\">1</span>\n",
       "<span class=\"lineno\">2 </span><span class=\"nf\">e</span><span class=\"p\">(</span><span class=\"s s-Atom\">a</span><span class=\"p\">,</span><span class=\"s s-Atom\">a</span><span class=\"p\">)</span> <span class=\"nf\">e</span><span class=\"p\">(</span><span class=\"s s-Atom\">a</span><span class=\"p\">,</span><span class=\"s s-Atom\">b</span><span class=\"p\">)</span> <span class=\"nf\">e</span><span class=\"p\">(</span><span class=\"s s-Atom\">b</span><span class=\"p\">,</span><span class=\"s s-Atom\">a</span><span class=\"p\">)</span> <span class=\"nf\">e</span><span class=\"p\">(</span><span class=\"s s-Atom\">b</span><span class=\"p\">,</span><span class=\"s s-Atom\">c</span><span class=\"p\">)</span> <span class=\"s s-Atom\">thop12_1</span> <span class=\"s s-Atom\">thop12_2</span> <span class=\"s s-Atom\">thop12_3</span>\n",
       "<span class=\"lineno\">3 </span><span class=\"nv\">SATISFIABLE</span>\n",
       "<span class=\"lineno\">4 </span>\n",
       "<span class=\"lineno\">5 </span><span class=\"nv\">Models</span>       <span class=\"s s-Atom\">:</span> <span class=\"mi\">1</span>\n",
       "<span class=\"lineno\">6 </span><span class=\"nv\">Calls</span>        <span class=\"s s-Atom\">:</span> <span class=\"mi\">1</span>\n",
       "<span class=\"lineno\">7 </span><span class=\"nv\">Time</span>         <span class=\"s s-Atom\">:</span> <span class=\"mf\">0.001</span><span class=\"nf\">s</span> <span class=\"p\">(</span><span class=\"nv\">Solving</span><span class=\"s s-Atom\">:</span> <span class=\"mf\">0.00</span><span class=\"s s-Atom\">s</span> <span class=\"mi\">1</span><span class=\"s s-Atom\">st</span> <span class=\"nv\">Model</span><span class=\"s s-Atom\">:</span> <span class=\"mf\">0.00</span><span class=\"s s-Atom\">s</span> <span class=\"nv\">Unsat</span><span class=\"s s-Atom\">:</span> <span class=\"mf\">0.00</span><span class=\"s s-Atom\">s</span><span class=\"p\">)</span>\n",
       "<span class=\"lineno\">8 </span><span class=\"nv\">CPU</span> <span class=\"nv\">Time</span>     <span class=\"s s-Atom\">:</span> <span class=\"mf\">0.001</span><span class=\"s s-Atom\">s</span>\n",
       "</pre></div>\n"
      ],
      "text/plain": [
       "'Answer: 1\\ne(a,a) e(a,b) e(b,a) e(b,c) thop12_1 thop12_2 thop12_3\\nSATISFIABLE\\n\\nModels       : 1\\nCalls        : 1\\nTime         : 0.001s (Solving: 0.00s 1st Model: 0.00s Unsat: 0.00s)\\nCPU Time     : 0.001s'"
      ]
     },
     "metadata": {},
     "output_type": "display_data"
    }
   ],
   "source": [
    "%%clingo --donot-display_input\n",
    "\n",
    "e(a,a).\n",
    "e(a,b).\n",
    "e(b,a).\n",
    "e(b,c).\n",
    "\n",
    "thop12_1 :- e(X,X), e(X,Z2), e(Z2,X), X != Z2.\n",
    "thop12_2 :- e(X,Z1), e(Z1,X), e(X,X), X != Z1.\n",
    "thop12_3 :- e(X,Z1), e(Z1,Z1), e(Z1,X), X != Z1."
   ]
  },
  {
   "cell_type": "code",
   "execution_count": null,
   "metadata": {},
   "outputs": [],
   "source": []
  },
  {
   "cell_type": "code",
   "execution_count": null,
   "metadata": {},
   "outputs": [],
   "source": []
  },
  {
   "cell_type": "code",
   "execution_count": null,
   "metadata": {},
   "outputs": [],
   "source": [
    "#### ROUGH --- FROM DEV #####"
   ]
  },
  {
   "cell_type": "code",
   "execution_count": null,
   "metadata": {},
   "outputs": [],
   "source": []
  },
  {
   "cell_type": "code",
   "execution_count": null,
   "metadata": {},
   "outputs": [],
   "source": [
    "def match(a,b):\n",
    "    if (a==1 and b==3) or (a==1 and b==5) or (a==2 and b==4):\n",
    "        return True\n",
    "    return False"
   ]
  },
  {
   "cell_type": "code",
   "execution_count": null,
   "metadata": {},
   "outputs": [],
   "source": [
    "sets = []\n",
    "\n",
    "curr_iter_list = [1,2,3,4,5,6]\n",
    "while len(curr_iter_list) > 0:\n",
    "    print(\"curr_iter_list:\", curr_iter_list)\n",
    "    next_iter_list = []\n",
    "    seed = curr_iter_list[0]\n",
    "    print(\"seed:\", seed)\n",
    "    curr_set = {seed}\n",
    "    for c in curr_iter_list[1:]:\n",
    "        if match(seed, c):\n",
    "            curr_set.add(c)\n",
    "            print(\"Match\", seed, c)\n",
    "        else:\n",
    "            next_iter_list.append(c)\n",
    "    sets.append(curr_set)\n",
    "    curr_iter_list = next_iter_list\n",
    "\n",
    "sets"
   ]
  },
  {
   "cell_type": "markdown",
   "metadata": {},
   "source": [
    "// Helpful: https://stackoverflow.com/questions/44274518/how-can-i-control-within-level-node-order-in-graphvizs-dot\n",
    "\n",
    "digraph test{\n",
    "\n",
    "rankdir = LR;\n",
    "label = PW12;\n",
    "\n",
    "// make invisible ranks\n",
    "rankRuleNode [style=invisible];\n",
    "\n",
    "rankRedundantVars [style=invis];\n",
    "rankVars [style=invis];\n",
    "\n",
    "TRI [shape=box color=red style=filled];\n",
    "E1 [color=green style=filled];\n",
    "E2 [color=red style=filled];\n",
    "E3 [color=red style=filled];\n",
    "\n",
    "rankRedundantVars  -> rankVars -> rankRuleNode [style=invis];\n",
    "\n",
    "// declare nodes all out of desired order\n",
    "\n",
    "X -> E3 [constraint = false label=1];\n",
    "X -> E3 [constraint = false label=2];\n",
    "X -> E1 [constraint = false label=1];\n",
    "Y -> E1 [constraint = false label=2];\n",
    "Y -> E2 [constraint = false label=1];\n",
    "Y -> E2 [constraint = false label=2];\n",
    "X -> TRI [constraint = false label=1];\n",
    "X -> TRI [constraint = false label=3];\n",
    "Y -> TRI [constraint = false label=2];\n",
    "\n",
    "Z -> X [constraint=true style=dotted color=green];\n",
    "\n",
    "{\n",
    "rank = same;\n",
    "// Here you enforce the desired order with \"invisible\" edges and arrowheads\n",
    "rankVars -> X -> Y [ style=invis ];\n",
    "rankdir = TB;\n",
    "}\n",
    "\n",
    "{\n",
    "rank = same;\n",
    "// Here you enforce the desired order with \"invisible\" edges and arrowheads\n",
    "rankRedundantVars -> Z [ style=invis ];\n",
    "rankdir = TB;\n",
    "}\n",
    "\n",
    "\n",
    "{\n",
    "rank = same;\n",
    "// Here you enforce the desired order with \"invisible\" edges and arrowheads\n",
    "rankRuleNode -> TRI -> E1 -> E2 -> E3 [ style=invis ];\n",
    "rankdir = TB;\n",
    "}\n",
    "\n",
    "\n",
    "}"
   ]
  },
  {
   "cell_type": "code",
   "execution_count": null,
   "metadata": {},
   "outputs": [],
   "source": [
    "html_print(cstr(' '.join([cstr('HELLO', 'blue'), cstr('WORLD', 'red')])))"
   ]
  },
  {
   "cell_type": "code",
   "execution_count": null,
   "metadata": {
    "scrolled": true
   },
   "outputs": [],
   "source": [
    "%%clingo --donot-display_input -exp query_analysis\n",
    "\n",
    "% schema var(VAR, DOMAIN).\n",
    "var(\"X\", node).\n",
    "var(\"Y\", node).\n",
    "var(\"Z\", node).\n",
    "\n",
    "% schema ruleOcc(ATOM_OCC).\n",
    "ruleOcc(\"e1\"). % ruleOcc(\"e1\", 2) instead? 2 == arity\n",
    "ruleOcc(\"e2\").\n",
    "ruleOcc(\"e3\").\n",
    "ruleOcc(\"tri\").\n",
    "\n",
    "% schema ruleOccTrue(ATOM_OCC)\n",
    "ruleOccTrue(ROC) ; not ruleOccTrue(ROC) :- ruleOcc(ROC), ROC != \"tri\".\n",
    "ruleOccTrue(\"tri\") :- ruleOccTrue(\"e1\"), ruleOccTrue(\"e2\"), ruleOccTrue(\"e3\").\n",
    "\n",
    "% schema eqether(VAR1, VAR2, DOMAIN) --> eq()\n",
    "% should eq(A,A) be a thing?\n",
    "eq(A,B,TYPE) ; not eq(A,B,TYPE) :- var(A, TYPE), var(B, TYPE), A!=B.\n",
    "eq(A,B,TYPE) :- eq(B,A,TYPE).\n",
    "eq(A,B,TYPE) :- eq(A,C,TYPE), eq(C,B,TYPE), A!=B, B!=C, A!=C.\n",
    "\n",
    "eqOrd(A,B,TYPE) :- eq(A,B,TYPE), A<B.\n",
    "\n",
    "% schema arc(VAR, POSITION, ATOM_OCC)\n",
    "arc(\"X\", 1, \"e1\").\n",
    "arc(\"Y\", 2, \"e1\").\n",
    "arc(\"Y\", 1, \"e2\").\n",
    "arc(\"Z\", 2, \"e2\").\n",
    "arc(\"Z\", 1, \"e3\").\n",
    "arc(\"X\", 2, \"e3\").\n",
    "arc(\"X\", 1, \"tri\").\n",
    "arc(\"Y\", 2, \"tri\").\n",
    "arc(\"Z\", 3, \"tri\").\n",
    "\n",
    "% Find the new arcs, getting rid of the redundancies\n",
    "newArc(VAR, POS, ATOM_OCC) :- arc(VAR_ORIG, POS, ATOM_OCC), eqOrd(VAR,VAR_ORIG,TYPE), not eqOrd(_,VAR,TYPE).\n",
    "newArc(VAR, POS, ATOM_OCC) :- arc(VAR, POS, ATOM_OCC), not eqOrd(_,VAR,_).\n",
    "\n",
    "\n",
    "% It cannot be true that e1 and e2 have the same variable assignments but one is True while other is False\n",
    ":- newArc(V1, 1, \"e1\"), newArc(V2, 2, \"e1\"), newArc(V1, 1, \"e2\"), newArc(V2, 2, \"e2\"), ruleOccTrue(\"e1\"), not ruleOccTrue(\"e2\").\n",
    ":- newArc(V1, 1, \"e1\"), newArc(V2, 2, \"e1\"), newArc(V1, 1, \"e2\"), newArc(V2, 2, \"e2\"), ruleOccTrue(\"e2\"), not ruleOccTrue(\"e1\").\n",
    "\n",
    ":- newArc(V1, 1, \"e2\"), newArc(V2, 2, \"e2\"), newArc(V1, 1, \"e3\"), newArc(V2, 2, \"e3\"), ruleOccTrue(\"e2\"), not ruleOccTrue(\"e3\").\n",
    ":- newArc(V1, 1, \"e2\"), newArc(V2, 2, \"e2\"), newArc(V1, 1, \"e3\"), newArc(V2, 2, \"e3\"), ruleOccTrue(\"e3\"), not ruleOccTrue(\"e2\").\n",
    "\n",
    ":- newArc(V1, 1, \"e1\"), newArc(V2, 2, \"e1\"), newArc(V1, 1, \"e3\"), newArc(V2, 2, \"e3\"), ruleOccTrue(\"e1\"), not ruleOccTrue(\"e3\").\n",
    ":- newArc(V1, 1, \"e1\"), newArc(V2, 2, \"e1\"), newArc(V1, 1, \"e3\"), newArc(V2, 2, \"e3\"), ruleOccTrue(\"e3\"), not ruleOccTrue(\"e1\").\n",
    "\n",
    "% New inferred edges\n",
    "e(V1,V2) :- newArc(V1,1,\"e1\"), newArc(V2,2,\"e1\"), ruleOccTrue(\"e1\").\n",
    "e(V1,V2) :- newArc(V1,1,\"e2\"), newArc(V2,2,\"e2\"), ruleOccTrue(\"e2\").\n",
    "e(V1,V2) :- newArc(V1,1,\"e3\"), newArc(V2,2,\"e3\"), ruleOccTrue(\"e3\").\n",
    "\n",
    "ne(V1,V2) :- newArc(V1,1,\"e1\"), newArc(V2,2,\"e1\"), not ruleOccTrue(\"e1\").\n",
    "ne(V1,V2) :- newArc(V1,1,\"e2\"), newArc(V2,2,\"e2\"), not ruleOccTrue(\"e2\").\n",
    "ne(V1,V2) :- newArc(V1,1,\"e3\"), newArc(V2,2,\"e3\"), not ruleOccTrue(\"e3\").\n",
    "\n",
    "% Given these inferred edges, can a triangle exist?\n",
    "tri(V1,V2,V3) :- e(V1,V2), e(V2,V3), e(V3,V1).\n",
    "triExists :- tri(_,_,_).\n",
    "\n",
    "%graphviz graph graph_type=directed rankdir=LR\n",
    "%graphviz edge newArc(HEAD, _, TAIL) label=$2\n",
    "%graphviz node ruleOccTrue(N) color=green\n",
    "\n",
    "% :- not ruleOccTrue(\"tri\").\n",
    "\n",
    "% :- triExists, not ruleOccTrue(\"tri\"). % --> The exact assignment doesn't work, but some alignment does.\n",
    "\n",
    "\n",
    "#show ruleOccTrue/1.\n",
    "% #show eqOrd/3.\n",
    "#show newArc/3.\n",
    "#show e/2.\n",
    "#show ne/2.\n",
    "#show triExists/0.\n",
    "#show tri/3.\n",
    "\n",
    "\n",
    "\n",
    "\n"
   ]
  },
  {
   "cell_type": "code",
   "execution_count": null,
   "metadata": {
    "scrolled": true
   },
   "outputs": [],
   "source": [
    "temp_df = query_analysis['pw_rel_dfs']['eqOrdMinimal_3']\n",
    "temp_df = temp_df[temp_df['pw'] == 15]\n",
    "temp_df"
   ]
  },
  {
   "cell_type": "code",
   "execution_count": null,
   "metadata": {},
   "outputs": [],
   "source": [
    "p = temp_df.groupby(['VAR1'])"
   ]
  },
  {
   "cell_type": "code",
   "execution_count": null,
   "metadata": {},
   "outputs": [],
   "source": [
    "p.groups"
   ]
  },
  {
   "cell_type": "code",
   "execution_count": null,
   "metadata": {},
   "outputs": [],
   "source": [
    "for k, v in p.groups.items():\n",
    "    for i in v:\n",
    "        print(temp_df.loc[i]['VAR2'])"
   ]
  },
  {
   "cell_type": "code",
   "execution_count": null,
   "metadata": {},
   "outputs": [],
   "source": [
    "# query_analysis['pw_rel_dfs'], query_analysis['rel_schema'], query_analysis['pw_objs'] = load_worlds(query_analysis['asp_soln'],\n",
    "#                                                                                         query_analysis['meta_data'])\n",
    "\n",
    "\n"
   ]
  },
  {
   "cell_type": "code",
   "execution_count": null,
   "metadata": {
    "scrolled": true
   },
   "outputs": [],
   "source": [
    "# for i in range(1, len(query_analysis['pw_objs'])+1):\n",
    "#     print(\"PW:\", i)\n",
    "#     pw_rel_dfs = pw_slicer(query_analysis['pw_rel_dfs'], None, [i])[0]\n",
    "    \n",
    "    \n",
    "#     g = nx.MultiDiGraph()\n",
    "#     g.graph['rankdir'] = 'LR'\n",
    "    \n",
    "#     g.add_node('\"tri\"')\n",
    "    \n",
    "#     for _, row in pw_rel_dfs['newArc_3'].iterrows():\n",
    "#         g.add_edge(row['x1'], row['x3'], label=row['x2'])\n",
    "#     for n in ['\"e1\"', '\"e2\"', '\"e3\"', '\"tri\"']:\n",
    "#         g.nodes[n]['color'] = 'red'\n",
    "#     for _, row in pw_rel_dfs['ruleOccTrue_1'].iterrows():\n",
    "#         g.nodes[row['ATOM_OCC']]['color'] = 'green'\n",
    "        \n",
    "#     display(draw(g))\n",
    "    \n",
    "#     g = nx.MultiDiGraph()\n",
    "    \n",
    "    \n",
    "#     if '\"tri\"' in list(pw_rel_dfs['ruleOccTrue_1']['ATOM_OCC']):\n",
    "#         print(\"Success Pattern:\")\n",
    "#     else:\n",
    "#         print(\"Failure Pattern:\")\n",
    "        \n",
    "#     if len(pw_rel_dfs['triExists_0']) > 0:\n",
    "#         print(\"Triangle Exists\")\n",
    "    \n",
    "#     for _, row in pw_rel_dfs['e_2'].iterrows():\n",
    "#         g.add_edge(row['x1'], row['x2'])\n",
    "# #     for _, row in pw_rel_dfs['ne_2'].iterrows():\n",
    "# #         g.add_edge(row['x1'], row['x2'], color='red', style='dotted')\n",
    "    \n",
    "    \n",
    "#     display(draw(g))"
   ]
  },
  {
   "cell_type": "code",
   "execution_count": null,
   "metadata": {},
   "outputs": [],
   "source": [
    "%%clingo --donot-display_input --donot-run\n",
    "\n",
    "% schema var(VAR, DOMAIN).\n",
    "var(\"X\", node).\n",
    "var(\"Y\", node).\n",
    "var(\"Z\", node).\n",
    "\n",
    "tog(A,B,TYPE) ; not tog(A,B,TYPE) :- var(A, TYPE), var(B, TYPE), A!=B.\n",
    "tog(A,B,TYPE) :- tog(B,A,TYPE).\n",
    "tog(A,B,TYPE) :- tog(A,C,TYPE), tog(C,B,TYPE), A!=B, B!=C, A!=C.\n",
    "\n",
    "togOrd(A,B,TYPE) :- tog(A,B,TYPE), A<B.\n",
    "\n",
    "newVar(A, TYPE) :- var(A, TYPE), not togOrd(_,A,TYPE).\n",
    "\n",
    "\n",
    "#show newVar/2.\n",
    "#show togOrd/3.\n",
    "\n"
   ]
  },
  {
   "cell_type": "code",
   "execution_count": null,
   "metadata": {},
   "outputs": [],
   "source": [
    "%%clingo --donot-display_input -exp query_analysis\n",
    "\n",
    "% schema var(VAR, DOMAIN).\n",
    "var(\"X\", node).\n",
    "var(\"Y\", node).\n",
    "var(\"Z\", node).\n",
    "\n",
    "% schema ruleOcc(ATOM, OCC).\n",
    "ruleOcc(\"e\", 1..3).\n",
    "\n",
    "% schema ruleH(HEAD)\n",
    "ruleH(\"tri\").\n",
    "\n",
    "% schema ruleOccTrue(ATOM, OCC)\n",
    "ruleOccTrue(R, OC) ; not ruleOccTrue(R, OC) :- ruleOcc(R, OC).\n",
    "\n",
    "% schema ruleHTrue(HEAD)\n",
    "ruleHFalse(H) :- ruleH(H), ruleOcc(R, OCC), not ruleOccTrue(R,OCC).\n",
    "ruleHTrue(H)  :- ruleH(H), not ruleHFalse(H).\n",
    "\n",
    "% schema eq(VAR1, VAR2, DOMAIN)\n",
    "eq(A,B,TYPE) ; not eq(A,B,TYPE) :- var(A, TYPE), var(B, TYPE), A!=B.\n",
    "eq(A,B,TYPE) :- eq(B,A,TYPE).\n",
    "eq(A,B,TYPE) :- eq(A,C,TYPE), eq(C,B,TYPE), A!=B, B!=C, A!=C.\n",
    "\n",
    "% schema eqOrd(VAR1, VAR2, DOMAIN)\n",
    "eqOrd(A,B,TYPE) :- eq(A,B,TYPE), A<B.\n",
    "\n",
    "% schema arc(VAR, POS, ATOM, OCC)\n",
    "arc(\"X\", 1, \"e\", 1).\n",
    "arc(\"Y\", 2, \"e\", 1).\n",
    "arc(\"Y\", 1, \"e\", 2).\n",
    "arc(\"Z\", 2, \"e\", 2).\n",
    "arc(\"Z\", 1, \"e\", 3).\n",
    "arc(\"X\", 2, \"e\", 3).\n",
    "\n",
    "% schema hArc(VAR, POS, HEAD)\n",
    "hArc(\"X\", 1, \"tri\") :- ruleH(\"tri\").\n",
    "hArc(\"Y\", 2, \"tri\") :- ruleH(\"tri\").\n",
    "hArc(\"Z\", 3, \"tri\") :- ruleH(\"tri\").\n",
    "\n",
    "% Find the new arcs, getting rid of the redundancies\n",
    "\n",
    "% schema newArc(VAR, POS, ATOM, OCC)\n",
    "newArc(VAR, POS, ATOM, OCC) :- arc(VAR_ORIG, POS, ATOM, OCC), eqOrd(VAR,VAR_ORIG,TYPE), not eqOrd(_,VAR,TYPE).\n",
    "newArc(VAR, POS, ATOM, OCC) :- arc(VAR, POS, ATOM, OCC), not eqOrd(_,VAR,_).\n",
    "\n",
    "% schema newHArc(VAR, POS, HEAD)\n",
    "newHArc(VAR, POS, H) :- hArc(VAR_ORIG,POS,H), eqOrd(VAR,VAR_ORIG,TYPE), not eqOrd(_,VAR,TYPE).\n",
    "newHArc(VAR, POS, H) :- hArc(VAR, POS, H), not eqOrd(_,VAR,_).\n",
    "\n",
    "% It cannot be true that eX and eY have the same variable assignments but one is True while other is False\n",
    ":- newArc(V1, 1, \"e\", OCC1), newArc(V2, 2, \"e\", OCC1), newArc(V1, 1, \"e\", OCC2), newArc(V2, 2, \"e\", OCC2), ruleOccTrue(\"e\", OCC1), not ruleOccTrue(\"e\", OCC2). \n",
    "\n",
    "eqAtomOccOrd(\"e\", OCC1, OCC2) :- newArc(V1, 1, \"e\", OCC1), newArc(V2, 2, \"e\", OCC1), newArc(V1, 1, \"e\", OCC2), newArc(V2, 2, \"e\", OCC2), OCC1<OCC2.\n",
    "eqAtomOccOrd(\"e\", OCC1, OCC3) :- eqAtomOccOrd(\"e\", OCC1, OCC2), eqAtomOccOrd(\"e\", OCC2, OCC3).\n",
    "\n",
    "fAtom(\"e\", V1, V2) :- newArc(V1, 1, \"e\", OCC1), newArc(V2, 2, \"e\", OCC1), not eqAtomOccOrd(\"e\",_,OCC1).\n",
    "\n",
    "\n",
    "% New inferred edges\n",
    "% schema e(NODE1, NODE2)\n",
    "e(V1,V2) :- newArc(V1, 1, \"e\", OCC), newArc(V2, 2, \"e\", OCC), ruleOccTrue(\"e\", OCC).\n",
    "\n",
    "% New inferred missing edges\n",
    "% schema ne(NODE1, NODE2)\n",
    "ne(V1,V2) :- newArc(V1, 1, \"e\", OCC), newArc(V2, 2, \"e\", OCC), not ruleOccTrue(\"e\", OCC).\n",
    "\n",
    "\n",
    "% Given these inferred edges, can a triangle exist?\n",
    "% tri(V1,V2,V3) :- e(V1,V2), e(V2,V3), e(V3,V1).\n",
    "% triExists :- tri(_,_,_).\n",
    "\n",
    "%graphviz graph graph_type=directed rankdir=LR\n",
    "%graphviz edge newArc(HEAD, _, TAIL) label=$2\n",
    "%graphviz node ruleOccTrue(N) color=green\n",
    "\n",
    "% :- not ruleOccTrue(\"tri\").\n",
    "\n",
    "\n",
    "#show ruleOccTrue/2.\n",
    "#show var/2.\n",
    "#show ruleOcc/2.\n",
    "#show ruleH/1.\n",
    "#show eqOrd/3.\n",
    "#show newArc/4.\n",
    "#show newHArc/3.\n",
    "#show e/2.\n",
    "#show ne/2.We \n",
    "#show eqAtomOccOrd/3.\n",
    "#show fAtom/3.\n",
    "% #show triExists/0.\n",
    "% #show tri/3.\n",
    "#show ruleHTrue/1.\n",
    "\n",
    "\n",
    "\n",
    "\n",
    "\n",
    "\n"
   ]
  },
  {
   "cell_type": "code",
   "execution_count": null,
   "metadata": {},
   "outputs": [],
   "source": [
    "%%clingo --donot-display_input -exp query_analysis\n",
    "\n",
    "% schema var(VAR, DOMAIN).\n",
    "var(\"X\", node).\n",
    "var(\"Y\", node).\n",
    "var(\"Z\", node).\n",
    "\n",
    "% schema eq(VAR1, VAR2, DOMAIN)\n",
    "eq(A,A,TYPE) :- var(A,TYPE).\n",
    "eq(A,B,TYPE) ; not eq(A,B,TYPE) :- var(A, TYPE), var(B, TYPE).\n",
    "eq(A,B,TYPE) :- eq(B,A,TYPE).\n",
    "eq(A,B,TYPE) :- eq(A,C,TYPE), eq(C,B,TYPE).\n",
    "\n",
    "% schema eqOrd(VAR1, VAR2, DOMAIN)\n",
    "eqOrd(A,B,TYPE) :- eq(A,B,TYPE), A<=B.\n",
    "\n",
    "% schema ruleOcc(ATOM, OCC).\n",
    "ruleOcc(\"e\", 1..3).\n",
    "\n",
    "% schema ruleH(HEAD)\n",
    "ruleH(\"tri\").\n",
    "\n",
    "% ruleOccEq(R, OCC, OCC) :- ruleOcc(R, OCC).\n",
    "% ruleOccEq(R, OCC1, OCC2) ; not ruleOccEq(R, OCC1, OCC2) :- ruleOcc(R, OCC1), ruleOcc(R, OCC2).\n",
    "% ruleOccEq(R, OCC1, OCC2) :- ruleOccEq(R, OCC2, OCC1).\n",
    "% ruleOccEq(R, OCC1, OCC2) :- ruleOccEq(R, OCC1, OCC3), ruleOccEq(R, OCC3, OCC2).\n",
    "\n",
    "% ruleOccEqOrd(R, OCC1, OCC2) :- ruleOccEq(R, OCC1, OCC2), OCC1 < OCC2.\n",
    "\n",
    "% schema arc(VAR, POS, ATOM, OCC)\n",
    "arc(\"X\", 1, \"e\", 1).\n",
    "arc(\"Y\", 2, \"e\", 1).\n",
    "arc(\"Y\", 1, \"e\", 2).\n",
    "arc(\"Z\", 2, \"e\", 2).\n",
    "arc(\"Z\", 1, \"e\", 3).\n",
    "arc(\"X\", 2, \"e\", 3).\n",
    "\n",
    "e(V1,V2) :- arc(V1, 1, \"e\", OCC), arc(V2, 2, \"e\", OCC).\n",
    "e(V1,V2) :- e(V3,V4), eq(V1,V3,TYPE1), eq(V2,V4,TYPE2).\n",
    "\n",
    "% arc(V1, 1, \"e\", OCC) :- e(V1, _), ruleOcc(\"e\", OCC). \n",
    "% arc(V2, 2, \"e\", OCC) :- e(_, V2), ruleOcc(\"e\", OCC). \n",
    "\n",
    "% schema hArc(VAR, POS, HEAD)\n",
    "hArc(\"X\", 1, \"tri\") :- ruleH(\"tri\").\n",
    "hArc(\"Y\", 2, \"tri\") :- ruleH(\"tri\").\n",
    "hArc(\"Z\", 3, \"tri\") :- ruleH(\"tri\").\n",
    "\n",
    "#show eqOrd/3.\n",
    "#show e/2.\n",
    "% #show arc/4.\n",
    "\n",
    "\n",
    "\n"
   ]
  },
  {
   "cell_type": "code",
   "execution_count": null,
   "metadata": {},
   "outputs": [],
   "source": [
    "#     heads = {h: {} for h in set(pw_rel_dfs['ruleH_1']['HEAD'])}\n",
    "#     rules = {}\n",
    "#     for _, p in pw_rel_dfs['ruleOcc_2'][['ATOM', 'OCC']].iterrows():\n",
    "#         rules[(p['ATOM'], int(p['OCC']))] = {}\n",
    "    \n",
    "#     true_heads = set(pw_rel_dfs['ruleHTrue_1']['HEAD'])\n",
    "#     true_rules = set([])\n",
    "#     for _, p in pw_rel_dfs['ruleOccTrue_2'][['ATOM', 'OCC']].iterrows():\n",
    "#         true_rules.add((p['ATOM'], int(p['OCC'])))\n",
    "    \n",
    "#     for _, row in pw_rel_dfs['hArc_3'].iterrows():\n",
    "#         pos = int(row['POS'])\n",
    "#         h = row['HEAD']\n",
    "#         var = row['VAR']\n",
    "#         heads[h][pos] = var\n",
    "#     for _, row in pw_rel_dfs['arc_4'].iterrows():\n",
    "#         rule = (row['ATOM'], int(row['OCC']))\n",
    "#         pos = int(row['POS'])\n",
    "#         var = row['VAR']\n",
    "#         rules[rule][pos] = var\n",
    "        \n",
    "#     # print(heads, rules, true_heads, true_rules)\n",
    "    \n",
    "#     heads_htmls = []\n",
    "#     for h in sorted(heads.keys()):\n",
    "#         variables = [heads[h][k] for k in sorted(heads[h].keys())]\n",
    "#         is_true = h in true_heads\n",
    "#         h_str = '{}{}({})'.format('' if is_true else 'n', head_to_node(h), ','.join(variables))\n",
    "#         heads_htmls.append(cstr(h_str, 'green' if is_true else 'red'))\n",
    "    \n",
    "    \n",
    "#     rules_htmls = []\n",
    "#     for (r, occ) in sorted(rules.keys()):\n",
    "#         variables = [rules[(r,occ)][k] for k in sorted(rules[(r,occ)].keys())]\n",
    "#         is_true = (r,occ) in true_rules\n",
    "#         r_str = '{}{}({})'.format('' if is_true else 'not ', head_to_node(r), ','.join(variables))\n",
    "#         rules_htmls.append(cstr(r_str, 'green' if is_true else 'red'))\n",
    "    \n",
    "    # display(html_print(cstr(' '.join(heads_htmls + rules_htmls))))"
   ]
  },
  {
   "cell_type": "code",
   "execution_count": null,
   "metadata": {},
   "outputs": [],
   "source": [
    "#     heads = {h: {} for h in set(pw_rel_dfs['ruleH_1']['HEAD'])}\n",
    "#     rules = {}\n",
    "#     for _, p in pw_rel_dfs['ruleOcc_2'][['ATOM', 'OCC']].iterrows():\n",
    "#         rules[(p['ATOM'], int(p['OCC']))] = {}\n",
    "    \n",
    "#     true_heads = set(pw_rel_dfs['ruleHTrue_1']['HEAD'])\n",
    "#     true_rules = set([])\n",
    "#     for _, p in pw_rel_dfs['ruleOccTrue_2'][['ATOM', 'OCC']].iterrows():\n",
    "#         true_rules.add((p['ATOM'], int(p['OCC'])))\n",
    "    \n",
    "#     for _, row in pw_rel_dfs['newHArc_3'].iterrows():\n",
    "#         pos = int(row['POS'])\n",
    "#         h = row['HEAD']\n",
    "#         var = row['VAR']\n",
    "#         heads[h][pos] = var\n",
    "#     for _, row in pw_rel_dfs['newArc_4'].iterrows():\n",
    "#         rule = (row['ATOM'], int(row['OCC']))\n",
    "#         pos = int(row['POS'])\n",
    "#         var = row['VAR']\n",
    "#         rules[rule][pos] = var\n",
    "        \n",
    "#     # print(heads, rules, true_heads, true_rules)\n",
    "    \n",
    "#     heads_htmls = []\n",
    "#     for h in sorted(heads.keys()):\n",
    "#         variables = [heads[h][k] for k in sorted(heads[h].keys())]\n",
    "#         is_true = h in true_heads\n",
    "#         h_str = '{}{}({})'.format('' if is_true else 'n', head_to_node(h), ','.join(variables))\n",
    "#         heads_htmls.append(cstr(h_str, 'green' if is_true else 'red'))\n",
    "    \n",
    "    \n",
    "#     rules_htmls = []\n",
    "#     for (r, occ) in sorted(rules.keys()):\n",
    "#         variables = [rules[(r,occ)][k] for k in sorted(rules[(r,occ)].keys())]\n",
    "#         is_true = (r,occ) in true_rules\n",
    "#         r_str = '{}{}({})'.format('' if is_true else 'not ', head_to_node(r), ','.join(variables))\n",
    "#         rules_htmls.append(cstr(r_str, 'green' if is_true else 'red'))"
   ]
  },
  {
   "cell_type": "code",
   "execution_count": null,
   "metadata": {},
   "outputs": [],
   "source": [
    "for pw_id in range(1, len(query_analysis['pw_objs'])+1):\n",
    "    pw_rel_dfs = pw_slicer(query_analysis['pw_rel_dfs'], None, [pw_id])[0]\n",
    "    print(get_query_head_facts(pw_rel_dfs, idx=2))"
   ]
  },
  {
   "cell_type": "code",
   "execution_count": null,
   "metadata": {},
   "outputs": [],
   "source": []
  },
  {
   "cell_type": "code",
   "execution_count": null,
   "metadata": {},
   "outputs": [],
   "source": [
    "def get_query_head_facts(pw_rel_dfs, idx=None):\n",
    "    \n",
    "    ruleH_dfs, ruleHTrue_dfs, hArc_df = pw_rel_dfs['ruleH_1'], pw_rel_dfs['ruleHTrue_1'], pw_rel_dfs['newHArc_3']\n",
    "    heads = {h: {} for h in set(ruleH_dfs['HEAD'])}\n",
    "    true_heads = set(ruleHTrue_dfs['HEAD'])\n",
    "    for _, row in hArc_df.iterrows():\n",
    "        pos, h, var = int(row['POS']), row['HEAD'], row['VAR']\n",
    "        heads[h][pos] = var\n",
    "    head_strs = []\n",
    "    for h in sorted(heads.keys()):\n",
    "        variables = [remove_double_quotes(heads[h][k]) for k in sorted(heads[h].keys())]\n",
    "        is_true = h in true_heads\n",
    "        h_str = '{}{}{}({}).'.format('' if is_true else 'n', head_to_node(h), '' if idx is None else str(idx), ','.join(variables))\n",
    "        head_strs.append(h_str)\n",
    "    return head_strs"
   ]
  },
  {
   "cell_type": "code",
   "execution_count": null,
   "metadata": {},
   "outputs": [],
   "source": [
    "for pw_obj in query_analysis['pw_objs']:\n",
    "    print(get_query_head_facts(pw_obj, idx=5))"
   ]
  }
 ],
 "metadata": {
  "kernelspec": {
   "display_name": "Python 3",
   "language": "python",
   "name": "python3"
  },
  "language_info": {
   "codemirror_mode": {
    "name": "ipython",
    "version": 3
   },
   "file_extension": ".py",
   "mimetype": "text/x-python",
   "name": "python",
   "nbconvert_exporter": "python",
   "pygments_lexer": "ipython3",
   "version": "3.6.8"
  }
 },
 "nbformat": 4,
 "nbformat_minor": 2
}
