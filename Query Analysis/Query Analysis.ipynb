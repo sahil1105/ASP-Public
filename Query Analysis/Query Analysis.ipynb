{
 "cells": [
  {
   "cell_type": "code",
   "execution_count": 1,
   "metadata": {},
   "outputs": [],
   "source": [
    "from PW_explorer.load_worlds import load_worlds\n",
    "from PW_explorer.run_clingo import run_clingo\n",
    "from PW_explorer.visualize import PWEVisualization\n",
    "from PW_explorer.helper import pw_slicer, rel_slicer, rel_name_remapper\n",
    "from PW_explorer.export import PWEExport\n",
    "import pandas as pd"
   ]
  },
  {
   "cell_type": "code",
   "execution_count": 2,
   "metadata": {},
   "outputs": [],
   "source": [
    "import networkx as nx\n",
    "from nxpd import draw\n",
    "import nxpd\n",
    "from nxpd import nxpdParams\n",
    "nxpdParams['show'] = 'ipynb'"
   ]
  },
  {
   "cell_type": "code",
   "execution_count": 3,
   "metadata": {},
   "outputs": [],
   "source": [
    "from misc import *"
   ]
  },
  {
   "cell_type": "code",
   "execution_count": 4,
   "metadata": {},
   "outputs": [
    {
     "data": {
      "application/javascript": [
       "IPython.CodeCell.options_default.highlight_modes['prolog'] = {'reg':[/^%%(clingo|dlv)/]};"
      ]
     },
     "metadata": {},
     "output_type": "display_data"
    }
   ],
   "source": [
    "%load_ext PWE_NB_Extension"
   ]
  },
  {
   "cell_type": "code",
   "execution_count": 5,
   "metadata": {},
   "outputs": [],
   "source": [
    "%%clingo --donot-display_input -lci qep_eq_check --donot-run\n",
    "\n",
    "% e(X,Y) :- e(Y,X). --> only if undirected\n",
    "gnode1(X) :- e1(X,_).\n",
    "gnode1(X) :- e1(_,X).\n",
    "gnode1(X) :- ne1(X,_).\n",
    "gnode1(X) :- ne1(_,X).\n",
    "\n",
    "gnode2(X) :- e2(X,_).\n",
    "gnode2(X) :- e2(_,X).\n",
    "gnode2(X) :- ne2(X,_).\n",
    "gnode2(X) :- ne2(_,X).\n",
    "\n",
    "vmap(X,Y) ; not vmap(X,Y) :- gnode1(X), gnode2(Y).\n",
    ":- vmap(X1,Y1), vmap(X2,Y2), e1(X1,X2), not e2(Y1,Y2).\n",
    ":- vmap(X1,Y1), vmap(X2,Y2), not e1(X1,X2), e2(Y1,Y2).\n",
    ":- vmap(X1,Y1), vmap(X2,Y2), ne1(X1,X2), not ne2(Y1,Y2).\n",
    ":- vmap(X1,Y1), vmap(X2,Y2), not ne1(X1,X2), ne2(Y1,Y2).\n",
    "\n",
    "% used1(X) :- vmap(X,_).\n",
    "% :- gnode(X), not used1(X).\n",
    "% :- vmap(X,Y),vmap(X,Z),Y!=Z.\n",
    "% :- vmap(Y,X),vmap(Z,X),Y!=Z.\n",
    "\n",
    ":- gnode1(X), #count {Y: vmap(X,Y)} != 1.\n",
    ":- gnode2(Y), #count {X: vmap(X,Y)} != 1.\n",
    "\n",
    "#show.\n",
    "% #show vmap/2."
   ]
  },
  {
   "cell_type": "code",
   "execution_count": 6,
   "metadata": {},
   "outputs": [],
   "source": [
    "%%clingo --donot-display_input -lci qep_eq_check2 --donot-run\n",
    "\n",
    "% e(X,Y) :- e(Y,X). --> only if undirected\n",
    "gnode1(X) :- e1(X,_).\n",
    "gnode1(X) :- e1(_,X).\n",
    "gnode1(X) :- ne1(X,_).\n",
    "gnode1(X) :- ne1(_,X).\n",
    "\n",
    "gnode2(X) :- e2(X,_).\n",
    "gnode2(X) :- e2(_,X).\n",
    "gnode2(X) :- ne2(X,_).\n",
    "gnode2(X) :- ne2(_,X).\n",
    "\n",
    "vmap(X,Y) ; not vmap(X,Y) :- gnode1(X), gnode2(Y).\n",
    ":- vmap(X1,Y1), vmap(X2,Y2), e1(X1,X2), not e2(Y1,Y2).\n",
    ":- vmap(X1,Y1), vmap(X2,Y2), not e1(X1,X2), e2(Y1,Y2).\n",
    ":- vmap(X1,Y1), vmap(X2,Y2), ne1(X1,X2), not ne2(Y1,Y2).\n",
    ":- vmap(X1,Y1), vmap(X2,Y2), not ne1(X1,X2), ne2(Y1,Y2).\n",
    "\n",
    "% 3hop Query\n",
    "\n",
    ":- vmap(X1,Y1), vmap(X2,Y2), vmap(X3,Y3), vmap(X4,Y4), thop1(X1,X2,X3,X4), not thop2(Y1,Y2,Y3,Y4).\n",
    ":- vmap(X1,Y1), vmap(X2,Y2), vmap(X3,Y3), vmap(X4,Y4), not thop1(X1,X2,X3,X4), thop2(Y1,Y2,Y3,Y4).\n",
    "\n",
    ":- vmap(X1,Y1), vmap(X2,Y2), vmap(X3,Y3), thop1(X1,X2,X3), not thop2(Y1,Y2,Y3).\n",
    ":- vmap(X1,Y1), vmap(X2,Y2), vmap(X3,Y3), not thop1(X1,X2,X3), thop2(Y1,Y2,Y3).\n",
    "\n",
    ":- vmap(X1,Y1), vmap(X2,Y2), thop1(X1,X2), not thop2(Y1,Y2).\n",
    ":- vmap(X1,Y1), vmap(X2,Y2), not thop1(X1,X2), thop2(Y1,Y2).\n",
    "\n",
    ":- vmap(X1,Y1), thop1(X1), not thop2(Y1).\n",
    ":- vmap(X1,Y1), not thop1(X1), thop2(Y1).\n",
    "\n",
    ":- vmap(X1,Y1), vmap(X2,Y2), vmap(X3,Y3), vmap(X4,Y4), nthop1(X1,X2,X3,X4), not nthop2(Y1,Y2,Y3,Y4).\n",
    ":- vmap(X1,Y1), vmap(X2,Y2), vmap(X3,Y3), vmap(X4,Y4), not nthop1(X1,X2,X3,X4), nthop2(Y1,Y2,Y3,Y4).\n",
    "\n",
    ":- vmap(X1,Y1), vmap(X2,Y2), vmap(X3,Y3), nthop1(X1,X2,X3), not nthop2(Y1,Y2,Y3).\n",
    ":- vmap(X1,Y1), vmap(X2,Y2), vmap(X3,Y3), not nthop1(X1,X2,X3), nthop2(Y1,Y2,Y3).\n",
    "\n",
    ":- vmap(X1,Y1), vmap(X2,Y2), nthop1(X1,X2), not nthop2(Y1,Y2).\n",
    ":- vmap(X1,Y1), vmap(X2,Y2), not nthop1(X1,X2), nthop2(Y1,Y2).\n",
    "\n",
    ":- vmap(X1,Y1), nthop1(X1), not nthop2(Y1).\n",
    ":- vmap(X1,Y1), not nthop1(X1), nthop2(Y1).\n",
    "\n",
    "\n",
    "% Triangle Query\n",
    "\n",
    ":- vmap(X1,Y1), vmap(X2,Y2), vmap(X3,Y3), tri1(X1,X2,X3), not tri2(Y1,Y2,Y3).\n",
    ":- vmap(X1,Y1), vmap(X2,Y2), vmap(X3,Y3), not tri1(X1,X2,X3), tri2(Y1,Y2,Y3).\n",
    "\n",
    ":- vmap(X1,Y1), vmap(X2,Y2), tri1(X1,X2), not tri2(Y1,Y2).\n",
    ":- vmap(X1,Y1), vmap(X2,Y2), not tri1(X1,X2), tri2(Y1,Y2).\n",
    "\n",
    ":- vmap(X1,Y1), tri1(X1), not tri2(Y1).\n",
    ":- vmap(X1,Y1), not tri1(X1), tri2(Y1).\n",
    "\n",
    ":- vmap(X1,Y1), vmap(X2,Y2), vmap(X3,Y3), ntri1(X1,X2,X3), not ntri2(Y1,Y2,Y3).\n",
    ":- vmap(X1,Y1), vmap(X2,Y2), vmap(X3,Y3), not ntri1(X1,X2,X3), ntri2(Y1,Y2,Y3).\n",
    "\n",
    ":- vmap(X1,Y1), vmap(X2,Y2), ntri1(X1,X2), not ntri2(Y1,Y2).\n",
    ":- vmap(X1,Y1), vmap(X2,Y2), not ntri1(X1,X2), ntri2(Y1,Y2).\n",
    "\n",
    ":- vmap(X1,Y1), ntri1(X1), not ntri2(Y1).\n",
    ":- vmap(X1,Y1), not ntri1(X1), ntri2(Y1).\n",
    "\n",
    "\n",
    "\n",
    "% used1(X) :- vmap(X,_).\n",
    "% :- gnode(X), not used1(X).\n",
    "% :- vmap(X,Y),vmap(X,Z),Y!=Z.\n",
    "% :- vmap(Y,X),vmap(Z,X),Y!=Z.\n",
    "\n",
    ":- gnode1(X), #count {Y: vmap(X,Y)} != 1.\n",
    ":- gnode2(Y), #count {X: vmap(X,Y)} != 1.\n",
    "\n",
    "#show.\n",
    "% #show vmap/2."
   ]
  },
  {
   "cell_type": "code",
   "execution_count": 9,
   "metadata": {},
   "outputs": [],
   "source": [
    "%%clingo --donot-display_input -lci query_analysis_starter --donot-run\n",
    "\n",
    "% TO ADD\n",
    "% schema var(VAR, DOMAIN).\n",
    "% schema ruleOcc(ATOM, OCC).\n",
    "% schema ruleH(HEAD).\n",
    "% schema arc(VAR, POS, ATOM, OCC).\n",
    "% schema hArc(VAR, POS, HEAD).\n",
    "\n",
    "\n",
    "% schema ruleOccTrue(ATOM, OCC)\n",
    "ruleOccTrue(R, OC) ; not ruleOccTrue(R, OC) :- ruleOcc(R, OC).\n",
    "\n",
    "% schema ruleHTrue(HEAD)\n",
    "ruleHFalse(H) :- ruleH(H), ruleOcc(R, OCC), not ruleOccTrue(R,OCC).\n",
    "ruleHTrue(H)  :- ruleH(H), not ruleHFalse(H).\n",
    "\n",
    "% schema eq(VAR1, VAR2, DOMAIN)\n",
    "eq(A,B,TYPE) ; not eq(A,B,TYPE) :- var(A, TYPE), var(B, TYPE), A!=B.\n",
    "eq(A,B,TYPE) :- eq(B,A,TYPE).\n",
    "eq(A,B,TYPE) :- eq(A,C,TYPE), eq(C,B,TYPE), A!=B, B!=C, A!=C.\n",
    "\n",
    "% schema eqOrd(VAR1, VAR2, DOMAIN)\n",
    "eqOrd(A,B,TYPE) :- eq(A,B,TYPE), A<B.\n",
    "% schema newVar(VAR, DOMAIN)\n",
    "newVar(VAR, TYPE) :- var(VAR, TYPE), not eqOrd(_,VAR,TYPE).\n",
    "% schema eqOrdMinimal(VAR1, VAR2, DOMAIN)\n",
    "eqOrdMinimal(A,B,TYPE) :- eqOrd(A,B,TYPE), newVar(A,TYPE).\n",
    "% schema neqOrd(VAR1, VAR2, DOMAIN)\n",
    "neqOrd(A,B,TYPE) :- newVar(A,TYPE), newVar(B,TYPE), A<B.\n",
    "\n",
    "% Find the new arcs, getting rid of the redundancies\n",
    "\n",
    "% schema newArc(VAR, POS, ATOM, OCC)\n",
    "newArc(VAR, POS, ATOM, OCC) :- arc(VAR_ORIG, POS, ATOM, OCC), eqOrd(VAR,VAR_ORIG,TYPE), not eqOrd(_,VAR,TYPE).\n",
    "newArc(VAR, POS, ATOM, OCC) :- arc(VAR, POS, ATOM, OCC), not eqOrd(_,VAR,_).\n",
    "\n",
    "% schema newHArc(VAR, POS, HEAD)\n",
    "newHArc(VAR, POS, H) :- hArc(VAR_ORIG,POS,H), eqOrd(VAR,VAR_ORIG,TYPE), not eqOrd(_,VAR,TYPE).\n",
    "newHArc(VAR, POS, H) :- hArc(VAR, POS, H), not eqOrd(_,VAR,_).\n",
    "\n",
    "% It cannot be true that eX and eY have the same variable assignments but one is True while other is False\n",
    ":- newArc(V1, 1, \"e\", OCC1), newArc(V2, 2, \"e\", OCC1), newArc(V1, 1, \"e\", OCC2), newArc(V2, 2, \"e\", OCC2), ruleOccTrue(\"e\", OCC1), not ruleOccTrue(\"e\", OCC2). \n",
    "\n",
    "% New inferred edges\n",
    "% schema e(NODE1, NODE2)\n",
    "e(V1,V2) :- newArc(V1, 1, \"e\", OCC), newArc(V2, 2, \"e\", OCC), ruleOccTrue(\"e\", OCC).\n",
    "\n",
    "% schema e(OCC, NODE1, NODE2)\n",
    "e(OCC,V1,V2) :- newArc(V1, 1, \"e\", OCC), newArc(V2, 2, \"e\", OCC), ruleOccTrue(\"e\", OCC).\n",
    "\n",
    "% New inferred missing edges\n",
    "% schema ne(NODE1, NODE2)\n",
    "ne(V1,V2) :- newArc(V1, 1, \"e\", OCC), newArc(V2, 2, \"e\", OCC), not ruleOccTrue(\"e\", OCC).\n",
    "\n",
    "% schema ne(OCC, NODE1, NODE2)\n",
    "ne(OCC,V1,V2) :- newArc(V1, 1, \"e\", OCC), newArc(V2, 2, \"e\", OCC), not ruleOccTrue(\"e\", OCC).\n",
    "\n",
    "\n",
    "%graphviz graph graph_type=directed rankdir=LR\n",
    "%graphviz edge newArc(HEAD, _, TAIL) label=$2\n",
    "%graphviz node ruleOccTrue(N) color=green\n",
    "\n",
    "\n",
    "#show ruleOccTrue/2.\n",
    "#show var/2.\n",
    "#show newVar/2.\n",
    "#show ruleOcc/2.\n",
    "#show ruleH/1.\n",
    "#show eqOrd/3.\n",
    "#show neqOrd/3.\n",
    "#show eqOrdMinimal/3.\n",
    "#show arc/4.\n",
    "#show newArc/4.\n",
    "#show hArc/3.\n",
    "#show newHArc/3.\n",
    "#show e/2.\n",
    "#show ne/2.\n",
    "#show e/3.\n",
    "#show ne/3.\n",
    "#show eqAtomOccOrd/3.\n",
    "#show fAtom/3.\n",
    "#show ruleHTrue/1."
   ]
  },
  {
   "cell_type": "code",
   "execution_count": 11,
   "metadata": {},
   "outputs": [
    {
     "name": "stdout",
     "output_type": "stream",
     "text": [
      "Output:\n"
     ]
    },
    {
     "data": {
      "text/html": [
       "\n",
       "        <style>\n",
       "        .highlight .hll { background-color: #ffffcc }\n",
       ".highlight  { background: #f8f8f8; }\n",
       ".highlight .c { color: #408080; font-style: italic } /* Comment */\n",
       ".highlight .err { border: 1px solid #FF0000 } /* Error */\n",
       ".highlight .k { color: #008000; font-weight: bold } /* Keyword */\n",
       ".highlight .o { color: #666666 } /* Operator */\n",
       ".highlight .ch { color: #408080; font-style: italic } /* Comment.Hashbang */\n",
       ".highlight .cm { color: #408080; font-style: italic } /* Comment.Multiline */\n",
       ".highlight .cp { color: #BC7A00 } /* Comment.Preproc */\n",
       ".highlight .cpf { color: #408080; font-style: italic } /* Comment.PreprocFile */\n",
       ".highlight .c1 { color: #408080; font-style: italic } /* Comment.Single */\n",
       ".highlight .cs { color: #408080; font-style: italic } /* Comment.Special */\n",
       ".highlight .gd { color: #A00000 } /* Generic.Deleted */\n",
       ".highlight .ge { font-style: italic } /* Generic.Emph */\n",
       ".highlight .gr { color: #FF0000 } /* Generic.Error */\n",
       ".highlight .gh { color: #000080; font-weight: bold } /* Generic.Heading */\n",
       ".highlight .gi { color: #00A000 } /* Generic.Inserted */\n",
       ".highlight .go { color: #888888 } /* Generic.Output */\n",
       ".highlight .gp { color: #000080; font-weight: bold } /* Generic.Prompt */\n",
       ".highlight .gs { font-weight: bold } /* Generic.Strong */\n",
       ".highlight .gu { color: #800080; font-weight: bold } /* Generic.Subheading */\n",
       ".highlight .gt { color: #0044DD } /* Generic.Traceback */\n",
       ".highlight .kc { color: #008000; font-weight: bold } /* Keyword.Constant */\n",
       ".highlight .kd { color: #008000; font-weight: bold } /* Keyword.Declaration */\n",
       ".highlight .kn { color: #008000; font-weight: bold } /* Keyword.Namespace */\n",
       ".highlight .kp { color: #008000 } /* Keyword.Pseudo */\n",
       ".highlight .kr { color: #008000; font-weight: bold } /* Keyword.Reserved */\n",
       ".highlight .kt { color: #B00040 } /* Keyword.Type */\n",
       ".highlight .m { color: #666666 } /* Literal.Number */\n",
       ".highlight .s { color: #BA2121 } /* Literal.String */\n",
       ".highlight .na { color: #7D9029 } /* Name.Attribute */\n",
       ".highlight .nb { color: #008000 } /* Name.Builtin */\n",
       ".highlight .nc { color: #0000FF; font-weight: bold } /* Name.Class */\n",
       ".highlight .no { color: #880000 } /* Name.Constant */\n",
       ".highlight .nd { color: #AA22FF } /* Name.Decorator */\n",
       ".highlight .ni { color: #999999; font-weight: bold } /* Name.Entity */\n",
       ".highlight .ne { color: #D2413A; font-weight: bold } /* Name.Exception */\n",
       ".highlight .nf { color: #0000FF } /* Name.Function */\n",
       ".highlight .nl { color: #A0A000 } /* Name.Label */\n",
       ".highlight .nn { color: #0000FF; font-weight: bold } /* Name.Namespace */\n",
       ".highlight .nt { color: #008000; font-weight: bold } /* Name.Tag */\n",
       ".highlight .nv { color: #19177C } /* Name.Variable */\n",
       ".highlight .ow { color: #AA22FF; font-weight: bold } /* Operator.Word */\n",
       ".highlight .w { color: #bbbbbb } /* Text.Whitespace */\n",
       ".highlight .mb { color: #666666 } /* Literal.Number.Bin */\n",
       ".highlight .mf { color: #666666 } /* Literal.Number.Float */\n",
       ".highlight .mh { color: #666666 } /* Literal.Number.Hex */\n",
       ".highlight .mi { color: #666666 } /* Literal.Number.Integer */\n",
       ".highlight .mo { color: #666666 } /* Literal.Number.Oct */\n",
       ".highlight .sa { color: #BA2121 } /* Literal.String.Affix */\n",
       ".highlight .sb { color: #BA2121 } /* Literal.String.Backtick */\n",
       ".highlight .sc { color: #BA2121 } /* Literal.String.Char */\n",
       ".highlight .dl { color: #BA2121 } /* Literal.String.Delimiter */\n",
       ".highlight .sd { color: #BA2121; font-style: italic } /* Literal.String.Doc */\n",
       ".highlight .s2 { color: #BA2121 } /* Literal.String.Double */\n",
       ".highlight .se { color: #BB6622; font-weight: bold } /* Literal.String.Escape */\n",
       ".highlight .sh { color: #BA2121 } /* Literal.String.Heredoc */\n",
       ".highlight .si { color: #BB6688; font-weight: bold } /* Literal.String.Interpol */\n",
       ".highlight .sx { color: #008000 } /* Literal.String.Other */\n",
       ".highlight .sr { color: #BB6688 } /* Literal.String.Regex */\n",
       ".highlight .s1 { color: #BA2121 } /* Literal.String.Single */\n",
       ".highlight .ss { color: #19177C } /* Literal.String.Symbol */\n",
       ".highlight .bp { color: #008000 } /* Name.Builtin.Pseudo */\n",
       ".highlight .fm { color: #0000FF } /* Name.Function.Magic */\n",
       ".highlight .vc { color: #19177C } /* Name.Variable.Class */\n",
       ".highlight .vg { color: #19177C } /* Name.Variable.Global */\n",
       ".highlight .vi { color: #19177C } /* Name.Variable.Instance */\n",
       ".highlight .vm { color: #19177C } /* Name.Variable.Magic */\n",
       ".highlight .il { color: #666666 } /* Literal.Number.Integer.Long */\n",
       "        </style>\n",
       "        "
      ],
      "text/plain": [
       "<IPython.core.display.HTML object>"
      ]
     },
     "metadata": {},
     "output_type": "display_data"
    },
    {
     "data": {
      "text/html": [
       "<div class=\"highlight\"><pre><span></span><span class=\"lineno\"> 1 </span><span class=\"nv\">Answer</span><span class=\"s s-Atom\">:</span> <span class=\"mi\">1</span>\n",
       "<span class=\"lineno\"> 2 </span><span class=\"nf\">ruleH</span><span class=\"p\">(</span><span class=\"s2\">&quot;tri&quot;</span><span class=\"p\">)</span> <span class=\"nf\">newVar</span><span class=\"p\">(</span><span class=\"s2\">&quot;X&quot;</span><span class=\"p\">,</span><span class=\"s s-Atom\">node</span><span class=\"p\">)</span> <span class=\"nf\">ruleOcc</span><span class=\"p\">(</span><span class=\"s2\">&quot;e&quot;</span><span class=\"p\">,</span><span class=\"mi\">1</span><span class=\"p\">)</span> <span class=\"nf\">ruleOcc</span><span class=\"p\">(</span><span class=\"s2\">&quot;e&quot;</span><span class=\"p\">,</span><span class=\"mi\">2</span><span class=\"p\">)</span> <span class=\"nf\">ruleOcc</span><span class=\"p\">(</span><span class=\"s2\">&quot;e&quot;</span><span class=\"p\">,</span><span class=\"mi\">3</span><span class=\"p\">)</span> <span class=\"nf\">var</span><span class=\"p\">(</span><span class=\"s2\">&quot;X&quot;</span><span class=\"p\">,</span><span class=\"s s-Atom\">node</span><span class=\"p\">)</span> <span class=\"nf\">var</span><span class=\"p\">(</span><span class=\"s2\">&quot;Y&quot;</span><span class=\"p\">,</span><span class=\"s s-Atom\">node</span><span class=\"p\">)</span> <span class=\"nf\">var</span><span class=\"p\">(</span><span class=\"s2\">&quot;Z&quot;</span><span class=\"p\">,</span><span class=\"s s-Atom\">node</span><span class=\"p\">)</span> <span class=\"nf\">hArc</span><span class=\"p\">(</span><span class=\"s2\">&quot;Z&quot;</span><span class=\"p\">,</span><span class=\"mi\">3</span><span class=\"p\">,</span><span class=\"s2\">&quot;tri&quot;</span><span class=\"p\">)</span> <span class=\"nf\">hArc</span><span class=\"p\">(</span><span class=\"s2\">&quot;Y&quot;</span><span class=\"p\">,</span><span class=\"mi\">2</span><span class=\"p\">,</span><span class=\"s2\">&quot;tri&quot;</span><span class=\"p\">)</span> <span class=\"nf\">hArc</span><span class=\"p\">(</span><span class=\"s2\">&quot;X&quot;</span><span class=\"p\">,</span><span class=\"mi\">1</span><span class=\"p\">,</span><span class=\"s2\">&quot;tri&quot;</span><span class=\"p\">)</span> <span class=\"nf\">newHArc</span><span class=\"p\">(</span><span class=\"s2\">&quot;X&quot;</span><span class=\"p\">,</span><span class=\"mi\">1</span><span class=\"p\">,</span><span class=\"s2\">&quot;tri&quot;</span><span class=\"p\">)</span> <span class=\"nf\">arc</span><span class=\"p\">(</span><span class=\"s2\">&quot;X&quot;</span><span class=\"p\">,</span><span class=\"mi\">1</span><span class=\"p\">,</span><span class=\"s2\">&quot;e&quot;</span><span class=\"p\">,</span><span class=\"mi\">1</span><span class=\"p\">)</span> <span class=\"nf\">arc</span><span class=\"p\">(</span><span class=\"s2\">&quot;Y&quot;</span><span class=\"p\">,</span><span class=\"mi\">2</span><span class=\"p\">,</span><span class=\"s2\">&quot;e&quot;</span><span class=\"p\">,</span><span class=\"mi\">1</span><span class=\"p\">)</span> <span class=\"nf\">arc</span><span class=\"p\">(</span><span class=\"s2\">&quot;Y&quot;</span><span class=\"p\">,</span><span class=\"mi\">1</span><span class=\"p\">,</span><span class=\"s2\">&quot;e&quot;</span><span class=\"p\">,</span><span class=\"mi\">2</span><span class=\"p\">)</span> <span class=\"nf\">arc</span><span class=\"p\">(</span><span class=\"s2\">&quot;Z&quot;</span><span class=\"p\">,</span><span class=\"mi\">2</span><span class=\"p\">,</span><span class=\"s2\">&quot;e&quot;</span><span class=\"p\">,</span><span class=\"mi\">2</span><span class=\"p\">)</span> <span class=\"nf\">arc</span><span class=\"p\">(</span><span class=\"s2\">&quot;Z&quot;</span><span class=\"p\">,</span><span class=\"mi\">1</span><span class=\"p\">,</span><span class=\"s2\">&quot;e&quot;</span><span class=\"p\">,</span><span class=\"mi\">3</span><span class=\"p\">)</span> <span class=\"nf\">arc</span><span class=\"p\">(</span><span class=\"s2\">&quot;X&quot;</span><span class=\"p\">,</span><span class=\"mi\">2</span><span class=\"p\">,</span><span class=\"s2\">&quot;e&quot;</span><span class=\"p\">,</span><span class=\"mi\">3</span><span class=\"p\">)</span> <span class=\"nf\">newArc</span><span class=\"p\">(</span><span class=\"s2\">&quot;X&quot;</span><span class=\"p\">,</span><span class=\"mi\">1</span><span class=\"p\">,</span><span class=\"s2\">&quot;e&quot;</span><span class=\"p\">,</span><span class=\"mi\">1</span><span class=\"p\">)</span> <span class=\"nf\">newArc</span><span class=\"p\">(</span><span class=\"s2\">&quot;X&quot;</span><span class=\"p\">,</span><span class=\"mi\">2</span><span class=\"p\">,</span><span class=\"s2\">&quot;e&quot;</span><span class=\"p\">,</span><span class=\"mi\">3</span><span class=\"p\">)</span> <span class=\"nf\">ruleOccTrue</span><span class=\"p\">(</span><span class=\"s2\">&quot;e&quot;</span><span class=\"p\">,</span><span class=\"mi\">1</span><span class=\"p\">)</span> <span class=\"nf\">ruleOccTrue</span><span class=\"p\">(</span><span class=\"s2\">&quot;e&quot;</span><span class=\"p\">,</span><span class=\"mi\">2</span><span class=\"p\">)</span> <span class=\"nf\">ruleOccTrue</span><span class=\"p\">(</span><span class=\"s2\">&quot;e&quot;</span><span class=\"p\">,</span><span class=\"mi\">3</span><span class=\"p\">)</span> <span class=\"nf\">ruleHTrue</span><span class=\"p\">(</span><span class=\"s2\">&quot;tri&quot;</span><span class=\"p\">)</span> <span class=\"nf\">newArc</span><span class=\"p\">(</span><span class=\"s2\">&quot;Y&quot;</span><span class=\"p\">,</span><span class=\"mi\">2</span><span class=\"p\">,</span><span class=\"s2\">&quot;e&quot;</span><span class=\"p\">,</span><span class=\"mi\">1</span><span class=\"p\">)</span> <span class=\"nf\">newArc</span><span class=\"p\">(</span><span class=\"s2\">&quot;Y&quot;</span><span class=\"p\">,</span><span class=\"mi\">1</span><span class=\"p\">,</span><span class=\"s2\">&quot;e&quot;</span><span class=\"p\">,</span><span class=\"mi\">2</span><span class=\"p\">)</span> <span class=\"nf\">newArc</span><span class=\"p\">(</span><span class=\"s2\">&quot;Z&quot;</span><span class=\"p\">,</span><span class=\"mi\">2</span><span class=\"p\">,</span><span class=\"s2\">&quot;e&quot;</span><span class=\"p\">,</span><span class=\"mi\">2</span><span class=\"p\">)</span> <span class=\"nf\">newArc</span><span class=\"p\">(</span><span class=\"s2\">&quot;Z&quot;</span><span class=\"p\">,</span><span class=\"mi\">1</span><span class=\"p\">,</span><span class=\"s2\">&quot;e&quot;</span><span class=\"p\">,</span><span class=\"mi\">3</span><span class=\"p\">)</span> <span class=\"nf\">e</span><span class=\"p\">(</span><span class=\"mi\">1</span><span class=\"p\">,</span><span class=\"s2\">&quot;X&quot;</span><span class=\"p\">,</span><span class=\"s2\">&quot;Y&quot;</span><span class=\"p\">)</span> <span class=\"nf\">e</span><span class=\"p\">(</span><span class=\"mi\">2</span><span class=\"p\">,</span><span class=\"s2\">&quot;Y&quot;</span><span class=\"p\">,</span><span class=\"s2\">&quot;Z&quot;</span><span class=\"p\">)</span> <span class=\"nf\">e</span><span class=\"p\">(</span><span class=\"mi\">3</span><span class=\"p\">,</span><span class=\"s2\">&quot;Z&quot;</span><span class=\"p\">,</span><span class=\"s2\">&quot;X&quot;</span><span class=\"p\">)</span> <span class=\"nf\">e</span><span class=\"p\">(</span><span class=\"s2\">&quot;X&quot;</span><span class=\"p\">,</span><span class=\"s2\">&quot;Y&quot;</span><span class=\"p\">)</span> <span class=\"nf\">e</span><span class=\"p\">(</span><span class=\"s2\">&quot;Y&quot;</span><span class=\"p\">,</span><span class=\"s2\">&quot;Z&quot;</span><span class=\"p\">)</span> <span class=\"nf\">e</span><span class=\"p\">(</span><span class=\"s2\">&quot;Z&quot;</span><span class=\"p\">,</span><span class=\"s2\">&quot;X&quot;</span><span class=\"p\">)</span> <span class=\"nf\">newHArc</span><span class=\"p\">(</span><span class=\"s2\">&quot;Z&quot;</span><span class=\"p\">,</span><span class=\"mi\">3</span><span class=\"p\">,</span><span class=\"s2\">&quot;tri&quot;</span><span class=\"p\">)</span> <span class=\"nf\">newHArc</span><span class=\"p\">(</span><span class=\"s2\">&quot;Y&quot;</span><span class=\"p\">,</span><span class=\"mi\">2</span><span class=\"p\">,</span><span class=\"s2\">&quot;tri&quot;</span><span class=\"p\">)</span> <span class=\"nf\">newVar</span><span class=\"p\">(</span><span class=\"s2\">&quot;Y&quot;</span><span class=\"p\">,</span><span class=\"s s-Atom\">node</span><span class=\"p\">)</span> <span class=\"nf\">newVar</span><span class=\"p\">(</span><span class=\"s2\">&quot;Z&quot;</span><span class=\"p\">,</span><span class=\"s s-Atom\">node</span><span class=\"p\">)</span> <span class=\"nf\">neqOrd</span><span class=\"p\">(</span><span class=\"s2\">&quot;X&quot;</span><span class=\"p\">,</span><span class=\"s2\">&quot;Y&quot;</span><span class=\"p\">,</span><span class=\"s s-Atom\">node</span><span class=\"p\">)</span> <span class=\"nf\">neqOrd</span><span class=\"p\">(</span><span class=\"s2\">&quot;X&quot;</span><span class=\"p\">,</span><span class=\"s2\">&quot;Z&quot;</span><span class=\"p\">,</span><span class=\"s s-Atom\">node</span><span class=\"p\">)</span> <span class=\"nf\">neqOrd</span><span class=\"p\">(</span><span class=\"s2\">&quot;Y&quot;</span><span class=\"p\">,</span><span class=\"s2\">&quot;Z&quot;</span><span class=\"p\">,</span><span class=\"s s-Atom\">node</span><span class=\"p\">)</span>\n",
       "<span class=\"lineno\"> 3 </span><span class=\"nv\">Answer</span><span class=\"s s-Atom\">:</span> <span class=\"mi\">2</span>\n",
       "<span class=\"lineno\"> 4 </span><span class=\"nf\">ruleH</span><span class=\"p\">(</span><span class=\"s2\">&quot;tri&quot;</span><span class=\"p\">)</span> <span class=\"nf\">newVar</span><span class=\"p\">(</span><span class=\"s2\">&quot;X&quot;</span><span class=\"p\">,</span><span class=\"s s-Atom\">node</span><span class=\"p\">)</span> <span class=\"nf\">ruleOcc</span><span class=\"p\">(</span><span class=\"s2\">&quot;e&quot;</span><span class=\"p\">,</span><span class=\"mi\">1</span><span class=\"p\">)</span> <span class=\"nf\">ruleOcc</span><span class=\"p\">(</span><span class=\"s2\">&quot;e&quot;</span><span class=\"p\">,</span><span class=\"mi\">2</span><span class=\"p\">)</span> <span class=\"nf\">ruleOcc</span><span class=\"p\">(</span><span class=\"s2\">&quot;e&quot;</span><span class=\"p\">,</span><span class=\"mi\">3</span><span class=\"p\">)</span> <span class=\"nf\">var</span><span class=\"p\">(</span><span class=\"s2\">&quot;X&quot;</span><span class=\"p\">,</span><span class=\"s s-Atom\">node</span><span class=\"p\">)</span> <span class=\"nf\">var</span><span class=\"p\">(</span><span class=\"s2\">&quot;Y&quot;</span><span class=\"p\">,</span><span class=\"s s-Atom\">node</span><span class=\"p\">)</span> <span class=\"nf\">var</span><span class=\"p\">(</span><span class=\"s2\">&quot;Z&quot;</span><span class=\"p\">,</span><span class=\"s s-Atom\">node</span><span class=\"p\">)</span> <span class=\"nf\">hArc</span><span class=\"p\">(</span><span class=\"s2\">&quot;Z&quot;</span><span class=\"p\">,</span><span class=\"mi\">3</span><span class=\"p\">,</span><span class=\"s2\">&quot;tri&quot;</span><span class=\"p\">)</span> <span class=\"nf\">hArc</span><span class=\"p\">(</span><span class=\"s2\">&quot;Y&quot;</span><span class=\"p\">,</span><span class=\"mi\">2</span><span class=\"p\">,</span><span class=\"s2\">&quot;tri&quot;</span><span class=\"p\">)</span> <span class=\"nf\">hArc</span><span class=\"p\">(</span><span class=\"s2\">&quot;X&quot;</span><span class=\"p\">,</span><span class=\"mi\">1</span><span class=\"p\">,</span><span class=\"s2\">&quot;tri&quot;</span><span class=\"p\">)</span> <span class=\"nf\">newHArc</span><span class=\"p\">(</span><span class=\"s2\">&quot;X&quot;</span><span class=\"p\">,</span><span class=\"mi\">1</span><span class=\"p\">,</span><span class=\"s2\">&quot;tri&quot;</span><span class=\"p\">)</span> <span class=\"nf\">arc</span><span class=\"p\">(</span><span class=\"s2\">&quot;X&quot;</span><span class=\"p\">,</span><span class=\"mi\">1</span><span class=\"p\">,</span><span class=\"s2\">&quot;e&quot;</span><span class=\"p\">,</span><span class=\"mi\">1</span><span class=\"p\">)</span> <span class=\"nf\">arc</span><span class=\"p\">(</span><span class=\"s2\">&quot;Y&quot;</span><span class=\"p\">,</span><span class=\"mi\">2</span><span class=\"p\">,</span><span class=\"s2\">&quot;e&quot;</span><span class=\"p\">,</span><span class=\"mi\">1</span><span class=\"p\">)</span> <span class=\"nf\">arc</span><span class=\"p\">(</span><span class=\"s2\">&quot;Y&quot;</span><span class=\"p\">,</span><span class=\"mi\">1</span><span class=\"p\">,</span><span class=\"s2\">&quot;e&quot;</span><span class=\"p\">,</span><span class=\"mi\">2</span><span class=\"p\">)</span> <span class=\"nf\">arc</span><span class=\"p\">(</span><span class=\"s2\">&quot;Z&quot;</span><span class=\"p\">,</span><span class=\"mi\">2</span><span class=\"p\">,</span><span class=\"s2\">&quot;e&quot;</span><span class=\"p\">,</span><span class=\"mi\">2</span><span class=\"p\">)</span> <span class=\"nf\">arc</span><span class=\"p\">(</span><span class=\"s2\">&quot;Z&quot;</span><span class=\"p\">,</span><span class=\"mi\">1</span><span class=\"p\">,</span><span class=\"s2\">&quot;e&quot;</span><span class=\"p\">,</span><span class=\"mi\">3</span><span class=\"p\">)</span> <span class=\"nf\">arc</span><span class=\"p\">(</span><span class=\"s2\">&quot;X&quot;</span><span class=\"p\">,</span><span class=\"mi\">2</span><span class=\"p\">,</span><span class=\"s2\">&quot;e&quot;</span><span class=\"p\">,</span><span class=\"mi\">3</span><span class=\"p\">)</span> <span class=\"nf\">newArc</span><span class=\"p\">(</span><span class=\"s2\">&quot;X&quot;</span><span class=\"p\">,</span><span class=\"mi\">1</span><span class=\"p\">,</span><span class=\"s2\">&quot;e&quot;</span><span class=\"p\">,</span><span class=\"mi\">1</span><span class=\"p\">)</span> <span class=\"nf\">newArc</span><span class=\"p\">(</span><span class=\"s2\">&quot;X&quot;</span><span class=\"p\">,</span><span class=\"mi\">2</span><span class=\"p\">,</span><span class=\"s2\">&quot;e&quot;</span><span class=\"p\">,</span><span class=\"mi\">3</span><span class=\"p\">)</span> <span class=\"nf\">ruleOccTrue</span><span class=\"p\">(</span><span class=\"s2\">&quot;e&quot;</span><span class=\"p\">,</span><span class=\"mi\">1</span><span class=\"p\">)</span> <span class=\"nf\">ruleOccTrue</span><span class=\"p\">(</span><span class=\"s2\">&quot;e&quot;</span><span class=\"p\">,</span><span class=\"mi\">2</span><span class=\"p\">)</span> <span class=\"nf\">ruleOccTrue</span><span class=\"p\">(</span><span class=\"s2\">&quot;e&quot;</span><span class=\"p\">,</span><span class=\"mi\">3</span><span class=\"p\">)</span> <span class=\"nf\">ruleHTrue</span><span class=\"p\">(</span><span class=\"s2\">&quot;tri&quot;</span><span class=\"p\">)</span> <span class=\"nf\">eqOrd</span><span class=\"p\">(</span><span class=\"s2\">&quot;Y&quot;</span><span class=\"p\">,</span><span class=\"s2\">&quot;Z&quot;</span><span class=\"p\">,</span><span class=\"s s-Atom\">node</span><span class=\"p\">)</span> <span class=\"nf\">newArc</span><span class=\"p\">(</span><span class=\"s2\">&quot;Y&quot;</span><span class=\"p\">,</span><span class=\"mi\">2</span><span class=\"p\">,</span><span class=\"s2\">&quot;e&quot;</span><span class=\"p\">,</span><span class=\"mi\">2</span><span class=\"p\">)</span> <span class=\"nf\">newArc</span><span class=\"p\">(</span><span class=\"s2\">&quot;Y&quot;</span><span class=\"p\">,</span><span class=\"mi\">1</span><span class=\"p\">,</span><span class=\"s2\">&quot;e&quot;</span><span class=\"p\">,</span><span class=\"mi\">3</span><span class=\"p\">)</span> <span class=\"nf\">newArc</span><span class=\"p\">(</span><span class=\"s2\">&quot;Y&quot;</span><span class=\"p\">,</span><span class=\"mi\">2</span><span class=\"p\">,</span><span class=\"s2\">&quot;e&quot;</span><span class=\"p\">,</span><span class=\"mi\">1</span><span class=\"p\">)</span> <span class=\"nf\">newArc</span><span class=\"p\">(</span><span class=\"s2\">&quot;Y&quot;</span><span class=\"p\">,</span><span class=\"mi\">1</span><span class=\"p\">,</span><span class=\"s2\">&quot;e&quot;</span><span class=\"p\">,</span><span class=\"mi\">2</span><span class=\"p\">)</span> <span class=\"nf\">e</span><span class=\"p\">(</span><span class=\"mi\">1</span><span class=\"p\">,</span><span class=\"s2\">&quot;X&quot;</span><span class=\"p\">,</span><span class=\"s2\">&quot;Y&quot;</span><span class=\"p\">)</span> <span class=\"nf\">e</span><span class=\"p\">(</span><span class=\"mi\">2</span><span class=\"p\">,</span><span class=\"s2\">&quot;Y&quot;</span><span class=\"p\">,</span><span class=\"s2\">&quot;Y&quot;</span><span class=\"p\">)</span> <span class=\"nf\">e</span><span class=\"p\">(</span><span class=\"mi\">3</span><span class=\"p\">,</span><span class=\"s2\">&quot;Y&quot;</span><span class=\"p\">,</span><span class=\"s2\">&quot;X&quot;</span><span class=\"p\">)</span> <span class=\"nf\">e</span><span class=\"p\">(</span><span class=\"s2\">&quot;X&quot;</span><span class=\"p\">,</span><span class=\"s2\">&quot;Y&quot;</span><span class=\"p\">)</span> <span class=\"nf\">e</span><span class=\"p\">(</span><span class=\"s2\">&quot;Y&quot;</span><span class=\"p\">,</span><span class=\"s2\">&quot;X&quot;</span><span class=\"p\">)</span> <span class=\"nf\">e</span><span class=\"p\">(</span><span class=\"s2\">&quot;Y&quot;</span><span class=\"p\">,</span><span class=\"s2\">&quot;Y&quot;</span><span class=\"p\">)</span> <span class=\"nf\">newHArc</span><span class=\"p\">(</span><span class=\"s2\">&quot;Y&quot;</span><span class=\"p\">,</span><span class=\"mi\">2</span><span class=\"p\">,</span><span class=\"s2\">&quot;tri&quot;</span><span class=\"p\">)</span> <span class=\"nf\">newHArc</span><span class=\"p\">(</span><span class=\"s2\">&quot;Y&quot;</span><span class=\"p\">,</span><span class=\"mi\">3</span><span class=\"p\">,</span><span class=\"s2\">&quot;tri&quot;</span><span class=\"p\">)</span> <span class=\"nf\">newVar</span><span class=\"p\">(</span><span class=\"s2\">&quot;Y&quot;</span><span class=\"p\">,</span><span class=\"s s-Atom\">node</span><span class=\"p\">)</span> <span class=\"nf\">neqOrd</span><span class=\"p\">(</span><span class=\"s2\">&quot;X&quot;</span><span class=\"p\">,</span><span class=\"s2\">&quot;Y&quot;</span><span class=\"p\">,</span><span class=\"s s-Atom\">node</span><span class=\"p\">)</span> <span class=\"nf\">eqOrdMinimal</span><span class=\"p\">(</span><span class=\"s2\">&quot;Y&quot;</span><span class=\"p\">,</span><span class=\"s2\">&quot;Z&quot;</span><span class=\"p\">,</span><span class=\"s s-Atom\">node</span><span class=\"p\">)</span>\n",
       "<span class=\"lineno\"> 5 </span><span class=\"nv\">Answer</span><span class=\"s s-Atom\">:</span> <span class=\"mi\">3</span>\n",
       "<span class=\"lineno\"> 6 </span><span class=\"nf\">ruleH</span><span class=\"p\">(</span><span class=\"s2\">&quot;tri&quot;</span><span class=\"p\">)</span> <span class=\"nf\">newVar</span><span class=\"p\">(</span><span class=\"s2\">&quot;X&quot;</span><span class=\"p\">,</span><span class=\"s s-Atom\">node</span><span class=\"p\">)</span> <span class=\"nf\">ruleOcc</span><span class=\"p\">(</span><span class=\"s2\">&quot;e&quot;</span><span class=\"p\">,</span><span class=\"mi\">1</span><span class=\"p\">)</span> <span class=\"nf\">ruleOcc</span><span class=\"p\">(</span><span class=\"s2\">&quot;e&quot;</span><span class=\"p\">,</span><span class=\"mi\">2</span><span class=\"p\">)</span> <span class=\"nf\">ruleOcc</span><span class=\"p\">(</span><span class=\"s2\">&quot;e&quot;</span><span class=\"p\">,</span><span class=\"mi\">3</span><span class=\"p\">)</span> <span class=\"nf\">var</span><span class=\"p\">(</span><span class=\"s2\">&quot;X&quot;</span><span class=\"p\">,</span><span class=\"s s-Atom\">node</span><span class=\"p\">)</span> <span class=\"nf\">var</span><span class=\"p\">(</span><span class=\"s2\">&quot;Y&quot;</span><span class=\"p\">,</span><span class=\"s s-Atom\">node</span><span class=\"p\">)</span> <span class=\"nf\">var</span><span class=\"p\">(</span><span class=\"s2\">&quot;Z&quot;</span><span class=\"p\">,</span><span class=\"s s-Atom\">node</span><span class=\"p\">)</span> <span class=\"nf\">hArc</span><span class=\"p\">(</span><span class=\"s2\">&quot;Z&quot;</span><span class=\"p\">,</span><span class=\"mi\">3</span><span class=\"p\">,</span><span class=\"s2\">&quot;tri&quot;</span><span class=\"p\">)</span> <span class=\"nf\">hArc</span><span class=\"p\">(</span><span class=\"s2\">&quot;Y&quot;</span><span class=\"p\">,</span><span class=\"mi\">2</span><span class=\"p\">,</span><span class=\"s2\">&quot;tri&quot;</span><span class=\"p\">)</span> <span class=\"nf\">hArc</span><span class=\"p\">(</span><span class=\"s2\">&quot;X&quot;</span><span class=\"p\">,</span><span class=\"mi\">1</span><span class=\"p\">,</span><span class=\"s2\">&quot;tri&quot;</span><span class=\"p\">)</span> <span class=\"nf\">newHArc</span><span class=\"p\">(</span><span class=\"s2\">&quot;X&quot;</span><span class=\"p\">,</span><span class=\"mi\">1</span><span class=\"p\">,</span><span class=\"s2\">&quot;tri&quot;</span><span class=\"p\">)</span> <span class=\"nf\">arc</span><span class=\"p\">(</span><span class=\"s2\">&quot;X&quot;</span><span class=\"p\">,</span><span class=\"mi\">1</span><span class=\"p\">,</span><span class=\"s2\">&quot;e&quot;</span><span class=\"p\">,</span><span class=\"mi\">1</span><span class=\"p\">)</span> <span class=\"nf\">arc</span><span class=\"p\">(</span><span class=\"s2\">&quot;Y&quot;</span><span class=\"p\">,</span><span class=\"mi\">2</span><span class=\"p\">,</span><span class=\"s2\">&quot;e&quot;</span><span class=\"p\">,</span><span class=\"mi\">1</span><span class=\"p\">)</span> <span class=\"nf\">arc</span><span class=\"p\">(</span><span class=\"s2\">&quot;Y&quot;</span><span class=\"p\">,</span><span class=\"mi\">1</span><span class=\"p\">,</span><span class=\"s2\">&quot;e&quot;</span><span class=\"p\">,</span><span class=\"mi\">2</span><span class=\"p\">)</span> <span class=\"nf\">arc</span><span class=\"p\">(</span><span class=\"s2\">&quot;Z&quot;</span><span class=\"p\">,</span><span class=\"mi\">2</span><span class=\"p\">,</span><span class=\"s2\">&quot;e&quot;</span><span class=\"p\">,</span><span class=\"mi\">2</span><span class=\"p\">)</span> <span class=\"nf\">arc</span><span class=\"p\">(</span><span class=\"s2\">&quot;Z&quot;</span><span class=\"p\">,</span><span class=\"mi\">1</span><span class=\"p\">,</span><span class=\"s2\">&quot;e&quot;</span><span class=\"p\">,</span><span class=\"mi\">3</span><span class=\"p\">)</span> <span class=\"nf\">arc</span><span class=\"p\">(</span><span class=\"s2\">&quot;X&quot;</span><span class=\"p\">,</span><span class=\"mi\">2</span><span class=\"p\">,</span><span class=\"s2\">&quot;e&quot;</span><span class=\"p\">,</span><span class=\"mi\">3</span><span class=\"p\">)</span> <span class=\"nf\">newArc</span><span class=\"p\">(</span><span class=\"s2\">&quot;X&quot;</span><span class=\"p\">,</span><span class=\"mi\">1</span><span class=\"p\">,</span><span class=\"s2\">&quot;e&quot;</span><span class=\"p\">,</span><span class=\"mi\">1</span><span class=\"p\">)</span> <span class=\"nf\">newArc</span><span class=\"p\">(</span><span class=\"s2\">&quot;X&quot;</span><span class=\"p\">,</span><span class=\"mi\">2</span><span class=\"p\">,</span><span class=\"s2\">&quot;e&quot;</span><span class=\"p\">,</span><span class=\"mi\">3</span><span class=\"p\">)</span> <span class=\"nf\">ruleOccTrue</span><span class=\"p\">(</span><span class=\"s2\">&quot;e&quot;</span><span class=\"p\">,</span><span class=\"mi\">1</span><span class=\"p\">)</span> <span class=\"nf\">ruleOccTrue</span><span class=\"p\">(</span><span class=\"s2\">&quot;e&quot;</span><span class=\"p\">,</span><span class=\"mi\">2</span><span class=\"p\">)</span> <span class=\"nf\">ruleOccTrue</span><span class=\"p\">(</span><span class=\"s2\">&quot;e&quot;</span><span class=\"p\">,</span><span class=\"mi\">3</span><span class=\"p\">)</span> <span class=\"nf\">ruleHTrue</span><span class=\"p\">(</span><span class=\"s2\">&quot;tri&quot;</span><span class=\"p\">)</span> <span class=\"nf\">eqOrd</span><span class=\"p\">(</span><span class=\"s2\">&quot;X&quot;</span><span class=\"p\">,</span><span class=\"s2\">&quot;Z&quot;</span><span class=\"p\">,</span><span class=\"s s-Atom\">node</span><span class=\"p\">)</span> <span class=\"nf\">newArc</span><span class=\"p\">(</span><span class=\"s2\">&quot;X&quot;</span><span class=\"p\">,</span><span class=\"mi\">2</span><span class=\"p\">,</span><span class=\"s2\">&quot;e&quot;</span><span class=\"p\">,</span><span class=\"mi\">2</span><span class=\"p\">)</span> <span class=\"nf\">newArc</span><span class=\"p\">(</span><span class=\"s2\">&quot;X&quot;</span><span class=\"p\">,</span><span class=\"mi\">1</span><span class=\"p\">,</span><span class=\"s2\">&quot;e&quot;</span><span class=\"p\">,</span><span class=\"mi\">3</span><span class=\"p\">)</span> <span class=\"nf\">newArc</span><span class=\"p\">(</span><span class=\"s2\">&quot;Y&quot;</span><span class=\"p\">,</span><span class=\"mi\">2</span><span class=\"p\">,</span><span class=\"s2\">&quot;e&quot;</span><span class=\"p\">,</span><span class=\"mi\">1</span><span class=\"p\">)</span> <span class=\"nf\">newArc</span><span class=\"p\">(</span><span class=\"s2\">&quot;Y&quot;</span><span class=\"p\">,</span><span class=\"mi\">1</span><span class=\"p\">,</span><span class=\"s2\">&quot;e&quot;</span><span class=\"p\">,</span><span class=\"mi\">2</span><span class=\"p\">)</span> <span class=\"nf\">e</span><span class=\"p\">(</span><span class=\"mi\">1</span><span class=\"p\">,</span><span class=\"s2\">&quot;X&quot;</span><span class=\"p\">,</span><span class=\"s2\">&quot;Y&quot;</span><span class=\"p\">)</span> <span class=\"nf\">e</span><span class=\"p\">(</span><span class=\"mi\">2</span><span class=\"p\">,</span><span class=\"s2\">&quot;Y&quot;</span><span class=\"p\">,</span><span class=\"s2\">&quot;X&quot;</span><span class=\"p\">)</span> <span class=\"nf\">e</span><span class=\"p\">(</span><span class=\"mi\">3</span><span class=\"p\">,</span><span class=\"s2\">&quot;X&quot;</span><span class=\"p\">,</span><span class=\"s2\">&quot;X&quot;</span><span class=\"p\">)</span> <span class=\"nf\">e</span><span class=\"p\">(</span><span class=\"s2\">&quot;X&quot;</span><span class=\"p\">,</span><span class=\"s2\">&quot;X&quot;</span><span class=\"p\">)</span> <span class=\"nf\">e</span><span class=\"p\">(</span><span class=\"s2\">&quot;X&quot;</span><span class=\"p\">,</span><span class=\"s2\">&quot;Y&quot;</span><span class=\"p\">)</span> <span class=\"nf\">e</span><span class=\"p\">(</span><span class=\"s2\">&quot;Y&quot;</span><span class=\"p\">,</span><span class=\"s2\">&quot;X&quot;</span><span class=\"p\">)</span> <span class=\"nf\">newHArc</span><span class=\"p\">(</span><span class=\"s2\">&quot;Y&quot;</span><span class=\"p\">,</span><span class=\"mi\">2</span><span class=\"p\">,</span><span class=\"s2\">&quot;tri&quot;</span><span class=\"p\">)</span> <span class=\"nf\">newHArc</span><span class=\"p\">(</span><span class=\"s2\">&quot;X&quot;</span><span class=\"p\">,</span><span class=\"mi\">3</span><span class=\"p\">,</span><span class=\"s2\">&quot;tri&quot;</span><span class=\"p\">)</span> <span class=\"nf\">newVar</span><span class=\"p\">(</span><span class=\"s2\">&quot;Y&quot;</span><span class=\"p\">,</span><span class=\"s s-Atom\">node</span><span class=\"p\">)</span> <span class=\"nf\">neqOrd</span><span class=\"p\">(</span><span class=\"s2\">&quot;X&quot;</span><span class=\"p\">,</span><span class=\"s2\">&quot;Y&quot;</span><span class=\"p\">,</span><span class=\"s s-Atom\">node</span><span class=\"p\">)</span> <span class=\"nf\">eqOrdMinimal</span><span class=\"p\">(</span><span class=\"s2\">&quot;X&quot;</span><span class=\"p\">,</span><span class=\"s2\">&quot;Z&quot;</span><span class=\"p\">,</span><span class=\"s s-Atom\">node</span><span class=\"p\">)</span>\n",
       "<span class=\"lineno\"> 7 </span><span class=\"nv\">Answer</span><span class=\"s s-Atom\">:</span> <span class=\"mi\">4</span>\n",
       "<span class=\"lineno\"> 8 </span><span class=\"nf\">ruleH</span><span class=\"p\">(</span><span class=\"s2\">&quot;tri&quot;</span><span class=\"p\">)</span> <span class=\"nf\">newVar</span><span class=\"p\">(</span><span class=\"s2\">&quot;X&quot;</span><span class=\"p\">,</span><span class=\"s s-Atom\">node</span><span class=\"p\">)</span> <span class=\"nf\">ruleOcc</span><span class=\"p\">(</span><span class=\"s2\">&quot;e&quot;</span><span class=\"p\">,</span><span class=\"mi\">1</span><span class=\"p\">)</span> <span class=\"nf\">ruleOcc</span><span class=\"p\">(</span><span class=\"s2\">&quot;e&quot;</span><span class=\"p\">,</span><span class=\"mi\">2</span><span class=\"p\">)</span> <span class=\"nf\">ruleOcc</span><span class=\"p\">(</span><span class=\"s2\">&quot;e&quot;</span><span class=\"p\">,</span><span class=\"mi\">3</span><span class=\"p\">)</span> <span class=\"nf\">var</span><span class=\"p\">(</span><span class=\"s2\">&quot;X&quot;</span><span class=\"p\">,</span><span class=\"s s-Atom\">node</span><span class=\"p\">)</span> <span class=\"nf\">var</span><span class=\"p\">(</span><span class=\"s2\">&quot;Y&quot;</span><span class=\"p\">,</span><span class=\"s s-Atom\">node</span><span class=\"p\">)</span> <span class=\"nf\">var</span><span class=\"p\">(</span><span class=\"s2\">&quot;Z&quot;</span><span class=\"p\">,</span><span class=\"s s-Atom\">node</span><span class=\"p\">)</span> <span class=\"nf\">hArc</span><span class=\"p\">(</span><span class=\"s2\">&quot;Z&quot;</span><span class=\"p\">,</span><span class=\"mi\">3</span><span class=\"p\">,</span><span class=\"s2\">&quot;tri&quot;</span><span class=\"p\">)</span> <span class=\"nf\">hArc</span><span class=\"p\">(</span><span class=\"s2\">&quot;Y&quot;</span><span class=\"p\">,</span><span class=\"mi\">2</span><span class=\"p\">,</span><span class=\"s2\">&quot;tri&quot;</span><span class=\"p\">)</span> <span class=\"nf\">hArc</span><span class=\"p\">(</span><span class=\"s2\">&quot;X&quot;</span><span class=\"p\">,</span><span class=\"mi\">1</span><span class=\"p\">,</span><span class=\"s2\">&quot;tri&quot;</span><span class=\"p\">)</span> <span class=\"nf\">newHArc</span><span class=\"p\">(</span><span class=\"s2\">&quot;X&quot;</span><span class=\"p\">,</span><span class=\"mi\">1</span><span class=\"p\">,</span><span class=\"s2\">&quot;tri&quot;</span><span class=\"p\">)</span> <span class=\"nf\">arc</span><span class=\"p\">(</span><span class=\"s2\">&quot;X&quot;</span><span class=\"p\">,</span><span class=\"mi\">1</span><span class=\"p\">,</span><span class=\"s2\">&quot;e&quot;</span><span class=\"p\">,</span><span class=\"mi\">1</span><span class=\"p\">)</span> <span class=\"nf\">arc</span><span class=\"p\">(</span><span class=\"s2\">&quot;Y&quot;</span><span class=\"p\">,</span><span class=\"mi\">2</span><span class=\"p\">,</span><span class=\"s2\">&quot;e&quot;</span><span class=\"p\">,</span><span class=\"mi\">1</span><span class=\"p\">)</span> <span class=\"nf\">arc</span><span class=\"p\">(</span><span class=\"s2\">&quot;Y&quot;</span><span class=\"p\">,</span><span class=\"mi\">1</span><span class=\"p\">,</span><span class=\"s2\">&quot;e&quot;</span><span class=\"p\">,</span><span class=\"mi\">2</span><span class=\"p\">)</span> <span class=\"nf\">arc</span><span class=\"p\">(</span><span class=\"s2\">&quot;Z&quot;</span><span class=\"p\">,</span><span class=\"mi\">2</span><span class=\"p\">,</span><span class=\"s2\">&quot;e&quot;</span><span class=\"p\">,</span><span class=\"mi\">2</span><span class=\"p\">)</span> <span class=\"nf\">arc</span><span class=\"p\">(</span><span class=\"s2\">&quot;Z&quot;</span><span class=\"p\">,</span><span class=\"mi\">1</span><span class=\"p\">,</span><span class=\"s2\">&quot;e&quot;</span><span class=\"p\">,</span><span class=\"mi\">3</span><span class=\"p\">)</span> <span class=\"nf\">arc</span><span class=\"p\">(</span><span class=\"s2\">&quot;X&quot;</span><span class=\"p\">,</span><span class=\"mi\">2</span><span class=\"p\">,</span><span class=\"s2\">&quot;e&quot;</span><span class=\"p\">,</span><span class=\"mi\">3</span><span class=\"p\">)</span> <span class=\"nf\">newArc</span><span class=\"p\">(</span><span class=\"s2\">&quot;X&quot;</span><span class=\"p\">,</span><span class=\"mi\">1</span><span class=\"p\">,</span><span class=\"s2\">&quot;e&quot;</span><span class=\"p\">,</span><span class=\"mi\">1</span><span class=\"p\">)</span> <span class=\"nf\">newArc</span><span class=\"p\">(</span><span class=\"s2\">&quot;X&quot;</span><span class=\"p\">,</span><span class=\"mi\">2</span><span class=\"p\">,</span><span class=\"s2\">&quot;e&quot;</span><span class=\"p\">,</span><span class=\"mi\">3</span><span class=\"p\">)</span> <span class=\"nf\">ruleOccTrue</span><span class=\"p\">(</span><span class=\"s2\">&quot;e&quot;</span><span class=\"p\">,</span><span class=\"mi\">1</span><span class=\"p\">)</span> <span class=\"nf\">ruleOccTrue</span><span class=\"p\">(</span><span class=\"s2\">&quot;e&quot;</span><span class=\"p\">,</span><span class=\"mi\">2</span><span class=\"p\">)</span> <span class=\"nf\">ruleOccTrue</span><span class=\"p\">(</span><span class=\"s2\">&quot;e&quot;</span><span class=\"p\">,</span><span class=\"mi\">3</span><span class=\"p\">)</span> <span class=\"nf\">ruleHTrue</span><span class=\"p\">(</span><span class=\"s2\">&quot;tri&quot;</span><span class=\"p\">)</span> <span class=\"nf\">eqOrd</span><span class=\"p\">(</span><span class=\"s2\">&quot;X&quot;</span><span class=\"p\">,</span><span class=\"s2\">&quot;Y&quot;</span><span class=\"p\">,</span><span class=\"s s-Atom\">node</span><span class=\"p\">)</span> <span class=\"nf\">newArc</span><span class=\"p\">(</span><span class=\"s2\">&quot;X&quot;</span><span class=\"p\">,</span><span class=\"mi\">2</span><span class=\"p\">,</span><span class=\"s2\">&quot;e&quot;</span><span class=\"p\">,</span><span class=\"mi\">1</span><span class=\"p\">)</span> <span class=\"nf\">newArc</span><span class=\"p\">(</span><span class=\"s2\">&quot;X&quot;</span><span class=\"p\">,</span><span class=\"mi\">1</span><span class=\"p\">,</span><span class=\"s2\">&quot;e&quot;</span><span class=\"p\">,</span><span class=\"mi\">2</span><span class=\"p\">)</span> <span class=\"nf\">newArc</span><span class=\"p\">(</span><span class=\"s2\">&quot;Z&quot;</span><span class=\"p\">,</span><span class=\"mi\">2</span><span class=\"p\">,</span><span class=\"s2\">&quot;e&quot;</span><span class=\"p\">,</span><span class=\"mi\">2</span><span class=\"p\">)</span> <span class=\"nf\">newArc</span><span class=\"p\">(</span><span class=\"s2\">&quot;Z&quot;</span><span class=\"p\">,</span><span class=\"mi\">1</span><span class=\"p\">,</span><span class=\"s2\">&quot;e&quot;</span><span class=\"p\">,</span><span class=\"mi\">3</span><span class=\"p\">)</span> <span class=\"nf\">e</span><span class=\"p\">(</span><span class=\"mi\">1</span><span class=\"p\">,</span><span class=\"s2\">&quot;X&quot;</span><span class=\"p\">,</span><span class=\"s2\">&quot;X&quot;</span><span class=\"p\">)</span> <span class=\"nf\">e</span><span class=\"p\">(</span><span class=\"mi\">2</span><span class=\"p\">,</span><span class=\"s2\">&quot;X&quot;</span><span class=\"p\">,</span><span class=\"s2\">&quot;Z&quot;</span><span class=\"p\">)</span> <span class=\"nf\">e</span><span class=\"p\">(</span><span class=\"mi\">3</span><span class=\"p\">,</span><span class=\"s2\">&quot;Z&quot;</span><span class=\"p\">,</span><span class=\"s2\">&quot;X&quot;</span><span class=\"p\">)</span> <span class=\"nf\">e</span><span class=\"p\">(</span><span class=\"s2\">&quot;X&quot;</span><span class=\"p\">,</span><span class=\"s2\">&quot;X&quot;</span><span class=\"p\">)</span> <span class=\"nf\">e</span><span class=\"p\">(</span><span class=\"s2\">&quot;X&quot;</span><span class=\"p\">,</span><span class=\"s2\">&quot;Z&quot;</span><span class=\"p\">)</span> <span class=\"nf\">e</span><span class=\"p\">(</span><span class=\"s2\">&quot;Z&quot;</span><span class=\"p\">,</span><span class=\"s2\">&quot;X&quot;</span><span class=\"p\">)</span> <span class=\"nf\">newHArc</span><span class=\"p\">(</span><span class=\"s2\">&quot;Z&quot;</span><span class=\"p\">,</span><span class=\"mi\">3</span><span class=\"p\">,</span><span class=\"s2\">&quot;tri&quot;</span><span class=\"p\">)</span> <span class=\"nf\">newHArc</span><span class=\"p\">(</span><span class=\"s2\">&quot;X&quot;</span><span class=\"p\">,</span><span class=\"mi\">2</span><span class=\"p\">,</span><span class=\"s2\">&quot;tri&quot;</span><span class=\"p\">)</span> <span class=\"nf\">newVar</span><span class=\"p\">(</span><span class=\"s2\">&quot;Z&quot;</span><span class=\"p\">,</span><span class=\"s s-Atom\">node</span><span class=\"p\">)</span> <span class=\"nf\">neqOrd</span><span class=\"p\">(</span><span class=\"s2\">&quot;X&quot;</span><span class=\"p\">,</span><span class=\"s2\">&quot;Z&quot;</span><span class=\"p\">,</span><span class=\"s s-Atom\">node</span><span class=\"p\">)</span> <span class=\"nf\">eqOrdMinimal</span><span class=\"p\">(</span><span class=\"s2\">&quot;X&quot;</span><span class=\"p\">,</span><span class=\"s2\">&quot;Y&quot;</span><span class=\"p\">,</span><span class=\"s s-Atom\">node</span><span class=\"p\">)</span>\n",
       "<span class=\"lineno\"> 9 </span><span class=\"nv\">Answer</span><span class=\"s s-Atom\">:</span> <span class=\"mi\">5</span>\n",
       "<span class=\"lineno\">10 </span><span class=\"nf\">ruleH</span><span class=\"p\">(</span><span class=\"s2\">&quot;tri&quot;</span><span class=\"p\">)</span> <span class=\"nf\">newVar</span><span class=\"p\">(</span><span class=\"s2\">&quot;X&quot;</span><span class=\"p\">,</span><span class=\"s s-Atom\">node</span><span class=\"p\">)</span> <span class=\"nf\">ruleOcc</span><span class=\"p\">(</span><span class=\"s2\">&quot;e&quot;</span><span class=\"p\">,</span><span class=\"mi\">1</span><span class=\"p\">)</span> <span class=\"nf\">ruleOcc</span><span class=\"p\">(</span><span class=\"s2\">&quot;e&quot;</span><span class=\"p\">,</span><span class=\"mi\">2</span><span class=\"p\">)</span> <span class=\"nf\">ruleOcc</span><span class=\"p\">(</span><span class=\"s2\">&quot;e&quot;</span><span class=\"p\">,</span><span class=\"mi\">3</span><span class=\"p\">)</span> <span class=\"nf\">var</span><span class=\"p\">(</span><span class=\"s2\">&quot;X&quot;</span><span class=\"p\">,</span><span class=\"s s-Atom\">node</span><span class=\"p\">)</span> <span class=\"nf\">var</span><span class=\"p\">(</span><span class=\"s2\">&quot;Y&quot;</span><span class=\"p\">,</span><span class=\"s s-Atom\">node</span><span class=\"p\">)</span> <span class=\"nf\">var</span><span class=\"p\">(</span><span class=\"s2\">&quot;Z&quot;</span><span class=\"p\">,</span><span class=\"s s-Atom\">node</span><span class=\"p\">)</span> <span class=\"nf\">hArc</span><span class=\"p\">(</span><span class=\"s2\">&quot;Z&quot;</span><span class=\"p\">,</span><span class=\"mi\">3</span><span class=\"p\">,</span><span class=\"s2\">&quot;tri&quot;</span><span class=\"p\">)</span> <span class=\"nf\">hArc</span><span class=\"p\">(</span><span class=\"s2\">&quot;Y&quot;</span><span class=\"p\">,</span><span class=\"mi\">2</span><span class=\"p\">,</span><span class=\"s2\">&quot;tri&quot;</span><span class=\"p\">)</span> <span class=\"nf\">hArc</span><span class=\"p\">(</span><span class=\"s2\">&quot;X&quot;</span><span class=\"p\">,</span><span class=\"mi\">1</span><span class=\"p\">,</span><span class=\"s2\">&quot;tri&quot;</span><span class=\"p\">)</span> <span class=\"nf\">newHArc</span><span class=\"p\">(</span><span class=\"s2\">&quot;X&quot;</span><span class=\"p\">,</span><span class=\"mi\">1</span><span class=\"p\">,</span><span class=\"s2\">&quot;tri&quot;</span><span class=\"p\">)</span> <span class=\"nf\">arc</span><span class=\"p\">(</span><span class=\"s2\">&quot;X&quot;</span><span class=\"p\">,</span><span class=\"mi\">1</span><span class=\"p\">,</span><span class=\"s2\">&quot;e&quot;</span><span class=\"p\">,</span><span class=\"mi\">1</span><span class=\"p\">)</span> <span class=\"nf\">arc</span><span class=\"p\">(</span><span class=\"s2\">&quot;Y&quot;</span><span class=\"p\">,</span><span class=\"mi\">2</span><span class=\"p\">,</span><span class=\"s2\">&quot;e&quot;</span><span class=\"p\">,</span><span class=\"mi\">1</span><span class=\"p\">)</span> <span class=\"nf\">arc</span><span class=\"p\">(</span><span class=\"s2\">&quot;Y&quot;</span><span class=\"p\">,</span><span class=\"mi\">1</span><span class=\"p\">,</span><span class=\"s2\">&quot;e&quot;</span><span class=\"p\">,</span><span class=\"mi\">2</span><span class=\"p\">)</span> <span class=\"nf\">arc</span><span class=\"p\">(</span><span class=\"s2\">&quot;Z&quot;</span><span class=\"p\">,</span><span class=\"mi\">2</span><span class=\"p\">,</span><span class=\"s2\">&quot;e&quot;</span><span class=\"p\">,</span><span class=\"mi\">2</span><span class=\"p\">)</span> <span class=\"nf\">arc</span><span class=\"p\">(</span><span class=\"s2\">&quot;Z&quot;</span><span class=\"p\">,</span><span class=\"mi\">1</span><span class=\"p\">,</span><span class=\"s2\">&quot;e&quot;</span><span class=\"p\">,</span><span class=\"mi\">3</span><span class=\"p\">)</span> <span class=\"nf\">arc</span><span class=\"p\">(</span><span class=\"s2\">&quot;X&quot;</span><span class=\"p\">,</span><span class=\"mi\">2</span><span class=\"p\">,</span><span class=\"s2\">&quot;e&quot;</span><span class=\"p\">,</span><span class=\"mi\">3</span><span class=\"p\">)</span> <span class=\"nf\">newArc</span><span class=\"p\">(</span><span class=\"s2\">&quot;X&quot;</span><span class=\"p\">,</span><span class=\"mi\">1</span><span class=\"p\">,</span><span class=\"s2\">&quot;e&quot;</span><span class=\"p\">,</span><span class=\"mi\">1</span><span class=\"p\">)</span> <span class=\"nf\">newArc</span><span class=\"p\">(</span><span class=\"s2\">&quot;X&quot;</span><span class=\"p\">,</span><span class=\"mi\">2</span><span class=\"p\">,</span><span class=\"s2\">&quot;e&quot;</span><span class=\"p\">,</span><span class=\"mi\">3</span><span class=\"p\">)</span> <span class=\"nf\">ruleOccTrue</span><span class=\"p\">(</span><span class=\"s2\">&quot;e&quot;</span><span class=\"p\">,</span><span class=\"mi\">1</span><span class=\"p\">)</span> <span class=\"nf\">ruleOccTrue</span><span class=\"p\">(</span><span class=\"s2\">&quot;e&quot;</span><span class=\"p\">,</span><span class=\"mi\">2</span><span class=\"p\">)</span> <span class=\"nf\">ruleOccTrue</span><span class=\"p\">(</span><span class=\"s2\">&quot;e&quot;</span><span class=\"p\">,</span><span class=\"mi\">3</span><span class=\"p\">)</span> <span class=\"nf\">ruleHTrue</span><span class=\"p\">(</span><span class=\"s2\">&quot;tri&quot;</span><span class=\"p\">)</span> <span class=\"nf\">eqOrd</span><span class=\"p\">(</span><span class=\"s2\">&quot;X&quot;</span><span class=\"p\">,</span><span class=\"s2\">&quot;Y&quot;</span><span class=\"p\">,</span><span class=\"s s-Atom\">node</span><span class=\"p\">)</span> <span class=\"nf\">eqOrd</span><span class=\"p\">(</span><span class=\"s2\">&quot;X&quot;</span><span class=\"p\">,</span><span class=\"s2\">&quot;Z&quot;</span><span class=\"p\">,</span><span class=\"s s-Atom\">node</span><span class=\"p\">)</span> <span class=\"nf\">eqOrd</span><span class=\"p\">(</span><span class=\"s2\">&quot;Y&quot;</span><span class=\"p\">,</span><span class=\"s2\">&quot;Z&quot;</span><span class=\"p\">,</span><span class=\"s s-Atom\">node</span><span class=\"p\">)</span> <span class=\"nf\">newArc</span><span class=\"p\">(</span><span class=\"s2\">&quot;X&quot;</span><span class=\"p\">,</span><span class=\"mi\">2</span><span class=\"p\">,</span><span class=\"s2\">&quot;e&quot;</span><span class=\"p\">,</span><span class=\"mi\">1</span><span class=\"p\">)</span> <span class=\"nf\">newArc</span><span class=\"p\">(</span><span class=\"s2\">&quot;X&quot;</span><span class=\"p\">,</span><span class=\"mi\">1</span><span class=\"p\">,</span><span class=\"s2\">&quot;e&quot;</span><span class=\"p\">,</span><span class=\"mi\">2</span><span class=\"p\">)</span> <span class=\"nf\">newArc</span><span class=\"p\">(</span><span class=\"s2\">&quot;X&quot;</span><span class=\"p\">,</span><span class=\"mi\">2</span><span class=\"p\">,</span><span class=\"s2\">&quot;e&quot;</span><span class=\"p\">,</span><span class=\"mi\">2</span><span class=\"p\">)</span> <span class=\"nf\">newArc</span><span class=\"p\">(</span><span class=\"s2\">&quot;X&quot;</span><span class=\"p\">,</span><span class=\"mi\">1</span><span class=\"p\">,</span><span class=\"s2\">&quot;e&quot;</span><span class=\"p\">,</span><span class=\"mi\">3</span><span class=\"p\">)</span> <span class=\"nf\">e</span><span class=\"p\">(</span><span class=\"mi\">1</span><span class=\"p\">,</span><span class=\"s2\">&quot;X&quot;</span><span class=\"p\">,</span><span class=\"s2\">&quot;X&quot;</span><span class=\"p\">)</span> <span class=\"nf\">e</span><span class=\"p\">(</span><span class=\"mi\">2</span><span class=\"p\">,</span><span class=\"s2\">&quot;X&quot;</span><span class=\"p\">,</span><span class=\"s2\">&quot;X&quot;</span><span class=\"p\">)</span> <span class=\"nf\">e</span><span class=\"p\">(</span><span class=\"mi\">3</span><span class=\"p\">,</span><span class=\"s2\">&quot;X&quot;</span><span class=\"p\">,</span><span class=\"s2\">&quot;X&quot;</span><span class=\"p\">)</span> <span class=\"nf\">e</span><span class=\"p\">(</span><span class=\"s2\">&quot;X&quot;</span><span class=\"p\">,</span><span class=\"s2\">&quot;X&quot;</span><span class=\"p\">)</span> <span class=\"nf\">newHArc</span><span class=\"p\">(</span><span class=\"s2\">&quot;X&quot;</span><span class=\"p\">,</span><span class=\"mi\">2</span><span class=\"p\">,</span><span class=\"s2\">&quot;tri&quot;</span><span class=\"p\">)</span> <span class=\"nf\">newHArc</span><span class=\"p\">(</span><span class=\"s2\">&quot;X&quot;</span><span class=\"p\">,</span><span class=\"mi\">3</span><span class=\"p\">,</span><span class=\"s2\">&quot;tri&quot;</span><span class=\"p\">)</span> <span class=\"nf\">eqOrdMinimal</span><span class=\"p\">(</span><span class=\"s2\">&quot;X&quot;</span><span class=\"p\">,</span><span class=\"s2\">&quot;Y&quot;</span><span class=\"p\">,</span><span class=\"s s-Atom\">node</span><span class=\"p\">)</span> <span class=\"nf\">eqOrdMinimal</span><span class=\"p\">(</span><span class=\"s2\">&quot;X&quot;</span><span class=\"p\">,</span><span class=\"s2\">&quot;Z&quot;</span><span class=\"p\">,</span><span class=\"s s-Atom\">node</span><span class=\"p\">)</span>\n",
       "<span class=\"lineno\">11 </span><span class=\"nv\">SATISFIABLE</span>\n",
       "<span class=\"lineno\">12 </span>\n",
       "<span class=\"lineno\">13 </span><span class=\"nv\">Models</span>       <span class=\"s s-Atom\">:</span> <span class=\"mi\">5</span>\n",
       "<span class=\"lineno\">14 </span><span class=\"nv\">Calls</span>        <span class=\"s s-Atom\">:</span> <span class=\"mi\">1</span>\n",
       "<span class=\"lineno\">15 </span><span class=\"nv\">Time</span>         <span class=\"s s-Atom\">:</span> <span class=\"mf\">0.005</span><span class=\"nf\">s</span> <span class=\"p\">(</span><span class=\"nv\">Solving</span><span class=\"s s-Atom\">:</span> <span class=\"mf\">0.00</span><span class=\"s s-Atom\">s</span> <span class=\"mi\">1</span><span class=\"s s-Atom\">st</span> <span class=\"nv\">Model</span><span class=\"s s-Atom\">:</span> <span class=\"mf\">0.00</span><span class=\"s s-Atom\">s</span> <span class=\"nv\">Unsat</span><span class=\"s s-Atom\">:</span> <span class=\"mf\">0.00</span><span class=\"s s-Atom\">s</span><span class=\"p\">)</span>\n",
       "<span class=\"lineno\">16 </span><span class=\"nv\">CPU</span> <span class=\"nv\">Time</span>     <span class=\"s s-Atom\">:</span> <span class=\"mf\">0.005</span><span class=\"s s-Atom\">s</span>\n",
       "</pre></div>\n"
      ],
      "text/plain": [
       "'Answer: 1\\nruleH(\"tri\") newVar(\"X\",node) ruleOcc(\"e\",1) ruleOcc(\"e\",2) ruleOcc(\"e\",3) var(\"X\",node) var(\"Y\",node) var(\"Z\",node) hArc(\"Z\",3,\"tri\") hArc(\"Y\",2,\"tri\") hArc(\"X\",1,\"tri\") newHArc(\"X\",1,\"tri\") arc(\"X\",1,\"e\",1) arc(\"Y\",2,\"e\",1) arc(\"Y\",1,\"e\",2) arc(\"Z\",2,\"e\",2) arc(\"Z\",1,\"e\",3) arc(\"X\",2,\"e\",3) newArc(\"X\",1,\"e\",1) newArc(\"X\",2,\"e\",3) ruleOccTrue(\"e\",1) ruleOccTrue(\"e\",2) ruleOccTrue(\"e\",3) ruleHTrue(\"tri\") newArc(\"Y\",2,\"e\",1) newArc(\"Y\",1,\"e\",2) newArc(\"Z\",2,\"e\",2) newArc(\"Z\",1,\"e\",3) e(1,\"X\",\"Y\") e(2,\"Y\",\"Z\") e(3,\"Z\",\"X\") e(\"X\",\"Y\") e(\"Y\",\"Z\") e(\"Z\",\"X\") newHArc(\"Z\",3,\"tri\") newHArc(\"Y\",2,\"tri\") newVar(\"Y\",node) newVar(\"Z\",node) neqOrd(\"X\",\"Y\",node) neqOrd(\"X\",\"Z\",node) neqOrd(\"Y\",\"Z\",node)\\nAnswer: 2\\nruleH(\"tri\") newVar(\"X\",node) ruleOcc(\"e\",1) ruleOcc(\"e\",2) ruleOcc(\"e\",3) var(\"X\",node) var(\"Y\",node) var(\"Z\",node) hArc(\"Z\",3,\"tri\") hArc(\"Y\",2,\"tri\") hArc(\"X\",1,\"tri\") newHArc(\"X\",1,\"tri\") arc(\"X\",1,\"e\",1) arc(\"Y\",2,\"e\",1) arc(\"Y\",1,\"e\",2) arc(\"Z\",2,\"e\",2) arc(\"Z\",1,\"e\",3) arc(\"X\",2,\"e\",3) newArc(\"X\",1,\"e\",1) newArc(\"X\",2,\"e\",3) ruleOccTrue(\"e\",1) ruleOccTrue(\"e\",2) ruleOccTrue(\"e\",3) ruleHTrue(\"tri\") eqOrd(\"Y\",\"Z\",node) newArc(\"Y\",2,\"e\",2) newArc(\"Y\",1,\"e\",3) newArc(\"Y\",2,\"e\",1) newArc(\"Y\",1,\"e\",2) e(1,\"X\",\"Y\") e(2,\"Y\",\"Y\") e(3,\"Y\",\"X\") e(\"X\",\"Y\") e(\"Y\",\"X\") e(\"Y\",\"Y\") newHArc(\"Y\",2,\"tri\") newHArc(\"Y\",3,\"tri\") newVar(\"Y\",node) neqOrd(\"X\",\"Y\",node) eqOrdMinimal(\"Y\",\"Z\",node)\\nAnswer: 3\\nruleH(\"tri\") newVar(\"X\",node) ruleOcc(\"e\",1) ruleOcc(\"e\",2) ruleOcc(\"e\",3) var(\"X\",node) var(\"Y\",node) var(\"Z\",node) hArc(\"Z\",3,\"tri\") hArc(\"Y\",2,\"tri\") hArc(\"X\",1,\"tri\") newHArc(\"X\",1,\"tri\") arc(\"X\",1,\"e\",1) arc(\"Y\",2,\"e\",1) arc(\"Y\",1,\"e\",2) arc(\"Z\",2,\"e\",2) arc(\"Z\",1,\"e\",3) arc(\"X\",2,\"e\",3) newArc(\"X\",1,\"e\",1) newArc(\"X\",2,\"e\",3) ruleOccTrue(\"e\",1) ruleOccTrue(\"e\",2) ruleOccTrue(\"e\",3) ruleHTrue(\"tri\") eqOrd(\"X\",\"Z\",node) newArc(\"X\",2,\"e\",2) newArc(\"X\",1,\"e\",3) newArc(\"Y\",2,\"e\",1) newArc(\"Y\",1,\"e\",2) e(1,\"X\",\"Y\") e(2,\"Y\",\"X\") e(3,\"X\",\"X\") e(\"X\",\"X\") e(\"X\",\"Y\") e(\"Y\",\"X\") newHArc(\"Y\",2,\"tri\") newHArc(\"X\",3,\"tri\") newVar(\"Y\",node) neqOrd(\"X\",\"Y\",node) eqOrdMinimal(\"X\",\"Z\",node)\\nAnswer: 4\\nruleH(\"tri\") newVar(\"X\",node) ruleOcc(\"e\",1) ruleOcc(\"e\",2) ruleOcc(\"e\",3) var(\"X\",node) var(\"Y\",node) var(\"Z\",node) hArc(\"Z\",3,\"tri\") hArc(\"Y\",2,\"tri\") hArc(\"X\",1,\"tri\") newHArc(\"X\",1,\"tri\") arc(\"X\",1,\"e\",1) arc(\"Y\",2,\"e\",1) arc(\"Y\",1,\"e\",2) arc(\"Z\",2,\"e\",2) arc(\"Z\",1,\"e\",3) arc(\"X\",2,\"e\",3) newArc(\"X\",1,\"e\",1) newArc(\"X\",2,\"e\",3) ruleOccTrue(\"e\",1) ruleOccTrue(\"e\",2) ruleOccTrue(\"e\",3) ruleHTrue(\"tri\") eqOrd(\"X\",\"Y\",node) newArc(\"X\",2,\"e\",1) newArc(\"X\",1,\"e\",2) newArc(\"Z\",2,\"e\",2) newArc(\"Z\",1,\"e\",3) e(1,\"X\",\"X\") e(2,\"X\",\"Z\") e(3,\"Z\",\"X\") e(\"X\",\"X\") e(\"X\",\"Z\") e(\"Z\",\"X\") newHArc(\"Z\",3,\"tri\") newHArc(\"X\",2,\"tri\") newVar(\"Z\",node) neqOrd(\"X\",\"Z\",node) eqOrdMinimal(\"X\",\"Y\",node)\\nAnswer: 5\\nruleH(\"tri\") newVar(\"X\",node) ruleOcc(\"e\",1) ruleOcc(\"e\",2) ruleOcc(\"e\",3) var(\"X\",node) var(\"Y\",node) var(\"Z\",node) hArc(\"Z\",3,\"tri\") hArc(\"Y\",2,\"tri\") hArc(\"X\",1,\"tri\") newHArc(\"X\",1,\"tri\") arc(\"X\",1,\"e\",1) arc(\"Y\",2,\"e\",1) arc(\"Y\",1,\"e\",2) arc(\"Z\",2,\"e\",2) arc(\"Z\",1,\"e\",3) arc(\"X\",2,\"e\",3) newArc(\"X\",1,\"e\",1) newArc(\"X\",2,\"e\",3) ruleOccTrue(\"e\",1) ruleOccTrue(\"e\",2) ruleOccTrue(\"e\",3) ruleHTrue(\"tri\") eqOrd(\"X\",\"Y\",node) eqOrd(\"X\",\"Z\",node) eqOrd(\"Y\",\"Z\",node) newArc(\"X\",2,\"e\",1) newArc(\"X\",1,\"e\",2) newArc(\"X\",2,\"e\",2) newArc(\"X\",1,\"e\",3) e(1,\"X\",\"X\") e(2,\"X\",\"X\") e(3,\"X\",\"X\") e(\"X\",\"X\") newHArc(\"X\",2,\"tri\") newHArc(\"X\",3,\"tri\") eqOrdMinimal(\"X\",\"Y\",node) eqOrdMinimal(\"X\",\"Z\",node)\\nSATISFIABLE\\n\\nModels       : 5\\nCalls        : 1\\nTime         : 0.005s (Solving: 0.00s 1st Model: 0.00s Unsat: 0.00s)\\nCPU Time     : 0.005s'"
      ]
     },
     "metadata": {},
     "output_type": "display_data"
    }
   ],
   "source": [
    "%%clingo --donot-display_input -l query_analysis_starter -exp query_analysis\n",
    "\n",
    "% tri(X,Y,Z) :- e(X,Y), e(Y,Z), e(Z,X).\n",
    "\n",
    "var(\"X\", node).\n",
    "var(\"Y\", node).\n",
    "var(\"Z\", node).\n",
    "\n",
    "ruleOcc(\"e\", 1..3).\n",
    "ruleH(\"tri\").\n",
    "\n",
    "arc(\"X\", 1, \"e\", 1).\n",
    "arc(\"Y\", 2, \"e\", 1).\n",
    "arc(\"Y\", 1, \"e\", 2).\n",
    "arc(\"Z\", 2, \"e\", 2).\n",
    "arc(\"Z\", 1, \"e\", 3).\n",
    "arc(\"X\", 2, \"e\", 3).\n",
    "\n",
    "hArc(\"X\", 1, \"tri\") :- ruleH(\"tri\").\n",
    "hArc(\"Y\", 2, \"tri\") :- ruleH(\"tri\").\n",
    "hArc(\"Z\", 3, \"tri\") :- ruleH(\"tri\").\n",
    "\n",
    ":- not ruleHTrue(\"tri\")."
   ]
  },
  {
   "cell_type": "code",
   "execution_count": 17,
   "metadata": {
    "scrolled": true
   },
   "outputs": [
    {
     "name": "stdout",
     "output_type": "stream",
     "text": [
      "Output:\n"
     ]
    },
    {
     "data": {
      "text/html": [
       "\n",
       "        <style>\n",
       "        .highlight .hll { background-color: #ffffcc }\n",
       ".highlight  { background: #f8f8f8; }\n",
       ".highlight .c { color: #408080; font-style: italic } /* Comment */\n",
       ".highlight .err { border: 1px solid #FF0000 } /* Error */\n",
       ".highlight .k { color: #008000; font-weight: bold } /* Keyword */\n",
       ".highlight .o { color: #666666 } /* Operator */\n",
       ".highlight .ch { color: #408080; font-style: italic } /* Comment.Hashbang */\n",
       ".highlight .cm { color: #408080; font-style: italic } /* Comment.Multiline */\n",
       ".highlight .cp { color: #BC7A00 } /* Comment.Preproc */\n",
       ".highlight .cpf { color: #408080; font-style: italic } /* Comment.PreprocFile */\n",
       ".highlight .c1 { color: #408080; font-style: italic } /* Comment.Single */\n",
       ".highlight .cs { color: #408080; font-style: italic } /* Comment.Special */\n",
       ".highlight .gd { color: #A00000 } /* Generic.Deleted */\n",
       ".highlight .ge { font-style: italic } /* Generic.Emph */\n",
       ".highlight .gr { color: #FF0000 } /* Generic.Error */\n",
       ".highlight .gh { color: #000080; font-weight: bold } /* Generic.Heading */\n",
       ".highlight .gi { color: #00A000 } /* Generic.Inserted */\n",
       ".highlight .go { color: #888888 } /* Generic.Output */\n",
       ".highlight .gp { color: #000080; font-weight: bold } /* Generic.Prompt */\n",
       ".highlight .gs { font-weight: bold } /* Generic.Strong */\n",
       ".highlight .gu { color: #800080; font-weight: bold } /* Generic.Subheading */\n",
       ".highlight .gt { color: #0044DD } /* Generic.Traceback */\n",
       ".highlight .kc { color: #008000; font-weight: bold } /* Keyword.Constant */\n",
       ".highlight .kd { color: #008000; font-weight: bold } /* Keyword.Declaration */\n",
       ".highlight .kn { color: #008000; font-weight: bold } /* Keyword.Namespace */\n",
       ".highlight .kp { color: #008000 } /* Keyword.Pseudo */\n",
       ".highlight .kr { color: #008000; font-weight: bold } /* Keyword.Reserved */\n",
       ".highlight .kt { color: #B00040 } /* Keyword.Type */\n",
       ".highlight .m { color: #666666 } /* Literal.Number */\n",
       ".highlight .s { color: #BA2121 } /* Literal.String */\n",
       ".highlight .na { color: #7D9029 } /* Name.Attribute */\n",
       ".highlight .nb { color: #008000 } /* Name.Builtin */\n",
       ".highlight .nc { color: #0000FF; font-weight: bold } /* Name.Class */\n",
       ".highlight .no { color: #880000 } /* Name.Constant */\n",
       ".highlight .nd { color: #AA22FF } /* Name.Decorator */\n",
       ".highlight .ni { color: #999999; font-weight: bold } /* Name.Entity */\n",
       ".highlight .ne { color: #D2413A; font-weight: bold } /* Name.Exception */\n",
       ".highlight .nf { color: #0000FF } /* Name.Function */\n",
       ".highlight .nl { color: #A0A000 } /* Name.Label */\n",
       ".highlight .nn { color: #0000FF; font-weight: bold } /* Name.Namespace */\n",
       ".highlight .nt { color: #008000; font-weight: bold } /* Name.Tag */\n",
       ".highlight .nv { color: #19177C } /* Name.Variable */\n",
       ".highlight .ow { color: #AA22FF; font-weight: bold } /* Operator.Word */\n",
       ".highlight .w { color: #bbbbbb } /* Text.Whitespace */\n",
       ".highlight .mb { color: #666666 } /* Literal.Number.Bin */\n",
       ".highlight .mf { color: #666666 } /* Literal.Number.Float */\n",
       ".highlight .mh { color: #666666 } /* Literal.Number.Hex */\n",
       ".highlight .mi { color: #666666 } /* Literal.Number.Integer */\n",
       ".highlight .mo { color: #666666 } /* Literal.Number.Oct */\n",
       ".highlight .sa { color: #BA2121 } /* Literal.String.Affix */\n",
       ".highlight .sb { color: #BA2121 } /* Literal.String.Backtick */\n",
       ".highlight .sc { color: #BA2121 } /* Literal.String.Char */\n",
       ".highlight .dl { color: #BA2121 } /* Literal.String.Delimiter */\n",
       ".highlight .sd { color: #BA2121; font-style: italic } /* Literal.String.Doc */\n",
       ".highlight .s2 { color: #BA2121 } /* Literal.String.Double */\n",
       ".highlight .se { color: #BB6622; font-weight: bold } /* Literal.String.Escape */\n",
       ".highlight .sh { color: #BA2121 } /* Literal.String.Heredoc */\n",
       ".highlight .si { color: #BB6688; font-weight: bold } /* Literal.String.Interpol */\n",
       ".highlight .sx { color: #008000 } /* Literal.String.Other */\n",
       ".highlight .sr { color: #BB6688 } /* Literal.String.Regex */\n",
       ".highlight .s1 { color: #BA2121 } /* Literal.String.Single */\n",
       ".highlight .ss { color: #19177C } /* Literal.String.Symbol */\n",
       ".highlight .bp { color: #008000 } /* Name.Builtin.Pseudo */\n",
       ".highlight .fm { color: #0000FF } /* Name.Function.Magic */\n",
       ".highlight .vc { color: #19177C } /* Name.Variable.Class */\n",
       ".highlight .vg { color: #19177C } /* Name.Variable.Global */\n",
       ".highlight .vi { color: #19177C } /* Name.Variable.Instance */\n",
       ".highlight .vm { color: #19177C } /* Name.Variable.Magic */\n",
       ".highlight .il { color: #666666 } /* Literal.Number.Integer.Long */\n",
       "        </style>\n",
       "        "
      ],
      "text/plain": [
       "<IPython.core.display.HTML object>"
      ]
     },
     "metadata": {},
     "output_type": "display_data"
    },
    {
     "data": {
      "text/html": [
       "<div class=\"highlight\"><pre><span></span><span class=\"lineno\"> 1 </span><span class=\"nv\">Answer</span><span class=\"s s-Atom\">:</span> <span class=\"mi\">1</span>\n",
       "<span class=\"lineno\"> 2 </span><span class=\"nf\">ruleH</span><span class=\"p\">(</span><span class=\"s2\">&quot;thop&quot;</span><span class=\"p\">)</span> <span class=\"nf\">newVar</span><span class=\"p\">(</span><span class=\"s2\">&quot;X&quot;</span><span class=\"p\">,</span><span class=\"s s-Atom\">node</span><span class=\"p\">)</span> <span class=\"nf\">ruleOcc</span><span class=\"p\">(</span><span class=\"s2\">&quot;e&quot;</span><span class=\"p\">,</span><span class=\"mi\">1</span><span class=\"p\">)</span> <span class=\"nf\">ruleOcc</span><span class=\"p\">(</span><span class=\"s2\">&quot;e&quot;</span><span class=\"p\">,</span><span class=\"mi\">2</span><span class=\"p\">)</span> <span class=\"nf\">ruleOcc</span><span class=\"p\">(</span><span class=\"s2\">&quot;e&quot;</span><span class=\"p\">,</span><span class=\"mi\">3</span><span class=\"p\">)</span> <span class=\"nf\">var</span><span class=\"p\">(</span><span class=\"s2\">&quot;X&quot;</span><span class=\"p\">,</span><span class=\"s s-Atom\">node</span><span class=\"p\">)</span> <span class=\"nf\">var</span><span class=\"p\">(</span><span class=\"s2\">&quot;Y&quot;</span><span class=\"p\">,</span><span class=\"s s-Atom\">node</span><span class=\"p\">)</span> <span class=\"nf\">var</span><span class=\"p\">(</span><span class=\"s2\">&quot;Z1&quot;</span><span class=\"p\">,</span><span class=\"s s-Atom\">node</span><span class=\"p\">)</span> <span class=\"nf\">var</span><span class=\"p\">(</span><span class=\"s2\">&quot;Z2&quot;</span><span class=\"p\">,</span><span class=\"s s-Atom\">node</span><span class=\"p\">)</span> <span class=\"nf\">arc</span><span class=\"p\">(</span><span class=\"s2\">&quot;X&quot;</span><span class=\"p\">,</span><span class=\"mi\">1</span><span class=\"p\">,</span><span class=\"s2\">&quot;e&quot;</span><span class=\"p\">,</span><span class=\"mi\">1</span><span class=\"p\">)</span> <span class=\"nf\">arc</span><span class=\"p\">(</span><span class=\"s2\">&quot;Z1&quot;</span><span class=\"p\">,</span><span class=\"mi\">2</span><span class=\"p\">,</span><span class=\"s2\">&quot;e&quot;</span><span class=\"p\">,</span><span class=\"mi\">1</span><span class=\"p\">)</span> <span class=\"nf\">arc</span><span class=\"p\">(</span><span class=\"s2\">&quot;Z1&quot;</span><span class=\"p\">,</span><span class=\"mi\">1</span><span class=\"p\">,</span><span class=\"s2\">&quot;e&quot;</span><span class=\"p\">,</span><span class=\"mi\">2</span><span class=\"p\">)</span> <span class=\"nf\">arc</span><span class=\"p\">(</span><span class=\"s2\">&quot;Z2&quot;</span><span class=\"p\">,</span><span class=\"mi\">2</span><span class=\"p\">,</span><span class=\"s2\">&quot;e&quot;</span><span class=\"p\">,</span><span class=\"mi\">2</span><span class=\"p\">)</span> <span class=\"nf\">arc</span><span class=\"p\">(</span><span class=\"s2\">&quot;Z2&quot;</span><span class=\"p\">,</span><span class=\"mi\">1</span><span class=\"p\">,</span><span class=\"s2\">&quot;e&quot;</span><span class=\"p\">,</span><span class=\"mi\">3</span><span class=\"p\">)</span> <span class=\"nf\">arc</span><span class=\"p\">(</span><span class=\"s2\">&quot;Y&quot;</span><span class=\"p\">,</span><span class=\"mi\">2</span><span class=\"p\">,</span><span class=\"s2\">&quot;e&quot;</span><span class=\"p\">,</span><span class=\"mi\">3</span><span class=\"p\">)</span> <span class=\"nf\">newArc</span><span class=\"p\">(</span><span class=\"s2\">&quot;X&quot;</span><span class=\"p\">,</span><span class=\"mi\">1</span><span class=\"p\">,</span><span class=\"s2\">&quot;e&quot;</span><span class=\"p\">,</span><span class=\"mi\">1</span><span class=\"p\">)</span> <span class=\"nf\">ruleOccTrue</span><span class=\"p\">(</span><span class=\"s2\">&quot;e&quot;</span><span class=\"p\">,</span><span class=\"mi\">1</span><span class=\"p\">)</span> <span class=\"nf\">ruleOccTrue</span><span class=\"p\">(</span><span class=\"s2\">&quot;e&quot;</span><span class=\"p\">,</span><span class=\"mi\">2</span><span class=\"p\">)</span> <span class=\"nf\">ruleOccTrue</span><span class=\"p\">(</span><span class=\"s2\">&quot;e&quot;</span><span class=\"p\">,</span><span class=\"mi\">3</span><span class=\"p\">)</span> <span class=\"nf\">ruleHTrue</span><span class=\"p\">(</span><span class=\"s2\">&quot;thop&quot;</span><span class=\"p\">)</span> <span class=\"nf\">newArc</span><span class=\"p\">(</span><span class=\"s2\">&quot;Z1&quot;</span><span class=\"p\">,</span><span class=\"mi\">2</span><span class=\"p\">,</span><span class=\"s2\">&quot;e&quot;</span><span class=\"p\">,</span><span class=\"mi\">1</span><span class=\"p\">)</span> <span class=\"nf\">newArc</span><span class=\"p\">(</span><span class=\"s2\">&quot;Z1&quot;</span><span class=\"p\">,</span><span class=\"mi\">1</span><span class=\"p\">,</span><span class=\"s2\">&quot;e&quot;</span><span class=\"p\">,</span><span class=\"mi\">2</span><span class=\"p\">)</span> <span class=\"nf\">newArc</span><span class=\"p\">(</span><span class=\"s2\">&quot;Z2&quot;</span><span class=\"p\">,</span><span class=\"mi\">2</span><span class=\"p\">,</span><span class=\"s2\">&quot;e&quot;</span><span class=\"p\">,</span><span class=\"mi\">2</span><span class=\"p\">)</span> <span class=\"nf\">newArc</span><span class=\"p\">(</span><span class=\"s2\">&quot;Z2&quot;</span><span class=\"p\">,</span><span class=\"mi\">1</span><span class=\"p\">,</span><span class=\"s2\">&quot;e&quot;</span><span class=\"p\">,</span><span class=\"mi\">3</span><span class=\"p\">)</span> <span class=\"nf\">newArc</span><span class=\"p\">(</span><span class=\"s2\">&quot;Y&quot;</span><span class=\"p\">,</span><span class=\"mi\">2</span><span class=\"p\">,</span><span class=\"s2\">&quot;e&quot;</span><span class=\"p\">,</span><span class=\"mi\">3</span><span class=\"p\">)</span> <span class=\"nf\">e</span><span class=\"p\">(</span><span class=\"mi\">1</span><span class=\"p\">,</span><span class=\"s2\">&quot;X&quot;</span><span class=\"p\">,</span><span class=\"s2\">&quot;Z1&quot;</span><span class=\"p\">)</span> <span class=\"nf\">e</span><span class=\"p\">(</span><span class=\"mi\">2</span><span class=\"p\">,</span><span class=\"s2\">&quot;Z1&quot;</span><span class=\"p\">,</span><span class=\"s2\">&quot;Z2&quot;</span><span class=\"p\">)</span> <span class=\"nf\">e</span><span class=\"p\">(</span><span class=\"mi\">3</span><span class=\"p\">,</span><span class=\"s2\">&quot;Z2&quot;</span><span class=\"p\">,</span><span class=\"s2\">&quot;Y&quot;</span><span class=\"p\">)</span> <span class=\"nf\">e</span><span class=\"p\">(</span><span class=\"s2\">&quot;X&quot;</span><span class=\"p\">,</span><span class=\"s2\">&quot;Z1&quot;</span><span class=\"p\">)</span> <span class=\"nf\">e</span><span class=\"p\">(</span><span class=\"s2\">&quot;Z1&quot;</span><span class=\"p\">,</span><span class=\"s2\">&quot;Z2&quot;</span><span class=\"p\">)</span> <span class=\"nf\">e</span><span class=\"p\">(</span><span class=\"s2\">&quot;Z2&quot;</span><span class=\"p\">,</span><span class=\"s2\">&quot;Y&quot;</span><span class=\"p\">)</span> <span class=\"nf\">newVar</span><span class=\"p\">(</span><span class=\"s2\">&quot;Y&quot;</span><span class=\"p\">,</span><span class=\"s s-Atom\">node</span><span class=\"p\">)</span> <span class=\"nf\">newVar</span><span class=\"p\">(</span><span class=\"s2\">&quot;Z1&quot;</span><span class=\"p\">,</span><span class=\"s s-Atom\">node</span><span class=\"p\">)</span> <span class=\"nf\">newVar</span><span class=\"p\">(</span><span class=\"s2\">&quot;Z2&quot;</span><span class=\"p\">,</span><span class=\"s s-Atom\">node</span><span class=\"p\">)</span> <span class=\"nf\">neqOrd</span><span class=\"p\">(</span><span class=\"s2\">&quot;X&quot;</span><span class=\"p\">,</span><span class=\"s2\">&quot;Y&quot;</span><span class=\"p\">,</span><span class=\"s s-Atom\">node</span><span class=\"p\">)</span> <span class=\"nf\">neqOrd</span><span class=\"p\">(</span><span class=\"s2\">&quot;X&quot;</span><span class=\"p\">,</span><span class=\"s2\">&quot;Z1&quot;</span><span class=\"p\">,</span><span class=\"s s-Atom\">node</span><span class=\"p\">)</span> <span class=\"nf\">neqOrd</span><span class=\"p\">(</span><span class=\"s2\">&quot;Y&quot;</span><span class=\"p\">,</span><span class=\"s2\">&quot;Z1&quot;</span><span class=\"p\">,</span><span class=\"s s-Atom\">node</span><span class=\"p\">)</span> <span class=\"nf\">neqOrd</span><span class=\"p\">(</span><span class=\"s2\">&quot;X&quot;</span><span class=\"p\">,</span><span class=\"s2\">&quot;Z2&quot;</span><span class=\"p\">,</span><span class=\"s s-Atom\">node</span><span class=\"p\">)</span> <span class=\"nf\">neqOrd</span><span class=\"p\">(</span><span class=\"s2\">&quot;Y&quot;</span><span class=\"p\">,</span><span class=\"s2\">&quot;Z2&quot;</span><span class=\"p\">,</span><span class=\"s s-Atom\">node</span><span class=\"p\">)</span> <span class=\"nf\">neqOrd</span><span class=\"p\">(</span><span class=\"s2\">&quot;Z1&quot;</span><span class=\"p\">,</span><span class=\"s2\">&quot;Z2&quot;</span><span class=\"p\">,</span><span class=\"s s-Atom\">node</span><span class=\"p\">)</span>\n",
       "<span class=\"lineno\"> 3 </span><span class=\"nv\">Answer</span><span class=\"s s-Atom\">:</span> <span class=\"mi\">2</span>\n",
       "<span class=\"lineno\"> 4 </span><span class=\"nf\">ruleH</span><span class=\"p\">(</span><span class=\"s2\">&quot;thop&quot;</span><span class=\"p\">)</span> <span class=\"nf\">newVar</span><span class=\"p\">(</span><span class=\"s2\">&quot;X&quot;</span><span class=\"p\">,</span><span class=\"s s-Atom\">node</span><span class=\"p\">)</span> <span class=\"nf\">ruleOcc</span><span class=\"p\">(</span><span class=\"s2\">&quot;e&quot;</span><span class=\"p\">,</span><span class=\"mi\">1</span><span class=\"p\">)</span> <span class=\"nf\">ruleOcc</span><span class=\"p\">(</span><span class=\"s2\">&quot;e&quot;</span><span class=\"p\">,</span><span class=\"mi\">2</span><span class=\"p\">)</span> <span class=\"nf\">ruleOcc</span><span class=\"p\">(</span><span class=\"s2\">&quot;e&quot;</span><span class=\"p\">,</span><span class=\"mi\">3</span><span class=\"p\">)</span> <span class=\"nf\">var</span><span class=\"p\">(</span><span class=\"s2\">&quot;X&quot;</span><span class=\"p\">,</span><span class=\"s s-Atom\">node</span><span class=\"p\">)</span> <span class=\"nf\">var</span><span class=\"p\">(</span><span class=\"s2\">&quot;Y&quot;</span><span class=\"p\">,</span><span class=\"s s-Atom\">node</span><span class=\"p\">)</span> <span class=\"nf\">var</span><span class=\"p\">(</span><span class=\"s2\">&quot;Z1&quot;</span><span class=\"p\">,</span><span class=\"s s-Atom\">node</span><span class=\"p\">)</span> <span class=\"nf\">var</span><span class=\"p\">(</span><span class=\"s2\">&quot;Z2&quot;</span><span class=\"p\">,</span><span class=\"s s-Atom\">node</span><span class=\"p\">)</span> <span class=\"nf\">arc</span><span class=\"p\">(</span><span class=\"s2\">&quot;X&quot;</span><span class=\"p\">,</span><span class=\"mi\">1</span><span class=\"p\">,</span><span class=\"s2\">&quot;e&quot;</span><span class=\"p\">,</span><span class=\"mi\">1</span><span class=\"p\">)</span> <span class=\"nf\">arc</span><span class=\"p\">(</span><span class=\"s2\">&quot;Z1&quot;</span><span class=\"p\">,</span><span class=\"mi\">2</span><span class=\"p\">,</span><span class=\"s2\">&quot;e&quot;</span><span class=\"p\">,</span><span class=\"mi\">1</span><span class=\"p\">)</span> <span class=\"nf\">arc</span><span class=\"p\">(</span><span class=\"s2\">&quot;Z1&quot;</span><span class=\"p\">,</span><span class=\"mi\">1</span><span class=\"p\">,</span><span class=\"s2\">&quot;e&quot;</span><span class=\"p\">,</span><span class=\"mi\">2</span><span class=\"p\">)</span> <span class=\"nf\">arc</span><span class=\"p\">(</span><span class=\"s2\">&quot;Z2&quot;</span><span class=\"p\">,</span><span class=\"mi\">2</span><span class=\"p\">,</span><span class=\"s2\">&quot;e&quot;</span><span class=\"p\">,</span><span class=\"mi\">2</span><span class=\"p\">)</span> <span class=\"nf\">arc</span><span class=\"p\">(</span><span class=\"s2\">&quot;Z2&quot;</span><span class=\"p\">,</span><span class=\"mi\">1</span><span class=\"p\">,</span><span class=\"s2\">&quot;e&quot;</span><span class=\"p\">,</span><span class=\"mi\">3</span><span class=\"p\">)</span> <span class=\"nf\">arc</span><span class=\"p\">(</span><span class=\"s2\">&quot;Y&quot;</span><span class=\"p\">,</span><span class=\"mi\">2</span><span class=\"p\">,</span><span class=\"s2\">&quot;e&quot;</span><span class=\"p\">,</span><span class=\"mi\">3</span><span class=\"p\">)</span> <span class=\"nf\">newArc</span><span class=\"p\">(</span><span class=\"s2\">&quot;X&quot;</span><span class=\"p\">,</span><span class=\"mi\">1</span><span class=\"p\">,</span><span class=\"s2\">&quot;e&quot;</span><span class=\"p\">,</span><span class=\"mi\">1</span><span class=\"p\">)</span> <span class=\"nf\">ruleOccTrue</span><span class=\"p\">(</span><span class=\"s2\">&quot;e&quot;</span><span class=\"p\">,</span><span class=\"mi\">1</span><span class=\"p\">)</span> <span class=\"nf\">ruleOccTrue</span><span class=\"p\">(</span><span class=\"s2\">&quot;e&quot;</span><span class=\"p\">,</span><span class=\"mi\">2</span><span class=\"p\">)</span> <span class=\"nf\">ruleOccTrue</span><span class=\"p\">(</span><span class=\"s2\">&quot;e&quot;</span><span class=\"p\">,</span><span class=\"mi\">3</span><span class=\"p\">)</span> <span class=\"nf\">ruleHTrue</span><span class=\"p\">(</span><span class=\"s2\">&quot;thop&quot;</span><span class=\"p\">)</span> <span class=\"nf\">eqOrd</span><span class=\"p\">(</span><span class=\"s2\">&quot;Y&quot;</span><span class=\"p\">,</span><span class=\"s2\">&quot;Z2&quot;</span><span class=\"p\">,</span><span class=\"s s-Atom\">node</span><span class=\"p\">)</span> <span class=\"nf\">newArc</span><span class=\"p\">(</span><span class=\"s2\">&quot;Y&quot;</span><span class=\"p\">,</span><span class=\"mi\">2</span><span class=\"p\">,</span><span class=\"s2\">&quot;e&quot;</span><span class=\"p\">,</span><span class=\"mi\">2</span><span class=\"p\">)</span> <span class=\"nf\">newArc</span><span class=\"p\">(</span><span class=\"s2\">&quot;Y&quot;</span><span class=\"p\">,</span><span class=\"mi\">1</span><span class=\"p\">,</span><span class=\"s2\">&quot;e&quot;</span><span class=\"p\">,</span><span class=\"mi\">3</span><span class=\"p\">)</span> <span class=\"nf\">newArc</span><span class=\"p\">(</span><span class=\"s2\">&quot;Z1&quot;</span><span class=\"p\">,</span><span class=\"mi\">2</span><span class=\"p\">,</span><span class=\"s2\">&quot;e&quot;</span><span class=\"p\">,</span><span class=\"mi\">1</span><span class=\"p\">)</span> <span class=\"nf\">newArc</span><span class=\"p\">(</span><span class=\"s2\">&quot;Z1&quot;</span><span class=\"p\">,</span><span class=\"mi\">1</span><span class=\"p\">,</span><span class=\"s2\">&quot;e&quot;</span><span class=\"p\">,</span><span class=\"mi\">2</span><span class=\"p\">)</span> <span class=\"nf\">newArc</span><span class=\"p\">(</span><span class=\"s2\">&quot;Y&quot;</span><span class=\"p\">,</span><span class=\"mi\">2</span><span class=\"p\">,</span><span class=\"s2\">&quot;e&quot;</span><span class=\"p\">,</span><span class=\"mi\">3</span><span class=\"p\">)</span> <span class=\"nf\">e</span><span class=\"p\">(</span><span class=\"mi\">1</span><span class=\"p\">,</span><span class=\"s2\">&quot;X&quot;</span><span class=\"p\">,</span><span class=\"s2\">&quot;Z1&quot;</span><span class=\"p\">)</span> <span class=\"nf\">e</span><span class=\"p\">(</span><span class=\"mi\">2</span><span class=\"p\">,</span><span class=\"s2\">&quot;Z1&quot;</span><span class=\"p\">,</span><span class=\"s2\">&quot;Y&quot;</span><span class=\"p\">)</span> <span class=\"nf\">e</span><span class=\"p\">(</span><span class=\"mi\">3</span><span class=\"p\">,</span><span class=\"s2\">&quot;Y&quot;</span><span class=\"p\">,</span><span class=\"s2\">&quot;Y&quot;</span><span class=\"p\">)</span> <span class=\"nf\">e</span><span class=\"p\">(</span><span class=\"s2\">&quot;X&quot;</span><span class=\"p\">,</span><span class=\"s2\">&quot;Z1&quot;</span><span class=\"p\">)</span> <span class=\"nf\">e</span><span class=\"p\">(</span><span class=\"s2\">&quot;Y&quot;</span><span class=\"p\">,</span><span class=\"s2\">&quot;Y&quot;</span><span class=\"p\">)</span> <span class=\"nf\">e</span><span class=\"p\">(</span><span class=\"s2\">&quot;Z1&quot;</span><span class=\"p\">,</span><span class=\"s2\">&quot;Y&quot;</span><span class=\"p\">)</span> <span class=\"nf\">newVar</span><span class=\"p\">(</span><span class=\"s2\">&quot;Y&quot;</span><span class=\"p\">,</span><span class=\"s s-Atom\">node</span><span class=\"p\">)</span> <span class=\"nf\">newVar</span><span class=\"p\">(</span><span class=\"s2\">&quot;Z1&quot;</span><span class=\"p\">,</span><span class=\"s s-Atom\">node</span><span class=\"p\">)</span> <span class=\"nf\">neqOrd</span><span class=\"p\">(</span><span class=\"s2\">&quot;X&quot;</span><span class=\"p\">,</span><span class=\"s2\">&quot;Y&quot;</span><span class=\"p\">,</span><span class=\"s s-Atom\">node</span><span class=\"p\">)</span> <span class=\"nf\">neqOrd</span><span class=\"p\">(</span><span class=\"s2\">&quot;X&quot;</span><span class=\"p\">,</span><span class=\"s2\">&quot;Z1&quot;</span><span class=\"p\">,</span><span class=\"s s-Atom\">node</span><span class=\"p\">)</span> <span class=\"nf\">neqOrd</span><span class=\"p\">(</span><span class=\"s2\">&quot;Y&quot;</span><span class=\"p\">,</span><span class=\"s2\">&quot;Z1&quot;</span><span class=\"p\">,</span><span class=\"s s-Atom\">node</span><span class=\"p\">)</span> <span class=\"nf\">eqOrdMinimal</span><span class=\"p\">(</span><span class=\"s2\">&quot;Y&quot;</span><span class=\"p\">,</span><span class=\"s2\">&quot;Z2&quot;</span><span class=\"p\">,</span><span class=\"s s-Atom\">node</span><span class=\"p\">)</span>\n",
       "<span class=\"lineno\"> 5 </span><span class=\"nv\">Answer</span><span class=\"s s-Atom\">:</span> <span class=\"mi\">3</span>\n",
       "<span class=\"lineno\"> 6 </span><span class=\"nf\">ruleH</span><span class=\"p\">(</span><span class=\"s2\">&quot;thop&quot;</span><span class=\"p\">)</span> <span class=\"nf\">newVar</span><span class=\"p\">(</span><span class=\"s2\">&quot;X&quot;</span><span class=\"p\">,</span><span class=\"s s-Atom\">node</span><span class=\"p\">)</span> <span class=\"nf\">ruleOcc</span><span class=\"p\">(</span><span class=\"s2\">&quot;e&quot;</span><span class=\"p\">,</span><span class=\"mi\">1</span><span class=\"p\">)</span> <span class=\"nf\">ruleOcc</span><span class=\"p\">(</span><span class=\"s2\">&quot;e&quot;</span><span class=\"p\">,</span><span class=\"mi\">2</span><span class=\"p\">)</span> <span class=\"nf\">ruleOcc</span><span class=\"p\">(</span><span class=\"s2\">&quot;e&quot;</span><span class=\"p\">,</span><span class=\"mi\">3</span><span class=\"p\">)</span> <span class=\"nf\">var</span><span class=\"p\">(</span><span class=\"s2\">&quot;X&quot;</span><span class=\"p\">,</span><span class=\"s s-Atom\">node</span><span class=\"p\">)</span> <span class=\"nf\">var</span><span class=\"p\">(</span><span class=\"s2\">&quot;Y&quot;</span><span class=\"p\">,</span><span class=\"s s-Atom\">node</span><span class=\"p\">)</span> <span class=\"nf\">var</span><span class=\"p\">(</span><span class=\"s2\">&quot;Z1&quot;</span><span class=\"p\">,</span><span class=\"s s-Atom\">node</span><span class=\"p\">)</span> <span class=\"nf\">var</span><span class=\"p\">(</span><span class=\"s2\">&quot;Z2&quot;</span><span class=\"p\">,</span><span class=\"s s-Atom\">node</span><span class=\"p\">)</span> <span class=\"nf\">arc</span><span class=\"p\">(</span><span class=\"s2\">&quot;X&quot;</span><span class=\"p\">,</span><span class=\"mi\">1</span><span class=\"p\">,</span><span class=\"s2\">&quot;e&quot;</span><span class=\"p\">,</span><span class=\"mi\">1</span><span class=\"p\">)</span> <span class=\"nf\">arc</span><span class=\"p\">(</span><span class=\"s2\">&quot;Z1&quot;</span><span class=\"p\">,</span><span class=\"mi\">2</span><span class=\"p\">,</span><span class=\"s2\">&quot;e&quot;</span><span class=\"p\">,</span><span class=\"mi\">1</span><span class=\"p\">)</span> <span class=\"nf\">arc</span><span class=\"p\">(</span><span class=\"s2\">&quot;Z1&quot;</span><span class=\"p\">,</span><span class=\"mi\">1</span><span class=\"p\">,</span><span class=\"s2\">&quot;e&quot;</span><span class=\"p\">,</span><span class=\"mi\">2</span><span class=\"p\">)</span> <span class=\"nf\">arc</span><span class=\"p\">(</span><span class=\"s2\">&quot;Z2&quot;</span><span class=\"p\">,</span><span class=\"mi\">2</span><span class=\"p\">,</span><span class=\"s2\">&quot;e&quot;</span><span class=\"p\">,</span><span class=\"mi\">2</span><span class=\"p\">)</span> <span class=\"nf\">arc</span><span class=\"p\">(</span><span class=\"s2\">&quot;Z2&quot;</span><span class=\"p\">,</span><span class=\"mi\">1</span><span class=\"p\">,</span><span class=\"s2\">&quot;e&quot;</span><span class=\"p\">,</span><span class=\"mi\">3</span><span class=\"p\">)</span> <span class=\"nf\">arc</span><span class=\"p\">(</span><span class=\"s2\">&quot;Y&quot;</span><span class=\"p\">,</span><span class=\"mi\">2</span><span class=\"p\">,</span><span class=\"s2\">&quot;e&quot;</span><span class=\"p\">,</span><span class=\"mi\">3</span><span class=\"p\">)</span> <span class=\"nf\">newArc</span><span class=\"p\">(</span><span class=\"s2\">&quot;X&quot;</span><span class=\"p\">,</span><span class=\"mi\">1</span><span class=\"p\">,</span><span class=\"s2\">&quot;e&quot;</span><span class=\"p\">,</span><span class=\"mi\">1</span><span class=\"p\">)</span> <span class=\"nf\">ruleOccTrue</span><span class=\"p\">(</span><span class=\"s2\">&quot;e&quot;</span><span class=\"p\">,</span><span class=\"mi\">1</span><span class=\"p\">)</span> <span class=\"nf\">ruleOccTrue</span><span class=\"p\">(</span><span class=\"s2\">&quot;e&quot;</span><span class=\"p\">,</span><span class=\"mi\">2</span><span class=\"p\">)</span> <span class=\"nf\">ruleOccTrue</span><span class=\"p\">(</span><span class=\"s2\">&quot;e&quot;</span><span class=\"p\">,</span><span class=\"mi\">3</span><span class=\"p\">)</span> <span class=\"nf\">ruleHTrue</span><span class=\"p\">(</span><span class=\"s2\">&quot;thop&quot;</span><span class=\"p\">)</span> <span class=\"nf\">eqOrd</span><span class=\"p\">(</span><span class=\"s2\">&quot;Y&quot;</span><span class=\"p\">,</span><span class=\"s2\">&quot;Z1&quot;</span><span class=\"p\">,</span><span class=\"s s-Atom\">node</span><span class=\"p\">)</span> <span class=\"nf\">newArc</span><span class=\"p\">(</span><span class=\"s2\">&quot;Y&quot;</span><span class=\"p\">,</span><span class=\"mi\">2</span><span class=\"p\">,</span><span class=\"s2\">&quot;e&quot;</span><span class=\"p\">,</span><span class=\"mi\">1</span><span class=\"p\">)</span> <span class=\"nf\">newArc</span><span class=\"p\">(</span><span class=\"s2\">&quot;Y&quot;</span><span class=\"p\">,</span><span class=\"mi\">1</span><span class=\"p\">,</span><span class=\"s2\">&quot;e&quot;</span><span class=\"p\">,</span><span class=\"mi\">2</span><span class=\"p\">)</span> <span class=\"nf\">newArc</span><span class=\"p\">(</span><span class=\"s2\">&quot;Z2&quot;</span><span class=\"p\">,</span><span class=\"mi\">2</span><span class=\"p\">,</span><span class=\"s2\">&quot;e&quot;</span><span class=\"p\">,</span><span class=\"mi\">2</span><span class=\"p\">)</span> <span class=\"nf\">newArc</span><span class=\"p\">(</span><span class=\"s2\">&quot;Z2&quot;</span><span class=\"p\">,</span><span class=\"mi\">1</span><span class=\"p\">,</span><span class=\"s2\">&quot;e&quot;</span><span class=\"p\">,</span><span class=\"mi\">3</span><span class=\"p\">)</span> <span class=\"nf\">newArc</span><span class=\"p\">(</span><span class=\"s2\">&quot;Y&quot;</span><span class=\"p\">,</span><span class=\"mi\">2</span><span class=\"p\">,</span><span class=\"s2\">&quot;e&quot;</span><span class=\"p\">,</span><span class=\"mi\">3</span><span class=\"p\">)</span> <span class=\"nf\">e</span><span class=\"p\">(</span><span class=\"mi\">1</span><span class=\"p\">,</span><span class=\"s2\">&quot;X&quot;</span><span class=\"p\">,</span><span class=\"s2\">&quot;Y&quot;</span><span class=\"p\">)</span> <span class=\"nf\">e</span><span class=\"p\">(</span><span class=\"mi\">2</span><span class=\"p\">,</span><span class=\"s2\">&quot;Y&quot;</span><span class=\"p\">,</span><span class=\"s2\">&quot;Z2&quot;</span><span class=\"p\">)</span> <span class=\"nf\">e</span><span class=\"p\">(</span><span class=\"mi\">3</span><span class=\"p\">,</span><span class=\"s2\">&quot;Z2&quot;</span><span class=\"p\">,</span><span class=\"s2\">&quot;Y&quot;</span><span class=\"p\">)</span> <span class=\"nf\">e</span><span class=\"p\">(</span><span class=\"s2\">&quot;X&quot;</span><span class=\"p\">,</span><span class=\"s2\">&quot;Y&quot;</span><span class=\"p\">)</span> <span class=\"nf\">e</span><span class=\"p\">(</span><span class=\"s2\">&quot;Y&quot;</span><span class=\"p\">,</span><span class=\"s2\">&quot;Z2&quot;</span><span class=\"p\">)</span> <span class=\"nf\">e</span><span class=\"p\">(</span><span class=\"s2\">&quot;Z2&quot;</span><span class=\"p\">,</span><span class=\"s2\">&quot;Y&quot;</span><span class=\"p\">)</span> <span class=\"nf\">newVar</span><span class=\"p\">(</span><span class=\"s2\">&quot;Y&quot;</span><span class=\"p\">,</span><span class=\"s s-Atom\">node</span><span class=\"p\">)</span> <span class=\"nf\">newVar</span><span class=\"p\">(</span><span class=\"s2\">&quot;Z2&quot;</span><span class=\"p\">,</span><span class=\"s s-Atom\">node</span><span class=\"p\">)</span> <span class=\"nf\">neqOrd</span><span class=\"p\">(</span><span class=\"s2\">&quot;X&quot;</span><span class=\"p\">,</span><span class=\"s2\">&quot;Y&quot;</span><span class=\"p\">,</span><span class=\"s s-Atom\">node</span><span class=\"p\">)</span> <span class=\"nf\">neqOrd</span><span class=\"p\">(</span><span class=\"s2\">&quot;X&quot;</span><span class=\"p\">,</span><span class=\"s2\">&quot;Z2&quot;</span><span class=\"p\">,</span><span class=\"s s-Atom\">node</span><span class=\"p\">)</span> <span class=\"nf\">neqOrd</span><span class=\"p\">(</span><span class=\"s2\">&quot;Y&quot;</span><span class=\"p\">,</span><span class=\"s2\">&quot;Z2&quot;</span><span class=\"p\">,</span><span class=\"s s-Atom\">node</span><span class=\"p\">)</span> <span class=\"nf\">eqOrdMinimal</span><span class=\"p\">(</span><span class=\"s2\">&quot;Y&quot;</span><span class=\"p\">,</span><span class=\"s2\">&quot;Z1&quot;</span><span class=\"p\">,</span><span class=\"s s-Atom\">node</span><span class=\"p\">)</span>\n",
       "<span class=\"lineno\"> 7 </span><span class=\"nv\">Answer</span><span class=\"s s-Atom\">:</span> <span class=\"mi\">4</span>\n",
       "<span class=\"lineno\"> 8 </span><span class=\"nf\">ruleH</span><span class=\"p\">(</span><span class=\"s2\">&quot;thop&quot;</span><span class=\"p\">)</span> <span class=\"nf\">newVar</span><span class=\"p\">(</span><span class=\"s2\">&quot;X&quot;</span><span class=\"p\">,</span><span class=\"s s-Atom\">node</span><span class=\"p\">)</span> <span class=\"nf\">ruleOcc</span><span class=\"p\">(</span><span class=\"s2\">&quot;e&quot;</span><span class=\"p\">,</span><span class=\"mi\">1</span><span class=\"p\">)</span> <span class=\"nf\">ruleOcc</span><span class=\"p\">(</span><span class=\"s2\">&quot;e&quot;</span><span class=\"p\">,</span><span class=\"mi\">2</span><span class=\"p\">)</span> <span class=\"nf\">ruleOcc</span><span class=\"p\">(</span><span class=\"s2\">&quot;e&quot;</span><span class=\"p\">,</span><span class=\"mi\">3</span><span class=\"p\">)</span> <span class=\"nf\">var</span><span class=\"p\">(</span><span class=\"s2\">&quot;X&quot;</span><span class=\"p\">,</span><span class=\"s s-Atom\">node</span><span class=\"p\">)</span> <span class=\"nf\">var</span><span class=\"p\">(</span><span class=\"s2\">&quot;Y&quot;</span><span class=\"p\">,</span><span class=\"s s-Atom\">node</span><span class=\"p\">)</span> <span class=\"nf\">var</span><span class=\"p\">(</span><span class=\"s2\">&quot;Z1&quot;</span><span class=\"p\">,</span><span class=\"s s-Atom\">node</span><span class=\"p\">)</span> <span class=\"nf\">var</span><span class=\"p\">(</span><span class=\"s2\">&quot;Z2&quot;</span><span class=\"p\">,</span><span class=\"s s-Atom\">node</span><span class=\"p\">)</span> <span class=\"nf\">arc</span><span class=\"p\">(</span><span class=\"s2\">&quot;X&quot;</span><span class=\"p\">,</span><span class=\"mi\">1</span><span class=\"p\">,</span><span class=\"s2\">&quot;e&quot;</span><span class=\"p\">,</span><span class=\"mi\">1</span><span class=\"p\">)</span> <span class=\"nf\">arc</span><span class=\"p\">(</span><span class=\"s2\">&quot;Z1&quot;</span><span class=\"p\">,</span><span class=\"mi\">2</span><span class=\"p\">,</span><span class=\"s2\">&quot;e&quot;</span><span class=\"p\">,</span><span class=\"mi\">1</span><span class=\"p\">)</span> <span class=\"nf\">arc</span><span class=\"p\">(</span><span class=\"s2\">&quot;Z1&quot;</span><span class=\"p\">,</span><span class=\"mi\">1</span><span class=\"p\">,</span><span class=\"s2\">&quot;e&quot;</span><span class=\"p\">,</span><span class=\"mi\">2</span><span class=\"p\">)</span> <span class=\"nf\">arc</span><span class=\"p\">(</span><span class=\"s2\">&quot;Z2&quot;</span><span class=\"p\">,</span><span class=\"mi\">2</span><span class=\"p\">,</span><span class=\"s2\">&quot;e&quot;</span><span class=\"p\">,</span><span class=\"mi\">2</span><span class=\"p\">)</span> <span class=\"nf\">arc</span><span class=\"p\">(</span><span class=\"s2\">&quot;Z2&quot;</span><span class=\"p\">,</span><span class=\"mi\">1</span><span class=\"p\">,</span><span class=\"s2\">&quot;e&quot;</span><span class=\"p\">,</span><span class=\"mi\">3</span><span class=\"p\">)</span> <span class=\"nf\">arc</span><span class=\"p\">(</span><span class=\"s2\">&quot;Y&quot;</span><span class=\"p\">,</span><span class=\"mi\">2</span><span class=\"p\">,</span><span class=\"s2\">&quot;e&quot;</span><span class=\"p\">,</span><span class=\"mi\">3</span><span class=\"p\">)</span> <span class=\"nf\">newArc</span><span class=\"p\">(</span><span class=\"s2\">&quot;X&quot;</span><span class=\"p\">,</span><span class=\"mi\">1</span><span class=\"p\">,</span><span class=\"s2\">&quot;e&quot;</span><span class=\"p\">,</span><span class=\"mi\">1</span><span class=\"p\">)</span> <span class=\"nf\">ruleOccTrue</span><span class=\"p\">(</span><span class=\"s2\">&quot;e&quot;</span><span class=\"p\">,</span><span class=\"mi\">1</span><span class=\"p\">)</span> <span class=\"nf\">ruleOccTrue</span><span class=\"p\">(</span><span class=\"s2\">&quot;e&quot;</span><span class=\"p\">,</span><span class=\"mi\">2</span><span class=\"p\">)</span> <span class=\"nf\">ruleOccTrue</span><span class=\"p\">(</span><span class=\"s2\">&quot;e&quot;</span><span class=\"p\">,</span><span class=\"mi\">3</span><span class=\"p\">)</span> <span class=\"nf\">ruleHTrue</span><span class=\"p\">(</span><span class=\"s2\">&quot;thop&quot;</span><span class=\"p\">)</span> <span class=\"nf\">eqOrd</span><span class=\"p\">(</span><span class=\"s2\">&quot;Z1&quot;</span><span class=\"p\">,</span><span class=\"s2\">&quot;Z2&quot;</span><span class=\"p\">,</span><span class=\"s s-Atom\">node</span><span class=\"p\">)</span> <span class=\"nf\">newArc</span><span class=\"p\">(</span><span class=\"s2\">&quot;Z1&quot;</span><span class=\"p\">,</span><span class=\"mi\">2</span><span class=\"p\">,</span><span class=\"s2\">&quot;e&quot;</span><span class=\"p\">,</span><span class=\"mi\">2</span><span class=\"p\">)</span> <span class=\"nf\">newArc</span><span class=\"p\">(</span><span class=\"s2\">&quot;Z1&quot;</span><span class=\"p\">,</span><span class=\"mi\">1</span><span class=\"p\">,</span><span class=\"s2\">&quot;e&quot;</span><span class=\"p\">,</span><span class=\"mi\">3</span><span class=\"p\">)</span> <span class=\"nf\">newArc</span><span class=\"p\">(</span><span class=\"s2\">&quot;Z1&quot;</span><span class=\"p\">,</span><span class=\"mi\">2</span><span class=\"p\">,</span><span class=\"s2\">&quot;e&quot;</span><span class=\"p\">,</span><span class=\"mi\">1</span><span class=\"p\">)</span> <span class=\"nf\">newArc</span><span class=\"p\">(</span><span class=\"s2\">&quot;Z1&quot;</span><span class=\"p\">,</span><span class=\"mi\">1</span><span class=\"p\">,</span><span class=\"s2\">&quot;e&quot;</span><span class=\"p\">,</span><span class=\"mi\">2</span><span class=\"p\">)</span> <span class=\"nf\">newArc</span><span class=\"p\">(</span><span class=\"s2\">&quot;Y&quot;</span><span class=\"p\">,</span><span class=\"mi\">2</span><span class=\"p\">,</span><span class=\"s2\">&quot;e&quot;</span><span class=\"p\">,</span><span class=\"mi\">3</span><span class=\"p\">)</span> <span class=\"nf\">e</span><span class=\"p\">(</span><span class=\"mi\">1</span><span class=\"p\">,</span><span class=\"s2\">&quot;X&quot;</span><span class=\"p\">,</span><span class=\"s2\">&quot;Z1&quot;</span><span class=\"p\">)</span> <span class=\"nf\">e</span><span class=\"p\">(</span><span class=\"mi\">2</span><span class=\"p\">,</span><span class=\"s2\">&quot;Z1&quot;</span><span class=\"p\">,</span><span class=\"s2\">&quot;Z1&quot;</span><span class=\"p\">)</span> <span class=\"nf\">e</span><span class=\"p\">(</span><span class=\"mi\">3</span><span class=\"p\">,</span><span class=\"s2\">&quot;Z1&quot;</span><span class=\"p\">,</span><span class=\"s2\">&quot;Y&quot;</span><span class=\"p\">)</span> <span class=\"nf\">e</span><span class=\"p\">(</span><span class=\"s2\">&quot;X&quot;</span><span class=\"p\">,</span><span class=\"s2\">&quot;Z1&quot;</span><span class=\"p\">)</span> <span class=\"nf\">e</span><span class=\"p\">(</span><span class=\"s2\">&quot;Z1&quot;</span><span class=\"p\">,</span><span class=\"s2\">&quot;Y&quot;</span><span class=\"p\">)</span> <span class=\"nf\">e</span><span class=\"p\">(</span><span class=\"s2\">&quot;Z1&quot;</span><span class=\"p\">,</span><span class=\"s2\">&quot;Z1&quot;</span><span class=\"p\">)</span> <span class=\"nf\">newVar</span><span class=\"p\">(</span><span class=\"s2\">&quot;Y&quot;</span><span class=\"p\">,</span><span class=\"s s-Atom\">node</span><span class=\"p\">)</span> <span class=\"nf\">newVar</span><span class=\"p\">(</span><span class=\"s2\">&quot;Z1&quot;</span><span class=\"p\">,</span><span class=\"s s-Atom\">node</span><span class=\"p\">)</span> <span class=\"nf\">neqOrd</span><span class=\"p\">(</span><span class=\"s2\">&quot;X&quot;</span><span class=\"p\">,</span><span class=\"s2\">&quot;Y&quot;</span><span class=\"p\">,</span><span class=\"s s-Atom\">node</span><span class=\"p\">)</span> <span class=\"nf\">neqOrd</span><span class=\"p\">(</span><span class=\"s2\">&quot;X&quot;</span><span class=\"p\">,</span><span class=\"s2\">&quot;Z1&quot;</span><span class=\"p\">,</span><span class=\"s s-Atom\">node</span><span class=\"p\">)</span> <span class=\"nf\">neqOrd</span><span class=\"p\">(</span><span class=\"s2\">&quot;Y&quot;</span><span class=\"p\">,</span><span class=\"s2\">&quot;Z1&quot;</span><span class=\"p\">,</span><span class=\"s s-Atom\">node</span><span class=\"p\">)</span> <span class=\"nf\">eqOrdMinimal</span><span class=\"p\">(</span><span class=\"s2\">&quot;Z1&quot;</span><span class=\"p\">,</span><span class=\"s2\">&quot;Z2&quot;</span><span class=\"p\">,</span><span class=\"s s-Atom\">node</span><span class=\"p\">)</span>\n",
       "<span class=\"lineno\"> 9 </span><span class=\"nv\">Answer</span><span class=\"s s-Atom\">:</span> <span class=\"mi\">5</span>\n",
       "<span class=\"lineno\">10 </span><span class=\"nf\">ruleH</span><span class=\"p\">(</span><span class=\"s2\">&quot;thop&quot;</span><span class=\"p\">)</span> <span class=\"nf\">newVar</span><span class=\"p\">(</span><span class=\"s2\">&quot;X&quot;</span><span class=\"p\">,</span><span class=\"s s-Atom\">node</span><span class=\"p\">)</span> <span class=\"nf\">ruleOcc</span><span class=\"p\">(</span><span class=\"s2\">&quot;e&quot;</span><span class=\"p\">,</span><span class=\"mi\">1</span><span class=\"p\">)</span> <span class=\"nf\">ruleOcc</span><span class=\"p\">(</span><span class=\"s2\">&quot;e&quot;</span><span class=\"p\">,</span><span class=\"mi\">2</span><span class=\"p\">)</span> <span class=\"nf\">ruleOcc</span><span class=\"p\">(</span><span class=\"s2\">&quot;e&quot;</span><span class=\"p\">,</span><span class=\"mi\">3</span><span class=\"p\">)</span> <span class=\"nf\">var</span><span class=\"p\">(</span><span class=\"s2\">&quot;X&quot;</span><span class=\"p\">,</span><span class=\"s s-Atom\">node</span><span class=\"p\">)</span> <span class=\"nf\">var</span><span class=\"p\">(</span><span class=\"s2\">&quot;Y&quot;</span><span class=\"p\">,</span><span class=\"s s-Atom\">node</span><span class=\"p\">)</span> <span class=\"nf\">var</span><span class=\"p\">(</span><span class=\"s2\">&quot;Z1&quot;</span><span class=\"p\">,</span><span class=\"s s-Atom\">node</span><span class=\"p\">)</span> <span class=\"nf\">var</span><span class=\"p\">(</span><span class=\"s2\">&quot;Z2&quot;</span><span class=\"p\">,</span><span class=\"s s-Atom\">node</span><span class=\"p\">)</span> <span class=\"nf\">arc</span><span class=\"p\">(</span><span class=\"s2\">&quot;X&quot;</span><span class=\"p\">,</span><span class=\"mi\">1</span><span class=\"p\">,</span><span class=\"s2\">&quot;e&quot;</span><span class=\"p\">,</span><span class=\"mi\">1</span><span class=\"p\">)</span> <span class=\"nf\">arc</span><span class=\"p\">(</span><span class=\"s2\">&quot;Z1&quot;</span><span class=\"p\">,</span><span class=\"mi\">2</span><span class=\"p\">,</span><span class=\"s2\">&quot;e&quot;</span><span class=\"p\">,</span><span class=\"mi\">1</span><span class=\"p\">)</span> <span class=\"nf\">arc</span><span class=\"p\">(</span><span class=\"s2\">&quot;Z1&quot;</span><span class=\"p\">,</span><span class=\"mi\">1</span><span class=\"p\">,</span><span class=\"s2\">&quot;e&quot;</span><span class=\"p\">,</span><span class=\"mi\">2</span><span class=\"p\">)</span> <span class=\"nf\">arc</span><span class=\"p\">(</span><span class=\"s2\">&quot;Z2&quot;</span><span class=\"p\">,</span><span class=\"mi\">2</span><span class=\"p\">,</span><span class=\"s2\">&quot;e&quot;</span><span class=\"p\">,</span><span class=\"mi\">2</span><span class=\"p\">)</span> <span class=\"nf\">arc</span><span class=\"p\">(</span><span class=\"s2\">&quot;Z2&quot;</span><span class=\"p\">,</span><span class=\"mi\">1</span><span class=\"p\">,</span><span class=\"s2\">&quot;e&quot;</span><span class=\"p\">,</span><span class=\"mi\">3</span><span class=\"p\">)</span> <span class=\"nf\">arc</span><span class=\"p\">(</span><span class=\"s2\">&quot;Y&quot;</span><span class=\"p\">,</span><span class=\"mi\">2</span><span class=\"p\">,</span><span class=\"s2\">&quot;e&quot;</span><span class=\"p\">,</span><span class=\"mi\">3</span><span class=\"p\">)</span> <span class=\"nf\">newArc</span><span class=\"p\">(</span><span class=\"s2\">&quot;X&quot;</span><span class=\"p\">,</span><span class=\"mi\">1</span><span class=\"p\">,</span><span class=\"s2\">&quot;e&quot;</span><span class=\"p\">,</span><span class=\"mi\">1</span><span class=\"p\">)</span> <span class=\"nf\">ruleOccTrue</span><span class=\"p\">(</span><span class=\"s2\">&quot;e&quot;</span><span class=\"p\">,</span><span class=\"mi\">1</span><span class=\"p\">)</span> <span class=\"nf\">ruleOccTrue</span><span class=\"p\">(</span><span class=\"s2\">&quot;e&quot;</span><span class=\"p\">,</span><span class=\"mi\">2</span><span class=\"p\">)</span> <span class=\"nf\">ruleOccTrue</span><span class=\"p\">(</span><span class=\"s2\">&quot;e&quot;</span><span class=\"p\">,</span><span class=\"mi\">3</span><span class=\"p\">)</span> <span class=\"nf\">ruleHTrue</span><span class=\"p\">(</span><span class=\"s2\">&quot;thop&quot;</span><span class=\"p\">)</span> <span class=\"nf\">eqOrd</span><span class=\"p\">(</span><span class=\"s2\">&quot;Y&quot;</span><span class=\"p\">,</span><span class=\"s2\">&quot;Z1&quot;</span><span class=\"p\">,</span><span class=\"s s-Atom\">node</span><span class=\"p\">)</span> <span class=\"nf\">eqOrd</span><span class=\"p\">(</span><span class=\"s2\">&quot;Y&quot;</span><span class=\"p\">,</span><span class=\"s2\">&quot;Z2&quot;</span><span class=\"p\">,</span><span class=\"s s-Atom\">node</span><span class=\"p\">)</span> <span class=\"nf\">eqOrd</span><span class=\"p\">(</span><span class=\"s2\">&quot;Z1&quot;</span><span class=\"p\">,</span><span class=\"s2\">&quot;Z2&quot;</span><span class=\"p\">,</span><span class=\"s s-Atom\">node</span><span class=\"p\">)</span> <span class=\"nf\">newArc</span><span class=\"p\">(</span><span class=\"s2\">&quot;Y&quot;</span><span class=\"p\">,</span><span class=\"mi\">2</span><span class=\"p\">,</span><span class=\"s2\">&quot;e&quot;</span><span class=\"p\">,</span><span class=\"mi\">1</span><span class=\"p\">)</span> <span class=\"nf\">newArc</span><span class=\"p\">(</span><span class=\"s2\">&quot;Y&quot;</span><span class=\"p\">,</span><span class=\"mi\">1</span><span class=\"p\">,</span><span class=\"s2\">&quot;e&quot;</span><span class=\"p\">,</span><span class=\"mi\">2</span><span class=\"p\">)</span> <span class=\"nf\">newArc</span><span class=\"p\">(</span><span class=\"s2\">&quot;Y&quot;</span><span class=\"p\">,</span><span class=\"mi\">2</span><span class=\"p\">,</span><span class=\"s2\">&quot;e&quot;</span><span class=\"p\">,</span><span class=\"mi\">2</span><span class=\"p\">)</span> <span class=\"nf\">newArc</span><span class=\"p\">(</span><span class=\"s2\">&quot;Y&quot;</span><span class=\"p\">,</span><span class=\"mi\">1</span><span class=\"p\">,</span><span class=\"s2\">&quot;e&quot;</span><span class=\"p\">,</span><span class=\"mi\">3</span><span class=\"p\">)</span> <span class=\"nf\">newArc</span><span class=\"p\">(</span><span class=\"s2\">&quot;Y&quot;</span><span class=\"p\">,</span><span class=\"mi\">2</span><span class=\"p\">,</span><span class=\"s2\">&quot;e&quot;</span><span class=\"p\">,</span><span class=\"mi\">3</span><span class=\"p\">)</span> <span class=\"nf\">e</span><span class=\"p\">(</span><span class=\"mi\">1</span><span class=\"p\">,</span><span class=\"s2\">&quot;X&quot;</span><span class=\"p\">,</span><span class=\"s2\">&quot;Y&quot;</span><span class=\"p\">)</span> <span class=\"nf\">e</span><span class=\"p\">(</span><span class=\"mi\">2</span><span class=\"p\">,</span><span class=\"s2\">&quot;Y&quot;</span><span class=\"p\">,</span><span class=\"s2\">&quot;Y&quot;</span><span class=\"p\">)</span> <span class=\"nf\">e</span><span class=\"p\">(</span><span class=\"mi\">3</span><span class=\"p\">,</span><span class=\"s2\">&quot;Y&quot;</span><span class=\"p\">,</span><span class=\"s2\">&quot;Y&quot;</span><span class=\"p\">)</span> <span class=\"nf\">e</span><span class=\"p\">(</span><span class=\"s2\">&quot;X&quot;</span><span class=\"p\">,</span><span class=\"s2\">&quot;Y&quot;</span><span class=\"p\">)</span> <span class=\"nf\">e</span><span class=\"p\">(</span><span class=\"s2\">&quot;Y&quot;</span><span class=\"p\">,</span><span class=\"s2\">&quot;Y&quot;</span><span class=\"p\">)</span> <span class=\"nf\">newVar</span><span class=\"p\">(</span><span class=\"s2\">&quot;Y&quot;</span><span class=\"p\">,</span><span class=\"s s-Atom\">node</span><span class=\"p\">)</span> <span class=\"nf\">neqOrd</span><span class=\"p\">(</span><span class=\"s2\">&quot;X&quot;</span><span class=\"p\">,</span><span class=\"s2\">&quot;Y&quot;</span><span class=\"p\">,</span><span class=\"s s-Atom\">node</span><span class=\"p\">)</span> <span class=\"nf\">eqOrdMinimal</span><span class=\"p\">(</span><span class=\"s2\">&quot;Y&quot;</span><span class=\"p\">,</span><span class=\"s2\">&quot;Z1&quot;</span><span class=\"p\">,</span><span class=\"s s-Atom\">node</span><span class=\"p\">)</span> <span class=\"nf\">eqOrdMinimal</span><span class=\"p\">(</span><span class=\"s2\">&quot;Y&quot;</span><span class=\"p\">,</span><span class=\"s2\">&quot;Z2&quot;</span><span class=\"p\">,</span><span class=\"s s-Atom\">node</span><span class=\"p\">)</span>\n",
       "<span class=\"lineno\">11 </span><span class=\"nv\">Answer</span><span class=\"s s-Atom\">:</span> <span class=\"mi\">6</span>\n",
       "<span class=\"lineno\">12 </span><span class=\"nf\">ruleH</span><span class=\"p\">(</span><span class=\"s2\">&quot;thop&quot;</span><span class=\"p\">)</span> <span class=\"nf\">newVar</span><span class=\"p\">(</span><span class=\"s2\">&quot;X&quot;</span><span class=\"p\">,</span><span class=\"s s-Atom\">node</span><span class=\"p\">)</span> <span class=\"nf\">ruleOcc</span><span class=\"p\">(</span><span class=\"s2\">&quot;e&quot;</span><span class=\"p\">,</span><span class=\"mi\">1</span><span class=\"p\">)</span> <span class=\"nf\">ruleOcc</span><span class=\"p\">(</span><span class=\"s2\">&quot;e&quot;</span><span class=\"p\">,</span><span class=\"mi\">2</span><span class=\"p\">)</span> <span class=\"nf\">ruleOcc</span><span class=\"p\">(</span><span class=\"s2\">&quot;e&quot;</span><span class=\"p\">,</span><span class=\"mi\">3</span><span class=\"p\">)</span> <span class=\"nf\">var</span><span class=\"p\">(</span><span class=\"s2\">&quot;X&quot;</span><span class=\"p\">,</span><span class=\"s s-Atom\">node</span><span class=\"p\">)</span> <span class=\"nf\">var</span><span class=\"p\">(</span><span class=\"s2\">&quot;Y&quot;</span><span class=\"p\">,</span><span class=\"s s-Atom\">node</span><span class=\"p\">)</span> <span class=\"nf\">var</span><span class=\"p\">(</span><span class=\"s2\">&quot;Z1&quot;</span><span class=\"p\">,</span><span class=\"s s-Atom\">node</span><span class=\"p\">)</span> <span class=\"nf\">var</span><span class=\"p\">(</span><span class=\"s2\">&quot;Z2&quot;</span><span class=\"p\">,</span><span class=\"s s-Atom\">node</span><span class=\"p\">)</span> <span class=\"nf\">arc</span><span class=\"p\">(</span><span class=\"s2\">&quot;X&quot;</span><span class=\"p\">,</span><span class=\"mi\">1</span><span class=\"p\">,</span><span class=\"s2\">&quot;e&quot;</span><span class=\"p\">,</span><span class=\"mi\">1</span><span class=\"p\">)</span> <span class=\"nf\">arc</span><span class=\"p\">(</span><span class=\"s2\">&quot;Z1&quot;</span><span class=\"p\">,</span><span class=\"mi\">2</span><span class=\"p\">,</span><span class=\"s2\">&quot;e&quot;</span><span class=\"p\">,</span><span class=\"mi\">1</span><span class=\"p\">)</span> <span class=\"nf\">arc</span><span class=\"p\">(</span><span class=\"s2\">&quot;Z1&quot;</span><span class=\"p\">,</span><span class=\"mi\">1</span><span class=\"p\">,</span><span class=\"s2\">&quot;e&quot;</span><span class=\"p\">,</span><span class=\"mi\">2</span><span class=\"p\">)</span> <span class=\"nf\">arc</span><span class=\"p\">(</span><span class=\"s2\">&quot;Z2&quot;</span><span class=\"p\">,</span><span class=\"mi\">2</span><span class=\"p\">,</span><span class=\"s2\">&quot;e&quot;</span><span class=\"p\">,</span><span class=\"mi\">2</span><span class=\"p\">)</span> <span class=\"nf\">arc</span><span class=\"p\">(</span><span class=\"s2\">&quot;Z2&quot;</span><span class=\"p\">,</span><span class=\"mi\">1</span><span class=\"p\">,</span><span class=\"s2\">&quot;e&quot;</span><span class=\"p\">,</span><span class=\"mi\">3</span><span class=\"p\">)</span> <span class=\"nf\">arc</span><span class=\"p\">(</span><span class=\"s2\">&quot;Y&quot;</span><span class=\"p\">,</span><span class=\"mi\">2</span><span class=\"p\">,</span><span class=\"s2\">&quot;e&quot;</span><span class=\"p\">,</span><span class=\"mi\">3</span><span class=\"p\">)</span> <span class=\"nf\">newArc</span><span class=\"p\">(</span><span class=\"s2\">&quot;X&quot;</span><span class=\"p\">,</span><span class=\"mi\">1</span><span class=\"p\">,</span><span class=\"s2\">&quot;e&quot;</span><span class=\"p\">,</span><span class=\"mi\">1</span><span class=\"p\">)</span> <span class=\"nf\">ruleOccTrue</span><span class=\"p\">(</span><span class=\"s2\">&quot;e&quot;</span><span class=\"p\">,</span><span class=\"mi\">1</span><span class=\"p\">)</span> <span class=\"nf\">ruleOccTrue</span><span class=\"p\">(</span><span class=\"s2\">&quot;e&quot;</span><span class=\"p\">,</span><span class=\"mi\">2</span><span class=\"p\">)</span> <span class=\"nf\">ruleOccTrue</span><span class=\"p\">(</span><span class=\"s2\">&quot;e&quot;</span><span class=\"p\">,</span><span class=\"mi\">3</span><span class=\"p\">)</span> <span class=\"nf\">ruleHTrue</span><span class=\"p\">(</span><span class=\"s2\">&quot;thop&quot;</span><span class=\"p\">)</span> <span class=\"nf\">eqOrd</span><span class=\"p\">(</span><span class=\"s2\">&quot;X&quot;</span><span class=\"p\">,</span><span class=\"s2\">&quot;Z2&quot;</span><span class=\"p\">,</span><span class=\"s s-Atom\">node</span><span class=\"p\">)</span> <span class=\"nf\">newArc</span><span class=\"p\">(</span><span class=\"s2\">&quot;X&quot;</span><span class=\"p\">,</span><span class=\"mi\">2</span><span class=\"p\">,</span><span class=\"s2\">&quot;e&quot;</span><span class=\"p\">,</span><span class=\"mi\">2</span><span class=\"p\">)</span> <span class=\"nf\">newArc</span><span class=\"p\">(</span><span class=\"s2\">&quot;X&quot;</span><span class=\"p\">,</span><span class=\"mi\">1</span><span class=\"p\">,</span><span class=\"s2\">&quot;e&quot;</span><span class=\"p\">,</span><span class=\"mi\">3</span><span class=\"p\">)</span> <span class=\"nf\">newArc</span><span class=\"p\">(</span><span class=\"s2\">&quot;Z1&quot;</span><span class=\"p\">,</span><span class=\"mi\">2</span><span class=\"p\">,</span><span class=\"s2\">&quot;e&quot;</span><span class=\"p\">,</span><span class=\"mi\">1</span><span class=\"p\">)</span> <span class=\"nf\">newArc</span><span class=\"p\">(</span><span class=\"s2\">&quot;Z1&quot;</span><span class=\"p\">,</span><span class=\"mi\">1</span><span class=\"p\">,</span><span class=\"s2\">&quot;e&quot;</span><span class=\"p\">,</span><span class=\"mi\">2</span><span class=\"p\">)</span> <span class=\"nf\">newArc</span><span class=\"p\">(</span><span class=\"s2\">&quot;Y&quot;</span><span class=\"p\">,</span><span class=\"mi\">2</span><span class=\"p\">,</span><span class=\"s2\">&quot;e&quot;</span><span class=\"p\">,</span><span class=\"mi\">3</span><span class=\"p\">)</span> <span class=\"nf\">e</span><span class=\"p\">(</span><span class=\"mi\">1</span><span class=\"p\">,</span><span class=\"s2\">&quot;X&quot;</span><span class=\"p\">,</span><span class=\"s2\">&quot;Z1&quot;</span><span class=\"p\">)</span> <span class=\"nf\">e</span><span class=\"p\">(</span><span class=\"mi\">2</span><span class=\"p\">,</span><span class=\"s2\">&quot;Z1&quot;</span><span class=\"p\">,</span><span class=\"s2\">&quot;X&quot;</span><span class=\"p\">)</span> <span class=\"nf\">e</span><span class=\"p\">(</span><span class=\"mi\">3</span><span class=\"p\">,</span><span class=\"s2\">&quot;X&quot;</span><span class=\"p\">,</span><span class=\"s2\">&quot;Y&quot;</span><span class=\"p\">)</span> <span class=\"nf\">e</span><span class=\"p\">(</span><span class=\"s2\">&quot;X&quot;</span><span class=\"p\">,</span><span class=\"s2\">&quot;Y&quot;</span><span class=\"p\">)</span> <span class=\"nf\">e</span><span class=\"p\">(</span><span class=\"s2\">&quot;X&quot;</span><span class=\"p\">,</span><span class=\"s2\">&quot;Z1&quot;</span><span class=\"p\">)</span> <span class=\"nf\">e</span><span class=\"p\">(</span><span class=\"s2\">&quot;Z1&quot;</span><span class=\"p\">,</span><span class=\"s2\">&quot;X&quot;</span><span class=\"p\">)</span> <span class=\"nf\">newVar</span><span class=\"p\">(</span><span class=\"s2\">&quot;Y&quot;</span><span class=\"p\">,</span><span class=\"s s-Atom\">node</span><span class=\"p\">)</span> <span class=\"nf\">newVar</span><span class=\"p\">(</span><span class=\"s2\">&quot;Z1&quot;</span><span class=\"p\">,</span><span class=\"s s-Atom\">node</span><span class=\"p\">)</span> <span class=\"nf\">neqOrd</span><span class=\"p\">(</span><span class=\"s2\">&quot;X&quot;</span><span class=\"p\">,</span><span class=\"s2\">&quot;Y&quot;</span><span class=\"p\">,</span><span class=\"s s-Atom\">node</span><span class=\"p\">)</span> <span class=\"nf\">neqOrd</span><span class=\"p\">(</span><span class=\"s2\">&quot;X&quot;</span><span class=\"p\">,</span><span class=\"s2\">&quot;Z1&quot;</span><span class=\"p\">,</span><span class=\"s s-Atom\">node</span><span class=\"p\">)</span> <span class=\"nf\">neqOrd</span><span class=\"p\">(</span><span class=\"s2\">&quot;Y&quot;</span><span class=\"p\">,</span><span class=\"s2\">&quot;Z1&quot;</span><span class=\"p\">,</span><span class=\"s s-Atom\">node</span><span class=\"p\">)</span> <span class=\"nf\">eqOrdMinimal</span><span class=\"p\">(</span><span class=\"s2\">&quot;X&quot;</span><span class=\"p\">,</span><span class=\"s2\">&quot;Z2&quot;</span><span class=\"p\">,</span><span class=\"s s-Atom\">node</span><span class=\"p\">)</span>\n",
       "<span class=\"lineno\">13 </span><span class=\"nv\">Answer</span><span class=\"s s-Atom\">:</span> <span class=\"mi\">7</span>\n",
       "<span class=\"lineno\">14 </span><span class=\"nf\">ruleH</span><span class=\"p\">(</span><span class=\"s2\">&quot;thop&quot;</span><span class=\"p\">)</span> <span class=\"nf\">newVar</span><span class=\"p\">(</span><span class=\"s2\">&quot;X&quot;</span><span class=\"p\">,</span><span class=\"s s-Atom\">node</span><span class=\"p\">)</span> <span class=\"nf\">ruleOcc</span><span class=\"p\">(</span><span class=\"s2\">&quot;e&quot;</span><span class=\"p\">,</span><span class=\"mi\">1</span><span class=\"p\">)</span> <span class=\"nf\">ruleOcc</span><span class=\"p\">(</span><span class=\"s2\">&quot;e&quot;</span><span class=\"p\">,</span><span class=\"mi\">2</span><span class=\"p\">)</span> <span class=\"nf\">ruleOcc</span><span class=\"p\">(</span><span class=\"s2\">&quot;e&quot;</span><span class=\"p\">,</span><span class=\"mi\">3</span><span class=\"p\">)</span> <span class=\"nf\">var</span><span class=\"p\">(</span><span class=\"s2\">&quot;X&quot;</span><span class=\"p\">,</span><span class=\"s s-Atom\">node</span><span class=\"p\">)</span> <span class=\"nf\">var</span><span class=\"p\">(</span><span class=\"s2\">&quot;Y&quot;</span><span class=\"p\">,</span><span class=\"s s-Atom\">node</span><span class=\"p\">)</span> <span class=\"nf\">var</span><span class=\"p\">(</span><span class=\"s2\">&quot;Z1&quot;</span><span class=\"p\">,</span><span class=\"s s-Atom\">node</span><span class=\"p\">)</span> <span class=\"nf\">var</span><span class=\"p\">(</span><span class=\"s2\">&quot;Z2&quot;</span><span class=\"p\">,</span><span class=\"s s-Atom\">node</span><span class=\"p\">)</span> <span class=\"nf\">arc</span><span class=\"p\">(</span><span class=\"s2\">&quot;X&quot;</span><span class=\"p\">,</span><span class=\"mi\">1</span><span class=\"p\">,</span><span class=\"s2\">&quot;e&quot;</span><span class=\"p\">,</span><span class=\"mi\">1</span><span class=\"p\">)</span> <span class=\"nf\">arc</span><span class=\"p\">(</span><span class=\"s2\">&quot;Z1&quot;</span><span class=\"p\">,</span><span class=\"mi\">2</span><span class=\"p\">,</span><span class=\"s2\">&quot;e&quot;</span><span class=\"p\">,</span><span class=\"mi\">1</span><span class=\"p\">)</span> <span class=\"nf\">arc</span><span class=\"p\">(</span><span class=\"s2\">&quot;Z1&quot;</span><span class=\"p\">,</span><span class=\"mi\">1</span><span class=\"p\">,</span><span class=\"s2\">&quot;e&quot;</span><span class=\"p\">,</span><span class=\"mi\">2</span><span class=\"p\">)</span> <span class=\"nf\">arc</span><span class=\"p\">(</span><span class=\"s2\">&quot;Z2&quot;</span><span class=\"p\">,</span><span class=\"mi\">2</span><span class=\"p\">,</span><span class=\"s2\">&quot;e&quot;</span><span class=\"p\">,</span><span class=\"mi\">2</span><span class=\"p\">)</span> <span class=\"nf\">arc</span><span class=\"p\">(</span><span class=\"s2\">&quot;Z2&quot;</span><span class=\"p\">,</span><span class=\"mi\">1</span><span class=\"p\">,</span><span class=\"s2\">&quot;e&quot;</span><span class=\"p\">,</span><span class=\"mi\">3</span><span class=\"p\">)</span> <span class=\"nf\">arc</span><span class=\"p\">(</span><span class=\"s2\">&quot;Y&quot;</span><span class=\"p\">,</span><span class=\"mi\">2</span><span class=\"p\">,</span><span class=\"s2\">&quot;e&quot;</span><span class=\"p\">,</span><span class=\"mi\">3</span><span class=\"p\">)</span> <span class=\"nf\">newArc</span><span class=\"p\">(</span><span class=\"s2\">&quot;X&quot;</span><span class=\"p\">,</span><span class=\"mi\">1</span><span class=\"p\">,</span><span class=\"s2\">&quot;e&quot;</span><span class=\"p\">,</span><span class=\"mi\">1</span><span class=\"p\">)</span> <span class=\"nf\">ruleOccTrue</span><span class=\"p\">(</span><span class=\"s2\">&quot;e&quot;</span><span class=\"p\">,</span><span class=\"mi\">1</span><span class=\"p\">)</span> <span class=\"nf\">ruleOccTrue</span><span class=\"p\">(</span><span class=\"s2\">&quot;e&quot;</span><span class=\"p\">,</span><span class=\"mi\">2</span><span class=\"p\">)</span> <span class=\"nf\">ruleOccTrue</span><span class=\"p\">(</span><span class=\"s2\">&quot;e&quot;</span><span class=\"p\">,</span><span class=\"mi\">3</span><span class=\"p\">)</span> <span class=\"nf\">ruleHTrue</span><span class=\"p\">(</span><span class=\"s2\">&quot;thop&quot;</span><span class=\"p\">)</span> <span class=\"nf\">eqOrd</span><span class=\"p\">(</span><span class=\"s2\">&quot;Y&quot;</span><span class=\"p\">,</span><span class=\"s2\">&quot;Z1&quot;</span><span class=\"p\">,</span><span class=\"s s-Atom\">node</span><span class=\"p\">)</span> <span class=\"nf\">eqOrd</span><span class=\"p\">(</span><span class=\"s2\">&quot;X&quot;</span><span class=\"p\">,</span><span class=\"s2\">&quot;Z2&quot;</span><span class=\"p\">,</span><span class=\"s s-Atom\">node</span><span class=\"p\">)</span> <span class=\"nf\">newArc</span><span class=\"p\">(</span><span class=\"s2\">&quot;Y&quot;</span><span class=\"p\">,</span><span class=\"mi\">2</span><span class=\"p\">,</span><span class=\"s2\">&quot;e&quot;</span><span class=\"p\">,</span><span class=\"mi\">1</span><span class=\"p\">)</span> <span class=\"nf\">newArc</span><span class=\"p\">(</span><span class=\"s2\">&quot;Y&quot;</span><span class=\"p\">,</span><span class=\"mi\">1</span><span class=\"p\">,</span><span class=\"s2\">&quot;e&quot;</span><span class=\"p\">,</span><span class=\"mi\">2</span><span class=\"p\">)</span> <span class=\"nf\">newArc</span><span class=\"p\">(</span><span class=\"s2\">&quot;X&quot;</span><span class=\"p\">,</span><span class=\"mi\">2</span><span class=\"p\">,</span><span class=\"s2\">&quot;e&quot;</span><span class=\"p\">,</span><span class=\"mi\">2</span><span class=\"p\">)</span> <span class=\"nf\">newArc</span><span class=\"p\">(</span><span class=\"s2\">&quot;X&quot;</span><span class=\"p\">,</span><span class=\"mi\">1</span><span class=\"p\">,</span><span class=\"s2\">&quot;e&quot;</span><span class=\"p\">,</span><span class=\"mi\">3</span><span class=\"p\">)</span> <span class=\"nf\">newArc</span><span class=\"p\">(</span><span class=\"s2\">&quot;Y&quot;</span><span class=\"p\">,</span><span class=\"mi\">2</span><span class=\"p\">,</span><span class=\"s2\">&quot;e&quot;</span><span class=\"p\">,</span><span class=\"mi\">3</span><span class=\"p\">)</span> <span class=\"nf\">e</span><span class=\"p\">(</span><span class=\"mi\">1</span><span class=\"p\">,</span><span class=\"s2\">&quot;X&quot;</span><span class=\"p\">,</span><span class=\"s2\">&quot;Y&quot;</span><span class=\"p\">)</span> <span class=\"nf\">e</span><span class=\"p\">(</span><span class=\"mi\">2</span><span class=\"p\">,</span><span class=\"s2\">&quot;Y&quot;</span><span class=\"p\">,</span><span class=\"s2\">&quot;X&quot;</span><span class=\"p\">)</span> <span class=\"nf\">e</span><span class=\"p\">(</span><span class=\"mi\">3</span><span class=\"p\">,</span><span class=\"s2\">&quot;X&quot;</span><span class=\"p\">,</span><span class=\"s2\">&quot;Y&quot;</span><span class=\"p\">)</span> <span class=\"nf\">e</span><span class=\"p\">(</span><span class=\"s2\">&quot;X&quot;</span><span class=\"p\">,</span><span class=\"s2\">&quot;Y&quot;</span><span class=\"p\">)</span> <span class=\"nf\">e</span><span class=\"p\">(</span><span class=\"s2\">&quot;Y&quot;</span><span class=\"p\">,</span><span class=\"s2\">&quot;X&quot;</span><span class=\"p\">)</span> <span class=\"nf\">newVar</span><span class=\"p\">(</span><span class=\"s2\">&quot;Y&quot;</span><span class=\"p\">,</span><span class=\"s s-Atom\">node</span><span class=\"p\">)</span> <span class=\"nf\">neqOrd</span><span class=\"p\">(</span><span class=\"s2\">&quot;X&quot;</span><span class=\"p\">,</span><span class=\"s2\">&quot;Y&quot;</span><span class=\"p\">,</span><span class=\"s s-Atom\">node</span><span class=\"p\">)</span> <span class=\"nf\">eqOrdMinimal</span><span class=\"p\">(</span><span class=\"s2\">&quot;X&quot;</span><span class=\"p\">,</span><span class=\"s2\">&quot;Z2&quot;</span><span class=\"p\">,</span><span class=\"s s-Atom\">node</span><span class=\"p\">)</span> <span class=\"nf\">eqOrdMinimal</span><span class=\"p\">(</span><span class=\"s2\">&quot;Y&quot;</span><span class=\"p\">,</span><span class=\"s2\">&quot;Z1&quot;</span><span class=\"p\">,</span><span class=\"s s-Atom\">node</span><span class=\"p\">)</span>\n",
       "<span class=\"lineno\">15 </span><span class=\"nv\">Answer</span><span class=\"s s-Atom\">:</span> <span class=\"mi\">8</span>\n",
       "<span class=\"lineno\">16 </span><span class=\"nf\">ruleH</span><span class=\"p\">(</span><span class=\"s2\">&quot;thop&quot;</span><span class=\"p\">)</span> <span class=\"nf\">newVar</span><span class=\"p\">(</span><span class=\"s2\">&quot;X&quot;</span><span class=\"p\">,</span><span class=\"s s-Atom\">node</span><span class=\"p\">)</span> <span class=\"nf\">ruleOcc</span><span class=\"p\">(</span><span class=\"s2\">&quot;e&quot;</span><span class=\"p\">,</span><span class=\"mi\">1</span><span class=\"p\">)</span> <span class=\"nf\">ruleOcc</span><span class=\"p\">(</span><span class=\"s2\">&quot;e&quot;</span><span class=\"p\">,</span><span class=\"mi\">2</span><span class=\"p\">)</span> <span class=\"nf\">ruleOcc</span><span class=\"p\">(</span><span class=\"s2\">&quot;e&quot;</span><span class=\"p\">,</span><span class=\"mi\">3</span><span class=\"p\">)</span> <span class=\"nf\">var</span><span class=\"p\">(</span><span class=\"s2\">&quot;X&quot;</span><span class=\"p\">,</span><span class=\"s s-Atom\">node</span><span class=\"p\">)</span> <span class=\"nf\">var</span><span class=\"p\">(</span><span class=\"s2\">&quot;Y&quot;</span><span class=\"p\">,</span><span class=\"s s-Atom\">node</span><span class=\"p\">)</span> <span class=\"nf\">var</span><span class=\"p\">(</span><span class=\"s2\">&quot;Z1&quot;</span><span class=\"p\">,</span><span class=\"s s-Atom\">node</span><span class=\"p\">)</span> <span class=\"nf\">var</span><span class=\"p\">(</span><span class=\"s2\">&quot;Z2&quot;</span><span class=\"p\">,</span><span class=\"s s-Atom\">node</span><span class=\"p\">)</span> <span class=\"nf\">arc</span><span class=\"p\">(</span><span class=\"s2\">&quot;X&quot;</span><span class=\"p\">,</span><span class=\"mi\">1</span><span class=\"p\">,</span><span class=\"s2\">&quot;e&quot;</span><span class=\"p\">,</span><span class=\"mi\">1</span><span class=\"p\">)</span> <span class=\"nf\">arc</span><span class=\"p\">(</span><span class=\"s2\">&quot;Z1&quot;</span><span class=\"p\">,</span><span class=\"mi\">2</span><span class=\"p\">,</span><span class=\"s2\">&quot;e&quot;</span><span class=\"p\">,</span><span class=\"mi\">1</span><span class=\"p\">)</span> <span class=\"nf\">arc</span><span class=\"p\">(</span><span class=\"s2\">&quot;Z1&quot;</span><span class=\"p\">,</span><span class=\"mi\">1</span><span class=\"p\">,</span><span class=\"s2\">&quot;e&quot;</span><span class=\"p\">,</span><span class=\"mi\">2</span><span class=\"p\">)</span> <span class=\"nf\">arc</span><span class=\"p\">(</span><span class=\"s2\">&quot;Z2&quot;</span><span class=\"p\">,</span><span class=\"mi\">2</span><span class=\"p\">,</span><span class=\"s2\">&quot;e&quot;</span><span class=\"p\">,</span><span class=\"mi\">2</span><span class=\"p\">)</span> <span class=\"nf\">arc</span><span class=\"p\">(</span><span class=\"s2\">&quot;Z2&quot;</span><span class=\"p\">,</span><span class=\"mi\">1</span><span class=\"p\">,</span><span class=\"s2\">&quot;e&quot;</span><span class=\"p\">,</span><span class=\"mi\">3</span><span class=\"p\">)</span> <span class=\"nf\">arc</span><span class=\"p\">(</span><span class=\"s2\">&quot;Y&quot;</span><span class=\"p\">,</span><span class=\"mi\">2</span><span class=\"p\">,</span><span class=\"s2\">&quot;e&quot;</span><span class=\"p\">,</span><span class=\"mi\">3</span><span class=\"p\">)</span> <span class=\"nf\">newArc</span><span class=\"p\">(</span><span class=\"s2\">&quot;X&quot;</span><span class=\"p\">,</span><span class=\"mi\">1</span><span class=\"p\">,</span><span class=\"s2\">&quot;e&quot;</span><span class=\"p\">,</span><span class=\"mi\">1</span><span class=\"p\">)</span> <span class=\"nf\">ruleOccTrue</span><span class=\"p\">(</span><span class=\"s2\">&quot;e&quot;</span><span class=\"p\">,</span><span class=\"mi\">1</span><span class=\"p\">)</span> <span class=\"nf\">ruleOccTrue</span><span class=\"p\">(</span><span class=\"s2\">&quot;e&quot;</span><span class=\"p\">,</span><span class=\"mi\">2</span><span class=\"p\">)</span> <span class=\"nf\">ruleOccTrue</span><span class=\"p\">(</span><span class=\"s2\">&quot;e&quot;</span><span class=\"p\">,</span><span class=\"mi\">3</span><span class=\"p\">)</span> <span class=\"nf\">ruleHTrue</span><span class=\"p\">(</span><span class=\"s2\">&quot;thop&quot;</span><span class=\"p\">)</span> <span class=\"nf\">eqOrd</span><span class=\"p\">(</span><span class=\"s2\">&quot;X&quot;</span><span class=\"p\">,</span><span class=\"s2\">&quot;Z1&quot;</span><span class=\"p\">,</span><span class=\"s s-Atom\">node</span><span class=\"p\">)</span> <span class=\"nf\">newArc</span><span class=\"p\">(</span><span class=\"s2\">&quot;X&quot;</span><span class=\"p\">,</span><span class=\"mi\">2</span><span class=\"p\">,</span><span class=\"s2\">&quot;e&quot;</span><span class=\"p\">,</span><span class=\"mi\">1</span><span class=\"p\">)</span> <span class=\"nf\">newArc</span><span class=\"p\">(</span><span class=\"s2\">&quot;X&quot;</span><span class=\"p\">,</span><span class=\"mi\">1</span><span class=\"p\">,</span><span class=\"s2\">&quot;e&quot;</span><span class=\"p\">,</span><span class=\"mi\">2</span><span class=\"p\">)</span> <span class=\"nf\">newArc</span><span class=\"p\">(</span><span class=\"s2\">&quot;Z2&quot;</span><span class=\"p\">,</span><span class=\"mi\">2</span><span class=\"p\">,</span><span class=\"s2\">&quot;e&quot;</span><span class=\"p\">,</span><span class=\"mi\">2</span><span class=\"p\">)</span> <span class=\"nf\">newArc</span><span class=\"p\">(</span><span class=\"s2\">&quot;Z2&quot;</span><span class=\"p\">,</span><span class=\"mi\">1</span><span class=\"p\">,</span><span class=\"s2\">&quot;e&quot;</span><span class=\"p\">,</span><span class=\"mi\">3</span><span class=\"p\">)</span> <span class=\"nf\">newArc</span><span class=\"p\">(</span><span class=\"s2\">&quot;Y&quot;</span><span class=\"p\">,</span><span class=\"mi\">2</span><span class=\"p\">,</span><span class=\"s2\">&quot;e&quot;</span><span class=\"p\">,</span><span class=\"mi\">3</span><span class=\"p\">)</span> <span class=\"nf\">e</span><span class=\"p\">(</span><span class=\"mi\">1</span><span class=\"p\">,</span><span class=\"s2\">&quot;X&quot;</span><span class=\"p\">,</span><span class=\"s2\">&quot;X&quot;</span><span class=\"p\">)</span> <span class=\"nf\">e</span><span class=\"p\">(</span><span class=\"mi\">2</span><span class=\"p\">,</span><span class=\"s2\">&quot;X&quot;</span><span class=\"p\">,</span><span class=\"s2\">&quot;Z2&quot;</span><span class=\"p\">)</span> <span class=\"nf\">e</span><span class=\"p\">(</span><span class=\"mi\">3</span><span class=\"p\">,</span><span class=\"s2\">&quot;Z2&quot;</span><span class=\"p\">,</span><span class=\"s2\">&quot;Y&quot;</span><span class=\"p\">)</span> <span class=\"nf\">e</span><span class=\"p\">(</span><span class=\"s2\">&quot;X&quot;</span><span class=\"p\">,</span><span class=\"s2\">&quot;X&quot;</span><span class=\"p\">)</span> <span class=\"nf\">e</span><span class=\"p\">(</span><span class=\"s2\">&quot;X&quot;</span><span class=\"p\">,</span><span class=\"s2\">&quot;Z2&quot;</span><span class=\"p\">)</span> <span class=\"nf\">e</span><span class=\"p\">(</span><span class=\"s2\">&quot;Z2&quot;</span><span class=\"p\">,</span><span class=\"s2\">&quot;Y&quot;</span><span class=\"p\">)</span> <span class=\"nf\">newVar</span><span class=\"p\">(</span><span class=\"s2\">&quot;Y&quot;</span><span class=\"p\">,</span><span class=\"s s-Atom\">node</span><span class=\"p\">)</span> <span class=\"nf\">newVar</span><span class=\"p\">(</span><span class=\"s2\">&quot;Z2&quot;</span><span class=\"p\">,</span><span class=\"s s-Atom\">node</span><span class=\"p\">)</span> <span class=\"nf\">neqOrd</span><span class=\"p\">(</span><span class=\"s2\">&quot;X&quot;</span><span class=\"p\">,</span><span class=\"s2\">&quot;Y&quot;</span><span class=\"p\">,</span><span class=\"s s-Atom\">node</span><span class=\"p\">)</span> <span class=\"nf\">neqOrd</span><span class=\"p\">(</span><span class=\"s2\">&quot;X&quot;</span><span class=\"p\">,</span><span class=\"s2\">&quot;Z2&quot;</span><span class=\"p\">,</span><span class=\"s s-Atom\">node</span><span class=\"p\">)</span> <span class=\"nf\">neqOrd</span><span class=\"p\">(</span><span class=\"s2\">&quot;Y&quot;</span><span class=\"p\">,</span><span class=\"s2\">&quot;Z2&quot;</span><span class=\"p\">,</span><span class=\"s s-Atom\">node</span><span class=\"p\">)</span> <span class=\"nf\">eqOrdMinimal</span><span class=\"p\">(</span><span class=\"s2\">&quot;X&quot;</span><span class=\"p\">,</span><span class=\"s2\">&quot;Z1&quot;</span><span class=\"p\">,</span><span class=\"s s-Atom\">node</span><span class=\"p\">)</span>\n",
       "<span class=\"lineno\">17 </span><span class=\"nv\">Answer</span><span class=\"s s-Atom\">:</span> <span class=\"mi\">9</span>\n",
       "<span class=\"lineno\">18 </span><span class=\"nf\">ruleH</span><span class=\"p\">(</span><span class=\"s2\">&quot;thop&quot;</span><span class=\"p\">)</span> <span class=\"nf\">newVar</span><span class=\"p\">(</span><span class=\"s2\">&quot;X&quot;</span><span class=\"p\">,</span><span class=\"s s-Atom\">node</span><span class=\"p\">)</span> <span class=\"nf\">ruleOcc</span><span class=\"p\">(</span><span class=\"s2\">&quot;e&quot;</span><span class=\"p\">,</span><span class=\"mi\">1</span><span class=\"p\">)</span> <span class=\"nf\">ruleOcc</span><span class=\"p\">(</span><span class=\"s2\">&quot;e&quot;</span><span class=\"p\">,</span><span class=\"mi\">2</span><span class=\"p\">)</span> <span class=\"nf\">ruleOcc</span><span class=\"p\">(</span><span class=\"s2\">&quot;e&quot;</span><span class=\"p\">,</span><span class=\"mi\">3</span><span class=\"p\">)</span> <span class=\"nf\">var</span><span class=\"p\">(</span><span class=\"s2\">&quot;X&quot;</span><span class=\"p\">,</span><span class=\"s s-Atom\">node</span><span class=\"p\">)</span> <span class=\"nf\">var</span><span class=\"p\">(</span><span class=\"s2\">&quot;Y&quot;</span><span class=\"p\">,</span><span class=\"s s-Atom\">node</span><span class=\"p\">)</span> <span class=\"nf\">var</span><span class=\"p\">(</span><span class=\"s2\">&quot;Z1&quot;</span><span class=\"p\">,</span><span class=\"s s-Atom\">node</span><span class=\"p\">)</span> <span class=\"nf\">var</span><span class=\"p\">(</span><span class=\"s2\">&quot;Z2&quot;</span><span class=\"p\">,</span><span class=\"s s-Atom\">node</span><span class=\"p\">)</span> <span class=\"nf\">arc</span><span class=\"p\">(</span><span class=\"s2\">&quot;X&quot;</span><span class=\"p\">,</span><span class=\"mi\">1</span><span class=\"p\">,</span><span class=\"s2\">&quot;e&quot;</span><span class=\"p\">,</span><span class=\"mi\">1</span><span class=\"p\">)</span> <span class=\"nf\">arc</span><span class=\"p\">(</span><span class=\"s2\">&quot;Z1&quot;</span><span class=\"p\">,</span><span class=\"mi\">2</span><span class=\"p\">,</span><span class=\"s2\">&quot;e&quot;</span><span class=\"p\">,</span><span class=\"mi\">1</span><span class=\"p\">)</span> <span class=\"nf\">arc</span><span class=\"p\">(</span><span class=\"s2\">&quot;Z1&quot;</span><span class=\"p\">,</span><span class=\"mi\">1</span><span class=\"p\">,</span><span class=\"s2\">&quot;e&quot;</span><span class=\"p\">,</span><span class=\"mi\">2</span><span class=\"p\">)</span> <span class=\"nf\">arc</span><span class=\"p\">(</span><span class=\"s2\">&quot;Z2&quot;</span><span class=\"p\">,</span><span class=\"mi\">2</span><span class=\"p\">,</span><span class=\"s2\">&quot;e&quot;</span><span class=\"p\">,</span><span class=\"mi\">2</span><span class=\"p\">)</span> <span class=\"nf\">arc</span><span class=\"p\">(</span><span class=\"s2\">&quot;Z2&quot;</span><span class=\"p\">,</span><span class=\"mi\">1</span><span class=\"p\">,</span><span class=\"s2\">&quot;e&quot;</span><span class=\"p\">,</span><span class=\"mi\">3</span><span class=\"p\">)</span> <span class=\"nf\">arc</span><span class=\"p\">(</span><span class=\"s2\">&quot;Y&quot;</span><span class=\"p\">,</span><span class=\"mi\">2</span><span class=\"p\">,</span><span class=\"s2\">&quot;e&quot;</span><span class=\"p\">,</span><span class=\"mi\">3</span><span class=\"p\">)</span> <span class=\"nf\">newArc</span><span class=\"p\">(</span><span class=\"s2\">&quot;X&quot;</span><span class=\"p\">,</span><span class=\"mi\">1</span><span class=\"p\">,</span><span class=\"s2\">&quot;e&quot;</span><span class=\"p\">,</span><span class=\"mi\">1</span><span class=\"p\">)</span> <span class=\"nf\">ruleOccTrue</span><span class=\"p\">(</span><span class=\"s2\">&quot;e&quot;</span><span class=\"p\">,</span><span class=\"mi\">1</span><span class=\"p\">)</span> <span class=\"nf\">ruleOccTrue</span><span class=\"p\">(</span><span class=\"s2\">&quot;e&quot;</span><span class=\"p\">,</span><span class=\"mi\">2</span><span class=\"p\">)</span> <span class=\"nf\">ruleOccTrue</span><span class=\"p\">(</span><span class=\"s2\">&quot;e&quot;</span><span class=\"p\">,</span><span class=\"mi\">3</span><span class=\"p\">)</span> <span class=\"nf\">ruleHTrue</span><span class=\"p\">(</span><span class=\"s2\">&quot;thop&quot;</span><span class=\"p\">)</span> <span class=\"nf\">eqOrd</span><span class=\"p\">(</span><span class=\"s2\">&quot;X&quot;</span><span class=\"p\">,</span><span class=\"s2\">&quot;Z1&quot;</span><span class=\"p\">,</span><span class=\"s s-Atom\">node</span><span class=\"p\">)</span> <span class=\"nf\">eqOrd</span><span class=\"p\">(</span><span class=\"s2\">&quot;Y&quot;</span><span class=\"p\">,</span><span class=\"s2\">&quot;Z2&quot;</span><span class=\"p\">,</span><span class=\"s s-Atom\">node</span><span class=\"p\">)</span> <span class=\"nf\">newArc</span><span class=\"p\">(</span><span class=\"s2\">&quot;X&quot;</span><span class=\"p\">,</span><span class=\"mi\">2</span><span class=\"p\">,</span><span class=\"s2\">&quot;e&quot;</span><span class=\"p\">,</span><span class=\"mi\">1</span><span class=\"p\">)</span> <span class=\"nf\">newArc</span><span class=\"p\">(</span><span class=\"s2\">&quot;X&quot;</span><span class=\"p\">,</span><span class=\"mi\">1</span><span class=\"p\">,</span><span class=\"s2\">&quot;e&quot;</span><span class=\"p\">,</span><span class=\"mi\">2</span><span class=\"p\">)</span> <span class=\"nf\">newArc</span><span class=\"p\">(</span><span class=\"s2\">&quot;Y&quot;</span><span class=\"p\">,</span><span class=\"mi\">2</span><span class=\"p\">,</span><span class=\"s2\">&quot;e&quot;</span><span class=\"p\">,</span><span class=\"mi\">2</span><span class=\"p\">)</span> <span class=\"nf\">newArc</span><span class=\"p\">(</span><span class=\"s2\">&quot;Y&quot;</span><span class=\"p\">,</span><span class=\"mi\">1</span><span class=\"p\">,</span><span class=\"s2\">&quot;e&quot;</span><span class=\"p\">,</span><span class=\"mi\">3</span><span class=\"p\">)</span> <span class=\"nf\">newArc</span><span class=\"p\">(</span><span class=\"s2\">&quot;Y&quot;</span><span class=\"p\">,</span><span class=\"mi\">2</span><span class=\"p\">,</span><span class=\"s2\">&quot;e&quot;</span><span class=\"p\">,</span><span class=\"mi\">3</span><span class=\"p\">)</span> <span class=\"nf\">e</span><span class=\"p\">(</span><span class=\"mi\">1</span><span class=\"p\">,</span><span class=\"s2\">&quot;X&quot;</span><span class=\"p\">,</span><span class=\"s2\">&quot;X&quot;</span><span class=\"p\">)</span> <span class=\"nf\">e</span><span class=\"p\">(</span><span class=\"mi\">2</span><span class=\"p\">,</span><span class=\"s2\">&quot;X&quot;</span><span class=\"p\">,</span><span class=\"s2\">&quot;Y&quot;</span><span class=\"p\">)</span> <span class=\"nf\">e</span><span class=\"p\">(</span><span class=\"mi\">3</span><span class=\"p\">,</span><span class=\"s2\">&quot;Y&quot;</span><span class=\"p\">,</span><span class=\"s2\">&quot;Y&quot;</span><span class=\"p\">)</span> <span class=\"nf\">e</span><span class=\"p\">(</span><span class=\"s2\">&quot;X&quot;</span><span class=\"p\">,</span><span class=\"s2\">&quot;X&quot;</span><span class=\"p\">)</span> <span class=\"nf\">e</span><span class=\"p\">(</span><span class=\"s2\">&quot;X&quot;</span><span class=\"p\">,</span><span class=\"s2\">&quot;Y&quot;</span><span class=\"p\">)</span> <span class=\"nf\">e</span><span class=\"p\">(</span><span class=\"s2\">&quot;Y&quot;</span><span class=\"p\">,</span><span class=\"s2\">&quot;Y&quot;</span><span class=\"p\">)</span> <span class=\"nf\">newVar</span><span class=\"p\">(</span><span class=\"s2\">&quot;Y&quot;</span><span class=\"p\">,</span><span class=\"s s-Atom\">node</span><span class=\"p\">)</span> <span class=\"nf\">neqOrd</span><span class=\"p\">(</span><span class=\"s2\">&quot;X&quot;</span><span class=\"p\">,</span><span class=\"s2\">&quot;Y&quot;</span><span class=\"p\">,</span><span class=\"s s-Atom\">node</span><span class=\"p\">)</span> <span class=\"nf\">eqOrdMinimal</span><span class=\"p\">(</span><span class=\"s2\">&quot;X&quot;</span><span class=\"p\">,</span><span class=\"s2\">&quot;Z1&quot;</span><span class=\"p\">,</span><span class=\"s s-Atom\">node</span><span class=\"p\">)</span> <span class=\"nf\">eqOrdMinimal</span><span class=\"p\">(</span><span class=\"s2\">&quot;Y&quot;</span><span class=\"p\">,</span><span class=\"s2\">&quot;Z2&quot;</span><span class=\"p\">,</span><span class=\"s s-Atom\">node</span><span class=\"p\">)</span>\n",
       "<span class=\"lineno\">19 </span><span class=\"nv\">Answer</span><span class=\"s s-Atom\">:</span> <span class=\"mi\">10</span>\n",
       "<span class=\"lineno\">20 </span><span class=\"nf\">ruleH</span><span class=\"p\">(</span><span class=\"s2\">&quot;thop&quot;</span><span class=\"p\">)</span> <span class=\"nf\">newVar</span><span class=\"p\">(</span><span class=\"s2\">&quot;X&quot;</span><span class=\"p\">,</span><span class=\"s s-Atom\">node</span><span class=\"p\">)</span> <span class=\"nf\">ruleOcc</span><span class=\"p\">(</span><span class=\"s2\">&quot;e&quot;</span><span class=\"p\">,</span><span class=\"mi\">1</span><span class=\"p\">)</span> <span class=\"nf\">ruleOcc</span><span class=\"p\">(</span><span class=\"s2\">&quot;e&quot;</span><span class=\"p\">,</span><span class=\"mi\">2</span><span class=\"p\">)</span> <span class=\"nf\">ruleOcc</span><span class=\"p\">(</span><span class=\"s2\">&quot;e&quot;</span><span class=\"p\">,</span><span class=\"mi\">3</span><span class=\"p\">)</span> <span class=\"nf\">var</span><span class=\"p\">(</span><span class=\"s2\">&quot;X&quot;</span><span class=\"p\">,</span><span class=\"s s-Atom\">node</span><span class=\"p\">)</span> <span class=\"nf\">var</span><span class=\"p\">(</span><span class=\"s2\">&quot;Y&quot;</span><span class=\"p\">,</span><span class=\"s s-Atom\">node</span><span class=\"p\">)</span> <span class=\"nf\">var</span><span class=\"p\">(</span><span class=\"s2\">&quot;Z1&quot;</span><span class=\"p\">,</span><span class=\"s s-Atom\">node</span><span class=\"p\">)</span> <span class=\"nf\">var</span><span class=\"p\">(</span><span class=\"s2\">&quot;Z2&quot;</span><span class=\"p\">,</span><span class=\"s s-Atom\">node</span><span class=\"p\">)</span> <span class=\"nf\">arc</span><span class=\"p\">(</span><span class=\"s2\">&quot;X&quot;</span><span class=\"p\">,</span><span class=\"mi\">1</span><span class=\"p\">,</span><span class=\"s2\">&quot;e&quot;</span><span class=\"p\">,</span><span class=\"mi\">1</span><span class=\"p\">)</span> <span class=\"nf\">arc</span><span class=\"p\">(</span><span class=\"s2\">&quot;Z1&quot;</span><span class=\"p\">,</span><span class=\"mi\">2</span><span class=\"p\">,</span><span class=\"s2\">&quot;e&quot;</span><span class=\"p\">,</span><span class=\"mi\">1</span><span class=\"p\">)</span> <span class=\"nf\">arc</span><span class=\"p\">(</span><span class=\"s2\">&quot;Z1&quot;</span><span class=\"p\">,</span><span class=\"mi\">1</span><span class=\"p\">,</span><span class=\"s2\">&quot;e&quot;</span><span class=\"p\">,</span><span class=\"mi\">2</span><span class=\"p\">)</span> <span class=\"nf\">arc</span><span class=\"p\">(</span><span class=\"s2\">&quot;Z2&quot;</span><span class=\"p\">,</span><span class=\"mi\">2</span><span class=\"p\">,</span><span class=\"s2\">&quot;e&quot;</span><span class=\"p\">,</span><span class=\"mi\">2</span><span class=\"p\">)</span> <span class=\"nf\">arc</span><span class=\"p\">(</span><span class=\"s2\">&quot;Z2&quot;</span><span class=\"p\">,</span><span class=\"mi\">1</span><span class=\"p\">,</span><span class=\"s2\">&quot;e&quot;</span><span class=\"p\">,</span><span class=\"mi\">3</span><span class=\"p\">)</span> <span class=\"nf\">arc</span><span class=\"p\">(</span><span class=\"s2\">&quot;Y&quot;</span><span class=\"p\">,</span><span class=\"mi\">2</span><span class=\"p\">,</span><span class=\"s2\">&quot;e&quot;</span><span class=\"p\">,</span><span class=\"mi\">3</span><span class=\"p\">)</span> <span class=\"nf\">newArc</span><span class=\"p\">(</span><span class=\"s2\">&quot;X&quot;</span><span class=\"p\">,</span><span class=\"mi\">1</span><span class=\"p\">,</span><span class=\"s2\">&quot;e&quot;</span><span class=\"p\">,</span><span class=\"mi\">1</span><span class=\"p\">)</span> <span class=\"nf\">ruleOccTrue</span><span class=\"p\">(</span><span class=\"s2\">&quot;e&quot;</span><span class=\"p\">,</span><span class=\"mi\">1</span><span class=\"p\">)</span> <span class=\"nf\">ruleOccTrue</span><span class=\"p\">(</span><span class=\"s2\">&quot;e&quot;</span><span class=\"p\">,</span><span class=\"mi\">2</span><span class=\"p\">)</span> <span class=\"nf\">ruleOccTrue</span><span class=\"p\">(</span><span class=\"s2\">&quot;e&quot;</span><span class=\"p\">,</span><span class=\"mi\">3</span><span class=\"p\">)</span> <span class=\"nf\">ruleHTrue</span><span class=\"p\">(</span><span class=\"s2\">&quot;thop&quot;</span><span class=\"p\">)</span> <span class=\"nf\">eqOrd</span><span class=\"p\">(</span><span class=\"s2\">&quot;X&quot;</span><span class=\"p\">,</span><span class=\"s2\">&quot;Z1&quot;</span><span class=\"p\">,</span><span class=\"s s-Atom\">node</span><span class=\"p\">)</span> <span class=\"nf\">eqOrd</span><span class=\"p\">(</span><span class=\"s2\">&quot;X&quot;</span><span class=\"p\">,</span><span class=\"s2\">&quot;Z2&quot;</span><span class=\"p\">,</span><span class=\"s s-Atom\">node</span><span class=\"p\">)</span> <span class=\"nf\">eqOrd</span><span class=\"p\">(</span><span class=\"s2\">&quot;Z1&quot;</span><span class=\"p\">,</span><span class=\"s2\">&quot;Z2&quot;</span><span class=\"p\">,</span><span class=\"s s-Atom\">node</span><span class=\"p\">)</span> <span class=\"nf\">newArc</span><span class=\"p\">(</span><span class=\"s2\">&quot;X&quot;</span><span class=\"p\">,</span><span class=\"mi\">2</span><span class=\"p\">,</span><span class=\"s2\">&quot;e&quot;</span><span class=\"p\">,</span><span class=\"mi\">1</span><span class=\"p\">)</span> <span class=\"nf\">newArc</span><span class=\"p\">(</span><span class=\"s2\">&quot;X&quot;</span><span class=\"p\">,</span><span class=\"mi\">1</span><span class=\"p\">,</span><span class=\"s2\">&quot;e&quot;</span><span class=\"p\">,</span><span class=\"mi\">2</span><span class=\"p\">)</span> <span class=\"nf\">newArc</span><span class=\"p\">(</span><span class=\"s2\">&quot;X&quot;</span><span class=\"p\">,</span><span class=\"mi\">2</span><span class=\"p\">,</span><span class=\"s2\">&quot;e&quot;</span><span class=\"p\">,</span><span class=\"mi\">2</span><span class=\"p\">)</span> <span class=\"nf\">newArc</span><span class=\"p\">(</span><span class=\"s2\">&quot;X&quot;</span><span class=\"p\">,</span><span class=\"mi\">1</span><span class=\"p\">,</span><span class=\"s2\">&quot;e&quot;</span><span class=\"p\">,</span><span class=\"mi\">3</span><span class=\"p\">)</span> <span class=\"nf\">newArc</span><span class=\"p\">(</span><span class=\"s2\">&quot;Y&quot;</span><span class=\"p\">,</span><span class=\"mi\">2</span><span class=\"p\">,</span><span class=\"s2\">&quot;e&quot;</span><span class=\"p\">,</span><span class=\"mi\">3</span><span class=\"p\">)</span> <span class=\"nf\">e</span><span class=\"p\">(</span><span class=\"mi\">1</span><span class=\"p\">,</span><span class=\"s2\">&quot;X&quot;</span><span class=\"p\">,</span><span class=\"s2\">&quot;X&quot;</span><span class=\"p\">)</span> <span class=\"nf\">e</span><span class=\"p\">(</span><span class=\"mi\">2</span><span class=\"p\">,</span><span class=\"s2\">&quot;X&quot;</span><span class=\"p\">,</span><span class=\"s2\">&quot;X&quot;</span><span class=\"p\">)</span> <span class=\"nf\">e</span><span class=\"p\">(</span><span class=\"mi\">3</span><span class=\"p\">,</span><span class=\"s2\">&quot;X&quot;</span><span class=\"p\">,</span><span class=\"s2\">&quot;Y&quot;</span><span class=\"p\">)</span> <span class=\"nf\">e</span><span class=\"p\">(</span><span class=\"s2\">&quot;X&quot;</span><span class=\"p\">,</span><span class=\"s2\">&quot;X&quot;</span><span class=\"p\">)</span> <span class=\"nf\">e</span><span class=\"p\">(</span><span class=\"s2\">&quot;X&quot;</span><span class=\"p\">,</span><span class=\"s2\">&quot;Y&quot;</span><span class=\"p\">)</span> <span class=\"nf\">newVar</span><span class=\"p\">(</span><span class=\"s2\">&quot;Y&quot;</span><span class=\"p\">,</span><span class=\"s s-Atom\">node</span><span class=\"p\">)</span> <span class=\"nf\">neqOrd</span><span class=\"p\">(</span><span class=\"s2\">&quot;X&quot;</span><span class=\"p\">,</span><span class=\"s2\">&quot;Y&quot;</span><span class=\"p\">,</span><span class=\"s s-Atom\">node</span><span class=\"p\">)</span> <span class=\"nf\">eqOrdMinimal</span><span class=\"p\">(</span><span class=\"s2\">&quot;X&quot;</span><span class=\"p\">,</span><span class=\"s2\">&quot;Z1&quot;</span><span class=\"p\">,</span><span class=\"s s-Atom\">node</span><span class=\"p\">)</span> <span class=\"nf\">eqOrdMinimal</span><span class=\"p\">(</span><span class=\"s2\">&quot;X&quot;</span><span class=\"p\">,</span><span class=\"s2\">&quot;Z2&quot;</span><span class=\"p\">,</span><span class=\"s s-Atom\">node</span><span class=\"p\">)</span>\n",
       "<span class=\"lineno\">21 </span><span class=\"nv\">Answer</span><span class=\"s s-Atom\">:</span> <span class=\"mi\">11</span>\n",
       "<span class=\"lineno\">22 </span><span class=\"nf\">ruleH</span><span class=\"p\">(</span><span class=\"s2\">&quot;thop&quot;</span><span class=\"p\">)</span> <span class=\"nf\">newVar</span><span class=\"p\">(</span><span class=\"s2\">&quot;X&quot;</span><span class=\"p\">,</span><span class=\"s s-Atom\">node</span><span class=\"p\">)</span> <span class=\"nf\">ruleOcc</span><span class=\"p\">(</span><span class=\"s2\">&quot;e&quot;</span><span class=\"p\">,</span><span class=\"mi\">1</span><span class=\"p\">)</span> <span class=\"nf\">ruleOcc</span><span class=\"p\">(</span><span class=\"s2\">&quot;e&quot;</span><span class=\"p\">,</span><span class=\"mi\">2</span><span class=\"p\">)</span> <span class=\"nf\">ruleOcc</span><span class=\"p\">(</span><span class=\"s2\">&quot;e&quot;</span><span class=\"p\">,</span><span class=\"mi\">3</span><span class=\"p\">)</span> <span class=\"nf\">var</span><span class=\"p\">(</span><span class=\"s2\">&quot;X&quot;</span><span class=\"p\">,</span><span class=\"s s-Atom\">node</span><span class=\"p\">)</span> <span class=\"nf\">var</span><span class=\"p\">(</span><span class=\"s2\">&quot;Y&quot;</span><span class=\"p\">,</span><span class=\"s s-Atom\">node</span><span class=\"p\">)</span> <span class=\"nf\">var</span><span class=\"p\">(</span><span class=\"s2\">&quot;Z1&quot;</span><span class=\"p\">,</span><span class=\"s s-Atom\">node</span><span class=\"p\">)</span> <span class=\"nf\">var</span><span class=\"p\">(</span><span class=\"s2\">&quot;Z2&quot;</span><span class=\"p\">,</span><span class=\"s s-Atom\">node</span><span class=\"p\">)</span> <span class=\"nf\">arc</span><span class=\"p\">(</span><span class=\"s2\">&quot;X&quot;</span><span class=\"p\">,</span><span class=\"mi\">1</span><span class=\"p\">,</span><span class=\"s2\">&quot;e&quot;</span><span class=\"p\">,</span><span class=\"mi\">1</span><span class=\"p\">)</span> <span class=\"nf\">arc</span><span class=\"p\">(</span><span class=\"s2\">&quot;Z1&quot;</span><span class=\"p\">,</span><span class=\"mi\">2</span><span class=\"p\">,</span><span class=\"s2\">&quot;e&quot;</span><span class=\"p\">,</span><span class=\"mi\">1</span><span class=\"p\">)</span> <span class=\"nf\">arc</span><span class=\"p\">(</span><span class=\"s2\">&quot;Z1&quot;</span><span class=\"p\">,</span><span class=\"mi\">1</span><span class=\"p\">,</span><span class=\"s2\">&quot;e&quot;</span><span class=\"p\">,</span><span class=\"mi\">2</span><span class=\"p\">)</span> <span class=\"nf\">arc</span><span class=\"p\">(</span><span class=\"s2\">&quot;Z2&quot;</span><span class=\"p\">,</span><span class=\"mi\">2</span><span class=\"p\">,</span><span class=\"s2\">&quot;e&quot;</span><span class=\"p\">,</span><span class=\"mi\">2</span><span class=\"p\">)</span> <span class=\"nf\">arc</span><span class=\"p\">(</span><span class=\"s2\">&quot;Z2&quot;</span><span class=\"p\">,</span><span class=\"mi\">1</span><span class=\"p\">,</span><span class=\"s2\">&quot;e&quot;</span><span class=\"p\">,</span><span class=\"mi\">3</span><span class=\"p\">)</span> <span class=\"nf\">arc</span><span class=\"p\">(</span><span class=\"s2\">&quot;Y&quot;</span><span class=\"p\">,</span><span class=\"mi\">2</span><span class=\"p\">,</span><span class=\"s2\">&quot;e&quot;</span><span class=\"p\">,</span><span class=\"mi\">3</span><span class=\"p\">)</span> <span class=\"nf\">newArc</span><span class=\"p\">(</span><span class=\"s2\">&quot;X&quot;</span><span class=\"p\">,</span><span class=\"mi\">1</span><span class=\"p\">,</span><span class=\"s2\">&quot;e&quot;</span><span class=\"p\">,</span><span class=\"mi\">1</span><span class=\"p\">)</span> <span class=\"nf\">ruleOccTrue</span><span class=\"p\">(</span><span class=\"s2\">&quot;e&quot;</span><span class=\"p\">,</span><span class=\"mi\">1</span><span class=\"p\">)</span> <span class=\"nf\">ruleOccTrue</span><span class=\"p\">(</span><span class=\"s2\">&quot;e&quot;</span><span class=\"p\">,</span><span class=\"mi\">2</span><span class=\"p\">)</span> <span class=\"nf\">ruleOccTrue</span><span class=\"p\">(</span><span class=\"s2\">&quot;e&quot;</span><span class=\"p\">,</span><span class=\"mi\">3</span><span class=\"p\">)</span> <span class=\"nf\">ruleHTrue</span><span class=\"p\">(</span><span class=\"s2\">&quot;thop&quot;</span><span class=\"p\">)</span> <span class=\"nf\">eqOrd</span><span class=\"p\">(</span><span class=\"s2\">&quot;X&quot;</span><span class=\"p\">,</span><span class=\"s2\">&quot;Y&quot;</span><span class=\"p\">,</span><span class=\"s s-Atom\">node</span><span class=\"p\">)</span> <span class=\"nf\">newArc</span><span class=\"p\">(</span><span class=\"s2\">&quot;X&quot;</span><span class=\"p\">,</span><span class=\"mi\">2</span><span class=\"p\">,</span><span class=\"s2\">&quot;e&quot;</span><span class=\"p\">,</span><span class=\"mi\">3</span><span class=\"p\">)</span> <span class=\"nf\">newArc</span><span class=\"p\">(</span><span class=\"s2\">&quot;Z1&quot;</span><span class=\"p\">,</span><span class=\"mi\">2</span><span class=\"p\">,</span><span class=\"s2\">&quot;e&quot;</span><span class=\"p\">,</span><span class=\"mi\">1</span><span class=\"p\">)</span> <span class=\"nf\">newArc</span><span class=\"p\">(</span><span class=\"s2\">&quot;Z1&quot;</span><span class=\"p\">,</span><span class=\"mi\">1</span><span class=\"p\">,</span><span class=\"s2\">&quot;e&quot;</span><span class=\"p\">,</span><span class=\"mi\">2</span><span class=\"p\">)</span> <span class=\"nf\">newArc</span><span class=\"p\">(</span><span class=\"s2\">&quot;Z2&quot;</span><span class=\"p\">,</span><span class=\"mi\">2</span><span class=\"p\">,</span><span class=\"s2\">&quot;e&quot;</span><span class=\"p\">,</span><span class=\"mi\">2</span><span class=\"p\">)</span> <span class=\"nf\">newArc</span><span class=\"p\">(</span><span class=\"s2\">&quot;Z2&quot;</span><span class=\"p\">,</span><span class=\"mi\">1</span><span class=\"p\">,</span><span class=\"s2\">&quot;e&quot;</span><span class=\"p\">,</span><span class=\"mi\">3</span><span class=\"p\">)</span> <span class=\"nf\">e</span><span class=\"p\">(</span><span class=\"mi\">1</span><span class=\"p\">,</span><span class=\"s2\">&quot;X&quot;</span><span class=\"p\">,</span><span class=\"s2\">&quot;Z1&quot;</span><span class=\"p\">)</span> <span class=\"nf\">e</span><span class=\"p\">(</span><span class=\"mi\">2</span><span class=\"p\">,</span><span class=\"s2\">&quot;Z1&quot;</span><span class=\"p\">,</span><span class=\"s2\">&quot;Z2&quot;</span><span class=\"p\">)</span> <span class=\"nf\">e</span><span class=\"p\">(</span><span class=\"mi\">3</span><span class=\"p\">,</span><span class=\"s2\">&quot;Z2&quot;</span><span class=\"p\">,</span><span class=\"s2\">&quot;X&quot;</span><span class=\"p\">)</span> <span class=\"nf\">e</span><span class=\"p\">(</span><span class=\"s2\">&quot;X&quot;</span><span class=\"p\">,</span><span class=\"s2\">&quot;Z1&quot;</span><span class=\"p\">)</span> <span class=\"nf\">e</span><span class=\"p\">(</span><span class=\"s2\">&quot;Z1&quot;</span><span class=\"p\">,</span><span class=\"s2\">&quot;Z2&quot;</span><span class=\"p\">)</span> <span class=\"nf\">e</span><span class=\"p\">(</span><span class=\"s2\">&quot;Z2&quot;</span><span class=\"p\">,</span><span class=\"s2\">&quot;X&quot;</span><span class=\"p\">)</span> <span class=\"nf\">newVar</span><span class=\"p\">(</span><span class=\"s2\">&quot;Z1&quot;</span><span class=\"p\">,</span><span class=\"s s-Atom\">node</span><span class=\"p\">)</span> <span class=\"nf\">newVar</span><span class=\"p\">(</span><span class=\"s2\">&quot;Z2&quot;</span><span class=\"p\">,</span><span class=\"s s-Atom\">node</span><span class=\"p\">)</span> <span class=\"nf\">neqOrd</span><span class=\"p\">(</span><span class=\"s2\">&quot;X&quot;</span><span class=\"p\">,</span><span class=\"s2\">&quot;Z1&quot;</span><span class=\"p\">,</span><span class=\"s s-Atom\">node</span><span class=\"p\">)</span> <span class=\"nf\">neqOrd</span><span class=\"p\">(</span><span class=\"s2\">&quot;X&quot;</span><span class=\"p\">,</span><span class=\"s2\">&quot;Z2&quot;</span><span class=\"p\">,</span><span class=\"s s-Atom\">node</span><span class=\"p\">)</span> <span class=\"nf\">neqOrd</span><span class=\"p\">(</span><span class=\"s2\">&quot;Z1&quot;</span><span class=\"p\">,</span><span class=\"s2\">&quot;Z2&quot;</span><span class=\"p\">,</span><span class=\"s s-Atom\">node</span><span class=\"p\">)</span> <span class=\"nf\">eqOrdMinimal</span><span class=\"p\">(</span><span class=\"s2\">&quot;X&quot;</span><span class=\"p\">,</span><span class=\"s2\">&quot;Y&quot;</span><span class=\"p\">,</span><span class=\"s s-Atom\">node</span><span class=\"p\">)</span>\n",
       "<span class=\"lineno\">23 </span><span class=\"nv\">Answer</span><span class=\"s s-Atom\">:</span> <span class=\"mi\">12</span>\n",
       "<span class=\"lineno\">24 </span><span class=\"nf\">ruleH</span><span class=\"p\">(</span><span class=\"s2\">&quot;thop&quot;</span><span class=\"p\">)</span> <span class=\"nf\">newVar</span><span class=\"p\">(</span><span class=\"s2\">&quot;X&quot;</span><span class=\"p\">,</span><span class=\"s s-Atom\">node</span><span class=\"p\">)</span> <span class=\"nf\">ruleOcc</span><span class=\"p\">(</span><span class=\"s2\">&quot;e&quot;</span><span class=\"p\">,</span><span class=\"mi\">1</span><span class=\"p\">)</span> <span class=\"nf\">ruleOcc</span><span class=\"p\">(</span><span class=\"s2\">&quot;e&quot;</span><span class=\"p\">,</span><span class=\"mi\">2</span><span class=\"p\">)</span> <span class=\"nf\">ruleOcc</span><span class=\"p\">(</span><span class=\"s2\">&quot;e&quot;</span><span class=\"p\">,</span><span class=\"mi\">3</span><span class=\"p\">)</span> <span class=\"nf\">var</span><span class=\"p\">(</span><span class=\"s2\">&quot;X&quot;</span><span class=\"p\">,</span><span class=\"s s-Atom\">node</span><span class=\"p\">)</span> <span class=\"nf\">var</span><span class=\"p\">(</span><span class=\"s2\">&quot;Y&quot;</span><span class=\"p\">,</span><span class=\"s s-Atom\">node</span><span class=\"p\">)</span> <span class=\"nf\">var</span><span class=\"p\">(</span><span class=\"s2\">&quot;Z1&quot;</span><span class=\"p\">,</span><span class=\"s s-Atom\">node</span><span class=\"p\">)</span> <span class=\"nf\">var</span><span class=\"p\">(</span><span class=\"s2\">&quot;Z2&quot;</span><span class=\"p\">,</span><span class=\"s s-Atom\">node</span><span class=\"p\">)</span> <span class=\"nf\">arc</span><span class=\"p\">(</span><span class=\"s2\">&quot;X&quot;</span><span class=\"p\">,</span><span class=\"mi\">1</span><span class=\"p\">,</span><span class=\"s2\">&quot;e&quot;</span><span class=\"p\">,</span><span class=\"mi\">1</span><span class=\"p\">)</span> <span class=\"nf\">arc</span><span class=\"p\">(</span><span class=\"s2\">&quot;Z1&quot;</span><span class=\"p\">,</span><span class=\"mi\">2</span><span class=\"p\">,</span><span class=\"s2\">&quot;e&quot;</span><span class=\"p\">,</span><span class=\"mi\">1</span><span class=\"p\">)</span> <span class=\"nf\">arc</span><span class=\"p\">(</span><span class=\"s2\">&quot;Z1&quot;</span><span class=\"p\">,</span><span class=\"mi\">1</span><span class=\"p\">,</span><span class=\"s2\">&quot;e&quot;</span><span class=\"p\">,</span><span class=\"mi\">2</span><span class=\"p\">)</span> <span class=\"nf\">arc</span><span class=\"p\">(</span><span class=\"s2\">&quot;Z2&quot;</span><span class=\"p\">,</span><span class=\"mi\">2</span><span class=\"p\">,</span><span class=\"s2\">&quot;e&quot;</span><span class=\"p\">,</span><span class=\"mi\">2</span><span class=\"p\">)</span> <span class=\"nf\">arc</span><span class=\"p\">(</span><span class=\"s2\">&quot;Z2&quot;</span><span class=\"p\">,</span><span class=\"mi\">1</span><span class=\"p\">,</span><span class=\"s2\">&quot;e&quot;</span><span class=\"p\">,</span><span class=\"mi\">3</span><span class=\"p\">)</span> <span class=\"nf\">arc</span><span class=\"p\">(</span><span class=\"s2\">&quot;Y&quot;</span><span class=\"p\">,</span><span class=\"mi\">2</span><span class=\"p\">,</span><span class=\"s2\">&quot;e&quot;</span><span class=\"p\">,</span><span class=\"mi\">3</span><span class=\"p\">)</span> <span class=\"nf\">newArc</span><span class=\"p\">(</span><span class=\"s2\">&quot;X&quot;</span><span class=\"p\">,</span><span class=\"mi\">1</span><span class=\"p\">,</span><span class=\"s2\">&quot;e&quot;</span><span class=\"p\">,</span><span class=\"mi\">1</span><span class=\"p\">)</span> <span class=\"nf\">ruleOccTrue</span><span class=\"p\">(</span><span class=\"s2\">&quot;e&quot;</span><span class=\"p\">,</span><span class=\"mi\">1</span><span class=\"p\">)</span> <span class=\"nf\">ruleOccTrue</span><span class=\"p\">(</span><span class=\"s2\">&quot;e&quot;</span><span class=\"p\">,</span><span class=\"mi\">2</span><span class=\"p\">)</span> <span class=\"nf\">ruleOccTrue</span><span class=\"p\">(</span><span class=\"s2\">&quot;e&quot;</span><span class=\"p\">,</span><span class=\"mi\">3</span><span class=\"p\">)</span> <span class=\"nf\">ruleHTrue</span><span class=\"p\">(</span><span class=\"s2\">&quot;thop&quot;</span><span class=\"p\">)</span> <span class=\"nf\">eqOrd</span><span class=\"p\">(</span><span class=\"s2\">&quot;X&quot;</span><span class=\"p\">,</span><span class=\"s2\">&quot;Y&quot;</span><span class=\"p\">,</span><span class=\"s s-Atom\">node</span><span class=\"p\">)</span> <span class=\"nf\">eqOrd</span><span class=\"p\">(</span><span class=\"s2\">&quot;Z1&quot;</span><span class=\"p\">,</span><span class=\"s2\">&quot;Z2&quot;</span><span class=\"p\">,</span><span class=\"s s-Atom\">node</span><span class=\"p\">)</span> <span class=\"nf\">newArc</span><span class=\"p\">(</span><span class=\"s2\">&quot;Z1&quot;</span><span class=\"p\">,</span><span class=\"mi\">2</span><span class=\"p\">,</span><span class=\"s2\">&quot;e&quot;</span><span class=\"p\">,</span><span class=\"mi\">2</span><span class=\"p\">)</span> <span class=\"nf\">newArc</span><span class=\"p\">(</span><span class=\"s2\">&quot;Z1&quot;</span><span class=\"p\">,</span><span class=\"mi\">1</span><span class=\"p\">,</span><span class=\"s2\">&quot;e&quot;</span><span class=\"p\">,</span><span class=\"mi\">3</span><span class=\"p\">)</span> <span class=\"nf\">newArc</span><span class=\"p\">(</span><span class=\"s2\">&quot;X&quot;</span><span class=\"p\">,</span><span class=\"mi\">2</span><span class=\"p\">,</span><span class=\"s2\">&quot;e&quot;</span><span class=\"p\">,</span><span class=\"mi\">3</span><span class=\"p\">)</span> <span class=\"nf\">newArc</span><span class=\"p\">(</span><span class=\"s2\">&quot;Z1&quot;</span><span class=\"p\">,</span><span class=\"mi\">2</span><span class=\"p\">,</span><span class=\"s2\">&quot;e&quot;</span><span class=\"p\">,</span><span class=\"mi\">1</span><span class=\"p\">)</span> <span class=\"nf\">newArc</span><span class=\"p\">(</span><span class=\"s2\">&quot;Z1&quot;</span><span class=\"p\">,</span><span class=\"mi\">1</span><span class=\"p\">,</span><span class=\"s2\">&quot;e&quot;</span><span class=\"p\">,</span><span class=\"mi\">2</span><span class=\"p\">)</span> <span class=\"nf\">e</span><span class=\"p\">(</span><span class=\"mi\">1</span><span class=\"p\">,</span><span class=\"s2\">&quot;X&quot;</span><span class=\"p\">,</span><span class=\"s2\">&quot;Z1&quot;</span><span class=\"p\">)</span> <span class=\"nf\">e</span><span class=\"p\">(</span><span class=\"mi\">2</span><span class=\"p\">,</span><span class=\"s2\">&quot;Z1&quot;</span><span class=\"p\">,</span><span class=\"s2\">&quot;Z1&quot;</span><span class=\"p\">)</span> <span class=\"nf\">e</span><span class=\"p\">(</span><span class=\"mi\">3</span><span class=\"p\">,</span><span class=\"s2\">&quot;Z1&quot;</span><span class=\"p\">,</span><span class=\"s2\">&quot;X&quot;</span><span class=\"p\">)</span> <span class=\"nf\">e</span><span class=\"p\">(</span><span class=\"s2\">&quot;X&quot;</span><span class=\"p\">,</span><span class=\"s2\">&quot;Z1&quot;</span><span class=\"p\">)</span> <span class=\"nf\">e</span><span class=\"p\">(</span><span class=\"s2\">&quot;Z1&quot;</span><span class=\"p\">,</span><span class=\"s2\">&quot;X&quot;</span><span class=\"p\">)</span> <span class=\"nf\">e</span><span class=\"p\">(</span><span class=\"s2\">&quot;Z1&quot;</span><span class=\"p\">,</span><span class=\"s2\">&quot;Z1&quot;</span><span class=\"p\">)</span> <span class=\"nf\">newVar</span><span class=\"p\">(</span><span class=\"s2\">&quot;Z1&quot;</span><span class=\"p\">,</span><span class=\"s s-Atom\">node</span><span class=\"p\">)</span> <span class=\"nf\">neqOrd</span><span class=\"p\">(</span><span class=\"s2\">&quot;X&quot;</span><span class=\"p\">,</span><span class=\"s2\">&quot;Z1&quot;</span><span class=\"p\">,</span><span class=\"s s-Atom\">node</span><span class=\"p\">)</span> <span class=\"nf\">eqOrdMinimal</span><span class=\"p\">(</span><span class=\"s2\">&quot;X&quot;</span><span class=\"p\">,</span><span class=\"s2\">&quot;Y&quot;</span><span class=\"p\">,</span><span class=\"s s-Atom\">node</span><span class=\"p\">)</span> <span class=\"nf\">eqOrdMinimal</span><span class=\"p\">(</span><span class=\"s2\">&quot;Z1&quot;</span><span class=\"p\">,</span><span class=\"s2\">&quot;Z2&quot;</span><span class=\"p\">,</span><span class=\"s s-Atom\">node</span><span class=\"p\">)</span>\n",
       "<span class=\"lineno\">25 </span><span class=\"nv\">Answer</span><span class=\"s s-Atom\">:</span> <span class=\"mi\">13</span>\n",
       "<span class=\"lineno\">26 </span><span class=\"nf\">ruleH</span><span class=\"p\">(</span><span class=\"s2\">&quot;thop&quot;</span><span class=\"p\">)</span> <span class=\"nf\">newVar</span><span class=\"p\">(</span><span class=\"s2\">&quot;X&quot;</span><span class=\"p\">,</span><span class=\"s s-Atom\">node</span><span class=\"p\">)</span> <span class=\"nf\">ruleOcc</span><span class=\"p\">(</span><span class=\"s2\">&quot;e&quot;</span><span class=\"p\">,</span><span class=\"mi\">1</span><span class=\"p\">)</span> <span class=\"nf\">ruleOcc</span><span class=\"p\">(</span><span class=\"s2\">&quot;e&quot;</span><span class=\"p\">,</span><span class=\"mi\">2</span><span class=\"p\">)</span> <span class=\"nf\">ruleOcc</span><span class=\"p\">(</span><span class=\"s2\">&quot;e&quot;</span><span class=\"p\">,</span><span class=\"mi\">3</span><span class=\"p\">)</span> <span class=\"nf\">var</span><span class=\"p\">(</span><span class=\"s2\">&quot;X&quot;</span><span class=\"p\">,</span><span class=\"s s-Atom\">node</span><span class=\"p\">)</span> <span class=\"nf\">var</span><span class=\"p\">(</span><span class=\"s2\">&quot;Y&quot;</span><span class=\"p\">,</span><span class=\"s s-Atom\">node</span><span class=\"p\">)</span> <span class=\"nf\">var</span><span class=\"p\">(</span><span class=\"s2\">&quot;Z1&quot;</span><span class=\"p\">,</span><span class=\"s s-Atom\">node</span><span class=\"p\">)</span> <span class=\"nf\">var</span><span class=\"p\">(</span><span class=\"s2\">&quot;Z2&quot;</span><span class=\"p\">,</span><span class=\"s s-Atom\">node</span><span class=\"p\">)</span> <span class=\"nf\">arc</span><span class=\"p\">(</span><span class=\"s2\">&quot;X&quot;</span><span class=\"p\">,</span><span class=\"mi\">1</span><span class=\"p\">,</span><span class=\"s2\">&quot;e&quot;</span><span class=\"p\">,</span><span class=\"mi\">1</span><span class=\"p\">)</span> <span class=\"nf\">arc</span><span class=\"p\">(</span><span class=\"s2\">&quot;Z1&quot;</span><span class=\"p\">,</span><span class=\"mi\">2</span><span class=\"p\">,</span><span class=\"s2\">&quot;e&quot;</span><span class=\"p\">,</span><span class=\"mi\">1</span><span class=\"p\">)</span> <span class=\"nf\">arc</span><span class=\"p\">(</span><span class=\"s2\">&quot;Z1&quot;</span><span class=\"p\">,</span><span class=\"mi\">1</span><span class=\"p\">,</span><span class=\"s2\">&quot;e&quot;</span><span class=\"p\">,</span><span class=\"mi\">2</span><span class=\"p\">)</span> <span class=\"nf\">arc</span><span class=\"p\">(</span><span class=\"s2\">&quot;Z2&quot;</span><span class=\"p\">,</span><span class=\"mi\">2</span><span class=\"p\">,</span><span class=\"s2\">&quot;e&quot;</span><span class=\"p\">,</span><span class=\"mi\">2</span><span class=\"p\">)</span> <span class=\"nf\">arc</span><span class=\"p\">(</span><span class=\"s2\">&quot;Z2&quot;</span><span class=\"p\">,</span><span class=\"mi\">1</span><span class=\"p\">,</span><span class=\"s2\">&quot;e&quot;</span><span class=\"p\">,</span><span class=\"mi\">3</span><span class=\"p\">)</span> <span class=\"nf\">arc</span><span class=\"p\">(</span><span class=\"s2\">&quot;Y&quot;</span><span class=\"p\">,</span><span class=\"mi\">2</span><span class=\"p\">,</span><span class=\"s2\">&quot;e&quot;</span><span class=\"p\">,</span><span class=\"mi\">3</span><span class=\"p\">)</span> <span class=\"nf\">newArc</span><span class=\"p\">(</span><span class=\"s2\">&quot;X&quot;</span><span class=\"p\">,</span><span class=\"mi\">1</span><span class=\"p\">,</span><span class=\"s2\">&quot;e&quot;</span><span class=\"p\">,</span><span class=\"mi\">1</span><span class=\"p\">)</span> <span class=\"nf\">ruleOccTrue</span><span class=\"p\">(</span><span class=\"s2\">&quot;e&quot;</span><span class=\"p\">,</span><span class=\"mi\">1</span><span class=\"p\">)</span> <span class=\"nf\">ruleOccTrue</span><span class=\"p\">(</span><span class=\"s2\">&quot;e&quot;</span><span class=\"p\">,</span><span class=\"mi\">2</span><span class=\"p\">)</span> <span class=\"nf\">ruleOccTrue</span><span class=\"p\">(</span><span class=\"s2\">&quot;e&quot;</span><span class=\"p\">,</span><span class=\"mi\">3</span><span class=\"p\">)</span> <span class=\"nf\">ruleHTrue</span><span class=\"p\">(</span><span class=\"s2\">&quot;thop&quot;</span><span class=\"p\">)</span> <span class=\"nf\">eqOrd</span><span class=\"p\">(</span><span class=\"s2\">&quot;X&quot;</span><span class=\"p\">,</span><span class=\"s2\">&quot;Y&quot;</span><span class=\"p\">,</span><span class=\"s s-Atom\">node</span><span class=\"p\">)</span> <span class=\"nf\">eqOrd</span><span class=\"p\">(</span><span class=\"s2\">&quot;X&quot;</span><span class=\"p\">,</span><span class=\"s2\">&quot;Z2&quot;</span><span class=\"p\">,</span><span class=\"s s-Atom\">node</span><span class=\"p\">)</span> <span class=\"nf\">eqOrd</span><span class=\"p\">(</span><span class=\"s2\">&quot;Y&quot;</span><span class=\"p\">,</span><span class=\"s2\">&quot;Z2&quot;</span><span class=\"p\">,</span><span class=\"s s-Atom\">node</span><span class=\"p\">)</span> <span class=\"nf\">newArc</span><span class=\"p\">(</span><span class=\"s2\">&quot;X&quot;</span><span class=\"p\">,</span><span class=\"mi\">2</span><span class=\"p\">,</span><span class=\"s2\">&quot;e&quot;</span><span class=\"p\">,</span><span class=\"mi\">2</span><span class=\"p\">)</span> <span class=\"nf\">newArc</span><span class=\"p\">(</span><span class=\"s2\">&quot;X&quot;</span><span class=\"p\">,</span><span class=\"mi\">1</span><span class=\"p\">,</span><span class=\"s2\">&quot;e&quot;</span><span class=\"p\">,</span><span class=\"mi\">3</span><span class=\"p\">)</span> <span class=\"nf\">newArc</span><span class=\"p\">(</span><span class=\"s2\">&quot;X&quot;</span><span class=\"p\">,</span><span class=\"mi\">2</span><span class=\"p\">,</span><span class=\"s2\">&quot;e&quot;</span><span class=\"p\">,</span><span class=\"mi\">3</span><span class=\"p\">)</span> <span class=\"nf\">newArc</span><span class=\"p\">(</span><span class=\"s2\">&quot;Z1&quot;</span><span class=\"p\">,</span><span class=\"mi\">2</span><span class=\"p\">,</span><span class=\"s2\">&quot;e&quot;</span><span class=\"p\">,</span><span class=\"mi\">1</span><span class=\"p\">)</span> <span class=\"nf\">newArc</span><span class=\"p\">(</span><span class=\"s2\">&quot;Z1&quot;</span><span class=\"p\">,</span><span class=\"mi\">1</span><span class=\"p\">,</span><span class=\"s2\">&quot;e&quot;</span><span class=\"p\">,</span><span class=\"mi\">2</span><span class=\"p\">)</span> <span class=\"nf\">e</span><span class=\"p\">(</span><span class=\"mi\">1</span><span class=\"p\">,</span><span class=\"s2\">&quot;X&quot;</span><span class=\"p\">,</span><span class=\"s2\">&quot;Z1&quot;</span><span class=\"p\">)</span> <span class=\"nf\">e</span><span class=\"p\">(</span><span class=\"mi\">2</span><span class=\"p\">,</span><span class=\"s2\">&quot;Z1&quot;</span><span class=\"p\">,</span><span class=\"s2\">&quot;X&quot;</span><span class=\"p\">)</span> <span class=\"nf\">e</span><span class=\"p\">(</span><span class=\"mi\">3</span><span class=\"p\">,</span><span class=\"s2\">&quot;X&quot;</span><span class=\"p\">,</span><span class=\"s2\">&quot;X&quot;</span><span class=\"p\">)</span> <span class=\"nf\">e</span><span class=\"p\">(</span><span class=\"s2\">&quot;X&quot;</span><span class=\"p\">,</span><span class=\"s2\">&quot;X&quot;</span><span class=\"p\">)</span> <span class=\"nf\">e</span><span class=\"p\">(</span><span class=\"s2\">&quot;X&quot;</span><span class=\"p\">,</span><span class=\"s2\">&quot;Z1&quot;</span><span class=\"p\">)</span> <span class=\"nf\">e</span><span class=\"p\">(</span><span class=\"s2\">&quot;Z1&quot;</span><span class=\"p\">,</span><span class=\"s2\">&quot;X&quot;</span><span class=\"p\">)</span> <span class=\"nf\">newVar</span><span class=\"p\">(</span><span class=\"s2\">&quot;Z1&quot;</span><span class=\"p\">,</span><span class=\"s s-Atom\">node</span><span class=\"p\">)</span> <span class=\"nf\">neqOrd</span><span class=\"p\">(</span><span class=\"s2\">&quot;X&quot;</span><span class=\"p\">,</span><span class=\"s2\">&quot;Z1&quot;</span><span class=\"p\">,</span><span class=\"s s-Atom\">node</span><span class=\"p\">)</span> <span class=\"nf\">eqOrdMinimal</span><span class=\"p\">(</span><span class=\"s2\">&quot;X&quot;</span><span class=\"p\">,</span><span class=\"s2\">&quot;Y&quot;</span><span class=\"p\">,</span><span class=\"s s-Atom\">node</span><span class=\"p\">)</span> <span class=\"nf\">eqOrdMinimal</span><span class=\"p\">(</span><span class=\"s2\">&quot;X&quot;</span><span class=\"p\">,</span><span class=\"s2\">&quot;Z2&quot;</span><span class=\"p\">,</span><span class=\"s s-Atom\">node</span><span class=\"p\">)</span>\n",
       "<span class=\"lineno\">27 </span><span class=\"nv\">Answer</span><span class=\"s s-Atom\">:</span> <span class=\"mi\">14</span>\n",
       "<span class=\"lineno\">28 </span><span class=\"nf\">ruleH</span><span class=\"p\">(</span><span class=\"s2\">&quot;thop&quot;</span><span class=\"p\">)</span> <span class=\"nf\">newVar</span><span class=\"p\">(</span><span class=\"s2\">&quot;X&quot;</span><span class=\"p\">,</span><span class=\"s s-Atom\">node</span><span class=\"p\">)</span> <span class=\"nf\">ruleOcc</span><span class=\"p\">(</span><span class=\"s2\">&quot;e&quot;</span><span class=\"p\">,</span><span class=\"mi\">1</span><span class=\"p\">)</span> <span class=\"nf\">ruleOcc</span><span class=\"p\">(</span><span class=\"s2\">&quot;e&quot;</span><span class=\"p\">,</span><span class=\"mi\">2</span><span class=\"p\">)</span> <span class=\"nf\">ruleOcc</span><span class=\"p\">(</span><span class=\"s2\">&quot;e&quot;</span><span class=\"p\">,</span><span class=\"mi\">3</span><span class=\"p\">)</span> <span class=\"nf\">var</span><span class=\"p\">(</span><span class=\"s2\">&quot;X&quot;</span><span class=\"p\">,</span><span class=\"s s-Atom\">node</span><span class=\"p\">)</span> <span class=\"nf\">var</span><span class=\"p\">(</span><span class=\"s2\">&quot;Y&quot;</span><span class=\"p\">,</span><span class=\"s s-Atom\">node</span><span class=\"p\">)</span> <span class=\"nf\">var</span><span class=\"p\">(</span><span class=\"s2\">&quot;Z1&quot;</span><span class=\"p\">,</span><span class=\"s s-Atom\">node</span><span class=\"p\">)</span> <span class=\"nf\">var</span><span class=\"p\">(</span><span class=\"s2\">&quot;Z2&quot;</span><span class=\"p\">,</span><span class=\"s s-Atom\">node</span><span class=\"p\">)</span> <span class=\"nf\">arc</span><span class=\"p\">(</span><span class=\"s2\">&quot;X&quot;</span><span class=\"p\">,</span><span class=\"mi\">1</span><span class=\"p\">,</span><span class=\"s2\">&quot;e&quot;</span><span class=\"p\">,</span><span class=\"mi\">1</span><span class=\"p\">)</span> <span class=\"nf\">arc</span><span class=\"p\">(</span><span class=\"s2\">&quot;Z1&quot;</span><span class=\"p\">,</span><span class=\"mi\">2</span><span class=\"p\">,</span><span class=\"s2\">&quot;e&quot;</span><span class=\"p\">,</span><span class=\"mi\">1</span><span class=\"p\">)</span> <span class=\"nf\">arc</span><span class=\"p\">(</span><span class=\"s2\">&quot;Z1&quot;</span><span class=\"p\">,</span><span class=\"mi\">1</span><span class=\"p\">,</span><span class=\"s2\">&quot;e&quot;</span><span class=\"p\">,</span><span class=\"mi\">2</span><span class=\"p\">)</span> <span class=\"nf\">arc</span><span class=\"p\">(</span><span class=\"s2\">&quot;Z2&quot;</span><span class=\"p\">,</span><span class=\"mi\">2</span><span class=\"p\">,</span><span class=\"s2\">&quot;e&quot;</span><span class=\"p\">,</span><span class=\"mi\">2</span><span class=\"p\">)</span> <span class=\"nf\">arc</span><span class=\"p\">(</span><span class=\"s2\">&quot;Z2&quot;</span><span class=\"p\">,</span><span class=\"mi\">1</span><span class=\"p\">,</span><span class=\"s2\">&quot;e&quot;</span><span class=\"p\">,</span><span class=\"mi\">3</span><span class=\"p\">)</span> <span class=\"nf\">arc</span><span class=\"p\">(</span><span class=\"s2\">&quot;Y&quot;</span><span class=\"p\">,</span><span class=\"mi\">2</span><span class=\"p\">,</span><span class=\"s2\">&quot;e&quot;</span><span class=\"p\">,</span><span class=\"mi\">3</span><span class=\"p\">)</span> <span class=\"nf\">newArc</span><span class=\"p\">(</span><span class=\"s2\">&quot;X&quot;</span><span class=\"p\">,</span><span class=\"mi\">1</span><span class=\"p\">,</span><span class=\"s2\">&quot;e&quot;</span><span class=\"p\">,</span><span class=\"mi\">1</span><span class=\"p\">)</span> <span class=\"nf\">ruleOccTrue</span><span class=\"p\">(</span><span class=\"s2\">&quot;e&quot;</span><span class=\"p\">,</span><span class=\"mi\">1</span><span class=\"p\">)</span> <span class=\"nf\">ruleOccTrue</span><span class=\"p\">(</span><span class=\"s2\">&quot;e&quot;</span><span class=\"p\">,</span><span class=\"mi\">2</span><span class=\"p\">)</span> <span class=\"nf\">ruleOccTrue</span><span class=\"p\">(</span><span class=\"s2\">&quot;e&quot;</span><span class=\"p\">,</span><span class=\"mi\">3</span><span class=\"p\">)</span> <span class=\"nf\">ruleHTrue</span><span class=\"p\">(</span><span class=\"s2\">&quot;thop&quot;</span><span class=\"p\">)</span> <span class=\"nf\">eqOrd</span><span class=\"p\">(</span><span class=\"s2\">&quot;X&quot;</span><span class=\"p\">,</span><span class=\"s2\">&quot;Y&quot;</span><span class=\"p\">,</span><span class=\"s s-Atom\">node</span><span class=\"p\">)</span> <span class=\"nf\">eqOrd</span><span class=\"p\">(</span><span class=\"s2\">&quot;X&quot;</span><span class=\"p\">,</span><span class=\"s2\">&quot;Z1&quot;</span><span class=\"p\">,</span><span class=\"s s-Atom\">node</span><span class=\"p\">)</span> <span class=\"nf\">eqOrd</span><span class=\"p\">(</span><span class=\"s2\">&quot;Y&quot;</span><span class=\"p\">,</span><span class=\"s2\">&quot;Z1&quot;</span><span class=\"p\">,</span><span class=\"s s-Atom\">node</span><span class=\"p\">)</span> <span class=\"nf\">newArc</span><span class=\"p\">(</span><span class=\"s2\">&quot;X&quot;</span><span class=\"p\">,</span><span class=\"mi\">2</span><span class=\"p\">,</span><span class=\"s2\">&quot;e&quot;</span><span class=\"p\">,</span><span class=\"mi\">1</span><span class=\"p\">)</span> <span class=\"nf\">newArc</span><span class=\"p\">(</span><span class=\"s2\">&quot;X&quot;</span><span class=\"p\">,</span><span class=\"mi\">1</span><span class=\"p\">,</span><span class=\"s2\">&quot;e&quot;</span><span class=\"p\">,</span><span class=\"mi\">2</span><span class=\"p\">)</span> <span class=\"nf\">newArc</span><span class=\"p\">(</span><span class=\"s2\">&quot;X&quot;</span><span class=\"p\">,</span><span class=\"mi\">2</span><span class=\"p\">,</span><span class=\"s2\">&quot;e&quot;</span><span class=\"p\">,</span><span class=\"mi\">3</span><span class=\"p\">)</span> <span class=\"nf\">newArc</span><span class=\"p\">(</span><span class=\"s2\">&quot;Z2&quot;</span><span class=\"p\">,</span><span class=\"mi\">2</span><span class=\"p\">,</span><span class=\"s2\">&quot;e&quot;</span><span class=\"p\">,</span><span class=\"mi\">2</span><span class=\"p\">)</span> <span class=\"nf\">newArc</span><span class=\"p\">(</span><span class=\"s2\">&quot;Z2&quot;</span><span class=\"p\">,</span><span class=\"mi\">1</span><span class=\"p\">,</span><span class=\"s2\">&quot;e&quot;</span><span class=\"p\">,</span><span class=\"mi\">3</span><span class=\"p\">)</span> <span class=\"nf\">e</span><span class=\"p\">(</span><span class=\"mi\">1</span><span class=\"p\">,</span><span class=\"s2\">&quot;X&quot;</span><span class=\"p\">,</span><span class=\"s2\">&quot;X&quot;</span><span class=\"p\">)</span> <span class=\"nf\">e</span><span class=\"p\">(</span><span class=\"mi\">2</span><span class=\"p\">,</span><span class=\"s2\">&quot;X&quot;</span><span class=\"p\">,</span><span class=\"s2\">&quot;Z2&quot;</span><span class=\"p\">)</span> <span class=\"nf\">e</span><span class=\"p\">(</span><span class=\"mi\">3</span><span class=\"p\">,</span><span class=\"s2\">&quot;Z2&quot;</span><span class=\"p\">,</span><span class=\"s2\">&quot;X&quot;</span><span class=\"p\">)</span> <span class=\"nf\">e</span><span class=\"p\">(</span><span class=\"s2\">&quot;X&quot;</span><span class=\"p\">,</span><span class=\"s2\">&quot;X&quot;</span><span class=\"p\">)</span> <span class=\"nf\">e</span><span class=\"p\">(</span><span class=\"s2\">&quot;X&quot;</span><span class=\"p\">,</span><span class=\"s2\">&quot;Z2&quot;</span><span class=\"p\">)</span> <span class=\"nf\">e</span><span class=\"p\">(</span><span class=\"s2\">&quot;Z2&quot;</span><span class=\"p\">,</span><span class=\"s2\">&quot;X&quot;</span><span class=\"p\">)</span> <span class=\"nf\">newVar</span><span class=\"p\">(</span><span class=\"s2\">&quot;Z2&quot;</span><span class=\"p\">,</span><span class=\"s s-Atom\">node</span><span class=\"p\">)</span> <span class=\"nf\">neqOrd</span><span class=\"p\">(</span><span class=\"s2\">&quot;X&quot;</span><span class=\"p\">,</span><span class=\"s2\">&quot;Z2&quot;</span><span class=\"p\">,</span><span class=\"s s-Atom\">node</span><span class=\"p\">)</span> <span class=\"nf\">eqOrdMinimal</span><span class=\"p\">(</span><span class=\"s2\">&quot;X&quot;</span><span class=\"p\">,</span><span class=\"s2\">&quot;Y&quot;</span><span class=\"p\">,</span><span class=\"s s-Atom\">node</span><span class=\"p\">)</span> <span class=\"nf\">eqOrdMinimal</span><span class=\"p\">(</span><span class=\"s2\">&quot;X&quot;</span><span class=\"p\">,</span><span class=\"s2\">&quot;Z1&quot;</span><span class=\"p\">,</span><span class=\"s s-Atom\">node</span><span class=\"p\">)</span>\n",
       "<span class=\"lineno\">29 </span><span class=\"nv\">Answer</span><span class=\"s s-Atom\">:</span> <span class=\"mi\">15</span>\n",
       "<span class=\"lineno\">30 </span><span class=\"nf\">ruleH</span><span class=\"p\">(</span><span class=\"s2\">&quot;thop&quot;</span><span class=\"p\">)</span> <span class=\"nf\">newVar</span><span class=\"p\">(</span><span class=\"s2\">&quot;X&quot;</span><span class=\"p\">,</span><span class=\"s s-Atom\">node</span><span class=\"p\">)</span> <span class=\"nf\">ruleOcc</span><span class=\"p\">(</span><span class=\"s2\">&quot;e&quot;</span><span class=\"p\">,</span><span class=\"mi\">1</span><span class=\"p\">)</span> <span class=\"nf\">ruleOcc</span><span class=\"p\">(</span><span class=\"s2\">&quot;e&quot;</span><span class=\"p\">,</span><span class=\"mi\">2</span><span class=\"p\">)</span> <span class=\"nf\">ruleOcc</span><span class=\"p\">(</span><span class=\"s2\">&quot;e&quot;</span><span class=\"p\">,</span><span class=\"mi\">3</span><span class=\"p\">)</span> <span class=\"nf\">var</span><span class=\"p\">(</span><span class=\"s2\">&quot;X&quot;</span><span class=\"p\">,</span><span class=\"s s-Atom\">node</span><span class=\"p\">)</span> <span class=\"nf\">var</span><span class=\"p\">(</span><span class=\"s2\">&quot;Y&quot;</span><span class=\"p\">,</span><span class=\"s s-Atom\">node</span><span class=\"p\">)</span> <span class=\"nf\">var</span><span class=\"p\">(</span><span class=\"s2\">&quot;Z1&quot;</span><span class=\"p\">,</span><span class=\"s s-Atom\">node</span><span class=\"p\">)</span> <span class=\"nf\">var</span><span class=\"p\">(</span><span class=\"s2\">&quot;Z2&quot;</span><span class=\"p\">,</span><span class=\"s s-Atom\">node</span><span class=\"p\">)</span> <span class=\"nf\">arc</span><span class=\"p\">(</span><span class=\"s2\">&quot;X&quot;</span><span class=\"p\">,</span><span class=\"mi\">1</span><span class=\"p\">,</span><span class=\"s2\">&quot;e&quot;</span><span class=\"p\">,</span><span class=\"mi\">1</span><span class=\"p\">)</span> <span class=\"nf\">arc</span><span class=\"p\">(</span><span class=\"s2\">&quot;Z1&quot;</span><span class=\"p\">,</span><span class=\"mi\">2</span><span class=\"p\">,</span><span class=\"s2\">&quot;e&quot;</span><span class=\"p\">,</span><span class=\"mi\">1</span><span class=\"p\">)</span> <span class=\"nf\">arc</span><span class=\"p\">(</span><span class=\"s2\">&quot;Z1&quot;</span><span class=\"p\">,</span><span class=\"mi\">1</span><span class=\"p\">,</span><span class=\"s2\">&quot;e&quot;</span><span class=\"p\">,</span><span class=\"mi\">2</span><span class=\"p\">)</span> <span class=\"nf\">arc</span><span class=\"p\">(</span><span class=\"s2\">&quot;Z2&quot;</span><span class=\"p\">,</span><span class=\"mi\">2</span><span class=\"p\">,</span><span class=\"s2\">&quot;e&quot;</span><span class=\"p\">,</span><span class=\"mi\">2</span><span class=\"p\">)</span> <span class=\"nf\">arc</span><span class=\"p\">(</span><span class=\"s2\">&quot;Z2&quot;</span><span class=\"p\">,</span><span class=\"mi\">1</span><span class=\"p\">,</span><span class=\"s2\">&quot;e&quot;</span><span class=\"p\">,</span><span class=\"mi\">3</span><span class=\"p\">)</span> <span class=\"nf\">arc</span><span class=\"p\">(</span><span class=\"s2\">&quot;Y&quot;</span><span class=\"p\">,</span><span class=\"mi\">2</span><span class=\"p\">,</span><span class=\"s2\">&quot;e&quot;</span><span class=\"p\">,</span><span class=\"mi\">3</span><span class=\"p\">)</span> <span class=\"nf\">newArc</span><span class=\"p\">(</span><span class=\"s2\">&quot;X&quot;</span><span class=\"p\">,</span><span class=\"mi\">1</span><span class=\"p\">,</span><span class=\"s2\">&quot;e&quot;</span><span class=\"p\">,</span><span class=\"mi\">1</span><span class=\"p\">)</span> <span class=\"nf\">ruleOccTrue</span><span class=\"p\">(</span><span class=\"s2\">&quot;e&quot;</span><span class=\"p\">,</span><span class=\"mi\">1</span><span class=\"p\">)</span> <span class=\"nf\">ruleOccTrue</span><span class=\"p\">(</span><span class=\"s2\">&quot;e&quot;</span><span class=\"p\">,</span><span class=\"mi\">2</span><span class=\"p\">)</span> <span class=\"nf\">ruleOccTrue</span><span class=\"p\">(</span><span class=\"s2\">&quot;e&quot;</span><span class=\"p\">,</span><span class=\"mi\">3</span><span class=\"p\">)</span> <span class=\"nf\">ruleHTrue</span><span class=\"p\">(</span><span class=\"s2\">&quot;thop&quot;</span><span class=\"p\">)</span> <span class=\"nf\">eqOrd</span><span class=\"p\">(</span><span class=\"s2\">&quot;X&quot;</span><span class=\"p\">,</span><span class=\"s2\">&quot;Y&quot;</span><span class=\"p\">,</span><span class=\"s s-Atom\">node</span><span class=\"p\">)</span> <span class=\"nf\">eqOrd</span><span class=\"p\">(</span><span class=\"s2\">&quot;X&quot;</span><span class=\"p\">,</span><span class=\"s2\">&quot;Z1&quot;</span><span class=\"p\">,</span><span class=\"s s-Atom\">node</span><span class=\"p\">)</span> <span class=\"nf\">eqOrd</span><span class=\"p\">(</span><span class=\"s2\">&quot;Y&quot;</span><span class=\"p\">,</span><span class=\"s2\">&quot;Z1&quot;</span><span class=\"p\">,</span><span class=\"s s-Atom\">node</span><span class=\"p\">)</span> <span class=\"nf\">eqOrd</span><span class=\"p\">(</span><span class=\"s2\">&quot;X&quot;</span><span class=\"p\">,</span><span class=\"s2\">&quot;Z2&quot;</span><span class=\"p\">,</span><span class=\"s s-Atom\">node</span><span class=\"p\">)</span> <span class=\"nf\">eqOrd</span><span class=\"p\">(</span><span class=\"s2\">&quot;Y&quot;</span><span class=\"p\">,</span><span class=\"s2\">&quot;Z2&quot;</span><span class=\"p\">,</span><span class=\"s s-Atom\">node</span><span class=\"p\">)</span> <span class=\"nf\">eqOrd</span><span class=\"p\">(</span><span class=\"s2\">&quot;Z1&quot;</span><span class=\"p\">,</span><span class=\"s2\">&quot;Z2&quot;</span><span class=\"p\">,</span><span class=\"s s-Atom\">node</span><span class=\"p\">)</span> <span class=\"nf\">newArc</span><span class=\"p\">(</span><span class=\"s2\">&quot;X&quot;</span><span class=\"p\">,</span><span class=\"mi\">2</span><span class=\"p\">,</span><span class=\"s2\">&quot;e&quot;</span><span class=\"p\">,</span><span class=\"mi\">1</span><span class=\"p\">)</span> <span class=\"nf\">newArc</span><span class=\"p\">(</span><span class=\"s2\">&quot;X&quot;</span><span class=\"p\">,</span><span class=\"mi\">1</span><span class=\"p\">,</span><span class=\"s2\">&quot;e&quot;</span><span class=\"p\">,</span><span class=\"mi\">2</span><span class=\"p\">)</span> <span class=\"nf\">newArc</span><span class=\"p\">(</span><span class=\"s2\">&quot;X&quot;</span><span class=\"p\">,</span><span class=\"mi\">2</span><span class=\"p\">,</span><span class=\"s2\">&quot;e&quot;</span><span class=\"p\">,</span><span class=\"mi\">2</span><span class=\"p\">)</span> <span class=\"nf\">newArc</span><span class=\"p\">(</span><span class=\"s2\">&quot;X&quot;</span><span class=\"p\">,</span><span class=\"mi\">1</span><span class=\"p\">,</span><span class=\"s2\">&quot;e&quot;</span><span class=\"p\">,</span><span class=\"mi\">3</span><span class=\"p\">)</span> <span class=\"nf\">newArc</span><span class=\"p\">(</span><span class=\"s2\">&quot;X&quot;</span><span class=\"p\">,</span><span class=\"mi\">2</span><span class=\"p\">,</span><span class=\"s2\">&quot;e&quot;</span><span class=\"p\">,</span><span class=\"mi\">3</span><span class=\"p\">)</span> <span class=\"nf\">e</span><span class=\"p\">(</span><span class=\"mi\">1</span><span class=\"p\">,</span><span class=\"s2\">&quot;X&quot;</span><span class=\"p\">,</span><span class=\"s2\">&quot;X&quot;</span><span class=\"p\">)</span> <span class=\"nf\">e</span><span class=\"p\">(</span><span class=\"mi\">2</span><span class=\"p\">,</span><span class=\"s2\">&quot;X&quot;</span><span class=\"p\">,</span><span class=\"s2\">&quot;X&quot;</span><span class=\"p\">)</span> <span class=\"nf\">e</span><span class=\"p\">(</span><span class=\"mi\">3</span><span class=\"p\">,</span><span class=\"s2\">&quot;X&quot;</span><span class=\"p\">,</span><span class=\"s2\">&quot;X&quot;</span><span class=\"p\">)</span> <span class=\"nf\">e</span><span class=\"p\">(</span><span class=\"s2\">&quot;X&quot;</span><span class=\"p\">,</span><span class=\"s2\">&quot;X&quot;</span><span class=\"p\">)</span> <span class=\"nf\">eqOrdMinimal</span><span class=\"p\">(</span><span class=\"s2\">&quot;X&quot;</span><span class=\"p\">,</span><span class=\"s2\">&quot;Y&quot;</span><span class=\"p\">,</span><span class=\"s s-Atom\">node</span><span class=\"p\">)</span> <span class=\"nf\">eqOrdMinimal</span><span class=\"p\">(</span><span class=\"s2\">&quot;X&quot;</span><span class=\"p\">,</span><span class=\"s2\">&quot;Z1&quot;</span><span class=\"p\">,</span><span class=\"s s-Atom\">node</span><span class=\"p\">)</span> <span class=\"nf\">eqOrdMinimal</span><span class=\"p\">(</span><span class=\"s2\">&quot;X&quot;</span><span class=\"p\">,</span><span class=\"s2\">&quot;Z2&quot;</span><span class=\"p\">,</span><span class=\"s s-Atom\">node</span><span class=\"p\">)</span>\n",
       "<span class=\"lineno\">31 </span><span class=\"nv\">SATISFIABLE</span>\n",
       "<span class=\"lineno\">32 </span>\n",
       "<span class=\"lineno\">33 </span><span class=\"nv\">Models</span>       <span class=\"s s-Atom\">:</span> <span class=\"mi\">15</span>\n",
       "<span class=\"lineno\">34 </span><span class=\"nv\">Calls</span>        <span class=\"s s-Atom\">:</span> <span class=\"mi\">1</span>\n",
       "<span class=\"lineno\">35 </span><span class=\"nv\">Time</span>         <span class=\"s s-Atom\">:</span> <span class=\"mf\">0.005</span><span class=\"nf\">s</span> <span class=\"p\">(</span><span class=\"nv\">Solving</span><span class=\"s s-Atom\">:</span> <span class=\"mf\">0.00</span><span class=\"s s-Atom\">s</span> <span class=\"mi\">1</span><span class=\"s s-Atom\">st</span> <span class=\"nv\">Model</span><span class=\"s s-Atom\">:</span> <span class=\"mf\">0.00</span><span class=\"s s-Atom\">s</span> <span class=\"nv\">Unsat</span><span class=\"s s-Atom\">:</span> <span class=\"mf\">0.00</span><span class=\"s s-Atom\">s</span><span class=\"p\">)</span>\n",
       "<span class=\"lineno\">36 </span><span class=\"nv\">CPU</span> <span class=\"nv\">Time</span>     <span class=\"s s-Atom\">:</span> <span class=\"mf\">0.005</span><span class=\"s s-Atom\">s</span>\n",
       "</pre></div>\n"
      ],
      "text/plain": [
       "'Answer: 1\\nruleH(\"thop\") newVar(\"X\",node) ruleOcc(\"e\",1) ruleOcc(\"e\",2) ruleOcc(\"e\",3) var(\"X\",node) var(\"Y\",node) var(\"Z1\",node) var(\"Z2\",node) arc(\"X\",1,\"e\",1) arc(\"Z1\",2,\"e\",1) arc(\"Z1\",1,\"e\",2) arc(\"Z2\",2,\"e\",2) arc(\"Z2\",1,\"e\",3) arc(\"Y\",2,\"e\",3) newArc(\"X\",1,\"e\",1) ruleOccTrue(\"e\",1) ruleOccTrue(\"e\",2) ruleOccTrue(\"e\",3) ruleHTrue(\"thop\") newArc(\"Z1\",2,\"e\",1) newArc(\"Z1\",1,\"e\",2) newArc(\"Z2\",2,\"e\",2) newArc(\"Z2\",1,\"e\",3) newArc(\"Y\",2,\"e\",3) e(1,\"X\",\"Z1\") e(2,\"Z1\",\"Z2\") e(3,\"Z2\",\"Y\") e(\"X\",\"Z1\") e(\"Z1\",\"Z2\") e(\"Z2\",\"Y\") newVar(\"Y\",node) newVar(\"Z1\",node) newVar(\"Z2\",node) neqOrd(\"X\",\"Y\",node) neqOrd(\"X\",\"Z1\",node) neqOrd(\"Y\",\"Z1\",node) neqOrd(\"X\",\"Z2\",node) neqOrd(\"Y\",\"Z2\",node) neqOrd(\"Z1\",\"Z2\",node)\\nAnswer: 2\\nruleH(\"thop\") newVar(\"X\",node) ruleOcc(\"e\",1) ruleOcc(\"e\",2) ruleOcc(\"e\",3) var(\"X\",node) var(\"Y\",node) var(\"Z1\",node) var(\"Z2\",node) arc(\"X\",1,\"e\",1) arc(\"Z1\",2,\"e\",1) arc(\"Z1\",1,\"e\",2) arc(\"Z2\",2,\"e\",2) arc(\"Z2\",1,\"e\",3) arc(\"Y\",2,\"e\",3) newArc(\"X\",1,\"e\",1) ruleOccTrue(\"e\",1) ruleOccTrue(\"e\",2) ruleOccTrue(\"e\",3) ruleHTrue(\"thop\") eqOrd(\"Y\",\"Z2\",node) newArc(\"Y\",2,\"e\",2) newArc(\"Y\",1,\"e\",3) newArc(\"Z1\",2,\"e\",1) newArc(\"Z1\",1,\"e\",2) newArc(\"Y\",2,\"e\",3) e(1,\"X\",\"Z1\") e(2,\"Z1\",\"Y\") e(3,\"Y\",\"Y\") e(\"X\",\"Z1\") e(\"Y\",\"Y\") e(\"Z1\",\"Y\") newVar(\"Y\",node) newVar(\"Z1\",node) neqOrd(\"X\",\"Y\",node) neqOrd(\"X\",\"Z1\",node) neqOrd(\"Y\",\"Z1\",node) eqOrdMinimal(\"Y\",\"Z2\",node)\\nAnswer: 3\\nruleH(\"thop\") newVar(\"X\",node) ruleOcc(\"e\",1) ruleOcc(\"e\",2) ruleOcc(\"e\",3) var(\"X\",node) var(\"Y\",node) var(\"Z1\",node) var(\"Z2\",node) arc(\"X\",1,\"e\",1) arc(\"Z1\",2,\"e\",1) arc(\"Z1\",1,\"e\",2) arc(\"Z2\",2,\"e\",2) arc(\"Z2\",1,\"e\",3) arc(\"Y\",2,\"e\",3) newArc(\"X\",1,\"e\",1) ruleOccTrue(\"e\",1) ruleOccTrue(\"e\",2) ruleOccTrue(\"e\",3) ruleHTrue(\"thop\") eqOrd(\"Y\",\"Z1\",node) newArc(\"Y\",2,\"e\",1) newArc(\"Y\",1,\"e\",2) newArc(\"Z2\",2,\"e\",2) newArc(\"Z2\",1,\"e\",3) newArc(\"Y\",2,\"e\",3) e(1,\"X\",\"Y\") e(2,\"Y\",\"Z2\") e(3,\"Z2\",\"Y\") e(\"X\",\"Y\") e(\"Y\",\"Z2\") e(\"Z2\",\"Y\") newVar(\"Y\",node) newVar(\"Z2\",node) neqOrd(\"X\",\"Y\",node) neqOrd(\"X\",\"Z2\",node) neqOrd(\"Y\",\"Z2\",node) eqOrdMinimal(\"Y\",\"Z1\",node)\\nAnswer: 4\\nruleH(\"thop\") newVar(\"X\",node) ruleOcc(\"e\",1) ruleOcc(\"e\",2) ruleOcc(\"e\",3) var(\"X\",node) var(\"Y\",node) var(\"Z1\",node) var(\"Z2\",node) arc(\"X\",1,\"e\",1) arc(\"Z1\",2,\"e\",1) arc(\"Z1\",1,\"e\",2) arc(\"Z2\",2,\"e\",2) arc(\"Z2\",1,\"e\",3) arc(\"Y\",2,\"e\",3) newArc(\"X\",1,\"e\",1) ruleOccTrue(\"e\",1) ruleOccTrue(\"e\",2) ruleOccTrue(\"e\",3) ruleHTrue(\"thop\") eqOrd(\"Z1\",\"Z2\",node) newArc(\"Z1\",2,\"e\",2) newArc(\"Z1\",1,\"e\",3) newArc(\"Z1\",2,\"e\",1) newArc(\"Z1\",1,\"e\",2) newArc(\"Y\",2,\"e\",3) e(1,\"X\",\"Z1\") e(2,\"Z1\",\"Z1\") e(3,\"Z1\",\"Y\") e(\"X\",\"Z1\") e(\"Z1\",\"Y\") e(\"Z1\",\"Z1\") newVar(\"Y\",node) newVar(\"Z1\",node) neqOrd(\"X\",\"Y\",node) neqOrd(\"X\",\"Z1\",node) neqOrd(\"Y\",\"Z1\",node) eqOrdMinimal(\"Z1\",\"Z2\",node)\\nAnswer: 5\\nruleH(\"thop\") newVar(\"X\",node) ruleOcc(\"e\",1) ruleOcc(\"e\",2) ruleOcc(\"e\",3) var(\"X\",node) var(\"Y\",node) var(\"Z1\",node) var(\"Z2\",node) arc(\"X\",1,\"e\",1) arc(\"Z1\",2,\"e\",1) arc(\"Z1\",1,\"e\",2) arc(\"Z2\",2,\"e\",2) arc(\"Z2\",1,\"e\",3) arc(\"Y\",2,\"e\",3) newArc(\"X\",1,\"e\",1) ruleOccTrue(\"e\",1) ruleOccTrue(\"e\",2) ruleOccTrue(\"e\",3) ruleHTrue(\"thop\") eqOrd(\"Y\",\"Z1\",node) eqOrd(\"Y\",\"Z2\",node) eqOrd(\"Z1\",\"Z2\",node) newArc(\"Y\",2,\"e\",1) newArc(\"Y\",1,\"e\",2) newArc(\"Y\",2,\"e\",2) newArc(\"Y\",1,\"e\",3) newArc(\"Y\",2,\"e\",3) e(1,\"X\",\"Y\") e(2,\"Y\",\"Y\") e(3,\"Y\",\"Y\") e(\"X\",\"Y\") e(\"Y\",\"Y\") newVar(\"Y\",node) neqOrd(\"X\",\"Y\",node) eqOrdMinimal(\"Y\",\"Z1\",node) eqOrdMinimal(\"Y\",\"Z2\",node)\\nAnswer: 6\\nruleH(\"thop\") newVar(\"X\",node) ruleOcc(\"e\",1) ruleOcc(\"e\",2) ruleOcc(\"e\",3) var(\"X\",node) var(\"Y\",node) var(\"Z1\",node) var(\"Z2\",node) arc(\"X\",1,\"e\",1) arc(\"Z1\",2,\"e\",1) arc(\"Z1\",1,\"e\",2) arc(\"Z2\",2,\"e\",2) arc(\"Z2\",1,\"e\",3) arc(\"Y\",2,\"e\",3) newArc(\"X\",1,\"e\",1) ruleOccTrue(\"e\",1) ruleOccTrue(\"e\",2) ruleOccTrue(\"e\",3) ruleHTrue(\"thop\") eqOrd(\"X\",\"Z2\",node) newArc(\"X\",2,\"e\",2) newArc(\"X\",1,\"e\",3) newArc(\"Z1\",2,\"e\",1) newArc(\"Z1\",1,\"e\",2) newArc(\"Y\",2,\"e\",3) e(1,\"X\",\"Z1\") e(2,\"Z1\",\"X\") e(3,\"X\",\"Y\") e(\"X\",\"Y\") e(\"X\",\"Z1\") e(\"Z1\",\"X\") newVar(\"Y\",node) newVar(\"Z1\",node) neqOrd(\"X\",\"Y\",node) neqOrd(\"X\",\"Z1\",node) neqOrd(\"Y\",\"Z1\",node) eqOrdMinimal(\"X\",\"Z2\",node)\\nAnswer: 7\\nruleH(\"thop\") newVar(\"X\",node) ruleOcc(\"e\",1) ruleOcc(\"e\",2) ruleOcc(\"e\",3) var(\"X\",node) var(\"Y\",node) var(\"Z1\",node) var(\"Z2\",node) arc(\"X\",1,\"e\",1) arc(\"Z1\",2,\"e\",1) arc(\"Z1\",1,\"e\",2) arc(\"Z2\",2,\"e\",2) arc(\"Z2\",1,\"e\",3) arc(\"Y\",2,\"e\",3) newArc(\"X\",1,\"e\",1) ruleOccTrue(\"e\",1) ruleOccTrue(\"e\",2) ruleOccTrue(\"e\",3) ruleHTrue(\"thop\") eqOrd(\"Y\",\"Z1\",node) eqOrd(\"X\",\"Z2\",node) newArc(\"Y\",2,\"e\",1) newArc(\"Y\",1,\"e\",2) newArc(\"X\",2,\"e\",2) newArc(\"X\",1,\"e\",3) newArc(\"Y\",2,\"e\",3) e(1,\"X\",\"Y\") e(2,\"Y\",\"X\") e(3,\"X\",\"Y\") e(\"X\",\"Y\") e(\"Y\",\"X\") newVar(\"Y\",node) neqOrd(\"X\",\"Y\",node) eqOrdMinimal(\"X\",\"Z2\",node) eqOrdMinimal(\"Y\",\"Z1\",node)\\nAnswer: 8\\nruleH(\"thop\") newVar(\"X\",node) ruleOcc(\"e\",1) ruleOcc(\"e\",2) ruleOcc(\"e\",3) var(\"X\",node) var(\"Y\",node) var(\"Z1\",node) var(\"Z2\",node) arc(\"X\",1,\"e\",1) arc(\"Z1\",2,\"e\",1) arc(\"Z1\",1,\"e\",2) arc(\"Z2\",2,\"e\",2) arc(\"Z2\",1,\"e\",3) arc(\"Y\",2,\"e\",3) newArc(\"X\",1,\"e\",1) ruleOccTrue(\"e\",1) ruleOccTrue(\"e\",2) ruleOccTrue(\"e\",3) ruleHTrue(\"thop\") eqOrd(\"X\",\"Z1\",node) newArc(\"X\",2,\"e\",1) newArc(\"X\",1,\"e\",2) newArc(\"Z2\",2,\"e\",2) newArc(\"Z2\",1,\"e\",3) newArc(\"Y\",2,\"e\",3) e(1,\"X\",\"X\") e(2,\"X\",\"Z2\") e(3,\"Z2\",\"Y\") e(\"X\",\"X\") e(\"X\",\"Z2\") e(\"Z2\",\"Y\") newVar(\"Y\",node) newVar(\"Z2\",node) neqOrd(\"X\",\"Y\",node) neqOrd(\"X\",\"Z2\",node) neqOrd(\"Y\",\"Z2\",node) eqOrdMinimal(\"X\",\"Z1\",node)\\nAnswer: 9\\nruleH(\"thop\") newVar(\"X\",node) ruleOcc(\"e\",1) ruleOcc(\"e\",2) ruleOcc(\"e\",3) var(\"X\",node) var(\"Y\",node) var(\"Z1\",node) var(\"Z2\",node) arc(\"X\",1,\"e\",1) arc(\"Z1\",2,\"e\",1) arc(\"Z1\",1,\"e\",2) arc(\"Z2\",2,\"e\",2) arc(\"Z2\",1,\"e\",3) arc(\"Y\",2,\"e\",3) newArc(\"X\",1,\"e\",1) ruleOccTrue(\"e\",1) ruleOccTrue(\"e\",2) ruleOccTrue(\"e\",3) ruleHTrue(\"thop\") eqOrd(\"X\",\"Z1\",node) eqOrd(\"Y\",\"Z2\",node) newArc(\"X\",2,\"e\",1) newArc(\"X\",1,\"e\",2) newArc(\"Y\",2,\"e\",2) newArc(\"Y\",1,\"e\",3) newArc(\"Y\",2,\"e\",3) e(1,\"X\",\"X\") e(2,\"X\",\"Y\") e(3,\"Y\",\"Y\") e(\"X\",\"X\") e(\"X\",\"Y\") e(\"Y\",\"Y\") newVar(\"Y\",node) neqOrd(\"X\",\"Y\",node) eqOrdMinimal(\"X\",\"Z1\",node) eqOrdMinimal(\"Y\",\"Z2\",node)\\nAnswer: 10\\nruleH(\"thop\") newVar(\"X\",node) ruleOcc(\"e\",1) ruleOcc(\"e\",2) ruleOcc(\"e\",3) var(\"X\",node) var(\"Y\",node) var(\"Z1\",node) var(\"Z2\",node) arc(\"X\",1,\"e\",1) arc(\"Z1\",2,\"e\",1) arc(\"Z1\",1,\"e\",2) arc(\"Z2\",2,\"e\",2) arc(\"Z2\",1,\"e\",3) arc(\"Y\",2,\"e\",3) newArc(\"X\",1,\"e\",1) ruleOccTrue(\"e\",1) ruleOccTrue(\"e\",2) ruleOccTrue(\"e\",3) ruleHTrue(\"thop\") eqOrd(\"X\",\"Z1\",node) eqOrd(\"X\",\"Z2\",node) eqOrd(\"Z1\",\"Z2\",node) newArc(\"X\",2,\"e\",1) newArc(\"X\",1,\"e\",2) newArc(\"X\",2,\"e\",2) newArc(\"X\",1,\"e\",3) newArc(\"Y\",2,\"e\",3) e(1,\"X\",\"X\") e(2,\"X\",\"X\") e(3,\"X\",\"Y\") e(\"X\",\"X\") e(\"X\",\"Y\") newVar(\"Y\",node) neqOrd(\"X\",\"Y\",node) eqOrdMinimal(\"X\",\"Z1\",node) eqOrdMinimal(\"X\",\"Z2\",node)\\nAnswer: 11\\nruleH(\"thop\") newVar(\"X\",node) ruleOcc(\"e\",1) ruleOcc(\"e\",2) ruleOcc(\"e\",3) var(\"X\",node) var(\"Y\",node) var(\"Z1\",node) var(\"Z2\",node) arc(\"X\",1,\"e\",1) arc(\"Z1\",2,\"e\",1) arc(\"Z1\",1,\"e\",2) arc(\"Z2\",2,\"e\",2) arc(\"Z2\",1,\"e\",3) arc(\"Y\",2,\"e\",3) newArc(\"X\",1,\"e\",1) ruleOccTrue(\"e\",1) ruleOccTrue(\"e\",2) ruleOccTrue(\"e\",3) ruleHTrue(\"thop\") eqOrd(\"X\",\"Y\",node) newArc(\"X\",2,\"e\",3) newArc(\"Z1\",2,\"e\",1) newArc(\"Z1\",1,\"e\",2) newArc(\"Z2\",2,\"e\",2) newArc(\"Z2\",1,\"e\",3) e(1,\"X\",\"Z1\") e(2,\"Z1\",\"Z2\") e(3,\"Z2\",\"X\") e(\"X\",\"Z1\") e(\"Z1\",\"Z2\") e(\"Z2\",\"X\") newVar(\"Z1\",node) newVar(\"Z2\",node) neqOrd(\"X\",\"Z1\",node) neqOrd(\"X\",\"Z2\",node) neqOrd(\"Z1\",\"Z2\",node) eqOrdMinimal(\"X\",\"Y\",node)\\nAnswer: 12\\nruleH(\"thop\") newVar(\"X\",node) ruleOcc(\"e\",1) ruleOcc(\"e\",2) ruleOcc(\"e\",3) var(\"X\",node) var(\"Y\",node) var(\"Z1\",node) var(\"Z2\",node) arc(\"X\",1,\"e\",1) arc(\"Z1\",2,\"e\",1) arc(\"Z1\",1,\"e\",2) arc(\"Z2\",2,\"e\",2) arc(\"Z2\",1,\"e\",3) arc(\"Y\",2,\"e\",3) newArc(\"X\",1,\"e\",1) ruleOccTrue(\"e\",1) ruleOccTrue(\"e\",2) ruleOccTrue(\"e\",3) ruleHTrue(\"thop\") eqOrd(\"X\",\"Y\",node) eqOrd(\"Z1\",\"Z2\",node) newArc(\"Z1\",2,\"e\",2) newArc(\"Z1\",1,\"e\",3) newArc(\"X\",2,\"e\",3) newArc(\"Z1\",2,\"e\",1) newArc(\"Z1\",1,\"e\",2) e(1,\"X\",\"Z1\") e(2,\"Z1\",\"Z1\") e(3,\"Z1\",\"X\") e(\"X\",\"Z1\") e(\"Z1\",\"X\") e(\"Z1\",\"Z1\") newVar(\"Z1\",node) neqOrd(\"X\",\"Z1\",node) eqOrdMinimal(\"X\",\"Y\",node) eqOrdMinimal(\"Z1\",\"Z2\",node)\\nAnswer: 13\\nruleH(\"thop\") newVar(\"X\",node) ruleOcc(\"e\",1) ruleOcc(\"e\",2) ruleOcc(\"e\",3) var(\"X\",node) var(\"Y\",node) var(\"Z1\",node) var(\"Z2\",node) arc(\"X\",1,\"e\",1) arc(\"Z1\",2,\"e\",1) arc(\"Z1\",1,\"e\",2) arc(\"Z2\",2,\"e\",2) arc(\"Z2\",1,\"e\",3) arc(\"Y\",2,\"e\",3) newArc(\"X\",1,\"e\",1) ruleOccTrue(\"e\",1) ruleOccTrue(\"e\",2) ruleOccTrue(\"e\",3) ruleHTrue(\"thop\") eqOrd(\"X\",\"Y\",node) eqOrd(\"X\",\"Z2\",node) eqOrd(\"Y\",\"Z2\",node) newArc(\"X\",2,\"e\",2) newArc(\"X\",1,\"e\",3) newArc(\"X\",2,\"e\",3) newArc(\"Z1\",2,\"e\",1) newArc(\"Z1\",1,\"e\",2) e(1,\"X\",\"Z1\") e(2,\"Z1\",\"X\") e(3,\"X\",\"X\") e(\"X\",\"X\") e(\"X\",\"Z1\") e(\"Z1\",\"X\") newVar(\"Z1\",node) neqOrd(\"X\",\"Z1\",node) eqOrdMinimal(\"X\",\"Y\",node) eqOrdMinimal(\"X\",\"Z2\",node)\\nAnswer: 14\\nruleH(\"thop\") newVar(\"X\",node) ruleOcc(\"e\",1) ruleOcc(\"e\",2) ruleOcc(\"e\",3) var(\"X\",node) var(\"Y\",node) var(\"Z1\",node) var(\"Z2\",node) arc(\"X\",1,\"e\",1) arc(\"Z1\",2,\"e\",1) arc(\"Z1\",1,\"e\",2) arc(\"Z2\",2,\"e\",2) arc(\"Z2\",1,\"e\",3) arc(\"Y\",2,\"e\",3) newArc(\"X\",1,\"e\",1) ruleOccTrue(\"e\",1) ruleOccTrue(\"e\",2) ruleOccTrue(\"e\",3) ruleHTrue(\"thop\") eqOrd(\"X\",\"Y\",node) eqOrd(\"X\",\"Z1\",node) eqOrd(\"Y\",\"Z1\",node) newArc(\"X\",2,\"e\",1) newArc(\"X\",1,\"e\",2) newArc(\"X\",2,\"e\",3) newArc(\"Z2\",2,\"e\",2) newArc(\"Z2\",1,\"e\",3) e(1,\"X\",\"X\") e(2,\"X\",\"Z2\") e(3,\"Z2\",\"X\") e(\"X\",\"X\") e(\"X\",\"Z2\") e(\"Z2\",\"X\") newVar(\"Z2\",node) neqOrd(\"X\",\"Z2\",node) eqOrdMinimal(\"X\",\"Y\",node) eqOrdMinimal(\"X\",\"Z1\",node)\\nAnswer: 15\\nruleH(\"thop\") newVar(\"X\",node) ruleOcc(\"e\",1) ruleOcc(\"e\",2) ruleOcc(\"e\",3) var(\"X\",node) var(\"Y\",node) var(\"Z1\",node) var(\"Z2\",node) arc(\"X\",1,\"e\",1) arc(\"Z1\",2,\"e\",1) arc(\"Z1\",1,\"e\",2) arc(\"Z2\",2,\"e\",2) arc(\"Z2\",1,\"e\",3) arc(\"Y\",2,\"e\",3) newArc(\"X\",1,\"e\",1) ruleOccTrue(\"e\",1) ruleOccTrue(\"e\",2) ruleOccTrue(\"e\",3) ruleHTrue(\"thop\") eqOrd(\"X\",\"Y\",node) eqOrd(\"X\",\"Z1\",node) eqOrd(\"Y\",\"Z1\",node) eqOrd(\"X\",\"Z2\",node) eqOrd(\"Y\",\"Z2\",node) eqOrd(\"Z1\",\"Z2\",node) newArc(\"X\",2,\"e\",1) newArc(\"X\",1,\"e\",2) newArc(\"X\",2,\"e\",2) newArc(\"X\",1,\"e\",3) newArc(\"X\",2,\"e\",3) e(1,\"X\",\"X\") e(2,\"X\",\"X\") e(3,\"X\",\"X\") e(\"X\",\"X\") eqOrdMinimal(\"X\",\"Y\",node) eqOrdMinimal(\"X\",\"Z1\",node) eqOrdMinimal(\"X\",\"Z2\",node)\\nSATISFIABLE\\n\\nModels       : 15\\nCalls        : 1\\nTime         : 0.005s (Solving: 0.00s 1st Model: 0.00s Unsat: 0.00s)\\nCPU Time     : 0.005s'"
      ]
     },
     "metadata": {},
     "output_type": "display_data"
    }
   ],
   "source": [
    "%%clingo --donot-display_input -l query_analysis_starter -exp query_analysis\n",
    "\n",
    "% thop(X,Y) :- e(X,Z1), e(Z1,Z2), e(Z2,Y).\n",
    "\n",
    "var(\"X\", node).\n",
    "var(\"Y\", node).\n",
    "var(\"Z1\", node).\n",
    "var(\"Z2\", node).\n",
    "\n",
    "ruleOcc(\"e\", 1..3).\n",
    "\n",
    "ruleH(\"thop\").\n",
    "\n",
    "arc(\"X\",  1, \"e\", 1).\n",
    "arc(\"Z1\", 2, \"e\", 1).\n",
    "arc(\"Z1\", 1, \"e\", 2).\n",
    "arc(\"Z2\", 2, \"e\", 2).\n",
    "arc(\"Z2\", 1, \"e\", 3).\n",
    "arc(\"Y\",  2, \"e\", 3).\n",
    "\n",
    "% hArc(\"X\", 1, \"thop\") :- ruleH(\"thop\").\n",
    "% hArc(\"Y\", 2, \"thop\") :- ruleH(\"thop\").\n",
    "% hArc(\"Z1\", 3, \"thop\") :- ruleH(\"thop\").\n",
    "% hArc(\"Z2\", 4, \"thop\") :- ruleH(\"thop\").\n",
    "\n",
    ":- not ruleHTrue(\"thop\").\n"
   ]
  },
  {
   "cell_type": "code",
   "execution_count": null,
   "metadata": {},
   "outputs": [],
   "source": []
  },
  {
   "cell_type": "code",
   "execution_count": 18,
   "metadata": {},
   "outputs": [
    {
     "name": "stdout",
     "output_type": "stream",
     "text": [
      "Number of Models: 15\n"
     ]
    }
   ],
   "source": [
    "query_analysis['pw_rel_dfs'], query_analysis['rel_schema'], query_analysis['pw_objs'] =load_worlds(query_analysis['asp_soln'],\n",
    "                                                                                                   query_analysis['meta_data'])\n"
   ]
  },
  {
   "cell_type": "code",
   "execution_count": 19,
   "metadata": {},
   "outputs": [],
   "source": [
    "if 'hArc_3' not in query_analysis['pw_rel_dfs']:\n",
    "    query_analysis['pw_rel_dfs']['hArc_3'] = pd.DataFrame(columns=['pw', 'VAR', 'POS', 'HEAD'])\n",
    "if 'newHArc_3' not in query_analysis['pw_rel_dfs']:\n",
    "    query_analysis['pw_rel_dfs']['newHArc_3'] = pd.DataFrame(columns=['pw', 'VAR', 'POS', 'HEAD'])\n",
    "for i in range(len(query_analysis['pw_objs'])):\n",
    "    if 'hArc_3' not in query_analysis['pw_objs'][i].rls:\n",
    "        query_analysis['pw_objs'][i].rls['hArc_3'] = []\n",
    "    if 'newHArc_3' not in query_analysis['pw_objs'][i].rls:\n",
    "        query_analysis['pw_objs'][i].rls['newHArc_3'] = []\n",
    "    if 'ruleHTrue_1' not in query_analysis['pw_objs'][i].rls:\n",
    "        query_analysis['pw_objs'][i].rls['ruleHTrue_1'] = []"
   ]
  },
  {
   "cell_type": "code",
   "execution_count": 20,
   "metadata": {
    "scrolled": true
   },
   "outputs": [
    {
     "name": "stdout",
     "output_type": "stream",
     "text": [
      "\n",
      "PW: 1\n"
     ]
    },
    {
     "data": {
      "text/html": [
       "<text style=color:black><text style=color:green>thop()</text> :- <text style=color:green>e(X,Z1)</text>, <text style=color:green>e(Z1,Z2)</text>, <text style=color:green>e(Z2,Y)</text>, <text style=color:black>X != Y</text>, <text style=color:black>X != Z1</text>, <text style=color:black>Y != Z1</text>, <text style=color:black>X != Z2</text>, <text style=color:black>Y != Z2</text>, <text style=color:black>Z1 != Z2</text>.</text>"
      ],
      "text/plain": [
       "<IPython.core.display.HTML object>"
      ]
     },
     "metadata": {},
     "output_type": "display_data"
    },
    {
     "data": {
      "text/html": [
       "<text style=color:black><text style=color:green>thop()</text> :- <text style=color:green>e(X,Z1)</text>, <text style=color:green>e(Z1,Z2)</text>, <text style=color:green>e(Z2,Y)</text>, <text style=color:black>X != Y</text>, <text style=color:black>X != Z1</text>, <text style=color:black>Y != Z1</text>, <text style=color:black>X != Z2</text>, <text style=color:black>Y != Z2</text>, <text style=color:black>Z1 != Z2</text>.</text>"
      ],
      "text/plain": [
       "<IPython.core.display.HTML object>"
      ]
     },
     "metadata": {},
     "output_type": "display_data"
    },
    {
     "data": {
      "text/html": [
       "<text style=color:black><text style=color:green>thop()</text> :- <text style=color:green>e(X,Z1)</text>, <text style=color:green>e(Z1,Z2)</text>, <text style=color:green>e(Z2,Y)</text>, <text style=color:black>X != Y</text>, <text style=color:black>X != Z1</text>, <text style=color:black>Y != Z1</text>, <text style=color:black>X != Z2</text>, <text style=color:black>Y != Z2</text>, <text style=color:black>Z1 != Z2</text>.</text>"
      ],
      "text/plain": [
       "<IPython.core.display.HTML object>"
      ]
     },
     "metadata": {},
     "output_type": "display_data"
    },
    {
     "data": {
      "text/html": [
       "<text style=color:black><text style=color:green>thop()</text> :- <text style=color:green>e(X,Z1)</text>, <text style=color:green>e(Z1,Z2)</text>, <text style=color:green>e(Z2,Y)</text>. % <text style=color:blue>[Z2][Z1][X][Y]</text></text>"
      ],
      "text/plain": [
       "<IPython.core.display.HTML object>"
      ]
     },
     "metadata": {},
     "output_type": "display_data"
    },
    {
     "name": "stdout",
     "output_type": "stream",
     "text": [
      "\n",
      "PW: 2\n"
     ]
    },
    {
     "data": {
      "text/html": [
       "<text style=color:black><text style=color:green>thop()</text> :- <text style=color:green>e(X,Z1)</text>, <text style=color:green>e(Z1,Y)</text>, <text style=color:green>e(Y,Y)</text>, <text style=color:black>X != Y</text>, <text style=color:black>X != Z1</text>, <text style=color:black>Y != Z1</text>.</text>"
      ],
      "text/plain": [
       "<IPython.core.display.HTML object>"
      ]
     },
     "metadata": {},
     "output_type": "display_data"
    },
    {
     "data": {
      "text/html": [
       "<text style=color:black><text style=color:green>thop()</text> :- <text style=color:green>e(X,Z1)</text>, <text style=color:green>e(Z1,Z2)</text>, <text style=color:green>e(Z2,Y)</text>, Y=Z2, <text style=color:black>X != Y</text>, <text style=color:black>X != Z1</text>, <text style=color:black>Y != Z1</text>.</text>"
      ],
      "text/plain": [
       "<IPython.core.display.HTML object>"
      ]
     },
     "metadata": {},
     "output_type": "display_data"
    },
    {
     "data": {
      "text/html": [
       "<text style=color:black><text style=color:green>thop()</text> :- <text style=color:green>e(X,Z1)</text>, <text style=color:green>e(Z1,Z2)</text>, <text style=color:green>e(Z2,Y)</text>, Y=Z2, <text style=color:black>X != Y</text>, <text style=color:black>X != Z1</text>, <text style=color:black>Y != Z1</text>.</text>"
      ],
      "text/plain": [
       "<IPython.core.display.HTML object>"
      ]
     },
     "metadata": {},
     "output_type": "display_data"
    },
    {
     "data": {
      "text/html": [
       "<text style=color:black><text style=color:green>thop()</text> :- <text style=color:green>e(X,Z1)</text>, <text style=color:green>e(Z1,Z2)</text>, <text style=color:green>e(Z2,Y)</text>. % <text style=color:blue>[Y=Z2][Z1][X]</text></text>"
      ],
      "text/plain": [
       "<IPython.core.display.HTML object>"
      ]
     },
     "metadata": {},
     "output_type": "display_data"
    },
    {
     "name": "stdout",
     "output_type": "stream",
     "text": [
      "\n",
      "PW: 3\n"
     ]
    },
    {
     "data": {
      "text/html": [
       "<text style=color:black><text style=color:green>thop()</text> :- <text style=color:green>e(X,Y)</text>, <text style=color:green>e(Y,Z2)</text>, <text style=color:green>e(Z2,Y)</text>, <text style=color:black>X != Y</text>, <text style=color:black>X != Z2</text>, <text style=color:black>Y != Z2</text>.</text>"
      ],
      "text/plain": [
       "<IPython.core.display.HTML object>"
      ]
     },
     "metadata": {},
     "output_type": "display_data"
    },
    {
     "data": {
      "text/html": [
       "<text style=color:black><text style=color:green>thop()</text> :- <text style=color:green>e(X,Z1)</text>, <text style=color:green>e(Z1,Z2)</text>, <text style=color:green>e(Z2,Y)</text>, Y=Z1, <text style=color:black>X != Y</text>, <text style=color:black>X != Z2</text>, <text style=color:black>Y != Z2</text>.</text>"
      ],
      "text/plain": [
       "<IPython.core.display.HTML object>"
      ]
     },
     "metadata": {},
     "output_type": "display_data"
    },
    {
     "data": {
      "text/html": [
       "<text style=color:black><text style=color:green>thop()</text> :- <text style=color:green>e(X,Z1)</text>, <text style=color:green>e(Z1,Z2)</text>, <text style=color:green>e(Z2,Y)</text>, Y=Z1, <text style=color:black>X != Y</text>, <text style=color:black>X != Z2</text>, <text style=color:black>Y != Z2</text>.</text>"
      ],
      "text/plain": [
       "<IPython.core.display.HTML object>"
      ]
     },
     "metadata": {},
     "output_type": "display_data"
    },
    {
     "data": {
      "text/html": [
       "<text style=color:black><text style=color:green>thop()</text> :- <text style=color:green>e(X,Z1)</text>, <text style=color:green>e(Z1,Z2)</text>, <text style=color:green>e(Z2,Y)</text>. % <text style=color:blue>[Y=Z1][Z2][X]</text></text>"
      ],
      "text/plain": [
       "<IPython.core.display.HTML object>"
      ]
     },
     "metadata": {},
     "output_type": "display_data"
    },
    {
     "name": "stdout",
     "output_type": "stream",
     "text": [
      "\n",
      "PW: 4\n"
     ]
    },
    {
     "data": {
      "text/html": [
       "<text style=color:black><text style=color:green>thop()</text> :- <text style=color:green>e(X,Z1)</text>, <text style=color:green>e(Z1,Z1)</text>, <text style=color:green>e(Z1,Y)</text>, <text style=color:black>X != Y</text>, <text style=color:black>X != Z1</text>, <text style=color:black>Y != Z1</text>.</text>"
      ],
      "text/plain": [
       "<IPython.core.display.HTML object>"
      ]
     },
     "metadata": {},
     "output_type": "display_data"
    },
    {
     "data": {
      "text/html": [
       "<text style=color:black><text style=color:green>thop()</text> :- <text style=color:green>e(X,Z1)</text>, <text style=color:green>e(Z1,Z2)</text>, <text style=color:green>e(Z2,Y)</text>, Z1=Z2, <text style=color:black>X != Y</text>, <text style=color:black>X != Z1</text>, <text style=color:black>Y != Z1</text>.</text>"
      ],
      "text/plain": [
       "<IPython.core.display.HTML object>"
      ]
     },
     "metadata": {},
     "output_type": "display_data"
    },
    {
     "data": {
      "text/html": [
       "<text style=color:black><text style=color:green>thop()</text> :- <text style=color:green>e(X,Z1)</text>, <text style=color:green>e(Z1,Z2)</text>, <text style=color:green>e(Z2,Y)</text>, Z1=Z2, <text style=color:black>X != Y</text>, <text style=color:black>X != Z1</text>, <text style=color:black>Y != Z1</text>.</text>"
      ],
      "text/plain": [
       "<IPython.core.display.HTML object>"
      ]
     },
     "metadata": {},
     "output_type": "display_data"
    },
    {
     "data": {
      "text/html": [
       "<text style=color:black><text style=color:green>thop()</text> :- <text style=color:green>e(X,Z1)</text>, <text style=color:green>e(Z1,Z2)</text>, <text style=color:green>e(Z2,Y)</text>. % <text style=color:blue>[Z1=Z2][X][Y]</text></text>"
      ],
      "text/plain": [
       "<IPython.core.display.HTML object>"
      ]
     },
     "metadata": {},
     "output_type": "display_data"
    },
    {
     "name": "stdout",
     "output_type": "stream",
     "text": [
      "\n",
      "PW: 5\n"
     ]
    },
    {
     "data": {
      "text/html": [
       "<text style=color:black><text style=color:green>thop()</text> :- <text style=color:green>e(X,Y)</text>, <text style=color:green>e(Y,Y)</text>, <text style=color:green>e(Y,Y)</text>, <text style=color:black>X != Y</text>.</text>"
      ],
      "text/plain": [
       "<IPython.core.display.HTML object>"
      ]
     },
     "metadata": {},
     "output_type": "display_data"
    },
    {
     "data": {
      "text/html": [
       "<text style=color:black><text style=color:green>thop()</text> :- <text style=color:green>e(X,Z1)</text>, <text style=color:green>e(Z1,Z2)</text>, <text style=color:green>e(Z2,Y)</text>, Y=Z1, Y=Z2, <text style=color:black>X != Y</text>.</text>"
      ],
      "text/plain": [
       "<IPython.core.display.HTML object>"
      ]
     },
     "metadata": {},
     "output_type": "display_data"
    },
    {
     "data": {
      "text/html": [
       "<text style=color:black><text style=color:green>thop()</text> :- <text style=color:green>e(X,Z1)</text>, <text style=color:green>e(Z1,Z2)</text>, <text style=color:green>e(Z2,Y)</text>, Y=Z1=Z2, <text style=color:black>X != Y</text>.</text>"
      ],
      "text/plain": [
       "<IPython.core.display.HTML object>"
      ]
     },
     "metadata": {},
     "output_type": "display_data"
    },
    {
     "data": {
      "text/html": [
       "<text style=color:black><text style=color:green>thop()</text> :- <text style=color:green>e(X,Z1)</text>, <text style=color:green>e(Z1,Z2)</text>, <text style=color:green>e(Z2,Y)</text>. % <text style=color:blue>[Y=Z1=Z2][X]</text></text>"
      ],
      "text/plain": [
       "<IPython.core.display.HTML object>"
      ]
     },
     "metadata": {},
     "output_type": "display_data"
    },
    {
     "name": "stdout",
     "output_type": "stream",
     "text": [
      "\n",
      "PW: 6\n"
     ]
    },
    {
     "data": {
      "text/html": [
       "<text style=color:black><text style=color:green>thop()</text> :- <text style=color:green>e(X,Z1)</text>, <text style=color:green>e(Z1,X)</text>, <text style=color:green>e(X,Y)</text>, <text style=color:black>X != Y</text>, <text style=color:black>X != Z1</text>, <text style=color:black>Y != Z1</text>.</text>"
      ],
      "text/plain": [
       "<IPython.core.display.HTML object>"
      ]
     },
     "metadata": {},
     "output_type": "display_data"
    },
    {
     "data": {
      "text/html": [
       "<text style=color:black><text style=color:green>thop()</text> :- <text style=color:green>e(X,Z1)</text>, <text style=color:green>e(Z1,Z2)</text>, <text style=color:green>e(Z2,Y)</text>, X=Z2, <text style=color:black>X != Y</text>, <text style=color:black>X != Z1</text>, <text style=color:black>Y != Z1</text>.</text>"
      ],
      "text/plain": [
       "<IPython.core.display.HTML object>"
      ]
     },
     "metadata": {},
     "output_type": "display_data"
    },
    {
     "data": {
      "text/html": [
       "<text style=color:black><text style=color:green>thop()</text> :- <text style=color:green>e(X,Z1)</text>, <text style=color:green>e(Z1,Z2)</text>, <text style=color:green>e(Z2,Y)</text>, X=Z2, <text style=color:black>X != Y</text>, <text style=color:black>X != Z1</text>, <text style=color:black>Y != Z1</text>.</text>"
      ],
      "text/plain": [
       "<IPython.core.display.HTML object>"
      ]
     },
     "metadata": {},
     "output_type": "display_data"
    },
    {
     "data": {
      "text/html": [
       "<text style=color:black><text style=color:green>thop()</text> :- <text style=color:green>e(X,Z1)</text>, <text style=color:green>e(Z1,Z2)</text>, <text style=color:green>e(Z2,Y)</text>. % <text style=color:blue>[X=Z2][Z1][Y]</text></text>"
      ],
      "text/plain": [
       "<IPython.core.display.HTML object>"
      ]
     },
     "metadata": {},
     "output_type": "display_data"
    },
    {
     "name": "stdout",
     "output_type": "stream",
     "text": [
      "\n",
      "PW: 7\n"
     ]
    },
    {
     "data": {
      "text/html": [
       "<text style=color:black><text style=color:green>thop()</text> :- <text style=color:green>e(X,Y)</text>, <text style=color:green>e(Y,X)</text>, <text style=color:green>e(X,Y)</text>, <text style=color:black>X != Y</text>.</text>"
      ],
      "text/plain": [
       "<IPython.core.display.HTML object>"
      ]
     },
     "metadata": {},
     "output_type": "display_data"
    },
    {
     "data": {
      "text/html": [
       "<text style=color:black><text style=color:green>thop()</text> :- <text style=color:green>e(X,Z1)</text>, <text style=color:green>e(Z1,Z2)</text>, <text style=color:green>e(Z2,Y)</text>, X=Z2, Y=Z1, <text style=color:black>X != Y</text>.</text>"
      ],
      "text/plain": [
       "<IPython.core.display.HTML object>"
      ]
     },
     "metadata": {},
     "output_type": "display_data"
    },
    {
     "data": {
      "text/html": [
       "<text style=color:black><text style=color:green>thop()</text> :- <text style=color:green>e(X,Z1)</text>, <text style=color:green>e(Z1,Z2)</text>, <text style=color:green>e(Z2,Y)</text>, X=Z2, Y=Z1, <text style=color:black>X != Y</text>.</text>"
      ],
      "text/plain": [
       "<IPython.core.display.HTML object>"
      ]
     },
     "metadata": {},
     "output_type": "display_data"
    },
    {
     "data": {
      "text/html": [
       "<text style=color:black><text style=color:green>thop()</text> :- <text style=color:green>e(X,Z1)</text>, <text style=color:green>e(Z1,Z2)</text>, <text style=color:green>e(Z2,Y)</text>. % <text style=color:blue>[X=Z2][Y=Z1]</text></text>"
      ],
      "text/plain": [
       "<IPython.core.display.HTML object>"
      ]
     },
     "metadata": {},
     "output_type": "display_data"
    },
    {
     "name": "stdout",
     "output_type": "stream",
     "text": [
      "\n",
      "PW: 8\n"
     ]
    },
    {
     "data": {
      "text/html": [
       "<text style=color:black><text style=color:green>thop()</text> :- <text style=color:green>e(X,X)</text>, <text style=color:green>e(X,Z2)</text>, <text style=color:green>e(Z2,Y)</text>, <text style=color:black>X != Y</text>, <text style=color:black>X != Z2</text>, <text style=color:black>Y != Z2</text>.</text>"
      ],
      "text/plain": [
       "<IPython.core.display.HTML object>"
      ]
     },
     "metadata": {},
     "output_type": "display_data"
    },
    {
     "data": {
      "text/html": [
       "<text style=color:black><text style=color:green>thop()</text> :- <text style=color:green>e(X,Z1)</text>, <text style=color:green>e(Z1,Z2)</text>, <text style=color:green>e(Z2,Y)</text>, X=Z1, <text style=color:black>X != Y</text>, <text style=color:black>X != Z2</text>, <text style=color:black>Y != Z2</text>.</text>"
      ],
      "text/plain": [
       "<IPython.core.display.HTML object>"
      ]
     },
     "metadata": {},
     "output_type": "display_data"
    },
    {
     "data": {
      "text/html": [
       "<text style=color:black><text style=color:green>thop()</text> :- <text style=color:green>e(X,Z1)</text>, <text style=color:green>e(Z1,Z2)</text>, <text style=color:green>e(Z2,Y)</text>, X=Z1, <text style=color:black>X != Y</text>, <text style=color:black>X != Z2</text>, <text style=color:black>Y != Z2</text>.</text>"
      ],
      "text/plain": [
       "<IPython.core.display.HTML object>"
      ]
     },
     "metadata": {},
     "output_type": "display_data"
    },
    {
     "data": {
      "text/html": [
       "<text style=color:black><text style=color:green>thop()</text> :- <text style=color:green>e(X,Z1)</text>, <text style=color:green>e(Z1,Z2)</text>, <text style=color:green>e(Z2,Y)</text>. % <text style=color:blue>[X=Z1][Z2][Y]</text></text>"
      ],
      "text/plain": [
       "<IPython.core.display.HTML object>"
      ]
     },
     "metadata": {},
     "output_type": "display_data"
    },
    {
     "name": "stdout",
     "output_type": "stream",
     "text": [
      "\n",
      "PW: 9\n"
     ]
    },
    {
     "data": {
      "text/html": [
       "<text style=color:black><text style=color:green>thop()</text> :- <text style=color:green>e(X,X)</text>, <text style=color:green>e(X,Y)</text>, <text style=color:green>e(Y,Y)</text>, <text style=color:black>X != Y</text>.</text>"
      ],
      "text/plain": [
       "<IPython.core.display.HTML object>"
      ]
     },
     "metadata": {},
     "output_type": "display_data"
    },
    {
     "data": {
      "text/html": [
       "<text style=color:black><text style=color:green>thop()</text> :- <text style=color:green>e(X,Z1)</text>, <text style=color:green>e(Z1,Z2)</text>, <text style=color:green>e(Z2,Y)</text>, X=Z1, Y=Z2, <text style=color:black>X != Y</text>.</text>"
      ],
      "text/plain": [
       "<IPython.core.display.HTML object>"
      ]
     },
     "metadata": {},
     "output_type": "display_data"
    },
    {
     "data": {
      "text/html": [
       "<text style=color:black><text style=color:green>thop()</text> :- <text style=color:green>e(X,Z1)</text>, <text style=color:green>e(Z1,Z2)</text>, <text style=color:green>e(Z2,Y)</text>, X=Z1, Y=Z2, <text style=color:black>X != Y</text>.</text>"
      ],
      "text/plain": [
       "<IPython.core.display.HTML object>"
      ]
     },
     "metadata": {},
     "output_type": "display_data"
    },
    {
     "data": {
      "text/html": [
       "<text style=color:black><text style=color:green>thop()</text> :- <text style=color:green>e(X,Z1)</text>, <text style=color:green>e(Z1,Z2)</text>, <text style=color:green>e(Z2,Y)</text>. % <text style=color:blue>[X=Z1][Y=Z2]</text></text>"
      ],
      "text/plain": [
       "<IPython.core.display.HTML object>"
      ]
     },
     "metadata": {},
     "output_type": "display_data"
    },
    {
     "name": "stdout",
     "output_type": "stream",
     "text": [
      "\n",
      "PW: 10\n"
     ]
    },
    {
     "data": {
      "text/html": [
       "<text style=color:black><text style=color:green>thop()</text> :- <text style=color:green>e(X,X)</text>, <text style=color:green>e(X,X)</text>, <text style=color:green>e(X,Y)</text>, <text style=color:black>X != Y</text>.</text>"
      ],
      "text/plain": [
       "<IPython.core.display.HTML object>"
      ]
     },
     "metadata": {},
     "output_type": "display_data"
    },
    {
     "data": {
      "text/html": [
       "<text style=color:black><text style=color:green>thop()</text> :- <text style=color:green>e(X,Z1)</text>, <text style=color:green>e(Z1,Z2)</text>, <text style=color:green>e(Z2,Y)</text>, X=Z1, X=Z2, <text style=color:black>X != Y</text>.</text>"
      ],
      "text/plain": [
       "<IPython.core.display.HTML object>"
      ]
     },
     "metadata": {},
     "output_type": "display_data"
    },
    {
     "data": {
      "text/html": [
       "<text style=color:black><text style=color:green>thop()</text> :- <text style=color:green>e(X,Z1)</text>, <text style=color:green>e(Z1,Z2)</text>, <text style=color:green>e(Z2,Y)</text>, X=Z1=Z2, <text style=color:black>X != Y</text>.</text>"
      ],
      "text/plain": [
       "<IPython.core.display.HTML object>"
      ]
     },
     "metadata": {},
     "output_type": "display_data"
    },
    {
     "data": {
      "text/html": [
       "<text style=color:black><text style=color:green>thop()</text> :- <text style=color:green>e(X,Z1)</text>, <text style=color:green>e(Z1,Z2)</text>, <text style=color:green>e(Z2,Y)</text>. % <text style=color:blue>[X=Z1=Z2][Y]</text></text>"
      ],
      "text/plain": [
       "<IPython.core.display.HTML object>"
      ]
     },
     "metadata": {},
     "output_type": "display_data"
    },
    {
     "name": "stdout",
     "output_type": "stream",
     "text": [
      "\n",
      "PW: 11\n"
     ]
    },
    {
     "data": {
      "text/html": [
       "<text style=color:black><text style=color:green>thop()</text> :- <text style=color:green>e(X,Z1)</text>, <text style=color:green>e(Z1,Z2)</text>, <text style=color:green>e(Z2,X)</text>, <text style=color:black>X != Z1</text>, <text style=color:black>X != Z2</text>, <text style=color:black>Z1 != Z2</text>.</text>"
      ],
      "text/plain": [
       "<IPython.core.display.HTML object>"
      ]
     },
     "metadata": {},
     "output_type": "display_data"
    },
    {
     "data": {
      "text/html": [
       "<text style=color:black><text style=color:green>thop()</text> :- <text style=color:green>e(X,Z1)</text>, <text style=color:green>e(Z1,Z2)</text>, <text style=color:green>e(Z2,Y)</text>, X=Y, <text style=color:black>X != Z1</text>, <text style=color:black>X != Z2</text>, <text style=color:black>Z1 != Z2</text>.</text>"
      ],
      "text/plain": [
       "<IPython.core.display.HTML object>"
      ]
     },
     "metadata": {},
     "output_type": "display_data"
    },
    {
     "data": {
      "text/html": [
       "<text style=color:black><text style=color:green>thop()</text> :- <text style=color:green>e(X,Z1)</text>, <text style=color:green>e(Z1,Z2)</text>, <text style=color:green>e(Z2,Y)</text>, X=Y, <text style=color:black>X != Z1</text>, <text style=color:black>X != Z2</text>, <text style=color:black>Z1 != Z2</text>.</text>"
      ],
      "text/plain": [
       "<IPython.core.display.HTML object>"
      ]
     },
     "metadata": {},
     "output_type": "display_data"
    },
    {
     "data": {
      "text/html": [
       "<text style=color:black><text style=color:green>thop()</text> :- <text style=color:green>e(X,Z1)</text>, <text style=color:green>e(Z1,Z2)</text>, <text style=color:green>e(Z2,Y)</text>. % <text style=color:blue>[X=Y][Z2][Z1]</text></text>"
      ],
      "text/plain": [
       "<IPython.core.display.HTML object>"
      ]
     },
     "metadata": {},
     "output_type": "display_data"
    },
    {
     "name": "stdout",
     "output_type": "stream",
     "text": [
      "\n",
      "PW: 12\n"
     ]
    },
    {
     "data": {
      "text/html": [
       "<text style=color:black><text style=color:green>thop()</text> :- <text style=color:green>e(X,Z1)</text>, <text style=color:green>e(Z1,Z1)</text>, <text style=color:green>e(Z1,X)</text>, <text style=color:black>X != Z1</text>.</text>"
      ],
      "text/plain": [
       "<IPython.core.display.HTML object>"
      ]
     },
     "metadata": {},
     "output_type": "display_data"
    },
    {
     "data": {
      "text/html": [
       "<text style=color:black><text style=color:green>thop()</text> :- <text style=color:green>e(X,Z1)</text>, <text style=color:green>e(Z1,Z2)</text>, <text style=color:green>e(Z2,Y)</text>, X=Y, Z1=Z2, <text style=color:black>X != Z1</text>.</text>"
      ],
      "text/plain": [
       "<IPython.core.display.HTML object>"
      ]
     },
     "metadata": {},
     "output_type": "display_data"
    },
    {
     "data": {
      "text/html": [
       "<text style=color:black><text style=color:green>thop()</text> :- <text style=color:green>e(X,Z1)</text>, <text style=color:green>e(Z1,Z2)</text>, <text style=color:green>e(Z2,Y)</text>, X=Y, Z1=Z2, <text style=color:black>X != Z1</text>.</text>"
      ],
      "text/plain": [
       "<IPython.core.display.HTML object>"
      ]
     },
     "metadata": {},
     "output_type": "display_data"
    },
    {
     "data": {
      "text/html": [
       "<text style=color:black><text style=color:green>thop()</text> :- <text style=color:green>e(X,Z1)</text>, <text style=color:green>e(Z1,Z2)</text>, <text style=color:green>e(Z2,Y)</text>. % <text style=color:blue>[X=Y][Z1=Z2]</text></text>"
      ],
      "text/plain": [
       "<IPython.core.display.HTML object>"
      ]
     },
     "metadata": {},
     "output_type": "display_data"
    },
    {
     "name": "stdout",
     "output_type": "stream",
     "text": [
      "\n",
      "PW: 13\n"
     ]
    },
    {
     "data": {
      "text/html": [
       "<text style=color:black><text style=color:green>thop()</text> :- <text style=color:green>e(X,Z1)</text>, <text style=color:green>e(Z1,X)</text>, <text style=color:green>e(X,X)</text>, <text style=color:black>X != Z1</text>.</text>"
      ],
      "text/plain": [
       "<IPython.core.display.HTML object>"
      ]
     },
     "metadata": {},
     "output_type": "display_data"
    },
    {
     "data": {
      "text/html": [
       "<text style=color:black><text style=color:green>thop()</text> :- <text style=color:green>e(X,Z1)</text>, <text style=color:green>e(Z1,Z2)</text>, <text style=color:green>e(Z2,Y)</text>, X=Y, X=Z2, <text style=color:black>X != Z1</text>.</text>"
      ],
      "text/plain": [
       "<IPython.core.display.HTML object>"
      ]
     },
     "metadata": {},
     "output_type": "display_data"
    },
    {
     "data": {
      "text/html": [
       "<text style=color:black><text style=color:green>thop()</text> :- <text style=color:green>e(X,Z1)</text>, <text style=color:green>e(Z1,Z2)</text>, <text style=color:green>e(Z2,Y)</text>, X=Y=Z2, <text style=color:black>X != Z1</text>.</text>"
      ],
      "text/plain": [
       "<IPython.core.display.HTML object>"
      ]
     },
     "metadata": {},
     "output_type": "display_data"
    },
    {
     "data": {
      "text/html": [
       "<text style=color:black><text style=color:green>thop()</text> :- <text style=color:green>e(X,Z1)</text>, <text style=color:green>e(Z1,Z2)</text>, <text style=color:green>e(Z2,Y)</text>. % <text style=color:blue>[X=Y=Z2][Z1]</text></text>"
      ],
      "text/plain": [
       "<IPython.core.display.HTML object>"
      ]
     },
     "metadata": {},
     "output_type": "display_data"
    },
    {
     "name": "stdout",
     "output_type": "stream",
     "text": [
      "\n",
      "PW: 14\n"
     ]
    },
    {
     "data": {
      "text/html": [
       "<text style=color:black><text style=color:green>thop()</text> :- <text style=color:green>e(X,X)</text>, <text style=color:green>e(X,Z2)</text>, <text style=color:green>e(Z2,X)</text>, <text style=color:black>X != Z2</text>.</text>"
      ],
      "text/plain": [
       "<IPython.core.display.HTML object>"
      ]
     },
     "metadata": {},
     "output_type": "display_data"
    },
    {
     "data": {
      "text/html": [
       "<text style=color:black><text style=color:green>thop()</text> :- <text style=color:green>e(X,Z1)</text>, <text style=color:green>e(Z1,Z2)</text>, <text style=color:green>e(Z2,Y)</text>, X=Y, X=Z1, <text style=color:black>X != Z2</text>.</text>"
      ],
      "text/plain": [
       "<IPython.core.display.HTML object>"
      ]
     },
     "metadata": {},
     "output_type": "display_data"
    },
    {
     "data": {
      "text/html": [
       "<text style=color:black><text style=color:green>thop()</text> :- <text style=color:green>e(X,Z1)</text>, <text style=color:green>e(Z1,Z2)</text>, <text style=color:green>e(Z2,Y)</text>, X=Y=Z1, <text style=color:black>X != Z2</text>.</text>"
      ],
      "text/plain": [
       "<IPython.core.display.HTML object>"
      ]
     },
     "metadata": {},
     "output_type": "display_data"
    },
    {
     "data": {
      "text/html": [
       "<text style=color:black><text style=color:green>thop()</text> :- <text style=color:green>e(X,Z1)</text>, <text style=color:green>e(Z1,Z2)</text>, <text style=color:green>e(Z2,Y)</text>. % <text style=color:blue>[X=Y=Z1][Z2]</text></text>"
      ],
      "text/plain": [
       "<IPython.core.display.HTML object>"
      ]
     },
     "metadata": {},
     "output_type": "display_data"
    },
    {
     "name": "stdout",
     "output_type": "stream",
     "text": [
      "\n",
      "PW: 15\n"
     ]
    },
    {
     "data": {
      "text/html": [
       "<text style=color:black><text style=color:green>thop()</text> :- <text style=color:green>e(X,X)</text>, <text style=color:green>e(X,X)</text>, <text style=color:green>e(X,X)</text>.</text>"
      ],
      "text/plain": [
       "<IPython.core.display.HTML object>"
      ]
     },
     "metadata": {},
     "output_type": "display_data"
    },
    {
     "data": {
      "text/html": [
       "<text style=color:black><text style=color:green>thop()</text> :- <text style=color:green>e(X,Z1)</text>, <text style=color:green>e(Z1,Z2)</text>, <text style=color:green>e(Z2,Y)</text>, X=Y, X=Z1, X=Z2.</text>"
      ],
      "text/plain": [
       "<IPython.core.display.HTML object>"
      ]
     },
     "metadata": {},
     "output_type": "display_data"
    },
    {
     "data": {
      "text/html": [
       "<text style=color:black><text style=color:green>thop()</text> :- <text style=color:green>e(X,Z1)</text>, <text style=color:green>e(Z1,Z2)</text>, <text style=color:green>e(Z2,Y)</text>, X=Y=Z1=Z2.</text>"
      ],
      "text/plain": [
       "<IPython.core.display.HTML object>"
      ]
     },
     "metadata": {},
     "output_type": "display_data"
    },
    {
     "data": {
      "text/html": [
       "<text style=color:black><text style=color:green>thop()</text> :- <text style=color:green>e(X,Z1)</text>, <text style=color:green>e(Z1,Z2)</text>, <text style=color:green>e(Z2,Y)</text>. % <text style=color:blue>[X=Y=Z1=Z2]</text></text>"
      ],
      "text/plain": [
       "<IPython.core.display.HTML object>"
      ]
     },
     "metadata": {},
     "output_type": "display_data"
    }
   ],
   "source": [
    "for i in range(1, len(query_analysis['pw_objs'])+1):\n",
    "    print(\"\\nPW:\", i)\n",
    "    pw_rel_dfs = pw_slicer(query_analysis['pw_rel_dfs'], None, [i])[0]        \n",
    "\n",
    "#     g = get_incidence_graph(pw_rel_dfs)\n",
    "#     display(draw(g))\n",
    "    \n",
    "\n",
    "#     print_colored_query_string(pw_rel_dfs)\n",
    "    print_rewritten_query_string(pw_rel_dfs)\n",
    "    print_explicit_rewritten_query_string(pw_rel_dfs, chain_eq=False)\n",
    "    print_explicit_rewritten_query_string(pw_rel_dfs, chain_eq=True)\n",
    "    print_fancy_rewrite(pw_rel_dfs)\n",
    "    \n",
    "#     g = get_pattern_graph2(pw_rel_dfs)\n",
    "#     draw(g, format='pdf', filename='{}.{}'.format('3hop_all_patterns/pw_{}'.format(i), 'pdf'), show='none')\n",
    "#     display(draw(g))"
   ]
  },
  {
   "cell_type": "code",
   "execution_count": null,
   "metadata": {},
   "outputs": [],
   "source": []
  },
  {
   "cell_type": "code",
   "execution_count": 21,
   "metadata": {},
   "outputs": [],
   "source": [
    "def are_equivalent_patterns(pw1, pw2, eq_check_encoding=qep_eq_check2):\n",
    "    \n",
    "    def get_edge_facts(pw, edge_rel_idx):\n",
    "        pw_objs = [pw]\n",
    "        _,_,pw_objs = rel_slicer(None, None, pw_objs, rels_to_use=['e_2', 'ne_2'])\n",
    "        _, pw_objs, _ = rel_name_remapper(None, pw_objs, None, rel_name_map={'e_2': 'e{}_2'.format(str(edge_rel_idx)),\n",
    "                                                                             'ne_2': 'ne{}_2'.format(str(edge_rel_idx))})\n",
    "        return PWEExport.export_as_asp_facts(pw_objs, include_pw_ids=False)\n",
    "    \n",
    "    pw1_edge_facts = get_edge_facts(pw1, 1)\n",
    "    pw2_edge_facts = get_edge_facts(pw2, 2)\n",
    "    pw1_head_facts = get_query_head_facts(pw1, idx=1)\n",
    "    pw2_head_facts = get_query_head_facts(pw2, idx=2)\n",
    "    # print(pw1_edge_facts, pw2_edge_facts)\n",
    "    asp_out, _ = run_clingo(eq_check_encoding.split('\\n')+pw1_edge_facts+pw2_edge_facts+pw1_head_facts+pw2_head_facts, num_solutions=1)\n",
    "    # print(asp_out)\n",
    "    _,_,eq_check_pws = load_worlds(asp_out, silent=True)\n",
    "    \n",
    "    return len(eq_check_pws) >= 1"
   ]
  },
  {
   "cell_type": "code",
   "execution_count": 22,
   "metadata": {},
   "outputs": [],
   "source": [
    "# are_equivalent_patterns(query_analysis['pw_objs'][5], query_analysis['pw_objs'][6], eq_check_encoding=qep_eq_check2)"
   ]
  },
  {
   "cell_type": "code",
   "execution_count": 23,
   "metadata": {},
   "outputs": [],
   "source": [
    "sets = get_equivalent_sets(query_analysis['pw_objs'], are_equivalent_patterns)"
   ]
  },
  {
   "cell_type": "code",
   "execution_count": 24,
   "metadata": {
    "scrolled": true
   },
   "outputs": [
    {
     "name": "stdout",
     "output_type": "stream",
     "text": [
      "{1}\n",
      "{2}\n",
      "{3}\n",
      "{4}\n",
      "{5}\n",
      "{6}\n",
      "{7}\n",
      "{8}\n",
      "{9}\n",
      "{10}\n",
      "{11}\n",
      "{12, 13, 14}\n",
      "{15}\n"
     ]
    }
   ],
   "source": [
    "for s in sets:\n",
    "    print({pw.pw_id for pw in s})"
   ]
  },
  {
   "cell_type": "code",
   "execution_count": 25,
   "metadata": {},
   "outputs": [
    {
     "data": {
      "text/plain": [
       "13"
      ]
     },
     "execution_count": 25,
     "metadata": {},
     "output_type": "execute_result"
    }
   ],
   "source": [
    "len(sets)"
   ]
  },
  {
   "cell_type": "code",
   "execution_count": 26,
   "metadata": {
    "scrolled": true
   },
   "outputs": [
    {
     "name": "stdout",
     "output_type": "stream",
     "text": [
      "\n",
      "\n",
      "\n",
      "Set: 1\n",
      "\n",
      "PW: 1\n"
     ]
    },
    {
     "data": {
      "text/html": [
       "<text style=color:black><text style=color:green>thop()</text> :- <text style=color:green>e(X,Z1)</text>, <text style=color:green>e(Z1,Z2)</text>, <text style=color:green>e(Z2,Y)</text>. % <text style=color:blue>[Z2][Z1][X][Y]</text></text>"
      ],
      "text/plain": [
       "<IPython.core.display.HTML object>"
      ]
     },
     "metadata": {},
     "output_type": "display_data"
    },
    {
     "name": "stdout",
     "output_type": "stream",
     "text": [
      "\n",
      "\n",
      "\n",
      "Set: 2\n",
      "\n",
      "PW: 2\n"
     ]
    },
    {
     "data": {
      "text/html": [
       "<text style=color:black><text style=color:green>thop()</text> :- <text style=color:green>e(X,Z1)</text>, <text style=color:green>e(Z1,Z2)</text>, <text style=color:green>e(Z2,Y)</text>. % <text style=color:blue>[Y=Z2][Z1][X]</text></text>"
      ],
      "text/plain": [
       "<IPython.core.display.HTML object>"
      ]
     },
     "metadata": {},
     "output_type": "display_data"
    },
    {
     "name": "stdout",
     "output_type": "stream",
     "text": [
      "\n",
      "\n",
      "\n",
      "Set: 3\n",
      "\n",
      "PW: 3\n"
     ]
    },
    {
     "data": {
      "text/html": [
       "<text style=color:black><text style=color:green>thop()</text> :- <text style=color:green>e(X,Z1)</text>, <text style=color:green>e(Z1,Z2)</text>, <text style=color:green>e(Z2,Y)</text>. % <text style=color:blue>[Y=Z1][Z2][X]</text></text>"
      ],
      "text/plain": [
       "<IPython.core.display.HTML object>"
      ]
     },
     "metadata": {},
     "output_type": "display_data"
    },
    {
     "name": "stdout",
     "output_type": "stream",
     "text": [
      "\n",
      "\n",
      "\n",
      "Set: 4\n",
      "\n",
      "PW: 4\n"
     ]
    },
    {
     "data": {
      "text/html": [
       "<text style=color:black><text style=color:green>thop()</text> :- <text style=color:green>e(X,Z1)</text>, <text style=color:green>e(Z1,Z2)</text>, <text style=color:green>e(Z2,Y)</text>. % <text style=color:blue>[Z1=Z2][X][Y]</text></text>"
      ],
      "text/plain": [
       "<IPython.core.display.HTML object>"
      ]
     },
     "metadata": {},
     "output_type": "display_data"
    },
    {
     "name": "stdout",
     "output_type": "stream",
     "text": [
      "\n",
      "\n",
      "\n",
      "Set: 5\n",
      "\n",
      "PW: 5\n"
     ]
    },
    {
     "data": {
      "text/html": [
       "<text style=color:black><text style=color:green>thop()</text> :- <text style=color:green>e(X,Z1)</text>, <text style=color:green>e(Z1,Z2)</text>, <text style=color:green>e(Z2,Y)</text>. % <text style=color:blue>[Y=Z1=Z2][X]</text></text>"
      ],
      "text/plain": [
       "<IPython.core.display.HTML object>"
      ]
     },
     "metadata": {},
     "output_type": "display_data"
    },
    {
     "name": "stdout",
     "output_type": "stream",
     "text": [
      "\n",
      "\n",
      "\n",
      "Set: 6\n",
      "\n",
      "PW: 6\n"
     ]
    },
    {
     "data": {
      "text/html": [
       "<text style=color:black><text style=color:green>thop()</text> :- <text style=color:green>e(X,Z1)</text>, <text style=color:green>e(Z1,Z2)</text>, <text style=color:green>e(Z2,Y)</text>. % <text style=color:blue>[X=Z2][Z1][Y]</text></text>"
      ],
      "text/plain": [
       "<IPython.core.display.HTML object>"
      ]
     },
     "metadata": {},
     "output_type": "display_data"
    },
    {
     "name": "stdout",
     "output_type": "stream",
     "text": [
      "\n",
      "\n",
      "\n",
      "Set: 7\n",
      "\n",
      "PW: 7\n"
     ]
    },
    {
     "data": {
      "text/html": [
       "<text style=color:black><text style=color:green>thop()</text> :- <text style=color:green>e(X,Z1)</text>, <text style=color:green>e(Z1,Z2)</text>, <text style=color:green>e(Z2,Y)</text>. % <text style=color:blue>[X=Z2][Y=Z1]</text></text>"
      ],
      "text/plain": [
       "<IPython.core.display.HTML object>"
      ]
     },
     "metadata": {},
     "output_type": "display_data"
    },
    {
     "name": "stdout",
     "output_type": "stream",
     "text": [
      "\n",
      "\n",
      "\n",
      "Set: 8\n",
      "\n",
      "PW: 8\n"
     ]
    },
    {
     "data": {
      "text/html": [
       "<text style=color:black><text style=color:green>thop()</text> :- <text style=color:green>e(X,Z1)</text>, <text style=color:green>e(Z1,Z2)</text>, <text style=color:green>e(Z2,Y)</text>. % <text style=color:blue>[X=Z1][Z2][Y]</text></text>"
      ],
      "text/plain": [
       "<IPython.core.display.HTML object>"
      ]
     },
     "metadata": {},
     "output_type": "display_data"
    },
    {
     "name": "stdout",
     "output_type": "stream",
     "text": [
      "\n",
      "\n",
      "\n",
      "Set: 9\n",
      "\n",
      "PW: 9\n"
     ]
    },
    {
     "data": {
      "text/html": [
       "<text style=color:black><text style=color:green>thop()</text> :- <text style=color:green>e(X,Z1)</text>, <text style=color:green>e(Z1,Z2)</text>, <text style=color:green>e(Z2,Y)</text>. % <text style=color:blue>[X=Z1][Y=Z2]</text></text>"
      ],
      "text/plain": [
       "<IPython.core.display.HTML object>"
      ]
     },
     "metadata": {},
     "output_type": "display_data"
    },
    {
     "name": "stdout",
     "output_type": "stream",
     "text": [
      "\n",
      "\n",
      "\n",
      "Set: 10\n",
      "\n",
      "PW: 10\n"
     ]
    },
    {
     "data": {
      "text/html": [
       "<text style=color:black><text style=color:green>thop()</text> :- <text style=color:green>e(X,Z1)</text>, <text style=color:green>e(Z1,Z2)</text>, <text style=color:green>e(Z2,Y)</text>. % <text style=color:blue>[X=Z1=Z2][Y]</text></text>"
      ],
      "text/plain": [
       "<IPython.core.display.HTML object>"
      ]
     },
     "metadata": {},
     "output_type": "display_data"
    },
    {
     "name": "stdout",
     "output_type": "stream",
     "text": [
      "\n",
      "\n",
      "\n",
      "Set: 11\n",
      "\n",
      "PW: 11\n"
     ]
    },
    {
     "data": {
      "text/html": [
       "<text style=color:black><text style=color:green>thop()</text> :- <text style=color:green>e(X,Z1)</text>, <text style=color:green>e(Z1,Z2)</text>, <text style=color:green>e(Z2,Y)</text>. % <text style=color:blue>[X=Y][Z2][Z1]</text></text>"
      ],
      "text/plain": [
       "<IPython.core.display.HTML object>"
      ]
     },
     "metadata": {},
     "output_type": "display_data"
    },
    {
     "name": "stdout",
     "output_type": "stream",
     "text": [
      "\n",
      "\n",
      "\n",
      "Set: 12\n",
      "\n",
      "PW: 13\n"
     ]
    },
    {
     "data": {
      "text/html": [
       "<text style=color:black><text style=color:green>thop()</text> :- <text style=color:green>e(X,Z1)</text>, <text style=color:green>e(Z1,Z2)</text>, <text style=color:green>e(Z2,Y)</text>. % <text style=color:blue>[X=Y=Z2][Z1]</text></text>"
      ],
      "text/plain": [
       "<IPython.core.display.HTML object>"
      ]
     },
     "metadata": {},
     "output_type": "display_data"
    },
    {
     "name": "stdout",
     "output_type": "stream",
     "text": [
      "\n",
      "\n",
      "\n",
      "Set: 13\n",
      "\n",
      "PW: 15\n"
     ]
    },
    {
     "data": {
      "text/html": [
       "<text style=color:black><text style=color:green>thop()</text> :- <text style=color:green>e(X,Z1)</text>, <text style=color:green>e(Z1,Z2)</text>, <text style=color:green>e(Z2,Y)</text>. % <text style=color:blue>[X=Y=Z1=Z2]</text></text>"
      ],
      "text/plain": [
       "<IPython.core.display.HTML object>"
      ]
     },
     "metadata": {},
     "output_type": "display_data"
    }
   ],
   "source": [
    "for i, s in enumerate(sets):\n",
    "    print(\"\\n\\n\\nSet:\", i+1)\n",
    "    for j, pw in enumerate(s):\n",
    "        print(\"\\nPW:\", pw.pw_id)\n",
    "        pw_rel_dfs = pw_slicer(query_analysis['pw_rel_dfs'], None, [pw.pw_id])[0]\n",
    "#         print_colored_query_string(pw_rel_dfs)\n",
    "#         print_rewritten_query_string(pw_rel_dfs)\n",
    "#         print_explicit_rewritten_query_string(pw_rel_dfs, chain_eq=False)\n",
    "#         print_explicit_rewritten_query_string(pw_rel_dfs, chain_eq=True)\n",
    "        print_fancy_rewrite(pw_rel_dfs)\n",
    "#         g = get_pattern_graph2(pw_rel_dfs, no_node_labels=False)\n",
    "# #         draw(g, format='pdf', filename='{}.{}'.format('tri_eq_patterns/set_{}'.format(i+1), 'pdf'), show='none')\n",
    "#         display(draw(g))\n",
    "        break"
   ]
  },
  {
   "cell_type": "code",
   "execution_count": 27,
   "metadata": {
    "scrolled": true
   },
   "outputs": [
    {
     "name": "stdout",
     "output_type": "stream",
     "text": [
      "Set: 1 (1)\n"
     ]
    },
    {
     "data": {
      "text/html": [
       "<text style=color:black><text style=color:green>thop()</text> :- <text style=color:green>e(X,Z1)</text>, <text style=color:green>e(Z1,Z2)</text>, <text style=color:green>e(Z2,Y)</text>. % <text style=color:blue>[Z2][Z1][X][Y]</text></text>"
      ],
      "text/plain": [
       "<IPython.core.display.HTML object>"
      ]
     },
     "metadata": {},
     "output_type": "display_data"
    },
    {
     "name": "stdout",
     "output_type": "stream",
     "text": [
      "Set: 2 (1)\n"
     ]
    },
    {
     "data": {
      "text/html": [
       "<text style=color:black><text style=color:green>thop()</text> :- <text style=color:green>e(X,Z1)</text>, <text style=color:green>e(Z1,Z2)</text>, <text style=color:green>e(Z2,Y)</text>. % <text style=color:blue>[Y=Z2][Z1][X]</text></text>"
      ],
      "text/plain": [
       "<IPython.core.display.HTML object>"
      ]
     },
     "metadata": {},
     "output_type": "display_data"
    },
    {
     "name": "stdout",
     "output_type": "stream",
     "text": [
      "Set: 3 (1)\n"
     ]
    },
    {
     "data": {
      "text/html": [
       "<text style=color:black><text style=color:green>thop()</text> :- <text style=color:green>e(X,Z1)</text>, <text style=color:green>e(Z1,Z2)</text>, <text style=color:green>e(Z2,Y)</text>. % <text style=color:blue>[Y=Z1][Z2][X]</text></text>"
      ],
      "text/plain": [
       "<IPython.core.display.HTML object>"
      ]
     },
     "metadata": {},
     "output_type": "display_data"
    },
    {
     "name": "stdout",
     "output_type": "stream",
     "text": [
      "Set: 4 (1)\n"
     ]
    },
    {
     "data": {
      "text/html": [
       "<text style=color:black><text style=color:green>thop()</text> :- <text style=color:green>e(X,Z1)</text>, <text style=color:green>e(Z1,Z2)</text>, <text style=color:green>e(Z2,Y)</text>. % <text style=color:blue>[Z1=Z2][X][Y]</text></text>"
      ],
      "text/plain": [
       "<IPython.core.display.HTML object>"
      ]
     },
     "metadata": {},
     "output_type": "display_data"
    },
    {
     "name": "stdout",
     "output_type": "stream",
     "text": [
      "Set: 5 (1)\n"
     ]
    },
    {
     "data": {
      "text/html": [
       "<text style=color:black><text style=color:green>thop()</text> :- <text style=color:green>e(X,Z1)</text>, <text style=color:green>e(Z1,Z2)</text>, <text style=color:green>e(Z2,Y)</text>. % <text style=color:blue>[Y=Z1=Z2][X]</text></text>"
      ],
      "text/plain": [
       "<IPython.core.display.HTML object>"
      ]
     },
     "metadata": {},
     "output_type": "display_data"
    },
    {
     "name": "stdout",
     "output_type": "stream",
     "text": [
      "Set: 6 (1)\n"
     ]
    },
    {
     "data": {
      "text/html": [
       "<text style=color:black><text style=color:green>thop()</text> :- <text style=color:green>e(X,Z1)</text>, <text style=color:green>e(Z1,Z2)</text>, <text style=color:green>e(Z2,Y)</text>. % <text style=color:blue>[X=Z2][Z1][Y]</text></text>"
      ],
      "text/plain": [
       "<IPython.core.display.HTML object>"
      ]
     },
     "metadata": {},
     "output_type": "display_data"
    },
    {
     "name": "stdout",
     "output_type": "stream",
     "text": [
      "Set: 7 (1)\n"
     ]
    },
    {
     "data": {
      "text/html": [
       "<text style=color:black><text style=color:green>thop()</text> :- <text style=color:green>e(X,Z1)</text>, <text style=color:green>e(Z1,Z2)</text>, <text style=color:green>e(Z2,Y)</text>. % <text style=color:blue>[X=Z2][Y=Z1]</text></text>"
      ],
      "text/plain": [
       "<IPython.core.display.HTML object>"
      ]
     },
     "metadata": {},
     "output_type": "display_data"
    },
    {
     "name": "stdout",
     "output_type": "stream",
     "text": [
      "Set: 8 (1)\n"
     ]
    },
    {
     "data": {
      "text/html": [
       "<text style=color:black><text style=color:green>thop()</text> :- <text style=color:green>e(X,Z1)</text>, <text style=color:green>e(Z1,Z2)</text>, <text style=color:green>e(Z2,Y)</text>. % <text style=color:blue>[X=Z1][Z2][Y]</text></text>"
      ],
      "text/plain": [
       "<IPython.core.display.HTML object>"
      ]
     },
     "metadata": {},
     "output_type": "display_data"
    },
    {
     "name": "stdout",
     "output_type": "stream",
     "text": [
      "Set: 9 (1)\n"
     ]
    },
    {
     "data": {
      "text/html": [
       "<text style=color:black><text style=color:green>thop()</text> :- <text style=color:green>e(X,Z1)</text>, <text style=color:green>e(Z1,Z2)</text>, <text style=color:green>e(Z2,Y)</text>. % <text style=color:blue>[X=Z1][Y=Z2]</text></text>"
      ],
      "text/plain": [
       "<IPython.core.display.HTML object>"
      ]
     },
     "metadata": {},
     "output_type": "display_data"
    },
    {
     "name": "stdout",
     "output_type": "stream",
     "text": [
      "Set: 10 (1)\n"
     ]
    },
    {
     "data": {
      "text/html": [
       "<text style=color:black><text style=color:green>thop()</text> :- <text style=color:green>e(X,Z1)</text>, <text style=color:green>e(Z1,Z2)</text>, <text style=color:green>e(Z2,Y)</text>. % <text style=color:blue>[X=Z1=Z2][Y]</text></text>"
      ],
      "text/plain": [
       "<IPython.core.display.HTML object>"
      ]
     },
     "metadata": {},
     "output_type": "display_data"
    },
    {
     "name": "stdout",
     "output_type": "stream",
     "text": [
      "Set: 11 (1)\n"
     ]
    },
    {
     "data": {
      "text/html": [
       "<text style=color:black><text style=color:green>thop()</text> :- <text style=color:green>e(X,Z1)</text>, <text style=color:green>e(Z1,Z2)</text>, <text style=color:green>e(Z2,Y)</text>. % <text style=color:blue>[X=Y][Z2][Z1]</text></text>"
      ],
      "text/plain": [
       "<IPython.core.display.HTML object>"
      ]
     },
     "metadata": {},
     "output_type": "display_data"
    },
    {
     "name": "stdout",
     "output_type": "stream",
     "text": [
      "Set: 12 (3)\n"
     ]
    },
    {
     "data": {
      "text/html": [
       "<text style=color:black><text style=color:green>thop()</text> :- <text style=color:green>e(X,Z1)</text>, <text style=color:green>e(Z1,Z2)</text>, <text style=color:green>e(Z2,Y)</text>. % <text style=color:blue>[X=Y=Z2][Z1]</text></text>"
      ],
      "text/plain": [
       "<IPython.core.display.HTML object>"
      ]
     },
     "metadata": {},
     "output_type": "display_data"
    },
    {
     "data": {
      "text/html": [
       "<text style=color:black><text style=color:green>thop()</text> :- <text style=color:green>e(X,Z1)</text>, <text style=color:green>e(Z1,Z2)</text>, <text style=color:green>e(Z2,Y)</text>. % <text style=color:blue>[X=Y=Z1][Z2]</text></text>"
      ],
      "text/plain": [
       "<IPython.core.display.HTML object>"
      ]
     },
     "metadata": {},
     "output_type": "display_data"
    },
    {
     "data": {
      "text/html": [
       "<text style=color:black><text style=color:green>thop()</text> :- <text style=color:green>e(X,Z1)</text>, <text style=color:green>e(Z1,Z2)</text>, <text style=color:green>e(Z2,Y)</text>. % <text style=color:blue>[X=Y][Z1=Z2]</text></text>"
      ],
      "text/plain": [
       "<IPython.core.display.HTML object>"
      ]
     },
     "metadata": {},
     "output_type": "display_data"
    },
    {
     "name": "stdout",
     "output_type": "stream",
     "text": [
      "Set: 13 (1)\n"
     ]
    },
    {
     "data": {
      "text/html": [
       "<text style=color:black><text style=color:green>thop()</text> :- <text style=color:green>e(X,Z1)</text>, <text style=color:green>e(Z1,Z2)</text>, <text style=color:green>e(Z2,Y)</text>. % <text style=color:blue>[X=Y=Z1=Z2]</text></text>"
      ],
      "text/plain": [
       "<IPython.core.display.HTML object>"
      ]
     },
     "metadata": {},
     "output_type": "display_data"
    },
    {
     "data": {
      "text/plain": [
       "13"
      ]
     },
     "execution_count": 27,
     "metadata": {},
     "output_type": "execute_result"
    }
   ],
   "source": [
    "num_success_patterns = 0\n",
    "for i,s in enumerate(sets):\n",
    "    s = list(s)\n",
    "    eg = s[0]\n",
    "    pw_rel_dfs = pw_slicer(query_analysis['pw_rel_dfs'], None, [eg.pw_id])[0]\n",
    "    true_heads = set(pw_rel_dfs['ruleHTrue_1']['HEAD'])\n",
    "    if len(true_heads) > 0:\n",
    "        num_success_patterns += 1\n",
    "        print(\"Set:\", num_success_patterns, '({})'.format(len(s)))\n",
    "    \n",
    "        for j, pw in enumerate(s):\n",
    "            pw_rel_dfs = pw_slicer(query_analysis['pw_rel_dfs'], None, [pw.pw_id])[0]\n",
    "            true_heads = set(pw_rel_dfs['ruleHTrue_1']['HEAD'])\n",
    "#             print_rewritten_query_string(pw_rel_dfs)\n",
    "#             print_explicit_rewritten_query_string(pw_rel_dfs, chain_eq=False)\n",
    "#             print_explicit_rewritten_query_string(pw_rel_dfs, chain_eq=True)\n",
    "            print_fancy_rewrite(pw_rel_dfs)\n",
    "#             g = get_pattern_graph2(pw_rel_dfs, no_node_labels=False)\n",
    "# #             draw(g, format='pdf', filename='{}.{}'.format('3hop_eq_success_patterns/set_{}'.format(num_success_patterns), 'pdf'), show='none')\n",
    "#             display(draw(g))\n",
    "num_success_patterns"
   ]
  },
  {
   "cell_type": "code",
   "execution_count": 28,
   "metadata": {},
   "outputs": [
    {
     "data": {
      "text/plain": [
       "13"
      ]
     },
     "execution_count": 28,
     "metadata": {},
     "output_type": "execute_result"
    }
   ],
   "source": [
    "num_success_patterns"
   ]
  },
  {
   "cell_type": "code",
   "execution_count": null,
   "metadata": {},
   "outputs": [],
   "source": []
  },
  {
   "cell_type": "code",
   "execution_count": null,
   "metadata": {},
   "outputs": [],
   "source": []
  },
  {
   "cell_type": "code",
   "execution_count": null,
   "metadata": {},
   "outputs": [],
   "source": []
  }
 ],
 "metadata": {
  "kernelspec": {
   "display_name": "Python 3",
   "language": "python",
   "name": "python3"
  },
  "language_info": {
   "codemirror_mode": {
    "name": "ipython",
    "version": 3
   },
   "file_extension": ".py",
   "mimetype": "text/x-python",
   "name": "python",
   "nbconvert_exporter": "python",
   "pygments_lexer": "ipython3",
   "version": "3.6.8"
  }
 },
 "nbformat": 4,
 "nbformat_minor": 4
}
