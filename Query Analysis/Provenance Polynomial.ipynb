{
 "cells": [
  {
   "cell_type": "markdown",
   "metadata": {},
   "source": [
    "## Imports"
   ]
  },
  {
   "cell_type": "markdown",
   "metadata": {},
   "source": [
    "We use the SymPy library to work with mathematical aspects of symbolic provenance polynomials, such as multiplication, addition, substitution, etc."
   ]
  },
  {
   "cell_type": "code",
   "execution_count": 1,
   "metadata": {},
   "outputs": [],
   "source": [
    "# !pip install sympy"
   ]
  },
  {
   "cell_type": "code",
   "execution_count": 2,
   "metadata": {},
   "outputs": [],
   "source": [
    "# PW-explorer\n",
    "from PW_explorer.load_worlds import load_worlds\n",
    "from PW_explorer.run_clingo import run_clingo\n",
    "from PW_explorer.export import PWEExport\n",
    "from PW_explorer.visualize import PWEVisualization\n",
    "from PWE_NB_Extension.helper import ASPRules\n",
    "# Other utilities\n",
    "from copy import deepcopy\n",
    "import pandas as pd\n",
    "import sympy\n",
    "from functools import reduce"
   ]
  },
  {
   "cell_type": "code",
   "execution_count": 3,
   "metadata": {},
   "outputs": [],
   "source": [
    "# Graph-Visualization\n",
    "import networkx as nx\n",
    "from nxpd import draw\n",
    "import nxpd\n",
    "from nxpd import nxpdParams\n",
    "nxpdParams['show'] = 'ipynb'"
   ]
  },
  {
   "cell_type": "code",
   "execution_count": 4,
   "metadata": {},
   "outputs": [
    {
     "data": {
      "application/javascript": [
       "IPython.CodeCell.options_default.highlight_modes['prolog'] = {'reg':[/^%%(clingo|dlv)/]};"
      ]
     },
     "metadata": {},
     "output_type": "display_data"
    }
   ],
   "source": [
    "%load_ext PWE_NB_Extension"
   ]
  },
  {
   "cell_type": "markdown",
   "metadata": {},
   "source": [
    "## Helpers"
   ]
  },
  {
   "cell_type": "code",
   "execution_count": 5,
   "metadata": {},
   "outputs": [],
   "source": [
    "def simple_3hop_viz(pw_rel_dfs, gv_md, prov=False):\n",
    "    g = nx.MultiDiGraph()\n",
    "    \n",
    "    g.graph['rankdir'] = 'LR'\n",
    "    hop_edges_color = 'black'\n",
    "    thop_edges_color = 'blue'\n",
    "    thop_df_name = 'thop_3' if prov else 'thop_2'\n",
    "    \n",
    "    if thop_df_name in pw_rel_dfs:\n",
    "        for i, row in pw_rel_dfs[thop_df_name].iterrows():\n",
    "            g.add_edge(row['x1'], row['x2'], color=thop_edges_color, constraint='false')\n",
    "        for i, row in pw_rel_dfs['hop_3'].iterrows():\n",
    "            g.add_edge(row['head'], row['tail'], color=hop_edges_color, style='dotted')\n",
    "    else:\n",
    "        for i, row in pw_rel_dfs['hop_3'].iterrows():\n",
    "            g.add_edge(row['head'], row['tail'], color=hop_edges_color, label=row['hop_name'])\n",
    "    return g"
   ]
  },
  {
   "cell_type": "markdown",
   "metadata": {},
   "source": [
    "## Provenance Polynomials"
   ]
  },
  {
   "cell_type": "markdown",
   "metadata": {},
   "source": [
    "#### Consider a database D of named hops:"
   ]
  },
  {
   "cell_type": "code",
   "execution_count": 6,
   "metadata": {},
   "outputs": [],
   "source": [
    "%%clingo --donot-display_input -lci hop_db_a --donot-run\n",
    "\n",
    "% schema hop(head, tail, hop_name)\n",
    "hop(a,a, p).\n",
    "hop(a,b, q).\n",
    "hop(b,a, r).\n",
    "hop(b,c, s)."
   ]
  },
  {
   "cell_type": "markdown",
   "metadata": {},
   "source": [
    "We can visualize it easily as follows:"
   ]
  },
  {
   "cell_type": "code",
   "execution_count": 7,
   "metadata": {},
   "outputs": [
    {
     "data": {
      "image/png": "[encoded data removed]",
      "text/plain": [
       "<IPython.core.display.Image object>"
      ]
     },
     "execution_count": 7,
     "metadata": {},
     "output_type": "execute_result"
    }
   ],
   "source": [
    "hop_db_a_asp_out, hop_db_a_md = run_clingo(hop_db_a)\n",
    "hop_db_a_pw_rel_dfs, _, _ = load_worlds(hop_db_a_asp_out, hop_db_a_md, silent=True)\n",
    "draw(simple_3hop_viz(hop_db_a_pw_rel_dfs, hop_db_a_md['graphviz']))"
   ]
  },
  {
   "cell_type": "markdown",
   "metadata": {},
   "source": [
    "#### Now consider the traditional 3hop query:"
   ]
  },
  {
   "cell_type": "code",
   "execution_count": 8,
   "metadata": {},
   "outputs": [],
   "source": [
    "%%clingo --donot-display_input -lci thop_query --donot-run\n",
    "\n",
    "thop(X,Y) :- hop(X,Z1, P1), hop(Z1,Z2, P2), hop(Z2,Y, P3)."
   ]
  },
  {
   "cell_type": "markdown",
   "metadata": {},
   "source": [
    "On our hop database D, this yields the following output:"
   ]
  },
  {
   "cell_type": "code",
   "execution_count": 9,
   "metadata": {},
   "outputs": [
    {
     "name": "stdout",
     "output_type": "stream",
     "text": [
      "Output:\n"
     ]
    },
    {
     "data": {
      "text/html": [
       "\n",
       "        <style>\n",
       "        .highlight .hll { background-color: #ffffcc }\n",
       ".highlight  { background: #f8f8f8; }\n",
       ".highlight .c { color: #408080; font-style: italic } /* Comment */\n",
       ".highlight .err { border: 1px solid #FF0000 } /* Error */\n",
       ".highlight .k { color: #008000; font-weight: bold } /* Keyword */\n",
       ".highlight .o { color: #666666 } /* Operator */\n",
       ".highlight .ch { color: #408080; font-style: italic } /* Comment.Hashbang */\n",
       ".highlight .cm { color: #408080; font-style: italic } /* Comment.Multiline */\n",
       ".highlight .cp { color: #BC7A00 } /* Comment.Preproc */\n",
       ".highlight .cpf { color: #408080; font-style: italic } /* Comment.PreprocFile */\n",
       ".highlight .c1 { color: #408080; font-style: italic } /* Comment.Single */\n",
       ".highlight .cs { color: #408080; font-style: italic } /* Comment.Special */\n",
       ".highlight .gd { color: #A00000 } /* Generic.Deleted */\n",
       ".highlight .ge { font-style: italic } /* Generic.Emph */\n",
       ".highlight .gr { color: #FF0000 } /* Generic.Error */\n",
       ".highlight .gh { color: #000080; font-weight: bold } /* Generic.Heading */\n",
       ".highlight .gi { color: #00A000 } /* Generic.Inserted */\n",
       ".highlight .go { color: #888888 } /* Generic.Output */\n",
       ".highlight .gp { color: #000080; font-weight: bold } /* Generic.Prompt */\n",
       ".highlight .gs { font-weight: bold } /* Generic.Strong */\n",
       ".highlight .gu { color: #800080; font-weight: bold } /* Generic.Subheading */\n",
       ".highlight .gt { color: #0044DD } /* Generic.Traceback */\n",
       ".highlight .kc { color: #008000; font-weight: bold } /* Keyword.Constant */\n",
       ".highlight .kd { color: #008000; font-weight: bold } /* Keyword.Declaration */\n",
       ".highlight .kn { color: #008000; font-weight: bold } /* Keyword.Namespace */\n",
       ".highlight .kp { color: #008000 } /* Keyword.Pseudo */\n",
       ".highlight .kr { color: #008000; font-weight: bold } /* Keyword.Reserved */\n",
       ".highlight .kt { color: #B00040 } /* Keyword.Type */\n",
       ".highlight .m { color: #666666 } /* Literal.Number */\n",
       ".highlight .s { color: #BA2121 } /* Literal.String */\n",
       ".highlight .na { color: #7D9029 } /* Name.Attribute */\n",
       ".highlight .nb { color: #008000 } /* Name.Builtin */\n",
       ".highlight .nc { color: #0000FF; font-weight: bold } /* Name.Class */\n",
       ".highlight .no { color: #880000 } /* Name.Constant */\n",
       ".highlight .nd { color: #AA22FF } /* Name.Decorator */\n",
       ".highlight .ni { color: #999999; font-weight: bold } /* Name.Entity */\n",
       ".highlight .ne { color: #D2413A; font-weight: bold } /* Name.Exception */\n",
       ".highlight .nf { color: #0000FF } /* Name.Function */\n",
       ".highlight .nl { color: #A0A000 } /* Name.Label */\n",
       ".highlight .nn { color: #0000FF; font-weight: bold } /* Name.Namespace */\n",
       ".highlight .nt { color: #008000; font-weight: bold } /* Name.Tag */\n",
       ".highlight .nv { color: #19177C } /* Name.Variable */\n",
       ".highlight .ow { color: #AA22FF; font-weight: bold } /* Operator.Word */\n",
       ".highlight .w { color: #bbbbbb } /* Text.Whitespace */\n",
       ".highlight .mb { color: #666666 } /* Literal.Number.Bin */\n",
       ".highlight .mf { color: #666666 } /* Literal.Number.Float */\n",
       ".highlight .mh { color: #666666 } /* Literal.Number.Hex */\n",
       ".highlight .mi { color: #666666 } /* Literal.Number.Integer */\n",
       ".highlight .mo { color: #666666 } /* Literal.Number.Oct */\n",
       ".highlight .sa { color: #BA2121 } /* Literal.String.Affix */\n",
       ".highlight .sb { color: #BA2121 } /* Literal.String.Backtick */\n",
       ".highlight .sc { color: #BA2121 } /* Literal.String.Char */\n",
       ".highlight .dl { color: #BA2121 } /* Literal.String.Delimiter */\n",
       ".highlight .sd { color: #BA2121; font-style: italic } /* Literal.String.Doc */\n",
       ".highlight .s2 { color: #BA2121 } /* Literal.String.Double */\n",
       ".highlight .se { color: #BB6622; font-weight: bold } /* Literal.String.Escape */\n",
       ".highlight .sh { color: #BA2121 } /* Literal.String.Heredoc */\n",
       ".highlight .si { color: #BB6688; font-weight: bold } /* Literal.String.Interpol */\n",
       ".highlight .sx { color: #008000 } /* Literal.String.Other */\n",
       ".highlight .sr { color: #BB6688 } /* Literal.String.Regex */\n",
       ".highlight .s1 { color: #BA2121 } /* Literal.String.Single */\n",
       ".highlight .ss { color: #19177C } /* Literal.String.Symbol */\n",
       ".highlight .bp { color: #008000 } /* Name.Builtin.Pseudo */\n",
       ".highlight .fm { color: #0000FF } /* Name.Function.Magic */\n",
       ".highlight .vc { color: #19177C } /* Name.Variable.Class */\n",
       ".highlight .vg { color: #19177C } /* Name.Variable.Global */\n",
       ".highlight .vi { color: #19177C } /* Name.Variable.Instance */\n",
       ".highlight .vm { color: #19177C } /* Name.Variable.Magic */\n",
       ".highlight .il { color: #666666 } /* Literal.Number.Integer.Long */\n",
       "        </style>\n",
       "        "
      ],
      "text/plain": [
       "<IPython.core.display.HTML object>"
      ]
     },
     "metadata": {},
     "output_type": "display_data"
    },
    {
     "data": {
      "text/html": [
       "<div class=\"highlight\"><pre><span></span><span class=\"lineno\">1 </span><span class=\"nv\">Answer</span><span class=\"s s-Atom\">:</span> <span class=\"mi\">1</span>\n",
       "<span class=\"lineno\">2 </span><span class=\"nf\">hop</span><span class=\"p\">(</span><span class=\"s s-Atom\">a</span><span class=\"p\">,</span><span class=\"s s-Atom\">a</span><span class=\"p\">,</span><span class=\"s s-Atom\">p</span><span class=\"p\">)</span> <span class=\"nf\">hop</span><span class=\"p\">(</span><span class=\"s s-Atom\">a</span><span class=\"p\">,</span><span class=\"s s-Atom\">b</span><span class=\"p\">,</span><span class=\"s s-Atom\">q</span><span class=\"p\">)</span> <span class=\"nf\">hop</span><span class=\"p\">(</span><span class=\"s s-Atom\">b</span><span class=\"p\">,</span><span class=\"s s-Atom\">a</span><span class=\"p\">,</span><span class=\"s s-Atom\">r</span><span class=\"p\">)</span> <span class=\"nf\">hop</span><span class=\"p\">(</span><span class=\"s s-Atom\">b</span><span class=\"p\">,</span><span class=\"s s-Atom\">c</span><span class=\"p\">,</span><span class=\"s s-Atom\">s</span><span class=\"p\">)</span> <span class=\"nf\">thop</span><span class=\"p\">(</span><span class=\"s s-Atom\">a</span><span class=\"p\">,</span><span class=\"s s-Atom\">a</span><span class=\"p\">)</span> <span class=\"nf\">thop</span><span class=\"p\">(</span><span class=\"s s-Atom\">b</span><span class=\"p\">,</span><span class=\"s s-Atom\">a</span><span class=\"p\">)</span> <span class=\"nf\">thop</span><span class=\"p\">(</span><span class=\"s s-Atom\">a</span><span class=\"p\">,</span><span class=\"s s-Atom\">b</span><span class=\"p\">)</span> <span class=\"nf\">thop</span><span class=\"p\">(</span><span class=\"s s-Atom\">b</span><span class=\"p\">,</span><span class=\"s s-Atom\">b</span><span class=\"p\">)</span> <span class=\"nf\">thop</span><span class=\"p\">(</span><span class=\"s s-Atom\">a</span><span class=\"p\">,</span><span class=\"s s-Atom\">c</span><span class=\"p\">)</span> <span class=\"nf\">thop</span><span class=\"p\">(</span><span class=\"s s-Atom\">b</span><span class=\"p\">,</span><span class=\"s s-Atom\">c</span><span class=\"p\">)</span>\n",
       "<span class=\"lineno\">3 </span><span class=\"nv\">SATISFIABLE</span>\n",
       "<span class=\"lineno\">4 </span>\n",
       "<span class=\"lineno\">5 </span><span class=\"nv\">Models</span>       <span class=\"s s-Atom\">:</span> <span class=\"mi\">1</span>\n",
       "<span class=\"lineno\">6 </span><span class=\"nv\">Calls</span>        <span class=\"s s-Atom\">:</span> <span class=\"mi\">1</span>\n",
       "<span class=\"lineno\">7 </span><span class=\"nv\">Time</span>         <span class=\"s s-Atom\">:</span> <span class=\"mf\">0.001</span><span class=\"nf\">s</span> <span class=\"p\">(</span><span class=\"nv\">Solving</span><span class=\"s s-Atom\">:</span> <span class=\"mf\">0.00</span><span class=\"s s-Atom\">s</span> <span class=\"mi\">1</span><span class=\"s s-Atom\">st</span> <span class=\"nv\">Model</span><span class=\"s s-Atom\">:</span> <span class=\"mf\">0.00</span><span class=\"s s-Atom\">s</span> <span class=\"nv\">Unsat</span><span class=\"s s-Atom\">:</span> <span class=\"mf\">0.00</span><span class=\"s s-Atom\">s</span><span class=\"p\">)</span>\n",
       "<span class=\"lineno\">8 </span><span class=\"nv\">CPU</span> <span class=\"nv\">Time</span>     <span class=\"s s-Atom\">:</span> <span class=\"mf\">0.001</span><span class=\"s s-Atom\">s</span>\n",
       "</pre></div>\n"
      ],
      "text/plain": [
       "'Answer: 1\\nhop(a,a,p) hop(a,b,q) hop(b,a,r) hop(b,c,s) thop(a,a) thop(b,a) thop(a,b) thop(b,b) thop(a,c) thop(b,c)\\nSATISFIABLE\\n\\nModels       : 1\\nCalls        : 1\\nTime         : 0.001s (Solving: 0.00s 1st Model: 0.00s Unsat: 0.00s)\\nCPU Time     : 0.001s'"
      ]
     },
     "metadata": {},
     "output_type": "display_data"
    }
   ],
   "source": [
    "%clingo -l hop_db_a thop_query --donot-display_input -exp thop_D"
   ]
  },
  {
   "cell_type": "code",
   "execution_count": 10,
   "metadata": {},
   "outputs": [
    {
     "data": {
      "image/png": "[encoded data removed]",
      "text/plain": [
       "<IPython.core.display.Image object>"
      ]
     },
     "execution_count": 10,
     "metadata": {},
     "output_type": "execute_result"
    }
   ],
   "source": [
    "thop_D['pw_rel_dfs'], _, thop_D['pw_objs'] = load_worlds(thop_D['asp_soln'], thop_D['meta_data'], silent=True)\n",
    "draw(simple_3hop_viz(thop_D['pw_rel_dfs'], thop_D['meta_data']['graphviz']))"
   ]
  },
  {
   "cell_type": "markdown",
   "metadata": {},
   "source": [
    "As we can see, we get 6 3hop outputs: (a,a), (a,b), (a,c), (b,a), (b,b), (b,c) "
   ]
  },
  {
   "cell_type": "markdown",
   "metadata": {},
   "source": [
    "#### Now consider the provenance-enhanced version of the same query:\n",
    "\n",
    "i.e. we 'record' the hops that build each of the 3hop"
   ]
  },
  {
   "cell_type": "code",
   "execution_count": 11,
   "metadata": {},
   "outputs": [],
   "source": [
    "%%clingo --donot-display_input --donot-run -lci thop_prov_query\n",
    "\n",
    "%schema thop(start, dest, prov)\n",
    "thop(X,Y, f(P1,P2,P3)) :- hop(X,Z1, P1), hop(Z1,Z2, P2), hop(Z2,Y, P3)."
   ]
  },
  {
   "cell_type": "markdown",
   "metadata": {},
   "source": [
    "Note that the 3hop/2 query is a projection of this query, i.e., we can get the outputs using:\n",
    "\n",
    "thop(X,Y) :- thop(X,Y,\\_)."
   ]
  },
  {
   "cell_type": "markdown",
   "metadata": {},
   "source": [
    "On running it with our database D, we get the following result:"
   ]
  },
  {
   "cell_type": "code",
   "execution_count": 12,
   "metadata": {},
   "outputs": [
    {
     "name": "stdout",
     "output_type": "stream",
     "text": [
      "Output:\n"
     ]
    },
    {
     "data": {
      "text/html": [
       "\n",
       "        <style>\n",
       "        .highlight .hll { background-color: #ffffcc }\n",
       ".highlight  { background: #f8f8f8; }\n",
       ".highlight .c { color: #408080; font-style: italic } /* Comment */\n",
       ".highlight .err { border: 1px solid #FF0000 } /* Error */\n",
       ".highlight .k { color: #008000; font-weight: bold } /* Keyword */\n",
       ".highlight .o { color: #666666 } /* Operator */\n",
       ".highlight .ch { color: #408080; font-style: italic } /* Comment.Hashbang */\n",
       ".highlight .cm { color: #408080; font-style: italic } /* Comment.Multiline */\n",
       ".highlight .cp { color: #BC7A00 } /* Comment.Preproc */\n",
       ".highlight .cpf { color: #408080; font-style: italic } /* Comment.PreprocFile */\n",
       ".highlight .c1 { color: #408080; font-style: italic } /* Comment.Single */\n",
       ".highlight .cs { color: #408080; font-style: italic } /* Comment.Special */\n",
       ".highlight .gd { color: #A00000 } /* Generic.Deleted */\n",
       ".highlight .ge { font-style: italic } /* Generic.Emph */\n",
       ".highlight .gr { color: #FF0000 } /* Generic.Error */\n",
       ".highlight .gh { color: #000080; font-weight: bold } /* Generic.Heading */\n",
       ".highlight .gi { color: #00A000 } /* Generic.Inserted */\n",
       ".highlight .go { color: #888888 } /* Generic.Output */\n",
       ".highlight .gp { color: #000080; font-weight: bold } /* Generic.Prompt */\n",
       ".highlight .gs { font-weight: bold } /* Generic.Strong */\n",
       ".highlight .gu { color: #800080; font-weight: bold } /* Generic.Subheading */\n",
       ".highlight .gt { color: #0044DD } /* Generic.Traceback */\n",
       ".highlight .kc { color: #008000; font-weight: bold } /* Keyword.Constant */\n",
       ".highlight .kd { color: #008000; font-weight: bold } /* Keyword.Declaration */\n",
       ".highlight .kn { color: #008000; font-weight: bold } /* Keyword.Namespace */\n",
       ".highlight .kp { color: #008000 } /* Keyword.Pseudo */\n",
       ".highlight .kr { color: #008000; font-weight: bold } /* Keyword.Reserved */\n",
       ".highlight .kt { color: #B00040 } /* Keyword.Type */\n",
       ".highlight .m { color: #666666 } /* Literal.Number */\n",
       ".highlight .s { color: #BA2121 } /* Literal.String */\n",
       ".highlight .na { color: #7D9029 } /* Name.Attribute */\n",
       ".highlight .nb { color: #008000 } /* Name.Builtin */\n",
       ".highlight .nc { color: #0000FF; font-weight: bold } /* Name.Class */\n",
       ".highlight .no { color: #880000 } /* Name.Constant */\n",
       ".highlight .nd { color: #AA22FF } /* Name.Decorator */\n",
       ".highlight .ni { color: #999999; font-weight: bold } /* Name.Entity */\n",
       ".highlight .ne { color: #D2413A; font-weight: bold } /* Name.Exception */\n",
       ".highlight .nf { color: #0000FF } /* Name.Function */\n",
       ".highlight .nl { color: #A0A000 } /* Name.Label */\n",
       ".highlight .nn { color: #0000FF; font-weight: bold } /* Name.Namespace */\n",
       ".highlight .nt { color: #008000; font-weight: bold } /* Name.Tag */\n",
       ".highlight .nv { color: #19177C } /* Name.Variable */\n",
       ".highlight .ow { color: #AA22FF; font-weight: bold } /* Operator.Word */\n",
       ".highlight .w { color: #bbbbbb } /* Text.Whitespace */\n",
       ".highlight .mb { color: #666666 } /* Literal.Number.Bin */\n",
       ".highlight .mf { color: #666666 } /* Literal.Number.Float */\n",
       ".highlight .mh { color: #666666 } /* Literal.Number.Hex */\n",
       ".highlight .mi { color: #666666 } /* Literal.Number.Integer */\n",
       ".highlight .mo { color: #666666 } /* Literal.Number.Oct */\n",
       ".highlight .sa { color: #BA2121 } /* Literal.String.Affix */\n",
       ".highlight .sb { color: #BA2121 } /* Literal.String.Backtick */\n",
       ".highlight .sc { color: #BA2121 } /* Literal.String.Char */\n",
       ".highlight .dl { color: #BA2121 } /* Literal.String.Delimiter */\n",
       ".highlight .sd { color: #BA2121; font-style: italic } /* Literal.String.Doc */\n",
       ".highlight .s2 { color: #BA2121 } /* Literal.String.Double */\n",
       ".highlight .se { color: #BB6622; font-weight: bold } /* Literal.String.Escape */\n",
       ".highlight .sh { color: #BA2121 } /* Literal.String.Heredoc */\n",
       ".highlight .si { color: #BB6688; font-weight: bold } /* Literal.String.Interpol */\n",
       ".highlight .sx { color: #008000 } /* Literal.String.Other */\n",
       ".highlight .sr { color: #BB6688 } /* Literal.String.Regex */\n",
       ".highlight .s1 { color: #BA2121 } /* Literal.String.Single */\n",
       ".highlight .ss { color: #19177C } /* Literal.String.Symbol */\n",
       ".highlight .bp { color: #008000 } /* Name.Builtin.Pseudo */\n",
       ".highlight .fm { color: #0000FF } /* Name.Function.Magic */\n",
       ".highlight .vc { color: #19177C } /* Name.Variable.Class */\n",
       ".highlight .vg { color: #19177C } /* Name.Variable.Global */\n",
       ".highlight .vi { color: #19177C } /* Name.Variable.Instance */\n",
       ".highlight .vm { color: #19177C } /* Name.Variable.Magic */\n",
       ".highlight .il { color: #666666 } /* Literal.Number.Integer.Long */\n",
       "        </style>\n",
       "        "
      ],
      "text/plain": [
       "<IPython.core.display.HTML object>"
      ]
     },
     "metadata": {},
     "output_type": "display_data"
    },
    {
     "data": {
      "text/html": [
       "<div class=\"highlight\"><pre><span></span><span class=\"lineno\">1 </span><span class=\"nv\">Answer</span><span class=\"s s-Atom\">:</span> <span class=\"mi\">1</span>\n",
       "<span class=\"lineno\">2 </span><span class=\"nf\">hop</span><span class=\"p\">(</span><span class=\"s s-Atom\">a</span><span class=\"p\">,</span><span class=\"s s-Atom\">a</span><span class=\"p\">,</span><span class=\"s s-Atom\">p</span><span class=\"p\">)</span> <span class=\"nf\">hop</span><span class=\"p\">(</span><span class=\"s s-Atom\">a</span><span class=\"p\">,</span><span class=\"s s-Atom\">b</span><span class=\"p\">,</span><span class=\"s s-Atom\">q</span><span class=\"p\">)</span> <span class=\"nf\">hop</span><span class=\"p\">(</span><span class=\"s s-Atom\">b</span><span class=\"p\">,</span><span class=\"s s-Atom\">a</span><span class=\"p\">,</span><span class=\"s s-Atom\">r</span><span class=\"p\">)</span> <span class=\"nf\">hop</span><span class=\"p\">(</span><span class=\"s s-Atom\">b</span><span class=\"p\">,</span><span class=\"s s-Atom\">c</span><span class=\"p\">,</span><span class=\"s s-Atom\">s</span><span class=\"p\">)</span> <span class=\"nf\">thop</span><span class=\"p\">(</span><span class=\"s s-Atom\">a</span><span class=\"p\">,</span><span class=\"s s-Atom\">a</span><span class=\"p\">,</span><span class=\"nf\">f</span><span class=\"p\">(</span><span class=\"s s-Atom\">p</span><span class=\"p\">,</span><span class=\"s s-Atom\">p</span><span class=\"p\">,</span><span class=\"s s-Atom\">p</span><span class=\"p\">))</span> <span class=\"nf\">thop</span><span class=\"p\">(</span><span class=\"s s-Atom\">b</span><span class=\"p\">,</span><span class=\"s s-Atom\">a</span><span class=\"p\">,</span><span class=\"nf\">f</span><span class=\"p\">(</span><span class=\"s s-Atom\">r</span><span class=\"p\">,</span><span class=\"s s-Atom\">p</span><span class=\"p\">,</span><span class=\"s s-Atom\">p</span><span class=\"p\">))</span> <span class=\"nf\">thop</span><span class=\"p\">(</span><span class=\"s s-Atom\">a</span><span class=\"p\">,</span><span class=\"s s-Atom\">a</span><span class=\"p\">,</span><span class=\"nf\">f</span><span class=\"p\">(</span><span class=\"s s-Atom\">q</span><span class=\"p\">,</span><span class=\"s s-Atom\">r</span><span class=\"p\">,</span><span class=\"s s-Atom\">p</span><span class=\"p\">))</span> <span class=\"nf\">thop</span><span class=\"p\">(</span><span class=\"s s-Atom\">a</span><span class=\"p\">,</span><span class=\"s s-Atom\">b</span><span class=\"p\">,</span><span class=\"nf\">f</span><span class=\"p\">(</span><span class=\"s s-Atom\">p</span><span class=\"p\">,</span><span class=\"s s-Atom\">p</span><span class=\"p\">,</span><span class=\"s s-Atom\">q</span><span class=\"p\">))</span> <span class=\"nf\">thop</span><span class=\"p\">(</span><span class=\"s s-Atom\">b</span><span class=\"p\">,</span><span class=\"s s-Atom\">b</span><span class=\"p\">,</span><span class=\"nf\">f</span><span class=\"p\">(</span><span class=\"s s-Atom\">r</span><span class=\"p\">,</span><span class=\"s s-Atom\">p</span><span class=\"p\">,</span><span class=\"s s-Atom\">q</span><span class=\"p\">))</span> <span class=\"nf\">thop</span><span class=\"p\">(</span><span class=\"s s-Atom\">a</span><span class=\"p\">,</span><span class=\"s s-Atom\">b</span><span class=\"p\">,</span><span class=\"nf\">f</span><span class=\"p\">(</span><span class=\"s s-Atom\">q</span><span class=\"p\">,</span><span class=\"s s-Atom\">r</span><span class=\"p\">,</span><span class=\"s s-Atom\">q</span><span class=\"p\">))</span> <span class=\"nf\">thop</span><span class=\"p\">(</span><span class=\"s s-Atom\">a</span><span class=\"p\">,</span><span class=\"s s-Atom\">a</span><span class=\"p\">,</span><span class=\"nf\">f</span><span class=\"p\">(</span><span class=\"s s-Atom\">p</span><span class=\"p\">,</span><span class=\"s s-Atom\">q</span><span class=\"p\">,</span><span class=\"s s-Atom\">r</span><span class=\"p\">))</span> <span class=\"nf\">thop</span><span class=\"p\">(</span><span class=\"s s-Atom\">b</span><span class=\"p\">,</span><span class=\"s s-Atom\">a</span><span class=\"p\">,</span><span class=\"nf\">f</span><span class=\"p\">(</span><span class=\"s s-Atom\">r</span><span class=\"p\">,</span><span class=\"s s-Atom\">q</span><span class=\"p\">,</span><span class=\"s s-Atom\">r</span><span class=\"p\">))</span> <span class=\"nf\">thop</span><span class=\"p\">(</span><span class=\"s s-Atom\">a</span><span class=\"p\">,</span><span class=\"s s-Atom\">c</span><span class=\"p\">,</span><span class=\"nf\">f</span><span class=\"p\">(</span><span class=\"s s-Atom\">p</span><span class=\"p\">,</span><span class=\"s s-Atom\">q</span><span class=\"p\">,</span><span class=\"s s-Atom\">s</span><span class=\"p\">))</span> <span class=\"nf\">thop</span><span class=\"p\">(</span><span class=\"s s-Atom\">b</span><span class=\"p\">,</span><span class=\"s s-Atom\">c</span><span class=\"p\">,</span><span class=\"nf\">f</span><span class=\"p\">(</span><span class=\"s s-Atom\">r</span><span class=\"p\">,</span><span class=\"s s-Atom\">q</span><span class=\"p\">,</span><span class=\"s s-Atom\">s</span><span class=\"p\">))</span>\n",
       "<span class=\"lineno\">3 </span><span class=\"nv\">SATISFIABLE</span>\n",
       "<span class=\"lineno\">4 </span>\n",
       "<span class=\"lineno\">5 </span><span class=\"nv\">Models</span>       <span class=\"s s-Atom\">:</span> <span class=\"mi\">1</span>\n",
       "<span class=\"lineno\">6 </span><span class=\"nv\">Calls</span>        <span class=\"s s-Atom\">:</span> <span class=\"mi\">1</span>\n",
       "<span class=\"lineno\">7 </span><span class=\"nv\">Time</span>         <span class=\"s s-Atom\">:</span> <span class=\"mf\">0.001</span><span class=\"nf\">s</span> <span class=\"p\">(</span><span class=\"nv\">Solving</span><span class=\"s s-Atom\">:</span> <span class=\"mf\">0.00</span><span class=\"s s-Atom\">s</span> <span class=\"mi\">1</span><span class=\"s s-Atom\">st</span> <span class=\"nv\">Model</span><span class=\"s s-Atom\">:</span> <span class=\"mf\">0.00</span><span class=\"s s-Atom\">s</span> <span class=\"nv\">Unsat</span><span class=\"s s-Atom\">:</span> <span class=\"mf\">0.00</span><span class=\"s s-Atom\">s</span><span class=\"p\">)</span>\n",
       "<span class=\"lineno\">8 </span><span class=\"nv\">CPU</span> <span class=\"nv\">Time</span>     <span class=\"s s-Atom\">:</span> <span class=\"mf\">0.001</span><span class=\"s s-Atom\">s</span>\n",
       "</pre></div>\n"
      ],
      "text/plain": [
       "'Answer: 1\\nhop(a,a,p) hop(a,b,q) hop(b,a,r) hop(b,c,s) thop(a,a,f(p,p,p)) thop(b,a,f(r,p,p)) thop(a,a,f(q,r,p)) thop(a,b,f(p,p,q)) thop(b,b,f(r,p,q)) thop(a,b,f(q,r,q)) thop(a,a,f(p,q,r)) thop(b,a,f(r,q,r)) thop(a,c,f(p,q,s)) thop(b,c,f(r,q,s))\\nSATISFIABLE\\n\\nModels       : 1\\nCalls        : 1\\nTime         : 0.001s (Solving: 0.00s 1st Model: 0.00s Unsat: 0.00s)\\nCPU Time     : 0.001s'"
      ]
     },
     "metadata": {},
     "output_type": "display_data"
    }
   ],
   "source": [
    "%clingo -l hop_db_a thop_prov_query --donot-display_input -exp thop_prov_D"
   ]
  },
  {
   "cell_type": "code",
   "execution_count": 13,
   "metadata": {},
   "outputs": [
    {
     "name": "stdout",
     "output_type": "stream",
     "text": [
      "Number of Models: 1\n"
     ]
    }
   ],
   "source": [
    "rel = 'thop_3'\n",
    "\n",
    "thop_prov_D['pw_rel_dfs'], thop_prov_D['rel_schemas'], thop_prov_D['pw_objs'] \\\n",
    "= load_worlds(thop_prov_D['asp_soln'], thop_prov_D['meta_data'], internal_facts_as_string=False)"
   ]
  },
  {
   "cell_type": "code",
   "execution_count": 14,
   "metadata": {
    "scrolled": true
   },
   "outputs": [
    {
     "data": {
      "text/html": [
       "<div>\n",
       "<style scoped>\n",
       "    .dataframe tbody tr th:only-of-type {\n",
       "        vertical-align: middle;\n",
       "    }\n",
       "\n",
       "    .dataframe tbody tr th {\n",
       "        vertical-align: top;\n",
       "    }\n",
       "\n",
       "    .dataframe thead th {\n",
       "        text-align: right;\n",
       "    }\n",
       "</style>\n",
       "<table border=\"1\" class=\"dataframe\">\n",
       "  <thead>\n",
       "    <tr style=\"text-align: right;\">\n",
       "      <th></th>\n",
       "      <th>pw</th>\n",
       "      <th>start</th>\n",
       "      <th>dest</th>\n",
       "      <th>prov</th>\n",
       "    </tr>\n",
       "  </thead>\n",
       "  <tbody>\n",
       "    <tr>\n",
       "      <th>0</th>\n",
       "      <td>1</td>\n",
       "      <td>a</td>\n",
       "      <td>a</td>\n",
       "      <td>[f, p, p, p]</td>\n",
       "    </tr>\n",
       "    <tr>\n",
       "      <th>1</th>\n",
       "      <td>1</td>\n",
       "      <td>b</td>\n",
       "      <td>a</td>\n",
       "      <td>[f, r, p, p]</td>\n",
       "    </tr>\n",
       "    <tr>\n",
       "      <th>2</th>\n",
       "      <td>1</td>\n",
       "      <td>a</td>\n",
       "      <td>a</td>\n",
       "      <td>[f, q, r, p]</td>\n",
       "    </tr>\n",
       "    <tr>\n",
       "      <th>3</th>\n",
       "      <td>1</td>\n",
       "      <td>a</td>\n",
       "      <td>b</td>\n",
       "      <td>[f, p, p, q]</td>\n",
       "    </tr>\n",
       "    <tr>\n",
       "      <th>4</th>\n",
       "      <td>1</td>\n",
       "      <td>b</td>\n",
       "      <td>b</td>\n",
       "      <td>[f, r, p, q]</td>\n",
       "    </tr>\n",
       "    <tr>\n",
       "      <th>5</th>\n",
       "      <td>1</td>\n",
       "      <td>a</td>\n",
       "      <td>b</td>\n",
       "      <td>[f, q, r, q]</td>\n",
       "    </tr>\n",
       "    <tr>\n",
       "      <th>6</th>\n",
       "      <td>1</td>\n",
       "      <td>a</td>\n",
       "      <td>a</td>\n",
       "      <td>[f, p, q, r]</td>\n",
       "    </tr>\n",
       "    <tr>\n",
       "      <th>7</th>\n",
       "      <td>1</td>\n",
       "      <td>b</td>\n",
       "      <td>a</td>\n",
       "      <td>[f, r, q, r]</td>\n",
       "    </tr>\n",
       "    <tr>\n",
       "      <th>8</th>\n",
       "      <td>1</td>\n",
       "      <td>a</td>\n",
       "      <td>c</td>\n",
       "      <td>[f, p, q, s]</td>\n",
       "    </tr>\n",
       "    <tr>\n",
       "      <th>9</th>\n",
       "      <td>1</td>\n",
       "      <td>b</td>\n",
       "      <td>c</td>\n",
       "      <td>[f, r, q, s]</td>\n",
       "    </tr>\n",
       "  </tbody>\n",
       "</table>\n",
       "</div>"
      ],
      "text/plain": [
       "   pw start dest          prov\n",
       "0   1     a    a  [f, p, p, p]\n",
       "1   1     b    a  [f, r, p, p]\n",
       "2   1     a    a  [f, q, r, p]\n",
       "3   1     a    b  [f, p, p, q]\n",
       "4   1     b    b  [f, r, p, q]\n",
       "5   1     a    b  [f, q, r, q]\n",
       "6   1     a    a  [f, p, q, r]\n",
       "7   1     b    a  [f, r, q, r]\n",
       "8   1     a    c  [f, p, q, s]\n",
       "9   1     b    c  [f, r, q, s]"
      ]
     },
     "execution_count": 14,
     "metadata": {},
     "output_type": "execute_result"
    }
   ],
   "source": [
    "thop_prov_D['pw_rel_dfs'][rel]"
   ]
  },
  {
   "cell_type": "code",
   "execution_count": 15,
   "metadata": {},
   "outputs": [
    {
     "data": {
      "text/html": [
       "<div>\n",
       "<style scoped>\n",
       "    .dataframe tbody tr th:only-of-type {\n",
       "        vertical-align: middle;\n",
       "    }\n",
       "\n",
       "    .dataframe tbody tr th {\n",
       "        vertical-align: top;\n",
       "    }\n",
       "\n",
       "    .dataframe thead th {\n",
       "        text-align: right;\n",
       "    }\n",
       "</style>\n",
       "<table border=\"1\" class=\"dataframe\">\n",
       "  <thead>\n",
       "    <tr style=\"text-align: right;\">\n",
       "      <th></th>\n",
       "      <th>pw</th>\n",
       "      <th>head</th>\n",
       "      <th>tail</th>\n",
       "      <th>hop_name</th>\n",
       "    </tr>\n",
       "  </thead>\n",
       "  <tbody>\n",
       "    <tr>\n",
       "      <th>0</th>\n",
       "      <td>1</td>\n",
       "      <td>a</td>\n",
       "      <td>a</td>\n",
       "      <td>p</td>\n",
       "    </tr>\n",
       "    <tr>\n",
       "      <th>1</th>\n",
       "      <td>1</td>\n",
       "      <td>a</td>\n",
       "      <td>b</td>\n",
       "      <td>q</td>\n",
       "    </tr>\n",
       "    <tr>\n",
       "      <th>2</th>\n",
       "      <td>1</td>\n",
       "      <td>b</td>\n",
       "      <td>a</td>\n",
       "      <td>r</td>\n",
       "    </tr>\n",
       "    <tr>\n",
       "      <th>3</th>\n",
       "      <td>1</td>\n",
       "      <td>b</td>\n",
       "      <td>c</td>\n",
       "      <td>s</td>\n",
       "    </tr>\n",
       "  </tbody>\n",
       "</table>\n",
       "</div>"
      ],
      "text/plain": [
       "   pw head tail hop_name\n",
       "0   1    a    a        p\n",
       "1   1    a    b        q\n",
       "2   1    b    a        r\n",
       "3   1    b    c        s"
      ]
     },
     "execution_count": 15,
     "metadata": {},
     "output_type": "execute_result"
    }
   ],
   "source": [
    "thop_prov_D['pw_rel_dfs']['hop_3']"
   ]
  },
  {
   "cell_type": "markdown",
   "metadata": {},
   "source": [
    "The provenance information captured here (in the 'prov' column) can help us create the __\"provenance polynomials\"__"
   ]
  },
  {
   "cell_type": "code",
   "execution_count": 16,
   "metadata": {},
   "outputs": [],
   "source": [
    "# Helper Functions\n",
    "\n",
    "def prov_mono(row):\n",
    "    provs = sympy.symbols(row['prov'][1:])\n",
    "    expr = reduce(lambda x, y: x*y, provs)\n",
    "    return expr\n",
    "\n",
    "def list_to_freq_list(l):\n",
    "    if len(l) <= 0: \n",
    "        return []\n",
    "    l_ = [[l[0],1]]\n",
    "    for i in range(1, len(l)):\n",
    "        if l[i] == l_[-1][0]:\n",
    "            l_[-1][1] += 1\n",
    "        else:\n",
    "            l_.append([l[i],1])\n",
    "    return l_\n",
    "\n",
    "def prov_mono_ord(row):\n",
    "    f_list = list_to_freq_list(row['prov'][1:])\n",
    "    f_list_exprs = list(map(lambda p: '{}^{}'.format(p[0],p[1]) if p[1]>1 else '{}'.format(p[0]), f_list))\n",
    "    expr = \"${}$\".format(\" \".join(f_list_exprs))\n",
    "    return expr"
   ]
  },
  {
   "cell_type": "markdown",
   "metadata": {},
   "source": [
    "First, we create the provenance monomials:"
   ]
  },
  {
   "cell_type": "code",
   "execution_count": 17,
   "metadata": {
    "scrolled": true
   },
   "outputs": [
    {
     "data": {
      "text/html": [
       "<div>\n",
       "<style scoped>\n",
       "    .dataframe tbody tr th:only-of-type {\n",
       "        vertical-align: middle;\n",
       "    }\n",
       "\n",
       "    .dataframe tbody tr th {\n",
       "        vertical-align: top;\n",
       "    }\n",
       "\n",
       "    .dataframe thead th {\n",
       "        text-align: right;\n",
       "    }\n",
       "</style>\n",
       "<table border=\"1\" class=\"dataframe\">\n",
       "  <thead>\n",
       "    <tr style=\"text-align: right;\">\n",
       "      <th></th>\n",
       "      <th>pw</th>\n",
       "      <th>start</th>\n",
       "      <th>dest</th>\n",
       "      <th>prov</th>\n",
       "      <th>prov_mono_ord</th>\n",
       "    </tr>\n",
       "  </thead>\n",
       "  <tbody>\n",
       "    <tr>\n",
       "      <th>0</th>\n",
       "      <td>1</td>\n",
       "      <td>a</td>\n",
       "      <td>a</td>\n",
       "      <td>[f, p, p, p]</td>\n",
       "      <td>$p^3$</td>\n",
       "    </tr>\n",
       "    <tr>\n",
       "      <th>1</th>\n",
       "      <td>1</td>\n",
       "      <td>b</td>\n",
       "      <td>a</td>\n",
       "      <td>[f, r, p, p]</td>\n",
       "      <td>$r p^2$</td>\n",
       "    </tr>\n",
       "    <tr>\n",
       "      <th>2</th>\n",
       "      <td>1</td>\n",
       "      <td>a</td>\n",
       "      <td>a</td>\n",
       "      <td>[f, q, r, p]</td>\n",
       "      <td>$q r p$</td>\n",
       "    </tr>\n",
       "    <tr>\n",
       "      <th>3</th>\n",
       "      <td>1</td>\n",
       "      <td>a</td>\n",
       "      <td>b</td>\n",
       "      <td>[f, p, p, q]</td>\n",
       "      <td>$p^2 q$</td>\n",
       "    </tr>\n",
       "    <tr>\n",
       "      <th>4</th>\n",
       "      <td>1</td>\n",
       "      <td>b</td>\n",
       "      <td>b</td>\n",
       "      <td>[f, r, p, q]</td>\n",
       "      <td>$r p q$</td>\n",
       "    </tr>\n",
       "    <tr>\n",
       "      <th>5</th>\n",
       "      <td>1</td>\n",
       "      <td>a</td>\n",
       "      <td>b</td>\n",
       "      <td>[f, q, r, q]</td>\n",
       "      <td>$q r q$</td>\n",
       "    </tr>\n",
       "    <tr>\n",
       "      <th>6</th>\n",
       "      <td>1</td>\n",
       "      <td>a</td>\n",
       "      <td>a</td>\n",
       "      <td>[f, p, q, r]</td>\n",
       "      <td>$p q r$</td>\n",
       "    </tr>\n",
       "    <tr>\n",
       "      <th>7</th>\n",
       "      <td>1</td>\n",
       "      <td>b</td>\n",
       "      <td>a</td>\n",
       "      <td>[f, r, q, r]</td>\n",
       "      <td>$r q r$</td>\n",
       "    </tr>\n",
       "    <tr>\n",
       "      <th>8</th>\n",
       "      <td>1</td>\n",
       "      <td>a</td>\n",
       "      <td>c</td>\n",
       "      <td>[f, p, q, s]</td>\n",
       "      <td>$p q s$</td>\n",
       "    </tr>\n",
       "    <tr>\n",
       "      <th>9</th>\n",
       "      <td>1</td>\n",
       "      <td>b</td>\n",
       "      <td>c</td>\n",
       "      <td>[f, r, q, s]</td>\n",
       "      <td>$r q s$</td>\n",
       "    </tr>\n",
       "  </tbody>\n",
       "</table>\n",
       "</div>"
      ],
      "text/plain": [
       "   pw start dest          prov prov_mono_ord\n",
       "0   1     a    a  [f, p, p, p]         $p^3$\n",
       "1   1     b    a  [f, r, p, p]       $r p^2$\n",
       "2   1     a    a  [f, q, r, p]       $q r p$\n",
       "3   1     a    b  [f, p, p, q]       $p^2 q$\n",
       "4   1     b    b  [f, r, p, q]       $r p q$\n",
       "5   1     a    b  [f, q, r, q]       $q r q$\n",
       "6   1     a    a  [f, p, q, r]       $p q r$\n",
       "7   1     b    a  [f, r, q, r]       $r q r$\n",
       "8   1     a    c  [f, p, q, s]       $p q s$\n",
       "9   1     b    c  [f, r, q, s]       $r q s$"
      ]
     },
     "execution_count": 17,
     "metadata": {},
     "output_type": "execute_result"
    }
   ],
   "source": [
    "thop_prov_D['pw_rel_dfs'][rel]['prov_mono_ord'] = thop_prov_D['pw_rel_dfs'][rel].apply(prov_mono_ord, axis=1)\n",
    "thop_prov_D['pw_rel_dfs'][rel]"
   ]
  },
  {
   "cell_type": "markdown",
   "metadata": {},
   "source": [
    "Note that the above provenance monomials (prov_mono_ord) are 'ordered' i.e. we preserve the order of the hops that make up the 3hop. In traditional provenance polynomials, order is not preserved, as shown below:"
   ]
  },
  {
   "cell_type": "code",
   "execution_count": 18,
   "metadata": {},
   "outputs": [
    {
     "data": {
      "text/html": [
       "<div>\n",
       "<style scoped>\n",
       "    .dataframe tbody tr th:only-of-type {\n",
       "        vertical-align: middle;\n",
       "    }\n",
       "\n",
       "    .dataframe tbody tr th {\n",
       "        vertical-align: top;\n",
       "    }\n",
       "\n",
       "    .dataframe thead th {\n",
       "        text-align: right;\n",
       "    }\n",
       "</style>\n",
       "<table border=\"1\" class=\"dataframe\">\n",
       "  <thead>\n",
       "    <tr style=\"text-align: right;\">\n",
       "      <th></th>\n",
       "      <th>pw</th>\n",
       "      <th>start</th>\n",
       "      <th>dest</th>\n",
       "      <th>prov</th>\n",
       "      <th>prov_mono_ord</th>\n",
       "      <th>prov_mono_</th>\n",
       "    </tr>\n",
       "  </thead>\n",
       "  <tbody>\n",
       "    <tr>\n",
       "      <th>0</th>\n",
       "      <td>1</td>\n",
       "      <td>a</td>\n",
       "      <td>a</td>\n",
       "      <td>[f, p, p, p]</td>\n",
       "      <td>$p^3$</td>\n",
       "      <td>$p^{3}$</td>\n",
       "    </tr>\n",
       "    <tr>\n",
       "      <th>1</th>\n",
       "      <td>1</td>\n",
       "      <td>b</td>\n",
       "      <td>a</td>\n",
       "      <td>[f, r, p, p]</td>\n",
       "      <td>$r p^2$</td>\n",
       "      <td>$p^{2} r$</td>\n",
       "    </tr>\n",
       "    <tr>\n",
       "      <th>2</th>\n",
       "      <td>1</td>\n",
       "      <td>a</td>\n",
       "      <td>a</td>\n",
       "      <td>[f, q, r, p]</td>\n",
       "      <td>$q r p$</td>\n",
       "      <td>$p q r$</td>\n",
       "    </tr>\n",
       "    <tr>\n",
       "      <th>3</th>\n",
       "      <td>1</td>\n",
       "      <td>a</td>\n",
       "      <td>b</td>\n",
       "      <td>[f, p, p, q]</td>\n",
       "      <td>$p^2 q$</td>\n",
       "      <td>$p^{2} q$</td>\n",
       "    </tr>\n",
       "    <tr>\n",
       "      <th>4</th>\n",
       "      <td>1</td>\n",
       "      <td>b</td>\n",
       "      <td>b</td>\n",
       "      <td>[f, r, p, q]</td>\n",
       "      <td>$r p q$</td>\n",
       "      <td>$p q r$</td>\n",
       "    </tr>\n",
       "    <tr>\n",
       "      <th>5</th>\n",
       "      <td>1</td>\n",
       "      <td>a</td>\n",
       "      <td>b</td>\n",
       "      <td>[f, q, r, q]</td>\n",
       "      <td>$q r q$</td>\n",
       "      <td>$q^{2} r$</td>\n",
       "    </tr>\n",
       "    <tr>\n",
       "      <th>6</th>\n",
       "      <td>1</td>\n",
       "      <td>a</td>\n",
       "      <td>a</td>\n",
       "      <td>[f, p, q, r]</td>\n",
       "      <td>$p q r$</td>\n",
       "      <td>$p q r$</td>\n",
       "    </tr>\n",
       "    <tr>\n",
       "      <th>7</th>\n",
       "      <td>1</td>\n",
       "      <td>b</td>\n",
       "      <td>a</td>\n",
       "      <td>[f, r, q, r]</td>\n",
       "      <td>$r q r$</td>\n",
       "      <td>$q r^{2}$</td>\n",
       "    </tr>\n",
       "    <tr>\n",
       "      <th>8</th>\n",
       "      <td>1</td>\n",
       "      <td>a</td>\n",
       "      <td>c</td>\n",
       "      <td>[f, p, q, s]</td>\n",
       "      <td>$p q s$</td>\n",
       "      <td>$p q s$</td>\n",
       "    </tr>\n",
       "    <tr>\n",
       "      <th>9</th>\n",
       "      <td>1</td>\n",
       "      <td>b</td>\n",
       "      <td>c</td>\n",
       "      <td>[f, r, q, s]</td>\n",
       "      <td>$r q s$</td>\n",
       "      <td>$q r s$</td>\n",
       "    </tr>\n",
       "  </tbody>\n",
       "</table>\n",
       "</div>"
      ],
      "text/plain": [
       "   pw start dest          prov prov_mono_ord prov_mono_\n",
       "0   1     a    a  [f, p, p, p]         $p^3$    $p^{3}$\n",
       "1   1     b    a  [f, r, p, p]       $r p^2$  $p^{2} r$\n",
       "2   1     a    a  [f, q, r, p]       $q r p$    $p q r$\n",
       "3   1     a    b  [f, p, p, q]       $p^2 q$  $p^{2} q$\n",
       "4   1     b    b  [f, r, p, q]       $r p q$    $p q r$\n",
       "5   1     a    b  [f, q, r, q]       $q r q$  $q^{2} r$\n",
       "6   1     a    a  [f, p, q, r]       $p q r$    $p q r$\n",
       "7   1     b    a  [f, r, q, r]       $r q r$  $q r^{2}$\n",
       "8   1     a    c  [f, p, q, s]       $p q s$    $p q s$\n",
       "9   1     b    c  [f, r, q, s]       $r q s$    $q r s$"
      ]
     },
     "execution_count": 18,
     "metadata": {},
     "output_type": "execute_result"
    }
   ],
   "source": [
    "thop_prov_D['pw_rel_dfs'][rel]['prov_mono'] = thop_prov_D['pw_rel_dfs'][rel].apply(prov_mono, axis=1)\n",
    "thop_prov_D['pw_rel_dfs'][rel]['prov_mono_'] = thop_prov_D['pw_rel_dfs'][rel].apply(lambda row: '${}$'.format(sympy.latex(row['prov_mono'])), axis=1)\n",
    "thop_prov_D['pw_rel_dfs'][rel][['pw', 'start', 'dest', 'prov', 'prov_mono_ord', 'prov_mono_']]"
   ]
  },
  {
   "cell_type": "markdown",
   "metadata": {},
   "source": [
    "Now, we can form the _provenance polynomials_ for each of the 3hop solutions by using a group-by (start-dest pairs) on the monomials and then using a simple summation aggregation function:"
   ]
  },
  {
   "cell_type": "code",
   "execution_count": 19,
   "metadata": {},
   "outputs": [
    {
     "data": {
      "text/html": [
       "<style  type=\"text/css\" >\n",
       "    #T_91a40606_9be2_11ea_8ba2_38f9d385664drow0_col0 {\n",
       "            width:  100px;\n",
       "        }    #T_91a40606_9be2_11ea_8ba2_38f9d385664drow1_col0 {\n",
       "            width:  100px;\n",
       "        }    #T_91a40606_9be2_11ea_8ba2_38f9d385664drow2_col0 {\n",
       "            width:  100px;\n",
       "        }    #T_91a40606_9be2_11ea_8ba2_38f9d385664drow3_col0 {\n",
       "            width:  100px;\n",
       "        }    #T_91a40606_9be2_11ea_8ba2_38f9d385664drow4_col0 {\n",
       "            width:  100px;\n",
       "        }    #T_91a40606_9be2_11ea_8ba2_38f9d385664drow5_col0 {\n",
       "            width:  100px;\n",
       "        }</style><table id=\"T_91a40606_9be2_11ea_8ba2_38f9d385664d\" ><thead>    <tr>        <th class=\"blank\" ></th>        <th class=\"blank level0\" ></th>        <th class=\"col_heading level0 col0\" >prov_poly</th>    </tr>    <tr>        <th class=\"index_name level0\" >start</th>        <th class=\"index_name level1\" >dest</th>        <th class=\"blank\" ></th>    </tr></thead><tbody>\n",
       "                <tr>\n",
       "                        <th id=\"T_91a40606_9be2_11ea_8ba2_38f9d385664dlevel0_row0\" class=\"row_heading level0 row0\" rowspan=3>a</th>\n",
       "                        <th id=\"T_91a40606_9be2_11ea_8ba2_38f9d385664dlevel1_row0\" class=\"row_heading level1 row0\" >a</th>\n",
       "                        <td id=\"T_91a40606_9be2_11ea_8ba2_38f9d385664drow0_col0\" class=\"data row0 col0\" >$p^{3} + 2 p q r$</td>\n",
       "            </tr>\n",
       "            <tr>\n",
       "                                <th id=\"T_91a40606_9be2_11ea_8ba2_38f9d385664dlevel1_row1\" class=\"row_heading level1 row1\" >b</th>\n",
       "                        <td id=\"T_91a40606_9be2_11ea_8ba2_38f9d385664drow1_col0\" class=\"data row1 col0\" >$p^{2} q + q^{2} r$</td>\n",
       "            </tr>\n",
       "            <tr>\n",
       "                                <th id=\"T_91a40606_9be2_11ea_8ba2_38f9d385664dlevel1_row2\" class=\"row_heading level1 row2\" >c</th>\n",
       "                        <td id=\"T_91a40606_9be2_11ea_8ba2_38f9d385664drow2_col0\" class=\"data row2 col0\" >$p q s$</td>\n",
       "            </tr>\n",
       "            <tr>\n",
       "                        <th id=\"T_91a40606_9be2_11ea_8ba2_38f9d385664dlevel0_row3\" class=\"row_heading level0 row3\" rowspan=3>b</th>\n",
       "                        <th id=\"T_91a40606_9be2_11ea_8ba2_38f9d385664dlevel1_row3\" class=\"row_heading level1 row3\" >a</th>\n",
       "                        <td id=\"T_91a40606_9be2_11ea_8ba2_38f9d385664drow3_col0\" class=\"data row3 col0\" >$p^{2} r + q r^{2}$</td>\n",
       "            </tr>\n",
       "            <tr>\n",
       "                                <th id=\"T_91a40606_9be2_11ea_8ba2_38f9d385664dlevel1_row4\" class=\"row_heading level1 row4\" >b</th>\n",
       "                        <td id=\"T_91a40606_9be2_11ea_8ba2_38f9d385664drow4_col0\" class=\"data row4 col0\" >$p q r$</td>\n",
       "            </tr>\n",
       "            <tr>\n",
       "                                <th id=\"T_91a40606_9be2_11ea_8ba2_38f9d385664dlevel1_row5\" class=\"row_heading level1 row5\" >c</th>\n",
       "                        <td id=\"T_91a40606_9be2_11ea_8ba2_38f9d385664drow5_col0\" class=\"data row5 col0\" >$q r s$</td>\n",
       "            </tr>\n",
       "    </tbody></table>"
      ],
      "text/plain": [
       "<pandas.io.formats.style.Styler at 0x130c17e80>"
      ]
     },
     "execution_count": 19,
     "metadata": {},
     "output_type": "execute_result"
    }
   ],
   "source": [
    "thop_prov_D_prov_poly = thop_prov_D['pw_rel_dfs'][rel].groupby(['start', 'dest']).agg(\n",
    "    prov_poly=('prov_mono', lambda x: '$'+sympy.latex(sum(x))+'$'))\n",
    "thop_prov_D_prov_poly.style.set_properties(subset=['prov_poly'], **{'width': '100px'})"
   ]
  },
  {
   "cell_type": "markdown",
   "metadata": {},
   "source": [
    "#### The provenance polynomials can be used for various use-cases.\n",
    "\n",
    "For instance, say we want to know what happens when we slightly modify the database D, say delete the hop 'p' (i.e. hop(a,a))."
   ]
  },
  {
   "cell_type": "markdown",
   "metadata": {},
   "source": [
    "One way to do it would be to modify the database D:\n",
    "\n",
    "(let's call this modified database Db)"
   ]
  },
  {
   "cell_type": "code",
   "execution_count": 20,
   "metadata": {},
   "outputs": [],
   "source": [
    "%%clingo --donot-display_input -lci hop_db_b --donot-run\n",
    "\n",
    "% schema hop(head, tail, hop_name)\n",
    "\n",
    "% hop(a,a, p). --> DELETE\n",
    "hop(a,b, q).\n",
    "hop(b,a, r).\n",
    "hop(b,c, s)."
   ]
  },
  {
   "cell_type": "markdown",
   "metadata": {},
   "source": [
    "And re-run the query:"
   ]
  },
  {
   "cell_type": "code",
   "execution_count": 21,
   "metadata": {},
   "outputs": [
    {
     "name": "stdout",
     "output_type": "stream",
     "text": [
      "Output:\n"
     ]
    },
    {
     "data": {
      "text/html": [
       "\n",
       "        <style>\n",
       "        .highlight .hll { background-color: #ffffcc }\n",
       ".highlight  { background: #f8f8f8; }\n",
       ".highlight .c { color: #408080; font-style: italic } /* Comment */\n",
       ".highlight .err { border: 1px solid #FF0000 } /* Error */\n",
       ".highlight .k { color: #008000; font-weight: bold } /* Keyword */\n",
       ".highlight .o { color: #666666 } /* Operator */\n",
       ".highlight .ch { color: #408080; font-style: italic } /* Comment.Hashbang */\n",
       ".highlight .cm { color: #408080; font-style: italic } /* Comment.Multiline */\n",
       ".highlight .cp { color: #BC7A00 } /* Comment.Preproc */\n",
       ".highlight .cpf { color: #408080; font-style: italic } /* Comment.PreprocFile */\n",
       ".highlight .c1 { color: #408080; font-style: italic } /* Comment.Single */\n",
       ".highlight .cs { color: #408080; font-style: italic } /* Comment.Special */\n",
       ".highlight .gd { color: #A00000 } /* Generic.Deleted */\n",
       ".highlight .ge { font-style: italic } /* Generic.Emph */\n",
       ".highlight .gr { color: #FF0000 } /* Generic.Error */\n",
       ".highlight .gh { color: #000080; font-weight: bold } /* Generic.Heading */\n",
       ".highlight .gi { color: #00A000 } /* Generic.Inserted */\n",
       ".highlight .go { color: #888888 } /* Generic.Output */\n",
       ".highlight .gp { color: #000080; font-weight: bold } /* Generic.Prompt */\n",
       ".highlight .gs { font-weight: bold } /* Generic.Strong */\n",
       ".highlight .gu { color: #800080; font-weight: bold } /* Generic.Subheading */\n",
       ".highlight .gt { color: #0044DD } /* Generic.Traceback */\n",
       ".highlight .kc { color: #008000; font-weight: bold } /* Keyword.Constant */\n",
       ".highlight .kd { color: #008000; font-weight: bold } /* Keyword.Declaration */\n",
       ".highlight .kn { color: #008000; font-weight: bold } /* Keyword.Namespace */\n",
       ".highlight .kp { color: #008000 } /* Keyword.Pseudo */\n",
       ".highlight .kr { color: #008000; font-weight: bold } /* Keyword.Reserved */\n",
       ".highlight .kt { color: #B00040 } /* Keyword.Type */\n",
       ".highlight .m { color: #666666 } /* Literal.Number */\n",
       ".highlight .s { color: #BA2121 } /* Literal.String */\n",
       ".highlight .na { color: #7D9029 } /* Name.Attribute */\n",
       ".highlight .nb { color: #008000 } /* Name.Builtin */\n",
       ".highlight .nc { color: #0000FF; font-weight: bold } /* Name.Class */\n",
       ".highlight .no { color: #880000 } /* Name.Constant */\n",
       ".highlight .nd { color: #AA22FF } /* Name.Decorator */\n",
       ".highlight .ni { color: #999999; font-weight: bold } /* Name.Entity */\n",
       ".highlight .ne { color: #D2413A; font-weight: bold } /* Name.Exception */\n",
       ".highlight .nf { color: #0000FF } /* Name.Function */\n",
       ".highlight .nl { color: #A0A000 } /* Name.Label */\n",
       ".highlight .nn { color: #0000FF; font-weight: bold } /* Name.Namespace */\n",
       ".highlight .nt { color: #008000; font-weight: bold } /* Name.Tag */\n",
       ".highlight .nv { color: #19177C } /* Name.Variable */\n",
       ".highlight .ow { color: #AA22FF; font-weight: bold } /* Operator.Word */\n",
       ".highlight .w { color: #bbbbbb } /* Text.Whitespace */\n",
       ".highlight .mb { color: #666666 } /* Literal.Number.Bin */\n",
       ".highlight .mf { color: #666666 } /* Literal.Number.Float */\n",
       ".highlight .mh { color: #666666 } /* Literal.Number.Hex */\n",
       ".highlight .mi { color: #666666 } /* Literal.Number.Integer */\n",
       ".highlight .mo { color: #666666 } /* Literal.Number.Oct */\n",
       ".highlight .sa { color: #BA2121 } /* Literal.String.Affix */\n",
       ".highlight .sb { color: #BA2121 } /* Literal.String.Backtick */\n",
       ".highlight .sc { color: #BA2121 } /* Literal.String.Char */\n",
       ".highlight .dl { color: #BA2121 } /* Literal.String.Delimiter */\n",
       ".highlight .sd { color: #BA2121; font-style: italic } /* Literal.String.Doc */\n",
       ".highlight .s2 { color: #BA2121 } /* Literal.String.Double */\n",
       ".highlight .se { color: #BB6622; font-weight: bold } /* Literal.String.Escape */\n",
       ".highlight .sh { color: #BA2121 } /* Literal.String.Heredoc */\n",
       ".highlight .si { color: #BB6688; font-weight: bold } /* Literal.String.Interpol */\n",
       ".highlight .sx { color: #008000 } /* Literal.String.Other */\n",
       ".highlight .sr { color: #BB6688 } /* Literal.String.Regex */\n",
       ".highlight .s1 { color: #BA2121 } /* Literal.String.Single */\n",
       ".highlight .ss { color: #19177C } /* Literal.String.Symbol */\n",
       ".highlight .bp { color: #008000 } /* Name.Builtin.Pseudo */\n",
       ".highlight .fm { color: #0000FF } /* Name.Function.Magic */\n",
       ".highlight .vc { color: #19177C } /* Name.Variable.Class */\n",
       ".highlight .vg { color: #19177C } /* Name.Variable.Global */\n",
       ".highlight .vi { color: #19177C } /* Name.Variable.Instance */\n",
       ".highlight .vm { color: #19177C } /* Name.Variable.Magic */\n",
       ".highlight .il { color: #666666 } /* Literal.Number.Integer.Long */\n",
       "        </style>\n",
       "        "
      ],
      "text/plain": [
       "<IPython.core.display.HTML object>"
      ]
     },
     "metadata": {},
     "output_type": "display_data"
    },
    {
     "data": {
      "text/html": [
       "<div class=\"highlight\"><pre><span></span><span class=\"lineno\">1 </span><span class=\"nv\">Answer</span><span class=\"s s-Atom\">:</span> <span class=\"mi\">1</span>\n",
       "<span class=\"lineno\">2 </span><span class=\"nf\">hop</span><span class=\"p\">(</span><span class=\"s s-Atom\">a</span><span class=\"p\">,</span><span class=\"s s-Atom\">b</span><span class=\"p\">,</span><span class=\"s s-Atom\">q</span><span class=\"p\">)</span> <span class=\"nf\">hop</span><span class=\"p\">(</span><span class=\"s s-Atom\">b</span><span class=\"p\">,</span><span class=\"s s-Atom\">a</span><span class=\"p\">,</span><span class=\"s s-Atom\">r</span><span class=\"p\">)</span> <span class=\"nf\">hop</span><span class=\"p\">(</span><span class=\"s s-Atom\">b</span><span class=\"p\">,</span><span class=\"s s-Atom\">c</span><span class=\"p\">,</span><span class=\"s s-Atom\">s</span><span class=\"p\">)</span> <span class=\"nf\">thop</span><span class=\"p\">(</span><span class=\"s s-Atom\">a</span><span class=\"p\">,</span><span class=\"s s-Atom\">b</span><span class=\"p\">)</span> <span class=\"nf\">thop</span><span class=\"p\">(</span><span class=\"s s-Atom\">b</span><span class=\"p\">,</span><span class=\"s s-Atom\">a</span><span class=\"p\">)</span> <span class=\"nf\">thop</span><span class=\"p\">(</span><span class=\"s s-Atom\">b</span><span class=\"p\">,</span><span class=\"s s-Atom\">c</span><span class=\"p\">)</span>\n",
       "<span class=\"lineno\">3 </span><span class=\"nv\">SATISFIABLE</span>\n",
       "<span class=\"lineno\">4 </span>\n",
       "<span class=\"lineno\">5 </span><span class=\"nv\">Models</span>       <span class=\"s s-Atom\">:</span> <span class=\"mi\">1</span>\n",
       "<span class=\"lineno\">6 </span><span class=\"nv\">Calls</span>        <span class=\"s s-Atom\">:</span> <span class=\"mi\">1</span>\n",
       "<span class=\"lineno\">7 </span><span class=\"nv\">Time</span>         <span class=\"s s-Atom\">:</span> <span class=\"mf\">0.001</span><span class=\"nf\">s</span> <span class=\"p\">(</span><span class=\"nv\">Solving</span><span class=\"s s-Atom\">:</span> <span class=\"mf\">0.00</span><span class=\"s s-Atom\">s</span> <span class=\"mi\">1</span><span class=\"s s-Atom\">st</span> <span class=\"nv\">Model</span><span class=\"s s-Atom\">:</span> <span class=\"mf\">0.00</span><span class=\"s s-Atom\">s</span> <span class=\"nv\">Unsat</span><span class=\"s s-Atom\">:</span> <span class=\"mf\">0.00</span><span class=\"s s-Atom\">s</span><span class=\"p\">)</span>\n",
       "<span class=\"lineno\">8 </span><span class=\"nv\">CPU</span> <span class=\"nv\">Time</span>     <span class=\"s s-Atom\">:</span> <span class=\"mf\">0.001</span><span class=\"s s-Atom\">s</span>\n",
       "</pre></div>\n"
      ],
      "text/plain": [
       "'Answer: 1\\nhop(a,b,q) hop(b,a,r) hop(b,c,s) thop(a,b) thop(b,a) thop(b,c)\\nSATISFIABLE\\n\\nModels       : 1\\nCalls        : 1\\nTime         : 0.001s (Solving: 0.00s 1st Model: 0.00s Unsat: 0.00s)\\nCPU Time     : 0.001s'"
      ]
     },
     "metadata": {},
     "output_type": "display_data"
    }
   ],
   "source": [
    "%clingo -l hop_db_b thop_query --donot-display_input -exp thop_Db"
   ]
  },
  {
   "cell_type": "markdown",
   "metadata": {},
   "source": [
    "As we can see, there are 3 outputs: 3hop(a,b), 3hop(b,a), 3hop(b,c)."
   ]
  },
  {
   "cell_type": "markdown",
   "metadata": {},
   "source": [
    "Or, we could delete some of the results in Datalog using the previous result, using a procedure like shown below:"
   ]
  },
  {
   "cell_type": "code",
   "execution_count": 22,
   "metadata": {},
   "outputs": [],
   "source": [
    "%%clingo -lci thop_remove_p --donot-run --donot-display_input\n",
    "\n",
    "del_thop(X,Y, f(P1,P2,P3)) :- thop(X,Y, f(P1,P2,P3)), P1=p.\n",
    "del_thop(X,Y, f(P1,P2,P3)) :- thop(X,Y, f(P1,P2,P3)), P2=p. \n",
    "del_thop(X,Y, f(P1,P2,P3)) :- thop(X,Y, f(P1,P2,P3)), P3=p.\n",
    "\n",
    "new_thop(X,Y, F) :- thop(X,Y, F), not del_thop(X,Y, F).\n",
    "#show new_thop/3."
   ]
  },
  {
   "cell_type": "markdown",
   "metadata": {},
   "source": [
    "Here, the thop/3 logical atoms come from materializing our earlier results from trop_prov_D experiments into a database of logical atoms, as shown below:"
   ]
  },
  {
   "cell_type": "code",
   "execution_count": 23,
   "metadata": {},
   "outputs": [
    {
     "data": {
      "text/html": [
       "\n",
       "        <style>\n",
       "        .highlight .hll { background-color: #ffffcc }\n",
       ".highlight  { background: #f8f8f8; }\n",
       ".highlight .c { color: #408080; font-style: italic } /* Comment */\n",
       ".highlight .err { border: 1px solid #FF0000 } /* Error */\n",
       ".highlight .k { color: #008000; font-weight: bold } /* Keyword */\n",
       ".highlight .o { color: #666666 } /* Operator */\n",
       ".highlight .ch { color: #408080; font-style: italic } /* Comment.Hashbang */\n",
       ".highlight .cm { color: #408080; font-style: italic } /* Comment.Multiline */\n",
       ".highlight .cp { color: #BC7A00 } /* Comment.Preproc */\n",
       ".highlight .cpf { color: #408080; font-style: italic } /* Comment.PreprocFile */\n",
       ".highlight .c1 { color: #408080; font-style: italic } /* Comment.Single */\n",
       ".highlight .cs { color: #408080; font-style: italic } /* Comment.Special */\n",
       ".highlight .gd { color: #A00000 } /* Generic.Deleted */\n",
       ".highlight .ge { font-style: italic } /* Generic.Emph */\n",
       ".highlight .gr { color: #FF0000 } /* Generic.Error */\n",
       ".highlight .gh { color: #000080; font-weight: bold } /* Generic.Heading */\n",
       ".highlight .gi { color: #00A000 } /* Generic.Inserted */\n",
       ".highlight .go { color: #888888 } /* Generic.Output */\n",
       ".highlight .gp { color: #000080; font-weight: bold } /* Generic.Prompt */\n",
       ".highlight .gs { font-weight: bold } /* Generic.Strong */\n",
       ".highlight .gu { color: #800080; font-weight: bold } /* Generic.Subheading */\n",
       ".highlight .gt { color: #0044DD } /* Generic.Traceback */\n",
       ".highlight .kc { color: #008000; font-weight: bold } /* Keyword.Constant */\n",
       ".highlight .kd { color: #008000; font-weight: bold } /* Keyword.Declaration */\n",
       ".highlight .kn { color: #008000; font-weight: bold } /* Keyword.Namespace */\n",
       ".highlight .kp { color: #008000 } /* Keyword.Pseudo */\n",
       ".highlight .kr { color: #008000; font-weight: bold } /* Keyword.Reserved */\n",
       ".highlight .kt { color: #B00040 } /* Keyword.Type */\n",
       ".highlight .m { color: #666666 } /* Literal.Number */\n",
       ".highlight .s { color: #BA2121 } /* Literal.String */\n",
       ".highlight .na { color: #7D9029 } /* Name.Attribute */\n",
       ".highlight .nb { color: #008000 } /* Name.Builtin */\n",
       ".highlight .nc { color: #0000FF; font-weight: bold } /* Name.Class */\n",
       ".highlight .no { color: #880000 } /* Name.Constant */\n",
       ".highlight .nd { color: #AA22FF } /* Name.Decorator */\n",
       ".highlight .ni { color: #999999; font-weight: bold } /* Name.Entity */\n",
       ".highlight .ne { color: #D2413A; font-weight: bold } /* Name.Exception */\n",
       ".highlight .nf { color: #0000FF } /* Name.Function */\n",
       ".highlight .nl { color: #A0A000 } /* Name.Label */\n",
       ".highlight .nn { color: #0000FF; font-weight: bold } /* Name.Namespace */\n",
       ".highlight .nt { color: #008000; font-weight: bold } /* Name.Tag */\n",
       ".highlight .nv { color: #19177C } /* Name.Variable */\n",
       ".highlight .ow { color: #AA22FF; font-weight: bold } /* Operator.Word */\n",
       ".highlight .w { color: #bbbbbb } /* Text.Whitespace */\n",
       ".highlight .mb { color: #666666 } /* Literal.Number.Bin */\n",
       ".highlight .mf { color: #666666 } /* Literal.Number.Float */\n",
       ".highlight .mh { color: #666666 } /* Literal.Number.Hex */\n",
       ".highlight .mi { color: #666666 } /* Literal.Number.Integer */\n",
       ".highlight .mo { color: #666666 } /* Literal.Number.Oct */\n",
       ".highlight .sa { color: #BA2121 } /* Literal.String.Affix */\n",
       ".highlight .sb { color: #BA2121 } /* Literal.String.Backtick */\n",
       ".highlight .sc { color: #BA2121 } /* Literal.String.Char */\n",
       ".highlight .dl { color: #BA2121 } /* Literal.String.Delimiter */\n",
       ".highlight .sd { color: #BA2121; font-style: italic } /* Literal.String.Doc */\n",
       ".highlight .s2 { color: #BA2121 } /* Literal.String.Double */\n",
       ".highlight .se { color: #BB6622; font-weight: bold } /* Literal.String.Escape */\n",
       ".highlight .sh { color: #BA2121 } /* Literal.String.Heredoc */\n",
       ".highlight .si { color: #BB6688; font-weight: bold } /* Literal.String.Interpol */\n",
       ".highlight .sx { color: #008000 } /* Literal.String.Other */\n",
       ".highlight .sr { color: #BB6688 } /* Literal.String.Regex */\n",
       ".highlight .s1 { color: #BA2121 } /* Literal.String.Single */\n",
       ".highlight .ss { color: #19177C } /* Literal.String.Symbol */\n",
       ".highlight .bp { color: #008000 } /* Name.Builtin.Pseudo */\n",
       ".highlight .fm { color: #0000FF } /* Name.Function.Magic */\n",
       ".highlight .vc { color: #19177C } /* Name.Variable.Class */\n",
       ".highlight .vg { color: #19177C } /* Name.Variable.Global */\n",
       ".highlight .vi { color: #19177C } /* Name.Variable.Instance */\n",
       ".highlight .vm { color: #19177C } /* Name.Variable.Magic */\n",
       ".highlight .il { color: #666666 } /* Literal.Number.Integer.Long */\n",
       "        </style>\n",
       "        "
      ],
      "text/plain": [
       "<IPython.core.display.HTML object>"
      ]
     },
     "metadata": {},
     "output_type": "display_data"
    },
    {
     "data": {
      "text/html": [
       "<div class=\"highlight\"><pre><span></span><span class=\"lineno\"> 1 </span><span class=\"nf\">hop</span><span class=\"p\">(</span><span class=\"s s-Atom\">a</span><span class=\"p\">,</span><span class=\"s s-Atom\">a</span><span class=\"p\">,</span><span class=\"s s-Atom\">p</span><span class=\"p\">).</span>\n",
       "<span class=\"lineno\"> 2 </span><span class=\"nf\">hop</span><span class=\"p\">(</span><span class=\"s s-Atom\">a</span><span class=\"p\">,</span><span class=\"s s-Atom\">b</span><span class=\"p\">,</span><span class=\"s s-Atom\">q</span><span class=\"p\">).</span>\n",
       "<span class=\"lineno\"> 3 </span><span class=\"nf\">hop</span><span class=\"p\">(</span><span class=\"s s-Atom\">b</span><span class=\"p\">,</span><span class=\"s s-Atom\">a</span><span class=\"p\">,</span><span class=\"s s-Atom\">r</span><span class=\"p\">).</span>\n",
       "<span class=\"lineno\"> 4 </span><span class=\"nf\">hop</span><span class=\"p\">(</span><span class=\"s s-Atom\">b</span><span class=\"p\">,</span><span class=\"s s-Atom\">c</span><span class=\"p\">,</span><span class=\"s s-Atom\">s</span><span class=\"p\">).</span>\n",
       "<span class=\"lineno\"> 5 </span><span class=\"nf\">thop</span><span class=\"p\">(</span><span class=\"s s-Atom\">a</span><span class=\"p\">,</span><span class=\"s s-Atom\">a</span><span class=\"p\">,</span><span class=\"nf\">f</span><span class=\"p\">(</span><span class=\"s s-Atom\">p</span><span class=\"p\">,</span><span class=\"s s-Atom\">p</span><span class=\"p\">,</span><span class=\"s s-Atom\">p</span><span class=\"p\">)).</span>\n",
       "<span class=\"lineno\"> 6 </span><span class=\"nf\">thop</span><span class=\"p\">(</span><span class=\"s s-Atom\">b</span><span class=\"p\">,</span><span class=\"s s-Atom\">a</span><span class=\"p\">,</span><span class=\"nf\">f</span><span class=\"p\">(</span><span class=\"s s-Atom\">r</span><span class=\"p\">,</span><span class=\"s s-Atom\">p</span><span class=\"p\">,</span><span class=\"s s-Atom\">p</span><span class=\"p\">)).</span>\n",
       "<span class=\"lineno\"> 7 </span><span class=\"nf\">thop</span><span class=\"p\">(</span><span class=\"s s-Atom\">a</span><span class=\"p\">,</span><span class=\"s s-Atom\">a</span><span class=\"p\">,</span><span class=\"nf\">f</span><span class=\"p\">(</span><span class=\"s s-Atom\">q</span><span class=\"p\">,</span><span class=\"s s-Atom\">r</span><span class=\"p\">,</span><span class=\"s s-Atom\">p</span><span class=\"p\">)).</span>\n",
       "<span class=\"lineno\"> 8 </span><span class=\"nf\">thop</span><span class=\"p\">(</span><span class=\"s s-Atom\">a</span><span class=\"p\">,</span><span class=\"s s-Atom\">b</span><span class=\"p\">,</span><span class=\"nf\">f</span><span class=\"p\">(</span><span class=\"s s-Atom\">p</span><span class=\"p\">,</span><span class=\"s s-Atom\">p</span><span class=\"p\">,</span><span class=\"s s-Atom\">q</span><span class=\"p\">)).</span>\n",
       "<span class=\"lineno\"> 9 </span><span class=\"nf\">thop</span><span class=\"p\">(</span><span class=\"s s-Atom\">b</span><span class=\"p\">,</span><span class=\"s s-Atom\">b</span><span class=\"p\">,</span><span class=\"nf\">f</span><span class=\"p\">(</span><span class=\"s s-Atom\">r</span><span class=\"p\">,</span><span class=\"s s-Atom\">p</span><span class=\"p\">,</span><span class=\"s s-Atom\">q</span><span class=\"p\">)).</span>\n",
       "<span class=\"lineno\">10 </span><span class=\"nf\">thop</span><span class=\"p\">(</span><span class=\"s s-Atom\">a</span><span class=\"p\">,</span><span class=\"s s-Atom\">b</span><span class=\"p\">,</span><span class=\"nf\">f</span><span class=\"p\">(</span><span class=\"s s-Atom\">q</span><span class=\"p\">,</span><span class=\"s s-Atom\">r</span><span class=\"p\">,</span><span class=\"s s-Atom\">q</span><span class=\"p\">)).</span>\n",
       "<span class=\"lineno\">11 </span><span class=\"nf\">thop</span><span class=\"p\">(</span><span class=\"s s-Atom\">a</span><span class=\"p\">,</span><span class=\"s s-Atom\">a</span><span class=\"p\">,</span><span class=\"nf\">f</span><span class=\"p\">(</span><span class=\"s s-Atom\">p</span><span class=\"p\">,</span><span class=\"s s-Atom\">q</span><span class=\"p\">,</span><span class=\"s s-Atom\">r</span><span class=\"p\">)).</span>\n",
       "<span class=\"lineno\">12 </span><span class=\"nf\">thop</span><span class=\"p\">(</span><span class=\"s s-Atom\">b</span><span class=\"p\">,</span><span class=\"s s-Atom\">a</span><span class=\"p\">,</span><span class=\"nf\">f</span><span class=\"p\">(</span><span class=\"s s-Atom\">r</span><span class=\"p\">,</span><span class=\"s s-Atom\">q</span><span class=\"p\">,</span><span class=\"s s-Atom\">r</span><span class=\"p\">)).</span>\n",
       "<span class=\"lineno\">13 </span><span class=\"nf\">thop</span><span class=\"p\">(</span><span class=\"s s-Atom\">a</span><span class=\"p\">,</span><span class=\"s s-Atom\">c</span><span class=\"p\">,</span><span class=\"nf\">f</span><span class=\"p\">(</span><span class=\"s s-Atom\">p</span><span class=\"p\">,</span><span class=\"s s-Atom\">q</span><span class=\"p\">,</span><span class=\"s s-Atom\">s</span><span class=\"p\">)).</span>\n",
       "<span class=\"lineno\">14 </span><span class=\"nf\">thop</span><span class=\"p\">(</span><span class=\"s s-Atom\">b</span><span class=\"p\">,</span><span class=\"s s-Atom\">c</span><span class=\"p\">,</span><span class=\"nf\">f</span><span class=\"p\">(</span><span class=\"s s-Atom\">r</span><span class=\"p\">,</span><span class=\"s s-Atom\">q</span><span class=\"p\">,</span><span class=\"s s-Atom\">s</span><span class=\"p\">)).</span>\n",
       "</pre></div>\n"
      ],
      "text/plain": [
       "'hop(a,a,p).\\nhop(a,b,q).\\nhop(b,a,r).\\nhop(b,c,s).\\nthop(a,a,f(p,p,p)).\\nthop(b,a,f(r,p,p)).\\nthop(a,a,f(q,r,p)).\\nthop(a,b,f(p,p,q)).\\nthop(b,b,f(r,p,q)).\\nthop(a,b,f(q,r,q)).\\nthop(a,a,f(p,q,r)).\\nthop(b,a,f(r,q,r)).\\nthop(a,c,f(p,q,s)).\\nthop(b,c,f(r,q,s)).'"
      ]
     },
     "execution_count": 23,
     "metadata": {},
     "output_type": "execute_result"
    }
   ],
   "source": [
    "thop_prov_D_facts = PWEExport.export_as_asp_facts(thop_prov_D['pw_objs'], include_pw_ids=False)\n",
    "ASPRules(thop_prov_D_facts)"
   ]
  },
  {
   "cell_type": "markdown",
   "metadata": {},
   "source": [
    "In this way, we don't need to re-run the 3hop query itself, just do further computations on the already available results. \n",
    "\n",
    "Now we run the 'thop_remove_p' rules along with the set of logical facts above, to get the desired results:"
   ]
  },
  {
   "cell_type": "code",
   "execution_count": 24,
   "metadata": {},
   "outputs": [
    {
     "name": "stdout",
     "output_type": "stream",
     "text": [
      "Output:\n"
     ]
    },
    {
     "data": {
      "text/html": [
       "\n",
       "        <style>\n",
       "        .highlight .hll { background-color: #ffffcc }\n",
       ".highlight  { background: #f8f8f8; }\n",
       ".highlight .c { color: #408080; font-style: italic } /* Comment */\n",
       ".highlight .err { border: 1px solid #FF0000 } /* Error */\n",
       ".highlight .k { color: #008000; font-weight: bold } /* Keyword */\n",
       ".highlight .o { color: #666666 } /* Operator */\n",
       ".highlight .ch { color: #408080; font-style: italic } /* Comment.Hashbang */\n",
       ".highlight .cm { color: #408080; font-style: italic } /* Comment.Multiline */\n",
       ".highlight .cp { color: #BC7A00 } /* Comment.Preproc */\n",
       ".highlight .cpf { color: #408080; font-style: italic } /* Comment.PreprocFile */\n",
       ".highlight .c1 { color: #408080; font-style: italic } /* Comment.Single */\n",
       ".highlight .cs { color: #408080; font-style: italic } /* Comment.Special */\n",
       ".highlight .gd { color: #A00000 } /* Generic.Deleted */\n",
       ".highlight .ge { font-style: italic } /* Generic.Emph */\n",
       ".highlight .gr { color: #FF0000 } /* Generic.Error */\n",
       ".highlight .gh { color: #000080; font-weight: bold } /* Generic.Heading */\n",
       ".highlight .gi { color: #00A000 } /* Generic.Inserted */\n",
       ".highlight .go { color: #888888 } /* Generic.Output */\n",
       ".highlight .gp { color: #000080; font-weight: bold } /* Generic.Prompt */\n",
       ".highlight .gs { font-weight: bold } /* Generic.Strong */\n",
       ".highlight .gu { color: #800080; font-weight: bold } /* Generic.Subheading */\n",
       ".highlight .gt { color: #0044DD } /* Generic.Traceback */\n",
       ".highlight .kc { color: #008000; font-weight: bold } /* Keyword.Constant */\n",
       ".highlight .kd { color: #008000; font-weight: bold } /* Keyword.Declaration */\n",
       ".highlight .kn { color: #008000; font-weight: bold } /* Keyword.Namespace */\n",
       ".highlight .kp { color: #008000 } /* Keyword.Pseudo */\n",
       ".highlight .kr { color: #008000; font-weight: bold } /* Keyword.Reserved */\n",
       ".highlight .kt { color: #B00040 } /* Keyword.Type */\n",
       ".highlight .m { color: #666666 } /* Literal.Number */\n",
       ".highlight .s { color: #BA2121 } /* Literal.String */\n",
       ".highlight .na { color: #7D9029 } /* Name.Attribute */\n",
       ".highlight .nb { color: #008000 } /* Name.Builtin */\n",
       ".highlight .nc { color: #0000FF; font-weight: bold } /* Name.Class */\n",
       ".highlight .no { color: #880000 } /* Name.Constant */\n",
       ".highlight .nd { color: #AA22FF } /* Name.Decorator */\n",
       ".highlight .ni { color: #999999; font-weight: bold } /* Name.Entity */\n",
       ".highlight .ne { color: #D2413A; font-weight: bold } /* Name.Exception */\n",
       ".highlight .nf { color: #0000FF } /* Name.Function */\n",
       ".highlight .nl { color: #A0A000 } /* Name.Label */\n",
       ".highlight .nn { color: #0000FF; font-weight: bold } /* Name.Namespace */\n",
       ".highlight .nt { color: #008000; font-weight: bold } /* Name.Tag */\n",
       ".highlight .nv { color: #19177C } /* Name.Variable */\n",
       ".highlight .ow { color: #AA22FF; font-weight: bold } /* Operator.Word */\n",
       ".highlight .w { color: #bbbbbb } /* Text.Whitespace */\n",
       ".highlight .mb { color: #666666 } /* Literal.Number.Bin */\n",
       ".highlight .mf { color: #666666 } /* Literal.Number.Float */\n",
       ".highlight .mh { color: #666666 } /* Literal.Number.Hex */\n",
       ".highlight .mi { color: #666666 } /* Literal.Number.Integer */\n",
       ".highlight .mo { color: #666666 } /* Literal.Number.Oct */\n",
       ".highlight .sa { color: #BA2121 } /* Literal.String.Affix */\n",
       ".highlight .sb { color: #BA2121 } /* Literal.String.Backtick */\n",
       ".highlight .sc { color: #BA2121 } /* Literal.String.Char */\n",
       ".highlight .dl { color: #BA2121 } /* Literal.String.Delimiter */\n",
       ".highlight .sd { color: #BA2121; font-style: italic } /* Literal.String.Doc */\n",
       ".highlight .s2 { color: #BA2121 } /* Literal.String.Double */\n",
       ".highlight .se { color: #BB6622; font-weight: bold } /* Literal.String.Escape */\n",
       ".highlight .sh { color: #BA2121 } /* Literal.String.Heredoc */\n",
       ".highlight .si { color: #BB6688; font-weight: bold } /* Literal.String.Interpol */\n",
       ".highlight .sx { color: #008000 } /* Literal.String.Other */\n",
       ".highlight .sr { color: #BB6688 } /* Literal.String.Regex */\n",
       ".highlight .s1 { color: #BA2121 } /* Literal.String.Single */\n",
       ".highlight .ss { color: #19177C } /* Literal.String.Symbol */\n",
       ".highlight .bp { color: #008000 } /* Name.Builtin.Pseudo */\n",
       ".highlight .fm { color: #0000FF } /* Name.Function.Magic */\n",
       ".highlight .vc { color: #19177C } /* Name.Variable.Class */\n",
       ".highlight .vg { color: #19177C } /* Name.Variable.Global */\n",
       ".highlight .vi { color: #19177C } /* Name.Variable.Instance */\n",
       ".highlight .vm { color: #19177C } /* Name.Variable.Magic */\n",
       ".highlight .il { color: #666666 } /* Literal.Number.Integer.Long */\n",
       "        </style>\n",
       "        "
      ],
      "text/plain": [
       "<IPython.core.display.HTML object>"
      ]
     },
     "metadata": {},
     "output_type": "display_data"
    },
    {
     "data": {
      "text/html": [
       "<div class=\"highlight\"><pre><span></span><span class=\"lineno\">1 </span><span class=\"nv\">Answer</span><span class=\"s s-Atom\">:</span> <span class=\"mi\">1</span>\n",
       "<span class=\"lineno\">2 </span><span class=\"nf\">new_thop</span><span class=\"p\">(</span><span class=\"s s-Atom\">a</span><span class=\"p\">,</span><span class=\"s s-Atom\">b</span><span class=\"p\">,</span><span class=\"nf\">f</span><span class=\"p\">(</span><span class=\"s s-Atom\">q</span><span class=\"p\">,</span><span class=\"s s-Atom\">r</span><span class=\"p\">,</span><span class=\"s s-Atom\">q</span><span class=\"p\">))</span> <span class=\"nf\">new_thop</span><span class=\"p\">(</span><span class=\"s s-Atom\">b</span><span class=\"p\">,</span><span class=\"s s-Atom\">a</span><span class=\"p\">,</span><span class=\"nf\">f</span><span class=\"p\">(</span><span class=\"s s-Atom\">r</span><span class=\"p\">,</span><span class=\"s s-Atom\">q</span><span class=\"p\">,</span><span class=\"s s-Atom\">r</span><span class=\"p\">))</span> <span class=\"nf\">new_thop</span><span class=\"p\">(</span><span class=\"s s-Atom\">b</span><span class=\"p\">,</span><span class=\"s s-Atom\">c</span><span class=\"p\">,</span><span class=\"nf\">f</span><span class=\"p\">(</span><span class=\"s s-Atom\">r</span><span class=\"p\">,</span><span class=\"s s-Atom\">q</span><span class=\"p\">,</span><span class=\"s s-Atom\">s</span><span class=\"p\">))</span>\n",
       "<span class=\"lineno\">3 </span><span class=\"nv\">SATISFIABLE</span>\n",
       "<span class=\"lineno\">4 </span>\n",
       "<span class=\"lineno\">5 </span><span class=\"nv\">Models</span>       <span class=\"s s-Atom\">:</span> <span class=\"mi\">1</span>\n",
       "<span class=\"lineno\">6 </span><span class=\"nv\">Calls</span>        <span class=\"s s-Atom\">:</span> <span class=\"mi\">1</span>\n",
       "<span class=\"lineno\">7 </span><span class=\"nv\">Time</span>         <span class=\"s s-Atom\">:</span> <span class=\"mf\">0.002</span><span class=\"nf\">s</span> <span class=\"p\">(</span><span class=\"nv\">Solving</span><span class=\"s s-Atom\">:</span> <span class=\"mf\">0.00</span><span class=\"s s-Atom\">s</span> <span class=\"mi\">1</span><span class=\"s s-Atom\">st</span> <span class=\"nv\">Model</span><span class=\"s s-Atom\">:</span> <span class=\"mf\">0.00</span><span class=\"s s-Atom\">s</span> <span class=\"nv\">Unsat</span><span class=\"s s-Atom\">:</span> <span class=\"mf\">0.00</span><span class=\"s s-Atom\">s</span><span class=\"p\">)</span>\n",
       "<span class=\"lineno\">8 </span><span class=\"nv\">CPU</span> <span class=\"nv\">Time</span>     <span class=\"s s-Atom\">:</span> <span class=\"mf\">0.002</span><span class=\"s s-Atom\">s</span>\n",
       "</pre></div>\n"
      ],
      "text/plain": [
       "'Answer: 1\\nnew_thop(a,b,f(q,r,q)) new_thop(b,a,f(r,q,r)) new_thop(b,c,f(r,q,s))\\nSATISFIABLE\\n\\nModels       : 1\\nCalls        : 1\\nTime         : 0.002s (Solving: 0.00s 1st Model: 0.00s Unsat: 0.00s)\\nCPU Time     : 0.002s'"
      ]
     },
     "metadata": {},
     "output_type": "display_data"
    }
   ],
   "source": [
    "%clingo -l thop_remove_p thop_prov_D_facts --donot-display_input"
   ]
  },
  {
   "cell_type": "markdown",
   "metadata": {},
   "source": [
    "As we can see, this also gives us the same 3 results. However, even this requires re-running some sort of querying the provenance information in Datalog."
   ]
  },
  {
   "cell_type": "markdown",
   "metadata": {},
   "source": [
    "#### Using Provenance Polynomials\n",
    "We can get the desired result without ever re-running the query, by simply substituting p=0 in the provenance monomials and polynomials:"
   ]
  },
  {
   "cell_type": "markdown",
   "metadata": {},
   "source": [
    "Recall that the provenance monomials on the original database D looked as follows:"
   ]
  },
  {
   "cell_type": "code",
   "execution_count": 25,
   "metadata": {},
   "outputs": [
    {
     "data": {
      "text/html": [
       "<div>\n",
       "<style scoped>\n",
       "    .dataframe tbody tr th:only-of-type {\n",
       "        vertical-align: middle;\n",
       "    }\n",
       "\n",
       "    .dataframe tbody tr th {\n",
       "        vertical-align: top;\n",
       "    }\n",
       "\n",
       "    .dataframe thead th {\n",
       "        text-align: right;\n",
       "    }\n",
       "</style>\n",
       "<table border=\"1\" class=\"dataframe\">\n",
       "  <thead>\n",
       "    <tr style=\"text-align: right;\">\n",
       "      <th></th>\n",
       "      <th>pw</th>\n",
       "      <th>start</th>\n",
       "      <th>dest</th>\n",
       "      <th>prov_mono_</th>\n",
       "    </tr>\n",
       "  </thead>\n",
       "  <tbody>\n",
       "    <tr>\n",
       "      <th>0</th>\n",
       "      <td>1</td>\n",
       "      <td>a</td>\n",
       "      <td>a</td>\n",
       "      <td>$p^{3}$</td>\n",
       "    </tr>\n",
       "    <tr>\n",
       "      <th>1</th>\n",
       "      <td>1</td>\n",
       "      <td>b</td>\n",
       "      <td>a</td>\n",
       "      <td>$p^{2} r$</td>\n",
       "    </tr>\n",
       "    <tr>\n",
       "      <th>2</th>\n",
       "      <td>1</td>\n",
       "      <td>a</td>\n",
       "      <td>a</td>\n",
       "      <td>$p q r$</td>\n",
       "    </tr>\n",
       "    <tr>\n",
       "      <th>3</th>\n",
       "      <td>1</td>\n",
       "      <td>a</td>\n",
       "      <td>b</td>\n",
       "      <td>$p^{2} q$</td>\n",
       "    </tr>\n",
       "    <tr>\n",
       "      <th>4</th>\n",
       "      <td>1</td>\n",
       "      <td>b</td>\n",
       "      <td>b</td>\n",
       "      <td>$p q r$</td>\n",
       "    </tr>\n",
       "    <tr>\n",
       "      <th>5</th>\n",
       "      <td>1</td>\n",
       "      <td>a</td>\n",
       "      <td>b</td>\n",
       "      <td>$q^{2} r$</td>\n",
       "    </tr>\n",
       "    <tr>\n",
       "      <th>6</th>\n",
       "      <td>1</td>\n",
       "      <td>a</td>\n",
       "      <td>a</td>\n",
       "      <td>$p q r$</td>\n",
       "    </tr>\n",
       "    <tr>\n",
       "      <th>7</th>\n",
       "      <td>1</td>\n",
       "      <td>b</td>\n",
       "      <td>a</td>\n",
       "      <td>$q r^{2}$</td>\n",
       "    </tr>\n",
       "    <tr>\n",
       "      <th>8</th>\n",
       "      <td>1</td>\n",
       "      <td>a</td>\n",
       "      <td>c</td>\n",
       "      <td>$p q s$</td>\n",
       "    </tr>\n",
       "    <tr>\n",
       "      <th>9</th>\n",
       "      <td>1</td>\n",
       "      <td>b</td>\n",
       "      <td>c</td>\n",
       "      <td>$q r s$</td>\n",
       "    </tr>\n",
       "  </tbody>\n",
       "</table>\n",
       "</div>"
      ],
      "text/plain": [
       "   pw start dest prov_mono_\n",
       "0   1     a    a    $p^{3}$\n",
       "1   1     b    a  $p^{2} r$\n",
       "2   1     a    a    $p q r$\n",
       "3   1     a    b  $p^{2} q$\n",
       "4   1     b    b    $p q r$\n",
       "5   1     a    b  $q^{2} r$\n",
       "6   1     a    a    $p q r$\n",
       "7   1     b    a  $q r^{2}$\n",
       "8   1     a    c    $p q s$\n",
       "9   1     b    c    $q r s$"
      ]
     },
     "execution_count": 25,
     "metadata": {},
     "output_type": "execute_result"
    }
   ],
   "source": [
    "thop_prov_D['pw_rel_dfs'][rel][['pw', 'start', 'dest', 'prov_mono_']]"
   ]
  },
  {
   "cell_type": "markdown",
   "metadata": {},
   "source": [
    "Now, we simply substitute p=0 in these provenance monomials:"
   ]
  },
  {
   "cell_type": "code",
   "execution_count": 26,
   "metadata": {},
   "outputs": [
    {
     "data": {
      "text/html": [
       "<div>\n",
       "<style scoped>\n",
       "    .dataframe tbody tr th:only-of-type {\n",
       "        vertical-align: middle;\n",
       "    }\n",
       "\n",
       "    .dataframe tbody tr th {\n",
       "        vertical-align: top;\n",
       "    }\n",
       "\n",
       "    .dataframe thead th {\n",
       "        text-align: right;\n",
       "    }\n",
       "</style>\n",
       "<table border=\"1\" class=\"dataframe\">\n",
       "  <thead>\n",
       "    <tr style=\"text-align: right;\">\n",
       "      <th></th>\n",
       "      <th>pw</th>\n",
       "      <th>start</th>\n",
       "      <th>dest</th>\n",
       "      <th>prov_mono_</th>\n",
       "    </tr>\n",
       "  </thead>\n",
       "  <tbody>\n",
       "    <tr>\n",
       "      <th>0</th>\n",
       "      <td>1</td>\n",
       "      <td>a</td>\n",
       "      <td>a</td>\n",
       "      <td>$0$</td>\n",
       "    </tr>\n",
       "    <tr>\n",
       "      <th>1</th>\n",
       "      <td>1</td>\n",
       "      <td>b</td>\n",
       "      <td>a</td>\n",
       "      <td>$0$</td>\n",
       "    </tr>\n",
       "    <tr>\n",
       "      <th>2</th>\n",
       "      <td>1</td>\n",
       "      <td>a</td>\n",
       "      <td>a</td>\n",
       "      <td>$0$</td>\n",
       "    </tr>\n",
       "    <tr>\n",
       "      <th>3</th>\n",
       "      <td>1</td>\n",
       "      <td>a</td>\n",
       "      <td>b</td>\n",
       "      <td>$0$</td>\n",
       "    </tr>\n",
       "    <tr>\n",
       "      <th>4</th>\n",
       "      <td>1</td>\n",
       "      <td>b</td>\n",
       "      <td>b</td>\n",
       "      <td>$0$</td>\n",
       "    </tr>\n",
       "    <tr>\n",
       "      <th>5</th>\n",
       "      <td>1</td>\n",
       "      <td>a</td>\n",
       "      <td>b</td>\n",
       "      <td>$q^{2} r$</td>\n",
       "    </tr>\n",
       "    <tr>\n",
       "      <th>6</th>\n",
       "      <td>1</td>\n",
       "      <td>a</td>\n",
       "      <td>a</td>\n",
       "      <td>$0$</td>\n",
       "    </tr>\n",
       "    <tr>\n",
       "      <th>7</th>\n",
       "      <td>1</td>\n",
       "      <td>b</td>\n",
       "      <td>a</td>\n",
       "      <td>$q r^{2}$</td>\n",
       "    </tr>\n",
       "    <tr>\n",
       "      <th>8</th>\n",
       "      <td>1</td>\n",
       "      <td>a</td>\n",
       "      <td>c</td>\n",
       "      <td>$0$</td>\n",
       "    </tr>\n",
       "    <tr>\n",
       "      <th>9</th>\n",
       "      <td>1</td>\n",
       "      <td>b</td>\n",
       "      <td>c</td>\n",
       "      <td>$q r s$</td>\n",
       "    </tr>\n",
       "  </tbody>\n",
       "</table>\n",
       "</div>"
      ],
      "text/plain": [
       "   pw start dest prov_mono_\n",
       "0   1     a    a        $0$\n",
       "1   1     b    a        $0$\n",
       "2   1     a    a        $0$\n",
       "3   1     a    b        $0$\n",
       "4   1     b    b        $0$\n",
       "5   1     a    b  $q^{2} r$\n",
       "6   1     a    a        $0$\n",
       "7   1     b    a  $q r^{2}$\n",
       "8   1     a    c        $0$\n",
       "9   1     b    c    $q r s$"
      ]
     },
     "execution_count": 26,
     "metadata": {},
     "output_type": "execute_result"
    }
   ],
   "source": [
    "thop_prov_Db = deepcopy(thop_prov_D)\n",
    "substitutions = {'p':0}\n",
    "\n",
    "thop_prov_Db['pw_rel_dfs'][rel]['prov_mono'] \\\n",
    "= thop_prov_Db['pw_rel_dfs'][rel].apply(lambda row: row['prov_mono'].subs(substitutions).evalf(), axis=1)\n",
    "\n",
    "thop_prov_Db['pw_rel_dfs'][rel]['prov_mono_'] \\\n",
    "= thop_prov_Db['pw_rel_dfs'][rel].apply(lambda row: '${}$'.format(sympy.latex(row['prov_mono'])), axis=1)\n",
    "\n",
    "thop_prov_Db['pw_rel_dfs'][rel][['pw', 'start', 'dest', 'prov_mono_']]"
   ]
  },
  {
   "cell_type": "markdown",
   "metadata": {},
   "source": [
    "And removing the 0 monomials:"
   ]
  },
  {
   "cell_type": "code",
   "execution_count": 27,
   "metadata": {},
   "outputs": [
    {
     "data": {
      "text/html": [
       "<div>\n",
       "<style scoped>\n",
       "    .dataframe tbody tr th:only-of-type {\n",
       "        vertical-align: middle;\n",
       "    }\n",
       "\n",
       "    .dataframe tbody tr th {\n",
       "        vertical-align: top;\n",
       "    }\n",
       "\n",
       "    .dataframe thead th {\n",
       "        text-align: right;\n",
       "    }\n",
       "</style>\n",
       "<table border=\"1\" class=\"dataframe\">\n",
       "  <thead>\n",
       "    <tr style=\"text-align: right;\">\n",
       "      <th></th>\n",
       "      <th>pw</th>\n",
       "      <th>start</th>\n",
       "      <th>dest</th>\n",
       "      <th>prov_mono_</th>\n",
       "    </tr>\n",
       "  </thead>\n",
       "  <tbody>\n",
       "    <tr>\n",
       "      <th>5</th>\n",
       "      <td>1</td>\n",
       "      <td>a</td>\n",
       "      <td>b</td>\n",
       "      <td>$q^{2} r$</td>\n",
       "    </tr>\n",
       "    <tr>\n",
       "      <th>7</th>\n",
       "      <td>1</td>\n",
       "      <td>b</td>\n",
       "      <td>a</td>\n",
       "      <td>$q r^{2}$</td>\n",
       "    </tr>\n",
       "    <tr>\n",
       "      <th>9</th>\n",
       "      <td>1</td>\n",
       "      <td>b</td>\n",
       "      <td>c</td>\n",
       "      <td>$q r s$</td>\n",
       "    </tr>\n",
       "  </tbody>\n",
       "</table>\n",
       "</div>"
      ],
      "text/plain": [
       "   pw start dest prov_mono_\n",
       "5   1     a    b  $q^{2} r$\n",
       "7   1     b    a  $q r^{2}$\n",
       "9   1     b    c    $q r s$"
      ]
     },
     "execution_count": 27,
     "metadata": {},
     "output_type": "execute_result"
    }
   ],
   "source": [
    "drop_cond = thop_prov_Db['pw_rel_dfs'][rel].prov_mono == 0\n",
    "thop_prov_Db['pw_rel_dfs'][rel].drop(thop_prov_Db['pw_rel_dfs'][rel][drop_cond].index, axis=0, inplace=True)\n",
    "thop_prov_Db['pw_rel_dfs'][rel][['pw', 'start', 'dest', 'prov_mono_']]"
   ]
  },
  {
   "cell_type": "markdown",
   "metadata": {},
   "source": [
    "As we can see, we get the results, along with the correct provenance information, without re-running the query or any other Datalog operation.\n",
    "\n",
    "Like before, we can compute the provenance polynomials by grouping by the variables in the head (start, dest) and aggregating the provenance monomials by adding them:"
   ]
  },
  {
   "cell_type": "code",
   "execution_count": 28,
   "metadata": {},
   "outputs": [
    {
     "data": {
      "text/html": [
       "<div>\n",
       "<style scoped>\n",
       "    .dataframe tbody tr th:only-of-type {\n",
       "        vertical-align: middle;\n",
       "    }\n",
       "\n",
       "    .dataframe tbody tr th {\n",
       "        vertical-align: top;\n",
       "    }\n",
       "\n",
       "    .dataframe thead th {\n",
       "        text-align: right;\n",
       "    }\n",
       "</style>\n",
       "<table border=\"1\" class=\"dataframe\">\n",
       "  <thead>\n",
       "    <tr style=\"text-align: right;\">\n",
       "      <th></th>\n",
       "      <th></th>\n",
       "      <th>prov_poly</th>\n",
       "    </tr>\n",
       "    <tr>\n",
       "      <th>start</th>\n",
       "      <th>dest</th>\n",
       "      <th></th>\n",
       "    </tr>\n",
       "  </thead>\n",
       "  <tbody>\n",
       "    <tr>\n",
       "      <th>a</th>\n",
       "      <th>b</th>\n",
       "      <td>$q^{2} r$</td>\n",
       "    </tr>\n",
       "    <tr>\n",
       "      <th rowspan=\"2\" valign=\"top\">b</th>\n",
       "      <th>a</th>\n",
       "      <td>$q r^{2}$</td>\n",
       "    </tr>\n",
       "    <tr>\n",
       "      <th>c</th>\n",
       "      <td>$q r s$</td>\n",
       "    </tr>\n",
       "  </tbody>\n",
       "</table>\n",
       "</div>"
      ],
      "text/plain": [
       "            prov_poly\n",
       "start dest           \n",
       "a     b     $q^{2} r$\n",
       "b     a     $q r^{2}$\n",
       "      c       $q r s$"
      ]
     },
     "execution_count": 28,
     "metadata": {},
     "output_type": "execute_result"
    }
   ],
   "source": [
    "thop_prov_Db['pw_rel_dfs'][rel].groupby(['start', 'dest']).agg(prov_poly=('prov_mono', \n",
    "                                                          lambda x: '$'+sympy.latex(sum(x))+'$'))"
   ]
  },
  {
   "cell_type": "markdown",
   "metadata": {},
   "source": [
    "#### Provenance Polynomials have other interestings uses as well"
   ]
  },
  {
   "cell_type": "markdown",
   "metadata": {},
   "source": [
    "For instance, say each hop had a corresponding 'work' value, i.e. amount of work required to make the hop.\n",
    "Then, one might be interested in finding the most/minimum amount of work required for each 3hop/2 (start-dest pair). This can be done using __tropical semirings__ i.e. we treat multiplication as addition and addition as the max/min operator."
   ]
  },
  {
   "cell_type": "code",
   "execution_count": 29,
   "metadata": {},
   "outputs": [],
   "source": [
    "%%clingo --donot-display_input -lci hop_db_a_work --donot-run\n",
    "\n",
    "% schema hop_work(hop_name, work)\n",
    "hop_work(p, 0).\n",
    "hop_work(q, 5).\n",
    "hop_work(r, 10).\n",
    "hop_work(s, 15)."
   ]
  },
  {
   "cell_type": "markdown",
   "metadata": {},
   "source": [
    "One way to compute the desired 3hops would be to re-run the entire operation with a Datalog program like the one below:\n",
    "\n",
    "(say for the min operation)"
   ]
  },
  {
   "cell_type": "code",
   "execution_count": 30,
   "metadata": {},
   "outputs": [
    {
     "name": "stdout",
     "output_type": "stream",
     "text": [
      "Output:\n"
     ]
    },
    {
     "data": {
      "text/html": [
       "\n",
       "        <style>\n",
       "        .highlight .hll { background-color: #ffffcc }\n",
       ".highlight  { background: #f8f8f8; }\n",
       ".highlight .c { color: #408080; font-style: italic } /* Comment */\n",
       ".highlight .err { border: 1px solid #FF0000 } /* Error */\n",
       ".highlight .k { color: #008000; font-weight: bold } /* Keyword */\n",
       ".highlight .o { color: #666666 } /* Operator */\n",
       ".highlight .ch { color: #408080; font-style: italic } /* Comment.Hashbang */\n",
       ".highlight .cm { color: #408080; font-style: italic } /* Comment.Multiline */\n",
       ".highlight .cp { color: #BC7A00 } /* Comment.Preproc */\n",
       ".highlight .cpf { color: #408080; font-style: italic } /* Comment.PreprocFile */\n",
       ".highlight .c1 { color: #408080; font-style: italic } /* Comment.Single */\n",
       ".highlight .cs { color: #408080; font-style: italic } /* Comment.Special */\n",
       ".highlight .gd { color: #A00000 } /* Generic.Deleted */\n",
       ".highlight .ge { font-style: italic } /* Generic.Emph */\n",
       ".highlight .gr { color: #FF0000 } /* Generic.Error */\n",
       ".highlight .gh { color: #000080; font-weight: bold } /* Generic.Heading */\n",
       ".highlight .gi { color: #00A000 } /* Generic.Inserted */\n",
       ".highlight .go { color: #888888 } /* Generic.Output */\n",
       ".highlight .gp { color: #000080; font-weight: bold } /* Generic.Prompt */\n",
       ".highlight .gs { font-weight: bold } /* Generic.Strong */\n",
       ".highlight .gu { color: #800080; font-weight: bold } /* Generic.Subheading */\n",
       ".highlight .gt { color: #0044DD } /* Generic.Traceback */\n",
       ".highlight .kc { color: #008000; font-weight: bold } /* Keyword.Constant */\n",
       ".highlight .kd { color: #008000; font-weight: bold } /* Keyword.Declaration */\n",
       ".highlight .kn { color: #008000; font-weight: bold } /* Keyword.Namespace */\n",
       ".highlight .kp { color: #008000 } /* Keyword.Pseudo */\n",
       ".highlight .kr { color: #008000; font-weight: bold } /* Keyword.Reserved */\n",
       ".highlight .kt { color: #B00040 } /* Keyword.Type */\n",
       ".highlight .m { color: #666666 } /* Literal.Number */\n",
       ".highlight .s { color: #BA2121 } /* Literal.String */\n",
       ".highlight .na { color: #7D9029 } /* Name.Attribute */\n",
       ".highlight .nb { color: #008000 } /* Name.Builtin */\n",
       ".highlight .nc { color: #0000FF; font-weight: bold } /* Name.Class */\n",
       ".highlight .no { color: #880000 } /* Name.Constant */\n",
       ".highlight .nd { color: #AA22FF } /* Name.Decorator */\n",
       ".highlight .ni { color: #999999; font-weight: bold } /* Name.Entity */\n",
       ".highlight .ne { color: #D2413A; font-weight: bold } /* Name.Exception */\n",
       ".highlight .nf { color: #0000FF } /* Name.Function */\n",
       ".highlight .nl { color: #A0A000 } /* Name.Label */\n",
       ".highlight .nn { color: #0000FF; font-weight: bold } /* Name.Namespace */\n",
       ".highlight .nt { color: #008000; font-weight: bold } /* Name.Tag */\n",
       ".highlight .nv { color: #19177C } /* Name.Variable */\n",
       ".highlight .ow { color: #AA22FF; font-weight: bold } /* Operator.Word */\n",
       ".highlight .w { color: #bbbbbb } /* Text.Whitespace */\n",
       ".highlight .mb { color: #666666 } /* Literal.Number.Bin */\n",
       ".highlight .mf { color: #666666 } /* Literal.Number.Float */\n",
       ".highlight .mh { color: #666666 } /* Literal.Number.Hex */\n",
       ".highlight .mi { color: #666666 } /* Literal.Number.Integer */\n",
       ".highlight .mo { color: #666666 } /* Literal.Number.Oct */\n",
       ".highlight .sa { color: #BA2121 } /* Literal.String.Affix */\n",
       ".highlight .sb { color: #BA2121 } /* Literal.String.Backtick */\n",
       ".highlight .sc { color: #BA2121 } /* Literal.String.Char */\n",
       ".highlight .dl { color: #BA2121 } /* Literal.String.Delimiter */\n",
       ".highlight .sd { color: #BA2121; font-style: italic } /* Literal.String.Doc */\n",
       ".highlight .s2 { color: #BA2121 } /* Literal.String.Double */\n",
       ".highlight .se { color: #BB6622; font-weight: bold } /* Literal.String.Escape */\n",
       ".highlight .sh { color: #BA2121 } /* Literal.String.Heredoc */\n",
       ".highlight .si { color: #BB6688; font-weight: bold } /* Literal.String.Interpol */\n",
       ".highlight .sx { color: #008000 } /* Literal.String.Other */\n",
       ".highlight .sr { color: #BB6688 } /* Literal.String.Regex */\n",
       ".highlight .s1 { color: #BA2121 } /* Literal.String.Single */\n",
       ".highlight .ss { color: #19177C } /* Literal.String.Symbol */\n",
       ".highlight .bp { color: #008000 } /* Name.Builtin.Pseudo */\n",
       ".highlight .fm { color: #0000FF } /* Name.Function.Magic */\n",
       ".highlight .vc { color: #19177C } /* Name.Variable.Class */\n",
       ".highlight .vg { color: #19177C } /* Name.Variable.Global */\n",
       ".highlight .vi { color: #19177C } /* Name.Variable.Instance */\n",
       ".highlight .vm { color: #19177C } /* Name.Variable.Magic */\n",
       ".highlight .il { color: #666666 } /* Literal.Number.Integer.Long */\n",
       "        </style>\n",
       "        "
      ],
      "text/plain": [
       "<IPython.core.display.HTML object>"
      ]
     },
     "metadata": {},
     "output_type": "display_data"
    },
    {
     "data": {
      "text/html": [
       "<div class=\"highlight\"><pre><span></span><span class=\"lineno\">1 </span><span class=\"nv\">Answer</span><span class=\"s s-Atom\">:</span> <span class=\"mi\">1</span>\n",
       "<span class=\"lineno\">2 </span><span class=\"nf\">thop_opt</span><span class=\"p\">(</span><span class=\"s s-Atom\">a</span><span class=\"p\">,</span><span class=\"s s-Atom\">a</span><span class=\"p\">,</span><span class=\"mi\">0</span><span class=\"p\">)</span> <span class=\"nf\">thop_opt</span><span class=\"p\">(</span><span class=\"s s-Atom\">a</span><span class=\"p\">,</span><span class=\"s s-Atom\">b</span><span class=\"p\">,</span><span class=\"mi\">5</span><span class=\"p\">)</span> <span class=\"nf\">thop_opt</span><span class=\"p\">(</span><span class=\"s s-Atom\">a</span><span class=\"p\">,</span><span class=\"s s-Atom\">c</span><span class=\"p\">,</span><span class=\"mi\">20</span><span class=\"p\">)</span> <span class=\"nf\">thop_opt</span><span class=\"p\">(</span><span class=\"s s-Atom\">b</span><span class=\"p\">,</span><span class=\"s s-Atom\">a</span><span class=\"p\">,</span><span class=\"mi\">10</span><span class=\"p\">)</span> <span class=\"nf\">thop_opt</span><span class=\"p\">(</span><span class=\"s s-Atom\">b</span><span class=\"p\">,</span><span class=\"s s-Atom\">b</span><span class=\"p\">,</span><span class=\"mi\">15</span><span class=\"p\">)</span> <span class=\"nf\">thop_opt</span><span class=\"p\">(</span><span class=\"s s-Atom\">b</span><span class=\"p\">,</span><span class=\"s s-Atom\">c</span><span class=\"p\">,</span><span class=\"mi\">30</span><span class=\"p\">)</span>\n",
       "<span class=\"lineno\">3 </span><span class=\"nv\">SATISFIABLE</span>\n",
       "<span class=\"lineno\">4 </span>\n",
       "<span class=\"lineno\">5 </span><span class=\"nv\">Models</span>       <span class=\"s s-Atom\">:</span> <span class=\"mi\">1</span>\n",
       "<span class=\"lineno\">6 </span><span class=\"nv\">Calls</span>        <span class=\"s s-Atom\">:</span> <span class=\"mi\">1</span>\n",
       "<span class=\"lineno\">7 </span><span class=\"nv\">Time</span>         <span class=\"s s-Atom\">:</span> <span class=\"mf\">0.002</span><span class=\"nf\">s</span> <span class=\"p\">(</span><span class=\"nv\">Solving</span><span class=\"s s-Atom\">:</span> <span class=\"mf\">0.00</span><span class=\"s s-Atom\">s</span> <span class=\"mi\">1</span><span class=\"s s-Atom\">st</span> <span class=\"nv\">Model</span><span class=\"s s-Atom\">:</span> <span class=\"mf\">0.00</span><span class=\"s s-Atom\">s</span> <span class=\"nv\">Unsat</span><span class=\"s s-Atom\">:</span> <span class=\"mf\">0.00</span><span class=\"s s-Atom\">s</span><span class=\"p\">)</span>\n",
       "<span class=\"lineno\">8 </span><span class=\"nv\">CPU</span> <span class=\"nv\">Time</span>     <span class=\"s s-Atom\">:</span> <span class=\"mf\">0.002</span><span class=\"s s-Atom\">s</span>\n",
       "</pre></div>\n"
      ],
      "text/plain": [
       "'Answer: 1\\nthop_opt(a,a,0) thop_opt(a,b,5) thop_opt(a,c,20) thop_opt(b,a,10) thop_opt(b,b,15) thop_opt(b,c,30)\\nSATISFIABLE\\n\\nModels       : 1\\nCalls        : 1\\nTime         : 0.002s (Solving: 0.00s 1st Model: 0.00s Unsat: 0.00s)\\nCPU Time     : 0.002s'"
      ]
     },
     "metadata": {},
     "output_type": "display_data"
    }
   ],
   "source": [
    "%%clingo --donot-display_input -l hop_db_a hop_db_a_work\n",
    "\n",
    "thop(X,Y, WORK) :- hop(X,Z1,P1), hop(Z1,Z2,P2), hop(Z2,Y,P3), \n",
    "    hop_work(P1,WP1), hop_work(P2,WP2), hop_work(P3,WP3), WORK=WP1+WP2+WP3.\n",
    "\n",
    "thop_opt(X,Y, WORK) :- #min{W: thop(X,Y, W)} = WORK, thop(X,Y,_).\n",
    "\n",
    "#show thop_opt/3."
   ]
  },
  {
   "cell_type": "markdown",
   "metadata": {},
   "source": [
    "Note that since we do not have any provenance information, we, for example, know that there exists a sequence of 3 hops that takes 0 work to get from a to a, but we don't know which of the 3 (we know from earlier that there are 3 ways to go from a to a in 3 hops) 3hop(a,a) sequences achieves this."
   ]
  },
  {
   "cell_type": "markdown",
   "metadata": {},
   "source": [
    "Or, using the provenance information from earlier, we can do the following:"
   ]
  },
  {
   "cell_type": "code",
   "execution_count": 31,
   "metadata": {},
   "outputs": [
    {
     "name": "stdout",
     "output_type": "stream",
     "text": [
      "Output:\n"
     ]
    },
    {
     "data": {
      "text/html": [
       "\n",
       "        <style>\n",
       "        .highlight .hll { background-color: #ffffcc }\n",
       ".highlight  { background: #f8f8f8; }\n",
       ".highlight .c { color: #408080; font-style: italic } /* Comment */\n",
       ".highlight .err { border: 1px solid #FF0000 } /* Error */\n",
       ".highlight .k { color: #008000; font-weight: bold } /* Keyword */\n",
       ".highlight .o { color: #666666 } /* Operator */\n",
       ".highlight .ch { color: #408080; font-style: italic } /* Comment.Hashbang */\n",
       ".highlight .cm { color: #408080; font-style: italic } /* Comment.Multiline */\n",
       ".highlight .cp { color: #BC7A00 } /* Comment.Preproc */\n",
       ".highlight .cpf { color: #408080; font-style: italic } /* Comment.PreprocFile */\n",
       ".highlight .c1 { color: #408080; font-style: italic } /* Comment.Single */\n",
       ".highlight .cs { color: #408080; font-style: italic } /* Comment.Special */\n",
       ".highlight .gd { color: #A00000 } /* Generic.Deleted */\n",
       ".highlight .ge { font-style: italic } /* Generic.Emph */\n",
       ".highlight .gr { color: #FF0000 } /* Generic.Error */\n",
       ".highlight .gh { color: #000080; font-weight: bold } /* Generic.Heading */\n",
       ".highlight .gi { color: #00A000 } /* Generic.Inserted */\n",
       ".highlight .go { color: #888888 } /* Generic.Output */\n",
       ".highlight .gp { color: #000080; font-weight: bold } /* Generic.Prompt */\n",
       ".highlight .gs { font-weight: bold } /* Generic.Strong */\n",
       ".highlight .gu { color: #800080; font-weight: bold } /* Generic.Subheading */\n",
       ".highlight .gt { color: #0044DD } /* Generic.Traceback */\n",
       ".highlight .kc { color: #008000; font-weight: bold } /* Keyword.Constant */\n",
       ".highlight .kd { color: #008000; font-weight: bold } /* Keyword.Declaration */\n",
       ".highlight .kn { color: #008000; font-weight: bold } /* Keyword.Namespace */\n",
       ".highlight .kp { color: #008000 } /* Keyword.Pseudo */\n",
       ".highlight .kr { color: #008000; font-weight: bold } /* Keyword.Reserved */\n",
       ".highlight .kt { color: #B00040 } /* Keyword.Type */\n",
       ".highlight .m { color: #666666 } /* Literal.Number */\n",
       ".highlight .s { color: #BA2121 } /* Literal.String */\n",
       ".highlight .na { color: #7D9029 } /* Name.Attribute */\n",
       ".highlight .nb { color: #008000 } /* Name.Builtin */\n",
       ".highlight .nc { color: #0000FF; font-weight: bold } /* Name.Class */\n",
       ".highlight .no { color: #880000 } /* Name.Constant */\n",
       ".highlight .nd { color: #AA22FF } /* Name.Decorator */\n",
       ".highlight .ni { color: #999999; font-weight: bold } /* Name.Entity */\n",
       ".highlight .ne { color: #D2413A; font-weight: bold } /* Name.Exception */\n",
       ".highlight .nf { color: #0000FF } /* Name.Function */\n",
       ".highlight .nl { color: #A0A000 } /* Name.Label */\n",
       ".highlight .nn { color: #0000FF; font-weight: bold } /* Name.Namespace */\n",
       ".highlight .nt { color: #008000; font-weight: bold } /* Name.Tag */\n",
       ".highlight .nv { color: #19177C } /* Name.Variable */\n",
       ".highlight .ow { color: #AA22FF; font-weight: bold } /* Operator.Word */\n",
       ".highlight .w { color: #bbbbbb } /* Text.Whitespace */\n",
       ".highlight .mb { color: #666666 } /* Literal.Number.Bin */\n",
       ".highlight .mf { color: #666666 } /* Literal.Number.Float */\n",
       ".highlight .mh { color: #666666 } /* Literal.Number.Hex */\n",
       ".highlight .mi { color: #666666 } /* Literal.Number.Integer */\n",
       ".highlight .mo { color: #666666 } /* Literal.Number.Oct */\n",
       ".highlight .sa { color: #BA2121 } /* Literal.String.Affix */\n",
       ".highlight .sb { color: #BA2121 } /* Literal.String.Backtick */\n",
       ".highlight .sc { color: #BA2121 } /* Literal.String.Char */\n",
       ".highlight .dl { color: #BA2121 } /* Literal.String.Delimiter */\n",
       ".highlight .sd { color: #BA2121; font-style: italic } /* Literal.String.Doc */\n",
       ".highlight .s2 { color: #BA2121 } /* Literal.String.Double */\n",
       ".highlight .se { color: #BB6622; font-weight: bold } /* Literal.String.Escape */\n",
       ".highlight .sh { color: #BA2121 } /* Literal.String.Heredoc */\n",
       ".highlight .si { color: #BB6688; font-weight: bold } /* Literal.String.Interpol */\n",
       ".highlight .sx { color: #008000 } /* Literal.String.Other */\n",
       ".highlight .sr { color: #BB6688 } /* Literal.String.Regex */\n",
       ".highlight .s1 { color: #BA2121 } /* Literal.String.Single */\n",
       ".highlight .ss { color: #19177C } /* Literal.String.Symbol */\n",
       ".highlight .bp { color: #008000 } /* Name.Builtin.Pseudo */\n",
       ".highlight .fm { color: #0000FF } /* Name.Function.Magic */\n",
       ".highlight .vc { color: #19177C } /* Name.Variable.Class */\n",
       ".highlight .vg { color: #19177C } /* Name.Variable.Global */\n",
       ".highlight .vi { color: #19177C } /* Name.Variable.Instance */\n",
       ".highlight .vm { color: #19177C } /* Name.Variable.Magic */\n",
       ".highlight .il { color: #666666 } /* Literal.Number.Integer.Long */\n",
       "        </style>\n",
       "        "
      ],
      "text/plain": [
       "<IPython.core.display.HTML object>"
      ]
     },
     "metadata": {},
     "output_type": "display_data"
    },
    {
     "data": {
      "text/html": [
       "<div class=\"highlight\"><pre><span></span><span class=\"lineno\">1 </span><span class=\"nv\">Answer</span><span class=\"s s-Atom\">:</span> <span class=\"mi\">1</span>\n",
       "<span class=\"lineno\">2 </span><span class=\"nf\">thop_opt</span><span class=\"p\">(</span><span class=\"s s-Atom\">a</span><span class=\"p\">,</span><span class=\"s s-Atom\">a</span><span class=\"p\">,</span><span class=\"nf\">f</span><span class=\"p\">(</span><span class=\"s s-Atom\">p</span><span class=\"p\">,</span><span class=\"s s-Atom\">p</span><span class=\"p\">,</span><span class=\"s s-Atom\">p</span><span class=\"p\">),</span><span class=\"mi\">0</span><span class=\"p\">)</span> <span class=\"nf\">thop_opt</span><span class=\"p\">(</span><span class=\"s s-Atom\">b</span><span class=\"p\">,</span><span class=\"s s-Atom\">a</span><span class=\"p\">,</span><span class=\"nf\">f</span><span class=\"p\">(</span><span class=\"s s-Atom\">r</span><span class=\"p\">,</span><span class=\"s s-Atom\">p</span><span class=\"p\">,</span><span class=\"s s-Atom\">p</span><span class=\"p\">),</span><span class=\"mi\">10</span><span class=\"p\">)</span> <span class=\"nf\">thop_opt</span><span class=\"p\">(</span><span class=\"s s-Atom\">a</span><span class=\"p\">,</span><span class=\"s s-Atom\">b</span><span class=\"p\">,</span><span class=\"nf\">f</span><span class=\"p\">(</span><span class=\"s s-Atom\">p</span><span class=\"p\">,</span><span class=\"s s-Atom\">p</span><span class=\"p\">,</span><span class=\"s s-Atom\">q</span><span class=\"p\">),</span><span class=\"mi\">5</span><span class=\"p\">)</span> <span class=\"nf\">thop_opt</span><span class=\"p\">(</span><span class=\"s s-Atom\">b</span><span class=\"p\">,</span><span class=\"s s-Atom\">b</span><span class=\"p\">,</span><span class=\"nf\">f</span><span class=\"p\">(</span><span class=\"s s-Atom\">r</span><span class=\"p\">,</span><span class=\"s s-Atom\">p</span><span class=\"p\">,</span><span class=\"s s-Atom\">q</span><span class=\"p\">),</span><span class=\"mi\">15</span><span class=\"p\">)</span> <span class=\"nf\">thop_opt</span><span class=\"p\">(</span><span class=\"s s-Atom\">a</span><span class=\"p\">,</span><span class=\"s s-Atom\">c</span><span class=\"p\">,</span><span class=\"nf\">f</span><span class=\"p\">(</span><span class=\"s s-Atom\">p</span><span class=\"p\">,</span><span class=\"s s-Atom\">q</span><span class=\"p\">,</span><span class=\"s s-Atom\">s</span><span class=\"p\">),</span><span class=\"mi\">20</span><span class=\"p\">)</span> <span class=\"nf\">thop_opt</span><span class=\"p\">(</span><span class=\"s s-Atom\">b</span><span class=\"p\">,</span><span class=\"s s-Atom\">c</span><span class=\"p\">,</span><span class=\"nf\">f</span><span class=\"p\">(</span><span class=\"s s-Atom\">r</span><span class=\"p\">,</span><span class=\"s s-Atom\">q</span><span class=\"p\">,</span><span class=\"s s-Atom\">s</span><span class=\"p\">),</span><span class=\"mi\">30</span><span class=\"p\">)</span>\n",
       "<span class=\"lineno\">3 </span><span class=\"nv\">SATISFIABLE</span>\n",
       "<span class=\"lineno\">4 </span>\n",
       "<span class=\"lineno\">5 </span><span class=\"nv\">Models</span>       <span class=\"s s-Atom\">:</span> <span class=\"mi\">1</span>\n",
       "<span class=\"lineno\">6 </span><span class=\"nv\">Calls</span>        <span class=\"s s-Atom\">:</span> <span class=\"mi\">1</span>\n",
       "<span class=\"lineno\">7 </span><span class=\"nv\">Time</span>         <span class=\"s s-Atom\">:</span> <span class=\"mf\">0.002</span><span class=\"nf\">s</span> <span class=\"p\">(</span><span class=\"nv\">Solving</span><span class=\"s s-Atom\">:</span> <span class=\"mf\">0.00</span><span class=\"s s-Atom\">s</span> <span class=\"mi\">1</span><span class=\"s s-Atom\">st</span> <span class=\"nv\">Model</span><span class=\"s s-Atom\">:</span> <span class=\"mf\">0.00</span><span class=\"s s-Atom\">s</span> <span class=\"nv\">Unsat</span><span class=\"s s-Atom\">:</span> <span class=\"mf\">0.00</span><span class=\"s s-Atom\">s</span><span class=\"p\">)</span>\n",
       "<span class=\"lineno\">8 </span><span class=\"nv\">CPU</span> <span class=\"nv\">Time</span>     <span class=\"s s-Atom\">:</span> <span class=\"mf\">0.002</span><span class=\"s s-Atom\">s</span>\n",
       "</pre></div>\n"
      ],
      "text/plain": [
       "'Answer: 1\\nthop_opt(a,a,f(p,p,p),0) thop_opt(b,a,f(r,p,p),10) thop_opt(a,b,f(p,p,q),5) thop_opt(b,b,f(r,p,q),15) thop_opt(a,c,f(p,q,s),20) thop_opt(b,c,f(r,q,s),30)\\nSATISFIABLE\\n\\nModels       : 1\\nCalls        : 1\\nTime         : 0.002s (Solving: 0.00s 1st Model: 0.00s Unsat: 0.00s)\\nCPU Time     : 0.002s'"
      ]
     },
     "metadata": {},
     "output_type": "display_data"
    }
   ],
   "source": [
    "%%clingo --donot-display_input -l thop_prov_D_facts hop_db_a_work\n",
    "\n",
    "thop(X,Y, f(P1,P2,P3), WORK) :- thop(X,Y, f(P1,P2,P3)), \n",
    "    hop_work(P1,WP1), hop_work(P2,WP2), hop_work(P3,WP3), WORK=WP1+WP2+WP3.\n",
    "\n",
    "thop_opt(X,Y, WORK) :- #min{W: thop(X,Y, _, W)} = WORK, thop(X,Y,_,_).\n",
    "thop_opt(X,Y, PROV, WORK) :- thop_opt(X,Y, WORK), thop(X,Y,PROV,WORK).\n",
    "\n",
    "#show thop_opt/4."
   ]
  },
  {
   "cell_type": "markdown",
   "metadata": {},
   "source": [
    "As we can see, the answers match exactly, and we never had to re-evaluate the original 3hop query on the database. In addition, we know the hops that make up this optimized 3hop.\n",
    "\n",
    "Another way to do this is directly in Python using the provenance monomials as follows:\n",
    "\n",
    "First, we import the work values for the hops into Python and make a Python dictionary to enable substitution into the provenance monomials."
   ]
  },
  {
   "cell_type": "code",
   "execution_count": 32,
   "metadata": {},
   "outputs": [
    {
     "data": {
      "text/plain": [
       "{'p': 0, 'q': 5, 'r': 10, 's': 15}"
      ]
     },
     "execution_count": 32,
     "metadata": {},
     "output_type": "execute_result"
    }
   ],
   "source": [
    "hop_db_a_work_asp_out, hop_db_a_work_md = run_clingo(hop_db_a_work)\n",
    "hop_db_a_work_pw_rel_dfs, _, _ = load_worlds(hop_db_a_work_asp_out, hop_db_a_work_md, silent=True)\n",
    "hop_work_map = {row['hop_name']: int(row['work']) for _, row in hop_db_a_work_pw_rel_dfs['hop_work_2'].iterrows()}\n",
    "hop_work_map"
   ]
  },
  {
   "cell_type": "code",
   "execution_count": 33,
   "metadata": {},
   "outputs": [],
   "source": [
    "def tropical_semiring_mono(row):\n",
    "    provs = sympy.symbols(row['prov'][1:])\n",
    "    expr = reduce(lambda x, y: x+y, provs)\n",
    "    return expr"
   ]
  },
  {
   "cell_type": "markdown",
   "metadata": {},
   "source": [
    "Now, we can build our tropical semiring expressions:"
   ]
  },
  {
   "cell_type": "code",
   "execution_count": 34,
   "metadata": {},
   "outputs": [
    {
     "data": {
      "text/html": [
       "<div>\n",
       "<style scoped>\n",
       "    .dataframe tbody tr th:only-of-type {\n",
       "        vertical-align: middle;\n",
       "    }\n",
       "\n",
       "    .dataframe tbody tr th {\n",
       "        vertical-align: top;\n",
       "    }\n",
       "\n",
       "    .dataframe thead th {\n",
       "        text-align: right;\n",
       "    }\n",
       "</style>\n",
       "<table border=\"1\" class=\"dataframe\">\n",
       "  <thead>\n",
       "    <tr style=\"text-align: right;\">\n",
       "      <th></th>\n",
       "      <th>pw</th>\n",
       "      <th>start</th>\n",
       "      <th>dest</th>\n",
       "      <th>prov</th>\n",
       "      <th>prov_trop_mono_</th>\n",
       "    </tr>\n",
       "  </thead>\n",
       "  <tbody>\n",
       "    <tr>\n",
       "      <th>0</th>\n",
       "      <td>1</td>\n",
       "      <td>a</td>\n",
       "      <td>a</td>\n",
       "      <td>[f, p, p, p]</td>\n",
       "      <td>$3 p$</td>\n",
       "    </tr>\n",
       "    <tr>\n",
       "      <th>1</th>\n",
       "      <td>1</td>\n",
       "      <td>b</td>\n",
       "      <td>a</td>\n",
       "      <td>[f, r, p, p]</td>\n",
       "      <td>$2 p + r$</td>\n",
       "    </tr>\n",
       "    <tr>\n",
       "      <th>2</th>\n",
       "      <td>1</td>\n",
       "      <td>a</td>\n",
       "      <td>a</td>\n",
       "      <td>[f, q, r, p]</td>\n",
       "      <td>$p + q + r$</td>\n",
       "    </tr>\n",
       "    <tr>\n",
       "      <th>3</th>\n",
       "      <td>1</td>\n",
       "      <td>a</td>\n",
       "      <td>b</td>\n",
       "      <td>[f, p, p, q]</td>\n",
       "      <td>$2 p + q$</td>\n",
       "    </tr>\n",
       "    <tr>\n",
       "      <th>4</th>\n",
       "      <td>1</td>\n",
       "      <td>b</td>\n",
       "      <td>b</td>\n",
       "      <td>[f, r, p, q]</td>\n",
       "      <td>$p + q + r$</td>\n",
       "    </tr>\n",
       "    <tr>\n",
       "      <th>5</th>\n",
       "      <td>1</td>\n",
       "      <td>a</td>\n",
       "      <td>b</td>\n",
       "      <td>[f, q, r, q]</td>\n",
       "      <td>$2 q + r$</td>\n",
       "    </tr>\n",
       "    <tr>\n",
       "      <th>6</th>\n",
       "      <td>1</td>\n",
       "      <td>a</td>\n",
       "      <td>a</td>\n",
       "      <td>[f, p, q, r]</td>\n",
       "      <td>$p + q + r$</td>\n",
       "    </tr>\n",
       "    <tr>\n",
       "      <th>7</th>\n",
       "      <td>1</td>\n",
       "      <td>b</td>\n",
       "      <td>a</td>\n",
       "      <td>[f, r, q, r]</td>\n",
       "      <td>$q + 2 r$</td>\n",
       "    </tr>\n",
       "    <tr>\n",
       "      <th>8</th>\n",
       "      <td>1</td>\n",
       "      <td>a</td>\n",
       "      <td>c</td>\n",
       "      <td>[f, p, q, s]</td>\n",
       "      <td>$p + q + s$</td>\n",
       "    </tr>\n",
       "    <tr>\n",
       "      <th>9</th>\n",
       "      <td>1</td>\n",
       "      <td>b</td>\n",
       "      <td>c</td>\n",
       "      <td>[f, r, q, s]</td>\n",
       "      <td>$q + r + s$</td>\n",
       "    </tr>\n",
       "  </tbody>\n",
       "</table>\n",
       "</div>"
      ],
      "text/plain": [
       "   pw start dest          prov prov_trop_mono_\n",
       "0   1     a    a  [f, p, p, p]           $3 p$\n",
       "1   1     b    a  [f, r, p, p]       $2 p + r$\n",
       "2   1     a    a  [f, q, r, p]     $p + q + r$\n",
       "3   1     a    b  [f, p, p, q]       $2 p + q$\n",
       "4   1     b    b  [f, r, p, q]     $p + q + r$\n",
       "5   1     a    b  [f, q, r, q]       $2 q + r$\n",
       "6   1     a    a  [f, p, q, r]     $p + q + r$\n",
       "7   1     b    a  [f, r, q, r]       $q + 2 r$\n",
       "8   1     a    c  [f, p, q, s]     $p + q + s$\n",
       "9   1     b    c  [f, r, q, s]     $q + r + s$"
      ]
     },
     "execution_count": 34,
     "metadata": {},
     "output_type": "execute_result"
    }
   ],
   "source": [
    "thop_opt_prov_D = deepcopy(thop_prov_D)\n",
    "\n",
    "thop_opt_prov_D['pw_rel_dfs'][rel]['prov_trop_mono'] = thop_opt_prov_D['pw_rel_dfs'][rel].apply(tropical_semiring_mono, axis=1)\n",
    "thop_opt_prov_D['pw_rel_dfs'][rel]['prov_trop_mono_'] = thop_opt_prov_D['pw_rel_dfs'][rel].apply(lambda row: '${}$'.format(sympy.latex(row['prov_trop_mono'])), axis=1)\n",
    "thop_opt_prov_D['pw_rel_dfs'][rel][['pw', 'start', 'dest', 'prov', 'prov_trop_mono_']]"
   ]
  },
  {
   "cell_type": "markdown",
   "metadata": {},
   "source": [
    "To get the optimal solutions, we can now aggregate based on the min/max value of the prov_expr_ after grouping by the start-dest pairs:"
   ]
  },
  {
   "cell_type": "code",
   "execution_count": 35,
   "metadata": {},
   "outputs": [
    {
     "data": {
      "text/html": [
       "<style  type=\"text/css\" >\n",
       "    #T_a237b4f4_9be2_11ea_a400_38f9d385664drow0_col0 {\n",
       "            width:  150px;\n",
       "        }    #T_a237b4f4_9be2_11ea_a400_38f9d385664drow0_col1 {\n",
       "            width:  150px;\n",
       "        }    #T_a237b4f4_9be2_11ea_a400_38f9d385664drow1_col0 {\n",
       "            width:  150px;\n",
       "        }    #T_a237b4f4_9be2_11ea_a400_38f9d385664drow1_col1 {\n",
       "            width:  150px;\n",
       "        }    #T_a237b4f4_9be2_11ea_a400_38f9d385664drow2_col0 {\n",
       "            width:  150px;\n",
       "        }    #T_a237b4f4_9be2_11ea_a400_38f9d385664drow2_col1 {\n",
       "            width:  150px;\n",
       "        }    #T_a237b4f4_9be2_11ea_a400_38f9d385664drow3_col0 {\n",
       "            width:  150px;\n",
       "        }    #T_a237b4f4_9be2_11ea_a400_38f9d385664drow3_col1 {\n",
       "            width:  150px;\n",
       "        }    #T_a237b4f4_9be2_11ea_a400_38f9d385664drow4_col0 {\n",
       "            width:  150px;\n",
       "        }    #T_a237b4f4_9be2_11ea_a400_38f9d385664drow4_col1 {\n",
       "            width:  150px;\n",
       "        }    #T_a237b4f4_9be2_11ea_a400_38f9d385664drow5_col0 {\n",
       "            width:  150px;\n",
       "        }    #T_a237b4f4_9be2_11ea_a400_38f9d385664drow5_col1 {\n",
       "            width:  150px;\n",
       "        }</style><table id=\"T_a237b4f4_9be2_11ea_a400_38f9d385664d\" ><thead>    <tr>        <th class=\"blank\" ></th>        <th class=\"blank level0\" ></th>        <th class=\"col_heading level0 col0\" >prov_trop_poly_min</th>        <th class=\"col_heading level0 col1\" >prov_trop_poly_max</th>    </tr>    <tr>        <th class=\"index_name level0\" >start</th>        <th class=\"index_name level1\" >dest</th>        <th class=\"blank\" ></th>        <th class=\"blank\" ></th>    </tr></thead><tbody>\n",
       "                <tr>\n",
       "                        <th id=\"T_a237b4f4_9be2_11ea_a400_38f9d385664dlevel0_row0\" class=\"row_heading level0 row0\" rowspan=3>a</th>\n",
       "                        <th id=\"T_a237b4f4_9be2_11ea_a400_38f9d385664dlevel1_row0\" class=\"row_heading level1 row0\" >a</th>\n",
       "                        <td id=\"T_a237b4f4_9be2_11ea_a400_38f9d385664drow0_col0\" class=\"data row0 col0\" >$\\min\\left(3 p, p + q + r\\right)$</td>\n",
       "                        <td id=\"T_a237b4f4_9be2_11ea_a400_38f9d385664drow0_col1\" class=\"data row0 col1\" >$\\max\\left(3 p, p + q + r\\right)$</td>\n",
       "            </tr>\n",
       "            <tr>\n",
       "                                <th id=\"T_a237b4f4_9be2_11ea_a400_38f9d385664dlevel1_row1\" class=\"row_heading level1 row1\" >b</th>\n",
       "                        <td id=\"T_a237b4f4_9be2_11ea_a400_38f9d385664drow1_col0\" class=\"data row1 col0\" >$\\min\\left(2 p + q, 2 q + r\\right)$</td>\n",
       "                        <td id=\"T_a237b4f4_9be2_11ea_a400_38f9d385664drow1_col1\" class=\"data row1 col1\" >$\\max\\left(2 p + q, 2 q + r\\right)$</td>\n",
       "            </tr>\n",
       "            <tr>\n",
       "                                <th id=\"T_a237b4f4_9be2_11ea_a400_38f9d385664dlevel1_row2\" class=\"row_heading level1 row2\" >c</th>\n",
       "                        <td id=\"T_a237b4f4_9be2_11ea_a400_38f9d385664drow2_col0\" class=\"data row2 col0\" >$p + q + s$</td>\n",
       "                        <td id=\"T_a237b4f4_9be2_11ea_a400_38f9d385664drow2_col1\" class=\"data row2 col1\" >$p + q + s$</td>\n",
       "            </tr>\n",
       "            <tr>\n",
       "                        <th id=\"T_a237b4f4_9be2_11ea_a400_38f9d385664dlevel0_row3\" class=\"row_heading level0 row3\" rowspan=3>b</th>\n",
       "                        <th id=\"T_a237b4f4_9be2_11ea_a400_38f9d385664dlevel1_row3\" class=\"row_heading level1 row3\" >a</th>\n",
       "                        <td id=\"T_a237b4f4_9be2_11ea_a400_38f9d385664drow3_col0\" class=\"data row3 col0\" >$\\min\\left(2 p + r, q + 2 r\\right)$</td>\n",
       "                        <td id=\"T_a237b4f4_9be2_11ea_a400_38f9d385664drow3_col1\" class=\"data row3 col1\" >$\\max\\left(2 p + r, q + 2 r\\right)$</td>\n",
       "            </tr>\n",
       "            <tr>\n",
       "                                <th id=\"T_a237b4f4_9be2_11ea_a400_38f9d385664dlevel1_row4\" class=\"row_heading level1 row4\" >b</th>\n",
       "                        <td id=\"T_a237b4f4_9be2_11ea_a400_38f9d385664drow4_col0\" class=\"data row4 col0\" >$p + q + r$</td>\n",
       "                        <td id=\"T_a237b4f4_9be2_11ea_a400_38f9d385664drow4_col1\" class=\"data row4 col1\" >$p + q + r$</td>\n",
       "            </tr>\n",
       "            <tr>\n",
       "                                <th id=\"T_a237b4f4_9be2_11ea_a400_38f9d385664dlevel1_row5\" class=\"row_heading level1 row5\" >c</th>\n",
       "                        <td id=\"T_a237b4f4_9be2_11ea_a400_38f9d385664drow5_col0\" class=\"data row5 col0\" >$q + r + s$</td>\n",
       "                        <td id=\"T_a237b4f4_9be2_11ea_a400_38f9d385664drow5_col1\" class=\"data row5 col1\" >$q + r + s$</td>\n",
       "            </tr>\n",
       "    </tbody></table>"
      ],
      "text/plain": [
       "<pandas.io.formats.style.Styler at 0x130bfb588>"
      ]
     },
     "execution_count": 35,
     "metadata": {},
     "output_type": "execute_result"
    }
   ],
   "source": [
    "thop_opt_prov_D_trop_poly = thop_opt_prov_D['pw_rel_dfs'][rel].groupby(['start', 'dest']).agg(\n",
    "    prov_trop_poly_min=('prov_trop_mono', lambda x: '$'+sympy.latex(sympy.Min(*x))+'$'),\n",
    "    prov_trop_poly_max=('prov_trop_mono', lambda x: '$'+sympy.latex(sympy.Max(*x))+'$'))\n",
    "\n",
    "thop_opt_prov_D_trop_poly.style.set_properties(subset=['prov_trop_poly_min', 'prov_trop_poly_max'], **{'width': '150px'})"
   ]
  },
  {
   "cell_type": "markdown",
   "metadata": {},
   "source": [
    "Now, we can substitute the work values to get the numerical solution:"
   ]
  },
  {
   "cell_type": "code",
   "execution_count": 36,
   "metadata": {},
   "outputs": [
    {
     "data": {
      "text/html": [
       "<div>\n",
       "<style scoped>\n",
       "    .dataframe tbody tr th:only-of-type {\n",
       "        vertical-align: middle;\n",
       "    }\n",
       "\n",
       "    .dataframe tbody tr th {\n",
       "        vertical-align: top;\n",
       "    }\n",
       "\n",
       "    .dataframe thead th {\n",
       "        text-align: right;\n",
       "    }\n",
       "</style>\n",
       "<table border=\"1\" class=\"dataframe\">\n",
       "  <thead>\n",
       "    <tr style=\"text-align: right;\">\n",
       "      <th></th>\n",
       "      <th>pw</th>\n",
       "      <th>start</th>\n",
       "      <th>dest</th>\n",
       "      <th>prov_trop_mono_</th>\n",
       "    </tr>\n",
       "  </thead>\n",
       "  <tbody>\n",
       "    <tr>\n",
       "      <th>0</th>\n",
       "      <td>1</td>\n",
       "      <td>a</td>\n",
       "      <td>a</td>\n",
       "      <td>$0$</td>\n",
       "    </tr>\n",
       "    <tr>\n",
       "      <th>1</th>\n",
       "      <td>1</td>\n",
       "      <td>b</td>\n",
       "      <td>a</td>\n",
       "      <td>$10.0$</td>\n",
       "    </tr>\n",
       "    <tr>\n",
       "      <th>2</th>\n",
       "      <td>1</td>\n",
       "      <td>a</td>\n",
       "      <td>a</td>\n",
       "      <td>$15.0$</td>\n",
       "    </tr>\n",
       "    <tr>\n",
       "      <th>3</th>\n",
       "      <td>1</td>\n",
       "      <td>a</td>\n",
       "      <td>b</td>\n",
       "      <td>$5.0$</td>\n",
       "    </tr>\n",
       "    <tr>\n",
       "      <th>4</th>\n",
       "      <td>1</td>\n",
       "      <td>b</td>\n",
       "      <td>b</td>\n",
       "      <td>$15.0$</td>\n",
       "    </tr>\n",
       "    <tr>\n",
       "      <th>5</th>\n",
       "      <td>1</td>\n",
       "      <td>a</td>\n",
       "      <td>b</td>\n",
       "      <td>$20.0$</td>\n",
       "    </tr>\n",
       "    <tr>\n",
       "      <th>6</th>\n",
       "      <td>1</td>\n",
       "      <td>a</td>\n",
       "      <td>a</td>\n",
       "      <td>$15.0$</td>\n",
       "    </tr>\n",
       "    <tr>\n",
       "      <th>7</th>\n",
       "      <td>1</td>\n",
       "      <td>b</td>\n",
       "      <td>a</td>\n",
       "      <td>$25.0$</td>\n",
       "    </tr>\n",
       "    <tr>\n",
       "      <th>8</th>\n",
       "      <td>1</td>\n",
       "      <td>a</td>\n",
       "      <td>c</td>\n",
       "      <td>$20.0$</td>\n",
       "    </tr>\n",
       "    <tr>\n",
       "      <th>9</th>\n",
       "      <td>1</td>\n",
       "      <td>b</td>\n",
       "      <td>c</td>\n",
       "      <td>$30.0$</td>\n",
       "    </tr>\n",
       "  </tbody>\n",
       "</table>\n",
       "</div>"
      ],
      "text/plain": [
       "   pw start dest prov_trop_mono_\n",
       "0   1     a    a             $0$\n",
       "1   1     b    a          $10.0$\n",
       "2   1     a    a          $15.0$\n",
       "3   1     a    b           $5.0$\n",
       "4   1     b    b          $15.0$\n",
       "5   1     a    b          $20.0$\n",
       "6   1     a    a          $15.0$\n",
       "7   1     b    a          $25.0$\n",
       "8   1     a    c          $20.0$\n",
       "9   1     b    c          $30.0$"
      ]
     },
     "execution_count": 36,
     "metadata": {},
     "output_type": "execute_result"
    }
   ],
   "source": [
    "thop_opt_prov_D['pw_rel_dfs'][rel]['prov_trop_mono'] \\\n",
    "= thop_opt_prov_D['pw_rel_dfs'][rel].apply(lambda row: row['prov_trop_mono'].subs(hop_work_map).evalf(), axis=1)\n",
    "\n",
    "thop_opt_prov_D['pw_rel_dfs'][rel]['prov_trop_mono_'] \\\n",
    "= thop_opt_prov_D['pw_rel_dfs'][rel].apply(lambda row: '${}$'.format(sympy.latex(row['prov_trop_mono'])), axis=1)\n",
    "\n",
    "thop_opt_prov_D['pw_rel_dfs'][rel][['pw', 'start', 'dest', 'prov_trop_mono_']]"
   ]
  },
  {
   "cell_type": "code",
   "execution_count": 37,
   "metadata": {},
   "outputs": [
    {
     "data": {
      "text/html": [
       "<div>\n",
       "<style scoped>\n",
       "    .dataframe tbody tr th:only-of-type {\n",
       "        vertical-align: middle;\n",
       "    }\n",
       "\n",
       "    .dataframe tbody tr th {\n",
       "        vertical-align: top;\n",
       "    }\n",
       "\n",
       "    .dataframe thead th {\n",
       "        text-align: right;\n",
       "    }\n",
       "</style>\n",
       "<table border=\"1\" class=\"dataframe\">\n",
       "  <thead>\n",
       "    <tr style=\"text-align: right;\">\n",
       "      <th></th>\n",
       "      <th></th>\n",
       "      <th>prov_trop_poly_min</th>\n",
       "      <th>prov_trop_poly_max</th>\n",
       "    </tr>\n",
       "    <tr>\n",
       "      <th>start</th>\n",
       "      <th>dest</th>\n",
       "      <th></th>\n",
       "      <th></th>\n",
       "    </tr>\n",
       "  </thead>\n",
       "  <tbody>\n",
       "    <tr>\n",
       "      <th rowspan=\"3\" valign=\"top\">a</th>\n",
       "      <th>a</th>\n",
       "      <td>$0$</td>\n",
       "      <td>$15.0$</td>\n",
       "    </tr>\n",
       "    <tr>\n",
       "      <th>b</th>\n",
       "      <td>$5.0$</td>\n",
       "      <td>$20.0$</td>\n",
       "    </tr>\n",
       "    <tr>\n",
       "      <th>c</th>\n",
       "      <td>$20.0$</td>\n",
       "      <td>$20.0$</td>\n",
       "    </tr>\n",
       "    <tr>\n",
       "      <th rowspan=\"3\" valign=\"top\">b</th>\n",
       "      <th>a</th>\n",
       "      <td>$10.0$</td>\n",
       "      <td>$25.0$</td>\n",
       "    </tr>\n",
       "    <tr>\n",
       "      <th>b</th>\n",
       "      <td>$15.0$</td>\n",
       "      <td>$15.0$</td>\n",
       "    </tr>\n",
       "    <tr>\n",
       "      <th>c</th>\n",
       "      <td>$30.0$</td>\n",
       "      <td>$30.0$</td>\n",
       "    </tr>\n",
       "  </tbody>\n",
       "</table>\n",
       "</div>"
      ],
      "text/plain": [
       "           prov_trop_poly_min prov_trop_poly_max\n",
       "start dest                                      \n",
       "a     a                   $0$             $15.0$\n",
       "      b                 $5.0$             $20.0$\n",
       "      c                $20.0$             $20.0$\n",
       "b     a                $10.0$             $25.0$\n",
       "      b                $15.0$             $15.0$\n",
       "      c                $30.0$             $30.0$"
      ]
     },
     "execution_count": 37,
     "metadata": {},
     "output_type": "execute_result"
    }
   ],
   "source": [
    "thop_opt_prov_D['pw_rel_dfs'][rel].groupby(['start', 'dest']).agg(prov_trop_poly_min=('prov_trop_mono', \n",
    "                                                          lambda x: '$'+sympy.latex(min(x))+'$'),\n",
    "                                                                 prov_trop_poly_max=('prov_trop_mono', \n",
    "                                                          lambda x: '$'+sympy.latex(max(x))+'$'))"
   ]
  },
  {
   "cell_type": "markdown",
   "metadata": {},
   "source": [
    "As we can see, this matches the earlier solutions exactly, and required no further Datalog computation, just pure mathematical substitution and manipulation."
   ]
  },
  {
   "cell_type": "markdown",
   "metadata": {},
   "source": [
    "One can repeat the demonstrations above with minor modifications for other variants of the 3hop query such as:"
   ]
  },
  {
   "cell_type": "code",
   "execution_count": 38,
   "metadata": {},
   "outputs": [],
   "source": [
    "%%clingo --donot-display_input --donot-run\n",
    "\n",
    "%schema thop(start, prov)\n",
    "thop(X, f(P1,P2,P3)) :- e(X,Z1, P1), e(Z1,Z2, P2), e(Z2,Y, P3).\n",
    "\n",
    "#show thop/2."
   ]
  },
  {
   "cell_type": "code",
   "execution_count": 39,
   "metadata": {},
   "outputs": [],
   "source": [
    "%%clingo --donot-display_input --donot-run\n",
    "\n",
    "%schema thop(dest, prov)\n",
    "thop(Y, f(P1,P2,P3)) :- e(X,Z1, P1), e(Z1,Z2, P2), e(Z2,Y, P3).\n",
    "\n",
    "#show thop/2."
   ]
  },
  {
   "cell_type": "code",
   "execution_count": 40,
   "metadata": {},
   "outputs": [],
   "source": [
    "%%clingo --donot-display_input --donot-run\n",
    "\n",
    "%schema thop(dest, prov)\n",
    "thop(Z1, Z2, f(P1,P2,P3)) :- e(X,Z1, P1), e(Z1,Z2, P2), e(Z2,Y, P3).\n",
    "\n",
    "#show thop/3."
   ]
  },
  {
   "cell_type": "code",
   "execution_count": 41,
   "metadata": {},
   "outputs": [],
   "source": [
    "%%clingo --donot-display_input --donot-run\n",
    "\n",
    "%schema thop(dest, prov)\n",
    "thop(X, Z1, Z2, Y, f(P1,P2,P3)) :- e(X,Z1, P1), e(Z1,Z2, P2), e(Z2,Y, P3).\n",
    "\n",
    "#show thop/5."
   ]
  },
  {
   "cell_type": "markdown",
   "metadata": {},
   "source": [
    "And so on......"
   ]
  },
  {
   "cell_type": "markdown",
   "metadata": {},
   "source": [
    "#### However, provenance polynomials do have some limitations.\n",
    "\n",
    "For instance, since they don't preserve order, one cannot tell, say (p,q,r) from (q,r,p), since they're both reduced to $pqr$."
   ]
  },
  {
   "cell_type": "code",
   "execution_count": null,
   "metadata": {},
   "outputs": [],
   "source": []
  }
 ],
 "metadata": {
  "kernelspec": {
   "display_name": "Python 3",
   "language": "python",
   "name": "python3"
  },
  "language_info": {
   "codemirror_mode": {
    "name": "ipython",
    "version": 3
   },
   "file_extension": ".py",
   "mimetype": "text/x-python",
   "name": "python",
   "nbconvert_exporter": "python",
   "pygments_lexer": "ipython3",
   "version": "3.6.8"
  }
 },
 "nbformat": 4,
 "nbformat_minor": 2
}
