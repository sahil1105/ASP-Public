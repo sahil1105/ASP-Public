{
 "cells": [
  {
   "cell_type": "code",
   "execution_count": 1,
   "metadata": {},
   "outputs": [],
   "source": [
    "from PW_explorer.load_worlds import load_worlds\n",
    "from PW_explorer.run_clingo import run_clingo\n",
    "from PW_explorer.visualize import PWEVisualization\n",
    "from PW_explorer.helper import pw_slicer, rel_slicer, rel_name_remapper\n",
    "from PW_explorer.export import PWEExport\n",
    "import pandas as pd"
   ]
  },
  {
   "cell_type": "code",
   "execution_count": 2,
   "metadata": {},
   "outputs": [],
   "source": [
    "import networkx as nx\n",
    "from nxpd import draw\n",
    "import nxpd\n",
    "from nxpd import nxpdParams\n",
    "nxpdParams['show'] = 'ipynb'"
   ]
  },
  {
   "cell_type": "code",
   "execution_count": 3,
   "metadata": {},
   "outputs": [],
   "source": [
    "from misc import *"
   ]
  },
  {
   "cell_type": "code",
   "execution_count": 4,
   "metadata": {},
   "outputs": [
    {
     "data": {
      "application/javascript": [
       "IPython.CodeCell.options_default.highlight_modes['prolog'] = {'reg':[/^%%(clingo|dlv)/]};"
      ]
     },
     "metadata": {},
     "output_type": "display_data"
    }
   ],
   "source": [
    "%load_ext PWE_NB_Extension"
   ]
  },
  {
   "cell_type": "code",
   "execution_count": 5,
   "metadata": {},
   "outputs": [],
   "source": [
    "%%clingo --donot-display_input -lci qep_eq_check2 --donot-run\n",
    "\n",
    "% e(X,Y) :- e(Y,X). --> only if undirected\n",
    "gnode1(X) :- e1(X,_).\n",
    "gnode1(X) :- e1(_,X).\n",
    "gnode1(X) :- ne1(X,_).\n",
    "gnode1(X) :- ne1(_,X).\n",
    "\n",
    "gnode2(X) :- e2(X,_).\n",
    "gnode2(X) :- e2(_,X).\n",
    "gnode2(X) :- ne2(X,_).\n",
    "gnode2(X) :- ne2(_,X).\n",
    "\n",
    "vmap(X,Y) ; not vmap(X,Y) :- gnode1(X), gnode2(Y).\n",
    ":- vmap(X1,Y1), vmap(X2,Y2), e1(X1,X2), not e2(Y1,Y2).\n",
    ":- vmap(X1,Y1), vmap(X2,Y2), not e1(X1,X2), e2(Y1,Y2).\n",
    ":- vmap(X1,Y1), vmap(X2,Y2), ne1(X1,X2), not ne2(Y1,Y2).\n",
    ":- vmap(X1,Y1), vmap(X2,Y2), not ne1(X1,X2), ne2(Y1,Y2).\n",
    "\n",
    "% 3hop Query\n",
    "\n",
    ":- vmap(X1,Y1), vmap(X2,Y2), vmap(X3,Y3), vmap(X4,Y4), thop1(X1,X2,X3,X4), not thop2(Y1,Y2,Y3,Y4).\n",
    ":- vmap(X1,Y1), vmap(X2,Y2), vmap(X3,Y3), vmap(X4,Y4), not thop1(X1,X2,X3,X4), thop2(Y1,Y2,Y3,Y4).\n",
    "\n",
    ":- vmap(X1,Y1), vmap(X2,Y2), vmap(X3,Y3), thop1(X1,X2,X3), not thop2(Y1,Y2,Y3).\n",
    ":- vmap(X1,Y1), vmap(X2,Y2), vmap(X3,Y3), not thop1(X1,X2,X3), thop2(Y1,Y2,Y3).\n",
    "\n",
    ":- vmap(X1,Y1), vmap(X2,Y2), thop1(X1,X2), not thop2(Y1,Y2).\n",
    ":- vmap(X1,Y1), vmap(X2,Y2), not thop1(X1,X2), thop2(Y1,Y2).\n",
    "\n",
    ":- vmap(X1,Y1), thop1(X1), not thop2(Y1).\n",
    ":- vmap(X1,Y1), not thop1(X1), thop2(Y1).\n",
    "\n",
    ":- vmap(X1,Y1), vmap(X2,Y2), vmap(X3,Y3), vmap(X4,Y4), nthop1(X1,X2,X3,X4), not nthop2(Y1,Y2,Y3,Y4).\n",
    ":- vmap(X1,Y1), vmap(X2,Y2), vmap(X3,Y3), vmap(X4,Y4), not nthop1(X1,X2,X3,X4), nthop2(Y1,Y2,Y3,Y4).\n",
    "\n",
    ":- vmap(X1,Y1), vmap(X2,Y2), vmap(X3,Y3), nthop1(X1,X2,X3), not nthop2(Y1,Y2,Y3).\n",
    ":- vmap(X1,Y1), vmap(X2,Y2), vmap(X3,Y3), not nthop1(X1,X2,X3), nthop2(Y1,Y2,Y3).\n",
    "\n",
    ":- vmap(X1,Y1), vmap(X2,Y2), nthop1(X1,X2), not nthop2(Y1,Y2).\n",
    ":- vmap(X1,Y1), vmap(X2,Y2), not nthop1(X1,X2), nthop2(Y1,Y2).\n",
    "\n",
    ":- vmap(X1,Y1), nthop1(X1), not nthop2(Y1).\n",
    ":- vmap(X1,Y1), not nthop1(X1), nthop2(Y1).\n",
    "\n",
    "\n",
    "% Triangle Query\n",
    "\n",
    ":- vmap(X1,Y1), vmap(X2,Y2), vmap(X3,Y3), tri1(X1,X2,X3), not tri2(Y1,Y2,Y3).\n",
    ":- vmap(X1,Y1), vmap(X2,Y2), vmap(X3,Y3), not tri1(X1,X2,X3), tri2(Y1,Y2,Y3).\n",
    "\n",
    ":- vmap(X1,Y1), vmap(X2,Y2), tri1(X1,X2), not tri2(Y1,Y2).\n",
    ":- vmap(X1,Y1), vmap(X2,Y2), not tri1(X1,X2), tri2(Y1,Y2).\n",
    "\n",
    ":- vmap(X1,Y1), tri1(X1), not tri2(Y1).\n",
    ":- vmap(X1,Y1), not tri1(X1), tri2(Y1).\n",
    "\n",
    ":- vmap(X1,Y1), vmap(X2,Y2), vmap(X3,Y3), ntri1(X1,X2,X3), not ntri2(Y1,Y2,Y3).\n",
    ":- vmap(X1,Y1), vmap(X2,Y2), vmap(X3,Y3), not ntri1(X1,X2,X3), ntri2(Y1,Y2,Y3).\n",
    "\n",
    ":- vmap(X1,Y1), vmap(X2,Y2), ntri1(X1,X2), not ntri2(Y1,Y2).\n",
    ":- vmap(X1,Y1), vmap(X2,Y2), not ntri1(X1,X2), ntri2(Y1,Y2).\n",
    "\n",
    ":- vmap(X1,Y1), ntri1(X1), not ntri2(Y1).\n",
    ":- vmap(X1,Y1), not ntri1(X1), ntri2(Y1).\n",
    "\n",
    "\n",
    "\n",
    "% used1(X) :- vmap(X,_).\n",
    "% :- gnode(X), not used1(X).\n",
    "% :- vmap(X,Y),vmap(X,Z),Y!=Z.\n",
    "% :- vmap(Y,X),vmap(Z,X),Y!=Z.\n",
    "\n",
    ":- gnode1(X), #count {Y: vmap(X,Y)} != 1.\n",
    ":- gnode2(Y), #count {X: vmap(X,Y)} != 1.\n",
    "\n",
    "#show.\n",
    "% #show vmap/2."
   ]
  },
  {
   "cell_type": "code",
   "execution_count": 6,
   "metadata": {},
   "outputs": [],
   "source": [
    "def are_equivalent_patterns(pw1, pw2, eq_check_encoding=qep_eq_check2):\n",
    "    \n",
    "    def get_edge_facts(pw, edge_rel_idx):\n",
    "        pw_objs = [pw]\n",
    "        _,_,pw_objs = rel_slicer(None, None, pw_objs, rels_to_use=['e_2', 'ne_2'])\n",
    "        _, pw_objs, _ = rel_name_remapper(None, pw_objs, None, rel_name_map={'e_2': 'e{}_2'.format(str(edge_rel_idx)),\n",
    "                                                                             'ne_2': 'ne{}_2'.format(str(edge_rel_idx))})\n",
    "        return PWEExport.export_as_asp_facts(pw_objs, include_pw_ids=False)\n",
    "    \n",
    "    pw1_edge_facts = get_edge_facts(pw1, 1)\n",
    "    pw2_edge_facts = get_edge_facts(pw2, 2)\n",
    "    pw1_head_facts = get_query_head_facts(pw1, idx=1)\n",
    "    pw2_head_facts = get_query_head_facts(pw2, idx=2)\n",
    "    # print(pw1_edge_facts, pw2_edge_facts)\n",
    "    asp_out, _ = run_clingo(eq_check_encoding.split('\\n')+pw1_edge_facts+pw2_edge_facts+pw1_head_facts+pw2_head_facts, num_solutions=1)\n",
    "    # print(asp_out)\n",
    "    _,_,eq_check_pws = load_worlds(asp_out, silent=True)\n",
    "    \n",
    "    return len(eq_check_pws) >= 1"
   ]
  },
  {
   "cell_type": "code",
   "execution_count": null,
   "metadata": {},
   "outputs": [],
   "source": []
  },
  {
   "cell_type": "code",
   "execution_count": 7,
   "metadata": {},
   "outputs": [],
   "source": [
    "%%clingo --donot-display_input -lci query_analysis_starter --donot-run\n",
    "\n",
    "% TO ADD\n",
    "% schema var(VAR, DOMAIN).\n",
    "% schema ruleOcc(ATOM, OCC).\n",
    "% schema ruleH(HEAD).\n",
    "% schema arc(VAR, POS, ATOM, OCC).\n",
    "% schema hArc(VAR, POS, HEAD).\n",
    "\n",
    "\n",
    "% schema ruleOccTrue(ATOM, OCC)\n",
    "ruleOccTrue(R, OC) ; not ruleOccTrue(R, OC) :- ruleOcc(R, OC).\n",
    "\n",
    "% schema ruleHTrue(HEAD)\n",
    "ruleHFalse(H) :- ruleH(H), ruleOcc(R, OCC), not ruleOccTrue(R,OCC).\n",
    "ruleHTrue(H)  :- ruleH(H), not ruleHFalse(H).\n",
    "\n",
    "% schema eq(VAR1, VAR2, DOMAIN)\n",
    "eq(A,B,TYPE) ; not eq(A,B,TYPE) :- var(A, TYPE), var(B, TYPE), A!=B.\n",
    "eq(A,B,TYPE) :- eq(B,A,TYPE).\n",
    "eq(A,B,TYPE) :- eq(A,C,TYPE), eq(C,B,TYPE), A!=B, B!=C, A!=C.\n",
    "\n",
    "% schema eqOrd(VAR1, VAR2, DOMAIN)\n",
    "eqOrd(A,B,TYPE) :- eq(A,B,TYPE), A<B.\n",
    "% schema newVar(VAR, DOMAIN)\n",
    "newVar(VAR, TYPE) :- var(VAR, TYPE), not eqOrd(_,VAR,TYPE).\n",
    "% schema eqOrdMinimal(VAR1, VAR2, DOMAIN)\n",
    "eqOrdMinimal(A,B,TYPE) :- eqOrd(A,B,TYPE), newVar(A,TYPE).\n",
    "% schema neqOrd(VAR1, VAR2, DOMAIN)\n",
    "neqOrd(A,B,TYPE) :- newVar(A,TYPE), newVar(B,TYPE), A<B.\n",
    "\n",
    "% Find the new arcs, getting rid of the redundancies\n",
    "\n",
    "% schema newArc(VAR, POS, ATOM, OCC)\n",
    "newArc(VAR, POS, ATOM, OCC) :- arc(VAR_ORIG, POS, ATOM, OCC), eqOrd(VAR,VAR_ORIG,TYPE), not eqOrd(_,VAR,TYPE).\n",
    "newArc(VAR, POS, ATOM, OCC) :- arc(VAR, POS, ATOM, OCC), not eqOrd(_,VAR,_).\n",
    "\n",
    "% schema newHArc(VAR, POS, HEAD)\n",
    "newHArc(VAR, POS, H) :- hArc(VAR_ORIG,POS,H), eqOrd(VAR,VAR_ORIG,TYPE), not eqOrd(_,VAR,TYPE).\n",
    "newHArc(VAR, POS, H) :- hArc(VAR, POS, H), not eqOrd(_,VAR,_).\n",
    "\n",
    "% It cannot be true that eX and eY have the same variable assignments but one is True while other is False\n",
    ":- newArc(V1, 1, \"e\", OCC1), newArc(V2, 2, \"e\", OCC1), newArc(V1, 1, \"e\", OCC2), newArc(V2, 2, \"e\", OCC2), ruleOccTrue(\"e\", OCC1), not ruleOccTrue(\"e\", OCC2). \n",
    "\n",
    "% New inferred edges\n",
    "% schema e(NODE1, NODE2)\n",
    "e(V1,V2) :- newArc(V1, 1, \"e\", OCC), newArc(V2, 2, \"e\", OCC), ruleOccTrue(\"e\", OCC).\n",
    "\n",
    "% schema e(OCC, NODE1, NODE2)\n",
    "e(OCC,V1,V2) :- newArc(V1, 1, \"e\", OCC), newArc(V2, 2, \"e\", OCC), ruleOccTrue(\"e\", OCC).\n",
    "\n",
    "% New inferred missing edges\n",
    "% schema ne(NODE1, NODE2)\n",
    "ne(V1,V2) :- newArc(V1, 1, \"e\", OCC), newArc(V2, 2, \"e\", OCC), not ruleOccTrue(\"e\", OCC).\n",
    "\n",
    "% schema ne(OCC, NODE1, NODE2)\n",
    "ne(OCC,V1,V2) :- newArc(V1, 1, \"e\", OCC), newArc(V2, 2, \"e\", OCC), not ruleOccTrue(\"e\", OCC).\n",
    "\n",
    "\n",
    "%graphviz graph graph_type=directed rankdir=LR\n",
    "%graphviz edge newArc(HEAD, _, TAIL) label=$2\n",
    "%graphviz node ruleOccTrue(N) color=green\n",
    "\n",
    "\n",
    "#show ruleOccTrue/2.\n",
    "#show var/2.\n",
    "#show newVar/2.\n",
    "#show ruleOcc/2.\n",
    "#show ruleH/1.\n",
    "#show eqOrd/3.\n",
    "#show neqOrd/3.\n",
    "#show eqOrdMinimal/3.\n",
    "#show arc/4.\n",
    "#show newArc/4.\n",
    "#show hArc/3.\n",
    "#show newHArc/3.\n",
    "#show e/2.\n",
    "#show ne/2.\n",
    "#show e/3.\n",
    "#show ne/3.\n",
    "#show eqAtomOccOrd/3.\n",
    "#show fAtom/3.\n",
    "#show ruleHTrue/1."
   ]
  },
  {
   "cell_type": "code",
   "execution_count": 8,
   "metadata": {
    "scrolled": true
   },
   "outputs": [
    {
     "name": "stdout",
     "output_type": "stream",
     "text": [
      "Output:\n"
     ]
    },
    {
     "data": {
      "text/html": [
       "\n",
       "        <style>\n",
       "        .highlight .hll { background-color: #ffffcc }\n",
       ".highlight  { background: #f8f8f8; }\n",
       ".highlight .c { color: #408080; font-style: italic } /* Comment */\n",
       ".highlight .err { border: 1px solid #FF0000 } /* Error */\n",
       ".highlight .k { color: #008000; font-weight: bold } /* Keyword */\n",
       ".highlight .o { color: #666666 } /* Operator */\n",
       ".highlight .ch { color: #408080; font-style: italic } /* Comment.Hashbang */\n",
       ".highlight .cm { color: #408080; font-style: italic } /* Comment.Multiline */\n",
       ".highlight .cp { color: #BC7A00 } /* Comment.Preproc */\n",
       ".highlight .cpf { color: #408080; font-style: italic } /* Comment.PreprocFile */\n",
       ".highlight .c1 { color: #408080; font-style: italic } /* Comment.Single */\n",
       ".highlight .cs { color: #408080; font-style: italic } /* Comment.Special */\n",
       ".highlight .gd { color: #A00000 } /* Generic.Deleted */\n",
       ".highlight .ge { font-style: italic } /* Generic.Emph */\n",
       ".highlight .gr { color: #FF0000 } /* Generic.Error */\n",
       ".highlight .gh { color: #000080; font-weight: bold } /* Generic.Heading */\n",
       ".highlight .gi { color: #00A000 } /* Generic.Inserted */\n",
       ".highlight .go { color: #888888 } /* Generic.Output */\n",
       ".highlight .gp { color: #000080; font-weight: bold } /* Generic.Prompt */\n",
       ".highlight .gs { font-weight: bold } /* Generic.Strong */\n",
       ".highlight .gu { color: #800080; font-weight: bold } /* Generic.Subheading */\n",
       ".highlight .gt { color: #0044DD } /* Generic.Traceback */\n",
       ".highlight .kc { color: #008000; font-weight: bold } /* Keyword.Constant */\n",
       ".highlight .kd { color: #008000; font-weight: bold } /* Keyword.Declaration */\n",
       ".highlight .kn { color: #008000; font-weight: bold } /* Keyword.Namespace */\n",
       ".highlight .kp { color: #008000 } /* Keyword.Pseudo */\n",
       ".highlight .kr { color: #008000; font-weight: bold } /* Keyword.Reserved */\n",
       ".highlight .kt { color: #B00040 } /* Keyword.Type */\n",
       ".highlight .m { color: #666666 } /* Literal.Number */\n",
       ".highlight .s { color: #BA2121 } /* Literal.String */\n",
       ".highlight .na { color: #7D9029 } /* Name.Attribute */\n",
       ".highlight .nb { color: #008000 } /* Name.Builtin */\n",
       ".highlight .nc { color: #0000FF; font-weight: bold } /* Name.Class */\n",
       ".highlight .no { color: #880000 } /* Name.Constant */\n",
       ".highlight .nd { color: #AA22FF } /* Name.Decorator */\n",
       ".highlight .ni { color: #999999; font-weight: bold } /* Name.Entity */\n",
       ".highlight .ne { color: #D2413A; font-weight: bold } /* Name.Exception */\n",
       ".highlight .nf { color: #0000FF } /* Name.Function */\n",
       ".highlight .nl { color: #A0A000 } /* Name.Label */\n",
       ".highlight .nn { color: #0000FF; font-weight: bold } /* Name.Namespace */\n",
       ".highlight .nt { color: #008000; font-weight: bold } /* Name.Tag */\n",
       ".highlight .nv { color: #19177C } /* Name.Variable */\n",
       ".highlight .ow { color: #AA22FF; font-weight: bold } /* Operator.Word */\n",
       ".highlight .w { color: #bbbbbb } /* Text.Whitespace */\n",
       ".highlight .mb { color: #666666 } /* Literal.Number.Bin */\n",
       ".highlight .mf { color: #666666 } /* Literal.Number.Float */\n",
       ".highlight .mh { color: #666666 } /* Literal.Number.Hex */\n",
       ".highlight .mi { color: #666666 } /* Literal.Number.Integer */\n",
       ".highlight .mo { color: #666666 } /* Literal.Number.Oct */\n",
       ".highlight .sa { color: #BA2121 } /* Literal.String.Affix */\n",
       ".highlight .sb { color: #BA2121 } /* Literal.String.Backtick */\n",
       ".highlight .sc { color: #BA2121 } /* Literal.String.Char */\n",
       ".highlight .dl { color: #BA2121 } /* Literal.String.Delimiter */\n",
       ".highlight .sd { color: #BA2121; font-style: italic } /* Literal.String.Doc */\n",
       ".highlight .s2 { color: #BA2121 } /* Literal.String.Double */\n",
       ".highlight .se { color: #BB6622; font-weight: bold } /* Literal.String.Escape */\n",
       ".highlight .sh { color: #BA2121 } /* Literal.String.Heredoc */\n",
       ".highlight .si { color: #BB6688; font-weight: bold } /* Literal.String.Interpol */\n",
       ".highlight .sx { color: #008000 } /* Literal.String.Other */\n",
       ".highlight .sr { color: #BB6688 } /* Literal.String.Regex */\n",
       ".highlight .s1 { color: #BA2121 } /* Literal.String.Single */\n",
       ".highlight .ss { color: #19177C } /* Literal.String.Symbol */\n",
       ".highlight .bp { color: #008000 } /* Name.Builtin.Pseudo */\n",
       ".highlight .fm { color: #0000FF } /* Name.Function.Magic */\n",
       ".highlight .vc { color: #19177C } /* Name.Variable.Class */\n",
       ".highlight .vg { color: #19177C } /* Name.Variable.Global */\n",
       ".highlight .vi { color: #19177C } /* Name.Variable.Instance */\n",
       ".highlight .vm { color: #19177C } /* Name.Variable.Magic */\n",
       ".highlight .il { color: #666666 } /* Literal.Number.Integer.Long */\n",
       "        </style>\n",
       "        "
      ],
      "text/plain": [
       "<IPython.core.display.HTML object>"
      ]
     },
     "metadata": {},
     "output_type": "display_data"
    },
    {
     "data": {
      "text/html": [
       "<div class=\"highlight\"><pre><span></span><span class=\"lineno\"> 1 </span><span class=\"nv\">Answer</span><span class=\"s s-Atom\">:</span> <span class=\"mi\">1</span>\n",
       "<span class=\"lineno\"> 2 </span><span class=\"nf\">ruleH</span><span class=\"p\">(</span><span class=\"s2\">&quot;tri&quot;</span><span class=\"p\">)</span> <span class=\"nf\">newVar</span><span class=\"p\">(</span><span class=\"s2\">&quot;X&quot;</span><span class=\"p\">,</span><span class=\"s s-Atom\">node</span><span class=\"p\">)</span> <span class=\"nf\">ruleOcc</span><span class=\"p\">(</span><span class=\"s2\">&quot;e&quot;</span><span class=\"p\">,</span><span class=\"mi\">1</span><span class=\"p\">)</span> <span class=\"nf\">ruleOcc</span><span class=\"p\">(</span><span class=\"s2\">&quot;e&quot;</span><span class=\"p\">,</span><span class=\"mi\">2</span><span class=\"p\">)</span> <span class=\"nf\">ruleOcc</span><span class=\"p\">(</span><span class=\"s2\">&quot;e&quot;</span><span class=\"p\">,</span><span class=\"mi\">3</span><span class=\"p\">)</span> <span class=\"nf\">var</span><span class=\"p\">(</span><span class=\"s2\">&quot;X&quot;</span><span class=\"p\">,</span><span class=\"s s-Atom\">node</span><span class=\"p\">)</span> <span class=\"nf\">var</span><span class=\"p\">(</span><span class=\"s2\">&quot;Y&quot;</span><span class=\"p\">,</span><span class=\"s s-Atom\">node</span><span class=\"p\">)</span> <span class=\"nf\">var</span><span class=\"p\">(</span><span class=\"s2\">&quot;Z&quot;</span><span class=\"p\">,</span><span class=\"s s-Atom\">node</span><span class=\"p\">)</span> <span class=\"nf\">hArc</span><span class=\"p\">(</span><span class=\"s2\">&quot;Z&quot;</span><span class=\"p\">,</span><span class=\"mi\">3</span><span class=\"p\">,</span><span class=\"s2\">&quot;tri&quot;</span><span class=\"p\">)</span> <span class=\"nf\">hArc</span><span class=\"p\">(</span><span class=\"s2\">&quot;Y&quot;</span><span class=\"p\">,</span><span class=\"mi\">2</span><span class=\"p\">,</span><span class=\"s2\">&quot;tri&quot;</span><span class=\"p\">)</span> <span class=\"nf\">hArc</span><span class=\"p\">(</span><span class=\"s2\">&quot;X&quot;</span><span class=\"p\">,</span><span class=\"mi\">1</span><span class=\"p\">,</span><span class=\"s2\">&quot;tri&quot;</span><span class=\"p\">)</span> <span class=\"nf\">newHArc</span><span class=\"p\">(</span><span class=\"s2\">&quot;X&quot;</span><span class=\"p\">,</span><span class=\"mi\">1</span><span class=\"p\">,</span><span class=\"s2\">&quot;tri&quot;</span><span class=\"p\">)</span> <span class=\"nf\">arc</span><span class=\"p\">(</span><span class=\"s2\">&quot;X&quot;</span><span class=\"p\">,</span><span class=\"mi\">1</span><span class=\"p\">,</span><span class=\"s2\">&quot;e&quot;</span><span class=\"p\">,</span><span class=\"mi\">1</span><span class=\"p\">)</span> <span class=\"nf\">arc</span><span class=\"p\">(</span><span class=\"s2\">&quot;Y&quot;</span><span class=\"p\">,</span><span class=\"mi\">2</span><span class=\"p\">,</span><span class=\"s2\">&quot;e&quot;</span><span class=\"p\">,</span><span class=\"mi\">1</span><span class=\"p\">)</span> <span class=\"nf\">arc</span><span class=\"p\">(</span><span class=\"s2\">&quot;Y&quot;</span><span class=\"p\">,</span><span class=\"mi\">1</span><span class=\"p\">,</span><span class=\"s2\">&quot;e&quot;</span><span class=\"p\">,</span><span class=\"mi\">2</span><span class=\"p\">)</span> <span class=\"nf\">arc</span><span class=\"p\">(</span><span class=\"s2\">&quot;Z&quot;</span><span class=\"p\">,</span><span class=\"mi\">2</span><span class=\"p\">,</span><span class=\"s2\">&quot;e&quot;</span><span class=\"p\">,</span><span class=\"mi\">2</span><span class=\"p\">)</span> <span class=\"nf\">arc</span><span class=\"p\">(</span><span class=\"s2\">&quot;Z&quot;</span><span class=\"p\">,</span><span class=\"mi\">1</span><span class=\"p\">,</span><span class=\"s2\">&quot;e&quot;</span><span class=\"p\">,</span><span class=\"mi\">3</span><span class=\"p\">)</span> <span class=\"nf\">arc</span><span class=\"p\">(</span><span class=\"s2\">&quot;X&quot;</span><span class=\"p\">,</span><span class=\"mi\">2</span><span class=\"p\">,</span><span class=\"s2\">&quot;e&quot;</span><span class=\"p\">,</span><span class=\"mi\">3</span><span class=\"p\">)</span> <span class=\"nf\">newArc</span><span class=\"p\">(</span><span class=\"s2\">&quot;X&quot;</span><span class=\"p\">,</span><span class=\"mi\">1</span><span class=\"p\">,</span><span class=\"s2\">&quot;e&quot;</span><span class=\"p\">,</span><span class=\"mi\">1</span><span class=\"p\">)</span> <span class=\"nf\">newArc</span><span class=\"p\">(</span><span class=\"s2\">&quot;X&quot;</span><span class=\"p\">,</span><span class=\"mi\">2</span><span class=\"p\">,</span><span class=\"s2\">&quot;e&quot;</span><span class=\"p\">,</span><span class=\"mi\">3</span><span class=\"p\">)</span> <span class=\"nf\">newArc</span><span class=\"p\">(</span><span class=\"s2\">&quot;Y&quot;</span><span class=\"p\">,</span><span class=\"mi\">2</span><span class=\"p\">,</span><span class=\"s2\">&quot;e&quot;</span><span class=\"p\">,</span><span class=\"mi\">1</span><span class=\"p\">)</span> <span class=\"nf\">newArc</span><span class=\"p\">(</span><span class=\"s2\">&quot;Y&quot;</span><span class=\"p\">,</span><span class=\"mi\">1</span><span class=\"p\">,</span><span class=\"s2\">&quot;e&quot;</span><span class=\"p\">,</span><span class=\"mi\">2</span><span class=\"p\">)</span> <span class=\"nf\">newArc</span><span class=\"p\">(</span><span class=\"s2\">&quot;Z&quot;</span><span class=\"p\">,</span><span class=\"mi\">2</span><span class=\"p\">,</span><span class=\"s2\">&quot;e&quot;</span><span class=\"p\">,</span><span class=\"mi\">2</span><span class=\"p\">)</span> <span class=\"nf\">newArc</span><span class=\"p\">(</span><span class=\"s2\">&quot;Z&quot;</span><span class=\"p\">,</span><span class=\"mi\">1</span><span class=\"p\">,</span><span class=\"s2\">&quot;e&quot;</span><span class=\"p\">,</span><span class=\"mi\">3</span><span class=\"p\">)</span> <span class=\"nf\">ne</span><span class=\"p\">(</span><span class=\"mi\">1</span><span class=\"p\">,</span><span class=\"s2\">&quot;X&quot;</span><span class=\"p\">,</span><span class=\"s2\">&quot;Y&quot;</span><span class=\"p\">)</span> <span class=\"nf\">ne</span><span class=\"p\">(</span><span class=\"mi\">2</span><span class=\"p\">,</span><span class=\"s2\">&quot;Y&quot;</span><span class=\"p\">,</span><span class=\"s2\">&quot;Z&quot;</span><span class=\"p\">)</span> <span class=\"nf\">ne</span><span class=\"p\">(</span><span class=\"mi\">3</span><span class=\"p\">,</span><span class=\"s2\">&quot;Z&quot;</span><span class=\"p\">,</span><span class=\"s2\">&quot;X&quot;</span><span class=\"p\">)</span> <span class=\"nf\">ne</span><span class=\"p\">(</span><span class=\"s2\">&quot;X&quot;</span><span class=\"p\">,</span><span class=\"s2\">&quot;Y&quot;</span><span class=\"p\">)</span> <span class=\"nf\">ne</span><span class=\"p\">(</span><span class=\"s2\">&quot;Y&quot;</span><span class=\"p\">,</span><span class=\"s2\">&quot;Z&quot;</span><span class=\"p\">)</span> <span class=\"nf\">ne</span><span class=\"p\">(</span><span class=\"s2\">&quot;Z&quot;</span><span class=\"p\">,</span><span class=\"s2\">&quot;X&quot;</span><span class=\"p\">)</span> <span class=\"nf\">newHArc</span><span class=\"p\">(</span><span class=\"s2\">&quot;Z&quot;</span><span class=\"p\">,</span><span class=\"mi\">3</span><span class=\"p\">,</span><span class=\"s2\">&quot;tri&quot;</span><span class=\"p\">)</span> <span class=\"nf\">newHArc</span><span class=\"p\">(</span><span class=\"s2\">&quot;Y&quot;</span><span class=\"p\">,</span><span class=\"mi\">2</span><span class=\"p\">,</span><span class=\"s2\">&quot;tri&quot;</span><span class=\"p\">)</span> <span class=\"nf\">newVar</span><span class=\"p\">(</span><span class=\"s2\">&quot;Y&quot;</span><span class=\"p\">,</span><span class=\"s s-Atom\">node</span><span class=\"p\">)</span> <span class=\"nf\">newVar</span><span class=\"p\">(</span><span class=\"s2\">&quot;Z&quot;</span><span class=\"p\">,</span><span class=\"s s-Atom\">node</span><span class=\"p\">)</span> <span class=\"nf\">neqOrd</span><span class=\"p\">(</span><span class=\"s2\">&quot;X&quot;</span><span class=\"p\">,</span><span class=\"s2\">&quot;Y&quot;</span><span class=\"p\">,</span><span class=\"s s-Atom\">node</span><span class=\"p\">)</span> <span class=\"nf\">neqOrd</span><span class=\"p\">(</span><span class=\"s2\">&quot;X&quot;</span><span class=\"p\">,</span><span class=\"s2\">&quot;Z&quot;</span><span class=\"p\">,</span><span class=\"s s-Atom\">node</span><span class=\"p\">)</span> <span class=\"nf\">neqOrd</span><span class=\"p\">(</span><span class=\"s2\">&quot;Y&quot;</span><span class=\"p\">,</span><span class=\"s2\">&quot;Z&quot;</span><span class=\"p\">,</span><span class=\"s s-Atom\">node</span><span class=\"p\">)</span>\n",
       "<span class=\"lineno\"> 3 </span><span class=\"nv\">Answer</span><span class=\"s s-Atom\">:</span> <span class=\"mi\">2</span>\n",
       "<span class=\"lineno\"> 4 </span><span class=\"nf\">ruleH</span><span class=\"p\">(</span><span class=\"s2\">&quot;tri&quot;</span><span class=\"p\">)</span> <span class=\"nf\">newVar</span><span class=\"p\">(</span><span class=\"s2\">&quot;X&quot;</span><span class=\"p\">,</span><span class=\"s s-Atom\">node</span><span class=\"p\">)</span> <span class=\"nf\">ruleOcc</span><span class=\"p\">(</span><span class=\"s2\">&quot;e&quot;</span><span class=\"p\">,</span><span class=\"mi\">1</span><span class=\"p\">)</span> <span class=\"nf\">ruleOcc</span><span class=\"p\">(</span><span class=\"s2\">&quot;e&quot;</span><span class=\"p\">,</span><span class=\"mi\">2</span><span class=\"p\">)</span> <span class=\"nf\">ruleOcc</span><span class=\"p\">(</span><span class=\"s2\">&quot;e&quot;</span><span class=\"p\">,</span><span class=\"mi\">3</span><span class=\"p\">)</span> <span class=\"nf\">var</span><span class=\"p\">(</span><span class=\"s2\">&quot;X&quot;</span><span class=\"p\">,</span><span class=\"s s-Atom\">node</span><span class=\"p\">)</span> <span class=\"nf\">var</span><span class=\"p\">(</span><span class=\"s2\">&quot;Y&quot;</span><span class=\"p\">,</span><span class=\"s s-Atom\">node</span><span class=\"p\">)</span> <span class=\"nf\">var</span><span class=\"p\">(</span><span class=\"s2\">&quot;Z&quot;</span><span class=\"p\">,</span><span class=\"s s-Atom\">node</span><span class=\"p\">)</span> <span class=\"nf\">hArc</span><span class=\"p\">(</span><span class=\"s2\">&quot;Z&quot;</span><span class=\"p\">,</span><span class=\"mi\">3</span><span class=\"p\">,</span><span class=\"s2\">&quot;tri&quot;</span><span class=\"p\">)</span> <span class=\"nf\">hArc</span><span class=\"p\">(</span><span class=\"s2\">&quot;Y&quot;</span><span class=\"p\">,</span><span class=\"mi\">2</span><span class=\"p\">,</span><span class=\"s2\">&quot;tri&quot;</span><span class=\"p\">)</span> <span class=\"nf\">hArc</span><span class=\"p\">(</span><span class=\"s2\">&quot;X&quot;</span><span class=\"p\">,</span><span class=\"mi\">1</span><span class=\"p\">,</span><span class=\"s2\">&quot;tri&quot;</span><span class=\"p\">)</span> <span class=\"nf\">newHArc</span><span class=\"p\">(</span><span class=\"s2\">&quot;X&quot;</span><span class=\"p\">,</span><span class=\"mi\">1</span><span class=\"p\">,</span><span class=\"s2\">&quot;tri&quot;</span><span class=\"p\">)</span> <span class=\"nf\">arc</span><span class=\"p\">(</span><span class=\"s2\">&quot;X&quot;</span><span class=\"p\">,</span><span class=\"mi\">1</span><span class=\"p\">,</span><span class=\"s2\">&quot;e&quot;</span><span class=\"p\">,</span><span class=\"mi\">1</span><span class=\"p\">)</span> <span class=\"nf\">arc</span><span class=\"p\">(</span><span class=\"s2\">&quot;Y&quot;</span><span class=\"p\">,</span><span class=\"mi\">2</span><span class=\"p\">,</span><span class=\"s2\">&quot;e&quot;</span><span class=\"p\">,</span><span class=\"mi\">1</span><span class=\"p\">)</span> <span class=\"nf\">arc</span><span class=\"p\">(</span><span class=\"s2\">&quot;Y&quot;</span><span class=\"p\">,</span><span class=\"mi\">1</span><span class=\"p\">,</span><span class=\"s2\">&quot;e&quot;</span><span class=\"p\">,</span><span class=\"mi\">2</span><span class=\"p\">)</span> <span class=\"nf\">arc</span><span class=\"p\">(</span><span class=\"s2\">&quot;Z&quot;</span><span class=\"p\">,</span><span class=\"mi\">2</span><span class=\"p\">,</span><span class=\"s2\">&quot;e&quot;</span><span class=\"p\">,</span><span class=\"mi\">2</span><span class=\"p\">)</span> <span class=\"nf\">arc</span><span class=\"p\">(</span><span class=\"s2\">&quot;Z&quot;</span><span class=\"p\">,</span><span class=\"mi\">1</span><span class=\"p\">,</span><span class=\"s2\">&quot;e&quot;</span><span class=\"p\">,</span><span class=\"mi\">3</span><span class=\"p\">)</span> <span class=\"nf\">arc</span><span class=\"p\">(</span><span class=\"s2\">&quot;X&quot;</span><span class=\"p\">,</span><span class=\"mi\">2</span><span class=\"p\">,</span><span class=\"s2\">&quot;e&quot;</span><span class=\"p\">,</span><span class=\"mi\">3</span><span class=\"p\">)</span> <span class=\"nf\">newArc</span><span class=\"p\">(</span><span class=\"s2\">&quot;X&quot;</span><span class=\"p\">,</span><span class=\"mi\">1</span><span class=\"p\">,</span><span class=\"s2\">&quot;e&quot;</span><span class=\"p\">,</span><span class=\"mi\">1</span><span class=\"p\">)</span> <span class=\"nf\">newArc</span><span class=\"p\">(</span><span class=\"s2\">&quot;X&quot;</span><span class=\"p\">,</span><span class=\"mi\">2</span><span class=\"p\">,</span><span class=\"s2\">&quot;e&quot;</span><span class=\"p\">,</span><span class=\"mi\">3</span><span class=\"p\">)</span> <span class=\"nf\">newArc</span><span class=\"p\">(</span><span class=\"s2\">&quot;Y&quot;</span><span class=\"p\">,</span><span class=\"mi\">2</span><span class=\"p\">,</span><span class=\"s2\">&quot;e&quot;</span><span class=\"p\">,</span><span class=\"mi\">1</span><span class=\"p\">)</span> <span class=\"nf\">newArc</span><span class=\"p\">(</span><span class=\"s2\">&quot;Y&quot;</span><span class=\"p\">,</span><span class=\"mi\">1</span><span class=\"p\">,</span><span class=\"s2\">&quot;e&quot;</span><span class=\"p\">,</span><span class=\"mi\">2</span><span class=\"p\">)</span> <span class=\"nf\">newArc</span><span class=\"p\">(</span><span class=\"s2\">&quot;Z&quot;</span><span class=\"p\">,</span><span class=\"mi\">2</span><span class=\"p\">,</span><span class=\"s2\">&quot;e&quot;</span><span class=\"p\">,</span><span class=\"mi\">2</span><span class=\"p\">)</span> <span class=\"nf\">newArc</span><span class=\"p\">(</span><span class=\"s2\">&quot;Z&quot;</span><span class=\"p\">,</span><span class=\"mi\">1</span><span class=\"p\">,</span><span class=\"s2\">&quot;e&quot;</span><span class=\"p\">,</span><span class=\"mi\">3</span><span class=\"p\">)</span> <span class=\"nf\">ruleOccTrue</span><span class=\"p\">(</span><span class=\"s2\">&quot;e&quot;</span><span class=\"p\">,</span><span class=\"mi\">1</span><span class=\"p\">)</span> <span class=\"nf\">ne</span><span class=\"p\">(</span><span class=\"mi\">2</span><span class=\"p\">,</span><span class=\"s2\">&quot;Y&quot;</span><span class=\"p\">,</span><span class=\"s2\">&quot;Z&quot;</span><span class=\"p\">)</span> <span class=\"nf\">ne</span><span class=\"p\">(</span><span class=\"mi\">3</span><span class=\"p\">,</span><span class=\"s2\">&quot;Z&quot;</span><span class=\"p\">,</span><span class=\"s2\">&quot;X&quot;</span><span class=\"p\">)</span> <span class=\"nf\">ne</span><span class=\"p\">(</span><span class=\"s2\">&quot;Y&quot;</span><span class=\"p\">,</span><span class=\"s2\">&quot;Z&quot;</span><span class=\"p\">)</span> <span class=\"nf\">ne</span><span class=\"p\">(</span><span class=\"s2\">&quot;Z&quot;</span><span class=\"p\">,</span><span class=\"s2\">&quot;X&quot;</span><span class=\"p\">)</span> <span class=\"nf\">e</span><span class=\"p\">(</span><span class=\"mi\">1</span><span class=\"p\">,</span><span class=\"s2\">&quot;X&quot;</span><span class=\"p\">,</span><span class=\"s2\">&quot;Y&quot;</span><span class=\"p\">)</span> <span class=\"nf\">e</span><span class=\"p\">(</span><span class=\"s2\">&quot;X&quot;</span><span class=\"p\">,</span><span class=\"s2\">&quot;Y&quot;</span><span class=\"p\">)</span> <span class=\"nf\">newHArc</span><span class=\"p\">(</span><span class=\"s2\">&quot;Z&quot;</span><span class=\"p\">,</span><span class=\"mi\">3</span><span class=\"p\">,</span><span class=\"s2\">&quot;tri&quot;</span><span class=\"p\">)</span> <span class=\"nf\">newHArc</span><span class=\"p\">(</span><span class=\"s2\">&quot;Y&quot;</span><span class=\"p\">,</span><span class=\"mi\">2</span><span class=\"p\">,</span><span class=\"s2\">&quot;tri&quot;</span><span class=\"p\">)</span> <span class=\"nf\">newVar</span><span class=\"p\">(</span><span class=\"s2\">&quot;Y&quot;</span><span class=\"p\">,</span><span class=\"s s-Atom\">node</span><span class=\"p\">)</span> <span class=\"nf\">newVar</span><span class=\"p\">(</span><span class=\"s2\">&quot;Z&quot;</span><span class=\"p\">,</span><span class=\"s s-Atom\">node</span><span class=\"p\">)</span> <span class=\"nf\">neqOrd</span><span class=\"p\">(</span><span class=\"s2\">&quot;X&quot;</span><span class=\"p\">,</span><span class=\"s2\">&quot;Y&quot;</span><span class=\"p\">,</span><span class=\"s s-Atom\">node</span><span class=\"p\">)</span> <span class=\"nf\">neqOrd</span><span class=\"p\">(</span><span class=\"s2\">&quot;X&quot;</span><span class=\"p\">,</span><span class=\"s2\">&quot;Z&quot;</span><span class=\"p\">,</span><span class=\"s s-Atom\">node</span><span class=\"p\">)</span> <span class=\"nf\">neqOrd</span><span class=\"p\">(</span><span class=\"s2\">&quot;Y&quot;</span><span class=\"p\">,</span><span class=\"s2\">&quot;Z&quot;</span><span class=\"p\">,</span><span class=\"s s-Atom\">node</span><span class=\"p\">)</span>\n",
       "<span class=\"lineno\"> 5 </span><span class=\"nv\">Answer</span><span class=\"s s-Atom\">:</span> <span class=\"mi\">3</span>\n",
       "<span class=\"lineno\"> 6 </span><span class=\"nf\">ruleH</span><span class=\"p\">(</span><span class=\"s2\">&quot;tri&quot;</span><span class=\"p\">)</span> <span class=\"nf\">newVar</span><span class=\"p\">(</span><span class=\"s2\">&quot;X&quot;</span><span class=\"p\">,</span><span class=\"s s-Atom\">node</span><span class=\"p\">)</span> <span class=\"nf\">ruleOcc</span><span class=\"p\">(</span><span class=\"s2\">&quot;e&quot;</span><span class=\"p\">,</span><span class=\"mi\">1</span><span class=\"p\">)</span> <span class=\"nf\">ruleOcc</span><span class=\"p\">(</span><span class=\"s2\">&quot;e&quot;</span><span class=\"p\">,</span><span class=\"mi\">2</span><span class=\"p\">)</span> <span class=\"nf\">ruleOcc</span><span class=\"p\">(</span><span class=\"s2\">&quot;e&quot;</span><span class=\"p\">,</span><span class=\"mi\">3</span><span class=\"p\">)</span> <span class=\"nf\">var</span><span class=\"p\">(</span><span class=\"s2\">&quot;X&quot;</span><span class=\"p\">,</span><span class=\"s s-Atom\">node</span><span class=\"p\">)</span> <span class=\"nf\">var</span><span class=\"p\">(</span><span class=\"s2\">&quot;Y&quot;</span><span class=\"p\">,</span><span class=\"s s-Atom\">node</span><span class=\"p\">)</span> <span class=\"nf\">var</span><span class=\"p\">(</span><span class=\"s2\">&quot;Z&quot;</span><span class=\"p\">,</span><span class=\"s s-Atom\">node</span><span class=\"p\">)</span> <span class=\"nf\">hArc</span><span class=\"p\">(</span><span class=\"s2\">&quot;Z&quot;</span><span class=\"p\">,</span><span class=\"mi\">3</span><span class=\"p\">,</span><span class=\"s2\">&quot;tri&quot;</span><span class=\"p\">)</span> <span class=\"nf\">hArc</span><span class=\"p\">(</span><span class=\"s2\">&quot;Y&quot;</span><span class=\"p\">,</span><span class=\"mi\">2</span><span class=\"p\">,</span><span class=\"s2\">&quot;tri&quot;</span><span class=\"p\">)</span> <span class=\"nf\">hArc</span><span class=\"p\">(</span><span class=\"s2\">&quot;X&quot;</span><span class=\"p\">,</span><span class=\"mi\">1</span><span class=\"p\">,</span><span class=\"s2\">&quot;tri&quot;</span><span class=\"p\">)</span> <span class=\"nf\">newHArc</span><span class=\"p\">(</span><span class=\"s2\">&quot;X&quot;</span><span class=\"p\">,</span><span class=\"mi\">1</span><span class=\"p\">,</span><span class=\"s2\">&quot;tri&quot;</span><span class=\"p\">)</span> <span class=\"nf\">arc</span><span class=\"p\">(</span><span class=\"s2\">&quot;X&quot;</span><span class=\"p\">,</span><span class=\"mi\">1</span><span class=\"p\">,</span><span class=\"s2\">&quot;e&quot;</span><span class=\"p\">,</span><span class=\"mi\">1</span><span class=\"p\">)</span> <span class=\"nf\">arc</span><span class=\"p\">(</span><span class=\"s2\">&quot;Y&quot;</span><span class=\"p\">,</span><span class=\"mi\">2</span><span class=\"p\">,</span><span class=\"s2\">&quot;e&quot;</span><span class=\"p\">,</span><span class=\"mi\">1</span><span class=\"p\">)</span> <span class=\"nf\">arc</span><span class=\"p\">(</span><span class=\"s2\">&quot;Y&quot;</span><span class=\"p\">,</span><span class=\"mi\">1</span><span class=\"p\">,</span><span class=\"s2\">&quot;e&quot;</span><span class=\"p\">,</span><span class=\"mi\">2</span><span class=\"p\">)</span> <span class=\"nf\">arc</span><span class=\"p\">(</span><span class=\"s2\">&quot;Z&quot;</span><span class=\"p\">,</span><span class=\"mi\">2</span><span class=\"p\">,</span><span class=\"s2\">&quot;e&quot;</span><span class=\"p\">,</span><span class=\"mi\">2</span><span class=\"p\">)</span> <span class=\"nf\">arc</span><span class=\"p\">(</span><span class=\"s2\">&quot;Z&quot;</span><span class=\"p\">,</span><span class=\"mi\">1</span><span class=\"p\">,</span><span class=\"s2\">&quot;e&quot;</span><span class=\"p\">,</span><span class=\"mi\">3</span><span class=\"p\">)</span> <span class=\"nf\">arc</span><span class=\"p\">(</span><span class=\"s2\">&quot;X&quot;</span><span class=\"p\">,</span><span class=\"mi\">2</span><span class=\"p\">,</span><span class=\"s2\">&quot;e&quot;</span><span class=\"p\">,</span><span class=\"mi\">3</span><span class=\"p\">)</span> <span class=\"nf\">newArc</span><span class=\"p\">(</span><span class=\"s2\">&quot;X&quot;</span><span class=\"p\">,</span><span class=\"mi\">1</span><span class=\"p\">,</span><span class=\"s2\">&quot;e&quot;</span><span class=\"p\">,</span><span class=\"mi\">1</span><span class=\"p\">)</span> <span class=\"nf\">newArc</span><span class=\"p\">(</span><span class=\"s2\">&quot;X&quot;</span><span class=\"p\">,</span><span class=\"mi\">2</span><span class=\"p\">,</span><span class=\"s2\">&quot;e&quot;</span><span class=\"p\">,</span><span class=\"mi\">3</span><span class=\"p\">)</span> <span class=\"nf\">newArc</span><span class=\"p\">(</span><span class=\"s2\">&quot;Y&quot;</span><span class=\"p\">,</span><span class=\"mi\">2</span><span class=\"p\">,</span><span class=\"s2\">&quot;e&quot;</span><span class=\"p\">,</span><span class=\"mi\">1</span><span class=\"p\">)</span> <span class=\"nf\">newArc</span><span class=\"p\">(</span><span class=\"s2\">&quot;Y&quot;</span><span class=\"p\">,</span><span class=\"mi\">1</span><span class=\"p\">,</span><span class=\"s2\">&quot;e&quot;</span><span class=\"p\">,</span><span class=\"mi\">2</span><span class=\"p\">)</span> <span class=\"nf\">newArc</span><span class=\"p\">(</span><span class=\"s2\">&quot;Z&quot;</span><span class=\"p\">,</span><span class=\"mi\">2</span><span class=\"p\">,</span><span class=\"s2\">&quot;e&quot;</span><span class=\"p\">,</span><span class=\"mi\">2</span><span class=\"p\">)</span> <span class=\"nf\">newArc</span><span class=\"p\">(</span><span class=\"s2\">&quot;Z&quot;</span><span class=\"p\">,</span><span class=\"mi\">1</span><span class=\"p\">,</span><span class=\"s2\">&quot;e&quot;</span><span class=\"p\">,</span><span class=\"mi\">3</span><span class=\"p\">)</span> <span class=\"nf\">ruleOccTrue</span><span class=\"p\">(</span><span class=\"s2\">&quot;e&quot;</span><span class=\"p\">,</span><span class=\"mi\">3</span><span class=\"p\">)</span> <span class=\"nf\">ne</span><span class=\"p\">(</span><span class=\"mi\">1</span><span class=\"p\">,</span><span class=\"s2\">&quot;X&quot;</span><span class=\"p\">,</span><span class=\"s2\">&quot;Y&quot;</span><span class=\"p\">)</span> <span class=\"nf\">ne</span><span class=\"p\">(</span><span class=\"mi\">2</span><span class=\"p\">,</span><span class=\"s2\">&quot;Y&quot;</span><span class=\"p\">,</span><span class=\"s2\">&quot;Z&quot;</span><span class=\"p\">)</span> <span class=\"nf\">ne</span><span class=\"p\">(</span><span class=\"s2\">&quot;X&quot;</span><span class=\"p\">,</span><span class=\"s2\">&quot;Y&quot;</span><span class=\"p\">)</span> <span class=\"nf\">ne</span><span class=\"p\">(</span><span class=\"s2\">&quot;Y&quot;</span><span class=\"p\">,</span><span class=\"s2\">&quot;Z&quot;</span><span class=\"p\">)</span> <span class=\"nf\">e</span><span class=\"p\">(</span><span class=\"mi\">3</span><span class=\"p\">,</span><span class=\"s2\">&quot;Z&quot;</span><span class=\"p\">,</span><span class=\"s2\">&quot;X&quot;</span><span class=\"p\">)</span> <span class=\"nf\">e</span><span class=\"p\">(</span><span class=\"s2\">&quot;Z&quot;</span><span class=\"p\">,</span><span class=\"s2\">&quot;X&quot;</span><span class=\"p\">)</span> <span class=\"nf\">newHArc</span><span class=\"p\">(</span><span class=\"s2\">&quot;Z&quot;</span><span class=\"p\">,</span><span class=\"mi\">3</span><span class=\"p\">,</span><span class=\"s2\">&quot;tri&quot;</span><span class=\"p\">)</span> <span class=\"nf\">newHArc</span><span class=\"p\">(</span><span class=\"s2\">&quot;Y&quot;</span><span class=\"p\">,</span><span class=\"mi\">2</span><span class=\"p\">,</span><span class=\"s2\">&quot;tri&quot;</span><span class=\"p\">)</span> <span class=\"nf\">newVar</span><span class=\"p\">(</span><span class=\"s2\">&quot;Y&quot;</span><span class=\"p\">,</span><span class=\"s s-Atom\">node</span><span class=\"p\">)</span> <span class=\"nf\">newVar</span><span class=\"p\">(</span><span class=\"s2\">&quot;Z&quot;</span><span class=\"p\">,</span><span class=\"s s-Atom\">node</span><span class=\"p\">)</span> <span class=\"nf\">neqOrd</span><span class=\"p\">(</span><span class=\"s2\">&quot;X&quot;</span><span class=\"p\">,</span><span class=\"s2\">&quot;Y&quot;</span><span class=\"p\">,</span><span class=\"s s-Atom\">node</span><span class=\"p\">)</span> <span class=\"nf\">neqOrd</span><span class=\"p\">(</span><span class=\"s2\">&quot;X&quot;</span><span class=\"p\">,</span><span class=\"s2\">&quot;Z&quot;</span><span class=\"p\">,</span><span class=\"s s-Atom\">node</span><span class=\"p\">)</span> <span class=\"nf\">neqOrd</span><span class=\"p\">(</span><span class=\"s2\">&quot;Y&quot;</span><span class=\"p\">,</span><span class=\"s2\">&quot;Z&quot;</span><span class=\"p\">,</span><span class=\"s s-Atom\">node</span><span class=\"p\">)</span>\n",
       "<span class=\"lineno\"> 7 </span><span class=\"nv\">Answer</span><span class=\"s s-Atom\">:</span> <span class=\"mi\">4</span>\n",
       "<span class=\"lineno\"> 8 </span><span class=\"nf\">ruleH</span><span class=\"p\">(</span><span class=\"s2\">&quot;tri&quot;</span><span class=\"p\">)</span> <span class=\"nf\">newVar</span><span class=\"p\">(</span><span class=\"s2\">&quot;X&quot;</span><span class=\"p\">,</span><span class=\"s s-Atom\">node</span><span class=\"p\">)</span> <span class=\"nf\">ruleOcc</span><span class=\"p\">(</span><span class=\"s2\">&quot;e&quot;</span><span class=\"p\">,</span><span class=\"mi\">1</span><span class=\"p\">)</span> <span class=\"nf\">ruleOcc</span><span class=\"p\">(</span><span class=\"s2\">&quot;e&quot;</span><span class=\"p\">,</span><span class=\"mi\">2</span><span class=\"p\">)</span> <span class=\"nf\">ruleOcc</span><span class=\"p\">(</span><span class=\"s2\">&quot;e&quot;</span><span class=\"p\">,</span><span class=\"mi\">3</span><span class=\"p\">)</span> <span class=\"nf\">var</span><span class=\"p\">(</span><span class=\"s2\">&quot;X&quot;</span><span class=\"p\">,</span><span class=\"s s-Atom\">node</span><span class=\"p\">)</span> <span class=\"nf\">var</span><span class=\"p\">(</span><span class=\"s2\">&quot;Y&quot;</span><span class=\"p\">,</span><span class=\"s s-Atom\">node</span><span class=\"p\">)</span> <span class=\"nf\">var</span><span class=\"p\">(</span><span class=\"s2\">&quot;Z&quot;</span><span class=\"p\">,</span><span class=\"s s-Atom\">node</span><span class=\"p\">)</span> <span class=\"nf\">hArc</span><span class=\"p\">(</span><span class=\"s2\">&quot;Z&quot;</span><span class=\"p\">,</span><span class=\"mi\">3</span><span class=\"p\">,</span><span class=\"s2\">&quot;tri&quot;</span><span class=\"p\">)</span> <span class=\"nf\">hArc</span><span class=\"p\">(</span><span class=\"s2\">&quot;Y&quot;</span><span class=\"p\">,</span><span class=\"mi\">2</span><span class=\"p\">,</span><span class=\"s2\">&quot;tri&quot;</span><span class=\"p\">)</span> <span class=\"nf\">hArc</span><span class=\"p\">(</span><span class=\"s2\">&quot;X&quot;</span><span class=\"p\">,</span><span class=\"mi\">1</span><span class=\"p\">,</span><span class=\"s2\">&quot;tri&quot;</span><span class=\"p\">)</span> <span class=\"nf\">newHArc</span><span class=\"p\">(</span><span class=\"s2\">&quot;X&quot;</span><span class=\"p\">,</span><span class=\"mi\">1</span><span class=\"p\">,</span><span class=\"s2\">&quot;tri&quot;</span><span class=\"p\">)</span> <span class=\"nf\">arc</span><span class=\"p\">(</span><span class=\"s2\">&quot;X&quot;</span><span class=\"p\">,</span><span class=\"mi\">1</span><span class=\"p\">,</span><span class=\"s2\">&quot;e&quot;</span><span class=\"p\">,</span><span class=\"mi\">1</span><span class=\"p\">)</span> <span class=\"nf\">arc</span><span class=\"p\">(</span><span class=\"s2\">&quot;Y&quot;</span><span class=\"p\">,</span><span class=\"mi\">2</span><span class=\"p\">,</span><span class=\"s2\">&quot;e&quot;</span><span class=\"p\">,</span><span class=\"mi\">1</span><span class=\"p\">)</span> <span class=\"nf\">arc</span><span class=\"p\">(</span><span class=\"s2\">&quot;Y&quot;</span><span class=\"p\">,</span><span class=\"mi\">1</span><span class=\"p\">,</span><span class=\"s2\">&quot;e&quot;</span><span class=\"p\">,</span><span class=\"mi\">2</span><span class=\"p\">)</span> <span class=\"nf\">arc</span><span class=\"p\">(</span><span class=\"s2\">&quot;Z&quot;</span><span class=\"p\">,</span><span class=\"mi\">2</span><span class=\"p\">,</span><span class=\"s2\">&quot;e&quot;</span><span class=\"p\">,</span><span class=\"mi\">2</span><span class=\"p\">)</span> <span class=\"nf\">arc</span><span class=\"p\">(</span><span class=\"s2\">&quot;Z&quot;</span><span class=\"p\">,</span><span class=\"mi\">1</span><span class=\"p\">,</span><span class=\"s2\">&quot;e&quot;</span><span class=\"p\">,</span><span class=\"mi\">3</span><span class=\"p\">)</span> <span class=\"nf\">arc</span><span class=\"p\">(</span><span class=\"s2\">&quot;X&quot;</span><span class=\"p\">,</span><span class=\"mi\">2</span><span class=\"p\">,</span><span class=\"s2\">&quot;e&quot;</span><span class=\"p\">,</span><span class=\"mi\">3</span><span class=\"p\">)</span> <span class=\"nf\">newArc</span><span class=\"p\">(</span><span class=\"s2\">&quot;X&quot;</span><span class=\"p\">,</span><span class=\"mi\">1</span><span class=\"p\">,</span><span class=\"s2\">&quot;e&quot;</span><span class=\"p\">,</span><span class=\"mi\">1</span><span class=\"p\">)</span> <span class=\"nf\">newArc</span><span class=\"p\">(</span><span class=\"s2\">&quot;X&quot;</span><span class=\"p\">,</span><span class=\"mi\">2</span><span class=\"p\">,</span><span class=\"s2\">&quot;e&quot;</span><span class=\"p\">,</span><span class=\"mi\">3</span><span class=\"p\">)</span> <span class=\"nf\">newArc</span><span class=\"p\">(</span><span class=\"s2\">&quot;Y&quot;</span><span class=\"p\">,</span><span class=\"mi\">2</span><span class=\"p\">,</span><span class=\"s2\">&quot;e&quot;</span><span class=\"p\">,</span><span class=\"mi\">1</span><span class=\"p\">)</span> <span class=\"nf\">newArc</span><span class=\"p\">(</span><span class=\"s2\">&quot;Y&quot;</span><span class=\"p\">,</span><span class=\"mi\">1</span><span class=\"p\">,</span><span class=\"s2\">&quot;e&quot;</span><span class=\"p\">,</span><span class=\"mi\">2</span><span class=\"p\">)</span> <span class=\"nf\">newArc</span><span class=\"p\">(</span><span class=\"s2\">&quot;Z&quot;</span><span class=\"p\">,</span><span class=\"mi\">2</span><span class=\"p\">,</span><span class=\"s2\">&quot;e&quot;</span><span class=\"p\">,</span><span class=\"mi\">2</span><span class=\"p\">)</span> <span class=\"nf\">newArc</span><span class=\"p\">(</span><span class=\"s2\">&quot;Z&quot;</span><span class=\"p\">,</span><span class=\"mi\">1</span><span class=\"p\">,</span><span class=\"s2\">&quot;e&quot;</span><span class=\"p\">,</span><span class=\"mi\">3</span><span class=\"p\">)</span> <span class=\"nf\">ruleOccTrue</span><span class=\"p\">(</span><span class=\"s2\">&quot;e&quot;</span><span class=\"p\">,</span><span class=\"mi\">1</span><span class=\"p\">)</span> <span class=\"nf\">ruleOccTrue</span><span class=\"p\">(</span><span class=\"s2\">&quot;e&quot;</span><span class=\"p\">,</span><span class=\"mi\">3</span><span class=\"p\">)</span> <span class=\"nf\">ne</span><span class=\"p\">(</span><span class=\"mi\">2</span><span class=\"p\">,</span><span class=\"s2\">&quot;Y&quot;</span><span class=\"p\">,</span><span class=\"s2\">&quot;Z&quot;</span><span class=\"p\">)</span> <span class=\"nf\">ne</span><span class=\"p\">(</span><span class=\"s2\">&quot;Y&quot;</span><span class=\"p\">,</span><span class=\"s2\">&quot;Z&quot;</span><span class=\"p\">)</span> <span class=\"nf\">e</span><span class=\"p\">(</span><span class=\"mi\">1</span><span class=\"p\">,</span><span class=\"s2\">&quot;X&quot;</span><span class=\"p\">,</span><span class=\"s2\">&quot;Y&quot;</span><span class=\"p\">)</span> <span class=\"nf\">e</span><span class=\"p\">(</span><span class=\"mi\">3</span><span class=\"p\">,</span><span class=\"s2\">&quot;Z&quot;</span><span class=\"p\">,</span><span class=\"s2\">&quot;X&quot;</span><span class=\"p\">)</span> <span class=\"nf\">e</span><span class=\"p\">(</span><span class=\"s2\">&quot;X&quot;</span><span class=\"p\">,</span><span class=\"s2\">&quot;Y&quot;</span><span class=\"p\">)</span> <span class=\"nf\">e</span><span class=\"p\">(</span><span class=\"s2\">&quot;Z&quot;</span><span class=\"p\">,</span><span class=\"s2\">&quot;X&quot;</span><span class=\"p\">)</span> <span class=\"nf\">newHArc</span><span class=\"p\">(</span><span class=\"s2\">&quot;Z&quot;</span><span class=\"p\">,</span><span class=\"mi\">3</span><span class=\"p\">,</span><span class=\"s2\">&quot;tri&quot;</span><span class=\"p\">)</span> <span class=\"nf\">newHArc</span><span class=\"p\">(</span><span class=\"s2\">&quot;Y&quot;</span><span class=\"p\">,</span><span class=\"mi\">2</span><span class=\"p\">,</span><span class=\"s2\">&quot;tri&quot;</span><span class=\"p\">)</span> <span class=\"nf\">newVar</span><span class=\"p\">(</span><span class=\"s2\">&quot;Y&quot;</span><span class=\"p\">,</span><span class=\"s s-Atom\">node</span><span class=\"p\">)</span> <span class=\"nf\">newVar</span><span class=\"p\">(</span><span class=\"s2\">&quot;Z&quot;</span><span class=\"p\">,</span><span class=\"s s-Atom\">node</span><span class=\"p\">)</span> <span class=\"nf\">neqOrd</span><span class=\"p\">(</span><span class=\"s2\">&quot;X&quot;</span><span class=\"p\">,</span><span class=\"s2\">&quot;Y&quot;</span><span class=\"p\">,</span><span class=\"s s-Atom\">node</span><span class=\"p\">)</span> <span class=\"nf\">neqOrd</span><span class=\"p\">(</span><span class=\"s2\">&quot;X&quot;</span><span class=\"p\">,</span><span class=\"s2\">&quot;Z&quot;</span><span class=\"p\">,</span><span class=\"s s-Atom\">node</span><span class=\"p\">)</span> <span class=\"nf\">neqOrd</span><span class=\"p\">(</span><span class=\"s2\">&quot;Y&quot;</span><span class=\"p\">,</span><span class=\"s2\">&quot;Z&quot;</span><span class=\"p\">,</span><span class=\"s s-Atom\">node</span><span class=\"p\">)</span>\n",
       "<span class=\"lineno\"> 9 </span><span class=\"nv\">Answer</span><span class=\"s s-Atom\">:</span> <span class=\"mi\">5</span>\n",
       "<span class=\"lineno\">10 </span><span class=\"nf\">ruleH</span><span class=\"p\">(</span><span class=\"s2\">&quot;tri&quot;</span><span class=\"p\">)</span> <span class=\"nf\">newVar</span><span class=\"p\">(</span><span class=\"s2\">&quot;X&quot;</span><span class=\"p\">,</span><span class=\"s s-Atom\">node</span><span class=\"p\">)</span> <span class=\"nf\">ruleOcc</span><span class=\"p\">(</span><span class=\"s2\">&quot;e&quot;</span><span class=\"p\">,</span><span class=\"mi\">1</span><span class=\"p\">)</span> <span class=\"nf\">ruleOcc</span><span class=\"p\">(</span><span class=\"s2\">&quot;e&quot;</span><span class=\"p\">,</span><span class=\"mi\">2</span><span class=\"p\">)</span> <span class=\"nf\">ruleOcc</span><span class=\"p\">(</span><span class=\"s2\">&quot;e&quot;</span><span class=\"p\">,</span><span class=\"mi\">3</span><span class=\"p\">)</span> <span class=\"nf\">var</span><span class=\"p\">(</span><span class=\"s2\">&quot;X&quot;</span><span class=\"p\">,</span><span class=\"s s-Atom\">node</span><span class=\"p\">)</span> <span class=\"nf\">var</span><span class=\"p\">(</span><span class=\"s2\">&quot;Y&quot;</span><span class=\"p\">,</span><span class=\"s s-Atom\">node</span><span class=\"p\">)</span> <span class=\"nf\">var</span><span class=\"p\">(</span><span class=\"s2\">&quot;Z&quot;</span><span class=\"p\">,</span><span class=\"s s-Atom\">node</span><span class=\"p\">)</span> <span class=\"nf\">hArc</span><span class=\"p\">(</span><span class=\"s2\">&quot;Z&quot;</span><span class=\"p\">,</span><span class=\"mi\">3</span><span class=\"p\">,</span><span class=\"s2\">&quot;tri&quot;</span><span class=\"p\">)</span> <span class=\"nf\">hArc</span><span class=\"p\">(</span><span class=\"s2\">&quot;Y&quot;</span><span class=\"p\">,</span><span class=\"mi\">2</span><span class=\"p\">,</span><span class=\"s2\">&quot;tri&quot;</span><span class=\"p\">)</span> <span class=\"nf\">hArc</span><span class=\"p\">(</span><span class=\"s2\">&quot;X&quot;</span><span class=\"p\">,</span><span class=\"mi\">1</span><span class=\"p\">,</span><span class=\"s2\">&quot;tri&quot;</span><span class=\"p\">)</span> <span class=\"nf\">newHArc</span><span class=\"p\">(</span><span class=\"s2\">&quot;X&quot;</span><span class=\"p\">,</span><span class=\"mi\">1</span><span class=\"p\">,</span><span class=\"s2\">&quot;tri&quot;</span><span class=\"p\">)</span> <span class=\"nf\">arc</span><span class=\"p\">(</span><span class=\"s2\">&quot;X&quot;</span><span class=\"p\">,</span><span class=\"mi\">1</span><span class=\"p\">,</span><span class=\"s2\">&quot;e&quot;</span><span class=\"p\">,</span><span class=\"mi\">1</span><span class=\"p\">)</span> <span class=\"nf\">arc</span><span class=\"p\">(</span><span class=\"s2\">&quot;Y&quot;</span><span class=\"p\">,</span><span class=\"mi\">2</span><span class=\"p\">,</span><span class=\"s2\">&quot;e&quot;</span><span class=\"p\">,</span><span class=\"mi\">1</span><span class=\"p\">)</span> <span class=\"nf\">arc</span><span class=\"p\">(</span><span class=\"s2\">&quot;Y&quot;</span><span class=\"p\">,</span><span class=\"mi\">1</span><span class=\"p\">,</span><span class=\"s2\">&quot;e&quot;</span><span class=\"p\">,</span><span class=\"mi\">2</span><span class=\"p\">)</span> <span class=\"nf\">arc</span><span class=\"p\">(</span><span class=\"s2\">&quot;Z&quot;</span><span class=\"p\">,</span><span class=\"mi\">2</span><span class=\"p\">,</span><span class=\"s2\">&quot;e&quot;</span><span class=\"p\">,</span><span class=\"mi\">2</span><span class=\"p\">)</span> <span class=\"nf\">arc</span><span class=\"p\">(</span><span class=\"s2\">&quot;Z&quot;</span><span class=\"p\">,</span><span class=\"mi\">1</span><span class=\"p\">,</span><span class=\"s2\">&quot;e&quot;</span><span class=\"p\">,</span><span class=\"mi\">3</span><span class=\"p\">)</span> <span class=\"nf\">arc</span><span class=\"p\">(</span><span class=\"s2\">&quot;X&quot;</span><span class=\"p\">,</span><span class=\"mi\">2</span><span class=\"p\">,</span><span class=\"s2\">&quot;e&quot;</span><span class=\"p\">,</span><span class=\"mi\">3</span><span class=\"p\">)</span> <span class=\"nf\">newArc</span><span class=\"p\">(</span><span class=\"s2\">&quot;X&quot;</span><span class=\"p\">,</span><span class=\"mi\">1</span><span class=\"p\">,</span><span class=\"s2\">&quot;e&quot;</span><span class=\"p\">,</span><span class=\"mi\">1</span><span class=\"p\">)</span> <span class=\"nf\">newArc</span><span class=\"p\">(</span><span class=\"s2\">&quot;X&quot;</span><span class=\"p\">,</span><span class=\"mi\">2</span><span class=\"p\">,</span><span class=\"s2\">&quot;e&quot;</span><span class=\"p\">,</span><span class=\"mi\">3</span><span class=\"p\">)</span> <span class=\"nf\">eqOrd</span><span class=\"p\">(</span><span class=\"s2\">&quot;Y&quot;</span><span class=\"p\">,</span><span class=\"s2\">&quot;Z&quot;</span><span class=\"p\">,</span><span class=\"s s-Atom\">node</span><span class=\"p\">)</span> <span class=\"nf\">newArc</span><span class=\"p\">(</span><span class=\"s2\">&quot;Y&quot;</span><span class=\"p\">,</span><span class=\"mi\">2</span><span class=\"p\">,</span><span class=\"s2\">&quot;e&quot;</span><span class=\"p\">,</span><span class=\"mi\">2</span><span class=\"p\">)</span> <span class=\"nf\">newArc</span><span class=\"p\">(</span><span class=\"s2\">&quot;Y&quot;</span><span class=\"p\">,</span><span class=\"mi\">1</span><span class=\"p\">,</span><span class=\"s2\">&quot;e&quot;</span><span class=\"p\">,</span><span class=\"mi\">3</span><span class=\"p\">)</span> <span class=\"nf\">newArc</span><span class=\"p\">(</span><span class=\"s2\">&quot;Y&quot;</span><span class=\"p\">,</span><span class=\"mi\">2</span><span class=\"p\">,</span><span class=\"s2\">&quot;e&quot;</span><span class=\"p\">,</span><span class=\"mi\">1</span><span class=\"p\">)</span> <span class=\"nf\">newArc</span><span class=\"p\">(</span><span class=\"s2\">&quot;Y&quot;</span><span class=\"p\">,</span><span class=\"mi\">1</span><span class=\"p\">,</span><span class=\"s2\">&quot;e&quot;</span><span class=\"p\">,</span><span class=\"mi\">2</span><span class=\"p\">)</span> <span class=\"nf\">ne</span><span class=\"p\">(</span><span class=\"mi\">2</span><span class=\"p\">,</span><span class=\"s2\">&quot;Y&quot;</span><span class=\"p\">,</span><span class=\"s2\">&quot;Y&quot;</span><span class=\"p\">)</span> <span class=\"nf\">ne</span><span class=\"p\">(</span><span class=\"mi\">1</span><span class=\"p\">,</span><span class=\"s2\">&quot;X&quot;</span><span class=\"p\">,</span><span class=\"s2\">&quot;Y&quot;</span><span class=\"p\">)</span> <span class=\"nf\">ne</span><span class=\"p\">(</span><span class=\"mi\">3</span><span class=\"p\">,</span><span class=\"s2\">&quot;Y&quot;</span><span class=\"p\">,</span><span class=\"s2\">&quot;X&quot;</span><span class=\"p\">)</span> <span class=\"nf\">ne</span><span class=\"p\">(</span><span class=\"s2\">&quot;Y&quot;</span><span class=\"p\">,</span><span class=\"s2\">&quot;X&quot;</span><span class=\"p\">)</span> <span class=\"nf\">ne</span><span class=\"p\">(</span><span class=\"s2\">&quot;X&quot;</span><span class=\"p\">,</span><span class=\"s2\">&quot;Y&quot;</span><span class=\"p\">)</span> <span class=\"nf\">ne</span><span class=\"p\">(</span><span class=\"s2\">&quot;Y&quot;</span><span class=\"p\">,</span><span class=\"s2\">&quot;Y&quot;</span><span class=\"p\">)</span> <span class=\"nf\">newHArc</span><span class=\"p\">(</span><span class=\"s2\">&quot;Y&quot;</span><span class=\"p\">,</span><span class=\"mi\">2</span><span class=\"p\">,</span><span class=\"s2\">&quot;tri&quot;</span><span class=\"p\">)</span> <span class=\"nf\">newHArc</span><span class=\"p\">(</span><span class=\"s2\">&quot;Y&quot;</span><span class=\"p\">,</span><span class=\"mi\">3</span><span class=\"p\">,</span><span class=\"s2\">&quot;tri&quot;</span><span class=\"p\">)</span> <span class=\"nf\">newVar</span><span class=\"p\">(</span><span class=\"s2\">&quot;Y&quot;</span><span class=\"p\">,</span><span class=\"s s-Atom\">node</span><span class=\"p\">)</span> <span class=\"nf\">neqOrd</span><span class=\"p\">(</span><span class=\"s2\">&quot;X&quot;</span><span class=\"p\">,</span><span class=\"s2\">&quot;Y&quot;</span><span class=\"p\">,</span><span class=\"s s-Atom\">node</span><span class=\"p\">)</span> <span class=\"nf\">eqOrdMinimal</span><span class=\"p\">(</span><span class=\"s2\">&quot;Y&quot;</span><span class=\"p\">,</span><span class=\"s2\">&quot;Z&quot;</span><span class=\"p\">,</span><span class=\"s s-Atom\">node</span><span class=\"p\">)</span>\n",
       "<span class=\"lineno\">11 </span><span class=\"nv\">Answer</span><span class=\"s s-Atom\">:</span> <span class=\"mi\">6</span>\n",
       "<span class=\"lineno\">12 </span><span class=\"nf\">ruleH</span><span class=\"p\">(</span><span class=\"s2\">&quot;tri&quot;</span><span class=\"p\">)</span> <span class=\"nf\">newVar</span><span class=\"p\">(</span><span class=\"s2\">&quot;X&quot;</span><span class=\"p\">,</span><span class=\"s s-Atom\">node</span><span class=\"p\">)</span> <span class=\"nf\">ruleOcc</span><span class=\"p\">(</span><span class=\"s2\">&quot;e&quot;</span><span class=\"p\">,</span><span class=\"mi\">1</span><span class=\"p\">)</span> <span class=\"nf\">ruleOcc</span><span class=\"p\">(</span><span class=\"s2\">&quot;e&quot;</span><span class=\"p\">,</span><span class=\"mi\">2</span><span class=\"p\">)</span> <span class=\"nf\">ruleOcc</span><span class=\"p\">(</span><span class=\"s2\">&quot;e&quot;</span><span class=\"p\">,</span><span class=\"mi\">3</span><span class=\"p\">)</span> <span class=\"nf\">var</span><span class=\"p\">(</span><span class=\"s2\">&quot;X&quot;</span><span class=\"p\">,</span><span class=\"s s-Atom\">node</span><span class=\"p\">)</span> <span class=\"nf\">var</span><span class=\"p\">(</span><span class=\"s2\">&quot;Y&quot;</span><span class=\"p\">,</span><span class=\"s s-Atom\">node</span><span class=\"p\">)</span> <span class=\"nf\">var</span><span class=\"p\">(</span><span class=\"s2\">&quot;Z&quot;</span><span class=\"p\">,</span><span class=\"s s-Atom\">node</span><span class=\"p\">)</span> <span class=\"nf\">hArc</span><span class=\"p\">(</span><span class=\"s2\">&quot;Z&quot;</span><span class=\"p\">,</span><span class=\"mi\">3</span><span class=\"p\">,</span><span class=\"s2\">&quot;tri&quot;</span><span class=\"p\">)</span> <span class=\"nf\">hArc</span><span class=\"p\">(</span><span class=\"s2\">&quot;Y&quot;</span><span class=\"p\">,</span><span class=\"mi\">2</span><span class=\"p\">,</span><span class=\"s2\">&quot;tri&quot;</span><span class=\"p\">)</span> <span class=\"nf\">hArc</span><span class=\"p\">(</span><span class=\"s2\">&quot;X&quot;</span><span class=\"p\">,</span><span class=\"mi\">1</span><span class=\"p\">,</span><span class=\"s2\">&quot;tri&quot;</span><span class=\"p\">)</span> <span class=\"nf\">newHArc</span><span class=\"p\">(</span><span class=\"s2\">&quot;X&quot;</span><span class=\"p\">,</span><span class=\"mi\">1</span><span class=\"p\">,</span><span class=\"s2\">&quot;tri&quot;</span><span class=\"p\">)</span> <span class=\"nf\">arc</span><span class=\"p\">(</span><span class=\"s2\">&quot;X&quot;</span><span class=\"p\">,</span><span class=\"mi\">1</span><span class=\"p\">,</span><span class=\"s2\">&quot;e&quot;</span><span class=\"p\">,</span><span class=\"mi\">1</span><span class=\"p\">)</span> <span class=\"nf\">arc</span><span class=\"p\">(</span><span class=\"s2\">&quot;Y&quot;</span><span class=\"p\">,</span><span class=\"mi\">2</span><span class=\"p\">,</span><span class=\"s2\">&quot;e&quot;</span><span class=\"p\">,</span><span class=\"mi\">1</span><span class=\"p\">)</span> <span class=\"nf\">arc</span><span class=\"p\">(</span><span class=\"s2\">&quot;Y&quot;</span><span class=\"p\">,</span><span class=\"mi\">1</span><span class=\"p\">,</span><span class=\"s2\">&quot;e&quot;</span><span class=\"p\">,</span><span class=\"mi\">2</span><span class=\"p\">)</span> <span class=\"nf\">arc</span><span class=\"p\">(</span><span class=\"s2\">&quot;Z&quot;</span><span class=\"p\">,</span><span class=\"mi\">2</span><span class=\"p\">,</span><span class=\"s2\">&quot;e&quot;</span><span class=\"p\">,</span><span class=\"mi\">2</span><span class=\"p\">)</span> <span class=\"nf\">arc</span><span class=\"p\">(</span><span class=\"s2\">&quot;Z&quot;</span><span class=\"p\">,</span><span class=\"mi\">1</span><span class=\"p\">,</span><span class=\"s2\">&quot;e&quot;</span><span class=\"p\">,</span><span class=\"mi\">3</span><span class=\"p\">)</span> <span class=\"nf\">arc</span><span class=\"p\">(</span><span class=\"s2\">&quot;X&quot;</span><span class=\"p\">,</span><span class=\"mi\">2</span><span class=\"p\">,</span><span class=\"s2\">&quot;e&quot;</span><span class=\"p\">,</span><span class=\"mi\">3</span><span class=\"p\">)</span> <span class=\"nf\">newArc</span><span class=\"p\">(</span><span class=\"s2\">&quot;X&quot;</span><span class=\"p\">,</span><span class=\"mi\">1</span><span class=\"p\">,</span><span class=\"s2\">&quot;e&quot;</span><span class=\"p\">,</span><span class=\"mi\">1</span><span class=\"p\">)</span> <span class=\"nf\">newArc</span><span class=\"p\">(</span><span class=\"s2\">&quot;X&quot;</span><span class=\"p\">,</span><span class=\"mi\">2</span><span class=\"p\">,</span><span class=\"s2\">&quot;e&quot;</span><span class=\"p\">,</span><span class=\"mi\">3</span><span class=\"p\">)</span> <span class=\"nf\">eqOrd</span><span class=\"p\">(</span><span class=\"s2\">&quot;Y&quot;</span><span class=\"p\">,</span><span class=\"s2\">&quot;Z&quot;</span><span class=\"p\">,</span><span class=\"s s-Atom\">node</span><span class=\"p\">)</span> <span class=\"nf\">newArc</span><span class=\"p\">(</span><span class=\"s2\">&quot;Y&quot;</span><span class=\"p\">,</span><span class=\"mi\">2</span><span class=\"p\">,</span><span class=\"s2\">&quot;e&quot;</span><span class=\"p\">,</span><span class=\"mi\">2</span><span class=\"p\">)</span> <span class=\"nf\">newArc</span><span class=\"p\">(</span><span class=\"s2\">&quot;Y&quot;</span><span class=\"p\">,</span><span class=\"mi\">1</span><span class=\"p\">,</span><span class=\"s2\">&quot;e&quot;</span><span class=\"p\">,</span><span class=\"mi\">3</span><span class=\"p\">)</span> <span class=\"nf\">newArc</span><span class=\"p\">(</span><span class=\"s2\">&quot;Y&quot;</span><span class=\"p\">,</span><span class=\"mi\">2</span><span class=\"p\">,</span><span class=\"s2\">&quot;e&quot;</span><span class=\"p\">,</span><span class=\"mi\">1</span><span class=\"p\">)</span> <span class=\"nf\">newArc</span><span class=\"p\">(</span><span class=\"s2\">&quot;Y&quot;</span><span class=\"p\">,</span><span class=\"mi\">1</span><span class=\"p\">,</span><span class=\"s2\">&quot;e&quot;</span><span class=\"p\">,</span><span class=\"mi\">2</span><span class=\"p\">)</span> <span class=\"nf\">ruleOccTrue</span><span class=\"p\">(</span><span class=\"s2\">&quot;e&quot;</span><span class=\"p\">,</span><span class=\"mi\">1</span><span class=\"p\">)</span> <span class=\"nf\">ne</span><span class=\"p\">(</span><span class=\"mi\">2</span><span class=\"p\">,</span><span class=\"s2\">&quot;Y&quot;</span><span class=\"p\">,</span><span class=\"s2\">&quot;Y&quot;</span><span class=\"p\">)</span> <span class=\"nf\">ne</span><span class=\"p\">(</span><span class=\"mi\">3</span><span class=\"p\">,</span><span class=\"s2\">&quot;Y&quot;</span><span class=\"p\">,</span><span class=\"s2\">&quot;X&quot;</span><span class=\"p\">)</span> <span class=\"nf\">ne</span><span class=\"p\">(</span><span class=\"s2\">&quot;Y&quot;</span><span class=\"p\">,</span><span class=\"s2\">&quot;X&quot;</span><span class=\"p\">)</span> <span class=\"nf\">ne</span><span class=\"p\">(</span><span class=\"s2\">&quot;Y&quot;</span><span class=\"p\">,</span><span class=\"s2\">&quot;Y&quot;</span><span class=\"p\">)</span> <span class=\"nf\">e</span><span class=\"p\">(</span><span class=\"mi\">1</span><span class=\"p\">,</span><span class=\"s2\">&quot;X&quot;</span><span class=\"p\">,</span><span class=\"s2\">&quot;Y&quot;</span><span class=\"p\">)</span> <span class=\"nf\">e</span><span class=\"p\">(</span><span class=\"s2\">&quot;X&quot;</span><span class=\"p\">,</span><span class=\"s2\">&quot;Y&quot;</span><span class=\"p\">)</span> <span class=\"nf\">newHArc</span><span class=\"p\">(</span><span class=\"s2\">&quot;Y&quot;</span><span class=\"p\">,</span><span class=\"mi\">2</span><span class=\"p\">,</span><span class=\"s2\">&quot;tri&quot;</span><span class=\"p\">)</span> <span class=\"nf\">newHArc</span><span class=\"p\">(</span><span class=\"s2\">&quot;Y&quot;</span><span class=\"p\">,</span><span class=\"mi\">3</span><span class=\"p\">,</span><span class=\"s2\">&quot;tri&quot;</span><span class=\"p\">)</span> <span class=\"nf\">newVar</span><span class=\"p\">(</span><span class=\"s2\">&quot;Y&quot;</span><span class=\"p\">,</span><span class=\"s s-Atom\">node</span><span class=\"p\">)</span> <span class=\"nf\">neqOrd</span><span class=\"p\">(</span><span class=\"s2\">&quot;X&quot;</span><span class=\"p\">,</span><span class=\"s2\">&quot;Y&quot;</span><span class=\"p\">,</span><span class=\"s s-Atom\">node</span><span class=\"p\">)</span> <span class=\"nf\">eqOrdMinimal</span><span class=\"p\">(</span><span class=\"s2\">&quot;Y&quot;</span><span class=\"p\">,</span><span class=\"s2\">&quot;Z&quot;</span><span class=\"p\">,</span><span class=\"s s-Atom\">node</span><span class=\"p\">)</span>\n",
       "<span class=\"lineno\">13 </span><span class=\"nv\">Answer</span><span class=\"s s-Atom\">:</span> <span class=\"mi\">7</span>\n",
       "<span class=\"lineno\">14 </span><span class=\"nf\">ruleH</span><span class=\"p\">(</span><span class=\"s2\">&quot;tri&quot;</span><span class=\"p\">)</span> <span class=\"nf\">newVar</span><span class=\"p\">(</span><span class=\"s2\">&quot;X&quot;</span><span class=\"p\">,</span><span class=\"s s-Atom\">node</span><span class=\"p\">)</span> <span class=\"nf\">ruleOcc</span><span class=\"p\">(</span><span class=\"s2\">&quot;e&quot;</span><span class=\"p\">,</span><span class=\"mi\">1</span><span class=\"p\">)</span> <span class=\"nf\">ruleOcc</span><span class=\"p\">(</span><span class=\"s2\">&quot;e&quot;</span><span class=\"p\">,</span><span class=\"mi\">2</span><span class=\"p\">)</span> <span class=\"nf\">ruleOcc</span><span class=\"p\">(</span><span class=\"s2\">&quot;e&quot;</span><span class=\"p\">,</span><span class=\"mi\">3</span><span class=\"p\">)</span> <span class=\"nf\">var</span><span class=\"p\">(</span><span class=\"s2\">&quot;X&quot;</span><span class=\"p\">,</span><span class=\"s s-Atom\">node</span><span class=\"p\">)</span> <span class=\"nf\">var</span><span class=\"p\">(</span><span class=\"s2\">&quot;Y&quot;</span><span class=\"p\">,</span><span class=\"s s-Atom\">node</span><span class=\"p\">)</span> <span class=\"nf\">var</span><span class=\"p\">(</span><span class=\"s2\">&quot;Z&quot;</span><span class=\"p\">,</span><span class=\"s s-Atom\">node</span><span class=\"p\">)</span> <span class=\"nf\">hArc</span><span class=\"p\">(</span><span class=\"s2\">&quot;Z&quot;</span><span class=\"p\">,</span><span class=\"mi\">3</span><span class=\"p\">,</span><span class=\"s2\">&quot;tri&quot;</span><span class=\"p\">)</span> <span class=\"nf\">hArc</span><span class=\"p\">(</span><span class=\"s2\">&quot;Y&quot;</span><span class=\"p\">,</span><span class=\"mi\">2</span><span class=\"p\">,</span><span class=\"s2\">&quot;tri&quot;</span><span class=\"p\">)</span> <span class=\"nf\">hArc</span><span class=\"p\">(</span><span class=\"s2\">&quot;X&quot;</span><span class=\"p\">,</span><span class=\"mi\">1</span><span class=\"p\">,</span><span class=\"s2\">&quot;tri&quot;</span><span class=\"p\">)</span> <span class=\"nf\">newHArc</span><span class=\"p\">(</span><span class=\"s2\">&quot;X&quot;</span><span class=\"p\">,</span><span class=\"mi\">1</span><span class=\"p\">,</span><span class=\"s2\">&quot;tri&quot;</span><span class=\"p\">)</span> <span class=\"nf\">arc</span><span class=\"p\">(</span><span class=\"s2\">&quot;X&quot;</span><span class=\"p\">,</span><span class=\"mi\">1</span><span class=\"p\">,</span><span class=\"s2\">&quot;e&quot;</span><span class=\"p\">,</span><span class=\"mi\">1</span><span class=\"p\">)</span> <span class=\"nf\">arc</span><span class=\"p\">(</span><span class=\"s2\">&quot;Y&quot;</span><span class=\"p\">,</span><span class=\"mi\">2</span><span class=\"p\">,</span><span class=\"s2\">&quot;e&quot;</span><span class=\"p\">,</span><span class=\"mi\">1</span><span class=\"p\">)</span> <span class=\"nf\">arc</span><span class=\"p\">(</span><span class=\"s2\">&quot;Y&quot;</span><span class=\"p\">,</span><span class=\"mi\">1</span><span class=\"p\">,</span><span class=\"s2\">&quot;e&quot;</span><span class=\"p\">,</span><span class=\"mi\">2</span><span class=\"p\">)</span> <span class=\"nf\">arc</span><span class=\"p\">(</span><span class=\"s2\">&quot;Z&quot;</span><span class=\"p\">,</span><span class=\"mi\">2</span><span class=\"p\">,</span><span class=\"s2\">&quot;e&quot;</span><span class=\"p\">,</span><span class=\"mi\">2</span><span class=\"p\">)</span> <span class=\"nf\">arc</span><span class=\"p\">(</span><span class=\"s2\">&quot;Z&quot;</span><span class=\"p\">,</span><span class=\"mi\">1</span><span class=\"p\">,</span><span class=\"s2\">&quot;e&quot;</span><span class=\"p\">,</span><span class=\"mi\">3</span><span class=\"p\">)</span> <span class=\"nf\">arc</span><span class=\"p\">(</span><span class=\"s2\">&quot;X&quot;</span><span class=\"p\">,</span><span class=\"mi\">2</span><span class=\"p\">,</span><span class=\"s2\">&quot;e&quot;</span><span class=\"p\">,</span><span class=\"mi\">3</span><span class=\"p\">)</span> <span class=\"nf\">newArc</span><span class=\"p\">(</span><span class=\"s2\">&quot;X&quot;</span><span class=\"p\">,</span><span class=\"mi\">1</span><span class=\"p\">,</span><span class=\"s2\">&quot;e&quot;</span><span class=\"p\">,</span><span class=\"mi\">1</span><span class=\"p\">)</span> <span class=\"nf\">newArc</span><span class=\"p\">(</span><span class=\"s2\">&quot;X&quot;</span><span class=\"p\">,</span><span class=\"mi\">2</span><span class=\"p\">,</span><span class=\"s2\">&quot;e&quot;</span><span class=\"p\">,</span><span class=\"mi\">3</span><span class=\"p\">)</span> <span class=\"nf\">eqOrd</span><span class=\"p\">(</span><span class=\"s2\">&quot;Y&quot;</span><span class=\"p\">,</span><span class=\"s2\">&quot;Z&quot;</span><span class=\"p\">,</span><span class=\"s s-Atom\">node</span><span class=\"p\">)</span> <span class=\"nf\">newArc</span><span class=\"p\">(</span><span class=\"s2\">&quot;Y&quot;</span><span class=\"p\">,</span><span class=\"mi\">2</span><span class=\"p\">,</span><span class=\"s2\">&quot;e&quot;</span><span class=\"p\">,</span><span class=\"mi\">2</span><span class=\"p\">)</span> <span class=\"nf\">newArc</span><span class=\"p\">(</span><span class=\"s2\">&quot;Y&quot;</span><span class=\"p\">,</span><span class=\"mi\">1</span><span class=\"p\">,</span><span class=\"s2\">&quot;e&quot;</span><span class=\"p\">,</span><span class=\"mi\">3</span><span class=\"p\">)</span> <span class=\"nf\">newArc</span><span class=\"p\">(</span><span class=\"s2\">&quot;Y&quot;</span><span class=\"p\">,</span><span class=\"mi\">2</span><span class=\"p\">,</span><span class=\"s2\">&quot;e&quot;</span><span class=\"p\">,</span><span class=\"mi\">1</span><span class=\"p\">)</span> <span class=\"nf\">newArc</span><span class=\"p\">(</span><span class=\"s2\">&quot;Y&quot;</span><span class=\"p\">,</span><span class=\"mi\">1</span><span class=\"p\">,</span><span class=\"s2\">&quot;e&quot;</span><span class=\"p\">,</span><span class=\"mi\">2</span><span class=\"p\">)</span> <span class=\"nf\">ruleOccTrue</span><span class=\"p\">(</span><span class=\"s2\">&quot;e&quot;</span><span class=\"p\">,</span><span class=\"mi\">3</span><span class=\"p\">)</span> <span class=\"nf\">ne</span><span class=\"p\">(</span><span class=\"mi\">2</span><span class=\"p\">,</span><span class=\"s2\">&quot;Y&quot;</span><span class=\"p\">,</span><span class=\"s2\">&quot;Y&quot;</span><span class=\"p\">)</span> <span class=\"nf\">ne</span><span class=\"p\">(</span><span class=\"mi\">1</span><span class=\"p\">,</span><span class=\"s2\">&quot;X&quot;</span><span class=\"p\">,</span><span class=\"s2\">&quot;Y&quot;</span><span class=\"p\">)</span> <span class=\"nf\">ne</span><span class=\"p\">(</span><span class=\"s2\">&quot;X&quot;</span><span class=\"p\">,</span><span class=\"s2\">&quot;Y&quot;</span><span class=\"p\">)</span> <span class=\"nf\">ne</span><span class=\"p\">(</span><span class=\"s2\">&quot;Y&quot;</span><span class=\"p\">,</span><span class=\"s2\">&quot;Y&quot;</span><span class=\"p\">)</span> <span class=\"nf\">e</span><span class=\"p\">(</span><span class=\"mi\">3</span><span class=\"p\">,</span><span class=\"s2\">&quot;Y&quot;</span><span class=\"p\">,</span><span class=\"s2\">&quot;X&quot;</span><span class=\"p\">)</span> <span class=\"nf\">e</span><span class=\"p\">(</span><span class=\"s2\">&quot;Y&quot;</span><span class=\"p\">,</span><span class=\"s2\">&quot;X&quot;</span><span class=\"p\">)</span> <span class=\"nf\">newHArc</span><span class=\"p\">(</span><span class=\"s2\">&quot;Y&quot;</span><span class=\"p\">,</span><span class=\"mi\">2</span><span class=\"p\">,</span><span class=\"s2\">&quot;tri&quot;</span><span class=\"p\">)</span> <span class=\"nf\">newHArc</span><span class=\"p\">(</span><span class=\"s2\">&quot;Y&quot;</span><span class=\"p\">,</span><span class=\"mi\">3</span><span class=\"p\">,</span><span class=\"s2\">&quot;tri&quot;</span><span class=\"p\">)</span> <span class=\"nf\">newVar</span><span class=\"p\">(</span><span class=\"s2\">&quot;Y&quot;</span><span class=\"p\">,</span><span class=\"s s-Atom\">node</span><span class=\"p\">)</span> <span class=\"nf\">neqOrd</span><span class=\"p\">(</span><span class=\"s2\">&quot;X&quot;</span><span class=\"p\">,</span><span class=\"s2\">&quot;Y&quot;</span><span class=\"p\">,</span><span class=\"s s-Atom\">node</span><span class=\"p\">)</span> <span class=\"nf\">eqOrdMinimal</span><span class=\"p\">(</span><span class=\"s2\">&quot;Y&quot;</span><span class=\"p\">,</span><span class=\"s2\">&quot;Z&quot;</span><span class=\"p\">,</span><span class=\"s s-Atom\">node</span><span class=\"p\">)</span>\n",
       "<span class=\"lineno\">15 </span><span class=\"nv\">Answer</span><span class=\"s s-Atom\">:</span> <span class=\"mi\">8</span>\n",
       "<span class=\"lineno\">16 </span><span class=\"nf\">ruleH</span><span class=\"p\">(</span><span class=\"s2\">&quot;tri&quot;</span><span class=\"p\">)</span> <span class=\"nf\">newVar</span><span class=\"p\">(</span><span class=\"s2\">&quot;X&quot;</span><span class=\"p\">,</span><span class=\"s s-Atom\">node</span><span class=\"p\">)</span> <span class=\"nf\">ruleOcc</span><span class=\"p\">(</span><span class=\"s2\">&quot;e&quot;</span><span class=\"p\">,</span><span class=\"mi\">1</span><span class=\"p\">)</span> <span class=\"nf\">ruleOcc</span><span class=\"p\">(</span><span class=\"s2\">&quot;e&quot;</span><span class=\"p\">,</span><span class=\"mi\">2</span><span class=\"p\">)</span> <span class=\"nf\">ruleOcc</span><span class=\"p\">(</span><span class=\"s2\">&quot;e&quot;</span><span class=\"p\">,</span><span class=\"mi\">3</span><span class=\"p\">)</span> <span class=\"nf\">var</span><span class=\"p\">(</span><span class=\"s2\">&quot;X&quot;</span><span class=\"p\">,</span><span class=\"s s-Atom\">node</span><span class=\"p\">)</span> <span class=\"nf\">var</span><span class=\"p\">(</span><span class=\"s2\">&quot;Y&quot;</span><span class=\"p\">,</span><span class=\"s s-Atom\">node</span><span class=\"p\">)</span> <span class=\"nf\">var</span><span class=\"p\">(</span><span class=\"s2\">&quot;Z&quot;</span><span class=\"p\">,</span><span class=\"s s-Atom\">node</span><span class=\"p\">)</span> <span class=\"nf\">hArc</span><span class=\"p\">(</span><span class=\"s2\">&quot;Z&quot;</span><span class=\"p\">,</span><span class=\"mi\">3</span><span class=\"p\">,</span><span class=\"s2\">&quot;tri&quot;</span><span class=\"p\">)</span> <span class=\"nf\">hArc</span><span class=\"p\">(</span><span class=\"s2\">&quot;Y&quot;</span><span class=\"p\">,</span><span class=\"mi\">2</span><span class=\"p\">,</span><span class=\"s2\">&quot;tri&quot;</span><span class=\"p\">)</span> <span class=\"nf\">hArc</span><span class=\"p\">(</span><span class=\"s2\">&quot;X&quot;</span><span class=\"p\">,</span><span class=\"mi\">1</span><span class=\"p\">,</span><span class=\"s2\">&quot;tri&quot;</span><span class=\"p\">)</span> <span class=\"nf\">newHArc</span><span class=\"p\">(</span><span class=\"s2\">&quot;X&quot;</span><span class=\"p\">,</span><span class=\"mi\">1</span><span class=\"p\">,</span><span class=\"s2\">&quot;tri&quot;</span><span class=\"p\">)</span> <span class=\"nf\">arc</span><span class=\"p\">(</span><span class=\"s2\">&quot;X&quot;</span><span class=\"p\">,</span><span class=\"mi\">1</span><span class=\"p\">,</span><span class=\"s2\">&quot;e&quot;</span><span class=\"p\">,</span><span class=\"mi\">1</span><span class=\"p\">)</span> <span class=\"nf\">arc</span><span class=\"p\">(</span><span class=\"s2\">&quot;Y&quot;</span><span class=\"p\">,</span><span class=\"mi\">2</span><span class=\"p\">,</span><span class=\"s2\">&quot;e&quot;</span><span class=\"p\">,</span><span class=\"mi\">1</span><span class=\"p\">)</span> <span class=\"nf\">arc</span><span class=\"p\">(</span><span class=\"s2\">&quot;Y&quot;</span><span class=\"p\">,</span><span class=\"mi\">1</span><span class=\"p\">,</span><span class=\"s2\">&quot;e&quot;</span><span class=\"p\">,</span><span class=\"mi\">2</span><span class=\"p\">)</span> <span class=\"nf\">arc</span><span class=\"p\">(</span><span class=\"s2\">&quot;Z&quot;</span><span class=\"p\">,</span><span class=\"mi\">2</span><span class=\"p\">,</span><span class=\"s2\">&quot;e&quot;</span><span class=\"p\">,</span><span class=\"mi\">2</span><span class=\"p\">)</span> <span class=\"nf\">arc</span><span class=\"p\">(</span><span class=\"s2\">&quot;Z&quot;</span><span class=\"p\">,</span><span class=\"mi\">1</span><span class=\"p\">,</span><span class=\"s2\">&quot;e&quot;</span><span class=\"p\">,</span><span class=\"mi\">3</span><span class=\"p\">)</span> <span class=\"nf\">arc</span><span class=\"p\">(</span><span class=\"s2\">&quot;X&quot;</span><span class=\"p\">,</span><span class=\"mi\">2</span><span class=\"p\">,</span><span class=\"s2\">&quot;e&quot;</span><span class=\"p\">,</span><span class=\"mi\">3</span><span class=\"p\">)</span> <span class=\"nf\">newArc</span><span class=\"p\">(</span><span class=\"s2\">&quot;X&quot;</span><span class=\"p\">,</span><span class=\"mi\">1</span><span class=\"p\">,</span><span class=\"s2\">&quot;e&quot;</span><span class=\"p\">,</span><span class=\"mi\">1</span><span class=\"p\">)</span> <span class=\"nf\">newArc</span><span class=\"p\">(</span><span class=\"s2\">&quot;X&quot;</span><span class=\"p\">,</span><span class=\"mi\">2</span><span class=\"p\">,</span><span class=\"s2\">&quot;e&quot;</span><span class=\"p\">,</span><span class=\"mi\">3</span><span class=\"p\">)</span> <span class=\"nf\">eqOrd</span><span class=\"p\">(</span><span class=\"s2\">&quot;Y&quot;</span><span class=\"p\">,</span><span class=\"s2\">&quot;Z&quot;</span><span class=\"p\">,</span><span class=\"s s-Atom\">node</span><span class=\"p\">)</span> <span class=\"nf\">newArc</span><span class=\"p\">(</span><span class=\"s2\">&quot;Y&quot;</span><span class=\"p\">,</span><span class=\"mi\">2</span><span class=\"p\">,</span><span class=\"s2\">&quot;e&quot;</span><span class=\"p\">,</span><span class=\"mi\">2</span><span class=\"p\">)</span> <span class=\"nf\">newArc</span><span class=\"p\">(</span><span class=\"s2\">&quot;Y&quot;</span><span class=\"p\">,</span><span class=\"mi\">1</span><span class=\"p\">,</span><span class=\"s2\">&quot;e&quot;</span><span class=\"p\">,</span><span class=\"mi\">3</span><span class=\"p\">)</span> <span class=\"nf\">newArc</span><span class=\"p\">(</span><span class=\"s2\">&quot;Y&quot;</span><span class=\"p\">,</span><span class=\"mi\">2</span><span class=\"p\">,</span><span class=\"s2\">&quot;e&quot;</span><span class=\"p\">,</span><span class=\"mi\">1</span><span class=\"p\">)</span> <span class=\"nf\">newArc</span><span class=\"p\">(</span><span class=\"s2\">&quot;Y&quot;</span><span class=\"p\">,</span><span class=\"mi\">1</span><span class=\"p\">,</span><span class=\"s2\">&quot;e&quot;</span><span class=\"p\">,</span><span class=\"mi\">2</span><span class=\"p\">)</span> <span class=\"nf\">ruleOccTrue</span><span class=\"p\">(</span><span class=\"s2\">&quot;e&quot;</span><span class=\"p\">,</span><span class=\"mi\">1</span><span class=\"p\">)</span> <span class=\"nf\">ruleOccTrue</span><span class=\"p\">(</span><span class=\"s2\">&quot;e&quot;</span><span class=\"p\">,</span><span class=\"mi\">3</span><span class=\"p\">)</span> <span class=\"nf\">ne</span><span class=\"p\">(</span><span class=\"mi\">2</span><span class=\"p\">,</span><span class=\"s2\">&quot;Y&quot;</span><span class=\"p\">,</span><span class=\"s2\">&quot;Y&quot;</span><span class=\"p\">)</span> <span class=\"nf\">ne</span><span class=\"p\">(</span><span class=\"s2\">&quot;Y&quot;</span><span class=\"p\">,</span><span class=\"s2\">&quot;Y&quot;</span><span class=\"p\">)</span> <span class=\"nf\">e</span><span class=\"p\">(</span><span class=\"mi\">1</span><span class=\"p\">,</span><span class=\"s2\">&quot;X&quot;</span><span class=\"p\">,</span><span class=\"s2\">&quot;Y&quot;</span><span class=\"p\">)</span> <span class=\"nf\">e</span><span class=\"p\">(</span><span class=\"mi\">3</span><span class=\"p\">,</span><span class=\"s2\">&quot;Y&quot;</span><span class=\"p\">,</span><span class=\"s2\">&quot;X&quot;</span><span class=\"p\">)</span> <span class=\"nf\">e</span><span class=\"p\">(</span><span class=\"s2\">&quot;X&quot;</span><span class=\"p\">,</span><span class=\"s2\">&quot;Y&quot;</span><span class=\"p\">)</span> <span class=\"nf\">e</span><span class=\"p\">(</span><span class=\"s2\">&quot;Y&quot;</span><span class=\"p\">,</span><span class=\"s2\">&quot;X&quot;</span><span class=\"p\">)</span> <span class=\"nf\">newHArc</span><span class=\"p\">(</span><span class=\"s2\">&quot;Y&quot;</span><span class=\"p\">,</span><span class=\"mi\">2</span><span class=\"p\">,</span><span class=\"s2\">&quot;tri&quot;</span><span class=\"p\">)</span> <span class=\"nf\">newHArc</span><span class=\"p\">(</span><span class=\"s2\">&quot;Y&quot;</span><span class=\"p\">,</span><span class=\"mi\">3</span><span class=\"p\">,</span><span class=\"s2\">&quot;tri&quot;</span><span class=\"p\">)</span> <span class=\"nf\">newVar</span><span class=\"p\">(</span><span class=\"s2\">&quot;Y&quot;</span><span class=\"p\">,</span><span class=\"s s-Atom\">node</span><span class=\"p\">)</span> <span class=\"nf\">neqOrd</span><span class=\"p\">(</span><span class=\"s2\">&quot;X&quot;</span><span class=\"p\">,</span><span class=\"s2\">&quot;Y&quot;</span><span class=\"p\">,</span><span class=\"s s-Atom\">node</span><span class=\"p\">)</span> <span class=\"nf\">eqOrdMinimal</span><span class=\"p\">(</span><span class=\"s2\">&quot;Y&quot;</span><span class=\"p\">,</span><span class=\"s2\">&quot;Z&quot;</span><span class=\"p\">,</span><span class=\"s s-Atom\">node</span><span class=\"p\">)</span>\n",
       "<span class=\"lineno\">17 </span><span class=\"nv\">Answer</span><span class=\"s s-Atom\">:</span> <span class=\"mi\">9</span>\n",
       "<span class=\"lineno\">18 </span><span class=\"nf\">ruleH</span><span class=\"p\">(</span><span class=\"s2\">&quot;tri&quot;</span><span class=\"p\">)</span> <span class=\"nf\">newVar</span><span class=\"p\">(</span><span class=\"s2\">&quot;X&quot;</span><span class=\"p\">,</span><span class=\"s s-Atom\">node</span><span class=\"p\">)</span> <span class=\"nf\">ruleOcc</span><span class=\"p\">(</span><span class=\"s2\">&quot;e&quot;</span><span class=\"p\">,</span><span class=\"mi\">1</span><span class=\"p\">)</span> <span class=\"nf\">ruleOcc</span><span class=\"p\">(</span><span class=\"s2\">&quot;e&quot;</span><span class=\"p\">,</span><span class=\"mi\">2</span><span class=\"p\">)</span> <span class=\"nf\">ruleOcc</span><span class=\"p\">(</span><span class=\"s2\">&quot;e&quot;</span><span class=\"p\">,</span><span class=\"mi\">3</span><span class=\"p\">)</span> <span class=\"nf\">var</span><span class=\"p\">(</span><span class=\"s2\">&quot;X&quot;</span><span class=\"p\">,</span><span class=\"s s-Atom\">node</span><span class=\"p\">)</span> <span class=\"nf\">var</span><span class=\"p\">(</span><span class=\"s2\">&quot;Y&quot;</span><span class=\"p\">,</span><span class=\"s s-Atom\">node</span><span class=\"p\">)</span> <span class=\"nf\">var</span><span class=\"p\">(</span><span class=\"s2\">&quot;Z&quot;</span><span class=\"p\">,</span><span class=\"s s-Atom\">node</span><span class=\"p\">)</span> <span class=\"nf\">hArc</span><span class=\"p\">(</span><span class=\"s2\">&quot;Z&quot;</span><span class=\"p\">,</span><span class=\"mi\">3</span><span class=\"p\">,</span><span class=\"s2\">&quot;tri&quot;</span><span class=\"p\">)</span> <span class=\"nf\">hArc</span><span class=\"p\">(</span><span class=\"s2\">&quot;Y&quot;</span><span class=\"p\">,</span><span class=\"mi\">2</span><span class=\"p\">,</span><span class=\"s2\">&quot;tri&quot;</span><span class=\"p\">)</span> <span class=\"nf\">hArc</span><span class=\"p\">(</span><span class=\"s2\">&quot;X&quot;</span><span class=\"p\">,</span><span class=\"mi\">1</span><span class=\"p\">,</span><span class=\"s2\">&quot;tri&quot;</span><span class=\"p\">)</span> <span class=\"nf\">newHArc</span><span class=\"p\">(</span><span class=\"s2\">&quot;X&quot;</span><span class=\"p\">,</span><span class=\"mi\">1</span><span class=\"p\">,</span><span class=\"s2\">&quot;tri&quot;</span><span class=\"p\">)</span> <span class=\"nf\">arc</span><span class=\"p\">(</span><span class=\"s2\">&quot;X&quot;</span><span class=\"p\">,</span><span class=\"mi\">1</span><span class=\"p\">,</span><span class=\"s2\">&quot;e&quot;</span><span class=\"p\">,</span><span class=\"mi\">1</span><span class=\"p\">)</span> <span class=\"nf\">arc</span><span class=\"p\">(</span><span class=\"s2\">&quot;Y&quot;</span><span class=\"p\">,</span><span class=\"mi\">2</span><span class=\"p\">,</span><span class=\"s2\">&quot;e&quot;</span><span class=\"p\">,</span><span class=\"mi\">1</span><span class=\"p\">)</span> <span class=\"nf\">arc</span><span class=\"p\">(</span><span class=\"s2\">&quot;Y&quot;</span><span class=\"p\">,</span><span class=\"mi\">1</span><span class=\"p\">,</span><span class=\"s2\">&quot;e&quot;</span><span class=\"p\">,</span><span class=\"mi\">2</span><span class=\"p\">)</span> <span class=\"nf\">arc</span><span class=\"p\">(</span><span class=\"s2\">&quot;Z&quot;</span><span class=\"p\">,</span><span class=\"mi\">2</span><span class=\"p\">,</span><span class=\"s2\">&quot;e&quot;</span><span class=\"p\">,</span><span class=\"mi\">2</span><span class=\"p\">)</span> <span class=\"nf\">arc</span><span class=\"p\">(</span><span class=\"s2\">&quot;Z&quot;</span><span class=\"p\">,</span><span class=\"mi\">1</span><span class=\"p\">,</span><span class=\"s2\">&quot;e&quot;</span><span class=\"p\">,</span><span class=\"mi\">3</span><span class=\"p\">)</span> <span class=\"nf\">arc</span><span class=\"p\">(</span><span class=\"s2\">&quot;X&quot;</span><span class=\"p\">,</span><span class=\"mi\">2</span><span class=\"p\">,</span><span class=\"s2\">&quot;e&quot;</span><span class=\"p\">,</span><span class=\"mi\">3</span><span class=\"p\">)</span> <span class=\"nf\">newArc</span><span class=\"p\">(</span><span class=\"s2\">&quot;X&quot;</span><span class=\"p\">,</span><span class=\"mi\">1</span><span class=\"p\">,</span><span class=\"s2\">&quot;e&quot;</span><span class=\"p\">,</span><span class=\"mi\">1</span><span class=\"p\">)</span> <span class=\"nf\">newArc</span><span class=\"p\">(</span><span class=\"s2\">&quot;X&quot;</span><span class=\"p\">,</span><span class=\"mi\">2</span><span class=\"p\">,</span><span class=\"s2\">&quot;e&quot;</span><span class=\"p\">,</span><span class=\"mi\">3</span><span class=\"p\">)</span> <span class=\"nf\">eqOrd</span><span class=\"p\">(</span><span class=\"s2\">&quot;X&quot;</span><span class=\"p\">,</span><span class=\"s2\">&quot;Z&quot;</span><span class=\"p\">,</span><span class=\"s s-Atom\">node</span><span class=\"p\">)</span> <span class=\"nf\">newArc</span><span class=\"p\">(</span><span class=\"s2\">&quot;X&quot;</span><span class=\"p\">,</span><span class=\"mi\">2</span><span class=\"p\">,</span><span class=\"s2\">&quot;e&quot;</span><span class=\"p\">,</span><span class=\"mi\">2</span><span class=\"p\">)</span> <span class=\"nf\">newArc</span><span class=\"p\">(</span><span class=\"s2\">&quot;X&quot;</span><span class=\"p\">,</span><span class=\"mi\">1</span><span class=\"p\">,</span><span class=\"s2\">&quot;e&quot;</span><span class=\"p\">,</span><span class=\"mi\">3</span><span class=\"p\">)</span> <span class=\"nf\">newArc</span><span class=\"p\">(</span><span class=\"s2\">&quot;Y&quot;</span><span class=\"p\">,</span><span class=\"mi\">2</span><span class=\"p\">,</span><span class=\"s2\">&quot;e&quot;</span><span class=\"p\">,</span><span class=\"mi\">1</span><span class=\"p\">)</span> <span class=\"nf\">newArc</span><span class=\"p\">(</span><span class=\"s2\">&quot;Y&quot;</span><span class=\"p\">,</span><span class=\"mi\">1</span><span class=\"p\">,</span><span class=\"s2\">&quot;e&quot;</span><span class=\"p\">,</span><span class=\"mi\">2</span><span class=\"p\">)</span> <span class=\"nf\">ne</span><span class=\"p\">(</span><span class=\"mi\">2</span><span class=\"p\">,</span><span class=\"s2\">&quot;Y&quot;</span><span class=\"p\">,</span><span class=\"s2\">&quot;X&quot;</span><span class=\"p\">)</span> <span class=\"nf\">ne</span><span class=\"p\">(</span><span class=\"mi\">1</span><span class=\"p\">,</span><span class=\"s2\">&quot;X&quot;</span><span class=\"p\">,</span><span class=\"s2\">&quot;Y&quot;</span><span class=\"p\">)</span> <span class=\"nf\">ne</span><span class=\"p\">(</span><span class=\"mi\">3</span><span class=\"p\">,</span><span class=\"s2\">&quot;X&quot;</span><span class=\"p\">,</span><span class=\"s2\">&quot;X&quot;</span><span class=\"p\">)</span> <span class=\"nf\">ne</span><span class=\"p\">(</span><span class=\"s2\">&quot;X&quot;</span><span class=\"p\">,</span><span class=\"s2\">&quot;X&quot;</span><span class=\"p\">)</span> <span class=\"nf\">ne</span><span class=\"p\">(</span><span class=\"s2\">&quot;Y&quot;</span><span class=\"p\">,</span><span class=\"s2\">&quot;X&quot;</span><span class=\"p\">)</span> <span class=\"nf\">ne</span><span class=\"p\">(</span><span class=\"s2\">&quot;X&quot;</span><span class=\"p\">,</span><span class=\"s2\">&quot;Y&quot;</span><span class=\"p\">)</span> <span class=\"nf\">newHArc</span><span class=\"p\">(</span><span class=\"s2\">&quot;Y&quot;</span><span class=\"p\">,</span><span class=\"mi\">2</span><span class=\"p\">,</span><span class=\"s2\">&quot;tri&quot;</span><span class=\"p\">)</span> <span class=\"nf\">newHArc</span><span class=\"p\">(</span><span class=\"s2\">&quot;X&quot;</span><span class=\"p\">,</span><span class=\"mi\">3</span><span class=\"p\">,</span><span class=\"s2\">&quot;tri&quot;</span><span class=\"p\">)</span> <span class=\"nf\">newVar</span><span class=\"p\">(</span><span class=\"s2\">&quot;Y&quot;</span><span class=\"p\">,</span><span class=\"s s-Atom\">node</span><span class=\"p\">)</span> <span class=\"nf\">neqOrd</span><span class=\"p\">(</span><span class=\"s2\">&quot;X&quot;</span><span class=\"p\">,</span><span class=\"s2\">&quot;Y&quot;</span><span class=\"p\">,</span><span class=\"s s-Atom\">node</span><span class=\"p\">)</span> <span class=\"nf\">eqOrdMinimal</span><span class=\"p\">(</span><span class=\"s2\">&quot;X&quot;</span><span class=\"p\">,</span><span class=\"s2\">&quot;Z&quot;</span><span class=\"p\">,</span><span class=\"s s-Atom\">node</span><span class=\"p\">)</span>\n",
       "<span class=\"lineno\">19 </span><span class=\"nv\">Answer</span><span class=\"s s-Atom\">:</span> <span class=\"mi\">10</span>\n",
       "<span class=\"lineno\">20 </span><span class=\"nf\">ruleH</span><span class=\"p\">(</span><span class=\"s2\">&quot;tri&quot;</span><span class=\"p\">)</span> <span class=\"nf\">newVar</span><span class=\"p\">(</span><span class=\"s2\">&quot;X&quot;</span><span class=\"p\">,</span><span class=\"s s-Atom\">node</span><span class=\"p\">)</span> <span class=\"nf\">ruleOcc</span><span class=\"p\">(</span><span class=\"s2\">&quot;e&quot;</span><span class=\"p\">,</span><span class=\"mi\">1</span><span class=\"p\">)</span> <span class=\"nf\">ruleOcc</span><span class=\"p\">(</span><span class=\"s2\">&quot;e&quot;</span><span class=\"p\">,</span><span class=\"mi\">2</span><span class=\"p\">)</span> <span class=\"nf\">ruleOcc</span><span class=\"p\">(</span><span class=\"s2\">&quot;e&quot;</span><span class=\"p\">,</span><span class=\"mi\">3</span><span class=\"p\">)</span> <span class=\"nf\">var</span><span class=\"p\">(</span><span class=\"s2\">&quot;X&quot;</span><span class=\"p\">,</span><span class=\"s s-Atom\">node</span><span class=\"p\">)</span> <span class=\"nf\">var</span><span class=\"p\">(</span><span class=\"s2\">&quot;Y&quot;</span><span class=\"p\">,</span><span class=\"s s-Atom\">node</span><span class=\"p\">)</span> <span class=\"nf\">var</span><span class=\"p\">(</span><span class=\"s2\">&quot;Z&quot;</span><span class=\"p\">,</span><span class=\"s s-Atom\">node</span><span class=\"p\">)</span> <span class=\"nf\">hArc</span><span class=\"p\">(</span><span class=\"s2\">&quot;Z&quot;</span><span class=\"p\">,</span><span class=\"mi\">3</span><span class=\"p\">,</span><span class=\"s2\">&quot;tri&quot;</span><span class=\"p\">)</span> <span class=\"nf\">hArc</span><span class=\"p\">(</span><span class=\"s2\">&quot;Y&quot;</span><span class=\"p\">,</span><span class=\"mi\">2</span><span class=\"p\">,</span><span class=\"s2\">&quot;tri&quot;</span><span class=\"p\">)</span> <span class=\"nf\">hArc</span><span class=\"p\">(</span><span class=\"s2\">&quot;X&quot;</span><span class=\"p\">,</span><span class=\"mi\">1</span><span class=\"p\">,</span><span class=\"s2\">&quot;tri&quot;</span><span class=\"p\">)</span> <span class=\"nf\">newHArc</span><span class=\"p\">(</span><span class=\"s2\">&quot;X&quot;</span><span class=\"p\">,</span><span class=\"mi\">1</span><span class=\"p\">,</span><span class=\"s2\">&quot;tri&quot;</span><span class=\"p\">)</span> <span class=\"nf\">arc</span><span class=\"p\">(</span><span class=\"s2\">&quot;X&quot;</span><span class=\"p\">,</span><span class=\"mi\">1</span><span class=\"p\">,</span><span class=\"s2\">&quot;e&quot;</span><span class=\"p\">,</span><span class=\"mi\">1</span><span class=\"p\">)</span> <span class=\"nf\">arc</span><span class=\"p\">(</span><span class=\"s2\">&quot;Y&quot;</span><span class=\"p\">,</span><span class=\"mi\">2</span><span class=\"p\">,</span><span class=\"s2\">&quot;e&quot;</span><span class=\"p\">,</span><span class=\"mi\">1</span><span class=\"p\">)</span> <span class=\"nf\">arc</span><span class=\"p\">(</span><span class=\"s2\">&quot;Y&quot;</span><span class=\"p\">,</span><span class=\"mi\">1</span><span class=\"p\">,</span><span class=\"s2\">&quot;e&quot;</span><span class=\"p\">,</span><span class=\"mi\">2</span><span class=\"p\">)</span> <span class=\"nf\">arc</span><span class=\"p\">(</span><span class=\"s2\">&quot;Z&quot;</span><span class=\"p\">,</span><span class=\"mi\">2</span><span class=\"p\">,</span><span class=\"s2\">&quot;e&quot;</span><span class=\"p\">,</span><span class=\"mi\">2</span><span class=\"p\">)</span> <span class=\"nf\">arc</span><span class=\"p\">(</span><span class=\"s2\">&quot;Z&quot;</span><span class=\"p\">,</span><span class=\"mi\">1</span><span class=\"p\">,</span><span class=\"s2\">&quot;e&quot;</span><span class=\"p\">,</span><span class=\"mi\">3</span><span class=\"p\">)</span> <span class=\"nf\">arc</span><span class=\"p\">(</span><span class=\"s2\">&quot;X&quot;</span><span class=\"p\">,</span><span class=\"mi\">2</span><span class=\"p\">,</span><span class=\"s2\">&quot;e&quot;</span><span class=\"p\">,</span><span class=\"mi\">3</span><span class=\"p\">)</span> <span class=\"nf\">newArc</span><span class=\"p\">(</span><span class=\"s2\">&quot;X&quot;</span><span class=\"p\">,</span><span class=\"mi\">1</span><span class=\"p\">,</span><span class=\"s2\">&quot;e&quot;</span><span class=\"p\">,</span><span class=\"mi\">1</span><span class=\"p\">)</span> <span class=\"nf\">newArc</span><span class=\"p\">(</span><span class=\"s2\">&quot;X&quot;</span><span class=\"p\">,</span><span class=\"mi\">2</span><span class=\"p\">,</span><span class=\"s2\">&quot;e&quot;</span><span class=\"p\">,</span><span class=\"mi\">3</span><span class=\"p\">)</span> <span class=\"nf\">eqOrd</span><span class=\"p\">(</span><span class=\"s2\">&quot;X&quot;</span><span class=\"p\">,</span><span class=\"s2\">&quot;Z&quot;</span><span class=\"p\">,</span><span class=\"s s-Atom\">node</span><span class=\"p\">)</span> <span class=\"nf\">newArc</span><span class=\"p\">(</span><span class=\"s2\">&quot;X&quot;</span><span class=\"p\">,</span><span class=\"mi\">2</span><span class=\"p\">,</span><span class=\"s2\">&quot;e&quot;</span><span class=\"p\">,</span><span class=\"mi\">2</span><span class=\"p\">)</span> <span class=\"nf\">newArc</span><span class=\"p\">(</span><span class=\"s2\">&quot;X&quot;</span><span class=\"p\">,</span><span class=\"mi\">1</span><span class=\"p\">,</span><span class=\"s2\">&quot;e&quot;</span><span class=\"p\">,</span><span class=\"mi\">3</span><span class=\"p\">)</span> <span class=\"nf\">newArc</span><span class=\"p\">(</span><span class=\"s2\">&quot;Y&quot;</span><span class=\"p\">,</span><span class=\"mi\">2</span><span class=\"p\">,</span><span class=\"s2\">&quot;e&quot;</span><span class=\"p\">,</span><span class=\"mi\">1</span><span class=\"p\">)</span> <span class=\"nf\">newArc</span><span class=\"p\">(</span><span class=\"s2\">&quot;Y&quot;</span><span class=\"p\">,</span><span class=\"mi\">1</span><span class=\"p\">,</span><span class=\"s2\">&quot;e&quot;</span><span class=\"p\">,</span><span class=\"mi\">2</span><span class=\"p\">)</span> <span class=\"nf\">ruleOccTrue</span><span class=\"p\">(</span><span class=\"s2\">&quot;e&quot;</span><span class=\"p\">,</span><span class=\"mi\">1</span><span class=\"p\">)</span> <span class=\"nf\">ne</span><span class=\"p\">(</span><span class=\"mi\">2</span><span class=\"p\">,</span><span class=\"s2\">&quot;Y&quot;</span><span class=\"p\">,</span><span class=\"s2\">&quot;X&quot;</span><span class=\"p\">)</span> <span class=\"nf\">ne</span><span class=\"p\">(</span><span class=\"mi\">3</span><span class=\"p\">,</span><span class=\"s2\">&quot;X&quot;</span><span class=\"p\">,</span><span class=\"s2\">&quot;X&quot;</span><span class=\"p\">)</span> <span class=\"nf\">ne</span><span class=\"p\">(</span><span class=\"s2\">&quot;X&quot;</span><span class=\"p\">,</span><span class=\"s2\">&quot;X&quot;</span><span class=\"p\">)</span> <span class=\"nf\">ne</span><span class=\"p\">(</span><span class=\"s2\">&quot;Y&quot;</span><span class=\"p\">,</span><span class=\"s2\">&quot;X&quot;</span><span class=\"p\">)</span> <span class=\"nf\">e</span><span class=\"p\">(</span><span class=\"mi\">1</span><span class=\"p\">,</span><span class=\"s2\">&quot;X&quot;</span><span class=\"p\">,</span><span class=\"s2\">&quot;Y&quot;</span><span class=\"p\">)</span> <span class=\"nf\">e</span><span class=\"p\">(</span><span class=\"s2\">&quot;X&quot;</span><span class=\"p\">,</span><span class=\"s2\">&quot;Y&quot;</span><span class=\"p\">)</span> <span class=\"nf\">newHArc</span><span class=\"p\">(</span><span class=\"s2\">&quot;Y&quot;</span><span class=\"p\">,</span><span class=\"mi\">2</span><span class=\"p\">,</span><span class=\"s2\">&quot;tri&quot;</span><span class=\"p\">)</span> <span class=\"nf\">newHArc</span><span class=\"p\">(</span><span class=\"s2\">&quot;X&quot;</span><span class=\"p\">,</span><span class=\"mi\">3</span><span class=\"p\">,</span><span class=\"s2\">&quot;tri&quot;</span><span class=\"p\">)</span> <span class=\"nf\">newVar</span><span class=\"p\">(</span><span class=\"s2\">&quot;Y&quot;</span><span class=\"p\">,</span><span class=\"s s-Atom\">node</span><span class=\"p\">)</span> <span class=\"nf\">neqOrd</span><span class=\"p\">(</span><span class=\"s2\">&quot;X&quot;</span><span class=\"p\">,</span><span class=\"s2\">&quot;Y&quot;</span><span class=\"p\">,</span><span class=\"s s-Atom\">node</span><span class=\"p\">)</span> <span class=\"nf\">eqOrdMinimal</span><span class=\"p\">(</span><span class=\"s2\">&quot;X&quot;</span><span class=\"p\">,</span><span class=\"s2\">&quot;Z&quot;</span><span class=\"p\">,</span><span class=\"s s-Atom\">node</span><span class=\"p\">)</span>\n",
       "<span class=\"lineno\">21 </span><span class=\"nv\">Answer</span><span class=\"s s-Atom\">:</span> <span class=\"mi\">11</span>\n",
       "<span class=\"lineno\">22 </span><span class=\"nf\">ruleH</span><span class=\"p\">(</span><span class=\"s2\">&quot;tri&quot;</span><span class=\"p\">)</span> <span class=\"nf\">newVar</span><span class=\"p\">(</span><span class=\"s2\">&quot;X&quot;</span><span class=\"p\">,</span><span class=\"s s-Atom\">node</span><span class=\"p\">)</span> <span class=\"nf\">ruleOcc</span><span class=\"p\">(</span><span class=\"s2\">&quot;e&quot;</span><span class=\"p\">,</span><span class=\"mi\">1</span><span class=\"p\">)</span> <span class=\"nf\">ruleOcc</span><span class=\"p\">(</span><span class=\"s2\">&quot;e&quot;</span><span class=\"p\">,</span><span class=\"mi\">2</span><span class=\"p\">)</span> <span class=\"nf\">ruleOcc</span><span class=\"p\">(</span><span class=\"s2\">&quot;e&quot;</span><span class=\"p\">,</span><span class=\"mi\">3</span><span class=\"p\">)</span> <span class=\"nf\">var</span><span class=\"p\">(</span><span class=\"s2\">&quot;X&quot;</span><span class=\"p\">,</span><span class=\"s s-Atom\">node</span><span class=\"p\">)</span> <span class=\"nf\">var</span><span class=\"p\">(</span><span class=\"s2\">&quot;Y&quot;</span><span class=\"p\">,</span><span class=\"s s-Atom\">node</span><span class=\"p\">)</span> <span class=\"nf\">var</span><span class=\"p\">(</span><span class=\"s2\">&quot;Z&quot;</span><span class=\"p\">,</span><span class=\"s s-Atom\">node</span><span class=\"p\">)</span> <span class=\"nf\">hArc</span><span class=\"p\">(</span><span class=\"s2\">&quot;Z&quot;</span><span class=\"p\">,</span><span class=\"mi\">3</span><span class=\"p\">,</span><span class=\"s2\">&quot;tri&quot;</span><span class=\"p\">)</span> <span class=\"nf\">hArc</span><span class=\"p\">(</span><span class=\"s2\">&quot;Y&quot;</span><span class=\"p\">,</span><span class=\"mi\">2</span><span class=\"p\">,</span><span class=\"s2\">&quot;tri&quot;</span><span class=\"p\">)</span> <span class=\"nf\">hArc</span><span class=\"p\">(</span><span class=\"s2\">&quot;X&quot;</span><span class=\"p\">,</span><span class=\"mi\">1</span><span class=\"p\">,</span><span class=\"s2\">&quot;tri&quot;</span><span class=\"p\">)</span> <span class=\"nf\">newHArc</span><span class=\"p\">(</span><span class=\"s2\">&quot;X&quot;</span><span class=\"p\">,</span><span class=\"mi\">1</span><span class=\"p\">,</span><span class=\"s2\">&quot;tri&quot;</span><span class=\"p\">)</span> <span class=\"nf\">arc</span><span class=\"p\">(</span><span class=\"s2\">&quot;X&quot;</span><span class=\"p\">,</span><span class=\"mi\">1</span><span class=\"p\">,</span><span class=\"s2\">&quot;e&quot;</span><span class=\"p\">,</span><span class=\"mi\">1</span><span class=\"p\">)</span> <span class=\"nf\">arc</span><span class=\"p\">(</span><span class=\"s2\">&quot;Y&quot;</span><span class=\"p\">,</span><span class=\"mi\">2</span><span class=\"p\">,</span><span class=\"s2\">&quot;e&quot;</span><span class=\"p\">,</span><span class=\"mi\">1</span><span class=\"p\">)</span> <span class=\"nf\">arc</span><span class=\"p\">(</span><span class=\"s2\">&quot;Y&quot;</span><span class=\"p\">,</span><span class=\"mi\">1</span><span class=\"p\">,</span><span class=\"s2\">&quot;e&quot;</span><span class=\"p\">,</span><span class=\"mi\">2</span><span class=\"p\">)</span> <span class=\"nf\">arc</span><span class=\"p\">(</span><span class=\"s2\">&quot;Z&quot;</span><span class=\"p\">,</span><span class=\"mi\">2</span><span class=\"p\">,</span><span class=\"s2\">&quot;e&quot;</span><span class=\"p\">,</span><span class=\"mi\">2</span><span class=\"p\">)</span> <span class=\"nf\">arc</span><span class=\"p\">(</span><span class=\"s2\">&quot;Z&quot;</span><span class=\"p\">,</span><span class=\"mi\">1</span><span class=\"p\">,</span><span class=\"s2\">&quot;e&quot;</span><span class=\"p\">,</span><span class=\"mi\">3</span><span class=\"p\">)</span> <span class=\"nf\">arc</span><span class=\"p\">(</span><span class=\"s2\">&quot;X&quot;</span><span class=\"p\">,</span><span class=\"mi\">2</span><span class=\"p\">,</span><span class=\"s2\">&quot;e&quot;</span><span class=\"p\">,</span><span class=\"mi\">3</span><span class=\"p\">)</span> <span class=\"nf\">newArc</span><span class=\"p\">(</span><span class=\"s2\">&quot;X&quot;</span><span class=\"p\">,</span><span class=\"mi\">1</span><span class=\"p\">,</span><span class=\"s2\">&quot;e&quot;</span><span class=\"p\">,</span><span class=\"mi\">1</span><span class=\"p\">)</span> <span class=\"nf\">newArc</span><span class=\"p\">(</span><span class=\"s2\">&quot;X&quot;</span><span class=\"p\">,</span><span class=\"mi\">2</span><span class=\"p\">,</span><span class=\"s2\">&quot;e&quot;</span><span class=\"p\">,</span><span class=\"mi\">3</span><span class=\"p\">)</span> <span class=\"nf\">eqOrd</span><span class=\"p\">(</span><span class=\"s2\">&quot;X&quot;</span><span class=\"p\">,</span><span class=\"s2\">&quot;Z&quot;</span><span class=\"p\">,</span><span class=\"s s-Atom\">node</span><span class=\"p\">)</span> <span class=\"nf\">newArc</span><span class=\"p\">(</span><span class=\"s2\">&quot;X&quot;</span><span class=\"p\">,</span><span class=\"mi\">2</span><span class=\"p\">,</span><span class=\"s2\">&quot;e&quot;</span><span class=\"p\">,</span><span class=\"mi\">2</span><span class=\"p\">)</span> <span class=\"nf\">newArc</span><span class=\"p\">(</span><span class=\"s2\">&quot;X&quot;</span><span class=\"p\">,</span><span class=\"mi\">1</span><span class=\"p\">,</span><span class=\"s2\">&quot;e&quot;</span><span class=\"p\">,</span><span class=\"mi\">3</span><span class=\"p\">)</span> <span class=\"nf\">newArc</span><span class=\"p\">(</span><span class=\"s2\">&quot;Y&quot;</span><span class=\"p\">,</span><span class=\"mi\">2</span><span class=\"p\">,</span><span class=\"s2\">&quot;e&quot;</span><span class=\"p\">,</span><span class=\"mi\">1</span><span class=\"p\">)</span> <span class=\"nf\">newArc</span><span class=\"p\">(</span><span class=\"s2\">&quot;Y&quot;</span><span class=\"p\">,</span><span class=\"mi\">1</span><span class=\"p\">,</span><span class=\"s2\">&quot;e&quot;</span><span class=\"p\">,</span><span class=\"mi\">2</span><span class=\"p\">)</span> <span class=\"nf\">ruleOccTrue</span><span class=\"p\">(</span><span class=\"s2\">&quot;e&quot;</span><span class=\"p\">,</span><span class=\"mi\">3</span><span class=\"p\">)</span> <span class=\"nf\">ne</span><span class=\"p\">(</span><span class=\"mi\">2</span><span class=\"p\">,</span><span class=\"s2\">&quot;Y&quot;</span><span class=\"p\">,</span><span class=\"s2\">&quot;X&quot;</span><span class=\"p\">)</span> <span class=\"nf\">ne</span><span class=\"p\">(</span><span class=\"mi\">1</span><span class=\"p\">,</span><span class=\"s2\">&quot;X&quot;</span><span class=\"p\">,</span><span class=\"s2\">&quot;Y&quot;</span><span class=\"p\">)</span> <span class=\"nf\">ne</span><span class=\"p\">(</span><span class=\"s2\">&quot;Y&quot;</span><span class=\"p\">,</span><span class=\"s2\">&quot;X&quot;</span><span class=\"p\">)</span> <span class=\"nf\">ne</span><span class=\"p\">(</span><span class=\"s2\">&quot;X&quot;</span><span class=\"p\">,</span><span class=\"s2\">&quot;Y&quot;</span><span class=\"p\">)</span> <span class=\"nf\">e</span><span class=\"p\">(</span><span class=\"mi\">3</span><span class=\"p\">,</span><span class=\"s2\">&quot;X&quot;</span><span class=\"p\">,</span><span class=\"s2\">&quot;X&quot;</span><span class=\"p\">)</span> <span class=\"nf\">e</span><span class=\"p\">(</span><span class=\"s2\">&quot;X&quot;</span><span class=\"p\">,</span><span class=\"s2\">&quot;X&quot;</span><span class=\"p\">)</span> <span class=\"nf\">newHArc</span><span class=\"p\">(</span><span class=\"s2\">&quot;Y&quot;</span><span class=\"p\">,</span><span class=\"mi\">2</span><span class=\"p\">,</span><span class=\"s2\">&quot;tri&quot;</span><span class=\"p\">)</span> <span class=\"nf\">newHArc</span><span class=\"p\">(</span><span class=\"s2\">&quot;X&quot;</span><span class=\"p\">,</span><span class=\"mi\">3</span><span class=\"p\">,</span><span class=\"s2\">&quot;tri&quot;</span><span class=\"p\">)</span> <span class=\"nf\">newVar</span><span class=\"p\">(</span><span class=\"s2\">&quot;Y&quot;</span><span class=\"p\">,</span><span class=\"s s-Atom\">node</span><span class=\"p\">)</span> <span class=\"nf\">neqOrd</span><span class=\"p\">(</span><span class=\"s2\">&quot;X&quot;</span><span class=\"p\">,</span><span class=\"s2\">&quot;Y&quot;</span><span class=\"p\">,</span><span class=\"s s-Atom\">node</span><span class=\"p\">)</span> <span class=\"nf\">eqOrdMinimal</span><span class=\"p\">(</span><span class=\"s2\">&quot;X&quot;</span><span class=\"p\">,</span><span class=\"s2\">&quot;Z&quot;</span><span class=\"p\">,</span><span class=\"s s-Atom\">node</span><span class=\"p\">)</span>\n",
       "<span class=\"lineno\">23 </span><span class=\"nv\">Answer</span><span class=\"s s-Atom\">:</span> <span class=\"mi\">12</span>\n",
       "<span class=\"lineno\">24 </span><span class=\"nf\">ruleH</span><span class=\"p\">(</span><span class=\"s2\">&quot;tri&quot;</span><span class=\"p\">)</span> <span class=\"nf\">newVar</span><span class=\"p\">(</span><span class=\"s2\">&quot;X&quot;</span><span class=\"p\">,</span><span class=\"s s-Atom\">node</span><span class=\"p\">)</span> <span class=\"nf\">ruleOcc</span><span class=\"p\">(</span><span class=\"s2\">&quot;e&quot;</span><span class=\"p\">,</span><span class=\"mi\">1</span><span class=\"p\">)</span> <span class=\"nf\">ruleOcc</span><span class=\"p\">(</span><span class=\"s2\">&quot;e&quot;</span><span class=\"p\">,</span><span class=\"mi\">2</span><span class=\"p\">)</span> <span class=\"nf\">ruleOcc</span><span class=\"p\">(</span><span class=\"s2\">&quot;e&quot;</span><span class=\"p\">,</span><span class=\"mi\">3</span><span class=\"p\">)</span> <span class=\"nf\">var</span><span class=\"p\">(</span><span class=\"s2\">&quot;X&quot;</span><span class=\"p\">,</span><span class=\"s s-Atom\">node</span><span class=\"p\">)</span> <span class=\"nf\">var</span><span class=\"p\">(</span><span class=\"s2\">&quot;Y&quot;</span><span class=\"p\">,</span><span class=\"s s-Atom\">node</span><span class=\"p\">)</span> <span class=\"nf\">var</span><span class=\"p\">(</span><span class=\"s2\">&quot;Z&quot;</span><span class=\"p\">,</span><span class=\"s s-Atom\">node</span><span class=\"p\">)</span> <span class=\"nf\">hArc</span><span class=\"p\">(</span><span class=\"s2\">&quot;Z&quot;</span><span class=\"p\">,</span><span class=\"mi\">3</span><span class=\"p\">,</span><span class=\"s2\">&quot;tri&quot;</span><span class=\"p\">)</span> <span class=\"nf\">hArc</span><span class=\"p\">(</span><span class=\"s2\">&quot;Y&quot;</span><span class=\"p\">,</span><span class=\"mi\">2</span><span class=\"p\">,</span><span class=\"s2\">&quot;tri&quot;</span><span class=\"p\">)</span> <span class=\"nf\">hArc</span><span class=\"p\">(</span><span class=\"s2\">&quot;X&quot;</span><span class=\"p\">,</span><span class=\"mi\">1</span><span class=\"p\">,</span><span class=\"s2\">&quot;tri&quot;</span><span class=\"p\">)</span> <span class=\"nf\">newHArc</span><span class=\"p\">(</span><span class=\"s2\">&quot;X&quot;</span><span class=\"p\">,</span><span class=\"mi\">1</span><span class=\"p\">,</span><span class=\"s2\">&quot;tri&quot;</span><span class=\"p\">)</span> <span class=\"nf\">arc</span><span class=\"p\">(</span><span class=\"s2\">&quot;X&quot;</span><span class=\"p\">,</span><span class=\"mi\">1</span><span class=\"p\">,</span><span class=\"s2\">&quot;e&quot;</span><span class=\"p\">,</span><span class=\"mi\">1</span><span class=\"p\">)</span> <span class=\"nf\">arc</span><span class=\"p\">(</span><span class=\"s2\">&quot;Y&quot;</span><span class=\"p\">,</span><span class=\"mi\">2</span><span class=\"p\">,</span><span class=\"s2\">&quot;e&quot;</span><span class=\"p\">,</span><span class=\"mi\">1</span><span class=\"p\">)</span> <span class=\"nf\">arc</span><span class=\"p\">(</span><span class=\"s2\">&quot;Y&quot;</span><span class=\"p\">,</span><span class=\"mi\">1</span><span class=\"p\">,</span><span class=\"s2\">&quot;e&quot;</span><span class=\"p\">,</span><span class=\"mi\">2</span><span class=\"p\">)</span> <span class=\"nf\">arc</span><span class=\"p\">(</span><span class=\"s2\">&quot;Z&quot;</span><span class=\"p\">,</span><span class=\"mi\">2</span><span class=\"p\">,</span><span class=\"s2\">&quot;e&quot;</span><span class=\"p\">,</span><span class=\"mi\">2</span><span class=\"p\">)</span> <span class=\"nf\">arc</span><span class=\"p\">(</span><span class=\"s2\">&quot;Z&quot;</span><span class=\"p\">,</span><span class=\"mi\">1</span><span class=\"p\">,</span><span class=\"s2\">&quot;e&quot;</span><span class=\"p\">,</span><span class=\"mi\">3</span><span class=\"p\">)</span> <span class=\"nf\">arc</span><span class=\"p\">(</span><span class=\"s2\">&quot;X&quot;</span><span class=\"p\">,</span><span class=\"mi\">2</span><span class=\"p\">,</span><span class=\"s2\">&quot;e&quot;</span><span class=\"p\">,</span><span class=\"mi\">3</span><span class=\"p\">)</span> <span class=\"nf\">newArc</span><span class=\"p\">(</span><span class=\"s2\">&quot;X&quot;</span><span class=\"p\">,</span><span class=\"mi\">1</span><span class=\"p\">,</span><span class=\"s2\">&quot;e&quot;</span><span class=\"p\">,</span><span class=\"mi\">1</span><span class=\"p\">)</span> <span class=\"nf\">newArc</span><span class=\"p\">(</span><span class=\"s2\">&quot;X&quot;</span><span class=\"p\">,</span><span class=\"mi\">2</span><span class=\"p\">,</span><span class=\"s2\">&quot;e&quot;</span><span class=\"p\">,</span><span class=\"mi\">3</span><span class=\"p\">)</span> <span class=\"nf\">eqOrd</span><span class=\"p\">(</span><span class=\"s2\">&quot;X&quot;</span><span class=\"p\">,</span><span class=\"s2\">&quot;Z&quot;</span><span class=\"p\">,</span><span class=\"s s-Atom\">node</span><span class=\"p\">)</span> <span class=\"nf\">newArc</span><span class=\"p\">(</span><span class=\"s2\">&quot;X&quot;</span><span class=\"p\">,</span><span class=\"mi\">2</span><span class=\"p\">,</span><span class=\"s2\">&quot;e&quot;</span><span class=\"p\">,</span><span class=\"mi\">2</span><span class=\"p\">)</span> <span class=\"nf\">newArc</span><span class=\"p\">(</span><span class=\"s2\">&quot;X&quot;</span><span class=\"p\">,</span><span class=\"mi\">1</span><span class=\"p\">,</span><span class=\"s2\">&quot;e&quot;</span><span class=\"p\">,</span><span class=\"mi\">3</span><span class=\"p\">)</span> <span class=\"nf\">newArc</span><span class=\"p\">(</span><span class=\"s2\">&quot;Y&quot;</span><span class=\"p\">,</span><span class=\"mi\">2</span><span class=\"p\">,</span><span class=\"s2\">&quot;e&quot;</span><span class=\"p\">,</span><span class=\"mi\">1</span><span class=\"p\">)</span> <span class=\"nf\">newArc</span><span class=\"p\">(</span><span class=\"s2\">&quot;Y&quot;</span><span class=\"p\">,</span><span class=\"mi\">1</span><span class=\"p\">,</span><span class=\"s2\">&quot;e&quot;</span><span class=\"p\">,</span><span class=\"mi\">2</span><span class=\"p\">)</span> <span class=\"nf\">ruleOccTrue</span><span class=\"p\">(</span><span class=\"s2\">&quot;e&quot;</span><span class=\"p\">,</span><span class=\"mi\">1</span><span class=\"p\">)</span> <span class=\"nf\">ruleOccTrue</span><span class=\"p\">(</span><span class=\"s2\">&quot;e&quot;</span><span class=\"p\">,</span><span class=\"mi\">3</span><span class=\"p\">)</span> <span class=\"nf\">ne</span><span class=\"p\">(</span><span class=\"mi\">2</span><span class=\"p\">,</span><span class=\"s2\">&quot;Y&quot;</span><span class=\"p\">,</span><span class=\"s2\">&quot;X&quot;</span><span class=\"p\">)</span> <span class=\"nf\">ne</span><span class=\"p\">(</span><span class=\"s2\">&quot;Y&quot;</span><span class=\"p\">,</span><span class=\"s2\">&quot;X&quot;</span><span class=\"p\">)</span> <span class=\"nf\">e</span><span class=\"p\">(</span><span class=\"mi\">1</span><span class=\"p\">,</span><span class=\"s2\">&quot;X&quot;</span><span class=\"p\">,</span><span class=\"s2\">&quot;Y&quot;</span><span class=\"p\">)</span> <span class=\"nf\">e</span><span class=\"p\">(</span><span class=\"mi\">3</span><span class=\"p\">,</span><span class=\"s2\">&quot;X&quot;</span><span class=\"p\">,</span><span class=\"s2\">&quot;X&quot;</span><span class=\"p\">)</span> <span class=\"nf\">e</span><span class=\"p\">(</span><span class=\"s2\">&quot;X&quot;</span><span class=\"p\">,</span><span class=\"s2\">&quot;X&quot;</span><span class=\"p\">)</span> <span class=\"nf\">e</span><span class=\"p\">(</span><span class=\"s2\">&quot;X&quot;</span><span class=\"p\">,</span><span class=\"s2\">&quot;Y&quot;</span><span class=\"p\">)</span> <span class=\"nf\">newHArc</span><span class=\"p\">(</span><span class=\"s2\">&quot;Y&quot;</span><span class=\"p\">,</span><span class=\"mi\">2</span><span class=\"p\">,</span><span class=\"s2\">&quot;tri&quot;</span><span class=\"p\">)</span> <span class=\"nf\">newHArc</span><span class=\"p\">(</span><span class=\"s2\">&quot;X&quot;</span><span class=\"p\">,</span><span class=\"mi\">3</span><span class=\"p\">,</span><span class=\"s2\">&quot;tri&quot;</span><span class=\"p\">)</span> <span class=\"nf\">newVar</span><span class=\"p\">(</span><span class=\"s2\">&quot;Y&quot;</span><span class=\"p\">,</span><span class=\"s s-Atom\">node</span><span class=\"p\">)</span> <span class=\"nf\">neqOrd</span><span class=\"p\">(</span><span class=\"s2\">&quot;X&quot;</span><span class=\"p\">,</span><span class=\"s2\">&quot;Y&quot;</span><span class=\"p\">,</span><span class=\"s s-Atom\">node</span><span class=\"p\">)</span> <span class=\"nf\">eqOrdMinimal</span><span class=\"p\">(</span><span class=\"s2\">&quot;X&quot;</span><span class=\"p\">,</span><span class=\"s2\">&quot;Z&quot;</span><span class=\"p\">,</span><span class=\"s s-Atom\">node</span><span class=\"p\">)</span>\n",
       "<span class=\"lineno\">25 </span><span class=\"nv\">Answer</span><span class=\"s s-Atom\">:</span> <span class=\"mi\">13</span>\n",
       "<span class=\"lineno\">26 </span><span class=\"nf\">ruleH</span><span class=\"p\">(</span><span class=\"s2\">&quot;tri&quot;</span><span class=\"p\">)</span> <span class=\"nf\">newVar</span><span class=\"p\">(</span><span class=\"s2\">&quot;X&quot;</span><span class=\"p\">,</span><span class=\"s s-Atom\">node</span><span class=\"p\">)</span> <span class=\"nf\">ruleOcc</span><span class=\"p\">(</span><span class=\"s2\">&quot;e&quot;</span><span class=\"p\">,</span><span class=\"mi\">1</span><span class=\"p\">)</span> <span class=\"nf\">ruleOcc</span><span class=\"p\">(</span><span class=\"s2\">&quot;e&quot;</span><span class=\"p\">,</span><span class=\"mi\">2</span><span class=\"p\">)</span> <span class=\"nf\">ruleOcc</span><span class=\"p\">(</span><span class=\"s2\">&quot;e&quot;</span><span class=\"p\">,</span><span class=\"mi\">3</span><span class=\"p\">)</span> <span class=\"nf\">var</span><span class=\"p\">(</span><span class=\"s2\">&quot;X&quot;</span><span class=\"p\">,</span><span class=\"s s-Atom\">node</span><span class=\"p\">)</span> <span class=\"nf\">var</span><span class=\"p\">(</span><span class=\"s2\">&quot;Y&quot;</span><span class=\"p\">,</span><span class=\"s s-Atom\">node</span><span class=\"p\">)</span> <span class=\"nf\">var</span><span class=\"p\">(</span><span class=\"s2\">&quot;Z&quot;</span><span class=\"p\">,</span><span class=\"s s-Atom\">node</span><span class=\"p\">)</span> <span class=\"nf\">hArc</span><span class=\"p\">(</span><span class=\"s2\">&quot;Z&quot;</span><span class=\"p\">,</span><span class=\"mi\">3</span><span class=\"p\">,</span><span class=\"s2\">&quot;tri&quot;</span><span class=\"p\">)</span> <span class=\"nf\">hArc</span><span class=\"p\">(</span><span class=\"s2\">&quot;Y&quot;</span><span class=\"p\">,</span><span class=\"mi\">2</span><span class=\"p\">,</span><span class=\"s2\">&quot;tri&quot;</span><span class=\"p\">)</span> <span class=\"nf\">hArc</span><span class=\"p\">(</span><span class=\"s2\">&quot;X&quot;</span><span class=\"p\">,</span><span class=\"mi\">1</span><span class=\"p\">,</span><span class=\"s2\">&quot;tri&quot;</span><span class=\"p\">)</span> <span class=\"nf\">newHArc</span><span class=\"p\">(</span><span class=\"s2\">&quot;X&quot;</span><span class=\"p\">,</span><span class=\"mi\">1</span><span class=\"p\">,</span><span class=\"s2\">&quot;tri&quot;</span><span class=\"p\">)</span> <span class=\"nf\">arc</span><span class=\"p\">(</span><span class=\"s2\">&quot;X&quot;</span><span class=\"p\">,</span><span class=\"mi\">1</span><span class=\"p\">,</span><span class=\"s2\">&quot;e&quot;</span><span class=\"p\">,</span><span class=\"mi\">1</span><span class=\"p\">)</span> <span class=\"nf\">arc</span><span class=\"p\">(</span><span class=\"s2\">&quot;Y&quot;</span><span class=\"p\">,</span><span class=\"mi\">2</span><span class=\"p\">,</span><span class=\"s2\">&quot;e&quot;</span><span class=\"p\">,</span><span class=\"mi\">1</span><span class=\"p\">)</span> <span class=\"nf\">arc</span><span class=\"p\">(</span><span class=\"s2\">&quot;Y&quot;</span><span class=\"p\">,</span><span class=\"mi\">1</span><span class=\"p\">,</span><span class=\"s2\">&quot;e&quot;</span><span class=\"p\">,</span><span class=\"mi\">2</span><span class=\"p\">)</span> <span class=\"nf\">arc</span><span class=\"p\">(</span><span class=\"s2\">&quot;Z&quot;</span><span class=\"p\">,</span><span class=\"mi\">2</span><span class=\"p\">,</span><span class=\"s2\">&quot;e&quot;</span><span class=\"p\">,</span><span class=\"mi\">2</span><span class=\"p\">)</span> <span class=\"nf\">arc</span><span class=\"p\">(</span><span class=\"s2\">&quot;Z&quot;</span><span class=\"p\">,</span><span class=\"mi\">1</span><span class=\"p\">,</span><span class=\"s2\">&quot;e&quot;</span><span class=\"p\">,</span><span class=\"mi\">3</span><span class=\"p\">)</span> <span class=\"nf\">arc</span><span class=\"p\">(</span><span class=\"s2\">&quot;X&quot;</span><span class=\"p\">,</span><span class=\"mi\">2</span><span class=\"p\">,</span><span class=\"s2\">&quot;e&quot;</span><span class=\"p\">,</span><span class=\"mi\">3</span><span class=\"p\">)</span> <span class=\"nf\">newArc</span><span class=\"p\">(</span><span class=\"s2\">&quot;X&quot;</span><span class=\"p\">,</span><span class=\"mi\">1</span><span class=\"p\">,</span><span class=\"s2\">&quot;e&quot;</span><span class=\"p\">,</span><span class=\"mi\">1</span><span class=\"p\">)</span> <span class=\"nf\">newArc</span><span class=\"p\">(</span><span class=\"s2\">&quot;X&quot;</span><span class=\"p\">,</span><span class=\"mi\">2</span><span class=\"p\">,</span><span class=\"s2\">&quot;e&quot;</span><span class=\"p\">,</span><span class=\"mi\">3</span><span class=\"p\">)</span> <span class=\"nf\">newArc</span><span class=\"p\">(</span><span class=\"s2\">&quot;Y&quot;</span><span class=\"p\">,</span><span class=\"mi\">2</span><span class=\"p\">,</span><span class=\"s2\">&quot;e&quot;</span><span class=\"p\">,</span><span class=\"mi\">1</span><span class=\"p\">)</span> <span class=\"nf\">newArc</span><span class=\"p\">(</span><span class=\"s2\">&quot;Y&quot;</span><span class=\"p\">,</span><span class=\"mi\">1</span><span class=\"p\">,</span><span class=\"s2\">&quot;e&quot;</span><span class=\"p\">,</span><span class=\"mi\">2</span><span class=\"p\">)</span> <span class=\"nf\">newArc</span><span class=\"p\">(</span><span class=\"s2\">&quot;Z&quot;</span><span class=\"p\">,</span><span class=\"mi\">2</span><span class=\"p\">,</span><span class=\"s2\">&quot;e&quot;</span><span class=\"p\">,</span><span class=\"mi\">2</span><span class=\"p\">)</span> <span class=\"nf\">newArc</span><span class=\"p\">(</span><span class=\"s2\">&quot;Z&quot;</span><span class=\"p\">,</span><span class=\"mi\">1</span><span class=\"p\">,</span><span class=\"s2\">&quot;e&quot;</span><span class=\"p\">,</span><span class=\"mi\">3</span><span class=\"p\">)</span> <span class=\"nf\">ruleOccTrue</span><span class=\"p\">(</span><span class=\"s2\">&quot;e&quot;</span><span class=\"p\">,</span><span class=\"mi\">2</span><span class=\"p\">)</span> <span class=\"nf\">ne</span><span class=\"p\">(</span><span class=\"mi\">1</span><span class=\"p\">,</span><span class=\"s2\">&quot;X&quot;</span><span class=\"p\">,</span><span class=\"s2\">&quot;Y&quot;</span><span class=\"p\">)</span> <span class=\"nf\">ne</span><span class=\"p\">(</span><span class=\"mi\">3</span><span class=\"p\">,</span><span class=\"s2\">&quot;Z&quot;</span><span class=\"p\">,</span><span class=\"s2\">&quot;X&quot;</span><span class=\"p\">)</span> <span class=\"nf\">ne</span><span class=\"p\">(</span><span class=\"s2\">&quot;X&quot;</span><span class=\"p\">,</span><span class=\"s2\">&quot;Y&quot;</span><span class=\"p\">)</span> <span class=\"nf\">ne</span><span class=\"p\">(</span><span class=\"s2\">&quot;Z&quot;</span><span class=\"p\">,</span><span class=\"s2\">&quot;X&quot;</span><span class=\"p\">)</span> <span class=\"nf\">e</span><span class=\"p\">(</span><span class=\"mi\">2</span><span class=\"p\">,</span><span class=\"s2\">&quot;Y&quot;</span><span class=\"p\">,</span><span class=\"s2\">&quot;Z&quot;</span><span class=\"p\">)</span> <span class=\"nf\">e</span><span class=\"p\">(</span><span class=\"s2\">&quot;Y&quot;</span><span class=\"p\">,</span><span class=\"s2\">&quot;Z&quot;</span><span class=\"p\">)</span> <span class=\"nf\">newHArc</span><span class=\"p\">(</span><span class=\"s2\">&quot;Z&quot;</span><span class=\"p\">,</span><span class=\"mi\">3</span><span class=\"p\">,</span><span class=\"s2\">&quot;tri&quot;</span><span class=\"p\">)</span> <span class=\"nf\">newHArc</span><span class=\"p\">(</span><span class=\"s2\">&quot;Y&quot;</span><span class=\"p\">,</span><span class=\"mi\">2</span><span class=\"p\">,</span><span class=\"s2\">&quot;tri&quot;</span><span class=\"p\">)</span> <span class=\"nf\">newVar</span><span class=\"p\">(</span><span class=\"s2\">&quot;Y&quot;</span><span class=\"p\">,</span><span class=\"s s-Atom\">node</span><span class=\"p\">)</span> <span class=\"nf\">newVar</span><span class=\"p\">(</span><span class=\"s2\">&quot;Z&quot;</span><span class=\"p\">,</span><span class=\"s s-Atom\">node</span><span class=\"p\">)</span> <span class=\"nf\">neqOrd</span><span class=\"p\">(</span><span class=\"s2\">&quot;X&quot;</span><span class=\"p\">,</span><span class=\"s2\">&quot;Y&quot;</span><span class=\"p\">,</span><span class=\"s s-Atom\">node</span><span class=\"p\">)</span> <span class=\"nf\">neqOrd</span><span class=\"p\">(</span><span class=\"s2\">&quot;X&quot;</span><span class=\"p\">,</span><span class=\"s2\">&quot;Z&quot;</span><span class=\"p\">,</span><span class=\"s s-Atom\">node</span><span class=\"p\">)</span> <span class=\"nf\">neqOrd</span><span class=\"p\">(</span><span class=\"s2\">&quot;Y&quot;</span><span class=\"p\">,</span><span class=\"s2\">&quot;Z&quot;</span><span class=\"p\">,</span><span class=\"s s-Atom\">node</span><span class=\"p\">)</span>\n",
       "<span class=\"lineno\">27 </span><span class=\"nv\">Answer</span><span class=\"s s-Atom\">:</span> <span class=\"mi\">14</span>\n",
       "<span class=\"lineno\">28 </span><span class=\"nf\">ruleH</span><span class=\"p\">(</span><span class=\"s2\">&quot;tri&quot;</span><span class=\"p\">)</span> <span class=\"nf\">newVar</span><span class=\"p\">(</span><span class=\"s2\">&quot;X&quot;</span><span class=\"p\">,</span><span class=\"s s-Atom\">node</span><span class=\"p\">)</span> <span class=\"nf\">ruleOcc</span><span class=\"p\">(</span><span class=\"s2\">&quot;e&quot;</span><span class=\"p\">,</span><span class=\"mi\">1</span><span class=\"p\">)</span> <span class=\"nf\">ruleOcc</span><span class=\"p\">(</span><span class=\"s2\">&quot;e&quot;</span><span class=\"p\">,</span><span class=\"mi\">2</span><span class=\"p\">)</span> <span class=\"nf\">ruleOcc</span><span class=\"p\">(</span><span class=\"s2\">&quot;e&quot;</span><span class=\"p\">,</span><span class=\"mi\">3</span><span class=\"p\">)</span> <span class=\"nf\">var</span><span class=\"p\">(</span><span class=\"s2\">&quot;X&quot;</span><span class=\"p\">,</span><span class=\"s s-Atom\">node</span><span class=\"p\">)</span> <span class=\"nf\">var</span><span class=\"p\">(</span><span class=\"s2\">&quot;Y&quot;</span><span class=\"p\">,</span><span class=\"s s-Atom\">node</span><span class=\"p\">)</span> <span class=\"nf\">var</span><span class=\"p\">(</span><span class=\"s2\">&quot;Z&quot;</span><span class=\"p\">,</span><span class=\"s s-Atom\">node</span><span class=\"p\">)</span> <span class=\"nf\">hArc</span><span class=\"p\">(</span><span class=\"s2\">&quot;Z&quot;</span><span class=\"p\">,</span><span class=\"mi\">3</span><span class=\"p\">,</span><span class=\"s2\">&quot;tri&quot;</span><span class=\"p\">)</span> <span class=\"nf\">hArc</span><span class=\"p\">(</span><span class=\"s2\">&quot;Y&quot;</span><span class=\"p\">,</span><span class=\"mi\">2</span><span class=\"p\">,</span><span class=\"s2\">&quot;tri&quot;</span><span class=\"p\">)</span> <span class=\"nf\">hArc</span><span class=\"p\">(</span><span class=\"s2\">&quot;X&quot;</span><span class=\"p\">,</span><span class=\"mi\">1</span><span class=\"p\">,</span><span class=\"s2\">&quot;tri&quot;</span><span class=\"p\">)</span> <span class=\"nf\">newHArc</span><span class=\"p\">(</span><span class=\"s2\">&quot;X&quot;</span><span class=\"p\">,</span><span class=\"mi\">1</span><span class=\"p\">,</span><span class=\"s2\">&quot;tri&quot;</span><span class=\"p\">)</span> <span class=\"nf\">arc</span><span class=\"p\">(</span><span class=\"s2\">&quot;X&quot;</span><span class=\"p\">,</span><span class=\"mi\">1</span><span class=\"p\">,</span><span class=\"s2\">&quot;e&quot;</span><span class=\"p\">,</span><span class=\"mi\">1</span><span class=\"p\">)</span> <span class=\"nf\">arc</span><span class=\"p\">(</span><span class=\"s2\">&quot;Y&quot;</span><span class=\"p\">,</span><span class=\"mi\">2</span><span class=\"p\">,</span><span class=\"s2\">&quot;e&quot;</span><span class=\"p\">,</span><span class=\"mi\">1</span><span class=\"p\">)</span> <span class=\"nf\">arc</span><span class=\"p\">(</span><span class=\"s2\">&quot;Y&quot;</span><span class=\"p\">,</span><span class=\"mi\">1</span><span class=\"p\">,</span><span class=\"s2\">&quot;e&quot;</span><span class=\"p\">,</span><span class=\"mi\">2</span><span class=\"p\">)</span> <span class=\"nf\">arc</span><span class=\"p\">(</span><span class=\"s2\">&quot;Z&quot;</span><span class=\"p\">,</span><span class=\"mi\">2</span><span class=\"p\">,</span><span class=\"s2\">&quot;e&quot;</span><span class=\"p\">,</span><span class=\"mi\">2</span><span class=\"p\">)</span> <span class=\"nf\">arc</span><span class=\"p\">(</span><span class=\"s2\">&quot;Z&quot;</span><span class=\"p\">,</span><span class=\"mi\">1</span><span class=\"p\">,</span><span class=\"s2\">&quot;e&quot;</span><span class=\"p\">,</span><span class=\"mi\">3</span><span class=\"p\">)</span> <span class=\"nf\">arc</span><span class=\"p\">(</span><span class=\"s2\">&quot;X&quot;</span><span class=\"p\">,</span><span class=\"mi\">2</span><span class=\"p\">,</span><span class=\"s2\">&quot;e&quot;</span><span class=\"p\">,</span><span class=\"mi\">3</span><span class=\"p\">)</span> <span class=\"nf\">newArc</span><span class=\"p\">(</span><span class=\"s2\">&quot;X&quot;</span><span class=\"p\">,</span><span class=\"mi\">1</span><span class=\"p\">,</span><span class=\"s2\">&quot;e&quot;</span><span class=\"p\">,</span><span class=\"mi\">1</span><span class=\"p\">)</span> <span class=\"nf\">newArc</span><span class=\"p\">(</span><span class=\"s2\">&quot;X&quot;</span><span class=\"p\">,</span><span class=\"mi\">2</span><span class=\"p\">,</span><span class=\"s2\">&quot;e&quot;</span><span class=\"p\">,</span><span class=\"mi\">3</span><span class=\"p\">)</span> <span class=\"nf\">newArc</span><span class=\"p\">(</span><span class=\"s2\">&quot;Y&quot;</span><span class=\"p\">,</span><span class=\"mi\">2</span><span class=\"p\">,</span><span class=\"s2\">&quot;e&quot;</span><span class=\"p\">,</span><span class=\"mi\">1</span><span class=\"p\">)</span> <span class=\"nf\">newArc</span><span class=\"p\">(</span><span class=\"s2\">&quot;Y&quot;</span><span class=\"p\">,</span><span class=\"mi\">1</span><span class=\"p\">,</span><span class=\"s2\">&quot;e&quot;</span><span class=\"p\">,</span><span class=\"mi\">2</span><span class=\"p\">)</span> <span class=\"nf\">newArc</span><span class=\"p\">(</span><span class=\"s2\">&quot;Z&quot;</span><span class=\"p\">,</span><span class=\"mi\">2</span><span class=\"p\">,</span><span class=\"s2\">&quot;e&quot;</span><span class=\"p\">,</span><span class=\"mi\">2</span><span class=\"p\">)</span> <span class=\"nf\">newArc</span><span class=\"p\">(</span><span class=\"s2\">&quot;Z&quot;</span><span class=\"p\">,</span><span class=\"mi\">1</span><span class=\"p\">,</span><span class=\"s2\">&quot;e&quot;</span><span class=\"p\">,</span><span class=\"mi\">3</span><span class=\"p\">)</span> <span class=\"nf\">ruleOccTrue</span><span class=\"p\">(</span><span class=\"s2\">&quot;e&quot;</span><span class=\"p\">,</span><span class=\"mi\">1</span><span class=\"p\">)</span> <span class=\"nf\">ruleOccTrue</span><span class=\"p\">(</span><span class=\"s2\">&quot;e&quot;</span><span class=\"p\">,</span><span class=\"mi\">2</span><span class=\"p\">)</span> <span class=\"nf\">ne</span><span class=\"p\">(</span><span class=\"mi\">3</span><span class=\"p\">,</span><span class=\"s2\">&quot;Z&quot;</span><span class=\"p\">,</span><span class=\"s2\">&quot;X&quot;</span><span class=\"p\">)</span> <span class=\"nf\">ne</span><span class=\"p\">(</span><span class=\"s2\">&quot;Z&quot;</span><span class=\"p\">,</span><span class=\"s2\">&quot;X&quot;</span><span class=\"p\">)</span> <span class=\"nf\">e</span><span class=\"p\">(</span><span class=\"mi\">1</span><span class=\"p\">,</span><span class=\"s2\">&quot;X&quot;</span><span class=\"p\">,</span><span class=\"s2\">&quot;Y&quot;</span><span class=\"p\">)</span> <span class=\"nf\">e</span><span class=\"p\">(</span><span class=\"mi\">2</span><span class=\"p\">,</span><span class=\"s2\">&quot;Y&quot;</span><span class=\"p\">,</span><span class=\"s2\">&quot;Z&quot;</span><span class=\"p\">)</span> <span class=\"nf\">e</span><span class=\"p\">(</span><span class=\"s2\">&quot;X&quot;</span><span class=\"p\">,</span><span class=\"s2\">&quot;Y&quot;</span><span class=\"p\">)</span> <span class=\"nf\">e</span><span class=\"p\">(</span><span class=\"s2\">&quot;Y&quot;</span><span class=\"p\">,</span><span class=\"s2\">&quot;Z&quot;</span><span class=\"p\">)</span> <span class=\"nf\">newHArc</span><span class=\"p\">(</span><span class=\"s2\">&quot;Z&quot;</span><span class=\"p\">,</span><span class=\"mi\">3</span><span class=\"p\">,</span><span class=\"s2\">&quot;tri&quot;</span><span class=\"p\">)</span> <span class=\"nf\">newHArc</span><span class=\"p\">(</span><span class=\"s2\">&quot;Y&quot;</span><span class=\"p\">,</span><span class=\"mi\">2</span><span class=\"p\">,</span><span class=\"s2\">&quot;tri&quot;</span><span class=\"p\">)</span> <span class=\"nf\">newVar</span><span class=\"p\">(</span><span class=\"s2\">&quot;Y&quot;</span><span class=\"p\">,</span><span class=\"s s-Atom\">node</span><span class=\"p\">)</span> <span class=\"nf\">newVar</span><span class=\"p\">(</span><span class=\"s2\">&quot;Z&quot;</span><span class=\"p\">,</span><span class=\"s s-Atom\">node</span><span class=\"p\">)</span> <span class=\"nf\">neqOrd</span><span class=\"p\">(</span><span class=\"s2\">&quot;X&quot;</span><span class=\"p\">,</span><span class=\"s2\">&quot;Y&quot;</span><span class=\"p\">,</span><span class=\"s s-Atom\">node</span><span class=\"p\">)</span> <span class=\"nf\">neqOrd</span><span class=\"p\">(</span><span class=\"s2\">&quot;X&quot;</span><span class=\"p\">,</span><span class=\"s2\">&quot;Z&quot;</span><span class=\"p\">,</span><span class=\"s s-Atom\">node</span><span class=\"p\">)</span> <span class=\"nf\">neqOrd</span><span class=\"p\">(</span><span class=\"s2\">&quot;Y&quot;</span><span class=\"p\">,</span><span class=\"s2\">&quot;Z&quot;</span><span class=\"p\">,</span><span class=\"s s-Atom\">node</span><span class=\"p\">)</span>\n",
       "<span class=\"lineno\">29 </span><span class=\"nv\">Answer</span><span class=\"s s-Atom\">:</span> <span class=\"mi\">15</span>\n",
       "<span class=\"lineno\">30 </span><span class=\"nf\">ruleH</span><span class=\"p\">(</span><span class=\"s2\">&quot;tri&quot;</span><span class=\"p\">)</span> <span class=\"nf\">newVar</span><span class=\"p\">(</span><span class=\"s2\">&quot;X&quot;</span><span class=\"p\">,</span><span class=\"s s-Atom\">node</span><span class=\"p\">)</span> <span class=\"nf\">ruleOcc</span><span class=\"p\">(</span><span class=\"s2\">&quot;e&quot;</span><span class=\"p\">,</span><span class=\"mi\">1</span><span class=\"p\">)</span> <span class=\"nf\">ruleOcc</span><span class=\"p\">(</span><span class=\"s2\">&quot;e&quot;</span><span class=\"p\">,</span><span class=\"mi\">2</span><span class=\"p\">)</span> <span class=\"nf\">ruleOcc</span><span class=\"p\">(</span><span class=\"s2\">&quot;e&quot;</span><span class=\"p\">,</span><span class=\"mi\">3</span><span class=\"p\">)</span> <span class=\"nf\">var</span><span class=\"p\">(</span><span class=\"s2\">&quot;X&quot;</span><span class=\"p\">,</span><span class=\"s s-Atom\">node</span><span class=\"p\">)</span> <span class=\"nf\">var</span><span class=\"p\">(</span><span class=\"s2\">&quot;Y&quot;</span><span class=\"p\">,</span><span class=\"s s-Atom\">node</span><span class=\"p\">)</span> <span class=\"nf\">var</span><span class=\"p\">(</span><span class=\"s2\">&quot;Z&quot;</span><span class=\"p\">,</span><span class=\"s s-Atom\">node</span><span class=\"p\">)</span> <span class=\"nf\">hArc</span><span class=\"p\">(</span><span class=\"s2\">&quot;Z&quot;</span><span class=\"p\">,</span><span class=\"mi\">3</span><span class=\"p\">,</span><span class=\"s2\">&quot;tri&quot;</span><span class=\"p\">)</span> <span class=\"nf\">hArc</span><span class=\"p\">(</span><span class=\"s2\">&quot;Y&quot;</span><span class=\"p\">,</span><span class=\"mi\">2</span><span class=\"p\">,</span><span class=\"s2\">&quot;tri&quot;</span><span class=\"p\">)</span> <span class=\"nf\">hArc</span><span class=\"p\">(</span><span class=\"s2\">&quot;X&quot;</span><span class=\"p\">,</span><span class=\"mi\">1</span><span class=\"p\">,</span><span class=\"s2\">&quot;tri&quot;</span><span class=\"p\">)</span> <span class=\"nf\">newHArc</span><span class=\"p\">(</span><span class=\"s2\">&quot;X&quot;</span><span class=\"p\">,</span><span class=\"mi\">1</span><span class=\"p\">,</span><span class=\"s2\">&quot;tri&quot;</span><span class=\"p\">)</span> <span class=\"nf\">arc</span><span class=\"p\">(</span><span class=\"s2\">&quot;X&quot;</span><span class=\"p\">,</span><span class=\"mi\">1</span><span class=\"p\">,</span><span class=\"s2\">&quot;e&quot;</span><span class=\"p\">,</span><span class=\"mi\">1</span><span class=\"p\">)</span> <span class=\"nf\">arc</span><span class=\"p\">(</span><span class=\"s2\">&quot;Y&quot;</span><span class=\"p\">,</span><span class=\"mi\">2</span><span class=\"p\">,</span><span class=\"s2\">&quot;e&quot;</span><span class=\"p\">,</span><span class=\"mi\">1</span><span class=\"p\">)</span> <span class=\"nf\">arc</span><span class=\"p\">(</span><span class=\"s2\">&quot;Y&quot;</span><span class=\"p\">,</span><span class=\"mi\">1</span><span class=\"p\">,</span><span class=\"s2\">&quot;e&quot;</span><span class=\"p\">,</span><span class=\"mi\">2</span><span class=\"p\">)</span> <span class=\"nf\">arc</span><span class=\"p\">(</span><span class=\"s2\">&quot;Z&quot;</span><span class=\"p\">,</span><span class=\"mi\">2</span><span class=\"p\">,</span><span class=\"s2\">&quot;e&quot;</span><span class=\"p\">,</span><span class=\"mi\">2</span><span class=\"p\">)</span> <span class=\"nf\">arc</span><span class=\"p\">(</span><span class=\"s2\">&quot;Z&quot;</span><span class=\"p\">,</span><span class=\"mi\">1</span><span class=\"p\">,</span><span class=\"s2\">&quot;e&quot;</span><span class=\"p\">,</span><span class=\"mi\">3</span><span class=\"p\">)</span> <span class=\"nf\">arc</span><span class=\"p\">(</span><span class=\"s2\">&quot;X&quot;</span><span class=\"p\">,</span><span class=\"mi\">2</span><span class=\"p\">,</span><span class=\"s2\">&quot;e&quot;</span><span class=\"p\">,</span><span class=\"mi\">3</span><span class=\"p\">)</span> <span class=\"nf\">newArc</span><span class=\"p\">(</span><span class=\"s2\">&quot;X&quot;</span><span class=\"p\">,</span><span class=\"mi\">1</span><span class=\"p\">,</span><span class=\"s2\">&quot;e&quot;</span><span class=\"p\">,</span><span class=\"mi\">1</span><span class=\"p\">)</span> <span class=\"nf\">newArc</span><span class=\"p\">(</span><span class=\"s2\">&quot;X&quot;</span><span class=\"p\">,</span><span class=\"mi\">2</span><span class=\"p\">,</span><span class=\"s2\">&quot;e&quot;</span><span class=\"p\">,</span><span class=\"mi\">3</span><span class=\"p\">)</span> <span class=\"nf\">newArc</span><span class=\"p\">(</span><span class=\"s2\">&quot;Y&quot;</span><span class=\"p\">,</span><span class=\"mi\">2</span><span class=\"p\">,</span><span class=\"s2\">&quot;e&quot;</span><span class=\"p\">,</span><span class=\"mi\">1</span><span class=\"p\">)</span> <span class=\"nf\">newArc</span><span class=\"p\">(</span><span class=\"s2\">&quot;Y&quot;</span><span class=\"p\">,</span><span class=\"mi\">1</span><span class=\"p\">,</span><span class=\"s2\">&quot;e&quot;</span><span class=\"p\">,</span><span class=\"mi\">2</span><span class=\"p\">)</span> <span class=\"nf\">newArc</span><span class=\"p\">(</span><span class=\"s2\">&quot;Z&quot;</span><span class=\"p\">,</span><span class=\"mi\">2</span><span class=\"p\">,</span><span class=\"s2\">&quot;e&quot;</span><span class=\"p\">,</span><span class=\"mi\">2</span><span class=\"p\">)</span> <span class=\"nf\">newArc</span><span class=\"p\">(</span><span class=\"s2\">&quot;Z&quot;</span><span class=\"p\">,</span><span class=\"mi\">1</span><span class=\"p\">,</span><span class=\"s2\">&quot;e&quot;</span><span class=\"p\">,</span><span class=\"mi\">3</span><span class=\"p\">)</span> <span class=\"nf\">ruleOccTrue</span><span class=\"p\">(</span><span class=\"s2\">&quot;e&quot;</span><span class=\"p\">,</span><span class=\"mi\">2</span><span class=\"p\">)</span> <span class=\"nf\">ruleOccTrue</span><span class=\"p\">(</span><span class=\"s2\">&quot;e&quot;</span><span class=\"p\">,</span><span class=\"mi\">3</span><span class=\"p\">)</span> <span class=\"nf\">ne</span><span class=\"p\">(</span><span class=\"mi\">1</span><span class=\"p\">,</span><span class=\"s2\">&quot;X&quot;</span><span class=\"p\">,</span><span class=\"s2\">&quot;Y&quot;</span><span class=\"p\">)</span> <span class=\"nf\">ne</span><span class=\"p\">(</span><span class=\"s2\">&quot;X&quot;</span><span class=\"p\">,</span><span class=\"s2\">&quot;Y&quot;</span><span class=\"p\">)</span> <span class=\"nf\">e</span><span class=\"p\">(</span><span class=\"mi\">2</span><span class=\"p\">,</span><span class=\"s2\">&quot;Y&quot;</span><span class=\"p\">,</span><span class=\"s2\">&quot;Z&quot;</span><span class=\"p\">)</span> <span class=\"nf\">e</span><span class=\"p\">(</span><span class=\"mi\">3</span><span class=\"p\">,</span><span class=\"s2\">&quot;Z&quot;</span><span class=\"p\">,</span><span class=\"s2\">&quot;X&quot;</span><span class=\"p\">)</span> <span class=\"nf\">e</span><span class=\"p\">(</span><span class=\"s2\">&quot;Y&quot;</span><span class=\"p\">,</span><span class=\"s2\">&quot;Z&quot;</span><span class=\"p\">)</span> <span class=\"nf\">e</span><span class=\"p\">(</span><span class=\"s2\">&quot;Z&quot;</span><span class=\"p\">,</span><span class=\"s2\">&quot;X&quot;</span><span class=\"p\">)</span> <span class=\"nf\">newHArc</span><span class=\"p\">(</span><span class=\"s2\">&quot;Z&quot;</span><span class=\"p\">,</span><span class=\"mi\">3</span><span class=\"p\">,</span><span class=\"s2\">&quot;tri&quot;</span><span class=\"p\">)</span> <span class=\"nf\">newHArc</span><span class=\"p\">(</span><span class=\"s2\">&quot;Y&quot;</span><span class=\"p\">,</span><span class=\"mi\">2</span><span class=\"p\">,</span><span class=\"s2\">&quot;tri&quot;</span><span class=\"p\">)</span> <span class=\"nf\">newVar</span><span class=\"p\">(</span><span class=\"s2\">&quot;Y&quot;</span><span class=\"p\">,</span><span class=\"s s-Atom\">node</span><span class=\"p\">)</span> <span class=\"nf\">newVar</span><span class=\"p\">(</span><span class=\"s2\">&quot;Z&quot;</span><span class=\"p\">,</span><span class=\"s s-Atom\">node</span><span class=\"p\">)</span> <span class=\"nf\">neqOrd</span><span class=\"p\">(</span><span class=\"s2\">&quot;X&quot;</span><span class=\"p\">,</span><span class=\"s2\">&quot;Y&quot;</span><span class=\"p\">,</span><span class=\"s s-Atom\">node</span><span class=\"p\">)</span> <span class=\"nf\">neqOrd</span><span class=\"p\">(</span><span class=\"s2\">&quot;X&quot;</span><span class=\"p\">,</span><span class=\"s2\">&quot;Z&quot;</span><span class=\"p\">,</span><span class=\"s s-Atom\">node</span><span class=\"p\">)</span> <span class=\"nf\">neqOrd</span><span class=\"p\">(</span><span class=\"s2\">&quot;Y&quot;</span><span class=\"p\">,</span><span class=\"s2\">&quot;Z&quot;</span><span class=\"p\">,</span><span class=\"s s-Atom\">node</span><span class=\"p\">)</span>\n",
       "<span class=\"lineno\">31 </span><span class=\"nv\">Answer</span><span class=\"s s-Atom\">:</span> <span class=\"mi\">16</span>\n",
       "<span class=\"lineno\">32 </span><span class=\"nf\">ruleH</span><span class=\"p\">(</span><span class=\"s2\">&quot;tri&quot;</span><span class=\"p\">)</span> <span class=\"nf\">newVar</span><span class=\"p\">(</span><span class=\"s2\">&quot;X&quot;</span><span class=\"p\">,</span><span class=\"s s-Atom\">node</span><span class=\"p\">)</span> <span class=\"nf\">ruleOcc</span><span class=\"p\">(</span><span class=\"s2\">&quot;e&quot;</span><span class=\"p\">,</span><span class=\"mi\">1</span><span class=\"p\">)</span> <span class=\"nf\">ruleOcc</span><span class=\"p\">(</span><span class=\"s2\">&quot;e&quot;</span><span class=\"p\">,</span><span class=\"mi\">2</span><span class=\"p\">)</span> <span class=\"nf\">ruleOcc</span><span class=\"p\">(</span><span class=\"s2\">&quot;e&quot;</span><span class=\"p\">,</span><span class=\"mi\">3</span><span class=\"p\">)</span> <span class=\"nf\">var</span><span class=\"p\">(</span><span class=\"s2\">&quot;X&quot;</span><span class=\"p\">,</span><span class=\"s s-Atom\">node</span><span class=\"p\">)</span> <span class=\"nf\">var</span><span class=\"p\">(</span><span class=\"s2\">&quot;Y&quot;</span><span class=\"p\">,</span><span class=\"s s-Atom\">node</span><span class=\"p\">)</span> <span class=\"nf\">var</span><span class=\"p\">(</span><span class=\"s2\">&quot;Z&quot;</span><span class=\"p\">,</span><span class=\"s s-Atom\">node</span><span class=\"p\">)</span> <span class=\"nf\">hArc</span><span class=\"p\">(</span><span class=\"s2\">&quot;Z&quot;</span><span class=\"p\">,</span><span class=\"mi\">3</span><span class=\"p\">,</span><span class=\"s2\">&quot;tri&quot;</span><span class=\"p\">)</span> <span class=\"nf\">hArc</span><span class=\"p\">(</span><span class=\"s2\">&quot;Y&quot;</span><span class=\"p\">,</span><span class=\"mi\">2</span><span class=\"p\">,</span><span class=\"s2\">&quot;tri&quot;</span><span class=\"p\">)</span> <span class=\"nf\">hArc</span><span class=\"p\">(</span><span class=\"s2\">&quot;X&quot;</span><span class=\"p\">,</span><span class=\"mi\">1</span><span class=\"p\">,</span><span class=\"s2\">&quot;tri&quot;</span><span class=\"p\">)</span> <span class=\"nf\">newHArc</span><span class=\"p\">(</span><span class=\"s2\">&quot;X&quot;</span><span class=\"p\">,</span><span class=\"mi\">1</span><span class=\"p\">,</span><span class=\"s2\">&quot;tri&quot;</span><span class=\"p\">)</span> <span class=\"nf\">arc</span><span class=\"p\">(</span><span class=\"s2\">&quot;X&quot;</span><span class=\"p\">,</span><span class=\"mi\">1</span><span class=\"p\">,</span><span class=\"s2\">&quot;e&quot;</span><span class=\"p\">,</span><span class=\"mi\">1</span><span class=\"p\">)</span> <span class=\"nf\">arc</span><span class=\"p\">(</span><span class=\"s2\">&quot;Y&quot;</span><span class=\"p\">,</span><span class=\"mi\">2</span><span class=\"p\">,</span><span class=\"s2\">&quot;e&quot;</span><span class=\"p\">,</span><span class=\"mi\">1</span><span class=\"p\">)</span> <span class=\"nf\">arc</span><span class=\"p\">(</span><span class=\"s2\">&quot;Y&quot;</span><span class=\"p\">,</span><span class=\"mi\">1</span><span class=\"p\">,</span><span class=\"s2\">&quot;e&quot;</span><span class=\"p\">,</span><span class=\"mi\">2</span><span class=\"p\">)</span> <span class=\"nf\">arc</span><span class=\"p\">(</span><span class=\"s2\">&quot;Z&quot;</span><span class=\"p\">,</span><span class=\"mi\">2</span><span class=\"p\">,</span><span class=\"s2\">&quot;e&quot;</span><span class=\"p\">,</span><span class=\"mi\">2</span><span class=\"p\">)</span> <span class=\"nf\">arc</span><span class=\"p\">(</span><span class=\"s2\">&quot;Z&quot;</span><span class=\"p\">,</span><span class=\"mi\">1</span><span class=\"p\">,</span><span class=\"s2\">&quot;e&quot;</span><span class=\"p\">,</span><span class=\"mi\">3</span><span class=\"p\">)</span> <span class=\"nf\">arc</span><span class=\"p\">(</span><span class=\"s2\">&quot;X&quot;</span><span class=\"p\">,</span><span class=\"mi\">2</span><span class=\"p\">,</span><span class=\"s2\">&quot;e&quot;</span><span class=\"p\">,</span><span class=\"mi\">3</span><span class=\"p\">)</span> <span class=\"nf\">newArc</span><span class=\"p\">(</span><span class=\"s2\">&quot;X&quot;</span><span class=\"p\">,</span><span class=\"mi\">1</span><span class=\"p\">,</span><span class=\"s2\">&quot;e&quot;</span><span class=\"p\">,</span><span class=\"mi\">1</span><span class=\"p\">)</span> <span class=\"nf\">newArc</span><span class=\"p\">(</span><span class=\"s2\">&quot;X&quot;</span><span class=\"p\">,</span><span class=\"mi\">2</span><span class=\"p\">,</span><span class=\"s2\">&quot;e&quot;</span><span class=\"p\">,</span><span class=\"mi\">3</span><span class=\"p\">)</span> <span class=\"nf\">newArc</span><span class=\"p\">(</span><span class=\"s2\">&quot;Y&quot;</span><span class=\"p\">,</span><span class=\"mi\">2</span><span class=\"p\">,</span><span class=\"s2\">&quot;e&quot;</span><span class=\"p\">,</span><span class=\"mi\">1</span><span class=\"p\">)</span> <span class=\"nf\">newArc</span><span class=\"p\">(</span><span class=\"s2\">&quot;Y&quot;</span><span class=\"p\">,</span><span class=\"mi\">1</span><span class=\"p\">,</span><span class=\"s2\">&quot;e&quot;</span><span class=\"p\">,</span><span class=\"mi\">2</span><span class=\"p\">)</span> <span class=\"nf\">newArc</span><span class=\"p\">(</span><span class=\"s2\">&quot;Z&quot;</span><span class=\"p\">,</span><span class=\"mi\">2</span><span class=\"p\">,</span><span class=\"s2\">&quot;e&quot;</span><span class=\"p\">,</span><span class=\"mi\">2</span><span class=\"p\">)</span> <span class=\"nf\">newArc</span><span class=\"p\">(</span><span class=\"s2\">&quot;Z&quot;</span><span class=\"p\">,</span><span class=\"mi\">1</span><span class=\"p\">,</span><span class=\"s2\">&quot;e&quot;</span><span class=\"p\">,</span><span class=\"mi\">3</span><span class=\"p\">)</span> <span class=\"nf\">ruleOccTrue</span><span class=\"p\">(</span><span class=\"s2\">&quot;e&quot;</span><span class=\"p\">,</span><span class=\"mi\">1</span><span class=\"p\">)</span> <span class=\"nf\">ruleOccTrue</span><span class=\"p\">(</span><span class=\"s2\">&quot;e&quot;</span><span class=\"p\">,</span><span class=\"mi\">2</span><span class=\"p\">)</span> <span class=\"nf\">ruleOccTrue</span><span class=\"p\">(</span><span class=\"s2\">&quot;e&quot;</span><span class=\"p\">,</span><span class=\"mi\">3</span><span class=\"p\">)</span> <span class=\"nf\">e</span><span class=\"p\">(</span><span class=\"mi\">1</span><span class=\"p\">,</span><span class=\"s2\">&quot;X&quot;</span><span class=\"p\">,</span><span class=\"s2\">&quot;Y&quot;</span><span class=\"p\">)</span> <span class=\"nf\">e</span><span class=\"p\">(</span><span class=\"mi\">2</span><span class=\"p\">,</span><span class=\"s2\">&quot;Y&quot;</span><span class=\"p\">,</span><span class=\"s2\">&quot;Z&quot;</span><span class=\"p\">)</span> <span class=\"nf\">e</span><span class=\"p\">(</span><span class=\"mi\">3</span><span class=\"p\">,</span><span class=\"s2\">&quot;Z&quot;</span><span class=\"p\">,</span><span class=\"s2\">&quot;X&quot;</span><span class=\"p\">)</span> <span class=\"nf\">e</span><span class=\"p\">(</span><span class=\"s2\">&quot;X&quot;</span><span class=\"p\">,</span><span class=\"s2\">&quot;Y&quot;</span><span class=\"p\">)</span> <span class=\"nf\">e</span><span class=\"p\">(</span><span class=\"s2\">&quot;Y&quot;</span><span class=\"p\">,</span><span class=\"s2\">&quot;Z&quot;</span><span class=\"p\">)</span> <span class=\"nf\">e</span><span class=\"p\">(</span><span class=\"s2\">&quot;Z&quot;</span><span class=\"p\">,</span><span class=\"s2\">&quot;X&quot;</span><span class=\"p\">)</span> <span class=\"nf\">newHArc</span><span class=\"p\">(</span><span class=\"s2\">&quot;Z&quot;</span><span class=\"p\">,</span><span class=\"mi\">3</span><span class=\"p\">,</span><span class=\"s2\">&quot;tri&quot;</span><span class=\"p\">)</span> <span class=\"nf\">newHArc</span><span class=\"p\">(</span><span class=\"s2\">&quot;Y&quot;</span><span class=\"p\">,</span><span class=\"mi\">2</span><span class=\"p\">,</span><span class=\"s2\">&quot;tri&quot;</span><span class=\"p\">)</span> <span class=\"nf\">newVar</span><span class=\"p\">(</span><span class=\"s2\">&quot;Y&quot;</span><span class=\"p\">,</span><span class=\"s s-Atom\">node</span><span class=\"p\">)</span> <span class=\"nf\">newVar</span><span class=\"p\">(</span><span class=\"s2\">&quot;Z&quot;</span><span class=\"p\">,</span><span class=\"s s-Atom\">node</span><span class=\"p\">)</span> <span class=\"nf\">neqOrd</span><span class=\"p\">(</span><span class=\"s2\">&quot;X&quot;</span><span class=\"p\">,</span><span class=\"s2\">&quot;Y&quot;</span><span class=\"p\">,</span><span class=\"s s-Atom\">node</span><span class=\"p\">)</span> <span class=\"nf\">neqOrd</span><span class=\"p\">(</span><span class=\"s2\">&quot;X&quot;</span><span class=\"p\">,</span><span class=\"s2\">&quot;Z&quot;</span><span class=\"p\">,</span><span class=\"s s-Atom\">node</span><span class=\"p\">)</span> <span class=\"nf\">neqOrd</span><span class=\"p\">(</span><span class=\"s2\">&quot;Y&quot;</span><span class=\"p\">,</span><span class=\"s2\">&quot;Z&quot;</span><span class=\"p\">,</span><span class=\"s s-Atom\">node</span><span class=\"p\">)</span> <span class=\"nf\">ruleHTrue</span><span class=\"p\">(</span><span class=\"s2\">&quot;tri&quot;</span><span class=\"p\">)</span>\n",
       "<span class=\"lineno\">33 </span><span class=\"nv\">Answer</span><span class=\"s s-Atom\">:</span> <span class=\"mi\">17</span>\n",
       "<span class=\"lineno\">34 </span><span class=\"nf\">ruleH</span><span class=\"p\">(</span><span class=\"s2\">&quot;tri&quot;</span><span class=\"p\">)</span> <span class=\"nf\">newVar</span><span class=\"p\">(</span><span class=\"s2\">&quot;X&quot;</span><span class=\"p\">,</span><span class=\"s s-Atom\">node</span><span class=\"p\">)</span> <span class=\"nf\">ruleOcc</span><span class=\"p\">(</span><span class=\"s2\">&quot;e&quot;</span><span class=\"p\">,</span><span class=\"mi\">1</span><span class=\"p\">)</span> <span class=\"nf\">ruleOcc</span><span class=\"p\">(</span><span class=\"s2\">&quot;e&quot;</span><span class=\"p\">,</span><span class=\"mi\">2</span><span class=\"p\">)</span> <span class=\"nf\">ruleOcc</span><span class=\"p\">(</span><span class=\"s2\">&quot;e&quot;</span><span class=\"p\">,</span><span class=\"mi\">3</span><span class=\"p\">)</span> <span class=\"nf\">var</span><span class=\"p\">(</span><span class=\"s2\">&quot;X&quot;</span><span class=\"p\">,</span><span class=\"s s-Atom\">node</span><span class=\"p\">)</span> <span class=\"nf\">var</span><span class=\"p\">(</span><span class=\"s2\">&quot;Y&quot;</span><span class=\"p\">,</span><span class=\"s s-Atom\">node</span><span class=\"p\">)</span> <span class=\"nf\">var</span><span class=\"p\">(</span><span class=\"s2\">&quot;Z&quot;</span><span class=\"p\">,</span><span class=\"s s-Atom\">node</span><span class=\"p\">)</span> <span class=\"nf\">hArc</span><span class=\"p\">(</span><span class=\"s2\">&quot;Z&quot;</span><span class=\"p\">,</span><span class=\"mi\">3</span><span class=\"p\">,</span><span class=\"s2\">&quot;tri&quot;</span><span class=\"p\">)</span> <span class=\"nf\">hArc</span><span class=\"p\">(</span><span class=\"s2\">&quot;Y&quot;</span><span class=\"p\">,</span><span class=\"mi\">2</span><span class=\"p\">,</span><span class=\"s2\">&quot;tri&quot;</span><span class=\"p\">)</span> <span class=\"nf\">hArc</span><span class=\"p\">(</span><span class=\"s2\">&quot;X&quot;</span><span class=\"p\">,</span><span class=\"mi\">1</span><span class=\"p\">,</span><span class=\"s2\">&quot;tri&quot;</span><span class=\"p\">)</span> <span class=\"nf\">newHArc</span><span class=\"p\">(</span><span class=\"s2\">&quot;X&quot;</span><span class=\"p\">,</span><span class=\"mi\">1</span><span class=\"p\">,</span><span class=\"s2\">&quot;tri&quot;</span><span class=\"p\">)</span> <span class=\"nf\">arc</span><span class=\"p\">(</span><span class=\"s2\">&quot;X&quot;</span><span class=\"p\">,</span><span class=\"mi\">1</span><span class=\"p\">,</span><span class=\"s2\">&quot;e&quot;</span><span class=\"p\">,</span><span class=\"mi\">1</span><span class=\"p\">)</span> <span class=\"nf\">arc</span><span class=\"p\">(</span><span class=\"s2\">&quot;Y&quot;</span><span class=\"p\">,</span><span class=\"mi\">2</span><span class=\"p\">,</span><span class=\"s2\">&quot;e&quot;</span><span class=\"p\">,</span><span class=\"mi\">1</span><span class=\"p\">)</span> <span class=\"nf\">arc</span><span class=\"p\">(</span><span class=\"s2\">&quot;Y&quot;</span><span class=\"p\">,</span><span class=\"mi\">1</span><span class=\"p\">,</span><span class=\"s2\">&quot;e&quot;</span><span class=\"p\">,</span><span class=\"mi\">2</span><span class=\"p\">)</span> <span class=\"nf\">arc</span><span class=\"p\">(</span><span class=\"s2\">&quot;Z&quot;</span><span class=\"p\">,</span><span class=\"mi\">2</span><span class=\"p\">,</span><span class=\"s2\">&quot;e&quot;</span><span class=\"p\">,</span><span class=\"mi\">2</span><span class=\"p\">)</span> <span class=\"nf\">arc</span><span class=\"p\">(</span><span class=\"s2\">&quot;Z&quot;</span><span class=\"p\">,</span><span class=\"mi\">1</span><span class=\"p\">,</span><span class=\"s2\">&quot;e&quot;</span><span class=\"p\">,</span><span class=\"mi\">3</span><span class=\"p\">)</span> <span class=\"nf\">arc</span><span class=\"p\">(</span><span class=\"s2\">&quot;X&quot;</span><span class=\"p\">,</span><span class=\"mi\">2</span><span class=\"p\">,</span><span class=\"s2\">&quot;e&quot;</span><span class=\"p\">,</span><span class=\"mi\">3</span><span class=\"p\">)</span> <span class=\"nf\">newArc</span><span class=\"p\">(</span><span class=\"s2\">&quot;X&quot;</span><span class=\"p\">,</span><span class=\"mi\">1</span><span class=\"p\">,</span><span class=\"s2\">&quot;e&quot;</span><span class=\"p\">,</span><span class=\"mi\">1</span><span class=\"p\">)</span> <span class=\"nf\">newArc</span><span class=\"p\">(</span><span class=\"s2\">&quot;X&quot;</span><span class=\"p\">,</span><span class=\"mi\">2</span><span class=\"p\">,</span><span class=\"s2\">&quot;e&quot;</span><span class=\"p\">,</span><span class=\"mi\">3</span><span class=\"p\">)</span> <span class=\"nf\">eqOrd</span><span class=\"p\">(</span><span class=\"s2\">&quot;Y&quot;</span><span class=\"p\">,</span><span class=\"s2\">&quot;Z&quot;</span><span class=\"p\">,</span><span class=\"s s-Atom\">node</span><span class=\"p\">)</span> <span class=\"nf\">newArc</span><span class=\"p\">(</span><span class=\"s2\">&quot;Y&quot;</span><span class=\"p\">,</span><span class=\"mi\">2</span><span class=\"p\">,</span><span class=\"s2\">&quot;e&quot;</span><span class=\"p\">,</span><span class=\"mi\">2</span><span class=\"p\">)</span> <span class=\"nf\">newArc</span><span class=\"p\">(</span><span class=\"s2\">&quot;Y&quot;</span><span class=\"p\">,</span><span class=\"mi\">1</span><span class=\"p\">,</span><span class=\"s2\">&quot;e&quot;</span><span class=\"p\">,</span><span class=\"mi\">3</span><span class=\"p\">)</span> <span class=\"nf\">newArc</span><span class=\"p\">(</span><span class=\"s2\">&quot;Y&quot;</span><span class=\"p\">,</span><span class=\"mi\">2</span><span class=\"p\">,</span><span class=\"s2\">&quot;e&quot;</span><span class=\"p\">,</span><span class=\"mi\">1</span><span class=\"p\">)</span> <span class=\"nf\">newArc</span><span class=\"p\">(</span><span class=\"s2\">&quot;Y&quot;</span><span class=\"p\">,</span><span class=\"mi\">1</span><span class=\"p\">,</span><span class=\"s2\">&quot;e&quot;</span><span class=\"p\">,</span><span class=\"mi\">2</span><span class=\"p\">)</span> <span class=\"nf\">ruleOccTrue</span><span class=\"p\">(</span><span class=\"s2\">&quot;e&quot;</span><span class=\"p\">,</span><span class=\"mi\">2</span><span class=\"p\">)</span> <span class=\"nf\">ne</span><span class=\"p\">(</span><span class=\"mi\">1</span><span class=\"p\">,</span><span class=\"s2\">&quot;X&quot;</span><span class=\"p\">,</span><span class=\"s2\">&quot;Y&quot;</span><span class=\"p\">)</span> <span class=\"nf\">ne</span><span class=\"p\">(</span><span class=\"mi\">3</span><span class=\"p\">,</span><span class=\"s2\">&quot;Y&quot;</span><span class=\"p\">,</span><span class=\"s2\">&quot;X&quot;</span><span class=\"p\">)</span> <span class=\"nf\">ne</span><span class=\"p\">(</span><span class=\"s2\">&quot;Y&quot;</span><span class=\"p\">,</span><span class=\"s2\">&quot;X&quot;</span><span class=\"p\">)</span> <span class=\"nf\">ne</span><span class=\"p\">(</span><span class=\"s2\">&quot;X&quot;</span><span class=\"p\">,</span><span class=\"s2\">&quot;Y&quot;</span><span class=\"p\">)</span> <span class=\"nf\">e</span><span class=\"p\">(</span><span class=\"mi\">2</span><span class=\"p\">,</span><span class=\"s2\">&quot;Y&quot;</span><span class=\"p\">,</span><span class=\"s2\">&quot;Y&quot;</span><span class=\"p\">)</span> <span class=\"nf\">e</span><span class=\"p\">(</span><span class=\"s2\">&quot;Y&quot;</span><span class=\"p\">,</span><span class=\"s2\">&quot;Y&quot;</span><span class=\"p\">)</span> <span class=\"nf\">newHArc</span><span class=\"p\">(</span><span class=\"s2\">&quot;Y&quot;</span><span class=\"p\">,</span><span class=\"mi\">2</span><span class=\"p\">,</span><span class=\"s2\">&quot;tri&quot;</span><span class=\"p\">)</span> <span class=\"nf\">newHArc</span><span class=\"p\">(</span><span class=\"s2\">&quot;Y&quot;</span><span class=\"p\">,</span><span class=\"mi\">3</span><span class=\"p\">,</span><span class=\"s2\">&quot;tri&quot;</span><span class=\"p\">)</span> <span class=\"nf\">newVar</span><span class=\"p\">(</span><span class=\"s2\">&quot;Y&quot;</span><span class=\"p\">,</span><span class=\"s s-Atom\">node</span><span class=\"p\">)</span> <span class=\"nf\">neqOrd</span><span class=\"p\">(</span><span class=\"s2\">&quot;X&quot;</span><span class=\"p\">,</span><span class=\"s2\">&quot;Y&quot;</span><span class=\"p\">,</span><span class=\"s s-Atom\">node</span><span class=\"p\">)</span> <span class=\"nf\">eqOrdMinimal</span><span class=\"p\">(</span><span class=\"s2\">&quot;Y&quot;</span><span class=\"p\">,</span><span class=\"s2\">&quot;Z&quot;</span><span class=\"p\">,</span><span class=\"s s-Atom\">node</span><span class=\"p\">)</span>\n",
       "<span class=\"lineno\">35 </span><span class=\"nv\">Answer</span><span class=\"s s-Atom\">:</span> <span class=\"mi\">18</span>\n",
       "<span class=\"lineno\">36 </span><span class=\"nf\">ruleH</span><span class=\"p\">(</span><span class=\"s2\">&quot;tri&quot;</span><span class=\"p\">)</span> <span class=\"nf\">newVar</span><span class=\"p\">(</span><span class=\"s2\">&quot;X&quot;</span><span class=\"p\">,</span><span class=\"s s-Atom\">node</span><span class=\"p\">)</span> <span class=\"nf\">ruleOcc</span><span class=\"p\">(</span><span class=\"s2\">&quot;e&quot;</span><span class=\"p\">,</span><span class=\"mi\">1</span><span class=\"p\">)</span> <span class=\"nf\">ruleOcc</span><span class=\"p\">(</span><span class=\"s2\">&quot;e&quot;</span><span class=\"p\">,</span><span class=\"mi\">2</span><span class=\"p\">)</span> <span class=\"nf\">ruleOcc</span><span class=\"p\">(</span><span class=\"s2\">&quot;e&quot;</span><span class=\"p\">,</span><span class=\"mi\">3</span><span class=\"p\">)</span> <span class=\"nf\">var</span><span class=\"p\">(</span><span class=\"s2\">&quot;X&quot;</span><span class=\"p\">,</span><span class=\"s s-Atom\">node</span><span class=\"p\">)</span> <span class=\"nf\">var</span><span class=\"p\">(</span><span class=\"s2\">&quot;Y&quot;</span><span class=\"p\">,</span><span class=\"s s-Atom\">node</span><span class=\"p\">)</span> <span class=\"nf\">var</span><span class=\"p\">(</span><span class=\"s2\">&quot;Z&quot;</span><span class=\"p\">,</span><span class=\"s s-Atom\">node</span><span class=\"p\">)</span> <span class=\"nf\">hArc</span><span class=\"p\">(</span><span class=\"s2\">&quot;Z&quot;</span><span class=\"p\">,</span><span class=\"mi\">3</span><span class=\"p\">,</span><span class=\"s2\">&quot;tri&quot;</span><span class=\"p\">)</span> <span class=\"nf\">hArc</span><span class=\"p\">(</span><span class=\"s2\">&quot;Y&quot;</span><span class=\"p\">,</span><span class=\"mi\">2</span><span class=\"p\">,</span><span class=\"s2\">&quot;tri&quot;</span><span class=\"p\">)</span> <span class=\"nf\">hArc</span><span class=\"p\">(</span><span class=\"s2\">&quot;X&quot;</span><span class=\"p\">,</span><span class=\"mi\">1</span><span class=\"p\">,</span><span class=\"s2\">&quot;tri&quot;</span><span class=\"p\">)</span> <span class=\"nf\">newHArc</span><span class=\"p\">(</span><span class=\"s2\">&quot;X&quot;</span><span class=\"p\">,</span><span class=\"mi\">1</span><span class=\"p\">,</span><span class=\"s2\">&quot;tri&quot;</span><span class=\"p\">)</span> <span class=\"nf\">arc</span><span class=\"p\">(</span><span class=\"s2\">&quot;X&quot;</span><span class=\"p\">,</span><span class=\"mi\">1</span><span class=\"p\">,</span><span class=\"s2\">&quot;e&quot;</span><span class=\"p\">,</span><span class=\"mi\">1</span><span class=\"p\">)</span> <span class=\"nf\">arc</span><span class=\"p\">(</span><span class=\"s2\">&quot;Y&quot;</span><span class=\"p\">,</span><span class=\"mi\">2</span><span class=\"p\">,</span><span class=\"s2\">&quot;e&quot;</span><span class=\"p\">,</span><span class=\"mi\">1</span><span class=\"p\">)</span> <span class=\"nf\">arc</span><span class=\"p\">(</span><span class=\"s2\">&quot;Y&quot;</span><span class=\"p\">,</span><span class=\"mi\">1</span><span class=\"p\">,</span><span class=\"s2\">&quot;e&quot;</span><span class=\"p\">,</span><span class=\"mi\">2</span><span class=\"p\">)</span> <span class=\"nf\">arc</span><span class=\"p\">(</span><span class=\"s2\">&quot;Z&quot;</span><span class=\"p\">,</span><span class=\"mi\">2</span><span class=\"p\">,</span><span class=\"s2\">&quot;e&quot;</span><span class=\"p\">,</span><span class=\"mi\">2</span><span class=\"p\">)</span> <span class=\"nf\">arc</span><span class=\"p\">(</span><span class=\"s2\">&quot;Z&quot;</span><span class=\"p\">,</span><span class=\"mi\">1</span><span class=\"p\">,</span><span class=\"s2\">&quot;e&quot;</span><span class=\"p\">,</span><span class=\"mi\">3</span><span class=\"p\">)</span> <span class=\"nf\">arc</span><span class=\"p\">(</span><span class=\"s2\">&quot;X&quot;</span><span class=\"p\">,</span><span class=\"mi\">2</span><span class=\"p\">,</span><span class=\"s2\">&quot;e&quot;</span><span class=\"p\">,</span><span class=\"mi\">3</span><span class=\"p\">)</span> <span class=\"nf\">newArc</span><span class=\"p\">(</span><span class=\"s2\">&quot;X&quot;</span><span class=\"p\">,</span><span class=\"mi\">1</span><span class=\"p\">,</span><span class=\"s2\">&quot;e&quot;</span><span class=\"p\">,</span><span class=\"mi\">1</span><span class=\"p\">)</span> <span class=\"nf\">newArc</span><span class=\"p\">(</span><span class=\"s2\">&quot;X&quot;</span><span class=\"p\">,</span><span class=\"mi\">2</span><span class=\"p\">,</span><span class=\"s2\">&quot;e&quot;</span><span class=\"p\">,</span><span class=\"mi\">3</span><span class=\"p\">)</span> <span class=\"nf\">eqOrd</span><span class=\"p\">(</span><span class=\"s2\">&quot;Y&quot;</span><span class=\"p\">,</span><span class=\"s2\">&quot;Z&quot;</span><span class=\"p\">,</span><span class=\"s s-Atom\">node</span><span class=\"p\">)</span> <span class=\"nf\">newArc</span><span class=\"p\">(</span><span class=\"s2\">&quot;Y&quot;</span><span class=\"p\">,</span><span class=\"mi\">2</span><span class=\"p\">,</span><span class=\"s2\">&quot;e&quot;</span><span class=\"p\">,</span><span class=\"mi\">2</span><span class=\"p\">)</span> <span class=\"nf\">newArc</span><span class=\"p\">(</span><span class=\"s2\">&quot;Y&quot;</span><span class=\"p\">,</span><span class=\"mi\">1</span><span class=\"p\">,</span><span class=\"s2\">&quot;e&quot;</span><span class=\"p\">,</span><span class=\"mi\">3</span><span class=\"p\">)</span> <span class=\"nf\">newArc</span><span class=\"p\">(</span><span class=\"s2\">&quot;Y&quot;</span><span class=\"p\">,</span><span class=\"mi\">2</span><span class=\"p\">,</span><span class=\"s2\">&quot;e&quot;</span><span class=\"p\">,</span><span class=\"mi\">1</span><span class=\"p\">)</span> <span class=\"nf\">newArc</span><span class=\"p\">(</span><span class=\"s2\">&quot;Y&quot;</span><span class=\"p\">,</span><span class=\"mi\">1</span><span class=\"p\">,</span><span class=\"s2\">&quot;e&quot;</span><span class=\"p\">,</span><span class=\"mi\">2</span><span class=\"p\">)</span> <span class=\"nf\">ruleOccTrue</span><span class=\"p\">(</span><span class=\"s2\">&quot;e&quot;</span><span class=\"p\">,</span><span class=\"mi\">1</span><span class=\"p\">)</span> <span class=\"nf\">ruleOccTrue</span><span class=\"p\">(</span><span class=\"s2\">&quot;e&quot;</span><span class=\"p\">,</span><span class=\"mi\">2</span><span class=\"p\">)</span> <span class=\"nf\">ne</span><span class=\"p\">(</span><span class=\"mi\">3</span><span class=\"p\">,</span><span class=\"s2\">&quot;Y&quot;</span><span class=\"p\">,</span><span class=\"s2\">&quot;X&quot;</span><span class=\"p\">)</span> <span class=\"nf\">ne</span><span class=\"p\">(</span><span class=\"s2\">&quot;Y&quot;</span><span class=\"p\">,</span><span class=\"s2\">&quot;X&quot;</span><span class=\"p\">)</span> <span class=\"nf\">e</span><span class=\"p\">(</span><span class=\"mi\">1</span><span class=\"p\">,</span><span class=\"s2\">&quot;X&quot;</span><span class=\"p\">,</span><span class=\"s2\">&quot;Y&quot;</span><span class=\"p\">)</span> <span class=\"nf\">e</span><span class=\"p\">(</span><span class=\"mi\">2</span><span class=\"p\">,</span><span class=\"s2\">&quot;Y&quot;</span><span class=\"p\">,</span><span class=\"s2\">&quot;Y&quot;</span><span class=\"p\">)</span> <span class=\"nf\">e</span><span class=\"p\">(</span><span class=\"s2\">&quot;X&quot;</span><span class=\"p\">,</span><span class=\"s2\">&quot;Y&quot;</span><span class=\"p\">)</span> <span class=\"nf\">e</span><span class=\"p\">(</span><span class=\"s2\">&quot;Y&quot;</span><span class=\"p\">,</span><span class=\"s2\">&quot;Y&quot;</span><span class=\"p\">)</span> <span class=\"nf\">newHArc</span><span class=\"p\">(</span><span class=\"s2\">&quot;Y&quot;</span><span class=\"p\">,</span><span class=\"mi\">2</span><span class=\"p\">,</span><span class=\"s2\">&quot;tri&quot;</span><span class=\"p\">)</span> <span class=\"nf\">newHArc</span><span class=\"p\">(</span><span class=\"s2\">&quot;Y&quot;</span><span class=\"p\">,</span><span class=\"mi\">3</span><span class=\"p\">,</span><span class=\"s2\">&quot;tri&quot;</span><span class=\"p\">)</span> <span class=\"nf\">newVar</span><span class=\"p\">(</span><span class=\"s2\">&quot;Y&quot;</span><span class=\"p\">,</span><span class=\"s s-Atom\">node</span><span class=\"p\">)</span> <span class=\"nf\">neqOrd</span><span class=\"p\">(</span><span class=\"s2\">&quot;X&quot;</span><span class=\"p\">,</span><span class=\"s2\">&quot;Y&quot;</span><span class=\"p\">,</span><span class=\"s s-Atom\">node</span><span class=\"p\">)</span> <span class=\"nf\">eqOrdMinimal</span><span class=\"p\">(</span><span class=\"s2\">&quot;Y&quot;</span><span class=\"p\">,</span><span class=\"s2\">&quot;Z&quot;</span><span class=\"p\">,</span><span class=\"s s-Atom\">node</span><span class=\"p\">)</span>\n",
       "<span class=\"lineno\">37 </span><span class=\"nv\">Answer</span><span class=\"s s-Atom\">:</span> <span class=\"mi\">19</span>\n",
       "<span class=\"lineno\">38 </span><span class=\"nf\">ruleH</span><span class=\"p\">(</span><span class=\"s2\">&quot;tri&quot;</span><span class=\"p\">)</span> <span class=\"nf\">newVar</span><span class=\"p\">(</span><span class=\"s2\">&quot;X&quot;</span><span class=\"p\">,</span><span class=\"s s-Atom\">node</span><span class=\"p\">)</span> <span class=\"nf\">ruleOcc</span><span class=\"p\">(</span><span class=\"s2\">&quot;e&quot;</span><span class=\"p\">,</span><span class=\"mi\">1</span><span class=\"p\">)</span> <span class=\"nf\">ruleOcc</span><span class=\"p\">(</span><span class=\"s2\">&quot;e&quot;</span><span class=\"p\">,</span><span class=\"mi\">2</span><span class=\"p\">)</span> <span class=\"nf\">ruleOcc</span><span class=\"p\">(</span><span class=\"s2\">&quot;e&quot;</span><span class=\"p\">,</span><span class=\"mi\">3</span><span class=\"p\">)</span> <span class=\"nf\">var</span><span class=\"p\">(</span><span class=\"s2\">&quot;X&quot;</span><span class=\"p\">,</span><span class=\"s s-Atom\">node</span><span class=\"p\">)</span> <span class=\"nf\">var</span><span class=\"p\">(</span><span class=\"s2\">&quot;Y&quot;</span><span class=\"p\">,</span><span class=\"s s-Atom\">node</span><span class=\"p\">)</span> <span class=\"nf\">var</span><span class=\"p\">(</span><span class=\"s2\">&quot;Z&quot;</span><span class=\"p\">,</span><span class=\"s s-Atom\">node</span><span class=\"p\">)</span> <span class=\"nf\">hArc</span><span class=\"p\">(</span><span class=\"s2\">&quot;Z&quot;</span><span class=\"p\">,</span><span class=\"mi\">3</span><span class=\"p\">,</span><span class=\"s2\">&quot;tri&quot;</span><span class=\"p\">)</span> <span class=\"nf\">hArc</span><span class=\"p\">(</span><span class=\"s2\">&quot;Y&quot;</span><span class=\"p\">,</span><span class=\"mi\">2</span><span class=\"p\">,</span><span class=\"s2\">&quot;tri&quot;</span><span class=\"p\">)</span> <span class=\"nf\">hArc</span><span class=\"p\">(</span><span class=\"s2\">&quot;X&quot;</span><span class=\"p\">,</span><span class=\"mi\">1</span><span class=\"p\">,</span><span class=\"s2\">&quot;tri&quot;</span><span class=\"p\">)</span> <span class=\"nf\">newHArc</span><span class=\"p\">(</span><span class=\"s2\">&quot;X&quot;</span><span class=\"p\">,</span><span class=\"mi\">1</span><span class=\"p\">,</span><span class=\"s2\">&quot;tri&quot;</span><span class=\"p\">)</span> <span class=\"nf\">arc</span><span class=\"p\">(</span><span class=\"s2\">&quot;X&quot;</span><span class=\"p\">,</span><span class=\"mi\">1</span><span class=\"p\">,</span><span class=\"s2\">&quot;e&quot;</span><span class=\"p\">,</span><span class=\"mi\">1</span><span class=\"p\">)</span> <span class=\"nf\">arc</span><span class=\"p\">(</span><span class=\"s2\">&quot;Y&quot;</span><span class=\"p\">,</span><span class=\"mi\">2</span><span class=\"p\">,</span><span class=\"s2\">&quot;e&quot;</span><span class=\"p\">,</span><span class=\"mi\">1</span><span class=\"p\">)</span> <span class=\"nf\">arc</span><span class=\"p\">(</span><span class=\"s2\">&quot;Y&quot;</span><span class=\"p\">,</span><span class=\"mi\">1</span><span class=\"p\">,</span><span class=\"s2\">&quot;e&quot;</span><span class=\"p\">,</span><span class=\"mi\">2</span><span class=\"p\">)</span> <span class=\"nf\">arc</span><span class=\"p\">(</span><span class=\"s2\">&quot;Z&quot;</span><span class=\"p\">,</span><span class=\"mi\">2</span><span class=\"p\">,</span><span class=\"s2\">&quot;e&quot;</span><span class=\"p\">,</span><span class=\"mi\">2</span><span class=\"p\">)</span> <span class=\"nf\">arc</span><span class=\"p\">(</span><span class=\"s2\">&quot;Z&quot;</span><span class=\"p\">,</span><span class=\"mi\">1</span><span class=\"p\">,</span><span class=\"s2\">&quot;e&quot;</span><span class=\"p\">,</span><span class=\"mi\">3</span><span class=\"p\">)</span> <span class=\"nf\">arc</span><span class=\"p\">(</span><span class=\"s2\">&quot;X&quot;</span><span class=\"p\">,</span><span class=\"mi\">2</span><span class=\"p\">,</span><span class=\"s2\">&quot;e&quot;</span><span class=\"p\">,</span><span class=\"mi\">3</span><span class=\"p\">)</span> <span class=\"nf\">newArc</span><span class=\"p\">(</span><span class=\"s2\">&quot;X&quot;</span><span class=\"p\">,</span><span class=\"mi\">1</span><span class=\"p\">,</span><span class=\"s2\">&quot;e&quot;</span><span class=\"p\">,</span><span class=\"mi\">1</span><span class=\"p\">)</span> <span class=\"nf\">newArc</span><span class=\"p\">(</span><span class=\"s2\">&quot;X&quot;</span><span class=\"p\">,</span><span class=\"mi\">2</span><span class=\"p\">,</span><span class=\"s2\">&quot;e&quot;</span><span class=\"p\">,</span><span class=\"mi\">3</span><span class=\"p\">)</span> <span class=\"nf\">eqOrd</span><span class=\"p\">(</span><span class=\"s2\">&quot;Y&quot;</span><span class=\"p\">,</span><span class=\"s2\">&quot;Z&quot;</span><span class=\"p\">,</span><span class=\"s s-Atom\">node</span><span class=\"p\">)</span> <span class=\"nf\">newArc</span><span class=\"p\">(</span><span class=\"s2\">&quot;Y&quot;</span><span class=\"p\">,</span><span class=\"mi\">2</span><span class=\"p\">,</span><span class=\"s2\">&quot;e&quot;</span><span class=\"p\">,</span><span class=\"mi\">2</span><span class=\"p\">)</span> <span class=\"nf\">newArc</span><span class=\"p\">(</span><span class=\"s2\">&quot;Y&quot;</span><span class=\"p\">,</span><span class=\"mi\">1</span><span class=\"p\">,</span><span class=\"s2\">&quot;e&quot;</span><span class=\"p\">,</span><span class=\"mi\">3</span><span class=\"p\">)</span> <span class=\"nf\">newArc</span><span class=\"p\">(</span><span class=\"s2\">&quot;Y&quot;</span><span class=\"p\">,</span><span class=\"mi\">2</span><span class=\"p\">,</span><span class=\"s2\">&quot;e&quot;</span><span class=\"p\">,</span><span class=\"mi\">1</span><span class=\"p\">)</span> <span class=\"nf\">newArc</span><span class=\"p\">(</span><span class=\"s2\">&quot;Y&quot;</span><span class=\"p\">,</span><span class=\"mi\">1</span><span class=\"p\">,</span><span class=\"s2\">&quot;e&quot;</span><span class=\"p\">,</span><span class=\"mi\">2</span><span class=\"p\">)</span> <span class=\"nf\">ruleOccTrue</span><span class=\"p\">(</span><span class=\"s2\">&quot;e&quot;</span><span class=\"p\">,</span><span class=\"mi\">2</span><span class=\"p\">)</span> <span class=\"nf\">ruleOccTrue</span><span class=\"p\">(</span><span class=\"s2\">&quot;e&quot;</span><span class=\"p\">,</span><span class=\"mi\">3</span><span class=\"p\">)</span> <span class=\"nf\">ne</span><span class=\"p\">(</span><span class=\"mi\">1</span><span class=\"p\">,</span><span class=\"s2\">&quot;X&quot;</span><span class=\"p\">,</span><span class=\"s2\">&quot;Y&quot;</span><span class=\"p\">)</span> <span class=\"nf\">ne</span><span class=\"p\">(</span><span class=\"s2\">&quot;X&quot;</span><span class=\"p\">,</span><span class=\"s2\">&quot;Y&quot;</span><span class=\"p\">)</span> <span class=\"nf\">e</span><span class=\"p\">(</span><span class=\"mi\">2</span><span class=\"p\">,</span><span class=\"s2\">&quot;Y&quot;</span><span class=\"p\">,</span><span class=\"s2\">&quot;Y&quot;</span><span class=\"p\">)</span> <span class=\"nf\">e</span><span class=\"p\">(</span><span class=\"mi\">3</span><span class=\"p\">,</span><span class=\"s2\">&quot;Y&quot;</span><span class=\"p\">,</span><span class=\"s2\">&quot;X&quot;</span><span class=\"p\">)</span> <span class=\"nf\">e</span><span class=\"p\">(</span><span class=\"s2\">&quot;Y&quot;</span><span class=\"p\">,</span><span class=\"s2\">&quot;X&quot;</span><span class=\"p\">)</span> <span class=\"nf\">e</span><span class=\"p\">(</span><span class=\"s2\">&quot;Y&quot;</span><span class=\"p\">,</span><span class=\"s2\">&quot;Y&quot;</span><span class=\"p\">)</span> <span class=\"nf\">newHArc</span><span class=\"p\">(</span><span class=\"s2\">&quot;Y&quot;</span><span class=\"p\">,</span><span class=\"mi\">2</span><span class=\"p\">,</span><span class=\"s2\">&quot;tri&quot;</span><span class=\"p\">)</span> <span class=\"nf\">newHArc</span><span class=\"p\">(</span><span class=\"s2\">&quot;Y&quot;</span><span class=\"p\">,</span><span class=\"mi\">3</span><span class=\"p\">,</span><span class=\"s2\">&quot;tri&quot;</span><span class=\"p\">)</span> <span class=\"nf\">newVar</span><span class=\"p\">(</span><span class=\"s2\">&quot;Y&quot;</span><span class=\"p\">,</span><span class=\"s s-Atom\">node</span><span class=\"p\">)</span> <span class=\"nf\">neqOrd</span><span class=\"p\">(</span><span class=\"s2\">&quot;X&quot;</span><span class=\"p\">,</span><span class=\"s2\">&quot;Y&quot;</span><span class=\"p\">,</span><span class=\"s s-Atom\">node</span><span class=\"p\">)</span> <span class=\"nf\">eqOrdMinimal</span><span class=\"p\">(</span><span class=\"s2\">&quot;Y&quot;</span><span class=\"p\">,</span><span class=\"s2\">&quot;Z&quot;</span><span class=\"p\">,</span><span class=\"s s-Atom\">node</span><span class=\"p\">)</span>\n",
       "<span class=\"lineno\">39 </span><span class=\"nv\">Answer</span><span class=\"s s-Atom\">:</span> <span class=\"mi\">20</span>\n",
       "<span class=\"lineno\">40 </span><span class=\"nf\">ruleH</span><span class=\"p\">(</span><span class=\"s2\">&quot;tri&quot;</span><span class=\"p\">)</span> <span class=\"nf\">newVar</span><span class=\"p\">(</span><span class=\"s2\">&quot;X&quot;</span><span class=\"p\">,</span><span class=\"s s-Atom\">node</span><span class=\"p\">)</span> <span class=\"nf\">ruleOcc</span><span class=\"p\">(</span><span class=\"s2\">&quot;e&quot;</span><span class=\"p\">,</span><span class=\"mi\">1</span><span class=\"p\">)</span> <span class=\"nf\">ruleOcc</span><span class=\"p\">(</span><span class=\"s2\">&quot;e&quot;</span><span class=\"p\">,</span><span class=\"mi\">2</span><span class=\"p\">)</span> <span class=\"nf\">ruleOcc</span><span class=\"p\">(</span><span class=\"s2\">&quot;e&quot;</span><span class=\"p\">,</span><span class=\"mi\">3</span><span class=\"p\">)</span> <span class=\"nf\">var</span><span class=\"p\">(</span><span class=\"s2\">&quot;X&quot;</span><span class=\"p\">,</span><span class=\"s s-Atom\">node</span><span class=\"p\">)</span> <span class=\"nf\">var</span><span class=\"p\">(</span><span class=\"s2\">&quot;Y&quot;</span><span class=\"p\">,</span><span class=\"s s-Atom\">node</span><span class=\"p\">)</span> <span class=\"nf\">var</span><span class=\"p\">(</span><span class=\"s2\">&quot;Z&quot;</span><span class=\"p\">,</span><span class=\"s s-Atom\">node</span><span class=\"p\">)</span> <span class=\"nf\">hArc</span><span class=\"p\">(</span><span class=\"s2\">&quot;Z&quot;</span><span class=\"p\">,</span><span class=\"mi\">3</span><span class=\"p\">,</span><span class=\"s2\">&quot;tri&quot;</span><span class=\"p\">)</span> <span class=\"nf\">hArc</span><span class=\"p\">(</span><span class=\"s2\">&quot;Y&quot;</span><span class=\"p\">,</span><span class=\"mi\">2</span><span class=\"p\">,</span><span class=\"s2\">&quot;tri&quot;</span><span class=\"p\">)</span> <span class=\"nf\">hArc</span><span class=\"p\">(</span><span class=\"s2\">&quot;X&quot;</span><span class=\"p\">,</span><span class=\"mi\">1</span><span class=\"p\">,</span><span class=\"s2\">&quot;tri&quot;</span><span class=\"p\">)</span> <span class=\"nf\">newHArc</span><span class=\"p\">(</span><span class=\"s2\">&quot;X&quot;</span><span class=\"p\">,</span><span class=\"mi\">1</span><span class=\"p\">,</span><span class=\"s2\">&quot;tri&quot;</span><span class=\"p\">)</span> <span class=\"nf\">arc</span><span class=\"p\">(</span><span class=\"s2\">&quot;X&quot;</span><span class=\"p\">,</span><span class=\"mi\">1</span><span class=\"p\">,</span><span class=\"s2\">&quot;e&quot;</span><span class=\"p\">,</span><span class=\"mi\">1</span><span class=\"p\">)</span> <span class=\"nf\">arc</span><span class=\"p\">(</span><span class=\"s2\">&quot;Y&quot;</span><span class=\"p\">,</span><span class=\"mi\">2</span><span class=\"p\">,</span><span class=\"s2\">&quot;e&quot;</span><span class=\"p\">,</span><span class=\"mi\">1</span><span class=\"p\">)</span> <span class=\"nf\">arc</span><span class=\"p\">(</span><span class=\"s2\">&quot;Y&quot;</span><span class=\"p\">,</span><span class=\"mi\">1</span><span class=\"p\">,</span><span class=\"s2\">&quot;e&quot;</span><span class=\"p\">,</span><span class=\"mi\">2</span><span class=\"p\">)</span> <span class=\"nf\">arc</span><span class=\"p\">(</span><span class=\"s2\">&quot;Z&quot;</span><span class=\"p\">,</span><span class=\"mi\">2</span><span class=\"p\">,</span><span class=\"s2\">&quot;e&quot;</span><span class=\"p\">,</span><span class=\"mi\">2</span><span class=\"p\">)</span> <span class=\"nf\">arc</span><span class=\"p\">(</span><span class=\"s2\">&quot;Z&quot;</span><span class=\"p\">,</span><span class=\"mi\">1</span><span class=\"p\">,</span><span class=\"s2\">&quot;e&quot;</span><span class=\"p\">,</span><span class=\"mi\">3</span><span class=\"p\">)</span> <span class=\"nf\">arc</span><span class=\"p\">(</span><span class=\"s2\">&quot;X&quot;</span><span class=\"p\">,</span><span class=\"mi\">2</span><span class=\"p\">,</span><span class=\"s2\">&quot;e&quot;</span><span class=\"p\">,</span><span class=\"mi\">3</span><span class=\"p\">)</span> <span class=\"nf\">newArc</span><span class=\"p\">(</span><span class=\"s2\">&quot;X&quot;</span><span class=\"p\">,</span><span class=\"mi\">1</span><span class=\"p\">,</span><span class=\"s2\">&quot;e&quot;</span><span class=\"p\">,</span><span class=\"mi\">1</span><span class=\"p\">)</span> <span class=\"nf\">newArc</span><span class=\"p\">(</span><span class=\"s2\">&quot;X&quot;</span><span class=\"p\">,</span><span class=\"mi\">2</span><span class=\"p\">,</span><span class=\"s2\">&quot;e&quot;</span><span class=\"p\">,</span><span class=\"mi\">3</span><span class=\"p\">)</span> <span class=\"nf\">eqOrd</span><span class=\"p\">(</span><span class=\"s2\">&quot;Y&quot;</span><span class=\"p\">,</span><span class=\"s2\">&quot;Z&quot;</span><span class=\"p\">,</span><span class=\"s s-Atom\">node</span><span class=\"p\">)</span> <span class=\"nf\">newArc</span><span class=\"p\">(</span><span class=\"s2\">&quot;Y&quot;</span><span class=\"p\">,</span><span class=\"mi\">2</span><span class=\"p\">,</span><span class=\"s2\">&quot;e&quot;</span><span class=\"p\">,</span><span class=\"mi\">2</span><span class=\"p\">)</span> <span class=\"nf\">newArc</span><span class=\"p\">(</span><span class=\"s2\">&quot;Y&quot;</span><span class=\"p\">,</span><span class=\"mi\">1</span><span class=\"p\">,</span><span class=\"s2\">&quot;e&quot;</span><span class=\"p\">,</span><span class=\"mi\">3</span><span class=\"p\">)</span> <span class=\"nf\">newArc</span><span class=\"p\">(</span><span class=\"s2\">&quot;Y&quot;</span><span class=\"p\">,</span><span class=\"mi\">2</span><span class=\"p\">,</span><span class=\"s2\">&quot;e&quot;</span><span class=\"p\">,</span><span class=\"mi\">1</span><span class=\"p\">)</span> <span class=\"nf\">newArc</span><span class=\"p\">(</span><span class=\"s2\">&quot;Y&quot;</span><span class=\"p\">,</span><span class=\"mi\">1</span><span class=\"p\">,</span><span class=\"s2\">&quot;e&quot;</span><span class=\"p\">,</span><span class=\"mi\">2</span><span class=\"p\">)</span> <span class=\"nf\">ruleOccTrue</span><span class=\"p\">(</span><span class=\"s2\">&quot;e&quot;</span><span class=\"p\">,</span><span class=\"mi\">1</span><span class=\"p\">)</span> <span class=\"nf\">ruleOccTrue</span><span class=\"p\">(</span><span class=\"s2\">&quot;e&quot;</span><span class=\"p\">,</span><span class=\"mi\">2</span><span class=\"p\">)</span> <span class=\"nf\">ruleOccTrue</span><span class=\"p\">(</span><span class=\"s2\">&quot;e&quot;</span><span class=\"p\">,</span><span class=\"mi\">3</span><span class=\"p\">)</span> <span class=\"nf\">e</span><span class=\"p\">(</span><span class=\"mi\">1</span><span class=\"p\">,</span><span class=\"s2\">&quot;X&quot;</span><span class=\"p\">,</span><span class=\"s2\">&quot;Y&quot;</span><span class=\"p\">)</span> <span class=\"nf\">e</span><span class=\"p\">(</span><span class=\"mi\">2</span><span class=\"p\">,</span><span class=\"s2\">&quot;Y&quot;</span><span class=\"p\">,</span><span class=\"s2\">&quot;Y&quot;</span><span class=\"p\">)</span> <span class=\"nf\">e</span><span class=\"p\">(</span><span class=\"mi\">3</span><span class=\"p\">,</span><span class=\"s2\">&quot;Y&quot;</span><span class=\"p\">,</span><span class=\"s2\">&quot;X&quot;</span><span class=\"p\">)</span> <span class=\"nf\">e</span><span class=\"p\">(</span><span class=\"s2\">&quot;X&quot;</span><span class=\"p\">,</span><span class=\"s2\">&quot;Y&quot;</span><span class=\"p\">)</span> <span class=\"nf\">e</span><span class=\"p\">(</span><span class=\"s2\">&quot;Y&quot;</span><span class=\"p\">,</span><span class=\"s2\">&quot;X&quot;</span><span class=\"p\">)</span> <span class=\"nf\">e</span><span class=\"p\">(</span><span class=\"s2\">&quot;Y&quot;</span><span class=\"p\">,</span><span class=\"s2\">&quot;Y&quot;</span><span class=\"p\">)</span> <span class=\"nf\">newHArc</span><span class=\"p\">(</span><span class=\"s2\">&quot;Y&quot;</span><span class=\"p\">,</span><span class=\"mi\">2</span><span class=\"p\">,</span><span class=\"s2\">&quot;tri&quot;</span><span class=\"p\">)</span> <span class=\"nf\">newHArc</span><span class=\"p\">(</span><span class=\"s2\">&quot;Y&quot;</span><span class=\"p\">,</span><span class=\"mi\">3</span><span class=\"p\">,</span><span class=\"s2\">&quot;tri&quot;</span><span class=\"p\">)</span> <span class=\"nf\">newVar</span><span class=\"p\">(</span><span class=\"s2\">&quot;Y&quot;</span><span class=\"p\">,</span><span class=\"s s-Atom\">node</span><span class=\"p\">)</span> <span class=\"nf\">neqOrd</span><span class=\"p\">(</span><span class=\"s2\">&quot;X&quot;</span><span class=\"p\">,</span><span class=\"s2\">&quot;Y&quot;</span><span class=\"p\">,</span><span class=\"s s-Atom\">node</span><span class=\"p\">)</span> <span class=\"nf\">eqOrdMinimal</span><span class=\"p\">(</span><span class=\"s2\">&quot;Y&quot;</span><span class=\"p\">,</span><span class=\"s2\">&quot;Z&quot;</span><span class=\"p\">,</span><span class=\"s s-Atom\">node</span><span class=\"p\">)</span> <span class=\"nf\">ruleHTrue</span><span class=\"p\">(</span><span class=\"s2\">&quot;tri&quot;</span><span class=\"p\">)</span>\n",
       "<span class=\"lineno\">41 </span><span class=\"nv\">Answer</span><span class=\"s s-Atom\">:</span> <span class=\"mi\">21</span>\n",
       "<span class=\"lineno\">42 </span><span class=\"nf\">ruleH</span><span class=\"p\">(</span><span class=\"s2\">&quot;tri&quot;</span><span class=\"p\">)</span> <span class=\"nf\">newVar</span><span class=\"p\">(</span><span class=\"s2\">&quot;X&quot;</span><span class=\"p\">,</span><span class=\"s s-Atom\">node</span><span class=\"p\">)</span> <span class=\"nf\">ruleOcc</span><span class=\"p\">(</span><span class=\"s2\">&quot;e&quot;</span><span class=\"p\">,</span><span class=\"mi\">1</span><span class=\"p\">)</span> <span class=\"nf\">ruleOcc</span><span class=\"p\">(</span><span class=\"s2\">&quot;e&quot;</span><span class=\"p\">,</span><span class=\"mi\">2</span><span class=\"p\">)</span> <span class=\"nf\">ruleOcc</span><span class=\"p\">(</span><span class=\"s2\">&quot;e&quot;</span><span class=\"p\">,</span><span class=\"mi\">3</span><span class=\"p\">)</span> <span class=\"nf\">var</span><span class=\"p\">(</span><span class=\"s2\">&quot;X&quot;</span><span class=\"p\">,</span><span class=\"s s-Atom\">node</span><span class=\"p\">)</span> <span class=\"nf\">var</span><span class=\"p\">(</span><span class=\"s2\">&quot;Y&quot;</span><span class=\"p\">,</span><span class=\"s s-Atom\">node</span><span class=\"p\">)</span> <span class=\"nf\">var</span><span class=\"p\">(</span><span class=\"s2\">&quot;Z&quot;</span><span class=\"p\">,</span><span class=\"s s-Atom\">node</span><span class=\"p\">)</span> <span class=\"nf\">hArc</span><span class=\"p\">(</span><span class=\"s2\">&quot;Z&quot;</span><span class=\"p\">,</span><span class=\"mi\">3</span><span class=\"p\">,</span><span class=\"s2\">&quot;tri&quot;</span><span class=\"p\">)</span> <span class=\"nf\">hArc</span><span class=\"p\">(</span><span class=\"s2\">&quot;Y&quot;</span><span class=\"p\">,</span><span class=\"mi\">2</span><span class=\"p\">,</span><span class=\"s2\">&quot;tri&quot;</span><span class=\"p\">)</span> <span class=\"nf\">hArc</span><span class=\"p\">(</span><span class=\"s2\">&quot;X&quot;</span><span class=\"p\">,</span><span class=\"mi\">1</span><span class=\"p\">,</span><span class=\"s2\">&quot;tri&quot;</span><span class=\"p\">)</span> <span class=\"nf\">newHArc</span><span class=\"p\">(</span><span class=\"s2\">&quot;X&quot;</span><span class=\"p\">,</span><span class=\"mi\">1</span><span class=\"p\">,</span><span class=\"s2\">&quot;tri&quot;</span><span class=\"p\">)</span> <span class=\"nf\">arc</span><span class=\"p\">(</span><span class=\"s2\">&quot;X&quot;</span><span class=\"p\">,</span><span class=\"mi\">1</span><span class=\"p\">,</span><span class=\"s2\">&quot;e&quot;</span><span class=\"p\">,</span><span class=\"mi\">1</span><span class=\"p\">)</span> <span class=\"nf\">arc</span><span class=\"p\">(</span><span class=\"s2\">&quot;Y&quot;</span><span class=\"p\">,</span><span class=\"mi\">2</span><span class=\"p\">,</span><span class=\"s2\">&quot;e&quot;</span><span class=\"p\">,</span><span class=\"mi\">1</span><span class=\"p\">)</span> <span class=\"nf\">arc</span><span class=\"p\">(</span><span class=\"s2\">&quot;Y&quot;</span><span class=\"p\">,</span><span class=\"mi\">1</span><span class=\"p\">,</span><span class=\"s2\">&quot;e&quot;</span><span class=\"p\">,</span><span class=\"mi\">2</span><span class=\"p\">)</span> <span class=\"nf\">arc</span><span class=\"p\">(</span><span class=\"s2\">&quot;Z&quot;</span><span class=\"p\">,</span><span class=\"mi\">2</span><span class=\"p\">,</span><span class=\"s2\">&quot;e&quot;</span><span class=\"p\">,</span><span class=\"mi\">2</span><span class=\"p\">)</span> <span class=\"nf\">arc</span><span class=\"p\">(</span><span class=\"s2\">&quot;Z&quot;</span><span class=\"p\">,</span><span class=\"mi\">1</span><span class=\"p\">,</span><span class=\"s2\">&quot;e&quot;</span><span class=\"p\">,</span><span class=\"mi\">3</span><span class=\"p\">)</span> <span class=\"nf\">arc</span><span class=\"p\">(</span><span class=\"s2\">&quot;X&quot;</span><span class=\"p\">,</span><span class=\"mi\">2</span><span class=\"p\">,</span><span class=\"s2\">&quot;e&quot;</span><span class=\"p\">,</span><span class=\"mi\">3</span><span class=\"p\">)</span> <span class=\"nf\">newArc</span><span class=\"p\">(</span><span class=\"s2\">&quot;X&quot;</span><span class=\"p\">,</span><span class=\"mi\">1</span><span class=\"p\">,</span><span class=\"s2\">&quot;e&quot;</span><span class=\"p\">,</span><span class=\"mi\">1</span><span class=\"p\">)</span> <span class=\"nf\">newArc</span><span class=\"p\">(</span><span class=\"s2\">&quot;X&quot;</span><span class=\"p\">,</span><span class=\"mi\">2</span><span class=\"p\">,</span><span class=\"s2\">&quot;e&quot;</span><span class=\"p\">,</span><span class=\"mi\">3</span><span class=\"p\">)</span> <span class=\"nf\">eqOrd</span><span class=\"p\">(</span><span class=\"s2\">&quot;X&quot;</span><span class=\"p\">,</span><span class=\"s2\">&quot;Z&quot;</span><span class=\"p\">,</span><span class=\"s s-Atom\">node</span><span class=\"p\">)</span> <span class=\"nf\">newArc</span><span class=\"p\">(</span><span class=\"s2\">&quot;X&quot;</span><span class=\"p\">,</span><span class=\"mi\">2</span><span class=\"p\">,</span><span class=\"s2\">&quot;e&quot;</span><span class=\"p\">,</span><span class=\"mi\">2</span><span class=\"p\">)</span> <span class=\"nf\">newArc</span><span class=\"p\">(</span><span class=\"s2\">&quot;X&quot;</span><span class=\"p\">,</span><span class=\"mi\">1</span><span class=\"p\">,</span><span class=\"s2\">&quot;e&quot;</span><span class=\"p\">,</span><span class=\"mi\">3</span><span class=\"p\">)</span> <span class=\"nf\">newArc</span><span class=\"p\">(</span><span class=\"s2\">&quot;Y&quot;</span><span class=\"p\">,</span><span class=\"mi\">2</span><span class=\"p\">,</span><span class=\"s2\">&quot;e&quot;</span><span class=\"p\">,</span><span class=\"mi\">1</span><span class=\"p\">)</span> <span class=\"nf\">newArc</span><span class=\"p\">(</span><span class=\"s2\">&quot;Y&quot;</span><span class=\"p\">,</span><span class=\"mi\">1</span><span class=\"p\">,</span><span class=\"s2\">&quot;e&quot;</span><span class=\"p\">,</span><span class=\"mi\">2</span><span class=\"p\">)</span> <span class=\"nf\">ruleOccTrue</span><span class=\"p\">(</span><span class=\"s2\">&quot;e&quot;</span><span class=\"p\">,</span><span class=\"mi\">2</span><span class=\"p\">)</span> <span class=\"nf\">ne</span><span class=\"p\">(</span><span class=\"mi\">1</span><span class=\"p\">,</span><span class=\"s2\">&quot;X&quot;</span><span class=\"p\">,</span><span class=\"s2\">&quot;Y&quot;</span><span class=\"p\">)</span> <span class=\"nf\">ne</span><span class=\"p\">(</span><span class=\"mi\">3</span><span class=\"p\">,</span><span class=\"s2\">&quot;X&quot;</span><span class=\"p\">,</span><span class=\"s2\">&quot;X&quot;</span><span class=\"p\">)</span> <span class=\"nf\">ne</span><span class=\"p\">(</span><span class=\"s2\">&quot;X&quot;</span><span class=\"p\">,</span><span class=\"s2\">&quot;X&quot;</span><span class=\"p\">)</span> <span class=\"nf\">ne</span><span class=\"p\">(</span><span class=\"s2\">&quot;X&quot;</span><span class=\"p\">,</span><span class=\"s2\">&quot;Y&quot;</span><span class=\"p\">)</span> <span class=\"nf\">e</span><span class=\"p\">(</span><span class=\"mi\">2</span><span class=\"p\">,</span><span class=\"s2\">&quot;Y&quot;</span><span class=\"p\">,</span><span class=\"s2\">&quot;X&quot;</span><span class=\"p\">)</span> <span class=\"nf\">e</span><span class=\"p\">(</span><span class=\"s2\">&quot;Y&quot;</span><span class=\"p\">,</span><span class=\"s2\">&quot;X&quot;</span><span class=\"p\">)</span> <span class=\"nf\">newHArc</span><span class=\"p\">(</span><span class=\"s2\">&quot;Y&quot;</span><span class=\"p\">,</span><span class=\"mi\">2</span><span class=\"p\">,</span><span class=\"s2\">&quot;tri&quot;</span><span class=\"p\">)</span> <span class=\"nf\">newHArc</span><span class=\"p\">(</span><span class=\"s2\">&quot;X&quot;</span><span class=\"p\">,</span><span class=\"mi\">3</span><span class=\"p\">,</span><span class=\"s2\">&quot;tri&quot;</span><span class=\"p\">)</span> <span class=\"nf\">newVar</span><span class=\"p\">(</span><span class=\"s2\">&quot;Y&quot;</span><span class=\"p\">,</span><span class=\"s s-Atom\">node</span><span class=\"p\">)</span> <span class=\"nf\">neqOrd</span><span class=\"p\">(</span><span class=\"s2\">&quot;X&quot;</span><span class=\"p\">,</span><span class=\"s2\">&quot;Y&quot;</span><span class=\"p\">,</span><span class=\"s s-Atom\">node</span><span class=\"p\">)</span> <span class=\"nf\">eqOrdMinimal</span><span class=\"p\">(</span><span class=\"s2\">&quot;X&quot;</span><span class=\"p\">,</span><span class=\"s2\">&quot;Z&quot;</span><span class=\"p\">,</span><span class=\"s s-Atom\">node</span><span class=\"p\">)</span>\n",
       "<span class=\"lineno\">43 </span><span class=\"nv\">Answer</span><span class=\"s s-Atom\">:</span> <span class=\"mi\">22</span>\n",
       "<span class=\"lineno\">44 </span><span class=\"nf\">ruleH</span><span class=\"p\">(</span><span class=\"s2\">&quot;tri&quot;</span><span class=\"p\">)</span> <span class=\"nf\">newVar</span><span class=\"p\">(</span><span class=\"s2\">&quot;X&quot;</span><span class=\"p\">,</span><span class=\"s s-Atom\">node</span><span class=\"p\">)</span> <span class=\"nf\">ruleOcc</span><span class=\"p\">(</span><span class=\"s2\">&quot;e&quot;</span><span class=\"p\">,</span><span class=\"mi\">1</span><span class=\"p\">)</span> <span class=\"nf\">ruleOcc</span><span class=\"p\">(</span><span class=\"s2\">&quot;e&quot;</span><span class=\"p\">,</span><span class=\"mi\">2</span><span class=\"p\">)</span> <span class=\"nf\">ruleOcc</span><span class=\"p\">(</span><span class=\"s2\">&quot;e&quot;</span><span class=\"p\">,</span><span class=\"mi\">3</span><span class=\"p\">)</span> <span class=\"nf\">var</span><span class=\"p\">(</span><span class=\"s2\">&quot;X&quot;</span><span class=\"p\">,</span><span class=\"s s-Atom\">node</span><span class=\"p\">)</span> <span class=\"nf\">var</span><span class=\"p\">(</span><span class=\"s2\">&quot;Y&quot;</span><span class=\"p\">,</span><span class=\"s s-Atom\">node</span><span class=\"p\">)</span> <span class=\"nf\">var</span><span class=\"p\">(</span><span class=\"s2\">&quot;Z&quot;</span><span class=\"p\">,</span><span class=\"s s-Atom\">node</span><span class=\"p\">)</span> <span class=\"nf\">hArc</span><span class=\"p\">(</span><span class=\"s2\">&quot;Z&quot;</span><span class=\"p\">,</span><span class=\"mi\">3</span><span class=\"p\">,</span><span class=\"s2\">&quot;tri&quot;</span><span class=\"p\">)</span> <span class=\"nf\">hArc</span><span class=\"p\">(</span><span class=\"s2\">&quot;Y&quot;</span><span class=\"p\">,</span><span class=\"mi\">2</span><span class=\"p\">,</span><span class=\"s2\">&quot;tri&quot;</span><span class=\"p\">)</span> <span class=\"nf\">hArc</span><span class=\"p\">(</span><span class=\"s2\">&quot;X&quot;</span><span class=\"p\">,</span><span class=\"mi\">1</span><span class=\"p\">,</span><span class=\"s2\">&quot;tri&quot;</span><span class=\"p\">)</span> <span class=\"nf\">newHArc</span><span class=\"p\">(</span><span class=\"s2\">&quot;X&quot;</span><span class=\"p\">,</span><span class=\"mi\">1</span><span class=\"p\">,</span><span class=\"s2\">&quot;tri&quot;</span><span class=\"p\">)</span> <span class=\"nf\">arc</span><span class=\"p\">(</span><span class=\"s2\">&quot;X&quot;</span><span class=\"p\">,</span><span class=\"mi\">1</span><span class=\"p\">,</span><span class=\"s2\">&quot;e&quot;</span><span class=\"p\">,</span><span class=\"mi\">1</span><span class=\"p\">)</span> <span class=\"nf\">arc</span><span class=\"p\">(</span><span class=\"s2\">&quot;Y&quot;</span><span class=\"p\">,</span><span class=\"mi\">2</span><span class=\"p\">,</span><span class=\"s2\">&quot;e&quot;</span><span class=\"p\">,</span><span class=\"mi\">1</span><span class=\"p\">)</span> <span class=\"nf\">arc</span><span class=\"p\">(</span><span class=\"s2\">&quot;Y&quot;</span><span class=\"p\">,</span><span class=\"mi\">1</span><span class=\"p\">,</span><span class=\"s2\">&quot;e&quot;</span><span class=\"p\">,</span><span class=\"mi\">2</span><span class=\"p\">)</span> <span class=\"nf\">arc</span><span class=\"p\">(</span><span class=\"s2\">&quot;Z&quot;</span><span class=\"p\">,</span><span class=\"mi\">2</span><span class=\"p\">,</span><span class=\"s2\">&quot;e&quot;</span><span class=\"p\">,</span><span class=\"mi\">2</span><span class=\"p\">)</span> <span class=\"nf\">arc</span><span class=\"p\">(</span><span class=\"s2\">&quot;Z&quot;</span><span class=\"p\">,</span><span class=\"mi\">1</span><span class=\"p\">,</span><span class=\"s2\">&quot;e&quot;</span><span class=\"p\">,</span><span class=\"mi\">3</span><span class=\"p\">)</span> <span class=\"nf\">arc</span><span class=\"p\">(</span><span class=\"s2\">&quot;X&quot;</span><span class=\"p\">,</span><span class=\"mi\">2</span><span class=\"p\">,</span><span class=\"s2\">&quot;e&quot;</span><span class=\"p\">,</span><span class=\"mi\">3</span><span class=\"p\">)</span> <span class=\"nf\">newArc</span><span class=\"p\">(</span><span class=\"s2\">&quot;X&quot;</span><span class=\"p\">,</span><span class=\"mi\">1</span><span class=\"p\">,</span><span class=\"s2\">&quot;e&quot;</span><span class=\"p\">,</span><span class=\"mi\">1</span><span class=\"p\">)</span> <span class=\"nf\">newArc</span><span class=\"p\">(</span><span class=\"s2\">&quot;X&quot;</span><span class=\"p\">,</span><span class=\"mi\">2</span><span class=\"p\">,</span><span class=\"s2\">&quot;e&quot;</span><span class=\"p\">,</span><span class=\"mi\">3</span><span class=\"p\">)</span> <span class=\"nf\">eqOrd</span><span class=\"p\">(</span><span class=\"s2\">&quot;X&quot;</span><span class=\"p\">,</span><span class=\"s2\">&quot;Z&quot;</span><span class=\"p\">,</span><span class=\"s s-Atom\">node</span><span class=\"p\">)</span> <span class=\"nf\">newArc</span><span class=\"p\">(</span><span class=\"s2\">&quot;X&quot;</span><span class=\"p\">,</span><span class=\"mi\">2</span><span class=\"p\">,</span><span class=\"s2\">&quot;e&quot;</span><span class=\"p\">,</span><span class=\"mi\">2</span><span class=\"p\">)</span> <span class=\"nf\">newArc</span><span class=\"p\">(</span><span class=\"s2\">&quot;X&quot;</span><span class=\"p\">,</span><span class=\"mi\">1</span><span class=\"p\">,</span><span class=\"s2\">&quot;e&quot;</span><span class=\"p\">,</span><span class=\"mi\">3</span><span class=\"p\">)</span> <span class=\"nf\">newArc</span><span class=\"p\">(</span><span class=\"s2\">&quot;Y&quot;</span><span class=\"p\">,</span><span class=\"mi\">2</span><span class=\"p\">,</span><span class=\"s2\">&quot;e&quot;</span><span class=\"p\">,</span><span class=\"mi\">1</span><span class=\"p\">)</span> <span class=\"nf\">newArc</span><span class=\"p\">(</span><span class=\"s2\">&quot;Y&quot;</span><span class=\"p\">,</span><span class=\"mi\">1</span><span class=\"p\">,</span><span class=\"s2\">&quot;e&quot;</span><span class=\"p\">,</span><span class=\"mi\">2</span><span class=\"p\">)</span> <span class=\"nf\">ruleOccTrue</span><span class=\"p\">(</span><span class=\"s2\">&quot;e&quot;</span><span class=\"p\">,</span><span class=\"mi\">1</span><span class=\"p\">)</span> <span class=\"nf\">ruleOccTrue</span><span class=\"p\">(</span><span class=\"s2\">&quot;e&quot;</span><span class=\"p\">,</span><span class=\"mi\">2</span><span class=\"p\">)</span> <span class=\"nf\">ne</span><span class=\"p\">(</span><span class=\"mi\">3</span><span class=\"p\">,</span><span class=\"s2\">&quot;X&quot;</span><span class=\"p\">,</span><span class=\"s2\">&quot;X&quot;</span><span class=\"p\">)</span> <span class=\"nf\">ne</span><span class=\"p\">(</span><span class=\"s2\">&quot;X&quot;</span><span class=\"p\">,</span><span class=\"s2\">&quot;X&quot;</span><span class=\"p\">)</span> <span class=\"nf\">e</span><span class=\"p\">(</span><span class=\"mi\">1</span><span class=\"p\">,</span><span class=\"s2\">&quot;X&quot;</span><span class=\"p\">,</span><span class=\"s2\">&quot;Y&quot;</span><span class=\"p\">)</span> <span class=\"nf\">e</span><span class=\"p\">(</span><span class=\"mi\">2</span><span class=\"p\">,</span><span class=\"s2\">&quot;Y&quot;</span><span class=\"p\">,</span><span class=\"s2\">&quot;X&quot;</span><span class=\"p\">)</span> <span class=\"nf\">e</span><span class=\"p\">(</span><span class=\"s2\">&quot;X&quot;</span><span class=\"p\">,</span><span class=\"s2\">&quot;Y&quot;</span><span class=\"p\">)</span> <span class=\"nf\">e</span><span class=\"p\">(</span><span class=\"s2\">&quot;Y&quot;</span><span class=\"p\">,</span><span class=\"s2\">&quot;X&quot;</span><span class=\"p\">)</span> <span class=\"nf\">newHArc</span><span class=\"p\">(</span><span class=\"s2\">&quot;Y&quot;</span><span class=\"p\">,</span><span class=\"mi\">2</span><span class=\"p\">,</span><span class=\"s2\">&quot;tri&quot;</span><span class=\"p\">)</span> <span class=\"nf\">newHArc</span><span class=\"p\">(</span><span class=\"s2\">&quot;X&quot;</span><span class=\"p\">,</span><span class=\"mi\">3</span><span class=\"p\">,</span><span class=\"s2\">&quot;tri&quot;</span><span class=\"p\">)</span> <span class=\"nf\">newVar</span><span class=\"p\">(</span><span class=\"s2\">&quot;Y&quot;</span><span class=\"p\">,</span><span class=\"s s-Atom\">node</span><span class=\"p\">)</span> <span class=\"nf\">neqOrd</span><span class=\"p\">(</span><span class=\"s2\">&quot;X&quot;</span><span class=\"p\">,</span><span class=\"s2\">&quot;Y&quot;</span><span class=\"p\">,</span><span class=\"s s-Atom\">node</span><span class=\"p\">)</span> <span class=\"nf\">eqOrdMinimal</span><span class=\"p\">(</span><span class=\"s2\">&quot;X&quot;</span><span class=\"p\">,</span><span class=\"s2\">&quot;Z&quot;</span><span class=\"p\">,</span><span class=\"s s-Atom\">node</span><span class=\"p\">)</span>\n",
       "<span class=\"lineno\">45 </span><span class=\"nv\">Answer</span><span class=\"s s-Atom\">:</span> <span class=\"mi\">23</span>\n",
       "<span class=\"lineno\">46 </span><span class=\"nf\">ruleH</span><span class=\"p\">(</span><span class=\"s2\">&quot;tri&quot;</span><span class=\"p\">)</span> <span class=\"nf\">newVar</span><span class=\"p\">(</span><span class=\"s2\">&quot;X&quot;</span><span class=\"p\">,</span><span class=\"s s-Atom\">node</span><span class=\"p\">)</span> <span class=\"nf\">ruleOcc</span><span class=\"p\">(</span><span class=\"s2\">&quot;e&quot;</span><span class=\"p\">,</span><span class=\"mi\">1</span><span class=\"p\">)</span> <span class=\"nf\">ruleOcc</span><span class=\"p\">(</span><span class=\"s2\">&quot;e&quot;</span><span class=\"p\">,</span><span class=\"mi\">2</span><span class=\"p\">)</span> <span class=\"nf\">ruleOcc</span><span class=\"p\">(</span><span class=\"s2\">&quot;e&quot;</span><span class=\"p\">,</span><span class=\"mi\">3</span><span class=\"p\">)</span> <span class=\"nf\">var</span><span class=\"p\">(</span><span class=\"s2\">&quot;X&quot;</span><span class=\"p\">,</span><span class=\"s s-Atom\">node</span><span class=\"p\">)</span> <span class=\"nf\">var</span><span class=\"p\">(</span><span class=\"s2\">&quot;Y&quot;</span><span class=\"p\">,</span><span class=\"s s-Atom\">node</span><span class=\"p\">)</span> <span class=\"nf\">var</span><span class=\"p\">(</span><span class=\"s2\">&quot;Z&quot;</span><span class=\"p\">,</span><span class=\"s s-Atom\">node</span><span class=\"p\">)</span> <span class=\"nf\">hArc</span><span class=\"p\">(</span><span class=\"s2\">&quot;Z&quot;</span><span class=\"p\">,</span><span class=\"mi\">3</span><span class=\"p\">,</span><span class=\"s2\">&quot;tri&quot;</span><span class=\"p\">)</span> <span class=\"nf\">hArc</span><span class=\"p\">(</span><span class=\"s2\">&quot;Y&quot;</span><span class=\"p\">,</span><span class=\"mi\">2</span><span class=\"p\">,</span><span class=\"s2\">&quot;tri&quot;</span><span class=\"p\">)</span> <span class=\"nf\">hArc</span><span class=\"p\">(</span><span class=\"s2\">&quot;X&quot;</span><span class=\"p\">,</span><span class=\"mi\">1</span><span class=\"p\">,</span><span class=\"s2\">&quot;tri&quot;</span><span class=\"p\">)</span> <span class=\"nf\">newHArc</span><span class=\"p\">(</span><span class=\"s2\">&quot;X&quot;</span><span class=\"p\">,</span><span class=\"mi\">1</span><span class=\"p\">,</span><span class=\"s2\">&quot;tri&quot;</span><span class=\"p\">)</span> <span class=\"nf\">arc</span><span class=\"p\">(</span><span class=\"s2\">&quot;X&quot;</span><span class=\"p\">,</span><span class=\"mi\">1</span><span class=\"p\">,</span><span class=\"s2\">&quot;e&quot;</span><span class=\"p\">,</span><span class=\"mi\">1</span><span class=\"p\">)</span> <span class=\"nf\">arc</span><span class=\"p\">(</span><span class=\"s2\">&quot;Y&quot;</span><span class=\"p\">,</span><span class=\"mi\">2</span><span class=\"p\">,</span><span class=\"s2\">&quot;e&quot;</span><span class=\"p\">,</span><span class=\"mi\">1</span><span class=\"p\">)</span> <span class=\"nf\">arc</span><span class=\"p\">(</span><span class=\"s2\">&quot;Y&quot;</span><span class=\"p\">,</span><span class=\"mi\">1</span><span class=\"p\">,</span><span class=\"s2\">&quot;e&quot;</span><span class=\"p\">,</span><span class=\"mi\">2</span><span class=\"p\">)</span> <span class=\"nf\">arc</span><span class=\"p\">(</span><span class=\"s2\">&quot;Z&quot;</span><span class=\"p\">,</span><span class=\"mi\">2</span><span class=\"p\">,</span><span class=\"s2\">&quot;e&quot;</span><span class=\"p\">,</span><span class=\"mi\">2</span><span class=\"p\">)</span> <span class=\"nf\">arc</span><span class=\"p\">(</span><span class=\"s2\">&quot;Z&quot;</span><span class=\"p\">,</span><span class=\"mi\">1</span><span class=\"p\">,</span><span class=\"s2\">&quot;e&quot;</span><span class=\"p\">,</span><span class=\"mi\">3</span><span class=\"p\">)</span> <span class=\"nf\">arc</span><span class=\"p\">(</span><span class=\"s2\">&quot;X&quot;</span><span class=\"p\">,</span><span class=\"mi\">2</span><span class=\"p\">,</span><span class=\"s2\">&quot;e&quot;</span><span class=\"p\">,</span><span class=\"mi\">3</span><span class=\"p\">)</span> <span class=\"nf\">newArc</span><span class=\"p\">(</span><span class=\"s2\">&quot;X&quot;</span><span class=\"p\">,</span><span class=\"mi\">1</span><span class=\"p\">,</span><span class=\"s2\">&quot;e&quot;</span><span class=\"p\">,</span><span class=\"mi\">1</span><span class=\"p\">)</span> <span class=\"nf\">newArc</span><span class=\"p\">(</span><span class=\"s2\">&quot;X&quot;</span><span class=\"p\">,</span><span class=\"mi\">2</span><span class=\"p\">,</span><span class=\"s2\">&quot;e&quot;</span><span class=\"p\">,</span><span class=\"mi\">3</span><span class=\"p\">)</span> <span class=\"nf\">eqOrd</span><span class=\"p\">(</span><span class=\"s2\">&quot;X&quot;</span><span class=\"p\">,</span><span class=\"s2\">&quot;Z&quot;</span><span class=\"p\">,</span><span class=\"s s-Atom\">node</span><span class=\"p\">)</span> <span class=\"nf\">newArc</span><span class=\"p\">(</span><span class=\"s2\">&quot;X&quot;</span><span class=\"p\">,</span><span class=\"mi\">2</span><span class=\"p\">,</span><span class=\"s2\">&quot;e&quot;</span><span class=\"p\">,</span><span class=\"mi\">2</span><span class=\"p\">)</span> <span class=\"nf\">newArc</span><span class=\"p\">(</span><span class=\"s2\">&quot;X&quot;</span><span class=\"p\">,</span><span class=\"mi\">1</span><span class=\"p\">,</span><span class=\"s2\">&quot;e&quot;</span><span class=\"p\">,</span><span class=\"mi\">3</span><span class=\"p\">)</span> <span class=\"nf\">newArc</span><span class=\"p\">(</span><span class=\"s2\">&quot;Y&quot;</span><span class=\"p\">,</span><span class=\"mi\">2</span><span class=\"p\">,</span><span class=\"s2\">&quot;e&quot;</span><span class=\"p\">,</span><span class=\"mi\">1</span><span class=\"p\">)</span> <span class=\"nf\">newArc</span><span class=\"p\">(</span><span class=\"s2\">&quot;Y&quot;</span><span class=\"p\">,</span><span class=\"mi\">1</span><span class=\"p\">,</span><span class=\"s2\">&quot;e&quot;</span><span class=\"p\">,</span><span class=\"mi\">2</span><span class=\"p\">)</span> <span class=\"nf\">ruleOccTrue</span><span class=\"p\">(</span><span class=\"s2\">&quot;e&quot;</span><span class=\"p\">,</span><span class=\"mi\">2</span><span class=\"p\">)</span> <span class=\"nf\">ruleOccTrue</span><span class=\"p\">(</span><span class=\"s2\">&quot;e&quot;</span><span class=\"p\">,</span><span class=\"mi\">3</span><span class=\"p\">)</span> <span class=\"nf\">ne</span><span class=\"p\">(</span><span class=\"mi\">1</span><span class=\"p\">,</span><span class=\"s2\">&quot;X&quot;</span><span class=\"p\">,</span><span class=\"s2\">&quot;Y&quot;</span><span class=\"p\">)</span> <span class=\"nf\">ne</span><span class=\"p\">(</span><span class=\"s2\">&quot;X&quot;</span><span class=\"p\">,</span><span class=\"s2\">&quot;Y&quot;</span><span class=\"p\">)</span> <span class=\"nf\">e</span><span class=\"p\">(</span><span class=\"mi\">2</span><span class=\"p\">,</span><span class=\"s2\">&quot;Y&quot;</span><span class=\"p\">,</span><span class=\"s2\">&quot;X&quot;</span><span class=\"p\">)</span> <span class=\"nf\">e</span><span class=\"p\">(</span><span class=\"mi\">3</span><span class=\"p\">,</span><span class=\"s2\">&quot;X&quot;</span><span class=\"p\">,</span><span class=\"s2\">&quot;X&quot;</span><span class=\"p\">)</span> <span class=\"nf\">e</span><span class=\"p\">(</span><span class=\"s2\">&quot;X&quot;</span><span class=\"p\">,</span><span class=\"s2\">&quot;X&quot;</span><span class=\"p\">)</span> <span class=\"nf\">e</span><span class=\"p\">(</span><span class=\"s2\">&quot;Y&quot;</span><span class=\"p\">,</span><span class=\"s2\">&quot;X&quot;</span><span class=\"p\">)</span> <span class=\"nf\">newHArc</span><span class=\"p\">(</span><span class=\"s2\">&quot;Y&quot;</span><span class=\"p\">,</span><span class=\"mi\">2</span><span class=\"p\">,</span><span class=\"s2\">&quot;tri&quot;</span><span class=\"p\">)</span> <span class=\"nf\">newHArc</span><span class=\"p\">(</span><span class=\"s2\">&quot;X&quot;</span><span class=\"p\">,</span><span class=\"mi\">3</span><span class=\"p\">,</span><span class=\"s2\">&quot;tri&quot;</span><span class=\"p\">)</span> <span class=\"nf\">newVar</span><span class=\"p\">(</span><span class=\"s2\">&quot;Y&quot;</span><span class=\"p\">,</span><span class=\"s s-Atom\">node</span><span class=\"p\">)</span> <span class=\"nf\">neqOrd</span><span class=\"p\">(</span><span class=\"s2\">&quot;X&quot;</span><span class=\"p\">,</span><span class=\"s2\">&quot;Y&quot;</span><span class=\"p\">,</span><span class=\"s s-Atom\">node</span><span class=\"p\">)</span> <span class=\"nf\">eqOrdMinimal</span><span class=\"p\">(</span><span class=\"s2\">&quot;X&quot;</span><span class=\"p\">,</span><span class=\"s2\">&quot;Z&quot;</span><span class=\"p\">,</span><span class=\"s s-Atom\">node</span><span class=\"p\">)</span>\n",
       "<span class=\"lineno\">47 </span><span class=\"nv\">Answer</span><span class=\"s s-Atom\">:</span> <span class=\"mi\">24</span>\n",
       "<span class=\"lineno\">48 </span><span class=\"nf\">ruleH</span><span class=\"p\">(</span><span class=\"s2\">&quot;tri&quot;</span><span class=\"p\">)</span> <span class=\"nf\">newVar</span><span class=\"p\">(</span><span class=\"s2\">&quot;X&quot;</span><span class=\"p\">,</span><span class=\"s s-Atom\">node</span><span class=\"p\">)</span> <span class=\"nf\">ruleOcc</span><span class=\"p\">(</span><span class=\"s2\">&quot;e&quot;</span><span class=\"p\">,</span><span class=\"mi\">1</span><span class=\"p\">)</span> <span class=\"nf\">ruleOcc</span><span class=\"p\">(</span><span class=\"s2\">&quot;e&quot;</span><span class=\"p\">,</span><span class=\"mi\">2</span><span class=\"p\">)</span> <span class=\"nf\">ruleOcc</span><span class=\"p\">(</span><span class=\"s2\">&quot;e&quot;</span><span class=\"p\">,</span><span class=\"mi\">3</span><span class=\"p\">)</span> <span class=\"nf\">var</span><span class=\"p\">(</span><span class=\"s2\">&quot;X&quot;</span><span class=\"p\">,</span><span class=\"s s-Atom\">node</span><span class=\"p\">)</span> <span class=\"nf\">var</span><span class=\"p\">(</span><span class=\"s2\">&quot;Y&quot;</span><span class=\"p\">,</span><span class=\"s s-Atom\">node</span><span class=\"p\">)</span> <span class=\"nf\">var</span><span class=\"p\">(</span><span class=\"s2\">&quot;Z&quot;</span><span class=\"p\">,</span><span class=\"s s-Atom\">node</span><span class=\"p\">)</span> <span class=\"nf\">hArc</span><span class=\"p\">(</span><span class=\"s2\">&quot;Z&quot;</span><span class=\"p\">,</span><span class=\"mi\">3</span><span class=\"p\">,</span><span class=\"s2\">&quot;tri&quot;</span><span class=\"p\">)</span> <span class=\"nf\">hArc</span><span class=\"p\">(</span><span class=\"s2\">&quot;Y&quot;</span><span class=\"p\">,</span><span class=\"mi\">2</span><span class=\"p\">,</span><span class=\"s2\">&quot;tri&quot;</span><span class=\"p\">)</span> <span class=\"nf\">hArc</span><span class=\"p\">(</span><span class=\"s2\">&quot;X&quot;</span><span class=\"p\">,</span><span class=\"mi\">1</span><span class=\"p\">,</span><span class=\"s2\">&quot;tri&quot;</span><span class=\"p\">)</span> <span class=\"nf\">newHArc</span><span class=\"p\">(</span><span class=\"s2\">&quot;X&quot;</span><span class=\"p\">,</span><span class=\"mi\">1</span><span class=\"p\">,</span><span class=\"s2\">&quot;tri&quot;</span><span class=\"p\">)</span> <span class=\"nf\">arc</span><span class=\"p\">(</span><span class=\"s2\">&quot;X&quot;</span><span class=\"p\">,</span><span class=\"mi\">1</span><span class=\"p\">,</span><span class=\"s2\">&quot;e&quot;</span><span class=\"p\">,</span><span class=\"mi\">1</span><span class=\"p\">)</span> <span class=\"nf\">arc</span><span class=\"p\">(</span><span class=\"s2\">&quot;Y&quot;</span><span class=\"p\">,</span><span class=\"mi\">2</span><span class=\"p\">,</span><span class=\"s2\">&quot;e&quot;</span><span class=\"p\">,</span><span class=\"mi\">1</span><span class=\"p\">)</span> <span class=\"nf\">arc</span><span class=\"p\">(</span><span class=\"s2\">&quot;Y&quot;</span><span class=\"p\">,</span><span class=\"mi\">1</span><span class=\"p\">,</span><span class=\"s2\">&quot;e&quot;</span><span class=\"p\">,</span><span class=\"mi\">2</span><span class=\"p\">)</span> <span class=\"nf\">arc</span><span class=\"p\">(</span><span class=\"s2\">&quot;Z&quot;</span><span class=\"p\">,</span><span class=\"mi\">2</span><span class=\"p\">,</span><span class=\"s2\">&quot;e&quot;</span><span class=\"p\">,</span><span class=\"mi\">2</span><span class=\"p\">)</span> <span class=\"nf\">arc</span><span class=\"p\">(</span><span class=\"s2\">&quot;Z&quot;</span><span class=\"p\">,</span><span class=\"mi\">1</span><span class=\"p\">,</span><span class=\"s2\">&quot;e&quot;</span><span class=\"p\">,</span><span class=\"mi\">3</span><span class=\"p\">)</span> <span class=\"nf\">arc</span><span class=\"p\">(</span><span class=\"s2\">&quot;X&quot;</span><span class=\"p\">,</span><span class=\"mi\">2</span><span class=\"p\">,</span><span class=\"s2\">&quot;e&quot;</span><span class=\"p\">,</span><span class=\"mi\">3</span><span class=\"p\">)</span> <span class=\"nf\">newArc</span><span class=\"p\">(</span><span class=\"s2\">&quot;X&quot;</span><span class=\"p\">,</span><span class=\"mi\">1</span><span class=\"p\">,</span><span class=\"s2\">&quot;e&quot;</span><span class=\"p\">,</span><span class=\"mi\">1</span><span class=\"p\">)</span> <span class=\"nf\">newArc</span><span class=\"p\">(</span><span class=\"s2\">&quot;X&quot;</span><span class=\"p\">,</span><span class=\"mi\">2</span><span class=\"p\">,</span><span class=\"s2\">&quot;e&quot;</span><span class=\"p\">,</span><span class=\"mi\">3</span><span class=\"p\">)</span> <span class=\"nf\">eqOrd</span><span class=\"p\">(</span><span class=\"s2\">&quot;X&quot;</span><span class=\"p\">,</span><span class=\"s2\">&quot;Z&quot;</span><span class=\"p\">,</span><span class=\"s s-Atom\">node</span><span class=\"p\">)</span> <span class=\"nf\">newArc</span><span class=\"p\">(</span><span class=\"s2\">&quot;X&quot;</span><span class=\"p\">,</span><span class=\"mi\">2</span><span class=\"p\">,</span><span class=\"s2\">&quot;e&quot;</span><span class=\"p\">,</span><span class=\"mi\">2</span><span class=\"p\">)</span> <span class=\"nf\">newArc</span><span class=\"p\">(</span><span class=\"s2\">&quot;X&quot;</span><span class=\"p\">,</span><span class=\"mi\">1</span><span class=\"p\">,</span><span class=\"s2\">&quot;e&quot;</span><span class=\"p\">,</span><span class=\"mi\">3</span><span class=\"p\">)</span> <span class=\"nf\">newArc</span><span class=\"p\">(</span><span class=\"s2\">&quot;Y&quot;</span><span class=\"p\">,</span><span class=\"mi\">2</span><span class=\"p\">,</span><span class=\"s2\">&quot;e&quot;</span><span class=\"p\">,</span><span class=\"mi\">1</span><span class=\"p\">)</span> <span class=\"nf\">newArc</span><span class=\"p\">(</span><span class=\"s2\">&quot;Y&quot;</span><span class=\"p\">,</span><span class=\"mi\">1</span><span class=\"p\">,</span><span class=\"s2\">&quot;e&quot;</span><span class=\"p\">,</span><span class=\"mi\">2</span><span class=\"p\">)</span> <span class=\"nf\">ruleOccTrue</span><span class=\"p\">(</span><span class=\"s2\">&quot;e&quot;</span><span class=\"p\">,</span><span class=\"mi\">1</span><span class=\"p\">)</span> <span class=\"nf\">ruleOccTrue</span><span class=\"p\">(</span><span class=\"s2\">&quot;e&quot;</span><span class=\"p\">,</span><span class=\"mi\">2</span><span class=\"p\">)</span> <span class=\"nf\">ruleOccTrue</span><span class=\"p\">(</span><span class=\"s2\">&quot;e&quot;</span><span class=\"p\">,</span><span class=\"mi\">3</span><span class=\"p\">)</span> <span class=\"nf\">e</span><span class=\"p\">(</span><span class=\"mi\">1</span><span class=\"p\">,</span><span class=\"s2\">&quot;X&quot;</span><span class=\"p\">,</span><span class=\"s2\">&quot;Y&quot;</span><span class=\"p\">)</span> <span class=\"nf\">e</span><span class=\"p\">(</span><span class=\"mi\">2</span><span class=\"p\">,</span><span class=\"s2\">&quot;Y&quot;</span><span class=\"p\">,</span><span class=\"s2\">&quot;X&quot;</span><span class=\"p\">)</span> <span class=\"nf\">e</span><span class=\"p\">(</span><span class=\"mi\">3</span><span class=\"p\">,</span><span class=\"s2\">&quot;X&quot;</span><span class=\"p\">,</span><span class=\"s2\">&quot;X&quot;</span><span class=\"p\">)</span> <span class=\"nf\">e</span><span class=\"p\">(</span><span class=\"s2\">&quot;X&quot;</span><span class=\"p\">,</span><span class=\"s2\">&quot;X&quot;</span><span class=\"p\">)</span> <span class=\"nf\">e</span><span class=\"p\">(</span><span class=\"s2\">&quot;X&quot;</span><span class=\"p\">,</span><span class=\"s2\">&quot;Y&quot;</span><span class=\"p\">)</span> <span class=\"nf\">e</span><span class=\"p\">(</span><span class=\"s2\">&quot;Y&quot;</span><span class=\"p\">,</span><span class=\"s2\">&quot;X&quot;</span><span class=\"p\">)</span> <span class=\"nf\">newHArc</span><span class=\"p\">(</span><span class=\"s2\">&quot;Y&quot;</span><span class=\"p\">,</span><span class=\"mi\">2</span><span class=\"p\">,</span><span class=\"s2\">&quot;tri&quot;</span><span class=\"p\">)</span> <span class=\"nf\">newHArc</span><span class=\"p\">(</span><span class=\"s2\">&quot;X&quot;</span><span class=\"p\">,</span><span class=\"mi\">3</span><span class=\"p\">,</span><span class=\"s2\">&quot;tri&quot;</span><span class=\"p\">)</span> <span class=\"nf\">newVar</span><span class=\"p\">(</span><span class=\"s2\">&quot;Y&quot;</span><span class=\"p\">,</span><span class=\"s s-Atom\">node</span><span class=\"p\">)</span> <span class=\"nf\">neqOrd</span><span class=\"p\">(</span><span class=\"s2\">&quot;X&quot;</span><span class=\"p\">,</span><span class=\"s2\">&quot;Y&quot;</span><span class=\"p\">,</span><span class=\"s s-Atom\">node</span><span class=\"p\">)</span> <span class=\"nf\">eqOrdMinimal</span><span class=\"p\">(</span><span class=\"s2\">&quot;X&quot;</span><span class=\"p\">,</span><span class=\"s2\">&quot;Z&quot;</span><span class=\"p\">,</span><span class=\"s s-Atom\">node</span><span class=\"p\">)</span> <span class=\"nf\">ruleHTrue</span><span class=\"p\">(</span><span class=\"s2\">&quot;tri&quot;</span><span class=\"p\">)</span>\n",
       "<span class=\"lineno\">49 </span><span class=\"nv\">Answer</span><span class=\"s s-Atom\">:</span> <span class=\"mi\">25</span>\n",
       "<span class=\"lineno\">50 </span><span class=\"nf\">ruleH</span><span class=\"p\">(</span><span class=\"s2\">&quot;tri&quot;</span><span class=\"p\">)</span> <span class=\"nf\">newVar</span><span class=\"p\">(</span><span class=\"s2\">&quot;X&quot;</span><span class=\"p\">,</span><span class=\"s s-Atom\">node</span><span class=\"p\">)</span> <span class=\"nf\">ruleOcc</span><span class=\"p\">(</span><span class=\"s2\">&quot;e&quot;</span><span class=\"p\">,</span><span class=\"mi\">1</span><span class=\"p\">)</span> <span class=\"nf\">ruleOcc</span><span class=\"p\">(</span><span class=\"s2\">&quot;e&quot;</span><span class=\"p\">,</span><span class=\"mi\">2</span><span class=\"p\">)</span> <span class=\"nf\">ruleOcc</span><span class=\"p\">(</span><span class=\"s2\">&quot;e&quot;</span><span class=\"p\">,</span><span class=\"mi\">3</span><span class=\"p\">)</span> <span class=\"nf\">var</span><span class=\"p\">(</span><span class=\"s2\">&quot;X&quot;</span><span class=\"p\">,</span><span class=\"s s-Atom\">node</span><span class=\"p\">)</span> <span class=\"nf\">var</span><span class=\"p\">(</span><span class=\"s2\">&quot;Y&quot;</span><span class=\"p\">,</span><span class=\"s s-Atom\">node</span><span class=\"p\">)</span> <span class=\"nf\">var</span><span class=\"p\">(</span><span class=\"s2\">&quot;Z&quot;</span><span class=\"p\">,</span><span class=\"s s-Atom\">node</span><span class=\"p\">)</span> <span class=\"nf\">hArc</span><span class=\"p\">(</span><span class=\"s2\">&quot;Z&quot;</span><span class=\"p\">,</span><span class=\"mi\">3</span><span class=\"p\">,</span><span class=\"s2\">&quot;tri&quot;</span><span class=\"p\">)</span> <span class=\"nf\">hArc</span><span class=\"p\">(</span><span class=\"s2\">&quot;Y&quot;</span><span class=\"p\">,</span><span class=\"mi\">2</span><span class=\"p\">,</span><span class=\"s2\">&quot;tri&quot;</span><span class=\"p\">)</span> <span class=\"nf\">hArc</span><span class=\"p\">(</span><span class=\"s2\">&quot;X&quot;</span><span class=\"p\">,</span><span class=\"mi\">1</span><span class=\"p\">,</span><span class=\"s2\">&quot;tri&quot;</span><span class=\"p\">)</span> <span class=\"nf\">newHArc</span><span class=\"p\">(</span><span class=\"s2\">&quot;X&quot;</span><span class=\"p\">,</span><span class=\"mi\">1</span><span class=\"p\">,</span><span class=\"s2\">&quot;tri&quot;</span><span class=\"p\">)</span> <span class=\"nf\">arc</span><span class=\"p\">(</span><span class=\"s2\">&quot;X&quot;</span><span class=\"p\">,</span><span class=\"mi\">1</span><span class=\"p\">,</span><span class=\"s2\">&quot;e&quot;</span><span class=\"p\">,</span><span class=\"mi\">1</span><span class=\"p\">)</span> <span class=\"nf\">arc</span><span class=\"p\">(</span><span class=\"s2\">&quot;Y&quot;</span><span class=\"p\">,</span><span class=\"mi\">2</span><span class=\"p\">,</span><span class=\"s2\">&quot;e&quot;</span><span class=\"p\">,</span><span class=\"mi\">1</span><span class=\"p\">)</span> <span class=\"nf\">arc</span><span class=\"p\">(</span><span class=\"s2\">&quot;Y&quot;</span><span class=\"p\">,</span><span class=\"mi\">1</span><span class=\"p\">,</span><span class=\"s2\">&quot;e&quot;</span><span class=\"p\">,</span><span class=\"mi\">2</span><span class=\"p\">)</span> <span class=\"nf\">arc</span><span class=\"p\">(</span><span class=\"s2\">&quot;Z&quot;</span><span class=\"p\">,</span><span class=\"mi\">2</span><span class=\"p\">,</span><span class=\"s2\">&quot;e&quot;</span><span class=\"p\">,</span><span class=\"mi\">2</span><span class=\"p\">)</span> <span class=\"nf\">arc</span><span class=\"p\">(</span><span class=\"s2\">&quot;Z&quot;</span><span class=\"p\">,</span><span class=\"mi\">1</span><span class=\"p\">,</span><span class=\"s2\">&quot;e&quot;</span><span class=\"p\">,</span><span class=\"mi\">3</span><span class=\"p\">)</span> <span class=\"nf\">arc</span><span class=\"p\">(</span><span class=\"s2\">&quot;X&quot;</span><span class=\"p\">,</span><span class=\"mi\">2</span><span class=\"p\">,</span><span class=\"s2\">&quot;e&quot;</span><span class=\"p\">,</span><span class=\"mi\">3</span><span class=\"p\">)</span> <span class=\"nf\">newArc</span><span class=\"p\">(</span><span class=\"s2\">&quot;X&quot;</span><span class=\"p\">,</span><span class=\"mi\">1</span><span class=\"p\">,</span><span class=\"s2\">&quot;e&quot;</span><span class=\"p\">,</span><span class=\"mi\">1</span><span class=\"p\">)</span> <span class=\"nf\">newArc</span><span class=\"p\">(</span><span class=\"s2\">&quot;X&quot;</span><span class=\"p\">,</span><span class=\"mi\">2</span><span class=\"p\">,</span><span class=\"s2\">&quot;e&quot;</span><span class=\"p\">,</span><span class=\"mi\">3</span><span class=\"p\">)</span> <span class=\"nf\">eqOrd</span><span class=\"p\">(</span><span class=\"s2\">&quot;X&quot;</span><span class=\"p\">,</span><span class=\"s2\">&quot;Y&quot;</span><span class=\"p\">,</span><span class=\"s s-Atom\">node</span><span class=\"p\">)</span> <span class=\"nf\">newArc</span><span class=\"p\">(</span><span class=\"s2\">&quot;X&quot;</span><span class=\"p\">,</span><span class=\"mi\">2</span><span class=\"p\">,</span><span class=\"s2\">&quot;e&quot;</span><span class=\"p\">,</span><span class=\"mi\">1</span><span class=\"p\">)</span> <span class=\"nf\">newArc</span><span class=\"p\">(</span><span class=\"s2\">&quot;X&quot;</span><span class=\"p\">,</span><span class=\"mi\">1</span><span class=\"p\">,</span><span class=\"s2\">&quot;e&quot;</span><span class=\"p\">,</span><span class=\"mi\">2</span><span class=\"p\">)</span> <span class=\"nf\">newArc</span><span class=\"p\">(</span><span class=\"s2\">&quot;Z&quot;</span><span class=\"p\">,</span><span class=\"mi\">2</span><span class=\"p\">,</span><span class=\"s2\">&quot;e&quot;</span><span class=\"p\">,</span><span class=\"mi\">2</span><span class=\"p\">)</span> <span class=\"nf\">newArc</span><span class=\"p\">(</span><span class=\"s2\">&quot;Z&quot;</span><span class=\"p\">,</span><span class=\"mi\">1</span><span class=\"p\">,</span><span class=\"s2\">&quot;e&quot;</span><span class=\"p\">,</span><span class=\"mi\">3</span><span class=\"p\">)</span> <span class=\"nf\">ne</span><span class=\"p\">(</span><span class=\"mi\">1</span><span class=\"p\">,</span><span class=\"s2\">&quot;X&quot;</span><span class=\"p\">,</span><span class=\"s2\">&quot;X&quot;</span><span class=\"p\">)</span> <span class=\"nf\">ne</span><span class=\"p\">(</span><span class=\"mi\">2</span><span class=\"p\">,</span><span class=\"s2\">&quot;X&quot;</span><span class=\"p\">,</span><span class=\"s2\">&quot;Z&quot;</span><span class=\"p\">)</span> <span class=\"nf\">ne</span><span class=\"p\">(</span><span class=\"mi\">3</span><span class=\"p\">,</span><span class=\"s2\">&quot;Z&quot;</span><span class=\"p\">,</span><span class=\"s2\">&quot;X&quot;</span><span class=\"p\">)</span> <span class=\"nf\">ne</span><span class=\"p\">(</span><span class=\"s2\">&quot;X&quot;</span><span class=\"p\">,</span><span class=\"s2\">&quot;X&quot;</span><span class=\"p\">)</span> <span class=\"nf\">ne</span><span class=\"p\">(</span><span class=\"s2\">&quot;X&quot;</span><span class=\"p\">,</span><span class=\"s2\">&quot;Z&quot;</span><span class=\"p\">)</span> <span class=\"nf\">ne</span><span class=\"p\">(</span><span class=\"s2\">&quot;Z&quot;</span><span class=\"p\">,</span><span class=\"s2\">&quot;X&quot;</span><span class=\"p\">)</span> <span class=\"nf\">newHArc</span><span class=\"p\">(</span><span class=\"s2\">&quot;Z&quot;</span><span class=\"p\">,</span><span class=\"mi\">3</span><span class=\"p\">,</span><span class=\"s2\">&quot;tri&quot;</span><span class=\"p\">)</span> <span class=\"nf\">newHArc</span><span class=\"p\">(</span><span class=\"s2\">&quot;X&quot;</span><span class=\"p\">,</span><span class=\"mi\">2</span><span class=\"p\">,</span><span class=\"s2\">&quot;tri&quot;</span><span class=\"p\">)</span> <span class=\"nf\">newVar</span><span class=\"p\">(</span><span class=\"s2\">&quot;Z&quot;</span><span class=\"p\">,</span><span class=\"s s-Atom\">node</span><span class=\"p\">)</span> <span class=\"nf\">neqOrd</span><span class=\"p\">(</span><span class=\"s2\">&quot;X&quot;</span><span class=\"p\">,</span><span class=\"s2\">&quot;Z&quot;</span><span class=\"p\">,</span><span class=\"s s-Atom\">node</span><span class=\"p\">)</span> <span class=\"nf\">eqOrdMinimal</span><span class=\"p\">(</span><span class=\"s2\">&quot;X&quot;</span><span class=\"p\">,</span><span class=\"s2\">&quot;Y&quot;</span><span class=\"p\">,</span><span class=\"s s-Atom\">node</span><span class=\"p\">)</span>\n",
       "<span class=\"lineno\">51 </span><span class=\"nv\">Answer</span><span class=\"s s-Atom\">:</span> <span class=\"mi\">26</span>\n",
       "<span class=\"lineno\">52 </span><span class=\"nf\">ruleH</span><span class=\"p\">(</span><span class=\"s2\">&quot;tri&quot;</span><span class=\"p\">)</span> <span class=\"nf\">newVar</span><span class=\"p\">(</span><span class=\"s2\">&quot;X&quot;</span><span class=\"p\">,</span><span class=\"s s-Atom\">node</span><span class=\"p\">)</span> <span class=\"nf\">ruleOcc</span><span class=\"p\">(</span><span class=\"s2\">&quot;e&quot;</span><span class=\"p\">,</span><span class=\"mi\">1</span><span class=\"p\">)</span> <span class=\"nf\">ruleOcc</span><span class=\"p\">(</span><span class=\"s2\">&quot;e&quot;</span><span class=\"p\">,</span><span class=\"mi\">2</span><span class=\"p\">)</span> <span class=\"nf\">ruleOcc</span><span class=\"p\">(</span><span class=\"s2\">&quot;e&quot;</span><span class=\"p\">,</span><span class=\"mi\">3</span><span class=\"p\">)</span> <span class=\"nf\">var</span><span class=\"p\">(</span><span class=\"s2\">&quot;X&quot;</span><span class=\"p\">,</span><span class=\"s s-Atom\">node</span><span class=\"p\">)</span> <span class=\"nf\">var</span><span class=\"p\">(</span><span class=\"s2\">&quot;Y&quot;</span><span class=\"p\">,</span><span class=\"s s-Atom\">node</span><span class=\"p\">)</span> <span class=\"nf\">var</span><span class=\"p\">(</span><span class=\"s2\">&quot;Z&quot;</span><span class=\"p\">,</span><span class=\"s s-Atom\">node</span><span class=\"p\">)</span> <span class=\"nf\">hArc</span><span class=\"p\">(</span><span class=\"s2\">&quot;Z&quot;</span><span class=\"p\">,</span><span class=\"mi\">3</span><span class=\"p\">,</span><span class=\"s2\">&quot;tri&quot;</span><span class=\"p\">)</span> <span class=\"nf\">hArc</span><span class=\"p\">(</span><span class=\"s2\">&quot;Y&quot;</span><span class=\"p\">,</span><span class=\"mi\">2</span><span class=\"p\">,</span><span class=\"s2\">&quot;tri&quot;</span><span class=\"p\">)</span> <span class=\"nf\">hArc</span><span class=\"p\">(</span><span class=\"s2\">&quot;X&quot;</span><span class=\"p\">,</span><span class=\"mi\">1</span><span class=\"p\">,</span><span class=\"s2\">&quot;tri&quot;</span><span class=\"p\">)</span> <span class=\"nf\">newHArc</span><span class=\"p\">(</span><span class=\"s2\">&quot;X&quot;</span><span class=\"p\">,</span><span class=\"mi\">1</span><span class=\"p\">,</span><span class=\"s2\">&quot;tri&quot;</span><span class=\"p\">)</span> <span class=\"nf\">arc</span><span class=\"p\">(</span><span class=\"s2\">&quot;X&quot;</span><span class=\"p\">,</span><span class=\"mi\">1</span><span class=\"p\">,</span><span class=\"s2\">&quot;e&quot;</span><span class=\"p\">,</span><span class=\"mi\">1</span><span class=\"p\">)</span> <span class=\"nf\">arc</span><span class=\"p\">(</span><span class=\"s2\">&quot;Y&quot;</span><span class=\"p\">,</span><span class=\"mi\">2</span><span class=\"p\">,</span><span class=\"s2\">&quot;e&quot;</span><span class=\"p\">,</span><span class=\"mi\">1</span><span class=\"p\">)</span> <span class=\"nf\">arc</span><span class=\"p\">(</span><span class=\"s2\">&quot;Y&quot;</span><span class=\"p\">,</span><span class=\"mi\">1</span><span class=\"p\">,</span><span class=\"s2\">&quot;e&quot;</span><span class=\"p\">,</span><span class=\"mi\">2</span><span class=\"p\">)</span> <span class=\"nf\">arc</span><span class=\"p\">(</span><span class=\"s2\">&quot;Z&quot;</span><span class=\"p\">,</span><span class=\"mi\">2</span><span class=\"p\">,</span><span class=\"s2\">&quot;e&quot;</span><span class=\"p\">,</span><span class=\"mi\">2</span><span class=\"p\">)</span> <span class=\"nf\">arc</span><span class=\"p\">(</span><span class=\"s2\">&quot;Z&quot;</span><span class=\"p\">,</span><span class=\"mi\">1</span><span class=\"p\">,</span><span class=\"s2\">&quot;e&quot;</span><span class=\"p\">,</span><span class=\"mi\">3</span><span class=\"p\">)</span> <span class=\"nf\">arc</span><span class=\"p\">(</span><span class=\"s2\">&quot;X&quot;</span><span class=\"p\">,</span><span class=\"mi\">2</span><span class=\"p\">,</span><span class=\"s2\">&quot;e&quot;</span><span class=\"p\">,</span><span class=\"mi\">3</span><span class=\"p\">)</span> <span class=\"nf\">newArc</span><span class=\"p\">(</span><span class=\"s2\">&quot;X&quot;</span><span class=\"p\">,</span><span class=\"mi\">1</span><span class=\"p\">,</span><span class=\"s2\">&quot;e&quot;</span><span class=\"p\">,</span><span class=\"mi\">1</span><span class=\"p\">)</span> <span class=\"nf\">newArc</span><span class=\"p\">(</span><span class=\"s2\">&quot;X&quot;</span><span class=\"p\">,</span><span class=\"mi\">2</span><span class=\"p\">,</span><span class=\"s2\">&quot;e&quot;</span><span class=\"p\">,</span><span class=\"mi\">3</span><span class=\"p\">)</span> <span class=\"nf\">eqOrd</span><span class=\"p\">(</span><span class=\"s2\">&quot;X&quot;</span><span class=\"p\">,</span><span class=\"s2\">&quot;Y&quot;</span><span class=\"p\">,</span><span class=\"s s-Atom\">node</span><span class=\"p\">)</span> <span class=\"nf\">newArc</span><span class=\"p\">(</span><span class=\"s2\">&quot;X&quot;</span><span class=\"p\">,</span><span class=\"mi\">2</span><span class=\"p\">,</span><span class=\"s2\">&quot;e&quot;</span><span class=\"p\">,</span><span class=\"mi\">1</span><span class=\"p\">)</span> <span class=\"nf\">newArc</span><span class=\"p\">(</span><span class=\"s2\">&quot;X&quot;</span><span class=\"p\">,</span><span class=\"mi\">1</span><span class=\"p\">,</span><span class=\"s2\">&quot;e&quot;</span><span class=\"p\">,</span><span class=\"mi\">2</span><span class=\"p\">)</span> <span class=\"nf\">newArc</span><span class=\"p\">(</span><span class=\"s2\">&quot;Z&quot;</span><span class=\"p\">,</span><span class=\"mi\">2</span><span class=\"p\">,</span><span class=\"s2\">&quot;e&quot;</span><span class=\"p\">,</span><span class=\"mi\">2</span><span class=\"p\">)</span> <span class=\"nf\">newArc</span><span class=\"p\">(</span><span class=\"s2\">&quot;Z&quot;</span><span class=\"p\">,</span><span class=\"mi\">1</span><span class=\"p\">,</span><span class=\"s2\">&quot;e&quot;</span><span class=\"p\">,</span><span class=\"mi\">3</span><span class=\"p\">)</span> <span class=\"nf\">ruleOccTrue</span><span class=\"p\">(</span><span class=\"s2\">&quot;e&quot;</span><span class=\"p\">,</span><span class=\"mi\">1</span><span class=\"p\">)</span> <span class=\"nf\">ne</span><span class=\"p\">(</span><span class=\"mi\">2</span><span class=\"p\">,</span><span class=\"s2\">&quot;X&quot;</span><span class=\"p\">,</span><span class=\"s2\">&quot;Z&quot;</span><span class=\"p\">)</span> <span class=\"nf\">ne</span><span class=\"p\">(</span><span class=\"mi\">3</span><span class=\"p\">,</span><span class=\"s2\">&quot;Z&quot;</span><span class=\"p\">,</span><span class=\"s2\">&quot;X&quot;</span><span class=\"p\">)</span> <span class=\"nf\">ne</span><span class=\"p\">(</span><span class=\"s2\">&quot;X&quot;</span><span class=\"p\">,</span><span class=\"s2\">&quot;Z&quot;</span><span class=\"p\">)</span> <span class=\"nf\">ne</span><span class=\"p\">(</span><span class=\"s2\">&quot;Z&quot;</span><span class=\"p\">,</span><span class=\"s2\">&quot;X&quot;</span><span class=\"p\">)</span> <span class=\"nf\">e</span><span class=\"p\">(</span><span class=\"mi\">1</span><span class=\"p\">,</span><span class=\"s2\">&quot;X&quot;</span><span class=\"p\">,</span><span class=\"s2\">&quot;X&quot;</span><span class=\"p\">)</span> <span class=\"nf\">e</span><span class=\"p\">(</span><span class=\"s2\">&quot;X&quot;</span><span class=\"p\">,</span><span class=\"s2\">&quot;X&quot;</span><span class=\"p\">)</span> <span class=\"nf\">newHArc</span><span class=\"p\">(</span><span class=\"s2\">&quot;Z&quot;</span><span class=\"p\">,</span><span class=\"mi\">3</span><span class=\"p\">,</span><span class=\"s2\">&quot;tri&quot;</span><span class=\"p\">)</span> <span class=\"nf\">newHArc</span><span class=\"p\">(</span><span class=\"s2\">&quot;X&quot;</span><span class=\"p\">,</span><span class=\"mi\">2</span><span class=\"p\">,</span><span class=\"s2\">&quot;tri&quot;</span><span class=\"p\">)</span> <span class=\"nf\">newVar</span><span class=\"p\">(</span><span class=\"s2\">&quot;Z&quot;</span><span class=\"p\">,</span><span class=\"s s-Atom\">node</span><span class=\"p\">)</span> <span class=\"nf\">neqOrd</span><span class=\"p\">(</span><span class=\"s2\">&quot;X&quot;</span><span class=\"p\">,</span><span class=\"s2\">&quot;Z&quot;</span><span class=\"p\">,</span><span class=\"s s-Atom\">node</span><span class=\"p\">)</span> <span class=\"nf\">eqOrdMinimal</span><span class=\"p\">(</span><span class=\"s2\">&quot;X&quot;</span><span class=\"p\">,</span><span class=\"s2\">&quot;Y&quot;</span><span class=\"p\">,</span><span class=\"s s-Atom\">node</span><span class=\"p\">)</span>\n",
       "<span class=\"lineno\">53 </span><span class=\"nv\">Answer</span><span class=\"s s-Atom\">:</span> <span class=\"mi\">27</span>\n",
       "<span class=\"lineno\">54 </span><span class=\"nf\">ruleH</span><span class=\"p\">(</span><span class=\"s2\">&quot;tri&quot;</span><span class=\"p\">)</span> <span class=\"nf\">newVar</span><span class=\"p\">(</span><span class=\"s2\">&quot;X&quot;</span><span class=\"p\">,</span><span class=\"s s-Atom\">node</span><span class=\"p\">)</span> <span class=\"nf\">ruleOcc</span><span class=\"p\">(</span><span class=\"s2\">&quot;e&quot;</span><span class=\"p\">,</span><span class=\"mi\">1</span><span class=\"p\">)</span> <span class=\"nf\">ruleOcc</span><span class=\"p\">(</span><span class=\"s2\">&quot;e&quot;</span><span class=\"p\">,</span><span class=\"mi\">2</span><span class=\"p\">)</span> <span class=\"nf\">ruleOcc</span><span class=\"p\">(</span><span class=\"s2\">&quot;e&quot;</span><span class=\"p\">,</span><span class=\"mi\">3</span><span class=\"p\">)</span> <span class=\"nf\">var</span><span class=\"p\">(</span><span class=\"s2\">&quot;X&quot;</span><span class=\"p\">,</span><span class=\"s s-Atom\">node</span><span class=\"p\">)</span> <span class=\"nf\">var</span><span class=\"p\">(</span><span class=\"s2\">&quot;Y&quot;</span><span class=\"p\">,</span><span class=\"s s-Atom\">node</span><span class=\"p\">)</span> <span class=\"nf\">var</span><span class=\"p\">(</span><span class=\"s2\">&quot;Z&quot;</span><span class=\"p\">,</span><span class=\"s s-Atom\">node</span><span class=\"p\">)</span> <span class=\"nf\">hArc</span><span class=\"p\">(</span><span class=\"s2\">&quot;Z&quot;</span><span class=\"p\">,</span><span class=\"mi\">3</span><span class=\"p\">,</span><span class=\"s2\">&quot;tri&quot;</span><span class=\"p\">)</span> <span class=\"nf\">hArc</span><span class=\"p\">(</span><span class=\"s2\">&quot;Y&quot;</span><span class=\"p\">,</span><span class=\"mi\">2</span><span class=\"p\">,</span><span class=\"s2\">&quot;tri&quot;</span><span class=\"p\">)</span> <span class=\"nf\">hArc</span><span class=\"p\">(</span><span class=\"s2\">&quot;X&quot;</span><span class=\"p\">,</span><span class=\"mi\">1</span><span class=\"p\">,</span><span class=\"s2\">&quot;tri&quot;</span><span class=\"p\">)</span> <span class=\"nf\">newHArc</span><span class=\"p\">(</span><span class=\"s2\">&quot;X&quot;</span><span class=\"p\">,</span><span class=\"mi\">1</span><span class=\"p\">,</span><span class=\"s2\">&quot;tri&quot;</span><span class=\"p\">)</span> <span class=\"nf\">arc</span><span class=\"p\">(</span><span class=\"s2\">&quot;X&quot;</span><span class=\"p\">,</span><span class=\"mi\">1</span><span class=\"p\">,</span><span class=\"s2\">&quot;e&quot;</span><span class=\"p\">,</span><span class=\"mi\">1</span><span class=\"p\">)</span> <span class=\"nf\">arc</span><span class=\"p\">(</span><span class=\"s2\">&quot;Y&quot;</span><span class=\"p\">,</span><span class=\"mi\">2</span><span class=\"p\">,</span><span class=\"s2\">&quot;e&quot;</span><span class=\"p\">,</span><span class=\"mi\">1</span><span class=\"p\">)</span> <span class=\"nf\">arc</span><span class=\"p\">(</span><span class=\"s2\">&quot;Y&quot;</span><span class=\"p\">,</span><span class=\"mi\">1</span><span class=\"p\">,</span><span class=\"s2\">&quot;e&quot;</span><span class=\"p\">,</span><span class=\"mi\">2</span><span class=\"p\">)</span> <span class=\"nf\">arc</span><span class=\"p\">(</span><span class=\"s2\">&quot;Z&quot;</span><span class=\"p\">,</span><span class=\"mi\">2</span><span class=\"p\">,</span><span class=\"s2\">&quot;e&quot;</span><span class=\"p\">,</span><span class=\"mi\">2</span><span class=\"p\">)</span> <span class=\"nf\">arc</span><span class=\"p\">(</span><span class=\"s2\">&quot;Z&quot;</span><span class=\"p\">,</span><span class=\"mi\">1</span><span class=\"p\">,</span><span class=\"s2\">&quot;e&quot;</span><span class=\"p\">,</span><span class=\"mi\">3</span><span class=\"p\">)</span> <span class=\"nf\">arc</span><span class=\"p\">(</span><span class=\"s2\">&quot;X&quot;</span><span class=\"p\">,</span><span class=\"mi\">2</span><span class=\"p\">,</span><span class=\"s2\">&quot;e&quot;</span><span class=\"p\">,</span><span class=\"mi\">3</span><span class=\"p\">)</span> <span class=\"nf\">newArc</span><span class=\"p\">(</span><span class=\"s2\">&quot;X&quot;</span><span class=\"p\">,</span><span class=\"mi\">1</span><span class=\"p\">,</span><span class=\"s2\">&quot;e&quot;</span><span class=\"p\">,</span><span class=\"mi\">1</span><span class=\"p\">)</span> <span class=\"nf\">newArc</span><span class=\"p\">(</span><span class=\"s2\">&quot;X&quot;</span><span class=\"p\">,</span><span class=\"mi\">2</span><span class=\"p\">,</span><span class=\"s2\">&quot;e&quot;</span><span class=\"p\">,</span><span class=\"mi\">3</span><span class=\"p\">)</span> <span class=\"nf\">eqOrd</span><span class=\"p\">(</span><span class=\"s2\">&quot;X&quot;</span><span class=\"p\">,</span><span class=\"s2\">&quot;Y&quot;</span><span class=\"p\">,</span><span class=\"s s-Atom\">node</span><span class=\"p\">)</span> <span class=\"nf\">newArc</span><span class=\"p\">(</span><span class=\"s2\">&quot;X&quot;</span><span class=\"p\">,</span><span class=\"mi\">2</span><span class=\"p\">,</span><span class=\"s2\">&quot;e&quot;</span><span class=\"p\">,</span><span class=\"mi\">1</span><span class=\"p\">)</span> <span class=\"nf\">newArc</span><span class=\"p\">(</span><span class=\"s2\">&quot;X&quot;</span><span class=\"p\">,</span><span class=\"mi\">1</span><span class=\"p\">,</span><span class=\"s2\">&quot;e&quot;</span><span class=\"p\">,</span><span class=\"mi\">2</span><span class=\"p\">)</span> <span class=\"nf\">newArc</span><span class=\"p\">(</span><span class=\"s2\">&quot;Z&quot;</span><span class=\"p\">,</span><span class=\"mi\">2</span><span class=\"p\">,</span><span class=\"s2\">&quot;e&quot;</span><span class=\"p\">,</span><span class=\"mi\">2</span><span class=\"p\">)</span> <span class=\"nf\">newArc</span><span class=\"p\">(</span><span class=\"s2\">&quot;Z&quot;</span><span class=\"p\">,</span><span class=\"mi\">1</span><span class=\"p\">,</span><span class=\"s2\">&quot;e&quot;</span><span class=\"p\">,</span><span class=\"mi\">3</span><span class=\"p\">)</span> <span class=\"nf\">ruleOccTrue</span><span class=\"p\">(</span><span class=\"s2\">&quot;e&quot;</span><span class=\"p\">,</span><span class=\"mi\">3</span><span class=\"p\">)</span> <span class=\"nf\">ne</span><span class=\"p\">(</span><span class=\"mi\">1</span><span class=\"p\">,</span><span class=\"s2\">&quot;X&quot;</span><span class=\"p\">,</span><span class=\"s2\">&quot;X&quot;</span><span class=\"p\">)</span> <span class=\"nf\">ne</span><span class=\"p\">(</span><span class=\"mi\">2</span><span class=\"p\">,</span><span class=\"s2\">&quot;X&quot;</span><span class=\"p\">,</span><span class=\"s2\">&quot;Z&quot;</span><span class=\"p\">)</span> <span class=\"nf\">ne</span><span class=\"p\">(</span><span class=\"s2\">&quot;X&quot;</span><span class=\"p\">,</span><span class=\"s2\">&quot;X&quot;</span><span class=\"p\">)</span> <span class=\"nf\">ne</span><span class=\"p\">(</span><span class=\"s2\">&quot;X&quot;</span><span class=\"p\">,</span><span class=\"s2\">&quot;Z&quot;</span><span class=\"p\">)</span> <span class=\"nf\">e</span><span class=\"p\">(</span><span class=\"mi\">3</span><span class=\"p\">,</span><span class=\"s2\">&quot;Z&quot;</span><span class=\"p\">,</span><span class=\"s2\">&quot;X&quot;</span><span class=\"p\">)</span> <span class=\"nf\">e</span><span class=\"p\">(</span><span class=\"s2\">&quot;Z&quot;</span><span class=\"p\">,</span><span class=\"s2\">&quot;X&quot;</span><span class=\"p\">)</span> <span class=\"nf\">newHArc</span><span class=\"p\">(</span><span class=\"s2\">&quot;Z&quot;</span><span class=\"p\">,</span><span class=\"mi\">3</span><span class=\"p\">,</span><span class=\"s2\">&quot;tri&quot;</span><span class=\"p\">)</span> <span class=\"nf\">newHArc</span><span class=\"p\">(</span><span class=\"s2\">&quot;X&quot;</span><span class=\"p\">,</span><span class=\"mi\">2</span><span class=\"p\">,</span><span class=\"s2\">&quot;tri&quot;</span><span class=\"p\">)</span> <span class=\"nf\">newVar</span><span class=\"p\">(</span><span class=\"s2\">&quot;Z&quot;</span><span class=\"p\">,</span><span class=\"s s-Atom\">node</span><span class=\"p\">)</span> <span class=\"nf\">neqOrd</span><span class=\"p\">(</span><span class=\"s2\">&quot;X&quot;</span><span class=\"p\">,</span><span class=\"s2\">&quot;Z&quot;</span><span class=\"p\">,</span><span class=\"s s-Atom\">node</span><span class=\"p\">)</span> <span class=\"nf\">eqOrdMinimal</span><span class=\"p\">(</span><span class=\"s2\">&quot;X&quot;</span><span class=\"p\">,</span><span class=\"s2\">&quot;Y&quot;</span><span class=\"p\">,</span><span class=\"s s-Atom\">node</span><span class=\"p\">)</span>\n",
       "<span class=\"lineno\">55 </span><span class=\"nv\">Answer</span><span class=\"s s-Atom\">:</span> <span class=\"mi\">28</span>\n",
       "<span class=\"lineno\">56 </span><span class=\"nf\">ruleH</span><span class=\"p\">(</span><span class=\"s2\">&quot;tri&quot;</span><span class=\"p\">)</span> <span class=\"nf\">newVar</span><span class=\"p\">(</span><span class=\"s2\">&quot;X&quot;</span><span class=\"p\">,</span><span class=\"s s-Atom\">node</span><span class=\"p\">)</span> <span class=\"nf\">ruleOcc</span><span class=\"p\">(</span><span class=\"s2\">&quot;e&quot;</span><span class=\"p\">,</span><span class=\"mi\">1</span><span class=\"p\">)</span> <span class=\"nf\">ruleOcc</span><span class=\"p\">(</span><span class=\"s2\">&quot;e&quot;</span><span class=\"p\">,</span><span class=\"mi\">2</span><span class=\"p\">)</span> <span class=\"nf\">ruleOcc</span><span class=\"p\">(</span><span class=\"s2\">&quot;e&quot;</span><span class=\"p\">,</span><span class=\"mi\">3</span><span class=\"p\">)</span> <span class=\"nf\">var</span><span class=\"p\">(</span><span class=\"s2\">&quot;X&quot;</span><span class=\"p\">,</span><span class=\"s s-Atom\">node</span><span class=\"p\">)</span> <span class=\"nf\">var</span><span class=\"p\">(</span><span class=\"s2\">&quot;Y&quot;</span><span class=\"p\">,</span><span class=\"s s-Atom\">node</span><span class=\"p\">)</span> <span class=\"nf\">var</span><span class=\"p\">(</span><span class=\"s2\">&quot;Z&quot;</span><span class=\"p\">,</span><span class=\"s s-Atom\">node</span><span class=\"p\">)</span> <span class=\"nf\">hArc</span><span class=\"p\">(</span><span class=\"s2\">&quot;Z&quot;</span><span class=\"p\">,</span><span class=\"mi\">3</span><span class=\"p\">,</span><span class=\"s2\">&quot;tri&quot;</span><span class=\"p\">)</span> <span class=\"nf\">hArc</span><span class=\"p\">(</span><span class=\"s2\">&quot;Y&quot;</span><span class=\"p\">,</span><span class=\"mi\">2</span><span class=\"p\">,</span><span class=\"s2\">&quot;tri&quot;</span><span class=\"p\">)</span> <span class=\"nf\">hArc</span><span class=\"p\">(</span><span class=\"s2\">&quot;X&quot;</span><span class=\"p\">,</span><span class=\"mi\">1</span><span class=\"p\">,</span><span class=\"s2\">&quot;tri&quot;</span><span class=\"p\">)</span> <span class=\"nf\">newHArc</span><span class=\"p\">(</span><span class=\"s2\">&quot;X&quot;</span><span class=\"p\">,</span><span class=\"mi\">1</span><span class=\"p\">,</span><span class=\"s2\">&quot;tri&quot;</span><span class=\"p\">)</span> <span class=\"nf\">arc</span><span class=\"p\">(</span><span class=\"s2\">&quot;X&quot;</span><span class=\"p\">,</span><span class=\"mi\">1</span><span class=\"p\">,</span><span class=\"s2\">&quot;e&quot;</span><span class=\"p\">,</span><span class=\"mi\">1</span><span class=\"p\">)</span> <span class=\"nf\">arc</span><span class=\"p\">(</span><span class=\"s2\">&quot;Y&quot;</span><span class=\"p\">,</span><span class=\"mi\">2</span><span class=\"p\">,</span><span class=\"s2\">&quot;e&quot;</span><span class=\"p\">,</span><span class=\"mi\">1</span><span class=\"p\">)</span> <span class=\"nf\">arc</span><span class=\"p\">(</span><span class=\"s2\">&quot;Y&quot;</span><span class=\"p\">,</span><span class=\"mi\">1</span><span class=\"p\">,</span><span class=\"s2\">&quot;e&quot;</span><span class=\"p\">,</span><span class=\"mi\">2</span><span class=\"p\">)</span> <span class=\"nf\">arc</span><span class=\"p\">(</span><span class=\"s2\">&quot;Z&quot;</span><span class=\"p\">,</span><span class=\"mi\">2</span><span class=\"p\">,</span><span class=\"s2\">&quot;e&quot;</span><span class=\"p\">,</span><span class=\"mi\">2</span><span class=\"p\">)</span> <span class=\"nf\">arc</span><span class=\"p\">(</span><span class=\"s2\">&quot;Z&quot;</span><span class=\"p\">,</span><span class=\"mi\">1</span><span class=\"p\">,</span><span class=\"s2\">&quot;e&quot;</span><span class=\"p\">,</span><span class=\"mi\">3</span><span class=\"p\">)</span> <span class=\"nf\">arc</span><span class=\"p\">(</span><span class=\"s2\">&quot;X&quot;</span><span class=\"p\">,</span><span class=\"mi\">2</span><span class=\"p\">,</span><span class=\"s2\">&quot;e&quot;</span><span class=\"p\">,</span><span class=\"mi\">3</span><span class=\"p\">)</span> <span class=\"nf\">newArc</span><span class=\"p\">(</span><span class=\"s2\">&quot;X&quot;</span><span class=\"p\">,</span><span class=\"mi\">1</span><span class=\"p\">,</span><span class=\"s2\">&quot;e&quot;</span><span class=\"p\">,</span><span class=\"mi\">1</span><span class=\"p\">)</span> <span class=\"nf\">newArc</span><span class=\"p\">(</span><span class=\"s2\">&quot;X&quot;</span><span class=\"p\">,</span><span class=\"mi\">2</span><span class=\"p\">,</span><span class=\"s2\">&quot;e&quot;</span><span class=\"p\">,</span><span class=\"mi\">3</span><span class=\"p\">)</span> <span class=\"nf\">eqOrd</span><span class=\"p\">(</span><span class=\"s2\">&quot;X&quot;</span><span class=\"p\">,</span><span class=\"s2\">&quot;Y&quot;</span><span class=\"p\">,</span><span class=\"s s-Atom\">node</span><span class=\"p\">)</span> <span class=\"nf\">newArc</span><span class=\"p\">(</span><span class=\"s2\">&quot;X&quot;</span><span class=\"p\">,</span><span class=\"mi\">2</span><span class=\"p\">,</span><span class=\"s2\">&quot;e&quot;</span><span class=\"p\">,</span><span class=\"mi\">1</span><span class=\"p\">)</span> <span class=\"nf\">newArc</span><span class=\"p\">(</span><span class=\"s2\">&quot;X&quot;</span><span class=\"p\">,</span><span class=\"mi\">1</span><span class=\"p\">,</span><span class=\"s2\">&quot;e&quot;</span><span class=\"p\">,</span><span class=\"mi\">2</span><span class=\"p\">)</span> <span class=\"nf\">newArc</span><span class=\"p\">(</span><span class=\"s2\">&quot;Z&quot;</span><span class=\"p\">,</span><span class=\"mi\">2</span><span class=\"p\">,</span><span class=\"s2\">&quot;e&quot;</span><span class=\"p\">,</span><span class=\"mi\">2</span><span class=\"p\">)</span> <span class=\"nf\">newArc</span><span class=\"p\">(</span><span class=\"s2\">&quot;Z&quot;</span><span class=\"p\">,</span><span class=\"mi\">1</span><span class=\"p\">,</span><span class=\"s2\">&quot;e&quot;</span><span class=\"p\">,</span><span class=\"mi\">3</span><span class=\"p\">)</span> <span class=\"nf\">ruleOccTrue</span><span class=\"p\">(</span><span class=\"s2\">&quot;e&quot;</span><span class=\"p\">,</span><span class=\"mi\">1</span><span class=\"p\">)</span> <span class=\"nf\">ruleOccTrue</span><span class=\"p\">(</span><span class=\"s2\">&quot;e&quot;</span><span class=\"p\">,</span><span class=\"mi\">3</span><span class=\"p\">)</span> <span class=\"nf\">ne</span><span class=\"p\">(</span><span class=\"mi\">2</span><span class=\"p\">,</span><span class=\"s2\">&quot;X&quot;</span><span class=\"p\">,</span><span class=\"s2\">&quot;Z&quot;</span><span class=\"p\">)</span> <span class=\"nf\">ne</span><span class=\"p\">(</span><span class=\"s2\">&quot;X&quot;</span><span class=\"p\">,</span><span class=\"s2\">&quot;Z&quot;</span><span class=\"p\">)</span> <span class=\"nf\">e</span><span class=\"p\">(</span><span class=\"mi\">1</span><span class=\"p\">,</span><span class=\"s2\">&quot;X&quot;</span><span class=\"p\">,</span><span class=\"s2\">&quot;X&quot;</span><span class=\"p\">)</span> <span class=\"nf\">e</span><span class=\"p\">(</span><span class=\"mi\">3</span><span class=\"p\">,</span><span class=\"s2\">&quot;Z&quot;</span><span class=\"p\">,</span><span class=\"s2\">&quot;X&quot;</span><span class=\"p\">)</span> <span class=\"nf\">e</span><span class=\"p\">(</span><span class=\"s2\">&quot;X&quot;</span><span class=\"p\">,</span><span class=\"s2\">&quot;X&quot;</span><span class=\"p\">)</span> <span class=\"nf\">e</span><span class=\"p\">(</span><span class=\"s2\">&quot;Z&quot;</span><span class=\"p\">,</span><span class=\"s2\">&quot;X&quot;</span><span class=\"p\">)</span> <span class=\"nf\">newHArc</span><span class=\"p\">(</span><span class=\"s2\">&quot;Z&quot;</span><span class=\"p\">,</span><span class=\"mi\">3</span><span class=\"p\">,</span><span class=\"s2\">&quot;tri&quot;</span><span class=\"p\">)</span> <span class=\"nf\">newHArc</span><span class=\"p\">(</span><span class=\"s2\">&quot;X&quot;</span><span class=\"p\">,</span><span class=\"mi\">2</span><span class=\"p\">,</span><span class=\"s2\">&quot;tri&quot;</span><span class=\"p\">)</span> <span class=\"nf\">newVar</span><span class=\"p\">(</span><span class=\"s2\">&quot;Z&quot;</span><span class=\"p\">,</span><span class=\"s s-Atom\">node</span><span class=\"p\">)</span> <span class=\"nf\">neqOrd</span><span class=\"p\">(</span><span class=\"s2\">&quot;X&quot;</span><span class=\"p\">,</span><span class=\"s2\">&quot;Z&quot;</span><span class=\"p\">,</span><span class=\"s s-Atom\">node</span><span class=\"p\">)</span> <span class=\"nf\">eqOrdMinimal</span><span class=\"p\">(</span><span class=\"s2\">&quot;X&quot;</span><span class=\"p\">,</span><span class=\"s2\">&quot;Y&quot;</span><span class=\"p\">,</span><span class=\"s s-Atom\">node</span><span class=\"p\">)</span>\n",
       "<span class=\"lineno\">57 </span><span class=\"nv\">Answer</span><span class=\"s s-Atom\">:</span> <span class=\"mi\">29</span>\n",
       "<span class=\"lineno\">58 </span><span class=\"nf\">ruleH</span><span class=\"p\">(</span><span class=\"s2\">&quot;tri&quot;</span><span class=\"p\">)</span> <span class=\"nf\">newVar</span><span class=\"p\">(</span><span class=\"s2\">&quot;X&quot;</span><span class=\"p\">,</span><span class=\"s s-Atom\">node</span><span class=\"p\">)</span> <span class=\"nf\">ruleOcc</span><span class=\"p\">(</span><span class=\"s2\">&quot;e&quot;</span><span class=\"p\">,</span><span class=\"mi\">1</span><span class=\"p\">)</span> <span class=\"nf\">ruleOcc</span><span class=\"p\">(</span><span class=\"s2\">&quot;e&quot;</span><span class=\"p\">,</span><span class=\"mi\">2</span><span class=\"p\">)</span> <span class=\"nf\">ruleOcc</span><span class=\"p\">(</span><span class=\"s2\">&quot;e&quot;</span><span class=\"p\">,</span><span class=\"mi\">3</span><span class=\"p\">)</span> <span class=\"nf\">var</span><span class=\"p\">(</span><span class=\"s2\">&quot;X&quot;</span><span class=\"p\">,</span><span class=\"s s-Atom\">node</span><span class=\"p\">)</span> <span class=\"nf\">var</span><span class=\"p\">(</span><span class=\"s2\">&quot;Y&quot;</span><span class=\"p\">,</span><span class=\"s s-Atom\">node</span><span class=\"p\">)</span> <span class=\"nf\">var</span><span class=\"p\">(</span><span class=\"s2\">&quot;Z&quot;</span><span class=\"p\">,</span><span class=\"s s-Atom\">node</span><span class=\"p\">)</span> <span class=\"nf\">hArc</span><span class=\"p\">(</span><span class=\"s2\">&quot;Z&quot;</span><span class=\"p\">,</span><span class=\"mi\">3</span><span class=\"p\">,</span><span class=\"s2\">&quot;tri&quot;</span><span class=\"p\">)</span> <span class=\"nf\">hArc</span><span class=\"p\">(</span><span class=\"s2\">&quot;Y&quot;</span><span class=\"p\">,</span><span class=\"mi\">2</span><span class=\"p\">,</span><span class=\"s2\">&quot;tri&quot;</span><span class=\"p\">)</span> <span class=\"nf\">hArc</span><span class=\"p\">(</span><span class=\"s2\">&quot;X&quot;</span><span class=\"p\">,</span><span class=\"mi\">1</span><span class=\"p\">,</span><span class=\"s2\">&quot;tri&quot;</span><span class=\"p\">)</span> <span class=\"nf\">newHArc</span><span class=\"p\">(</span><span class=\"s2\">&quot;X&quot;</span><span class=\"p\">,</span><span class=\"mi\">1</span><span class=\"p\">,</span><span class=\"s2\">&quot;tri&quot;</span><span class=\"p\">)</span> <span class=\"nf\">arc</span><span class=\"p\">(</span><span class=\"s2\">&quot;X&quot;</span><span class=\"p\">,</span><span class=\"mi\">1</span><span class=\"p\">,</span><span class=\"s2\">&quot;e&quot;</span><span class=\"p\">,</span><span class=\"mi\">1</span><span class=\"p\">)</span> <span class=\"nf\">arc</span><span class=\"p\">(</span><span class=\"s2\">&quot;Y&quot;</span><span class=\"p\">,</span><span class=\"mi\">2</span><span class=\"p\">,</span><span class=\"s2\">&quot;e&quot;</span><span class=\"p\">,</span><span class=\"mi\">1</span><span class=\"p\">)</span> <span class=\"nf\">arc</span><span class=\"p\">(</span><span class=\"s2\">&quot;Y&quot;</span><span class=\"p\">,</span><span class=\"mi\">1</span><span class=\"p\">,</span><span class=\"s2\">&quot;e&quot;</span><span class=\"p\">,</span><span class=\"mi\">2</span><span class=\"p\">)</span> <span class=\"nf\">arc</span><span class=\"p\">(</span><span class=\"s2\">&quot;Z&quot;</span><span class=\"p\">,</span><span class=\"mi\">2</span><span class=\"p\">,</span><span class=\"s2\">&quot;e&quot;</span><span class=\"p\">,</span><span class=\"mi\">2</span><span class=\"p\">)</span> <span class=\"nf\">arc</span><span class=\"p\">(</span><span class=\"s2\">&quot;Z&quot;</span><span class=\"p\">,</span><span class=\"mi\">1</span><span class=\"p\">,</span><span class=\"s2\">&quot;e&quot;</span><span class=\"p\">,</span><span class=\"mi\">3</span><span class=\"p\">)</span> <span class=\"nf\">arc</span><span class=\"p\">(</span><span class=\"s2\">&quot;X&quot;</span><span class=\"p\">,</span><span class=\"mi\">2</span><span class=\"p\">,</span><span class=\"s2\">&quot;e&quot;</span><span class=\"p\">,</span><span class=\"mi\">3</span><span class=\"p\">)</span> <span class=\"nf\">newArc</span><span class=\"p\">(</span><span class=\"s2\">&quot;X&quot;</span><span class=\"p\">,</span><span class=\"mi\">1</span><span class=\"p\">,</span><span class=\"s2\">&quot;e&quot;</span><span class=\"p\">,</span><span class=\"mi\">1</span><span class=\"p\">)</span> <span class=\"nf\">newArc</span><span class=\"p\">(</span><span class=\"s2\">&quot;X&quot;</span><span class=\"p\">,</span><span class=\"mi\">2</span><span class=\"p\">,</span><span class=\"s2\">&quot;e&quot;</span><span class=\"p\">,</span><span class=\"mi\">3</span><span class=\"p\">)</span> <span class=\"nf\">eqOrd</span><span class=\"p\">(</span><span class=\"s2\">&quot;X&quot;</span><span class=\"p\">,</span><span class=\"s2\">&quot;Y&quot;</span><span class=\"p\">,</span><span class=\"s s-Atom\">node</span><span class=\"p\">)</span> <span class=\"nf\">eqOrd</span><span class=\"p\">(</span><span class=\"s2\">&quot;X&quot;</span><span class=\"p\">,</span><span class=\"s2\">&quot;Z&quot;</span><span class=\"p\">,</span><span class=\"s s-Atom\">node</span><span class=\"p\">)</span> <span class=\"nf\">eqOrd</span><span class=\"p\">(</span><span class=\"s2\">&quot;Y&quot;</span><span class=\"p\">,</span><span class=\"s2\">&quot;Z&quot;</span><span class=\"p\">,</span><span class=\"s s-Atom\">node</span><span class=\"p\">)</span> <span class=\"nf\">newArc</span><span class=\"p\">(</span><span class=\"s2\">&quot;X&quot;</span><span class=\"p\">,</span><span class=\"mi\">2</span><span class=\"p\">,</span><span class=\"s2\">&quot;e&quot;</span><span class=\"p\">,</span><span class=\"mi\">1</span><span class=\"p\">)</span> <span class=\"nf\">newArc</span><span class=\"p\">(</span><span class=\"s2\">&quot;X&quot;</span><span class=\"p\">,</span><span class=\"mi\">1</span><span class=\"p\">,</span><span class=\"s2\">&quot;e&quot;</span><span class=\"p\">,</span><span class=\"mi\">2</span><span class=\"p\">)</span> <span class=\"nf\">newArc</span><span class=\"p\">(</span><span class=\"s2\">&quot;X&quot;</span><span class=\"p\">,</span><span class=\"mi\">2</span><span class=\"p\">,</span><span class=\"s2\">&quot;e&quot;</span><span class=\"p\">,</span><span class=\"mi\">2</span><span class=\"p\">)</span> <span class=\"nf\">newArc</span><span class=\"p\">(</span><span class=\"s2\">&quot;X&quot;</span><span class=\"p\">,</span><span class=\"mi\">1</span><span class=\"p\">,</span><span class=\"s2\">&quot;e&quot;</span><span class=\"p\">,</span><span class=\"mi\">3</span><span class=\"p\">)</span> <span class=\"nf\">ne</span><span class=\"p\">(</span><span class=\"mi\">1</span><span class=\"p\">,</span><span class=\"s2\">&quot;X&quot;</span><span class=\"p\">,</span><span class=\"s2\">&quot;X&quot;</span><span class=\"p\">)</span> <span class=\"nf\">ne</span><span class=\"p\">(</span><span class=\"mi\">2</span><span class=\"p\">,</span><span class=\"s2\">&quot;X&quot;</span><span class=\"p\">,</span><span class=\"s2\">&quot;X&quot;</span><span class=\"p\">)</span> <span class=\"nf\">ne</span><span class=\"p\">(</span><span class=\"mi\">3</span><span class=\"p\">,</span><span class=\"s2\">&quot;X&quot;</span><span class=\"p\">,</span><span class=\"s2\">&quot;X&quot;</span><span class=\"p\">)</span> <span class=\"nf\">ne</span><span class=\"p\">(</span><span class=\"s2\">&quot;X&quot;</span><span class=\"p\">,</span><span class=\"s2\">&quot;X&quot;</span><span class=\"p\">)</span> <span class=\"nf\">newHArc</span><span class=\"p\">(</span><span class=\"s2\">&quot;X&quot;</span><span class=\"p\">,</span><span class=\"mi\">2</span><span class=\"p\">,</span><span class=\"s2\">&quot;tri&quot;</span><span class=\"p\">)</span> <span class=\"nf\">newHArc</span><span class=\"p\">(</span><span class=\"s2\">&quot;X&quot;</span><span class=\"p\">,</span><span class=\"mi\">3</span><span class=\"p\">,</span><span class=\"s2\">&quot;tri&quot;</span><span class=\"p\">)</span> <span class=\"nf\">eqOrdMinimal</span><span class=\"p\">(</span><span class=\"s2\">&quot;X&quot;</span><span class=\"p\">,</span><span class=\"s2\">&quot;Y&quot;</span><span class=\"p\">,</span><span class=\"s s-Atom\">node</span><span class=\"p\">)</span> <span class=\"nf\">eqOrdMinimal</span><span class=\"p\">(</span><span class=\"s2\">&quot;X&quot;</span><span class=\"p\">,</span><span class=\"s2\">&quot;Z&quot;</span><span class=\"p\">,</span><span class=\"s s-Atom\">node</span><span class=\"p\">)</span>\n",
       "<span class=\"lineno\">59 </span><span class=\"nv\">Answer</span><span class=\"s s-Atom\">:</span> <span class=\"mi\">30</span>\n",
       "<span class=\"lineno\">60 </span><span class=\"nf\">ruleH</span><span class=\"p\">(</span><span class=\"s2\">&quot;tri&quot;</span><span class=\"p\">)</span> <span class=\"nf\">newVar</span><span class=\"p\">(</span><span class=\"s2\">&quot;X&quot;</span><span class=\"p\">,</span><span class=\"s s-Atom\">node</span><span class=\"p\">)</span> <span class=\"nf\">ruleOcc</span><span class=\"p\">(</span><span class=\"s2\">&quot;e&quot;</span><span class=\"p\">,</span><span class=\"mi\">1</span><span class=\"p\">)</span> <span class=\"nf\">ruleOcc</span><span class=\"p\">(</span><span class=\"s2\">&quot;e&quot;</span><span class=\"p\">,</span><span class=\"mi\">2</span><span class=\"p\">)</span> <span class=\"nf\">ruleOcc</span><span class=\"p\">(</span><span class=\"s2\">&quot;e&quot;</span><span class=\"p\">,</span><span class=\"mi\">3</span><span class=\"p\">)</span> <span class=\"nf\">var</span><span class=\"p\">(</span><span class=\"s2\">&quot;X&quot;</span><span class=\"p\">,</span><span class=\"s s-Atom\">node</span><span class=\"p\">)</span> <span class=\"nf\">var</span><span class=\"p\">(</span><span class=\"s2\">&quot;Y&quot;</span><span class=\"p\">,</span><span class=\"s s-Atom\">node</span><span class=\"p\">)</span> <span class=\"nf\">var</span><span class=\"p\">(</span><span class=\"s2\">&quot;Z&quot;</span><span class=\"p\">,</span><span class=\"s s-Atom\">node</span><span class=\"p\">)</span> <span class=\"nf\">hArc</span><span class=\"p\">(</span><span class=\"s2\">&quot;Z&quot;</span><span class=\"p\">,</span><span class=\"mi\">3</span><span class=\"p\">,</span><span class=\"s2\">&quot;tri&quot;</span><span class=\"p\">)</span> <span class=\"nf\">hArc</span><span class=\"p\">(</span><span class=\"s2\">&quot;Y&quot;</span><span class=\"p\">,</span><span class=\"mi\">2</span><span class=\"p\">,</span><span class=\"s2\">&quot;tri&quot;</span><span class=\"p\">)</span> <span class=\"nf\">hArc</span><span class=\"p\">(</span><span class=\"s2\">&quot;X&quot;</span><span class=\"p\">,</span><span class=\"mi\">1</span><span class=\"p\">,</span><span class=\"s2\">&quot;tri&quot;</span><span class=\"p\">)</span> <span class=\"nf\">newHArc</span><span class=\"p\">(</span><span class=\"s2\">&quot;X&quot;</span><span class=\"p\">,</span><span class=\"mi\">1</span><span class=\"p\">,</span><span class=\"s2\">&quot;tri&quot;</span><span class=\"p\">)</span> <span class=\"nf\">arc</span><span class=\"p\">(</span><span class=\"s2\">&quot;X&quot;</span><span class=\"p\">,</span><span class=\"mi\">1</span><span class=\"p\">,</span><span class=\"s2\">&quot;e&quot;</span><span class=\"p\">,</span><span class=\"mi\">1</span><span class=\"p\">)</span> <span class=\"nf\">arc</span><span class=\"p\">(</span><span class=\"s2\">&quot;Y&quot;</span><span class=\"p\">,</span><span class=\"mi\">2</span><span class=\"p\">,</span><span class=\"s2\">&quot;e&quot;</span><span class=\"p\">,</span><span class=\"mi\">1</span><span class=\"p\">)</span> <span class=\"nf\">arc</span><span class=\"p\">(</span><span class=\"s2\">&quot;Y&quot;</span><span class=\"p\">,</span><span class=\"mi\">1</span><span class=\"p\">,</span><span class=\"s2\">&quot;e&quot;</span><span class=\"p\">,</span><span class=\"mi\">2</span><span class=\"p\">)</span> <span class=\"nf\">arc</span><span class=\"p\">(</span><span class=\"s2\">&quot;Z&quot;</span><span class=\"p\">,</span><span class=\"mi\">2</span><span class=\"p\">,</span><span class=\"s2\">&quot;e&quot;</span><span class=\"p\">,</span><span class=\"mi\">2</span><span class=\"p\">)</span> <span class=\"nf\">arc</span><span class=\"p\">(</span><span class=\"s2\">&quot;Z&quot;</span><span class=\"p\">,</span><span class=\"mi\">1</span><span class=\"p\">,</span><span class=\"s2\">&quot;e&quot;</span><span class=\"p\">,</span><span class=\"mi\">3</span><span class=\"p\">)</span> <span class=\"nf\">arc</span><span class=\"p\">(</span><span class=\"s2\">&quot;X&quot;</span><span class=\"p\">,</span><span class=\"mi\">2</span><span class=\"p\">,</span><span class=\"s2\">&quot;e&quot;</span><span class=\"p\">,</span><span class=\"mi\">3</span><span class=\"p\">)</span> <span class=\"nf\">newArc</span><span class=\"p\">(</span><span class=\"s2\">&quot;X&quot;</span><span class=\"p\">,</span><span class=\"mi\">1</span><span class=\"p\">,</span><span class=\"s2\">&quot;e&quot;</span><span class=\"p\">,</span><span class=\"mi\">1</span><span class=\"p\">)</span> <span class=\"nf\">newArc</span><span class=\"p\">(</span><span class=\"s2\">&quot;X&quot;</span><span class=\"p\">,</span><span class=\"mi\">2</span><span class=\"p\">,</span><span class=\"s2\">&quot;e&quot;</span><span class=\"p\">,</span><span class=\"mi\">3</span><span class=\"p\">)</span> <span class=\"nf\">eqOrd</span><span class=\"p\">(</span><span class=\"s2\">&quot;X&quot;</span><span class=\"p\">,</span><span class=\"s2\">&quot;Y&quot;</span><span class=\"p\">,</span><span class=\"s s-Atom\">node</span><span class=\"p\">)</span> <span class=\"nf\">newArc</span><span class=\"p\">(</span><span class=\"s2\">&quot;X&quot;</span><span class=\"p\">,</span><span class=\"mi\">2</span><span class=\"p\">,</span><span class=\"s2\">&quot;e&quot;</span><span class=\"p\">,</span><span class=\"mi\">1</span><span class=\"p\">)</span> <span class=\"nf\">newArc</span><span class=\"p\">(</span><span class=\"s2\">&quot;X&quot;</span><span class=\"p\">,</span><span class=\"mi\">1</span><span class=\"p\">,</span><span class=\"s2\">&quot;e&quot;</span><span class=\"p\">,</span><span class=\"mi\">2</span><span class=\"p\">)</span> <span class=\"nf\">newArc</span><span class=\"p\">(</span><span class=\"s2\">&quot;Z&quot;</span><span class=\"p\">,</span><span class=\"mi\">2</span><span class=\"p\">,</span><span class=\"s2\">&quot;e&quot;</span><span class=\"p\">,</span><span class=\"mi\">2</span><span class=\"p\">)</span> <span class=\"nf\">newArc</span><span class=\"p\">(</span><span class=\"s2\">&quot;Z&quot;</span><span class=\"p\">,</span><span class=\"mi\">1</span><span class=\"p\">,</span><span class=\"s2\">&quot;e&quot;</span><span class=\"p\">,</span><span class=\"mi\">3</span><span class=\"p\">)</span> <span class=\"nf\">ruleOccTrue</span><span class=\"p\">(</span><span class=\"s2\">&quot;e&quot;</span><span class=\"p\">,</span><span class=\"mi\">2</span><span class=\"p\">)</span> <span class=\"nf\">ne</span><span class=\"p\">(</span><span class=\"mi\">1</span><span class=\"p\">,</span><span class=\"s2\">&quot;X&quot;</span><span class=\"p\">,</span><span class=\"s2\">&quot;X&quot;</span><span class=\"p\">)</span> <span class=\"nf\">ne</span><span class=\"p\">(</span><span class=\"mi\">3</span><span class=\"p\">,</span><span class=\"s2\">&quot;Z&quot;</span><span class=\"p\">,</span><span class=\"s2\">&quot;X&quot;</span><span class=\"p\">)</span> <span class=\"nf\">ne</span><span class=\"p\">(</span><span class=\"s2\">&quot;X&quot;</span><span class=\"p\">,</span><span class=\"s2\">&quot;X&quot;</span><span class=\"p\">)</span> <span class=\"nf\">ne</span><span class=\"p\">(</span><span class=\"s2\">&quot;Z&quot;</span><span class=\"p\">,</span><span class=\"s2\">&quot;X&quot;</span><span class=\"p\">)</span> <span class=\"nf\">e</span><span class=\"p\">(</span><span class=\"mi\">2</span><span class=\"p\">,</span><span class=\"s2\">&quot;X&quot;</span><span class=\"p\">,</span><span class=\"s2\">&quot;Z&quot;</span><span class=\"p\">)</span> <span class=\"nf\">e</span><span class=\"p\">(</span><span class=\"s2\">&quot;X&quot;</span><span class=\"p\">,</span><span class=\"s2\">&quot;Z&quot;</span><span class=\"p\">)</span> <span class=\"nf\">newHArc</span><span class=\"p\">(</span><span class=\"s2\">&quot;Z&quot;</span><span class=\"p\">,</span><span class=\"mi\">3</span><span class=\"p\">,</span><span class=\"s2\">&quot;tri&quot;</span><span class=\"p\">)</span> <span class=\"nf\">newHArc</span><span class=\"p\">(</span><span class=\"s2\">&quot;X&quot;</span><span class=\"p\">,</span><span class=\"mi\">2</span><span class=\"p\">,</span><span class=\"s2\">&quot;tri&quot;</span><span class=\"p\">)</span> <span class=\"nf\">newVar</span><span class=\"p\">(</span><span class=\"s2\">&quot;Z&quot;</span><span class=\"p\">,</span><span class=\"s s-Atom\">node</span><span class=\"p\">)</span> <span class=\"nf\">neqOrd</span><span class=\"p\">(</span><span class=\"s2\">&quot;X&quot;</span><span class=\"p\">,</span><span class=\"s2\">&quot;Z&quot;</span><span class=\"p\">,</span><span class=\"s s-Atom\">node</span><span class=\"p\">)</span> <span class=\"nf\">eqOrdMinimal</span><span class=\"p\">(</span><span class=\"s2\">&quot;X&quot;</span><span class=\"p\">,</span><span class=\"s2\">&quot;Y&quot;</span><span class=\"p\">,</span><span class=\"s s-Atom\">node</span><span class=\"p\">)</span>\n",
       "<span class=\"lineno\">61 </span><span class=\"nv\">Answer</span><span class=\"s s-Atom\">:</span> <span class=\"mi\">31</span>\n",
       "<span class=\"lineno\">62 </span><span class=\"nf\">ruleH</span><span class=\"p\">(</span><span class=\"s2\">&quot;tri&quot;</span><span class=\"p\">)</span> <span class=\"nf\">newVar</span><span class=\"p\">(</span><span class=\"s2\">&quot;X&quot;</span><span class=\"p\">,</span><span class=\"s s-Atom\">node</span><span class=\"p\">)</span> <span class=\"nf\">ruleOcc</span><span class=\"p\">(</span><span class=\"s2\">&quot;e&quot;</span><span class=\"p\">,</span><span class=\"mi\">1</span><span class=\"p\">)</span> <span class=\"nf\">ruleOcc</span><span class=\"p\">(</span><span class=\"s2\">&quot;e&quot;</span><span class=\"p\">,</span><span class=\"mi\">2</span><span class=\"p\">)</span> <span class=\"nf\">ruleOcc</span><span class=\"p\">(</span><span class=\"s2\">&quot;e&quot;</span><span class=\"p\">,</span><span class=\"mi\">3</span><span class=\"p\">)</span> <span class=\"nf\">var</span><span class=\"p\">(</span><span class=\"s2\">&quot;X&quot;</span><span class=\"p\">,</span><span class=\"s s-Atom\">node</span><span class=\"p\">)</span> <span class=\"nf\">var</span><span class=\"p\">(</span><span class=\"s2\">&quot;Y&quot;</span><span class=\"p\">,</span><span class=\"s s-Atom\">node</span><span class=\"p\">)</span> <span class=\"nf\">var</span><span class=\"p\">(</span><span class=\"s2\">&quot;Z&quot;</span><span class=\"p\">,</span><span class=\"s s-Atom\">node</span><span class=\"p\">)</span> <span class=\"nf\">hArc</span><span class=\"p\">(</span><span class=\"s2\">&quot;Z&quot;</span><span class=\"p\">,</span><span class=\"mi\">3</span><span class=\"p\">,</span><span class=\"s2\">&quot;tri&quot;</span><span class=\"p\">)</span> <span class=\"nf\">hArc</span><span class=\"p\">(</span><span class=\"s2\">&quot;Y&quot;</span><span class=\"p\">,</span><span class=\"mi\">2</span><span class=\"p\">,</span><span class=\"s2\">&quot;tri&quot;</span><span class=\"p\">)</span> <span class=\"nf\">hArc</span><span class=\"p\">(</span><span class=\"s2\">&quot;X&quot;</span><span class=\"p\">,</span><span class=\"mi\">1</span><span class=\"p\">,</span><span class=\"s2\">&quot;tri&quot;</span><span class=\"p\">)</span> <span class=\"nf\">newHArc</span><span class=\"p\">(</span><span class=\"s2\">&quot;X&quot;</span><span class=\"p\">,</span><span class=\"mi\">1</span><span class=\"p\">,</span><span class=\"s2\">&quot;tri&quot;</span><span class=\"p\">)</span> <span class=\"nf\">arc</span><span class=\"p\">(</span><span class=\"s2\">&quot;X&quot;</span><span class=\"p\">,</span><span class=\"mi\">1</span><span class=\"p\">,</span><span class=\"s2\">&quot;e&quot;</span><span class=\"p\">,</span><span class=\"mi\">1</span><span class=\"p\">)</span> <span class=\"nf\">arc</span><span class=\"p\">(</span><span class=\"s2\">&quot;Y&quot;</span><span class=\"p\">,</span><span class=\"mi\">2</span><span class=\"p\">,</span><span class=\"s2\">&quot;e&quot;</span><span class=\"p\">,</span><span class=\"mi\">1</span><span class=\"p\">)</span> <span class=\"nf\">arc</span><span class=\"p\">(</span><span class=\"s2\">&quot;Y&quot;</span><span class=\"p\">,</span><span class=\"mi\">1</span><span class=\"p\">,</span><span class=\"s2\">&quot;e&quot;</span><span class=\"p\">,</span><span class=\"mi\">2</span><span class=\"p\">)</span> <span class=\"nf\">arc</span><span class=\"p\">(</span><span class=\"s2\">&quot;Z&quot;</span><span class=\"p\">,</span><span class=\"mi\">2</span><span class=\"p\">,</span><span class=\"s2\">&quot;e&quot;</span><span class=\"p\">,</span><span class=\"mi\">2</span><span class=\"p\">)</span> <span class=\"nf\">arc</span><span class=\"p\">(</span><span class=\"s2\">&quot;Z&quot;</span><span class=\"p\">,</span><span class=\"mi\">1</span><span class=\"p\">,</span><span class=\"s2\">&quot;e&quot;</span><span class=\"p\">,</span><span class=\"mi\">3</span><span class=\"p\">)</span> <span class=\"nf\">arc</span><span class=\"p\">(</span><span class=\"s2\">&quot;X&quot;</span><span class=\"p\">,</span><span class=\"mi\">2</span><span class=\"p\">,</span><span class=\"s2\">&quot;e&quot;</span><span class=\"p\">,</span><span class=\"mi\">3</span><span class=\"p\">)</span> <span class=\"nf\">newArc</span><span class=\"p\">(</span><span class=\"s2\">&quot;X&quot;</span><span class=\"p\">,</span><span class=\"mi\">1</span><span class=\"p\">,</span><span class=\"s2\">&quot;e&quot;</span><span class=\"p\">,</span><span class=\"mi\">1</span><span class=\"p\">)</span> <span class=\"nf\">newArc</span><span class=\"p\">(</span><span class=\"s2\">&quot;X&quot;</span><span class=\"p\">,</span><span class=\"mi\">2</span><span class=\"p\">,</span><span class=\"s2\">&quot;e&quot;</span><span class=\"p\">,</span><span class=\"mi\">3</span><span class=\"p\">)</span> <span class=\"nf\">eqOrd</span><span class=\"p\">(</span><span class=\"s2\">&quot;X&quot;</span><span class=\"p\">,</span><span class=\"s2\">&quot;Y&quot;</span><span class=\"p\">,</span><span class=\"s s-Atom\">node</span><span class=\"p\">)</span> <span class=\"nf\">newArc</span><span class=\"p\">(</span><span class=\"s2\">&quot;X&quot;</span><span class=\"p\">,</span><span class=\"mi\">2</span><span class=\"p\">,</span><span class=\"s2\">&quot;e&quot;</span><span class=\"p\">,</span><span class=\"mi\">1</span><span class=\"p\">)</span> <span class=\"nf\">newArc</span><span class=\"p\">(</span><span class=\"s2\">&quot;X&quot;</span><span class=\"p\">,</span><span class=\"mi\">1</span><span class=\"p\">,</span><span class=\"s2\">&quot;e&quot;</span><span class=\"p\">,</span><span class=\"mi\">2</span><span class=\"p\">)</span> <span class=\"nf\">newArc</span><span class=\"p\">(</span><span class=\"s2\">&quot;Z&quot;</span><span class=\"p\">,</span><span class=\"mi\">2</span><span class=\"p\">,</span><span class=\"s2\">&quot;e&quot;</span><span class=\"p\">,</span><span class=\"mi\">2</span><span class=\"p\">)</span> <span class=\"nf\">newArc</span><span class=\"p\">(</span><span class=\"s2\">&quot;Z&quot;</span><span class=\"p\">,</span><span class=\"mi\">1</span><span class=\"p\">,</span><span class=\"s2\">&quot;e&quot;</span><span class=\"p\">,</span><span class=\"mi\">3</span><span class=\"p\">)</span> <span class=\"nf\">ruleOccTrue</span><span class=\"p\">(</span><span class=\"s2\">&quot;e&quot;</span><span class=\"p\">,</span><span class=\"mi\">1</span><span class=\"p\">)</span> <span class=\"nf\">ruleOccTrue</span><span class=\"p\">(</span><span class=\"s2\">&quot;e&quot;</span><span class=\"p\">,</span><span class=\"mi\">2</span><span class=\"p\">)</span> <span class=\"nf\">ne</span><span class=\"p\">(</span><span class=\"mi\">3</span><span class=\"p\">,</span><span class=\"s2\">&quot;Z&quot;</span><span class=\"p\">,</span><span class=\"s2\">&quot;X&quot;</span><span class=\"p\">)</span> <span class=\"nf\">ne</span><span class=\"p\">(</span><span class=\"s2\">&quot;Z&quot;</span><span class=\"p\">,</span><span class=\"s2\">&quot;X&quot;</span><span class=\"p\">)</span> <span class=\"nf\">e</span><span class=\"p\">(</span><span class=\"mi\">1</span><span class=\"p\">,</span><span class=\"s2\">&quot;X&quot;</span><span class=\"p\">,</span><span class=\"s2\">&quot;X&quot;</span><span class=\"p\">)</span> <span class=\"nf\">e</span><span class=\"p\">(</span><span class=\"mi\">2</span><span class=\"p\">,</span><span class=\"s2\">&quot;X&quot;</span><span class=\"p\">,</span><span class=\"s2\">&quot;Z&quot;</span><span class=\"p\">)</span> <span class=\"nf\">e</span><span class=\"p\">(</span><span class=\"s2\">&quot;X&quot;</span><span class=\"p\">,</span><span class=\"s2\">&quot;X&quot;</span><span class=\"p\">)</span> <span class=\"nf\">e</span><span class=\"p\">(</span><span class=\"s2\">&quot;X&quot;</span><span class=\"p\">,</span><span class=\"s2\">&quot;Z&quot;</span><span class=\"p\">)</span> <span class=\"nf\">newHArc</span><span class=\"p\">(</span><span class=\"s2\">&quot;Z&quot;</span><span class=\"p\">,</span><span class=\"mi\">3</span><span class=\"p\">,</span><span class=\"s2\">&quot;tri&quot;</span><span class=\"p\">)</span> <span class=\"nf\">newHArc</span><span class=\"p\">(</span><span class=\"s2\">&quot;X&quot;</span><span class=\"p\">,</span><span class=\"mi\">2</span><span class=\"p\">,</span><span class=\"s2\">&quot;tri&quot;</span><span class=\"p\">)</span> <span class=\"nf\">newVar</span><span class=\"p\">(</span><span class=\"s2\">&quot;Z&quot;</span><span class=\"p\">,</span><span class=\"s s-Atom\">node</span><span class=\"p\">)</span> <span class=\"nf\">neqOrd</span><span class=\"p\">(</span><span class=\"s2\">&quot;X&quot;</span><span class=\"p\">,</span><span class=\"s2\">&quot;Z&quot;</span><span class=\"p\">,</span><span class=\"s s-Atom\">node</span><span class=\"p\">)</span> <span class=\"nf\">eqOrdMinimal</span><span class=\"p\">(</span><span class=\"s2\">&quot;X&quot;</span><span class=\"p\">,</span><span class=\"s2\">&quot;Y&quot;</span><span class=\"p\">,</span><span class=\"s s-Atom\">node</span><span class=\"p\">)</span>\n",
       "<span class=\"lineno\">63 </span><span class=\"nv\">Answer</span><span class=\"s s-Atom\">:</span> <span class=\"mi\">32</span>\n",
       "<span class=\"lineno\">64 </span><span class=\"nf\">ruleH</span><span class=\"p\">(</span><span class=\"s2\">&quot;tri&quot;</span><span class=\"p\">)</span> <span class=\"nf\">newVar</span><span class=\"p\">(</span><span class=\"s2\">&quot;X&quot;</span><span class=\"p\">,</span><span class=\"s s-Atom\">node</span><span class=\"p\">)</span> <span class=\"nf\">ruleOcc</span><span class=\"p\">(</span><span class=\"s2\">&quot;e&quot;</span><span class=\"p\">,</span><span class=\"mi\">1</span><span class=\"p\">)</span> <span class=\"nf\">ruleOcc</span><span class=\"p\">(</span><span class=\"s2\">&quot;e&quot;</span><span class=\"p\">,</span><span class=\"mi\">2</span><span class=\"p\">)</span> <span class=\"nf\">ruleOcc</span><span class=\"p\">(</span><span class=\"s2\">&quot;e&quot;</span><span class=\"p\">,</span><span class=\"mi\">3</span><span class=\"p\">)</span> <span class=\"nf\">var</span><span class=\"p\">(</span><span class=\"s2\">&quot;X&quot;</span><span class=\"p\">,</span><span class=\"s s-Atom\">node</span><span class=\"p\">)</span> <span class=\"nf\">var</span><span class=\"p\">(</span><span class=\"s2\">&quot;Y&quot;</span><span class=\"p\">,</span><span class=\"s s-Atom\">node</span><span class=\"p\">)</span> <span class=\"nf\">var</span><span class=\"p\">(</span><span class=\"s2\">&quot;Z&quot;</span><span class=\"p\">,</span><span class=\"s s-Atom\">node</span><span class=\"p\">)</span> <span class=\"nf\">hArc</span><span class=\"p\">(</span><span class=\"s2\">&quot;Z&quot;</span><span class=\"p\">,</span><span class=\"mi\">3</span><span class=\"p\">,</span><span class=\"s2\">&quot;tri&quot;</span><span class=\"p\">)</span> <span class=\"nf\">hArc</span><span class=\"p\">(</span><span class=\"s2\">&quot;Y&quot;</span><span class=\"p\">,</span><span class=\"mi\">2</span><span class=\"p\">,</span><span class=\"s2\">&quot;tri&quot;</span><span class=\"p\">)</span> <span class=\"nf\">hArc</span><span class=\"p\">(</span><span class=\"s2\">&quot;X&quot;</span><span class=\"p\">,</span><span class=\"mi\">1</span><span class=\"p\">,</span><span class=\"s2\">&quot;tri&quot;</span><span class=\"p\">)</span> <span class=\"nf\">newHArc</span><span class=\"p\">(</span><span class=\"s2\">&quot;X&quot;</span><span class=\"p\">,</span><span class=\"mi\">1</span><span class=\"p\">,</span><span class=\"s2\">&quot;tri&quot;</span><span class=\"p\">)</span> <span class=\"nf\">arc</span><span class=\"p\">(</span><span class=\"s2\">&quot;X&quot;</span><span class=\"p\">,</span><span class=\"mi\">1</span><span class=\"p\">,</span><span class=\"s2\">&quot;e&quot;</span><span class=\"p\">,</span><span class=\"mi\">1</span><span class=\"p\">)</span> <span class=\"nf\">arc</span><span class=\"p\">(</span><span class=\"s2\">&quot;Y&quot;</span><span class=\"p\">,</span><span class=\"mi\">2</span><span class=\"p\">,</span><span class=\"s2\">&quot;e&quot;</span><span class=\"p\">,</span><span class=\"mi\">1</span><span class=\"p\">)</span> <span class=\"nf\">arc</span><span class=\"p\">(</span><span class=\"s2\">&quot;Y&quot;</span><span class=\"p\">,</span><span class=\"mi\">1</span><span class=\"p\">,</span><span class=\"s2\">&quot;e&quot;</span><span class=\"p\">,</span><span class=\"mi\">2</span><span class=\"p\">)</span> <span class=\"nf\">arc</span><span class=\"p\">(</span><span class=\"s2\">&quot;Z&quot;</span><span class=\"p\">,</span><span class=\"mi\">2</span><span class=\"p\">,</span><span class=\"s2\">&quot;e&quot;</span><span class=\"p\">,</span><span class=\"mi\">2</span><span class=\"p\">)</span> <span class=\"nf\">arc</span><span class=\"p\">(</span><span class=\"s2\">&quot;Z&quot;</span><span class=\"p\">,</span><span class=\"mi\">1</span><span class=\"p\">,</span><span class=\"s2\">&quot;e&quot;</span><span class=\"p\">,</span><span class=\"mi\">3</span><span class=\"p\">)</span> <span class=\"nf\">arc</span><span class=\"p\">(</span><span class=\"s2\">&quot;X&quot;</span><span class=\"p\">,</span><span class=\"mi\">2</span><span class=\"p\">,</span><span class=\"s2\">&quot;e&quot;</span><span class=\"p\">,</span><span class=\"mi\">3</span><span class=\"p\">)</span> <span class=\"nf\">newArc</span><span class=\"p\">(</span><span class=\"s2\">&quot;X&quot;</span><span class=\"p\">,</span><span class=\"mi\">1</span><span class=\"p\">,</span><span class=\"s2\">&quot;e&quot;</span><span class=\"p\">,</span><span class=\"mi\">1</span><span class=\"p\">)</span> <span class=\"nf\">newArc</span><span class=\"p\">(</span><span class=\"s2\">&quot;X&quot;</span><span class=\"p\">,</span><span class=\"mi\">2</span><span class=\"p\">,</span><span class=\"s2\">&quot;e&quot;</span><span class=\"p\">,</span><span class=\"mi\">3</span><span class=\"p\">)</span> <span class=\"nf\">eqOrd</span><span class=\"p\">(</span><span class=\"s2\">&quot;X&quot;</span><span class=\"p\">,</span><span class=\"s2\">&quot;Y&quot;</span><span class=\"p\">,</span><span class=\"s s-Atom\">node</span><span class=\"p\">)</span> <span class=\"nf\">newArc</span><span class=\"p\">(</span><span class=\"s2\">&quot;X&quot;</span><span class=\"p\">,</span><span class=\"mi\">2</span><span class=\"p\">,</span><span class=\"s2\">&quot;e&quot;</span><span class=\"p\">,</span><span class=\"mi\">1</span><span class=\"p\">)</span> <span class=\"nf\">newArc</span><span class=\"p\">(</span><span class=\"s2\">&quot;X&quot;</span><span class=\"p\">,</span><span class=\"mi\">1</span><span class=\"p\">,</span><span class=\"s2\">&quot;e&quot;</span><span class=\"p\">,</span><span class=\"mi\">2</span><span class=\"p\">)</span> <span class=\"nf\">newArc</span><span class=\"p\">(</span><span class=\"s2\">&quot;Z&quot;</span><span class=\"p\">,</span><span class=\"mi\">2</span><span class=\"p\">,</span><span class=\"s2\">&quot;e&quot;</span><span class=\"p\">,</span><span class=\"mi\">2</span><span class=\"p\">)</span> <span class=\"nf\">newArc</span><span class=\"p\">(</span><span class=\"s2\">&quot;Z&quot;</span><span class=\"p\">,</span><span class=\"mi\">1</span><span class=\"p\">,</span><span class=\"s2\">&quot;e&quot;</span><span class=\"p\">,</span><span class=\"mi\">3</span><span class=\"p\">)</span> <span class=\"nf\">ruleOccTrue</span><span class=\"p\">(</span><span class=\"s2\">&quot;e&quot;</span><span class=\"p\">,</span><span class=\"mi\">2</span><span class=\"p\">)</span> <span class=\"nf\">ruleOccTrue</span><span class=\"p\">(</span><span class=\"s2\">&quot;e&quot;</span><span class=\"p\">,</span><span class=\"mi\">3</span><span class=\"p\">)</span> <span class=\"nf\">ne</span><span class=\"p\">(</span><span class=\"mi\">1</span><span class=\"p\">,</span><span class=\"s2\">&quot;X&quot;</span><span class=\"p\">,</span><span class=\"s2\">&quot;X&quot;</span><span class=\"p\">)</span> <span class=\"nf\">ne</span><span class=\"p\">(</span><span class=\"s2\">&quot;X&quot;</span><span class=\"p\">,</span><span class=\"s2\">&quot;X&quot;</span><span class=\"p\">)</span> <span class=\"nf\">e</span><span class=\"p\">(</span><span class=\"mi\">2</span><span class=\"p\">,</span><span class=\"s2\">&quot;X&quot;</span><span class=\"p\">,</span><span class=\"s2\">&quot;Z&quot;</span><span class=\"p\">)</span> <span class=\"nf\">e</span><span class=\"p\">(</span><span class=\"mi\">3</span><span class=\"p\">,</span><span class=\"s2\">&quot;Z&quot;</span><span class=\"p\">,</span><span class=\"s2\">&quot;X&quot;</span><span class=\"p\">)</span> <span class=\"nf\">e</span><span class=\"p\">(</span><span class=\"s2\">&quot;X&quot;</span><span class=\"p\">,</span><span class=\"s2\">&quot;Z&quot;</span><span class=\"p\">)</span> <span class=\"nf\">e</span><span class=\"p\">(</span><span class=\"s2\">&quot;Z&quot;</span><span class=\"p\">,</span><span class=\"s2\">&quot;X&quot;</span><span class=\"p\">)</span> <span class=\"nf\">newHArc</span><span class=\"p\">(</span><span class=\"s2\">&quot;Z&quot;</span><span class=\"p\">,</span><span class=\"mi\">3</span><span class=\"p\">,</span><span class=\"s2\">&quot;tri&quot;</span><span class=\"p\">)</span> <span class=\"nf\">newHArc</span><span class=\"p\">(</span><span class=\"s2\">&quot;X&quot;</span><span class=\"p\">,</span><span class=\"mi\">2</span><span class=\"p\">,</span><span class=\"s2\">&quot;tri&quot;</span><span class=\"p\">)</span> <span class=\"nf\">newVar</span><span class=\"p\">(</span><span class=\"s2\">&quot;Z&quot;</span><span class=\"p\">,</span><span class=\"s s-Atom\">node</span><span class=\"p\">)</span> <span class=\"nf\">neqOrd</span><span class=\"p\">(</span><span class=\"s2\">&quot;X&quot;</span><span class=\"p\">,</span><span class=\"s2\">&quot;Z&quot;</span><span class=\"p\">,</span><span class=\"s s-Atom\">node</span><span class=\"p\">)</span> <span class=\"nf\">eqOrdMinimal</span><span class=\"p\">(</span><span class=\"s2\">&quot;X&quot;</span><span class=\"p\">,</span><span class=\"s2\">&quot;Y&quot;</span><span class=\"p\">,</span><span class=\"s s-Atom\">node</span><span class=\"p\">)</span>\n",
       "<span class=\"lineno\">65 </span><span class=\"nv\">Answer</span><span class=\"s s-Atom\">:</span> <span class=\"mi\">33</span>\n",
       "<span class=\"lineno\">66 </span><span class=\"nf\">ruleH</span><span class=\"p\">(</span><span class=\"s2\">&quot;tri&quot;</span><span class=\"p\">)</span> <span class=\"nf\">newVar</span><span class=\"p\">(</span><span class=\"s2\">&quot;X&quot;</span><span class=\"p\">,</span><span class=\"s s-Atom\">node</span><span class=\"p\">)</span> <span class=\"nf\">ruleOcc</span><span class=\"p\">(</span><span class=\"s2\">&quot;e&quot;</span><span class=\"p\">,</span><span class=\"mi\">1</span><span class=\"p\">)</span> <span class=\"nf\">ruleOcc</span><span class=\"p\">(</span><span class=\"s2\">&quot;e&quot;</span><span class=\"p\">,</span><span class=\"mi\">2</span><span class=\"p\">)</span> <span class=\"nf\">ruleOcc</span><span class=\"p\">(</span><span class=\"s2\">&quot;e&quot;</span><span class=\"p\">,</span><span class=\"mi\">3</span><span class=\"p\">)</span> <span class=\"nf\">var</span><span class=\"p\">(</span><span class=\"s2\">&quot;X&quot;</span><span class=\"p\">,</span><span class=\"s s-Atom\">node</span><span class=\"p\">)</span> <span class=\"nf\">var</span><span class=\"p\">(</span><span class=\"s2\">&quot;Y&quot;</span><span class=\"p\">,</span><span class=\"s s-Atom\">node</span><span class=\"p\">)</span> <span class=\"nf\">var</span><span class=\"p\">(</span><span class=\"s2\">&quot;Z&quot;</span><span class=\"p\">,</span><span class=\"s s-Atom\">node</span><span class=\"p\">)</span> <span class=\"nf\">hArc</span><span class=\"p\">(</span><span class=\"s2\">&quot;Z&quot;</span><span class=\"p\">,</span><span class=\"mi\">3</span><span class=\"p\">,</span><span class=\"s2\">&quot;tri&quot;</span><span class=\"p\">)</span> <span class=\"nf\">hArc</span><span class=\"p\">(</span><span class=\"s2\">&quot;Y&quot;</span><span class=\"p\">,</span><span class=\"mi\">2</span><span class=\"p\">,</span><span class=\"s2\">&quot;tri&quot;</span><span class=\"p\">)</span> <span class=\"nf\">hArc</span><span class=\"p\">(</span><span class=\"s2\">&quot;X&quot;</span><span class=\"p\">,</span><span class=\"mi\">1</span><span class=\"p\">,</span><span class=\"s2\">&quot;tri&quot;</span><span class=\"p\">)</span> <span class=\"nf\">newHArc</span><span class=\"p\">(</span><span class=\"s2\">&quot;X&quot;</span><span class=\"p\">,</span><span class=\"mi\">1</span><span class=\"p\">,</span><span class=\"s2\">&quot;tri&quot;</span><span class=\"p\">)</span> <span class=\"nf\">arc</span><span class=\"p\">(</span><span class=\"s2\">&quot;X&quot;</span><span class=\"p\">,</span><span class=\"mi\">1</span><span class=\"p\">,</span><span class=\"s2\">&quot;e&quot;</span><span class=\"p\">,</span><span class=\"mi\">1</span><span class=\"p\">)</span> <span class=\"nf\">arc</span><span class=\"p\">(</span><span class=\"s2\">&quot;Y&quot;</span><span class=\"p\">,</span><span class=\"mi\">2</span><span class=\"p\">,</span><span class=\"s2\">&quot;e&quot;</span><span class=\"p\">,</span><span class=\"mi\">1</span><span class=\"p\">)</span> <span class=\"nf\">arc</span><span class=\"p\">(</span><span class=\"s2\">&quot;Y&quot;</span><span class=\"p\">,</span><span class=\"mi\">1</span><span class=\"p\">,</span><span class=\"s2\">&quot;e&quot;</span><span class=\"p\">,</span><span class=\"mi\">2</span><span class=\"p\">)</span> <span class=\"nf\">arc</span><span class=\"p\">(</span><span class=\"s2\">&quot;Z&quot;</span><span class=\"p\">,</span><span class=\"mi\">2</span><span class=\"p\">,</span><span class=\"s2\">&quot;e&quot;</span><span class=\"p\">,</span><span class=\"mi\">2</span><span class=\"p\">)</span> <span class=\"nf\">arc</span><span class=\"p\">(</span><span class=\"s2\">&quot;Z&quot;</span><span class=\"p\">,</span><span class=\"mi\">1</span><span class=\"p\">,</span><span class=\"s2\">&quot;e&quot;</span><span class=\"p\">,</span><span class=\"mi\">3</span><span class=\"p\">)</span> <span class=\"nf\">arc</span><span class=\"p\">(</span><span class=\"s2\">&quot;X&quot;</span><span class=\"p\">,</span><span class=\"mi\">2</span><span class=\"p\">,</span><span class=\"s2\">&quot;e&quot;</span><span class=\"p\">,</span><span class=\"mi\">3</span><span class=\"p\">)</span> <span class=\"nf\">newArc</span><span class=\"p\">(</span><span class=\"s2\">&quot;X&quot;</span><span class=\"p\">,</span><span class=\"mi\">1</span><span class=\"p\">,</span><span class=\"s2\">&quot;e&quot;</span><span class=\"p\">,</span><span class=\"mi\">1</span><span class=\"p\">)</span> <span class=\"nf\">newArc</span><span class=\"p\">(</span><span class=\"s2\">&quot;X&quot;</span><span class=\"p\">,</span><span class=\"mi\">2</span><span class=\"p\">,</span><span class=\"s2\">&quot;e&quot;</span><span class=\"p\">,</span><span class=\"mi\">3</span><span class=\"p\">)</span> <span class=\"nf\">eqOrd</span><span class=\"p\">(</span><span class=\"s2\">&quot;X&quot;</span><span class=\"p\">,</span><span class=\"s2\">&quot;Y&quot;</span><span class=\"p\">,</span><span class=\"s s-Atom\">node</span><span class=\"p\">)</span> <span class=\"nf\">newArc</span><span class=\"p\">(</span><span class=\"s2\">&quot;X&quot;</span><span class=\"p\">,</span><span class=\"mi\">2</span><span class=\"p\">,</span><span class=\"s2\">&quot;e&quot;</span><span class=\"p\">,</span><span class=\"mi\">1</span><span class=\"p\">)</span> <span class=\"nf\">newArc</span><span class=\"p\">(</span><span class=\"s2\">&quot;X&quot;</span><span class=\"p\">,</span><span class=\"mi\">1</span><span class=\"p\">,</span><span class=\"s2\">&quot;e&quot;</span><span class=\"p\">,</span><span class=\"mi\">2</span><span class=\"p\">)</span> <span class=\"nf\">newArc</span><span class=\"p\">(</span><span class=\"s2\">&quot;Z&quot;</span><span class=\"p\">,</span><span class=\"mi\">2</span><span class=\"p\">,</span><span class=\"s2\">&quot;e&quot;</span><span class=\"p\">,</span><span class=\"mi\">2</span><span class=\"p\">)</span> <span class=\"nf\">newArc</span><span class=\"p\">(</span><span class=\"s2\">&quot;Z&quot;</span><span class=\"p\">,</span><span class=\"mi\">1</span><span class=\"p\">,</span><span class=\"s2\">&quot;e&quot;</span><span class=\"p\">,</span><span class=\"mi\">3</span><span class=\"p\">)</span> <span class=\"nf\">ruleOccTrue</span><span class=\"p\">(</span><span class=\"s2\">&quot;e&quot;</span><span class=\"p\">,</span><span class=\"mi\">1</span><span class=\"p\">)</span> <span class=\"nf\">ruleOccTrue</span><span class=\"p\">(</span><span class=\"s2\">&quot;e&quot;</span><span class=\"p\">,</span><span class=\"mi\">2</span><span class=\"p\">)</span> <span class=\"nf\">ruleOccTrue</span><span class=\"p\">(</span><span class=\"s2\">&quot;e&quot;</span><span class=\"p\">,</span><span class=\"mi\">3</span><span class=\"p\">)</span> <span class=\"nf\">e</span><span class=\"p\">(</span><span class=\"mi\">1</span><span class=\"p\">,</span><span class=\"s2\">&quot;X&quot;</span><span class=\"p\">,</span><span class=\"s2\">&quot;X&quot;</span><span class=\"p\">)</span> <span class=\"nf\">e</span><span class=\"p\">(</span><span class=\"mi\">2</span><span class=\"p\">,</span><span class=\"s2\">&quot;X&quot;</span><span class=\"p\">,</span><span class=\"s2\">&quot;Z&quot;</span><span class=\"p\">)</span> <span class=\"nf\">e</span><span class=\"p\">(</span><span class=\"mi\">3</span><span class=\"p\">,</span><span class=\"s2\">&quot;Z&quot;</span><span class=\"p\">,</span><span class=\"s2\">&quot;X&quot;</span><span class=\"p\">)</span> <span class=\"nf\">e</span><span class=\"p\">(</span><span class=\"s2\">&quot;X&quot;</span><span class=\"p\">,</span><span class=\"s2\">&quot;X&quot;</span><span class=\"p\">)</span> <span class=\"nf\">e</span><span class=\"p\">(</span><span class=\"s2\">&quot;X&quot;</span><span class=\"p\">,</span><span class=\"s2\">&quot;Z&quot;</span><span class=\"p\">)</span> <span class=\"nf\">e</span><span class=\"p\">(</span><span class=\"s2\">&quot;Z&quot;</span><span class=\"p\">,</span><span class=\"s2\">&quot;X&quot;</span><span class=\"p\">)</span> <span class=\"nf\">newHArc</span><span class=\"p\">(</span><span class=\"s2\">&quot;Z&quot;</span><span class=\"p\">,</span><span class=\"mi\">3</span><span class=\"p\">,</span><span class=\"s2\">&quot;tri&quot;</span><span class=\"p\">)</span> <span class=\"nf\">newHArc</span><span class=\"p\">(</span><span class=\"s2\">&quot;X&quot;</span><span class=\"p\">,</span><span class=\"mi\">2</span><span class=\"p\">,</span><span class=\"s2\">&quot;tri&quot;</span><span class=\"p\">)</span> <span class=\"nf\">newVar</span><span class=\"p\">(</span><span class=\"s2\">&quot;Z&quot;</span><span class=\"p\">,</span><span class=\"s s-Atom\">node</span><span class=\"p\">)</span> <span class=\"nf\">neqOrd</span><span class=\"p\">(</span><span class=\"s2\">&quot;X&quot;</span><span class=\"p\">,</span><span class=\"s2\">&quot;Z&quot;</span><span class=\"p\">,</span><span class=\"s s-Atom\">node</span><span class=\"p\">)</span> <span class=\"nf\">eqOrdMinimal</span><span class=\"p\">(</span><span class=\"s2\">&quot;X&quot;</span><span class=\"p\">,</span><span class=\"s2\">&quot;Y&quot;</span><span class=\"p\">,</span><span class=\"s s-Atom\">node</span><span class=\"p\">)</span> <span class=\"nf\">ruleHTrue</span><span class=\"p\">(</span><span class=\"s2\">&quot;tri&quot;</span><span class=\"p\">)</span>\n",
       "<span class=\"lineno\">67 </span><span class=\"nv\">Answer</span><span class=\"s s-Atom\">:</span> <span class=\"mi\">34</span>\n",
       "<span class=\"lineno\">68 </span><span class=\"nf\">ruleH</span><span class=\"p\">(</span><span class=\"s2\">&quot;tri&quot;</span><span class=\"p\">)</span> <span class=\"nf\">newVar</span><span class=\"p\">(</span><span class=\"s2\">&quot;X&quot;</span><span class=\"p\">,</span><span class=\"s s-Atom\">node</span><span class=\"p\">)</span> <span class=\"nf\">ruleOcc</span><span class=\"p\">(</span><span class=\"s2\">&quot;e&quot;</span><span class=\"p\">,</span><span class=\"mi\">1</span><span class=\"p\">)</span> <span class=\"nf\">ruleOcc</span><span class=\"p\">(</span><span class=\"s2\">&quot;e&quot;</span><span class=\"p\">,</span><span class=\"mi\">2</span><span class=\"p\">)</span> <span class=\"nf\">ruleOcc</span><span class=\"p\">(</span><span class=\"s2\">&quot;e&quot;</span><span class=\"p\">,</span><span class=\"mi\">3</span><span class=\"p\">)</span> <span class=\"nf\">var</span><span class=\"p\">(</span><span class=\"s2\">&quot;X&quot;</span><span class=\"p\">,</span><span class=\"s s-Atom\">node</span><span class=\"p\">)</span> <span class=\"nf\">var</span><span class=\"p\">(</span><span class=\"s2\">&quot;Y&quot;</span><span class=\"p\">,</span><span class=\"s s-Atom\">node</span><span class=\"p\">)</span> <span class=\"nf\">var</span><span class=\"p\">(</span><span class=\"s2\">&quot;Z&quot;</span><span class=\"p\">,</span><span class=\"s s-Atom\">node</span><span class=\"p\">)</span> <span class=\"nf\">hArc</span><span class=\"p\">(</span><span class=\"s2\">&quot;Z&quot;</span><span class=\"p\">,</span><span class=\"mi\">3</span><span class=\"p\">,</span><span class=\"s2\">&quot;tri&quot;</span><span class=\"p\">)</span> <span class=\"nf\">hArc</span><span class=\"p\">(</span><span class=\"s2\">&quot;Y&quot;</span><span class=\"p\">,</span><span class=\"mi\">2</span><span class=\"p\">,</span><span class=\"s2\">&quot;tri&quot;</span><span class=\"p\">)</span> <span class=\"nf\">hArc</span><span class=\"p\">(</span><span class=\"s2\">&quot;X&quot;</span><span class=\"p\">,</span><span class=\"mi\">1</span><span class=\"p\">,</span><span class=\"s2\">&quot;tri&quot;</span><span class=\"p\">)</span> <span class=\"nf\">newHArc</span><span class=\"p\">(</span><span class=\"s2\">&quot;X&quot;</span><span class=\"p\">,</span><span class=\"mi\">1</span><span class=\"p\">,</span><span class=\"s2\">&quot;tri&quot;</span><span class=\"p\">)</span> <span class=\"nf\">arc</span><span class=\"p\">(</span><span class=\"s2\">&quot;X&quot;</span><span class=\"p\">,</span><span class=\"mi\">1</span><span class=\"p\">,</span><span class=\"s2\">&quot;e&quot;</span><span class=\"p\">,</span><span class=\"mi\">1</span><span class=\"p\">)</span> <span class=\"nf\">arc</span><span class=\"p\">(</span><span class=\"s2\">&quot;Y&quot;</span><span class=\"p\">,</span><span class=\"mi\">2</span><span class=\"p\">,</span><span class=\"s2\">&quot;e&quot;</span><span class=\"p\">,</span><span class=\"mi\">1</span><span class=\"p\">)</span> <span class=\"nf\">arc</span><span class=\"p\">(</span><span class=\"s2\">&quot;Y&quot;</span><span class=\"p\">,</span><span class=\"mi\">1</span><span class=\"p\">,</span><span class=\"s2\">&quot;e&quot;</span><span class=\"p\">,</span><span class=\"mi\">2</span><span class=\"p\">)</span> <span class=\"nf\">arc</span><span class=\"p\">(</span><span class=\"s2\">&quot;Z&quot;</span><span class=\"p\">,</span><span class=\"mi\">2</span><span class=\"p\">,</span><span class=\"s2\">&quot;e&quot;</span><span class=\"p\">,</span><span class=\"mi\">2</span><span class=\"p\">)</span> <span class=\"nf\">arc</span><span class=\"p\">(</span><span class=\"s2\">&quot;Z&quot;</span><span class=\"p\">,</span><span class=\"mi\">1</span><span class=\"p\">,</span><span class=\"s2\">&quot;e&quot;</span><span class=\"p\">,</span><span class=\"mi\">3</span><span class=\"p\">)</span> <span class=\"nf\">arc</span><span class=\"p\">(</span><span class=\"s2\">&quot;X&quot;</span><span class=\"p\">,</span><span class=\"mi\">2</span><span class=\"p\">,</span><span class=\"s2\">&quot;e&quot;</span><span class=\"p\">,</span><span class=\"mi\">3</span><span class=\"p\">)</span> <span class=\"nf\">newArc</span><span class=\"p\">(</span><span class=\"s2\">&quot;X&quot;</span><span class=\"p\">,</span><span class=\"mi\">1</span><span class=\"p\">,</span><span class=\"s2\">&quot;e&quot;</span><span class=\"p\">,</span><span class=\"mi\">1</span><span class=\"p\">)</span> <span class=\"nf\">newArc</span><span class=\"p\">(</span><span class=\"s2\">&quot;X&quot;</span><span class=\"p\">,</span><span class=\"mi\">2</span><span class=\"p\">,</span><span class=\"s2\">&quot;e&quot;</span><span class=\"p\">,</span><span class=\"mi\">3</span><span class=\"p\">)</span> <span class=\"nf\">eqOrd</span><span class=\"p\">(</span><span class=\"s2\">&quot;X&quot;</span><span class=\"p\">,</span><span class=\"s2\">&quot;Y&quot;</span><span class=\"p\">,</span><span class=\"s s-Atom\">node</span><span class=\"p\">)</span> <span class=\"nf\">eqOrd</span><span class=\"p\">(</span><span class=\"s2\">&quot;X&quot;</span><span class=\"p\">,</span><span class=\"s2\">&quot;Z&quot;</span><span class=\"p\">,</span><span class=\"s s-Atom\">node</span><span class=\"p\">)</span> <span class=\"nf\">eqOrd</span><span class=\"p\">(</span><span class=\"s2\">&quot;Y&quot;</span><span class=\"p\">,</span><span class=\"s2\">&quot;Z&quot;</span><span class=\"p\">,</span><span class=\"s s-Atom\">node</span><span class=\"p\">)</span> <span class=\"nf\">newArc</span><span class=\"p\">(</span><span class=\"s2\">&quot;X&quot;</span><span class=\"p\">,</span><span class=\"mi\">2</span><span class=\"p\">,</span><span class=\"s2\">&quot;e&quot;</span><span class=\"p\">,</span><span class=\"mi\">1</span><span class=\"p\">)</span> <span class=\"nf\">newArc</span><span class=\"p\">(</span><span class=\"s2\">&quot;X&quot;</span><span class=\"p\">,</span><span class=\"mi\">1</span><span class=\"p\">,</span><span class=\"s2\">&quot;e&quot;</span><span class=\"p\">,</span><span class=\"mi\">2</span><span class=\"p\">)</span> <span class=\"nf\">newArc</span><span class=\"p\">(</span><span class=\"s2\">&quot;X&quot;</span><span class=\"p\">,</span><span class=\"mi\">2</span><span class=\"p\">,</span><span class=\"s2\">&quot;e&quot;</span><span class=\"p\">,</span><span class=\"mi\">2</span><span class=\"p\">)</span> <span class=\"nf\">newArc</span><span class=\"p\">(</span><span class=\"s2\">&quot;X&quot;</span><span class=\"p\">,</span><span class=\"mi\">1</span><span class=\"p\">,</span><span class=\"s2\">&quot;e&quot;</span><span class=\"p\">,</span><span class=\"mi\">3</span><span class=\"p\">)</span> <span class=\"nf\">ruleOccTrue</span><span class=\"p\">(</span><span class=\"s2\">&quot;e&quot;</span><span class=\"p\">,</span><span class=\"mi\">1</span><span class=\"p\">)</span> <span class=\"nf\">ruleOccTrue</span><span class=\"p\">(</span><span class=\"s2\">&quot;e&quot;</span><span class=\"p\">,</span><span class=\"mi\">2</span><span class=\"p\">)</span> <span class=\"nf\">ruleOccTrue</span><span class=\"p\">(</span><span class=\"s2\">&quot;e&quot;</span><span class=\"p\">,</span><span class=\"mi\">3</span><span class=\"p\">)</span> <span class=\"nf\">e</span><span class=\"p\">(</span><span class=\"mi\">1</span><span class=\"p\">,</span><span class=\"s2\">&quot;X&quot;</span><span class=\"p\">,</span><span class=\"s2\">&quot;X&quot;</span><span class=\"p\">)</span> <span class=\"nf\">e</span><span class=\"p\">(</span><span class=\"mi\">2</span><span class=\"p\">,</span><span class=\"s2\">&quot;X&quot;</span><span class=\"p\">,</span><span class=\"s2\">&quot;X&quot;</span><span class=\"p\">)</span> <span class=\"nf\">e</span><span class=\"p\">(</span><span class=\"mi\">3</span><span class=\"p\">,</span><span class=\"s2\">&quot;X&quot;</span><span class=\"p\">,</span><span class=\"s2\">&quot;X&quot;</span><span class=\"p\">)</span> <span class=\"nf\">e</span><span class=\"p\">(</span><span class=\"s2\">&quot;X&quot;</span><span class=\"p\">,</span><span class=\"s2\">&quot;X&quot;</span><span class=\"p\">)</span> <span class=\"nf\">newHArc</span><span class=\"p\">(</span><span class=\"s2\">&quot;X&quot;</span><span class=\"p\">,</span><span class=\"mi\">2</span><span class=\"p\">,</span><span class=\"s2\">&quot;tri&quot;</span><span class=\"p\">)</span> <span class=\"nf\">newHArc</span><span class=\"p\">(</span><span class=\"s2\">&quot;X&quot;</span><span class=\"p\">,</span><span class=\"mi\">3</span><span class=\"p\">,</span><span class=\"s2\">&quot;tri&quot;</span><span class=\"p\">)</span> <span class=\"nf\">eqOrdMinimal</span><span class=\"p\">(</span><span class=\"s2\">&quot;X&quot;</span><span class=\"p\">,</span><span class=\"s2\">&quot;Y&quot;</span><span class=\"p\">,</span><span class=\"s s-Atom\">node</span><span class=\"p\">)</span> <span class=\"nf\">eqOrdMinimal</span><span class=\"p\">(</span><span class=\"s2\">&quot;X&quot;</span><span class=\"p\">,</span><span class=\"s2\">&quot;Z&quot;</span><span class=\"p\">,</span><span class=\"s s-Atom\">node</span><span class=\"p\">)</span> <span class=\"nf\">ruleHTrue</span><span class=\"p\">(</span><span class=\"s2\">&quot;tri&quot;</span><span class=\"p\">)</span>\n",
       "<span class=\"lineno\">69 </span><span class=\"nv\">SATISFIABLE</span>\n",
       "<span class=\"lineno\">70 </span>\n",
       "<span class=\"lineno\">71 </span><span class=\"nv\">Models</span>       <span class=\"s s-Atom\">:</span> <span class=\"mi\">34</span>\n",
       "<span class=\"lineno\">72 </span><span class=\"nv\">Calls</span>        <span class=\"s s-Atom\">:</span> <span class=\"mi\">1</span>\n",
       "<span class=\"lineno\">73 </span><span class=\"nv\">Time</span>         <span class=\"s s-Atom\">:</span> <span class=\"mf\">0.011</span><span class=\"nf\">s</span> <span class=\"p\">(</span><span class=\"nv\">Solving</span><span class=\"s s-Atom\">:</span> <span class=\"mf\">0.00</span><span class=\"s s-Atom\">s</span> <span class=\"mi\">1</span><span class=\"s s-Atom\">st</span> <span class=\"nv\">Model</span><span class=\"s s-Atom\">:</span> <span class=\"mf\">0.00</span><span class=\"s s-Atom\">s</span> <span class=\"nv\">Unsat</span><span class=\"s s-Atom\">:</span> <span class=\"mf\">0.00</span><span class=\"s s-Atom\">s</span><span class=\"p\">)</span>\n",
       "<span class=\"lineno\">74 </span><span class=\"nv\">CPU</span> <span class=\"nv\">Time</span>     <span class=\"s s-Atom\">:</span> <span class=\"mf\">0.010</span><span class=\"s s-Atom\">s</span>\n",
       "</pre></div>\n"
      ],
      "text/plain": [
       "'Answer: 1\\nruleH(\"tri\") newVar(\"X\",node) ruleOcc(\"e\",1) ruleOcc(\"e\",2) ruleOcc(\"e\",3) var(\"X\",node) var(\"Y\",node) var(\"Z\",node) hArc(\"Z\",3,\"tri\") hArc(\"Y\",2,\"tri\") hArc(\"X\",1,\"tri\") newHArc(\"X\",1,\"tri\") arc(\"X\",1,\"e\",1) arc(\"Y\",2,\"e\",1) arc(\"Y\",1,\"e\",2) arc(\"Z\",2,\"e\",2) arc(\"Z\",1,\"e\",3) arc(\"X\",2,\"e\",3) newArc(\"X\",1,\"e\",1) newArc(\"X\",2,\"e\",3) newArc(\"Y\",2,\"e\",1) newArc(\"Y\",1,\"e\",2) newArc(\"Z\",2,\"e\",2) newArc(\"Z\",1,\"e\",3) ne(1,\"X\",\"Y\") ne(2,\"Y\",\"Z\") ne(3,\"Z\",\"X\") ne(\"X\",\"Y\") ne(\"Y\",\"Z\") ne(\"Z\",\"X\") newHArc(\"Z\",3,\"tri\") newHArc(\"Y\",2,\"tri\") newVar(\"Y\",node) newVar(\"Z\",node) neqOrd(\"X\",\"Y\",node) neqOrd(\"X\",\"Z\",node) neqOrd(\"Y\",\"Z\",node)\\nAnswer: 2\\nruleH(\"tri\") newVar(\"X\",node) ruleOcc(\"e\",1) ruleOcc(\"e\",2) ruleOcc(\"e\",3) var(\"X\",node) var(\"Y\",node) var(\"Z\",node) hArc(\"Z\",3,\"tri\") hArc(\"Y\",2,\"tri\") hArc(\"X\",1,\"tri\") newHArc(\"X\",1,\"tri\") arc(\"X\",1,\"e\",1) arc(\"Y\",2,\"e\",1) arc(\"Y\",1,\"e\",2) arc(\"Z\",2,\"e\",2) arc(\"Z\",1,\"e\",3) arc(\"X\",2,\"e\",3) newArc(\"X\",1,\"e\",1) newArc(\"X\",2,\"e\",3) newArc(\"Y\",2,\"e\",1) newArc(\"Y\",1,\"e\",2) newArc(\"Z\",2,\"e\",2) newArc(\"Z\",1,\"e\",3) ruleOccTrue(\"e\",1) ne(2,\"Y\",\"Z\") ne(3,\"Z\",\"X\") ne(\"Y\",\"Z\") ne(\"Z\",\"X\") e(1,\"X\",\"Y\") e(\"X\",\"Y\") newHArc(\"Z\",3,\"tri\") newHArc(\"Y\",2,\"tri\") newVar(\"Y\",node) newVar(\"Z\",node) neqOrd(\"X\",\"Y\",node) neqOrd(\"X\",\"Z\",node) neqOrd(\"Y\",\"Z\",node)\\nAnswer: 3\\nruleH(\"tri\") newVar(\"X\",node) ruleOcc(\"e\",1) ruleOcc(\"e\",2) ruleOcc(\"e\",3) var(\"X\",node) var(\"Y\",node) var(\"Z\",node) hArc(\"Z\",3,\"tri\") hArc(\"Y\",2,\"tri\") hArc(\"X\",1,\"tri\") newHArc(\"X\",1,\"tri\") arc(\"X\",1,\"e\",1) arc(\"Y\",2,\"e\",1) arc(\"Y\",1,\"e\",2) arc(\"Z\",2,\"e\",2) arc(\"Z\",1,\"e\",3) arc(\"X\",2,\"e\",3) newArc(\"X\",1,\"e\",1) newArc(\"X\",2,\"e\",3) newArc(\"Y\",2,\"e\",1) newArc(\"Y\",1,\"e\",2) newArc(\"Z\",2,\"e\",2) newArc(\"Z\",1,\"e\",3) ruleOccTrue(\"e\",3) ne(1,\"X\",\"Y\") ne(2,\"Y\",\"Z\") ne(\"X\",\"Y\") ne(\"Y\",\"Z\") e(3,\"Z\",\"X\") e(\"Z\",\"X\") newHArc(\"Z\",3,\"tri\") newHArc(\"Y\",2,\"tri\") newVar(\"Y\",node) newVar(\"Z\",node) neqOrd(\"X\",\"Y\",node) neqOrd(\"X\",\"Z\",node) neqOrd(\"Y\",\"Z\",node)\\nAnswer: 4\\nruleH(\"tri\") newVar(\"X\",node) ruleOcc(\"e\",1) ruleOcc(\"e\",2) ruleOcc(\"e\",3) var(\"X\",node) var(\"Y\",node) var(\"Z\",node) hArc(\"Z\",3,\"tri\") hArc(\"Y\",2,\"tri\") hArc(\"X\",1,\"tri\") newHArc(\"X\",1,\"tri\") arc(\"X\",1,\"e\",1) arc(\"Y\",2,\"e\",1) arc(\"Y\",1,\"e\",2) arc(\"Z\",2,\"e\",2) arc(\"Z\",1,\"e\",3) arc(\"X\",2,\"e\",3) newArc(\"X\",1,\"e\",1) newArc(\"X\",2,\"e\",3) newArc(\"Y\",2,\"e\",1) newArc(\"Y\",1,\"e\",2) newArc(\"Z\",2,\"e\",2) newArc(\"Z\",1,\"e\",3) ruleOccTrue(\"e\",1) ruleOccTrue(\"e\",3) ne(2,\"Y\",\"Z\") ne(\"Y\",\"Z\") e(1,\"X\",\"Y\") e(3,\"Z\",\"X\") e(\"X\",\"Y\") e(\"Z\",\"X\") newHArc(\"Z\",3,\"tri\") newHArc(\"Y\",2,\"tri\") newVar(\"Y\",node) newVar(\"Z\",node) neqOrd(\"X\",\"Y\",node) neqOrd(\"X\",\"Z\",node) neqOrd(\"Y\",\"Z\",node)\\nAnswer: 5\\nruleH(\"tri\") newVar(\"X\",node) ruleOcc(\"e\",1) ruleOcc(\"e\",2) ruleOcc(\"e\",3) var(\"X\",node) var(\"Y\",node) var(\"Z\",node) hArc(\"Z\",3,\"tri\") hArc(\"Y\",2,\"tri\") hArc(\"X\",1,\"tri\") newHArc(\"X\",1,\"tri\") arc(\"X\",1,\"e\",1) arc(\"Y\",2,\"e\",1) arc(\"Y\",1,\"e\",2) arc(\"Z\",2,\"e\",2) arc(\"Z\",1,\"e\",3) arc(\"X\",2,\"e\",3) newArc(\"X\",1,\"e\",1) newArc(\"X\",2,\"e\",3) eqOrd(\"Y\",\"Z\",node) newArc(\"Y\",2,\"e\",2) newArc(\"Y\",1,\"e\",3) newArc(\"Y\",2,\"e\",1) newArc(\"Y\",1,\"e\",2) ne(2,\"Y\",\"Y\") ne(1,\"X\",\"Y\") ne(3,\"Y\",\"X\") ne(\"Y\",\"X\") ne(\"X\",\"Y\") ne(\"Y\",\"Y\") newHArc(\"Y\",2,\"tri\") newHArc(\"Y\",3,\"tri\") newVar(\"Y\",node) neqOrd(\"X\",\"Y\",node) eqOrdMinimal(\"Y\",\"Z\",node)\\nAnswer: 6\\nruleH(\"tri\") newVar(\"X\",node) ruleOcc(\"e\",1) ruleOcc(\"e\",2) ruleOcc(\"e\",3) var(\"X\",node) var(\"Y\",node) var(\"Z\",node) hArc(\"Z\",3,\"tri\") hArc(\"Y\",2,\"tri\") hArc(\"X\",1,\"tri\") newHArc(\"X\",1,\"tri\") arc(\"X\",1,\"e\",1) arc(\"Y\",2,\"e\",1) arc(\"Y\",1,\"e\",2) arc(\"Z\",2,\"e\",2) arc(\"Z\",1,\"e\",3) arc(\"X\",2,\"e\",3) newArc(\"X\",1,\"e\",1) newArc(\"X\",2,\"e\",3) eqOrd(\"Y\",\"Z\",node) newArc(\"Y\",2,\"e\",2) newArc(\"Y\",1,\"e\",3) newArc(\"Y\",2,\"e\",1) newArc(\"Y\",1,\"e\",2) ruleOccTrue(\"e\",1) ne(2,\"Y\",\"Y\") ne(3,\"Y\",\"X\") ne(\"Y\",\"X\") ne(\"Y\",\"Y\") e(1,\"X\",\"Y\") e(\"X\",\"Y\") newHArc(\"Y\",2,\"tri\") newHArc(\"Y\",3,\"tri\") newVar(\"Y\",node) neqOrd(\"X\",\"Y\",node) eqOrdMinimal(\"Y\",\"Z\",node)\\nAnswer: 7\\nruleH(\"tri\") newVar(\"X\",node) ruleOcc(\"e\",1) ruleOcc(\"e\",2) ruleOcc(\"e\",3) var(\"X\",node) var(\"Y\",node) var(\"Z\",node) hArc(\"Z\",3,\"tri\") hArc(\"Y\",2,\"tri\") hArc(\"X\",1,\"tri\") newHArc(\"X\",1,\"tri\") arc(\"X\",1,\"e\",1) arc(\"Y\",2,\"e\",1) arc(\"Y\",1,\"e\",2) arc(\"Z\",2,\"e\",2) arc(\"Z\",1,\"e\",3) arc(\"X\",2,\"e\",3) newArc(\"X\",1,\"e\",1) newArc(\"X\",2,\"e\",3) eqOrd(\"Y\",\"Z\",node) newArc(\"Y\",2,\"e\",2) newArc(\"Y\",1,\"e\",3) newArc(\"Y\",2,\"e\",1) newArc(\"Y\",1,\"e\",2) ruleOccTrue(\"e\",3) ne(2,\"Y\",\"Y\") ne(1,\"X\",\"Y\") ne(\"X\",\"Y\") ne(\"Y\",\"Y\") e(3,\"Y\",\"X\") e(\"Y\",\"X\") newHArc(\"Y\",2,\"tri\") newHArc(\"Y\",3,\"tri\") newVar(\"Y\",node) neqOrd(\"X\",\"Y\",node) eqOrdMinimal(\"Y\",\"Z\",node)\\nAnswer: 8\\nruleH(\"tri\") newVar(\"X\",node) ruleOcc(\"e\",1) ruleOcc(\"e\",2) ruleOcc(\"e\",3) var(\"X\",node) var(\"Y\",node) var(\"Z\",node) hArc(\"Z\",3,\"tri\") hArc(\"Y\",2,\"tri\") hArc(\"X\",1,\"tri\") newHArc(\"X\",1,\"tri\") arc(\"X\",1,\"e\",1) arc(\"Y\",2,\"e\",1) arc(\"Y\",1,\"e\",2) arc(\"Z\",2,\"e\",2) arc(\"Z\",1,\"e\",3) arc(\"X\",2,\"e\",3) newArc(\"X\",1,\"e\",1) newArc(\"X\",2,\"e\",3) eqOrd(\"Y\",\"Z\",node) newArc(\"Y\",2,\"e\",2) newArc(\"Y\",1,\"e\",3) newArc(\"Y\",2,\"e\",1) newArc(\"Y\",1,\"e\",2) ruleOccTrue(\"e\",1) ruleOccTrue(\"e\",3) ne(2,\"Y\",\"Y\") ne(\"Y\",\"Y\") e(1,\"X\",\"Y\") e(3,\"Y\",\"X\") e(\"X\",\"Y\") e(\"Y\",\"X\") newHArc(\"Y\",2,\"tri\") newHArc(\"Y\",3,\"tri\") newVar(\"Y\",node) neqOrd(\"X\",\"Y\",node) eqOrdMinimal(\"Y\",\"Z\",node)\\nAnswer: 9\\nruleH(\"tri\") newVar(\"X\",node) ruleOcc(\"e\",1) ruleOcc(\"e\",2) ruleOcc(\"e\",3) var(\"X\",node) var(\"Y\",node) var(\"Z\",node) hArc(\"Z\",3,\"tri\") hArc(\"Y\",2,\"tri\") hArc(\"X\",1,\"tri\") newHArc(\"X\",1,\"tri\") arc(\"X\",1,\"e\",1) arc(\"Y\",2,\"e\",1) arc(\"Y\",1,\"e\",2) arc(\"Z\",2,\"e\",2) arc(\"Z\",1,\"e\",3) arc(\"X\",2,\"e\",3) newArc(\"X\",1,\"e\",1) newArc(\"X\",2,\"e\",3) eqOrd(\"X\",\"Z\",node) newArc(\"X\",2,\"e\",2) newArc(\"X\",1,\"e\",3) newArc(\"Y\",2,\"e\",1) newArc(\"Y\",1,\"e\",2) ne(2,\"Y\",\"X\") ne(1,\"X\",\"Y\") ne(3,\"X\",\"X\") ne(\"X\",\"X\") ne(\"Y\",\"X\") ne(\"X\",\"Y\") newHArc(\"Y\",2,\"tri\") newHArc(\"X\",3,\"tri\") newVar(\"Y\",node) neqOrd(\"X\",\"Y\",node) eqOrdMinimal(\"X\",\"Z\",node)\\nAnswer: 10\\nruleH(\"tri\") newVar(\"X\",node) ruleOcc(\"e\",1) ruleOcc(\"e\",2) ruleOcc(\"e\",3) var(\"X\",node) var(\"Y\",node) var(\"Z\",node) hArc(\"Z\",3,\"tri\") hArc(\"Y\",2,\"tri\") hArc(\"X\",1,\"tri\") newHArc(\"X\",1,\"tri\") arc(\"X\",1,\"e\",1) arc(\"Y\",2,\"e\",1) arc(\"Y\",1,\"e\",2) arc(\"Z\",2,\"e\",2) arc(\"Z\",1,\"e\",3) arc(\"X\",2,\"e\",3) newArc(\"X\",1,\"e\",1) newArc(\"X\",2,\"e\",3) eqOrd(\"X\",\"Z\",node) newArc(\"X\",2,\"e\",2) newArc(\"X\",1,\"e\",3) newArc(\"Y\",2,\"e\",1) newArc(\"Y\",1,\"e\",2) ruleOccTrue(\"e\",1) ne(2,\"Y\",\"X\") ne(3,\"X\",\"X\") ne(\"X\",\"X\") ne(\"Y\",\"X\") e(1,\"X\",\"Y\") e(\"X\",\"Y\") newHArc(\"Y\",2,\"tri\") newHArc(\"X\",3,\"tri\") newVar(\"Y\",node) neqOrd(\"X\",\"Y\",node) eqOrdMinimal(\"X\",\"Z\",node)\\nAnswer: 11\\nruleH(\"tri\") newVar(\"X\",node) ruleOcc(\"e\",1) ruleOcc(\"e\",2) ruleOcc(\"e\",3) var(\"X\",node) var(\"Y\",node) var(\"Z\",node) hArc(\"Z\",3,\"tri\") hArc(\"Y\",2,\"tri\") hArc(\"X\",1,\"tri\") newHArc(\"X\",1,\"tri\") arc(\"X\",1,\"e\",1) arc(\"Y\",2,\"e\",1) arc(\"Y\",1,\"e\",2) arc(\"Z\",2,\"e\",2) arc(\"Z\",1,\"e\",3) arc(\"X\",2,\"e\",3) newArc(\"X\",1,\"e\",1) newArc(\"X\",2,\"e\",3) eqOrd(\"X\",\"Z\",node) newArc(\"X\",2,\"e\",2) newArc(\"X\",1,\"e\",3) newArc(\"Y\",2,\"e\",1) newArc(\"Y\",1,\"e\",2) ruleOccTrue(\"e\",3) ne(2,\"Y\",\"X\") ne(1,\"X\",\"Y\") ne(\"Y\",\"X\") ne(\"X\",\"Y\") e(3,\"X\",\"X\") e(\"X\",\"X\") newHArc(\"Y\",2,\"tri\") newHArc(\"X\",3,\"tri\") newVar(\"Y\",node) neqOrd(\"X\",\"Y\",node) eqOrdMinimal(\"X\",\"Z\",node)\\nAnswer: 12\\nruleH(\"tri\") newVar(\"X\",node) ruleOcc(\"e\",1) ruleOcc(\"e\",2) ruleOcc(\"e\",3) var(\"X\",node) var(\"Y\",node) var(\"Z\",node) hArc(\"Z\",3,\"tri\") hArc(\"Y\",2,\"tri\") hArc(\"X\",1,\"tri\") newHArc(\"X\",1,\"tri\") arc(\"X\",1,\"e\",1) arc(\"Y\",2,\"e\",1) arc(\"Y\",1,\"e\",2) arc(\"Z\",2,\"e\",2) arc(\"Z\",1,\"e\",3) arc(\"X\",2,\"e\",3) newArc(\"X\",1,\"e\",1) newArc(\"X\",2,\"e\",3) eqOrd(\"X\",\"Z\",node) newArc(\"X\",2,\"e\",2) newArc(\"X\",1,\"e\",3) newArc(\"Y\",2,\"e\",1) newArc(\"Y\",1,\"e\",2) ruleOccTrue(\"e\",1) ruleOccTrue(\"e\",3) ne(2,\"Y\",\"X\") ne(\"Y\",\"X\") e(1,\"X\",\"Y\") e(3,\"X\",\"X\") e(\"X\",\"X\") e(\"X\",\"Y\") newHArc(\"Y\",2,\"tri\") newHArc(\"X\",3,\"tri\") newVar(\"Y\",node) neqOrd(\"X\",\"Y\",node) eqOrdMinimal(\"X\",\"Z\",node)\\nAnswer: 13\\nruleH(\"tri\") newVar(\"X\",node) ruleOcc(\"e\",1) ruleOcc(\"e\",2) ruleOcc(\"e\",3) var(\"X\",node) var(\"Y\",node) var(\"Z\",node) hArc(\"Z\",3,\"tri\") hArc(\"Y\",2,\"tri\") hArc(\"X\",1,\"tri\") newHArc(\"X\",1,\"tri\") arc(\"X\",1,\"e\",1) arc(\"Y\",2,\"e\",1) arc(\"Y\",1,\"e\",2) arc(\"Z\",2,\"e\",2) arc(\"Z\",1,\"e\",3) arc(\"X\",2,\"e\",3) newArc(\"X\",1,\"e\",1) newArc(\"X\",2,\"e\",3) newArc(\"Y\",2,\"e\",1) newArc(\"Y\",1,\"e\",2) newArc(\"Z\",2,\"e\",2) newArc(\"Z\",1,\"e\",3) ruleOccTrue(\"e\",2) ne(1,\"X\",\"Y\") ne(3,\"Z\",\"X\") ne(\"X\",\"Y\") ne(\"Z\",\"X\") e(2,\"Y\",\"Z\") e(\"Y\",\"Z\") newHArc(\"Z\",3,\"tri\") newHArc(\"Y\",2,\"tri\") newVar(\"Y\",node) newVar(\"Z\",node) neqOrd(\"X\",\"Y\",node) neqOrd(\"X\",\"Z\",node) neqOrd(\"Y\",\"Z\",node)\\nAnswer: 14\\nruleH(\"tri\") newVar(\"X\",node) ruleOcc(\"e\",1) ruleOcc(\"e\",2) ruleOcc(\"e\",3) var(\"X\",node) var(\"Y\",node) var(\"Z\",node) hArc(\"Z\",3,\"tri\") hArc(\"Y\",2,\"tri\") hArc(\"X\",1,\"tri\") newHArc(\"X\",1,\"tri\") arc(\"X\",1,\"e\",1) arc(\"Y\",2,\"e\",1) arc(\"Y\",1,\"e\",2) arc(\"Z\",2,\"e\",2) arc(\"Z\",1,\"e\",3) arc(\"X\",2,\"e\",3) newArc(\"X\",1,\"e\",1) newArc(\"X\",2,\"e\",3) newArc(\"Y\",2,\"e\",1) newArc(\"Y\",1,\"e\",2) newArc(\"Z\",2,\"e\",2) newArc(\"Z\",1,\"e\",3) ruleOccTrue(\"e\",1) ruleOccTrue(\"e\",2) ne(3,\"Z\",\"X\") ne(\"Z\",\"X\") e(1,\"X\",\"Y\") e(2,\"Y\",\"Z\") e(\"X\",\"Y\") e(\"Y\",\"Z\") newHArc(\"Z\",3,\"tri\") newHArc(\"Y\",2,\"tri\") newVar(\"Y\",node) newVar(\"Z\",node) neqOrd(\"X\",\"Y\",node) neqOrd(\"X\",\"Z\",node) neqOrd(\"Y\",\"Z\",node)\\nAnswer: 15\\nruleH(\"tri\") newVar(\"X\",node) ruleOcc(\"e\",1) ruleOcc(\"e\",2) ruleOcc(\"e\",3) var(\"X\",node) var(\"Y\",node) var(\"Z\",node) hArc(\"Z\",3,\"tri\") hArc(\"Y\",2,\"tri\") hArc(\"X\",1,\"tri\") newHArc(\"X\",1,\"tri\") arc(\"X\",1,\"e\",1) arc(\"Y\",2,\"e\",1) arc(\"Y\",1,\"e\",2) arc(\"Z\",2,\"e\",2) arc(\"Z\",1,\"e\",3) arc(\"X\",2,\"e\",3) newArc(\"X\",1,\"e\",1) newArc(\"X\",2,\"e\",3) newArc(\"Y\",2,\"e\",1) newArc(\"Y\",1,\"e\",2) newArc(\"Z\",2,\"e\",2) newArc(\"Z\",1,\"e\",3) ruleOccTrue(\"e\",2) ruleOccTrue(\"e\",3) ne(1,\"X\",\"Y\") ne(\"X\",\"Y\") e(2,\"Y\",\"Z\") e(3,\"Z\",\"X\") e(\"Y\",\"Z\") e(\"Z\",\"X\") newHArc(\"Z\",3,\"tri\") newHArc(\"Y\",2,\"tri\") newVar(\"Y\",node) newVar(\"Z\",node) neqOrd(\"X\",\"Y\",node) neqOrd(\"X\",\"Z\",node) neqOrd(\"Y\",\"Z\",node)\\nAnswer: 16\\nruleH(\"tri\") newVar(\"X\",node) ruleOcc(\"e\",1) ruleOcc(\"e\",2) ruleOcc(\"e\",3) var(\"X\",node) var(\"Y\",node) var(\"Z\",node) hArc(\"Z\",3,\"tri\") hArc(\"Y\",2,\"tri\") hArc(\"X\",1,\"tri\") newHArc(\"X\",1,\"tri\") arc(\"X\",1,\"e\",1) arc(\"Y\",2,\"e\",1) arc(\"Y\",1,\"e\",2) arc(\"Z\",2,\"e\",2) arc(\"Z\",1,\"e\",3) arc(\"X\",2,\"e\",3) newArc(\"X\",1,\"e\",1) newArc(\"X\",2,\"e\",3) newArc(\"Y\",2,\"e\",1) newArc(\"Y\",1,\"e\",2) newArc(\"Z\",2,\"e\",2) newArc(\"Z\",1,\"e\",3) ruleOccTrue(\"e\",1) ruleOccTrue(\"e\",2) ruleOccTrue(\"e\",3) e(1,\"X\",\"Y\") e(2,\"Y\",\"Z\") e(3,\"Z\",\"X\") e(\"X\",\"Y\") e(\"Y\",\"Z\") e(\"Z\",\"X\") newHArc(\"Z\",3,\"tri\") newHArc(\"Y\",2,\"tri\") newVar(\"Y\",node) newVar(\"Z\",node) neqOrd(\"X\",\"Y\",node) neqOrd(\"X\",\"Z\",node) neqOrd(\"Y\",\"Z\",node) ruleHTrue(\"tri\")\\nAnswer: 17\\nruleH(\"tri\") newVar(\"X\",node) ruleOcc(\"e\",1) ruleOcc(\"e\",2) ruleOcc(\"e\",3) var(\"X\",node) var(\"Y\",node) var(\"Z\",node) hArc(\"Z\",3,\"tri\") hArc(\"Y\",2,\"tri\") hArc(\"X\",1,\"tri\") newHArc(\"X\",1,\"tri\") arc(\"X\",1,\"e\",1) arc(\"Y\",2,\"e\",1) arc(\"Y\",1,\"e\",2) arc(\"Z\",2,\"e\",2) arc(\"Z\",1,\"e\",3) arc(\"X\",2,\"e\",3) newArc(\"X\",1,\"e\",1) newArc(\"X\",2,\"e\",3) eqOrd(\"Y\",\"Z\",node) newArc(\"Y\",2,\"e\",2) newArc(\"Y\",1,\"e\",3) newArc(\"Y\",2,\"e\",1) newArc(\"Y\",1,\"e\",2) ruleOccTrue(\"e\",2) ne(1,\"X\",\"Y\") ne(3,\"Y\",\"X\") ne(\"Y\",\"X\") ne(\"X\",\"Y\") e(2,\"Y\",\"Y\") e(\"Y\",\"Y\") newHArc(\"Y\",2,\"tri\") newHArc(\"Y\",3,\"tri\") newVar(\"Y\",node) neqOrd(\"X\",\"Y\",node) eqOrdMinimal(\"Y\",\"Z\",node)\\nAnswer: 18\\nruleH(\"tri\") newVar(\"X\",node) ruleOcc(\"e\",1) ruleOcc(\"e\",2) ruleOcc(\"e\",3) var(\"X\",node) var(\"Y\",node) var(\"Z\",node) hArc(\"Z\",3,\"tri\") hArc(\"Y\",2,\"tri\") hArc(\"X\",1,\"tri\") newHArc(\"X\",1,\"tri\") arc(\"X\",1,\"e\",1) arc(\"Y\",2,\"e\",1) arc(\"Y\",1,\"e\",2) arc(\"Z\",2,\"e\",2) arc(\"Z\",1,\"e\",3) arc(\"X\",2,\"e\",3) newArc(\"X\",1,\"e\",1) newArc(\"X\",2,\"e\",3) eqOrd(\"Y\",\"Z\",node) newArc(\"Y\",2,\"e\",2) newArc(\"Y\",1,\"e\",3) newArc(\"Y\",2,\"e\",1) newArc(\"Y\",1,\"e\",2) ruleOccTrue(\"e\",1) ruleOccTrue(\"e\",2) ne(3,\"Y\",\"X\") ne(\"Y\",\"X\") e(1,\"X\",\"Y\") e(2,\"Y\",\"Y\") e(\"X\",\"Y\") e(\"Y\",\"Y\") newHArc(\"Y\",2,\"tri\") newHArc(\"Y\",3,\"tri\") newVar(\"Y\",node) neqOrd(\"X\",\"Y\",node) eqOrdMinimal(\"Y\",\"Z\",node)\\nAnswer: 19\\nruleH(\"tri\") newVar(\"X\",node) ruleOcc(\"e\",1) ruleOcc(\"e\",2) ruleOcc(\"e\",3) var(\"X\",node) var(\"Y\",node) var(\"Z\",node) hArc(\"Z\",3,\"tri\") hArc(\"Y\",2,\"tri\") hArc(\"X\",1,\"tri\") newHArc(\"X\",1,\"tri\") arc(\"X\",1,\"e\",1) arc(\"Y\",2,\"e\",1) arc(\"Y\",1,\"e\",2) arc(\"Z\",2,\"e\",2) arc(\"Z\",1,\"e\",3) arc(\"X\",2,\"e\",3) newArc(\"X\",1,\"e\",1) newArc(\"X\",2,\"e\",3) eqOrd(\"Y\",\"Z\",node) newArc(\"Y\",2,\"e\",2) newArc(\"Y\",1,\"e\",3) newArc(\"Y\",2,\"e\",1) newArc(\"Y\",1,\"e\",2) ruleOccTrue(\"e\",2) ruleOccTrue(\"e\",3) ne(1,\"X\",\"Y\") ne(\"X\",\"Y\") e(2,\"Y\",\"Y\") e(3,\"Y\",\"X\") e(\"Y\",\"X\") e(\"Y\",\"Y\") newHArc(\"Y\",2,\"tri\") newHArc(\"Y\",3,\"tri\") newVar(\"Y\",node) neqOrd(\"X\",\"Y\",node) eqOrdMinimal(\"Y\",\"Z\",node)\\nAnswer: 20\\nruleH(\"tri\") newVar(\"X\",node) ruleOcc(\"e\",1) ruleOcc(\"e\",2) ruleOcc(\"e\",3) var(\"X\",node) var(\"Y\",node) var(\"Z\",node) hArc(\"Z\",3,\"tri\") hArc(\"Y\",2,\"tri\") hArc(\"X\",1,\"tri\") newHArc(\"X\",1,\"tri\") arc(\"X\",1,\"e\",1) arc(\"Y\",2,\"e\",1) arc(\"Y\",1,\"e\",2) arc(\"Z\",2,\"e\",2) arc(\"Z\",1,\"e\",3) arc(\"X\",2,\"e\",3) newArc(\"X\",1,\"e\",1) newArc(\"X\",2,\"e\",3) eqOrd(\"Y\",\"Z\",node) newArc(\"Y\",2,\"e\",2) newArc(\"Y\",1,\"e\",3) newArc(\"Y\",2,\"e\",1) newArc(\"Y\",1,\"e\",2) ruleOccTrue(\"e\",1) ruleOccTrue(\"e\",2) ruleOccTrue(\"e\",3) e(1,\"X\",\"Y\") e(2,\"Y\",\"Y\") e(3,\"Y\",\"X\") e(\"X\",\"Y\") e(\"Y\",\"X\") e(\"Y\",\"Y\") newHArc(\"Y\",2,\"tri\") newHArc(\"Y\",3,\"tri\") newVar(\"Y\",node) neqOrd(\"X\",\"Y\",node) eqOrdMinimal(\"Y\",\"Z\",node) ruleHTrue(\"tri\")\\nAnswer: 21\\nruleH(\"tri\") newVar(\"X\",node) ruleOcc(\"e\",1) ruleOcc(\"e\",2) ruleOcc(\"e\",3) var(\"X\",node) var(\"Y\",node) var(\"Z\",node) hArc(\"Z\",3,\"tri\") hArc(\"Y\",2,\"tri\") hArc(\"X\",1,\"tri\") newHArc(\"X\",1,\"tri\") arc(\"X\",1,\"e\",1) arc(\"Y\",2,\"e\",1) arc(\"Y\",1,\"e\",2) arc(\"Z\",2,\"e\",2) arc(\"Z\",1,\"e\",3) arc(\"X\",2,\"e\",3) newArc(\"X\",1,\"e\",1) newArc(\"X\",2,\"e\",3) eqOrd(\"X\",\"Z\",node) newArc(\"X\",2,\"e\",2) newArc(\"X\",1,\"e\",3) newArc(\"Y\",2,\"e\",1) newArc(\"Y\",1,\"e\",2) ruleOccTrue(\"e\",2) ne(1,\"X\",\"Y\") ne(3,\"X\",\"X\") ne(\"X\",\"X\") ne(\"X\",\"Y\") e(2,\"Y\",\"X\") e(\"Y\",\"X\") newHArc(\"Y\",2,\"tri\") newHArc(\"X\",3,\"tri\") newVar(\"Y\",node) neqOrd(\"X\",\"Y\",node) eqOrdMinimal(\"X\",\"Z\",node)\\nAnswer: 22\\nruleH(\"tri\") newVar(\"X\",node) ruleOcc(\"e\",1) ruleOcc(\"e\",2) ruleOcc(\"e\",3) var(\"X\",node) var(\"Y\",node) var(\"Z\",node) hArc(\"Z\",3,\"tri\") hArc(\"Y\",2,\"tri\") hArc(\"X\",1,\"tri\") newHArc(\"X\",1,\"tri\") arc(\"X\",1,\"e\",1) arc(\"Y\",2,\"e\",1) arc(\"Y\",1,\"e\",2) arc(\"Z\",2,\"e\",2) arc(\"Z\",1,\"e\",3) arc(\"X\",2,\"e\",3) newArc(\"X\",1,\"e\",1) newArc(\"X\",2,\"e\",3) eqOrd(\"X\",\"Z\",node) newArc(\"X\",2,\"e\",2) newArc(\"X\",1,\"e\",3) newArc(\"Y\",2,\"e\",1) newArc(\"Y\",1,\"e\",2) ruleOccTrue(\"e\",1) ruleOccTrue(\"e\",2) ne(3,\"X\",\"X\") ne(\"X\",\"X\") e(1,\"X\",\"Y\") e(2,\"Y\",\"X\") e(\"X\",\"Y\") e(\"Y\",\"X\") newHArc(\"Y\",2,\"tri\") newHArc(\"X\",3,\"tri\") newVar(\"Y\",node) neqOrd(\"X\",\"Y\",node) eqOrdMinimal(\"X\",\"Z\",node)\\nAnswer: 23\\nruleH(\"tri\") newVar(\"X\",node) ruleOcc(\"e\",1) ruleOcc(\"e\",2) ruleOcc(\"e\",3) var(\"X\",node) var(\"Y\",node) var(\"Z\",node) hArc(\"Z\",3,\"tri\") hArc(\"Y\",2,\"tri\") hArc(\"X\",1,\"tri\") newHArc(\"X\",1,\"tri\") arc(\"X\",1,\"e\",1) arc(\"Y\",2,\"e\",1) arc(\"Y\",1,\"e\",2) arc(\"Z\",2,\"e\",2) arc(\"Z\",1,\"e\",3) arc(\"X\",2,\"e\",3) newArc(\"X\",1,\"e\",1) newArc(\"X\",2,\"e\",3) eqOrd(\"X\",\"Z\",node) newArc(\"X\",2,\"e\",2) newArc(\"X\",1,\"e\",3) newArc(\"Y\",2,\"e\",1) newArc(\"Y\",1,\"e\",2) ruleOccTrue(\"e\",2) ruleOccTrue(\"e\",3) ne(1,\"X\",\"Y\") ne(\"X\",\"Y\") e(2,\"Y\",\"X\") e(3,\"X\",\"X\") e(\"X\",\"X\") e(\"Y\",\"X\") newHArc(\"Y\",2,\"tri\") newHArc(\"X\",3,\"tri\") newVar(\"Y\",node) neqOrd(\"X\",\"Y\",node) eqOrdMinimal(\"X\",\"Z\",node)\\nAnswer: 24\\nruleH(\"tri\") newVar(\"X\",node) ruleOcc(\"e\",1) ruleOcc(\"e\",2) ruleOcc(\"e\",3) var(\"X\",node) var(\"Y\",node) var(\"Z\",node) hArc(\"Z\",3,\"tri\") hArc(\"Y\",2,\"tri\") hArc(\"X\",1,\"tri\") newHArc(\"X\",1,\"tri\") arc(\"X\",1,\"e\",1) arc(\"Y\",2,\"e\",1) arc(\"Y\",1,\"e\",2) arc(\"Z\",2,\"e\",2) arc(\"Z\",1,\"e\",3) arc(\"X\",2,\"e\",3) newArc(\"X\",1,\"e\",1) newArc(\"X\",2,\"e\",3) eqOrd(\"X\",\"Z\",node) newArc(\"X\",2,\"e\",2) newArc(\"X\",1,\"e\",3) newArc(\"Y\",2,\"e\",1) newArc(\"Y\",1,\"e\",2) ruleOccTrue(\"e\",1) ruleOccTrue(\"e\",2) ruleOccTrue(\"e\",3) e(1,\"X\",\"Y\") e(2,\"Y\",\"X\") e(3,\"X\",\"X\") e(\"X\",\"X\") e(\"X\",\"Y\") e(\"Y\",\"X\") newHArc(\"Y\",2,\"tri\") newHArc(\"X\",3,\"tri\") newVar(\"Y\",node) neqOrd(\"X\",\"Y\",node) eqOrdMinimal(\"X\",\"Z\",node) ruleHTrue(\"tri\")\\nAnswer: 25\\nruleH(\"tri\") newVar(\"X\",node) ruleOcc(\"e\",1) ruleOcc(\"e\",2) ruleOcc(\"e\",3) var(\"X\",node) var(\"Y\",node) var(\"Z\",node) hArc(\"Z\",3,\"tri\") hArc(\"Y\",2,\"tri\") hArc(\"X\",1,\"tri\") newHArc(\"X\",1,\"tri\") arc(\"X\",1,\"e\",1) arc(\"Y\",2,\"e\",1) arc(\"Y\",1,\"e\",2) arc(\"Z\",2,\"e\",2) arc(\"Z\",1,\"e\",3) arc(\"X\",2,\"e\",3) newArc(\"X\",1,\"e\",1) newArc(\"X\",2,\"e\",3) eqOrd(\"X\",\"Y\",node) newArc(\"X\",2,\"e\",1) newArc(\"X\",1,\"e\",2) newArc(\"Z\",2,\"e\",2) newArc(\"Z\",1,\"e\",3) ne(1,\"X\",\"X\") ne(2,\"X\",\"Z\") ne(3,\"Z\",\"X\") ne(\"X\",\"X\") ne(\"X\",\"Z\") ne(\"Z\",\"X\") newHArc(\"Z\",3,\"tri\") newHArc(\"X\",2,\"tri\") newVar(\"Z\",node) neqOrd(\"X\",\"Z\",node) eqOrdMinimal(\"X\",\"Y\",node)\\nAnswer: 26\\nruleH(\"tri\") newVar(\"X\",node) ruleOcc(\"e\",1) ruleOcc(\"e\",2) ruleOcc(\"e\",3) var(\"X\",node) var(\"Y\",node) var(\"Z\",node) hArc(\"Z\",3,\"tri\") hArc(\"Y\",2,\"tri\") hArc(\"X\",1,\"tri\") newHArc(\"X\",1,\"tri\") arc(\"X\",1,\"e\",1) arc(\"Y\",2,\"e\",1) arc(\"Y\",1,\"e\",2) arc(\"Z\",2,\"e\",2) arc(\"Z\",1,\"e\",3) arc(\"X\",2,\"e\",3) newArc(\"X\",1,\"e\",1) newArc(\"X\",2,\"e\",3) eqOrd(\"X\",\"Y\",node) newArc(\"X\",2,\"e\",1) newArc(\"X\",1,\"e\",2) newArc(\"Z\",2,\"e\",2) newArc(\"Z\",1,\"e\",3) ruleOccTrue(\"e\",1) ne(2,\"X\",\"Z\") ne(3,\"Z\",\"X\") ne(\"X\",\"Z\") ne(\"Z\",\"X\") e(1,\"X\",\"X\") e(\"X\",\"X\") newHArc(\"Z\",3,\"tri\") newHArc(\"X\",2,\"tri\") newVar(\"Z\",node) neqOrd(\"X\",\"Z\",node) eqOrdMinimal(\"X\",\"Y\",node)\\nAnswer: 27\\nruleH(\"tri\") newVar(\"X\",node) ruleOcc(\"e\",1) ruleOcc(\"e\",2) ruleOcc(\"e\",3) var(\"X\",node) var(\"Y\",node) var(\"Z\",node) hArc(\"Z\",3,\"tri\") hArc(\"Y\",2,\"tri\") hArc(\"X\",1,\"tri\") newHArc(\"X\",1,\"tri\") arc(\"X\",1,\"e\",1) arc(\"Y\",2,\"e\",1) arc(\"Y\",1,\"e\",2) arc(\"Z\",2,\"e\",2) arc(\"Z\",1,\"e\",3) arc(\"X\",2,\"e\",3) newArc(\"X\",1,\"e\",1) newArc(\"X\",2,\"e\",3) eqOrd(\"X\",\"Y\",node) newArc(\"X\",2,\"e\",1) newArc(\"X\",1,\"e\",2) newArc(\"Z\",2,\"e\",2) newArc(\"Z\",1,\"e\",3) ruleOccTrue(\"e\",3) ne(1,\"X\",\"X\") ne(2,\"X\",\"Z\") ne(\"X\",\"X\") ne(\"X\",\"Z\") e(3,\"Z\",\"X\") e(\"Z\",\"X\") newHArc(\"Z\",3,\"tri\") newHArc(\"X\",2,\"tri\") newVar(\"Z\",node) neqOrd(\"X\",\"Z\",node) eqOrdMinimal(\"X\",\"Y\",node)\\nAnswer: 28\\nruleH(\"tri\") newVar(\"X\",node) ruleOcc(\"e\",1) ruleOcc(\"e\",2) ruleOcc(\"e\",3) var(\"X\",node) var(\"Y\",node) var(\"Z\",node) hArc(\"Z\",3,\"tri\") hArc(\"Y\",2,\"tri\") hArc(\"X\",1,\"tri\") newHArc(\"X\",1,\"tri\") arc(\"X\",1,\"e\",1) arc(\"Y\",2,\"e\",1) arc(\"Y\",1,\"e\",2) arc(\"Z\",2,\"e\",2) arc(\"Z\",1,\"e\",3) arc(\"X\",2,\"e\",3) newArc(\"X\",1,\"e\",1) newArc(\"X\",2,\"e\",3) eqOrd(\"X\",\"Y\",node) newArc(\"X\",2,\"e\",1) newArc(\"X\",1,\"e\",2) newArc(\"Z\",2,\"e\",2) newArc(\"Z\",1,\"e\",3) ruleOccTrue(\"e\",1) ruleOccTrue(\"e\",3) ne(2,\"X\",\"Z\") ne(\"X\",\"Z\") e(1,\"X\",\"X\") e(3,\"Z\",\"X\") e(\"X\",\"X\") e(\"Z\",\"X\") newHArc(\"Z\",3,\"tri\") newHArc(\"X\",2,\"tri\") newVar(\"Z\",node) neqOrd(\"X\",\"Z\",node) eqOrdMinimal(\"X\",\"Y\",node)\\nAnswer: 29\\nruleH(\"tri\") newVar(\"X\",node) ruleOcc(\"e\",1) ruleOcc(\"e\",2) ruleOcc(\"e\",3) var(\"X\",node) var(\"Y\",node) var(\"Z\",node) hArc(\"Z\",3,\"tri\") hArc(\"Y\",2,\"tri\") hArc(\"X\",1,\"tri\") newHArc(\"X\",1,\"tri\") arc(\"X\",1,\"e\",1) arc(\"Y\",2,\"e\",1) arc(\"Y\",1,\"e\",2) arc(\"Z\",2,\"e\",2) arc(\"Z\",1,\"e\",3) arc(\"X\",2,\"e\",3) newArc(\"X\",1,\"e\",1) newArc(\"X\",2,\"e\",3) eqOrd(\"X\",\"Y\",node) eqOrd(\"X\",\"Z\",node) eqOrd(\"Y\",\"Z\",node) newArc(\"X\",2,\"e\",1) newArc(\"X\",1,\"e\",2) newArc(\"X\",2,\"e\",2) newArc(\"X\",1,\"e\",3) ne(1,\"X\",\"X\") ne(2,\"X\",\"X\") ne(3,\"X\",\"X\") ne(\"X\",\"X\") newHArc(\"X\",2,\"tri\") newHArc(\"X\",3,\"tri\") eqOrdMinimal(\"X\",\"Y\",node) eqOrdMinimal(\"X\",\"Z\",node)\\nAnswer: 30\\nruleH(\"tri\") newVar(\"X\",node) ruleOcc(\"e\",1) ruleOcc(\"e\",2) ruleOcc(\"e\",3) var(\"X\",node) var(\"Y\",node) var(\"Z\",node) hArc(\"Z\",3,\"tri\") hArc(\"Y\",2,\"tri\") hArc(\"X\",1,\"tri\") newHArc(\"X\",1,\"tri\") arc(\"X\",1,\"e\",1) arc(\"Y\",2,\"e\",1) arc(\"Y\",1,\"e\",2) arc(\"Z\",2,\"e\",2) arc(\"Z\",1,\"e\",3) arc(\"X\",2,\"e\",3) newArc(\"X\",1,\"e\",1) newArc(\"X\",2,\"e\",3) eqOrd(\"X\",\"Y\",node) newArc(\"X\",2,\"e\",1) newArc(\"X\",1,\"e\",2) newArc(\"Z\",2,\"e\",2) newArc(\"Z\",1,\"e\",3) ruleOccTrue(\"e\",2) ne(1,\"X\",\"X\") ne(3,\"Z\",\"X\") ne(\"X\",\"X\") ne(\"Z\",\"X\") e(2,\"X\",\"Z\") e(\"X\",\"Z\") newHArc(\"Z\",3,\"tri\") newHArc(\"X\",2,\"tri\") newVar(\"Z\",node) neqOrd(\"X\",\"Z\",node) eqOrdMinimal(\"X\",\"Y\",node)\\nAnswer: 31\\nruleH(\"tri\") newVar(\"X\",node) ruleOcc(\"e\",1) ruleOcc(\"e\",2) ruleOcc(\"e\",3) var(\"X\",node) var(\"Y\",node) var(\"Z\",node) hArc(\"Z\",3,\"tri\") hArc(\"Y\",2,\"tri\") hArc(\"X\",1,\"tri\") newHArc(\"X\",1,\"tri\") arc(\"X\",1,\"e\",1) arc(\"Y\",2,\"e\",1) arc(\"Y\",1,\"e\",2) arc(\"Z\",2,\"e\",2) arc(\"Z\",1,\"e\",3) arc(\"X\",2,\"e\",3) newArc(\"X\",1,\"e\",1) newArc(\"X\",2,\"e\",3) eqOrd(\"X\",\"Y\",node) newArc(\"X\",2,\"e\",1) newArc(\"X\",1,\"e\",2) newArc(\"Z\",2,\"e\",2) newArc(\"Z\",1,\"e\",3) ruleOccTrue(\"e\",1) ruleOccTrue(\"e\",2) ne(3,\"Z\",\"X\") ne(\"Z\",\"X\") e(1,\"X\",\"X\") e(2,\"X\",\"Z\") e(\"X\",\"X\") e(\"X\",\"Z\") newHArc(\"Z\",3,\"tri\") newHArc(\"X\",2,\"tri\") newVar(\"Z\",node) neqOrd(\"X\",\"Z\",node) eqOrdMinimal(\"X\",\"Y\",node)\\nAnswer: 32\\nruleH(\"tri\") newVar(\"X\",node) ruleOcc(\"e\",1) ruleOcc(\"e\",2) ruleOcc(\"e\",3) var(\"X\",node) var(\"Y\",node) var(\"Z\",node) hArc(\"Z\",3,\"tri\") hArc(\"Y\",2,\"tri\") hArc(\"X\",1,\"tri\") newHArc(\"X\",1,\"tri\") arc(\"X\",1,\"e\",1) arc(\"Y\",2,\"e\",1) arc(\"Y\",1,\"e\",2) arc(\"Z\",2,\"e\",2) arc(\"Z\",1,\"e\",3) arc(\"X\",2,\"e\",3) newArc(\"X\",1,\"e\",1) newArc(\"X\",2,\"e\",3) eqOrd(\"X\",\"Y\",node) newArc(\"X\",2,\"e\",1) newArc(\"X\",1,\"e\",2) newArc(\"Z\",2,\"e\",2) newArc(\"Z\",1,\"e\",3) ruleOccTrue(\"e\",2) ruleOccTrue(\"e\",3) ne(1,\"X\",\"X\") ne(\"X\",\"X\") e(2,\"X\",\"Z\") e(3,\"Z\",\"X\") e(\"X\",\"Z\") e(\"Z\",\"X\") newHArc(\"Z\",3,\"tri\") newHArc(\"X\",2,\"tri\") newVar(\"Z\",node) neqOrd(\"X\",\"Z\",node) eqOrdMinimal(\"X\",\"Y\",node)\\nAnswer: 33\\nruleH(\"tri\") newVar(\"X\",node) ruleOcc(\"e\",1) ruleOcc(\"e\",2) ruleOcc(\"e\",3) var(\"X\",node) var(\"Y\",node) var(\"Z\",node) hArc(\"Z\",3,\"tri\") hArc(\"Y\",2,\"tri\") hArc(\"X\",1,\"tri\") newHArc(\"X\",1,\"tri\") arc(\"X\",1,\"e\",1) arc(\"Y\",2,\"e\",1) arc(\"Y\",1,\"e\",2) arc(\"Z\",2,\"e\",2) arc(\"Z\",1,\"e\",3) arc(\"X\",2,\"e\",3) newArc(\"X\",1,\"e\",1) newArc(\"X\",2,\"e\",3) eqOrd(\"X\",\"Y\",node) newArc(\"X\",2,\"e\",1) newArc(\"X\",1,\"e\",2) newArc(\"Z\",2,\"e\",2) newArc(\"Z\",1,\"e\",3) ruleOccTrue(\"e\",1) ruleOccTrue(\"e\",2) ruleOccTrue(\"e\",3) e(1,\"X\",\"X\") e(2,\"X\",\"Z\") e(3,\"Z\",\"X\") e(\"X\",\"X\") e(\"X\",\"Z\") e(\"Z\",\"X\") newHArc(\"Z\",3,\"tri\") newHArc(\"X\",2,\"tri\") newVar(\"Z\",node) neqOrd(\"X\",\"Z\",node) eqOrdMinimal(\"X\",\"Y\",node) ruleHTrue(\"tri\")\\nAnswer: 34\\nruleH(\"tri\") newVar(\"X\",node) ruleOcc(\"e\",1) ruleOcc(\"e\",2) ruleOcc(\"e\",3) var(\"X\",node) var(\"Y\",node) var(\"Z\",node) hArc(\"Z\",3,\"tri\") hArc(\"Y\",2,\"tri\") hArc(\"X\",1,\"tri\") newHArc(\"X\",1,\"tri\") arc(\"X\",1,\"e\",1) arc(\"Y\",2,\"e\",1) arc(\"Y\",1,\"e\",2) arc(\"Z\",2,\"e\",2) arc(\"Z\",1,\"e\",3) arc(\"X\",2,\"e\",3) newArc(\"X\",1,\"e\",1) newArc(\"X\",2,\"e\",3) eqOrd(\"X\",\"Y\",node) eqOrd(\"X\",\"Z\",node) eqOrd(\"Y\",\"Z\",node) newArc(\"X\",2,\"e\",1) newArc(\"X\",1,\"e\",2) newArc(\"X\",2,\"e\",2) newArc(\"X\",1,\"e\",3) ruleOccTrue(\"e\",1) ruleOccTrue(\"e\",2) ruleOccTrue(\"e\",3) e(1,\"X\",\"X\") e(2,\"X\",\"X\") e(3,\"X\",\"X\") e(\"X\",\"X\") newHArc(\"X\",2,\"tri\") newHArc(\"X\",3,\"tri\") eqOrdMinimal(\"X\",\"Y\",node) eqOrdMinimal(\"X\",\"Z\",node) ruleHTrue(\"tri\")\\nSATISFIABLE\\n\\nModels       : 34\\nCalls        : 1\\nTime         : 0.011s (Solving: 0.00s 1st Model: 0.00s Unsat: 0.00s)\\nCPU Time     : 0.010s'"
      ]
     },
     "metadata": {},
     "output_type": "display_data"
    }
   ],
   "source": [
    "%%clingo --donot-display_input -l query_analysis_starter -exp query_analysis\n",
    "\n",
    "% tri(X,Y,Z) :- e(X,Y), e(Y,Z), e(Z,X).\n",
    "\n",
    "\n",
    "% schema var(VAR, DOMAIN).\n",
    "var(\"X\", node).\n",
    "var(\"Y\", node).\n",
    "var(\"Z\", node).\n",
    "\n",
    "% schema ruleOcc(ATOM, OCC).\n",
    "ruleOcc(\"e\", 1..3).\n",
    "% schema ruleH(HEAD).\n",
    "ruleH(\"tri\").\n",
    "\n",
    "% Define edges of incidence graph\n",
    "% schema arc(VAR, POS, ATOM, OCC).\n",
    "arc(\"X\", 1, \"e\", 1).\n",
    "arc(\"Y\", 2, \"e\", 1).\n",
    "arc(\"Y\", 1, \"e\", 2).\n",
    "arc(\"Z\", 2, \"e\", 2).\n",
    "arc(\"Z\", 1, \"e\", 3).\n",
    "arc(\"X\", 2, \"e\", 3).\n",
    "\n",
    "% Use the rules below to change the rule head.\n",
    "\n",
    "% schema hArc(VAR, POS, HEAD).\n",
    "hArc(\"X\", 1, \"tri\") :- ruleH(\"tri\").\n",
    "hArc(\"Y\", 2, \"tri\") :- ruleH(\"tri\").\n",
    "hArc(\"Z\", 3, \"tri\") :- ruleH(\"tri\").\n",
    "\n",
    "% :- not ruleHTrue(\"tri\"). % --> Use to generate only the success patterns"
   ]
  },
  {
   "cell_type": "code",
   "execution_count": null,
   "metadata": {},
   "outputs": [],
   "source": []
  },
  {
   "cell_type": "code",
   "execution_count": 9,
   "metadata": {},
   "outputs": [
    {
     "name": "stdout",
     "output_type": "stream",
     "text": [
      "Number of Models: 34\n"
     ]
    }
   ],
   "source": [
    "query_analysis['pw_rel_dfs'], query_analysis['rel_schema'], query_analysis['pw_objs'] =load_worlds(query_analysis['asp_soln'],\n",
    "                                                                                                   query_analysis['meta_data'])\n"
   ]
  },
  {
   "cell_type": "code",
   "execution_count": 10,
   "metadata": {},
   "outputs": [],
   "source": [
    "if 'hArc_3' not in query_analysis['pw_rel_dfs']:\n",
    "    query_analysis['pw_rel_dfs']['hArc_3'] = pd.DataFrame(columns=['pw', 'VAR', 'POS', 'HEAD'])\n",
    "if 'newHArc_3' not in query_analysis['pw_rel_dfs']:\n",
    "    query_analysis['pw_rel_dfs']['newHArc_3'] = pd.DataFrame(columns=['pw', 'VAR', 'POS', 'HEAD'])\n",
    "for i in range(len(query_analysis['pw_objs'])):\n",
    "    if 'hArc_3' not in query_analysis['pw_objs'][i].rls:\n",
    "        query_analysis['pw_objs'][i].rls['hArc_3'] = []\n",
    "    if 'newHArc_3' not in query_analysis['pw_objs'][i].rls:\n",
    "        query_analysis['pw_objs'][i].rls['newHArc_3'] = []\n",
    "    if 'ruleHTrue_1' not in query_analysis['pw_objs'][i].rls:\n",
    "        query_analysis['pw_objs'][i].rls['ruleHTrue_1'] = []"
   ]
  },
  {
   "cell_type": "code",
   "execution_count": 11,
   "metadata": {
    "scrolled": true
   },
   "outputs": [
    {
     "name": "stdout",
     "output_type": "stream",
     "text": [
      "\n",
      "PW: 1\n"
     ]
    },
    {
     "data": {
      "text/html": [
       "<text style=color:black><text style=color:red>ntri(X,Y,Z)</text> :- <text style=color:red>not e(X,Y)</text>, <text style=color:red>not e(Y,Z)</text>, <text style=color:red>not e(Z,X)</text>, <text style=color:black>X != Y</text>, <text style=color:black>X != Z</text>, <text style=color:black>Y != Z</text>.</text>"
      ],
      "text/plain": [
       "<IPython.core.display.HTML object>"
      ]
     },
     "metadata": {},
     "output_type": "display_data"
    },
    {
     "data": {
      "text/html": [
       "<text style=color:black><text style=color:red>ntri(X,Y,Z)</text> :- <text style=color:red>not e(X,Y)</text>, <text style=color:red>not e(Y,Z)</text>, <text style=color:red>not e(Z,X)</text>, <text style=color:black>X != Y</text>, <text style=color:black>X != Z</text>, <text style=color:black>Y != Z</text>.</text>"
      ],
      "text/plain": [
       "<IPython.core.display.HTML object>"
      ]
     },
     "metadata": {},
     "output_type": "display_data"
    },
    {
     "data": {
      "text/html": [
       "<text style=color:black><text style=color:red>ntri(X,Y,Z)</text> :- <text style=color:red>not e(X,Y)</text>, <text style=color:red>not e(Y,Z)</text>, <text style=color:red>not e(Z,X)</text>, <text style=color:black>X != Y</text>, <text style=color:black>X != Z</text>, <text style=color:black>Y != Z</text>.</text>"
      ],
      "text/plain": [
       "<IPython.core.display.HTML object>"
      ]
     },
     "metadata": {},
     "output_type": "display_data"
    },
    {
     "data": {
      "text/html": [
       "<text style=color:black><text style=color:red>ntri(X,Y,Z)</text> :- <text style=color:red>not e(X,Y)</text>, <text style=color:red>not e(Y,Z)</text>, <text style=color:red>not e(Z,X)</text>. % <text style=color:blue>[X][Z][Y]</text></text>"
      ],
      "text/plain": [
       "<IPython.core.display.HTML object>"
      ]
     },
     "metadata": {},
     "output_type": "display_data"
    },
    {
     "name": "stdout",
     "output_type": "stream",
     "text": [
      "\n",
      "PW: 2\n"
     ]
    },
    {
     "data": {
      "text/html": [
       "<text style=color:black><text style=color:red>ntri(X,Y,Z)</text> :- <text style=color:green>e(X,Y)</text>, <text style=color:red>not e(Y,Z)</text>, <text style=color:red>not e(Z,X)</text>, <text style=color:black>X != Y</text>, <text style=color:black>X != Z</text>, <text style=color:black>Y != Z</text>.</text>"
      ],
      "text/plain": [
       "<IPython.core.display.HTML object>"
      ]
     },
     "metadata": {},
     "output_type": "display_data"
    },
    {
     "data": {
      "text/html": [
       "<text style=color:black><text style=color:red>ntri(X,Y,Z)</text> :- <text style=color:green>e(X,Y)</text>, <text style=color:red>not e(Y,Z)</text>, <text style=color:red>not e(Z,X)</text>, <text style=color:black>X != Y</text>, <text style=color:black>X != Z</text>, <text style=color:black>Y != Z</text>.</text>"
      ],
      "text/plain": [
       "<IPython.core.display.HTML object>"
      ]
     },
     "metadata": {},
     "output_type": "display_data"
    },
    {
     "data": {
      "text/html": [
       "<text style=color:black><text style=color:red>ntri(X,Y,Z)</text> :- <text style=color:green>e(X,Y)</text>, <text style=color:red>not e(Y,Z)</text>, <text style=color:red>not e(Z,X)</text>, <text style=color:black>X != Y</text>, <text style=color:black>X != Z</text>, <text style=color:black>Y != Z</text>.</text>"
      ],
      "text/plain": [
       "<IPython.core.display.HTML object>"
      ]
     },
     "metadata": {},
     "output_type": "display_data"
    },
    {
     "data": {
      "text/html": [
       "<text style=color:black><text style=color:red>ntri(X,Y,Z)</text> :- <text style=color:green>e(X,Y)</text>, <text style=color:red>not e(Y,Z)</text>, <text style=color:red>not e(Z,X)</text>. % <text style=color:blue>[X][Z][Y]</text></text>"
      ],
      "text/plain": [
       "<IPython.core.display.HTML object>"
      ]
     },
     "metadata": {},
     "output_type": "display_data"
    },
    {
     "name": "stdout",
     "output_type": "stream",
     "text": [
      "\n",
      "PW: 3\n"
     ]
    },
    {
     "data": {
      "text/html": [
       "<text style=color:black><text style=color:red>ntri(X,Y,Z)</text> :- <text style=color:red>not e(X,Y)</text>, <text style=color:red>not e(Y,Z)</text>, <text style=color:green>e(Z,X)</text>, <text style=color:black>X != Y</text>, <text style=color:black>X != Z</text>, <text style=color:black>Y != Z</text>.</text>"
      ],
      "text/plain": [
       "<IPython.core.display.HTML object>"
      ]
     },
     "metadata": {},
     "output_type": "display_data"
    },
    {
     "data": {
      "text/html": [
       "<text style=color:black><text style=color:red>ntri(X,Y,Z)</text> :- <text style=color:red>not e(X,Y)</text>, <text style=color:red>not e(Y,Z)</text>, <text style=color:green>e(Z,X)</text>, <text style=color:black>X != Y</text>, <text style=color:black>X != Z</text>, <text style=color:black>Y != Z</text>.</text>"
      ],
      "text/plain": [
       "<IPython.core.display.HTML object>"
      ]
     },
     "metadata": {},
     "output_type": "display_data"
    },
    {
     "data": {
      "text/html": [
       "<text style=color:black><text style=color:red>ntri(X,Y,Z)</text> :- <text style=color:red>not e(X,Y)</text>, <text style=color:red>not e(Y,Z)</text>, <text style=color:green>e(Z,X)</text>, <text style=color:black>X != Y</text>, <text style=color:black>X != Z</text>, <text style=color:black>Y != Z</text>.</text>"
      ],
      "text/plain": [
       "<IPython.core.display.HTML object>"
      ]
     },
     "metadata": {},
     "output_type": "display_data"
    },
    {
     "data": {
      "text/html": [
       "<text style=color:black><text style=color:red>ntri(X,Y,Z)</text> :- <text style=color:red>not e(X,Y)</text>, <text style=color:red>not e(Y,Z)</text>, <text style=color:green>e(Z,X)</text>. % <text style=color:blue>[X][Z][Y]</text></text>"
      ],
      "text/plain": [
       "<IPython.core.display.HTML object>"
      ]
     },
     "metadata": {},
     "output_type": "display_data"
    },
    {
     "name": "stdout",
     "output_type": "stream",
     "text": [
      "\n",
      "PW: 4\n"
     ]
    },
    {
     "data": {
      "text/html": [
       "<text style=color:black><text style=color:red>ntri(X,Y,Z)</text> :- <text style=color:green>e(X,Y)</text>, <text style=color:red>not e(Y,Z)</text>, <text style=color:green>e(Z,X)</text>, <text style=color:black>X != Y</text>, <text style=color:black>X != Z</text>, <text style=color:black>Y != Z</text>.</text>"
      ],
      "text/plain": [
       "<IPython.core.display.HTML object>"
      ]
     },
     "metadata": {},
     "output_type": "display_data"
    },
    {
     "data": {
      "text/html": [
       "<text style=color:black><text style=color:red>ntri(X,Y,Z)</text> :- <text style=color:green>e(X,Y)</text>, <text style=color:red>not e(Y,Z)</text>, <text style=color:green>e(Z,X)</text>, <text style=color:black>X != Y</text>, <text style=color:black>X != Z</text>, <text style=color:black>Y != Z</text>.</text>"
      ],
      "text/plain": [
       "<IPython.core.display.HTML object>"
      ]
     },
     "metadata": {},
     "output_type": "display_data"
    },
    {
     "data": {
      "text/html": [
       "<text style=color:black><text style=color:red>ntri(X,Y,Z)</text> :- <text style=color:green>e(X,Y)</text>, <text style=color:red>not e(Y,Z)</text>, <text style=color:green>e(Z,X)</text>, <text style=color:black>X != Y</text>, <text style=color:black>X != Z</text>, <text style=color:black>Y != Z</text>.</text>"
      ],
      "text/plain": [
       "<IPython.core.display.HTML object>"
      ]
     },
     "metadata": {},
     "output_type": "display_data"
    },
    {
     "data": {
      "text/html": [
       "<text style=color:black><text style=color:red>ntri(X,Y,Z)</text> :- <text style=color:green>e(X,Y)</text>, <text style=color:red>not e(Y,Z)</text>, <text style=color:green>e(Z,X)</text>. % <text style=color:blue>[X][Z][Y]</text></text>"
      ],
      "text/plain": [
       "<IPython.core.display.HTML object>"
      ]
     },
     "metadata": {},
     "output_type": "display_data"
    },
    {
     "name": "stdout",
     "output_type": "stream",
     "text": [
      "\n",
      "PW: 5\n"
     ]
    },
    {
     "data": {
      "text/html": [
       "<text style=color:black><text style=color:red>ntri(X,Y,Y)</text> :- <text style=color:red>not e(X,Y)</text>, <text style=color:red>not e(Y,Y)</text>, <text style=color:red>not e(Y,X)</text>, <text style=color:black>X != Y</text>.</text>"
      ],
      "text/plain": [
       "<IPython.core.display.HTML object>"
      ]
     },
     "metadata": {},
     "output_type": "display_data"
    },
    {
     "data": {
      "text/html": [
       "<text style=color:black><text style=color:red>ntri(X,Y,Z)</text> :- <text style=color:red>not e(X,Y)</text>, <text style=color:red>not e(Y,Z)</text>, <text style=color:red>not e(Z,X)</text>, Y=Z, <text style=color:black>X != Y</text>.</text>"
      ],
      "text/plain": [
       "<IPython.core.display.HTML object>"
      ]
     },
     "metadata": {},
     "output_type": "display_data"
    },
    {
     "data": {
      "text/html": [
       "<text style=color:black><text style=color:red>ntri(X,Y,Z)</text> :- <text style=color:red>not e(X,Y)</text>, <text style=color:red>not e(Y,Z)</text>, <text style=color:red>not e(Z,X)</text>, Y=Z, <text style=color:black>X != Y</text>.</text>"
      ],
      "text/plain": [
       "<IPython.core.display.HTML object>"
      ]
     },
     "metadata": {},
     "output_type": "display_data"
    },
    {
     "data": {
      "text/html": [
       "<text style=color:black><text style=color:red>ntri(X,Y,Z)</text> :- <text style=color:red>not e(X,Y)</text>, <text style=color:red>not e(Y,Z)</text>, <text style=color:red>not e(Z,X)</text>. % <text style=color:blue>[Y=Z][X]</text></text>"
      ],
      "text/plain": [
       "<IPython.core.display.HTML object>"
      ]
     },
     "metadata": {},
     "output_type": "display_data"
    },
    {
     "name": "stdout",
     "output_type": "stream",
     "text": [
      "\n",
      "PW: 6\n"
     ]
    },
    {
     "data": {
      "text/html": [
       "<text style=color:black><text style=color:red>ntri(X,Y,Y)</text> :- <text style=color:green>e(X,Y)</text>, <text style=color:red>not e(Y,Y)</text>, <text style=color:red>not e(Y,X)</text>, <text style=color:black>X != Y</text>.</text>"
      ],
      "text/plain": [
       "<IPython.core.display.HTML object>"
      ]
     },
     "metadata": {},
     "output_type": "display_data"
    },
    {
     "data": {
      "text/html": [
       "<text style=color:black><text style=color:red>ntri(X,Y,Z)</text> :- <text style=color:green>e(X,Y)</text>, <text style=color:red>not e(Y,Z)</text>, <text style=color:red>not e(Z,X)</text>, Y=Z, <text style=color:black>X != Y</text>.</text>"
      ],
      "text/plain": [
       "<IPython.core.display.HTML object>"
      ]
     },
     "metadata": {},
     "output_type": "display_data"
    },
    {
     "data": {
      "text/html": [
       "<text style=color:black><text style=color:red>ntri(X,Y,Z)</text> :- <text style=color:green>e(X,Y)</text>, <text style=color:red>not e(Y,Z)</text>, <text style=color:red>not e(Z,X)</text>, Y=Z, <text style=color:black>X != Y</text>.</text>"
      ],
      "text/plain": [
       "<IPython.core.display.HTML object>"
      ]
     },
     "metadata": {},
     "output_type": "display_data"
    },
    {
     "data": {
      "text/html": [
       "<text style=color:black><text style=color:red>ntri(X,Y,Z)</text> :- <text style=color:green>e(X,Y)</text>, <text style=color:red>not e(Y,Z)</text>, <text style=color:red>not e(Z,X)</text>. % <text style=color:blue>[Y=Z][X]</text></text>"
      ],
      "text/plain": [
       "<IPython.core.display.HTML object>"
      ]
     },
     "metadata": {},
     "output_type": "display_data"
    },
    {
     "name": "stdout",
     "output_type": "stream",
     "text": [
      "\n",
      "PW: 7\n"
     ]
    },
    {
     "data": {
      "text/html": [
       "<text style=color:black><text style=color:red>ntri(X,Y,Y)</text> :- <text style=color:red>not e(X,Y)</text>, <text style=color:red>not e(Y,Y)</text>, <text style=color:green>e(Y,X)</text>, <text style=color:black>X != Y</text>.</text>"
      ],
      "text/plain": [
       "<IPython.core.display.HTML object>"
      ]
     },
     "metadata": {},
     "output_type": "display_data"
    },
    {
     "data": {
      "text/html": [
       "<text style=color:black><text style=color:red>ntri(X,Y,Z)</text> :- <text style=color:red>not e(X,Y)</text>, <text style=color:red>not e(Y,Z)</text>, <text style=color:green>e(Z,X)</text>, Y=Z, <text style=color:black>X != Y</text>.</text>"
      ],
      "text/plain": [
       "<IPython.core.display.HTML object>"
      ]
     },
     "metadata": {},
     "output_type": "display_data"
    },
    {
     "data": {
      "text/html": [
       "<text style=color:black><text style=color:red>ntri(X,Y,Z)</text> :- <text style=color:red>not e(X,Y)</text>, <text style=color:red>not e(Y,Z)</text>, <text style=color:green>e(Z,X)</text>, Y=Z, <text style=color:black>X != Y</text>.</text>"
      ],
      "text/plain": [
       "<IPython.core.display.HTML object>"
      ]
     },
     "metadata": {},
     "output_type": "display_data"
    },
    {
     "data": {
      "text/html": [
       "<text style=color:black><text style=color:red>ntri(X,Y,Z)</text> :- <text style=color:red>not e(X,Y)</text>, <text style=color:red>not e(Y,Z)</text>, <text style=color:green>e(Z,X)</text>. % <text style=color:blue>[Y=Z][X]</text></text>"
      ],
      "text/plain": [
       "<IPython.core.display.HTML object>"
      ]
     },
     "metadata": {},
     "output_type": "display_data"
    },
    {
     "name": "stdout",
     "output_type": "stream",
     "text": [
      "\n",
      "PW: 8\n"
     ]
    },
    {
     "data": {
      "text/html": [
       "<text style=color:black><text style=color:red>ntri(X,Y,Y)</text> :- <text style=color:green>e(X,Y)</text>, <text style=color:red>not e(Y,Y)</text>, <text style=color:green>e(Y,X)</text>, <text style=color:black>X != Y</text>.</text>"
      ],
      "text/plain": [
       "<IPython.core.display.HTML object>"
      ]
     },
     "metadata": {},
     "output_type": "display_data"
    },
    {
     "data": {
      "text/html": [
       "<text style=color:black><text style=color:red>ntri(X,Y,Z)</text> :- <text style=color:green>e(X,Y)</text>, <text style=color:red>not e(Y,Z)</text>, <text style=color:green>e(Z,X)</text>, Y=Z, <text style=color:black>X != Y</text>.</text>"
      ],
      "text/plain": [
       "<IPython.core.display.HTML object>"
      ]
     },
     "metadata": {},
     "output_type": "display_data"
    },
    {
     "data": {
      "text/html": [
       "<text style=color:black><text style=color:red>ntri(X,Y,Z)</text> :- <text style=color:green>e(X,Y)</text>, <text style=color:red>not e(Y,Z)</text>, <text style=color:green>e(Z,X)</text>, Y=Z, <text style=color:black>X != Y</text>.</text>"
      ],
      "text/plain": [
       "<IPython.core.display.HTML object>"
      ]
     },
     "metadata": {},
     "output_type": "display_data"
    },
    {
     "data": {
      "text/html": [
       "<text style=color:black><text style=color:red>ntri(X,Y,Z)</text> :- <text style=color:green>e(X,Y)</text>, <text style=color:red>not e(Y,Z)</text>, <text style=color:green>e(Z,X)</text>. % <text style=color:blue>[Y=Z][X]</text></text>"
      ],
      "text/plain": [
       "<IPython.core.display.HTML object>"
      ]
     },
     "metadata": {},
     "output_type": "display_data"
    },
    {
     "name": "stdout",
     "output_type": "stream",
     "text": [
      "\n",
      "PW: 9\n"
     ]
    },
    {
     "data": {
      "text/html": [
       "<text style=color:black><text style=color:red>ntri(X,Y,X)</text> :- <text style=color:red>not e(X,Y)</text>, <text style=color:red>not e(Y,X)</text>, <text style=color:red>not e(X,X)</text>, <text style=color:black>X != Y</text>.</text>"
      ],
      "text/plain": [
       "<IPython.core.display.HTML object>"
      ]
     },
     "metadata": {},
     "output_type": "display_data"
    },
    {
     "data": {
      "text/html": [
       "<text style=color:black><text style=color:red>ntri(X,Y,Z)</text> :- <text style=color:red>not e(X,Y)</text>, <text style=color:red>not e(Y,Z)</text>, <text style=color:red>not e(Z,X)</text>, X=Z, <text style=color:black>X != Y</text>.</text>"
      ],
      "text/plain": [
       "<IPython.core.display.HTML object>"
      ]
     },
     "metadata": {},
     "output_type": "display_data"
    },
    {
     "data": {
      "text/html": [
       "<text style=color:black><text style=color:red>ntri(X,Y,Z)</text> :- <text style=color:red>not e(X,Y)</text>, <text style=color:red>not e(Y,Z)</text>, <text style=color:red>not e(Z,X)</text>, X=Z, <text style=color:black>X != Y</text>.</text>"
      ],
      "text/plain": [
       "<IPython.core.display.HTML object>"
      ]
     },
     "metadata": {},
     "output_type": "display_data"
    },
    {
     "data": {
      "text/html": [
       "<text style=color:black><text style=color:red>ntri(X,Y,Z)</text> :- <text style=color:red>not e(X,Y)</text>, <text style=color:red>not e(Y,Z)</text>, <text style=color:red>not e(Z,X)</text>. % <text style=color:blue>[X=Z][Y]</text></text>"
      ],
      "text/plain": [
       "<IPython.core.display.HTML object>"
      ]
     },
     "metadata": {},
     "output_type": "display_data"
    },
    {
     "name": "stdout",
     "output_type": "stream",
     "text": [
      "\n",
      "PW: 10\n"
     ]
    },
    {
     "data": {
      "text/html": [
       "<text style=color:black><text style=color:red>ntri(X,Y,X)</text> :- <text style=color:green>e(X,Y)</text>, <text style=color:red>not e(Y,X)</text>, <text style=color:red>not e(X,X)</text>, <text style=color:black>X != Y</text>.</text>"
      ],
      "text/plain": [
       "<IPython.core.display.HTML object>"
      ]
     },
     "metadata": {},
     "output_type": "display_data"
    },
    {
     "data": {
      "text/html": [
       "<text style=color:black><text style=color:red>ntri(X,Y,Z)</text> :- <text style=color:green>e(X,Y)</text>, <text style=color:red>not e(Y,Z)</text>, <text style=color:red>not e(Z,X)</text>, X=Z, <text style=color:black>X != Y</text>.</text>"
      ],
      "text/plain": [
       "<IPython.core.display.HTML object>"
      ]
     },
     "metadata": {},
     "output_type": "display_data"
    },
    {
     "data": {
      "text/html": [
       "<text style=color:black><text style=color:red>ntri(X,Y,Z)</text> :- <text style=color:green>e(X,Y)</text>, <text style=color:red>not e(Y,Z)</text>, <text style=color:red>not e(Z,X)</text>, X=Z, <text style=color:black>X != Y</text>.</text>"
      ],
      "text/plain": [
       "<IPython.core.display.HTML object>"
      ]
     },
     "metadata": {},
     "output_type": "display_data"
    },
    {
     "data": {
      "text/html": [
       "<text style=color:black><text style=color:red>ntri(X,Y,Z)</text> :- <text style=color:green>e(X,Y)</text>, <text style=color:red>not e(Y,Z)</text>, <text style=color:red>not e(Z,X)</text>. % <text style=color:blue>[X=Z][Y]</text></text>"
      ],
      "text/plain": [
       "<IPython.core.display.HTML object>"
      ]
     },
     "metadata": {},
     "output_type": "display_data"
    },
    {
     "name": "stdout",
     "output_type": "stream",
     "text": [
      "\n",
      "PW: 11\n"
     ]
    },
    {
     "data": {
      "text/html": [
       "<text style=color:black><text style=color:red>ntri(X,Y,X)</text> :- <text style=color:red>not e(X,Y)</text>, <text style=color:red>not e(Y,X)</text>, <text style=color:green>e(X,X)</text>, <text style=color:black>X != Y</text>.</text>"
      ],
      "text/plain": [
       "<IPython.core.display.HTML object>"
      ]
     },
     "metadata": {},
     "output_type": "display_data"
    },
    {
     "data": {
      "text/html": [
       "<text style=color:black><text style=color:red>ntri(X,Y,Z)</text> :- <text style=color:red>not e(X,Y)</text>, <text style=color:red>not e(Y,Z)</text>, <text style=color:green>e(Z,X)</text>, X=Z, <text style=color:black>X != Y</text>.</text>"
      ],
      "text/plain": [
       "<IPython.core.display.HTML object>"
      ]
     },
     "metadata": {},
     "output_type": "display_data"
    },
    {
     "data": {
      "text/html": [
       "<text style=color:black><text style=color:red>ntri(X,Y,Z)</text> :- <text style=color:red>not e(X,Y)</text>, <text style=color:red>not e(Y,Z)</text>, <text style=color:green>e(Z,X)</text>, X=Z, <text style=color:black>X != Y</text>.</text>"
      ],
      "text/plain": [
       "<IPython.core.display.HTML object>"
      ]
     },
     "metadata": {},
     "output_type": "display_data"
    },
    {
     "data": {
      "text/html": [
       "<text style=color:black><text style=color:red>ntri(X,Y,Z)</text> :- <text style=color:red>not e(X,Y)</text>, <text style=color:red>not e(Y,Z)</text>, <text style=color:green>e(Z,X)</text>. % <text style=color:blue>[X=Z][Y]</text></text>"
      ],
      "text/plain": [
       "<IPython.core.display.HTML object>"
      ]
     },
     "metadata": {},
     "output_type": "display_data"
    },
    {
     "name": "stdout",
     "output_type": "stream",
     "text": [
      "\n",
      "PW: 12\n"
     ]
    },
    {
     "data": {
      "text/html": [
       "<text style=color:black><text style=color:red>ntri(X,Y,X)</text> :- <text style=color:green>e(X,Y)</text>, <text style=color:red>not e(Y,X)</text>, <text style=color:green>e(X,X)</text>, <text style=color:black>X != Y</text>.</text>"
      ],
      "text/plain": [
       "<IPython.core.display.HTML object>"
      ]
     },
     "metadata": {},
     "output_type": "display_data"
    },
    {
     "data": {
      "text/html": [
       "<text style=color:black><text style=color:red>ntri(X,Y,Z)</text> :- <text style=color:green>e(X,Y)</text>, <text style=color:red>not e(Y,Z)</text>, <text style=color:green>e(Z,X)</text>, X=Z, <text style=color:black>X != Y</text>.</text>"
      ],
      "text/plain": [
       "<IPython.core.display.HTML object>"
      ]
     },
     "metadata": {},
     "output_type": "display_data"
    },
    {
     "data": {
      "text/html": [
       "<text style=color:black><text style=color:red>ntri(X,Y,Z)</text> :- <text style=color:green>e(X,Y)</text>, <text style=color:red>not e(Y,Z)</text>, <text style=color:green>e(Z,X)</text>, X=Z, <text style=color:black>X != Y</text>.</text>"
      ],
      "text/plain": [
       "<IPython.core.display.HTML object>"
      ]
     },
     "metadata": {},
     "output_type": "display_data"
    },
    {
     "data": {
      "text/html": [
       "<text style=color:black><text style=color:red>ntri(X,Y,Z)</text> :- <text style=color:green>e(X,Y)</text>, <text style=color:red>not e(Y,Z)</text>, <text style=color:green>e(Z,X)</text>. % <text style=color:blue>[X=Z][Y]</text></text>"
      ],
      "text/plain": [
       "<IPython.core.display.HTML object>"
      ]
     },
     "metadata": {},
     "output_type": "display_data"
    },
    {
     "name": "stdout",
     "output_type": "stream",
     "text": [
      "\n",
      "PW: 13\n"
     ]
    },
    {
     "data": {
      "text/html": [
       "<text style=color:black><text style=color:red>ntri(X,Y,Z)</text> :- <text style=color:red>not e(X,Y)</text>, <text style=color:green>e(Y,Z)</text>, <text style=color:red>not e(Z,X)</text>, <text style=color:black>X != Y</text>, <text style=color:black>X != Z</text>, <text style=color:black>Y != Z</text>.</text>"
      ],
      "text/plain": [
       "<IPython.core.display.HTML object>"
      ]
     },
     "metadata": {},
     "output_type": "display_data"
    },
    {
     "data": {
      "text/html": [
       "<text style=color:black><text style=color:red>ntri(X,Y,Z)</text> :- <text style=color:red>not e(X,Y)</text>, <text style=color:green>e(Y,Z)</text>, <text style=color:red>not e(Z,X)</text>, <text style=color:black>X != Y</text>, <text style=color:black>X != Z</text>, <text style=color:black>Y != Z</text>.</text>"
      ],
      "text/plain": [
       "<IPython.core.display.HTML object>"
      ]
     },
     "metadata": {},
     "output_type": "display_data"
    },
    {
     "data": {
      "text/html": [
       "<text style=color:black><text style=color:red>ntri(X,Y,Z)</text> :- <text style=color:red>not e(X,Y)</text>, <text style=color:green>e(Y,Z)</text>, <text style=color:red>not e(Z,X)</text>, <text style=color:black>X != Y</text>, <text style=color:black>X != Z</text>, <text style=color:black>Y != Z</text>.</text>"
      ],
      "text/plain": [
       "<IPython.core.display.HTML object>"
      ]
     },
     "metadata": {},
     "output_type": "display_data"
    },
    {
     "data": {
      "text/html": [
       "<text style=color:black><text style=color:red>ntri(X,Y,Z)</text> :- <text style=color:red>not e(X,Y)</text>, <text style=color:green>e(Y,Z)</text>, <text style=color:red>not e(Z,X)</text>. % <text style=color:blue>[X][Z][Y]</text></text>"
      ],
      "text/plain": [
       "<IPython.core.display.HTML object>"
      ]
     },
     "metadata": {},
     "output_type": "display_data"
    },
    {
     "name": "stdout",
     "output_type": "stream",
     "text": [
      "\n",
      "PW: 14\n"
     ]
    },
    {
     "data": {
      "text/html": [
       "<text style=color:black><text style=color:red>ntri(X,Y,Z)</text> :- <text style=color:green>e(X,Y)</text>, <text style=color:green>e(Y,Z)</text>, <text style=color:red>not e(Z,X)</text>, <text style=color:black>X != Y</text>, <text style=color:black>X != Z</text>, <text style=color:black>Y != Z</text>.</text>"
      ],
      "text/plain": [
       "<IPython.core.display.HTML object>"
      ]
     },
     "metadata": {},
     "output_type": "display_data"
    },
    {
     "data": {
      "text/html": [
       "<text style=color:black><text style=color:red>ntri(X,Y,Z)</text> :- <text style=color:green>e(X,Y)</text>, <text style=color:green>e(Y,Z)</text>, <text style=color:red>not e(Z,X)</text>, <text style=color:black>X != Y</text>, <text style=color:black>X != Z</text>, <text style=color:black>Y != Z</text>.</text>"
      ],
      "text/plain": [
       "<IPython.core.display.HTML object>"
      ]
     },
     "metadata": {},
     "output_type": "display_data"
    },
    {
     "data": {
      "text/html": [
       "<text style=color:black><text style=color:red>ntri(X,Y,Z)</text> :- <text style=color:green>e(X,Y)</text>, <text style=color:green>e(Y,Z)</text>, <text style=color:red>not e(Z,X)</text>, <text style=color:black>X != Y</text>, <text style=color:black>X != Z</text>, <text style=color:black>Y != Z</text>.</text>"
      ],
      "text/plain": [
       "<IPython.core.display.HTML object>"
      ]
     },
     "metadata": {},
     "output_type": "display_data"
    },
    {
     "data": {
      "text/html": [
       "<text style=color:black><text style=color:red>ntri(X,Y,Z)</text> :- <text style=color:green>e(X,Y)</text>, <text style=color:green>e(Y,Z)</text>, <text style=color:red>not e(Z,X)</text>. % <text style=color:blue>[X][Z][Y]</text></text>"
      ],
      "text/plain": [
       "<IPython.core.display.HTML object>"
      ]
     },
     "metadata": {},
     "output_type": "display_data"
    },
    {
     "name": "stdout",
     "output_type": "stream",
     "text": [
      "\n",
      "PW: 15\n"
     ]
    },
    {
     "data": {
      "text/html": [
       "<text style=color:black><text style=color:red>ntri(X,Y,Z)</text> :- <text style=color:red>not e(X,Y)</text>, <text style=color:green>e(Y,Z)</text>, <text style=color:green>e(Z,X)</text>, <text style=color:black>X != Y</text>, <text style=color:black>X != Z</text>, <text style=color:black>Y != Z</text>.</text>"
      ],
      "text/plain": [
       "<IPython.core.display.HTML object>"
      ]
     },
     "metadata": {},
     "output_type": "display_data"
    },
    {
     "data": {
      "text/html": [
       "<text style=color:black><text style=color:red>ntri(X,Y,Z)</text> :- <text style=color:red>not e(X,Y)</text>, <text style=color:green>e(Y,Z)</text>, <text style=color:green>e(Z,X)</text>, <text style=color:black>X != Y</text>, <text style=color:black>X != Z</text>, <text style=color:black>Y != Z</text>.</text>"
      ],
      "text/plain": [
       "<IPython.core.display.HTML object>"
      ]
     },
     "metadata": {},
     "output_type": "display_data"
    },
    {
     "data": {
      "text/html": [
       "<text style=color:black><text style=color:red>ntri(X,Y,Z)</text> :- <text style=color:red>not e(X,Y)</text>, <text style=color:green>e(Y,Z)</text>, <text style=color:green>e(Z,X)</text>, <text style=color:black>X != Y</text>, <text style=color:black>X != Z</text>, <text style=color:black>Y != Z</text>.</text>"
      ],
      "text/plain": [
       "<IPython.core.display.HTML object>"
      ]
     },
     "metadata": {},
     "output_type": "display_data"
    },
    {
     "data": {
      "text/html": [
       "<text style=color:black><text style=color:red>ntri(X,Y,Z)</text> :- <text style=color:red>not e(X,Y)</text>, <text style=color:green>e(Y,Z)</text>, <text style=color:green>e(Z,X)</text>. % <text style=color:blue>[X][Z][Y]</text></text>"
      ],
      "text/plain": [
       "<IPython.core.display.HTML object>"
      ]
     },
     "metadata": {},
     "output_type": "display_data"
    },
    {
     "name": "stdout",
     "output_type": "stream",
     "text": [
      "\n",
      "PW: 16\n"
     ]
    },
    {
     "data": {
      "text/html": [
       "<text style=color:black><text style=color:green>tri(X,Y,Z)</text> :- <text style=color:green>e(X,Y)</text>, <text style=color:green>e(Y,Z)</text>, <text style=color:green>e(Z,X)</text>, <text style=color:black>X != Y</text>, <text style=color:black>X != Z</text>, <text style=color:black>Y != Z</text>.</text>"
      ],
      "text/plain": [
       "<IPython.core.display.HTML object>"
      ]
     },
     "metadata": {},
     "output_type": "display_data"
    },
    {
     "data": {
      "text/html": [
       "<text style=color:black><text style=color:green>tri(X,Y,Z)</text> :- <text style=color:green>e(X,Y)</text>, <text style=color:green>e(Y,Z)</text>, <text style=color:green>e(Z,X)</text>, <text style=color:black>X != Y</text>, <text style=color:black>X != Z</text>, <text style=color:black>Y != Z</text>.</text>"
      ],
      "text/plain": [
       "<IPython.core.display.HTML object>"
      ]
     },
     "metadata": {},
     "output_type": "display_data"
    },
    {
     "data": {
      "text/html": [
       "<text style=color:black><text style=color:green>tri(X,Y,Z)</text> :- <text style=color:green>e(X,Y)</text>, <text style=color:green>e(Y,Z)</text>, <text style=color:green>e(Z,X)</text>, <text style=color:black>X != Y</text>, <text style=color:black>X != Z</text>, <text style=color:black>Y != Z</text>.</text>"
      ],
      "text/plain": [
       "<IPython.core.display.HTML object>"
      ]
     },
     "metadata": {},
     "output_type": "display_data"
    },
    {
     "data": {
      "text/html": [
       "<text style=color:black><text style=color:green>tri(X,Y,Z)</text> :- <text style=color:green>e(X,Y)</text>, <text style=color:green>e(Y,Z)</text>, <text style=color:green>e(Z,X)</text>. % <text style=color:blue>[X][Z][Y]</text></text>"
      ],
      "text/plain": [
       "<IPython.core.display.HTML object>"
      ]
     },
     "metadata": {},
     "output_type": "display_data"
    },
    {
     "name": "stdout",
     "output_type": "stream",
     "text": [
      "\n",
      "PW: 17\n"
     ]
    },
    {
     "data": {
      "text/html": [
       "<text style=color:black><text style=color:red>ntri(X,Y,Y)</text> :- <text style=color:red>not e(X,Y)</text>, <text style=color:green>e(Y,Y)</text>, <text style=color:red>not e(Y,X)</text>, <text style=color:black>X != Y</text>.</text>"
      ],
      "text/plain": [
       "<IPython.core.display.HTML object>"
      ]
     },
     "metadata": {},
     "output_type": "display_data"
    },
    {
     "data": {
      "text/html": [
       "<text style=color:black><text style=color:red>ntri(X,Y,Z)</text> :- <text style=color:red>not e(X,Y)</text>, <text style=color:green>e(Y,Z)</text>, <text style=color:red>not e(Z,X)</text>, Y=Z, <text style=color:black>X != Y</text>.</text>"
      ],
      "text/plain": [
       "<IPython.core.display.HTML object>"
      ]
     },
     "metadata": {},
     "output_type": "display_data"
    },
    {
     "data": {
      "text/html": [
       "<text style=color:black><text style=color:red>ntri(X,Y,Z)</text> :- <text style=color:red>not e(X,Y)</text>, <text style=color:green>e(Y,Z)</text>, <text style=color:red>not e(Z,X)</text>, Y=Z, <text style=color:black>X != Y</text>.</text>"
      ],
      "text/plain": [
       "<IPython.core.display.HTML object>"
      ]
     },
     "metadata": {},
     "output_type": "display_data"
    },
    {
     "data": {
      "text/html": [
       "<text style=color:black><text style=color:red>ntri(X,Y,Z)</text> :- <text style=color:red>not e(X,Y)</text>, <text style=color:green>e(Y,Z)</text>, <text style=color:red>not e(Z,X)</text>. % <text style=color:blue>[Y=Z][X]</text></text>"
      ],
      "text/plain": [
       "<IPython.core.display.HTML object>"
      ]
     },
     "metadata": {},
     "output_type": "display_data"
    },
    {
     "name": "stdout",
     "output_type": "stream",
     "text": [
      "\n",
      "PW: 18\n"
     ]
    },
    {
     "data": {
      "text/html": [
       "<text style=color:black><text style=color:red>ntri(X,Y,Y)</text> :- <text style=color:green>e(X,Y)</text>, <text style=color:green>e(Y,Y)</text>, <text style=color:red>not e(Y,X)</text>, <text style=color:black>X != Y</text>.</text>"
      ],
      "text/plain": [
       "<IPython.core.display.HTML object>"
      ]
     },
     "metadata": {},
     "output_type": "display_data"
    },
    {
     "data": {
      "text/html": [
       "<text style=color:black><text style=color:red>ntri(X,Y,Z)</text> :- <text style=color:green>e(X,Y)</text>, <text style=color:green>e(Y,Z)</text>, <text style=color:red>not e(Z,X)</text>, Y=Z, <text style=color:black>X != Y</text>.</text>"
      ],
      "text/plain": [
       "<IPython.core.display.HTML object>"
      ]
     },
     "metadata": {},
     "output_type": "display_data"
    },
    {
     "data": {
      "text/html": [
       "<text style=color:black><text style=color:red>ntri(X,Y,Z)</text> :- <text style=color:green>e(X,Y)</text>, <text style=color:green>e(Y,Z)</text>, <text style=color:red>not e(Z,X)</text>, Y=Z, <text style=color:black>X != Y</text>.</text>"
      ],
      "text/plain": [
       "<IPython.core.display.HTML object>"
      ]
     },
     "metadata": {},
     "output_type": "display_data"
    },
    {
     "data": {
      "text/html": [
       "<text style=color:black><text style=color:red>ntri(X,Y,Z)</text> :- <text style=color:green>e(X,Y)</text>, <text style=color:green>e(Y,Z)</text>, <text style=color:red>not e(Z,X)</text>. % <text style=color:blue>[Y=Z][X]</text></text>"
      ],
      "text/plain": [
       "<IPython.core.display.HTML object>"
      ]
     },
     "metadata": {},
     "output_type": "display_data"
    },
    {
     "name": "stdout",
     "output_type": "stream",
     "text": [
      "\n",
      "PW: 19\n"
     ]
    },
    {
     "data": {
      "text/html": [
       "<text style=color:black><text style=color:red>ntri(X,Y,Y)</text> :- <text style=color:red>not e(X,Y)</text>, <text style=color:green>e(Y,Y)</text>, <text style=color:green>e(Y,X)</text>, <text style=color:black>X != Y</text>.</text>"
      ],
      "text/plain": [
       "<IPython.core.display.HTML object>"
      ]
     },
     "metadata": {},
     "output_type": "display_data"
    },
    {
     "data": {
      "text/html": [
       "<text style=color:black><text style=color:red>ntri(X,Y,Z)</text> :- <text style=color:red>not e(X,Y)</text>, <text style=color:green>e(Y,Z)</text>, <text style=color:green>e(Z,X)</text>, Y=Z, <text style=color:black>X != Y</text>.</text>"
      ],
      "text/plain": [
       "<IPython.core.display.HTML object>"
      ]
     },
     "metadata": {},
     "output_type": "display_data"
    },
    {
     "data": {
      "text/html": [
       "<text style=color:black><text style=color:red>ntri(X,Y,Z)</text> :- <text style=color:red>not e(X,Y)</text>, <text style=color:green>e(Y,Z)</text>, <text style=color:green>e(Z,X)</text>, Y=Z, <text style=color:black>X != Y</text>.</text>"
      ],
      "text/plain": [
       "<IPython.core.display.HTML object>"
      ]
     },
     "metadata": {},
     "output_type": "display_data"
    },
    {
     "data": {
      "text/html": [
       "<text style=color:black><text style=color:red>ntri(X,Y,Z)</text> :- <text style=color:red>not e(X,Y)</text>, <text style=color:green>e(Y,Z)</text>, <text style=color:green>e(Z,X)</text>. % <text style=color:blue>[Y=Z][X]</text></text>"
      ],
      "text/plain": [
       "<IPython.core.display.HTML object>"
      ]
     },
     "metadata": {},
     "output_type": "display_data"
    },
    {
     "name": "stdout",
     "output_type": "stream",
     "text": [
      "\n",
      "PW: 20\n"
     ]
    },
    {
     "data": {
      "text/html": [
       "<text style=color:black><text style=color:green>tri(X,Y,Y)</text> :- <text style=color:green>e(X,Y)</text>, <text style=color:green>e(Y,Y)</text>, <text style=color:green>e(Y,X)</text>, <text style=color:black>X != Y</text>.</text>"
      ],
      "text/plain": [
       "<IPython.core.display.HTML object>"
      ]
     },
     "metadata": {},
     "output_type": "display_data"
    },
    {
     "data": {
      "text/html": [
       "<text style=color:black><text style=color:green>tri(X,Y,Z)</text> :- <text style=color:green>e(X,Y)</text>, <text style=color:green>e(Y,Z)</text>, <text style=color:green>e(Z,X)</text>, Y=Z, <text style=color:black>X != Y</text>.</text>"
      ],
      "text/plain": [
       "<IPython.core.display.HTML object>"
      ]
     },
     "metadata": {},
     "output_type": "display_data"
    },
    {
     "data": {
      "text/html": [
       "<text style=color:black><text style=color:green>tri(X,Y,Z)</text> :- <text style=color:green>e(X,Y)</text>, <text style=color:green>e(Y,Z)</text>, <text style=color:green>e(Z,X)</text>, Y=Z, <text style=color:black>X != Y</text>.</text>"
      ],
      "text/plain": [
       "<IPython.core.display.HTML object>"
      ]
     },
     "metadata": {},
     "output_type": "display_data"
    },
    {
     "data": {
      "text/html": [
       "<text style=color:black><text style=color:green>tri(X,Y,Z)</text> :- <text style=color:green>e(X,Y)</text>, <text style=color:green>e(Y,Z)</text>, <text style=color:green>e(Z,X)</text>. % <text style=color:blue>[Y=Z][X]</text></text>"
      ],
      "text/plain": [
       "<IPython.core.display.HTML object>"
      ]
     },
     "metadata": {},
     "output_type": "display_data"
    },
    {
     "name": "stdout",
     "output_type": "stream",
     "text": [
      "\n",
      "PW: 21\n"
     ]
    },
    {
     "data": {
      "text/html": [
       "<text style=color:black><text style=color:red>ntri(X,Y,X)</text> :- <text style=color:red>not e(X,Y)</text>, <text style=color:green>e(Y,X)</text>, <text style=color:red>not e(X,X)</text>, <text style=color:black>X != Y</text>.</text>"
      ],
      "text/plain": [
       "<IPython.core.display.HTML object>"
      ]
     },
     "metadata": {},
     "output_type": "display_data"
    },
    {
     "data": {
      "text/html": [
       "<text style=color:black><text style=color:red>ntri(X,Y,Z)</text> :- <text style=color:red>not e(X,Y)</text>, <text style=color:green>e(Y,Z)</text>, <text style=color:red>not e(Z,X)</text>, X=Z, <text style=color:black>X != Y</text>.</text>"
      ],
      "text/plain": [
       "<IPython.core.display.HTML object>"
      ]
     },
     "metadata": {},
     "output_type": "display_data"
    },
    {
     "data": {
      "text/html": [
       "<text style=color:black><text style=color:red>ntri(X,Y,Z)</text> :- <text style=color:red>not e(X,Y)</text>, <text style=color:green>e(Y,Z)</text>, <text style=color:red>not e(Z,X)</text>, X=Z, <text style=color:black>X != Y</text>.</text>"
      ],
      "text/plain": [
       "<IPython.core.display.HTML object>"
      ]
     },
     "metadata": {},
     "output_type": "display_data"
    },
    {
     "data": {
      "text/html": [
       "<text style=color:black><text style=color:red>ntri(X,Y,Z)</text> :- <text style=color:red>not e(X,Y)</text>, <text style=color:green>e(Y,Z)</text>, <text style=color:red>not e(Z,X)</text>. % <text style=color:blue>[X=Z][Y]</text></text>"
      ],
      "text/plain": [
       "<IPython.core.display.HTML object>"
      ]
     },
     "metadata": {},
     "output_type": "display_data"
    },
    {
     "name": "stdout",
     "output_type": "stream",
     "text": [
      "\n",
      "PW: 22\n"
     ]
    },
    {
     "data": {
      "text/html": [
       "<text style=color:black><text style=color:red>ntri(X,Y,X)</text> :- <text style=color:green>e(X,Y)</text>, <text style=color:green>e(Y,X)</text>, <text style=color:red>not e(X,X)</text>, <text style=color:black>X != Y</text>.</text>"
      ],
      "text/plain": [
       "<IPython.core.display.HTML object>"
      ]
     },
     "metadata": {},
     "output_type": "display_data"
    },
    {
     "data": {
      "text/html": [
       "<text style=color:black><text style=color:red>ntri(X,Y,Z)</text> :- <text style=color:green>e(X,Y)</text>, <text style=color:green>e(Y,Z)</text>, <text style=color:red>not e(Z,X)</text>, X=Z, <text style=color:black>X != Y</text>.</text>"
      ],
      "text/plain": [
       "<IPython.core.display.HTML object>"
      ]
     },
     "metadata": {},
     "output_type": "display_data"
    },
    {
     "data": {
      "text/html": [
       "<text style=color:black><text style=color:red>ntri(X,Y,Z)</text> :- <text style=color:green>e(X,Y)</text>, <text style=color:green>e(Y,Z)</text>, <text style=color:red>not e(Z,X)</text>, X=Z, <text style=color:black>X != Y</text>.</text>"
      ],
      "text/plain": [
       "<IPython.core.display.HTML object>"
      ]
     },
     "metadata": {},
     "output_type": "display_data"
    },
    {
     "data": {
      "text/html": [
       "<text style=color:black><text style=color:red>ntri(X,Y,Z)</text> :- <text style=color:green>e(X,Y)</text>, <text style=color:green>e(Y,Z)</text>, <text style=color:red>not e(Z,X)</text>. % <text style=color:blue>[X=Z][Y]</text></text>"
      ],
      "text/plain": [
       "<IPython.core.display.HTML object>"
      ]
     },
     "metadata": {},
     "output_type": "display_data"
    },
    {
     "name": "stdout",
     "output_type": "stream",
     "text": [
      "\n",
      "PW: 23\n"
     ]
    },
    {
     "data": {
      "text/html": [
       "<text style=color:black><text style=color:red>ntri(X,Y,X)</text> :- <text style=color:red>not e(X,Y)</text>, <text style=color:green>e(Y,X)</text>, <text style=color:green>e(X,X)</text>, <text style=color:black>X != Y</text>.</text>"
      ],
      "text/plain": [
       "<IPython.core.display.HTML object>"
      ]
     },
     "metadata": {},
     "output_type": "display_data"
    },
    {
     "data": {
      "text/html": [
       "<text style=color:black><text style=color:red>ntri(X,Y,Z)</text> :- <text style=color:red>not e(X,Y)</text>, <text style=color:green>e(Y,Z)</text>, <text style=color:green>e(Z,X)</text>, X=Z, <text style=color:black>X != Y</text>.</text>"
      ],
      "text/plain": [
       "<IPython.core.display.HTML object>"
      ]
     },
     "metadata": {},
     "output_type": "display_data"
    },
    {
     "data": {
      "text/html": [
       "<text style=color:black><text style=color:red>ntri(X,Y,Z)</text> :- <text style=color:red>not e(X,Y)</text>, <text style=color:green>e(Y,Z)</text>, <text style=color:green>e(Z,X)</text>, X=Z, <text style=color:black>X != Y</text>.</text>"
      ],
      "text/plain": [
       "<IPython.core.display.HTML object>"
      ]
     },
     "metadata": {},
     "output_type": "display_data"
    },
    {
     "data": {
      "text/html": [
       "<text style=color:black><text style=color:red>ntri(X,Y,Z)</text> :- <text style=color:red>not e(X,Y)</text>, <text style=color:green>e(Y,Z)</text>, <text style=color:green>e(Z,X)</text>. % <text style=color:blue>[X=Z][Y]</text></text>"
      ],
      "text/plain": [
       "<IPython.core.display.HTML object>"
      ]
     },
     "metadata": {},
     "output_type": "display_data"
    },
    {
     "name": "stdout",
     "output_type": "stream",
     "text": [
      "\n",
      "PW: 24\n"
     ]
    },
    {
     "data": {
      "text/html": [
       "<text style=color:black><text style=color:green>tri(X,Y,X)</text> :- <text style=color:green>e(X,Y)</text>, <text style=color:green>e(Y,X)</text>, <text style=color:green>e(X,X)</text>, <text style=color:black>X != Y</text>.</text>"
      ],
      "text/plain": [
       "<IPython.core.display.HTML object>"
      ]
     },
     "metadata": {},
     "output_type": "display_data"
    },
    {
     "data": {
      "text/html": [
       "<text style=color:black><text style=color:green>tri(X,Y,Z)</text> :- <text style=color:green>e(X,Y)</text>, <text style=color:green>e(Y,Z)</text>, <text style=color:green>e(Z,X)</text>, X=Z, <text style=color:black>X != Y</text>.</text>"
      ],
      "text/plain": [
       "<IPython.core.display.HTML object>"
      ]
     },
     "metadata": {},
     "output_type": "display_data"
    },
    {
     "data": {
      "text/html": [
       "<text style=color:black><text style=color:green>tri(X,Y,Z)</text> :- <text style=color:green>e(X,Y)</text>, <text style=color:green>e(Y,Z)</text>, <text style=color:green>e(Z,X)</text>, X=Z, <text style=color:black>X != Y</text>.</text>"
      ],
      "text/plain": [
       "<IPython.core.display.HTML object>"
      ]
     },
     "metadata": {},
     "output_type": "display_data"
    },
    {
     "data": {
      "text/html": [
       "<text style=color:black><text style=color:green>tri(X,Y,Z)</text> :- <text style=color:green>e(X,Y)</text>, <text style=color:green>e(Y,Z)</text>, <text style=color:green>e(Z,X)</text>. % <text style=color:blue>[X=Z][Y]</text></text>"
      ],
      "text/plain": [
       "<IPython.core.display.HTML object>"
      ]
     },
     "metadata": {},
     "output_type": "display_data"
    },
    {
     "name": "stdout",
     "output_type": "stream",
     "text": [
      "\n",
      "PW: 25\n"
     ]
    },
    {
     "data": {
      "text/html": [
       "<text style=color:black><text style=color:red>ntri(X,X,Z)</text> :- <text style=color:red>not e(X,X)</text>, <text style=color:red>not e(X,Z)</text>, <text style=color:red>not e(Z,X)</text>, <text style=color:black>X != Z</text>.</text>"
      ],
      "text/plain": [
       "<IPython.core.display.HTML object>"
      ]
     },
     "metadata": {},
     "output_type": "display_data"
    },
    {
     "data": {
      "text/html": [
       "<text style=color:black><text style=color:red>ntri(X,Y,Z)</text> :- <text style=color:red>not e(X,Y)</text>, <text style=color:red>not e(Y,Z)</text>, <text style=color:red>not e(Z,X)</text>, X=Y, <text style=color:black>X != Z</text>.</text>"
      ],
      "text/plain": [
       "<IPython.core.display.HTML object>"
      ]
     },
     "metadata": {},
     "output_type": "display_data"
    },
    {
     "data": {
      "text/html": [
       "<text style=color:black><text style=color:red>ntri(X,Y,Z)</text> :- <text style=color:red>not e(X,Y)</text>, <text style=color:red>not e(Y,Z)</text>, <text style=color:red>not e(Z,X)</text>, X=Y, <text style=color:black>X != Z</text>.</text>"
      ],
      "text/plain": [
       "<IPython.core.display.HTML object>"
      ]
     },
     "metadata": {},
     "output_type": "display_data"
    },
    {
     "data": {
      "text/html": [
       "<text style=color:black><text style=color:red>ntri(X,Y,Z)</text> :- <text style=color:red>not e(X,Y)</text>, <text style=color:red>not e(Y,Z)</text>, <text style=color:red>not e(Z,X)</text>. % <text style=color:blue>[X=Y][Z]</text></text>"
      ],
      "text/plain": [
       "<IPython.core.display.HTML object>"
      ]
     },
     "metadata": {},
     "output_type": "display_data"
    },
    {
     "name": "stdout",
     "output_type": "stream",
     "text": [
      "\n",
      "PW: 26\n"
     ]
    },
    {
     "data": {
      "text/html": [
       "<text style=color:black><text style=color:red>ntri(X,X,Z)</text> :- <text style=color:green>e(X,X)</text>, <text style=color:red>not e(X,Z)</text>, <text style=color:red>not e(Z,X)</text>, <text style=color:black>X != Z</text>.</text>"
      ],
      "text/plain": [
       "<IPython.core.display.HTML object>"
      ]
     },
     "metadata": {},
     "output_type": "display_data"
    },
    {
     "data": {
      "text/html": [
       "<text style=color:black><text style=color:red>ntri(X,Y,Z)</text> :- <text style=color:green>e(X,Y)</text>, <text style=color:red>not e(Y,Z)</text>, <text style=color:red>not e(Z,X)</text>, X=Y, <text style=color:black>X != Z</text>.</text>"
      ],
      "text/plain": [
       "<IPython.core.display.HTML object>"
      ]
     },
     "metadata": {},
     "output_type": "display_data"
    },
    {
     "data": {
      "text/html": [
       "<text style=color:black><text style=color:red>ntri(X,Y,Z)</text> :- <text style=color:green>e(X,Y)</text>, <text style=color:red>not e(Y,Z)</text>, <text style=color:red>not e(Z,X)</text>, X=Y, <text style=color:black>X != Z</text>.</text>"
      ],
      "text/plain": [
       "<IPython.core.display.HTML object>"
      ]
     },
     "metadata": {},
     "output_type": "display_data"
    },
    {
     "data": {
      "text/html": [
       "<text style=color:black><text style=color:red>ntri(X,Y,Z)</text> :- <text style=color:green>e(X,Y)</text>, <text style=color:red>not e(Y,Z)</text>, <text style=color:red>not e(Z,X)</text>. % <text style=color:blue>[X=Y][Z]</text></text>"
      ],
      "text/plain": [
       "<IPython.core.display.HTML object>"
      ]
     },
     "metadata": {},
     "output_type": "display_data"
    },
    {
     "name": "stdout",
     "output_type": "stream",
     "text": [
      "\n",
      "PW: 27\n"
     ]
    },
    {
     "data": {
      "text/html": [
       "<text style=color:black><text style=color:red>ntri(X,X,Z)</text> :- <text style=color:red>not e(X,X)</text>, <text style=color:red>not e(X,Z)</text>, <text style=color:green>e(Z,X)</text>, <text style=color:black>X != Z</text>.</text>"
      ],
      "text/plain": [
       "<IPython.core.display.HTML object>"
      ]
     },
     "metadata": {},
     "output_type": "display_data"
    },
    {
     "data": {
      "text/html": [
       "<text style=color:black><text style=color:red>ntri(X,Y,Z)</text> :- <text style=color:red>not e(X,Y)</text>, <text style=color:red>not e(Y,Z)</text>, <text style=color:green>e(Z,X)</text>, X=Y, <text style=color:black>X != Z</text>.</text>"
      ],
      "text/plain": [
       "<IPython.core.display.HTML object>"
      ]
     },
     "metadata": {},
     "output_type": "display_data"
    },
    {
     "data": {
      "text/html": [
       "<text style=color:black><text style=color:red>ntri(X,Y,Z)</text> :- <text style=color:red>not e(X,Y)</text>, <text style=color:red>not e(Y,Z)</text>, <text style=color:green>e(Z,X)</text>, X=Y, <text style=color:black>X != Z</text>.</text>"
      ],
      "text/plain": [
       "<IPython.core.display.HTML object>"
      ]
     },
     "metadata": {},
     "output_type": "display_data"
    },
    {
     "data": {
      "text/html": [
       "<text style=color:black><text style=color:red>ntri(X,Y,Z)</text> :- <text style=color:red>not e(X,Y)</text>, <text style=color:red>not e(Y,Z)</text>, <text style=color:green>e(Z,X)</text>. % <text style=color:blue>[X=Y][Z]</text></text>"
      ],
      "text/plain": [
       "<IPython.core.display.HTML object>"
      ]
     },
     "metadata": {},
     "output_type": "display_data"
    },
    {
     "name": "stdout",
     "output_type": "stream",
     "text": [
      "\n",
      "PW: 28\n"
     ]
    },
    {
     "data": {
      "text/html": [
       "<text style=color:black><text style=color:red>ntri(X,X,Z)</text> :- <text style=color:green>e(X,X)</text>, <text style=color:red>not e(X,Z)</text>, <text style=color:green>e(Z,X)</text>, <text style=color:black>X != Z</text>.</text>"
      ],
      "text/plain": [
       "<IPython.core.display.HTML object>"
      ]
     },
     "metadata": {},
     "output_type": "display_data"
    },
    {
     "data": {
      "text/html": [
       "<text style=color:black><text style=color:red>ntri(X,Y,Z)</text> :- <text style=color:green>e(X,Y)</text>, <text style=color:red>not e(Y,Z)</text>, <text style=color:green>e(Z,X)</text>, X=Y, <text style=color:black>X != Z</text>.</text>"
      ],
      "text/plain": [
       "<IPython.core.display.HTML object>"
      ]
     },
     "metadata": {},
     "output_type": "display_data"
    },
    {
     "data": {
      "text/html": [
       "<text style=color:black><text style=color:red>ntri(X,Y,Z)</text> :- <text style=color:green>e(X,Y)</text>, <text style=color:red>not e(Y,Z)</text>, <text style=color:green>e(Z,X)</text>, X=Y, <text style=color:black>X != Z</text>.</text>"
      ],
      "text/plain": [
       "<IPython.core.display.HTML object>"
      ]
     },
     "metadata": {},
     "output_type": "display_data"
    },
    {
     "data": {
      "text/html": [
       "<text style=color:black><text style=color:red>ntri(X,Y,Z)</text> :- <text style=color:green>e(X,Y)</text>, <text style=color:red>not e(Y,Z)</text>, <text style=color:green>e(Z,X)</text>. % <text style=color:blue>[X=Y][Z]</text></text>"
      ],
      "text/plain": [
       "<IPython.core.display.HTML object>"
      ]
     },
     "metadata": {},
     "output_type": "display_data"
    },
    {
     "name": "stdout",
     "output_type": "stream",
     "text": [
      "\n",
      "PW: 29\n"
     ]
    },
    {
     "data": {
      "text/html": [
       "<text style=color:black><text style=color:red>ntri(X,X,X)</text> :- <text style=color:red>not e(X,X)</text>, <text style=color:red>not e(X,X)</text>, <text style=color:red>not e(X,X)</text>.</text>"
      ],
      "text/plain": [
       "<IPython.core.display.HTML object>"
      ]
     },
     "metadata": {},
     "output_type": "display_data"
    },
    {
     "data": {
      "text/html": [
       "<text style=color:black><text style=color:red>ntri(X,Y,Z)</text> :- <text style=color:red>not e(X,Y)</text>, <text style=color:red>not e(Y,Z)</text>, <text style=color:red>not e(Z,X)</text>, X=Y, X=Z.</text>"
      ],
      "text/plain": [
       "<IPython.core.display.HTML object>"
      ]
     },
     "metadata": {},
     "output_type": "display_data"
    },
    {
     "data": {
      "text/html": [
       "<text style=color:black><text style=color:red>ntri(X,Y,Z)</text> :- <text style=color:red>not e(X,Y)</text>, <text style=color:red>not e(Y,Z)</text>, <text style=color:red>not e(Z,X)</text>, X=Y=Z.</text>"
      ],
      "text/plain": [
       "<IPython.core.display.HTML object>"
      ]
     },
     "metadata": {},
     "output_type": "display_data"
    },
    {
     "data": {
      "text/html": [
       "<text style=color:black><text style=color:red>ntri(X,Y,Z)</text> :- <text style=color:red>not e(X,Y)</text>, <text style=color:red>not e(Y,Z)</text>, <text style=color:red>not e(Z,X)</text>. % <text style=color:blue>[X=Y=Z]</text></text>"
      ],
      "text/plain": [
       "<IPython.core.display.HTML object>"
      ]
     },
     "metadata": {},
     "output_type": "display_data"
    },
    {
     "name": "stdout",
     "output_type": "stream",
     "text": [
      "\n",
      "PW: 30\n"
     ]
    },
    {
     "data": {
      "text/html": [
       "<text style=color:black><text style=color:red>ntri(X,X,Z)</text> :- <text style=color:red>not e(X,X)</text>, <text style=color:green>e(X,Z)</text>, <text style=color:red>not e(Z,X)</text>, <text style=color:black>X != Z</text>.</text>"
      ],
      "text/plain": [
       "<IPython.core.display.HTML object>"
      ]
     },
     "metadata": {},
     "output_type": "display_data"
    },
    {
     "data": {
      "text/html": [
       "<text style=color:black><text style=color:red>ntri(X,Y,Z)</text> :- <text style=color:red>not e(X,Y)</text>, <text style=color:green>e(Y,Z)</text>, <text style=color:red>not e(Z,X)</text>, X=Y, <text style=color:black>X != Z</text>.</text>"
      ],
      "text/plain": [
       "<IPython.core.display.HTML object>"
      ]
     },
     "metadata": {},
     "output_type": "display_data"
    },
    {
     "data": {
      "text/html": [
       "<text style=color:black><text style=color:red>ntri(X,Y,Z)</text> :- <text style=color:red>not e(X,Y)</text>, <text style=color:green>e(Y,Z)</text>, <text style=color:red>not e(Z,X)</text>, X=Y, <text style=color:black>X != Z</text>.</text>"
      ],
      "text/plain": [
       "<IPython.core.display.HTML object>"
      ]
     },
     "metadata": {},
     "output_type": "display_data"
    },
    {
     "data": {
      "text/html": [
       "<text style=color:black><text style=color:red>ntri(X,Y,Z)</text> :- <text style=color:red>not e(X,Y)</text>, <text style=color:green>e(Y,Z)</text>, <text style=color:red>not e(Z,X)</text>. % <text style=color:blue>[X=Y][Z]</text></text>"
      ],
      "text/plain": [
       "<IPython.core.display.HTML object>"
      ]
     },
     "metadata": {},
     "output_type": "display_data"
    },
    {
     "name": "stdout",
     "output_type": "stream",
     "text": [
      "\n",
      "PW: 31\n"
     ]
    },
    {
     "data": {
      "text/html": [
       "<text style=color:black><text style=color:red>ntri(X,X,Z)</text> :- <text style=color:green>e(X,X)</text>, <text style=color:green>e(X,Z)</text>, <text style=color:red>not e(Z,X)</text>, <text style=color:black>X != Z</text>.</text>"
      ],
      "text/plain": [
       "<IPython.core.display.HTML object>"
      ]
     },
     "metadata": {},
     "output_type": "display_data"
    },
    {
     "data": {
      "text/html": [
       "<text style=color:black><text style=color:red>ntri(X,Y,Z)</text> :- <text style=color:green>e(X,Y)</text>, <text style=color:green>e(Y,Z)</text>, <text style=color:red>not e(Z,X)</text>, X=Y, <text style=color:black>X != Z</text>.</text>"
      ],
      "text/plain": [
       "<IPython.core.display.HTML object>"
      ]
     },
     "metadata": {},
     "output_type": "display_data"
    },
    {
     "data": {
      "text/html": [
       "<text style=color:black><text style=color:red>ntri(X,Y,Z)</text> :- <text style=color:green>e(X,Y)</text>, <text style=color:green>e(Y,Z)</text>, <text style=color:red>not e(Z,X)</text>, X=Y, <text style=color:black>X != Z</text>.</text>"
      ],
      "text/plain": [
       "<IPython.core.display.HTML object>"
      ]
     },
     "metadata": {},
     "output_type": "display_data"
    },
    {
     "data": {
      "text/html": [
       "<text style=color:black><text style=color:red>ntri(X,Y,Z)</text> :- <text style=color:green>e(X,Y)</text>, <text style=color:green>e(Y,Z)</text>, <text style=color:red>not e(Z,X)</text>. % <text style=color:blue>[X=Y][Z]</text></text>"
      ],
      "text/plain": [
       "<IPython.core.display.HTML object>"
      ]
     },
     "metadata": {},
     "output_type": "display_data"
    },
    {
     "name": "stdout",
     "output_type": "stream",
     "text": [
      "\n",
      "PW: 32\n"
     ]
    },
    {
     "data": {
      "text/html": [
       "<text style=color:black><text style=color:red>ntri(X,X,Z)</text> :- <text style=color:red>not e(X,X)</text>, <text style=color:green>e(X,Z)</text>, <text style=color:green>e(Z,X)</text>, <text style=color:black>X != Z</text>.</text>"
      ],
      "text/plain": [
       "<IPython.core.display.HTML object>"
      ]
     },
     "metadata": {},
     "output_type": "display_data"
    },
    {
     "data": {
      "text/html": [
       "<text style=color:black><text style=color:red>ntri(X,Y,Z)</text> :- <text style=color:red>not e(X,Y)</text>, <text style=color:green>e(Y,Z)</text>, <text style=color:green>e(Z,X)</text>, X=Y, <text style=color:black>X != Z</text>.</text>"
      ],
      "text/plain": [
       "<IPython.core.display.HTML object>"
      ]
     },
     "metadata": {},
     "output_type": "display_data"
    },
    {
     "data": {
      "text/html": [
       "<text style=color:black><text style=color:red>ntri(X,Y,Z)</text> :- <text style=color:red>not e(X,Y)</text>, <text style=color:green>e(Y,Z)</text>, <text style=color:green>e(Z,X)</text>, X=Y, <text style=color:black>X != Z</text>.</text>"
      ],
      "text/plain": [
       "<IPython.core.display.HTML object>"
      ]
     },
     "metadata": {},
     "output_type": "display_data"
    },
    {
     "data": {
      "text/html": [
       "<text style=color:black><text style=color:red>ntri(X,Y,Z)</text> :- <text style=color:red>not e(X,Y)</text>, <text style=color:green>e(Y,Z)</text>, <text style=color:green>e(Z,X)</text>. % <text style=color:blue>[X=Y][Z]</text></text>"
      ],
      "text/plain": [
       "<IPython.core.display.HTML object>"
      ]
     },
     "metadata": {},
     "output_type": "display_data"
    },
    {
     "name": "stdout",
     "output_type": "stream",
     "text": [
      "\n",
      "PW: 33\n"
     ]
    },
    {
     "data": {
      "text/html": [
       "<text style=color:black><text style=color:green>tri(X,X,Z)</text> :- <text style=color:green>e(X,X)</text>, <text style=color:green>e(X,Z)</text>, <text style=color:green>e(Z,X)</text>, <text style=color:black>X != Z</text>.</text>"
      ],
      "text/plain": [
       "<IPython.core.display.HTML object>"
      ]
     },
     "metadata": {},
     "output_type": "display_data"
    },
    {
     "data": {
      "text/html": [
       "<text style=color:black><text style=color:green>tri(X,Y,Z)</text> :- <text style=color:green>e(X,Y)</text>, <text style=color:green>e(Y,Z)</text>, <text style=color:green>e(Z,X)</text>, X=Y, <text style=color:black>X != Z</text>.</text>"
      ],
      "text/plain": [
       "<IPython.core.display.HTML object>"
      ]
     },
     "metadata": {},
     "output_type": "display_data"
    },
    {
     "data": {
      "text/html": [
       "<text style=color:black><text style=color:green>tri(X,Y,Z)</text> :- <text style=color:green>e(X,Y)</text>, <text style=color:green>e(Y,Z)</text>, <text style=color:green>e(Z,X)</text>, X=Y, <text style=color:black>X != Z</text>.</text>"
      ],
      "text/plain": [
       "<IPython.core.display.HTML object>"
      ]
     },
     "metadata": {},
     "output_type": "display_data"
    },
    {
     "data": {
      "text/html": [
       "<text style=color:black><text style=color:green>tri(X,Y,Z)</text> :- <text style=color:green>e(X,Y)</text>, <text style=color:green>e(Y,Z)</text>, <text style=color:green>e(Z,X)</text>. % <text style=color:blue>[X=Y][Z]</text></text>"
      ],
      "text/plain": [
       "<IPython.core.display.HTML object>"
      ]
     },
     "metadata": {},
     "output_type": "display_data"
    },
    {
     "name": "stdout",
     "output_type": "stream",
     "text": [
      "\n",
      "PW: 34\n"
     ]
    },
    {
     "data": {
      "text/html": [
       "<text style=color:black><text style=color:green>tri(X,X,X)</text> :- <text style=color:green>e(X,X)</text>, <text style=color:green>e(X,X)</text>, <text style=color:green>e(X,X)</text>.</text>"
      ],
      "text/plain": [
       "<IPython.core.display.HTML object>"
      ]
     },
     "metadata": {},
     "output_type": "display_data"
    },
    {
     "data": {
      "text/html": [
       "<text style=color:black><text style=color:green>tri(X,Y,Z)</text> :- <text style=color:green>e(X,Y)</text>, <text style=color:green>e(Y,Z)</text>, <text style=color:green>e(Z,X)</text>, X=Y, X=Z.</text>"
      ],
      "text/plain": [
       "<IPython.core.display.HTML object>"
      ]
     },
     "metadata": {},
     "output_type": "display_data"
    },
    {
     "data": {
      "text/html": [
       "<text style=color:black><text style=color:green>tri(X,Y,Z)</text> :- <text style=color:green>e(X,Y)</text>, <text style=color:green>e(Y,Z)</text>, <text style=color:green>e(Z,X)</text>, X=Y=Z.</text>"
      ],
      "text/plain": [
       "<IPython.core.display.HTML object>"
      ]
     },
     "metadata": {},
     "output_type": "display_data"
    },
    {
     "data": {
      "text/html": [
       "<text style=color:black><text style=color:green>tri(X,Y,Z)</text> :- <text style=color:green>e(X,Y)</text>, <text style=color:green>e(Y,Z)</text>, <text style=color:green>e(Z,X)</text>. % <text style=color:blue>[X=Y=Z]</text></text>"
      ],
      "text/plain": [
       "<IPython.core.display.HTML object>"
      ]
     },
     "metadata": {},
     "output_type": "display_data"
    }
   ],
   "source": [
    "for i in range(1, len(query_analysis['pw_objs'])+1):\n",
    "    print(\"\\nPW:\", i)\n",
    "    pw_rel_dfs = pw_slicer(query_analysis['pw_rel_dfs'], None, [i])[0]        \n",
    "\n",
    "#     g = get_incidence_graph(pw_rel_dfs)\n",
    "#     display(draw(g))\n",
    "#     print_colored_query_string(pw_rel_dfs)\n",
    "    print_rewritten_query_string(pw_rel_dfs)\n",
    "    print_explicit_rewritten_query_string(pw_rel_dfs, chain_eq=False)\n",
    "    print_explicit_rewritten_query_string(pw_rel_dfs, chain_eq=True)\n",
    "    print_fancy_rewrite(pw_rel_dfs)\n",
    "    \n",
    "#     g = get_pattern_graph2(pw_rel_dfs)\n",
    "#     draw(g, format='pdf', filename='{}.{}'.format('3hop_all_patterns/pw_{}'.format(i), 'pdf'), show='none')\n",
    "#     display(draw(g))"
   ]
  },
  {
   "cell_type": "code",
   "execution_count": 12,
   "metadata": {
    "scrolled": false
   },
   "outputs": [
    {
     "data": {
      "text/html": [
       "<text style=color:black><text style=color:red>ntri(X,Y,Z)</text> :- <text style=color:red>not e(X,Y)</text>, <text style=color:red>not e(Y,Z)</text>, <text style=color:red>not e(Z,X)</text>, <text style=color:black>X != Y</text>, <text style=color:black>X != Z</text>, <text style=color:black>Y != Z</text>.</text>"
      ],
      "text/plain": [
       "<IPython.core.display.HTML object>"
      ]
     },
     "metadata": {},
     "output_type": "display_data"
    },
    {
     "data": {
      "text/html": [
       "<text style=color:black><text style=color:red>ntri(X,Y,Z)</text> :- <text style=color:green>e(X,Y)</text>, <text style=color:red>not e(Y,Z)</text>, <text style=color:red>not e(Z,X)</text>, <text style=color:black>X != Y</text>, <text style=color:black>X != Z</text>, <text style=color:black>Y != Z</text>.</text>"
      ],
      "text/plain": [
       "<IPython.core.display.HTML object>"
      ]
     },
     "metadata": {},
     "output_type": "display_data"
    },
    {
     "data": {
      "text/html": [
       "<text style=color:black><text style=color:red>ntri(X,Y,Z)</text> :- <text style=color:red>not e(X,Y)</text>, <text style=color:red>not e(Y,Z)</text>, <text style=color:green>e(Z,X)</text>, <text style=color:black>X != Y</text>, <text style=color:black>X != Z</text>, <text style=color:black>Y != Z</text>.</text>"
      ],
      "text/plain": [
       "<IPython.core.display.HTML object>"
      ]
     },
     "metadata": {},
     "output_type": "display_data"
    },
    {
     "data": {
      "text/html": [
       "<text style=color:black><text style=color:red>ntri(X,Y,Z)</text> :- <text style=color:green>e(X,Y)</text>, <text style=color:red>not e(Y,Z)</text>, <text style=color:green>e(Z,X)</text>, <text style=color:black>X != Y</text>, <text style=color:black>X != Z</text>, <text style=color:black>Y != Z</text>.</text>"
      ],
      "text/plain": [
       "<IPython.core.display.HTML object>"
      ]
     },
     "metadata": {},
     "output_type": "display_data"
    },
    {
     "data": {
      "text/html": [
       "<text style=color:black><text style=color:red>ntri(X,Y,Y)</text> :- <text style=color:red>not e(X,Y)</text>, <text style=color:red>not e(Y,Y)</text>, <text style=color:red>not e(Y,X)</text>, <text style=color:black>X != Y</text>.</text>"
      ],
      "text/plain": [
       "<IPython.core.display.HTML object>"
      ]
     },
     "metadata": {},
     "output_type": "display_data"
    },
    {
     "data": {
      "text/html": [
       "<text style=color:black><text style=color:red>ntri(X,Y,Y)</text> :- <text style=color:green>e(X,Y)</text>, <text style=color:red>not e(Y,Y)</text>, <text style=color:red>not e(Y,X)</text>, <text style=color:black>X != Y</text>.</text>"
      ],
      "text/plain": [
       "<IPython.core.display.HTML object>"
      ]
     },
     "metadata": {},
     "output_type": "display_data"
    },
    {
     "data": {
      "text/html": [
       "<text style=color:black><text style=color:red>ntri(X,Y,Y)</text> :- <text style=color:red>not e(X,Y)</text>, <text style=color:red>not e(Y,Y)</text>, <text style=color:green>e(Y,X)</text>, <text style=color:black>X != Y</text>.</text>"
      ],
      "text/plain": [
       "<IPython.core.display.HTML object>"
      ]
     },
     "metadata": {},
     "output_type": "display_data"
    },
    {
     "data": {
      "text/html": [
       "<text style=color:black><text style=color:red>ntri(X,Y,Y)</text> :- <text style=color:green>e(X,Y)</text>, <text style=color:red>not e(Y,Y)</text>, <text style=color:green>e(Y,X)</text>, <text style=color:black>X != Y</text>.</text>"
      ],
      "text/plain": [
       "<IPython.core.display.HTML object>"
      ]
     },
     "metadata": {},
     "output_type": "display_data"
    },
    {
     "data": {
      "text/html": [
       "<text style=color:black><text style=color:red>ntri(X,Y,X)</text> :- <text style=color:red>not e(X,Y)</text>, <text style=color:red>not e(Y,X)</text>, <text style=color:red>not e(X,X)</text>, <text style=color:black>X != Y</text>.</text>"
      ],
      "text/plain": [
       "<IPython.core.display.HTML object>"
      ]
     },
     "metadata": {},
     "output_type": "display_data"
    },
    {
     "data": {
      "text/html": [
       "<text style=color:black><text style=color:red>ntri(X,Y,X)</text> :- <text style=color:green>e(X,Y)</text>, <text style=color:red>not e(Y,X)</text>, <text style=color:red>not e(X,X)</text>, <text style=color:black>X != Y</text>.</text>"
      ],
      "text/plain": [
       "<IPython.core.display.HTML object>"
      ]
     },
     "metadata": {},
     "output_type": "display_data"
    },
    {
     "data": {
      "text/html": [
       "<text style=color:black><text style=color:red>ntri(X,Y,X)</text> :- <text style=color:red>not e(X,Y)</text>, <text style=color:red>not e(Y,X)</text>, <text style=color:green>e(X,X)</text>, <text style=color:black>X != Y</text>.</text>"
      ],
      "text/plain": [
       "<IPython.core.display.HTML object>"
      ]
     },
     "metadata": {},
     "output_type": "display_data"
    },
    {
     "data": {
      "text/html": [
       "<text style=color:black><text style=color:red>ntri(X,Y,X)</text> :- <text style=color:green>e(X,Y)</text>, <text style=color:red>not e(Y,X)</text>, <text style=color:green>e(X,X)</text>, <text style=color:black>X != Y</text>.</text>"
      ],
      "text/plain": [
       "<IPython.core.display.HTML object>"
      ]
     },
     "metadata": {},
     "output_type": "display_data"
    },
    {
     "data": {
      "text/html": [
       "<text style=color:black><text style=color:red>ntri(X,Y,Z)</text> :- <text style=color:red>not e(X,Y)</text>, <text style=color:green>e(Y,Z)</text>, <text style=color:red>not e(Z,X)</text>, <text style=color:black>X != Y</text>, <text style=color:black>X != Z</text>, <text style=color:black>Y != Z</text>.</text>"
      ],
      "text/plain": [
       "<IPython.core.display.HTML object>"
      ]
     },
     "metadata": {},
     "output_type": "display_data"
    },
    {
     "data": {
      "text/html": [
       "<text style=color:black><text style=color:red>ntri(X,Y,Z)</text> :- <text style=color:green>e(X,Y)</text>, <text style=color:green>e(Y,Z)</text>, <text style=color:red>not e(Z,X)</text>, <text style=color:black>X != Y</text>, <text style=color:black>X != Z</text>, <text style=color:black>Y != Z</text>.</text>"
      ],
      "text/plain": [
       "<IPython.core.display.HTML object>"
      ]
     },
     "metadata": {},
     "output_type": "display_data"
    },
    {
     "data": {
      "text/html": [
       "<text style=color:black><text style=color:red>ntri(X,Y,Z)</text> :- <text style=color:red>not e(X,Y)</text>, <text style=color:green>e(Y,Z)</text>, <text style=color:green>e(Z,X)</text>, <text style=color:black>X != Y</text>, <text style=color:black>X != Z</text>, <text style=color:black>Y != Z</text>.</text>"
      ],
      "text/plain": [
       "<IPython.core.display.HTML object>"
      ]
     },
     "metadata": {},
     "output_type": "display_data"
    },
    {
     "data": {
      "text/html": [
       "<text style=color:black><text style=color:green>tri(X,Y,Z)</text> :- <text style=color:green>e(X,Y)</text>, <text style=color:green>e(Y,Z)</text>, <text style=color:green>e(Z,X)</text>, <text style=color:black>X != Y</text>, <text style=color:black>X != Z</text>, <text style=color:black>Y != Z</text>.</text>"
      ],
      "text/plain": [
       "<IPython.core.display.HTML object>"
      ]
     },
     "metadata": {},
     "output_type": "display_data"
    },
    {
     "data": {
      "text/html": [
       "<text style=color:black><text style=color:red>ntri(X,Y,Y)</text> :- <text style=color:red>not e(X,Y)</text>, <text style=color:green>e(Y,Y)</text>, <text style=color:red>not e(Y,X)</text>, <text style=color:black>X != Y</text>.</text>"
      ],
      "text/plain": [
       "<IPython.core.display.HTML object>"
      ]
     },
     "metadata": {},
     "output_type": "display_data"
    },
    {
     "data": {
      "text/html": [
       "<text style=color:black><text style=color:red>ntri(X,Y,Y)</text> :- <text style=color:green>e(X,Y)</text>, <text style=color:green>e(Y,Y)</text>, <text style=color:red>not e(Y,X)</text>, <text style=color:black>X != Y</text>.</text>"
      ],
      "text/plain": [
       "<IPython.core.display.HTML object>"
      ]
     },
     "metadata": {},
     "output_type": "display_data"
    },
    {
     "data": {
      "text/html": [
       "<text style=color:black><text style=color:red>ntri(X,Y,Y)</text> :- <text style=color:red>not e(X,Y)</text>, <text style=color:green>e(Y,Y)</text>, <text style=color:green>e(Y,X)</text>, <text style=color:black>X != Y</text>.</text>"
      ],
      "text/plain": [
       "<IPython.core.display.HTML object>"
      ]
     },
     "metadata": {},
     "output_type": "display_data"
    },
    {
     "data": {
      "text/html": [
       "<text style=color:black><text style=color:green>tri(X,Y,Y)</text> :- <text style=color:green>e(X,Y)</text>, <text style=color:green>e(Y,Y)</text>, <text style=color:green>e(Y,X)</text>, <text style=color:black>X != Y</text>.</text>"
      ],
      "text/plain": [
       "<IPython.core.display.HTML object>"
      ]
     },
     "metadata": {},
     "output_type": "display_data"
    },
    {
     "data": {
      "text/html": [
       "<text style=color:black><text style=color:red>ntri(X,Y,X)</text> :- <text style=color:red>not e(X,Y)</text>, <text style=color:green>e(Y,X)</text>, <text style=color:red>not e(X,X)</text>, <text style=color:black>X != Y</text>.</text>"
      ],
      "text/plain": [
       "<IPython.core.display.HTML object>"
      ]
     },
     "metadata": {},
     "output_type": "display_data"
    },
    {
     "data": {
      "text/html": [
       "<text style=color:black><text style=color:red>ntri(X,Y,X)</text> :- <text style=color:green>e(X,Y)</text>, <text style=color:green>e(Y,X)</text>, <text style=color:red>not e(X,X)</text>, <text style=color:black>X != Y</text>.</text>"
      ],
      "text/plain": [
       "<IPython.core.display.HTML object>"
      ]
     },
     "metadata": {},
     "output_type": "display_data"
    },
    {
     "data": {
      "text/html": [
       "<text style=color:black><text style=color:red>ntri(X,Y,X)</text> :- <text style=color:red>not e(X,Y)</text>, <text style=color:green>e(Y,X)</text>, <text style=color:green>e(X,X)</text>, <text style=color:black>X != Y</text>.</text>"
      ],
      "text/plain": [
       "<IPython.core.display.HTML object>"
      ]
     },
     "metadata": {},
     "output_type": "display_data"
    },
    {
     "data": {
      "text/html": [
       "<text style=color:black><text style=color:green>tri(X,Y,X)</text> :- <text style=color:green>e(X,Y)</text>, <text style=color:green>e(Y,X)</text>, <text style=color:green>e(X,X)</text>, <text style=color:black>X != Y</text>.</text>"
      ],
      "text/plain": [
       "<IPython.core.display.HTML object>"
      ]
     },
     "metadata": {},
     "output_type": "display_data"
    },
    {
     "data": {
      "text/html": [
       "<text style=color:black><text style=color:red>ntri(X,X,Z)</text> :- <text style=color:red>not e(X,X)</text>, <text style=color:red>not e(X,Z)</text>, <text style=color:red>not e(Z,X)</text>, <text style=color:black>X != Z</text>.</text>"
      ],
      "text/plain": [
       "<IPython.core.display.HTML object>"
      ]
     },
     "metadata": {},
     "output_type": "display_data"
    },
    {
     "data": {
      "text/html": [
       "<text style=color:black><text style=color:red>ntri(X,X,Z)</text> :- <text style=color:green>e(X,X)</text>, <text style=color:red>not e(X,Z)</text>, <text style=color:red>not e(Z,X)</text>, <text style=color:black>X != Z</text>.</text>"
      ],
      "text/plain": [
       "<IPython.core.display.HTML object>"
      ]
     },
     "metadata": {},
     "output_type": "display_data"
    },
    {
     "data": {
      "text/html": [
       "<text style=color:black><text style=color:red>ntri(X,X,Z)</text> :- <text style=color:red>not e(X,X)</text>, <text style=color:red>not e(X,Z)</text>, <text style=color:green>e(Z,X)</text>, <text style=color:black>X != Z</text>.</text>"
      ],
      "text/plain": [
       "<IPython.core.display.HTML object>"
      ]
     },
     "metadata": {},
     "output_type": "display_data"
    },
    {
     "data": {
      "text/html": [
       "<text style=color:black><text style=color:red>ntri(X,X,Z)</text> :- <text style=color:green>e(X,X)</text>, <text style=color:red>not e(X,Z)</text>, <text style=color:green>e(Z,X)</text>, <text style=color:black>X != Z</text>.</text>"
      ],
      "text/plain": [
       "<IPython.core.display.HTML object>"
      ]
     },
     "metadata": {},
     "output_type": "display_data"
    },
    {
     "data": {
      "text/html": [
       "<text style=color:black><text style=color:red>ntri(X,X,X)</text> :- <text style=color:red>not e(X,X)</text>, <text style=color:red>not e(X,X)</text>, <text style=color:red>not e(X,X)</text>.</text>"
      ],
      "text/plain": [
       "<IPython.core.display.HTML object>"
      ]
     },
     "metadata": {},
     "output_type": "display_data"
    },
    {
     "data": {
      "text/html": [
       "<text style=color:black><text style=color:red>ntri(X,X,Z)</text> :- <text style=color:red>not e(X,X)</text>, <text style=color:green>e(X,Z)</text>, <text style=color:red>not e(Z,X)</text>, <text style=color:black>X != Z</text>.</text>"
      ],
      "text/plain": [
       "<IPython.core.display.HTML object>"
      ]
     },
     "metadata": {},
     "output_type": "display_data"
    },
    {
     "data": {
      "text/html": [
       "<text style=color:black><text style=color:red>ntri(X,X,Z)</text> :- <text style=color:green>e(X,X)</text>, <text style=color:green>e(X,Z)</text>, <text style=color:red>not e(Z,X)</text>, <text style=color:black>X != Z</text>.</text>"
      ],
      "text/plain": [
       "<IPython.core.display.HTML object>"
      ]
     },
     "metadata": {},
     "output_type": "display_data"
    },
    {
     "data": {
      "text/html": [
       "<text style=color:black><text style=color:red>ntri(X,X,Z)</text> :- <text style=color:red>not e(X,X)</text>, <text style=color:green>e(X,Z)</text>, <text style=color:green>e(Z,X)</text>, <text style=color:black>X != Z</text>.</text>"
      ],
      "text/plain": [
       "<IPython.core.display.HTML object>"
      ]
     },
     "metadata": {},
     "output_type": "display_data"
    },
    {
     "data": {
      "text/html": [
       "<text style=color:black><text style=color:green>tri(X,X,Z)</text> :- <text style=color:green>e(X,X)</text>, <text style=color:green>e(X,Z)</text>, <text style=color:green>e(Z,X)</text>, <text style=color:black>X != Z</text>.</text>"
      ],
      "text/plain": [
       "<IPython.core.display.HTML object>"
      ]
     },
     "metadata": {},
     "output_type": "display_data"
    },
    {
     "data": {
      "text/html": [
       "<text style=color:black><text style=color:green>tri(X,X,X)</text> :- <text style=color:green>e(X,X)</text>, <text style=color:green>e(X,X)</text>, <text style=color:green>e(X,X)</text>.</text>"
      ],
      "text/plain": [
       "<IPython.core.display.HTML object>"
      ]
     },
     "metadata": {},
     "output_type": "display_data"
    }
   ],
   "source": [
    "# Can be used directly\n",
    "for i in range(1, len(query_analysis['pw_objs'])+1):\n",
    "    pw_rel_dfs = pw_slicer(query_analysis['pw_rel_dfs'], None, [i])[0]        \n",
    "    print_rewritten_query_string(pw_rel_dfs)"
   ]
  },
  {
   "cell_type": "code",
   "execution_count": 13,
   "metadata": {
    "scrolled": false
   },
   "outputs": [
    {
     "data": {
      "text/html": [
       "<text style=color:black><text style=color:red>ntri(X,Y,Z)</text> :- <text style=color:red>not e(X,Y)</text>, <text style=color:red>not e(Y,Z)</text>, <text style=color:red>not e(Z,X)</text>, <text style=color:black>X != Y</text>, <text style=color:black>X != Z</text>, <text style=color:black>Y != Z</text>.</text>"
      ],
      "text/plain": [
       "<IPython.core.display.HTML object>"
      ]
     },
     "metadata": {},
     "output_type": "display_data"
    },
    {
     "data": {
      "text/html": [
       "<text style=color:black><text style=color:red>ntri(X,Y,Z)</text> :- <text style=color:green>e(X,Y)</text>, <text style=color:red>not e(Y,Z)</text>, <text style=color:red>not e(Z,X)</text>, <text style=color:black>X != Y</text>, <text style=color:black>X != Z</text>, <text style=color:black>Y != Z</text>.</text>"
      ],
      "text/plain": [
       "<IPython.core.display.HTML object>"
      ]
     },
     "metadata": {},
     "output_type": "display_data"
    },
    {
     "data": {
      "text/html": [
       "<text style=color:black><text style=color:red>ntri(X,Y,Z)</text> :- <text style=color:red>not e(X,Y)</text>, <text style=color:red>not e(Y,Z)</text>, <text style=color:green>e(Z,X)</text>, <text style=color:black>X != Y</text>, <text style=color:black>X != Z</text>, <text style=color:black>Y != Z</text>.</text>"
      ],
      "text/plain": [
       "<IPython.core.display.HTML object>"
      ]
     },
     "metadata": {},
     "output_type": "display_data"
    },
    {
     "data": {
      "text/html": [
       "<text style=color:black><text style=color:red>ntri(X,Y,Z)</text> :- <text style=color:green>e(X,Y)</text>, <text style=color:red>not e(Y,Z)</text>, <text style=color:green>e(Z,X)</text>, <text style=color:black>X != Y</text>, <text style=color:black>X != Z</text>, <text style=color:black>Y != Z</text>.</text>"
      ],
      "text/plain": [
       "<IPython.core.display.HTML object>"
      ]
     },
     "metadata": {},
     "output_type": "display_data"
    },
    {
     "data": {
      "text/html": [
       "<text style=color:black><text style=color:red>ntri(X,Y,Z)</text> :- <text style=color:red>not e(X,Y)</text>, <text style=color:red>not e(Y,Z)</text>, <text style=color:red>not e(Z,X)</text>, Y=Z, <text style=color:black>X != Y</text>.</text>"
      ],
      "text/plain": [
       "<IPython.core.display.HTML object>"
      ]
     },
     "metadata": {},
     "output_type": "display_data"
    },
    {
     "data": {
      "text/html": [
       "<text style=color:black><text style=color:red>ntri(X,Y,Z)</text> :- <text style=color:green>e(X,Y)</text>, <text style=color:red>not e(Y,Z)</text>, <text style=color:red>not e(Z,X)</text>, Y=Z, <text style=color:black>X != Y</text>.</text>"
      ],
      "text/plain": [
       "<IPython.core.display.HTML object>"
      ]
     },
     "metadata": {},
     "output_type": "display_data"
    },
    {
     "data": {
      "text/html": [
       "<text style=color:black><text style=color:red>ntri(X,Y,Z)</text> :- <text style=color:red>not e(X,Y)</text>, <text style=color:red>not e(Y,Z)</text>, <text style=color:green>e(Z,X)</text>, Y=Z, <text style=color:black>X != Y</text>.</text>"
      ],
      "text/plain": [
       "<IPython.core.display.HTML object>"
      ]
     },
     "metadata": {},
     "output_type": "display_data"
    },
    {
     "data": {
      "text/html": [
       "<text style=color:black><text style=color:red>ntri(X,Y,Z)</text> :- <text style=color:green>e(X,Y)</text>, <text style=color:red>not e(Y,Z)</text>, <text style=color:green>e(Z,X)</text>, Y=Z, <text style=color:black>X != Y</text>.</text>"
      ],
      "text/plain": [
       "<IPython.core.display.HTML object>"
      ]
     },
     "metadata": {},
     "output_type": "display_data"
    },
    {
     "data": {
      "text/html": [
       "<text style=color:black><text style=color:red>ntri(X,Y,Z)</text> :- <text style=color:red>not e(X,Y)</text>, <text style=color:red>not e(Y,Z)</text>, <text style=color:red>not e(Z,X)</text>, X=Z, <text style=color:black>X != Y</text>.</text>"
      ],
      "text/plain": [
       "<IPython.core.display.HTML object>"
      ]
     },
     "metadata": {},
     "output_type": "display_data"
    },
    {
     "data": {
      "text/html": [
       "<text style=color:black><text style=color:red>ntri(X,Y,Z)</text> :- <text style=color:green>e(X,Y)</text>, <text style=color:red>not e(Y,Z)</text>, <text style=color:red>not e(Z,X)</text>, X=Z, <text style=color:black>X != Y</text>.</text>"
      ],
      "text/plain": [
       "<IPython.core.display.HTML object>"
      ]
     },
     "metadata": {},
     "output_type": "display_data"
    },
    {
     "data": {
      "text/html": [
       "<text style=color:black><text style=color:red>ntri(X,Y,Z)</text> :- <text style=color:red>not e(X,Y)</text>, <text style=color:red>not e(Y,Z)</text>, <text style=color:green>e(Z,X)</text>, X=Z, <text style=color:black>X != Y</text>.</text>"
      ],
      "text/plain": [
       "<IPython.core.display.HTML object>"
      ]
     },
     "metadata": {},
     "output_type": "display_data"
    },
    {
     "data": {
      "text/html": [
       "<text style=color:black><text style=color:red>ntri(X,Y,Z)</text> :- <text style=color:green>e(X,Y)</text>, <text style=color:red>not e(Y,Z)</text>, <text style=color:green>e(Z,X)</text>, X=Z, <text style=color:black>X != Y</text>.</text>"
      ],
      "text/plain": [
       "<IPython.core.display.HTML object>"
      ]
     },
     "metadata": {},
     "output_type": "display_data"
    },
    {
     "data": {
      "text/html": [
       "<text style=color:black><text style=color:red>ntri(X,Y,Z)</text> :- <text style=color:red>not e(X,Y)</text>, <text style=color:green>e(Y,Z)</text>, <text style=color:red>not e(Z,X)</text>, <text style=color:black>X != Y</text>, <text style=color:black>X != Z</text>, <text style=color:black>Y != Z</text>.</text>"
      ],
      "text/plain": [
       "<IPython.core.display.HTML object>"
      ]
     },
     "metadata": {},
     "output_type": "display_data"
    },
    {
     "data": {
      "text/html": [
       "<text style=color:black><text style=color:red>ntri(X,Y,Z)</text> :- <text style=color:green>e(X,Y)</text>, <text style=color:green>e(Y,Z)</text>, <text style=color:red>not e(Z,X)</text>, <text style=color:black>X != Y</text>, <text style=color:black>X != Z</text>, <text style=color:black>Y != Z</text>.</text>"
      ],
      "text/plain": [
       "<IPython.core.display.HTML object>"
      ]
     },
     "metadata": {},
     "output_type": "display_data"
    },
    {
     "data": {
      "text/html": [
       "<text style=color:black><text style=color:red>ntri(X,Y,Z)</text> :- <text style=color:red>not e(X,Y)</text>, <text style=color:green>e(Y,Z)</text>, <text style=color:green>e(Z,X)</text>, <text style=color:black>X != Y</text>, <text style=color:black>X != Z</text>, <text style=color:black>Y != Z</text>.</text>"
      ],
      "text/plain": [
       "<IPython.core.display.HTML object>"
      ]
     },
     "metadata": {},
     "output_type": "display_data"
    },
    {
     "data": {
      "text/html": [
       "<text style=color:black><text style=color:green>tri(X,Y,Z)</text> :- <text style=color:green>e(X,Y)</text>, <text style=color:green>e(Y,Z)</text>, <text style=color:green>e(Z,X)</text>, <text style=color:black>X != Y</text>, <text style=color:black>X != Z</text>, <text style=color:black>Y != Z</text>.</text>"
      ],
      "text/plain": [
       "<IPython.core.display.HTML object>"
      ]
     },
     "metadata": {},
     "output_type": "display_data"
    },
    {
     "data": {
      "text/html": [
       "<text style=color:black><text style=color:red>ntri(X,Y,Z)</text> :- <text style=color:red>not e(X,Y)</text>, <text style=color:green>e(Y,Z)</text>, <text style=color:red>not e(Z,X)</text>, Y=Z, <text style=color:black>X != Y</text>.</text>"
      ],
      "text/plain": [
       "<IPython.core.display.HTML object>"
      ]
     },
     "metadata": {},
     "output_type": "display_data"
    },
    {
     "data": {
      "text/html": [
       "<text style=color:black><text style=color:red>ntri(X,Y,Z)</text> :- <text style=color:green>e(X,Y)</text>, <text style=color:green>e(Y,Z)</text>, <text style=color:red>not e(Z,X)</text>, Y=Z, <text style=color:black>X != Y</text>.</text>"
      ],
      "text/plain": [
       "<IPython.core.display.HTML object>"
      ]
     },
     "metadata": {},
     "output_type": "display_data"
    },
    {
     "data": {
      "text/html": [
       "<text style=color:black><text style=color:red>ntri(X,Y,Z)</text> :- <text style=color:red>not e(X,Y)</text>, <text style=color:green>e(Y,Z)</text>, <text style=color:green>e(Z,X)</text>, Y=Z, <text style=color:black>X != Y</text>.</text>"
      ],
      "text/plain": [
       "<IPython.core.display.HTML object>"
      ]
     },
     "metadata": {},
     "output_type": "display_data"
    },
    {
     "data": {
      "text/html": [
       "<text style=color:black><text style=color:green>tri(X,Y,Z)</text> :- <text style=color:green>e(X,Y)</text>, <text style=color:green>e(Y,Z)</text>, <text style=color:green>e(Z,X)</text>, Y=Z, <text style=color:black>X != Y</text>.</text>"
      ],
      "text/plain": [
       "<IPython.core.display.HTML object>"
      ]
     },
     "metadata": {},
     "output_type": "display_data"
    },
    {
     "data": {
      "text/html": [
       "<text style=color:black><text style=color:red>ntri(X,Y,Z)</text> :- <text style=color:red>not e(X,Y)</text>, <text style=color:green>e(Y,Z)</text>, <text style=color:red>not e(Z,X)</text>, X=Z, <text style=color:black>X != Y</text>.</text>"
      ],
      "text/plain": [
       "<IPython.core.display.HTML object>"
      ]
     },
     "metadata": {},
     "output_type": "display_data"
    },
    {
     "data": {
      "text/html": [
       "<text style=color:black><text style=color:red>ntri(X,Y,Z)</text> :- <text style=color:green>e(X,Y)</text>, <text style=color:green>e(Y,Z)</text>, <text style=color:red>not e(Z,X)</text>, X=Z, <text style=color:black>X != Y</text>.</text>"
      ],
      "text/plain": [
       "<IPython.core.display.HTML object>"
      ]
     },
     "metadata": {},
     "output_type": "display_data"
    },
    {
     "data": {
      "text/html": [
       "<text style=color:black><text style=color:red>ntri(X,Y,Z)</text> :- <text style=color:red>not e(X,Y)</text>, <text style=color:green>e(Y,Z)</text>, <text style=color:green>e(Z,X)</text>, X=Z, <text style=color:black>X != Y</text>.</text>"
      ],
      "text/plain": [
       "<IPython.core.display.HTML object>"
      ]
     },
     "metadata": {},
     "output_type": "display_data"
    },
    {
     "data": {
      "text/html": [
       "<text style=color:black><text style=color:green>tri(X,Y,Z)</text> :- <text style=color:green>e(X,Y)</text>, <text style=color:green>e(Y,Z)</text>, <text style=color:green>e(Z,X)</text>, X=Z, <text style=color:black>X != Y</text>.</text>"
      ],
      "text/plain": [
       "<IPython.core.display.HTML object>"
      ]
     },
     "metadata": {},
     "output_type": "display_data"
    },
    {
     "data": {
      "text/html": [
       "<text style=color:black><text style=color:red>ntri(X,Y,Z)</text> :- <text style=color:red>not e(X,Y)</text>, <text style=color:red>not e(Y,Z)</text>, <text style=color:red>not e(Z,X)</text>, X=Y, <text style=color:black>X != Z</text>.</text>"
      ],
      "text/plain": [
       "<IPython.core.display.HTML object>"
      ]
     },
     "metadata": {},
     "output_type": "display_data"
    },
    {
     "data": {
      "text/html": [
       "<text style=color:black><text style=color:red>ntri(X,Y,Z)</text> :- <text style=color:green>e(X,Y)</text>, <text style=color:red>not e(Y,Z)</text>, <text style=color:red>not e(Z,X)</text>, X=Y, <text style=color:black>X != Z</text>.</text>"
      ],
      "text/plain": [
       "<IPython.core.display.HTML object>"
      ]
     },
     "metadata": {},
     "output_type": "display_data"
    },
    {
     "data": {
      "text/html": [
       "<text style=color:black><text style=color:red>ntri(X,Y,Z)</text> :- <text style=color:red>not e(X,Y)</text>, <text style=color:red>not e(Y,Z)</text>, <text style=color:green>e(Z,X)</text>, X=Y, <text style=color:black>X != Z</text>.</text>"
      ],
      "text/plain": [
       "<IPython.core.display.HTML object>"
      ]
     },
     "metadata": {},
     "output_type": "display_data"
    },
    {
     "data": {
      "text/html": [
       "<text style=color:black><text style=color:red>ntri(X,Y,Z)</text> :- <text style=color:green>e(X,Y)</text>, <text style=color:red>not e(Y,Z)</text>, <text style=color:green>e(Z,X)</text>, X=Y, <text style=color:black>X != Z</text>.</text>"
      ],
      "text/plain": [
       "<IPython.core.display.HTML object>"
      ]
     },
     "metadata": {},
     "output_type": "display_data"
    },
    {
     "data": {
      "text/html": [
       "<text style=color:black><text style=color:red>ntri(X,Y,Z)</text> :- <text style=color:red>not e(X,Y)</text>, <text style=color:red>not e(Y,Z)</text>, <text style=color:red>not e(Z,X)</text>, X=Y, X=Z.</text>"
      ],
      "text/plain": [
       "<IPython.core.display.HTML object>"
      ]
     },
     "metadata": {},
     "output_type": "display_data"
    },
    {
     "data": {
      "text/html": [
       "<text style=color:black><text style=color:red>ntri(X,Y,Z)</text> :- <text style=color:red>not e(X,Y)</text>, <text style=color:green>e(Y,Z)</text>, <text style=color:red>not e(Z,X)</text>, X=Y, <text style=color:black>X != Z</text>.</text>"
      ],
      "text/plain": [
       "<IPython.core.display.HTML object>"
      ]
     },
     "metadata": {},
     "output_type": "display_data"
    },
    {
     "data": {
      "text/html": [
       "<text style=color:black><text style=color:red>ntri(X,Y,Z)</text> :- <text style=color:green>e(X,Y)</text>, <text style=color:green>e(Y,Z)</text>, <text style=color:red>not e(Z,X)</text>, X=Y, <text style=color:black>X != Z</text>.</text>"
      ],
      "text/plain": [
       "<IPython.core.display.HTML object>"
      ]
     },
     "metadata": {},
     "output_type": "display_data"
    },
    {
     "data": {
      "text/html": [
       "<text style=color:black><text style=color:red>ntri(X,Y,Z)</text> :- <text style=color:red>not e(X,Y)</text>, <text style=color:green>e(Y,Z)</text>, <text style=color:green>e(Z,X)</text>, X=Y, <text style=color:black>X != Z</text>.</text>"
      ],
      "text/plain": [
       "<IPython.core.display.HTML object>"
      ]
     },
     "metadata": {},
     "output_type": "display_data"
    },
    {
     "data": {
      "text/html": [
       "<text style=color:black><text style=color:green>tri(X,Y,Z)</text> :- <text style=color:green>e(X,Y)</text>, <text style=color:green>e(Y,Z)</text>, <text style=color:green>e(Z,X)</text>, X=Y, <text style=color:black>X != Z</text>.</text>"
      ],
      "text/plain": [
       "<IPython.core.display.HTML object>"
      ]
     },
     "metadata": {},
     "output_type": "display_data"
    },
    {
     "data": {
      "text/html": [
       "<text style=color:black><text style=color:green>tri(X,Y,Z)</text> :- <text style=color:green>e(X,Y)</text>, <text style=color:green>e(Y,Z)</text>, <text style=color:green>e(Z,X)</text>, X=Y, X=Z.</text>"
      ],
      "text/plain": [
       "<IPython.core.display.HTML object>"
      ]
     },
     "metadata": {},
     "output_type": "display_data"
    }
   ],
   "source": [
    "# Can be used directly\n",
    "for i in range(1, len(query_analysis['pw_objs'])+1):\n",
    "    pw_rel_dfs = pw_slicer(query_analysis['pw_rel_dfs'], None, [i])[0]        \n",
    "    print_explicit_rewritten_query_string(pw_rel_dfs, chain_eq=False)"
   ]
  },
  {
   "cell_type": "code",
   "execution_count": 14,
   "metadata": {
    "scrolled": true
   },
   "outputs": [
    {
     "data": {
      "text/html": [
       "<text style=color:black><text style=color:red>ntri(X,Y,Z)</text> :- <text style=color:red>not e(X,Y)</text>, <text style=color:red>not e(Y,Z)</text>, <text style=color:red>not e(Z,X)</text>, <text style=color:black>X != Y</text>, <text style=color:black>X != Z</text>, <text style=color:black>Y != Z</text>.</text>"
      ],
      "text/plain": [
       "<IPython.core.display.HTML object>"
      ]
     },
     "metadata": {},
     "output_type": "display_data"
    },
    {
     "data": {
      "text/html": [
       "<text style=color:black><text style=color:red>ntri(X,Y,Z)</text> :- <text style=color:green>e(X,Y)</text>, <text style=color:red>not e(Y,Z)</text>, <text style=color:red>not e(Z,X)</text>, <text style=color:black>X != Y</text>, <text style=color:black>X != Z</text>, <text style=color:black>Y != Z</text>.</text>"
      ],
      "text/plain": [
       "<IPython.core.display.HTML object>"
      ]
     },
     "metadata": {},
     "output_type": "display_data"
    },
    {
     "data": {
      "text/html": [
       "<text style=color:black><text style=color:red>ntri(X,Y,Z)</text> :- <text style=color:red>not e(X,Y)</text>, <text style=color:red>not e(Y,Z)</text>, <text style=color:green>e(Z,X)</text>, <text style=color:black>X != Y</text>, <text style=color:black>X != Z</text>, <text style=color:black>Y != Z</text>.</text>"
      ],
      "text/plain": [
       "<IPython.core.display.HTML object>"
      ]
     },
     "metadata": {},
     "output_type": "display_data"
    },
    {
     "data": {
      "text/html": [
       "<text style=color:black><text style=color:red>ntri(X,Y,Z)</text> :- <text style=color:green>e(X,Y)</text>, <text style=color:red>not e(Y,Z)</text>, <text style=color:green>e(Z,X)</text>, <text style=color:black>X != Y</text>, <text style=color:black>X != Z</text>, <text style=color:black>Y != Z</text>.</text>"
      ],
      "text/plain": [
       "<IPython.core.display.HTML object>"
      ]
     },
     "metadata": {},
     "output_type": "display_data"
    },
    {
     "data": {
      "text/html": [
       "<text style=color:black><text style=color:red>ntri(X,Y,Z)</text> :- <text style=color:red>not e(X,Y)</text>, <text style=color:red>not e(Y,Z)</text>, <text style=color:red>not e(Z,X)</text>, Y=Z, <text style=color:black>X != Y</text>.</text>"
      ],
      "text/plain": [
       "<IPython.core.display.HTML object>"
      ]
     },
     "metadata": {},
     "output_type": "display_data"
    },
    {
     "data": {
      "text/html": [
       "<text style=color:black><text style=color:red>ntri(X,Y,Z)</text> :- <text style=color:green>e(X,Y)</text>, <text style=color:red>not e(Y,Z)</text>, <text style=color:red>not e(Z,X)</text>, Y=Z, <text style=color:black>X != Y</text>.</text>"
      ],
      "text/plain": [
       "<IPython.core.display.HTML object>"
      ]
     },
     "metadata": {},
     "output_type": "display_data"
    },
    {
     "data": {
      "text/html": [
       "<text style=color:black><text style=color:red>ntri(X,Y,Z)</text> :- <text style=color:red>not e(X,Y)</text>, <text style=color:red>not e(Y,Z)</text>, <text style=color:green>e(Z,X)</text>, Y=Z, <text style=color:black>X != Y</text>.</text>"
      ],
      "text/plain": [
       "<IPython.core.display.HTML object>"
      ]
     },
     "metadata": {},
     "output_type": "display_data"
    },
    {
     "data": {
      "text/html": [
       "<text style=color:black><text style=color:red>ntri(X,Y,Z)</text> :- <text style=color:green>e(X,Y)</text>, <text style=color:red>not e(Y,Z)</text>, <text style=color:green>e(Z,X)</text>, Y=Z, <text style=color:black>X != Y</text>.</text>"
      ],
      "text/plain": [
       "<IPython.core.display.HTML object>"
      ]
     },
     "metadata": {},
     "output_type": "display_data"
    },
    {
     "data": {
      "text/html": [
       "<text style=color:black><text style=color:red>ntri(X,Y,Z)</text> :- <text style=color:red>not e(X,Y)</text>, <text style=color:red>not e(Y,Z)</text>, <text style=color:red>not e(Z,X)</text>, X=Z, <text style=color:black>X != Y</text>.</text>"
      ],
      "text/plain": [
       "<IPython.core.display.HTML object>"
      ]
     },
     "metadata": {},
     "output_type": "display_data"
    },
    {
     "data": {
      "text/html": [
       "<text style=color:black><text style=color:red>ntri(X,Y,Z)</text> :- <text style=color:green>e(X,Y)</text>, <text style=color:red>not e(Y,Z)</text>, <text style=color:red>not e(Z,X)</text>, X=Z, <text style=color:black>X != Y</text>.</text>"
      ],
      "text/plain": [
       "<IPython.core.display.HTML object>"
      ]
     },
     "metadata": {},
     "output_type": "display_data"
    },
    {
     "data": {
      "text/html": [
       "<text style=color:black><text style=color:red>ntri(X,Y,Z)</text> :- <text style=color:red>not e(X,Y)</text>, <text style=color:red>not e(Y,Z)</text>, <text style=color:green>e(Z,X)</text>, X=Z, <text style=color:black>X != Y</text>.</text>"
      ],
      "text/plain": [
       "<IPython.core.display.HTML object>"
      ]
     },
     "metadata": {},
     "output_type": "display_data"
    },
    {
     "data": {
      "text/html": [
       "<text style=color:black><text style=color:red>ntri(X,Y,Z)</text> :- <text style=color:green>e(X,Y)</text>, <text style=color:red>not e(Y,Z)</text>, <text style=color:green>e(Z,X)</text>, X=Z, <text style=color:black>X != Y</text>.</text>"
      ],
      "text/plain": [
       "<IPython.core.display.HTML object>"
      ]
     },
     "metadata": {},
     "output_type": "display_data"
    },
    {
     "data": {
      "text/html": [
       "<text style=color:black><text style=color:red>ntri(X,Y,Z)</text> :- <text style=color:red>not e(X,Y)</text>, <text style=color:green>e(Y,Z)</text>, <text style=color:red>not e(Z,X)</text>, <text style=color:black>X != Y</text>, <text style=color:black>X != Z</text>, <text style=color:black>Y != Z</text>.</text>"
      ],
      "text/plain": [
       "<IPython.core.display.HTML object>"
      ]
     },
     "metadata": {},
     "output_type": "display_data"
    },
    {
     "data": {
      "text/html": [
       "<text style=color:black><text style=color:red>ntri(X,Y,Z)</text> :- <text style=color:green>e(X,Y)</text>, <text style=color:green>e(Y,Z)</text>, <text style=color:red>not e(Z,X)</text>, <text style=color:black>X != Y</text>, <text style=color:black>X != Z</text>, <text style=color:black>Y != Z</text>.</text>"
      ],
      "text/plain": [
       "<IPython.core.display.HTML object>"
      ]
     },
     "metadata": {},
     "output_type": "display_data"
    },
    {
     "data": {
      "text/html": [
       "<text style=color:black><text style=color:red>ntri(X,Y,Z)</text> :- <text style=color:red>not e(X,Y)</text>, <text style=color:green>e(Y,Z)</text>, <text style=color:green>e(Z,X)</text>, <text style=color:black>X != Y</text>, <text style=color:black>X != Z</text>, <text style=color:black>Y != Z</text>.</text>"
      ],
      "text/plain": [
       "<IPython.core.display.HTML object>"
      ]
     },
     "metadata": {},
     "output_type": "display_data"
    },
    {
     "data": {
      "text/html": [
       "<text style=color:black><text style=color:green>tri(X,Y,Z)</text> :- <text style=color:green>e(X,Y)</text>, <text style=color:green>e(Y,Z)</text>, <text style=color:green>e(Z,X)</text>, <text style=color:black>X != Y</text>, <text style=color:black>X != Z</text>, <text style=color:black>Y != Z</text>.</text>"
      ],
      "text/plain": [
       "<IPython.core.display.HTML object>"
      ]
     },
     "metadata": {},
     "output_type": "display_data"
    },
    {
     "data": {
      "text/html": [
       "<text style=color:black><text style=color:red>ntri(X,Y,Z)</text> :- <text style=color:red>not e(X,Y)</text>, <text style=color:green>e(Y,Z)</text>, <text style=color:red>not e(Z,X)</text>, Y=Z, <text style=color:black>X != Y</text>.</text>"
      ],
      "text/plain": [
       "<IPython.core.display.HTML object>"
      ]
     },
     "metadata": {},
     "output_type": "display_data"
    },
    {
     "data": {
      "text/html": [
       "<text style=color:black><text style=color:red>ntri(X,Y,Z)</text> :- <text style=color:green>e(X,Y)</text>, <text style=color:green>e(Y,Z)</text>, <text style=color:red>not e(Z,X)</text>, Y=Z, <text style=color:black>X != Y</text>.</text>"
      ],
      "text/plain": [
       "<IPython.core.display.HTML object>"
      ]
     },
     "metadata": {},
     "output_type": "display_data"
    },
    {
     "data": {
      "text/html": [
       "<text style=color:black><text style=color:red>ntri(X,Y,Z)</text> :- <text style=color:red>not e(X,Y)</text>, <text style=color:green>e(Y,Z)</text>, <text style=color:green>e(Z,X)</text>, Y=Z, <text style=color:black>X != Y</text>.</text>"
      ],
      "text/plain": [
       "<IPython.core.display.HTML object>"
      ]
     },
     "metadata": {},
     "output_type": "display_data"
    },
    {
     "data": {
      "text/html": [
       "<text style=color:black><text style=color:green>tri(X,Y,Z)</text> :- <text style=color:green>e(X,Y)</text>, <text style=color:green>e(Y,Z)</text>, <text style=color:green>e(Z,X)</text>, Y=Z, <text style=color:black>X != Y</text>.</text>"
      ],
      "text/plain": [
       "<IPython.core.display.HTML object>"
      ]
     },
     "metadata": {},
     "output_type": "display_data"
    },
    {
     "data": {
      "text/html": [
       "<text style=color:black><text style=color:red>ntri(X,Y,Z)</text> :- <text style=color:red>not e(X,Y)</text>, <text style=color:green>e(Y,Z)</text>, <text style=color:red>not e(Z,X)</text>, X=Z, <text style=color:black>X != Y</text>.</text>"
      ],
      "text/plain": [
       "<IPython.core.display.HTML object>"
      ]
     },
     "metadata": {},
     "output_type": "display_data"
    },
    {
     "data": {
      "text/html": [
       "<text style=color:black><text style=color:red>ntri(X,Y,Z)</text> :- <text style=color:green>e(X,Y)</text>, <text style=color:green>e(Y,Z)</text>, <text style=color:red>not e(Z,X)</text>, X=Z, <text style=color:black>X != Y</text>.</text>"
      ],
      "text/plain": [
       "<IPython.core.display.HTML object>"
      ]
     },
     "metadata": {},
     "output_type": "display_data"
    },
    {
     "data": {
      "text/html": [
       "<text style=color:black><text style=color:red>ntri(X,Y,Z)</text> :- <text style=color:red>not e(X,Y)</text>, <text style=color:green>e(Y,Z)</text>, <text style=color:green>e(Z,X)</text>, X=Z, <text style=color:black>X != Y</text>.</text>"
      ],
      "text/plain": [
       "<IPython.core.display.HTML object>"
      ]
     },
     "metadata": {},
     "output_type": "display_data"
    },
    {
     "data": {
      "text/html": [
       "<text style=color:black><text style=color:green>tri(X,Y,Z)</text> :- <text style=color:green>e(X,Y)</text>, <text style=color:green>e(Y,Z)</text>, <text style=color:green>e(Z,X)</text>, X=Z, <text style=color:black>X != Y</text>.</text>"
      ],
      "text/plain": [
       "<IPython.core.display.HTML object>"
      ]
     },
     "metadata": {},
     "output_type": "display_data"
    },
    {
     "data": {
      "text/html": [
       "<text style=color:black><text style=color:red>ntri(X,Y,Z)</text> :- <text style=color:red>not e(X,Y)</text>, <text style=color:red>not e(Y,Z)</text>, <text style=color:red>not e(Z,X)</text>, X=Y, <text style=color:black>X != Z</text>.</text>"
      ],
      "text/plain": [
       "<IPython.core.display.HTML object>"
      ]
     },
     "metadata": {},
     "output_type": "display_data"
    },
    {
     "data": {
      "text/html": [
       "<text style=color:black><text style=color:red>ntri(X,Y,Z)</text> :- <text style=color:green>e(X,Y)</text>, <text style=color:red>not e(Y,Z)</text>, <text style=color:red>not e(Z,X)</text>, X=Y, <text style=color:black>X != Z</text>.</text>"
      ],
      "text/plain": [
       "<IPython.core.display.HTML object>"
      ]
     },
     "metadata": {},
     "output_type": "display_data"
    },
    {
     "data": {
      "text/html": [
       "<text style=color:black><text style=color:red>ntri(X,Y,Z)</text> :- <text style=color:red>not e(X,Y)</text>, <text style=color:red>not e(Y,Z)</text>, <text style=color:green>e(Z,X)</text>, X=Y, <text style=color:black>X != Z</text>.</text>"
      ],
      "text/plain": [
       "<IPython.core.display.HTML object>"
      ]
     },
     "metadata": {},
     "output_type": "display_data"
    },
    {
     "data": {
      "text/html": [
       "<text style=color:black><text style=color:red>ntri(X,Y,Z)</text> :- <text style=color:green>e(X,Y)</text>, <text style=color:red>not e(Y,Z)</text>, <text style=color:green>e(Z,X)</text>, X=Y, <text style=color:black>X != Z</text>.</text>"
      ],
      "text/plain": [
       "<IPython.core.display.HTML object>"
      ]
     },
     "metadata": {},
     "output_type": "display_data"
    },
    {
     "data": {
      "text/html": [
       "<text style=color:black><text style=color:red>ntri(X,Y,Z)</text> :- <text style=color:red>not e(X,Y)</text>, <text style=color:red>not e(Y,Z)</text>, <text style=color:red>not e(Z,X)</text>, X=Y=Z.</text>"
      ],
      "text/plain": [
       "<IPython.core.display.HTML object>"
      ]
     },
     "metadata": {},
     "output_type": "display_data"
    },
    {
     "data": {
      "text/html": [
       "<text style=color:black><text style=color:red>ntri(X,Y,Z)</text> :- <text style=color:red>not e(X,Y)</text>, <text style=color:green>e(Y,Z)</text>, <text style=color:red>not e(Z,X)</text>, X=Y, <text style=color:black>X != Z</text>.</text>"
      ],
      "text/plain": [
       "<IPython.core.display.HTML object>"
      ]
     },
     "metadata": {},
     "output_type": "display_data"
    },
    {
     "data": {
      "text/html": [
       "<text style=color:black><text style=color:red>ntri(X,Y,Z)</text> :- <text style=color:green>e(X,Y)</text>, <text style=color:green>e(Y,Z)</text>, <text style=color:red>not e(Z,X)</text>, X=Y, <text style=color:black>X != Z</text>.</text>"
      ],
      "text/plain": [
       "<IPython.core.display.HTML object>"
      ]
     },
     "metadata": {},
     "output_type": "display_data"
    },
    {
     "data": {
      "text/html": [
       "<text style=color:black><text style=color:red>ntri(X,Y,Z)</text> :- <text style=color:red>not e(X,Y)</text>, <text style=color:green>e(Y,Z)</text>, <text style=color:green>e(Z,X)</text>, X=Y, <text style=color:black>X != Z</text>.</text>"
      ],
      "text/plain": [
       "<IPython.core.display.HTML object>"
      ]
     },
     "metadata": {},
     "output_type": "display_data"
    },
    {
     "data": {
      "text/html": [
       "<text style=color:black><text style=color:green>tri(X,Y,Z)</text> :- <text style=color:green>e(X,Y)</text>, <text style=color:green>e(Y,Z)</text>, <text style=color:green>e(Z,X)</text>, X=Y, <text style=color:black>X != Z</text>.</text>"
      ],
      "text/plain": [
       "<IPython.core.display.HTML object>"
      ]
     },
     "metadata": {},
     "output_type": "display_data"
    },
    {
     "data": {
      "text/html": [
       "<text style=color:black><text style=color:green>tri(X,Y,Z)</text> :- <text style=color:green>e(X,Y)</text>, <text style=color:green>e(Y,Z)</text>, <text style=color:green>e(Z,X)</text>, X=Y=Z.</text>"
      ],
      "text/plain": [
       "<IPython.core.display.HTML object>"
      ]
     },
     "metadata": {},
     "output_type": "display_data"
    }
   ],
   "source": [
    "# CANNOT be used directly\n",
    "for i in range(1, len(query_analysis['pw_objs'])+1):\n",
    "    pw_rel_dfs = pw_slicer(query_analysis['pw_rel_dfs'], None, [i])[0]        \n",
    "    print_explicit_rewritten_query_string(pw_rel_dfs, chain_eq=True)"
   ]
  },
  {
   "cell_type": "code",
   "execution_count": 15,
   "metadata": {
    "scrolled": true
   },
   "outputs": [
    {
     "data": {
      "text/html": [
       "<text style=color:black><text style=color:red>ntri(X,Y,Z)</text> :- <text style=color:red>not e(X,Y)</text>, <text style=color:red>not e(Y,Z)</text>, <text style=color:red>not e(Z,X)</text>. % <text style=color:blue>[X][Z][Y]</text></text>"
      ],
      "text/plain": [
       "<IPython.core.display.HTML object>"
      ]
     },
     "metadata": {},
     "output_type": "display_data"
    },
    {
     "data": {
      "text/html": [
       "<text style=color:black><text style=color:red>ntri(X,Y,Z)</text> :- <text style=color:green>e(X,Y)</text>, <text style=color:red>not e(Y,Z)</text>, <text style=color:red>not e(Z,X)</text>. % <text style=color:blue>[X][Z][Y]</text></text>"
      ],
      "text/plain": [
       "<IPython.core.display.HTML object>"
      ]
     },
     "metadata": {},
     "output_type": "display_data"
    },
    {
     "data": {
      "text/html": [
       "<text style=color:black><text style=color:red>ntri(X,Y,Z)</text> :- <text style=color:red>not e(X,Y)</text>, <text style=color:red>not e(Y,Z)</text>, <text style=color:green>e(Z,X)</text>. % <text style=color:blue>[X][Z][Y]</text></text>"
      ],
      "text/plain": [
       "<IPython.core.display.HTML object>"
      ]
     },
     "metadata": {},
     "output_type": "display_data"
    },
    {
     "data": {
      "text/html": [
       "<text style=color:black><text style=color:red>ntri(X,Y,Z)</text> :- <text style=color:green>e(X,Y)</text>, <text style=color:red>not e(Y,Z)</text>, <text style=color:green>e(Z,X)</text>. % <text style=color:blue>[X][Z][Y]</text></text>"
      ],
      "text/plain": [
       "<IPython.core.display.HTML object>"
      ]
     },
     "metadata": {},
     "output_type": "display_data"
    },
    {
     "data": {
      "text/html": [
       "<text style=color:black><text style=color:red>ntri(X,Y,Z)</text> :- <text style=color:red>not e(X,Y)</text>, <text style=color:red>not e(Y,Z)</text>, <text style=color:red>not e(Z,X)</text>. % <text style=color:blue>[Y=Z][X]</text></text>"
      ],
      "text/plain": [
       "<IPython.core.display.HTML object>"
      ]
     },
     "metadata": {},
     "output_type": "display_data"
    },
    {
     "data": {
      "text/html": [
       "<text style=color:black><text style=color:red>ntri(X,Y,Z)</text> :- <text style=color:green>e(X,Y)</text>, <text style=color:red>not e(Y,Z)</text>, <text style=color:red>not e(Z,X)</text>. % <text style=color:blue>[Y=Z][X]</text></text>"
      ],
      "text/plain": [
       "<IPython.core.display.HTML object>"
      ]
     },
     "metadata": {},
     "output_type": "display_data"
    },
    {
     "data": {
      "text/html": [
       "<text style=color:black><text style=color:red>ntri(X,Y,Z)</text> :- <text style=color:red>not e(X,Y)</text>, <text style=color:red>not e(Y,Z)</text>, <text style=color:green>e(Z,X)</text>. % <text style=color:blue>[Y=Z][X]</text></text>"
      ],
      "text/plain": [
       "<IPython.core.display.HTML object>"
      ]
     },
     "metadata": {},
     "output_type": "display_data"
    },
    {
     "data": {
      "text/html": [
       "<text style=color:black><text style=color:red>ntri(X,Y,Z)</text> :- <text style=color:green>e(X,Y)</text>, <text style=color:red>not e(Y,Z)</text>, <text style=color:green>e(Z,X)</text>. % <text style=color:blue>[Y=Z][X]</text></text>"
      ],
      "text/plain": [
       "<IPython.core.display.HTML object>"
      ]
     },
     "metadata": {},
     "output_type": "display_data"
    },
    {
     "data": {
      "text/html": [
       "<text style=color:black><text style=color:red>ntri(X,Y,Z)</text> :- <text style=color:red>not e(X,Y)</text>, <text style=color:red>not e(Y,Z)</text>, <text style=color:red>not e(Z,X)</text>. % <text style=color:blue>[X=Z][Y]</text></text>"
      ],
      "text/plain": [
       "<IPython.core.display.HTML object>"
      ]
     },
     "metadata": {},
     "output_type": "display_data"
    },
    {
     "data": {
      "text/html": [
       "<text style=color:black><text style=color:red>ntri(X,Y,Z)</text> :- <text style=color:green>e(X,Y)</text>, <text style=color:red>not e(Y,Z)</text>, <text style=color:red>not e(Z,X)</text>. % <text style=color:blue>[X=Z][Y]</text></text>"
      ],
      "text/plain": [
       "<IPython.core.display.HTML object>"
      ]
     },
     "metadata": {},
     "output_type": "display_data"
    },
    {
     "data": {
      "text/html": [
       "<text style=color:black><text style=color:red>ntri(X,Y,Z)</text> :- <text style=color:red>not e(X,Y)</text>, <text style=color:red>not e(Y,Z)</text>, <text style=color:green>e(Z,X)</text>. % <text style=color:blue>[X=Z][Y]</text></text>"
      ],
      "text/plain": [
       "<IPython.core.display.HTML object>"
      ]
     },
     "metadata": {},
     "output_type": "display_data"
    },
    {
     "data": {
      "text/html": [
       "<text style=color:black><text style=color:red>ntri(X,Y,Z)</text> :- <text style=color:green>e(X,Y)</text>, <text style=color:red>not e(Y,Z)</text>, <text style=color:green>e(Z,X)</text>. % <text style=color:blue>[X=Z][Y]</text></text>"
      ],
      "text/plain": [
       "<IPython.core.display.HTML object>"
      ]
     },
     "metadata": {},
     "output_type": "display_data"
    },
    {
     "data": {
      "text/html": [
       "<text style=color:black><text style=color:red>ntri(X,Y,Z)</text> :- <text style=color:red>not e(X,Y)</text>, <text style=color:green>e(Y,Z)</text>, <text style=color:red>not e(Z,X)</text>. % <text style=color:blue>[X][Z][Y]</text></text>"
      ],
      "text/plain": [
       "<IPython.core.display.HTML object>"
      ]
     },
     "metadata": {},
     "output_type": "display_data"
    },
    {
     "data": {
      "text/html": [
       "<text style=color:black><text style=color:red>ntri(X,Y,Z)</text> :- <text style=color:green>e(X,Y)</text>, <text style=color:green>e(Y,Z)</text>, <text style=color:red>not e(Z,X)</text>. % <text style=color:blue>[X][Z][Y]</text></text>"
      ],
      "text/plain": [
       "<IPython.core.display.HTML object>"
      ]
     },
     "metadata": {},
     "output_type": "display_data"
    },
    {
     "data": {
      "text/html": [
       "<text style=color:black><text style=color:red>ntri(X,Y,Z)</text> :- <text style=color:red>not e(X,Y)</text>, <text style=color:green>e(Y,Z)</text>, <text style=color:green>e(Z,X)</text>. % <text style=color:blue>[X][Z][Y]</text></text>"
      ],
      "text/plain": [
       "<IPython.core.display.HTML object>"
      ]
     },
     "metadata": {},
     "output_type": "display_data"
    },
    {
     "data": {
      "text/html": [
       "<text style=color:black><text style=color:green>tri(X,Y,Z)</text> :- <text style=color:green>e(X,Y)</text>, <text style=color:green>e(Y,Z)</text>, <text style=color:green>e(Z,X)</text>. % <text style=color:blue>[X][Z][Y]</text></text>"
      ],
      "text/plain": [
       "<IPython.core.display.HTML object>"
      ]
     },
     "metadata": {},
     "output_type": "display_data"
    },
    {
     "data": {
      "text/html": [
       "<text style=color:black><text style=color:red>ntri(X,Y,Z)</text> :- <text style=color:red>not e(X,Y)</text>, <text style=color:green>e(Y,Z)</text>, <text style=color:red>not e(Z,X)</text>. % <text style=color:blue>[Y=Z][X]</text></text>"
      ],
      "text/plain": [
       "<IPython.core.display.HTML object>"
      ]
     },
     "metadata": {},
     "output_type": "display_data"
    },
    {
     "data": {
      "text/html": [
       "<text style=color:black><text style=color:red>ntri(X,Y,Z)</text> :- <text style=color:green>e(X,Y)</text>, <text style=color:green>e(Y,Z)</text>, <text style=color:red>not e(Z,X)</text>. % <text style=color:blue>[Y=Z][X]</text></text>"
      ],
      "text/plain": [
       "<IPython.core.display.HTML object>"
      ]
     },
     "metadata": {},
     "output_type": "display_data"
    },
    {
     "data": {
      "text/html": [
       "<text style=color:black><text style=color:red>ntri(X,Y,Z)</text> :- <text style=color:red>not e(X,Y)</text>, <text style=color:green>e(Y,Z)</text>, <text style=color:green>e(Z,X)</text>. % <text style=color:blue>[Y=Z][X]</text></text>"
      ],
      "text/plain": [
       "<IPython.core.display.HTML object>"
      ]
     },
     "metadata": {},
     "output_type": "display_data"
    },
    {
     "data": {
      "text/html": [
       "<text style=color:black><text style=color:green>tri(X,Y,Z)</text> :- <text style=color:green>e(X,Y)</text>, <text style=color:green>e(Y,Z)</text>, <text style=color:green>e(Z,X)</text>. % <text style=color:blue>[Y=Z][X]</text></text>"
      ],
      "text/plain": [
       "<IPython.core.display.HTML object>"
      ]
     },
     "metadata": {},
     "output_type": "display_data"
    },
    {
     "data": {
      "text/html": [
       "<text style=color:black><text style=color:red>ntri(X,Y,Z)</text> :- <text style=color:red>not e(X,Y)</text>, <text style=color:green>e(Y,Z)</text>, <text style=color:red>not e(Z,X)</text>. % <text style=color:blue>[X=Z][Y]</text></text>"
      ],
      "text/plain": [
       "<IPython.core.display.HTML object>"
      ]
     },
     "metadata": {},
     "output_type": "display_data"
    },
    {
     "data": {
      "text/html": [
       "<text style=color:black><text style=color:red>ntri(X,Y,Z)</text> :- <text style=color:green>e(X,Y)</text>, <text style=color:green>e(Y,Z)</text>, <text style=color:red>not e(Z,X)</text>. % <text style=color:blue>[X=Z][Y]</text></text>"
      ],
      "text/plain": [
       "<IPython.core.display.HTML object>"
      ]
     },
     "metadata": {},
     "output_type": "display_data"
    },
    {
     "data": {
      "text/html": [
       "<text style=color:black><text style=color:red>ntri(X,Y,Z)</text> :- <text style=color:red>not e(X,Y)</text>, <text style=color:green>e(Y,Z)</text>, <text style=color:green>e(Z,X)</text>. % <text style=color:blue>[X=Z][Y]</text></text>"
      ],
      "text/plain": [
       "<IPython.core.display.HTML object>"
      ]
     },
     "metadata": {},
     "output_type": "display_data"
    },
    {
     "data": {
      "text/html": [
       "<text style=color:black><text style=color:green>tri(X,Y,Z)</text> :- <text style=color:green>e(X,Y)</text>, <text style=color:green>e(Y,Z)</text>, <text style=color:green>e(Z,X)</text>. % <text style=color:blue>[X=Z][Y]</text></text>"
      ],
      "text/plain": [
       "<IPython.core.display.HTML object>"
      ]
     },
     "metadata": {},
     "output_type": "display_data"
    },
    {
     "data": {
      "text/html": [
       "<text style=color:black><text style=color:red>ntri(X,Y,Z)</text> :- <text style=color:red>not e(X,Y)</text>, <text style=color:red>not e(Y,Z)</text>, <text style=color:red>not e(Z,X)</text>. % <text style=color:blue>[X=Y][Z]</text></text>"
      ],
      "text/plain": [
       "<IPython.core.display.HTML object>"
      ]
     },
     "metadata": {},
     "output_type": "display_data"
    },
    {
     "data": {
      "text/html": [
       "<text style=color:black><text style=color:red>ntri(X,Y,Z)</text> :- <text style=color:green>e(X,Y)</text>, <text style=color:red>not e(Y,Z)</text>, <text style=color:red>not e(Z,X)</text>. % <text style=color:blue>[X=Y][Z]</text></text>"
      ],
      "text/plain": [
       "<IPython.core.display.HTML object>"
      ]
     },
     "metadata": {},
     "output_type": "display_data"
    },
    {
     "data": {
      "text/html": [
       "<text style=color:black><text style=color:red>ntri(X,Y,Z)</text> :- <text style=color:red>not e(X,Y)</text>, <text style=color:red>not e(Y,Z)</text>, <text style=color:green>e(Z,X)</text>. % <text style=color:blue>[X=Y][Z]</text></text>"
      ],
      "text/plain": [
       "<IPython.core.display.HTML object>"
      ]
     },
     "metadata": {},
     "output_type": "display_data"
    },
    {
     "data": {
      "text/html": [
       "<text style=color:black><text style=color:red>ntri(X,Y,Z)</text> :- <text style=color:green>e(X,Y)</text>, <text style=color:red>not e(Y,Z)</text>, <text style=color:green>e(Z,X)</text>. % <text style=color:blue>[X=Y][Z]</text></text>"
      ],
      "text/plain": [
       "<IPython.core.display.HTML object>"
      ]
     },
     "metadata": {},
     "output_type": "display_data"
    },
    {
     "data": {
      "text/html": [
       "<text style=color:black><text style=color:red>ntri(X,Y,Z)</text> :- <text style=color:red>not e(X,Y)</text>, <text style=color:red>not e(Y,Z)</text>, <text style=color:red>not e(Z,X)</text>. % <text style=color:blue>[X=Y=Z]</text></text>"
      ],
      "text/plain": [
       "<IPython.core.display.HTML object>"
      ]
     },
     "metadata": {},
     "output_type": "display_data"
    },
    {
     "data": {
      "text/html": [
       "<text style=color:black><text style=color:red>ntri(X,Y,Z)</text> :- <text style=color:red>not e(X,Y)</text>, <text style=color:green>e(Y,Z)</text>, <text style=color:red>not e(Z,X)</text>. % <text style=color:blue>[X=Y][Z]</text></text>"
      ],
      "text/plain": [
       "<IPython.core.display.HTML object>"
      ]
     },
     "metadata": {},
     "output_type": "display_data"
    },
    {
     "data": {
      "text/html": [
       "<text style=color:black><text style=color:red>ntri(X,Y,Z)</text> :- <text style=color:green>e(X,Y)</text>, <text style=color:green>e(Y,Z)</text>, <text style=color:red>not e(Z,X)</text>. % <text style=color:blue>[X=Y][Z]</text></text>"
      ],
      "text/plain": [
       "<IPython.core.display.HTML object>"
      ]
     },
     "metadata": {},
     "output_type": "display_data"
    },
    {
     "data": {
      "text/html": [
       "<text style=color:black><text style=color:red>ntri(X,Y,Z)</text> :- <text style=color:red>not e(X,Y)</text>, <text style=color:green>e(Y,Z)</text>, <text style=color:green>e(Z,X)</text>. % <text style=color:blue>[X=Y][Z]</text></text>"
      ],
      "text/plain": [
       "<IPython.core.display.HTML object>"
      ]
     },
     "metadata": {},
     "output_type": "display_data"
    },
    {
     "data": {
      "text/html": [
       "<text style=color:black><text style=color:green>tri(X,Y,Z)</text> :- <text style=color:green>e(X,Y)</text>, <text style=color:green>e(Y,Z)</text>, <text style=color:green>e(Z,X)</text>. % <text style=color:blue>[X=Y][Z]</text></text>"
      ],
      "text/plain": [
       "<IPython.core.display.HTML object>"
      ]
     },
     "metadata": {},
     "output_type": "display_data"
    },
    {
     "data": {
      "text/html": [
       "<text style=color:black><text style=color:green>tri(X,Y,Z)</text> :- <text style=color:green>e(X,Y)</text>, <text style=color:green>e(Y,Z)</text>, <text style=color:green>e(Z,X)</text>. % <text style=color:blue>[X=Y=Z]</text></text>"
      ],
      "text/plain": [
       "<IPython.core.display.HTML object>"
      ]
     },
     "metadata": {},
     "output_type": "display_data"
    }
   ],
   "source": [
    "# CANNOT be used directly\n",
    "for i in range(1, len(query_analysis['pw_objs'])+1):\n",
    "    pw_rel_dfs = pw_slicer(query_analysis['pw_rel_dfs'], None, [i])[0]        \n",
    "    print_fancy_rewrite(pw_rel_dfs)"
   ]
  },
  {
   "cell_type": "code",
   "execution_count": 16,
   "metadata": {},
   "outputs": [],
   "source": [
    "# are_equivalent_patterns(query_analysis['pw_objs'][5], query_analysis['pw_objs'][6], eq_check_encoding=qep_eq_check2)"
   ]
  },
  {
   "cell_type": "code",
   "execution_count": 17,
   "metadata": {},
   "outputs": [],
   "source": [
    "sets = get_equivalent_sets(query_analysis['pw_objs'], are_equivalent_patterns)"
   ]
  },
  {
   "cell_type": "code",
   "execution_count": 18,
   "metadata": {
    "scrolled": true
   },
   "outputs": [
    {
     "name": "stdout",
     "output_type": "stream",
     "text": [
      "{1}\n",
      "{2}\n",
      "{3}\n",
      "{4}\n",
      "{5}\n",
      "{6}\n",
      "{7}\n",
      "{8}\n",
      "{9}\n",
      "{10}\n",
      "{11}\n",
      "{12}\n",
      "{13}\n",
      "{14}\n",
      "{15}\n",
      "{16}\n",
      "{17}\n",
      "{18}\n",
      "{19}\n",
      "{20}\n",
      "{21}\n",
      "{22}\n",
      "{23}\n",
      "{24}\n",
      "{25}\n",
      "{26}\n",
      "{27}\n",
      "{28}\n",
      "{29}\n",
      "{30}\n",
      "{31}\n",
      "{32}\n",
      "{33}\n",
      "{34}\n"
     ]
    }
   ],
   "source": [
    "for s in sets:\n",
    "    print({pw.pw_id for pw in s})"
   ]
  },
  {
   "cell_type": "code",
   "execution_count": 19,
   "metadata": {},
   "outputs": [
    {
     "data": {
      "text/plain": [
       "34"
      ]
     },
     "execution_count": 19,
     "metadata": {},
     "output_type": "execute_result"
    }
   ],
   "source": [
    "len(sets)"
   ]
  },
  {
   "cell_type": "code",
   "execution_count": 20,
   "metadata": {
    "scrolled": true
   },
   "outputs": [],
   "source": [
    "# for i, s in enumerate(sets):\n",
    "#     print(\"\\n\\n\\nSet:\", i+1, '({})'.format(len(s)))\n",
    "#     for j, pw in enumerate(s):\n",
    "#         print(\"\\nPW:\", pw.pw_id)\n",
    "#         pw_rel_dfs = pw_slicer(query_analysis['pw_rel_dfs'], None, [pw.pw_id])[0]\n",
    "#         # print_colored_query_string(pw_rel_dfs)\n",
    "#         # print_rewritten_query_string(pw_rel_dfs)\n",
    "#         # print_explicit_rewritten_query_string(pw_rel_dfs, chain_eq=False)\n",
    "#         # print_explicit_rewritten_query_string(pw_rel_dfs, chain_eq=True)\n",
    "#         print_fancy_rewrite(pw_rel_dfs)\n",
    "#         g = get_pattern_graph2(pw_rel_dfs, no_node_labels=False)\n",
    "#         display(draw(g))\n",
    "#         # draw(g, format='pdf', filename='{}.{}'.format('tri_eq_patterns/set_{}'.format(i+1), 'pdf'), show='none')\n",
    "#         break"
   ]
  },
  {
   "cell_type": "code",
   "execution_count": 21,
   "metadata": {
    "scrolled": true
   },
   "outputs": [
    {
     "name": "stdout",
     "output_type": "stream",
     "text": [
      "Set: 1 (1)\n",
      "Success Pattern:\n"
     ]
    },
    {
     "data": {
      "image/png": "[encoded data removed]",
      "text/plain": [
       "<IPython.core.display.Image object>"
      ]
     },
     "metadata": {},
     "output_type": "display_data"
    },
    {
     "data": {
      "text/html": [
       "<text style=color:black><text style=color:green>tri(X,Y,Z)</text> :- <text style=color:green>e(X,Y)</text>, <text style=color:green>e(Y,Z)</text>, <text style=color:green>e(Z,X)</text>. % <text style=color:blue>[X][Z][Y]</text></text>"
      ],
      "text/plain": [
       "<IPython.core.display.HTML object>"
      ]
     },
     "metadata": {},
     "output_type": "display_data"
    },
    {
     "name": "stdout",
     "output_type": "stream",
     "text": [
      "------------------------------------------------------------\n",
      "Set: 2 (1)\n",
      "Success Pattern:\n"
     ]
    },
    {
     "data": {
      "image/png": "[encoded data removed]",
      "text/plain": [
       "<IPython.core.display.Image object>"
      ]
     },
     "metadata": {},
     "output_type": "display_data"
    },
    {
     "data": {
      "text/html": [
       "<text style=color:black><text style=color:green>tri(X,Y,Z)</text> :- <text style=color:green>e(X,Y)</text>, <text style=color:green>e(Y,Z)</text>, <text style=color:green>e(Z,X)</text>. % <text style=color:blue>[Y=Z][X]</text></text>"
      ],
      "text/plain": [
       "<IPython.core.display.HTML object>"
      ]
     },
     "metadata": {},
     "output_type": "display_data"
    },
    {
     "name": "stdout",
     "output_type": "stream",
     "text": [
      "------------------------------------------------------------\n",
      "Set: 3 (1)\n",
      "Success Pattern:\n"
     ]
    },
    {
     "data": {
      "image/png": "[encoded data removed]",
      "text/plain": [
       "<IPython.core.display.Image object>"
      ]
     },
     "metadata": {},
     "output_type": "display_data"
    },
    {
     "data": {
      "text/html": [
       "<text style=color:black><text style=color:green>tri(X,Y,Z)</text> :- <text style=color:green>e(X,Y)</text>, <text style=color:green>e(Y,Z)</text>, <text style=color:green>e(Z,X)</text>. % <text style=color:blue>[X=Z][Y]</text></text>"
      ],
      "text/plain": [
       "<IPython.core.display.HTML object>"
      ]
     },
     "metadata": {},
     "output_type": "display_data"
    },
    {
     "name": "stdout",
     "output_type": "stream",
     "text": [
      "------------------------------------------------------------\n",
      "Set: 4 (1)\n",
      "Success Pattern:\n"
     ]
    },
    {
     "data": {
      "image/png": "[encoded data removed]",
      "text/plain": [
       "<IPython.core.display.Image object>"
      ]
     },
     "metadata": {},
     "output_type": "display_data"
    },
    {
     "data": {
      "text/html": [
       "<text style=color:black><text style=color:green>tri(X,Y,Z)</text> :- <text style=color:green>e(X,Y)</text>, <text style=color:green>e(Y,Z)</text>, <text style=color:green>e(Z,X)</text>. % <text style=color:blue>[X=Y][Z]</text></text>"
      ],
      "text/plain": [
       "<IPython.core.display.HTML object>"
      ]
     },
     "metadata": {},
     "output_type": "display_data"
    },
    {
     "name": "stdout",
     "output_type": "stream",
     "text": [
      "------------------------------------------------------------\n",
      "Set: 5 (1)\n",
      "Success Pattern:\n"
     ]
    },
    {
     "data": {
      "image/png": "[encoded data removed]",
      "text/plain": [
       "<IPython.core.display.Image object>"
      ]
     },
     "metadata": {},
     "output_type": "display_data"
    },
    {
     "data": {
      "text/html": [
       "<text style=color:black><text style=color:green>tri(X,Y,Z)</text> :- <text style=color:green>e(X,Y)</text>, <text style=color:green>e(Y,Z)</text>, <text style=color:green>e(Z,X)</text>. % <text style=color:blue>[X=Y=Z]</text></text>"
      ],
      "text/plain": [
       "<IPython.core.display.HTML object>"
      ]
     },
     "metadata": {},
     "output_type": "display_data"
    },
    {
     "name": "stdout",
     "output_type": "stream",
     "text": [
      "------------------------------------------------------------\n"
     ]
    }
   ],
   "source": [
    "num_patterns = 0\n",
    "for i,s in enumerate(sets):\n",
    "    s = list(s)\n",
    "    eg = s[0]\n",
    "    pw_rel_dfs = pw_slicer(query_analysis['pw_rel_dfs'], None, [eg.pw_id])[0]\n",
    "    true_heads = set(pw_rel_dfs['ruleHTrue_1']['HEAD'])\n",
    "    if len(true_heads) > 0:\n",
    "        num_patterns += 1\n",
    "        print(\"Set:\", num_patterns, '({})'.format(len(s)))\n",
    "    \n",
    "        for j, pw in enumerate(s):\n",
    "            pw_rel_dfs = pw_slicer(query_analysis['pw_rel_dfs'], None, [pw.pw_id])[0]\n",
    "            true_heads = set(pw_rel_dfs['ruleHTrue_1']['HEAD'])\n",
    "            g = get_pattern_graph2(pw_rel_dfs, no_node_labels=False)\n",
    "            # draw(g, format='pdf', filename='{}.{}'.format('3hop_eq_success_patterns/set_{}'.format(num_patterns), 'pdf'), show='none')\n",
    "            display(draw(g))\n",
    "            #print_rewritten_query_string(pw_rel_dfs)\n",
    "            #print_explicit_rewritten_query_string(pw_rel_dfs, chain_eq=False)\n",
    "            #print_explicit_rewritten_query_string(pw_rel_dfs, chain_eq=True)\n",
    "            print_fancy_rewrite(pw_rel_dfs)\n",
    "            \n",
    "        print('-'*60)\n",
    "# num_patterns"
   ]
  },
  {
   "cell_type": "code",
   "execution_count": 22,
   "metadata": {},
   "outputs": [
    {
     "name": "stdout",
     "output_type": "stream",
     "text": [
      "Set: 1 (1)\n",
      "Failure Pattern:\n"
     ]
    },
    {
     "data": {
      "image/png": "[encoded data removed]",
      "text/plain": [
       "<IPython.core.display.Image object>"
      ]
     },
     "metadata": {},
     "output_type": "display_data"
    },
    {
     "data": {
      "text/html": [
       "<text style=color:black><text style=color:red>ntri(X,Y,Z)</text> :- <text style=color:red>not e(X,Y)</text>, <text style=color:red>not e(Y,Z)</text>, <text style=color:red>not e(Z,X)</text>. % <text style=color:blue>[X][Z][Y]</text></text>"
      ],
      "text/plain": [
       "<IPython.core.display.HTML object>"
      ]
     },
     "metadata": {},
     "output_type": "display_data"
    },
    {
     "name": "stdout",
     "output_type": "stream",
     "text": [
      "------------------------------------------------------------\n",
      "Set: 2 (1)\n",
      "Failure Pattern:\n"
     ]
    },
    {
     "data": {
      "image/png": "[encoded data removed]",
      "text/plain": [
       "<IPython.core.display.Image object>"
      ]
     },
     "metadata": {},
     "output_type": "display_data"
    },
    {
     "data": {
      "text/html": [
       "<text style=color:black><text style=color:red>ntri(X,Y,Z)</text> :- <text style=color:green>e(X,Y)</text>, <text style=color:red>not e(Y,Z)</text>, <text style=color:red>not e(Z,X)</text>. % <text style=color:blue>[X][Z][Y]</text></text>"
      ],
      "text/plain": [
       "<IPython.core.display.HTML object>"
      ]
     },
     "metadata": {},
     "output_type": "display_data"
    },
    {
     "name": "stdout",
     "output_type": "stream",
     "text": [
      "------------------------------------------------------------\n",
      "Set: 3 (1)\n",
      "Failure Pattern:\n"
     ]
    },
    {
     "data": {
      "image/png": "[encoded data removed]",
      "text/plain": [
       "<IPython.core.display.Image object>"
      ]
     },
     "metadata": {},
     "output_type": "display_data"
    },
    {
     "data": {
      "text/html": [
       "<text style=color:black><text style=color:red>ntri(X,Y,Z)</text> :- <text style=color:red>not e(X,Y)</text>, <text style=color:red>not e(Y,Z)</text>, <text style=color:green>e(Z,X)</text>. % <text style=color:blue>[X][Z][Y]</text></text>"
      ],
      "text/plain": [
       "<IPython.core.display.HTML object>"
      ]
     },
     "metadata": {},
     "output_type": "display_data"
    },
    {
     "name": "stdout",
     "output_type": "stream",
     "text": [
      "------------------------------------------------------------\n",
      "Set: 4 (1)\n",
      "Failure Pattern:\n"
     ]
    },
    {
     "data": {
      "image/png": "[encoded data removed]",
      "text/plain": [
       "<IPython.core.display.Image object>"
      ]
     },
     "metadata": {},
     "output_type": "display_data"
    },
    {
     "data": {
      "text/html": [
       "<text style=color:black><text style=color:red>ntri(X,Y,Z)</text> :- <text style=color:green>e(X,Y)</text>, <text style=color:red>not e(Y,Z)</text>, <text style=color:green>e(Z,X)</text>. % <text style=color:blue>[X][Z][Y]</text></text>"
      ],
      "text/plain": [
       "<IPython.core.display.HTML object>"
      ]
     },
     "metadata": {},
     "output_type": "display_data"
    },
    {
     "name": "stdout",
     "output_type": "stream",
     "text": [
      "------------------------------------------------------------\n",
      "Set: 5 (1)\n",
      "Failure Pattern:\n"
     ]
    },
    {
     "data": {
      "image/png": "[encoded data removed]",
      "text/plain": [
       "<IPython.core.display.Image object>"
      ]
     },
     "metadata": {},
     "output_type": "display_data"
    },
    {
     "data": {
      "text/html": [
       "<text style=color:black><text style=color:red>ntri(X,Y,Z)</text> :- <text style=color:red>not e(X,Y)</text>, <text style=color:red>not e(Y,Z)</text>, <text style=color:red>not e(Z,X)</text>. % <text style=color:blue>[Y=Z][X]</text></text>"
      ],
      "text/plain": [
       "<IPython.core.display.HTML object>"
      ]
     },
     "metadata": {},
     "output_type": "display_data"
    },
    {
     "name": "stdout",
     "output_type": "stream",
     "text": [
      "------------------------------------------------------------\n",
      "Set: 6 (1)\n",
      "Failure Pattern:\n"
     ]
    },
    {
     "data": {
      "image/png": "[encoded data removed]",
      "text/plain": [
       "<IPython.core.display.Image object>"
      ]
     },
     "metadata": {},
     "output_type": "display_data"
    },
    {
     "data": {
      "text/html": [
       "<text style=color:black><text style=color:red>ntri(X,Y,Z)</text> :- <text style=color:green>e(X,Y)</text>, <text style=color:red>not e(Y,Z)</text>, <text style=color:red>not e(Z,X)</text>. % <text style=color:blue>[Y=Z][X]</text></text>"
      ],
      "text/plain": [
       "<IPython.core.display.HTML object>"
      ]
     },
     "metadata": {},
     "output_type": "display_data"
    },
    {
     "name": "stdout",
     "output_type": "stream",
     "text": [
      "------------------------------------------------------------\n",
      "Set: 7 (1)\n",
      "Failure Pattern:\n"
     ]
    },
    {
     "data": {
      "image/png": "[encoded data removed]",
      "text/plain": [
       "<IPython.core.display.Image object>"
      ]
     },
     "metadata": {},
     "output_type": "display_data"
    },
    {
     "data": {
      "text/html": [
       "<text style=color:black><text style=color:red>ntri(X,Y,Z)</text> :- <text style=color:red>not e(X,Y)</text>, <text style=color:red>not e(Y,Z)</text>, <text style=color:green>e(Z,X)</text>. % <text style=color:blue>[Y=Z][X]</text></text>"
      ],
      "text/plain": [
       "<IPython.core.display.HTML object>"
      ]
     },
     "metadata": {},
     "output_type": "display_data"
    },
    {
     "name": "stdout",
     "output_type": "stream",
     "text": [
      "------------------------------------------------------------\n",
      "Set: 8 (1)\n",
      "Failure Pattern:\n"
     ]
    },
    {
     "data": {
      "image/png": "[encoded data removed]",
      "text/plain": [
       "<IPython.core.display.Image object>"
      ]
     },
     "metadata": {},
     "output_type": "display_data"
    },
    {
     "data": {
      "text/html": [
       "<text style=color:black><text style=color:red>ntri(X,Y,Z)</text> :- <text style=color:green>e(X,Y)</text>, <text style=color:red>not e(Y,Z)</text>, <text style=color:green>e(Z,X)</text>. % <text style=color:blue>[Y=Z][X]</text></text>"
      ],
      "text/plain": [
       "<IPython.core.display.HTML object>"
      ]
     },
     "metadata": {},
     "output_type": "display_data"
    },
    {
     "name": "stdout",
     "output_type": "stream",
     "text": [
      "------------------------------------------------------------\n",
      "Set: 9 (1)\n",
      "Failure Pattern:\n"
     ]
    },
    {
     "data": {
      "image/png": "[encoded data removed]",
      "text/plain": [
       "<IPython.core.display.Image object>"
      ]
     },
     "metadata": {},
     "output_type": "display_data"
    },
    {
     "data": {
      "text/html": [
       "<text style=color:black><text style=color:red>ntri(X,Y,Z)</text> :- <text style=color:red>not e(X,Y)</text>, <text style=color:red>not e(Y,Z)</text>, <text style=color:red>not e(Z,X)</text>. % <text style=color:blue>[X=Z][Y]</text></text>"
      ],
      "text/plain": [
       "<IPython.core.display.HTML object>"
      ]
     },
     "metadata": {},
     "output_type": "display_data"
    },
    {
     "name": "stdout",
     "output_type": "stream",
     "text": [
      "------------------------------------------------------------\n",
      "Set: 10 (1)\n",
      "Failure Pattern:\n"
     ]
    },
    {
     "data": {
      "image/png": "[encoded data removed]",
      "text/plain": [
       "<IPython.core.display.Image object>"
      ]
     },
     "metadata": {},
     "output_type": "display_data"
    },
    {
     "data": {
      "text/html": [
       "<text style=color:black><text style=color:red>ntri(X,Y,Z)</text> :- <text style=color:green>e(X,Y)</text>, <text style=color:red>not e(Y,Z)</text>, <text style=color:red>not e(Z,X)</text>. % <text style=color:blue>[X=Z][Y]</text></text>"
      ],
      "text/plain": [
       "<IPython.core.display.HTML object>"
      ]
     },
     "metadata": {},
     "output_type": "display_data"
    },
    {
     "name": "stdout",
     "output_type": "stream",
     "text": [
      "------------------------------------------------------------\n",
      "Set: 11 (1)\n",
      "Failure Pattern:\n"
     ]
    },
    {
     "data": {
      "image/png": "[encoded data removed]",
      "text/plain": [
       "<IPython.core.display.Image object>"
      ]
     },
     "metadata": {},
     "output_type": "display_data"
    },
    {
     "data": {
      "text/html": [
       "<text style=color:black><text style=color:red>ntri(X,Y,Z)</text> :- <text style=color:red>not e(X,Y)</text>, <text style=color:red>not e(Y,Z)</text>, <text style=color:green>e(Z,X)</text>. % <text style=color:blue>[X=Z][Y]</text></text>"
      ],
      "text/plain": [
       "<IPython.core.display.HTML object>"
      ]
     },
     "metadata": {},
     "output_type": "display_data"
    },
    {
     "name": "stdout",
     "output_type": "stream",
     "text": [
      "------------------------------------------------------------\n",
      "Set: 12 (1)\n",
      "Failure Pattern:\n"
     ]
    },
    {
     "data": {
      "image/png": "[encoded data removed]",
      "text/plain": [
       "<IPython.core.display.Image object>"
      ]
     },
     "metadata": {},
     "output_type": "display_data"
    },
    {
     "data": {
      "text/html": [
       "<text style=color:black><text style=color:red>ntri(X,Y,Z)</text> :- <text style=color:green>e(X,Y)</text>, <text style=color:red>not e(Y,Z)</text>, <text style=color:green>e(Z,X)</text>. % <text style=color:blue>[X=Z][Y]</text></text>"
      ],
      "text/plain": [
       "<IPython.core.display.HTML object>"
      ]
     },
     "metadata": {},
     "output_type": "display_data"
    },
    {
     "name": "stdout",
     "output_type": "stream",
     "text": [
      "------------------------------------------------------------\n",
      "Set: 13 (1)\n",
      "Failure Pattern:\n"
     ]
    },
    {
     "data": {
      "image/png": "[encoded data removed]",
      "text/plain": [
       "<IPython.core.display.Image object>"
      ]
     },
     "metadata": {},
     "output_type": "display_data"
    },
    {
     "data": {
      "text/html": [
       "<text style=color:black><text style=color:red>ntri(X,Y,Z)</text> :- <text style=color:red>not e(X,Y)</text>, <text style=color:green>e(Y,Z)</text>, <text style=color:red>not e(Z,X)</text>. % <text style=color:blue>[X][Z][Y]</text></text>"
      ],
      "text/plain": [
       "<IPython.core.display.HTML object>"
      ]
     },
     "metadata": {},
     "output_type": "display_data"
    },
    {
     "name": "stdout",
     "output_type": "stream",
     "text": [
      "------------------------------------------------------------\n",
      "Set: 14 (1)\n",
      "Failure Pattern:\n"
     ]
    },
    {
     "data": {
      "image/png": "[encoded data removed]",
      "text/plain": [
       "<IPython.core.display.Image object>"
      ]
     },
     "metadata": {},
     "output_type": "display_data"
    },
    {
     "data": {
      "text/html": [
       "<text style=color:black><text style=color:red>ntri(X,Y,Z)</text> :- <text style=color:green>e(X,Y)</text>, <text style=color:green>e(Y,Z)</text>, <text style=color:red>not e(Z,X)</text>. % <text style=color:blue>[X][Z][Y]</text></text>"
      ],
      "text/plain": [
       "<IPython.core.display.HTML object>"
      ]
     },
     "metadata": {},
     "output_type": "display_data"
    },
    {
     "name": "stdout",
     "output_type": "stream",
     "text": [
      "------------------------------------------------------------\n",
      "Set: 15 (1)\n",
      "Failure Pattern:\n"
     ]
    },
    {
     "data": {
      "image/png": "[encoded data removed]",
      "text/plain": [
       "<IPython.core.display.Image object>"
      ]
     },
     "metadata": {},
     "output_type": "display_data"
    },
    {
     "data": {
      "text/html": [
       "<text style=color:black><text style=color:red>ntri(X,Y,Z)</text> :- <text style=color:red>not e(X,Y)</text>, <text style=color:green>e(Y,Z)</text>, <text style=color:green>e(Z,X)</text>. % <text style=color:blue>[X][Z][Y]</text></text>"
      ],
      "text/plain": [
       "<IPython.core.display.HTML object>"
      ]
     },
     "metadata": {},
     "output_type": "display_data"
    },
    {
     "name": "stdout",
     "output_type": "stream",
     "text": [
      "------------------------------------------------------------\n",
      "Set: 16 (1)\n",
      "Failure Pattern:\n"
     ]
    },
    {
     "data": {
      "image/png": "[encoded data removed]",
      "text/plain": [
       "<IPython.core.display.Image object>"
      ]
     },
     "metadata": {},
     "output_type": "display_data"
    },
    {
     "data": {
      "text/html": [
       "<text style=color:black><text style=color:red>ntri(X,Y,Z)</text> :- <text style=color:red>not e(X,Y)</text>, <text style=color:green>e(Y,Z)</text>, <text style=color:red>not e(Z,X)</text>. % <text style=color:blue>[Y=Z][X]</text></text>"
      ],
      "text/plain": [
       "<IPython.core.display.HTML object>"
      ]
     },
     "metadata": {},
     "output_type": "display_data"
    },
    {
     "name": "stdout",
     "output_type": "stream",
     "text": [
      "------------------------------------------------------------\n",
      "Set: 17 (1)\n",
      "Failure Pattern:\n"
     ]
    },
    {
     "data": {
      "image/png": "[encoded data removed]",
      "text/plain": [
       "<IPython.core.display.Image object>"
      ]
     },
     "metadata": {},
     "output_type": "display_data"
    },
    {
     "data": {
      "text/html": [
       "<text style=color:black><text style=color:red>ntri(X,Y,Z)</text> :- <text style=color:green>e(X,Y)</text>, <text style=color:green>e(Y,Z)</text>, <text style=color:red>not e(Z,X)</text>. % <text style=color:blue>[Y=Z][X]</text></text>"
      ],
      "text/plain": [
       "<IPython.core.display.HTML object>"
      ]
     },
     "metadata": {},
     "output_type": "display_data"
    },
    {
     "name": "stdout",
     "output_type": "stream",
     "text": [
      "------------------------------------------------------------\n",
      "Set: 18 (1)\n",
      "Failure Pattern:\n"
     ]
    },
    {
     "data": {
      "image/png": "[encoded data removed]",
      "text/plain": [
       "<IPython.core.display.Image object>"
      ]
     },
     "metadata": {},
     "output_type": "display_data"
    },
    {
     "data": {
      "text/html": [
       "<text style=color:black><text style=color:red>ntri(X,Y,Z)</text> :- <text style=color:red>not e(X,Y)</text>, <text style=color:green>e(Y,Z)</text>, <text style=color:green>e(Z,X)</text>. % <text style=color:blue>[Y=Z][X]</text></text>"
      ],
      "text/plain": [
       "<IPython.core.display.HTML object>"
      ]
     },
     "metadata": {},
     "output_type": "display_data"
    },
    {
     "name": "stdout",
     "output_type": "stream",
     "text": [
      "------------------------------------------------------------\n",
      "Set: 19 (1)\n",
      "Failure Pattern:\n"
     ]
    },
    {
     "data": {
      "image/png": "[encoded data removed]",
      "text/plain": [
       "<IPython.core.display.Image object>"
      ]
     },
     "metadata": {},
     "output_type": "display_data"
    },
    {
     "data": {
      "text/html": [
       "<text style=color:black><text style=color:red>ntri(X,Y,Z)</text> :- <text style=color:red>not e(X,Y)</text>, <text style=color:green>e(Y,Z)</text>, <text style=color:red>not e(Z,X)</text>. % <text style=color:blue>[X=Z][Y]</text></text>"
      ],
      "text/plain": [
       "<IPython.core.display.HTML object>"
      ]
     },
     "metadata": {},
     "output_type": "display_data"
    },
    {
     "name": "stdout",
     "output_type": "stream",
     "text": [
      "------------------------------------------------------------\n",
      "Set: 20 (1)\n",
      "Failure Pattern:\n"
     ]
    },
    {
     "data": {
      "image/png": "[encoded data removed]",
      "text/plain": [
       "<IPython.core.display.Image object>"
      ]
     },
     "metadata": {},
     "output_type": "display_data"
    },
    {
     "data": {
      "text/html": [
       "<text style=color:black><text style=color:red>ntri(X,Y,Z)</text> :- <text style=color:green>e(X,Y)</text>, <text style=color:green>e(Y,Z)</text>, <text style=color:red>not e(Z,X)</text>. % <text style=color:blue>[X=Z][Y]</text></text>"
      ],
      "text/plain": [
       "<IPython.core.display.HTML object>"
      ]
     },
     "metadata": {},
     "output_type": "display_data"
    },
    {
     "name": "stdout",
     "output_type": "stream",
     "text": [
      "------------------------------------------------------------\n",
      "Set: 21 (1)\n",
      "Failure Pattern:\n"
     ]
    },
    {
     "data": {
      "image/png": "[encoded data removed]",
      "text/plain": [
       "<IPython.core.display.Image object>"
      ]
     },
     "metadata": {},
     "output_type": "display_data"
    },
    {
     "data": {
      "text/html": [
       "<text style=color:black><text style=color:red>ntri(X,Y,Z)</text> :- <text style=color:red>not e(X,Y)</text>, <text style=color:green>e(Y,Z)</text>, <text style=color:green>e(Z,X)</text>. % <text style=color:blue>[X=Z][Y]</text></text>"
      ],
      "text/plain": [
       "<IPython.core.display.HTML object>"
      ]
     },
     "metadata": {},
     "output_type": "display_data"
    },
    {
     "name": "stdout",
     "output_type": "stream",
     "text": [
      "------------------------------------------------------------\n",
      "Set: 22 (1)\n",
      "Failure Pattern:\n"
     ]
    },
    {
     "data": {
      "image/png": "[encoded data removed]",
      "text/plain": [
       "<IPython.core.display.Image object>"
      ]
     },
     "metadata": {},
     "output_type": "display_data"
    },
    {
     "data": {
      "text/html": [
       "<text style=color:black><text style=color:red>ntri(X,Y,Z)</text> :- <text style=color:red>not e(X,Y)</text>, <text style=color:red>not e(Y,Z)</text>, <text style=color:red>not e(Z,X)</text>. % <text style=color:blue>[X=Y][Z]</text></text>"
      ],
      "text/plain": [
       "<IPython.core.display.HTML object>"
      ]
     },
     "metadata": {},
     "output_type": "display_data"
    },
    {
     "name": "stdout",
     "output_type": "stream",
     "text": [
      "------------------------------------------------------------\n",
      "Set: 23 (1)\n",
      "Failure Pattern:\n"
     ]
    },
    {
     "data": {
      "image/png": "[encoded data removed]",
      "text/plain": [
       "<IPython.core.display.Image object>"
      ]
     },
     "metadata": {},
     "output_type": "display_data"
    },
    {
     "data": {
      "text/html": [
       "<text style=color:black><text style=color:red>ntri(X,Y,Z)</text> :- <text style=color:green>e(X,Y)</text>, <text style=color:red>not e(Y,Z)</text>, <text style=color:red>not e(Z,X)</text>. % <text style=color:blue>[X=Y][Z]</text></text>"
      ],
      "text/plain": [
       "<IPython.core.display.HTML object>"
      ]
     },
     "metadata": {},
     "output_type": "display_data"
    },
    {
     "name": "stdout",
     "output_type": "stream",
     "text": [
      "------------------------------------------------------------\n",
      "Set: 24 (1)\n",
      "Failure Pattern:\n"
     ]
    },
    {
     "data": {
      "image/png": "[encoded data removed]",
      "text/plain": [
       "<IPython.core.display.Image object>"
      ]
     },
     "metadata": {},
     "output_type": "display_data"
    },
    {
     "data": {
      "text/html": [
       "<text style=color:black><text style=color:red>ntri(X,Y,Z)</text> :- <text style=color:red>not e(X,Y)</text>, <text style=color:red>not e(Y,Z)</text>, <text style=color:green>e(Z,X)</text>. % <text style=color:blue>[X=Y][Z]</text></text>"
      ],
      "text/plain": [
       "<IPython.core.display.HTML object>"
      ]
     },
     "metadata": {},
     "output_type": "display_data"
    },
    {
     "name": "stdout",
     "output_type": "stream",
     "text": [
      "------------------------------------------------------------\n",
      "Set: 25 (1)\n",
      "Failure Pattern:\n"
     ]
    },
    {
     "data": {
      "image/png": "[encoded data removed]",
      "text/plain": [
       "<IPython.core.display.Image object>"
      ]
     },
     "metadata": {},
     "output_type": "display_data"
    },
    {
     "data": {
      "text/html": [
       "<text style=color:black><text style=color:red>ntri(X,Y,Z)</text> :- <text style=color:green>e(X,Y)</text>, <text style=color:red>not e(Y,Z)</text>, <text style=color:green>e(Z,X)</text>. % <text style=color:blue>[X=Y][Z]</text></text>"
      ],
      "text/plain": [
       "<IPython.core.display.HTML object>"
      ]
     },
     "metadata": {},
     "output_type": "display_data"
    },
    {
     "name": "stdout",
     "output_type": "stream",
     "text": [
      "------------------------------------------------------------\n",
      "Set: 26 (1)\n",
      "Failure Pattern:\n"
     ]
    },
    {
     "data": {
      "image/png": "[encoded data removed]",
      "text/plain": [
       "<IPython.core.display.Image object>"
      ]
     },
     "metadata": {},
     "output_type": "display_data"
    },
    {
     "data": {
      "text/html": [
       "<text style=color:black><text style=color:red>ntri(X,Y,Z)</text> :- <text style=color:red>not e(X,Y)</text>, <text style=color:red>not e(Y,Z)</text>, <text style=color:red>not e(Z,X)</text>. % <text style=color:blue>[X=Y=Z]</text></text>"
      ],
      "text/plain": [
       "<IPython.core.display.HTML object>"
      ]
     },
     "metadata": {},
     "output_type": "display_data"
    },
    {
     "name": "stdout",
     "output_type": "stream",
     "text": [
      "------------------------------------------------------------\n",
      "Set: 27 (1)\n",
      "Failure Pattern:\n"
     ]
    },
    {
     "data": {
      "image/png": "[encoded data removed]",
      "text/plain": [
       "<IPython.core.display.Image object>"
      ]
     },
     "metadata": {},
     "output_type": "display_data"
    },
    {
     "data": {
      "text/html": [
       "<text style=color:black><text style=color:red>ntri(X,Y,Z)</text> :- <text style=color:red>not e(X,Y)</text>, <text style=color:green>e(Y,Z)</text>, <text style=color:red>not e(Z,X)</text>. % <text style=color:blue>[X=Y][Z]</text></text>"
      ],
      "text/plain": [
       "<IPython.core.display.HTML object>"
      ]
     },
     "metadata": {},
     "output_type": "display_data"
    },
    {
     "name": "stdout",
     "output_type": "stream",
     "text": [
      "------------------------------------------------------------\n",
      "Set: 28 (1)\n",
      "Failure Pattern:\n"
     ]
    },
    {
     "data": {
      "image/png": "[encoded data removed]",
      "text/plain": [
       "<IPython.core.display.Image object>"
      ]
     },
     "metadata": {},
     "output_type": "display_data"
    },
    {
     "data": {
      "text/html": [
       "<text style=color:black><text style=color:red>ntri(X,Y,Z)</text> :- <text style=color:green>e(X,Y)</text>, <text style=color:green>e(Y,Z)</text>, <text style=color:red>not e(Z,X)</text>. % <text style=color:blue>[X=Y][Z]</text></text>"
      ],
      "text/plain": [
       "<IPython.core.display.HTML object>"
      ]
     },
     "metadata": {},
     "output_type": "display_data"
    },
    {
     "name": "stdout",
     "output_type": "stream",
     "text": [
      "------------------------------------------------------------\n",
      "Set: 29 (1)\n",
      "Failure Pattern:\n"
     ]
    },
    {
     "data": {
      "image/png": "[encoded data removed]",
      "text/plain": [
       "<IPython.core.display.Image object>"
      ]
     },
     "metadata": {},
     "output_type": "display_data"
    },
    {
     "data": {
      "text/html": [
       "<text style=color:black><text style=color:red>ntri(X,Y,Z)</text> :- <text style=color:red>not e(X,Y)</text>, <text style=color:green>e(Y,Z)</text>, <text style=color:green>e(Z,X)</text>. % <text style=color:blue>[X=Y][Z]</text></text>"
      ],
      "text/plain": [
       "<IPython.core.display.HTML object>"
      ]
     },
     "metadata": {},
     "output_type": "display_data"
    },
    {
     "name": "stdout",
     "output_type": "stream",
     "text": [
      "------------------------------------------------------------\n"
     ]
    }
   ],
   "source": [
    "num_patterns = 0\n",
    "for i,s in enumerate(sets):\n",
    "    s = list(s)\n",
    "    eg = s[0]\n",
    "    pw_rel_dfs = pw_slicer(query_analysis['pw_rel_dfs'], None, [eg.pw_id])[0]\n",
    "    true_heads = set(pw_rel_dfs['ruleHTrue_1']['HEAD'])\n",
    "    if len(true_heads) <= 0:\n",
    "        num_patterns += 1\n",
    "        print(\"Set:\", num_patterns, '({})'.format(len(s)))\n",
    "    \n",
    "        for j, pw in enumerate(s):\n",
    "            pw_rel_dfs = pw_slicer(query_analysis['pw_rel_dfs'], None, [pw.pw_id])[0]\n",
    "            true_heads = set(pw_rel_dfs['ruleHTrue_1']['HEAD'])\n",
    "            g = get_pattern_graph2(pw_rel_dfs, no_node_labels=False)\n",
    "            # draw(g, format='pdf', filename='{}.{}'.format('3hop_eq_success_patterns/set_{}'.format(num_patterns), 'pdf'), show='none')\n",
    "            display(draw(g))\n",
    "            #print_rewritten_query_string(pw_rel_dfs)\n",
    "            #print_explicit_rewritten_query_string(pw_rel_dfs, chain_eq=False)\n",
    "            #print_explicit_rewritten_query_string(pw_rel_dfs, chain_eq=True)\n",
    "            print_fancy_rewrite(pw_rel_dfs)\n",
    "            \n",
    "        print('-'*60)\n",
    "# num_patterns"
   ]
  },
  {
   "cell_type": "code",
   "execution_count": null,
   "metadata": {},
   "outputs": [],
   "source": []
  }
 ],
 "metadata": {
  "kernelspec": {
   "display_name": "Python 3",
   "language": "python",
   "name": "python3"
  },
  "language_info": {
   "codemirror_mode": {
    "name": "ipython",
    "version": 3
   },
   "file_extension": ".py",
   "mimetype": "text/x-python",
   "name": "python",
   "nbconvert_exporter": "python",
   "pygments_lexer": "ipython3",
   "version": "3.6.8"
  }
 },
 "nbformat": 4,
 "nbformat_minor": 4
}
