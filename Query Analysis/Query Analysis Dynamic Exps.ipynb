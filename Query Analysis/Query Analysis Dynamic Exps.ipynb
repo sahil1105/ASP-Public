{
 "cells": [
  {
   "cell_type": "code",
   "execution_count": 1,
   "metadata": {},
   "outputs": [
    {
     "data": {
      "application/javascript": [
       "IPython.CodeCell.options_default.highlight_modes['prolog'] = {'reg':[/^%%(clingo|dlv)/]};"
      ]
     },
     "metadata": {},
     "output_type": "display_data"
    }
   ],
   "source": [
    "%load_ext PWE_NB_Extension"
   ]
  },
  {
   "cell_type": "code",
   "execution_count": 4,
   "metadata": {},
   "outputs": [
    {
     "name": "stdout",
     "output_type": "stream",
     "text": [
      "Output:\n"
     ]
    },
    {
     "data": {
      "text/html": [
       "\n",
       "        <style>\n",
       "        .highlight .hll { background-color: #ffffcc }\n",
       ".highlight  { background: #f8f8f8; }\n",
       ".highlight .c { color: #408080; font-style: italic } /* Comment */\n",
       ".highlight .err { border: 1px solid #FF0000 } /* Error */\n",
       ".highlight .k { color: #008000; font-weight: bold } /* Keyword */\n",
       ".highlight .o { color: #666666 } /* Operator */\n",
       ".highlight .ch { color: #408080; font-style: italic } /* Comment.Hashbang */\n",
       ".highlight .cm { color: #408080; font-style: italic } /* Comment.Multiline */\n",
       ".highlight .cp { color: #BC7A00 } /* Comment.Preproc */\n",
       ".highlight .cpf { color: #408080; font-style: italic } /* Comment.PreprocFile */\n",
       ".highlight .c1 { color: #408080; font-style: italic } /* Comment.Single */\n",
       ".highlight .cs { color: #408080; font-style: italic } /* Comment.Special */\n",
       ".highlight .gd { color: #A00000 } /* Generic.Deleted */\n",
       ".highlight .ge { font-style: italic } /* Generic.Emph */\n",
       ".highlight .gr { color: #FF0000 } /* Generic.Error */\n",
       ".highlight .gh { color: #000080; font-weight: bold } /* Generic.Heading */\n",
       ".highlight .gi { color: #00A000 } /* Generic.Inserted */\n",
       ".highlight .go { color: #888888 } /* Generic.Output */\n",
       ".highlight .gp { color: #000080; font-weight: bold } /* Generic.Prompt */\n",
       ".highlight .gs { font-weight: bold } /* Generic.Strong */\n",
       ".highlight .gu { color: #800080; font-weight: bold } /* Generic.Subheading */\n",
       ".highlight .gt { color: #0044DD } /* Generic.Traceback */\n",
       ".highlight .kc { color: #008000; font-weight: bold } /* Keyword.Constant */\n",
       ".highlight .kd { color: #008000; font-weight: bold } /* Keyword.Declaration */\n",
       ".highlight .kn { color: #008000; font-weight: bold } /* Keyword.Namespace */\n",
       ".highlight .kp { color: #008000 } /* Keyword.Pseudo */\n",
       ".highlight .kr { color: #008000; font-weight: bold } /* Keyword.Reserved */\n",
       ".highlight .kt { color: #B00040 } /* Keyword.Type */\n",
       ".highlight .m { color: #666666 } /* Literal.Number */\n",
       ".highlight .s { color: #BA2121 } /* Literal.String */\n",
       ".highlight .na { color: #7D9029 } /* Name.Attribute */\n",
       ".highlight .nb { color: #008000 } /* Name.Builtin */\n",
       ".highlight .nc { color: #0000FF; font-weight: bold } /* Name.Class */\n",
       ".highlight .no { color: #880000 } /* Name.Constant */\n",
       ".highlight .nd { color: #AA22FF } /* Name.Decorator */\n",
       ".highlight .ni { color: #999999; font-weight: bold } /* Name.Entity */\n",
       ".highlight .ne { color: #D2413A; font-weight: bold } /* Name.Exception */\n",
       ".highlight .nf { color: #0000FF } /* Name.Function */\n",
       ".highlight .nl { color: #A0A000 } /* Name.Label */\n",
       ".highlight .nn { color: #0000FF; font-weight: bold } /* Name.Namespace */\n",
       ".highlight .nt { color: #008000; font-weight: bold } /* Name.Tag */\n",
       ".highlight .nv { color: #19177C } /* Name.Variable */\n",
       ".highlight .ow { color: #AA22FF; font-weight: bold } /* Operator.Word */\n",
       ".highlight .w { color: #bbbbbb } /* Text.Whitespace */\n",
       ".highlight .mb { color: #666666 } /* Literal.Number.Bin */\n",
       ".highlight .mf { color: #666666 } /* Literal.Number.Float */\n",
       ".highlight .mh { color: #666666 } /* Literal.Number.Hex */\n",
       ".highlight .mi { color: #666666 } /* Literal.Number.Integer */\n",
       ".highlight .mo { color: #666666 } /* Literal.Number.Oct */\n",
       ".highlight .sa { color: #BA2121 } /* Literal.String.Affix */\n",
       ".highlight .sb { color: #BA2121 } /* Literal.String.Backtick */\n",
       ".highlight .sc { color: #BA2121 } /* Literal.String.Char */\n",
       ".highlight .dl { color: #BA2121 } /* Literal.String.Delimiter */\n",
       ".highlight .sd { color: #BA2121; font-style: italic } /* Literal.String.Doc */\n",
       ".highlight .s2 { color: #BA2121 } /* Literal.String.Double */\n",
       ".highlight .se { color: #BB6622; font-weight: bold } /* Literal.String.Escape */\n",
       ".highlight .sh { color: #BA2121 } /* Literal.String.Heredoc */\n",
       ".highlight .si { color: #BB6688; font-weight: bold } /* Literal.String.Interpol */\n",
       ".highlight .sx { color: #008000 } /* Literal.String.Other */\n",
       ".highlight .sr { color: #BB6688 } /* Literal.String.Regex */\n",
       ".highlight .s1 { color: #BA2121 } /* Literal.String.Single */\n",
       ".highlight .ss { color: #19177C } /* Literal.String.Symbol */\n",
       ".highlight .bp { color: #008000 } /* Name.Builtin.Pseudo */\n",
       ".highlight .fm { color: #0000FF } /* Name.Function.Magic */\n",
       ".highlight .vc { color: #19177C } /* Name.Variable.Class */\n",
       ".highlight .vg { color: #19177C } /* Name.Variable.Global */\n",
       ".highlight .vi { color: #19177C } /* Name.Variable.Instance */\n",
       ".highlight .vm { color: #19177C } /* Name.Variable.Magic */\n",
       ".highlight .il { color: #666666 } /* Literal.Number.Integer.Long */\n",
       "        </style>\n",
       "        "
      ],
      "text/plain": [
       "<IPython.core.display.HTML object>"
      ]
     },
     "metadata": {},
     "output_type": "display_data"
    },
    {
     "data": {
      "text/html": [
       "<div class=\"highlight\"><pre><span></span><span class=\"lineno\">1 </span><span class=\"nv\">Answer</span><span class=\"s s-Atom\">:</span> <span class=\"mi\">1</span>\n",
       "<span class=\"lineno\">2 </span><span class=\"nf\">e</span><span class=\"p\">(</span><span class=\"s s-Atom\">a</span><span class=\"p\">,</span><span class=\"s s-Atom\">a</span><span class=\"p\">)</span> <span class=\"nf\">e</span><span class=\"p\">(</span><span class=\"s s-Atom\">a</span><span class=\"p\">,</span><span class=\"s s-Atom\">b</span><span class=\"p\">)</span> <span class=\"nf\">e</span><span class=\"p\">(</span><span class=\"s s-Atom\">b</span><span class=\"p\">,</span><span class=\"s s-Atom\">a</span><span class=\"p\">)</span> <span class=\"nf\">e</span><span class=\"p\">(</span><span class=\"s s-Atom\">b</span><span class=\"p\">,</span><span class=\"s s-Atom\">c</span><span class=\"p\">)</span> <span class=\"s s-Atom\">thop5</span> <span class=\"s s-Atom\">thop6</span> <span class=\"s s-Atom\">thop7</span> <span class=\"s s-Atom\">thop8</span> <span class=\"s s-Atom\">thop10</span> <span class=\"s s-Atom\">thop12</span> <span class=\"s s-Atom\">thop13</span> <span class=\"s s-Atom\">thop14</span> <span class=\"s s-Atom\">thop15</span>\n",
       "<span class=\"lineno\">3 </span><span class=\"nv\">SATISFIABLE</span>\n",
       "<span class=\"lineno\">4 </span>\n",
       "<span class=\"lineno\">5 </span><span class=\"nv\">Models</span>       <span class=\"s s-Atom\">:</span> <span class=\"mi\">1</span>\n",
       "<span class=\"lineno\">6 </span><span class=\"nv\">Calls</span>        <span class=\"s s-Atom\">:</span> <span class=\"mi\">1</span>\n",
       "<span class=\"lineno\">7 </span><span class=\"nv\">Time</span>         <span class=\"s s-Atom\">:</span> <span class=\"mf\">0.003</span><span class=\"nf\">s</span> <span class=\"p\">(</span><span class=\"nv\">Solving</span><span class=\"s s-Atom\">:</span> <span class=\"mf\">0.00</span><span class=\"s s-Atom\">s</span> <span class=\"mi\">1</span><span class=\"s s-Atom\">st</span> <span class=\"nv\">Model</span><span class=\"s s-Atom\">:</span> <span class=\"mf\">0.00</span><span class=\"s s-Atom\">s</span> <span class=\"nv\">Unsat</span><span class=\"s s-Atom\">:</span> <span class=\"mf\">0.00</span><span class=\"s s-Atom\">s</span><span class=\"p\">)</span>\n",
       "<span class=\"lineno\">8 </span><span class=\"nv\">CPU</span> <span class=\"nv\">Time</span>     <span class=\"s s-Atom\">:</span> <span class=\"mf\">0.003</span><span class=\"s s-Atom\">s</span>\n",
       "</pre></div>\n"
      ],
      "text/plain": [
       "'Answer: 1\\ne(a,a) e(a,b) e(b,a) e(b,c) thop5 thop6 thop7 thop8 thop10 thop12 thop13 thop14 thop15\\nSATISFIABLE\\n\\nModels       : 1\\nCalls        : 1\\nTime         : 0.003s (Solving: 0.00s 1st Model: 0.00s Unsat: 0.00s)\\nCPU Time     : 0.003s'"
      ]
     },
     "metadata": {},
     "output_type": "display_data"
    }
   ],
   "source": [
    "%%clingo --donot-display_input\n",
    "\n",
    "e(a,a).\n",
    "e(a,b).\n",
    "e(b,a).\n",
    "e(b,c).\n",
    "\n",
    "thop1 :- e(X,Z1), e(Z1,Z2), e(Z2,Y), X != Y, X != Z1, Y != Z1, X != Z2, Y != Z2, Z1 != Z2.\n",
    "thop2 :- e(X,Z1), e(Z1,Y), e(Y,Y), X != Y, X != Z1, Y != Z1.\n",
    "thop3 :- e(X,Y), e(Y,Z2), e(Z2,Y), X != Y, X != Z2, Y != Z2.\n",
    "thop4 :- e(X,Z1), e(Z1,Z1), e(Z1,Y), X != Y, X != Z1, Y != Z1.\n",
    "thop5 :- e(X,Y), e(Y,Y), e(Y,Y), X != Y.\n",
    "thop6 :- e(X,Z1), e(Z1,X), e(X,Y), X != Y, X != Z1, Y != Z1.\n",
    "thop7 :- e(X,Y), e(Y,X), e(X,Y), X != Y.\n",
    "thop8 :- e(X,X), e(X,Z2), e(Z2,Y), X != Y, X != Z2, Y != Z2.\n",
    "thop9 :- e(X,X), e(X,Y), e(Y,Y), X != Y.\n",
    "thop10 :- e(X,X), e(X,X), e(X,Y), X != Y.\n",
    "thop11 :- e(X,Z1), e(Z1,Z2), e(Z2,X), X != Z1, X != Z2, Z1 != Z2.\n",
    "thop12 :- e(X,Z1), e(Z1,Z1), e(Z1,X), X != Z1.\n",
    "thop13 :- e(X,Z1), e(Z1,X), e(X,X), X != Z1.\n",
    "thop14 :- e(X,X), e(X,Z2), e(Z2,X), X != Z2.\n",
    "thop15 :- e(X,X), e(X,X), e(X,X)."
   ]
  },
  {
   "cell_type": "code",
   "execution_count": 5,
   "metadata": {},
   "outputs": [
    {
     "name": "stdout",
     "output_type": "stream",
     "text": [
      "Output:\n"
     ]
    },
    {
     "data": {
      "text/html": [
       "\n",
       "        <style>\n",
       "        .highlight .hll { background-color: #ffffcc }\n",
       ".highlight  { background: #f8f8f8; }\n",
       ".highlight .c { color: #408080; font-style: italic } /* Comment */\n",
       ".highlight .err { border: 1px solid #FF0000 } /* Error */\n",
       ".highlight .k { color: #008000; font-weight: bold } /* Keyword */\n",
       ".highlight .o { color: #666666 } /* Operator */\n",
       ".highlight .ch { color: #408080; font-style: italic } /* Comment.Hashbang */\n",
       ".highlight .cm { color: #408080; font-style: italic } /* Comment.Multiline */\n",
       ".highlight .cp { color: #BC7A00 } /* Comment.Preproc */\n",
       ".highlight .cpf { color: #408080; font-style: italic } /* Comment.PreprocFile */\n",
       ".highlight .c1 { color: #408080; font-style: italic } /* Comment.Single */\n",
       ".highlight .cs { color: #408080; font-style: italic } /* Comment.Special */\n",
       ".highlight .gd { color: #A00000 } /* Generic.Deleted */\n",
       ".highlight .ge { font-style: italic } /* Generic.Emph */\n",
       ".highlight .gr { color: #FF0000 } /* Generic.Error */\n",
       ".highlight .gh { color: #000080; font-weight: bold } /* Generic.Heading */\n",
       ".highlight .gi { color: #00A000 } /* Generic.Inserted */\n",
       ".highlight .go { color: #888888 } /* Generic.Output */\n",
       ".highlight .gp { color: #000080; font-weight: bold } /* Generic.Prompt */\n",
       ".highlight .gs { font-weight: bold } /* Generic.Strong */\n",
       ".highlight .gu { color: #800080; font-weight: bold } /* Generic.Subheading */\n",
       ".highlight .gt { color: #0044DD } /* Generic.Traceback */\n",
       ".highlight .kc { color: #008000; font-weight: bold } /* Keyword.Constant */\n",
       ".highlight .kd { color: #008000; font-weight: bold } /* Keyword.Declaration */\n",
       ".highlight .kn { color: #008000; font-weight: bold } /* Keyword.Namespace */\n",
       ".highlight .kp { color: #008000 } /* Keyword.Pseudo */\n",
       ".highlight .kr { color: #008000; font-weight: bold } /* Keyword.Reserved */\n",
       ".highlight .kt { color: #B00040 } /* Keyword.Type */\n",
       ".highlight .m { color: #666666 } /* Literal.Number */\n",
       ".highlight .s { color: #BA2121 } /* Literal.String */\n",
       ".highlight .na { color: #7D9029 } /* Name.Attribute */\n",
       ".highlight .nb { color: #008000 } /* Name.Builtin */\n",
       ".highlight .nc { color: #0000FF; font-weight: bold } /* Name.Class */\n",
       ".highlight .no { color: #880000 } /* Name.Constant */\n",
       ".highlight .nd { color: #AA22FF } /* Name.Decorator */\n",
       ".highlight .ni { color: #999999; font-weight: bold } /* Name.Entity */\n",
       ".highlight .ne { color: #D2413A; font-weight: bold } /* Name.Exception */\n",
       ".highlight .nf { color: #0000FF } /* Name.Function */\n",
       ".highlight .nl { color: #A0A000 } /* Name.Label */\n",
       ".highlight .nn { color: #0000FF; font-weight: bold } /* Name.Namespace */\n",
       ".highlight .nt { color: #008000; font-weight: bold } /* Name.Tag */\n",
       ".highlight .nv { color: #19177C } /* Name.Variable */\n",
       ".highlight .ow { color: #AA22FF; font-weight: bold } /* Operator.Word */\n",
       ".highlight .w { color: #bbbbbb } /* Text.Whitespace */\n",
       ".highlight .mb { color: #666666 } /* Literal.Number.Bin */\n",
       ".highlight .mf { color: #666666 } /* Literal.Number.Float */\n",
       ".highlight .mh { color: #666666 } /* Literal.Number.Hex */\n",
       ".highlight .mi { color: #666666 } /* Literal.Number.Integer */\n",
       ".highlight .mo { color: #666666 } /* Literal.Number.Oct */\n",
       ".highlight .sa { color: #BA2121 } /* Literal.String.Affix */\n",
       ".highlight .sb { color: #BA2121 } /* Literal.String.Backtick */\n",
       ".highlight .sc { color: #BA2121 } /* Literal.String.Char */\n",
       ".highlight .dl { color: #BA2121 } /* Literal.String.Delimiter */\n",
       ".highlight .sd { color: #BA2121; font-style: italic } /* Literal.String.Doc */\n",
       ".highlight .s2 { color: #BA2121 } /* Literal.String.Double */\n",
       ".highlight .se { color: #BB6622; font-weight: bold } /* Literal.String.Escape */\n",
       ".highlight .sh { color: #BA2121 } /* Literal.String.Heredoc */\n",
       ".highlight .si { color: #BB6688; font-weight: bold } /* Literal.String.Interpol */\n",
       ".highlight .sx { color: #008000 } /* Literal.String.Other */\n",
       ".highlight .sr { color: #BB6688 } /* Literal.String.Regex */\n",
       ".highlight .s1 { color: #BA2121 } /* Literal.String.Single */\n",
       ".highlight .ss { color: #19177C } /* Literal.String.Symbol */\n",
       ".highlight .bp { color: #008000 } /* Name.Builtin.Pseudo */\n",
       ".highlight .fm { color: #0000FF } /* Name.Function.Magic */\n",
       ".highlight .vc { color: #19177C } /* Name.Variable.Class */\n",
       ".highlight .vg { color: #19177C } /* Name.Variable.Global */\n",
       ".highlight .vi { color: #19177C } /* Name.Variable.Instance */\n",
       ".highlight .vm { color: #19177C } /* Name.Variable.Magic */\n",
       ".highlight .il { color: #666666 } /* Literal.Number.Integer.Long */\n",
       "        </style>\n",
       "        "
      ],
      "text/plain": [
       "<IPython.core.display.HTML object>"
      ]
     },
     "metadata": {},
     "output_type": "display_data"
    },
    {
     "data": {
      "text/html": [
       "<div class=\"highlight\"><pre><span></span><span class=\"lineno\">1 </span><span class=\"nv\">Answer</span><span class=\"s s-Atom\">:</span> <span class=\"mi\">1</span>\n",
       "<span class=\"lineno\">2 </span><span class=\"nf\">e</span><span class=\"p\">(</span><span class=\"s s-Atom\">a</span><span class=\"p\">,</span><span class=\"s s-Atom\">a</span><span class=\"p\">)</span> <span class=\"nf\">e</span><span class=\"p\">(</span><span class=\"s s-Atom\">a</span><span class=\"p\">,</span><span class=\"s s-Atom\">b</span><span class=\"p\">)</span> <span class=\"nf\">e</span><span class=\"p\">(</span><span class=\"s s-Atom\">b</span><span class=\"p\">,</span><span class=\"s s-Atom\">a</span><span class=\"p\">)</span> <span class=\"nf\">e</span><span class=\"p\">(</span><span class=\"s s-Atom\">b</span><span class=\"p\">,</span><span class=\"s s-Atom\">c</span><span class=\"p\">)</span> <span class=\"nf\">thop5</span><span class=\"p\">(</span><span class=\"s s-Atom\">b</span><span class=\"p\">,</span><span class=\"s s-Atom\">a</span><span class=\"p\">)</span> <span class=\"nf\">thop6</span><span class=\"p\">(</span><span class=\"s s-Atom\">b</span><span class=\"p\">,</span><span class=\"s s-Atom\">c</span><span class=\"p\">)</span> <span class=\"nf\">thop7</span><span class=\"p\">(</span><span class=\"s s-Atom\">a</span><span class=\"p\">,</span><span class=\"s s-Atom\">b</span><span class=\"p\">)</span> <span class=\"nf\">thop7</span><span class=\"p\">(</span><span class=\"s s-Atom\">b</span><span class=\"p\">,</span><span class=\"s s-Atom\">a</span><span class=\"p\">)</span> <span class=\"nf\">thop8</span><span class=\"p\">(</span><span class=\"s s-Atom\">a</span><span class=\"p\">,</span><span class=\"s s-Atom\">c</span><span class=\"p\">)</span> <span class=\"nf\">thop10</span><span class=\"p\">(</span><span class=\"s s-Atom\">a</span><span class=\"p\">,</span><span class=\"s s-Atom\">b</span><span class=\"p\">)</span> <span class=\"nf\">thop12</span><span class=\"p\">(</span><span class=\"s s-Atom\">b</span><span class=\"p\">,</span><span class=\"s s-Atom\">b</span><span class=\"p\">)</span> <span class=\"nf\">thop13</span><span class=\"p\">(</span><span class=\"s s-Atom\">a</span><span class=\"p\">,</span><span class=\"s s-Atom\">a</span><span class=\"p\">)</span> <span class=\"nf\">thop14</span><span class=\"p\">(</span><span class=\"s s-Atom\">a</span><span class=\"p\">,</span><span class=\"s s-Atom\">a</span><span class=\"p\">)</span> <span class=\"nf\">thop15</span><span class=\"p\">(</span><span class=\"s s-Atom\">a</span><span class=\"p\">,</span><span class=\"s s-Atom\">a</span><span class=\"p\">)</span>\n",
       "<span class=\"lineno\">3 </span><span class=\"nv\">SATISFIABLE</span>\n",
       "<span class=\"lineno\">4 </span>\n",
       "<span class=\"lineno\">5 </span><span class=\"nv\">Models</span>       <span class=\"s s-Atom\">:</span> <span class=\"mi\">1</span>\n",
       "<span class=\"lineno\">6 </span><span class=\"nv\">Calls</span>        <span class=\"s s-Atom\">:</span> <span class=\"mi\">1</span>\n",
       "<span class=\"lineno\">7 </span><span class=\"nv\">Time</span>         <span class=\"s s-Atom\">:</span> <span class=\"mf\">0.003</span><span class=\"nf\">s</span> <span class=\"p\">(</span><span class=\"nv\">Solving</span><span class=\"s s-Atom\">:</span> <span class=\"mf\">0.00</span><span class=\"s s-Atom\">s</span> <span class=\"mi\">1</span><span class=\"s s-Atom\">st</span> <span class=\"nv\">Model</span><span class=\"s s-Atom\">:</span> <span class=\"mf\">0.00</span><span class=\"s s-Atom\">s</span> <span class=\"nv\">Unsat</span><span class=\"s s-Atom\">:</span> <span class=\"mf\">0.00</span><span class=\"s s-Atom\">s</span><span class=\"p\">)</span>\n",
       "<span class=\"lineno\">8 </span><span class=\"nv\">CPU</span> <span class=\"nv\">Time</span>     <span class=\"s s-Atom\">:</span> <span class=\"mf\">0.003</span><span class=\"s s-Atom\">s</span>\n",
       "</pre></div>\n"
      ],
      "text/plain": [
       "'Answer: 1\\ne(a,a) e(a,b) e(b,a) e(b,c) thop5(b,a) thop6(b,c) thop7(a,b) thop7(b,a) thop8(a,c) thop10(a,b) thop12(b,b) thop13(a,a) thop14(a,a) thop15(a,a)\\nSATISFIABLE\\n\\nModels       : 1\\nCalls        : 1\\nTime         : 0.003s (Solving: 0.00s 1st Model: 0.00s Unsat: 0.00s)\\nCPU Time     : 0.003s'"
      ]
     },
     "metadata": {},
     "output_type": "display_data"
    }
   ],
   "source": [
    "%%clingo --donot-display_input\n",
    "\n",
    "e(a,a).\n",
    "e(a,b).\n",
    "e(b,a).\n",
    "e(b,c).\n",
    "\n",
    "thop1(X,Y) :- e(X,Z1), e(Z1,Z2), e(Z2,Y), X != Y, X != Z1, Y != Z1, X != Z2, Y != Z2, Z1 != Z2.\n",
    "thop2(X,Y) :- e(X,Z1), e(Z1,Y), e(Y,Y), X != Y, X != Z1, Y != Z1.\n",
    "thop3(X,Y) :- e(X,Y), e(Y,Z2), e(Z2,Y), X != Y, X != Z2, Y != Z2.\n",
    "thop4(X,Y) :- e(X,Z1), e(Z1,Z1), e(Z1,Y), X != Y, X != Z1, Y != Z1.\n",
    "thop5(X,Y) :- e(X,Y), e(Y,Y), e(Y,Y), X != Y.\n",
    "thop6(X,Y) :- e(X,Z1), e(Z1,X), e(X,Y), X != Y, X != Z1, Y != Z1.\n",
    "thop7(X,Y) :- e(X,Y), e(Y,X), e(X,Y), X != Y.\n",
    "thop8(X,Y) :- e(X,X), e(X,Z2), e(Z2,Y), X != Y, X != Z2, Y != Z2.\n",
    "thop9(X,Y) :- e(X,X), e(X,Y), e(Y,Y), X != Y.\n",
    "thop10(X,Y) :- e(X,X), e(X,X), e(X,Y), X != Y.\n",
    "thop11(X,X) :- e(X,Z1), e(Z1,Z2), e(Z2,X), X != Z1, X != Z2, Z1 != Z2.\n",
    "thop12(X,X) :- e(X,Z1), e(Z1,Z1), e(Z1,X), X != Z1.\n",
    "thop13(X,X) :- e(X,Z1), e(Z1,X), e(X,X), X != Z1.\n",
    "thop14(X,X) :- e(X,X), e(X,Z2), e(Z2,X), X != Z2.\n",
    "thop15(X,X) :- e(X,X), e(X,X), e(X,X)."
   ]
  },
  {
   "cell_type": "code",
   "execution_count": 6,
   "metadata": {},
   "outputs": [
    {
     "name": "stdout",
     "output_type": "stream",
     "text": [
      "Output:\n"
     ]
    },
    {
     "data": {
      "text/html": [
       "\n",
       "        <style>\n",
       "        .highlight .hll { background-color: #ffffcc }\n",
       ".highlight  { background: #f8f8f8; }\n",
       ".highlight .c { color: #408080; font-style: italic } /* Comment */\n",
       ".highlight .err { border: 1px solid #FF0000 } /* Error */\n",
       ".highlight .k { color: #008000; font-weight: bold } /* Keyword */\n",
       ".highlight .o { color: #666666 } /* Operator */\n",
       ".highlight .ch { color: #408080; font-style: italic } /* Comment.Hashbang */\n",
       ".highlight .cm { color: #408080; font-style: italic } /* Comment.Multiline */\n",
       ".highlight .cp { color: #BC7A00 } /* Comment.Preproc */\n",
       ".highlight .cpf { color: #408080; font-style: italic } /* Comment.PreprocFile */\n",
       ".highlight .c1 { color: #408080; font-style: italic } /* Comment.Single */\n",
       ".highlight .cs { color: #408080; font-style: italic } /* Comment.Special */\n",
       ".highlight .gd { color: #A00000 } /* Generic.Deleted */\n",
       ".highlight .ge { font-style: italic } /* Generic.Emph */\n",
       ".highlight .gr { color: #FF0000 } /* Generic.Error */\n",
       ".highlight .gh { color: #000080; font-weight: bold } /* Generic.Heading */\n",
       ".highlight .gi { color: #00A000 } /* Generic.Inserted */\n",
       ".highlight .go { color: #888888 } /* Generic.Output */\n",
       ".highlight .gp { color: #000080; font-weight: bold } /* Generic.Prompt */\n",
       ".highlight .gs { font-weight: bold } /* Generic.Strong */\n",
       ".highlight .gu { color: #800080; font-weight: bold } /* Generic.Subheading */\n",
       ".highlight .gt { color: #0044DD } /* Generic.Traceback */\n",
       ".highlight .kc { color: #008000; font-weight: bold } /* Keyword.Constant */\n",
       ".highlight .kd { color: #008000; font-weight: bold } /* Keyword.Declaration */\n",
       ".highlight .kn { color: #008000; font-weight: bold } /* Keyword.Namespace */\n",
       ".highlight .kp { color: #008000 } /* Keyword.Pseudo */\n",
       ".highlight .kr { color: #008000; font-weight: bold } /* Keyword.Reserved */\n",
       ".highlight .kt { color: #B00040 } /* Keyword.Type */\n",
       ".highlight .m { color: #666666 } /* Literal.Number */\n",
       ".highlight .s { color: #BA2121 } /* Literal.String */\n",
       ".highlight .na { color: #7D9029 } /* Name.Attribute */\n",
       ".highlight .nb { color: #008000 } /* Name.Builtin */\n",
       ".highlight .nc { color: #0000FF; font-weight: bold } /* Name.Class */\n",
       ".highlight .no { color: #880000 } /* Name.Constant */\n",
       ".highlight .nd { color: #AA22FF } /* Name.Decorator */\n",
       ".highlight .ni { color: #999999; font-weight: bold } /* Name.Entity */\n",
       ".highlight .ne { color: #D2413A; font-weight: bold } /* Name.Exception */\n",
       ".highlight .nf { color: #0000FF } /* Name.Function */\n",
       ".highlight .nl { color: #A0A000 } /* Name.Label */\n",
       ".highlight .nn { color: #0000FF; font-weight: bold } /* Name.Namespace */\n",
       ".highlight .nt { color: #008000; font-weight: bold } /* Name.Tag */\n",
       ".highlight .nv { color: #19177C } /* Name.Variable */\n",
       ".highlight .ow { color: #AA22FF; font-weight: bold } /* Operator.Word */\n",
       ".highlight .w { color: #bbbbbb } /* Text.Whitespace */\n",
       ".highlight .mb { color: #666666 } /* Literal.Number.Bin */\n",
       ".highlight .mf { color: #666666 } /* Literal.Number.Float */\n",
       ".highlight .mh { color: #666666 } /* Literal.Number.Hex */\n",
       ".highlight .mi { color: #666666 } /* Literal.Number.Integer */\n",
       ".highlight .mo { color: #666666 } /* Literal.Number.Oct */\n",
       ".highlight .sa { color: #BA2121 } /* Literal.String.Affix */\n",
       ".highlight .sb { color: #BA2121 } /* Literal.String.Backtick */\n",
       ".highlight .sc { color: #BA2121 } /* Literal.String.Char */\n",
       ".highlight .dl { color: #BA2121 } /* Literal.String.Delimiter */\n",
       ".highlight .sd { color: #BA2121; font-style: italic } /* Literal.String.Doc */\n",
       ".highlight .s2 { color: #BA2121 } /* Literal.String.Double */\n",
       ".highlight .se { color: #BB6622; font-weight: bold } /* Literal.String.Escape */\n",
       ".highlight .sh { color: #BA2121 } /* Literal.String.Heredoc */\n",
       ".highlight .si { color: #BB6688; font-weight: bold } /* Literal.String.Interpol */\n",
       ".highlight .sx { color: #008000 } /* Literal.String.Other */\n",
       ".highlight .sr { color: #BB6688 } /* Literal.String.Regex */\n",
       ".highlight .s1 { color: #BA2121 } /* Literal.String.Single */\n",
       ".highlight .ss { color: #19177C } /* Literal.String.Symbol */\n",
       ".highlight .bp { color: #008000 } /* Name.Builtin.Pseudo */\n",
       ".highlight .fm { color: #0000FF } /* Name.Function.Magic */\n",
       ".highlight .vc { color: #19177C } /* Name.Variable.Class */\n",
       ".highlight .vg { color: #19177C } /* Name.Variable.Global */\n",
       ".highlight .vi { color: #19177C } /* Name.Variable.Instance */\n",
       ".highlight .vm { color: #19177C } /* Name.Variable.Magic */\n",
       ".highlight .il { color: #666666 } /* Literal.Number.Integer.Long */\n",
       "        </style>\n",
       "        "
      ],
      "text/plain": [
       "<IPython.core.display.HTML object>"
      ]
     },
     "metadata": {},
     "output_type": "display_data"
    },
    {
     "data": {
      "text/html": [
       "<div class=\"highlight\"><pre><span></span><span class=\"lineno\">1 </span><span class=\"nv\">Answer</span><span class=\"s s-Atom\">:</span> <span class=\"mi\">1</span>\n",
       "<span class=\"lineno\">2 </span><span class=\"nf\">e</span><span class=\"p\">(</span><span class=\"s s-Atom\">a</span><span class=\"p\">,</span><span class=\"s s-Atom\">a</span><span class=\"p\">)</span> <span class=\"nf\">e</span><span class=\"p\">(</span><span class=\"s s-Atom\">a</span><span class=\"p\">,</span><span class=\"s s-Atom\">b</span><span class=\"p\">)</span> <span class=\"nf\">e</span><span class=\"p\">(</span><span class=\"s s-Atom\">b</span><span class=\"p\">,</span><span class=\"s s-Atom\">a</span><span class=\"p\">)</span> <span class=\"nf\">e</span><span class=\"p\">(</span><span class=\"s s-Atom\">b</span><span class=\"p\">,</span><span class=\"s s-Atom\">c</span><span class=\"p\">)</span> <span class=\"nf\">e</span><span class=\"p\">(</span><span class=\"s s-Atom\">a</span><span class=\"p\">,</span><span class=\"s s-Atom\">d</span><span class=\"p\">)</span> <span class=\"nf\">e</span><span class=\"p\">(</span><span class=\"s s-Atom\">d</span><span class=\"p\">,</span><span class=\"s s-Atom\">c</span><span class=\"p\">)</span> <span class=\"nf\">thop8</span><span class=\"p\">(</span><span class=\"s s-Atom\">a</span><span class=\"p\">,</span><span class=\"s s-Atom\">c</span><span class=\"p\">)</span>\n",
       "<span class=\"lineno\">3 </span><span class=\"nv\">SATISFIABLE</span>\n",
       "<span class=\"lineno\">4 </span>\n",
       "<span class=\"lineno\">5 </span><span class=\"nv\">Models</span>       <span class=\"s s-Atom\">:</span> <span class=\"mi\">1</span>\n",
       "<span class=\"lineno\">6 </span><span class=\"nv\">Calls</span>        <span class=\"s s-Atom\">:</span> <span class=\"mi\">1</span>\n",
       "<span class=\"lineno\">7 </span><span class=\"nv\">Time</span>         <span class=\"s s-Atom\">:</span> <span class=\"mf\">0.001</span><span class=\"nf\">s</span> <span class=\"p\">(</span><span class=\"nv\">Solving</span><span class=\"s s-Atom\">:</span> <span class=\"mf\">0.00</span><span class=\"s s-Atom\">s</span> <span class=\"mi\">1</span><span class=\"s s-Atom\">st</span> <span class=\"nv\">Model</span><span class=\"s s-Atom\">:</span> <span class=\"mf\">0.00</span><span class=\"s s-Atom\">s</span> <span class=\"nv\">Unsat</span><span class=\"s s-Atom\">:</span> <span class=\"mf\">0.00</span><span class=\"s s-Atom\">s</span><span class=\"p\">)</span>\n",
       "<span class=\"lineno\">8 </span><span class=\"nv\">CPU</span> <span class=\"nv\">Time</span>     <span class=\"s s-Atom\">:</span> <span class=\"mf\">0.001</span><span class=\"s s-Atom\">s</span>\n",
       "</pre></div>\n"
      ],
      "text/plain": [
       "'Answer: 1\\ne(a,a) e(a,b) e(b,a) e(b,c) e(a,d) e(d,c) thop8(a,c)\\nSATISFIABLE\\n\\nModels       : 1\\nCalls        : 1\\nTime         : 0.001s (Solving: 0.00s 1st Model: 0.00s Unsat: 0.00s)\\nCPU Time     : 0.001s'"
      ]
     },
     "metadata": {},
     "output_type": "display_data"
    }
   ],
   "source": [
    "%%clingo --donot-display_input\n",
    "\n",
    "e(a,a).\n",
    "e(a,b).\n",
    "e(b,a).\n",
    "e(b,c).\n",
    "\n",
    "e(a,d).\n",
    "e(d,c).\n",
    "\n",
    "thop8(X,Y) :- e(X,X), e(X,Z2), e(Z2,Y), X != Y, X != Z2, Y != Z2."
   ]
  },
  {
   "cell_type": "code",
   "execution_count": 7,
   "metadata": {},
   "outputs": [
    {
     "name": "stdout",
     "output_type": "stream",
     "text": [
      "Output:\n"
     ]
    },
    {
     "data": {
      "text/html": [
       "\n",
       "        <style>\n",
       "        .highlight .hll { background-color: #ffffcc }\n",
       ".highlight  { background: #f8f8f8; }\n",
       ".highlight .c { color: #408080; font-style: italic } /* Comment */\n",
       ".highlight .err { border: 1px solid #FF0000 } /* Error */\n",
       ".highlight .k { color: #008000; font-weight: bold } /* Keyword */\n",
       ".highlight .o { color: #666666 } /* Operator */\n",
       ".highlight .ch { color: #408080; font-style: italic } /* Comment.Hashbang */\n",
       ".highlight .cm { color: #408080; font-style: italic } /* Comment.Multiline */\n",
       ".highlight .cp { color: #BC7A00 } /* Comment.Preproc */\n",
       ".highlight .cpf { color: #408080; font-style: italic } /* Comment.PreprocFile */\n",
       ".highlight .c1 { color: #408080; font-style: italic } /* Comment.Single */\n",
       ".highlight .cs { color: #408080; font-style: italic } /* Comment.Special */\n",
       ".highlight .gd { color: #A00000 } /* Generic.Deleted */\n",
       ".highlight .ge { font-style: italic } /* Generic.Emph */\n",
       ".highlight .gr { color: #FF0000 } /* Generic.Error */\n",
       ".highlight .gh { color: #000080; font-weight: bold } /* Generic.Heading */\n",
       ".highlight .gi { color: #00A000 } /* Generic.Inserted */\n",
       ".highlight .go { color: #888888 } /* Generic.Output */\n",
       ".highlight .gp { color: #000080; font-weight: bold } /* Generic.Prompt */\n",
       ".highlight .gs { font-weight: bold } /* Generic.Strong */\n",
       ".highlight .gu { color: #800080; font-weight: bold } /* Generic.Subheading */\n",
       ".highlight .gt { color: #0044DD } /* Generic.Traceback */\n",
       ".highlight .kc { color: #008000; font-weight: bold } /* Keyword.Constant */\n",
       ".highlight .kd { color: #008000; font-weight: bold } /* Keyword.Declaration */\n",
       ".highlight .kn { color: #008000; font-weight: bold } /* Keyword.Namespace */\n",
       ".highlight .kp { color: #008000 } /* Keyword.Pseudo */\n",
       ".highlight .kr { color: #008000; font-weight: bold } /* Keyword.Reserved */\n",
       ".highlight .kt { color: #B00040 } /* Keyword.Type */\n",
       ".highlight .m { color: #666666 } /* Literal.Number */\n",
       ".highlight .s { color: #BA2121 } /* Literal.String */\n",
       ".highlight .na { color: #7D9029 } /* Name.Attribute */\n",
       ".highlight .nb { color: #008000 } /* Name.Builtin */\n",
       ".highlight .nc { color: #0000FF; font-weight: bold } /* Name.Class */\n",
       ".highlight .no { color: #880000 } /* Name.Constant */\n",
       ".highlight .nd { color: #AA22FF } /* Name.Decorator */\n",
       ".highlight .ni { color: #999999; font-weight: bold } /* Name.Entity */\n",
       ".highlight .ne { color: #D2413A; font-weight: bold } /* Name.Exception */\n",
       ".highlight .nf { color: #0000FF } /* Name.Function */\n",
       ".highlight .nl { color: #A0A000 } /* Name.Label */\n",
       ".highlight .nn { color: #0000FF; font-weight: bold } /* Name.Namespace */\n",
       ".highlight .nt { color: #008000; font-weight: bold } /* Name.Tag */\n",
       ".highlight .nv { color: #19177C } /* Name.Variable */\n",
       ".highlight .ow { color: #AA22FF; font-weight: bold } /* Operator.Word */\n",
       ".highlight .w { color: #bbbbbb } /* Text.Whitespace */\n",
       ".highlight .mb { color: #666666 } /* Literal.Number.Bin */\n",
       ".highlight .mf { color: #666666 } /* Literal.Number.Float */\n",
       ".highlight .mh { color: #666666 } /* Literal.Number.Hex */\n",
       ".highlight .mi { color: #666666 } /* Literal.Number.Integer */\n",
       ".highlight .mo { color: #666666 } /* Literal.Number.Oct */\n",
       ".highlight .sa { color: #BA2121 } /* Literal.String.Affix */\n",
       ".highlight .sb { color: #BA2121 } /* Literal.String.Backtick */\n",
       ".highlight .sc { color: #BA2121 } /* Literal.String.Char */\n",
       ".highlight .dl { color: #BA2121 } /* Literal.String.Delimiter */\n",
       ".highlight .sd { color: #BA2121; font-style: italic } /* Literal.String.Doc */\n",
       ".highlight .s2 { color: #BA2121 } /* Literal.String.Double */\n",
       ".highlight .se { color: #BB6622; font-weight: bold } /* Literal.String.Escape */\n",
       ".highlight .sh { color: #BA2121 } /* Literal.String.Heredoc */\n",
       ".highlight .si { color: #BB6688; font-weight: bold } /* Literal.String.Interpol */\n",
       ".highlight .sx { color: #008000 } /* Literal.String.Other */\n",
       ".highlight .sr { color: #BB6688 } /* Literal.String.Regex */\n",
       ".highlight .s1 { color: #BA2121 } /* Literal.String.Single */\n",
       ".highlight .ss { color: #19177C } /* Literal.String.Symbol */\n",
       ".highlight .bp { color: #008000 } /* Name.Builtin.Pseudo */\n",
       ".highlight .fm { color: #0000FF } /* Name.Function.Magic */\n",
       ".highlight .vc { color: #19177C } /* Name.Variable.Class */\n",
       ".highlight .vg { color: #19177C } /* Name.Variable.Global */\n",
       ".highlight .vi { color: #19177C } /* Name.Variable.Instance */\n",
       ".highlight .vm { color: #19177C } /* Name.Variable.Magic */\n",
       ".highlight .il { color: #666666 } /* Literal.Number.Integer.Long */\n",
       "        </style>\n",
       "        "
      ],
      "text/plain": [
       "<IPython.core.display.HTML object>"
      ]
     },
     "metadata": {},
     "output_type": "display_data"
    },
    {
     "data": {
      "text/html": [
       "<div class=\"highlight\"><pre><span></span><span class=\"lineno\">1 </span><span class=\"nv\">Answer</span><span class=\"s s-Atom\">:</span> <span class=\"mi\">1</span>\n",
       "<span class=\"lineno\">2 </span><span class=\"nf\">e</span><span class=\"p\">(</span><span class=\"s s-Atom\">a</span><span class=\"p\">,</span><span class=\"s s-Atom\">a</span><span class=\"p\">)</span> <span class=\"nf\">e</span><span class=\"p\">(</span><span class=\"s s-Atom\">a</span><span class=\"p\">,</span><span class=\"s s-Atom\">b</span><span class=\"p\">)</span> <span class=\"nf\">e</span><span class=\"p\">(</span><span class=\"s s-Atom\">b</span><span class=\"p\">,</span><span class=\"s s-Atom\">a</span><span class=\"p\">)</span> <span class=\"nf\">e</span><span class=\"p\">(</span><span class=\"s s-Atom\">b</span><span class=\"p\">,</span><span class=\"s s-Atom\">c</span><span class=\"p\">)</span> <span class=\"nf\">e</span><span class=\"p\">(</span><span class=\"s s-Atom\">a</span><span class=\"p\">,</span><span class=\"s s-Atom\">d</span><span class=\"p\">)</span> <span class=\"nf\">e</span><span class=\"p\">(</span><span class=\"s s-Atom\">d</span><span class=\"p\">,</span><span class=\"s s-Atom\">c</span><span class=\"p\">)</span> <span class=\"nf\">thop8</span><span class=\"p\">(</span><span class=\"s s-Atom\">a</span><span class=\"p\">,</span><span class=\"s s-Atom\">a</span><span class=\"p\">,</span><span class=\"s s-Atom\">b</span><span class=\"p\">,</span><span class=\"s s-Atom\">c</span><span class=\"p\">)</span> <span class=\"nf\">thop8</span><span class=\"p\">(</span><span class=\"s s-Atom\">a</span><span class=\"p\">,</span><span class=\"s s-Atom\">a</span><span class=\"p\">,</span><span class=\"s s-Atom\">d</span><span class=\"p\">,</span><span class=\"s s-Atom\">c</span><span class=\"p\">)</span>\n",
       "<span class=\"lineno\">3 </span><span class=\"nv\">SATISFIABLE</span>\n",
       "<span class=\"lineno\">4 </span>\n",
       "<span class=\"lineno\">5 </span><span class=\"nv\">Models</span>       <span class=\"s s-Atom\">:</span> <span class=\"mi\">1</span>\n",
       "<span class=\"lineno\">6 </span><span class=\"nv\">Calls</span>        <span class=\"s s-Atom\">:</span> <span class=\"mi\">1</span>\n",
       "<span class=\"lineno\">7 </span><span class=\"nv\">Time</span>         <span class=\"s s-Atom\">:</span> <span class=\"mf\">0.001</span><span class=\"nf\">s</span> <span class=\"p\">(</span><span class=\"nv\">Solving</span><span class=\"s s-Atom\">:</span> <span class=\"mf\">0.00</span><span class=\"s s-Atom\">s</span> <span class=\"mi\">1</span><span class=\"s s-Atom\">st</span> <span class=\"nv\">Model</span><span class=\"s s-Atom\">:</span> <span class=\"mf\">0.00</span><span class=\"s s-Atom\">s</span> <span class=\"nv\">Unsat</span><span class=\"s s-Atom\">:</span> <span class=\"mf\">0.00</span><span class=\"s s-Atom\">s</span><span class=\"p\">)</span>\n",
       "<span class=\"lineno\">8 </span><span class=\"nv\">CPU</span> <span class=\"nv\">Time</span>     <span class=\"s s-Atom\">:</span> <span class=\"mf\">0.001</span><span class=\"s s-Atom\">s</span>\n",
       "</pre></div>\n"
      ],
      "text/plain": [
       "'Answer: 1\\ne(a,a) e(a,b) e(b,a) e(b,c) e(a,d) e(d,c) thop8(a,a,b,c) thop8(a,a,d,c)\\nSATISFIABLE\\n\\nModels       : 1\\nCalls        : 1\\nTime         : 0.001s (Solving: 0.00s 1st Model: 0.00s Unsat: 0.00s)\\nCPU Time     : 0.001s'"
      ]
     },
     "metadata": {},
     "output_type": "display_data"
    }
   ],
   "source": [
    "%%clingo --donot-display_input\n",
    "\n",
    "e(a,a).\n",
    "e(a,b).\n",
    "e(b,a).\n",
    "e(b,c).\n",
    "\n",
    "e(a,d).\n",
    "e(d,c).\n",
    "\n",
    "thop8(X,X,Z2,Y) :- e(X,X), e(X,Z2), e(Z2,Y), X != Y, X != Z2, Y != Z2."
   ]
  },
  {
   "cell_type": "code",
   "execution_count": 8,
   "metadata": {},
   "outputs": [
    {
     "name": "stdout",
     "output_type": "stream",
     "text": [
      "Output:\n"
     ]
    },
    {
     "data": {
      "text/html": [
       "\n",
       "        <style>\n",
       "        .highlight .hll { background-color: #ffffcc }\n",
       ".highlight  { background: #f8f8f8; }\n",
       ".highlight .c { color: #408080; font-style: italic } /* Comment */\n",
       ".highlight .err { border: 1px solid #FF0000 } /* Error */\n",
       ".highlight .k { color: #008000; font-weight: bold } /* Keyword */\n",
       ".highlight .o { color: #666666 } /* Operator */\n",
       ".highlight .ch { color: #408080; font-style: italic } /* Comment.Hashbang */\n",
       ".highlight .cm { color: #408080; font-style: italic } /* Comment.Multiline */\n",
       ".highlight .cp { color: #BC7A00 } /* Comment.Preproc */\n",
       ".highlight .cpf { color: #408080; font-style: italic } /* Comment.PreprocFile */\n",
       ".highlight .c1 { color: #408080; font-style: italic } /* Comment.Single */\n",
       ".highlight .cs { color: #408080; font-style: italic } /* Comment.Special */\n",
       ".highlight .gd { color: #A00000 } /* Generic.Deleted */\n",
       ".highlight .ge { font-style: italic } /* Generic.Emph */\n",
       ".highlight .gr { color: #FF0000 } /* Generic.Error */\n",
       ".highlight .gh { color: #000080; font-weight: bold } /* Generic.Heading */\n",
       ".highlight .gi { color: #00A000 } /* Generic.Inserted */\n",
       ".highlight .go { color: #888888 } /* Generic.Output */\n",
       ".highlight .gp { color: #000080; font-weight: bold } /* Generic.Prompt */\n",
       ".highlight .gs { font-weight: bold } /* Generic.Strong */\n",
       ".highlight .gu { color: #800080; font-weight: bold } /* Generic.Subheading */\n",
       ".highlight .gt { color: #0044DD } /* Generic.Traceback */\n",
       ".highlight .kc { color: #008000; font-weight: bold } /* Keyword.Constant */\n",
       ".highlight .kd { color: #008000; font-weight: bold } /* Keyword.Declaration */\n",
       ".highlight .kn { color: #008000; font-weight: bold } /* Keyword.Namespace */\n",
       ".highlight .kp { color: #008000 } /* Keyword.Pseudo */\n",
       ".highlight .kr { color: #008000; font-weight: bold } /* Keyword.Reserved */\n",
       ".highlight .kt { color: #B00040 } /* Keyword.Type */\n",
       ".highlight .m { color: #666666 } /* Literal.Number */\n",
       ".highlight .s { color: #BA2121 } /* Literal.String */\n",
       ".highlight .na { color: #7D9029 } /* Name.Attribute */\n",
       ".highlight .nb { color: #008000 } /* Name.Builtin */\n",
       ".highlight .nc { color: #0000FF; font-weight: bold } /* Name.Class */\n",
       ".highlight .no { color: #880000 } /* Name.Constant */\n",
       ".highlight .nd { color: #AA22FF } /* Name.Decorator */\n",
       ".highlight .ni { color: #999999; font-weight: bold } /* Name.Entity */\n",
       ".highlight .ne { color: #D2413A; font-weight: bold } /* Name.Exception */\n",
       ".highlight .nf { color: #0000FF } /* Name.Function */\n",
       ".highlight .nl { color: #A0A000 } /* Name.Label */\n",
       ".highlight .nn { color: #0000FF; font-weight: bold } /* Name.Namespace */\n",
       ".highlight .nt { color: #008000; font-weight: bold } /* Name.Tag */\n",
       ".highlight .nv { color: #19177C } /* Name.Variable */\n",
       ".highlight .ow { color: #AA22FF; font-weight: bold } /* Operator.Word */\n",
       ".highlight .w { color: #bbbbbb } /* Text.Whitespace */\n",
       ".highlight .mb { color: #666666 } /* Literal.Number.Bin */\n",
       ".highlight .mf { color: #666666 } /* Literal.Number.Float */\n",
       ".highlight .mh { color: #666666 } /* Literal.Number.Hex */\n",
       ".highlight .mi { color: #666666 } /* Literal.Number.Integer */\n",
       ".highlight .mo { color: #666666 } /* Literal.Number.Oct */\n",
       ".highlight .sa { color: #BA2121 } /* Literal.String.Affix */\n",
       ".highlight .sb { color: #BA2121 } /* Literal.String.Backtick */\n",
       ".highlight .sc { color: #BA2121 } /* Literal.String.Char */\n",
       ".highlight .dl { color: #BA2121 } /* Literal.String.Delimiter */\n",
       ".highlight .sd { color: #BA2121; font-style: italic } /* Literal.String.Doc */\n",
       ".highlight .s2 { color: #BA2121 } /* Literal.String.Double */\n",
       ".highlight .se { color: #BB6622; font-weight: bold } /* Literal.String.Escape */\n",
       ".highlight .sh { color: #BA2121 } /* Literal.String.Heredoc */\n",
       ".highlight .si { color: #BB6688; font-weight: bold } /* Literal.String.Interpol */\n",
       ".highlight .sx { color: #008000 } /* Literal.String.Other */\n",
       ".highlight .sr { color: #BB6688 } /* Literal.String.Regex */\n",
       ".highlight .s1 { color: #BA2121 } /* Literal.String.Single */\n",
       ".highlight .ss { color: #19177C } /* Literal.String.Symbol */\n",
       ".highlight .bp { color: #008000 } /* Name.Builtin.Pseudo */\n",
       ".highlight .fm { color: #0000FF } /* Name.Function.Magic */\n",
       ".highlight .vc { color: #19177C } /* Name.Variable.Class */\n",
       ".highlight .vg { color: #19177C } /* Name.Variable.Global */\n",
       ".highlight .vi { color: #19177C } /* Name.Variable.Instance */\n",
       ".highlight .vm { color: #19177C } /* Name.Variable.Magic */\n",
       ".highlight .il { color: #666666 } /* Literal.Number.Integer.Long */\n",
       "        </style>\n",
       "        "
      ],
      "text/plain": [
       "<IPython.core.display.HTML object>"
      ]
     },
     "metadata": {},
     "output_type": "display_data"
    },
    {
     "data": {
      "text/html": [
       "<div class=\"highlight\"><pre><span></span><span class=\"lineno\">1 </span><span class=\"nv\">Answer</span><span class=\"s s-Atom\">:</span> <span class=\"mi\">1</span>\n",
       "<span class=\"lineno\">2 </span><span class=\"nf\">e</span><span class=\"p\">(</span><span class=\"s s-Atom\">a</span><span class=\"p\">,</span><span class=\"s s-Atom\">a</span><span class=\"p\">)</span> <span class=\"nf\">e</span><span class=\"p\">(</span><span class=\"s s-Atom\">a</span><span class=\"p\">,</span><span class=\"s s-Atom\">b</span><span class=\"p\">)</span> <span class=\"nf\">e</span><span class=\"p\">(</span><span class=\"s s-Atom\">b</span><span class=\"p\">,</span><span class=\"s s-Atom\">a</span><span class=\"p\">)</span> <span class=\"nf\">e</span><span class=\"p\">(</span><span class=\"s s-Atom\">b</span><span class=\"p\">,</span><span class=\"s s-Atom\">c</span><span class=\"p\">)</span> <span class=\"nf\">thop12</span><span class=\"p\">(</span><span class=\"s s-Atom\">b</span><span class=\"p\">,</span><span class=\"s s-Atom\">b</span><span class=\"p\">)</span> <span class=\"nf\">thop13</span><span class=\"p\">(</span><span class=\"s s-Atom\">a</span><span class=\"p\">,</span><span class=\"s s-Atom\">a</span><span class=\"p\">)</span> <span class=\"nf\">thop14</span><span class=\"p\">(</span><span class=\"s s-Atom\">a</span><span class=\"p\">,</span><span class=\"s s-Atom\">a</span><span class=\"p\">)</span>\n",
       "<span class=\"lineno\">3 </span><span class=\"nv\">SATISFIABLE</span>\n",
       "<span class=\"lineno\">4 </span>\n",
       "<span class=\"lineno\">5 </span><span class=\"nv\">Models</span>       <span class=\"s s-Atom\">:</span> <span class=\"mi\">1</span>\n",
       "<span class=\"lineno\">6 </span><span class=\"nv\">Calls</span>        <span class=\"s s-Atom\">:</span> <span class=\"mi\">1</span>\n",
       "<span class=\"lineno\">7 </span><span class=\"nv\">Time</span>         <span class=\"s s-Atom\">:</span> <span class=\"mf\">0.001</span><span class=\"nf\">s</span> <span class=\"p\">(</span><span class=\"nv\">Solving</span><span class=\"s s-Atom\">:</span> <span class=\"mf\">0.00</span><span class=\"s s-Atom\">s</span> <span class=\"mi\">1</span><span class=\"s s-Atom\">st</span> <span class=\"nv\">Model</span><span class=\"s s-Atom\">:</span> <span class=\"mf\">0.00</span><span class=\"s s-Atom\">s</span> <span class=\"nv\">Unsat</span><span class=\"s s-Atom\">:</span> <span class=\"mf\">0.00</span><span class=\"s s-Atom\">s</span><span class=\"p\">)</span>\n",
       "<span class=\"lineno\">8 </span><span class=\"nv\">CPU</span> <span class=\"nv\">Time</span>     <span class=\"s s-Atom\">:</span> <span class=\"mf\">0.001</span><span class=\"s s-Atom\">s</span>\n",
       "</pre></div>\n"
      ],
      "text/plain": [
       "'Answer: 1\\ne(a,a) e(a,b) e(b,a) e(b,c) thop12(b,b) thop13(a,a) thop14(a,a)\\nSATISFIABLE\\n\\nModels       : 1\\nCalls        : 1\\nTime         : 0.001s (Solving: 0.00s 1st Model: 0.00s Unsat: 0.00s)\\nCPU Time     : 0.001s'"
      ]
     },
     "metadata": {},
     "output_type": "display_data"
    }
   ],
   "source": [
    "%%clingo --donot-display_input\n",
    "\n",
    "e(a,a).\n",
    "e(a,b).\n",
    "e(b,a).\n",
    "e(b,c).\n",
    "\n",
    "thop12(X,X) :- e(X,Z1), e(Z1,Z1), e(Z1,X), X != Z1.\n",
    "\n",
    "% thop13 and thop14 are the same query\n",
    "thop13(X,X) :- e(X,Z1), e(Z1,X), e(X,X), X != Z1.\n",
    "thop14(X,X) :- e(X,X), e(X,Z2), e(Z2,X), X != Z2.\n",
    "% rewrite thop14(X,X) :- e(X,Z2), e(Z2,X), e(X,X) (just rearranged atoms in body which is allowed) \n",
    "% and then swap Z2 to Z1 (allowed since just a variable). "
   ]
  },
  {
   "cell_type": "code",
   "execution_count": 9,
   "metadata": {},
   "outputs": [
    {
     "name": "stdout",
     "output_type": "stream",
     "text": [
      "Output:\n"
     ]
    },
    {
     "data": {
      "text/html": [
       "\n",
       "        <style>\n",
       "        .highlight .hll { background-color: #ffffcc }\n",
       ".highlight  { background: #f8f8f8; }\n",
       ".highlight .c { color: #408080; font-style: italic } /* Comment */\n",
       ".highlight .err { border: 1px solid #FF0000 } /* Error */\n",
       ".highlight .k { color: #008000; font-weight: bold } /* Keyword */\n",
       ".highlight .o { color: #666666 } /* Operator */\n",
       ".highlight .ch { color: #408080; font-style: italic } /* Comment.Hashbang */\n",
       ".highlight .cm { color: #408080; font-style: italic } /* Comment.Multiline */\n",
       ".highlight .cp { color: #BC7A00 } /* Comment.Preproc */\n",
       ".highlight .cpf { color: #408080; font-style: italic } /* Comment.PreprocFile */\n",
       ".highlight .c1 { color: #408080; font-style: italic } /* Comment.Single */\n",
       ".highlight .cs { color: #408080; font-style: italic } /* Comment.Special */\n",
       ".highlight .gd { color: #A00000 } /* Generic.Deleted */\n",
       ".highlight .ge { font-style: italic } /* Generic.Emph */\n",
       ".highlight .gr { color: #FF0000 } /* Generic.Error */\n",
       ".highlight .gh { color: #000080; font-weight: bold } /* Generic.Heading */\n",
       ".highlight .gi { color: #00A000 } /* Generic.Inserted */\n",
       ".highlight .go { color: #888888 } /* Generic.Output */\n",
       ".highlight .gp { color: #000080; font-weight: bold } /* Generic.Prompt */\n",
       ".highlight .gs { font-weight: bold } /* Generic.Strong */\n",
       ".highlight .gu { color: #800080; font-weight: bold } /* Generic.Subheading */\n",
       ".highlight .gt { color: #0044DD } /* Generic.Traceback */\n",
       ".highlight .kc { color: #008000; font-weight: bold } /* Keyword.Constant */\n",
       ".highlight .kd { color: #008000; font-weight: bold } /* Keyword.Declaration */\n",
       ".highlight .kn { color: #008000; font-weight: bold } /* Keyword.Namespace */\n",
       ".highlight .kp { color: #008000 } /* Keyword.Pseudo */\n",
       ".highlight .kr { color: #008000; font-weight: bold } /* Keyword.Reserved */\n",
       ".highlight .kt { color: #B00040 } /* Keyword.Type */\n",
       ".highlight .m { color: #666666 } /* Literal.Number */\n",
       ".highlight .s { color: #BA2121 } /* Literal.String */\n",
       ".highlight .na { color: #7D9029 } /* Name.Attribute */\n",
       ".highlight .nb { color: #008000 } /* Name.Builtin */\n",
       ".highlight .nc { color: #0000FF; font-weight: bold } /* Name.Class */\n",
       ".highlight .no { color: #880000 } /* Name.Constant */\n",
       ".highlight .nd { color: #AA22FF } /* Name.Decorator */\n",
       ".highlight .ni { color: #999999; font-weight: bold } /* Name.Entity */\n",
       ".highlight .ne { color: #D2413A; font-weight: bold } /* Name.Exception */\n",
       ".highlight .nf { color: #0000FF } /* Name.Function */\n",
       ".highlight .nl { color: #A0A000 } /* Name.Label */\n",
       ".highlight .nn { color: #0000FF; font-weight: bold } /* Name.Namespace */\n",
       ".highlight .nt { color: #008000; font-weight: bold } /* Name.Tag */\n",
       ".highlight .nv { color: #19177C } /* Name.Variable */\n",
       ".highlight .ow { color: #AA22FF; font-weight: bold } /* Operator.Word */\n",
       ".highlight .w { color: #bbbbbb } /* Text.Whitespace */\n",
       ".highlight .mb { color: #666666 } /* Literal.Number.Bin */\n",
       ".highlight .mf { color: #666666 } /* Literal.Number.Float */\n",
       ".highlight .mh { color: #666666 } /* Literal.Number.Hex */\n",
       ".highlight .mi { color: #666666 } /* Literal.Number.Integer */\n",
       ".highlight .mo { color: #666666 } /* Literal.Number.Oct */\n",
       ".highlight .sa { color: #BA2121 } /* Literal.String.Affix */\n",
       ".highlight .sb { color: #BA2121 } /* Literal.String.Backtick */\n",
       ".highlight .sc { color: #BA2121 } /* Literal.String.Char */\n",
       ".highlight .dl { color: #BA2121 } /* Literal.String.Delimiter */\n",
       ".highlight .sd { color: #BA2121; font-style: italic } /* Literal.String.Doc */\n",
       ".highlight .s2 { color: #BA2121 } /* Literal.String.Double */\n",
       ".highlight .se { color: #BB6622; font-weight: bold } /* Literal.String.Escape */\n",
       ".highlight .sh { color: #BA2121 } /* Literal.String.Heredoc */\n",
       ".highlight .si { color: #BB6688; font-weight: bold } /* Literal.String.Interpol */\n",
       ".highlight .sx { color: #008000 } /* Literal.String.Other */\n",
       ".highlight .sr { color: #BB6688 } /* Literal.String.Regex */\n",
       ".highlight .s1 { color: #BA2121 } /* Literal.String.Single */\n",
       ".highlight .ss { color: #19177C } /* Literal.String.Symbol */\n",
       ".highlight .bp { color: #008000 } /* Name.Builtin.Pseudo */\n",
       ".highlight .fm { color: #0000FF } /* Name.Function.Magic */\n",
       ".highlight .vc { color: #19177C } /* Name.Variable.Class */\n",
       ".highlight .vg { color: #19177C } /* Name.Variable.Global */\n",
       ".highlight .vi { color: #19177C } /* Name.Variable.Instance */\n",
       ".highlight .vm { color: #19177C } /* Name.Variable.Magic */\n",
       ".highlight .il { color: #666666 } /* Literal.Number.Integer.Long */\n",
       "        </style>\n",
       "        "
      ],
      "text/plain": [
       "<IPython.core.display.HTML object>"
      ]
     },
     "metadata": {},
     "output_type": "display_data"
    },
    {
     "data": {
      "text/html": [
       "<div class=\"highlight\"><pre><span></span><span class=\"lineno\">1 </span><span class=\"nv\">Answer</span><span class=\"s s-Atom\">:</span> <span class=\"mi\">1</span>\n",
       "<span class=\"lineno\">2 </span><span class=\"nf\">e</span><span class=\"p\">(</span><span class=\"s s-Atom\">a</span><span class=\"p\">,</span><span class=\"s s-Atom\">a</span><span class=\"p\">)</span> <span class=\"nf\">e</span><span class=\"p\">(</span><span class=\"s s-Atom\">a</span><span class=\"p\">,</span><span class=\"s s-Atom\">b</span><span class=\"p\">)</span> <span class=\"nf\">e</span><span class=\"p\">(</span><span class=\"s s-Atom\">b</span><span class=\"p\">,</span><span class=\"s s-Atom\">a</span><span class=\"p\">)</span> <span class=\"nf\">e</span><span class=\"p\">(</span><span class=\"s s-Atom\">b</span><span class=\"p\">,</span><span class=\"s s-Atom\">c</span><span class=\"p\">)</span> <span class=\"nf\">thop12</span><span class=\"p\">(</span><span class=\"s s-Atom\">b</span><span class=\"p\">,</span><span class=\"s s-Atom\">a</span><span class=\"p\">,</span><span class=\"s s-Atom\">a</span><span class=\"p\">,</span><span class=\"s s-Atom\">b</span><span class=\"p\">)</span> <span class=\"nf\">thop13</span><span class=\"p\">(</span><span class=\"s s-Atom\">a</span><span class=\"p\">,</span><span class=\"s s-Atom\">b</span><span class=\"p\">,</span><span class=\"s s-Atom\">a</span><span class=\"p\">,</span><span class=\"s s-Atom\">a</span><span class=\"p\">)</span> <span class=\"nf\">thop14</span><span class=\"p\">(</span><span class=\"s s-Atom\">a</span><span class=\"p\">,</span><span class=\"s s-Atom\">a</span><span class=\"p\">,</span><span class=\"s s-Atom\">b</span><span class=\"p\">,</span><span class=\"s s-Atom\">a</span><span class=\"p\">)</span>\n",
       "<span class=\"lineno\">3 </span><span class=\"nv\">SATISFIABLE</span>\n",
       "<span class=\"lineno\">4 </span>\n",
       "<span class=\"lineno\">5 </span><span class=\"nv\">Models</span>       <span class=\"s s-Atom\">:</span> <span class=\"mi\">1</span>\n",
       "<span class=\"lineno\">6 </span><span class=\"nv\">Calls</span>        <span class=\"s s-Atom\">:</span> <span class=\"mi\">1</span>\n",
       "<span class=\"lineno\">7 </span><span class=\"nv\">Time</span>         <span class=\"s s-Atom\">:</span> <span class=\"mf\">0.002</span><span class=\"nf\">s</span> <span class=\"p\">(</span><span class=\"nv\">Solving</span><span class=\"s s-Atom\">:</span> <span class=\"mf\">0.00</span><span class=\"s s-Atom\">s</span> <span class=\"mi\">1</span><span class=\"s s-Atom\">st</span> <span class=\"nv\">Model</span><span class=\"s s-Atom\">:</span> <span class=\"mf\">0.00</span><span class=\"s s-Atom\">s</span> <span class=\"nv\">Unsat</span><span class=\"s s-Atom\">:</span> <span class=\"mf\">0.00</span><span class=\"s s-Atom\">s</span><span class=\"p\">)</span>\n",
       "<span class=\"lineno\">8 </span><span class=\"nv\">CPU</span> <span class=\"nv\">Time</span>     <span class=\"s s-Atom\">:</span> <span class=\"mf\">0.001</span><span class=\"s s-Atom\">s</span>\n",
       "</pre></div>\n"
      ],
      "text/plain": [
       "'Answer: 1\\ne(a,a) e(a,b) e(b,a) e(b,c) thop12(b,a,a,b) thop13(a,b,a,a) thop14(a,a,b,a)\\nSATISFIABLE\\n\\nModels       : 1\\nCalls        : 1\\nTime         : 0.002s (Solving: 0.00s 1st Model: 0.00s Unsat: 0.00s)\\nCPU Time     : 0.001s'"
      ]
     },
     "metadata": {},
     "output_type": "display_data"
    }
   ],
   "source": [
    "%%clingo --donot-display_input\n",
    "\n",
    "e(a,a).\n",
    "e(a,b).\n",
    "e(b,a).\n",
    "e(b,c).\n",
    "\n",
    "thop12(X,Z1,Z1,X) :- e(X,Z1), e(Z1,Z1), e(Z1,X), X != Z1.\n",
    "thop13(X,Z1,X,X) :- e(X,Z1), e(Z1,X), e(X,X), X != Z1.\n",
    "thop14(X,X,Z2,X) :- e(X,X), e(X,Z2), e(Z2,X), X != Z2."
   ]
  },
  {
   "cell_type": "code",
   "execution_count": 10,
   "metadata": {},
   "outputs": [
    {
     "name": "stdout",
     "output_type": "stream",
     "text": [
      "Output:\n"
     ]
    },
    {
     "data": {
      "text/html": [
       "\n",
       "        <style>\n",
       "        .highlight .hll { background-color: #ffffcc }\n",
       ".highlight  { background: #f8f8f8; }\n",
       ".highlight .c { color: #408080; font-style: italic } /* Comment */\n",
       ".highlight .err { border: 1px solid #FF0000 } /* Error */\n",
       ".highlight .k { color: #008000; font-weight: bold } /* Keyword */\n",
       ".highlight .o { color: #666666 } /* Operator */\n",
       ".highlight .ch { color: #408080; font-style: italic } /* Comment.Hashbang */\n",
       ".highlight .cm { color: #408080; font-style: italic } /* Comment.Multiline */\n",
       ".highlight .cp { color: #BC7A00 } /* Comment.Preproc */\n",
       ".highlight .cpf { color: #408080; font-style: italic } /* Comment.PreprocFile */\n",
       ".highlight .c1 { color: #408080; font-style: italic } /* Comment.Single */\n",
       ".highlight .cs { color: #408080; font-style: italic } /* Comment.Special */\n",
       ".highlight .gd { color: #A00000 } /* Generic.Deleted */\n",
       ".highlight .ge { font-style: italic } /* Generic.Emph */\n",
       ".highlight .gr { color: #FF0000 } /* Generic.Error */\n",
       ".highlight .gh { color: #000080; font-weight: bold } /* Generic.Heading */\n",
       ".highlight .gi { color: #00A000 } /* Generic.Inserted */\n",
       ".highlight .go { color: #888888 } /* Generic.Output */\n",
       ".highlight .gp { color: #000080; font-weight: bold } /* Generic.Prompt */\n",
       ".highlight .gs { font-weight: bold } /* Generic.Strong */\n",
       ".highlight .gu { color: #800080; font-weight: bold } /* Generic.Subheading */\n",
       ".highlight .gt { color: #0044DD } /* Generic.Traceback */\n",
       ".highlight .kc { color: #008000; font-weight: bold } /* Keyword.Constant */\n",
       ".highlight .kd { color: #008000; font-weight: bold } /* Keyword.Declaration */\n",
       ".highlight .kn { color: #008000; font-weight: bold } /* Keyword.Namespace */\n",
       ".highlight .kp { color: #008000 } /* Keyword.Pseudo */\n",
       ".highlight .kr { color: #008000; font-weight: bold } /* Keyword.Reserved */\n",
       ".highlight .kt { color: #B00040 } /* Keyword.Type */\n",
       ".highlight .m { color: #666666 } /* Literal.Number */\n",
       ".highlight .s { color: #BA2121 } /* Literal.String */\n",
       ".highlight .na { color: #7D9029 } /* Name.Attribute */\n",
       ".highlight .nb { color: #008000 } /* Name.Builtin */\n",
       ".highlight .nc { color: #0000FF; font-weight: bold } /* Name.Class */\n",
       ".highlight .no { color: #880000 } /* Name.Constant */\n",
       ".highlight .nd { color: #AA22FF } /* Name.Decorator */\n",
       ".highlight .ni { color: #999999; font-weight: bold } /* Name.Entity */\n",
       ".highlight .ne { color: #D2413A; font-weight: bold } /* Name.Exception */\n",
       ".highlight .nf { color: #0000FF } /* Name.Function */\n",
       ".highlight .nl { color: #A0A000 } /* Name.Label */\n",
       ".highlight .nn { color: #0000FF; font-weight: bold } /* Name.Namespace */\n",
       ".highlight .nt { color: #008000; font-weight: bold } /* Name.Tag */\n",
       ".highlight .nv { color: #19177C } /* Name.Variable */\n",
       ".highlight .ow { color: #AA22FF; font-weight: bold } /* Operator.Word */\n",
       ".highlight .w { color: #bbbbbb } /* Text.Whitespace */\n",
       ".highlight .mb { color: #666666 } /* Literal.Number.Bin */\n",
       ".highlight .mf { color: #666666 } /* Literal.Number.Float */\n",
       ".highlight .mh { color: #666666 } /* Literal.Number.Hex */\n",
       ".highlight .mi { color: #666666 } /* Literal.Number.Integer */\n",
       ".highlight .mo { color: #666666 } /* Literal.Number.Oct */\n",
       ".highlight .sa { color: #BA2121 } /* Literal.String.Affix */\n",
       ".highlight .sb { color: #BA2121 } /* Literal.String.Backtick */\n",
       ".highlight .sc { color: #BA2121 } /* Literal.String.Char */\n",
       ".highlight .dl { color: #BA2121 } /* Literal.String.Delimiter */\n",
       ".highlight .sd { color: #BA2121; font-style: italic } /* Literal.String.Doc */\n",
       ".highlight .s2 { color: #BA2121 } /* Literal.String.Double */\n",
       ".highlight .se { color: #BB6622; font-weight: bold } /* Literal.String.Escape */\n",
       ".highlight .sh { color: #BA2121 } /* Literal.String.Heredoc */\n",
       ".highlight .si { color: #BB6688; font-weight: bold } /* Literal.String.Interpol */\n",
       ".highlight .sx { color: #008000 } /* Literal.String.Other */\n",
       ".highlight .sr { color: #BB6688 } /* Literal.String.Regex */\n",
       ".highlight .s1 { color: #BA2121 } /* Literal.String.Single */\n",
       ".highlight .ss { color: #19177C } /* Literal.String.Symbol */\n",
       ".highlight .bp { color: #008000 } /* Name.Builtin.Pseudo */\n",
       ".highlight .fm { color: #0000FF } /* Name.Function.Magic */\n",
       ".highlight .vc { color: #19177C } /* Name.Variable.Class */\n",
       ".highlight .vg { color: #19177C } /* Name.Variable.Global */\n",
       ".highlight .vi { color: #19177C } /* Name.Variable.Instance */\n",
       ".highlight .vm { color: #19177C } /* Name.Variable.Magic */\n",
       ".highlight .il { color: #666666 } /* Literal.Number.Integer.Long */\n",
       "        </style>\n",
       "        "
      ],
      "text/plain": [
       "<IPython.core.display.HTML object>"
      ]
     },
     "metadata": {},
     "output_type": "display_data"
    },
    {
     "data": {
      "text/html": [
       "<div class=\"highlight\"><pre><span></span><span class=\"lineno\">1 </span><span class=\"nv\">Answer</span><span class=\"s s-Atom\">:</span> <span class=\"mi\">1</span>\n",
       "<span class=\"lineno\">2 </span><span class=\"nf\">e</span><span class=\"p\">(</span><span class=\"s s-Atom\">a</span><span class=\"p\">,</span><span class=\"s s-Atom\">a</span><span class=\"p\">)</span> <span class=\"nf\">e</span><span class=\"p\">(</span><span class=\"s s-Atom\">a</span><span class=\"p\">,</span><span class=\"s s-Atom\">b</span><span class=\"p\">)</span> <span class=\"nf\">e</span><span class=\"p\">(</span><span class=\"s s-Atom\">b</span><span class=\"p\">,</span><span class=\"s s-Atom\">a</span><span class=\"p\">)</span> <span class=\"nf\">e</span><span class=\"p\">(</span><span class=\"s s-Atom\">b</span><span class=\"p\">,</span><span class=\"s s-Atom\">c</span><span class=\"p\">)</span> <span class=\"s s-Atom\">thop12</span> <span class=\"s s-Atom\">thop13</span> <span class=\"s s-Atom\">thop14</span>\n",
       "<span class=\"lineno\">3 </span><span class=\"nv\">SATISFIABLE</span>\n",
       "<span class=\"lineno\">4 </span>\n",
       "<span class=\"lineno\">5 </span><span class=\"nv\">Models</span>       <span class=\"s s-Atom\">:</span> <span class=\"mi\">1</span>\n",
       "<span class=\"lineno\">6 </span><span class=\"nv\">Calls</span>        <span class=\"s s-Atom\">:</span> <span class=\"mi\">1</span>\n",
       "<span class=\"lineno\">7 </span><span class=\"nv\">Time</span>         <span class=\"s s-Atom\">:</span> <span class=\"mf\">0.001</span><span class=\"nf\">s</span> <span class=\"p\">(</span><span class=\"nv\">Solving</span><span class=\"s s-Atom\">:</span> <span class=\"mf\">0.00</span><span class=\"s s-Atom\">s</span> <span class=\"mi\">1</span><span class=\"s s-Atom\">st</span> <span class=\"nv\">Model</span><span class=\"s s-Atom\">:</span> <span class=\"mf\">0.00</span><span class=\"s s-Atom\">s</span> <span class=\"nv\">Unsat</span><span class=\"s s-Atom\">:</span> <span class=\"mf\">0.00</span><span class=\"s s-Atom\">s</span><span class=\"p\">)</span>\n",
       "<span class=\"lineno\">8 </span><span class=\"nv\">CPU</span> <span class=\"nv\">Time</span>     <span class=\"s s-Atom\">:</span> <span class=\"mf\">0.001</span><span class=\"s s-Atom\">s</span>\n",
       "</pre></div>\n"
      ],
      "text/plain": [
       "'Answer: 1\\ne(a,a) e(a,b) e(b,a) e(b,c) thop12 thop13 thop14\\nSATISFIABLE\\n\\nModels       : 1\\nCalls        : 1\\nTime         : 0.001s (Solving: 0.00s 1st Model: 0.00s Unsat: 0.00s)\\nCPU Time     : 0.001s'"
      ]
     },
     "metadata": {},
     "output_type": "display_data"
    }
   ],
   "source": [
    "%%clingo --donot-display_input\n",
    "\n",
    "e(a,a).\n",
    "e(a,b).\n",
    "e(b,a).\n",
    "e(b,c).\n",
    "\n",
    "thop12 :- e(X,Z1), e(Z1,Z1), e(Z1,X), X != Z1.\n",
    "thop13 :- e(X,Z1), e(Z1,X) , e(X,X) , X != Z1.\n",
    "thop14 :- e(X,X) , e(X,Z2) , e(Z2,X), X != Z2."
   ]
  },
  {
   "cell_type": "code",
   "execution_count": null,
   "metadata": {},
   "outputs": [],
   "source": []
  }
 ],
 "metadata": {
  "kernelspec": {
   "display_name": "Python 3",
   "language": "python",
   "name": "python3"
  },
  "language_info": {
   "codemirror_mode": {
    "name": "ipython",
    "version": 3
   },
   "file_extension": ".py",
   "mimetype": "text/x-python",
   "name": "python",
   "nbconvert_exporter": "python",
   "pygments_lexer": "ipython3",
   "version": "3.6.8"
  }
 },
 "nbformat": 4,
 "nbformat_minor": 4
}
